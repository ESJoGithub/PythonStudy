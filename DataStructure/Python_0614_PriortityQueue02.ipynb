{
  "nbformat": 4,
  "nbformat_minor": 0,
  "metadata": {
    "colab": {
      "name": "Python_0614_PriortityQueue02.ipynb",
      "provenance": [],
      "collapsed_sections": [],
      "authorship_tag": "ABX9TyMiTFVwf82YmWKByOXIR+Et",
      "include_colab_link": true
    },
    "kernelspec": {
      "name": "python3",
      "display_name": "Python 3"
    },
    "language_info": {
      "name": "python"
    }
  },
  "cells": [
    {
      "cell_type": "markdown",
      "metadata": {
        "id": "view-in-github",
        "colab_type": "text"
      },
      "source": [
        "<a href=\"https://colab.research.google.com/github/ESJoGithub/PythonStudy/blob/main/Python_0614_PriortityQueue02.ipynb\" target=\"_parent\"><img src=\"https://colab.research.google.com/assets/colab-badge.svg\" alt=\"Open In Colab\"/></a>"
      ]
    },
    {
      "cell_type": "markdown",
      "source": [
        "## 미로 탐색 코드 만들기\n",
        "자료구조 우선순위 \n",
        "Queue를 응용하여 미로 탐색 코드 만들기"
      ],
      "metadata": {
        "id": "TmYhe16Qlvze"
      }
    },
    {
      "cell_type": "code",
      "execution_count": 11,
      "metadata": {
        "id": "2kmf8ly63vRB"
      },
      "outputs": [],
      "source": [
        "class Maze :\n",
        "  def __init__(self):\n",
        "    self.pQueList = []\n",
        "    self.exit = [0, 0]\n",
        "  \n",
        "  def isEmpty(self):\n",
        "    if len(self.pQueList) == 0:\n",
        "      return True\n",
        "    else:\n",
        "      return False\n",
        "  \n",
        "  def enqueue(self, point):\n",
        "    p_y = point[0]\n",
        "    p_x = point[1]\n",
        "    e_y = self.exit[0]\n",
        "    e_x = self.exit[1]\n",
        "\n",
        "    distance = (e_y-p_y)**2 + (e_x-p_x)**2\n",
        "    point.append(distance)\n",
        "\n",
        "    self.pQueList.append(point)\n",
        "  \n",
        "  def dequeue(self):\n",
        "    if self.isEmpty != False:\n",
        "      min = self.pQueList[0][2]\n",
        "      temp_index = 0\n",
        "      for i in range(len(self.pQueList)):\n",
        "        if min > self.pQueList[i][2] :\n",
        "          min = self.pQueList[i][2]\n",
        "          temp_index = i\n",
        "      \n",
        "      _item = self.pQueList.pop(temp_index)\n",
        "      return _item\n",
        "  \n",
        "  def size(self):\n",
        "    count = len(self.pQueList)\n",
        "    if count != 0:\n",
        "      return count\n",
        "  \n",
        "  def clear(self):\n",
        "    self.pQueList = []\n",
        "\n",
        "  def findExit(self, _map, maze_size = 6):\n",
        "\n",
        "    self.exit = [maze_size, maze_size]\n",
        "\n",
        "    for y in range(len(_map)):\n",
        "      for x in range(len(_map[y])):\n",
        "        if _map[y][x] == 'x':\n",
        "          self.exit = [y, x]\n",
        "        if _map[y][x] == 'e':\n",
        "          start_p = [y, x]\n",
        "          self.enqueue(start_p)\n",
        "\n",
        "    while True:\n",
        "      loc = self.dequeue()\n",
        "      y = loc[0]\n",
        "      x = loc[1]\n",
        "      z = loc[2]\n",
        "\n",
        "      if z == 0:\n",
        "        break\n",
        "      \n",
        "      _map[y][x] = '5'\n",
        "\n",
        "      for i in range(y-1, y+2):\n",
        "        for j in range(x-1, x+2):\n",
        "          if 0 <= i < maze_size and 0 <= j < maze_size :\n",
        "            if _map[i][j] == '0':\n",
        "              point = [i, j]\n",
        "              self.enqueue(point)\n",
        "              _map[i][j] = '-1'\n",
        "            elif _map[i][j] == 'x':\n",
        "              _map[i][j] = 'out'\n",
        "              point = [i, j]\n",
        "              self.enqueue(point)\n",
        "            else:\n",
        "              continue \n",
        "      \n",
        "      print(self.pQueList)\n",
        "\n",
        "      for k in map:\n",
        "        print(k)\n",
        "      print()\n",
        "\n",
        "  \n"
      ]
    },
    {
      "cell_type": "code",
      "source": [
        "test = Maze()\n",
        "map = [['1', '1', '1', '1', '1', '1'],\n",
        "       ['e', '0', '0', '0', '0', '1'],\n",
        "       ['1', '0', '1', '0', '1', '1'],\n",
        "       ['1', '1', '1', '0', '0', 'x'],\n",
        "       ['1', '1', '1', '0', '1', '1'],\n",
        "       ['1', '1', '1', '1', '1', '1']]"
      ],
      "metadata": {
        "id": "GBP_0fOM7zoa"
      },
      "execution_count": 12,
      "outputs": []
    },
    {
      "cell_type": "code",
      "source": [
        "test.findExit(map, 6)"
      ],
      "metadata": {
        "id": "12y-59lwCSDe",
        "colab": {
          "base_uri": "https://localhost:8080/"
        },
        "outputId": "67e24dce-8763-43d0-b022-7ca248222c0d"
      },
      "execution_count": 13,
      "outputs": [
        {
          "output_type": "stream",
          "name": "stdout",
          "text": [
            "[[1, 1, 20], [2, 1, 17]]\n",
            "['1', '1', '1', '1', '1', '1']\n",
            "['5', '-1', '0', '0', '0', '1']\n",
            "['1', '-1', '1', '0', '1', '1']\n",
            "['1', '1', '1', '0', '0', 'x']\n",
            "['1', '1', '1', '0', '1', '1']\n",
            "['1', '1', '1', '1', '1', '1']\n",
            "\n",
            "[[1, 1, 20], [1, 2, 13]]\n",
            "['1', '1', '1', '1', '1', '1']\n",
            "['5', '-1', '-1', '0', '0', '1']\n",
            "['1', '5', '1', '0', '1', '1']\n",
            "['1', '1', '1', '0', '0', 'x']\n",
            "['1', '1', '1', '0', '1', '1']\n",
            "['1', '1', '1', '1', '1', '1']\n",
            "\n",
            "[[1, 1, 20], [1, 3, 8], [2, 3, 5]]\n",
            "['1', '1', '1', '1', '1', '1']\n",
            "['5', '-1', '5', '-1', '0', '1']\n",
            "['1', '5', '1', '-1', '1', '1']\n",
            "['1', '1', '1', '0', '0', 'x']\n",
            "['1', '1', '1', '0', '1', '1']\n",
            "['1', '1', '1', '1', '1', '1']\n",
            "\n",
            "[[1, 1, 20], [1, 3, 8], [1, 4, 5], [3, 3, 4], [3, 4, 1]]\n",
            "['1', '1', '1', '1', '1', '1']\n",
            "['5', '-1', '5', '-1', '-1', '1']\n",
            "['1', '5', '1', '5', '1', '1']\n",
            "['1', '1', '1', '-1', '-1', 'x']\n",
            "['1', '1', '1', '0', '1', '1']\n",
            "['1', '1', '1', '1', '1', '1']\n",
            "\n",
            "[[1, 1, 20], [1, 3, 8], [1, 4, 5], [3, 3, 4], [3, 5, 0], [4, 3, 5]]\n",
            "['1', '1', '1', '1', '1', '1']\n",
            "['5', '-1', '5', '-1', '-1', '1']\n",
            "['1', '5', '1', '5', '1', '1']\n",
            "['1', '1', '1', '-1', '5', 'out']\n",
            "['1', '1', '1', '-1', '1', '1']\n",
            "['1', '1', '1', '1', '1', '1']\n",
            "\n"
          ]
        }
      ]
    }
  ]
}
