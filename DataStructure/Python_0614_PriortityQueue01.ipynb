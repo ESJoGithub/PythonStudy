{
  "nbformat": 4,
  "nbformat_minor": 0,
  "metadata": {
    "colab": {
      "name": "Python_0614_PriortityQueue01.ipynb",
      "provenance": [],
      "collapsed_sections": [],
      "authorship_tag": "ABX9TyPROMSO1ADK1QW2BMsb3Qi9",
      "include_colab_link": true
    },
    "kernelspec": {
      "name": "python3",
      "display_name": "Python 3"
    },
    "language_info": {
      "name": "python"
    }
  },
  "cells": [
    {
      "cell_type": "markdown",
      "metadata": {
        "id": "view-in-github",
        "colab_type": "text"
      },
      "source": [
        "<a href=\"https://colab.research.google.com/github/ESJoGithub/PythonStudy/blob/main/Python_0614_PriortityQueue01.ipynb\" target=\"_parent\"><img src=\"https://colab.research.google.com/assets/colab-badge.svg\" alt=\"Open In Colab\"/></a>"
      ]
    },
    {
      "cell_type": "markdown",
      "source": [
        "###자료구조 우선순위 Que를 파이썬 class로 구현해보기"
      ],
      "metadata": {
        "id": "TmYhe16Qlvze"
      }
    },
    {
      "cell_type": "code",
      "execution_count": null,
      "metadata": {
        "id": "2kmf8ly63vRB"
      },
      "outputs": [],
      "source": [
        "class PQueADT :\n",
        "  def __init__(self):\n",
        "    self.pQueList = []\n",
        "\n",
        "  def PriorityQueue(self, _max=11):\n",
        "    self.pQueList = (_max+1)*[None]\n",
        "  \n",
        "  def isEmpty(self):\n",
        "    if len(self.pQueList) == 0:\n",
        "      print(\"큐가 비어있습니다.\")\n",
        "      return True\n",
        "    else:\n",
        "      print(\"큐가 비어있지 않습니다.\")\n",
        "      return False\n",
        "  \n",
        "  def enqueue(self, e):\n",
        "    if len(self.pQueList) != _max:\n",
        "      self.pQueList.append(e)\n",
        "      print(\"{}를 큐에 추가하였습니다.\".format(e))\n",
        "    else:\n",
        "      print(\"큐가 포화상태입니다.\")\n",
        "  \n",
        "  def dequeue(self):\n",
        "    if self.isEmpty != False:\n",
        "      self.pQueList.sort()\n",
        "      _item = self.pQueList.pop(-1)\n",
        "      print(\"큐에서 {}을/를 꺼냈습니다.\".format(_item))\n",
        "    else:\n",
        "      print(\"큐가 비어있습니다.\")\n",
        "  \n",
        "  def size(self):\n",
        "    count = len(self.pQueList)\n",
        "    if count != 0:\n",
        "      print(\"현재 큐의 항목은 총 {}개입니다.\".format(count))\n",
        "    else:\n",
        "      print(\"큐가 비어있습니다.\")\n",
        "  \n",
        "  def clear(self):\n",
        "    self.pQueList = []\n",
        "    print(\"큐를 비웠습니다.\")\n"
      ]
    },
    {
      "cell_type": "code",
      "source": [
        "test = QueADT(10)"
      ],
      "metadata": {
        "id": "GBP_0fOM7zoa"
      },
      "execution_count": null,
      "outputs": []
    },
    {
      "cell_type": "code",
      "source": [
        "test.Queue()"
      ],
      "metadata": {
        "id": "12y-59lwCSDe"
      },
      "execution_count": null,
      "outputs": []
    },
    {
      "cell_type": "code",
      "source": [
        "test.isEmpty()"
      ],
      "metadata": {
        "colab": {
          "base_uri": "https://localhost:8080/"
        },
        "id": "HPp1GNYC85AY",
        "outputId": "13db8886-ea56-4ecd-e7ed-97752c63937f"
      },
      "execution_count": null,
      "outputs": [
        {
          "output_type": "stream",
          "name": "stdout",
          "text": [
            "큐가 비어있습니다.\n"
          ]
        },
        {
          "output_type": "execute_result",
          "data": {
            "text/plain": [
              "True"
            ]
          },
          "metadata": {},
          "execution_count": 4
        }
      ]
    },
    {
      "cell_type": "code",
      "source": [
        "test.enqueue(10)"
      ],
      "metadata": {
        "colab": {
          "base_uri": "https://localhost:8080/"
        },
        "id": "1psONizr8-Qf",
        "outputId": "ada946c0-c1ad-4c4d-87fc-21c716b06944"
      },
      "execution_count": null,
      "outputs": [
        {
          "output_type": "stream",
          "name": "stdout",
          "text": [
            "10을/를 큐에 추가하였습니다.\n"
          ]
        }
      ]
    },
    {
      "cell_type": "code",
      "source": [
        "test.enqueue(1)\n",
        "test.enqueue(2)\n",
        "test.enqueue(3)\n",
        "test.enqueue(4)\n",
        "test.enqueue(5)\n",
        "test.enqueue(6)\n",
        "test.enqueue(7)\n",
        "test.enqueue(8)\n",
        "test.enqueue(9)\n",
        "test.enqueue(10)"
      ],
      "metadata": {
        "colab": {
          "base_uri": "https://localhost:8080/"
        },
        "id": "jwrw1b809JPv",
        "outputId": "c21ae0bb-aa1a-4207-b74f-c80eeeaa8220"
      },
      "execution_count": null,
      "outputs": [
        {
          "output_type": "stream",
          "name": "stdout",
          "text": [
            "1을/를 큐에 추가하였습니다.\n",
            "2을/를 큐에 추가하였습니다.\n",
            "3을/를 큐에 추가하였습니다.\n",
            "4을/를 큐에 추가하였습니다.\n",
            "5을/를 큐에 추가하였습니다.\n",
            "6을/를 큐에 추가하였습니다.\n",
            "7을/를 큐에 추가하였습니다.\n",
            "8을/를 큐에 추가하였습니다.\n",
            "큐가 포화상태입니다.\n",
            "큐가 포화상태입니다.\n"
          ]
        }
      ]
    },
    {
      "cell_type": "code",
      "source": [
        "test.dequeue()\n",
        "test.dequeue()\n",
        "test.dequeue()"
      ],
      "metadata": {
        "colab": {
          "base_uri": "https://localhost:8080/"
        },
        "id": "6E3iB6wCC5Vu",
        "outputId": "aeabef5b-b24c-46a9-ecdd-7b5036532dff"
      },
      "execution_count": null,
      "outputs": [
        {
          "output_type": "stream",
          "name": "stdout",
          "text": [
            "큐에서 10을/를 꺼냈습니다.\n",
            "큐에서 1을/를 꺼냈습니다.\n",
            "큐에서 2을/를 꺼냈습니다.\n"
          ]
        }
      ]
    },
    {
      "cell_type": "code",
      "source": [
        "test.check()"
      ],
      "metadata": {
        "colab": {
          "base_uri": "https://localhost:8080/"
        },
        "id": "cqC-4Z3iC9tn",
        "outputId": "7f577311-08a9-4679-fa7e-db4ee8f6159f"
      },
      "execution_count": null,
      "outputs": [
        {
          "output_type": "stream",
          "name": "stdout",
          "text": [
            "[3, 4, 5, 6, 7, 8]\n"
          ]
        }
      ]
    },
    {
      "cell_type": "code",
      "source": [
        "test.dequeue()\n",
        "test.dequeue()\n",
        "test.dequeue()\n",
        "test.dequeue()\n",
        "test.dequeue()\n",
        "test.dequeue()\n",
        "test.dequeue()"
      ],
      "metadata": {
        "colab": {
          "base_uri": "https://localhost:8080/"
        },
        "id": "K7Y2XGb_D4gI",
        "outputId": "964d63d2-f21d-49a9-af12-9ada6cb8071c"
      },
      "execution_count": null,
      "outputs": [
        {
          "output_type": "stream",
          "name": "stdout",
          "text": [
            "큐에서 3을/를 꺼냈습니다.\n",
            "큐에서 4을/를 꺼냈습니다.\n",
            "큐에서 5을/를 꺼냈습니다.\n",
            "큐에서 6을/를 꺼냈습니다.\n",
            "큐에서 7을/를 꺼냈습니다.\n",
            "큐에서 8을/를 꺼냈습니다.\n",
            "큐가 비어있습니다.\n"
          ]
        }
      ]
    }
  ]
}
