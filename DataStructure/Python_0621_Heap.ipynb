{
  "nbformat": 4,
  "nbformat_minor": 0,
  "metadata": {
    "colab": {
      "name": "Python_0621_Heap.ipynb",
      "provenance": [],
      "collapsed_sections": [],
      "authorship_tag": "ABX9TyPm7Wowpm+pdxIQEgi4OdUo",
      "include_colab_link": true
    },
    "kernelspec": {
      "name": "python3",
      "display_name": "Python 3"
    },
    "language_info": {
      "name": "python"
    }
  },
  "cells": [
    {
      "cell_type": "markdown",
      "metadata": {
        "id": "view-in-github",
        "colab_type": "text"
      },
      "source": [
        "<a href=\"https://colab.research.google.com/github/ESJoGithub/PythonStudy/blob/main/Python_0621_Heap.ipynb\" target=\"_parent\"><img src=\"https://colab.research.google.com/assets/colab-badge.svg\" alt=\"Open In Colab\"/></a>"
      ]
    },
    {
      "cell_type": "markdown",
      "source": [
        "### Heap 트리를 배열구조 기반의 List로 구현해보기"
      ],
      "metadata": {
        "id": "_djx388HSJne"
      }
    },
    {
      "cell_type": "code",
      "source": [
        "class HeapADT:\n",
        "  def __init__(self):\n",
        "    self.Heap = [0]\n",
        "  \n",
        "  def size(self):\n",
        "    _size = len(self.Heap)-1\n",
        "    return _size\n",
        "  \n",
        "  def isEmpty(self):\n",
        "    '''if self.size() == 0:\n",
        "      return True\n",
        "    else:\n",
        "      return False'''\n",
        "    return self.size() == 0\n",
        "\n",
        "  def parent(self, i):\n",
        "    if i > 1:\n",
        "      return self.Heap[i//2]\n",
        "  \n",
        "  def left(self,i):\n",
        "    left_i = i*2\n",
        "    if left_i <= self.size():\n",
        "      return self.Heap[left_i]\n",
        "  \n",
        "  def right(self,i):\n",
        "    right_i = i*2+1\n",
        "    if right_i <= self.size():\n",
        "      return self.Heap[right_i]\n",
        "\n",
        "  def insert(self, n):\n",
        "    self.Heap.append(n)\n",
        "    index = self.size()\n",
        "\n",
        "    while index != 1 and n > self.parent(index):\n",
        "      p_index = index//2\n",
        "      self.Heap[index] = self.Heap[p_index]\n",
        "      self.Heap[p_index] = n\n",
        "  \n",
        "  def delete(self):\n",
        "    root = self.Heap[1]\n",
        "    if not self.isEmpty():\n",
        "      _temp = self.Heap.pop(-1)\n",
        "      self.Heap[1] = _temp\n",
        "\n",
        "    p_index = 1\n",
        "    c_index = 2\n",
        "\n",
        "    while c_index <= self.size():\n",
        "      _l = p_index*2\n",
        "      _r = p_index*2+1\n",
        "\n",
        "      if _l > self.size():\n",
        "        break\n",
        "      elif self.Heap[_l] > self.Heap[_r] or _r > self.size():\n",
        "        c_index = _l\n",
        "      elif self.Heap[_l] < self.Heap[_r]:\n",
        "        c_index = _r\n",
        "\n",
        "      if  self.Heap[c_index] > self.Heap[p_index]:\n",
        "        parent = self.Heap[c_index]\n",
        "        self.Heap[c_index] = self.Heap[p_index]\n",
        "        self.Heap[p_index], p_index = parent, c_index\n",
        "      else:\n",
        "        break    \n",
        "\n",
        "    return root\n",
        "  \n",
        "  def display(self):\n",
        "    print(self.Heap[1:])\n"
      ],
      "metadata": {
        "id": "QROGXwNySKDD"
      },
      "execution_count": 20,
      "outputs": []
    },
    {
      "cell_type": "code",
      "source": [
        "_heap = HeapADT()"
      ],
      "metadata": {
        "id": "CwWZEAv7q6z2"
      },
      "execution_count": 21,
      "outputs": []
    },
    {
      "cell_type": "code",
      "source": [
        "_heap.insert(9)\n",
        "_heap.insert(7)\n",
        "_heap.insert(6)\n",
        "_heap.insert(5)\n",
        "_heap.insert(4)\n",
        "_heap.insert(3)\n",
        "_heap.insert(2)\n",
        "_heap.insert(2)\n",
        "_heap.insert(1)\n",
        "_heap.insert(3)"
      ],
      "metadata": {
        "id": "8EgqHt1brGkv"
      },
      "execution_count": 22,
      "outputs": []
    },
    {
      "cell_type": "code",
      "source": [
        "_heap.display()"
      ],
      "metadata": {
        "colab": {
          "base_uri": "https://localhost:8080/"
        },
        "id": "FFBTrzT1riMw",
        "outputId": "a93c8b91-4468-4344-ce22-e85f2473eaf9"
      },
      "execution_count": 23,
      "outputs": [
        {
          "output_type": "stream",
          "name": "stdout",
          "text": [
            "[9, 7, 6, 5, 4, 3, 2, 2, 1, 3]\n"
          ]
        }
      ]
    },
    {
      "cell_type": "code",
      "source": [
        "_heap.delete()"
      ],
      "metadata": {
        "colab": {
          "base_uri": "https://localhost:8080/"
        },
        "id": "Ln4SJTzSrn2g",
        "outputId": "2611868f-d227-40df-e83c-8dc5ac533df5"
      },
      "execution_count": 24,
      "outputs": [
        {
          "output_type": "execute_result",
          "data": {
            "text/plain": [
              "9"
            ]
          },
          "metadata": {},
          "execution_count": 24
        }
      ]
    },
    {
      "cell_type": "code",
      "source": [
        "_heap.display()"
      ],
      "metadata": {
        "colab": {
          "base_uri": "https://localhost:8080/"
        },
        "id": "lf-AsC_hsiqX",
        "outputId": "8c113d3a-788e-47d7-f0c1-e56d92878ee0"
      },
      "execution_count": 25,
      "outputs": [
        {
          "output_type": "stream",
          "name": "stdout",
          "text": [
            "[7, 5, 6, 3, 4, 3, 2, 2, 1]\n"
          ]
        }
      ]
    },
    {
      "cell_type": "code",
      "source": [
        "_heap.delete()\n",
        "_heap.display()"
      ],
      "metadata": {
        "colab": {
          "base_uri": "https://localhost:8080/"
        },
        "id": "LBV9cF3XwbTJ",
        "outputId": "794f9e9e-94d6-491c-85cb-f650dfd7635f"
      },
      "execution_count": 28,
      "outputs": [
        {
          "output_type": "stream",
          "name": "stdout",
          "text": [
            "[5, 4, 3, 3, 2, 1, 2]\n"
          ]
        }
      ]
    },
    {
      "cell_type": "code",
      "source": [
        "_heap.delete()\n",
        "_heap.display()"
      ],
      "metadata": {
        "colab": {
          "base_uri": "https://localhost:8080/"
        },
        "id": "siGuL9K_xXgr",
        "outputId": "e1ac0280-ec1a-461d-8d6e-d30ffaca1ef8"
      },
      "execution_count": 29,
      "outputs": [
        {
          "output_type": "stream",
          "name": "stdout",
          "text": [
            "[4, 3, 3, 2, 2, 1]\n"
          ]
        }
      ]
    }
  ]
}
