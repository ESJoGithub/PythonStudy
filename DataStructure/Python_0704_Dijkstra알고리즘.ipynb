{
  "nbformat": 4,
  "nbformat_minor": 0,
  "metadata": {
    "colab": {
      "name": "Python_0704_Dijkstra알고리즘.ipynb",
      "provenance": [],
      "collapsed_sections": [],
      "authorship_tag": "ABX9TyMcNSJCMj3oaRFkWU7EvLPQ",
      "include_colab_link": true
    },
    "kernelspec": {
      "name": "python3",
      "display_name": "Python 3"
    },
    "language_info": {
      "name": "python"
    }
  },
  "cells": [
    {
      "cell_type": "markdown",
      "metadata": {
        "id": "view-in-github",
        "colab_type": "text"
      },
      "source": [
        "<a href=\"https://colab.research.google.com/github/ESJoGithub/PythonStudy/blob/main/Python_0704_Dijkstra%EC%95%8C%EA%B3%A0%EB%A6%AC%EC%A6%98.ipynb\" target=\"_parent\"><img src=\"https://colab.research.google.com/assets/colab-badge.svg\" alt=\"Open In Colab\"/></a>"
      ]
    },
    {
      "cell_type": "markdown",
      "source": [
        "시작 정점 v\n",
        "집합 s\n",
        "dict 배열"
      ],
      "metadata": {
        "id": "ICXBOROZCYNI"
      }
    },
    {
      "cell_type": "code",
      "source": [
        "INF = 9999"
      ],
      "metadata": {
        "id": "Wu8wMz2HgpD4"
      },
      "execution_count": 38,
      "outputs": []
    },
    {
      "cell_type": "code",
      "source": [
        "def dijkstr(s_point, vertex, weight):\n",
        "  point = s_point\n",
        "  s = []\n",
        "  i = vertex.index(s_point)\n",
        "  dist = weight[i]\n",
        "\n",
        "\n",
        "  while len(s) != len(vertex):\n",
        "    s.append(point)\n",
        "    min = INF\n",
        "    min_i = -1\n",
        "    temp_i = vertex.index(point)\n",
        "    temp_d = weight[temp_i]\n",
        "    \n",
        "    for j in range(len(dist)):\n",
        "      if (vertex[j] not in s) and (temp_d[j]+dist[temp_i] < dist[j]):\n",
        "        dist[j] = temp_d[j]+dist[temp_i]\n",
        "\n",
        "      if 0 < dist[j] < min and (vertex[j] not in s)  :\n",
        "        min = dist[j]\n",
        "        min_i = j\n",
        "    point = vertex[min_i]\n",
        "  \n",
        "  print(s)     "
      ],
      "metadata": {
        "id": "IWkCeJzVD9kY"
      },
      "execution_count": 39,
      "outputs": []
    },
    {
      "cell_type": "code",
      "execution_count": 40,
      "metadata": {
        "id": "FONwkUtgCTAI"
      },
      "outputs": [],
      "source": [
        "A = [0, 7, INF, INF, 3, 10, INF]\n",
        "B = [7, 0, 4, 10, 2, 6, INF]\n",
        "C = [INF, 4, 0, 2, INF, INF, INF]\n",
        "D = [INF, 10, 2, 0, 11, 9, 4]\n",
        "E = [3, 2, INF, 11, 0, INF, 5]\n",
        "F = [10, 6, INF, 9, INF, 0, INF]\n",
        "G = [INF, INF, INF, 4, 5, INF, 0]"
      ]
    },
    {
      "cell_type": "code",
      "source": [
        "vertex = ['A', 'B', 'C', 'D', 'E', 'F', 'G']"
      ],
      "metadata": {
        "id": "PRQSWMwpSowF"
      },
      "execution_count": 41,
      "outputs": []
    },
    {
      "cell_type": "code",
      "source": [
        "weight=[]\n",
        "weight.append(A)\n",
        "weight.append(B)\n",
        "weight.append(C)\n",
        "weight.append(D)\n",
        "weight.append(E)\n",
        "weight.append(F)\n",
        "weight.append(G)"
      ],
      "metadata": {
        "id": "XRHT5bBlecu3"
      },
      "execution_count": 42,
      "outputs": []
    },
    {
      "cell_type": "code",
      "source": [
        "test = dijkstr('A', vertex, weight)"
      ],
      "metadata": {
        "colab": {
          "base_uri": "https://localhost:8080/"
        },
        "id": "GDapqg9xesdX",
        "outputId": "50e62d05-038b-432a-8272-436d875f8931"
      },
      "execution_count": 43,
      "outputs": [
        {
          "output_type": "stream",
          "name": "stdout",
          "text": [
            "['A', 'E', 'B', 'G', 'C', 'F', 'D']\n"
          ]
        }
      ]
    },
    {
      "cell_type": "markdown",
      "source": [
        "예시코드(검토 필요) 오타 있는 듯..."
      ],
      "metadata": {
        "id": "9AK14lkggNvI"
      }
    },
    {
      "cell_type": "code",
      "source": [
        "def choose_vertex(dist, found):\n",
        "  min = INF\n",
        "  minpos = -1\n",
        "  for i in range(len(dist)) :\n",
        "    if dist[i] < min and found[i]==False:\n",
        "      min = dist[i]\n",
        "      minpos = i\n",
        "  return minpos"
      ],
      "metadata": {
        "id": "z1OpZlJ3gPWa"
      },
      "execution_count": 44,
      "outputs": []
    },
    {
      "cell_type": "code",
      "source": [
        "def shorest_path_dijkstra(vtx, adj, start):\n",
        "  vsize = len(vtx)\n",
        "  dist = list(adj[start])\n",
        "  path = [start] * vsize\n",
        "  found = [False] * vsize\n",
        "  found[start] = True\n",
        "  dist[start] = 0\n",
        "\n",
        "  for i in range(vsize):\n",
        "    print(\"step%2d: \"%(i+1), dist)\n",
        "    u = choose_vertex(dist, found)\n",
        "    found[u] = True\n",
        "    \n",
        "    for w in range(vsize):\n",
        "      if not found[w]:\n",
        "        if dist[u] + adj[u][w] < dist[w]:\n",
        "          dist[w] = dist[u] + adj[u][w]\n",
        "          path[w] = u\n",
        "  return path"
      ],
      "metadata": {
        "id": "H8VGly0YgzLo"
      },
      "execution_count": 45,
      "outputs": []
    },
    {
      "cell_type": "code",
      "source": [
        "print(\"shortest Path By Dijkstra Algorithm\")\n",
        "start = 0\n",
        "path = shorest_path_dijkstra(vertex, weight, start)\n",
        "for end in range(len(vertex)):\n",
        "  if end != start:\n",
        "    print(\"[최단경로: %s->%s] %s\" %(vertex[start], vertex[end], vertex[end]), end='')\n",
        "    while (path[end] != start):\n",
        "      print(\" <- %s\" %vertex[path[end]], end= \"\")\n",
        "      end = path[end]\n",
        "    print (\" <- %s\" %vertex[path[end]])"
      ],
      "metadata": {
        "colab": {
          "base_uri": "https://localhost:8080/"
        },
        "id": "hxzvoVj_iQVh",
        "outputId": "526bfb55-1368-4050-895f-0223dd30414a"
      },
      "execution_count": 46,
      "outputs": [
        {
          "output_type": "stream",
          "name": "stdout",
          "text": [
            "shortest Path By Dijkstra Algorithm\n",
            "step 1:  [0, 5, 9, 11, 3, 10, 8]\n",
            "step 2:  [0, 5, 9, 11, 3, 10, 8]\n",
            "step 3:  [0, 5, 9, 11, 3, 10, 8]\n",
            "step 4:  [0, 5, 9, 11, 3, 10, 8]\n",
            "step 5:  [0, 5, 9, 11, 3, 10, 8]\n",
            "step 6:  [0, 5, 9, 11, 3, 10, 8]\n",
            "step 7:  [0, 5, 9, 11, 3, 10, 8]\n",
            "[최단경로: A->B] B <- A\n",
            "[최단경로: A->C] C <- A\n",
            "[최단경로: A->D] D <- A\n",
            "[최단경로: A->E] E <- A\n",
            "[최단경로: A->F] F <- A\n",
            "[최단경로: A->G] G <- A\n"
          ]
        }
      ]
    }
  ]
}
