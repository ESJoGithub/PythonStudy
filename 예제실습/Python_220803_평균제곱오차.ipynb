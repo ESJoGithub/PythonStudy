{
  "nbformat": 4,
  "nbformat_minor": 0,
  "metadata": {
    "colab": {
      "name": "Python_220803_평균제곱오차.ipynb",
      "provenance": [],
      "collapsed_sections": [],
      "authorship_tag": "ABX9TyMQGBo2zF/qGbdLPx7N3sAO",
      "include_colab_link": true
    },
    "kernelspec": {
      "name": "python3",
      "display_name": "Python 3"
    },
    "language_info": {
      "name": "python"
    }
  },
  "cells": [
    {
      "cell_type": "markdown",
      "metadata": {
        "id": "view-in-github",
        "colab_type": "text"
      },
      "source": [
        "<a href=\"https://colab.research.google.com/github/ESJoGithub/PythonStudy/blob/main/Python_220803_%ED%8F%89%EA%B7%A0%EC%A0%9C%EA%B3%B1%EC%98%A4%EC%B0%A8.ipynb\" target=\"_parent\"><img src=\"https://colab.research.google.com/assets/colab-badge.svg\" alt=\"Open In Colab\"/></a>"
      ]
    },
    {
      "cell_type": "markdown",
      "source": [
        "## 모두의 딥러닝 \n",
        "### 평균제곱오차 구현하기"
      ],
      "metadata": {
        "id": "ZuUHwGO0wj-s"
      }
    },
    {
      "cell_type": "code",
      "source": [
        "import numpy as np"
      ],
      "metadata": {
        "id": "pdtmHz9GzEqC"
      },
      "execution_count": 31,
      "outputs": []
    },
    {
      "cell_type": "code",
      "execution_count": 32,
      "metadata": {
        "id": "UNiy3Wt2tJ53"
      },
      "outputs": [],
      "source": [
        "temp = [3, 76]"
      ]
    },
    {
      "cell_type": "code",
      "source": [
        "dataset = [[2, 81], [4, 93], [6, 91], [8, 97]]"
      ],
      "metadata": {
        "id": "rzgamlbJwsI6"
      },
      "execution_count": 33,
      "outputs": []
    },
    {
      "cell_type": "code",
      "source": [
        "x = [i[0] for i in dataset]\n",
        "y = [i[1] for i in dataset]"
      ],
      "metadata": {
        "id": "3PsOoWbBw2Mk"
      },
      "execution_count": 34,
      "outputs": []
    },
    {
      "cell_type": "code",
      "source": [
        "temp_y = [temp[0]*i+temp[1] for i in x]\n",
        "print(temp_y)"
      ],
      "metadata": {
        "colab": {
          "base_uri": "https://localhost:8080/"
        },
        "id": "m2201mF8xDTT",
        "outputId": "5fd5eb01-133e-4e44-f1e7-86e72df45918"
      },
      "execution_count": 35,
      "outputs": [
        {
          "output_type": "stream",
          "name": "stdout",
          "text": [
            "[82, 88, 94, 100]\n"
          ]
        }
      ]
    },
    {
      "cell_type": "code",
      "source": [
        "result = np.mean([(y[i]-temp_y[i])**2 for i in range(len(y))])\n",
        "print(result)"
      ],
      "metadata": {
        "colab": {
          "base_uri": "https://localhost:8080/"
        },
        "id": "-BHwJJ6GzHdJ",
        "outputId": "a78d60ae-7b43-4460-8b56-dbc095a7c36d"
      },
      "execution_count": 36,
      "outputs": [
        {
          "output_type": "stream",
          "name": "stdout",
          "text": [
            "11.0\n"
          ]
        }
      ]
    },
    {
      "cell_type": "markdown",
      "source": [
        "교재 예시(함수화)"
      ],
      "metadata": {
        "id": "gvtDEZbG2Smm"
      }
    },
    {
      "cell_type": "code",
      "source": [
        "def predict(x):\n",
        "  return temp[0]*x + temp[1] "
      ],
      "metadata": {
        "id": "D2Y6j9gixoEt"
      },
      "execution_count": 37,
      "outputs": []
    },
    {
      "cell_type": "code",
      "source": [
        "def mse(y, temp_y):\n",
        "  return ((y-temp_y)**2).mean()"
      ],
      "metadata": {
        "id": "sJv7crZdyc8J"
      },
      "execution_count": 38,
      "outputs": []
    },
    {
      "cell_type": "code",
      "source": [
        "def mse_val(y, predict_result):\n",
        "  return mse(np.array(y), np.array(predict_result))"
      ],
      "metadata": {
        "id": "O9h-w-qFyt3p"
      },
      "execution_count": 39,
      "outputs": []
    },
    {
      "cell_type": "code",
      "source": [
        "predict_result = []\n",
        "\n",
        "for i in range(len(x)):\n",
        "  predict_result.append(predict(x[i]))\n",
        "  print(\"공부시간 = %.1f, 실제 점수 = %.1f, 예측 점수 = %.1f\"%(x[i], y[i], predict(x[i])))\n",
        "\n",
        "print(\"mse 최종값: \" + str(mse_val(y, predict_result)))"
      ],
      "metadata": {
        "colab": {
          "base_uri": "https://localhost:8080/"
        },
        "id": "gcQd88Sr1Sqt",
        "outputId": "2d7e886f-368d-4eda-ce93-f80eff9ea15e"
      },
      "execution_count": 41,
      "outputs": [
        {
          "output_type": "stream",
          "name": "stdout",
          "text": [
            "공부시간 = 2.0, 실제 점수 = 81.0, 예측 점수 = 82.0\n",
            "공부시간 = 4.0, 실제 점수 = 93.0, 예측 점수 = 88.0\n",
            "공부시간 = 6.0, 실제 점수 = 91.0, 예측 점수 = 94.0\n",
            "공부시간 = 8.0, 실제 점수 = 97.0, 예측 점수 = 100.0\n",
            "mse 최종값: 11.0\n"
          ]
        }
      ]
    }
  ]
}
