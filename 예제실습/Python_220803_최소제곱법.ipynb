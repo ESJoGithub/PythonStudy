{
  "nbformat": 4,
  "nbformat_minor": 0,
  "metadata": {
    "colab": {
      "name": "Python_220803_최소제곱법.ipynb",
      "provenance": [],
      "authorship_tag": "ABX9TyPm0xV7g+h1ta6/e/HU313G"
    },
    "kernelspec": {
      "name": "python3",
      "display_name": "Python 3"
    },
    "language_info": {
      "name": "python"
    }
  },
  "cells": [
    {
      "cell_type": "markdown",
      "source": [
        "## 모두의 딥러닝 \n",
        "### 최소제곱법 구현하기"
      ],
      "metadata": {
        "id": "R_86EcoFk_Tu"
      }
    },
    {
      "cell_type": "code",
      "execution_count": 2,
      "metadata": {
        "id": "6KcjwWszkv5L"
      },
      "outputs": [],
      "source": [
        "import numpy as np"
      ]
    },
    {
      "cell_type": "code",
      "source": [
        "x = [2, 4, 6, 8]\n",
        "y = [81, 93, 91, 97]"
      ],
      "metadata": {
        "id": "Blez1OsllOfJ"
      },
      "execution_count": 3,
      "outputs": []
    },
    {
      "cell_type": "code",
      "source": [
        "mx = np.mean(x)\n",
        "my = np.mean(y)\n",
        "\n",
        "print(\"x 평균:\", mx)\n",
        "print(\"y 평균:\", my)"
      ],
      "metadata": {
        "colab": {
          "base_uri": "https://localhost:8080/"
        },
        "id": "_R3AwuYGlfve",
        "outputId": "b43f86b8-38fb-4fc0-b054-a3c2b6050d86"
      },
      "execution_count": 17,
      "outputs": [
        {
          "output_type": "stream",
          "name": "stdout",
          "text": [
            "x 평균: 5.0\n",
            "y 평균: 90.5\n"
          ]
        }
      ]
    },
    {
      "cell_type": "code",
      "source": [
        "divisor = 0\n",
        "for i in x:\n",
        "  divisor += (i - mx)**2\n",
        "print(divisor)"
      ],
      "metadata": {
        "colab": {
          "base_uri": "https://localhost:8080/"
        },
        "id": "JeptGTG6mEKf",
        "outputId": "f8c27a05-bb11-494d-faae-2b8238a0be30"
      },
      "execution_count": 5,
      "outputs": [
        {
          "output_type": "stream",
          "name": "stdout",
          "text": [
            "20.0\n"
          ]
        }
      ]
    },
    {
      "cell_type": "code",
      "source": [
        "divisor = 0\n",
        "divisor = sum([(i-mx)**2 for i in x])\n",
        "print(divisor)"
      ],
      "metadata": {
        "colab": {
          "base_uri": "https://localhost:8080/"
        },
        "id": "UEzt0UPem4tH",
        "outputId": "fb83c86a-df79-4803-e50c-82ac757a9955"
      },
      "execution_count": 12,
      "outputs": [
        {
          "output_type": "stream",
          "name": "stdout",
          "text": [
            "20.0\n"
          ]
        }
      ]
    },
    {
      "cell_type": "code",
      "source": [
        "dividend = 0\n",
        "for i in range(len(x)):\n",
        "  dividend += (x[i] - mx)*(y[i] - my)\n",
        "\n",
        "print(dividend)"
      ],
      "metadata": {
        "colab": {
          "base_uri": "https://localhost:8080/"
        },
        "id": "qIvd8oIDnMtz",
        "outputId": "43d34f59-5ac3-4388-a5c2-f398a2aac932"
      },
      "execution_count": 8,
      "outputs": [
        {
          "output_type": "stream",
          "name": "stdout",
          "text": [
            "46.0\n"
          ]
        }
      ]
    },
    {
      "cell_type": "code",
      "source": [
        "dividend = 0\n",
        "dividend = sum([(x[i] - mx)*(y[i] - my) for i in range(len(x))])\n",
        "print(dividend)"
      ],
      "metadata": {
        "colab": {
          "base_uri": "https://localhost:8080/"
        },
        "id": "NtEhvdADn2-Q",
        "outputId": "f0886b72-c634-4c94-9124-60da1bddc1c2"
      },
      "execution_count": 10,
      "outputs": [
        {
          "output_type": "stream",
          "name": "stdout",
          "text": [
            "46.0\n"
          ]
        }
      ]
    },
    {
      "cell_type": "code",
      "source": [
        "a = dividend/divisor\n",
        "b = my - a*mx\n",
        "\n",
        "print(\"기울기:\", a)\n",
        "print(\"y절편: \", b)\n",
        "print(\"y =\", a,\"x +\", b)"
      ],
      "metadata": {
        "colab": {
          "base_uri": "https://localhost:8080/"
        },
        "id": "pEDLhQWgoSoE",
        "outputId": "8c8ff9e4-43ef-4f9b-f80a-c0f63a1ae9cb"
      },
      "execution_count": 15,
      "outputs": [
        {
          "output_type": "stream",
          "name": "stdout",
          "text": [
            "기울기: 2.3\n",
            "y절편:  79.0\n",
            "y = 2.3 x + 79.0\n"
          ]
        }
      ]
    }
  ]
}
