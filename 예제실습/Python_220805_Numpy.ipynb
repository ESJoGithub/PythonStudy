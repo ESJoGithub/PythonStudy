{
  "nbformat": 4,
  "nbformat_minor": 0,
  "metadata": {
    "colab": {
      "name": "Python_0805_Numpy.ipynb",
      "provenance": [],
      "collapsed_sections": [],
      "authorship_tag": "ABX9TyNQaV3qANssuHgK0BYeVthJ",
      "include_colab_link": true
    },
    "kernelspec": {
      "name": "python3",
      "display_name": "Python 3"
    },
    "language_info": {
      "name": "python"
    }
  },
  "cells": [
    {
      "cell_type": "markdown",
      "metadata": {
        "id": "view-in-github",
        "colab_type": "text"
      },
      "source": [
        "<a href=\"https://colab.research.google.com/github/ESJoGithub/PythonStudy/blob/main/Python_0805_Numpy.ipynb\" target=\"_parent\"><img src=\"https://colab.research.google.com/assets/colab-badge.svg\" alt=\"Open In Colab\"/></a>"
      ]
    },
    {
      "cell_type": "markdown",
      "source": [
        "## Numpy 활용 예제 실습"
      ],
      "metadata": {
        "id": "D4e40r_5Lttp"
      }
    },
    {
      "cell_type": "markdown",
      "source": [
        "#### **배열 만들기 및 초기화**"
      ],
      "metadata": {
        "id": "zkSk7c7tLyM1"
      }
    },
    {
      "cell_type": "code",
      "execution_count": 2,
      "metadata": {
        "id": "Cw1fXQEW9_iJ"
      },
      "outputs": [],
      "source": [
        "import numpy as np"
      ]
    },
    {
      "cell_type": "code",
      "source": [
        "data = np.array([1, 2, 3, 4, 5, 6])\n",
        "data_2d = np.array([[1,2,3],[4,5,6]])\n",
        "data_random = np.random.randn(2, 3) # 2X3 Matrinx\n",
        "data_zeros = np.zeros(5)            # 1X5 Matrinx\n",
        "data_ones = np.ones((2,3))          # 2X3 Matrinx"
      ],
      "metadata": {
        "id": "nuxyzZWx_DUw"
      },
      "execution_count": 7,
      "outputs": []
    },
    {
      "cell_type": "code",
      "source": [
        "print(data)\n",
        "print(data_2d)\n",
        "print(data_random)\n",
        "print(data_zeros)\n",
        "print(data_ones)"
      ],
      "metadata": {
        "colab": {
          "base_uri": "https://localhost:8080/"
        },
        "id": "bg0tM1PQ-_F5",
        "outputId": "1c73b698-6173-41af-979c-b231fb9d9613"
      },
      "execution_count": 8,
      "outputs": [
        {
          "output_type": "stream",
          "name": "stdout",
          "text": [
            "[1 2 3 4 5 6]\n",
            "[[1 2 3]\n",
            " [4 5 6]]\n",
            "[[-1.3136338  -0.61082002 -1.30280424]\n",
            " [-0.35561087 -0.03976749  0.90995202]]\n",
            "[0. 0. 0. 0. 0.]\n",
            "[[1. 1. 1.]\n",
            " [1. 1. 1.]]\n"
          ]
        }
      ]
    },
    {
      "cell_type": "markdown",
      "source": [
        "#### **배열의 요소 추출**"
      ],
      "metadata": {
        "id": "40QJc-8ZMIZT"
      }
    },
    {
      "cell_type": "code",
      "source": [
        "data2 = np.array([[1,2,3], [4,5,6], [7,8,9]])"
      ],
      "metadata": {
        "id": "DySac_kX_ezN"
      },
      "execution_count": 9,
      "outputs": []
    },
    {
      "cell_type": "code",
      "source": [
        "print(data2)\n",
        "print(data2[0][1])\n",
        "print(data2[0][1:])\n",
        "data2[0] = 100                      # for문을 사용하지 않아도 됨.\n",
        "print(data2)\n",
        "data2[:] = 300                      # for문을 사용하지 않아도 됨.\n",
        "print(data2)"
      ],
      "metadata": {
        "colab": {
          "base_uri": "https://localhost:8080/"
        },
        "id": "gMc50iKu_pXt",
        "outputId": "1faa736c-bf64-4cf1-d3a9-5880514b1f81"
      },
      "execution_count": 10,
      "outputs": [
        {
          "output_type": "stream",
          "name": "stdout",
          "text": [
            "[[1 2 3]\n",
            " [4 5 6]\n",
            " [7 8 9]]\n",
            "2\n",
            "[2 3]\n",
            "[[100 100 100]\n",
            " [  4   5   6]\n",
            " [  7   8   9]]\n",
            "[[300 300 300]\n",
            " [300 300 300]\n",
            " [300 300 300]]\n"
          ]
        }
      ]
    },
    {
      "cell_type": "markdown",
      "source": [
        "#### **배열의 산술연산**"
      ],
      "metadata": {
        "id": "645xgDc1MMGH"
      }
    },
    {
      "cell_type": "code",
      "source": [
        "data_a = np.array([[5,7,9], [-7,-6,19],[6,8.9,11]])\n",
        "data_b = data_a*2\n",
        "data_c = data_a+3\n",
        "print(data_a)\n",
        "print(data_b)\n",
        "print(data_c)\n",
        "print(data_a > data_b)"
      ],
      "metadata": {
        "colab": {
          "base_uri": "https://localhost:8080/"
        },
        "id": "FjCFZkhYAQ1F",
        "outputId": "7e8a68ef-5f17-4bab-eb68-f12fa1216fc2"
      },
      "execution_count": 12,
      "outputs": [
        {
          "output_type": "stream",
          "name": "stdout",
          "text": [
            "[[ 5.   7.   9. ]\n",
            " [-7.  -6.  19. ]\n",
            " [ 6.   8.9 11. ]]\n",
            "[[ 10.   14.   18. ]\n",
            " [-14.  -12.   38. ]\n",
            " [ 12.   17.8  22. ]]\n",
            "[[ 8.  10.  12. ]\n",
            " [-4.  -3.  22. ]\n",
            " [ 9.  11.9 14. ]]\n",
            "[[False False False]\n",
            " [ True  True False]\n",
            " [False False False]]\n"
          ]
        }
      ]
    },
    {
      "cell_type": "markdown",
      "source": [
        "#### **배열의 통계 메소드**"
      ],
      "metadata": {
        "id": "x3kJyaFcMdG5"
      }
    },
    {
      "cell_type": "code",
      "source": [
        "print(data_a)\n",
        "print(data_a.sum())\n",
        "print(data_a.mean())\n",
        "print(data_a.max())\n",
        "print(data_a.min())\n",
        "print(data_a.max(axis = 0))           # axis = 0 은 각 열별 데이터를 의미함 axis = 1은 행을 기준으로 함\n",
        "index_1 = np.argmax(data_a, axis = 0) # 각 열에서 최대값을 가지는 인덱스 반환\n",
        "print(index_1)"
      ],
      "metadata": {
        "colab": {
          "base_uri": "https://localhost:8080/"
        },
        "id": "G4px4PFEA2wf",
        "outputId": "5228e87d-8161-4b41-df6b-ec76639dbe4d"
      },
      "execution_count": 15,
      "outputs": [
        {
          "output_type": "stream",
          "name": "stdout",
          "text": [
            "[[ 5.   7.   9. ]\n",
            " [-7.  -6.  19. ]\n",
            " [ 6.   8.9 11. ]]\n",
            "52.9\n",
            "5.877777777777777\n",
            "19.0\n",
            "-7.0\n",
            "[ 9. 19. 11.]\n",
            "[2 2 1]\n"
          ]
        }
      ]
    }
  ]
}
