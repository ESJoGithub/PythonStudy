{
  "nbformat": 4,
  "nbformat_minor": 0,
  "metadata": {
    "colab": {
      "name": "Python_220805_Pandas.ipynb",
      "provenance": [],
      "collapsed_sections": [],
      "authorship_tag": "ABX9TyMNyt4+YEpknXgCY7P1PvfP",
      "include_colab_link": true
    },
    "kernelspec": {
      "name": "python3",
      "display_name": "Python 3"
    },
    "language_info": {
      "name": "python"
    }
  },
  "cells": [
    {
      "cell_type": "markdown",
      "metadata": {
        "id": "view-in-github",
        "colab_type": "text"
      },
      "source": [
        "<a href=\"https://colab.research.google.com/github/ESJoGithub/PythonStudy/blob/main/Python_220805_Pandas.ipynb\" target=\"_parent\"><img src=\"https://colab.research.google.com/assets/colab-badge.svg\" alt=\"Open In Colab\"/></a>"
      ]
    },
    {
      "cell_type": "markdown",
      "source": [
        "## Pandas 활용 예제 실습"
      ],
      "metadata": {
        "id": "D4e40r_5Lttp"
      }
    },
    {
      "cell_type": "markdown",
      "source": [
        "#### **Series 객체 생성 및 인덱스 설정**"
      ],
      "metadata": {
        "id": "zkSk7c7tLyM1"
      }
    },
    {
      "cell_type": "code",
      "execution_count": null,
      "metadata": {
        "id": "L-4p46nvByJN"
      },
      "outputs": [],
      "source": [
        "import pandas as pd"
      ]
    },
    {
      "cell_type": "code",
      "source": [
        "obj = pd.Series([10, 20, 30, 40, 50])\n",
        "obj2 = pd.Series([10, 20, 30, 40, 50], index=['a', 'b', 'c', 'd', 'e'])"
      ],
      "metadata": {
        "id": "ZOLZo3MECGLf"
      },
      "execution_count": null,
      "outputs": []
    },
    {
      "cell_type": "code",
      "source": [
        "print(obj)\n",
        "print(obj.index)\n",
        "print(obj.values)\n",
        "print(obj[1])\n",
        "print(obj2)\n",
        "print(obj2[['a','e']]) #지정 인덱스로 접근할 때는 이중대활호를 사용해야 하는듯?\n",
        "print(obj2[1:3])"
      ],
      "metadata": {
        "colab": {
          "base_uri": "https://localhost:8080/"
        },
        "id": "wcUWtrx4CXfe",
        "outputId": "7eaf29df-1fe2-48ba-e82f-9c7a39a17b40"
      },
      "execution_count": null,
      "outputs": [
        {
          "output_type": "stream",
          "name": "stdout",
          "text": [
            "0    10\n",
            "1    20\n",
            "2    30\n",
            "3    40\n",
            "4    50\n",
            "dtype: int64\n",
            "RangeIndex(start=0, stop=5, step=1)\n",
            "[10 20 30 40 50]\n",
            "20\n",
            "a    10\n",
            "b    20\n",
            "c    30\n",
            "d    40\n",
            "e    50\n",
            "dtype: int64\n",
            "a    10\n",
            "e    50\n",
            "dtype: int64\n",
            "b    20\n",
            "c    30\n",
            "dtype: int64\n"
          ]
        }
      ]
    },
    {
      "cell_type": "markdown",
      "source": [
        "#### **Series 객체의 연산과 조건식**"
      ],
      "metadata": {
        "id": "3pHnGOqHNc-q"
      }
    },
    {
      "cell_type": "code",
      "source": [
        "print(obj*10)\n",
        "\n",
        "print('-'*20)\n",
        "\n",
        "print(obj >= 20)"
      ],
      "metadata": {
        "colab": {
          "base_uri": "https://localhost:8080/"
        },
        "id": "aK6L5euiC1Qo",
        "outputId": "ff71f8dc-f243-40dc-f29f-b0fef6ea5b40"
      },
      "execution_count": null,
      "outputs": [
        {
          "output_type": "stream",
          "name": "stdout",
          "text": [
            "0    100\n",
            "1    200\n",
            "2    300\n",
            "3    400\n",
            "4    500\n",
            "dtype: int64\n",
            "--------------------\n",
            "0    False\n",
            "1     True\n",
            "2     True\n",
            "3     True\n",
            "4     True\n",
            "dtype: bool\n"
          ]
        }
      ]
    },
    {
      "cell_type": "markdown",
      "source": [
        "#### **Series 객체와 딕셔너리**"
      ],
      "metadata": {
        "id": "surois81Nmwk"
      }
    },
    {
      "cell_type": "code",
      "source": [
        "data = pd.Series({'유재석': 35, \"박명수\": 60, \"정형돈\": 52}, index = ['유재석', '박명수', '정준하', '정형돈', '하하'])\n",
        "data['하하'] = 40\n",
        "print(data)\n",
        "print(data[3])"
      ],
      "metadata": {
        "colab": {
          "base_uri": "https://localhost:8080/"
        },
        "id": "IKeGLA25DO78",
        "outputId": "235e2ea1-274c-4ac5-933a-519042c75fb4"
      },
      "execution_count": null,
      "outputs": [
        {
          "output_type": "stream",
          "name": "stdout",
          "text": [
            "유재석    35.0\n",
            "박명수    60.0\n",
            "정준하     NaN\n",
            "정형돈    52.0\n",
            "하하     40.0\n",
            "dtype: float64\n",
            "52.0\n"
          ]
        }
      ]
    },
    {
      "cell_type": "markdown",
      "source": [
        "#### **DataFrame 객체 생성 및 인덱스 설정**"
      ],
      "metadata": {
        "id": "8eU5LwvNNx1b"
      }
    },
    {
      "cell_type": "code",
      "source": [
        "data_2={'이름':['유재석','박명수','정형돈','하하'],'나이':[35, 60, 52, 38],'키':[180, 175, 160, 150]}\n",
        "frame = pd.DataFrame(data_2)\n",
        "frame_2 = pd.DataFrame(data_2, columns = ['이름','나이','키','몸무게'])\n",
        "print(data_2)\n",
        "print(frame)\n",
        "print(frame_2)\n",
        "print(frame.head(2))\n",
        "print(frame.tail(2))"
      ],
      "metadata": {
        "colab": {
          "base_uri": "https://localhost:8080/"
        },
        "id": "bp4ZIjuoIIpw",
        "outputId": "fa7551f3-77dc-4a74-c815-d2dfb27f004a"
      },
      "execution_count": null,
      "outputs": [
        {
          "output_type": "stream",
          "name": "stdout",
          "text": [
            "{'이름': ['유재석', '박명수', '정형돈', '하하'], '나이': [35, 60, 52, 38], '키': [180, 175, 160, 150]}\n",
            "    이름  나이    키\n",
            "0  유재석  35  180\n",
            "1  박명수  60  175\n",
            "2  정형돈  52  160\n",
            "3   하하  38  150\n",
            "    이름  나이    키  몸무게\n",
            "0  유재석  35  180  NaN\n",
            "1  박명수  60  175  NaN\n",
            "2  정형돈  52  160  NaN\n",
            "3   하하  38  150  NaN\n",
            "    이름  나이    키\n",
            "0  유재석  35  180\n",
            "1  박명수  60  175\n",
            "    이름  나이    키\n",
            "2  정형돈  52  160\n",
            "3   하하  38  150\n"
          ]
        }
      ]
    },
    {
      "cell_type": "markdown",
      "source": [
        "#### **DataFrame 요소 추출하기**"
      ],
      "metadata": {
        "id": "aOuiLvR0N82b"
      }
    },
    {
      "cell_type": "code",
      "source": [
        "frame_3 = pd.DataFrame(data_2, index = ['첫째','둘째','셋째','넷째'])\n",
        "print(frame_3)\n",
        "print(frame_3.loc['둘째','이름'])\n",
        "print(frame_3.loc['넷째',['나이', '키']])\n",
        "\n",
        "print('-'*15)\n",
        "print(frame_3.iloc[2, 0])\n",
        "print(frame_3.iloc[3, :2])\n",
        "print(frame_3.iloc[:,[0,2]])"
      ],
      "metadata": {
        "colab": {
          "base_uri": "https://localhost:8080/"
        },
        "id": "vyZw3iBPI5dv",
        "outputId": "47048a0f-d579-44e2-c78f-ee93e7fc624b"
      },
      "execution_count": null,
      "outputs": [
        {
          "output_type": "stream",
          "name": "stdout",
          "text": [
            "     이름  나이    키\n",
            "첫째  유재석  35  180\n",
            "둘째  박명수  60  175\n",
            "셋째  정형돈  52  160\n",
            "넷째   하하  38  150\n",
            "박명수\n",
            "나이     38\n",
            "키     150\n",
            "Name: 넷째, dtype: object\n",
            "---------------\n",
            "정형돈\n",
            "이름    하하\n",
            "나이    38\n",
            "Name: 넷째, dtype: object\n",
            "     이름    키\n",
            "첫째  유재석  180\n",
            "둘째  박명수  175\n",
            "셋째  정형돈  160\n",
            "넷째   하하  150\n"
          ]
        }
      ]
    },
    {
      "cell_type": "markdown",
      "source": [
        "#### **합계와 평균/정렬하기**"
      ],
      "metadata": {
        "id": "9v04r0P5OKbL"
      }
    },
    {
      "cell_type": "code",
      "source": [
        "frame_4 = frame.iloc[:, [1,2]]\n",
        "rank = frame.sort_values(by=['나이'], ascending = False)\n",
        "total = frame_4.sum(axis = 0)\n",
        "avg = frame_4.mean(axis=0)\n",
        "\n",
        "print(frame_4)\n",
        "print(rank)\n",
        "print(total)\n",
        "print(avg)"
      ],
      "metadata": {
        "colab": {
          "base_uri": "https://localhost:8080/"
        },
        "id": "QUBmuyQQKqZY",
        "outputId": "1b4ab016-12dc-4638-e5e4-9ed4c600a098"
      },
      "execution_count": null,
      "outputs": [
        {
          "output_type": "stream",
          "name": "stdout",
          "text": [
            "   나이    키\n",
            "0  35  180\n",
            "1  60  175\n",
            "2  52  160\n",
            "3  38  150\n",
            "    이름  나이    키\n",
            "1  박명수  60  175\n",
            "2  정형돈  52  160\n",
            "3   하하  38  150\n",
            "0  유재석  35  180\n",
            "나이    185\n",
            "키     665\n",
            "dtype: int64\n",
            "나이     46.25\n",
            "키     166.25\n",
            "dtype: float64\n"
          ]
        }
      ]
    }
  ]
}
