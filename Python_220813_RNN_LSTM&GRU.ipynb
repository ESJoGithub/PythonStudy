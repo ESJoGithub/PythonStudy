{
 "cells": [
  {
   "cell_type": "markdown",
   "id": "7aca2805",
   "metadata": {},
   "source": [
    "# LSTM 및 GRU를 활용한 언어 모형 생성 \n",
    "---\n",
    "RNN(순환신경망)의 대표 모형인 LSTM과 GRU를 활용하여 언어 모형 / 문장 생성 모델 실습"
   ]
  },
  {
   "cell_type": "markdown",
   "id": "aa60634a",
   "metadata": {},
   "source": [
    "## 2.언어 모형 만들기"
   ]
  },
  {
   "cell_type": "markdown",
   "id": "5d09acdf",
   "metadata": {},
   "source": [
    "### 데이터 불러오기"
   ]
  },
  {
   "cell_type": "code",
   "execution_count": 1,
   "id": "0f81504d",
   "metadata": {},
   "outputs": [],
   "source": [
    "import tensorflow.keras\n",
    "import pandas as pd"
   ]
  },
  {
   "cell_type": "code",
   "execution_count": 2,
   "id": "4feb7043",
   "metadata": {},
   "outputs": [
    {
     "data": {
      "text/html": [
       "<div>\n",
       "<style scoped>\n",
       "    .dataframe tbody tr th:only-of-type {\n",
       "        vertical-align: middle;\n",
       "    }\n",
       "\n",
       "    .dataframe tbody tr th {\n",
       "        vertical-align: top;\n",
       "    }\n",
       "\n",
       "    .dataframe thead th {\n",
       "        text-align: right;\n",
       "    }\n",
       "</style>\n",
       "<table border=\"1\" class=\"dataframe\">\n",
       "  <thead>\n",
       "    <tr style=\"text-align: right;\">\n",
       "      <th></th>\n",
       "      <th>0</th>\n",
       "      <th>1</th>\n",
       "    </tr>\n",
       "  </thead>\n",
       "  <tbody>\n",
       "    <tr>\n",
       "      <th>0</th>\n",
       "      <td>So there is no way for me to plug it in here i...</td>\n",
       "      <td>0</td>\n",
       "    </tr>\n",
       "    <tr>\n",
       "      <th>1</th>\n",
       "      <td>Good case, Excellent value.</td>\n",
       "      <td>1</td>\n",
       "    </tr>\n",
       "    <tr>\n",
       "      <th>2</th>\n",
       "      <td>Great for the jawbone.</td>\n",
       "      <td>1</td>\n",
       "    </tr>\n",
       "    <tr>\n",
       "      <th>3</th>\n",
       "      <td>Tied to charger for conversations lasting more...</td>\n",
       "      <td>0</td>\n",
       "    </tr>\n",
       "    <tr>\n",
       "      <th>4</th>\n",
       "      <td>The mic is great.</td>\n",
       "      <td>1</td>\n",
       "    </tr>\n",
       "  </tbody>\n",
       "</table>\n",
       "</div>"
      ],
      "text/plain": [
       "                                                   0  1\n",
       "0  So there is no way for me to plug it in here i...  0\n",
       "1                        Good case, Excellent value.  1\n",
       "2                             Great for the jawbone.  1\n",
       "3  Tied to charger for conversations lasting more...  0\n",
       "4                                  The mic is great.  1"
      ]
     },
     "execution_count": 2,
     "metadata": {},
     "output_type": "execute_result"
    }
   ],
   "source": [
    "df = pd.read_csv('amazon_cells_labelled.txt', sep=\"\\t\", header=None)\n",
    "df.head()"
   ]
  },
  {
   "cell_type": "markdown",
   "id": "da198d06",
   "metadata": {},
   "source": [
    "#### 토큰화"
   ]
  },
  {
   "cell_type": "code",
   "execution_count": 3,
   "id": "04dae112",
   "metadata": {},
   "outputs": [],
   "source": [
    "tok = tensorflow.keras.preprocessing.text.Tokenizer()"
   ]
  },
  {
   "cell_type": "code",
   "execution_count": 4,
   "id": "1070b671",
   "metadata": {},
   "outputs": [],
   "source": [
    "tok.fit_on_texts(df[0])\n",
    "seq = tok.texts_to_sequences(df[0])"
   ]
  },
  {
   "cell_type": "code",
   "execution_count": 5,
   "id": "8263bc49",
   "metadata": {},
   "outputs": [
    {
     "data": {
      "text/plain": [
       "'So there is no way for me to plug it in here in the US unless I go by a converter.'"
      ]
     },
     "execution_count": 5,
     "metadata": {},
     "output_type": "execute_result"
    }
   ],
   "source": [
    "df.iloc[0, 0]"
   ]
  },
  {
   "cell_type": "markdown",
   "id": "1577d3ed",
   "metadata": {},
   "source": [
    "#### 텍스트의 시작과 끝을 나타내는 단어를 사전에 추가"
   ]
  },
  {
   "cell_type": "code",
   "execution_count": 6,
   "id": "a0bc6eed",
   "metadata": {},
   "outputs": [],
   "source": [
    "tok.word_index[\"<START>\"] = start = len(tok.word_index) + 1\n",
    "tok.index_word[start] = \"<START>\"\n",
    "\n",
    "tok.word_index[\"<END>\"] = end = len(tok.word_index) + 1\n",
    "tok.index_word[end] = \"<END>\""
   ]
  },
  {
   "cell_type": "code",
   "execution_count": 7,
   "id": "9f36c847",
   "metadata": {},
   "outputs": [],
   "source": [
    "# 시작과 끝을 모두 붙인 prev_seq\n",
    "# 끝 표시만 붙은 next_seq 생성\n",
    "\n",
    "prev_seq=[]\n",
    "next_seq=[]\n",
    "\n",
    "for s in seq:\n",
    "    prev_seq.append([start] + s + [end])\n",
    "    next_seq.append(s + [end])"
   ]
  },
  {
   "cell_type": "markdown",
   "id": "489ba398",
   "metadata": {},
   "source": [
    "#### 패딩"
   ]
  },
  {
   "cell_type": "code",
   "execution_count": 8,
   "id": "28c51c48",
   "metadata": {},
   "outputs": [],
   "source": [
    "max_len = max(len(s) for s in prev_seq)"
   ]
  },
  {
   "cell_type": "code",
   "execution_count": 9,
   "id": "28ed7a59",
   "metadata": {},
   "outputs": [],
   "source": [
    "from tensorflow.keras.preprocessing.sequence import pad_sequences"
   ]
  },
  {
   "cell_type": "code",
   "execution_count": 10,
   "id": "98777328",
   "metadata": {},
   "outputs": [],
   "source": [
    "# padding: 'pre'/'post', 각 시퀀스의 처음/끝을 패딩\n",
    "prev_pad = pad_sequences(prev_seq, max_len, padding='post')\n",
    "next_pad = pad_sequences(next_seq, max_len, padding='post')"
   ]
  },
  {
   "cell_type": "code",
   "execution_count": 11,
   "id": "7c707868",
   "metadata": {},
   "outputs": [
    {
     "data": {
      "text/plain": [
       "array([1879,   33,  117,    5,   53,  214,   11,   47,    8,  155,    4,\n",
       "         19,  337,   19,    1,  546,  416,    2,  241,  190,    6,  812,\n",
       "       1880,    0,    0,    0,    0,    0,    0,    0,    0,    0])"
      ]
     },
     "execution_count": 11,
     "metadata": {},
     "output_type": "execute_result"
    }
   ],
   "source": [
    "prev_pad[0]"
   ]
  },
  {
   "cell_type": "code",
   "execution_count": 12,
   "id": "2cf97555",
   "metadata": {},
   "outputs": [
    {
     "data": {
      "text/plain": [
       "array([  33,  117,    5,   53,  214,   11,   47,    8,  155,    4,   19,\n",
       "        337,   19,    1,  546,  416,    2,  241,  190,    6,  812, 1880,\n",
       "          0,    0,    0,    0,    0,    0,    0,    0,    0,    0])"
      ]
     },
     "execution_count": 12,
     "metadata": {},
     "output_type": "execute_result"
    }
   ],
   "source": [
    "next_pad[0]"
   ]
  },
  {
   "cell_type": "markdown",
   "id": "487e0fc9",
   "metadata": {},
   "source": [
    "### 모델 만들기"
   ]
  },
  {
   "cell_type": "code",
   "execution_count": 13,
   "id": "e1db3e18",
   "metadata": {},
   "outputs": [],
   "source": [
    "from sklearn.model_selection import train_test_split\n",
    "from keras.models import Sequential\n",
    "from keras.layers import Dense, Embedding, LSTM, TimeDistributed"
   ]
  },
  {
   "cell_type": "code",
   "execution_count": 14,
   "id": "f21db195",
   "metadata": {},
   "outputs": [],
   "source": [
    "X_train, X_test, y_train, y_test = train_test_split(prev_pad, next_pad, test_size=0.2, random_state=1234)"
   ]
  },
  {
   "cell_type": "code",
   "execution_count": 15,
   "id": "aa147837",
   "metadata": {},
   "outputs": [],
   "source": [
    "Num_words = len(tok.index_word)+1"
   ]
  },
  {
   "cell_type": "code",
   "execution_count": 16,
   "id": "114c5e23",
   "metadata": {},
   "outputs": [
    {
     "name": "stdout",
     "output_type": "stream",
     "text": [
      "Model: \"sequential\"\n",
      "_________________________________________________________________\n",
      " Layer (type)                Output Shape              Param #   \n",
      "=================================================================\n",
      " embedding (Embedding)       (None, 32, 8)             15048     \n",
      "                                                                 \n",
      " lstm (LSTM)                 (None, 32, 16)            1600      \n",
      "                                                                 \n",
      " time_distributed (TimeDistr  (None, 32, 1881)         31977     \n",
      " ibuted)                                                         \n",
      "                                                                 \n",
      "=================================================================\n",
      "Total params: 48,625\n",
      "Trainable params: 48,625\n",
      "Non-trainable params: 0\n",
      "_________________________________________________________________\n"
     ]
    }
   ],
   "source": [
    "rnn = Sequential()\n",
    "\n",
    "rnn.add(Embedding(input_dim=Num_words, output_dim=8, input_length=max_len, mask_zero=True))\n",
    "rnn.add(LSTM(16, return_sequences=True))  # 모든 입력에 대해 출력 산출 (기존에는 n개의 input에 최종 출력 레이어를 하나만 주었음)\n",
    "rnn.add(TimeDistributed(Dense(Num_words, activation='softmax'))) # 여러 출력이므로 softmax\n",
    "\n",
    "rnn.summary()"
   ]
  },
  {
   "cell_type": "markdown",
   "id": "619140fc",
   "metadata": {},
   "source": [
    "#### 출력 형태 맞추기\n",
    "---\n",
    "출력 형태가 (None, 32, 1881)인데 데이터는 (800, 32)형태이므로 차원이 맞지 않음.\n",
    "\n",
    "뒤에 1차원을 덧붙여 형태를 맞춰줌"
   ]
  },
  {
   "cell_type": "code",
   "execution_count": 17,
   "id": "d621ccb5",
   "metadata": {},
   "outputs": [],
   "source": [
    "import numpy as np"
   ]
  },
  {
   "cell_type": "code",
   "execution_count": 18,
   "id": "ef123238",
   "metadata": {},
   "outputs": [
    {
     "data": {
      "text/plain": [
       "(800, 32)"
      ]
     },
     "execution_count": 18,
     "metadata": {},
     "output_type": "execute_result"
    }
   ],
   "source": [
    "y_train.shape"
   ]
  },
  {
   "cell_type": "code",
   "execution_count": 19,
   "id": "cd74f4b6",
   "metadata": {},
   "outputs": [
    {
     "data": {
      "text/plain": [
       "(800, 32, 1)"
      ]
     },
     "execution_count": 19,
     "metadata": {},
     "output_type": "execute_result"
    }
   ],
   "source": [
    "y_train_dims = np.expand_dims(y_train, 2)\n",
    "y_train_dims.shape"
   ]
  },
  {
   "cell_type": "markdown",
   "id": "b3855279",
   "metadata": {},
   "source": [
    "### 학습하기"
   ]
  },
  {
   "cell_type": "code",
   "execution_count": 20,
   "id": "b157fb19",
   "metadata": {},
   "outputs": [],
   "source": [
    "from keras.optimizers import Adam"
   ]
  },
  {
   "cell_type": "code",
   "execution_count": 21,
   "id": "d69d96d4",
   "metadata": {},
   "outputs": [],
   "source": [
    "# TimeDistributed 쓰는 경우 sample_weight_mode 를 temporal로 줘야 함\n",
    "# 즉, 시간 단계별로 샘플 가중치를 줘야 할 때 (2D 가중치) temporal 사용\n",
    "rnn.compile(optimizer=Adam(learning_rate = 0.1), \n",
    "            loss='sparse_categorical_crossentropy',\n",
    "            metrics=['acc'], sample_weight_mode=\"temporal\")"
   ]
  },
  {
   "cell_type": "code",
   "execution_count": 23,
   "id": "4d19e393",
   "metadata": {
    "scrolled": true
   },
   "outputs": [
    {
     "name": "stdout",
     "output_type": "stream",
     "text": [
      "Epoch 1/10\n",
      "25/25 [==============================] - 4s 50ms/step - loss: 2.3438 - acc: 0.0840\n",
      "Epoch 2/10\n",
      "25/25 [==============================] - 1s 51ms/step - loss: 1.9795 - acc: 0.1783\n",
      "Epoch 3/10\n",
      "25/25 [==============================] - 1s 52ms/step - loss: 1.8518 - acc: 0.1943\n",
      "Epoch 4/10\n",
      "25/25 [==============================] - 1s 52ms/step - loss: 1.7619 - acc: 0.2070\n",
      "Epoch 5/10\n",
      "25/25 [==============================] - 1s 50ms/step - loss: 1.6839 - acc: 0.2280\n",
      "Epoch 6/10\n",
      "25/25 [==============================] - 1s 49ms/step - loss: 1.6155 - acc: 0.2473\n",
      "Epoch 7/10\n",
      "25/25 [==============================] - 1s 56ms/step - loss: 1.5603 - acc: 0.2548\n",
      "Epoch 8/10\n",
      "25/25 [==============================] - 2s 95ms/step - loss: 1.5047 - acc: 0.2675\n",
      "Epoch 9/10\n",
      "25/25 [==============================] - 2s 61ms/step - loss: 1.4637 - acc: 0.2731\n",
      "Epoch 10/10\n",
      "25/25 [==============================] - 1s 50ms/step - loss: 1.4261 - acc: 0.2825\n"
     ]
    },
    {
     "data": {
      "text/plain": [
       "<keras.callbacks.History at 0x2100e949a00>"
      ]
     },
     "execution_count": 23,
     "metadata": {},
     "output_type": "execute_result"
    }
   ],
   "source": [
    "rnn.fit(X_train, y_train_dims, epochs=10)"
   ]
  },
  {
   "cell_type": "code",
   "execution_count": 24,
   "id": "fa8b0d24",
   "metadata": {},
   "outputs": [
    {
     "data": {
      "text/plain": [
       "(800, 32)"
      ]
     },
     "execution_count": 24,
     "metadata": {},
     "output_type": "execute_result"
    }
   ],
   "source": [
    "y_train.shape"
   ]
  },
  {
   "cell_type": "markdown",
   "id": "0947a9a8",
   "metadata": {},
   "source": [
    "## 생성 모델을 바탕으로 다음 단어 예측하기"
   ]
  },
  {
   "cell_type": "markdown",
   "id": "d5e00b2e",
   "metadata": {},
   "source": [
    "#### 예측값 사전 확인"
   ]
  },
  {
   "cell_type": "code",
   "execution_count": 25,
   "id": "27ea9936",
   "metadata": {},
   "outputs": [
    {
     "data": {
      "text/plain": [
       "['<START>', 'so', 'there', 'is', 'no', 'way', 'for', 'me', 'to', 'plug']"
      ]
     },
     "execution_count": 25,
     "metadata": {},
     "output_type": "execute_result"
    }
   ],
   "source": [
    "[tok.index_word[i] for i in prev_seq[0][:10]]"
   ]
  },
  {
   "cell_type": "code",
   "execution_count": 26,
   "id": "d5b0b627",
   "metadata": {},
   "outputs": [
    {
     "data": {
      "text/plain": [
       "'it'"
      ]
     },
     "execution_count": 26,
     "metadata": {},
     "output_type": "execute_result"
    }
   ],
   "source": [
    "i = prev_seq[0][10]\n",
    "tok.index_word[i]"
   ]
  },
  {
   "cell_type": "markdown",
   "id": "db96de5a",
   "metadata": {},
   "source": [
    "#### RNN 활용 예측"
   ]
  },
  {
   "cell_type": "code",
   "execution_count": 27,
   "id": "1210efc6",
   "metadata": {},
   "outputs": [],
   "source": [
    "new_sentence = [prev_seq[0][:10]]\n",
    "new_pad = pad_sequences(new_sentence, max_len, padding='post')"
   ]
  },
  {
   "cell_type": "code",
   "execution_count": 28,
   "id": "9b989842",
   "metadata": {},
   "outputs": [
    {
     "name": "stdout",
     "output_type": "stream",
     "text": [
      "1/1 [==============================] - 1s 1s/step\n"
     ]
    },
    {
     "data": {
      "text/plain": [
       "(1, 32, 1881)"
      ]
     },
     "execution_count": 28,
     "metadata": {},
     "output_type": "execute_result"
    }
   ],
   "source": [
    "next_words = rnn.predict(new_pad)\n",
    "next_words.shape"
   ]
  },
  {
   "cell_type": "code",
   "execution_count": 30,
   "id": "2d61c73d",
   "metadata": {},
   "outputs": [
    {
     "data": {
      "text/plain": [
       "4"
      ]
     },
     "execution_count": 30,
     "metadata": {},
     "output_type": "execute_result"
    }
   ],
   "source": [
    "next_words[0, 10].argmax()"
   ]
  },
  {
   "cell_type": "code",
   "execution_count": 31,
   "id": "92b7b506",
   "metadata": {},
   "outputs": [
    {
     "data": {
      "text/plain": [
       "'it'"
      ]
     },
     "execution_count": 31,
     "metadata": {},
     "output_type": "execute_result"
    }
   ],
   "source": [
    "tok.index_word[4]"
   ]
  },
  {
   "cell_type": "code",
   "execution_count": 32,
   "id": "d0d2d507",
   "metadata": {},
   "outputs": [
    {
     "name": "stdout",
     "output_type": "stream",
     "text": [
      "1/1 [==============================] - 0s 85ms/step\n",
      "i\n",
      "1/1 [==============================] - 0s 79ms/step\n",
      "have\n",
      "1/1 [==============================] - 0s 34ms/step\n",
      "had\n",
      "1/1 [==============================] - 0s 37ms/step\n",
      "to\n",
      "1/1 [==============================] - 0s 33ms/step\n",
      "use\n",
      "1/1 [==============================] - 0s 35ms/step\n",
      "<END>\n"
     ]
    }
   ],
   "source": [
    "new_sentence = [[start]]\n",
    "new_pad = pad_sequences(new_sentence, max_len, padding='post')\n",
    "\n",
    "for i in range(max_len - 1):\n",
    "    \n",
    "    next_words = rnn.predict(new_pad)  # 예측\n",
    "    word = next_words[0, i].argmax()   # 가장 확률이 높은 단어 선정\n",
    "    print(tok.index_word[word])        # 단어 출력\n",
    "    new_pad[0, i + 1] = word           # 선정 단어를 추가\n",
    "    \n",
    "    if word == end:                   # 문장이 끝나면 중단\n",
    "        break"
   ]
  },
  {
   "cell_type": "code",
   "execution_count": 33,
   "id": "747d10a7",
   "metadata": {},
   "outputs": [],
   "source": [
    "import numpy.random"
   ]
  },
  {
   "cell_type": "code",
   "execution_count": 36,
   "id": "eb78bfa5",
   "metadata": {},
   "outputs": [
    {
     "name": "stdout",
     "output_type": "stream",
     "text": [
      "1/1 [==============================] - 0s 41ms/step\n",
      "i\n",
      "1/1 [==============================] - 0s 43ms/step\n",
      "told\n",
      "1/1 [==============================] - 0s 35ms/step\n",
      "extra\n",
      "1/1 [==============================] - 0s 37ms/step\n",
      "years\n",
      "1/1 [==============================] - 0s 42ms/step\n",
      "when\n",
      "1/1 [==============================] - 0s 37ms/step\n",
      "no\n",
      "1/1 [==============================] - 0s 42ms/step\n",
      "do\n",
      "1/1 [==============================] - 0s 17ms/step\n",
      "but\n",
      "1/1 [==============================] - 0s 17ms/step\n",
      "any\n",
      "1/1 [==============================] - 0s 18ms/step\n",
      "while\n",
      "1/1 [==============================] - 0s 18ms/step\n",
      "it's\n",
      "1/1 [==============================] - 0s 18ms/step\n",
      "makes\n",
      "1/1 [==============================] - 0s 18ms/step\n",
      "unacceptable\n",
      "1/1 [==============================] - 0s 19ms/step\n",
      "<END>\n"
     ]
    }
   ],
   "source": [
    "new_sentence = [[start]]\n",
    "new_pad = pad_sequences(new_sentence, max_len, padding='post')\n",
    "\n",
    "for i in range(max_len - 1):\n",
    "    next_words = rnn.predict(new_pad)\n",
    "\n",
    "    # 확률에 따라 단어를 무작위로 추출\n",
    "    word = numpy.random.choice(Num_words, p=next_words[0, i])\n",
    "\n",
    "    print(tok.index_word[word])\n",
    "    new_pad[0, i + 1] = word\n",
    "    if word == end:\n",
    "        break"
   ]
  }
 ],
 "metadata": {
  "kernelspec": {
   "display_name": "Python 3 (ipykernel)",
   "language": "python",
   "name": "python3"
  },
  "language_info": {
   "codemirror_mode": {
    "name": "ipython",
    "version": 3
   },
   "file_extension": ".py",
   "mimetype": "text/x-python",
   "name": "python",
   "nbconvert_exporter": "python",
   "pygments_lexer": "ipython3",
   "version": "3.9.12"
  }
 },
 "nbformat": 4,
 "nbformat_minor": 5
}
