{
  "nbformat": 4,
  "nbformat_minor": 0,
  "metadata": {
    "colab": {
      "name": "Python_0418_ex03.ipynb",
      "provenance": [],
      "collapsed_sections": [],
      "authorship_tag": "ABX9TyNQp/W2O7qHPgp2dZhA8m1o",
      "include_colab_link": true
    },
    "kernelspec": {
      "name": "python3",
      "display_name": "Python 3"
    },
    "language_info": {
      "name": "python"
    }
  },
  "cells": [
    {
      "cell_type": "markdown",
      "metadata": {
        "id": "view-in-github",
        "colab_type": "text"
      },
      "source": [
        "<a href=\"https://colab.research.google.com/github/ESJoGithub/PythonStudy/blob/main/Python_0418_ex03.ipynb\" target=\"_parent\"><img src=\"https://colab.research.google.com/assets/colab-badge.svg\" alt=\"Open In Colab\"/></a>"
      ]
    },
    {
      "cell_type": "markdown",
      "source": [
        "키보드로부터 숫자 N개를 입력받아\n",
        "#**평균, 분산, 표준편차 반환 함수 만들기**\n",
        "---\n",
        "함수에 입력된 숫자의 평균, 분산, 표준편차 출력 코드\n",
        "\n",
        "최소값 및 인덱스, 최대값 및 인덱스, 오름차순, 내림차순 출력 함수 만들기"
      ],
      "metadata": {
        "id": "W2R5kZz-3T2h"
      }
    },
    {
      "cell_type": "code",
      "source": [
        "print(\"평균, 분산, 표준편차를 구할 숫자를 띄어쓰기로 구분하여 입력해주세요: \")\n",
        "numbers = list(map(int, input().split()))\n",
        "print(\"-----\")\n",
        "\n",
        "def getAverage(list) :\n",
        "  sum = 0\n",
        "  for i in list :\n",
        "    sum += i\n",
        "  ave = sum/len(list)\n",
        "  return ave;\n",
        "average = getAverage(numbers)\n",
        "\n",
        "def printVariance(list) :\n",
        "  ave = getAverage(list)\n",
        "  sum = 0\n",
        "  for i in list :\n",
        "    sum += (i-ave)**2\n",
        "  vari = sum/len(list)\n",
        "  print(\"분산은 \", vari,\", 표준편차는 \",vari**(1/2), \"입니다.\")\n",
        "\n",
        "print(\"평균은 \", average, \"입니다.\")\n",
        "printVariance(numbers)\n",
        "mn = min(numbers)\n",
        "mni = numbers.index(mn)\n",
        "print(\"최대값은\", mn, \"최대값의 인덱스는\", mni, \"입니다.\")\n",
        "mx = max(numbers)\n",
        "mxi = numbers.index(mx)\n",
        "print(\"최대값은\", mx, \"최대값의 인덱스는\", mxi, \"입니다.\")\n",
        "\n",
        "numbers.sort()\n",
        "print(numbers)\n",
        "numbers.reverse()\n",
        "print(numbers)"
      ],
      "metadata": {
        "colab": {
          "base_uri": "https://localhost:8080/"
        },
        "id": "twUrmPv_Wswu",
        "outputId": "48e1fef6-7ed8-4093-a981-25289cdbd78d"
      },
      "execution_count": null,
      "outputs": [
        {
          "output_type": "stream",
          "name": "stdout",
          "text": [
            "평균, 분산, 표준편차를 구할 숫자를 띄어쓰기로 구분하여 입력해주세요: \n",
            "181 179 183 175 177\n",
            "-----\n",
            "평균은  179.0 입니다.\n",
            "분산은  8.0 , 표준편차는  2.8284271247461903 입니다.\n",
            "최대값은 175 최대값의 인덱스는 3 입니다.\n",
            "최대값은 183 최대값의 인덱스는 2 입니다.\n",
            "[175, 177, 179, 181, 183]\n",
            "[183, 181, 179, 177, 175]\n"
          ]
        }
      ]
    }
  ]
}