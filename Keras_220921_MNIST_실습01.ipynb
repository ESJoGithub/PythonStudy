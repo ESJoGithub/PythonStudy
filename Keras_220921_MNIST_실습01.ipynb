{
  "nbformat": 4,
  "nbformat_minor": 0,
  "metadata": {
    "colab": {
      "provenance": [],
      "collapsed_sections": [],
      "mount_file_id": "1DmK2zLLoX3sSbBpJuPT4kOGTz-S67O0A",
      "authorship_tag": "ABX9TyNhyUbg6b6SiJ7z3Vzm+SuJ",
      "include_colab_link": true
    },
    "kernelspec": {
      "name": "python3",
      "display_name": "Python 3"
    },
    "language_info": {
      "name": "python"
    }
  },
  "cells": [
    {
      "cell_type": "markdown",
      "metadata": {
        "id": "view-in-github",
        "colab_type": "text"
      },
      "source": [
        "<a href=\"https://colab.research.google.com/github/ESJoGithub/PythonStudy/blob/main/Keras_220921_MNIST_%EC%8B%A4%EC%8A%B501.ipynb\" target=\"_parent\"><img src=\"https://colab.research.google.com/assets/colab-badge.svg\" alt=\"Open In Colab\"/></a>"
      ]
    },
    {
      "cell_type": "code",
      "source": [
        "from google.colab import drive\n",
        "drive.mount('/content/drive')"
      ],
      "metadata": {
        "colab": {
          "base_uri": "https://localhost:8080/"
        },
        "id": "oxtO2zTTtPq3",
        "outputId": "4f7d215e-d0eb-43bd-e4d2-90bba2669970"
      },
      "execution_count": 1,
      "outputs": [
        {
          "output_type": "stream",
          "name": "stdout",
          "text": [
            "Mounted at /content/drive\n"
          ]
        }
      ]
    },
    {
      "cell_type": "code",
      "source": [
        "!ln -s /content/drive/MyDrive /mydrive"
      ],
      "metadata": {
        "id": "e2ZTrV_htIFl"
      },
      "execution_count": 2,
      "outputs": []
    },
    {
      "cell_type": "code",
      "source": [
        "%cd /mydrive"
      ],
      "metadata": {
        "colab": {
          "base_uri": "https://localhost:8080/"
        },
        "id": "B9ry3cBStVU1",
        "outputId": "ed5a487b-4f42-448f-cf3f-28ee0df8b6a7"
      },
      "execution_count": 3,
      "outputs": [
        {
          "output_type": "stream",
          "name": "stdout",
          "text": [
            "/content/drive/MyDrive\n"
          ]
        }
      ]
    },
    {
      "cell_type": "code",
      "source": [
        "!mkdir mnist"
      ],
      "metadata": {
        "id": "98FN5iLDtXqb",
        "colab": {
          "base_uri": "https://localhost:8080/"
        },
        "outputId": "0374e0fa-db6f-4cc2-c341-b2667f0a7da2"
      },
      "execution_count": 4,
      "outputs": [
        {
          "output_type": "stream",
          "name": "stdout",
          "text": [
            "mkdir: cannot create directory ‘mnist’: File exists\n"
          ]
        }
      ]
    },
    {
      "cell_type": "markdown",
      "source": [
        "## __KNN Layer 구조 변경 & 드롭아웃 일괄적용__\n",
        "---\n",
        "epoch수를 늘리고 callback함수를 넣되 patience 횟수를 키운다.\n",
        "\n",
        "SGD, adam, rmsprop 각 optimizer별 batch_size를 변경해볼 것"
      ],
      "metadata": {
        "id": "19CLRpWxwL5T"
      }
    },
    {
      "cell_type": "markdown",
      "source": [
        "### **1. Library Import**"
      ],
      "metadata": {
        "id": "9Tx44ggmYNsD"
      }
    },
    {
      "cell_type": "code",
      "source": [
        "from keras import datasets, layers, models                \n",
        "from tensorflow import keras                         # to_categorical 함수\n",
        "from tensorflow.keras.models import load_model\n",
        "from tensorflow.keras.callbacks import EarlyStopping, ModelCheckpoint\n",
        "\n",
        "import numpy as np\n",
        "import matplotlib.pyplot as plt\n",
        "import pandas as pd"
      ],
      "metadata": {
        "id": "UFco5dLCQBQF"
      },
      "execution_count": 5,
      "outputs": []
    },
    {
      "cell_type": "code",
      "source": [
        "(train_imgs, train_labels), (test_imgs, test_labels) = datasets.mnist.load_data()"
      ],
      "metadata": {
        "id": "rwcqMzdKTPwN",
        "colab": {
          "base_uri": "https://localhost:8080/"
        },
        "outputId": "3c7062a4-1e92-4228-9eea-7b5e2ac3b66b"
      },
      "execution_count": 6,
      "outputs": [
        {
          "output_type": "stream",
          "name": "stdout",
          "text": [
            "Downloading data from https://storage.googleapis.com/tensorflow/tf-keras-datasets/mnist.npz\n",
            "11493376/11490434 [==============================] - 0s 0us/step\n",
            "11501568/11490434 [==============================] - 0s 0us/step\n"
          ]
        }
      ]
    },
    {
      "cell_type": "markdown",
      "source": [
        "### **2. 데이터 확인 및 전처리**"
      ],
      "metadata": {
        "id": "vcIHfL7pYJps"
      }
    },
    {
      "cell_type": "code",
      "source": [
        "train_imgs = train_imgs/255.0\n",
        "test_imgs = test_imgs/255.0"
      ],
      "metadata": {
        "id": "w4IFaKuOYIfc"
      },
      "execution_count": 7,
      "outputs": []
    },
    {
      "cell_type": "code",
      "source": [
        "print(train_imgs.shape)\n",
        "print(test_imgs.shape)"
      ],
      "metadata": {
        "colab": {
          "base_uri": "https://localhost:8080/"
        },
        "id": "A9ujYrDMiRy1",
        "outputId": "773cf9a4-c070-4e10-d62b-ea48e229de35"
      },
      "execution_count": 8,
      "outputs": [
        {
          "output_type": "stream",
          "name": "stdout",
          "text": [
            "(60000, 28, 28)\n",
            "(10000, 28, 28)\n"
          ]
        }
      ]
    },
    {
      "cell_type": "code",
      "source": [
        "train_imgs = train_imgs.reshape((60000, 28, 28, 1))\n",
        "test_imgs = test_imgs.reshape((10000, 28, 28, 1))"
      ],
      "metadata": {
        "id": "5IGxhDfjiN7d"
      },
      "execution_count": 9,
      "outputs": []
    },
    {
      "cell_type": "code",
      "source": [
        "train_labels = keras.utils.to_categorical(train_labels, num_classes=10)\n",
        "test_labels = keras.utils.to_categorical(test_labels, num_classes=10)"
      ],
      "metadata": {
        "id": "ouDs40X-n_uw"
      },
      "execution_count": 10,
      "outputs": []
    },
    {
      "cell_type": "markdown",
      "source": [
        "### __모델 변경__\n",
        "\n",
        "---\n",
        "CNN 특성 및 MNIST 자료 특성을 고려할 때, 초기의 세부적인 데이터 정보보다 여러 필터를 거치고난 후의 구조적인 특징정보가 판단에 더 중요할 것이라고 가정하고 출력층에 가까울수록 필터 수를 점점 키워나가는 방식으로 수정\n",
        "\n",
        "Dropout 추가 (64-0.2, 128-0.5)\n",
        "epoch=100 EarlyStop patient = 10으로 키워서 진행해본다. "
      ],
      "metadata": {
        "id": "NTqxfKdbYvVL"
      }
    },
    {
      "cell_type": "markdown",
      "source": [
        "#### __1. batch_size default(32), 출력 직전층 activation='sigmoid', optimizer='SGD'__ "
      ],
      "metadata": {
        "id": "CMdQEIi7gG_d"
      }
    },
    {
      "cell_type": "code",
      "source": [
        "import keras"
      ],
      "metadata": {
        "id": "EtDrGU7LlR96"
      },
      "execution_count": 11,
      "outputs": []
    },
    {
      "cell_type": "code",
      "source": [
        "model_1 = keras.Sequential([\n",
        "  layers.Conv2D(32, (3, 3), activation='relu', input_shape=(28, 28, 1)),\n",
        "  layers.MaxPooling2D((2, 2)),\n",
        "  layers.Dropout(0.2),\n",
        "  layers.Conv2D(64, (3, 3), activation='relu'),\n",
        "  layers.Dropout(0.2),\n",
        "  layers.MaxPooling2D((2, 2)),\n",
        "  layers.Conv2D(128, (3, 3), activation='relu'),\n",
        "  layers.Dropout(0.5),\n",
        "  layers.Flatten(),\n",
        "  layers.Dense(64, activation = 'sigmoid'),\n",
        "  layers.Dense(10, activation = 'softmax')\n",
        "])\n",
        "model_1.summary()"
      ],
      "metadata": {
        "id": "LSy5b6TEYmJj",
        "colab": {
          "base_uri": "https://localhost:8080/"
        },
        "outputId": "03eb307c-1bb2-4987-e4ff-c0f2836fc592"
      },
      "execution_count": 12,
      "outputs": [
        {
          "output_type": "stream",
          "name": "stdout",
          "text": [
            "Model: \"sequential\"\n",
            "_________________________________________________________________\n",
            " Layer (type)                Output Shape              Param #   \n",
            "=================================================================\n",
            " conv2d (Conv2D)             (None, 26, 26, 32)        320       \n",
            "                                                                 \n",
            " max_pooling2d (MaxPooling2D  (None, 13, 13, 32)       0         \n",
            " )                                                               \n",
            "                                                                 \n",
            " dropout (Dropout)           (None, 13, 13, 32)        0         \n",
            "                                                                 \n",
            " conv2d_1 (Conv2D)           (None, 11, 11, 64)        18496     \n",
            "                                                                 \n",
            " dropout_1 (Dropout)         (None, 11, 11, 64)        0         \n",
            "                                                                 \n",
            " max_pooling2d_1 (MaxPooling  (None, 5, 5, 64)         0         \n",
            " 2D)                                                             \n",
            "                                                                 \n",
            " conv2d_2 (Conv2D)           (None, 3, 3, 128)         73856     \n",
            "                                                                 \n",
            " dropout_2 (Dropout)         (None, 3, 3, 128)         0         \n",
            "                                                                 \n",
            " flatten (Flatten)           (None, 1152)              0         \n",
            "                                                                 \n",
            " dense (Dense)               (None, 64)                73792     \n",
            "                                                                 \n",
            " dense_1 (Dense)             (None, 10)                650       \n",
            "                                                                 \n",
            "=================================================================\n",
            "Total params: 167,114\n",
            "Trainable params: 167,114\n",
            "Non-trainable params: 0\n",
            "_________________________________________________________________\n"
          ]
        }
      ]
    },
    {
      "cell_type": "code",
      "source": [
        "model_1.compile(optimizer=\"SGD\", loss=\"categorical_crossentropy\", metrics=[\"accuracy\"])"
      ],
      "metadata": {
        "id": "rIRHwKY3gm2w"
      },
      "execution_count": 13,
      "outputs": []
    },
    {
      "cell_type": "code",
      "source": [
        "es = EarlyStopping(monitor='val_loss', mode='min', verbose=1, patience=10)\n",
        "mc = ModelCheckpoint('mnist/model_1.h1', monitor='val_accuracy', mode='max', verbose=1, save_best_only=True)\n",
        "hist_1 = model_1.fit(train_imgs, train_labels, epochs=100, validation_split=0.2, callbacks=[es, mc])"
      ],
      "metadata": {
        "colab": {
          "base_uri": "https://localhost:8080/"
        },
        "id": "rmGRWjkknkZo",
        "outputId": "e7a18f47-3e49-4ffa-d0f5-fc99dfc55eb2"
      },
      "execution_count": 14,
      "outputs": [
        {
          "output_type": "stream",
          "name": "stdout",
          "text": [
            "Epoch 1/100\n",
            "1499/1500 [============================>.] - ETA: 0s - loss: 1.5040 - accuracy: 0.5489\n",
            "Epoch 1: val_accuracy improved from -inf to 0.86825, saving model to mnist/model_1.h1\n",
            "1500/1500 [==============================] - 22s 7ms/step - loss: 1.5035 - accuracy: 0.5490 - val_loss: 0.5832 - val_accuracy: 0.8683\n",
            "Epoch 2/100\n",
            "1493/1500 [============================>.] - ETA: 0s - loss: 0.5387 - accuracy: 0.8553\n",
            "Epoch 2: val_accuracy improved from 0.86825 to 0.91950, saving model to mnist/model_1.h1\n",
            "1500/1500 [==============================] - 7s 5ms/step - loss: 0.5383 - accuracy: 0.8553 - val_loss: 0.3125 - val_accuracy: 0.9195\n",
            "Epoch 3/100\n",
            "1498/1500 [============================>.] - ETA: 0s - loss: 0.3553 - accuracy: 0.9011\n",
            "Epoch 3: val_accuracy improved from 0.91950 to 0.94292, saving model to mnist/model_1.h1\n",
            "1500/1500 [==============================] - 8s 6ms/step - loss: 0.3554 - accuracy: 0.9011 - val_loss: 0.2134 - val_accuracy: 0.9429\n",
            "Epoch 4/100\n",
            "1499/1500 [============================>.] - ETA: 0s - loss: 0.2736 - accuracy: 0.9216\n",
            "Epoch 4: val_accuracy improved from 0.94292 to 0.95517, saving model to mnist/model_1.h1\n",
            "1500/1500 [==============================] - 8s 5ms/step - loss: 0.2735 - accuracy: 0.9217 - val_loss: 0.1645 - val_accuracy: 0.9552\n",
            "Epoch 5/100\n",
            "1494/1500 [============================>.] - ETA: 0s - loss: 0.2267 - accuracy: 0.9338\n",
            "Epoch 5: val_accuracy improved from 0.95517 to 0.95892, saving model to mnist/model_1.h1\n",
            "1500/1500 [==============================] - 8s 5ms/step - loss: 0.2268 - accuracy: 0.9337 - val_loss: 0.1437 - val_accuracy: 0.9589\n",
            "Epoch 6/100\n",
            "1492/1500 [============================>.] - ETA: 0s - loss: 0.1982 - accuracy: 0.9426\n",
            "Epoch 6: val_accuracy improved from 0.95892 to 0.96600, saving model to mnist/model_1.h1\n",
            "1500/1500 [==============================] - 7s 5ms/step - loss: 0.1980 - accuracy: 0.9427 - val_loss: 0.1212 - val_accuracy: 0.9660\n",
            "Epoch 7/100\n",
            "1488/1500 [============================>.] - ETA: 0s - loss: 0.1752 - accuracy: 0.9488\n",
            "Epoch 7: val_accuracy improved from 0.96600 to 0.96900, saving model to mnist/model_1.h1\n",
            "1500/1500 [==============================] - 7s 5ms/step - loss: 0.1752 - accuracy: 0.9488 - val_loss: 0.1114 - val_accuracy: 0.9690\n",
            "Epoch 8/100\n",
            "1490/1500 [============================>.] - ETA: 0s - loss: 0.1614 - accuracy: 0.9520\n",
            "Epoch 8: val_accuracy improved from 0.96900 to 0.97192, saving model to mnist/model_1.h1\n",
            "1500/1500 [==============================] - 7s 5ms/step - loss: 0.1612 - accuracy: 0.9520 - val_loss: 0.0987 - val_accuracy: 0.9719\n",
            "Epoch 9/100\n",
            "1494/1500 [============================>.] - ETA: 0s - loss: 0.1469 - accuracy: 0.9562\n",
            "Epoch 9: val_accuracy improved from 0.97192 to 0.97583, saving model to mnist/model_1.h1\n",
            "1500/1500 [==============================] - 8s 5ms/step - loss: 0.1467 - accuracy: 0.9562 - val_loss: 0.0893 - val_accuracy: 0.9758\n",
            "Epoch 10/100\n",
            "1488/1500 [============================>.] - ETA: 0s - loss: 0.1365 - accuracy: 0.9600\n",
            "Epoch 10: val_accuracy improved from 0.97583 to 0.97592, saving model to mnist/model_1.h1\n",
            "1500/1500 [==============================] - 7s 5ms/step - loss: 0.1368 - accuracy: 0.9599 - val_loss: 0.0845 - val_accuracy: 0.9759\n",
            "Epoch 11/100\n",
            "1496/1500 [============================>.] - ETA: 0s - loss: 0.1274 - accuracy: 0.9619\n",
            "Epoch 11: val_accuracy improved from 0.97592 to 0.97675, saving model to mnist/model_1.h1\n",
            "1500/1500 [==============================] - 7s 5ms/step - loss: 0.1273 - accuracy: 0.9618 - val_loss: 0.0788 - val_accuracy: 0.9768\n",
            "Epoch 12/100\n",
            "1500/1500 [==============================] - ETA: 0s - loss: 0.1194 - accuracy: 0.9641\n",
            "Epoch 12: val_accuracy improved from 0.97675 to 0.97692, saving model to mnist/model_1.h1\n",
            "1500/1500 [==============================] - 7s 5ms/step - loss: 0.1194 - accuracy: 0.9641 - val_loss: 0.0779 - val_accuracy: 0.9769\n",
            "Epoch 13/100\n",
            "1497/1500 [============================>.] - ETA: 0s - loss: 0.1135 - accuracy: 0.9661\n",
            "Epoch 13: val_accuracy improved from 0.97692 to 0.97875, saving model to mnist/model_1.h1\n",
            "1500/1500 [==============================] - 8s 5ms/step - loss: 0.1134 - accuracy: 0.9662 - val_loss: 0.0711 - val_accuracy: 0.9787\n",
            "Epoch 14/100\n",
            "1488/1500 [============================>.] - ETA: 0s - loss: 0.1052 - accuracy: 0.9683\n",
            "Epoch 14: val_accuracy improved from 0.97875 to 0.98083, saving model to mnist/model_1.h1\n",
            "1500/1500 [==============================] - 7s 5ms/step - loss: 0.1052 - accuracy: 0.9683 - val_loss: 0.0685 - val_accuracy: 0.9808\n",
            "Epoch 15/100\n",
            "1500/1500 [==============================] - ETA: 0s - loss: 0.1028 - accuracy: 0.9691\n",
            "Epoch 15: val_accuracy did not improve from 0.98083\n",
            "1500/1500 [==============================] - 7s 5ms/step - loss: 0.1028 - accuracy: 0.9691 - val_loss: 0.0654 - val_accuracy: 0.9807\n",
            "Epoch 16/100\n",
            "1494/1500 [============================>.] - ETA: 0s - loss: 0.0979 - accuracy: 0.9700\n",
            "Epoch 16: val_accuracy improved from 0.98083 to 0.98167, saving model to mnist/model_1.h1\n",
            "1500/1500 [==============================] - 8s 5ms/step - loss: 0.0982 - accuracy: 0.9699 - val_loss: 0.0616 - val_accuracy: 0.9817\n",
            "Epoch 17/100\n",
            "1487/1500 [============================>.] - ETA: 0s - loss: 0.0940 - accuracy: 0.9719\n",
            "Epoch 17: val_accuracy did not improve from 0.98167\n",
            "1500/1500 [==============================] - 6s 4ms/step - loss: 0.0940 - accuracy: 0.9719 - val_loss: 0.0606 - val_accuracy: 0.9815\n",
            "Epoch 18/100\n",
            "1491/1500 [============================>.] - ETA: 0s - loss: 0.0901 - accuracy: 0.9729\n",
            "Epoch 18: val_accuracy improved from 0.98167 to 0.98225, saving model to mnist/model_1.h1\n",
            "1500/1500 [==============================] - 7s 5ms/step - loss: 0.0903 - accuracy: 0.9728 - val_loss: 0.0574 - val_accuracy: 0.9822\n",
            "Epoch 19/100\n",
            "1498/1500 [============================>.] - ETA: 0s - loss: 0.0861 - accuracy: 0.9735\n",
            "Epoch 19: val_accuracy improved from 0.98225 to 0.98250, saving model to mnist/model_1.h1\n",
            "1500/1500 [==============================] - 8s 5ms/step - loss: 0.0862 - accuracy: 0.9735 - val_loss: 0.0565 - val_accuracy: 0.9825\n",
            "Epoch 20/100\n",
            "1488/1500 [============================>.] - ETA: 0s - loss: 0.0834 - accuracy: 0.9741\n",
            "Epoch 20: val_accuracy improved from 0.98250 to 0.98350, saving model to mnist/model_1.h1\n",
            "1500/1500 [==============================] - 8s 5ms/step - loss: 0.0836 - accuracy: 0.9741 - val_loss: 0.0546 - val_accuracy: 0.9835\n",
            "Epoch 21/100\n",
            "1486/1500 [============================>.] - ETA: 0s - loss: 0.0806 - accuracy: 0.9751\n",
            "Epoch 21: val_accuracy improved from 0.98350 to 0.98475, saving model to mnist/model_1.h1\n",
            "1500/1500 [==============================] - 7s 5ms/step - loss: 0.0805 - accuracy: 0.9751 - val_loss: 0.0527 - val_accuracy: 0.9847\n",
            "Epoch 22/100\n",
            "1494/1500 [============================>.] - ETA: 0s - loss: 0.0781 - accuracy: 0.9763\n",
            "Epoch 22: val_accuracy did not improve from 0.98475\n",
            "1500/1500 [==============================] - 6s 4ms/step - loss: 0.0780 - accuracy: 0.9763 - val_loss: 0.0534 - val_accuracy: 0.9843\n",
            "Epoch 23/100\n",
            "1490/1500 [============================>.] - ETA: 0s - loss: 0.0756 - accuracy: 0.9764\n",
            "Epoch 23: val_accuracy improved from 0.98475 to 0.98575, saving model to mnist/model_1.h1\n",
            "1500/1500 [==============================] - 7s 5ms/step - loss: 0.0757 - accuracy: 0.9764 - val_loss: 0.0510 - val_accuracy: 0.9858\n",
            "Epoch 24/100\n",
            "1493/1500 [============================>.] - ETA: 0s - loss: 0.0747 - accuracy: 0.9771\n",
            "Epoch 24: val_accuracy improved from 0.98575 to 0.98592, saving model to mnist/model_1.h1\n",
            "1500/1500 [==============================] - 8s 5ms/step - loss: 0.0747 - accuracy: 0.9771 - val_loss: 0.0486 - val_accuracy: 0.9859\n",
            "Epoch 25/100\n",
            "1496/1500 [============================>.] - ETA: 0s - loss: 0.0700 - accuracy: 0.9786\n",
            "Epoch 25: val_accuracy improved from 0.98592 to 0.98642, saving model to mnist/model_1.h1\n",
            "1500/1500 [==============================] - 7s 5ms/step - loss: 0.0701 - accuracy: 0.9786 - val_loss: 0.0482 - val_accuracy: 0.9864\n",
            "Epoch 26/100\n",
            "1495/1500 [============================>.] - ETA: 0s - loss: 0.0696 - accuracy: 0.9785\n",
            "Epoch 26: val_accuracy did not improve from 0.98642\n",
            "1500/1500 [==============================] - 7s 4ms/step - loss: 0.0696 - accuracy: 0.9786 - val_loss: 0.0472 - val_accuracy: 0.9861\n",
            "Epoch 27/100\n",
            "1498/1500 [============================>.] - ETA: 0s - loss: 0.0657 - accuracy: 0.9797\n",
            "Epoch 27: val_accuracy improved from 0.98642 to 0.98717, saving model to mnist/model_1.h1\n",
            "1500/1500 [==============================] - 8s 5ms/step - loss: 0.0658 - accuracy: 0.9797 - val_loss: 0.0472 - val_accuracy: 0.9872\n",
            "Epoch 28/100\n",
            "1499/1500 [============================>.] - ETA: 0s - loss: 0.0665 - accuracy: 0.9795\n",
            "Epoch 28: val_accuracy did not improve from 0.98717\n",
            "1500/1500 [==============================] - 7s 4ms/step - loss: 0.0665 - accuracy: 0.9795 - val_loss: 0.0480 - val_accuracy: 0.9862\n",
            "Epoch 29/100\n",
            "1490/1500 [============================>.] - ETA: 0s - loss: 0.0645 - accuracy: 0.9802\n",
            "Epoch 29: val_accuracy improved from 0.98717 to 0.98733, saving model to mnist/model_1.h1\n",
            "1500/1500 [==============================] - 7s 5ms/step - loss: 0.0644 - accuracy: 0.9802 - val_loss: 0.0454 - val_accuracy: 0.9873\n",
            "Epoch 30/100\n",
            "1492/1500 [============================>.] - ETA: 0s - loss: 0.0630 - accuracy: 0.9809\n",
            "Epoch 30: val_accuracy did not improve from 0.98733\n",
            "1500/1500 [==============================] - 7s 4ms/step - loss: 0.0631 - accuracy: 0.9808 - val_loss: 0.0478 - val_accuracy: 0.9859\n",
            "Epoch 31/100\n",
            "1487/1500 [============================>.] - ETA: 0s - loss: 0.0603 - accuracy: 0.9809\n",
            "Epoch 31: val_accuracy improved from 0.98733 to 0.98758, saving model to mnist/model_1.h1\n",
            "1500/1500 [==============================] - 7s 5ms/step - loss: 0.0605 - accuracy: 0.9809 - val_loss: 0.0440 - val_accuracy: 0.9876\n",
            "Epoch 32/100\n",
            "1499/1500 [============================>.] - ETA: 0s - loss: 0.0615 - accuracy: 0.9811\n",
            "Epoch 32: val_accuracy improved from 0.98758 to 0.98858, saving model to mnist/model_1.h1\n",
            "1500/1500 [==============================] - 8s 5ms/step - loss: 0.0615 - accuracy: 0.9811 - val_loss: 0.0424 - val_accuracy: 0.9886\n",
            "Epoch 33/100\n",
            "1500/1500 [==============================] - ETA: 0s - loss: 0.0580 - accuracy: 0.9820\n",
            "Epoch 33: val_accuracy did not improve from 0.98858\n",
            "1500/1500 [==============================] - 6s 4ms/step - loss: 0.0580 - accuracy: 0.9820 - val_loss: 0.0453 - val_accuracy: 0.9868\n",
            "Epoch 34/100\n",
            "1492/1500 [============================>.] - ETA: 0s - loss: 0.0568 - accuracy: 0.9829\n",
            "Epoch 34: val_accuracy did not improve from 0.98858\n",
            "1500/1500 [==============================] - 6s 4ms/step - loss: 0.0568 - accuracy: 0.9829 - val_loss: 0.0431 - val_accuracy: 0.9872\n",
            "Epoch 35/100\n",
            "1490/1500 [============================>.] - ETA: 0s - loss: 0.0562 - accuracy: 0.9829\n",
            "Epoch 35: val_accuracy did not improve from 0.98858\n",
            "1500/1500 [==============================] - 6s 4ms/step - loss: 0.0563 - accuracy: 0.9828 - val_loss: 0.0445 - val_accuracy: 0.9872\n",
            "Epoch 36/100\n",
            "1495/1500 [============================>.] - ETA: 0s - loss: 0.0561 - accuracy: 0.9829\n",
            "Epoch 36: val_accuracy did not improve from 0.98858\n",
            "1500/1500 [==============================] - 6s 4ms/step - loss: 0.0561 - accuracy: 0.9829 - val_loss: 0.0416 - val_accuracy: 0.9882\n",
            "Epoch 37/100\n",
            "1487/1500 [============================>.] - ETA: 0s - loss: 0.0537 - accuracy: 0.9835\n",
            "Epoch 37: val_accuracy improved from 0.98858 to 0.98875, saving model to mnist/model_1.h1\n",
            "1500/1500 [==============================] - 8s 5ms/step - loss: 0.0535 - accuracy: 0.9835 - val_loss: 0.0396 - val_accuracy: 0.9887\n",
            "Epoch 38/100\n",
            "1492/1500 [============================>.] - ETA: 0s - loss: 0.0539 - accuracy: 0.9836\n",
            "Epoch 38: val_accuracy did not improve from 0.98875\n",
            "1500/1500 [==============================] - 6s 4ms/step - loss: 0.0538 - accuracy: 0.9836 - val_loss: 0.0400 - val_accuracy: 0.9887\n",
            "Epoch 39/100\n",
            "1496/1500 [============================>.] - ETA: 0s - loss: 0.0522 - accuracy: 0.9844\n",
            "Epoch 39: val_accuracy improved from 0.98875 to 0.98900, saving model to mnist/model_1.h1\n",
            "1500/1500 [==============================] - 7s 5ms/step - loss: 0.0522 - accuracy: 0.9843 - val_loss: 0.0394 - val_accuracy: 0.9890\n",
            "Epoch 40/100\n",
            "1494/1500 [============================>.] - ETA: 0s - loss: 0.0509 - accuracy: 0.9839\n",
            "Epoch 40: val_accuracy did not improve from 0.98900\n",
            "1500/1500 [==============================] - 6s 4ms/step - loss: 0.0509 - accuracy: 0.9839 - val_loss: 0.0392 - val_accuracy: 0.9887\n",
            "Epoch 41/100\n",
            "1492/1500 [============================>.] - ETA: 0s - loss: 0.0518 - accuracy: 0.9845\n",
            "Epoch 41: val_accuracy improved from 0.98900 to 0.98917, saving model to mnist/model_1.h1\n",
            "1500/1500 [==============================] - 8s 5ms/step - loss: 0.0517 - accuracy: 0.9845 - val_loss: 0.0389 - val_accuracy: 0.9892\n",
            "Epoch 42/100\n",
            "1500/1500 [==============================] - ETA: 0s - loss: 0.0493 - accuracy: 0.9845\n",
            "Epoch 42: val_accuracy did not improve from 0.98917\n",
            "1500/1500 [==============================] - 7s 4ms/step - loss: 0.0493 - accuracy: 0.9845 - val_loss: 0.0403 - val_accuracy: 0.9887\n",
            "Epoch 43/100\n",
            "1497/1500 [============================>.] - ETA: 0s - loss: 0.0482 - accuracy: 0.9856\n",
            "Epoch 43: val_accuracy improved from 0.98917 to 0.98958, saving model to mnist/model_1.h1\n",
            "1500/1500 [==============================] - 8s 5ms/step - loss: 0.0482 - accuracy: 0.9856 - val_loss: 0.0383 - val_accuracy: 0.9896\n",
            "Epoch 44/100\n",
            "1486/1500 [============================>.] - ETA: 0s - loss: 0.0478 - accuracy: 0.9851\n",
            "Epoch 44: val_accuracy did not improve from 0.98958\n",
            "1500/1500 [==============================] - 6s 4ms/step - loss: 0.0478 - accuracy: 0.9851 - val_loss: 0.0388 - val_accuracy: 0.9890\n",
            "Epoch 45/100\n",
            "1495/1500 [============================>.] - ETA: 0s - loss: 0.0476 - accuracy: 0.9853\n",
            "Epoch 45: val_accuracy did not improve from 0.98958\n",
            "1500/1500 [==============================] - 6s 4ms/step - loss: 0.0477 - accuracy: 0.9853 - val_loss: 0.0381 - val_accuracy: 0.9890\n",
            "Epoch 46/100\n",
            "1496/1500 [============================>.] - ETA: 0s - loss: 0.0465 - accuracy: 0.9856\n",
            "Epoch 46: val_accuracy did not improve from 0.98958\n",
            "1500/1500 [==============================] - 6s 4ms/step - loss: 0.0465 - accuracy: 0.9856 - val_loss: 0.0376 - val_accuracy: 0.9893\n",
            "Epoch 47/100\n",
            "1500/1500 [==============================] - ETA: 0s - loss: 0.0466 - accuracy: 0.9855\n",
            "Epoch 47: val_accuracy did not improve from 0.98958\n",
            "1500/1500 [==============================] - 6s 4ms/step - loss: 0.0466 - accuracy: 0.9855 - val_loss: 0.0373 - val_accuracy: 0.9892\n",
            "Epoch 48/100\n",
            "1488/1500 [============================>.] - ETA: 0s - loss: 0.0440 - accuracy: 0.9865\n",
            "Epoch 48: val_accuracy improved from 0.98958 to 0.98967, saving model to mnist/model_1.h1\n",
            "1500/1500 [==============================] - 7s 5ms/step - loss: 0.0440 - accuracy: 0.9865 - val_loss: 0.0382 - val_accuracy: 0.9897\n",
            "Epoch 49/100\n",
            "1498/1500 [============================>.] - ETA: 0s - loss: 0.0426 - accuracy: 0.9869\n",
            "Epoch 49: val_accuracy did not improve from 0.98967\n",
            "1500/1500 [==============================] - 6s 4ms/step - loss: 0.0426 - accuracy: 0.9869 - val_loss: 0.0366 - val_accuracy: 0.9892\n",
            "Epoch 50/100\n",
            "1486/1500 [============================>.] - ETA: 0s - loss: 0.0430 - accuracy: 0.9866\n",
            "Epoch 50: val_accuracy improved from 0.98967 to 0.98992, saving model to mnist/model_1.h1\n",
            "1500/1500 [==============================] - 7s 5ms/step - loss: 0.0431 - accuracy: 0.9865 - val_loss: 0.0357 - val_accuracy: 0.9899\n",
            "Epoch 51/100\n",
            "1496/1500 [============================>.] - ETA: 0s - loss: 0.0435 - accuracy: 0.9864\n",
            "Epoch 51: val_accuracy did not improve from 0.98992\n",
            "1500/1500 [==============================] - 6s 4ms/step - loss: 0.0435 - accuracy: 0.9864 - val_loss: 0.0355 - val_accuracy: 0.9898\n",
            "Epoch 52/100\n",
            "1495/1500 [============================>.] - ETA: 0s - loss: 0.0435 - accuracy: 0.9856\n",
            "Epoch 52: val_accuracy did not improve from 0.98992\n",
            "1500/1500 [==============================] - 6s 4ms/step - loss: 0.0434 - accuracy: 0.9857 - val_loss: 0.0358 - val_accuracy: 0.9897\n",
            "Epoch 53/100\n",
            "1489/1500 [============================>.] - ETA: 0s - loss: 0.0410 - accuracy: 0.9871\n",
            "Epoch 53: val_accuracy did not improve from 0.98992\n",
            "1500/1500 [==============================] - 7s 4ms/step - loss: 0.0407 - accuracy: 0.9872 - val_loss: 0.0357 - val_accuracy: 0.9899\n",
            "Epoch 54/100\n",
            "1496/1500 [============================>.] - ETA: 0s - loss: 0.0410 - accuracy: 0.9874\n",
            "Epoch 54: val_accuracy improved from 0.98992 to 0.99017, saving model to mnist/model_1.h1\n",
            "1500/1500 [==============================] - 8s 5ms/step - loss: 0.0412 - accuracy: 0.9874 - val_loss: 0.0363 - val_accuracy: 0.9902\n",
            "Epoch 55/100\n",
            "1496/1500 [============================>.] - ETA: 0s - loss: 0.0407 - accuracy: 0.9877\n",
            "Epoch 55: val_accuracy improved from 0.99017 to 0.99025, saving model to mnist/model_1.h1\n",
            "1500/1500 [==============================] - 7s 5ms/step - loss: 0.0407 - accuracy: 0.9877 - val_loss: 0.0350 - val_accuracy: 0.9902\n",
            "Epoch 56/100\n",
            "1490/1500 [============================>.] - ETA: 0s - loss: 0.0405 - accuracy: 0.9873\n",
            "Epoch 56: val_accuracy did not improve from 0.99025\n",
            "1500/1500 [==============================] - 7s 4ms/step - loss: 0.0404 - accuracy: 0.9874 - val_loss: 0.0362 - val_accuracy: 0.9898\n",
            "Epoch 57/100\n",
            "1496/1500 [============================>.] - ETA: 0s - loss: 0.0403 - accuracy: 0.9874\n",
            "Epoch 57: val_accuracy improved from 0.99025 to 0.99058, saving model to mnist/model_1.h1\n",
            "1500/1500 [==============================] - 8s 5ms/step - loss: 0.0403 - accuracy: 0.9874 - val_loss: 0.0346 - val_accuracy: 0.9906\n",
            "Epoch 58/100\n",
            "1488/1500 [============================>.] - ETA: 0s - loss: 0.0407 - accuracy: 0.9874\n",
            "Epoch 58: val_accuracy did not improve from 0.99058\n",
            "1500/1500 [==============================] - 7s 4ms/step - loss: 0.0407 - accuracy: 0.9874 - val_loss: 0.0352 - val_accuracy: 0.9901\n",
            "Epoch 59/100\n",
            "1496/1500 [============================>.] - ETA: 0s - loss: 0.0380 - accuracy: 0.9882\n",
            "Epoch 59: val_accuracy did not improve from 0.99058\n",
            "1500/1500 [==============================] - 7s 4ms/step - loss: 0.0380 - accuracy: 0.9883 - val_loss: 0.0355 - val_accuracy: 0.9905\n",
            "Epoch 60/100\n",
            "1500/1500 [==============================] - ETA: 0s - loss: 0.0374 - accuracy: 0.9881\n",
            "Epoch 60: val_accuracy did not improve from 0.99058\n",
            "1500/1500 [==============================] - 6s 4ms/step - loss: 0.0374 - accuracy: 0.9881 - val_loss: 0.0352 - val_accuracy: 0.9901\n",
            "Epoch 61/100\n",
            "1492/1500 [============================>.] - ETA: 0s - loss: 0.0388 - accuracy: 0.9876\n",
            "Epoch 61: val_accuracy did not improve from 0.99058\n",
            "1500/1500 [==============================] - 7s 5ms/step - loss: 0.0389 - accuracy: 0.9876 - val_loss: 0.0342 - val_accuracy: 0.9904\n",
            "Epoch 62/100\n",
            "1491/1500 [============================>.] - ETA: 0s - loss: 0.0378 - accuracy: 0.9883\n",
            "Epoch 62: val_accuracy improved from 0.99058 to 0.99108, saving model to mnist/model_1.h1\n",
            "1500/1500 [==============================] - 7s 5ms/step - loss: 0.0377 - accuracy: 0.9883 - val_loss: 0.0340 - val_accuracy: 0.9911\n",
            "Epoch 63/100\n",
            "1488/1500 [============================>.] - ETA: 0s - loss: 0.0375 - accuracy: 0.9886\n",
            "Epoch 63: val_accuracy did not improve from 0.99108\n",
            "1500/1500 [==============================] - 6s 4ms/step - loss: 0.0373 - accuracy: 0.9887 - val_loss: 0.0332 - val_accuracy: 0.9911\n",
            "Epoch 64/100\n",
            "1495/1500 [============================>.] - ETA: 0s - loss: 0.0366 - accuracy: 0.9885\n",
            "Epoch 64: val_accuracy did not improve from 0.99108\n",
            "1500/1500 [==============================] - 7s 4ms/step - loss: 0.0366 - accuracy: 0.9886 - val_loss: 0.0340 - val_accuracy: 0.9910\n",
            "Epoch 65/100\n",
            "1495/1500 [============================>.] - ETA: 0s - loss: 0.0348 - accuracy: 0.9890\n",
            "Epoch 65: val_accuracy did not improve from 0.99108\n",
            "1500/1500 [==============================] - 7s 4ms/step - loss: 0.0349 - accuracy: 0.9890 - val_loss: 0.0337 - val_accuracy: 0.9907\n",
            "Epoch 66/100\n",
            "1489/1500 [============================>.] - ETA: 0s - loss: 0.0374 - accuracy: 0.9878\n",
            "Epoch 66: val_accuracy did not improve from 0.99108\n",
            "1500/1500 [==============================] - 7s 4ms/step - loss: 0.0372 - accuracy: 0.9879 - val_loss: 0.0335 - val_accuracy: 0.9907\n",
            "Epoch 67/100\n",
            "1495/1500 [============================>.] - ETA: 0s - loss: 0.0360 - accuracy: 0.9883\n",
            "Epoch 67: val_accuracy improved from 0.99108 to 0.99142, saving model to mnist/model_1.h1\n",
            "1500/1500 [==============================] - 8s 5ms/step - loss: 0.0360 - accuracy: 0.9883 - val_loss: 0.0330 - val_accuracy: 0.9914\n",
            "Epoch 68/100\n",
            "1488/1500 [============================>.] - ETA: 0s - loss: 0.0358 - accuracy: 0.9887\n",
            "Epoch 68: val_accuracy did not improve from 0.99142\n",
            "1500/1500 [==============================] - 6s 4ms/step - loss: 0.0358 - accuracy: 0.9887 - val_loss: 0.0344 - val_accuracy: 0.9903\n",
            "Epoch 69/100\n",
            "1499/1500 [============================>.] - ETA: 0s - loss: 0.0336 - accuracy: 0.9898\n",
            "Epoch 69: val_accuracy did not improve from 0.99142\n",
            "1500/1500 [==============================] - 7s 5ms/step - loss: 0.0336 - accuracy: 0.9898 - val_loss: 0.0336 - val_accuracy: 0.9912\n",
            "Epoch 70/100\n",
            "1493/1500 [============================>.] - ETA: 0s - loss: 0.0345 - accuracy: 0.9892\n",
            "Epoch 70: val_accuracy did not improve from 0.99142\n",
            "1500/1500 [==============================] - 7s 4ms/step - loss: 0.0345 - accuracy: 0.9891 - val_loss: 0.0326 - val_accuracy: 0.9911\n",
            "Epoch 71/100\n",
            "1500/1500 [==============================] - ETA: 0s - loss: 0.0323 - accuracy: 0.9903\n",
            "Epoch 71: val_accuracy did not improve from 0.99142\n",
            "1500/1500 [==============================] - 7s 4ms/step - loss: 0.0323 - accuracy: 0.9903 - val_loss: 0.0326 - val_accuracy: 0.9911\n",
            "Epoch 72/100\n",
            "1489/1500 [============================>.] - ETA: 0s - loss: 0.0331 - accuracy: 0.9896\n",
            "Epoch 72: val_accuracy improved from 0.99142 to 0.99158, saving model to mnist/model_1.h1\n",
            "1500/1500 [==============================] - 8s 5ms/step - loss: 0.0330 - accuracy: 0.9896 - val_loss: 0.0319 - val_accuracy: 0.9916\n",
            "Epoch 73/100\n",
            "1494/1500 [============================>.] - ETA: 0s - loss: 0.0338 - accuracy: 0.9890\n",
            "Epoch 73: val_accuracy did not improve from 0.99158\n",
            "1500/1500 [==============================] - 7s 4ms/step - loss: 0.0338 - accuracy: 0.9890 - val_loss: 0.0334 - val_accuracy: 0.9910\n",
            "Epoch 74/100\n",
            "1497/1500 [============================>.] - ETA: 0s - loss: 0.0319 - accuracy: 0.9902\n",
            "Epoch 74: val_accuracy did not improve from 0.99158\n",
            "1500/1500 [==============================] - 6s 4ms/step - loss: 0.0319 - accuracy: 0.9902 - val_loss: 0.0327 - val_accuracy: 0.9912\n",
            "Epoch 75/100\n",
            "1491/1500 [============================>.] - ETA: 0s - loss: 0.0323 - accuracy: 0.9897\n",
            "Epoch 75: val_accuracy did not improve from 0.99158\n",
            "1500/1500 [==============================] - 6s 4ms/step - loss: 0.0322 - accuracy: 0.9898 - val_loss: 0.0327 - val_accuracy: 0.9912\n",
            "Epoch 76/100\n",
            "1498/1500 [============================>.] - ETA: 0s - loss: 0.0317 - accuracy: 0.9900\n",
            "Epoch 76: val_accuracy did not improve from 0.99158\n",
            "1500/1500 [==============================] - 6s 4ms/step - loss: 0.0317 - accuracy: 0.9900 - val_loss: 0.0325 - val_accuracy: 0.9909\n",
            "Epoch 77/100\n",
            "1497/1500 [============================>.] - ETA: 0s - loss: 0.0326 - accuracy: 0.9896\n",
            "Epoch 77: val_accuracy did not improve from 0.99158\n",
            "1500/1500 [==============================] - 6s 4ms/step - loss: 0.0326 - accuracy: 0.9896 - val_loss: 0.0325 - val_accuracy: 0.9911\n",
            "Epoch 78/100\n",
            "1488/1500 [============================>.] - ETA: 0s - loss: 0.0297 - accuracy: 0.9908\n",
            "Epoch 78: val_accuracy did not improve from 0.99158\n",
            "1500/1500 [==============================] - 7s 4ms/step - loss: 0.0297 - accuracy: 0.9908 - val_loss: 0.0312 - val_accuracy: 0.9912\n",
            "Epoch 79/100\n",
            "1487/1500 [============================>.] - ETA: 0s - loss: 0.0308 - accuracy: 0.9905\n",
            "Epoch 79: val_accuracy did not improve from 0.99158\n",
            "1500/1500 [==============================] - 6s 4ms/step - loss: 0.0310 - accuracy: 0.9904 - val_loss: 0.0311 - val_accuracy: 0.9916\n",
            "Epoch 80/100\n",
            "1487/1500 [============================>.] - ETA: 0s - loss: 0.0311 - accuracy: 0.9903\n",
            "Epoch 80: val_accuracy improved from 0.99158 to 0.99167, saving model to mnist/model_1.h1\n",
            "1500/1500 [==============================] - 7s 5ms/step - loss: 0.0311 - accuracy: 0.9903 - val_loss: 0.0313 - val_accuracy: 0.9917\n",
            "Epoch 81/100\n",
            "1498/1500 [============================>.] - ETA: 0s - loss: 0.0301 - accuracy: 0.9911\n",
            "Epoch 81: val_accuracy did not improve from 0.99167\n",
            "1500/1500 [==============================] - 6s 4ms/step - loss: 0.0301 - accuracy: 0.9911 - val_loss: 0.0328 - val_accuracy: 0.9914\n",
            "Epoch 82/100\n",
            "1490/1500 [============================>.] - ETA: 0s - loss: 0.0295 - accuracy: 0.9908\n",
            "Epoch 82: val_accuracy did not improve from 0.99167\n",
            "1500/1500 [==============================] - 6s 4ms/step - loss: 0.0296 - accuracy: 0.9908 - val_loss: 0.0321 - val_accuracy: 0.9911\n",
            "Epoch 83/100\n",
            "1493/1500 [============================>.] - ETA: 0s - loss: 0.0293 - accuracy: 0.9910\n",
            "Epoch 83: val_accuracy did not improve from 0.99167\n",
            "1500/1500 [==============================] - 6s 4ms/step - loss: 0.0294 - accuracy: 0.9910 - val_loss: 0.0318 - val_accuracy: 0.9914\n",
            "Epoch 84/100\n",
            "1495/1500 [============================>.] - ETA: 0s - loss: 0.0299 - accuracy: 0.9902\n",
            "Epoch 84: val_accuracy improved from 0.99167 to 0.99175, saving model to mnist/model_1.h1\n",
            "1500/1500 [==============================] - 7s 5ms/step - loss: 0.0299 - accuracy: 0.9902 - val_loss: 0.0311 - val_accuracy: 0.9918\n",
            "Epoch 85/100\n",
            "1500/1500 [==============================] - ETA: 0s - loss: 0.0289 - accuracy: 0.9907\n",
            "Epoch 85: val_accuracy did not improve from 0.99175\n",
            "1500/1500 [==============================] - 7s 4ms/step - loss: 0.0289 - accuracy: 0.9907 - val_loss: 0.0319 - val_accuracy: 0.9915\n",
            "Epoch 86/100\n",
            "1497/1500 [============================>.] - ETA: 0s - loss: 0.0290 - accuracy: 0.9909\n",
            "Epoch 86: val_accuracy did not improve from 0.99175\n",
            "1500/1500 [==============================] - 6s 4ms/step - loss: 0.0291 - accuracy: 0.9909 - val_loss: 0.0315 - val_accuracy: 0.9912\n",
            "Epoch 87/100\n",
            "1488/1500 [============================>.] - ETA: 0s - loss: 0.0301 - accuracy: 0.9907\n",
            "Epoch 87: val_accuracy did not improve from 0.99175\n",
            "1500/1500 [==============================] - 6s 4ms/step - loss: 0.0300 - accuracy: 0.9908 - val_loss: 0.0314 - val_accuracy: 0.9914\n",
            "Epoch 88/100\n",
            "1500/1500 [==============================] - ETA: 0s - loss: 0.0298 - accuracy: 0.9910\n",
            "Epoch 88: val_accuracy improved from 0.99175 to 0.99183, saving model to mnist/model_1.h1\n",
            "1500/1500 [==============================] - 7s 5ms/step - loss: 0.0298 - accuracy: 0.9910 - val_loss: 0.0310 - val_accuracy: 0.9918\n",
            "Epoch 89/100\n",
            "1499/1500 [============================>.] - ETA: 0s - loss: 0.0283 - accuracy: 0.9907\n",
            "Epoch 89: val_accuracy did not improve from 0.99183\n",
            "1500/1500 [==============================] - 6s 4ms/step - loss: 0.0283 - accuracy: 0.9907 - val_loss: 0.0310 - val_accuracy: 0.9918\n",
            "Epoch 90/100\n",
            "1495/1500 [============================>.] - ETA: 0s - loss: 0.0288 - accuracy: 0.9910\n",
            "Epoch 90: val_accuracy improved from 0.99183 to 0.99192, saving model to mnist/model_1.h1\n",
            "1500/1500 [==============================] - 7s 5ms/step - loss: 0.0289 - accuracy: 0.9910 - val_loss: 0.0306 - val_accuracy: 0.9919\n",
            "Epoch 91/100\n",
            "1498/1500 [============================>.] - ETA: 0s - loss: 0.0281 - accuracy: 0.9906\n",
            "Epoch 91: val_accuracy improved from 0.99192 to 0.99225, saving model to mnist/model_1.h1\n",
            "1500/1500 [==============================] - 8s 5ms/step - loss: 0.0281 - accuracy: 0.9906 - val_loss: 0.0305 - val_accuracy: 0.9923\n",
            "Epoch 92/100\n",
            "1490/1500 [============================>.] - ETA: 0s - loss: 0.0284 - accuracy: 0.9913\n",
            "Epoch 92: val_accuracy did not improve from 0.99225\n",
            "1500/1500 [==============================] - 6s 4ms/step - loss: 0.0286 - accuracy: 0.9912 - val_loss: 0.0312 - val_accuracy: 0.9916\n",
            "Epoch 93/100\n",
            "1496/1500 [============================>.] - ETA: 0s - loss: 0.0277 - accuracy: 0.9910\n",
            "Epoch 93: val_accuracy did not improve from 0.99225\n",
            "1500/1500 [==============================] - 7s 4ms/step - loss: 0.0277 - accuracy: 0.9910 - val_loss: 0.0311 - val_accuracy: 0.9918\n",
            "Epoch 94/100\n",
            "1498/1500 [============================>.] - ETA: 0s - loss: 0.0276 - accuracy: 0.9916\n",
            "Epoch 94: val_accuracy did not improve from 0.99225\n",
            "1500/1500 [==============================] - 7s 4ms/step - loss: 0.0276 - accuracy: 0.9916 - val_loss: 0.0305 - val_accuracy: 0.9918\n",
            "Epoch 95/100\n",
            "1490/1500 [============================>.] - ETA: 0s - loss: 0.0270 - accuracy: 0.9919\n",
            "Epoch 95: val_accuracy did not improve from 0.99225\n",
            "1500/1500 [==============================] - 6s 4ms/step - loss: 0.0270 - accuracy: 0.9919 - val_loss: 0.0316 - val_accuracy: 0.9913\n",
            "Epoch 96/100\n",
            "1494/1500 [============================>.] - ETA: 0s - loss: 0.0258 - accuracy: 0.9921\n",
            "Epoch 96: val_accuracy did not improve from 0.99225\n",
            "1500/1500 [==============================] - 6s 4ms/step - loss: 0.0257 - accuracy: 0.9921 - val_loss: 0.0302 - val_accuracy: 0.9920\n",
            "Epoch 97/100\n",
            "1498/1500 [============================>.] - ETA: 0s - loss: 0.0261 - accuracy: 0.9917\n",
            "Epoch 97: val_accuracy did not improve from 0.99225\n",
            "1500/1500 [==============================] - 6s 4ms/step - loss: 0.0261 - accuracy: 0.9917 - val_loss: 0.0314 - val_accuracy: 0.9916\n",
            "Epoch 98/100\n",
            "1495/1500 [============================>.] - ETA: 0s - loss: 0.0271 - accuracy: 0.9917\n",
            "Epoch 98: val_accuracy did not improve from 0.99225\n",
            "1500/1500 [==============================] - 7s 4ms/step - loss: 0.0270 - accuracy: 0.9917 - val_loss: 0.0303 - val_accuracy: 0.9917\n",
            "Epoch 99/100\n",
            "1495/1500 [============================>.] - ETA: 0s - loss: 0.0256 - accuracy: 0.9920\n",
            "Epoch 99: val_accuracy did not improve from 0.99225\n",
            "1500/1500 [==============================] - 7s 5ms/step - loss: 0.0256 - accuracy: 0.9920 - val_loss: 0.0300 - val_accuracy: 0.9921\n",
            "Epoch 100/100\n",
            "1495/1500 [============================>.] - ETA: 0s - loss: 0.0274 - accuracy: 0.9916\n",
            "Epoch 100: val_accuracy did not improve from 0.99225\n",
            "1500/1500 [==============================] - 7s 4ms/step - loss: 0.0275 - accuracy: 0.9916 - val_loss: 0.0296 - val_accuracy: 0.9919\n"
          ]
        }
      ]
    },
    {
      "cell_type": "code",
      "source": [
        "result = model_1.evaluate(test_imgs, test_labels)\n",
        "print(\"\\n테스트 정확도: %.4f\" %(result)[1])"
      ],
      "metadata": {
        "id": "A4f_4uKMk9gD",
        "colab": {
          "base_uri": "https://localhost:8080/"
        },
        "outputId": "3374cc46-8cde-493c-b4d9-d528537a698b"
      },
      "execution_count": 15,
      "outputs": [
        {
          "output_type": "stream",
          "name": "stdout",
          "text": [
            "313/313 [==============================] - 1s 3ms/step - loss: 0.0222 - accuracy: 0.9931\n",
            "\n",
            "테스트 정확도: 0.9931\n"
          ]
        }
      ]
    },
    {
      "cell_type": "code",
      "source": [
        "loaded_model = load_model('mnist/model_1.h1')\n",
        "result_loaded = loaded_model.evaluate(test_imgs, test_labels)\n",
        "print(\"\\n불러온 모델 테스트 정확도: %.4f\" %(result_loaded)[1])"
      ],
      "metadata": {
        "colab": {
          "base_uri": "https://localhost:8080/"
        },
        "id": "LWt1g385nipq",
        "outputId": "7eb9bc19-1c8d-4732-e4aa-2fa74f7c2788"
      },
      "execution_count": 16,
      "outputs": [
        {
          "output_type": "stream",
          "name": "stdout",
          "text": [
            "313/313 [==============================] - 1s 3ms/step - loss: 0.0230 - accuracy: 0.9928\n",
            "\n",
            "불러온 모델 테스트 정확도: 0.9928\n"
          ]
        }
      ]
    },
    {
      "cell_type": "code",
      "source": [
        "acc = hist_1.history['accuracy']\n",
        "val_acc = hist_1.history['val_accuracy']\n",
        "loss = hist_1.history['loss']\n",
        "val_loss = hist_1.history['val_loss']\n",
        "\n",
        "epochs = range(1, len(acc)+1)\n",
        "\n",
        "plt.figure(figsize=(8, 12))\n",
        "ax1=plt.subplot(2, 1, 1)\n",
        "ax2=plt.subplot(2, 1, 2)\n",
        "ax1.plot(epochs, acc, 'bo', label='Trainig acc')\n",
        "ax1.plot(epochs, val_acc, 'b', label='Validation acc')\n",
        "ax1.set_title(\"Training and Validation accuracy\")\n",
        "ax1.legend()\n",
        "ax2.plot(epochs, loss, 'bo', label='Traning loss')\n",
        "ax2.plot(epochs, val_loss, 'b', label='Validation loss')\n",
        "ax2.set_title(\"Training and Validation loss\")\n",
        "ax2.legend()\n",
        "plt.show()"
      ],
      "metadata": {
        "id": "mFOaiWO_sRfX",
        "colab": {
          "base_uri": "https://localhost:8080/",
          "height": 716
        },
        "outputId": "e82c6e0f-82a5-42f5-a175-769209de20fe"
      },
      "execution_count": 17,
      "outputs": [
        {
          "output_type": "display_data",
          "data": {
            "text/plain": [
              "<Figure size 576x864 with 2 Axes>"
            ],
            "image/png": "[encoded data removed]"
          },
          "metadata": {
            "needs_background": "light"
          }
        }
      ]
    },
    {
      "cell_type": "code",
      "source": [
        "df = pd.DataFrame([['CNN', 'model_1', '32(relu)-64(drop0.2/relu)-128(drop0.5/relu)-Flatten-64(sigmoid)-10(softmax)]', 'SGD', 100, 32, 0.2, 'es/mc', \n",
        "                    \"%.4f\"%(result)[1], \"%.4f\"%(result_loaded)[1], \"%.4f\"%(result)[0], \"%.4f\"%(result_loaded)[0]]],\n",
        "                  columns=['모델', 'Name', 'Structure', 'Optimizer', 'epochs', 'batch_size', 'validation_split', 'callback', 'Accuracy', 'MC_Accuracy', 'Loss', 'MC_Loss'])"
      ],
      "metadata": {
        "id": "YU51jOGcl7DL"
      },
      "execution_count": 18,
      "outputs": []
    },
    {
      "cell_type": "markdown",
      "source": [
        "#### __2. batch_size default(32), 출력 직전층 activation='sigmoid', optimizer='rmsprop'__ "
      ],
      "metadata": {
        "id": "J3jjZUjiwydX"
      }
    },
    {
      "cell_type": "code",
      "source": [
        "model_1_1 = keras.Sequential([\n",
        "  layers.Conv2D(32, (3, 3), activation='relu', input_shape=(28, 28, 1)),\n",
        "  layers.MaxPooling2D((2, 2)),\n",
        "  layers.Dropout(0.2),\n",
        "  layers.Conv2D(64, (3, 3), activation='relu'),\n",
        "  layers.Dropout(0.2),\n",
        "  layers.MaxPooling2D((2, 2)),\n",
        "  layers.Conv2D(128, (3, 3), activation='relu'),\n",
        "  layers.Dropout(0.5),\n",
        "  layers.Flatten(),\n",
        "  layers.Dense(64, activation = 'sigmoid'),\n",
        "  layers.Dense(10, activation = 'softmax')\n",
        "])\n",
        "model_1_1.summary()"
      ],
      "metadata": {
        "colab": {
          "base_uri": "https://localhost:8080/"
        },
        "outputId": "49535c17-8456-4a47-f884-75fc8bfc9200",
        "id": "aRIhB0X3wtb4"
      },
      "execution_count": 19,
      "outputs": [
        {
          "output_type": "stream",
          "name": "stdout",
          "text": [
            "Model: \"sequential_1\"\n",
            "_________________________________________________________________\n",
            " Layer (type)                Output Shape              Param #   \n",
            "=================================================================\n",
            " conv2d_3 (Conv2D)           (None, 26, 26, 32)        320       \n",
            "                                                                 \n",
            " max_pooling2d_2 (MaxPooling  (None, 13, 13, 32)       0         \n",
            " 2D)                                                             \n",
            "                                                                 \n",
            " dropout_3 (Dropout)         (None, 13, 13, 32)        0         \n",
            "                                                                 \n",
            " conv2d_4 (Conv2D)           (None, 11, 11, 64)        18496     \n",
            "                                                                 \n",
            " dropout_4 (Dropout)         (None, 11, 11, 64)        0         \n",
            "                                                                 \n",
            " max_pooling2d_3 (MaxPooling  (None, 5, 5, 64)         0         \n",
            " 2D)                                                             \n",
            "                                                                 \n",
            " conv2d_5 (Conv2D)           (None, 3, 3, 128)         73856     \n",
            "                                                                 \n",
            " dropout_5 (Dropout)         (None, 3, 3, 128)         0         \n",
            "                                                                 \n",
            " flatten_1 (Flatten)         (None, 1152)              0         \n",
            "                                                                 \n",
            " dense_2 (Dense)             (None, 64)                73792     \n",
            "                                                                 \n",
            " dense_3 (Dense)             (None, 10)                650       \n",
            "                                                                 \n",
            "=================================================================\n",
            "Total params: 167,114\n",
            "Trainable params: 167,114\n",
            "Non-trainable params: 0\n",
            "_________________________________________________________________\n"
          ]
        }
      ]
    },
    {
      "cell_type": "code",
      "source": [
        "model_1_1.compile(optimizer=\"rmsprop\", loss=\"categorical_crossentropy\", metrics=[\"accuracy\"])"
      ],
      "metadata": {
        "id": "2xmXZNfewtcK"
      },
      "execution_count": 20,
      "outputs": []
    },
    {
      "cell_type": "code",
      "source": [
        "es = EarlyStopping(monitor='val_loss', mode='min', verbose=1, patience=10)\n",
        "mc = ModelCheckpoint('mnist/model_1_1.h1', monitor='val_accuracy', mode='max', verbose=1, save_best_only=True)\n",
        "hist_1_1 = model_1_1.fit(train_imgs, train_labels, epochs=100, validation_split=0.2, callbacks=[es, mc])"
      ],
      "metadata": {
        "colab": {
          "base_uri": "https://localhost:8080/"
        },
        "outputId": "d345d45c-d9d3-4ad4-dde1-4869a415f39c",
        "id": "VRjSobitwtcK"
      },
      "execution_count": 21,
      "outputs": [
        {
          "output_type": "stream",
          "name": "stdout",
          "text": [
            "Epoch 1/100\n",
            "1499/1500 [============================>.] - ETA: 0s - loss: 0.2470 - accuracy: 0.9291\n",
            "Epoch 1: val_accuracy improved from -inf to 0.98167, saving model to mnist/model_1_1.h1\n",
            "1500/1500 [==============================] - 11s 7ms/step - loss: 0.2469 - accuracy: 0.9291 - val_loss: 0.0631 - val_accuracy: 0.9817\n",
            "Epoch 2/100\n",
            "1496/1500 [============================>.] - ETA: 0s - loss: 0.0795 - accuracy: 0.9753\n",
            "Epoch 2: val_accuracy improved from 0.98167 to 0.98567, saving model to mnist/model_1_1.h1\n",
            "1500/1500 [==============================] - 8s 5ms/step - loss: 0.0793 - accuracy: 0.9754 - val_loss: 0.0499 - val_accuracy: 0.9857\n",
            "Epoch 3/100\n",
            "1494/1500 [============================>.] - ETA: 0s - loss: 0.0622 - accuracy: 0.9819\n",
            "Epoch 3: val_accuracy improved from 0.98567 to 0.98733, saving model to mnist/model_1_1.h1\n",
            "1500/1500 [==============================] - 8s 5ms/step - loss: 0.0623 - accuracy: 0.9819 - val_loss: 0.0450 - val_accuracy: 0.9873\n",
            "Epoch 4/100\n",
            "1489/1500 [============================>.] - ETA: 0s - loss: 0.0565 - accuracy: 0.9827\n",
            "Epoch 4: val_accuracy improved from 0.98733 to 0.98767, saving model to mnist/model_1_1.h1\n",
            "1500/1500 [==============================] - 8s 5ms/step - loss: 0.0563 - accuracy: 0.9827 - val_loss: 0.0438 - val_accuracy: 0.9877\n",
            "Epoch 5/100\n",
            "1499/1500 [============================>.] - ETA: 0s - loss: 0.0504 - accuracy: 0.9855\n",
            "Epoch 5: val_accuracy improved from 0.98767 to 0.99000, saving model to mnist/model_1_1.h1\n",
            "1500/1500 [==============================] - 8s 5ms/step - loss: 0.0503 - accuracy: 0.9855 - val_loss: 0.0359 - val_accuracy: 0.9900\n",
            "Epoch 6/100\n",
            "1493/1500 [============================>.] - ETA: 0s - loss: 0.0461 - accuracy: 0.9860\n",
            "Epoch 6: val_accuracy did not improve from 0.99000\n",
            "1500/1500 [==============================] - 8s 5ms/step - loss: 0.0464 - accuracy: 0.9860 - val_loss: 0.0434 - val_accuracy: 0.9889\n",
            "Epoch 7/100\n",
            "1499/1500 [============================>.] - ETA: 0s - loss: 0.0436 - accuracy: 0.9874\n",
            "Epoch 7: val_accuracy improved from 0.99000 to 0.99067, saving model to mnist/model_1_1.h1\n",
            "1500/1500 [==============================] - 8s 5ms/step - loss: 0.0436 - accuracy: 0.9874 - val_loss: 0.0363 - val_accuracy: 0.9907\n",
            "Epoch 8/100\n",
            "1496/1500 [============================>.] - ETA: 0s - loss: 0.0432 - accuracy: 0.9876\n",
            "Epoch 8: val_accuracy improved from 0.99067 to 0.99100, saving model to mnist/model_1_1.h1\n",
            "1500/1500 [==============================] - 8s 5ms/step - loss: 0.0432 - accuracy: 0.9876 - val_loss: 0.0374 - val_accuracy: 0.9910\n",
            "Epoch 9/100\n",
            "1493/1500 [============================>.] - ETA: 0s - loss: 0.0412 - accuracy: 0.9883\n",
            "Epoch 9: val_accuracy did not improve from 0.99100\n",
            "1500/1500 [==============================] - 7s 5ms/step - loss: 0.0411 - accuracy: 0.9884 - val_loss: 0.0384 - val_accuracy: 0.9908\n",
            "Epoch 10/100\n",
            "1495/1500 [============================>.] - ETA: 0s - loss: 0.0380 - accuracy: 0.9893\n",
            "Epoch 10: val_accuracy did not improve from 0.99100\n",
            "1500/1500 [==============================] - 7s 5ms/step - loss: 0.0381 - accuracy: 0.9893 - val_loss: 0.0416 - val_accuracy: 0.9910\n",
            "Epoch 11/100\n",
            "1493/1500 [============================>.] - ETA: 0s - loss: 0.0382 - accuracy: 0.9894\n",
            "Epoch 11: val_accuracy improved from 0.99100 to 0.99142, saving model to mnist/model_1_1.h1\n",
            "1500/1500 [==============================] - 8s 6ms/step - loss: 0.0383 - accuracy: 0.9894 - val_loss: 0.0406 - val_accuracy: 0.9914\n",
            "Epoch 12/100\n",
            "1499/1500 [============================>.] - ETA: 0s - loss: 0.0372 - accuracy: 0.9895\n",
            "Epoch 12: val_accuracy did not improve from 0.99142\n",
            "1500/1500 [==============================] - 7s 5ms/step - loss: 0.0373 - accuracy: 0.9895 - val_loss: 0.0417 - val_accuracy: 0.9910\n",
            "Epoch 13/100\n",
            "1492/1500 [============================>.] - ETA: 0s - loss: 0.0351 - accuracy: 0.9907\n",
            "Epoch 13: val_accuracy improved from 0.99142 to 0.99158, saving model to mnist/model_1_1.h1\n",
            "1500/1500 [==============================] - 8s 5ms/step - loss: 0.0353 - accuracy: 0.9907 - val_loss: 0.0397 - val_accuracy: 0.9916\n",
            "Epoch 14/100\n",
            "1493/1500 [============================>.] - ETA: 0s - loss: 0.0378 - accuracy: 0.9902\n",
            "Epoch 14: val_accuracy improved from 0.99158 to 0.99225, saving model to mnist/model_1_1.h1\n",
            "1500/1500 [==============================] - 8s 5ms/step - loss: 0.0378 - accuracy: 0.9902 - val_loss: 0.0412 - val_accuracy: 0.9923\n",
            "Epoch 15/100\n",
            "1491/1500 [============================>.] - ETA: 0s - loss: 0.0352 - accuracy: 0.9907\n",
            "Epoch 15: val_accuracy did not improve from 0.99225\n",
            "1500/1500 [==============================] - 7s 5ms/step - loss: 0.0351 - accuracy: 0.9907 - val_loss: 0.0429 - val_accuracy: 0.9919\n",
            "Epoch 15: early stopping\n"
          ]
        }
      ]
    },
    {
      "cell_type": "code",
      "source": [
        "result = model_1_1.evaluate(test_imgs, test_labels)\n",
        "print(\"\\n테스트 정확도: %.4f\" %(result)[1])"
      ],
      "metadata": {
        "colab": {
          "base_uri": "https://localhost:8080/"
        },
        "outputId": "99b4ee2d-a737-433a-a8f7-019137574da7",
        "id": "Mq-GE0h5wtcL"
      },
      "execution_count": 22,
      "outputs": [
        {
          "output_type": "stream",
          "name": "stdout",
          "text": [
            "313/313 [==============================] - 1s 3ms/step - loss: 0.0342 - accuracy: 0.9910\n",
            "\n",
            "테스트 정확도: 0.9910\n"
          ]
        }
      ]
    },
    {
      "cell_type": "code",
      "source": [
        "loaded_model = load_model('mnist/model_1_1.h1')\n",
        "result_loaded = loaded_model.evaluate(test_imgs, test_labels)\n",
        "print(\"\\n불러온 모델 테스트 정확도: %.4f\" %(result_loaded)[1])"
      ],
      "metadata": {
        "colab": {
          "base_uri": "https://localhost:8080/"
        },
        "outputId": "71add460-789b-4370-fb6a-501c957eaa69",
        "id": "fGK6vEuiwtcL"
      },
      "execution_count": 23,
      "outputs": [
        {
          "output_type": "stream",
          "name": "stdout",
          "text": [
            "313/313 [==============================] - 1s 3ms/step - loss: 0.0325 - accuracy: 0.9925\n",
            "\n",
            "불러온 모델 테스트 정확도: 0.9925\n"
          ]
        }
      ]
    },
    {
      "cell_type": "code",
      "source": [
        "acc = hist_1_1.history['accuracy']\n",
        "val_acc = hist_1_1.history['val_accuracy']\n",
        "loss = hist_1_1.history['loss']\n",
        "val_loss = hist_1_1.history['val_loss']\n",
        "\n",
        "epochs = range(1, len(acc)+1)\n",
        "\n",
        "plt.figure(figsize=(8, 12))\n",
        "ax1=plt.subplot(2, 1, 1)\n",
        "ax2=plt.subplot(2, 1, 2)\n",
        "ax1.plot(epochs, acc, 'bo', label='Trainig acc')\n",
        "ax1.plot(epochs, val_acc, 'b', label='Validation acc')\n",
        "ax1.set_title(\"Training and Validation accuracy\")\n",
        "ax1.legend()\n",
        "ax2.plot(epochs, loss, 'bo', label='Traning loss')\n",
        "ax2.plot(epochs, val_loss, 'b', label='Validation loss')\n",
        "ax2.set_title(\"Training and Validation loss\")\n",
        "ax2.legend()\n",
        "plt.show()"
      ],
      "metadata": {
        "colab": {
          "base_uri": "https://localhost:8080/",
          "height": 716
        },
        "outputId": "67840beb-fdeb-4161-b61e-59a61f19f58c",
        "id": "k-onGLGMwtcM"
      },
      "execution_count": 24,
      "outputs": [
        {
          "output_type": "display_data",
          "data": {
            "text/plain": [
              "<Figure size 576x864 with 2 Axes>"
            ],
            "image/png": "[encoded data removed]"
          },
          "metadata": {
            "needs_background": "light"
          }
        }
      ]
    },
    {
      "cell_type": "code",
      "source": [
        "df.loc[1]=['CNN', 'model_1_1', '32(relu)-64(drop0.2/relu)-128(drop0.5/relu)-Flatten-64(sigmoid)-10(softmax)]', 'rmsprop', 100, 32, 0.2, 'es/mc', \"%.4f\"%(result)[1], \"%.4f\"%(result_loaded)[1], \"%.4f\"%(result)[0], \"%.4f\"%(result_loaded)[0]]"
      ],
      "metadata": {
        "id": "IMzWXDrQwtcM"
      },
      "execution_count": 25,
      "outputs": []
    },
    {
      "cell_type": "markdown",
      "source": [
        "#### __3. batch_size default(32), 출력 직전층 activation='sigmoid', optimizer='adam'__ "
      ],
      "metadata": {
        "id": "YN2gmPkbzFeA"
      }
    },
    {
      "cell_type": "code",
      "source": [
        "model_1_2 = keras.Sequential([\n",
        "  layers.Conv2D(32, (3, 3), activation='relu', input_shape=(28, 28, 1)),\n",
        "  layers.MaxPooling2D((2, 2)),\n",
        "  layers.Dropout(0.2),\n",
        "  layers.Conv2D(64, (3, 3), activation='relu'),\n",
        "  layers.Dropout(0.2),\n",
        "  layers.MaxPooling2D((2, 2)),\n",
        "  layers.Conv2D(128, (3, 3), activation='relu'),\n",
        "  layers.Dropout(0.5),\n",
        "  layers.Flatten(),\n",
        "  layers.Dense(64, activation = 'sigmoid'),\n",
        "  layers.Dense(10, activation = 'softmax')\n",
        "])\n",
        "model_1_2.summary()"
      ],
      "metadata": {
        "colab": {
          "base_uri": "https://localhost:8080/"
        },
        "outputId": "8332024e-3ae0-46ea-a1c1-b7441cd3923c",
        "id": "Ujc6kXBOzFeA"
      },
      "execution_count": 28,
      "outputs": [
        {
          "output_type": "stream",
          "name": "stdout",
          "text": [
            "Model: \"sequential_3\"\n",
            "_________________________________________________________________\n",
            " Layer (type)                Output Shape              Param #   \n",
            "=================================================================\n",
            " conv2d_9 (Conv2D)           (None, 26, 26, 32)        320       \n",
            "                                                                 \n",
            " max_pooling2d_6 (MaxPooling  (None, 13, 13, 32)       0         \n",
            " 2D)                                                             \n",
            "                                                                 \n",
            " dropout_9 (Dropout)         (None, 13, 13, 32)        0         \n",
            "                                                                 \n",
            " conv2d_10 (Conv2D)          (None, 11, 11, 64)        18496     \n",
            "                                                                 \n",
            " dropout_10 (Dropout)        (None, 11, 11, 64)        0         \n",
            "                                                                 \n",
            " max_pooling2d_7 (MaxPooling  (None, 5, 5, 64)         0         \n",
            " 2D)                                                             \n",
            "                                                                 \n",
            " conv2d_11 (Conv2D)          (None, 3, 3, 128)         73856     \n",
            "                                                                 \n",
            " dropout_11 (Dropout)        (None, 3, 3, 128)         0         \n",
            "                                                                 \n",
            " flatten_3 (Flatten)         (None, 1152)              0         \n",
            "                                                                 \n",
            " dense_6 (Dense)             (None, 64)                73792     \n",
            "                                                                 \n",
            " dense_7 (Dense)             (None, 10)                650       \n",
            "                                                                 \n",
            "=================================================================\n",
            "Total params: 167,114\n",
            "Trainable params: 167,114\n",
            "Non-trainable params: 0\n",
            "_________________________________________________________________\n"
          ]
        }
      ]
    },
    {
      "cell_type": "code",
      "source": [
        "model_1_2.compile(optimizer=\"adam\", loss=\"categorical_crossentropy\", metrics=[\"accuracy\"])"
      ],
      "metadata": {
        "id": "sy6jnJeXzFeB"
      },
      "execution_count": 29,
      "outputs": []
    },
    {
      "cell_type": "code",
      "source": [
        "es = EarlyStopping(monitor='val_loss', mode='min', verbose=1, patience=10)\n",
        "mc = ModelCheckpoint('mnist/model_1_2.h1', monitor='val_accuracy', mode='max', verbose=1, save_best_only=True)\n",
        "hist_1_2 = model_1_2.fit(train_imgs, train_labels, epochs=100, validation_split=0.2, callbacks=[es, mc])"
      ],
      "metadata": {
        "colab": {
          "base_uri": "https://localhost:8080/"
        },
        "outputId": "dfb19148-a856-4367-e02a-48367b0c1fcb",
        "id": "yTLlJJB-zFeB"
      },
      "execution_count": 30,
      "outputs": [
        {
          "output_type": "stream",
          "name": "stdout",
          "text": [
            "Epoch 1/100\n",
            "1491/1500 [============================>.] - ETA: 0s - loss: 0.2918 - accuracy: 0.9206\n",
            "Epoch 1: val_accuracy improved from -inf to 0.98042, saving model to mnist/model_1_2.h1\n",
            "1500/1500 [==============================] - 8s 5ms/step - loss: 0.2907 - accuracy: 0.9209 - val_loss: 0.0704 - val_accuracy: 0.9804\n",
            "Epoch 2/100\n",
            "1499/1500 [============================>.] - ETA: 0s - loss: 0.0915 - accuracy: 0.9732\n",
            "Epoch 2: val_accuracy improved from 0.98042 to 0.98442, saving model to mnist/model_1_2.h1\n",
            "1500/1500 [==============================] - 8s 5ms/step - loss: 0.0916 - accuracy: 0.9731 - val_loss: 0.0550 - val_accuracy: 0.9844\n",
            "Epoch 3/100\n",
            "1492/1500 [============================>.] - ETA: 0s - loss: 0.0666 - accuracy: 0.9792\n",
            "Epoch 3: val_accuracy improved from 0.98442 to 0.98650, saving model to mnist/model_1_2.h1\n",
            "1500/1500 [==============================] - 7s 5ms/step - loss: 0.0666 - accuracy: 0.9792 - val_loss: 0.0465 - val_accuracy: 0.9865\n",
            "Epoch 4/100\n",
            "1492/1500 [============================>.] - ETA: 0s - loss: 0.0560 - accuracy: 0.9831\n",
            "Epoch 4: val_accuracy improved from 0.98650 to 0.98858, saving model to mnist/model_1_2.h1\n",
            "1500/1500 [==============================] - 7s 5ms/step - loss: 0.0561 - accuracy: 0.9830 - val_loss: 0.0392 - val_accuracy: 0.9886\n",
            "Epoch 5/100\n",
            "1498/1500 [============================>.] - ETA: 0s - loss: 0.0493 - accuracy: 0.9847\n",
            "Epoch 5: val_accuracy did not improve from 0.98858\n",
            "1500/1500 [==============================] - 7s 4ms/step - loss: 0.0493 - accuracy: 0.9847 - val_loss: 0.0419 - val_accuracy: 0.9872\n",
            "Epoch 6/100\n",
            "1487/1500 [============================>.] - ETA: 0s - loss: 0.0441 - accuracy: 0.9859\n",
            "Epoch 6: val_accuracy improved from 0.98858 to 0.98975, saving model to mnist/model_1_2.h1\n",
            "1500/1500 [==============================] - 7s 5ms/step - loss: 0.0440 - accuracy: 0.9859 - val_loss: 0.0369 - val_accuracy: 0.9898\n",
            "Epoch 7/100\n",
            "1490/1500 [============================>.] - ETA: 0s - loss: 0.0397 - accuracy: 0.9879\n",
            "Epoch 7: val_accuracy improved from 0.98975 to 0.99117, saving model to mnist/model_1_2.h1\n",
            "1500/1500 [==============================] - 7s 5ms/step - loss: 0.0396 - accuracy: 0.9879 - val_loss: 0.0332 - val_accuracy: 0.9912\n",
            "Epoch 8/100\n",
            "1494/1500 [============================>.] - ETA: 0s - loss: 0.0362 - accuracy: 0.9885\n",
            "Epoch 8: val_accuracy did not improve from 0.99117\n",
            "1500/1500 [==============================] - 6s 4ms/step - loss: 0.0363 - accuracy: 0.9884 - val_loss: 0.0316 - val_accuracy: 0.9912\n",
            "Epoch 9/100\n",
            "1487/1500 [============================>.] - ETA: 0s - loss: 0.0342 - accuracy: 0.9891\n",
            "Epoch 9: val_accuracy did not improve from 0.99117\n",
            "1500/1500 [==============================] - 6s 4ms/step - loss: 0.0342 - accuracy: 0.9891 - val_loss: 0.0327 - val_accuracy: 0.9910\n",
            "Epoch 10/100\n",
            "1486/1500 [============================>.] - ETA: 0s - loss: 0.0314 - accuracy: 0.9899\n",
            "Epoch 10: val_accuracy did not improve from 0.99117\n",
            "1500/1500 [==============================] - 6s 4ms/step - loss: 0.0313 - accuracy: 0.9899 - val_loss: 0.0340 - val_accuracy: 0.9900\n",
            "Epoch 11/100\n",
            "1494/1500 [============================>.] - ETA: 0s - loss: 0.0297 - accuracy: 0.9907\n",
            "Epoch 11: val_accuracy improved from 0.99117 to 0.99125, saving model to mnist/model_1_2.h1\n",
            "1500/1500 [==============================] - 7s 5ms/step - loss: 0.0297 - accuracy: 0.9907 - val_loss: 0.0342 - val_accuracy: 0.9912\n",
            "Epoch 12/100\n",
            "1496/1500 [============================>.] - ETA: 0s - loss: 0.0294 - accuracy: 0.9909\n",
            "Epoch 12: val_accuracy improved from 0.99125 to 0.99167, saving model to mnist/model_1_2.h1\n",
            "1500/1500 [==============================] - 8s 5ms/step - loss: 0.0295 - accuracy: 0.9909 - val_loss: 0.0310 - val_accuracy: 0.9917\n",
            "Epoch 13/100\n",
            "1497/1500 [============================>.] - ETA: 0s - loss: 0.0252 - accuracy: 0.9916\n",
            "Epoch 13: val_accuracy improved from 0.99167 to 0.99175, saving model to mnist/model_1_2.h1\n",
            "1500/1500 [==============================] - 7s 5ms/step - loss: 0.0252 - accuracy: 0.9916 - val_loss: 0.0322 - val_accuracy: 0.9918\n",
            "Epoch 14/100\n",
            "1493/1500 [============================>.] - ETA: 0s - loss: 0.0277 - accuracy: 0.9909\n",
            "Epoch 14: val_accuracy improved from 0.99175 to 0.99233, saving model to mnist/model_1_2.h1\n",
            "1500/1500 [==============================] - 7s 5ms/step - loss: 0.0278 - accuracy: 0.9908 - val_loss: 0.0305 - val_accuracy: 0.9923\n",
            "Epoch 15/100\n",
            "1488/1500 [============================>.] - ETA: 0s - loss: 0.0251 - accuracy: 0.9915\n",
            "Epoch 15: val_accuracy did not improve from 0.99233\n",
            "1500/1500 [==============================] - 7s 4ms/step - loss: 0.0252 - accuracy: 0.9915 - val_loss: 0.0382 - val_accuracy: 0.9894\n",
            "Epoch 16/100\n",
            "1494/1500 [============================>.] - ETA: 0s - loss: 0.0252 - accuracy: 0.9921\n",
            "Epoch 16: val_accuracy did not improve from 0.99233\n",
            "1500/1500 [==============================] - 7s 5ms/step - loss: 0.0253 - accuracy: 0.9921 - val_loss: 0.0298 - val_accuracy: 0.9918\n",
            "Epoch 17/100\n",
            "1491/1500 [============================>.] - ETA: 0s - loss: 0.0230 - accuracy: 0.9931\n",
            "Epoch 17: val_accuracy did not improve from 0.99233\n",
            "1500/1500 [==============================] - 6s 4ms/step - loss: 0.0230 - accuracy: 0.9931 - val_loss: 0.0346 - val_accuracy: 0.9907\n",
            "Epoch 18/100\n",
            "1492/1500 [============================>.] - ETA: 0s - loss: 0.0234 - accuracy: 0.9927\n",
            "Epoch 18: val_accuracy did not improve from 0.99233\n",
            "1500/1500 [==============================] - 7s 4ms/step - loss: 0.0233 - accuracy: 0.9927 - val_loss: 0.0321 - val_accuracy: 0.9904\n",
            "Epoch 19/100\n",
            "1499/1500 [============================>.] - ETA: 0s - loss: 0.0215 - accuracy: 0.9930\n",
            "Epoch 19: val_accuracy did not improve from 0.99233\n",
            "1500/1500 [==============================] - 6s 4ms/step - loss: 0.0215 - accuracy: 0.9930 - val_loss: 0.0313 - val_accuracy: 0.9920\n",
            "Epoch 20/100\n",
            "1496/1500 [============================>.] - ETA: 0s - loss: 0.0232 - accuracy: 0.9923\n",
            "Epoch 20: val_accuracy did not improve from 0.99233\n",
            "1500/1500 [==============================] - 6s 4ms/step - loss: 0.0232 - accuracy: 0.9923 - val_loss: 0.0326 - val_accuracy: 0.9914\n",
            "Epoch 21/100\n",
            "1497/1500 [============================>.] - ETA: 0s - loss: 0.0225 - accuracy: 0.9924\n",
            "Epoch 21: val_accuracy did not improve from 0.99233\n",
            "1500/1500 [==============================] - 6s 4ms/step - loss: 0.0225 - accuracy: 0.9924 - val_loss: 0.0297 - val_accuracy: 0.9919\n",
            "Epoch 22/100\n",
            "1492/1500 [============================>.] - ETA: 0s - loss: 0.0213 - accuracy: 0.9928\n",
            "Epoch 22: val_accuracy did not improve from 0.99233\n",
            "1500/1500 [==============================] - 7s 4ms/step - loss: 0.0214 - accuracy: 0.9928 - val_loss: 0.0290 - val_accuracy: 0.9923\n",
            "Epoch 23/100\n",
            "1489/1500 [============================>.] - ETA: 0s - loss: 0.0202 - accuracy: 0.9937\n",
            "Epoch 23: val_accuracy did not improve from 0.99233\n",
            "1500/1500 [==============================] - 7s 4ms/step - loss: 0.0201 - accuracy: 0.9938 - val_loss: 0.0297 - val_accuracy: 0.9918\n",
            "Epoch 24/100\n",
            "1498/1500 [============================>.] - ETA: 0s - loss: 0.0205 - accuracy: 0.9929\n",
            "Epoch 24: val_accuracy improved from 0.99233 to 0.99267, saving model to mnist/model_1_2.h1\n",
            "1500/1500 [==============================] - 7s 5ms/step - loss: 0.0205 - accuracy: 0.9929 - val_loss: 0.0261 - val_accuracy: 0.9927\n",
            "Epoch 25/100\n",
            "1489/1500 [============================>.] - ETA: 0s - loss: 0.0182 - accuracy: 0.9940\n",
            "Epoch 25: val_accuracy improved from 0.99267 to 0.99275, saving model to mnist/model_1_2.h1\n",
            "1500/1500 [==============================] - 7s 5ms/step - loss: 0.0183 - accuracy: 0.9940 - val_loss: 0.0287 - val_accuracy: 0.9927\n",
            "Epoch 26/100\n",
            "1498/1500 [============================>.] - ETA: 0s - loss: 0.0198 - accuracy: 0.9937\n",
            "Epoch 26: val_accuracy did not improve from 0.99275\n",
            "1500/1500 [==============================] - 6s 4ms/step - loss: 0.0198 - accuracy: 0.9937 - val_loss: 0.0287 - val_accuracy: 0.9918\n",
            "Epoch 27/100\n",
            "1495/1500 [============================>.] - ETA: 0s - loss: 0.0205 - accuracy: 0.9936\n",
            "Epoch 27: val_accuracy did not improve from 0.99275\n",
            "1500/1500 [==============================] - 7s 4ms/step - loss: 0.0206 - accuracy: 0.9936 - val_loss: 0.0337 - val_accuracy: 0.9914\n",
            "Epoch 28/100\n",
            "1494/1500 [============================>.] - ETA: 0s - loss: 0.0202 - accuracy: 0.9933\n",
            "Epoch 28: val_accuracy did not improve from 0.99275\n",
            "1500/1500 [==============================] - 7s 4ms/step - loss: 0.0201 - accuracy: 0.9933 - val_loss: 0.0317 - val_accuracy: 0.9918\n",
            "Epoch 29/100\n",
            "1492/1500 [============================>.] - ETA: 0s - loss: 0.0197 - accuracy: 0.9935\n",
            "Epoch 29: val_accuracy did not improve from 0.99275\n",
            "1500/1500 [==============================] - 7s 4ms/step - loss: 0.0197 - accuracy: 0.9935 - val_loss: 0.0279 - val_accuracy: 0.9927\n",
            "Epoch 30/100\n",
            "1499/1500 [============================>.] - ETA: 0s - loss: 0.0204 - accuracy: 0.9934\n",
            "Epoch 30: val_accuracy improved from 0.99275 to 0.99283, saving model to mnist/model_1_2.h1\n",
            "1500/1500 [==============================] - 8s 5ms/step - loss: 0.0205 - accuracy: 0.9934 - val_loss: 0.0317 - val_accuracy: 0.9928\n",
            "Epoch 31/100\n",
            "1499/1500 [============================>.] - ETA: 0s - loss: 0.0177 - accuracy: 0.9943\n",
            "Epoch 31: val_accuracy did not improve from 0.99283\n",
            "1500/1500 [==============================] - 7s 4ms/step - loss: 0.0177 - accuracy: 0.9943 - val_loss: 0.0320 - val_accuracy: 0.9919\n",
            "Epoch 32/100\n",
            "1497/1500 [============================>.] - ETA: 0s - loss: 0.0202 - accuracy: 0.9935\n",
            "Epoch 32: val_accuracy did not improve from 0.99283\n",
            "1500/1500 [==============================] - 6s 4ms/step - loss: 0.0202 - accuracy: 0.9935 - val_loss: 0.0306 - val_accuracy: 0.9923\n",
            "Epoch 33/100\n",
            "1494/1500 [============================>.] - ETA: 0s - loss: 0.0208 - accuracy: 0.9932\n",
            "Epoch 33: val_accuracy did not improve from 0.99283\n",
            "1500/1500 [==============================] - 7s 4ms/step - loss: 0.0209 - accuracy: 0.9931 - val_loss: 0.0300 - val_accuracy: 0.9924\n",
            "Epoch 34/100\n",
            "1495/1500 [============================>.] - ETA: 0s - loss: 0.0206 - accuracy: 0.9928\n",
            "Epoch 34: val_accuracy did not improve from 0.99283\n",
            "1500/1500 [==============================] - 7s 4ms/step - loss: 0.0206 - accuracy: 0.9928 - val_loss: 0.0310 - val_accuracy: 0.9918\n",
            "Epoch 34: early stopping\n"
          ]
        }
      ]
    },
    {
      "cell_type": "code",
      "source": [
        "result = model_1_2.evaluate(test_imgs, test_labels)\n",
        "print(\"\\n테스트 정확도: %.4f\" %(result)[1])"
      ],
      "metadata": {
        "colab": {
          "base_uri": "https://localhost:8080/"
        },
        "outputId": "6227650f-180b-470f-8e9c-c77d3c876269",
        "id": "BBHg9vsCzFeD"
      },
      "execution_count": 31,
      "outputs": [
        {
          "output_type": "stream",
          "name": "stdout",
          "text": [
            "313/313 [==============================] - 1s 3ms/step - loss: 0.0238 - accuracy: 0.9932\n",
            "\n",
            "테스트 정확도: 0.9932\n"
          ]
        }
      ]
    },
    {
      "cell_type": "code",
      "source": [
        "loaded_model = load_model('mnist/model_1_2.h1')\n",
        "result_loaded = loaded_model.evaluate(test_imgs, test_labels)\n",
        "print(\"\\n불러온 모델 테스트 정확도: %.4f\" %(result_loaded)[1])"
      ],
      "metadata": {
        "colab": {
          "base_uri": "https://localhost:8080/"
        },
        "outputId": "8280cb42-ef7c-40b7-9a21-12c6b2a32071",
        "id": "-OddZd0hzFeE"
      },
      "execution_count": 32,
      "outputs": [
        {
          "output_type": "stream",
          "name": "stdout",
          "text": [
            "313/313 [==============================] - 1s 3ms/step - loss: 0.0260 - accuracy: 0.9927\n",
            "\n",
            "불러온 모델 테스트 정확도: 0.9927\n"
          ]
        }
      ]
    },
    {
      "cell_type": "code",
      "source": [
        "acc = hist_1_2.history['accuracy']\n",
        "val_acc = hist_1_2.history['val_accuracy']\n",
        "loss = hist_1_2.history['loss']\n",
        "val_loss = hist_1_2.history['val_loss']\n",
        "\n",
        "epochs = range(1, len(acc)+1)\n",
        "\n",
        "plt.figure(figsize=(8, 12))\n",
        "ax1=plt.subplot(2, 1, 1)\n",
        "ax2=plt.subplot(2, 1, 2)\n",
        "ax1.plot(epochs, acc, 'bo', label='Trainig acc')\n",
        "ax1.plot(epochs, val_acc, 'b', label='Validation acc')\n",
        "ax1.set_title(\"Training and Validation accuracy\")\n",
        "ax1.legend()\n",
        "ax2.plot(epochs, loss, 'bo', label='Traning loss')\n",
        "ax2.plot(epochs, val_loss, 'b', label='Validation loss')\n",
        "ax2.set_title(\"Training and Validation loss\")\n",
        "ax2.legend()\n",
        "plt.show()"
      ],
      "metadata": {
        "colab": {
          "base_uri": "https://localhost:8080/",
          "height": 716
        },
        "outputId": "34a1b010-3578-4bef-aee6-5ea254297720",
        "id": "0gLCkZufzFeE"
      },
      "execution_count": 33,
      "outputs": [
        {
          "output_type": "display_data",
          "data": {
            "text/plain": [
              "<Figure size 576x864 with 2 Axes>"
            ],
            "image/png": "[encoded data removed]"
          },
          "metadata": {
            "needs_background": "light"
          }
        }
      ]
    },
    {
      "cell_type": "code",
      "source": [
        "df.loc[2]=['CNN', 'model_1_2', '32(relu)-64(drop0.2/relu)-128(drop0.5/relu)-Flatten-64(sigmoid)-10(softmax)]', 'adam', 100, 32, 0.2, 'es/mc', \"%.4f\"%(result)[1], \"%.4f\"%(result_loaded)[1], \"%.4f\"%(result)[0], \"%.4f\"%(result_loaded)[0]]"
      ],
      "metadata": {
        "id": "i57lgiGgzFeF"
      },
      "execution_count": 34,
      "outputs": []
    },
    {
      "cell_type": "code",
      "source": [
        "df.head()"
      ],
      "metadata": {
        "colab": {
          "base_uri": "https://localhost:8080/",
          "height": 277
        },
        "id": "K82gOTDByz2D",
        "outputId": "d80c9ac6-d9d6-4b6e-ca29-b1e57e782ad6"
      },
      "execution_count": 35,
      "outputs": [
        {
          "output_type": "execute_result",
          "data": {
            "text/plain": [
              "    모델       Name                                          Structure  \\\n",
              "0  CNN    model_1  32(relu)-64(drop0.2/relu)-128(drop0.5/relu)-Fl...   \n",
              "1  CNN  model_1_1  32(relu)-64(drop0.2/relu)-128(drop0.5/relu)-Fl...   \n",
              "2  CNN  model_1_2  32(relu)-64(drop0.2/relu)-128(drop0.5/relu)-Fl...   \n",
              "\n",
              "  Optimizer  epochs  batch_size  validation_split callback Accuracy  \\\n",
              "0       SGD     100          32               0.2    es/mc   0.9931   \n",
              "1   rmsprop     100          32               0.2    es/mc   0.9910   \n",
              "2      adam     100          32               0.2    es/mc   0.9932   \n",
              "\n",
              "  MC_Accuracy    Loss MC_Loss  \n",
              "0      0.9928  0.0222  0.0230  \n",
              "1      0.9925  0.0342  0.0325  \n",
              "2      0.9927  0.0238  0.0260  "
            ],
            "text/html": [
              "\n",
              "  <div id=\"df-0b63ecb8-e260-42e0-9272-cad526a18a7e\">\n",
              "    <div class=\"colab-df-container\">\n",
              "      <div>\n",
              "<style scoped>\n",
              "    .dataframe tbody tr th:only-of-type {\n",
              "        vertical-align: middle;\n",
              "    }\n",
              "\n",
              "    .dataframe tbody tr th {\n",
              "        vertical-align: top;\n",
              "    }\n",
              "\n",
              "    .dataframe thead th {\n",
              "        text-align: right;\n",
              "    }\n",
              "</style>\n",
              "<table border=\"1\" class=\"dataframe\">\n",
              "  <thead>\n",
              "    <tr style=\"text-align: right;\">\n",
              "      <th></th>\n",
              "      <th>모델</th>\n",
              "      <th>Name</th>\n",
              "      <th>Structure</th>\n",
              "      <th>Optimizer</th>\n",
              "      <th>epochs</th>\n",
              "      <th>batch_size</th>\n",
              "      <th>validation_split</th>\n",
              "      <th>callback</th>\n",
              "      <th>Accuracy</th>\n",
              "      <th>MC_Accuracy</th>\n",
              "      <th>Loss</th>\n",
              "      <th>MC_Loss</th>\n",
              "    </tr>\n",
              "  </thead>\n",
              "  <tbody>\n",
              "    <tr>\n",
              "      <th>0</th>\n",
              "      <td>CNN</td>\n",
              "      <td>model_1</td>\n",
              "      <td>32(relu)-64(drop0.2/relu)-128(drop0.5/relu)-Fl...</td>\n",
              "      <td>SGD</td>\n",
              "      <td>100</td>\n",
              "      <td>32</td>\n",
              "      <td>0.2</td>\n",
              "      <td>es/mc</td>\n",
              "      <td>0.9931</td>\n",
              "      <td>0.9928</td>\n",
              "      <td>0.0222</td>\n",
              "      <td>0.0230</td>\n",
              "    </tr>\n",
              "    <tr>\n",
              "      <th>1</th>\n",
              "      <td>CNN</td>\n",
              "      <td>model_1_1</td>\n",
              "      <td>32(relu)-64(drop0.2/relu)-128(drop0.5/relu)-Fl...</td>\n",
              "      <td>rmsprop</td>\n",
              "      <td>100</td>\n",
              "      <td>32</td>\n",
              "      <td>0.2</td>\n",
              "      <td>es/mc</td>\n",
              "      <td>0.9910</td>\n",
              "      <td>0.9925</td>\n",
              "      <td>0.0342</td>\n",
              "      <td>0.0325</td>\n",
              "    </tr>\n",
              "    <tr>\n",
              "      <th>2</th>\n",
              "      <td>CNN</td>\n",
              "      <td>model_1_2</td>\n",
              "      <td>32(relu)-64(drop0.2/relu)-128(drop0.5/relu)-Fl...</td>\n",
              "      <td>adam</td>\n",
              "      <td>100</td>\n",
              "      <td>32</td>\n",
              "      <td>0.2</td>\n",
              "      <td>es/mc</td>\n",
              "      <td>0.9932</td>\n",
              "      <td>0.9927</td>\n",
              "      <td>0.0238</td>\n",
              "      <td>0.0260</td>\n",
              "    </tr>\n",
              "  </tbody>\n",
              "</table>\n",
              "</div>\n",
              "      <button class=\"colab-df-convert\" onclick=\"convertToInteractive('df-0b63ecb8-e260-42e0-9272-cad526a18a7e')\"\n",
              "              title=\"Convert this dataframe to an interactive table.\"\n",
              "              style=\"display:none;\">\n",
              "        \n",
              "  <svg xmlns=\"http://www.w3.org/2000/svg\" height=\"24px\"viewBox=\"0 0 24 24\"\n",
              "       width=\"24px\">\n",
              "    <path d=\"M0 0h24v24H0V0z\" fill=\"none\"/>\n",
              "    <path d=\"M18.56 5.44l.94 2.06.94-2.06 2.06-.94-2.06-.94-.94-2.06-.94 2.06-2.06.94zm-11 1L8.5 8.5l.94-2.06 2.06-.94-2.06-.94L8.5 2.5l-.94 2.06-2.06.94zm10 10l.94 2.06.94-2.06 2.06-.94-2.06-.94-.94-2.06-.94 2.06-2.06.94z\"/><path d=\"M17.41 7.96l-1.37-1.37c-.4-.4-.92-.59-1.43-.59-.52 0-1.04.2-1.43.59L10.3 9.45l-7.72 7.72c-.78.78-.78 2.05 0 2.83L4 21.41c.39.39.9.59 1.41.59.51 0 1.02-.2 1.41-.59l7.78-7.78 2.81-2.81c.8-.78.8-2.07 0-2.86zM5.41 20L4 18.59l7.72-7.72 1.47 1.35L5.41 20z\"/>\n",
              "  </svg>\n",
              "      </button>\n",
              "      \n",
              "  <style>\n",
              "    .colab-df-container {\n",
              "      display:flex;\n",
              "      flex-wrap:wrap;\n",
              "      gap: 12px;\n",
              "    }\n",
              "\n",
              "    .colab-df-convert {\n",
              "      background-color: #E8F0FE;\n",
              "      border: none;\n",
              "      border-radius: 50%;\n",
              "      cursor: pointer;\n",
              "      display: none;\n",
              "      fill: #1967D2;\n",
              "      height: 32px;\n",
              "      padding: 0 0 0 0;\n",
              "      width: 32px;\n",
              "    }\n",
              "\n",
              "    .colab-df-convert:hover {\n",
              "      background-color: #E2EBFA;\n",
              "      box-shadow: 0px 1px 2px rgba(60, 64, 67, 0.3), 0px 1px 3px 1px rgba(60, 64, 67, 0.15);\n",
              "      fill: #174EA6;\n",
              "    }\n",
              "\n",
              "    [theme=dark] .colab-df-convert {\n",
              "      background-color: #3B4455;\n",
              "      fill: #D2E3FC;\n",
              "    }\n",
              "\n",
              "    [theme=dark] .colab-df-convert:hover {\n",
              "      background-color: #434B5C;\n",
              "      box-shadow: 0px 1px 3px 1px rgba(0, 0, 0, 0.15);\n",
              "      filter: drop-shadow(0px 1px 2px rgba(0, 0, 0, 0.3));\n",
              "      fill: #FFFFFF;\n",
              "    }\n",
              "  </style>\n",
              "\n",
              "      <script>\n",
              "        const buttonEl =\n",
              "          document.querySelector('#df-0b63ecb8-e260-42e0-9272-cad526a18a7e button.colab-df-convert');\n",
              "        buttonEl.style.display =\n",
              "          google.colab.kernel.accessAllowed ? 'block' : 'none';\n",
              "\n",
              "        async function convertToInteractive(key) {\n",
              "          const element = document.querySelector('#df-0b63ecb8-e260-42e0-9272-cad526a18a7e');\n",
              "          const dataTable =\n",
              "            await google.colab.kernel.invokeFunction('convertToInteractive',\n",
              "                                                     [key], {});\n",
              "          if (!dataTable) return;\n",
              "\n",
              "          const docLinkHtml = 'Like what you see? Visit the ' +\n",
              "            '<a target=\"_blank\" href=https://colab.research.google.com/notebooks/data_table.ipynb>data table notebook</a>'\n",
              "            + ' to learn more about interactive tables.';\n",
              "          element.innerHTML = '';\n",
              "          dataTable['output_type'] = 'display_data';\n",
              "          await google.colab.output.renderOutput(dataTable, element);\n",
              "          const docLink = document.createElement('div');\n",
              "          docLink.innerHTML = docLinkHtml;\n",
              "          element.appendChild(docLink);\n",
              "        }\n",
              "      </script>\n",
              "    </div>\n",
              "  </div>\n",
              "  "
            ]
          },
          "metadata": {},
          "execution_count": 35
        }
      ]
    }
  ]
}