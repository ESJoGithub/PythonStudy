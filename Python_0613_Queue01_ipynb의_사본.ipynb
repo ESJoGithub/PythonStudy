{
  "nbformat": 4,
  "nbformat_minor": 0,
  "metadata": {
    "colab": {
      "name": "Python_0613_Queue01.ipynb의 사본",
      "provenance": [],
      "collapsed_sections": [],
      "authorship_tag": "ABX9TyObxy6hq+ByAinwCFt1lvMf",
      "include_colab_link": true
    },
    "kernelspec": {
      "name": "python3",
      "display_name": "Python 3"
    },
    "language_info": {
      "name": "python"
    }
  },
  "cells": [
    {
      "cell_type": "markdown",
      "metadata": {
        "id": "view-in-github",
        "colab_type": "text"
      },
      "source": [
        "<a href=\"https://colab.research.google.com/github/ESJoGithub/PythonStudy/blob/main/Python_0613_Queue01_ipynb%EC%9D%98_%EC%82%AC%EB%B3%B8.ipynb\" target=\"_parent\"><img src=\"https://colab.research.google.com/assets/colab-badge.svg\" alt=\"Open In Colab\"/></a>"
      ]
    },
    {
      "cell_type": "markdown",
      "source": [
        "## 미로 탐색 코드 만들기\n",
        "자료구조 Queue를 응용하여 미로 탐색 코드 만들기"
      ],
      "metadata": {
        "id": "TmYhe16Qlvze"
      }
    },
    {
      "cell_type": "code",
      "execution_count": 98,
      "metadata": {
        "id": "2kmf8ly63vRB"
      },
      "outputs": [],
      "source": [
        "class Maze :\n",
        "  def __init__(self, maze_size = 6):\n",
        "    self.queList=[]\n",
        "    self.front = 0\n",
        "    self.rear = 0\n",
        "    self._max = maze_size**2\n",
        "    self.queList = [None]*self._max\n",
        "  \n",
        "  def isEmpty(self):\n",
        "    if self.front == self.rear:\n",
        "      return True\n",
        "    else:\n",
        "      return False\n",
        "  \n",
        "  def enqueue(self, x):\n",
        "    if self.front !=  (self.rear+1)%self._max:\n",
        "      self.rear = (self.rear+1) % self._max\n",
        "      self.queList[self.rear] = x\n",
        "  \n",
        "  def dequeue(self):\n",
        "    if self.front != self.rear:\n",
        "      self.front = (self.front+1)%self._max\n",
        "      _item = self.queList[self.front]\n",
        "      self.queList[self.front] = None\n",
        "      return _item\n",
        "  \n",
        "  def clear(self):\n",
        "    self.front = self.rear\n",
        "\n",
        "  def check(self):\n",
        "    templist = []\n",
        "    for i in range((self.front+1)%self._max, self.rear+1, 1):\n",
        "      templist.append(self.queList[i])\n",
        "    print(templist)\n",
        "  \n",
        "  def findExit(self, _map, maze_size = 6):\n",
        "\n",
        "    for y in range(len(_map)):\n",
        "      for x in range(len(_map[y])):\n",
        "        if _map[y][x] == 'e':\n",
        "          start_p = (y, x)\n",
        "          self.enqueue(start_p)\n",
        "    \n",
        "    while self.isEmpty() is False:\n",
        "      loc = self.dequeue()\n",
        "      y = loc[0]\n",
        "      x = loc[1]      \n",
        "      _map[y][x] = '5'\n",
        "\n",
        "      for i in range(y-1, y+2):\n",
        "        if 0 <= i < maze_size:\n",
        "          for j in range(x-1, x+2):\n",
        "            if 0 <= j < maze_size:\n",
        "              if _map[i][j] == '0':\n",
        "                point = (i, j)\n",
        "                _map[i][j] = '-1'\n",
        "                self.enqueue(point)\n",
        "              elif _map[i][j] == 'x':\n",
        "                _map[i][j]='out'\n",
        "                self.clear()\n",
        "            else:\n",
        "              continue\n",
        "        else:\n",
        "          continue \n",
        "\n",
        "      for k in map:\n",
        "        print(k)\n",
        "      print()\n",
        "\n"
      ]
    },
    {
      "cell_type": "code",
      "source": [
        "test = Maze()\n",
        "map = [['1', '1', '1', '1', '1', '1'],\n",
        "       ['e', '0', '0', '0', '0', '1'],\n",
        "       ['1', '0', '1', '0', '1', '1'],\n",
        "       ['1', '1', '1', '0', '0', 'x'],\n",
        "       ['1', '1', '1', '0', '1', '1'],\n",
        "       ['1', '1', '1', '1', '1', '1']]"
      ],
      "metadata": {
        "id": "v5T7AGnVbP2q"
      },
      "execution_count": 99,
      "outputs": []
    },
    {
      "cell_type": "code",
      "source": [
        "test.findExit(map, 6)"
      ],
      "metadata": {
        "colab": {
          "base_uri": "https://localhost:8080/"
        },
        "id": "pR3uArtuLkPX",
        "outputId": "87cecf4d-cb0c-41c4-c382-f89a500218b7"
      },
      "execution_count": 100,
      "outputs": [
        {
          "output_type": "stream",
          "name": "stdout",
          "text": [
            "['1', '1', '1', '1', '1', '1']\n",
            "['5', '-1', '0', '0', '0', '1']\n",
            "['1', '-1', '1', '0', '1', '1']\n",
            "['1', '1', '1', '0', '0', 'x']\n",
            "['1', '1', '1', '0', '1', '1']\n",
            "['1', '1', '1', '1', '1', '1']\n",
            "\n",
            "['1', '1', '1', '1', '1', '1']\n",
            "['5', '5', '-1', '0', '0', '1']\n",
            "['1', '-1', '1', '0', '1', '1']\n",
            "['1', '1', '1', '0', '0', 'x']\n",
            "['1', '1', '1', '0', '1', '1']\n",
            "['1', '1', '1', '1', '1', '1']\n",
            "\n",
            "['1', '1', '1', '1', '1', '1']\n",
            "['5', '5', '-1', '0', '0', '1']\n",
            "['1', '5', '1', '0', '1', '1']\n",
            "['1', '1', '1', '0', '0', 'x']\n",
            "['1', '1', '1', '0', '1', '1']\n",
            "['1', '1', '1', '1', '1', '1']\n",
            "\n",
            "['1', '1', '1', '1', '1', '1']\n",
            "['5', '5', '5', '-1', '0', '1']\n",
            "['1', '5', '1', '-1', '1', '1']\n",
            "['1', '1', '1', '0', '0', 'x']\n",
            "['1', '1', '1', '0', '1', '1']\n",
            "['1', '1', '1', '1', '1', '1']\n",
            "\n",
            "['1', '1', '1', '1', '1', '1']\n",
            "['5', '5', '5', '5', '-1', '1']\n",
            "['1', '5', '1', '-1', '1', '1']\n",
            "['1', '1', '1', '0', '0', 'x']\n",
            "['1', '1', '1', '0', '1', '1']\n",
            "['1', '1', '1', '1', '1', '1']\n",
            "\n",
            "['1', '1', '1', '1', '1', '1']\n",
            "['5', '5', '5', '5', '-1', '1']\n",
            "['1', '5', '1', '5', '1', '1']\n",
            "['1', '1', '1', '-1', '-1', 'x']\n",
            "['1', '1', '1', '0', '1', '1']\n",
            "['1', '1', '1', '1', '1', '1']\n",
            "\n",
            "['1', '1', '1', '1', '1', '1']\n",
            "['5', '5', '5', '5', '5', '1']\n",
            "['1', '5', '1', '5', '1', '1']\n",
            "['1', '1', '1', '-1', '-1', 'x']\n",
            "['1', '1', '1', '0', '1', '1']\n",
            "['1', '1', '1', '1', '1', '1']\n",
            "\n",
            "['1', '1', '1', '1', '1', '1']\n",
            "['5', '5', '5', '5', '5', '1']\n",
            "['1', '5', '1', '5', '1', '1']\n",
            "['1', '1', '1', '5', '-1', 'x']\n",
            "['1', '1', '1', '-1', '1', '1']\n",
            "['1', '1', '1', '1', '1', '1']\n",
            "\n",
            "['1', '1', '1', '1', '1', '1']\n",
            "['5', '5', '5', '5', '5', '1']\n",
            "['1', '5', '1', '5', '1', '1']\n",
            "['1', '1', '1', '5', '5', 'out']\n",
            "['1', '1', '1', '-1', '1', '1']\n",
            "['1', '1', '1', '1', '1', '1']\n",
            "\n"
          ]
        }
      ]
    }
  ]
}