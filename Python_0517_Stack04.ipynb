{
  "nbformat": 4,
  "nbformat_minor": 0,
  "metadata": {
    "colab": {
      "name": "Python_0517_Stack04.ipynb",
      "provenance": [],
      "collapsed_sections": [],
      "authorship_tag": "ABX9TyOFwBq7hZ3q+9a/jBiNpeKQ",
      "include_colab_link": true
    },
    "kernelspec": {
      "name": "python3",
      "display_name": "Python 3"
    },
    "language_info": {
      "name": "python"
    }
  },
  "cells": [
    {
      "cell_type": "markdown",
      "metadata": {
        "id": "view-in-github",
        "colab_type": "text"
      },
      "source": [
        "<a href=\"https://colab.research.google.com/github/ESJoGithub/PythonStudy/blob/main/Python_0517_Stack04.ipynb\" target=\"_parent\"><img src=\"https://colab.research.google.com/assets/colab-badge.svg\" alt=\"Open In Colab\"/></a>"
      ]
    },
    {
      "cell_type": "markdown",
      "source": [
        "## 수식 계산 코드 만들기\n",
        "자료구조 Stack을 응용하여 중위표기식->후위표기식 변경 코드 만들기"
      ],
      "metadata": {
        "id": "VE6mu2Hd2j78"
      }
    },
    {
      "cell_type": "code",
      "source": [
        "class change:\n",
        "  def __init__(self):\n",
        "    self.stacklist = []\n",
        "\n",
        "  def isEmpty(self):\n",
        "    if len(self.stacklist)==0:\n",
        "      return True\n",
        "    else:\n",
        "      return False\n",
        "\n",
        "  def push(self, e):\n",
        "    self.stacklist.append(e)\n",
        "\n",
        "  def pop(self):\n",
        "    if len(self.stacklist) != 0:\n",
        "      e = self.stacklist[-1]\n",
        "      self.stacklist.pop(-1)\n",
        "      return e\n",
        "  \n",
        "  def peek(self):\n",
        "    if len(self.stacklist) != 0:\n",
        "      e = self.stacklist[-1]\n",
        "      return e\n",
        "    else:\n",
        "      return None\n",
        "  \n",
        "  def size(self):\n",
        "    count = len(self.stacklist)\n",
        "    print(\"스택의 항목 수는 총 {}개 입니다.\".format(count))\n",
        "    return count\n",
        "    \n",
        "  def clear(self):\n",
        "    self.stacklist=[]\n",
        "\n",
        "  def infix_To_Post(self, num_code):\n",
        "    cal_list = ['+', '*', '-', '/', '[', '{', '(', ')', '}', ']']\n",
        "    result = []\n",
        "    for i in num_code:\n",
        "      if i in cal_list:\n",
        "        j = self.peek()\n",
        "        if i in '[, {, (':\n",
        "          if j == None:\n",
        "            continue\n",
        "          else:\n",
        "            self.push(i)\n",
        "        if j == None or j in '[, {, (':\n",
        "          self.push(i)\n",
        "        elif j in \"+, -\" and i in \"*, /\":\n",
        "          self.push(i)\n",
        "        elif j in \"), }, ]\":\n",
        "          j = self.pop()\n",
        "          k = self.pop()\n",
        "          if k != None and k in '[, {, (':\n",
        "            e = self.pop\n",
        "            result.append(e)\n",
        "          elif k != None:\n",
        "            result.append(k)\n",
        "          else:\n",
        "            self.push(i)\n",
        "        else:\n",
        "          e = self.pop()\n",
        "          result.append(e)\n",
        "          self.push(i)\n",
        "\n",
        "      else:\n",
        "        result.append(i)\n",
        "        \n",
        "    for i in self.stacklist[::-1]:\n",
        "      if i not in [None, '[', '{', '(', ')', '}', ']']:     \n",
        "        result.append(i)\n",
        "    \n",
        "    for i in result:\n",
        "      if i in ['[', '{', '(', ')', '}', ']']:\n",
        "        result.remove(i)\n",
        "\n",
        "    self.clear()\n",
        "    return result"
      ],
      "metadata": {
        "id": "9-ZRA4ik2exF"
      },
      "execution_count": 19,
      "outputs": []
    },
    {
      "cell_type": "code",
      "source": [
        "test = change()\n",
        "infix = '{(3+5)*2-4}/4'\n",
        "postfix = test.infix_To_Post(infix)\n",
        "print(postfix)"
      ],
      "metadata": {
        "colab": {
          "base_uri": "https://localhost:8080/"
        },
        "id": "1lLKKvLAizNB",
        "outputId": "e6dd298c-4f7e-4b78-9c79-94142f4b0d8f"
      },
      "execution_count": 20,
      "outputs": [
        {
          "output_type": "stream",
          "name": "stdout",
          "text": [
            "['3', '5', '+', '2', '*', '4', '-', '4', '/']\n"
          ]
        }
      ]
    },
    {
      "cell_type": "code",
      "source": [
        "infix2 = 'A+B*C'\n",
        "postfix2 = test.infix_To_Post(infix2)\n",
        "print(postfix2)"
      ],
      "metadata": {
        "colab": {
          "base_uri": "https://localhost:8080/"
        },
        "id": "k5LqKQsIoRgQ",
        "outputId": "ae2ede89-1616-483d-dc98-05dfd340cc31"
      },
      "execution_count": 21,
      "outputs": [
        {
          "output_type": "stream",
          "name": "stdout",
          "text": [
            "['A', 'B', 'C', '*', '+']\n"
          ]
        }
      ]
    },
    {
      "cell_type": "code",
      "source": [
        "infix3 = '(3+5)*(4-2)'\n",
        "postfix3 = test.infix_To_Post(infix3)\n",
        "print(postfix3)"
      ],
      "metadata": {
        "colab": {
          "base_uri": "https://localhost:8080/"
        },
        "id": "wWBVHIHVw3C_",
        "outputId": "6a1bbe0b-fdba-4004-b62a-db8e81cb6cbc"
      },
      "execution_count": 22,
      "outputs": [
        {
          "output_type": "stream",
          "name": "stdout",
          "text": [
            "['3', '5', '+', '4', '2', '-', '*']\n"
          ]
        }
      ]
    },
    {
      "cell_type": "code",
      "source": [
        "infix4 = \"(8/2-3)+3*2\"\n",
        "postfix4 = test.infix_To_Post(infix4)\n",
        "print(postfix4)"
      ],
      "metadata": {
        "colab": {
          "base_uri": "https://localhost:8080/"
        },
        "id": "ms94w3s1ODJt",
        "outputId": "cdf8c889-2caa-45e5-c39c-75cee1b3c1f6"
      },
      "execution_count": 25,
      "outputs": [
        {
          "output_type": "stream",
          "name": "stdout",
          "text": [
            "['8', '2', '/', '3', '-', '3', '2', '*', '+']\n"
          ]
        }
      ]
    }
  ]
}