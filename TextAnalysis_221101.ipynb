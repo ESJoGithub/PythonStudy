{
 "cells": [
  {
   "cell_type": "code",
   "execution_count": 1,
   "id": "fd4fce82",
   "metadata": {},
   "outputs": [],
   "source": [
    "import joblib\n",
    "import re\n",
    "import pandas as pd\n",
    "import numpy as np\n",
    "from sklearn.cluster import SpectralClustering\n",
    "from sklearn.feature_extraction.text import TfidfVectorizer\n",
    "from sklearn.metrics.pairwise import cosine_similarity\n",
    "from konlpy.tag import Okt"
   ]
  },
  {
   "cell_type": "code",
   "execution_count": 2,
   "id": "5ba52f61",
   "metadata": {},
   "outputs": [],
   "source": [
    "df = pd.read_excel(\"./df_sample06.xlsx\", engine=\"openpyxl\", header=0, index_col=0)"
   ]
  },
  {
   "cell_type": "code",
   "execution_count": 3,
   "id": "44b7bd39",
   "metadata": {},
   "outputs": [
    {
     "name": "stdout",
     "output_type": "stream",
     "text": [
      "<class 'pandas.core.frame.DataFrame'>\n",
      "Int64Index: 76 entries, 0 to 75\n",
      "Data columns (total 7 columns):\n",
      " #   Column       Non-Null Count  Dtype \n",
      "---  ------       --------------  ----- \n",
      " 0   내용           76 non-null     object\n",
      " 1   학교           76 non-null     object\n",
      " 2   school_code  76 non-null     int64 \n",
      " 3   전공           76 non-null     object\n",
      " 4   진로           76 non-null     object\n",
      " 5   career_code  76 non-null     int64 \n",
      " 6   인성           76 non-null     object\n",
      "dtypes: int64(2), object(5)\n",
      "memory usage: 4.8+ KB\n"
     ]
    }
   ],
   "source": [
    "df.info()"
   ]
  },
  {
   "cell_type": "code",
   "execution_count": 4,
   "id": "5cbf5b6d",
   "metadata": {},
   "outputs": [],
   "source": [
    "content = df['내용']"
   ]
  },
  {
   "cell_type": "code",
   "execution_count": 5,
   "id": "37f29e40",
   "metadata": {
    "scrolled": true
   },
   "outputs": [
    {
     "name": "stdout",
     "output_type": "stream",
     "text": [
      "<class 'pandas.core.series.Series'>\n",
      "Int64Index: 76 entries, 0 to 75\n",
      "Series name: 내용\n",
      "Non-Null Count  Dtype \n",
      "--------------  ----- \n",
      "76 non-null     object\n",
      "dtypes: object(1)\n",
      "memory usage: 1.2+ KB\n"
     ]
    }
   ],
   "source": [
    "content.info()"
   ]
  },
  {
   "cell_type": "code",
   "execution_count": 6,
   "id": "e48b977c",
   "metadata": {},
   "outputs": [],
   "source": [
    "context = pd.DataFrame()"
   ]
  },
  {
   "cell_type": "code",
   "execution_count": 7,
   "id": "d494032c",
   "metadata": {},
   "outputs": [],
   "source": [
    "tagger = Okt()\n",
    "\n",
    "for i in range(len(content)):\n",
    "    texts = content[i].replace(\". \", \".\")\n",
    "    texts = texts.split(\".\")\n",
    "    for text in texts:\n",
    "        if len(text) <= 5:\n",
    "            continue\n",
    "        text = re.sub(r\"[^가-힣a-zA-Z0-9 ]\", \"\", text)\n",
    "        temp_df = pd.DataFrame({0:[text], 1:[i]})\n",
    "        context = pd.concat([context, temp_df], ignore_index = True)"
   ]
  },
  {
   "cell_type": "code",
   "execution_count": 8,
   "id": "9da39f5c",
   "metadata": {},
   "outputs": [
    {
     "name": "stdout",
     "output_type": "stream",
     "text": [
      "<class 'pandas.core.frame.DataFrame'>\n",
      "RangeIndex: 1875 entries, 0 to 1874\n",
      "Data columns (total 2 columns):\n",
      " #   Column  Non-Null Count  Dtype \n",
      "---  ------  --------------  ----- \n",
      " 0   0       1875 non-null   object\n",
      " 1   1       1875 non-null   int64 \n",
      "dtypes: int64(1), object(1)\n",
      "memory usage: 29.4+ KB\n"
     ]
    }
   ],
   "source": [
    "context.info()"
   ]
  },
  {
   "cell_type": "code",
   "execution_count": 9,
   "id": "5de54f5c",
   "metadata": {},
   "outputs": [],
   "source": [
    "def get_morphs(text):\n",
    "    _morphs = tagger.morphs(text)\n",
    "    _morphs = [word for word in _morphs if len(word) > 1]\n",
    "    return _morphs"
   ]
  },
  {
   "cell_type": "code",
   "execution_count": 10,
   "id": "44c98048",
   "metadata": {},
   "outputs": [],
   "source": [
    "def get_nouns(text):\n",
    "    _nouns = tagger.nouns(text)\n",
    "    _nouns = [word for word in _nouns if len(word) > 1]\n",
    "    return _nouns"
   ]
  },
  {
   "cell_type": "code",
   "execution_count": 11,
   "id": "c1bb83bb",
   "metadata": {},
   "outputs": [],
   "source": [
    "tfidf = TfidfVectorizer(tokenizer=get_morphs)"
   ]
  },
  {
   "cell_type": "code",
   "execution_count": 12,
   "id": "5c738e5f",
   "metadata": {},
   "outputs": [],
   "source": [
    "tdm = tfidf.fit_transform(context[0])"
   ]
  },
  {
   "cell_type": "code",
   "execution_count": 13,
   "id": "389accb1",
   "metadata": {
    "scrolled": true
   },
   "outputs": [
    {
     "data": {
      "text/plain": [
       "array(['힘들어하여', '힘들어해', '힘들었고', '힘들었다', '힘들었던', '힘들었지만', '힘써야', '힘쓰고',\n",
       "       '힘쓰고자', '힘쓸'], dtype=object)"
      ]
     },
     "execution_count": 13,
     "metadata": {},
     "output_type": "execute_result"
    }
   ],
   "source": [
    "tfidf.get_feature_names_out()[-10:]"
   ]
  },
  {
   "cell_type": "code",
   "execution_count": 63,
   "id": "608b7f74",
   "metadata": {},
   "outputs": [],
   "source": [
    "def get_similarity(idx, tdm):\n",
    "    axis_0, aixs_1 = tdm.shape\n",
    "    if 0 < idx < axis_0-1:\n",
    "        sim_1 = cosine_similarity(tdm[idx], tdm[:idx])\n",
    "        sim_2 = cosine_similarity(tdm[idx], tdm[idx+1:])\n",
    "        sim = np.concatenate((sim_1, sim_2), axis=1)\n",
    "        \n",
    "    elif idx == 0:\n",
    "        sim = cosine_similarity(tdm[0], tdm[1:])\n",
    "    elif idx == axis_0 - 1:\n",
    "        sim = cosine_similarity(tdm[idx], tdm[:idx])\n",
    "    \n",
    "    sim_idx = np.argmax(sim)\n",
    "    similarity = sim.max()\n",
    "    if sim_idx >= idx :\n",
    "        sim_idx += 1\n",
    "\n",
    "    return sim_idx, similarity"
   ]
  },
  {
   "cell_type": "code",
   "execution_count": 64,
   "id": "4b5dd10c",
   "metadata": {},
   "outputs": [],
   "source": [
    "label = context[1]"
   ]
  },
  {
   "cell_type": "code",
   "execution_count": 65,
   "id": "12ba4aeb",
   "metadata": {},
   "outputs": [
    {
     "name": "stdout",
     "output_type": "stream",
     "text": [
      "505\n",
      "--------------------\n",
      "영어는 학교 수업 외에도 영미문화이해 동아리 등 다앙한 활동으로 의사소통 능력율 키웠다\n",
      "--------------------\n",
      "영어는 학교 공부 외에도 영어 토론과 모의유엔 영어 신문 동아리 활동에 참여해 자유로운 소통 능력 을 키웠다\n",
      "--------------------\n",
      "0.390797858105065\n"
     ]
    }
   ],
   "source": [
    "idx = 412\n",
    "sim_idx, similarity = get_similarity(idx, tdm)\n",
    "print(sim_idx)\n",
    "print(\"-\"*20)\n",
    "print(context.loc[idx, 0])\n",
    "print(\"-\"*20)\n",
    "print(context.loc[sim_idx, 0])\n",
    "print(\"-\"*20)\n",
    "print(similarity)"
   ]
  },
  {
   "cell_type": "code",
   "execution_count": 68,
   "id": "c3231f55",
   "metadata": {
    "scrolled": true
   },
   "outputs": [
    {
     "name": "stdout",
     "output_type": "stream",
     "text": [
      "이외에도 장래 희망을 이루기 위해 노력해왔다\n",
      "--------------------\n",
      "나의 장래 희망은 중학교 영 어 교 사 다 \n",
      "--------------------\n",
      "0.5116894552917461\n"
     ]
    }
   ],
   "source": [
    "idx = 661\n",
    "sim_idx, similarity = get_similarity(idx, tdm)\n",
    "print(context.loc[idx, 0])\n",
    "print(\"-\"*20)\n",
    "print(context.loc[sim_idx, 0])\n",
    "print(\"-\"*20)\n",
    "print(similarity)"
   ]
  },
  {
   "cell_type": "code",
   "execution_count": 45,
   "id": "2dbe4888",
   "metadata": {},
   "outputs": [],
   "source": [
    "with open('Coverletter.pkl', 'wb') as f:\n",
    "    joblib.dump({'tdm': tdm, 'context': context}, f)"
   ]
  },
  {
   "cell_type": "code",
   "execution_count": 46,
   "id": "3b54504f",
   "metadata": {},
   "outputs": [],
   "source": [
    "context.to_excel(\"context.xlsx\")"
   ]
  },
  {
   "cell_type": "markdown",
   "id": "556db28f",
   "metadata": {},
   "source": [
    "## LDA 시도"
   ]
  },
  {
   "cell_type": "markdown",
   "id": "cb18566b",
   "metadata": {},
   "source": [
    ".... TDM을 문서 단위, 혹은 문단 나눈 단위로 만들어야할 듯\n",
    "& 형태소 분석을 명사로 진행하여 재시도 예정"
   ]
  },
  {
   "cell_type": "code",
   "execution_count": null,
   "id": "6adbfb4e",
   "metadata": {},
   "outputs": [],
   "source": [
    "with open('Coverletter.pkl', 'rb') as f:\n",
    "    data = joblib.load(f)\n",
    "locals().update(data)"
   ]
  },
  {
   "cell_type": "code",
   "execution_count": null,
   "id": "ade49c5f",
   "metadata": {},
   "outputs": [],
   "source": [
    "len(context)"
   ]
  },
  {
   "cell_type": "code",
   "execution_count": null,
   "id": "851463e7",
   "metadata": {},
   "outputs": [],
   "source": [
    "words = tfidf.get_feature_names_out()"
   ]
  },
  {
   "cell_type": "code",
   "execution_count": null,
   "id": "4d17ea56",
   "metadata": {},
   "outputs": [],
   "source": [
    "word_dict = dict(enumerate(words))"
   ]
  },
  {
   "cell_type": "code",
   "execution_count": null,
   "id": "4cbb796c",
   "metadata": {},
   "outputs": [],
   "source": [
    "len(word_dict)"
   ]
  },
  {
   "cell_type": "code",
   "execution_count": null,
   "id": "0f271a4a",
   "metadata": {},
   "outputs": [],
   "source": [
    "from gensim.matutils import Sparse2Corpus"
   ]
  },
  {
   "cell_type": "code",
   "execution_count": null,
   "id": "15c487a8",
   "metadata": {},
   "outputs": [],
   "source": [
    "corpus = Sparse2Corpus(tdm.T)\n",
    "corpus"
   ]
  },
  {
   "cell_type": "code",
   "execution_count": null,
   "id": "0b19fe24",
   "metadata": {},
   "outputs": [],
   "source": [
    "from gensim.models import LdaModel"
   ]
  },
  {
   "cell_type": "code",
   "execution_count": null,
   "id": "94d2126c",
   "metadata": {},
   "outputs": [],
   "source": [
    "lda = LdaModel(corpus=corpus, num_topics=20, id2word=word_dict)"
   ]
  },
  {
   "cell_type": "code",
   "execution_count": null,
   "id": "eae69336",
   "metadata": {},
   "outputs": [],
   "source": [
    "lda.show_topic(5)"
   ]
  },
  {
   "cell_type": "code",
   "execution_count": null,
   "id": "2eed0efd",
   "metadata": {},
   "outputs": [],
   "source": []
  }
 ],
 "metadata": {
  "kernelspec": {
   "display_name": "Python 3 (ipykernel)",
   "language": "python",
   "name": "python3"
  },
  "language_info": {
   "codemirror_mode": {
    "name": "ipython",
    "version": 3
   },
   "file_extension": ".py",
   "mimetype": "text/x-python",
   "name": "python",
   "nbconvert_exporter": "python",
   "pygments_lexer": "ipython3",
   "version": "3.9.13"
  }
 },
 "nbformat": 4,
 "nbformat_minor": 5
}
