{
  "nbformat": 4,
  "nbformat_minor": 0,
  "metadata": {
    "colab": {
      "provenance": [],
      "collapsed_sections": [],
      "mount_file_id": "1-5ETZCmEKypRr2Akv1ACFz2nNjCeFjTn",
      "authorship_tag": "ABX9TyNf+Z/erFVCqd9osSPG6Fne",
      "include_colab_link": true
    },
    "kernelspec": {
      "name": "python3",
      "display_name": "Python 3"
    },
    "language_info": {
      "name": "python"
    }
  },
  "cells": [
    {
      "cell_type": "markdown",
      "metadata": {
        "id": "view-in-github",
        "colab_type": "text"
      },
      "source": [
        "<a href=\"https://colab.research.google.com/github/ESJoGithub/PythonStudy/blob/main/Keras_220920_MNIST_%EC%8B%A4%EC%8A%B501.ipynb\" target=\"_parent\"><img src=\"https://colab.research.google.com/assets/colab-badge.svg\" alt=\"Open In Colab\"/></a>"
      ]
    },
    {
      "cell_type": "markdown",
      "source": [
        "### **1. Library Import**"
      ],
      "metadata": {
        "id": "9Tx44ggmYNsD"
      }
    },
    {
      "cell_type": "code",
      "source": [
        "from keras import datasets, layers, models                \n",
        "from tensorflow import keras                         # to_categorical 함수\n",
        "from tensorflow.keras.models import load_model\n",
        "\n",
        "import numpy as np\n",
        "import matplotlib.pyplot as plt"
      ],
      "metadata": {
        "id": "UFco5dLCQBQF"
      },
      "execution_count": null,
      "outputs": []
    },
    {
      "cell_type": "code",
      "source": [
        "(train_imgs, train_labels), (test_imgs, test_labels) = datasets.mnist.load_data()"
      ],
      "metadata": {
        "id": "rwcqMzdKTPwN"
      },
      "execution_count": null,
      "outputs": []
    },
    {
      "cell_type": "markdown",
      "source": [
        "### **2. 데이터 확인 및 전처리**"
      ],
      "metadata": {
        "id": "vcIHfL7pYJps"
      }
    },
    {
      "cell_type": "code",
      "source": [
        "train_imgs = train_imgs/255.0\n",
        "test_imgs = test_imgs/255.0"
      ],
      "metadata": {
        "id": "w4IFaKuOYIfc"
      },
      "execution_count": null,
      "outputs": []
    },
    {
      "cell_type": "code",
      "source": [
        "train_labels = keras.utils.to_categorical(train_labels, num_classes=10)\n",
        "test_labels = keras.utils.to_categorical(test_labels, num_classes=10)"
      ],
      "metadata": {
        "id": "ouDs40X-n_uw"
      },
      "execution_count": null,
      "outputs": []
    },
    {
      "cell_type": "markdown",
      "source": [
        "### __try01 baseline 모델에서 Hyper Parameter 수정__\n",
        "\n",
        "수정 Hyper Parameter\n",
        "\n",
        "> optimizer, ephochs 수, batch_size, 검증데이터 설정 여부 등"
      ],
      "metadata": {
        "id": "NTqxfKdbYvVL"
      }
    },
    {
      "cell_type": "code",
      "source": [
        "import keras                                               # histroy 함수를 위해 import"
      ],
      "metadata": {
        "id": "ivWlQdWayf2t"
      },
      "execution_count": null,
      "outputs": []
    },
    {
      "cell_type": "markdown",
      "source": [
        "#### optimizer = adam / epoch = 20 / 검증데이터 추가(0.2)\n",
        "\n",
        ":baseline 모델에 비해 큰 성능차이를 보이지 않으며 오히려 더 많은 epoch을 돌린 기본 모델보다 loss율이 크다. "
      ],
      "metadata": {
        "id": "hcbJ6qj9W09o"
      }
    },
    {
      "cell_type": "code",
      "source": [
        "model_1_1 = keras.Sequential([\n",
        "  layers.Flatten(input_shape=(28, 28)),\n",
        "  layers.Dense(128, activation='relu'),\n",
        "  layers.Dense(64, activation='relu'),\n",
        "  layers.Dense(10, activation='softmax')\n",
        "])\n",
        "model_1_1.compile(optimizer='adam', loss=\"categorical_crossentropy\", metrics=['accuracy'])"
      ],
      "metadata": {
        "id": "LSy5b6TEYmJj"
      },
      "execution_count": null,
      "outputs": []
    },
    {
      "cell_type": "code",
      "source": [
        "hist_1_1 = model_1_1.fit(train_imgs, train_labels, epochs=20, validation_split=0.2)"
      ],
      "metadata": {
        "colab": {
          "base_uri": "https://localhost:8080/"
        },
        "id": "rmGRWjkknkZo",
        "outputId": "b43fdef9-f619-45fc-c339-ab9a56ff4f0a"
      },
      "execution_count": null,
      "outputs": [
        {
          "output_type": "stream",
          "name": "stdout",
          "text": [
            "Epoch 1/20\n",
            "1500/1500 [==============================] - 5s 3ms/step - loss: 0.2705 - accuracy: 0.9206 - val_loss: 0.1354 - val_accuracy: 0.9613\n",
            "Epoch 2/20\n",
            "1500/1500 [==============================] - 6s 4ms/step - loss: 0.1111 - accuracy: 0.9663 - val_loss: 0.1035 - val_accuracy: 0.9699\n",
            "Epoch 3/20\n",
            "1500/1500 [==============================] - 8s 5ms/step - loss: 0.0761 - accuracy: 0.9769 - val_loss: 0.1039 - val_accuracy: 0.9688\n",
            "Epoch 4/20\n",
            "1500/1500 [==============================] - 5s 3ms/step - loss: 0.0574 - accuracy: 0.9818 - val_loss: 0.1000 - val_accuracy: 0.9719\n",
            "Epoch 5/20\n",
            "1500/1500 [==============================] - 4s 3ms/step - loss: 0.0440 - accuracy: 0.9860 - val_loss: 0.1047 - val_accuracy: 0.9725\n",
            "Epoch 6/20\n",
            "1500/1500 [==============================] - 4s 3ms/step - loss: 0.0373 - accuracy: 0.9872 - val_loss: 0.1092 - val_accuracy: 0.9701\n",
            "Epoch 7/20\n",
            "1500/1500 [==============================] - 4s 3ms/step - loss: 0.0291 - accuracy: 0.9905 - val_loss: 0.0991 - val_accuracy: 0.9763\n",
            "Epoch 8/20\n",
            "1500/1500 [==============================] - 4s 3ms/step - loss: 0.0251 - accuracy: 0.9914 - val_loss: 0.1081 - val_accuracy: 0.9733\n",
            "Epoch 9/20\n",
            "1500/1500 [==============================] - 4s 3ms/step - loss: 0.0208 - accuracy: 0.9928 - val_loss: 0.0989 - val_accuracy: 0.9754\n",
            "Epoch 10/20\n",
            "1500/1500 [==============================] - 4s 3ms/step - loss: 0.0193 - accuracy: 0.9933 - val_loss: 0.1105 - val_accuracy: 0.9748\n",
            "Epoch 11/20\n",
            "1500/1500 [==============================] - 4s 3ms/step - loss: 0.0150 - accuracy: 0.9951 - val_loss: 0.1274 - val_accuracy: 0.9732\n",
            "Epoch 12/20\n",
            "1500/1500 [==============================] - 4s 3ms/step - loss: 0.0138 - accuracy: 0.9953 - val_loss: 0.1203 - val_accuracy: 0.9747\n",
            "Epoch 13/20\n",
            "1500/1500 [==============================] - 4s 3ms/step - loss: 0.0159 - accuracy: 0.9946 - val_loss: 0.1374 - val_accuracy: 0.9719\n",
            "Epoch 14/20\n",
            "1500/1500 [==============================] - 4s 3ms/step - loss: 0.0117 - accuracy: 0.9962 - val_loss: 0.1341 - val_accuracy: 0.9766\n",
            "Epoch 15/20\n",
            "1500/1500 [==============================] - 4s 3ms/step - loss: 0.0129 - accuracy: 0.9954 - val_loss: 0.1283 - val_accuracy: 0.9759\n",
            "Epoch 16/20\n",
            "1500/1500 [==============================] - 5s 3ms/step - loss: 0.0124 - accuracy: 0.9958 - val_loss: 0.1234 - val_accuracy: 0.9758\n",
            "Epoch 17/20\n",
            "1500/1500 [==============================] - 4s 3ms/step - loss: 0.0124 - accuracy: 0.9961 - val_loss: 0.1278 - val_accuracy: 0.9762\n",
            "Epoch 18/20\n",
            "1500/1500 [==============================] - 4s 3ms/step - loss: 0.0093 - accuracy: 0.9969 - val_loss: 0.1501 - val_accuracy: 0.9736\n",
            "Epoch 19/20\n",
            "1500/1500 [==============================] - 4s 3ms/step - loss: 0.0113 - accuracy: 0.9962 - val_loss: 0.1426 - val_accuracy: 0.9757\n",
            "Epoch 20/20\n",
            "1500/1500 [==============================] - 4s 3ms/step - loss: 0.0087 - accuracy: 0.9973 - val_loss: 0.1745 - val_accuracy: 0.9736\n"
          ]
        }
      ]
    },
    {
      "cell_type": "code",
      "source": [
        "acc = hist_1_1.history['accuracy']\n",
        "val_acc = hist_1_1.history['val_accuracy']\n",
        "\n",
        "epochs = range(1, len(acc)+1)\n",
        "\n",
        "plt.plot(epochs, acc, 'bo', label='Trainig acc')\n",
        "plt.plot(epochs, val_acc, 'b', label='Validation acc')\n",
        "plt.title(\"Training and Validation accuracy\")\n",
        "plt.legend()\n",
        "plt.show()"
      ],
      "metadata": {
        "colab": {
          "base_uri": "https://localhost:8080/",
          "height": 281
        },
        "id": "mFOaiWO_sRfX",
        "outputId": "1ab827c1-e1fb-444b-eea3-35697170d092"
      },
      "execution_count": null,
      "outputs": [
        {
          "output_type": "display_data",
          "data": {
            "text/plain": [
              "<Figure size 432x288 with 1 Axes>"
            ],
            "image/png": "[encoded data removed]"
          },
          "metadata": {
            "needs_background": "light"
          }
        }
      ]
    },
    {
      "cell_type": "code",
      "source": [
        "model_1_1.evaluate(test_imgs, test_labels)"
      ],
      "metadata": {
        "colab": {
          "base_uri": "https://localhost:8080/"
        },
        "id": "A4f_4uKMk9gD",
        "outputId": "d8557341-593b-4e35-eba3-06dc7d6a0df9"
      },
      "execution_count": null,
      "outputs": [
        {
          "output_type": "stream",
          "name": "stdout",
          "text": [
            "313/313 [==============================] - 1s 3ms/step - loss: 0.1318 - accuracy: 0.9755\n"
          ]
        },
        {
          "output_type": "execute_result",
          "data": {
            "text/plain": [
              "[0.1317669004201889, 0.9754999876022339]"
            ]
          },
          "metadata": {},
          "execution_count": 22
        }
      ]
    },
    {
      "cell_type": "markdown",
      "source": [
        "#### optimizer = adam / epoch = 20 / 검증데이터 추가(0.2) / batch_size=64\n",
        "\n",
        "loss는 감소했지만 accuracy도 근소하게 감소함"
      ],
      "metadata": {
        "id": "BZTl8Z_0XqNx"
      }
    },
    {
      "cell_type": "code",
      "source": [
        "model_1_2 = keras.Sequential([\n",
        "  layers.Flatten(input_shape=(28, 28)),\n",
        "  layers.Dense(128, activation='relu'),\n",
        "  layers.Dense(64, activation='relu'),\n",
        "  layers.Dense(10, activation='softmax')\n",
        "])\n",
        "model_1_2.compile(optimizer='adam', loss=\"categorical_crossentropy\", metrics=['accuracy'])"
      ],
      "metadata": {
        "id": "l6Vo_CGKXqNx"
      },
      "execution_count": null,
      "outputs": []
    },
    {
      "cell_type": "code",
      "source": [
        "hist_1_2 = model_1_2.fit(train_imgs, train_labels, epochs=20, batch_size=64, validation_split=0.2)"
      ],
      "metadata": {
        "colab": {
          "base_uri": "https://localhost:8080/"
        },
        "id": "VDxy6ke2XqNy",
        "outputId": "21360fde-307d-44fa-a7d4-9640e897cb26"
      },
      "execution_count": null,
      "outputs": [
        {
          "output_type": "stream",
          "name": "stdout",
          "text": [
            "Epoch 1/20\n",
            "750/750 [==============================] - 3s 3ms/step - loss: 0.3114 - accuracy: 0.9105 - val_loss: 0.1613 - val_accuracy: 0.9535\n",
            "Epoch 2/20\n",
            "750/750 [==============================] - 2s 3ms/step - loss: 0.1246 - accuracy: 0.9629 - val_loss: 0.1228 - val_accuracy: 0.9632\n",
            "Epoch 3/20\n",
            "750/750 [==============================] - 2s 3ms/step - loss: 0.0833 - accuracy: 0.9748 - val_loss: 0.0985 - val_accuracy: 0.9712\n",
            "Epoch 4/20\n",
            "750/750 [==============================] - 2s 3ms/step - loss: 0.0636 - accuracy: 0.9812 - val_loss: 0.0894 - val_accuracy: 0.9735\n",
            "Epoch 5/20\n",
            "750/750 [==============================] - 2s 3ms/step - loss: 0.0500 - accuracy: 0.9846 - val_loss: 0.0918 - val_accuracy: 0.9732\n",
            "Epoch 6/20\n",
            "750/750 [==============================] - 2s 3ms/step - loss: 0.0378 - accuracy: 0.9884 - val_loss: 0.0846 - val_accuracy: 0.9762\n",
            "Epoch 7/20\n",
            "750/750 [==============================] - 2s 3ms/step - loss: 0.0315 - accuracy: 0.9904 - val_loss: 0.0900 - val_accuracy: 0.9751\n",
            "Epoch 8/20\n",
            "750/750 [==============================] - 2s 3ms/step - loss: 0.0248 - accuracy: 0.9921 - val_loss: 0.0950 - val_accuracy: 0.9753\n",
            "Epoch 9/20\n",
            "750/750 [==============================] - 2s 3ms/step - loss: 0.0222 - accuracy: 0.9934 - val_loss: 0.0959 - val_accuracy: 0.9763\n",
            "Epoch 10/20\n",
            "750/750 [==============================] - 2s 3ms/step - loss: 0.0183 - accuracy: 0.9940 - val_loss: 0.0985 - val_accuracy: 0.9757\n",
            "Epoch 11/20\n",
            "750/750 [==============================] - 2s 3ms/step - loss: 0.0158 - accuracy: 0.9946 - val_loss: 0.1086 - val_accuracy: 0.9740\n",
            "Epoch 12/20\n",
            "750/750 [==============================] - 2s 3ms/step - loss: 0.0126 - accuracy: 0.9959 - val_loss: 0.1008 - val_accuracy: 0.9770\n",
            "Epoch 13/20\n",
            "750/750 [==============================] - 2s 3ms/step - loss: 0.0135 - accuracy: 0.9954 - val_loss: 0.1145 - val_accuracy: 0.9738\n",
            "Epoch 14/20\n",
            "750/750 [==============================] - 2s 3ms/step - loss: 0.0094 - accuracy: 0.9970 - val_loss: 0.1170 - val_accuracy: 0.9754\n",
            "Epoch 15/20\n",
            "750/750 [==============================] - 2s 3ms/step - loss: 0.0104 - accuracy: 0.9965 - val_loss: 0.1271 - val_accuracy: 0.9751\n",
            "Epoch 16/20\n",
            "750/750 [==============================] - 2s 3ms/step - loss: 0.0075 - accuracy: 0.9977 - val_loss: 0.1246 - val_accuracy: 0.9758\n",
            "Epoch 17/20\n",
            "750/750 [==============================] - 3s 3ms/step - loss: 0.0124 - accuracy: 0.9957 - val_loss: 0.1193 - val_accuracy: 0.9750\n",
            "Epoch 18/20\n",
            "750/750 [==============================] - 2s 3ms/step - loss: 0.0087 - accuracy: 0.9973 - val_loss: 0.1126 - val_accuracy: 0.9780\n",
            "Epoch 19/20\n",
            "750/750 [==============================] - 2s 3ms/step - loss: 0.0084 - accuracy: 0.9974 - val_loss: 0.1260 - val_accuracy: 0.9749\n",
            "Epoch 20/20\n",
            "750/750 [==============================] - 2s 3ms/step - loss: 0.0071 - accuracy: 0.9976 - val_loss: 0.1299 - val_accuracy: 0.9745\n"
          ]
        }
      ]
    },
    {
      "cell_type": "code",
      "source": [
        "acc = hist_1_2.history['accuracy']\n",
        "val_acc = hist_1_2.history['val_accuracy']\n",
        "\n",
        "epochs = range(1, len(acc)+1)\n",
        "\n",
        "plt.plot(epochs, acc, 'bo', label='Trainig acc')\n",
        "plt.plot(epochs, val_acc, 'b', label='Validation acc')\n",
        "plt.title(\"Training and Validation accuracy\")\n",
        "plt.legend()\n",
        "plt.show()"
      ],
      "metadata": {
        "colab": {
          "base_uri": "https://localhost:8080/",
          "height": 281
        },
        "id": "yVRrFcAmXqNy",
        "outputId": "dbd183fb-90a7-4b4a-a413-a5f9355c3fb4"
      },
      "execution_count": null,
      "outputs": [
        {
          "output_type": "display_data",
          "data": {
            "text/plain": [
              "<Figure size 432x288 with 1 Axes>"
            ],
            "image/png": "[encoded data removed]"
          },
          "metadata": {
            "needs_background": "light"
          }
        }
      ]
    },
    {
      "cell_type": "code",
      "source": [
        "model_1_2.evaluate(test_imgs, test_labels)"
      ],
      "metadata": {
        "colab": {
          "base_uri": "https://localhost:8080/"
        },
        "id": "MMFw8Z2JXqNz",
        "outputId": "a46c4635-e34c-47b1-8031-0dbca19e00ca"
      },
      "execution_count": null,
      "outputs": [
        {
          "output_type": "stream",
          "name": "stdout",
          "text": [
            "313/313 [==============================] - 1s 2ms/step - loss: 0.1282 - accuracy: 0.9751\n"
          ]
        },
        {
          "output_type": "execute_result",
          "data": {
            "text/plain": [
              "[0.12822434306144714, 0.9750999808311462]"
            ]
          },
          "metadata": {},
          "execution_count": 26
        }
      ]
    },
    {
      "cell_type": "markdown",
      "source": [
        "### __try02 baseline 모델에서 은닉층 추가__\n",
        "\n",
        "수정 Hyper Parameter\n",
        "\n",
        "> 노드 수, layer 수, optimizer, ephochs 수, batch_size, 검증데이터 설정 여부 등"
      ],
      "metadata": {
        "id": "cBskrq8IbJPv"
      }
    },
    {
      "cell_type": "markdown",
      "source": [
        "> layer 추가 / optimizer = SGD / loss = categorical_crossentropy function / epoch = 30 / 검증데이터 추가(0.2) / batch_size=64"
      ],
      "metadata": {
        "id": "_nMTskgZb8bw"
      }
    },
    {
      "cell_type": "code",
      "source": [
        "model_2_1 = keras.Sequential([\n",
        "  layers.Flatten(input_shape=(28, 28)),\n",
        "  layers.Dense(128, activation='relu'),\n",
        "  layers.Dense(64, activation='relu'),\n",
        "  layers.Dense(128, activation='relu'),\n",
        "  layers.Dense(64, activation='relu'),\n",
        "  layers.Dense(128, activation='relu'),\n",
        "  layers.Dense(64, activation='relu'),\n",
        "  layers.Dense(10, activation='softmax')\n",
        "])\n",
        "model_2_1.compile(optimizer='SGD', loss=\"categorical_crossentropy\", metrics=['accuracy'])"
      ],
      "metadata": {
        "id": "Uhcm5HpSbfLK"
      },
      "execution_count": null,
      "outputs": []
    },
    {
      "cell_type": "code",
      "source": [
        "hist_2_1 = model_2_1.fit(train_imgs, train_labels, epochs=30, validation_split=0.2)"
      ],
      "metadata": {
        "colab": {
          "base_uri": "https://localhost:8080/"
        },
        "outputId": "961de9de-2d8f-4353-d034-2e4286814bea",
        "id": "L8VDZ-labfLK"
      },
      "execution_count": null,
      "outputs": [
        {
          "output_type": "stream",
          "name": "stdout",
          "text": [
            "Epoch 1/30\n",
            "1500/1500 [==============================] - 6s 4ms/step - loss: 1.0713 - accuracy: 0.6623 - val_loss: 0.3503 - val_accuracy: 0.8968\n",
            "Epoch 2/30\n",
            "1500/1500 [==============================] - 4s 3ms/step - loss: 0.3020 - accuracy: 0.9106 - val_loss: 0.2360 - val_accuracy: 0.9312\n",
            "Epoch 3/30\n",
            "1500/1500 [==============================] - 5s 3ms/step - loss: 0.2130 - accuracy: 0.9377 - val_loss: 0.1801 - val_accuracy: 0.9476\n",
            "Epoch 4/30\n",
            "1500/1500 [==============================] - 5s 3ms/step - loss: 0.1650 - accuracy: 0.9513 - val_loss: 0.1663 - val_accuracy: 0.9518\n",
            "Epoch 5/30\n",
            "1500/1500 [==============================] - 4s 3ms/step - loss: 0.1354 - accuracy: 0.9606 - val_loss: 0.1428 - val_accuracy: 0.9583\n",
            "Epoch 6/30\n",
            "1500/1500 [==============================] - 4s 3ms/step - loss: 0.1155 - accuracy: 0.9654 - val_loss: 0.1560 - val_accuracy: 0.9523\n",
            "Epoch 7/30\n",
            "1500/1500 [==============================] - 5s 3ms/step - loss: 0.1007 - accuracy: 0.9706 - val_loss: 0.1265 - val_accuracy: 0.9614\n",
            "Epoch 8/30\n",
            "1500/1500 [==============================] - 4s 3ms/step - loss: 0.0875 - accuracy: 0.9738 - val_loss: 0.1177 - val_accuracy: 0.9662\n",
            "Epoch 9/30\n",
            "1500/1500 [==============================] - 4s 3ms/step - loss: 0.0758 - accuracy: 0.9775 - val_loss: 0.1194 - val_accuracy: 0.9657\n",
            "Epoch 10/30\n",
            "1500/1500 [==============================] - 4s 3ms/step - loss: 0.0685 - accuracy: 0.9797 - val_loss: 0.1031 - val_accuracy: 0.9694\n",
            "Epoch 11/30\n",
            "1500/1500 [==============================] - 5s 3ms/step - loss: 0.0591 - accuracy: 0.9823 - val_loss: 0.1075 - val_accuracy: 0.9677\n",
            "Epoch 12/30\n",
            "1500/1500 [==============================] - 5s 3ms/step - loss: 0.0531 - accuracy: 0.9844 - val_loss: 0.1099 - val_accuracy: 0.9691\n",
            "Epoch 13/30\n",
            "1500/1500 [==============================] - 5s 3ms/step - loss: 0.0469 - accuracy: 0.9861 - val_loss: 0.1139 - val_accuracy: 0.9686\n",
            "Epoch 14/30\n",
            "1500/1500 [==============================] - 6s 4ms/step - loss: 0.0410 - accuracy: 0.9885 - val_loss: 0.1138 - val_accuracy: 0.9679\n",
            "Epoch 15/30\n",
            "1500/1500 [==============================] - 5s 3ms/step - loss: 0.0358 - accuracy: 0.9899 - val_loss: 0.1115 - val_accuracy: 0.9703\n",
            "Epoch 16/30\n",
            "1500/1500 [==============================] - 5s 3ms/step - loss: 0.0314 - accuracy: 0.9911 - val_loss: 0.1028 - val_accuracy: 0.9728\n",
            "Epoch 17/30\n",
            "1500/1500 [==============================] - 4s 3ms/step - loss: 0.0276 - accuracy: 0.9925 - val_loss: 0.1082 - val_accuracy: 0.9728\n",
            "Epoch 18/30\n",
            "1500/1500 [==============================] - 5s 3ms/step - loss: 0.0249 - accuracy: 0.9930 - val_loss: 0.1114 - val_accuracy: 0.9706\n",
            "Epoch 19/30\n",
            "1500/1500 [==============================] - 5s 3ms/step - loss: 0.0214 - accuracy: 0.9942 - val_loss: 0.1145 - val_accuracy: 0.9702\n",
            "Epoch 20/30\n",
            "1500/1500 [==============================] - 4s 3ms/step - loss: 0.0179 - accuracy: 0.9952 - val_loss: 0.1162 - val_accuracy: 0.9723\n",
            "Epoch 21/30\n",
            "1500/1500 [==============================] - 4s 3ms/step - loss: 0.0168 - accuracy: 0.9952 - val_loss: 0.1189 - val_accuracy: 0.9718\n",
            "Epoch 22/30\n",
            "1500/1500 [==============================] - 4s 3ms/step - loss: 0.0146 - accuracy: 0.9964 - val_loss: 0.1176 - val_accuracy: 0.9714\n",
            "Epoch 23/30\n",
            "1500/1500 [==============================] - 5s 3ms/step - loss: 0.0115 - accuracy: 0.9972 - val_loss: 0.1262 - val_accuracy: 0.9714\n",
            "Epoch 24/30\n",
            "1500/1500 [==============================] - 5s 3ms/step - loss: 0.0091 - accuracy: 0.9981 - val_loss: 0.1226 - val_accuracy: 0.9722\n",
            "Epoch 25/30\n",
            "1500/1500 [==============================] - 4s 3ms/step - loss: 0.0097 - accuracy: 0.9975 - val_loss: 0.1448 - val_accuracy: 0.9681\n",
            "Epoch 26/30\n",
            "1500/1500 [==============================] - 4s 3ms/step - loss: 0.0070 - accuracy: 0.9986 - val_loss: 0.1272 - val_accuracy: 0.9726\n",
            "Epoch 27/30\n",
            "1500/1500 [==============================] - 4s 3ms/step - loss: 0.0053 - accuracy: 0.9991 - val_loss: 0.1301 - val_accuracy: 0.9727\n",
            "Epoch 28/30\n",
            "1500/1500 [==============================] - 5s 3ms/step - loss: 0.0046 - accuracy: 0.9992 - val_loss: 0.1267 - val_accuracy: 0.9746\n",
            "Epoch 29/30\n",
            "1500/1500 [==============================] - 5s 3ms/step - loss: 0.0050 - accuracy: 0.9990 - val_loss: 0.1373 - val_accuracy: 0.9722\n",
            "Epoch 30/30\n",
            "1500/1500 [==============================] - 5s 3ms/step - loss: 0.0030 - accuracy: 0.9996 - val_loss: 0.1359 - val_accuracy: 0.9737\n"
          ]
        }
      ]
    },
    {
      "cell_type": "code",
      "source": [
        "acc = hist_2_1.history['accuracy']\n",
        "val_acc = hist_2_1.history['val_accuracy']\n",
        "\n",
        "epochs = range(1, len(acc)+1)\n",
        "\n",
        "plt.plot(epochs, acc, 'bo', label='Trainig acc')\n",
        "plt.plot(epochs, val_acc, 'b', label='Validation acc')\n",
        "plt.title(\"Training and Validation accuracy\")\n",
        "plt.legend()\n",
        "plt.show()"
      ],
      "metadata": {
        "colab": {
          "base_uri": "https://localhost:8080/",
          "height": 281
        },
        "outputId": "e649e32e-a82d-4c49-c17e-30ef5a92ea03",
        "id": "7ji-40kHbfLL"
      },
      "execution_count": null,
      "outputs": [
        {
          "output_type": "display_data",
          "data": {
            "text/plain": [
              "<Figure size 432x288 with 1 Axes>"
            ],
            "image/png": "[encoded data removed]"
          },
          "metadata": {
            "needs_background": "light"
          }
        }
      ]
    },
    {
      "cell_type": "code",
      "source": [
        "model_2_1.evaluate(test_imgs, test_labels)"
      ],
      "metadata": {
        "colab": {
          "base_uri": "https://localhost:8080/"
        },
        "outputId": "c87434a0-01ac-47a5-aaf6-ffb97ffa9476",
        "id": "XNkX9CozbfLM"
      },
      "execution_count": null,
      "outputs": [
        {
          "output_type": "stream",
          "name": "stdout",
          "text": [
            "313/313 [==============================] - 1s 3ms/step - loss: 0.1151 - accuracy: 0.9744\n"
          ]
        },
        {
          "output_type": "execute_result",
          "data": {
            "text/plain": [
              "[0.11506375670433044, 0.974399983882904]"
            ]
          },
          "metadata": {},
          "execution_count": 32
        }
      ]
    }
  ]
}