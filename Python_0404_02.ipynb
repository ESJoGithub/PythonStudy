{
  "nbformat": 4,
  "nbformat_minor": 0,
  "metadata": {
    "colab": {
      "name": "Python_0404_02.ipynb",
      "provenance": [],
      "collapsed_sections": [],
      "authorship_tag": "ABX9TyPb0RBOqO4UG/KZ1mP5M5cN",
      "include_colab_link": true
    },
    "kernelspec": {
      "name": "python3",
      "display_name": "Python 3"
    },
    "language_info": {
      "name": "python"
    }
  },
  "cells": [
    {
      "cell_type": "markdown",
      "metadata": {
        "id": "view-in-github",
        "colab_type": "text"
      },
      "source": [
        "<a href=\"https://colab.research.google.com/github/ESJoGithub/ESJoGithub.github.io/blob/master/Python_0404_02.ipynb\" target=\"_parent\"><img src=\"https://colab.research.google.com/assets/colab-badge.svg\" alt=\"Open In Colab\"/></a>"
      ]
    },
    {
      "cell_type": "code",
      "source": [
        "a = 0b1010\n",
        "b = 100\n",
        "c = 0o3010\n",
        "d = 0x12c\n",
        "\n",
        "print(a, b, c, d)"
      ],
      "metadata": {
        "colab": {
          "base_uri": "https://localhost:8080/"
        },
        "id": "iZII9_A1YdeE",
        "outputId": "85dc8f2e-c8d3-4d2b-fd88-b2814b3fc254"
      },
      "execution_count": null,
      "outputs": [
        {
          "output_type": "stream",
          "name": "stdout",
          "text": [
            "10 100 1544 300\n"
          ]
        }
      ]
    },
    {
      "cell_type": "code",
      "source": [
        "float = 1.5e2\n",
        "print(float)"
      ],
      "metadata": {
        "colab": {
          "base_uri": "https://localhost:8080/"
        },
        "id": "cqiX96_BYGjr",
        "outputId": "c41b100f-929f-4ba2-f01d-9feb1bca544c"
      },
      "execution_count": null,
      "outputs": [
        {
          "output_type": "stream",
          "name": "stdout",
          "text": [
            "150.0\n"
          ]
        }
      ]
    },
    {
      "cell_type": "code",
      "source": [
        "x = 3.14j\n",
        "print(x, x.imag, x.real)"
      ],
      "metadata": {
        "colab": {
          "base_uri": "https://localhost:8080/"
        },
        "id": "rLpUADrqXosD",
        "outputId": "c264390d-6913-4f24-a4d9-d9ba149ab9b5"
      },
      "execution_count": null,
      "outputs": [
        {
          "output_type": "stream",
          "name": "stdout",
          "text": [
            "3.14j 3.14 0.0\n"
          ]
        }
      ]
    },
    {
      "cell_type": "code",
      "execution_count": null,
      "metadata": {
        "colab": {
          "base_uri": "https://localhost:8080/"
        },
        "id": "fTPfO_VsW-37",
        "outputId": "7e42ce54-824e-45b6-a032-77615d8ba6a0"
      },
      "outputs": [
        {
          "output_type": "stream",
          "name": "stdout",
          "text": [
            "a: 5\n",
            "b: 10\n"
          ]
        }
      ],
      "source": [
        "a = True + 4\n",
        "b = False + 10\n",
        "print(\"a:\", a)\n",
        "print(\"b:\", b)"
      ]
    },
    {
      "cell_type": "code",
      "source": [
        "unicode = u\"\\u00dcnic\\u00f6de\"\n",
        "print(unicode)"
      ],
      "metadata": {
        "colab": {
          "base_uri": "https://localhost:8080/"
        },
        "id": "XMUR8LxpXPrk",
        "outputId": "df207e27-299a-4511-d68c-d1d3d16ee5b4"
      },
      "execution_count": null,
      "outputs": [
        {
          "output_type": "stream",
          "name": "stdout",
          "text": [
            "Ünicöde\n"
          ]
        }
      ]
    },
    {
      "cell_type": "code",
      "source": [
        "a = 5\n",
        "print(a, \"is of type\", type(a))\n",
        "a = 2.0\n",
        "print(a, \"is of type\", type(a))\n",
        "a = 1+2j\n",
        "print(a, \"is complex number?\", isinstance(1+2j, complex))"
      ],
      "metadata": {
        "colab": {
          "base_uri": "https://localhost:8080/"
        },
        "id": "oC1s1HEphX_7",
        "outputId": "c3dbd16f-191a-437a-e0c8-2236dc993da7"
      },
      "execution_count": null,
      "outputs": [
        {
          "output_type": "stream",
          "name": "stdout",
          "text": [
            "5 is of type <class 'int'>\n",
            "2.0 is of type <class 'float'>\n",
            "(1+2j) is complex number? True\n"
          ]
        }
      ]
    },
    {
      "cell_type": "markdown",
      "source": [
        "list 예제"
      ],
      "metadata": {
        "id": "trvdblTakebU"
      }
    },
    {
      "cell_type": "code",
      "source": [
        "a = [5, 10, 15, 20, 25, 30, 35, 40]\n",
        "print(\"a[2] = \", a[2])\n",
        "print(\"a[0:3] = \", a[0:3])\n",
        "print(\"a[5:] = \", a[5:])\n",
        "a[0] = 100\n",
        "print(\"a = \", a)"
      ],
      "metadata": {
        "colab": {
          "base_uri": "https://localhost:8080/"
        },
        "id": "V0XeoKwOjnjN",
        "outputId": "ffef2dd2-a97b-403d-bfa2-b3768042ae4d"
      },
      "execution_count": null,
      "outputs": [
        {
          "output_type": "stream",
          "name": "stdout",
          "text": [
            "a[2] =  15\n",
            "a[0:3] =  [5, 10, 15]\n",
            "a[5:] =  [30, 35, 40]\n",
            "a =  [100, 10, 15, 20, 25, 30, 35, 40]\n"
          ]
        }
      ]
    },
    {
      "cell_type": "markdown",
      "source": [
        "tuple 예제"
      ],
      "metadata": {
        "id": "SR-3Vp55khYD"
      }
    },
    {
      "cell_type": "code",
      "source": [
        "t = (5, 'program', 1+3j)\n",
        "\n",
        "print(\"t[1] = \", t[1])\n",
        "print(\"t[0:3] = \", t[1])\n",
        "print(\"t[0:3] = \", t[0:3])\n",
        "# t[0] = 10  tuple은 값을 바꾸려 하면 오류가 발생한다."
      ],
      "metadata": {
        "colab": {
          "base_uri": "https://localhost:8080/"
        },
        "id": "slbKD_FLkmZ7",
        "outputId": "5e63b435-d0cc-4c1c-90b9-96b7ecbef6b2"
      },
      "execution_count": null,
      "outputs": [
        {
          "output_type": "stream",
          "name": "stdout",
          "text": [
            "t[1] =  program\n",
            "t[0:3] =  program\n",
            "t[0:3] =  (5, 'program', (1+3j))\n"
          ]
        }
      ]
    },
    {
      "cell_type": "markdown",
      "source": [
        "string 예제"
      ],
      "metadata": {
        "id": "1Jm7UsE2lWw7"
      }
    },
    {
      "cell_type": "code",
      "source": [
        "s = \"This is a string\"\n",
        "print(s)\n",
        "s = '''A multiline string'''\n",
        "print(s)\n",
        "\n",
        "s = 'Hello world'\n",
        "\n",
        "print(\"s[4] = \", s[4])\n",
        "print(\"s[6:11] = \" , s[6:11])\n",
        "#s[5] = 'd' 오류발생, string도 값 바꾸려 하면 오류 발생한다.\n",
        "\n",
        "str = 'cold'\n",
        "list_enumerate = list(enumerate(str))\n",
        "print('list(enumerate(str) = ', list_enumerate) #(인덱스, '값') : dic에 활용 가능\n",
        "print('len(str) = ', len(str)) #아이템의 개수(for문 등에 활용)"
      ],
      "metadata": {
        "colab": {
          "base_uri": "https://localhost:8080/"
        },
        "id": "HVXS6dRglzFS",
        "outputId": "93a5e447-4602-4ea3-c724-6bd659ea2938"
      },
      "execution_count": null,
      "outputs": [
        {
          "output_type": "stream",
          "name": "stdout",
          "text": [
            "This is a string\n",
            "A multiline string\n",
            "s[4] =  o\n",
            "s[6:11] =  world\n",
            "list(enumerate(str) =  [(0, 'c'), (1, 'o'), (2, 'l'), (3, 'd')]\n",
            "len(str) =  4\n"
          ]
        }
      ]
    },
    {
      "cell_type": "markdown",
      "source": [
        "set 예제"
      ],
      "metadata": {
        "id": "aZmFIxlGoVHb"
      }
    },
    {
      "cell_type": "code",
      "source": [
        "a = {1, 2, 2, 3, 3, 3}\n",
        "print(a)\n",
        "a = {5, 2, 3, 1, 4}\n",
        "print(\"a = \", a)\n",
        "print(type(a))\n",
        "\n",
        "my_set = {1, 3}\n",
        "print(my_set)\n",
        "\n",
        "my_set.add(2)\n",
        "print(my_set)\n",
        "\n",
        "my_set.update([2, 3, 4])\n",
        "print(my_set)\n",
        "\n",
        "my_set.update([4, 5], {1, 6, 8})\n",
        "print(my_set)\n",
        "\n",
        "my_set.remove(6)\n",
        "print(my_set)\n",
        "\n",
        "my_set.discard(5)\n",
        "print(my_set)"
      ],
      "metadata": {
        "colab": {
          "base_uri": "https://localhost:8080/"
        },
        "id": "7pCDNtPooVSD",
        "outputId": "d071df47-6e1f-4679-a20b-9299b093e425"
      },
      "execution_count": null,
      "outputs": [
        {
          "output_type": "stream",
          "name": "stdout",
          "text": [
            "{1, 2, 3}\n",
            "a =  {1, 2, 3, 4, 5}\n",
            "<class 'set'>\n",
            "{1, 3}\n",
            "{1, 2, 3}\n",
            "{1, 2, 3, 4}\n",
            "{1, 2, 3, 4, 5, 6, 8}\n",
            "{1, 2, 3, 4, 5, 8}\n",
            "{1, 2, 3, 4, 8}\n"
          ]
        }
      ]
    }
  ]
}
