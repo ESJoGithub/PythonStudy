{
  "nbformat": 4,
  "nbformat_minor": 0,
  "metadata": {
    "colab": {
      "name": "Python_0405.ipynb",
      "provenance": [],
      "collapsed_sections": [],
      "authorship_tag": "ABX9TyPgFOxHzw/tecTlv2ngyV/0",
      "include_colab_link": true
    },
    "kernelspec": {
      "name": "python3",
      "display_name": "Python 3"
    },
    "language_info": {
      "name": "python"
    }
  },
  "cells": [
    {
      "cell_type": "markdown",
      "metadata": {
        "id": "view-in-github",
        "colab_type": "text"
      },
      "source": [
        "<a href=\"https://colab.research.google.com/github/ESJoGithub/PythonStudy/blob/main/Python_0405.ipynb\" target=\"_parent\"><img src=\"https://colab.research.google.com/assets/colab-badge.svg\" alt=\"Open In Colab\"/></a>"
      ]
    },
    {
      "cell_type": "markdown",
      "source": [
        "Type conversion (Type casting)"
      ],
      "metadata": {
        "id": "wdVvE0QItDsD"
      }
    },
    {
      "cell_type": "code",
      "execution_count": null,
      "metadata": {
        "colab": {
          "base_uri": "https://localhost:8080/"
        },
        "id": "-tH-mRN2tC8M",
        "outputId": "b733ea4e-3129-4654-8734-3c5dbe538608"
      },
      "outputs": [
        {
          "output_type": "stream",
          "name": "stdout",
          "text": [
            "datatype of num_int:  <class 'int'>\n",
            "datatype of num_flo:  <class 'float'>\n",
            "value of num_new:  124.23\n",
            "datatype of num_new:  <class 'float'>\n"
          ]
        }
      ],
      "source": [
        "num_int = 123\n",
        "num_flo = 1.23\n",
        "\n",
        "num_new = num_int + num_flo\n",
        "\n",
        "print(\"datatype of num_int: \", type(num_int))\n",
        "print(\"datatype of num_flo: \", type(num_flo))\n",
        "\n",
        "print(\"value of num_new: \", num_new)\n",
        "print(\"datatype of num_new: \", type(num_new))"
      ]
    },
    {
      "cell_type": "code",
      "source": [
        "num_int = 123\n",
        "num_str = \"456\"\n",
        "\n",
        "print(\"Data type of num_int: \", type(num_int))\n",
        "print(\"Data type of num_str: \", type(num_str))\n",
        "\n",
        "# print(num_int + num_str)  이런 경우에는 자동형변환되지 않는다.\n",
        "# TypeError: unsupported operand type(s) for +: 'int' and 'str'"
      ],
      "metadata": {
        "colab": {
          "base_uri": "https://localhost:8080/"
        },
        "id": "9L0jMS3WtmNC",
        "outputId": "c2580ee2-8ed9-4e21-ba13-48fced1b6101"
      },
      "execution_count": null,
      "outputs": [
        {
          "output_type": "stream",
          "name": "stdout",
          "text": [
            "Data type of num_int:  <class 'int'>\n",
            "Data type of num_str:  <class 'str'>\n"
          ]
        }
      ]
    },
    {
      "cell_type": "markdown",
      "source": [
        "input, output and import"
      ],
      "metadata": {
        "id": "qHXCpM_3u40i"
      }
    },
    {
      "cell_type": "code",
      "source": [
        "print('This setence is output to the screen')\n",
        "a = 5\n",
        "print('The value of a is', a)\n",
        "\n",
        "print(1, 2, 3, 4)\n",
        "print(1, 2, 3, 4, sep = '*')\n",
        "print(1, 2, 3, 4, sep = '#', end = '&')"
      ],
      "metadata": {
        "colab": {
          "base_uri": "https://localhost:8080/"
        },
        "id": "4PC4CMsdu5Aa",
        "outputId": "c5ba4d68-c453-4604-fdfe-784893af600a"
      },
      "execution_count": null,
      "outputs": [
        {
          "output_type": "stream",
          "name": "stdout",
          "text": [
            "This setence is output to the screen\n",
            "The value of a is 5\n",
            "1 2 3 4\n",
            "1*2*3*4\n",
            "1#2#3#4&"
          ]
        }
      ]
    },
    {
      "cell_type": "code",
      "source": [
        "x = 5; y = 10;\n",
        "print('The value of x is {} and y is {}'.format(x, y))\n",
        "print('I love {0} and {1}'.format('bread', 'butter'))\n",
        "print('I love {1} and {0}'.format('bread', 'butter'))\n",
        "\n",
        "print('Hello {name}, {greeting}'.format(greeting = 'Goodmorning', name = 'John'))\n",
        "\n",
        "x = 12.3456789\n",
        "print('The value of x is %3.2f' %x)\n",
        "print('The value of x is %d' %x)"
      ],
      "metadata": {
        "colab": {
          "base_uri": "https://localhost:8080/"
        },
        "id": "ml3aUnntwqjK",
        "outputId": "b182213e-a5ce-41e5-b606-c2811f26e413"
      },
      "execution_count": null,
      "outputs": [
        {
          "output_type": "stream",
          "name": "stdout",
          "text": [
            "The value of x is 5 and y is 10\n",
            "I love bread and butter\n",
            "I love butter and bread\n",
            "Hello John, Goodmorning\n",
            "The value of x is 12.35\n",
            "The value of x is 12\n"
          ]
        }
      ]
    }
  ]
}