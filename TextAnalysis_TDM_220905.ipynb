{
 "cells": [
  {
   "cell_type": "code",
   "execution_count": 1,
   "id": "06218afe",
   "metadata": {},
   "outputs": [],
   "source": [
    "import pandas as pd\n",
    "import numpy as np\n",
    "from konlpy.tag import Okt\n",
    "from sklearn.feature_extraction.text import CountVectorizer\n",
    "from sklearn.feature_extraction.text import TfidfVectorizer\n",
    "from sklearn.feature_extraction.text import TfidfTransformer\n",
    "from sklearn.metrics.pairwise import euclidean_distances\n",
    "from sklearn.metrics.pairwise import cosine_similarity"
   ]
  },
  {
   "cell_type": "code",
   "execution_count": 2,
   "id": "966dda1d",
   "metadata": {},
   "outputs": [
    {
     "name": "stdout",
     "output_type": "stream",
     "text": [
      "Collecting git+https://github.com/haven-jeon/PyKoSpacing.git\n",
      "  Cloning https://github.com/haven-jeon/PyKoSpacing.git to c:\\users\\user\\appdata\\local\\temp\\pip-req-build-80gsbpdu\n",
      "  Resolved https://github.com/haven-jeon/PyKoSpacing.git to commit e1979f7eeb4fcf1a456521152713482517fba627\n",
      "  Preparing metadata (setup.py): started\n",
      "  Preparing metadata (setup.py): finished with status 'done'\n",
      "Requirement already satisfied: tensorflow==2.7.2 in c:\\users\\user\\anaconda3\\lib\\site-packages (from pykospacing==0.5) (2.7.2)\n",
      "Requirement already satisfied: h5py==3.1.0 in c:\\users\\user\\anaconda3\\lib\\site-packages (from pykospacing==0.5) (3.1.0)\n",
      "Collecting argparse>=1.4.0\n",
      "  Using cached argparse-1.4.0-py2.py3-none-any.whl (23 kB)\n",
      "Requirement already satisfied: numpy>=1.19.3 in c:\\users\\user\\anaconda3\\lib\\site-packages (from h5py==3.1.0->pykospacing==0.5) (1.21.5)\n",
      "Requirement already satisfied: opt-einsum>=2.3.2 in c:\\users\\user\\anaconda3\\lib\\site-packages (from tensorflow==2.7.2->pykospacing==0.5) (3.3.0)\n",
      "Requirement already satisfied: typing-extensions>=3.6.6 in c:\\users\\user\\anaconda3\\lib\\site-packages (from tensorflow==2.7.2->pykospacing==0.5) (4.3.0)\n",
      "Requirement already satisfied: tensorflow-io-gcs-filesystem>=0.21.0 in c:\\users\\user\\anaconda3\\lib\\site-packages (from tensorflow==2.7.2->pykospacing==0.5) (0.26.0)\n",
      "Requirement already satisfied: gast<0.5.0,>=0.2.1 in c:\\users\\user\\anaconda3\\lib\\site-packages (from tensorflow==2.7.2->pykospacing==0.5) (0.4.0)\n",
      "Requirement already satisfied: termcolor>=1.1.0 in c:\\users\\user\\anaconda3\\lib\\site-packages (from tensorflow==2.7.2->pykospacing==0.5) (1.1.0)\n",
      "Requirement already satisfied: flatbuffers<3.0,>=1.12 in c:\\users\\user\\anaconda3\\lib\\site-packages (from tensorflow==2.7.2->pykospacing==0.5) (2.0.7)\n",
      "Requirement already satisfied: wrapt>=1.11.0 in c:\\users\\user\\anaconda3\\lib\\site-packages (from tensorflow==2.7.2->pykospacing==0.5) (1.12.1)\n",
      "Requirement already satisfied: grpcio<2.0,>=1.24.3 in c:\\users\\user\\anaconda3\\lib\\site-packages (from tensorflow==2.7.2->pykospacing==0.5) (1.42.0)\n",
      "Requirement already satisfied: tensorboard~=2.6 in c:\\users\\user\\anaconda3\\lib\\site-packages (from tensorflow==2.7.2->pykospacing==0.5) (2.10.0)\n",
      "Requirement already satisfied: keras<2.8,>=2.7.0rc0 in c:\\users\\user\\anaconda3\\lib\\site-packages (from tensorflow==2.7.2->pykospacing==0.5) (2.7.0)\n",
      "Requirement already satisfied: absl-py>=0.4.0 in c:\\users\\user\\anaconda3\\lib\\site-packages (from tensorflow==2.7.2->pykospacing==0.5) (1.2.0)\n",
      "Requirement already satisfied: libclang>=9.0.1 in c:\\users\\user\\anaconda3\\lib\\site-packages (from tensorflow==2.7.2->pykospacing==0.5) (14.0.6)\n",
      "Requirement already satisfied: six>=1.12.0 in c:\\users\\user\\anaconda3\\lib\\site-packages (from tensorflow==2.7.2->pykospacing==0.5) (1.16.0)\n",
      "Requirement already satisfied: protobuf>=3.9.2 in c:\\users\\user\\anaconda3\\lib\\site-packages (from tensorflow==2.7.2->pykospacing==0.5) (3.19.4)\n",
      "Requirement already satisfied: keras-preprocessing>=1.1.1 in c:\\users\\user\\anaconda3\\lib\\site-packages (from tensorflow==2.7.2->pykospacing==0.5) (1.1.2)\n",
      "Requirement already satisfied: astunparse>=1.6.0 in c:\\users\\user\\anaconda3\\lib\\site-packages (from tensorflow==2.7.2->pykospacing==0.5) (1.6.3)\n",
      "Requirement already satisfied: wheel<1.0,>=0.32.0 in c:\\users\\user\\anaconda3\\lib\\site-packages (from tensorflow==2.7.2->pykospacing==0.5) (0.37.1)\n",
      "Requirement already satisfied: google-pasta>=0.1.1 in c:\\users\\user\\anaconda3\\lib\\site-packages (from tensorflow==2.7.2->pykospacing==0.5) (0.2.0)\n",
      "Requirement already satisfied: tensorflow-estimator<2.8,~=2.7.0rc0 in c:\\users\\user\\anaconda3\\lib\\site-packages (from tensorflow==2.7.2->pykospacing==0.5) (2.7.0)\n",
      "Requirement already satisfied: setuptools>=41.0.0 in c:\\users\\user\\anaconda3\\lib\\site-packages (from tensorboard~=2.6->tensorflow==2.7.2->pykospacing==0.5) (63.4.1)\n",
      "Requirement already satisfied: markdown>=2.6.8 in c:\\users\\user\\anaconda3\\lib\\site-packages (from tensorboard~=2.6->tensorflow==2.7.2->pykospacing==0.5) (3.3.4)\n",
      "Requirement already satisfied: google-auth-oauthlib<0.5,>=0.4.1 in c:\\users\\user\\anaconda3\\lib\\site-packages (from tensorboard~=2.6->tensorflow==2.7.2->pykospacing==0.5) (0.4.6)\n",
      "Requirement already satisfied: tensorboard-data-server<0.7.0,>=0.6.0 in c:\\users\\user\\anaconda3\\lib\\site-packages (from tensorboard~=2.6->tensorflow==2.7.2->pykospacing==0.5) (0.6.1)\n",
      "Requirement already satisfied: google-auth<3,>=1.6.3 in c:\\users\\user\\anaconda3\\lib\\site-packages (from tensorboard~=2.6->tensorflow==2.7.2->pykospacing==0.5) (2.6.0)\n",
      "Requirement already satisfied: tensorboard-plugin-wit>=1.6.0 in c:\\users\\user\\anaconda3\\lib\\site-packages (from tensorboard~=2.6->tensorflow==2.7.2->pykospacing==0.5) (1.8.1)\n",
      "Requirement already satisfied: requests<3,>=2.21.0 in c:\\users\\user\\anaconda3\\lib\\site-packages (from tensorboard~=2.6->tensorflow==2.7.2->pykospacing==0.5) (2.28.1)\n",
      "Requirement already satisfied: werkzeug>=1.0.1 in c:\\users\\user\\anaconda3\\lib\\site-packages (from tensorboard~=2.6->tensorflow==2.7.2->pykospacing==0.5) (2.0.3)\n",
      "Requirement already satisfied: cachetools<6.0,>=2.0.0 in c:\\users\\user\\anaconda3\\lib\\site-packages (from google-auth<3,>=1.6.3->tensorboard~=2.6->tensorflow==2.7.2->pykospacing==0.5) (4.2.2)\n",
      "Requirement already satisfied: rsa<5,>=3.1.4 in c:\\users\\user\\anaconda3\\lib\\site-packages (from google-auth<3,>=1.6.3->tensorboard~=2.6->tensorflow==2.7.2->pykospacing==0.5) (4.7.2)\n",
      "Requirement already satisfied: pyasn1-modules>=0.2.1 in c:\\users\\user\\anaconda3\\lib\\site-packages (from google-auth<3,>=1.6.3->tensorboard~=2.6->tensorflow==2.7.2->pykospacing==0.5) (0.2.8)\n",
      "Requirement already satisfied: requests-oauthlib>=0.7.0 in c:\\users\\user\\anaconda3\\lib\\site-packages (from google-auth-oauthlib<0.5,>=0.4.1->tensorboard~=2.6->tensorflow==2.7.2->pykospacing==0.5) (1.3.1)\n",
      "Requirement already satisfied: idna<4,>=2.5 in c:\\users\\user\\anaconda3\\lib\\site-packages (from requests<3,>=2.21.0->tensorboard~=2.6->tensorflow==2.7.2->pykospacing==0.5) (3.3)\n",
      "Requirement already satisfied: urllib3<1.27,>=1.21.1 in c:\\users\\user\\anaconda3\\lib\\site-packages (from requests<3,>=2.21.0->tensorboard~=2.6->tensorflow==2.7.2->pykospacing==0.5) (1.26.11)\n",
      "Requirement already satisfied: certifi>=2017.4.17 in c:\\users\\user\\anaconda3\\lib\\site-packages (from requests<3,>=2.21.0->tensorboard~=2.6->tensorflow==2.7.2->pykospacing==0.5) (2022.6.15)\n",
      "Requirement already satisfied: charset-normalizer<3,>=2 in c:\\users\\user\\anaconda3\\lib\\site-packages (from requests<3,>=2.21.0->tensorboard~=2.6->tensorflow==2.7.2->pykospacing==0.5) (2.0.4)\n",
      "Requirement already satisfied: pyasn1<0.5.0,>=0.4.6 in c:\\users\\user\\anaconda3\\lib\\site-packages (from pyasn1-modules>=0.2.1->google-auth<3,>=1.6.3->tensorboard~=2.6->tensorflow==2.7.2->pykospacing==0.5) (0.4.8)\n",
      "Requirement already satisfied: oauthlib>=3.0.0 in c:\\users\\user\\anaconda3\\lib\\site-packages (from requests-oauthlib>=0.7.0->google-auth-oauthlib<0.5,>=0.4.1->tensorboard~=2.6->tensorflow==2.7.2->pykospacing==0.5) (3.2.0)\n",
      "Installing collected packages: argparse\n",
      "Successfully installed argparse-1.4.0\n",
      "\n",
      "[notice] A new release of pip available: 22.2.2 -> 22.3\n",
      "[notice] To update, run: python.exe -m pip install --upgrade pip\n",
      "Note: you may need to restart the kernel to use updated packages.\n"
     ]
    },
    {
     "name": "stderr",
     "output_type": "stream",
     "text": [
      "  Running command git clone --filter=blob:none --quiet https://github.com/haven-jeon/PyKoSpacing.git 'C:\\Users\\user\\AppData\\Local\\Temp\\pip-req-build-80gsbpdu'\n"
     ]
    }
   ],
   "source": [
    "pip install git+https://github.com/haven-jeon/PyKoSpacing.git"
   ]
  },
  {
   "cell_type": "code",
   "execution_count": 3,
   "id": "c8b6a0f3",
   "metadata": {},
   "outputs": [
    {
     "name": "stdout",
     "output_type": "stream",
     "text": [
      "Collecting git+https://github.com/ssut/py-hanspell.git\n",
      "  Cloning https://github.com/ssut/py-hanspell.git to c:\\users\\user\\appdata\\local\\temp\\pip-req-build-vjj4a3u2\n",
      "  Resolved https://github.com/ssut/py-hanspell.git to commit 8e993cf46f97f9d665c15633a0fc78ac1b727713\n",
      "  Preparing metadata (setup.py): started\n",
      "  Preparing metadata (setup.py): finished with status 'done'\n",
      "Requirement already satisfied: requests in c:\\users\\user\\anaconda3\\lib\\site-packages (from py-hanspell==1.1) (2.28.1)\n",
      "Requirement already satisfied: idna<4,>=2.5 in c:\\users\\user\\anaconda3\\lib\\site-packages (from requests->py-hanspell==1.1) (3.3)\n",
      "Requirement already satisfied: charset-normalizer<3,>=2 in c:\\users\\user\\anaconda3\\lib\\site-packages (from requests->py-hanspell==1.1) (2.0.4)\n",
      "Requirement already satisfied: urllib3<1.27,>=1.21.1 in c:\\users\\user\\anaconda3\\lib\\site-packages (from requests->py-hanspell==1.1) (1.26.11)\n",
      "Requirement already satisfied: certifi>=2017.4.17 in c:\\users\\user\\anaconda3\\lib\\site-packages (from requests->py-hanspell==1.1) (2022.6.15)\n",
      "\n",
      "[notice] A new release of pip available: 22.2.2 -> 22.3\n",
      "[notice] To update, run: python.exe -m pip install --upgrade pip\n",
      "Note: you may need to restart the kernel to use updated packages.\n"
     ]
    },
    {
     "name": "stderr",
     "output_type": "stream",
     "text": [
      "  Running command git clone --filter=blob:none --quiet https://github.com/ssut/py-hanspell.git 'C:\\Users\\user\\AppData\\Local\\Temp\\pip-req-build-vjj4a3u2'\n"
     ]
    }
   ],
   "source": [
    "pip install git+https://github.com/ssut/py-hanspell.git"
   ]
  },
  {
   "cell_type": "code",
   "execution_count": 4,
   "id": "9b4c5543",
   "metadata": {},
   "outputs": [],
   "source": [
    "df = pd.read_excel(\"./df_sample03.xlsx\", engine=\"openpyxl\")"
   ]
  },
  {
   "cell_type": "code",
   "execution_count": 5,
   "id": "60a29a6c",
   "metadata": {},
   "outputs": [],
   "source": [
    "from pykospacing import Spacing\n",
    "from hanspell import spell_checker"
   ]
  },
  {
   "cell_type": "code",
   "execution_count": 6,
   "id": "b47d9401",
   "metadata": {},
   "outputs": [],
   "source": [
    "spacing = Spacing()"
   ]
  },
  {
   "cell_type": "code",
   "execution_count": 8,
   "id": "5ea2f966",
   "metadata": {},
   "outputs": [],
   "source": [
    "for i, row in df.iterrows() :\n",
    "    text = \"\".join(row[\"내용\"])\n",
    "    text.split(\". \")\n",
    "    text.replace(\" \", '')\n",
    "    text = spacing(text)\n",
    "    text_spell = spell_checker.check(text)\n",
    "    row[\"내용\"] = text_spell.checked"
   ]
  },
  {
   "cell_type": "code",
   "execution_count": 9,
   "id": "7dd0da24",
   "metadata": {},
   "outputs": [
    {
     "data": {
      "text/html": [
       "<div>\n",
       "<style scoped>\n",
       "    .dataframe tbody tr th:only-of-type {\n",
       "        vertical-align: middle;\n",
       "    }\n",
       "\n",
       "    .dataframe tbody tr th {\n",
       "        vertical-align: top;\n",
       "    }\n",
       "\n",
       "    .dataframe thead th {\n",
       "        text-align: right;\n",
       "    }\n",
       "</style>\n",
       "<table border=\"1\" class=\"dataframe\">\n",
       "  <thead>\n",
       "    <tr style=\"text-align: right;\">\n",
       "      <th></th>\n",
       "      <th>Unnamed: 0</th>\n",
       "      <th>내용</th>\n",
       "      <th>학교</th>\n",
       "    </tr>\n",
       "  </thead>\n",
       "  <tbody>\n",
       "    <tr>\n",
       "      <th>0</th>\n",
       "      <td>0</td>\n",
       "      <td>나는 공부를 할 때 반복을 중요시 하였다. 특히 수학 공부를 할 때 오답이나 헷갈렸...</td>\n",
       "      <td>이화여자외국어고</td>\n",
       "    </tr>\n",
       "    <tr>\n",
       "      <th>1</th>\n",
       "      <td>1</td>\n",
       "      <td>1학년까지 문제집 위주로 공부했지만 교과서의 세부 내용을 다룬 문제에 잘 대처하 지...</td>\n",
       "      <td>서울국제고</td>\n",
       "    </tr>\n",
       "    <tr>\n",
       "      <th>2</th>\n",
       "      <td>2</td>\n",
       "      <td>내 꿈은영어 선생님이다 .  그래서 수업 시간에도  미래의  내가 어떻게 수업을 하...</td>\n",
       "      <td>김포외국어고</td>\n",
       "    </tr>\n",
       "    <tr>\n",
       "      <th>3</th>\n",
       "      <td>3</td>\n",
       "      <td>세계적인 건축가로서 성장하기 위해 평소 다양한 활동에 적극적으로 참여해왔다. 먼저 ...</td>\n",
       "      <td>용인한국외국어대학교부설고</td>\n",
       "    </tr>\n",
       "    <tr>\n",
       "      <th>4</th>\n",
       "      <td>4</td>\n",
       "      <td>중학교 생활 내내 영어를 언어만이 아닌 문화로 익히고자 노력을 기울여왔다. 아나운서...</td>\n",
       "      <td>대원외국어고</td>\n",
       "    </tr>\n",
       "  </tbody>\n",
       "</table>\n",
       "</div>"
      ],
      "text/plain": [
       "   Unnamed: 0                                                 내용  \\\n",
       "0           0  나는 공부를 할 때 반복을 중요시 하였다. 특히 수학 공부를 할 때 오답이나 헷갈렸...   \n",
       "1           1  1학년까지 문제집 위주로 공부했지만 교과서의 세부 내용을 다룬 문제에 잘 대처하 지...   \n",
       "2           2  내 꿈은영어 선생님이다 .  그래서 수업 시간에도  미래의  내가 어떻게 수업을 하...   \n",
       "3           3  세계적인 건축가로서 성장하기 위해 평소 다양한 활동에 적극적으로 참여해왔다. 먼저 ...   \n",
       "4           4  중학교 생활 내내 영어를 언어만이 아닌 문화로 익히고자 노력을 기울여왔다. 아나운서...   \n",
       "\n",
       "              학교  \n",
       "0       이화여자외국어고  \n",
       "1          서울국제고  \n",
       "2         김포외국어고  \n",
       "3  용인한국외국어대학교부설고  \n",
       "4         대원외국어고  "
      ]
     },
     "execution_count": 9,
     "metadata": {},
     "output_type": "execute_result"
    }
   ],
   "source": [
    "df.head()"
   ]
  },
  {
   "cell_type": "code",
   "execution_count": 10,
   "id": "895a8696",
   "metadata": {},
   "outputs": [],
   "source": [
    "tagger = Okt()"
   ]
  },
  {
   "cell_type": "code",
   "execution_count": 11,
   "id": "5f149b2a",
   "metadata": {},
   "outputs": [],
   "source": [
    "def get_morphs(text):\n",
    "    morphs = tagger.morphs(text)\n",
    "    morphs = [word for word in morphs if len(word) > 1]\n",
    "    return morphs"
   ]
  },
  {
   "cell_type": "code",
   "execution_count": 12,
   "id": "2caa5ed5",
   "metadata": {},
   "outputs": [],
   "source": [
    "cv = CountVectorizer(max_features=1000, tokenizer = get_morphs)"
   ]
  },
  {
   "cell_type": "code",
   "execution_count": 13,
   "id": "43fb2e3e",
   "metadata": {},
   "outputs": [],
   "source": [
    "tdm = cv.fit_transform(df[\"내용\"])"
   ]
  },
  {
   "cell_type": "code",
   "execution_count": 14,
   "id": "e390b7a8",
   "metadata": {},
   "outputs": [],
   "source": [
    "tfidf = TfidfTransformer()\n",
    "tdm_tfidf = tfidf.fit_transform(tdm)"
   ]
  },
  {
   "cell_type": "code",
   "execution_count": 15,
   "id": "95b10dba",
   "metadata": {},
   "outputs": [
    {
     "data": {
      "text/plain": [
       "16"
      ]
     },
     "execution_count": 15,
     "metadata": {},
     "output_type": "execute_result"
    }
   ],
   "source": [
    "dist = euclidean_distances(tdm[0], tdm[1:])\n",
    "np.argmin(dist) + 1"
   ]
  },
  {
   "cell_type": "code",
   "execution_count": 16,
   "id": "79bc0de6",
   "metadata": {
    "scrolled": true
   },
   "outputs": [
    {
     "data": {
      "text/plain": [
       "array([[32.        , 35.42597917, 38.22302971, 34.20526275, 31.65438358,\n",
       "        29.93325909, 30.09983389, 33.24154028, 33.1662479 , 35.6931366 ,\n",
       "        31.84336666, 29.17190429, 31.89043744, 32.29551052, 40.58324778,\n",
       "        27.14774392, 33.27160952, 28.89636655, 32.46536616, 31.73326331,\n",
       "        35.34119409, 30.87069808, 31.36877428, 37.04051835, 38.49675311,\n",
       "        30.90307428, 28.82707061, 34.79942528, 31.11269837, 29.18903904,\n",
       "        39.7743636 , 33.58571125, 38.69108424, 29.51270913, 31.        ,\n",
       "        31.85906464, 32.96968304, 32.92415527, 27.47726333, 31.04834939,\n",
       "        32.71085447, 32.03123476, 34.525353  , 29.86636905, 32.24903099,\n",
       "        34.7706773 , 33.2565783 , 29.30870178, 28.40774542, 32.20248438,\n",
       "        34.10278581, 31.74901573, 32.57299495, 32.89376841, 31.93743885,\n",
       "        30.23243292, 30.47950131, 32.35737937, 30.8058436 , 29.78254522,\n",
       "        34.19064199, 30.96772513, 31.76476035, 32.21800739, 32.10918872,\n",
       "        28.61817604, 33.        , 29.93325909, 31.67017524, 31.81194744,\n",
       "        30.33150178, 30.77336511, 33.01514804, 30.39736831, 30.47950131]])"
      ]
     },
     "execution_count": 16,
     "metadata": {},
     "output_type": "execute_result"
    }
   ],
   "source": [
    "dist"
   ]
  },
  {
   "cell_type": "code",
   "execution_count": null,
   "id": "79431863",
   "metadata": {
    "scrolled": true
   },
   "outputs": [],
   "source": [
    "df.loc[0, \"내용\"]"
   ]
  },
  {
   "cell_type": "code",
   "execution_count": null,
   "id": "164ad7f4",
   "metadata": {},
   "outputs": [],
   "source": [
    "df.loc[16, \"내용\"]"
   ]
  },
  {
   "cell_type": "markdown",
   "id": "97f1c7c5",
   "metadata": {},
   "source": [
    "평가\n",
    "\n",
    "(학생 개인정보로 인하여 오픈할 수 없으나)\n",
    "두 서류 사이에 지원 학교 / 학과 / 진로목표 / 봉사 경험 모든 내용 면에서 유사도가 낮음\n",
    "문장이나 활용 어휘 면에서 유사한 내용을 반환한 것으로 보이나 \n",
    "입시에 활용되는 데이터 면에서는 유의미한 분석이라고 볼 수 없음\n",
    "\n",
    "어떻게 해결할 것인가?\n",
    "1. 클래스 분류하여 라벨링 작업 후 신경망을 구축하여 분석해본다(ANN 또는 DNN)\n",
    "2. 문장 단위로 나누어 유사도를 검증한다(머신러닝)"
   ]
  }
 ],
 "metadata": {
  "kernelspec": {
   "display_name": "Python 3 (ipykernel)",
   "language": "python",
   "name": "python3"
  },
  "language_info": {
   "codemirror_mode": {
    "name": "ipython",
    "version": 3
   },
   "file_extension": ".py",
   "mimetype": "text/x-python",
   "name": "python",
   "nbconvert_exporter": "python",
   "pygments_lexer": "ipython3",
   "version": "3.9.13"
  }
 },
 "nbformat": 4,
 "nbformat_minor": 5
}
