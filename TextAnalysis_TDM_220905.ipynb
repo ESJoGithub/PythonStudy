{
 "cells": [
  {
   "cell_type": "code",
   "execution_count": 1,
   "id": "06218afe",
   "metadata": {},
   "outputs": [],
   "source": [
    "import pandas as pd\n",
    "import numpy as np\n",
    "from konlpy.tag import Okt\n",
    "from sklearn.feature_extraction.text import CountVectorizer\n",
    "from sklearn.feature_extraction.text import TfidfVectorizer\n",
    "from sklearn.feature_extraction.text import TfidfTransformer\n",
    "from sklearn.metrics.pairwise import euclidean_distances\n",
    "from sklearn.metrics.pairwise import cosine_similarity"
   ]
  },
  {
   "cell_type": "code",
   "execution_count": null,
   "id": "966dda1d",
   "metadata": {
    "scrolled": true
   },
   "outputs": [],
   "source": [
    "pip install git+https://github.com/haven-jeon/PyKoSpacing.git"
   ]
  },
  {
   "cell_type": "code",
   "execution_count": null,
   "id": "c8b6a0f3",
   "metadata": {
    "scrolled": true
   },
   "outputs": [],
   "source": [
    "pip install git+https://github.com/ssut/py-hanspell.git"
   ]
  },
  {
   "cell_type": "code",
   "execution_count": 4,
   "id": "9b4c5543",
   "metadata": {},
   "outputs": [],
   "source": [
    "df = pd.read_excel(\"./df_sample03.xlsx\", engine=\"openpyxl\")"
   ]
  },
  {
   "cell_type": "code",
   "execution_count": 5,
   "id": "60a29a6c",
   "metadata": {},
   "outputs": [],
   "source": [
    "from pykospacing import Spacing\n",
    "from hanspell import spell_checker"
   ]
  },
  {
   "cell_type": "code",
   "execution_count": 6,
   "id": "b47d9401",
   "metadata": {},
   "outputs": [],
   "source": [
    "spacing = Spacing()"
   ]
  },
  {
   "cell_type": "code",
   "execution_count": 7,
   "id": "5ea2f966",
   "metadata": {},
   "outputs": [],
   "source": [
    "for i, row in df.iterrows() :\n",
    "    text = \"\".join(row[\"내용\"])\n",
    "    text.split(\". \")\n",
    "    text.replace(\" \", '')\n",
    "    text = spacing(text)\n",
    "    text_spell = spell_checker.check(text)\n",
    "    row[\"내용\"] = text_spell.checked"
   ]
  },
  {
   "cell_type": "code",
   "execution_count": null,
   "id": "7dd0da24",
   "metadata": {},
   "outputs": [],
   "source": [
    "df.head()"
   ]
  },
  {
   "cell_type": "code",
   "execution_count": 9,
   "id": "895a8696",
   "metadata": {},
   "outputs": [],
   "source": [
    "tagger = Okt()"
   ]
  },
  {
   "cell_type": "code",
   "execution_count": 10,
   "id": "5f149b2a",
   "metadata": {},
   "outputs": [],
   "source": [
    "def get_morphs(text):\n",
    "    morphs = tagger.morphs(text)\n",
    "    morphs = [word for word in morphs if len(word) > 1]\n",
    "    return morphs"
   ]
  },
  {
   "cell_type": "code",
   "execution_count": 11,
   "id": "2caa5ed5",
   "metadata": {},
   "outputs": [],
   "source": [
    "cv = CountVectorizer(max_features=1000, tokenizer = get_morphs)"
   ]
  },
  {
   "cell_type": "code",
   "execution_count": 12,
   "id": "43fb2e3e",
   "metadata": {},
   "outputs": [],
   "source": [
    "tdm = cv.fit_transform(df[\"내용\"])"
   ]
  },
  {
   "cell_type": "code",
   "execution_count": 13,
   "id": "e390b7a8",
   "metadata": {},
   "outputs": [],
   "source": [
    "tfidf = TfidfTransformer()\n",
    "tdm_tfidf = tfidf.fit_transform(tdm)"
   ]
  },
  {
   "cell_type": "markdown",
   "id": "e51138c6",
   "metadata": {},
   "source": [
    "### 유클리드 거리를 활용한 문서 유사도 계산"
   ]
  },
  {
   "cell_type": "markdown",
   "id": "baedc002",
   "metadata": {},
   "source": [
    "#### Count Vectorizer"
   ]
  },
  {
   "cell_type": "code",
   "execution_count": 14,
   "id": "95b10dba",
   "metadata": {
    "scrolled": true
   },
   "outputs": [
    {
     "data": {
      "text/plain": [
       "16"
      ]
     },
     "execution_count": 14,
     "metadata": {},
     "output_type": "execute_result"
    }
   ],
   "source": [
    "dist = euclidean_distances(tdm[0], tdm[1:])\n",
    "np.argmin(dist) + 1"
   ]
  },
  {
   "cell_type": "markdown",
   "id": "12c805e2",
   "metadata": {},
   "source": [
    "#### TF-IDF Vectorizer"
   ]
  },
  {
   "cell_type": "code",
   "execution_count": 15,
   "id": "93275ba9",
   "metadata": {},
   "outputs": [
    {
     "data": {
      "text/plain": [
       "11"
      ]
     },
     "execution_count": 15,
     "metadata": {},
     "output_type": "execute_result"
    }
   ],
   "source": [
    "dist2 = euclidean_distances(tdm_tfidf[0], tdm_tfidf[1:])\n",
    "np.argmin(dist2) + 1"
   ]
  },
  {
   "cell_type": "markdown",
   "id": "9a9992e8",
   "metadata": {},
   "source": [
    "### 코사인 유사도거리를 기준으로 한 문서 유사도 계산"
   ]
  },
  {
   "cell_type": "markdown",
   "id": "d2b2b5bf",
   "metadata": {},
   "source": [
    "#### Count Vectorizer"
   ]
  },
  {
   "cell_type": "code",
   "execution_count": 16,
   "id": "d19ee29f",
   "metadata": {},
   "outputs": [
    {
     "data": {
      "text/plain": [
       "11"
      ]
     },
     "execution_count": 16,
     "metadata": {},
     "output_type": "execute_result"
    }
   ],
   "source": [
    "sim = cosine_similarity(tdm[0], tdm[1:])\n",
    "np.argmax(sim) + 1"
   ]
  },
  {
   "cell_type": "markdown",
   "id": "767444af",
   "metadata": {},
   "source": [
    "#### TF-IDF Vectorizer"
   ]
  },
  {
   "cell_type": "code",
   "execution_count": 17,
   "id": "9454b2c0",
   "metadata": {},
   "outputs": [
    {
     "data": {
      "text/plain": [
       "11"
      ]
     },
     "execution_count": 17,
     "metadata": {},
     "output_type": "execute_result"
    }
   ],
   "source": [
    "sim2 = cosine_similarity(tdm_tfidf[0], tdm_tfidf[1:])\n",
    "np.argmax(sim2) + 1"
   ]
  },
  {
   "cell_type": "markdown",
   "id": "f2d1fea8",
   "metadata": {},
   "source": [
    "### 평가"
   ]
  },
  {
   "cell_type": "markdown",
   "id": "97f1c7c5",
   "metadata": {},
   "source": [
    "(학생 개인정보로 인하여 오픈할 수 없으나)\n",
    "서류들 사이에 지원 학교 / 학과 / 진로목표 / 봉사 경험 모든 내용 면에서 유사도가 낮음\n",
    "문장이나 활용 어휘 면에서 유사한 내용을 반환한 것으로 보이나 \n",
    "입시에 활용되는 데이터 면에서는 유의미한 분석이라고 볼 수 없음\n",
    "\n",
    "어떻게 해결할 것인가?\n",
    "1. 클래스 분류하여 라벨링 작업 후 신경망을 구축하여 분석해본다(ANN 또는 DNN)\n",
    "2. 문장 단위로 나누어 유사도를 검증한다(머신러닝)"
   ]
  },
  {
   "cell_type": "code",
   "execution_count": null,
   "id": "79431863",
   "metadata": {
    "scrolled": true
   },
   "outputs": [],
   "source": [
    "df.loc[0, \"내용\"]"
   ]
  },
  {
   "cell_type": "code",
   "execution_count": null,
   "id": "3ca7655a",
   "metadata": {},
   "outputs": [],
   "source": [
    "df.loc[11, \"내용\"]"
   ]
  },
  {
   "cell_type": "code",
   "execution_count": null,
   "id": "164ad7f4",
   "metadata": {},
   "outputs": [],
   "source": [
    "df.loc[16, \"내용\"]"
   ]
  }
 ],
 "metadata": {
  "kernelspec": {
   "display_name": "Python 3 (ipykernel)",
   "language": "python",
   "name": "python3"
  },
  "language_info": {
   "codemirror_mode": {
    "name": "ipython",
    "version": 3
   },
   "file_extension": ".py",
   "mimetype": "text/x-python",
   "name": "python",
   "nbconvert_exporter": "python",
   "pygments_lexer": "ipython3",
   "version": "3.9.13"
  }
 },
 "nbformat": 4,
 "nbformat_minor": 5
}
