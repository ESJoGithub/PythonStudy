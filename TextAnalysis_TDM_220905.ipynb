{
 "cells": [
  {
   "cell_type": "code",
   "execution_count": null,
   "id": "06218afe",
   "metadata": {},
   "outputs": [],
   "source": [
    "import pandas as pd\n",
    "from konlpy.tag import Twitter\n",
    "from sklearn.feature_extraction.text import CountVectorizer\n",
    "from sklearn.feature_extraction.text import TfidfVectorizer\n",
    "from sklearn.feature_extraction.text import TfidfTransformer\n",
    "from sklearn.metrics.pairwise import euclidean_distances\n",
    "from sklearn.metrics.pairwise import cosine_similarity"
   ]
  },
  {
   "cell_type": "code",
   "execution_count": null,
   "id": "966dda1d",
   "metadata": {},
   "outputs": [],
   "source": [
    "pip install git+https://github.com/haven-jeon/PyKoSpacing.git"
   ]
  },
  {
   "cell_type": "code",
   "execution_count": null,
   "id": "c8b6a0f3",
   "metadata": {},
   "outputs": [],
   "source": [
    "pip install git+https://github.com/ssut/py-hanspell.git"
   ]
  },
  {
   "cell_type": "code",
   "execution_count": null,
   "id": "9b4c5543",
   "metadata": {},
   "outputs": [],
   "source": [
    "df = pd.read_excel(\"./df_sample03.xlsx\", engine=\"openpyxl\")"
   ]
  },
  {
   "cell_type": "code",
   "execution_count": null,
   "id": "60a29a6c",
   "metadata": {},
   "outputs": [],
   "source": [
    "from pykospacing import Spacing\n",
    "from hanspell import spell_checker"
   ]
  },
  {
   "cell_type": "code",
   "execution_count": null,
   "id": "b47d9401",
   "metadata": {},
   "outputs": [],
   "source": [
    "spacing = Spacing()"
   ]
  },
  {
   "cell_type": "code",
   "execution_count": null,
   "id": "5ea2f966",
   "metadata": {},
   "outputs": [],
   "source": [
    "for i, row in df.iterrows() :\n",
    "    text = \"\".join(row[\"내용\"])\n",
    "    text.split(\". \")\n",
    "    text.replace(\" \", '')\n",
    "    text = spacing(text)\n",
    "    text_spell = spell_checker.check(text)\n",
    "    row[\"내용\"] = text_spell.checked"
   ]
  },
  {
   "cell_type": "code",
   "execution_count": null,
   "id": "7dd0da24",
   "metadata": {},
   "outputs": [],
   "source": [
    "df.head()"
   ]
  },
  {
   "cell_type": "code",
   "execution_count": null,
   "id": "895a8696",
   "metadata": {},
   "outputs": [],
   "source": [
    "tagger = Twitter()"
   ]
  },
  {
   "cell_type": "code",
   "execution_count": null,
   "id": "5f149b2a",
   "metadata": {},
   "outputs": [],
   "source": [
    "def get_morphs(text):\n",
    "    morphs = tagger.morphs(text)\n",
    "    morphs = [word for word in morphs if len(word) > 1]\n",
    "    return morphs"
   ]
  },
  {
   "cell_type": "code",
   "execution_count": null,
   "id": "2caa5ed5",
   "metadata": {},
   "outputs": [],
   "source": [
    "cv = CountVectorizer(max_features=1000, tokenizer = get_morphs)"
   ]
  },
  {
   "cell_type": "code",
   "execution_count": null,
   "id": "43fb2e3e",
   "metadata": {},
   "outputs": [],
   "source": [
    "tdm = cv.fit_transform(df[\"내용\"])"
   ]
  },
  {
   "cell_type": "code",
   "execution_count": null,
   "id": "e390b7a8",
   "metadata": {},
   "outputs": [],
   "source": [
    "tfidf = TfidfTransformer()\n",
    "tdm_tfidf = tfidf.fit_transform(tdm)"
   ]
  },
  {
   "cell_type": "code",
   "execution_count": null,
   "id": "95b10dba",
   "metadata": {},
   "outputs": [],
   "source": [
    "import numpy as np\n",
    "dist = euclidean_distances(tdm[0], tdm[1:])\n",
    "np.argmin(dist) + 1"
   ]
  },
  {
   "cell_type": "code",
   "execution_count": null,
   "id": "79431863",
   "metadata": {},
   "outputs": [],
   "source": [
    "df.loc[0, \"내용\"]"
   ]
  },
  {
   "cell_type": "code",
   "execution_count": null,
   "id": "164ad7f4",
   "metadata": {},
   "outputs": [],
   "source": [
    "df.loc[16, \"내용\"]"
   ]
  }
 ],
 "metadata": {
  "kernelspec": {
   "display_name": "Python 3 (ipykernel)",
   "language": "python",
   "name": "python3"
  },
  "language_info": {
   "codemirror_mode": {
    "name": "ipython",
    "version": 3
   },
   "file_extension": ".py",
   "mimetype": "text/x-python",
   "name": "python",
   "nbconvert_exporter": "python",
   "pygments_lexer": "ipython3",
   "version": "3.9.12"
  }
 },
 "nbformat": 4,
 "nbformat_minor": 5
}
