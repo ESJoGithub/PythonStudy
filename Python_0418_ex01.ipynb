{
  "nbformat": 4,
  "nbformat_minor": 0,
  "metadata": {
    "colab": {
      "name": "Python_0418_ex01.ipynb",
      "provenance": [],
      "collapsed_sections": [],
      "authorship_tag": "ABX9TyM35Bw6+7dhR7tbV7kaYsJo",
      "include_colab_link": true
    },
    "kernelspec": {
      "name": "python3",
      "display_name": "Python 3"
    },
    "language_info": {
      "name": "python"
    }
  },
  "cells": [
    {
      "cell_type": "markdown",
      "metadata": {
        "id": "view-in-github",
        "colab_type": "text"
      },
      "source": [
        "<a href=\"https://colab.research.google.com/github/ESJoGithub/PythonStudy/blob/main/Python_0418_ex01.ipynb\" target=\"_parent\"><img src=\"https://colab.research.google.com/assets/colab-badge.svg\" alt=\"Open In Colab\"/></a>"
      ]
    },
    {
      "cell_type": "markdown",
      "source": [
        "키보드로부터 숫자 N개를 입력받아\n",
        "#**평균, 분산, 표준편차 반환 함수 만들기**\n",
        "---\n",
        "함수에 입력된 숫자의 평균, 분산, 표준편차 출력 코드\n",
        "\n",
        "최소값 및 인덱스, 최대값 및 인덱스, 오름차순, 내림차순 출력 함수 만들기"
      ],
      "metadata": {
        "id": "W2R5kZz-3T2h"
      }
    },
    {
      "cell_type": "code",
      "execution_count": null,
      "metadata": {
        "colab": {
          "base_uri": "https://localhost:8080/"
        },
        "id": "7huQ8tsr3QL6",
        "outputId": "3a5797ab-1e26-44ca-bbe1-5047eecf9a85"
      },
      "outputs": [
        {
          "output_type": "stream",
          "name": "stdout",
          "text": [
            "평균, 분산, 표준편차를 구할 숫자의 개수를 입력해주세요: \n",
            "3\n",
            "숫자를 입력해주세요:\n",
            "3\n",
            "숫자를 입력해주세요:\n",
            "6\n",
            "숫자를 입력해주세요:\n",
            "9\n",
            "평균은  6.0 입니다.\n",
            "분산은  6.0 , 표준편차는  2.449489742783178 입니다.\n",
            "최대값은 9 , 최대 인덱스는 2 입니다.\n",
            "최소값은 3 , 최소 인덱스는 0 입니다.\n",
            "오름차순 정렬:  [3, 6, 9]\n",
            "내림차순 정렬:  [9, 6, 3]\n"
          ]
        }
      ],
      "source": [
        "numbers = []\n",
        "count = 0\n",
        "\n",
        "print(\"평균, 분산, 표준편차를 구할 숫자의 개수를 입력해주세요: \")\n",
        "count = int(input())\n",
        "\n",
        "for i in range(count) :\n",
        "  print(\"숫자를 입력해주세요:\")\n",
        "  numbers.insert(i, int(input()))\n",
        "\n",
        "def average(list) :\n",
        "  sum = 0\n",
        "  ave = 0\n",
        "  for i in list :\n",
        "    sum = sum + i\n",
        "  ave = sum/len(list)\n",
        "  return ave;\n",
        "print(\"평균은 \", average(numbers), \"입니다.\")\n",
        "\n",
        "def printVariance(list) :\n",
        "  ave = average(list)\n",
        "  sum = 0\n",
        "  vari = 0\n",
        "  for i in list :\n",
        "    sum = sum+(i-ave)**2\n",
        "  vari = sum/len(list)\n",
        "  print(\"분산은 \", vari,\", 표준편차는 \",vari**(1/2), \"입니다.\")\n",
        "printVariance(numbers)\n",
        "\n",
        "def findMax(list) :\n",
        "  max = list[0]\n",
        "  index = 0\n",
        "  for i in range(len(list)-1) :\n",
        "    if list[i+1] > max :\n",
        "      max = list[i+1]\n",
        "      index = i+1\n",
        "  print(\"최대값은\", max, \", 최대 인덱스는\", index, \"입니다.\")\n",
        "findMax(numbers)\n",
        "\n",
        "def findMin(list) :\n",
        "  min = list[0]\n",
        "  index = 0\n",
        "  for i in range(len(list)-1) :\n",
        "    if list[i+1] < min :\n",
        "      min = list[i+1]\n",
        "      index = i+1\n",
        "  print(\"최소값은\", min, \", 최소 인덱스는\", index, \"입니다.\")\n",
        "findMin(numbers)\n",
        "\n",
        "def makeSort(list) :\n",
        "  for i in range(len(list)-1) :\n",
        "    for j in range(i+1, len(list)) :\n",
        "      if list[j] < list[i] :\n",
        "        temp = list[i]\n",
        "        list[i] = list[j]\n",
        "        list[j] = temp\n",
        "  print(\"오름차순 정렬: \", list)\n",
        "makeSort(numbers)\n",
        "\n",
        "def makeReverseSort(list) :\n",
        "  for i in range(len(list)-1) :\n",
        "    for j in range(i+1, len(list)) :\n",
        "      if list[j] > list[i] :\n",
        "        temp = list[i]\n",
        "        list[i] = list[j]\n",
        "        list[j] = temp\n",
        "  print(\"내림차순 정렬: \", list)\n",
        "makeReverseSort(numbers)"
      ]
    }
  ]
}