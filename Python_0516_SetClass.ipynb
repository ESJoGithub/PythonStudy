{
  "nbformat": 4,
  "nbformat_minor": 0,
  "metadata": {
    "colab": {
      "name": "Python_0516_SetClass.ipynb",
      "provenance": [],
      "collapsed_sections": [],
      "authorship_tag": "ABX9TyMOaxosJNxdGNfZSErTQCvc",
      "include_colab_link": true
    },
    "kernelspec": {
      "name": "python3",
      "display_name": "Python 3"
    },
    "language_info": {
      "name": "python"
    }
  },
  "cells": [
    {
      "cell_type": "markdown",
      "metadata": {
        "id": "view-in-github",
        "colab_type": "text"
      },
      "source": [
        "<a href=\"https://colab.research.google.com/github/ESJoGithub/PythonStudy/blob/main/Python_0516_SetClass.ipynb\" target=\"_parent\"><img src=\"https://colab.research.google.com/assets/colab-badge.svg\" alt=\"Open In Colab\"/></a>"
      ]
    },
    {
      "cell_type": "markdown",
      "source": [
        "###자료구조 Set을 파이썬 class로 구현해보기"
      ],
      "metadata": {
        "id": "UpcWemDrqMEX"
      }
    },
    {
      "cell_type": "code",
      "execution_count": null,
      "metadata": {
        "id": "_nXnVUaht-tX"
      },
      "outputs": [],
      "source": [
        "class SetADT:\n",
        "  def __init__(self):\n",
        "    self._set = set()\n",
        "\n",
        "  def size(self):\n",
        "    return len(self._set)\n",
        "\n",
        "  def contains(self, e):\n",
        "    if e in self._set:\n",
        "      print(\"{}은/는 집합의 원소입니다.\".format(e))\n",
        "      return e\n",
        "    else:\n",
        "      print(\"{}은/는 집합의 원소가 아닙니다.\".format(e))\n",
        "  \n",
        "  def insert(self, e):\n",
        "    if e not in self._set:\n",
        "      self._set.add(e)\n",
        "      print(\"{}을/를 집합에 삽입하였습니다.\".format(e))\n",
        "    else:\n",
        "      print(\"{}은/는 집합에 이미 포함되어 있습니다.\".format(e))\n",
        "\n",
        "  def delete(self, e):\n",
        "    if e in self._set:\n",
        "      self._set.discard(e)\n",
        "      print(\"{}을/를 집합에서 삭제하였습니다.\".format(e))\n",
        "      return e\n",
        "    else:\n",
        "      print(\"{}은/는 집합의 원소가 아닙니다.\".format(e))\n",
        "\n",
        "# def equals(self, setB):\n",
        "#   if self._set.issubset(setB) and self._set.issuperset(setB):\n",
        "#     print(\"두 집합은 같은 집합입니다.\")\n",
        "#   else:\n",
        "#     print(\"두 집합은 같은 집합이 아닙니다.\")\n",
        "\n",
        "  def equals(self, setB):\n",
        "    _check = False\n",
        "    list_a = [i for i in self._set]\n",
        "    list_b = [i for i in setB]\n",
        "    list_a.sort()\n",
        "    list_b.sort()\n",
        "    if len(list_a) == len(list_b):\n",
        "      for i in range(len(list_a)):\n",
        "        if list_a[i] != list_b[i]:\n",
        "          _check = False\n",
        "        else:\n",
        "          _check = True\n",
        "    \n",
        "    if _check == True:\n",
        "      print(\"두 집합은 같은 집합입니다.\")\n",
        "    else:\n",
        "      print(\"두 집합은 같은 집합이 아닙니다.\")\n",
        "\n",
        "# def unionSet(self, setB):\n",
        "#   union_set = self._set.union(setB)\n",
        "#   print(\"두 집합의 합집합은 {}입니다.\".format(sorted(union_set)))\n",
        "#   return union_set\n",
        "\n",
        "  def unionSet(self, setB):\n",
        "    list_a = [i for i in self._set]\n",
        "    list_b = [i for i in setB]\n",
        "    list_c = list_a+list_b\n",
        "    union_set=set()\n",
        "    for i in list_c:\n",
        "      union_set.add(i)\n",
        "    print(\"두 집합의 합집합은 {}입니다.\".format(sorted(union_set)))\n",
        "    return union_set\n",
        "\n",
        "# def intersectSet(self, setB):\n",
        "#   inter_set = self._set.intersection(setB)\n",
        "#   print(\"두 집합의 교집합은 {}입니다.\".format(sorted(inter_set)))\n",
        "#   return inter_set\n",
        "\n",
        "  def intersectSet(self, setB):\n",
        "    list_a = [i for i in self._set]\n",
        "    list_b = [i for i in setB]\n",
        "    inter_set=set()\n",
        "    for i in list_a:\n",
        "      for j in list_b:\n",
        "        if i == j:\n",
        "          inter_set.add(i)\n",
        "    print(\"두 집합의 교집합은 {}입니다.\".format(sorted(inter_set)))\n",
        "    return inter_set\n",
        "  \n",
        "# def differenceSet(self, setB):\n",
        "#   diff_set = self._set.difference(setB)\n",
        "#   print(\"{0} 차집합 {1}은/는 {2}입니다.\".format(sorted(self._set), sorted(setB), sorted(diff_set)))\n",
        "#   return diff_set\n",
        "\n",
        "  def differenceSet(self, setB):\n",
        "    list_a = [i for i in self._set]\n",
        "    list_b = [i for i in setB]\n",
        "    inter_set=set()\n",
        "    for i in list_a:\n",
        "      for j in list_b:\n",
        "        if i == j:\n",
        "          inter_set.add(i)\n",
        "    diff_set=set()\n",
        "    for i in list_a:\n",
        "      for j in inter_set:\n",
        "        if i == j:\n",
        "          list_a.remove(i)\n",
        "    for i in list_a:\n",
        "      diff_set.add(i)\n",
        "    print(\"{0} 차집합 {1}은/는 {2}입니다.\".format(sorted(self._set), sorted(setB), sorted(diff_set)))\n",
        "    return diff_set      \n",
        "\n",
        "  def display(self):\n",
        "    print(self._set)"
      ]
    },
    {
      "cell_type": "code",
      "source": [
        "set_a = {10, 20, 30, 40, 50}\n",
        "set_b = {40, 30, 20, 10}\n",
        "set_c = {20, 40, 60, 80, 100}"
      ],
      "metadata": {
        "id": "pwDV-qwNz0Jk"
      },
      "execution_count": null,
      "outputs": []
    },
    {
      "cell_type": "code",
      "source": [
        "test = SetADT()\n",
        "\n",
        "test.insert(10)\n",
        "test.insert(20)\n",
        "test.insert(30)\n",
        "test.insert(40)\n",
        "test.insert(50)"
      ],
      "metadata": {
        "colab": {
          "base_uri": "https://localhost:8080/"
        },
        "id": "UNBrzvdOzqec",
        "outputId": "43cc5a24-a1db-4064-cb08-6999d9be90d7"
      },
      "execution_count": null,
      "outputs": [
        {
          "output_type": "stream",
          "name": "stdout",
          "text": [
            "10을/를 집합에 삽입하였습니다.\n",
            "20을/를 집합에 삽입하였습니다.\n",
            "30을/를 집합에 삽입하였습니다.\n",
            "40을/를 집합에 삽입하였습니다.\n",
            "50을/를 집합에 삽입하였습니다.\n"
          ]
        }
      ]
    },
    {
      "cell_type": "code",
      "source": [
        "e1=test.contains(100)\n",
        "print(e1)\n",
        "e2=test.contains(50)\n",
        "print(e2)"
      ],
      "metadata": {
        "colab": {
          "base_uri": "https://localhost:8080/"
        },
        "id": "0eE6ZmOz857d",
        "outputId": "3ae04f53-52f6-4f25-ace8-b9ab4a22bf39"
      },
      "execution_count": null,
      "outputs": [
        {
          "output_type": "stream",
          "name": "stdout",
          "text": [
            "100은/는 집합의 원소가 아닙니다.\n",
            "None\n",
            "50은/는 집합의 원소입니다.\n",
            "50\n"
          ]
        }
      ]
    },
    {
      "cell_type": "code",
      "source": [
        "test.size()"
      ],
      "metadata": {
        "colab": {
          "base_uri": "https://localhost:8080/"
        },
        "id": "yR4FRO4Q9Rb-",
        "outputId": "d236d8e6-316a-4da7-b6c7-61677f2dd313"
      },
      "execution_count": null,
      "outputs": [
        {
          "output_type": "execute_result",
          "data": {
            "text/plain": [
              "5"
            ]
          },
          "metadata": {},
          "execution_count": 19
        }
      ]
    },
    {
      "cell_type": "code",
      "source": [
        "test.delete(100)"
      ],
      "metadata": {
        "colab": {
          "base_uri": "https://localhost:8080/"
        },
        "id": "juuz9fb39bLG",
        "outputId": "b5e39f2d-3023-4f45-f924-e70407484590"
      },
      "execution_count": null,
      "outputs": [
        {
          "output_type": "stream",
          "name": "stdout",
          "text": [
            "100은/는 집합의 원소가 아닙니다.\n"
          ]
        }
      ]
    },
    {
      "cell_type": "code",
      "source": [
        "test.delete(50)"
      ],
      "metadata": {
        "colab": {
          "base_uri": "https://localhost:8080/"
        },
        "id": "FxbnD8BL9d5E",
        "outputId": "7c215438-68ec-49b0-ef8d-45677b6f5d6c"
      },
      "execution_count": null,
      "outputs": [
        {
          "output_type": "stream",
          "name": "stdout",
          "text": [
            "50을/를 집합에서 삭제하였습니다.\n"
          ]
        },
        {
          "output_type": "execute_result",
          "data": {
            "text/plain": [
              "50"
            ]
          },
          "metadata": {},
          "execution_count": 21
        }
      ]
    },
    {
      "cell_type": "code",
      "source": [
        "test.equals(set_a)"
      ],
      "metadata": {
        "colab": {
          "base_uri": "https://localhost:8080/"
        },
        "id": "0U63wGD09mzd",
        "outputId": "d649cc3c-a196-491b-e5f6-ab5fac566bc8"
      },
      "execution_count": null,
      "outputs": [
        {
          "output_type": "stream",
          "name": "stdout",
          "text": [
            "두 집합은 같은 집합이 아닙니다.\n"
          ]
        }
      ]
    },
    {
      "cell_type": "code",
      "source": [
        "test.equals(set_b)"
      ],
      "metadata": {
        "colab": {
          "base_uri": "https://localhost:8080/"
        },
        "id": "D57_u33d9qt0",
        "outputId": "5f7c98a6-8652-4ebf-8fe4-30dec818e122"
      },
      "execution_count": null,
      "outputs": [
        {
          "output_type": "stream",
          "name": "stdout",
          "text": [
            "두 집합은 같은 집합입니다.\n"
          ]
        }
      ]
    },
    {
      "cell_type": "code",
      "source": [
        "union_set = test.unionSet(set_c)\n",
        "print(union_set)"
      ],
      "metadata": {
        "colab": {
          "base_uri": "https://localhost:8080/"
        },
        "id": "BT82vKP391TG",
        "outputId": "ff5bb208-e11e-4b76-fcdb-31e10746268b"
      },
      "execution_count": null,
      "outputs": [
        {
          "output_type": "stream",
          "name": "stdout",
          "text": [
            "두 집합의 합집합은 [10, 20, 30, 40, 60, 80, 100]입니다.\n",
            "{100, 40, 10, 80, 20, 60, 30}\n"
          ]
        }
      ]
    },
    {
      "cell_type": "code",
      "source": [
        "intersec_set = test.intersectSet(set_c)\n",
        "print(intersec_set)"
      ],
      "metadata": {
        "colab": {
          "base_uri": "https://localhost:8080/"
        },
        "id": "r9J-D9vI-wMu",
        "outputId": "31488cdd-0678-452b-b683-5db356c505af"
      },
      "execution_count": null,
      "outputs": [
        {
          "output_type": "stream",
          "name": "stdout",
          "text": [
            "두 집합의 교집합은 [20, 40]입니다.\n",
            "{40, 20}\n"
          ]
        }
      ]
    },
    {
      "cell_type": "code",
      "source": [
        "difference_set = test.differenceSet(set_c)\n",
        "print(difference_set)"
      ],
      "metadata": {
        "colab": {
          "base_uri": "https://localhost:8080/"
        },
        "id": "-clol1iQ_IGd",
        "outputId": "1fac2a91-32a2-4ff7-ce7c-cbb24989c01c"
      },
      "execution_count": null,
      "outputs": [
        {
          "output_type": "stream",
          "name": "stdout",
          "text": [
            "[10, 20, 30, 40] 차집합 [20, 40, 60, 80, 100]은/는 [10, 30]입니다.\n",
            "{10, 30}\n"
          ]
        }
      ]
    },
    {
      "cell_type": "code",
      "source": [
        "test.display()"
      ],
      "metadata": {
        "colab": {
          "base_uri": "https://localhost:8080/"
        },
        "id": "nbKXd2r9_c51",
        "outputId": "c1277d37-341d-4624-c1ed-35dad2f3c1c8"
      },
      "execution_count": null,
      "outputs": [
        {
          "output_type": "stream",
          "name": "stdout",
          "text": [
            "{40, 10, 20, 30}\n"
          ]
        }
      ]
    }
  ]
}