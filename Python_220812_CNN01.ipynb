{
 "cells": [
  {
   "cell_type": "markdown",
   "id": "4e3b4d66",
   "metadata": {},
   "source": [
    "# 이미지 데이터 분석"
   ]
  },
  {
   "cell_type": "markdown",
   "id": "a1a3d15c",
   "metadata": {},
   "source": [
    "## 합성곱 신경망(CNN)을 활용한 이미지 데이터 분석\n",
    "---\n",
    "인공신경망 CNN 주요 모형을 활용한 이미지 분류"
   ]
  },
  {
   "cell_type": "markdown",
   "id": "b66ab7d0",
   "metadata": {},
   "source": [
    "### 이미지 불러오기"
   ]
  },
  {
   "cell_type": "markdown",
   "id": "d0f94cb4",
   "metadata": {},
   "source": [
    "#### 학습용 데이터 불러오기 및 정규화"
   ]
  },
  {
   "cell_type": "code",
   "execution_count": 1,
   "id": "edcaeeb0",
   "metadata": {},
   "outputs": [],
   "source": [
    "from keras.preprocessing.image import ImageDataGenerator"
   ]
  },
  {
   "cell_type": "code",
   "execution_count": 2,
   "id": "8c5dcc60",
   "metadata": {
    "scrolled": true
   },
   "outputs": [
    {
     "name": "stdout",
     "output_type": "stream",
     "text": [
      "Found 2000 images belonging to 2 classes.\n"
     ]
    }
   ],
   "source": [
    "train = ImageDataGenerator().flow_from_directory('dog-vs-cat/train',\n",
    "                                                  target_size=(100, 100), # 변환 크기\n",
    "                                                  class_mode = 'binary'   # 고양이 or 개로 binary 분류\n",
    "                                                 )"
   ]
  },
  {
   "cell_type": "markdown",
   "id": "20c8f2ad",
   "metadata": {},
   "source": [
    "#### 검증용 데이터 불러오기"
   ]
  },
  {
   "cell_type": "code",
   "execution_count": 3,
   "id": "9908b397",
   "metadata": {},
   "outputs": [
    {
     "name": "stdout",
     "output_type": "stream",
     "text": [
      "Found 2000 images belonging to 2 classes.\n"
     ]
    }
   ],
   "source": [
    "valid = ImageDataGenerator(rescale = 1/255).flow_from_directory('dog-vs-cat/train',\n",
    "                                                                target_size=(100, 100), \n",
    "                                                                class_mode = 'binary',\n",
    "                                                                shuffle=False)"
   ]
  },
  {
   "cell_type": "markdown",
   "id": "25b3390d",
   "metadata": {},
   "source": [
    "### 1. CNN 합성곱 신경망"
   ]
  },
  {
   "cell_type": "code",
   "execution_count": 4,
   "id": "d304fd74",
   "metadata": {},
   "outputs": [],
   "source": [
    "import keras\n",
    "import tensorflow as tf\n",
    "from tensorflow.keras.models import Sequential\n",
    "from tensorflow.keras.layers import *"
   ]
  },
  {
   "cell_type": "code",
   "execution_count": 5,
   "id": "9f4d3301",
   "metadata": {},
   "outputs": [
    {
     "name": "stdout",
     "output_type": "stream",
     "text": [
      "Model: \"sequential\"\n",
      "_________________________________________________________________\n",
      " Layer (type)                Output Shape              Param #   \n",
      "=================================================================\n",
      " conv2d (Conv2D)             (None, 98, 98, 32)        896       \n",
      "                                                                 \n",
      " max_pooling2d (MaxPooling2D  (None, 49, 49, 32)       0         \n",
      " )                                                               \n",
      "                                                                 \n",
      " flatten (Flatten)           (None, 76832)             0         \n",
      "                                                                 \n",
      " dense (Dense)               (None, 1)                 76833     \n",
      "                                                                 \n",
      "=================================================================\n",
      "Total params: 77,729\n",
      "Trainable params: 77,729\n",
      "Non-trainable params: 0\n",
      "_________________________________________________________________\n"
     ]
    }
   ],
   "source": [
    "model = Sequential()\n",
    "# 커널 개수 32개 각(3X3)\n",
    "model.add(Conv2D(32, (3, 3), activation='relu', input_shape=(100, 100, 3)))\n",
    "model.add(MaxPooling2D((2,2)))\n",
    "model.add(Flatten())\n",
    "model.add(Dense(1, activation='sigmoid'))\n",
    "model.summary()"
   ]
  },
  {
   "cell_type": "code",
   "execution_count": 6,
   "id": "10cb5705",
   "metadata": {},
   "outputs": [],
   "source": [
    "from tensorflow.keras.optimizers import Adam, RMSprop\n",
    "from keras.callbacks import EarlyStopping, TensorBoard"
   ]
  },
  {
   "cell_type": "code",
   "execution_count": 7,
   "id": "6a0b7ec5",
   "metadata": {},
   "outputs": [],
   "source": [
    "model.compile(loss='binary_crossentropy', metrics=['acc'], optimizer=Adam())"
   ]
  },
  {
   "cell_type": "code",
   "execution_count": 8,
   "id": "4bf7a155",
   "metadata": {
    "scrolled": true
   },
   "outputs": [
    {
     "name": "stdout",
     "output_type": "stream",
     "text": [
      "Epoch 1/30\n",
      "63/63 [==============================] - 14s 214ms/step - loss: 45.7625 - acc: 0.5465 - val_loss: 0.6822 - val_acc: 0.6985\n",
      "Epoch 2/30\n",
      "63/63 [==============================] - 17s 263ms/step - loss: 1.9052 - acc: 0.6940 - val_loss: 0.6780 - val_acc: 0.6575\n",
      "Epoch 3/30\n",
      "63/63 [==============================] - 14s 216ms/step - loss: 0.8395 - acc: 0.8300 - val_loss: 0.6724 - val_acc: 0.9130\n",
      "Epoch 4/30\n",
      "63/63 [==============================] - 13s 208ms/step - loss: 0.2134 - acc: 0.9260 - val_loss: 0.6697 - val_acc: 0.9050\n",
      "Epoch 5/30\n",
      "63/63 [==============================] - 14s 229ms/step - loss: 0.0717 - acc: 0.9675 - val_loss: 0.6676 - val_acc: 0.8380\n",
      "Epoch 6/30\n",
      "63/63 [==============================] - 16s 247ms/step - loss: 0.0220 - acc: 0.9940 - val_loss: 0.6667 - val_acc: 0.8500\n",
      "Epoch 7/30\n",
      "63/63 [==============================] - 14s 226ms/step - loss: 0.0114 - acc: 0.9995 - val_loss: 0.6657 - val_acc: 0.8515\n",
      "Epoch 8/30\n",
      "63/63 [==============================] - 13s 210ms/step - loss: 0.0078 - acc: 1.0000 - val_loss: 0.6654 - val_acc: 0.8090\n",
      "Epoch 9/30\n",
      "63/63 [==============================] - 13s 209ms/step - loss: 0.0063 - acc: 1.0000 - val_loss: 0.6649 - val_acc: 0.8090\n",
      "Epoch 10/30\n",
      "63/63 [==============================] - 14s 229ms/step - loss: 0.0049 - acc: 1.0000 - val_loss: 0.6645 - val_acc: 0.7900\n",
      "Epoch 11/30\n",
      "63/63 [==============================] - 14s 222ms/step - loss: 0.0038 - acc: 1.0000 - val_loss: 0.6641 - val_acc: 0.8020\n",
      "Epoch 12/30\n",
      "63/63 [==============================] - 14s 224ms/step - loss: 0.0030 - acc: 1.0000 - val_loss: 0.6639 - val_acc: 0.7850\n",
      "Epoch 13/30\n",
      "63/63 [==============================] - 15s 239ms/step - loss: 0.0025 - acc: 1.0000 - val_loss: 0.6630 - val_acc: 0.8325\n",
      "Epoch 14/30\n",
      "63/63 [==============================] - 15s 245ms/step - loss: 0.0021 - acc: 1.0000 - val_loss: 0.6629 - val_acc: 0.8170\n",
      "Epoch 15/30\n",
      "63/63 [==============================] - 13s 207ms/step - loss: 0.0018 - acc: 1.0000 - val_loss: 0.6629 - val_acc: 0.7925\n",
      "Epoch 16/30\n",
      "63/63 [==============================] - 13s 209ms/step - loss: 0.0015 - acc: 1.0000 - val_loss: 0.6622 - val_acc: 0.8370\n",
      "Epoch 17/30\n",
      "63/63 [==============================] - 13s 207ms/step - loss: 0.0014 - acc: 1.0000 - val_loss: 0.6622 - val_acc: 0.8060\n",
      "Epoch 18/30\n",
      "63/63 [==============================] - 13s 205ms/step - loss: 0.0012 - acc: 1.0000 - val_loss: 0.6612 - val_acc: 0.8450\n",
      "Epoch 19/30\n",
      "63/63 [==============================] - 14s 222ms/step - loss: 0.0010 - acc: 1.0000 - val_loss: 0.6614 - val_acc: 0.8250\n",
      "Epoch 20/30\n",
      "63/63 [==============================] - 13s 207ms/step - loss: 8.7686e-04 - acc: 1.0000 - val_loss: 0.6609 - val_acc: 0.8400\n",
      "Epoch 21/30\n",
      "63/63 [==============================] - 13s 206ms/step - loss: 8.1103e-04 - acc: 1.0000 - val_loss: 0.6612 - val_acc: 0.8225\n",
      "Epoch 22/30\n",
      "63/63 [==============================] - 14s 221ms/step - loss: 6.9373e-04 - acc: 1.0000 - val_loss: 0.6608 - val_acc: 0.8320\n",
      "Epoch 23/30\n",
      "63/63 [==============================] - 14s 223ms/step - loss: 6.1261e-04 - acc: 1.0000 - val_loss: 0.6604 - val_acc: 0.8325\n",
      "Epoch 24/30\n",
      "63/63 [==============================] - 13s 202ms/step - loss: 5.5299e-04 - acc: 1.0000 - val_loss: 0.6604 - val_acc: 0.8220\n",
      "Epoch 25/30\n",
      "63/63 [==============================] - 14s 227ms/step - loss: 4.9439e-04 - acc: 1.0000 - val_loss: 0.6599 - val_acc: 0.8295\n",
      "Epoch 26/30\n",
      "63/63 [==============================] - 13s 209ms/step - loss: 4.4672e-04 - acc: 1.0000 - val_loss: 0.6601 - val_acc: 0.8265\n",
      "Epoch 27/30\n",
      "63/63 [==============================] - 14s 216ms/step - loss: 4.0630e-04 - acc: 1.0000 - val_loss: 0.6599 - val_acc: 0.8245\n",
      "Epoch 28/30\n",
      "63/63 [==============================] - 15s 232ms/step - loss: 3.7474e-04 - acc: 1.0000 - val_loss: 0.6594 - val_acc: 0.8355\n",
      "Epoch 29/30\n",
      "63/63 [==============================] - 13s 208ms/step - loss: 3.4454e-04 - acc: 1.0000 - val_loss: 0.6591 - val_acc: 0.8400\n",
      "Epoch 30/30\n",
      "63/63 [==============================] - 13s 207ms/step - loss: 3.1296e-04 - acc: 1.0000 - val_loss: 0.6593 - val_acc: 0.8295\n"
     ]
    }
   ],
   "source": [
    "hist = model.fit(train, validation_data = valid, epochs=30, \n",
    "                 callbacks = [EarlyStopping(monitor=\"val_loss\", patience=2),\n",
    "                              TensorBoard(log_dir='log_model1')]) "
   ]
  },
  {
   "cell_type": "markdown",
   "id": "cca8ce96",
   "metadata": {},
   "source": [
    "### 2. 더 깊은 신경망"
   ]
  },
  {
   "cell_type": "code",
   "execution_count": 9,
   "id": "32a78e54",
   "metadata": {},
   "outputs": [
    {
     "name": "stdout",
     "output_type": "stream",
     "text": [
      "Model: \"sequential_1\"\n",
      "_________________________________________________________________\n",
      " Layer (type)                Output Shape              Param #   \n",
      "=================================================================\n",
      " conv2d_1 (Conv2D)           (None, 98, 98, 32)        896       \n",
      "                                                                 \n",
      " max_pooling2d_1 (MaxPooling  (None, 49, 49, 32)       0         \n",
      " 2D)                                                             \n",
      "                                                                 \n",
      " conv2d_2 (Conv2D)           (None, 47, 47, 32)        9248      \n",
      "                                                                 \n",
      " max_pooling2d_2 (MaxPooling  (None, 23, 23, 32)       0         \n",
      " 2D)                                                             \n",
      "                                                                 \n",
      " flatten_1 (Flatten)         (None, 16928)             0         \n",
      "                                                                 \n",
      " dense_1 (Dense)             (None, 1)                 16929     \n",
      "                                                                 \n",
      "=================================================================\n",
      "Total params: 27,073\n",
      "Trainable params: 27,073\n",
      "Non-trainable params: 0\n",
      "_________________________________________________________________\n"
     ]
    }
   ],
   "source": [
    "model2 = Sequential()\n",
    "model2.add(Conv2D(32, (3, 3), activation='relu', input_shape=(100, 100, 3)))\n",
    "model2.add(MaxPooling2D((2,2)))\n",
    "model2.add(Conv2D(32, (3, 3), activation='relu'))\n",
    "model2.add(MaxPooling2D((2,2)))\n",
    "model2.add(Flatten())\n",
    "model2.add(Dense(1, activation='sigmoid'))\n",
    "model2.summary()"
   ]
  },
  {
   "cell_type": "code",
   "execution_count": 10,
   "id": "f864cae2",
   "metadata": {},
   "outputs": [],
   "source": [
    "model2.compile(loss='binary_crossentropy', metrics=['acc'], optimizer=Adam())"
   ]
  },
  {
   "cell_type": "code",
   "execution_count": 11,
   "id": "eb24de8e",
   "metadata": {},
   "outputs": [
    {
     "name": "stdout",
     "output_type": "stream",
     "text": [
      "Epoch 1/30\n",
      "63/63 [==============================] - 17s 264ms/step - loss: 4.4648 - acc: 0.5105 - val_loss: 0.6931 - val_acc: 0.5470\n",
      "Epoch 2/30\n",
      "63/63 [==============================] - 20s 321ms/step - loss: 0.6586 - acc: 0.5675 - val_loss: 0.6926 - val_acc: 0.5265\n",
      "Epoch 3/30\n",
      "63/63 [==============================] - 16s 258ms/step - loss: 0.6203 - acc: 0.6085 - val_loss: 0.6923 - val_acc: 0.5280\n",
      "Epoch 4/30\n",
      "63/63 [==============================] - 17s 268ms/step - loss: 0.5606 - acc: 0.6560 - val_loss: 0.6909 - val_acc: 0.5700\n",
      "Epoch 5/30\n",
      "63/63 [==============================] - 18s 292ms/step - loss: 0.4985 - acc: 0.7180 - val_loss: 0.6904 - val_acc: 0.6060\n",
      "Epoch 6/30\n",
      "63/63 [==============================] - 17s 268ms/step - loss: 0.4544 - acc: 0.7580 - val_loss: 0.6895 - val_acc: 0.7080\n",
      "Epoch 7/30\n",
      "63/63 [==============================] - 18s 294ms/step - loss: 0.4129 - acc: 0.7795 - val_loss: 0.6877 - val_acc: 0.7400\n",
      "Epoch 8/30\n",
      "63/63 [==============================] - 16s 256ms/step - loss: 0.3634 - acc: 0.8145 - val_loss: 0.6844 - val_acc: 0.6980\n",
      "Epoch 9/30\n",
      "63/63 [==============================] - 18s 285ms/step - loss: 0.3151 - acc: 0.8555 - val_loss: 0.6849 - val_acc: 0.6080\n",
      "Epoch 10/30\n",
      "63/63 [==============================] - 16s 257ms/step - loss: 0.2701 - acc: 0.8750 - val_loss: 0.6826 - val_acc: 0.5835\n",
      "Epoch 11/30\n",
      "63/63 [==============================] - 16s 250ms/step - loss: 0.2805 - acc: 0.8695 - val_loss: 0.6838 - val_acc: 0.5675\n",
      "Epoch 12/30\n",
      "63/63 [==============================] - 17s 272ms/step - loss: 0.2596 - acc: 0.8800 - val_loss: 0.6791 - val_acc: 0.6165\n",
      "Epoch 13/30\n",
      "63/63 [==============================] - 16s 255ms/step - loss: 0.2154 - acc: 0.9040 - val_loss: 0.6779 - val_acc: 0.5450\n",
      "Epoch 14/30\n",
      "63/63 [==============================] - 16s 253ms/step - loss: 0.1881 - acc: 0.9205 - val_loss: 0.6747 - val_acc: 0.5860\n",
      "Epoch 15/30\n",
      "63/63 [==============================] - 16s 256ms/step - loss: 0.1451 - acc: 0.9420 - val_loss: 0.6747 - val_acc: 0.6040\n",
      "Epoch 16/30\n",
      "63/63 [==============================] - 18s 286ms/step - loss: 0.1267 - acc: 0.9480 - val_loss: 0.6724 - val_acc: 0.5745\n",
      "Epoch 17/30\n",
      "63/63 [==============================] - 16s 250ms/step - loss: 0.1166 - acc: 0.9540 - val_loss: 0.6722 - val_acc: 0.5445\n",
      "Epoch 18/30\n",
      "63/63 [==============================] - 16s 257ms/step - loss: 0.1371 - acc: 0.9485 - val_loss: 0.6717 - val_acc: 0.6030\n",
      "Epoch 19/30\n",
      "63/63 [==============================] - 17s 267ms/step - loss: 0.1446 - acc: 0.9350 - val_loss: 0.6682 - val_acc: 0.5950\n",
      "Epoch 20/30\n",
      "63/63 [==============================] - 18s 285ms/step - loss: 0.1424 - acc: 0.9365 - val_loss: 0.6708 - val_acc: 0.5340\n",
      "Epoch 21/30\n",
      "63/63 [==============================] - 16s 258ms/step - loss: 0.1427 - acc: 0.9455 - val_loss: 0.6721 - val_acc: 0.5175\n"
     ]
    }
   ],
   "source": [
    "hist2 = model2.fit(train, validation_data = valid, epochs=30, \n",
    "                   callbacks = [EarlyStopping(monitor=\"val_loss\", patience=2),\n",
    "                                TensorBoard(log_dir='log_model2')]) "
   ]
  },
  {
   "cell_type": "markdown",
   "id": "23c9de6c",
   "metadata": {},
   "source": [
    "### 3. 데이터 증강"
   ]
  },
  {
   "cell_type": "code",
   "execution_count": 12,
   "id": "407dfbc9",
   "metadata": {},
   "outputs": [],
   "source": [
    "img_gen = ImageDataGenerator(rescale=1./255,\n",
    "                            rotation_range=40,      # 40도까지 회전\n",
    "                            width_shift_range=0.2,  # 20%까지 좌우 이동\n",
    "                            height_shift_range=0.2, # 20%까지 상하 이동\n",
    "                            shear_range=0.2,        # 20%까지 기울임\n",
    "                            zoom_range=0.2,         # 20%까지 확대\n",
    "                            horizontal_flip=True,   # 좌우 뒤집기\n",
    ")"
   ]
  },
  {
   "cell_type": "code",
   "execution_count": 13,
   "id": "4c268305",
   "metadata": {},
   "outputs": [
    {
     "name": "stdout",
     "output_type": "stream",
     "text": [
      "Found 2000 images belonging to 2 classes.\n"
     ]
    }
   ],
   "source": [
    "train_ag = img_gen.flow_from_directory('dog-vs-cat/train',\n",
    "                                        target_size=(100, 100),\n",
    "                                        class_mode='binary')"
   ]
  },
  {
   "cell_type": "code",
   "execution_count": 14,
   "id": "d8e03cb1",
   "metadata": {},
   "outputs": [
    {
     "name": "stdout",
     "output_type": "stream",
     "text": [
      "Model: \"sequential_2\"\n",
      "_________________________________________________________________\n",
      " Layer (type)                Output Shape              Param #   \n",
      "=================================================================\n",
      " conv2d_3 (Conv2D)           (None, 98, 98, 32)        896       \n",
      "                                                                 \n",
      " max_pooling2d_3 (MaxPooling  (None, 49, 49, 32)       0         \n",
      " 2D)                                                             \n",
      "                                                                 \n",
      " conv2d_4 (Conv2D)           (None, 47, 47, 32)        9248      \n",
      "                                                                 \n",
      " max_pooling2d_4 (MaxPooling  (None, 23, 23, 32)       0         \n",
      " 2D)                                                             \n",
      "                                                                 \n",
      " flatten_2 (Flatten)         (None, 16928)             0         \n",
      "                                                                 \n",
      " dense_2 (Dense)             (None, 1)                 16929     \n",
      "                                                                 \n",
      "=================================================================\n",
      "Total params: 27,073\n",
      "Trainable params: 27,073\n",
      "Non-trainable params: 0\n",
      "_________________________________________________________________\n"
     ]
    }
   ],
   "source": [
    "model3 = Sequential()\n",
    "model3.add(Conv2D(32, (3, 3), activation='relu', input_shape=(100, 100, 3)))\n",
    "model3.add(MaxPooling2D((2, 2)))\n",
    "model3.add(Conv2D(32, (3, 3), activation='relu'))\n",
    "model3.add(MaxPooling2D((2, 2)))\n",
    "model3.add(Flatten())\n",
    "model3.add(Dense(1, activation='sigmoid'))\n",
    "model3.summary()"
   ]
  },
  {
   "cell_type": "code",
   "execution_count": 15,
   "id": "4b10040c",
   "metadata": {},
   "outputs": [],
   "source": [
    "model3.compile(loss='binary_crossentropy', metrics=['acc'], optimizer=Adam())"
   ]
  },
  {
   "cell_type": "code",
   "execution_count": 16,
   "id": "394537fb",
   "metadata": {},
   "outputs": [
    {
     "name": "stdout",
     "output_type": "stream",
     "text": [
      "Epoch 1/30\n",
      "63/63 [==============================] - 22s 338ms/step - loss: 0.6936 - acc: 0.5095 - val_loss: 0.6928 - val_acc: 0.5085\n",
      "Epoch 2/30\n",
      "63/63 [==============================] - 25s 397ms/step - loss: 0.6671 - acc: 0.5675 - val_loss: 0.6523 - val_acc: 0.5550\n",
      "Epoch 3/30\n",
      "63/63 [==============================] - 20s 317ms/step - loss: 0.6549 - acc: 0.6020 - val_loss: 0.6305 - val_acc: 0.6450\n",
      "Epoch 4/30\n",
      "63/63 [==============================] - 24s 374ms/step - loss: 0.6539 - acc: 0.6010 - val_loss: 0.6374 - val_acc: 0.6185\n",
      "Epoch 5/30\n",
      "63/63 [==============================] - 22s 353ms/step - loss: 0.6473 - acc: 0.6265 - val_loss: 0.6404 - val_acc: 0.6285\n"
     ]
    }
   ],
   "source": [
    "hist3 = model3.fit(train_ag, validation_data = valid, epochs=30, \n",
    "                   callbacks = [EarlyStopping(monitor=\"val_loss\", patience=2),\n",
    "                                  TensorBoard(log_dir='log_model3')]) "
   ]
  },
  {
   "cell_type": "markdown",
   "id": "1978a728",
   "metadata": {},
   "source": [
    "### 4. 드롭아웃과 학습률 조정"
   ]
  },
  {
   "cell_type": "code",
   "execution_count": 17,
   "id": "8240ff86",
   "metadata": {},
   "outputs": [],
   "source": [
    "from keras.layers import Dropout\n",
    "from keras.callbacks import ModelCheckpoint"
   ]
  },
  {
   "cell_type": "code",
   "execution_count": 21,
   "id": "6685df7a",
   "metadata": {},
   "outputs": [
    {
     "name": "stdout",
     "output_type": "stream",
     "text": [
      "Model: \"sequential_4\"\n",
      "_________________________________________________________________\n",
      " Layer (type)                Output Shape              Param #   \n",
      "=================================================================\n",
      " conv2d_8 (Conv2D)           (None, 98, 98, 32)        896       \n",
      "                                                                 \n",
      " max_pooling2d_8 (MaxPooling  (None, 49, 49, 32)       0         \n",
      " 2D)                                                             \n",
      "                                                                 \n",
      " conv2d_9 (Conv2D)           (None, 47, 47, 32)        9248      \n",
      "                                                                 \n",
      " max_pooling2d_9 (MaxPooling  (None, 23, 23, 32)       0         \n",
      " 2D)                                                             \n",
      "                                                                 \n",
      " conv2d_10 (Conv2D)          (None, 21, 21, 32)        9248      \n",
      "                                                                 \n",
      " max_pooling2d_10 (MaxPoolin  (None, 10, 10, 32)       0         \n",
      " g2D)                                                            \n",
      "                                                                 \n",
      " flatten_4 (Flatten)         (None, 3200)              0         \n",
      "                                                                 \n",
      " dropout_1 (Dropout)         (None, 3200)              0         \n",
      "                                                                 \n",
      " dense_5 (Dense)             (None, 512)               1638912   \n",
      "                                                                 \n",
      " dense_6 (Dense)             (None, 1)                 513       \n",
      "                                                                 \n",
      "=================================================================\n",
      "Total params: 1,658,817\n",
      "Trainable params: 1,658,817\n",
      "Non-trainable params: 0\n",
      "_________________________________________________________________\n"
     ]
    }
   ],
   "source": [
    "model4 = Sequential()\n",
    "model4.add(Conv2D(32, (3, 3), activation='relu', input_shape=(100, 100, 3)))\n",
    "model4.add(MaxPooling2D((2, 2)))\n",
    "model4.add(Conv2D(32, (3, 3), activation='relu'))\n",
    "model4.add(MaxPooling2D((2, 2)))\n",
    "model4.add(Conv2D(32, (3, 3), activation='relu'))\n",
    "model4.add(MaxPooling2D((2, 2)))\n",
    "model4.add(Flatten())\n",
    "model4.add(Dropout(0.5))                   # 경사하강법에서 하강률을 지정해주는 방식\n",
    "model4.add(Dense(512, activation='relu'))\n",
    "model4.add(Dense(1, activation='sigmoid'))\n",
    "model4.summary()"
   ]
  },
  {
   "cell_type": "code",
   "execution_count": 22,
   "id": "11c0f2ed",
   "metadata": {},
   "outputs": [],
   "source": [
    "#학습률을 0.0001로 낮춘다\n",
    "model4.compile(loss='binary_crossentropy', metrics=['acc'], optimizer=RMSprop(lr = 0.0001)) "
   ]
  },
  {
   "cell_type": "code",
   "execution_count": 23,
   "id": "f2a5e83a",
   "metadata": {},
   "outputs": [
    {
     "name": "stdout",
     "output_type": "stream",
     "text": [
      "Epoch 1/30\n",
      "63/63 [==============================] - 20s 304ms/step - loss: 6.0646 - acc: 0.5025 - val_loss: 0.6916 - val_acc: 0.5965\n",
      "Epoch 2/30\n",
      "63/63 [==============================] - 21s 331ms/step - loss: 1.1203 - acc: 0.5570 - val_loss: 0.6925 - val_acc: 0.5000\n",
      "Epoch 3/30\n",
      "63/63 [==============================] - 24s 375ms/step - loss: 0.7555 - acc: 0.5855 - val_loss: 0.6924 - val_acc: 0.5000\n",
      "Epoch 4/30\n",
      "63/63 [==============================] - 22s 346ms/step - loss: 0.6557 - acc: 0.6610 - val_loss: 0.6922 - val_acc: 0.5000\n",
      "Epoch 5/30\n",
      "63/63 [==============================] - 20s 316ms/step - loss: 0.5939 - acc: 0.6965 - val_loss: 0.6923 - val_acc: 0.5000\n",
      "Epoch 6/30\n",
      "63/63 [==============================] - 23s 358ms/step - loss: 0.5442 - acc: 0.7275 - val_loss: 0.6926 - val_acc: 0.5000\n",
      "Epoch 7/30\n",
      "63/63 [==============================] - 20s 317ms/step - loss: 0.5209 - acc: 0.7430 - val_loss: 0.6923 - val_acc: 0.5000\n",
      "Epoch 8/30\n",
      "63/63 [==============================] - 20s 313ms/step - loss: 0.5035 - acc: 0.7480 - val_loss: 0.6928 - val_acc: 0.5000\n",
      "Epoch 9/30\n",
      "63/63 [==============================] - 22s 343ms/step - loss: 0.4416 - acc: 0.7910 - val_loss: 0.6928 - val_acc: 0.5000\n",
      "Epoch 10/30\n",
      "63/63 [==============================] - 20s 316ms/step - loss: 0.4427 - acc: 0.7790 - val_loss: 0.6935 - val_acc: 0.5000\n",
      "Epoch 11/30\n",
      "63/63 [==============================] - 22s 351ms/step - loss: 0.4358 - acc: 0.7940 - val_loss: 0.6936 - val_acc: 0.5000\n",
      "Epoch 12/30\n",
      "63/63 [==============================] - 20s 324ms/step - loss: 0.3848 - acc: 0.8280 - val_loss: 0.6933 - val_acc: 0.5000\n",
      "Epoch 13/30\n",
      "63/63 [==============================] - 20s 317ms/step - loss: 0.3667 - acc: 0.8255 - val_loss: 0.6934 - val_acc: 0.5000\n",
      "Epoch 14/30\n",
      "63/63 [==============================] - 23s 365ms/step - loss: 0.3473 - acc: 0.8325 - val_loss: 0.6945 - val_acc: 0.5000\n",
      "Epoch 15/30\n",
      "63/63 [==============================] - 20s 315ms/step - loss: 0.3137 - acc: 0.8575 - val_loss: 0.6942 - val_acc: 0.5000\n",
      "Epoch 16/30\n",
      "63/63 [==============================] - 21s 341ms/step - loss: 0.3471 - acc: 0.8495 - val_loss: 0.6952 - val_acc: 0.5000\n",
      "Epoch 17/30\n",
      "63/63 [==============================] - 23s 362ms/step - loss: 0.3304 - acc: 0.8605 - val_loss: 0.6952 - val_acc: 0.5000\n",
      "Epoch 18/30\n",
      "63/63 [==============================] - 20s 319ms/step - loss: 0.3004 - acc: 0.8715 - val_loss: 0.6960 - val_acc: 0.5000\n",
      "Epoch 19/30\n",
      "63/63 [==============================] - 21s 338ms/step - loss: 0.2973 - acc: 0.8705 - val_loss: 0.6977 - val_acc: 0.5000\n",
      "Epoch 20/30\n",
      "63/63 [==============================] - 22s 353ms/step - loss: 0.2905 - acc: 0.8750 - val_loss: 0.6980 - val_acc: 0.5000\n",
      "Epoch 21/30\n",
      "63/63 [==============================] - 20s 318ms/step - loss: 0.2812 - acc: 0.8795 - val_loss: 0.6989 - val_acc: 0.5000\n",
      "Epoch 22/30\n",
      "63/63 [==============================] - 20s 325ms/step - loss: 0.2730 - acc: 0.8835 - val_loss: 0.6990 - val_acc: 0.5000\n",
      "Epoch 23/30\n",
      "63/63 [==============================] - 22s 344ms/step - loss: 0.2532 - acc: 0.8845 - val_loss: 0.6989 - val_acc: 0.5000\n",
      "Epoch 24/30\n",
      "63/63 [==============================] - 20s 320ms/step - loss: 0.2562 - acc: 0.8935 - val_loss: 0.6992 - val_acc: 0.5000\n",
      "Epoch 25/30\n",
      "63/63 [==============================] - 22s 343ms/step - loss: 0.2337 - acc: 0.9010 - val_loss: 0.6995 - val_acc: 0.5000\n",
      "Epoch 26/30\n",
      "63/63 [==============================] - 22s 345ms/step - loss: 0.2326 - acc: 0.9085 - val_loss: 0.7000 - val_acc: 0.5000\n",
      "Epoch 27/30\n",
      "63/63 [==============================] - 20s 323ms/step - loss: 0.2167 - acc: 0.9040 - val_loss: 0.7006 - val_acc: 0.5000\n",
      "Epoch 28/30\n",
      "63/63 [==============================] - 23s 372ms/step - loss: 0.2124 - acc: 0.9125 - val_loss: 0.7016 - val_acc: 0.5000\n",
      "Epoch 29/30\n",
      "63/63 [==============================] - 21s 339ms/step - loss: 0.1985 - acc: 0.9225 - val_loss: 0.7020 - val_acc: 0.5000\n",
      "Epoch 30/30\n",
      "63/63 [==============================] - 21s 338ms/step - loss: 0.2062 - acc: 0.9155 - val_loss: 0.7012 - val_acc: 0.5000\n"
     ]
    },
    {
     "data": {
      "text/plain": [
       "<keras.callbacks.History at 0x18887062220>"
      ]
     },
     "execution_count": 23,
     "metadata": {},
     "output_type": "execute_result"
    }
   ],
   "source": [
    "# 가장 성능이 좋은 모델을 model4-00.hdf5와 같은 파일 명으로 저장한다\n",
    "model4.fit(train, validation_data=valid, epochs=30,\n",
    "           callbacks=[ModelCheckpoint('model4-{epoch:02d}.hdf5', save_best_only=True),\n",
    "                      TensorBoard(log_dir='log_model')])"
   ]
  }
 ],
 "metadata": {
  "kernelspec": {
   "display_name": "Python 3 (ipykernel)",
   "language": "python",
   "name": "python3"
  },
  "language_info": {
   "codemirror_mode": {
    "name": "ipython",
    "version": 3
   },
   "file_extension": ".py",
   "mimetype": "text/x-python",
   "name": "python",
   "nbconvert_exporter": "python",
   "pygments_lexer": "ipython3",
   "version": "3.9.12"
  }
 },
 "nbformat": 4,
 "nbformat_minor": 5
}
