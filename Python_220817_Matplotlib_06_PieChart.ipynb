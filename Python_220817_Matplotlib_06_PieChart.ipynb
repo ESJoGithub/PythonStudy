{
 "cells": [
  {
   "cell_type": "code",
   "execution_count": 1,
   "id": "e4459012",
   "metadata": {},
   "outputs": [],
   "source": [
    "import pandas as pd\n",
    "import matplotlib.pyplot as plt"
   ]
  },
  {
   "cell_type": "code",
   "execution_count": 2,
   "id": "00a7ced3",
   "metadata": {},
   "outputs": [],
   "source": [
    "from matplotlib import font_manager, rc"
   ]
  },
  {
   "cell_type": "code",
   "execution_count": 3,
   "id": "0d748371",
   "metadata": {},
   "outputs": [],
   "source": [
    "font_path = \"C:\\\\USERS\\\\USER\\\\APPDATA\\\\LOCAL\\\\MICROSOFT\\\\WINDOWS\\\\FONTS\\\\NANUMGOTHICCODING.ttf\"\n",
    "\n",
    "font_name = font_manager.FontProperties(fname = font_path).get_name()\n",
    "rc('font', family=font_name)"
   ]
  },
  {
   "cell_type": "code",
   "execution_count": 4,
   "id": "85f1dc38",
   "metadata": {},
   "outputs": [],
   "source": [
    "df = pd.read_csv('E:\\\\Python\\\\auto-mpg.csv', header=None)"
   ]
  },
  {
   "cell_type": "code",
   "execution_count": 5,
   "id": "4c4db2f1",
   "metadata": {},
   "outputs": [],
   "source": [
    "df.columns = ['mpg', 'cylinders', 'displacement', 'horsepower', 'weight', 'acceleration', 'model year', 'origin', 'name']"
   ]
  },
  {
   "cell_type": "code",
   "execution_count": 6,
   "id": "d890380c",
   "metadata": {},
   "outputs": [
    {
     "name": "stdout",
     "output_type": "stream",
     "text": [
      "           mpg  cylinders  displacement    weight  acceleration  model year  \\\n",
      "origin                                                                        \n",
      "1       5000.8       1556       61229.5  837121.0        3743.4       18827   \n",
      "2       1952.4        291        7640.0  169631.0        1175.1        5307   \n",
      "3       2405.6        324        8114.0  175477.0        1277.6        6118   \n",
      "\n",
      "        count  \n",
      "origin         \n",
      "1         249  \n",
      "2          70  \n",
      "3          79  \n"
     ]
    }
   ],
   "source": [
    "# 데이터 개수 카운트를 위한 열 추가\n",
    "df['count'] = 1\n",
    "df_origin = df.groupby('origin').sum()   # origin 열을 그룹별로 분류하여 그룹별 합계 연산\n",
    "print(df_origin)"
   ]
  },
  {
   "cell_type": "code",
   "execution_count": 7,
   "id": "890b17ae",
   "metadata": {},
   "outputs": [],
   "source": [
    "# origin 값을 실제 지역명으로 변경\n",
    "df_origin.index = ['USA', 'EU', 'JPN']"
   ]
  },
  {
   "cell_type": "markdown",
   "id": "9ed8b6ff",
   "metadata": {},
   "source": [
    "### 제조국가(origin)에 대한 파이 차트 그리기"
   ]
  },
  {
   "cell_type": "code",
   "execution_count": 8,
   "id": "82301285",
   "metadata": {},
   "outputs": [
    {
     "data": {
      "image/png": "[encoded data removed]",
      "text/plain": [
       "<Figure size 504x360 with 1 Axes>"
      ]
     },
     "metadata": {},
     "output_type": "display_data"
    }
   ],
   "source": [
    "df_origin['count'].plot(kind = 'pie', figsize=(7, 5), \n",
    "                         autopct = '%1.1f%%',             # 퍼센트 표시\n",
    "                         startangle = 10,                 # 파이 조각을 나누는 시작점(각도)\n",
    "                         colors = ['chocolate', 'bisque', 'cadetblue']\n",
    "                        )\n",
    "plt.title('Model Origin', size = 20)\n",
    "plt.axis('equal')                                         # 파이 차트 비율을 같게(원에 가깝도록) 조정\n",
    "plt.legend(labels = df_origin.index, loc = 'upper right')\n",
    "\n",
    "plt.show()"
   ]
  }
 ],
 "metadata": {
  "kernelspec": {
   "display_name": "Python 3 (ipykernel)",
   "language": "python",
   "name": "python3"
  },
  "language_info": {
   "codemirror_mode": {
    "name": "ipython",
    "version": 3
   },
   "file_extension": ".py",
   "mimetype": "text/x-python",
   "name": "python",
   "nbconvert_exporter": "python",
   "pygments_lexer": "ipython3",
   "version": "3.9.12"
  }
 },
 "nbformat": 4,
 "nbformat_minor": 5
}
