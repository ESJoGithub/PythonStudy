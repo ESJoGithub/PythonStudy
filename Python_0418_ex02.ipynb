{
  "nbformat": 4,
  "nbformat_minor": 0,
  "metadata": {
    "colab": {
      "name": "Python_0418_ex02.ipynb",
      "provenance": [],
      "collapsed_sections": [],
      "authorship_tag": "ABX9TyMJzhAPe0aX8LDgX/MLDe3c",
      "include_colab_link": true
    },
    "kernelspec": {
      "name": "python3",
      "display_name": "Python 3"
    },
    "language_info": {
      "name": "python"
    }
  },
  "cells": [
    {
      "cell_type": "markdown",
      "metadata": {
        "id": "view-in-github",
        "colab_type": "text"
      },
      "source": [
        "<a href=\"https://colab.research.google.com/github/ESJoGithub/PythonStudy/blob/main/Python_0418_ex02.ipynb\" target=\"_parent\"><img src=\"https://colab.research.google.com/assets/colab-badge.svg\" alt=\"Open In Colab\"/></a>"
      ]
    },
    {
      "cell_type": "markdown",
      "source": [
        "키보드로부터 숫자 N개를 입력받아\n",
        "#**평균, 분산, 표준편차 반환 함수 만들기**\n",
        "---\n",
        "함수에 입력된 숫자의 평균, 분산, 표준편차 출력 코드\n",
        "\n",
        "최소값 및 인덱스, 최대값 및 인덱스, 오름차순, 내림차순 출력 함수 만들기"
      ],
      "metadata": {
        "id": "W2R5kZz-3T2h"
      }
    },
    {
      "cell_type": "code",
      "source": [
        "numbers = []\n",
        "\n",
        "print(\"평균, 분산, 표준편차를 구할 숫자의 개수를 입력해주세요: \")\n",
        "count = int(input())\n",
        "print(\"-------\")\n",
        "\n",
        "for i in range(count) :\n",
        "  print(i+1,\"번째 숫자를 입력해주세요:\")\n",
        "  numbers.insert(i, int(input()))\n",
        "print(\"-------\")\n",
        "\n",
        "def getAverage(list) :\n",
        "  sum = 0\n",
        "  for i in list :\n",
        "    sum += i\n",
        "  ave = sum/len(list)\n",
        "  return ave;\n",
        "average = getAverage(numbers)\n",
        "\n",
        "def printVariance(list) :\n",
        "  ave = getAverage(list)\n",
        "  sum = 0\n",
        "  for i in list :\n",
        "    sum += (i-ave)**2\n",
        "  vari = sum/len(list)\n",
        "  print(\"분산은 \", vari,\", 표준편차는 \",vari**(1/2), \"입니다.\")\n",
        "\n",
        "def findMinMax(list) :\n",
        "  min = list[0]\n",
        "  max = list[0]\n",
        "  indexmin = 0\n",
        "  indexmax = 0\n",
        "  for i in range(len(list)-1) :\n",
        "    if list[i+1] < min :\n",
        "      min = list[i+1]\n",
        "      indexmin = i+1\n",
        "    elif list[i+1] > max :\n",
        "      max = list[i+1]\n",
        "      indexmax = i+1\n",
        "  print(\"최소값은\", min, \", 최소값의 인덱스는\", indexmin, \"입니다.\")\n",
        "  print(\"최대값은\", max, \", 최대값의 인덱스는\", indexmax, \"입니다.\")\n",
        "\n",
        "def makeSort(list) :\n",
        "  for i in range(len(list)-1) :\n",
        "    for j in range(i+1, len(list)) :\n",
        "      if list[j] < list[i] :\n",
        "        temp = list[i]\n",
        "        list[i] = list[j]\n",
        "        list[j] = temp\n",
        "  print(\"오름차순 정렬: \", list)\n",
        "\n",
        "\n",
        "def makeReverseSort(list) :\n",
        "  for i in range(len(list)-1) :\n",
        "    for j in range(i+1, len(list)) :\n",
        "      if list[j] > list[i] :\n",
        "        temp = list[i]\n",
        "        list[i] = list[j]\n",
        "        list[j] = temp\n",
        "  print(\"내림차순 정렬: \", list)\n",
        "\n",
        "print(\"평균은 \", average, \"입니다.\")\n",
        "printVariance(numbers)\n",
        "findMinMax(numbers)\n",
        "makeSort(numbers)\n",
        "makeReverseSort(numbers)"
      ],
      "metadata": {
        "colab": {
          "base_uri": "https://localhost:8080/"
        },
        "id": "twUrmPv_Wswu",
        "outputId": "ddf5f1e2-3aa5-4aed-fbe3-c9867464bfde"
      },
      "execution_count": null,
      "outputs": [
        {
          "output_type": "stream",
          "name": "stdout",
          "text": [
            "평균, 분산, 표준편차를 구할 숫자의 개수를 입력해주세요: \n",
            "5\n",
            "-------\n",
            "1 번째 숫자를 입력해주세요:\n",
            "177\n",
            "2 번째 숫자를 입력해주세요:\n",
            "183\n",
            "3 번째 숫자를 입력해주세요:\n",
            "181\n",
            "4 번째 숫자를 입력해주세요:\n",
            "175\n",
            "5 번째 숫자를 입력해주세요:\n",
            "179\n",
            "-------\n",
            "평균은  179.0 입니다.\n",
            "분산은  8.0 , 표준편차는  2.8284271247461903 입니다.\n",
            "최소값은 175 , 최소값의 인덱스는 3 입니다.\n",
            "최대값은 183 , 최대값의 인덱스는 1 입니다.\n",
            "오름차순 정렬:  [175, 177, 179, 181, 183]\n",
            "내림차순 정렬:  [183, 181, 179, 177, 175]\n"
          ]
        }
      ]
    }
  ]
}