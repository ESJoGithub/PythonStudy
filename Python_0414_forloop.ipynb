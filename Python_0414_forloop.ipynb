{
  "nbformat": 4,
  "nbformat_minor": 0,
  "metadata": {
    "colab": {
      "name": "Python_0414_forloop.ipynb",
      "provenance": [],
      "collapsed_sections": [],
      "authorship_tag": "ABX9TyPczo/iHjup0NokOW+4tj8y",
      "include_colab_link": true
    },
    "kernelspec": {
      "name": "python3",
      "display_name": "Python 3"
    },
    "language_info": {
      "name": "python"
    }
  },
  "cells": [
    {
      "cell_type": "markdown",
      "metadata": {
        "id": "view-in-github",
        "colab_type": "text"
      },
      "source": [
        "<a href=\"https://colab.research.google.com/github/ESJoGithub/PythonStudy/blob/main/Python_0414_forloop.ipynb\" target=\"_parent\"><img src=\"https://colab.research.google.com/assets/colab-badge.svg\" alt=\"Open In Colab\"/></a>"
      ]
    },
    {
      "cell_type": "code",
      "execution_count": 2,
      "metadata": {
        "colab": {
          "base_uri": "https://localhost:8080/"
        },
        "id": "rwRytdND7APu",
        "outputId": "b1fd5fb2-e41a-4a91-e7f8-2576150cf0df"
      },
      "outputs": [
        {
          "output_type": "stream",
          "name": "stdout",
          "text": [
            "The sum is 48\n"
          ]
        }
      ],
      "source": [
        "numbers = [6, 5, 3, 8, 4, 2, 5, 4, 11]\n",
        "\n",
        "sum = 0\n",
        "\n",
        "for val in numbers:\n",
        "  sum = sum+val\n",
        "\n",
        "print(\"The sum is\", sum)"
      ]
    },
    {
      "cell_type": "code",
      "source": [
        "numbers = [6, 5, 3, 8, 4, 2, 5, 4, 11]\n",
        "\n",
        "sum = 0\n",
        "\n",
        "print(\"Enter Number:\")\n",
        "num = int(input())       # input() 키보드에서 입력한 값을 문자열로 인식하므로 int로 형변환\n",
        "\n",
        "for val in numbers:\n",
        "  if(val > num) :        # val % num == 0 입력한 값으로 나누어지는 수만 합산하기\n",
        "    sum = sum+val\n",
        "\n",
        "print(\"The sum is\", sum)"
      ],
      "metadata": {
        "colab": {
          "base_uri": "https://localhost:8080/"
        },
        "id": "XS-tSO7h8PMv",
        "outputId": "15893bb4-3897-413e-d9d1-161c6a2c8fc6"
      },
      "execution_count": 14,
      "outputs": [
        {
          "output_type": "stream",
          "name": "stdout",
          "text": [
            "Enter Number:\n",
            "4\n",
            "The sum is 35\n"
          ]
        }
      ]
    }
  ]
}