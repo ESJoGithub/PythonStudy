{
  "nbformat": 4,
  "nbformat_minor": 0,
  "metadata": {
    "colab": {
      "name": "Python_0414_forloop.ipynb",
      "provenance": [],
      "collapsed_sections": [],
      "authorship_tag": "ABX9TyM+emuOqvKmRecPEcd432e3",
      "include_colab_link": true
    },
    "kernelspec": {
      "name": "python3",
      "display_name": "Python 3"
    },
    "language_info": {
      "name": "python"
    }
  },
  "cells": [
    {
      "cell_type": "markdown",
      "metadata": {
        "id": "view-in-github",
        "colab_type": "text"
      },
      "source": [
        "<a href=\"https://colab.research.google.com/github/ESJoGithub/PythonStudy/blob/main/Python_0414_forloop.ipynb\" target=\"_parent\"><img src=\"https://colab.research.google.com/assets/colab-badge.svg\" alt=\"Open In Colab\"/></a>"
      ]
    },
    {
      "cell_type": "markdown",
      "source": [
        "**for loop**\n",
        "\n",
        "---\n",
        "\n",
        "\n",
        "**for** val in sequence"
      ],
      "metadata": {
        "id": "PejcvvGxBzHB"
      }
    },
    {
      "cell_type": "code",
      "execution_count": 2,
      "metadata": {
        "colab": {
          "base_uri": "https://localhost:8080/"
        },
        "id": "rwRytdND7APu",
        "outputId": "b1fd5fb2-e41a-4a91-e7f8-2576150cf0df"
      },
      "outputs": [
        {
          "output_type": "stream",
          "name": "stdout",
          "text": [
            "The sum is 48\n"
          ]
        }
      ],
      "source": [
        "numbers = [6, 5, 3, 8, 4, 2, 5, 4, 11]\n",
        "\n",
        "sum = 0\n",
        "\n",
        "for val in numbers:\n",
        "  sum = sum+val\n",
        "\n",
        "print(\"The sum is\", sum)"
      ]
    },
    {
      "cell_type": "code",
      "source": [
        "numbers = [6, 5, 3, 8, 4, 2, 5, 4, 11]\n",
        "\n",
        "sum = 0\n",
        "\n",
        "print(\"Enter Number:\")\n",
        "num = int(input())       # input() 키보드에서 입력한 값을 문자열로 인식하므로 int로 형변환\n",
        "\n",
        "for val in numbers:\n",
        "  if(val > num) :        # val % num == 0 입력한 값으로 나누어지는 수만 합산하기 등등 조건식만 바꾸면 적용 가능\n",
        "    sum = sum+val\n",
        "\n",
        "print(\"The sum is\", sum)"
      ],
      "metadata": {
        "colab": {
          "base_uri": "https://localhost:8080/"
        },
        "id": "XS-tSO7h8PMv",
        "outputId": "15893bb4-3897-413e-d9d1-161c6a2c8fc6"
      },
      "execution_count": 14,
      "outputs": [
        {
          "output_type": "stream",
          "name": "stdout",
          "text": [
            "Enter Number:\n",
            "4\n",
            "The sum is 35\n"
          ]
        }
      ]
    },
    {
      "cell_type": "markdown",
      "source": [
        "forloop + range()\n",
        "--\n",
        "range(start, stop, step_size)"
      ],
      "metadata": {
        "id": "QveBOQPGDEFS"
      }
    },
    {
      "cell_type": "code",
      "source": [
        "print(range(10))\n",
        "print(list(range(10)))\n",
        "print(list(range(2,8)))\n",
        "print(list(range(2,20,3)))\n",
        "\n",
        "genre = ['pop', 'rock', 'jazz']\n",
        "for i in range(len(genre)) :\n",
        "  print(\"I like\", genre[i])"
      ],
      "metadata": {
        "colab": {
          "base_uri": "https://localhost:8080/"
        },
        "id": "WcRJuVcyMVbl",
        "outputId": "ab6fede1-3b22-42c2-aa51-7b76c8d8229d"
      },
      "execution_count": 41,
      "outputs": [
        {
          "output_type": "stream",
          "name": "stdout",
          "text": [
            "range(0, 10)\n",
            "[0, 1, 2, 3, 4, 5, 6, 7, 8, 9]\n",
            "[2, 3, 4, 5, 6, 7]\n",
            "[2, 5, 8, 11, 14, 17]\n",
            "I like pop\n",
            "I like rock\n",
            "I like jazz\n"
          ]
        }
      ]
    },
    {
      "cell_type": "markdown",
      "source": [
        "0~100까지 수 중 3의 배수만 출력하기"
      ],
      "metadata": {
        "id": "tRrd0c9xDjIx"
      }
    },
    {
      "cell_type": "code",
      "source": [
        "print(list(range(3, 100, 3)))"
      ],
      "metadata": {
        "colab": {
          "base_uri": "https://localhost:8080/"
        },
        "id": "1v0Kdv-DCuVZ",
        "outputId": "57098f83-0e47-40f5-bf10-4a0e5eab1054"
      },
      "execution_count": 15,
      "outputs": [
        {
          "output_type": "stream",
          "name": "stdout",
          "text": [
            "[3, 6, 9, 12, 15, 18, 21, 24, 27, 30, 33, 36, 39, 42, 45, 48, 51, 54, 57, 60, 63, 66, 69, 72, 75, 78, 81, 84, 87, 90, 93, 96, 99]\n"
          ]
        }
      ]
    },
    {
      "cell_type": "markdown",
      "source": [
        "시작 값과 범위를 받아 tuple 출력하기"
      ],
      "metadata": {
        "id": "eTMZvmzOEbxJ"
      }
    },
    {
      "cell_type": "code",
      "source": [
        "print(\"시작 값을 입력해주세요: \")\n",
        "m = int(input())\n",
        "print(\"마지막 값을 입력해주세요: \")\n",
        "n = int(input())\n",
        "\n",
        "print(tuple(range(m, n)))"
      ],
      "metadata": {
        "colab": {
          "base_uri": "https://localhost:8080/"
        },
        "id": "FvTgI_C4DnYJ",
        "outputId": "11de0e30-d592-4ac5-d055-e603989bf5fc"
      },
      "execution_count": 17,
      "outputs": [
        {
          "output_type": "stream",
          "name": "stdout",
          "text": [
            "시작 값을 입력해주세요: \n",
            "1\n",
            "마지막 값을 입력해주세요: \n",
            "60\n",
            "(1, 2, 3, 4, 5, 6, 7, 8, 9, 10, 11, 12, 13, 14, 15, 16, 17, 18, 19, 20, 21, 22, 23, 24, 25, 26, 27, 28, 29, 30, 31, 32, 33, 34, 35, 36, 37, 38, 39, 40, 41, 42, 43, 44, 45, 46, 47, 48, 49, 50, 51, 52, 53, 54, 55, 56, 57, 58, 59)\n"
          ]
        }
      ]
    },
    {
      "cell_type": "markdown",
      "source": [
        "2~9까지 숫자를 받아 구구단(배수) 출력하기"
      ],
      "metadata": {
        "id": "7TWMQW3TEk5Z"
      }
    },
    {
      "cell_type": "code",
      "source": [
        "print(\"숫자를 입력해주세요\")\n",
        "m = int(input())\n",
        "print(list(range(m, m*9+1, m)))"
      ],
      "metadata": {
        "colab": {
          "base_uri": "https://localhost:8080/"
        },
        "id": "GYO5F-RWEjzg",
        "outputId": "eafd1a0c-4e49-4d84-9bdd-92db0d7970c3"
      },
      "execution_count": 25,
      "outputs": [
        {
          "output_type": "stream",
          "name": "stdout",
          "text": [
            "숫자를 입력해주세요\n",
            "9\n",
            "[9, 18, 27, 36, 45, 54, 63, 72, 81]\n"
          ]
        }
      ]
    },
    {
      "cell_type": "markdown",
      "source": [
        "주어진 list의 짝수번째 번호만 합하기"
      ],
      "metadata": {
        "id": "8WbSI80JGmYa"
      }
    },
    {
      "cell_type": "code",
      "source": [
        "numbers = [6, 5, 3, 8, 4, 2, 5, 4, 11]\n",
        "sum = 0\n",
        "\n",
        "for i in range(int(len(numbers)/2)) :\n",
        "  sum = sum+numbers[i*2+1]\n",
        "  print(numbers[i*2+1])\n",
        "\n",
        "# 전체 길이 : len(numbers) 이걸 2로 나눈다. len(numbers)/2\n",
        "# 2로 나눈 수이기 때문에 실수일 수도 있으므로 int로 형변환 int(len(numbers)/2)\n",
        "# 이걸 range 범위로 넣어주면 전체 길이 수/2만큼 반복함\n",
        "# 즉, numbers[i]에서 i 는 0~3이 된다\n",
        "# numbers[i*2]를 하면 numbers[0],numbers[2], numbers[4], numbers[6]을 순차적으로 출력 (인덱스 상으로는 짝수지만 홀수 번째 출력)\n",
        "# so, numbers[i*2+1]을 한다.\n",
        "\n",
        "print(sum)"
      ],
      "metadata": {
        "colab": {
          "base_uri": "https://localhost:8080/"
        },
        "id": "MLOqDwheGmKa",
        "outputId": "4291a9d7-be2c-47fe-87ee-3d8baf891b12"
      },
      "execution_count": 38,
      "outputs": [
        {
          "output_type": "stream",
          "name": "stdout",
          "text": [
            "5\n",
            "8\n",
            "2\n",
            "4\n",
            "19\n"
          ]
        }
      ]
    },
    {
      "cell_type": "code",
      "source": [
        "numbers = [6, 5, 3, 8, 4, 2, 5, 4, 11]\n",
        "sum = 0\n",
        "\n",
        "for i in range(0, len(numbers), 2) :\n",
        "  print(numbers[i])\n",
        "\n",
        "# 홀수/짝수는 시작 숫자만 1로 바꿔주면 된다. 또는 numbers[i+1]"
      ],
      "metadata": {
        "colab": {
          "base_uri": "https://localhost:8080/"
        },
        "id": "JrybuaFJK-Wk",
        "outputId": "9ef02159-80bb-4797-bcd4-c2fa1552b787"
      },
      "execution_count": 40,
      "outputs": [
        {
          "output_type": "stream",
          "name": "stdout",
          "text": [
            "6\n",
            "3\n",
            "4\n",
            "5\n",
            "11\n"
          ]
        }
      ]
    }
  ]
}