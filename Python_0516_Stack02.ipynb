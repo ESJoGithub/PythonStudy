{
  "nbformat": 4,
  "nbformat_minor": 0,
  "metadata": {
    "colab": {
      "name": "Python_0516_Stack02.ipynb",
      "provenance": [],
      "collapsed_sections": [],
      "authorship_tag": "ABX9TyN3EqwS90HlG/EQm8jLoaii",
      "include_colab_link": true
    },
    "kernelspec": {
      "name": "python3",
      "display_name": "Python 3"
    },
    "language_info": {
      "name": "python"
    }
  },
  "cells": [
    {
      "cell_type": "markdown",
      "metadata": {
        "id": "view-in-github",
        "colab_type": "text"
      },
      "source": [
        "<a href=\"https://colab.research.google.com/github/ESJoGithub/PythonStudy/blob/main/Python_0516_Stack02.ipynb\" target=\"_parent\"><img src=\"https://colab.research.google.com/assets/colab-badge.svg\" alt=\"Open In Colab\"/></a>"
      ]
    },
    {
      "cell_type": "markdown",
      "source": [
        "## 괄호 검사 코드 만들기\n",
        "자료구조 Stack을 응용하여 괄호 검사 코드 만들기"
      ],
      "metadata": {
        "id": "axyP8363VY5x"
      }
    },
    {
      "cell_type": "code",
      "source": [
        "class Chk_code:\n",
        "  def __init__(self):\n",
        "    self.stacklist = []\n",
        "\n",
        "  def isEmpty(self):\n",
        "    if len(self.stacklist)==0:\n",
        "      return True\n",
        "    else:\n",
        "      return False\n",
        "\n",
        "  def push(self, e):\n",
        "    self.stacklist.append(e)\n",
        "\n",
        "  def pop(self):\n",
        "    if len(self.stacklist) != 0:\n",
        "      e = self.stacklist[-1]\n",
        "      self.stacklist.pop(-1)\n",
        "      return e\n",
        "  \n",
        "  def peek(self):\n",
        "    if len(self.stacklist) != 0:\n",
        "      e = self.stacklist[-1]\n",
        "      return e\n",
        "  \n",
        "  def size(self):\n",
        "    count = len(self.stacklist)\n",
        "    print(\"스택의 항목 수는 총 {}개 입니다.\".format(count))\n",
        "    return count\n",
        "    \n",
        "  def clear(self):\n",
        "    self.stacklist=[]\n",
        "\n",
        "  def check(self, str_code):\n",
        "    error = 0\n",
        "    for i in str_code:\n",
        "      if i in '(, {, [':\n",
        "        self.push(i)\n",
        "      elif i in '), }, ]':\n",
        "        j = self.peek()\n",
        "        if (j == '(' and i == ')') or (j == '{' and i == '}') or (j == '[' and i == ']'):\n",
        "          self.pop()\n",
        "        elif self.isEmpty() == False:\n",
        "          print(\"{0}번째 글자에 '{1}'에 대응하는 괄호가 잘못 입력되었습니다.\".format(str_code.index(i)+1, j))\n",
        "          error += 1\n",
        "        else :\n",
        "          print(\"{0}번째 글자에 괄호가 잘못 입력되었습니다.\".format(str_code.index(i)+1))\n",
        "          error += 1\n",
        "    \n",
        "    if self.isEmpty() == True and error == 0:\n",
        "      print(\"코드가 정상적으로 입력되었습니다.\")\n",
        "    elif error == 0:\n",
        "      print(\"괄호가 닫히지 않았습니다.\")\n",
        "    \n",
        "    self.clear()"
      ],
      "metadata": {
        "id": "CEA6wR2YVW_6"
      },
      "execution_count": null,
      "outputs": []
    },
    {
      "cell_type": "code",
      "source": [
        "test = Chk_code()\n",
        "codeline1 = \"{A[i+1])=0}\"\n",
        "codeline2 = \"if((i==0)&&(j==0)\"\n",
        "codeline3 = \"While(it<10)){it-=1}\"\n",
        "codeline4 = \"A[(i+1]) = 0\""
      ],
      "metadata": {
        "id": "O8jeJPrbYMqg"
      },
      "execution_count": null,
      "outputs": []
    },
    {
      "cell_type": "code",
      "source": [
        "test.check(codeline1)"
      ],
      "metadata": {
        "colab": {
          "base_uri": "https://localhost:8080/"
        },
        "id": "IlhWlpEoZkvh",
        "outputId": "8bf5cd2a-d1ea-4b10-9d48-9e6ff2bfd52d"
      },
      "execution_count": null,
      "outputs": [
        {
          "output_type": "stream",
          "name": "stdout",
          "text": [
            "8번째 글자에 '{'에 대응하는 괄호가 잘못 입력되었습니다.\n"
          ]
        }
      ]
    },
    {
      "cell_type": "code",
      "source": [
        "test.check(codeline2)"
      ],
      "metadata": {
        "colab": {
          "base_uri": "https://localhost:8080/"
        },
        "id": "yCNYvYvIe4H_",
        "outputId": "6ffd3a9f-53bc-4e6c-a89f-b8367fc4dada"
      },
      "execution_count": null,
      "outputs": [
        {
          "output_type": "stream",
          "name": "stdout",
          "text": [
            "괄호가 닫히지 않았습니다.\n"
          ]
        }
      ]
    },
    {
      "cell_type": "code",
      "source": [
        "test.check(codeline3)"
      ],
      "metadata": {
        "colab": {
          "base_uri": "https://localhost:8080/"
        },
        "id": "FMPkZ9nib6vf",
        "outputId": "5d180ddf-2eec-464b-dcad-4068a091d602"
      },
      "execution_count": null,
      "outputs": [
        {
          "output_type": "stream",
          "name": "stdout",
          "text": [
            "12번째 글자에 괄호가 잘못 입력되었습니다.\n"
          ]
        }
      ]
    },
    {
      "cell_type": "code",
      "source": [
        "test.check(codeline4)"
      ],
      "metadata": {
        "colab": {
          "base_uri": "https://localhost:8080/"
        },
        "id": "aGMC5Lqde6_H",
        "outputId": "7717e894-8586-4958-df18-3fe90a589a23"
      },
      "execution_count": null,
      "outputs": [
        {
          "output_type": "stream",
          "name": "stdout",
          "text": [
            "7번째 글자에 '('에 대응하는 괄호가 잘못 입력되었습니다.\n"
          ]
        }
      ]
    },
    {
      "cell_type": "code",
      "source": [
        "codeline = \"{A[i+1])=0}if((i==0)&&(j==0)While(it<10)){it-=1}\""
      ],
      "metadata": {
        "id": "LwqtFtMtcR0Q"
      },
      "execution_count": null,
      "outputs": []
    },
    {
      "cell_type": "code",
      "source": [
        "test.check(codeline)"
      ],
      "metadata": {
        "colab": {
          "base_uri": "https://localhost:8080/"
        },
        "id": "Ie6LohY9cZGf",
        "outputId": "804fb2dc-0c2d-4e63-aba0-8139feda85fa"
      },
      "execution_count": null,
      "outputs": [
        {
          "output_type": "stream",
          "name": "stdout",
          "text": [
            "8번째 글자에 '{'에 대응하는 괄호가 잘못 입력되었습니다.\n"
          ]
        }
      ]
    }
  ]
}