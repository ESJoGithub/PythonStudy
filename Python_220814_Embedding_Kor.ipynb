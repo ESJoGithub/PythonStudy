{
 "cells": [
  {
   "cell_type": "markdown",
   "id": "7aca2805",
   "metadata": {},
   "source": [
    "# 한국어 Embedding \n",
    "---\n",
    "Word2Vec을 활용한 네이버 영화 리뷰 데이터 한국어 Embedding"
   ]
  },
  {
   "cell_type": "markdown",
   "id": "a6239150",
   "metadata": {},
   "source": [
    "### 데이터 불러오기 및 정규화"
   ]
  },
  {
   "cell_type": "code",
   "execution_count": 1,
   "id": "02a39882",
   "metadata": {},
   "outputs": [],
   "source": [
    "import pandas as pd\n",
    "import matplotlib.pyplot as plt\n",
    "import urllib.request\n",
    "from gensim.models.word2vec import Word2Vec\n",
    "from konlpy.tag import Okt"
   ]
  },
  {
   "cell_type": "code",
   "execution_count": 2,
   "id": "b3159826",
   "metadata": {},
   "outputs": [
    {
     "data": {
      "text/plain": [
       "('ratings.txt', <http.client.HTTPMessage at 0x1c21651f9a0>)"
      ]
     },
     "execution_count": 2,
     "metadata": {},
     "output_type": "execute_result"
    }
   ],
   "source": [
    "urllib.request.urlretrieve(\"https://raw.githubusercontent.com/e9t/nsmc/master/ratings.txt\", filename=\"ratings.txt\")"
   ]
  },
  {
   "cell_type": "code",
   "execution_count": 3,
   "id": "b1578f87",
   "metadata": {},
   "outputs": [
    {
     "data": {
      "text/html": [
       "<div>\n",
       "<style scoped>\n",
       "    .dataframe tbody tr th:only-of-type {\n",
       "        vertical-align: middle;\n",
       "    }\n",
       "\n",
       "    .dataframe tbody tr th {\n",
       "        vertical-align: top;\n",
       "    }\n",
       "\n",
       "    .dataframe thead th {\n",
       "        text-align: right;\n",
       "    }\n",
       "</style>\n",
       "<table border=\"1\" class=\"dataframe\">\n",
       "  <thead>\n",
       "    <tr style=\"text-align: right;\">\n",
       "      <th></th>\n",
       "      <th>id</th>\n",
       "      <th>document</th>\n",
       "      <th>label</th>\n",
       "    </tr>\n",
       "  </thead>\n",
       "  <tbody>\n",
       "    <tr>\n",
       "      <th>0</th>\n",
       "      <td>8112052</td>\n",
       "      <td>어릴때보고 지금다시봐도 재밌어요ㅋㅋ</td>\n",
       "      <td>1</td>\n",
       "    </tr>\n",
       "    <tr>\n",
       "      <th>1</th>\n",
       "      <td>8132799</td>\n",
       "      <td>디자인을 배우는 학생으로, 외국디자이너와 그들이 일군 전통을 통해 발전해가는 문화산...</td>\n",
       "      <td>1</td>\n",
       "    </tr>\n",
       "    <tr>\n",
       "      <th>2</th>\n",
       "      <td>4655635</td>\n",
       "      <td>폴리스스토리 시리즈는 1부터 뉴까지 버릴께 하나도 없음.. 최고.</td>\n",
       "      <td>1</td>\n",
       "    </tr>\n",
       "    <tr>\n",
       "      <th>3</th>\n",
       "      <td>9251303</td>\n",
       "      <td>와.. 연기가 진짜 개쩔구나.. 지루할거라고 생각했는데 몰입해서 봤다.. 그래 이런...</td>\n",
       "      <td>1</td>\n",
       "    </tr>\n",
       "    <tr>\n",
       "      <th>4</th>\n",
       "      <td>10067386</td>\n",
       "      <td>안개 자욱한 밤하늘에 떠 있는 초승달 같은 영화.</td>\n",
       "      <td>1</td>\n",
       "    </tr>\n",
       "  </tbody>\n",
       "</table>\n",
       "</div>"
      ],
      "text/plain": [
       "         id                                           document  label\n",
       "0   8112052                                어릴때보고 지금다시봐도 재밌어요ㅋㅋ      1\n",
       "1   8132799  디자인을 배우는 학생으로, 외국디자이너와 그들이 일군 전통을 통해 발전해가는 문화산...      1\n",
       "2   4655635               폴리스스토리 시리즈는 1부터 뉴까지 버릴께 하나도 없음.. 최고.      1\n",
       "3   9251303  와.. 연기가 진짜 개쩔구나.. 지루할거라고 생각했는데 몰입해서 봤다.. 그래 이런...      1\n",
       "4  10067386                        안개 자욱한 밤하늘에 떠 있는 초승달 같은 영화.      1"
      ]
     },
     "execution_count": 3,
     "metadata": {},
     "output_type": "execute_result"
    }
   ],
   "source": [
    "train_data = pd.read_table('ratings.txt')\n",
    "train_data[:5]"
   ]
  },
  {
   "cell_type": "code",
   "execution_count": 4,
   "id": "4c28ac31",
   "metadata": {},
   "outputs": [
    {
     "name": "stdout",
     "output_type": "stream",
     "text": [
      "200000\n"
     ]
    }
   ],
   "source": [
    "print(len(train_data)) # 리뷰 개수 출력"
   ]
  },
  {
   "cell_type": "markdown",
   "id": "4bd5ec70",
   "metadata": {},
   "source": [
    "#### 결측값(null값) 확인 및 제거"
   ]
  },
  {
   "cell_type": "code",
   "execution_count": 5,
   "id": "d84f4046",
   "metadata": {},
   "outputs": [
    {
     "name": "stdout",
     "output_type": "stream",
     "text": [
      "True\n"
     ]
    }
   ],
   "source": [
    "print(train_data.isnull().values.any())"
   ]
  },
  {
   "cell_type": "code",
   "execution_count": 6,
   "id": "540c3e89",
   "metadata": {},
   "outputs": [
    {
     "name": "stdout",
     "output_type": "stream",
     "text": [
      "False\n"
     ]
    }
   ],
   "source": [
    "train_data = train_data.dropna(how = 'any') # Null 값이 존재하는 행 제거\n",
    "print(train_data.isnull().values.any())     # Null 값이 존재하는지 확인"
   ]
  },
  {
   "cell_type": "code",
   "execution_count": 7,
   "id": "c2fda4fa",
   "metadata": {
    "scrolled": true
   },
   "outputs": [
    {
     "name": "stdout",
     "output_type": "stream",
     "text": [
      "199992\n"
     ]
    }
   ],
   "source": [
    "print(len(train_data)) # 리뷰 개수 재확인"
   ]
  },
  {
   "cell_type": "markdown",
   "id": "91b37709",
   "metadata": {},
   "source": [
    "#### 한글 외 문자열 제거"
   ]
  },
  {
   "cell_type": "code",
   "execution_count": 8,
   "id": "760b4d35",
   "metadata": {
    "scrolled": true
   },
   "outputs": [
    {
     "name": "stderr",
     "output_type": "stream",
     "text": [
      "C:\\Users\\User\\AppData\\Local\\Temp\\ipykernel_18016\\3447951904.py:1: FutureWarning: The default value of regex will change from True to False in a future version.\n",
      "  train_data['document'] = train_data['document'].str.replace('[^ㄱ-하-ㅣ가-힣]', '')\n"
     ]
    },
    {
     "data": {
      "text/html": [
       "<div>\n",
       "<style scoped>\n",
       "    .dataframe tbody tr th:only-of-type {\n",
       "        vertical-align: middle;\n",
       "    }\n",
       "\n",
       "    .dataframe tbody tr th {\n",
       "        vertical-align: top;\n",
       "    }\n",
       "\n",
       "    .dataframe thead th {\n",
       "        text-align: right;\n",
       "    }\n",
       "</style>\n",
       "<table border=\"1\" class=\"dataframe\">\n",
       "  <thead>\n",
       "    <tr style=\"text-align: right;\">\n",
       "      <th></th>\n",
       "      <th>id</th>\n",
       "      <th>document</th>\n",
       "      <th>label</th>\n",
       "    </tr>\n",
       "  </thead>\n",
       "  <tbody>\n",
       "    <tr>\n",
       "      <th>0</th>\n",
       "      <td>8112052</td>\n",
       "      <td>어릴때보고지금다시봐도재밌어요ㅋㅋ</td>\n",
       "      <td>1</td>\n",
       "    </tr>\n",
       "    <tr>\n",
       "      <th>1</th>\n",
       "      <td>8132799</td>\n",
       "      <td>디자인을배우는학생으로외국디자이너와그들이일군전통을통해발전해가는문화산업이부러웠는데사실우...</td>\n",
       "      <td>1</td>\n",
       "    </tr>\n",
       "    <tr>\n",
       "      <th>2</th>\n",
       "      <td>4655635</td>\n",
       "      <td>폴리스스토리시리즈는부터뉴까지버릴께하나도없음최고</td>\n",
       "      <td>1</td>\n",
       "    </tr>\n",
       "    <tr>\n",
       "      <th>3</th>\n",
       "      <td>9251303</td>\n",
       "      <td>와연기가진짜개쩔구나지루할거라고생각했는데몰입해서봤다그래이런게진짜영화지</td>\n",
       "      <td>1</td>\n",
       "    </tr>\n",
       "    <tr>\n",
       "      <th>4</th>\n",
       "      <td>10067386</td>\n",
       "      <td>안개자욱한밤하늘에떠있는초승달같은영화</td>\n",
       "      <td>1</td>\n",
       "    </tr>\n",
       "  </tbody>\n",
       "</table>\n",
       "</div>"
      ],
      "text/plain": [
       "         id                                           document  label\n",
       "0   8112052                                  어릴때보고지금다시봐도재밌어요ㅋㅋ      1\n",
       "1   8132799  디자인을배우는학생으로외국디자이너와그들이일군전통을통해발전해가는문화산업이부러웠는데사실우...      1\n",
       "2   4655635                          폴리스스토리시리즈는부터뉴까지버릴께하나도없음최고      1\n",
       "3   9251303              와연기가진짜개쩔구나지루할거라고생각했는데몰입해서봤다그래이런게진짜영화지      1\n",
       "4  10067386                                안개자욱한밤하늘에떠있는초승달같은영화      1"
      ]
     },
     "execution_count": 8,
     "metadata": {},
     "output_type": "execute_result"
    }
   ],
   "source": [
    "train_data['document'] = train_data['document'].str.replace('[^ㄱ-하-ㅣ가-힣]', '')\n",
    "train_data[:5]"
   ]
  },
  {
   "cell_type": "code",
   "execution_count": 9,
   "id": "0c64a6a7",
   "metadata": {},
   "outputs": [],
   "source": [
    "# 학습 제외 불용어 정의\n",
    "stopwords = ['의','가','이','은','들','는','좀','잘','걍','과','도','를','으로','자','에','와','한','하다']"
   ]
  },
  {
   "cell_type": "markdown",
   "id": "4e4e4750",
   "metadata": {},
   "source": [
    "### 형태소 분석"
   ]
  },
  {
   "cell_type": "code",
   "execution_count": 10,
   "id": "13d7fa27",
   "metadata": {},
   "outputs": [],
   "source": [
    "# 진행 상황 확인을 위한 라이브러리 import\n",
    "from tqdm import tqdm"
   ]
  },
  {
   "cell_type": "code",
   "execution_count": 12,
   "id": "8787968e",
   "metadata": {},
   "outputs": [
    {
     "name": "stderr",
     "output_type": "stream",
     "text": [
      "100%|████████████████████████████████████████████████████████████████████████| 199992/199992 [1:12:10<00:00, 46.18it/s]\n"
     ]
    }
   ],
   "source": [
    "okt = Okt()\n",
    "tokenized_data = []\n",
    "\n",
    "for sentence in tqdm(train_data['document']):\n",
    "    tokenized_sentence = okt.morphs(sentence, stem = True)\n",
    "    stopwords_removed_sentence = [word for word in tokenized_sentence if not word in stopwords]\n",
    "    tokenized_data.append(stopwords_removed_sentence)"
   ]
  },
  {
   "cell_type": "code",
   "execution_count": 15,
   "id": "0f9e1c8a",
   "metadata": {},
   "outputs": [
    {
     "name": "stdout",
     "output_type": "stream",
     "text": [
      "리뷰의 최대 길이:  68\n",
      "리뷰의 평균 길이:  10.685057402296092\n"
     ]
    },
    {
     "data": {
      "image/png": "[encoded data removed]",
      "text/plain": [
       "<Figure size 432x288 with 1 Axes>"
      ]
     },
     "metadata": {
      "needs_background": "light"
     },
     "output_type": "display_data"
    }
   ],
   "source": [
    "# 토큰화 분포 확인\n",
    "\n",
    "print(\"리뷰의 최대 길이: \", max(len(l) for l in tokenized_data))\n",
    "print(\"리뷰의 평균 길이: \", sum(map(len, tokenized_data))/len(tokenized_data))\n",
    "plt.hist([len(s) for s in tokenized_data], bins=50)\n",
    "plt.xlabel(\"length of samples\")\n",
    "plt.ylabel(\"number of samples\")  \n",
    "plt.show()"
   ]
  },
  {
   "cell_type": "markdown",
   "id": "0a783dfe",
   "metadata": {},
   "source": [
    "### Word2Vec 활용 네이버 영화 리뷰 데이터 학습"
   ]
  },
  {
   "cell_type": "code",
   "execution_count": 16,
   "id": "1445bb84",
   "metadata": {},
   "outputs": [],
   "source": [
    "from gensim.models.word2vec import Word2Vec"
   ]
  },
  {
   "cell_type": "code",
   "execution_count": 20,
   "id": "8d27b57a",
   "metadata": {},
   "outputs": [],
   "source": [
    "model = Word2Vec(sentences=tokenized_data,             \n",
    "                 sg=0,               # 0: CBOW, 1: skip-gram\n",
    "                 vector_size=100,    # 벡터 크기\n",
    "                 window=5,           # 고려할 앞뒤 폭\n",
    "                 min_count=5,        # 사용할 단어의 최소 빈도(5회 이하 단어 무시)\n",
    "                 workers=4           # 동시에 처리할 작업 수(코어 수와 비슷하게 설정)\n",
    "                )"
   ]
  },
  {
   "cell_type": "code",
   "execution_count": 21,
   "id": "ce022447",
   "metadata": {},
   "outputs": [
    {
     "data": {
      "text/plain": [
       "(17961, 100)"
      ]
     },
     "execution_count": 21,
     "metadata": {},
     "output_type": "execute_result"
    }
   ],
   "source": [
    "model.wv.vectors.shape"
   ]
  },
  {
   "cell_type": "markdown",
   "id": "0603e128",
   "metadata": {},
   "source": [
    "#### wv 메소드로 유사어 확인"
   ]
  },
  {
   "cell_type": "code",
   "execution_count": 22,
   "id": "6dc3aed8",
   "metadata": {
    "scrolled": true
   },
   "outputs": [
    {
     "data": {
      "text/plain": [
       "[('정재영', 0.8597306609153748),\n",
       " ('김명민', 0.8548922538757324),\n",
       " ('한석규', 0.8531215786933899),\n",
       " ('안성기', 0.8425782322883606),\n",
       " ('엄태웅', 0.8421011567115784),\n",
       " ('이정재', 0.8409314751625061),\n",
       " ('엄정화', 0.8361085057258606),\n",
       " ('설경구', 0.8340092301368713),\n",
       " ('윤제문', 0.8336495161056519),\n",
       " ('신들리다', 0.8330317735671997)]"
      ]
     },
     "execution_count": 22,
     "metadata": {},
     "output_type": "execute_result"
    }
   ],
   "source": [
    "model.wv.most_similar(\"최민식\")"
   ]
  },
  {
   "cell_type": "code",
   "execution_count": 23,
   "id": "7dc940a1",
   "metadata": {},
   "outputs": [
    {
     "data": {
      "text/plain": [
       "[('느와르', 0.8785941004753113),\n",
       " ('호러', 0.8738062381744385),\n",
       " ('무협', 0.8712169528007507),\n",
       " ('블록버스터', 0.8551961779594421),\n",
       " ('슬래셔', 0.8407227396965027),\n",
       " ('무비', 0.8332386016845703),\n",
       " ('헐리우드', 0.8312457799911499),\n",
       " ('물', 0.8184596300125122),\n",
       " ('멜로', 0.8146000504493713),\n",
       " ('홍콩', 0.8100864887237549)]"
      ]
     },
     "execution_count": 23,
     "metadata": {},
     "output_type": "execute_result"
    }
   ],
   "source": [
    "model.wv.most_similar(\"히어로\")"
   ]
  },
  {
   "cell_type": "code",
   "execution_count": 24,
   "id": "bc9b3994",
   "metadata": {
    "scrolled": false
   },
   "outputs": [
    {
     "data": {
      "text/plain": [
       "[('왕자', 0.7852778434753418),\n",
       " ('변호사', 0.781938910484314),\n",
       " ('선수', 0.7732151746749878),\n",
       " ('박사', 0.7663156390190125),\n",
       " ('동갑', 0.7657095789909363),\n",
       " ('유리', 0.7430212497711182),\n",
       " ('아가씨', 0.7393375635147095),\n",
       " ('미녀', 0.7377999424934387),\n",
       " ('도자기', 0.7377309799194336),\n",
       " ('선배', 0.7356462478637695)]"
      ]
     },
     "execution_count": 24,
     "metadata": {},
     "output_type": "execute_result"
    }
   ],
   "source": [
    "model.wv.most_similar(positive=['남자', '공주'], negative=['여자'])"
   ]
  },
  {
   "cell_type": "markdown",
   "id": "5a896d37",
   "metadata": {},
   "source": [
    "### 사전 학습 Word2Vec 가져오기\n",
    "---\n",
    "한글 사전 학습 word2Vec\n",
    "\n",
    "Korean (w) 경로: https://drive.google.com/file/d/0B0ZXk88koS2KbDhXdWg1Q2RydlU/view\n",
    "\n",
    "ko.zip을 다운받아 압축을 풀면 50MB 가량의 ko.bin 파일이 생긴다. 이 파일은 .load로 불러들일 수 있다.\n",
    "\n",
    "import numpy\n",
    "kovec = Word2Vec.load('ko.bin 파일 경로')\n",
    "\n",
    "kovec.wv.most_similar(positive=['일본', '서울'], negative=['한국'])"
   ]
  }
 ],
 "metadata": {
  "kernelspec": {
   "display_name": "Python 3 (ipykernel)",
   "language": "python",
   "name": "python3"
  },
  "language_info": {
   "codemirror_mode": {
    "name": "ipython",
    "version": 3
   },
   "file_extension": ".py",
   "mimetype": "text/x-python",
   "name": "python",
   "nbconvert_exporter": "python",
   "pygments_lexer": "ipython3",
   "version": "3.9.12"
  }
 },
 "nbformat": 4,
 "nbformat_minor": 5
}
