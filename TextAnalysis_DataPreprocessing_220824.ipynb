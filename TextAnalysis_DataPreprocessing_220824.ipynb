{
 "cells": [
  {
   "cell_type": "markdown",
   "id": "24a27818",
   "metadata": {
    "id": "24a27818"
   },
   "source": [
    "# 0. 데이터 전처리\n",
    "---\n",
    "1차 목표: pdf로 작성된 자기소개서 파일 텍스트화하여 excel 파일로 저장 (220824 완료)\n",
    "\n",
    "-> 보완사항 총 73개 항목 중 52개 데이터만 처리됨.(파일 호환 문제로 판단)\n",
    "\n",
    "-> docx 파일 추가 예정\n",
    "\n",
    "2차 목표: 자기소개서 질문 내용 데이터에서 배제 필요, 정규화 필요\n",
    "\n",
    "--- 8월 28일 update ---\n",
    "\n",
    "pdf 파일 호환성 문제로 word 파일로 변환(응용프로그램 활용)\n",
    "\n",
    "-> word로 작성된 자기소개서 파일 텍스트화(220828 완료)\n",
    "\n",
    "-> 학교별 양식 차이로 완벽한 정리에 시간이 걸리므로 우선 수동으로 데이터 정리 완료\n",
    "\n",
    "-> 시간이 된다면 학교별로 분류하여 각 학교 양식 변환 방식을 반영해서 수정해볼 것\n",
    "\n",
    "-> 자기소개서 질문 내용 데이터에서 삭제 완료\n",
    "\n",
    "3차 목표: 학교 유형별 label 추가"
   ]
  },
  {
   "cell_type": "code",
   "execution_count": 1,
   "id": "a6e9fecc",
   "metadata": {
    "id": "a6e9fecc"
   },
   "outputs": [],
   "source": [
    "import glob                  # 해당 디렉토리의 파일들을 탐색하기 위한 모듈\n",
    "from io import StringIO      # StringIO는 파일을 흉내내는 객체로, 문자열 데이터를 임시로 처리할 때 활용\n",
    "from pdfminer.converter import TextConverter\n",
    "from pdfminer.layout import LAParams\n",
    "from pdfminer.pdfdocument import PDFDocument\n",
    "from pdfminer.pdfinterp import PDFResourceManager, PDFPageInterpreter\n",
    "from pdfminer.pdfpage import PDFPage\n",
    "from pdfminer.pdfparser import PDFParser\n",
    "\n",
    "import re\n",
    "import pandas as pd\n",
    "import numpy as np"
   ]
  },
  {
   "cell_type": "code",
   "execution_count": 2,
   "id": "53db0df7",
   "metadata": {
    "id": "53db0df7"
   },
   "outputs": [],
   "source": [
    "def read_pdf(file_path, convertStartNo = 1):\n",
    "    '''파일 경로와 변환 시작 페이지를 매개변수로 하여 해당 PDF 파일을 text로 반환. \n",
    "       file_path, converStartNo = 1이 기본값'''\n",
    "    output_String = StringIO()\n",
    "    with open(file_path, 'rb') as file: \n",
    "        # rb는 파일을 byte 형식으로 읽어옴\n",
    "        # 아래 코드들은 pdf를 byte 형식에서 다시 한글 문서로 변환하는 과정으로 추정 \n",
    "        parser = PDFParser(file)                                              # 데이터를 분석하여 토큰 단위로 생성하는 듯\n",
    "        doc = PDFDocument(parser)                                             # 생성된 토큰들을 다시 문서 단위로 묶는 방식으로 추정\n",
    "        rsrcmgr = PDFResourceManager()                                        # pdf resource manager 객체 생성\n",
    "        device = TextConverter(rsrcmgr, output_String, laparams = LAParams()) # 위의 객체를 활용하여 text 형식으로 변환?\n",
    "        \n",
    "        # 변환한 내역을 페이지별로 구분하는 과정으로 추정 \n",
    "        interpreter = PDFPageInterpreter(rsrcmgr, device)                   \n",
    "        count = 0\n",
    "        for page in PDFPage.create_pages(doc):\n",
    "            count += 1\n",
    "            #(텍스트화를 희망하는 페이지가 아니면 skip하도록 변형)\n",
    "            if count < convertStartNo: \n",
    "                continue\n",
    "            else:\n",
    "                interpreter.process_page(page)\n",
    "        return output_String.getvalue()    "
   ]
  },
  {
   "cell_type": "markdown",
   "id": "2ad98de6",
   "metadata": {
    "id": "2ad98de6"
   },
   "source": [
    "#### 불필요한 공백 제거 후 문장별로 나누기(1차 정리) : \n",
    "---\n",
    "PDF to Text (저장 형식이 학교마다 다르고 글자가 깨짐)"
   ]
  },
  {
   "cell_type": "code",
   "execution_count": 3,
   "id": "b2d56a50",
   "metadata": {
    "id": "b2d56a50"
   },
   "outputs": [],
   "source": [
    "import re"
   ]
  },
  {
   "cell_type": "code",
   "execution_count": 4,
   "id": "0115d4d6",
   "metadata": {
    "id": "0115d4d6"
   },
   "outputs": [],
   "source": [
    "# 희망 디렉터리 안에 pdf 파일 경로 list 만들기\n",
    "list_filepath = glob.glob('./Data/*.pdf')\n",
    "count = 0\n",
    "\n",
    "df = pd.DataFrame(columns = [\"내용\"])\n",
    "# 파일 경로를 하나씩 불러와 read_pdf 함수 호출\n",
    "for filepath in list_filepath:\n",
    "\n",
    "    text = read_pdf(filepath, 2)     # 첫 페이지는 개인정보 페이지이므로 생략\n",
    "    textlist = text.split(\". \")\n",
    "    \n",
    "    text_S = str()\n",
    "    for t in textlist:\n",
    "        t = \" \".join(t.split())\n",
    "        t = re.sub(r\"[^가-힣A-Za-z0-9\\. ]\", \"\", t)\n",
    "        text_S = text_S + t + \". \"\n",
    "      \n",
    "    df.loc[count] = [text_S]    \n",
    "    count += 1"
   ]
  },
  {
   "cell_type": "code",
   "execution_count": 5,
   "id": "ab5e6913",
   "metadata": {
    "id": "ab5e6913"
   },
   "outputs": [],
   "source": [
    "df.to_excel(\"./df_sample01.xlsx\")"
   ]
  },
  {
   "cell_type": "code",
   "execution_count": 6,
   "id": "6451ea0b",
   "metadata": {
    "id": "6451ea0b",
    "outputId": "5fe9eb70-f473-42bd-a27c-6abe92f86331",
    "scrolled": false
   },
   "outputs": [
    {
     "data": {
      "text/html": [
       "<div>\n",
       "<style scoped>\n",
       "    .dataframe tbody tr th:only-of-type {\n",
       "        vertical-align: middle;\n",
       "    }\n",
       "\n",
       "    .dataframe tbody tr th {\n",
       "        vertical-align: top;\n",
       "    }\n",
       "\n",
       "    .dataframe thead th {\n",
       "        text-align: right;\n",
       "    }\n",
       "</style>\n",
       "<table border=\"1\" class=\"dataframe\">\n",
       "  <thead>\n",
       "    <tr style=\"text-align: right;\">\n",
       "      <th></th>\n",
       "      <th>내용</th>\n",
       "    </tr>\n",
       "  </thead>\n",
       "  <tbody>\n",
       "    <tr>\n",
       "      <th>0</th>\n",
       "      <td>나의 꿈과 끼 인성1500자 이내 띄어쓰기 제외 접수번호 JC1022 수험번호  ...</td>\n",
       "    </tr>\n",
       "    <tr>\n",
       "      <th>1</th>\n",
       "      <td>나의 꿈과 끼 인성1500자띄어쓰기 제외 이내  본인이 스스로 학습계획을 세우고 ...</td>\n",
       "    </tr>\n",
       "    <tr>\n",
       "      <th>2</th>\n",
       "      <td>.</td>\n",
       "    </tr>\n",
       "    <tr>\n",
       "      <th>3</th>\n",
       "      <td>나의 꿈과 끼 인성1500자 이내 수험번호 1396 나는 세계적인 친환경 건축가로...</td>\n",
       "    </tr>\n",
       "    <tr>\n",
       "      <th>4</th>\n",
       "      <td>.</td>\n",
       "    </tr>\n",
       "  </tbody>\n",
       "</table>\n",
       "</div>"
      ],
      "text/plain": [
       "                                                  내용\n",
       "0   나의 꿈과 끼 인성1500자 이내 띄어쓰기 제외 접수번호 JC1022 수험번호  ...\n",
       "1   나의 꿈과 끼 인성1500자띄어쓰기 제외 이내  본인이 스스로 학습계획을 세우고 ...\n",
       "2                                                 . \n",
       "3   나의 꿈과 끼 인성1500자 이내 수험번호 1396 나는 세계적인 친환경 건축가로...\n",
       "4                                                 . "
      ]
     },
     "execution_count": 6,
     "metadata": {},
     "output_type": "execute_result"
    }
   ],
   "source": [
    "df_r = pd.read_excel(\"./df_sample01.xlsx\", engine = \"openpyxl\", header=0, index_col=0)\n",
    "df_r.head()"
   ]
  },
  {
   "cell_type": "markdown",
   "id": "8b276336",
   "metadata": {
    "id": "8b276336"
   },
   "source": [
    "### 8월 28일자 word to excel"
   ]
  },
  {
   "cell_type": "code",
   "execution_count": 7,
   "id": "08a30280",
   "metadata": {
    "id": "08a30280"
   },
   "outputs": [],
   "source": [
    "from docx import Document"
   ]
  },
  {
   "cell_type": "code",
   "execution_count": 8,
   "id": "c5e5e758",
   "metadata": {
    "id": "c5e5e758"
   },
   "outputs": [],
   "source": [
    "def read_docx(file_path):\n",
    "    doc = Document(file_path)\n",
    "    text = str()\n",
    "    for i, paragraph in enumerate(doc.paragraphs):\n",
    "        text = text + paragraph.text\n",
    "    return text"
   ]
  },
  {
   "cell_type": "code",
   "execution_count": 9,
   "id": "a3e617c0",
   "metadata": {
    "id": "a3e617c0",
    "scrolled": false
   },
   "outputs": [],
   "source": [
    "file_path_word = glob.glob(\"./Data/*.docx\")\n",
    "count = 0\n",
    "scool=str()\n",
    "df_word = pd.DataFrame(columns=[\"내용\", \"학교\"])\n",
    "for file_path in file_path_word:\n",
    "    text = read_docx(file_path)\n",
    "    text = re.sub(r\"[^가-힣A-Za-z0-9\\. ]\", \"\", text)\n",
    "    i = text.rfind(\"학교장\")\n",
    "    scool = text[i-10 : i-1]\n",
    "    df_word.loc[count] = [text, scool]\n",
    "    count += 1"
   ]
  },
  {
   "cell_type": "code",
   "execution_count": 10,
   "id": "12076994",
   "metadata": {
    "id": "12076994"
   },
   "outputs": [],
   "source": [
    "df_word.to_excel(\"./df_sample02.xlsx\")"
   ]
  },
  {
   "cell_type": "markdown",
   "id": "7a666b8b",
   "metadata": {},
   "source": [
    "#### 학교별 양식 차이로 일단 수동으로 정리 마무리 : \n",
    "---\n",
    "향후 학교별 정리 알고리즘을 별도로 제작해볼 것"
   ]
  },
  {
   "cell_type": "code",
   "execution_count": 12,
   "id": "91278754",
   "metadata": {
    "id": "91278754",
    "outputId": "95813d4a-b0d0-47db-847e-b7d6da36aec4",
    "scrolled": true
   },
   "outputs": [
    {
     "data": {
      "text/html": [
       "<div>\n",
       "<style scoped>\n",
       "    .dataframe tbody tr th:only-of-type {\n",
       "        vertical-align: middle;\n",
       "    }\n",
       "\n",
       "    .dataframe tbody tr th {\n",
       "        vertical-align: top;\n",
       "    }\n",
       "\n",
       "    .dataframe thead th {\n",
       "        text-align: right;\n",
       "    }\n",
       "</style>\n",
       "<table border=\"1\" class=\"dataframe\">\n",
       "  <thead>\n",
       "    <tr style=\"text-align: right;\">\n",
       "      <th></th>\n",
       "      <th>내용</th>\n",
       "      <th>학교</th>\n",
       "    </tr>\n",
       "  </thead>\n",
       "  <tbody>\n",
       "    <tr>\n",
       "      <th>0</th>\n",
       "      <td>나는 공부를 할 때 반복을 중요시 하였다. 특히 수학 공부를 할 때에 오답이나 헷갈...</td>\n",
       "      <td>이화여자외국어고</td>\n",
       "    </tr>\n",
       "    <tr>\n",
       "      <th>1</th>\n",
       "      <td>1학년까지 문제집을 위주로 공부했지만 교과서의 세부 내용을 다룬 문제에 잘 대처하 ...</td>\n",
       "      <td>서울국제고</td>\n",
       "    </tr>\n",
       "    <tr>\n",
       "      <th>2</th>\n",
       "      <td>내 꿈은 영어 선생님이다 .  그래서 수업 시간에도 미래의  내가 어떻게 수업을 하...</td>\n",
       "      <td>김포외국어고</td>\n",
       "    </tr>\n",
       "    <tr>\n",
       "      <th>3</th>\n",
       "      <td>세계적인 건축가로서 성장하기 위해 많은 노력을 기울여 왔다. 먼저 1학년 때 3d프...</td>\n",
       "      <td>용인한국외국어대학교부설고</td>\n",
       "    </tr>\n",
       "    <tr>\n",
       "      <th>4</th>\n",
       "      <td>중학교 3 년 동안 영어를 단지 언어가 아닌 문화로 익 히 고 이를 친구들과 나누는...</td>\n",
       "      <td>대원외국어고</td>\n",
       "    </tr>\n",
       "  </tbody>\n",
       "</table>\n",
       "</div>"
      ],
      "text/plain": [
       "                                                  내용             학교\n",
       "0  나는 공부를 할 때 반복을 중요시 하였다. 특히 수학 공부를 할 때에 오답이나 헷갈...       이화여자외국어고\n",
       "1  1학년까지 문제집을 위주로 공부했지만 교과서의 세부 내용을 다룬 문제에 잘 대처하 ...          서울국제고\n",
       "2  내 꿈은 영어 선생님이다 .  그래서 수업 시간에도 미래의  내가 어떻게 수업을 하...         김포외국어고\n",
       "3  세계적인 건축가로서 성장하기 위해 많은 노력을 기울여 왔다. 먼저 1학년 때 3d프...  용인한국외국어대학교부설고\n",
       "4  중학교 3 년 동안 영어를 단지 언어가 아닌 문화로 익 히 고 이를 친구들과 나누는...         대원외국어고"
      ]
     },
     "execution_count": 12,
     "metadata": {},
     "output_type": "execute_result"
    }
   ],
   "source": [
    "df_r2 = pd.read_excel(\"./df_sample03.xlsx\", engine = \"openpyxl\", header=0, index_col=0)\n",
    "df_r2.head()"
   ]
  },
  {
   "cell_type": "code",
   "execution_count": 13,
   "id": "f6f64a10",
   "metadata": {
    "id": "f6f64a10"
   },
   "outputs": [],
   "source": [
    "def make_code(school):\n",
    "    if str(school).find(\"외국어고\") != -1:\n",
    "        return 1\n",
    "    elif str(school).find(\"국제\") != -1 :\n",
    "        return 2\n",
    "    elif str(school).find(\"용인\") == -1 and str(school).find(\"하나\") == -1 and str(school).find(\"상산\") == -1 :\n",
    "        return 3\n",
    "    else:\n",
    "        return 0"
   ]
  },
  {
   "cell_type": "code",
   "execution_count": 14,
   "id": "6c8103b2",
   "metadata": {
    "id": "6c8103b2",
    "outputId": "9ca0f4f7-a9da-460a-b104-fea24b2f7815",
    "scrolled": false
   },
   "outputs": [
    {
     "data": {
      "text/html": [
       "<div>\n",
       "<style scoped>\n",
       "    .dataframe tbody tr th:only-of-type {\n",
       "        vertical-align: middle;\n",
       "    }\n",
       "\n",
       "    .dataframe tbody tr th {\n",
       "        vertical-align: top;\n",
       "    }\n",
       "\n",
       "    .dataframe thead th {\n",
       "        text-align: right;\n",
       "    }\n",
       "</style>\n",
       "<table border=\"1\" class=\"dataframe\">\n",
       "  <thead>\n",
       "    <tr style=\"text-align: right;\">\n",
       "      <th></th>\n",
       "      <th>내용</th>\n",
       "      <th>학교</th>\n",
       "      <th>code</th>\n",
       "    </tr>\n",
       "  </thead>\n",
       "  <tbody>\n",
       "    <tr>\n",
       "      <th>0</th>\n",
       "      <td>나는 공부를 할 때 반복을 중요시 하였다. 특히 수학 공부를 할 때에 오답이나 헷갈...</td>\n",
       "      <td>이화여자외국어고</td>\n",
       "      <td>3</td>\n",
       "    </tr>\n",
       "    <tr>\n",
       "      <th>1</th>\n",
       "      <td>1학년까지 문제집을 위주로 공부했지만 교과서의 세부 내용을 다룬 문제에 잘 대처하 ...</td>\n",
       "      <td>서울국제고</td>\n",
       "      <td>3</td>\n",
       "    </tr>\n",
       "    <tr>\n",
       "      <th>2</th>\n",
       "      <td>내 꿈은 영어 선생님이다 .  그래서 수업 시간에도 미래의  내가 어떻게 수업을 하...</td>\n",
       "      <td>김포외국어고</td>\n",
       "      <td>3</td>\n",
       "    </tr>\n",
       "    <tr>\n",
       "      <th>3</th>\n",
       "      <td>세계적인 건축가로서 성장하기 위해 많은 노력을 기울여 왔다. 먼저 1학년 때 3d프...</td>\n",
       "      <td>용인한국외국어대학교부설고</td>\n",
       "      <td>3</td>\n",
       "    </tr>\n",
       "    <tr>\n",
       "      <th>4</th>\n",
       "      <td>중학교 3 년 동안 영어를 단지 언어가 아닌 문화로 익 히 고 이를 친구들과 나누는...</td>\n",
       "      <td>대원외국어고</td>\n",
       "      <td>3</td>\n",
       "    </tr>\n",
       "  </tbody>\n",
       "</table>\n",
       "</div>"
      ],
      "text/plain": [
       "                                                  내용             학교  code\n",
       "0  나는 공부를 할 때 반복을 중요시 하였다. 특히 수학 공부를 할 때에 오답이나 헷갈...       이화여자외국어고     3\n",
       "1  1학년까지 문제집을 위주로 공부했지만 교과서의 세부 내용을 다룬 문제에 잘 대처하 ...          서울국제고     3\n",
       "2  내 꿈은 영어 선생님이다 .  그래서 수업 시간에도 미래의  내가 어떻게 수업을 하...         김포외국어고     3\n",
       "3  세계적인 건축가로서 성장하기 위해 많은 노력을 기울여 왔다. 먼저 1학년 때 3d프...  용인한국외국어대학교부설고     3\n",
       "4  중학교 3 년 동안 영어를 단지 언어가 아닌 문화로 익 히 고 이를 친구들과 나누는...         대원외국어고     3"
      ]
     },
     "execution_count": 14,
     "metadata": {},
     "output_type": "execute_result"
    }
   ],
   "source": [
    "# 전국 자사고 0 외국어고 1 국제고 2 광역 자사고 3 코드 부여\n",
    "df_r2[\"code\"] = 0\n",
    "df_r2[\"code\"] = df_r2[\"code\"].apply(make_code)\n",
    "df_r2.head()"
   ]
  },
  {
   "cell_type": "code",
   "execution_count": 15,
   "id": "6fdcdb03",
   "metadata": {},
   "outputs": [],
   "source": [
    "df_r2.to_excel(\"./df_sample04.xlsx\")"
   ]
  }
 ],
 "metadata": {
  "colab": {
   "name": "TextAnalysis_DataPreprocessing_220824.ipynb",
   "provenance": []
  },
  "kernelspec": {
   "display_name": "Python 3 (ipykernel)",
   "language": "python",
   "name": "python3"
  },
  "language_info": {
   "codemirror_mode": {
    "name": "ipython",
    "version": 3
   },
   "file_extension": ".py",
   "mimetype": "text/x-python",
   "name": "python",
   "nbconvert_exporter": "python",
   "pygments_lexer": "ipython3",
   "version": "3.9.12"
  }
 },
 "nbformat": 4,
 "nbformat_minor": 5
}
