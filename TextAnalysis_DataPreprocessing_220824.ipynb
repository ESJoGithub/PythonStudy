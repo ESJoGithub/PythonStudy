{
 "cells": [
  {
   "cell_type": "markdown",
   "id": "24a27818",
   "metadata": {},
   "source": [
    "# 0. 데이터 전처리\n",
    "---\n",
    "1차 목표: pdf로 작성된 자기소개서 파일 텍스트화하여 excel 파일로 저장 (220824 완료)\n",
    "\n",
    "-> 보완사항 총 73개 항목 중 52개 데이터만 처리됨.(파일 호환 문제로 판단)\n",
    "\n",
    "-> docx 파일 추가 예정\n",
    "\n",
    "2차 목표: 자기소개서 질문 내용 데이터에서 배제 필요, 정규화 필요\n",
    "3차 목표: 학교 유형별 label 추가"
   ]
  },
  {
   "cell_type": "code",
   "execution_count": 1,
   "id": "a6e9fecc",
   "metadata": {},
   "outputs": [],
   "source": [
    "import glob                  # 해당 디렉토리의 파일들을 탐색하기 위한 모듈\n",
    "from io import StringIO      # StringIO는 파일을 흉내내는 객체로, 문자열 데이터를 임시로 처리할 때 활용\n",
    "from pdfminer.converter import TextConverter\n",
    "from pdfminer.layout import LAParams\n",
    "from pdfminer.pdfdocument import PDFDocument\n",
    "from pdfminer.pdfinterp import PDFResourceManager, PDFPageInterpreter\n",
    "from pdfminer.pdfpage import PDFPage\n",
    "from pdfminer.pdfparser import PDFParser\n",
    "\n",
    "import re\n",
    "import pandas as pd\n",
    "import numpy as np"
   ]
  },
  {
   "cell_type": "code",
   "execution_count": 2,
   "id": "53db0df7",
   "metadata": {},
   "outputs": [],
   "source": [
    "def read_pdf(file_path, convertStartNo = 1):\n",
    "    '''파일 경로와 변환 시작 페이지를 매개변수로 하여 해당 PDF 파일을 text로 반환. \n",
    "       file_path, converStartNo = 1이 기본값'''\n",
    "    output_String = StringIO()\n",
    "    with open(file_path, 'rb') as file: \n",
    "        # rb는 파일을 byte 형식으로 읽어옴\n",
    "        # 아래 코드들은 pdf를 byte 형식에서 다시 한글 문서로 변환하는 과정으로 추정 \n",
    "        parser = PDFParser(file)                                              # 데이터를 분석하여 토큰 단위로 생성하는 듯\n",
    "        doc = PDFDocument(parser)                                             # 생성된 토큰들을 다시 문서 단위로 묶는 방식으로 추정\n",
    "        rsrcmgr = PDFResourceManager()                                        # pdf resource manager 객체 생성\n",
    "        device = TextConverter(rsrcmgr, output_String, laparams = LAParams()) # 위의 객체를 활용하여 text 형식으로 변환?\n",
    "        \n",
    "        # 변환한 내역을 페이지별로 구분하는 과정으로 추정 \n",
    "        interpreter = PDFPageInterpreter(rsrcmgr, device)                   \n",
    "        count = 0\n",
    "        for page in PDFPage.create_pages(doc):\n",
    "            count += 1\n",
    "            #(텍스트화를 희망하는 페이지가 아니면 skip하도록 변형)\n",
    "            if count < convertStartNo: \n",
    "                continue\n",
    "            else:\n",
    "                interpreter.process_page(page)\n",
    "        return output_String.getvalue()    "
   ]
  },
  {
   "cell_type": "markdown",
   "id": "2ad98de6",
   "metadata": {},
   "source": [
    "#### 불필요한 공백 제거 후 문장별로 나누기(1차 정리)"
   ]
  },
  {
   "cell_type": "code",
   "execution_count": 3,
   "id": "0115d4d6",
   "metadata": {},
   "outputs": [],
   "source": [
    "# 희망 디렉터리 안에 pdf 파일 경로 list 만들기\n",
    "list_filepath = glob.glob('./Data/*.pdf')\n",
    "count = 0\n",
    "\n",
    "df = pd.DataFrame(columns = [\"내용\"])\n",
    "# 파일 경로를 하나씩 불러와 read_pdf 함수 호출\n",
    "for filepath in list_filepath:\n",
    "\n",
    "    text = read_pdf(filepath, 2)     # 첫 페이지는 개인정보 페이지이므로 생략\n",
    "    textlist = text.split(\". \")\n",
    "    \n",
    "    text_L = []\n",
    "    for t in textlist:\n",
    "        t = \" \".join(t.split())\n",
    "        text_L.append(t)\n",
    "    df.loc[count] = [text_L]    \n",
    "    count += 1"
   ]
  },
  {
   "cell_type": "code",
   "execution_count": 4,
   "id": "ab5e6913",
   "metadata": {},
   "outputs": [],
   "source": [
    "df.to_excel(\"./df_sample01.xlsx\")"
   ]
  },
  {
   "cell_type": "code",
   "execution_count": 6,
   "id": "6451ea0b",
   "metadata": {},
   "outputs": [
    {
     "data": {
      "text/html": [
       "<div>\n",
       "<style scoped>\n",
       "    .dataframe tbody tr th:only-of-type {\n",
       "        vertical-align: middle;\n",
       "    }\n",
       "\n",
       "    .dataframe tbody tr th {\n",
       "        vertical-align: top;\n",
       "    }\n",
       "\n",
       "    .dataframe thead th {\n",
       "        text-align: right;\n",
       "    }\n",
       "</style>\n",
       "<table border=\"1\" class=\"dataframe\">\n",
       "  <thead>\n",
       "    <tr style=\"text-align: right;\">\n",
       "      <th></th>\n",
       "      <th>0</th>\n",
       "      <th>1</th>\n",
       "    </tr>\n",
       "  </thead>\n",
       "  <tbody>\n",
       "    <tr>\n",
       "      <th>0</th>\n",
       "      <td>NaN</td>\n",
       "      <td>내용</td>\n",
       "    </tr>\n",
       "    <tr>\n",
       "      <th>1</th>\n",
       "      <td>0.0</td>\n",
       "      <td>['□ 나의 꿈과 끼, 인성(1,500자 이내, 띄어쓰기 제외) 접수번호 JC102...</td>\n",
       "    </tr>\n",
       "    <tr>\n",
       "      <th>2</th>\n",
       "      <td>1.0</td>\n",
       "      <td>['□ 나의 꿈과 끼, 인성(1,500자(띄어쓰기 제외) 이내) ○ 본인이 스스로 ...</td>\n",
       "    </tr>\n",
       "    <tr>\n",
       "      <th>3</th>\n",
       "      <td>2.0</td>\n",
       "      <td>['']</td>\n",
       "    </tr>\n",
       "    <tr>\n",
       "      <th>4</th>\n",
       "      <td>3.0</td>\n",
       "      <td>['□ 나의 꿈과 끼, 인성(1,500자 이내) 수험번호 1396 나는 세계적인 친...</td>\n",
       "    </tr>\n",
       "  </tbody>\n",
       "</table>\n",
       "</div>"
      ],
      "text/plain": [
       "     0                                                  1\n",
       "0  NaN                                                 내용\n",
       "1  0.0  ['□ 나의 꿈과 끼, 인성(1,500자 이내, 띄어쓰기 제외) 접수번호 JC102...\n",
       "2  1.0  ['□ 나의 꿈과 끼, 인성(1,500자(띄어쓰기 제외) 이내) ○ 본인이 스스로 ...\n",
       "3  2.0                                               ['']\n",
       "4  3.0  ['□ 나의 꿈과 끼, 인성(1,500자 이내) 수험번호 1396 나는 세계적인 친..."
      ]
     },
     "execution_count": 6,
     "metadata": {},
     "output_type": "execute_result"
    }
   ],
   "source": [
    "df_r = pd.read_excel(\"./df_sample01.xlsx\", engine = \"openpyxl\", header=None)\n",
    "df_r.head()"
   ]
  }
 ],
 "metadata": {
  "kernelspec": {
   "display_name": "Python 3 (ipykernel)",
   "language": "python",
   "name": "python3"
  },
  "language_info": {
   "codemirror_mode": {
    "name": "ipython",
    "version": 3
   },
   "file_extension": ".py",
   "mimetype": "text/x-python",
   "name": "python",
   "nbconvert_exporter": "python",
   "pygments_lexer": "ipython3",
   "version": "3.9.12"
  }
 },
 "nbformat": 4,
 "nbformat_minor": 5
}
