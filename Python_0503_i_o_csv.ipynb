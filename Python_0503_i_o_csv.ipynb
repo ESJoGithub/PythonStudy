{
  "nbformat": 4,
  "nbformat_minor": 0,
  "metadata": {
    "colab": {
      "name": "Python_0503_i/o_csv.ipynb",
      "provenance": [],
      "collapsed_sections": [],
      "authorship_tag": "ABX9TyMrxTzEhJkD8XpgKO5SQ0fw",
      "include_colab_link": true
    },
    "kernelspec": {
      "name": "python3",
      "display_name": "Python 3"
    },
    "language_info": {
      "name": "python"
    }
  },
  "cells": [
    {
      "cell_type": "markdown",
      "metadata": {
        "id": "view-in-github",
        "colab_type": "text"
      },
      "source": [
        "<a href=\"https://colab.research.google.com/github/ESJoGithub/PythonStudy/blob/main/Python_0503_i_o_csv.ipynb\" target=\"_parent\"><img src=\"https://colab.research.google.com/assets/colab-badge.svg\" alt=\"Open In Colab\"/></a>"
      ]
    },
    {
      "cell_type": "markdown",
      "source": [
        "# **csv 함수 import 없이 임의의 데이터 통계 입력/수정/재입력하기**\n",
        "---"
      ],
      "metadata": {
        "id": "kVrb7JDXhzES"
      }
    },
    {
      "cell_type": "markdown",
      "source": [
        "**전제 : 함수 형태로 구현, 가능한 csv 내장함수를 적게 사용하여 코딩**\n",
        "\n",
        "1. 임의의 숫자n 개를 생성하여 csv 파일에 저장\n",
        " > 숫자의 개수, 범위를 사용자에게 입력받음\n",
        " > 입력 횟수(행 생성 횟수) 종료 옵션이 존재(while문 필요)\n",
        " > 사용자가 입력하지 않는 경우 defult 옵션 존재\n",
        "\n",
        "2. csv 파일을 읽어와서 발생한 숫자의 통계 계산\n",
        " > 행단위 열단위 모두 계산\n",
        " > 평균, 분산, 표준편차\n",
        " > 생성된 숫자별 발생 빈도를 확률로 표현\n",
        " > 누적분포\n",
        " > csv 파일 상단에 \n",
        " > 생성된 데이터를 기존 데이터에 추가하여 저장\n",
        "\n",
        "\n",
        "\n",
        "\n"
      ],
      "metadata": {
        "id": "CMpVtOHHgevT"
      }
    },
    {
      "cell_type": "markdown",
      "source": [
        "##**1. csv 만들기**##"
      ],
      "metadata": {
        "id": "x56BdGtNrIwJ"
      }
    },
    {
      "cell_type": "markdown",
      "source": [
        "###**함수부분**###"
      ],
      "metadata": {
        "id": "-tS6xG1VjhOE"
      }
    },
    {
      "cell_type": "markdown",
      "source": [
        "####행별로 랜덤함수 입력####"
      ],
      "metadata": {
        "id": "uTywEF2JjkuL"
      }
    },
    {
      "cell_type": "code",
      "source": [
        "def makeData(m_num=10, m_min=1, m_max=100):\n",
        "  '''아이템 수, 범위(최소/최대)를 매개변수로 받아 범위에 해당하는 난수들을 아이템으로 하는 list 반환\n",
        "  매개변수를 입력하지 않을 경우 1부터 100 사이 난수들을 생성하여 10개의 아이템을 가진 list로 반환함'''\n",
        "\n",
        "  import random\n",
        "  m_datalist=[]\n",
        "  for i in range(m_num):\n",
        "    a = random.randint(m_min, m_max)\n",
        "    str_a = str(a)                                  # write 하기 위해 문자열로 형 변환\n",
        "    m_datalist.append(str_a)                 \n",
        "  return m_datalist"
      ],
      "metadata": {
        "id": "H_6coE-tcCa2"
      },
      "execution_count": 1,
      "outputs": []
    },
    {
      "cell_type": "markdown",
      "source": [
        "###**실행부분**###"
      ],
      "metadata": {
        "id": "mcnFc-ecjvuL"
      }
    },
    {
      "cell_type": "markdown",
      "source": [
        "####데이터 list 생성####"
      ],
      "metadata": {
        "id": "LIQ4loecjy8D"
      }
    },
    {
      "cell_type": "code",
      "source": [
        "raw = 1                                             # 몇 행째 입력하는지 안내용 변수                                   \n",
        "tableList = []                                      # 전체 데이터 저장용 list 선언\n",
        "\n",
        "while(True) :\n",
        "\n",
        "  n = int(input(str(raw)+\"행의 열 개수를 정해주세요(임의의 개수는 0, 더 이상 입력을 원하지 않으면 -1 입력): \"))\n",
        "\n",
        "  if n == -1:\n",
        "    break\n",
        "\n",
        "  rangeList = list(map(int, input(str(raw)+\"행 숫자의 범위를 띄어쓰기로 구분하여 입력해주세요(임의의 숫자를 희망하는 경우 0 입력):\").split()))\n",
        "  raw += 1                                     \n",
        " \n",
        "  if len(rangeList) != 1 :                            \n",
        "    _min = rangeList[0]\n",
        "    _max = rangeList[1]\n",
        "  else :                                            \n",
        "    _min = 0\n",
        "    _max = 0\n",
        "\n",
        "  '''범위의 아이템이 하나일 때, 즉 0을 입력했거나 시작 범위(또는 종료 범위)만 입력했을 때 매개변수가 defult로 작용하도록 하는 과정.\n",
        "    우선 최소값, 최대값 모두 0으로 초기화한다. m_min을 1, m_max를 100으로 초기화하여 makeData 매개변수로 줄 수도 있지만 \n",
        "    아래의 조건식과 makeData의 defult를 사용하면 결합도를 낮출 수 있다.'''\n",
        "\n",
        "  if n == 0 and _min == 0:                         # 아이템 수와 난수 발생 범위를 정하지 않을 때\n",
        "    rawList = makeData()\n",
        "  elif n == 0 and _min != 0:                       # 아이템 수는 정하지 않고 난수 발생 범위만 정했을 때\n",
        "    rawList = makeData(m_min=_min, m_max=_max)\n",
        "  elif n != 0 and _min == 0:                       # 아이템 수만 정하고 난수 발생 범위는 정하지 않았을 때\n",
        "    rawList = makeData(n)\n",
        "  else:                                            # 아이템 수와 난수 발생 범위를 모두 정했을 때\n",
        "    rawList = makeData(n, _min, _max)\n",
        "  \n",
        "  tableList.append(rawList)                        # 각 행의 list를 반환받아 전체 데이터 list에 추가\n"
      ],
      "metadata": {
        "id": "Ff3lYPjTjEJ4",
        "colab": {
          "base_uri": "https://localhost:8080/"
        },
        "outputId": "7d025e16-306a-4e9b-faee-dc5ce572daf8"
      },
      "execution_count": 2,
      "outputs": [
        {
          "name": "stdout",
          "output_type": "stream",
          "text": [
            "1행의 열 개수를 정해주세요(임의의 개수는 0, 더 이상 입력을 원하지 않으면 -1 입력): 15\n",
            "1행 숫자의 범위를 띄어쓰기로 구분하여 입력해주세요(임의의 숫자를 희망하는 경우 0 입력):20 30\n",
            "2행의 열 개수를 정해주세요(임의의 개수는 0, 더 이상 입력을 원하지 않으면 -1 입력): 0\n",
            "2행 숫자의 범위를 띄어쓰기로 구분하여 입력해주세요(임의의 숫자를 희망하는 경우 0 입력):0 10\n",
            "3행의 열 개수를 정해주세요(임의의 개수는 0, 더 이상 입력을 원하지 않으면 -1 입력): 5\n",
            "3행 숫자의 범위를 띄어쓰기로 구분하여 입력해주세요(임의의 숫자를 희망하는 경우 0 입력):10 20\n",
            "4행의 열 개수를 정해주세요(임의의 개수는 0, 더 이상 입력을 원하지 않으면 -1 입력): -1\n"
          ]
        }
      ]
    },
    {
      "cell_type": "markdown",
      "source": [
        "####데이터 csv 저장####"
      ],
      "metadata": {
        "id": "tbHBvnoJj-G3"
      }
    },
    {
      "cell_type": "code",
      "source": [
        "with open(\"test.csv\",mode = \"w+\", encoding = \"utf-8-sig\") as f:\n",
        "\n",
        "  f.write(\"\\n\")                                   # 차후 각 행의 통계 제목 입력을 위해 첫 행을 비워둔다.\n",
        "\n",
        "  for i in tableList:                             # 각 행의 데이터 list를 순차적으로 불러온다. 이 때 차후 각 열의 통계 제목 입력을 위해 첫 열을 비워 둔다. \n",
        "    f.write(\",\")\n",
        "    for j in i:                                   # 각 행의 아이템을 순차적으로 불러와 입력한다. 이 때 구분자를 이용하여 열을 바꾼다.\n",
        "      f.write(j+',')\n",
        "    f.write(\"\\n\")                                 # 한 행의 데이터 입력이 끝나면 다음 행으로 넘어간다."
      ],
      "metadata": {
        "id": "i7-tH0VIiLtw"
      },
      "execution_count": 3,
      "outputs": []
    },
    {
      "cell_type": "markdown",
      "source": [
        "##**2. csv 읽기**##"
      ],
      "metadata": {
        "id": "MmIAaEB2rblC"
      }
    },
    {
      "cell_type": "markdown",
      "source": [
        "###**함수부분**###"
      ],
      "metadata": {
        "id": "igkJ0wK8rblD"
      }
    },
    {
      "cell_type": "markdown",
      "source": [
        "####입력된 데이터 행별 list묶음으로 반환####\n",
        "* [[1행데이터], [2행데이터],...]\n",
        "\n",
        "* 가장 긴 행의 길이 구하기"
      ],
      "metadata": {
        "id": "EWUQlvQarblE"
      }
    },
    {
      "cell_type": "code",
      "source": [
        "def getTable(_read):\n",
        "  '''csv에서 읽어온 데이터를 매개변수로 받아 행별 데이터 list들을 아이템으로 하는 전체 데이터 list 반환'''\n",
        "  templist = list(map(str, _read.split(',')))     # csv에서 읽어온 데이터를 구분자로 구분하여 문자열 리스트로 1차 정리\n",
        "  m_itemCount = 0                                 # 행별 아이템 개수 확인용 변수\n",
        "  m_rawMax = 0                                    # 가장 아이템이 많은 행의 아이템 수 저장용 변수(열별 데이터 저장을 위해 필요함)\n",
        "  m_rawList = []\n",
        "  m_rawTableList = []\n",
        "\n",
        "  for i in templist:                              # 1차 정리한 문자열 list의 아이템을 하나씩 불러온다.\n",
        "    if i != \"\\n\" :                                # 행 바꿈이 일어나지 않을 때까지 아이템들을 정수로 변환하여 행별 list에 추가한다.        \n",
        "      m_rawList.append(int(i))\n",
        "      m_itemCount+=1                              # 행별 list의 아이템이 하나씩 추가할 때마다 아이템 수 카운트\n",
        "      if m_itemCount > m_rawMax:                  # 아이템 수가 가장 많은 행의 아이템 수를 판별한다.\n",
        "        m_rawMax = m_itemCount\n",
        "    elif m_itemCount != 0:                        # 제목 작성을 위해 비워둔 첫 행이 아닌데 행바꿈이 일어나면 전체 데이터 list로 합치고 행 list와 아이템 수는 다음 행의 데이터를 받기 위해 초기화한다.\n",
        "      m_rawTableList.append(m_rawList)\n",
        "      m_rawList = []\n",
        "      m_itemCount = 0\n",
        "  \n",
        "  return m_rawTableList, m_rawMax                    # 행별로 정리된 전체 데이터 list와 가장 아이템이 많은 행의 아이템 수를 반환한다."
      ],
      "metadata": {
        "id": "ytoB9TCnKIqh"
      },
      "execution_count": 72,
      "outputs": []
    },
    {
      "cell_type": "markdown",
      "source": [
        "####입력된 데이터 열별 list묶음으로 반환####\n",
        "* [[1열데이터], [2열데이터],...]\n",
        "\n",
        "* 가장 긴 행을 기준으로 삼아서 그 횟수만큼 반복,\n",
        "단 행의 길이가 짧은 아이들은 범위 넘어가면 다음 단계로..."
      ],
      "metadata": {
        "id": "lP7jreDCp2V9"
      }
    },
    {
      "cell_type": "code",
      "source": [
        "def makeColTable(m_rawTableList, m_rawMax):\n",
        "  '''행별로 정리된 전체 데이터list를 매개변수로 받아 행별 데이터 list들을 아이템으로 하는 전체 데이터 list 반환'''\n",
        "  m_columnTableList = []\n",
        "  for i in range(m_rawMax):                       # 가장 아이템 수가 많은 행만큼 반복\n",
        "    m_columnList = []\n",
        "    for j in m_rawTableList:                      # 행별 list를 하나씩 불러온다.\n",
        "      if i > len(j)-1 :                           # j+1행의 i번째 아이템을 하나씩 열별 list에 추가하면서, i가 j+1행의 인덱스 범위를 넘기면(즉, 해당 행의 아이템이 모두 입력된 후에는) 다음 행 list로 넘어간다. (range 에러 방지)\n",
        "        continue\n",
        "      else:\n",
        "        m_columnList.append(j[i])\n",
        "    m_columnTableList.append(m_columnList)        # 한 열의 데이터 입력이 끝나면 전체 데이터 list로 합치고 다음 열 데이터를 입력받는다.(m_columnList = []로 열별 list 초기화)\n",
        "  return m_columnTableList                        # 열별로 정리된 전체 데이터 list를 반환한다.\n"
      ],
      "metadata": {
        "id": "S8qVz-4kR_IV"
      },
      "execution_count": 73,
      "outputs": []
    },
    {
      "cell_type": "markdown",
      "source": [
        "####입력된 데이터 Average 반환####\n",
        "\n",
        "* 평균 구해라....내장함수 sum, len 활용"
      ],
      "metadata": {
        "id": "TmW0advWqHwP"
      }
    },
    {
      "cell_type": "code",
      "source": [
        "def getAverage(m_table):\n",
        "  '''행별 또는 열별로 정리된 전체 데이터list를 매개변수로 받아 행별 또는 열별 평균list로 반환'''\n",
        "  aveList = []\n",
        "  for i in m_table:\n",
        "    m_average = sum(i)/len(i)\n",
        "    aveList.append(m_average)\n",
        "  return aveList"
      ],
      "metadata": {
        "id": "itrSmOwbRIz1"
      },
      "execution_count": 55,
      "outputs": []
    },
    {
      "cell_type": "markdown",
      "source": [
        "####입력된 데이터 분산, 표준편차 반환####\n",
        "* 평균이 값이 아닌 list로 반환되었기 때문이 인덱스가 필요 그래서 for문에 range(len()) 활용함"
      ],
      "metadata": {
        "id": "nB5m3AZ6qcgH"
      }
    },
    {
      "cell_type": "code",
      "source": [
        "def getVariance(m_table, averList) :\n",
        "  '''행별 또는 열별로 정리된 전체 데이터list와 평균list를 매개변수로 받아 행별 또는 열별 분산, 표준편차 list로 반환'''\n",
        "\n",
        "  import math                                    # math 함수 사용해보기...(사실 꼭 필요한 것은 아님. 단순한 연습용)\n",
        "\n",
        "  getVarList = []\n",
        "  getStDevList = []\n",
        "\n",
        "  for i in range(len(m_table)):                   # i에 (각 행 또는 열별 list가 아니라) 인덱스 값을 불러와 평균 list에서 해당 행 또는 열별 평균 소환\n",
        "    sum = 0\n",
        "    aver = averList[i]\n",
        "    for j in m_table[i]:                          # 각 행 또는 열별 list의 아이템을 j에 불러와 분산 및 표준편차 계산\n",
        "      sum += math.pow(aver-j, 2)\n",
        "    var = sum/len(m_table[i])\n",
        "    getVarList.append(var)\n",
        "    getStDevList.append(math.sqrt(var))\n",
        "  return getVarList, getStDevList"
      ],
      "metadata": {
        "id": "4Cr-X0_6dd-p"
      },
      "execution_count": 56,
      "outputs": []
    },
    {
      "cell_type": "markdown",
      "source": [
        "####입력된 데이터 누적분포 반환####\n",
        "* 일단 각 데이터list별 최대값, 최소값을 찾는다\n",
        "max, min 활용\n",
        "\n",
        "* 최소값부터 최대값까지 for문 반복하면서\n",
        "자기 자신의 값과 동일한 값이 나오면 count+=1씩\n",
        "\n",
        "* count/len(list)*100 확률\n",
        "\n",
        "* 결과를 list로 입력 "
      ],
      "metadata": {
        "id": "Ib2YpBUTqxO8"
      }
    },
    {
      "cell_type": "code",
      "source": [
        "def getCumul(m_table):\n",
        "  '''행별 또는 열별로 정리된 전체 데이터list를 매개변수로 받아 \n",
        "  각 list 범위에 해당하는 모든 수의 [수, 누적횟수, 생성확률]list로 이루어진 list 반환'''\n",
        "  m_cumul=[]\n",
        "  m_temp = []\n",
        "  m_min = 0\n",
        "  m_max = 0\n",
        "\n",
        "  for i in m_table:\n",
        "    m_min = min(i)                                  # 내장함수 min, max를 활용하여 각 행별 또는 열별list의 최소값, 최대값 확인\n",
        "    m_max = max(i)\n",
        "    m_cumultemp = []\n",
        "    for j in range(m_min, m_max+1):                 # 각 행별 또는 열별list의 최소값부터 최대값까지 하나씩 확인하며 해당 숫자가 데이터 안에 있으면 누적횟수 카운트\n",
        "      count = 0\n",
        "      for k in i:\n",
        "        if k==j:\n",
        "          count += 1\n",
        "      rate = count/len(i)*100                       # 누적횟수/랜덤생성횟수(행 또는 열 길이)*100        \n",
        "      m_temp=[j, count, rate]\n",
        "      m_cumultemp.append(m_temp)\n",
        "    m_cumul.append(m_cumultemp)\n",
        "  return m_cumul"
      ],
      "metadata": {
        "id": "t8XbjE54rbOt"
      },
      "execution_count": 57,
      "outputs": []
    },
    {
      "cell_type": "markdown",
      "source": [
        "###**실행부분**###"
      ],
      "metadata": {
        "id": "aOCX4HTGrblF"
      }
    },
    {
      "cell_type": "markdown",
      "source": [
        "####데이터 list 생성####"
      ],
      "metadata": {
        "id": "p0D0UEr3rblF"
      }
    },
    {
      "cell_type": "code",
      "source": [
        "with open(\"test.csv\", mode=\"r\", encoding=\"utf-8-sig\") as p:\n",
        "  p.seek(0)\n",
        "  temp = p.read()\n",
        "  rRawList, rRawMax = getTable(temp)                                # 행별 list로 이루어진 전체 list 구함, 가장 아이템이 많은 행의 아이템 수\n",
        "  rColumnList = makeColTable(rRawList, rRawMax)                     # 열별 list로 이루어진 전체 list 구함\n",
        "  rAverList = getAverage(rRawList)                                  # 행별 평균\n",
        "  cAverList = getAverage(rColumnList)                               # 열별 평균\n",
        "  rVarList, rDevList = getVariance(rRawList, rAverList)             # 행별 분산, 표준편차\n",
        "  cVarList, cDevList = getVariance(rColumnList, cAverList)          # 열별 분산, 표준편차\n",
        "  rCommulList = getCumul(rRawList)                                  # 행별 [숫자, 누적횟수, 누적확률] 모음 list\n",
        "  cCommulList = getCumul(rColumnList)                               # 열별 [숫자, 누적횟수, 누적확률] 모음 list\n"
      ],
      "metadata": {
        "id": "uf9g4RkirblG"
      },
      "execution_count": null,
      "outputs": []
    }
  ]
}