{
  "nbformat": 4,
  "nbformat_minor": 0,
  "metadata": {
    "colab": {
      "name": "Python_0418.ipynb",
      "provenance": [],
      "collapsed_sections": [],
      "authorship_tag": "ABX9TyMb8NYFiTee4eLbY3qpvhg3",
      "include_colab_link": true
    },
    "kernelspec": {
      "name": "python3",
      "display_name": "Python 3"
    },
    "language_info": {
      "name": "python"
    }
  },
  "cells": [
    {
      "cell_type": "markdown",
      "metadata": {
        "id": "view-in-github",
        "colab_type": "text"
      },
      "source": [
        "<a href=\"https://colab.research.google.com/github/ESJoGithub/PythonStudy/blob/main/Python_0418.ipynb\" target=\"_parent\"><img src=\"https://colab.research.google.com/assets/colab-badge.svg\" alt=\"Open In Colab\"/></a>"
      ]
    },
    {
      "cell_type": "markdown",
      "source": [
        "키보드로부터 숫자 N개를 입력받아\n",
        "#**평균, 분산, 표준편차 반환 함수 만들기**\n",
        "---\n",
        "함수에 입력된 숫자, 평균, 분산, 표준편차 출력 코드\n",
        "\n",
        "최대값 및 인덱스, 최소값 및 인덱스, 오름차순, 내림차순 출력 함수 만들기"
      ],
      "metadata": {
        "id": "W2R5kZz-3T2h"
      }
    },
    {
      "cell_type": "code",
      "execution_count": 18,
      "metadata": {
        "colab": {
          "base_uri": "https://localhost:8080/"
        },
        "id": "7huQ8tsr3QL6",
        "outputId": "c6d96f0e-cdd3-4817-d560-36baf9f8cda7"
      },
      "outputs": [
        {
          "output_type": "stream",
          "name": "stdout",
          "text": [
            "평균, 분산, 표준편차를 구할 숫자의 개수를 입력해주세요: \n",
            "3\n",
            "숫자를 입력해주세요:\n",
            "7\n",
            "숫자를 입력해주세요:\n",
            "6\n",
            "숫자를 입력해주세요:\n",
            "10\n",
            "평균은  7.666666666666667 입니다.\n",
            "분산은  2.888888888888889 , 표준편차는  1.699673171197595 입니다.\n",
            "최대값은 10 , 최대 인덱스는 2 입니다.\n",
            "최소값은 6 , 최소 인덱스는 1 입니다.\n",
            "오름차순 정렬:  [6, 7, 10]\n",
            "내림차순 정렬:  [10, 7, 6]\n"
          ]
        }
      ],
      "source": [
        "numbers = []\n",
        "count = 0\n",
        "\n",
        "print(\"평균, 분산, 표준편차를 구할 숫자의 개수를 입력해주세요: \")\n",
        "count = int(input())\n",
        "\n",
        "for i in range(count) :\n",
        "  print(\"숫자를 입력해주세요:\")\n",
        "  numbers.insert(i, int(input()))\n",
        "\n",
        "def average(list) :\n",
        "  sum = 0\n",
        "  ave = 0\n",
        "  for i in list :\n",
        "    sum = sum + i\n",
        "  ave = sum/len(list)\n",
        "  return ave;\n",
        "print(\"평균은 \", average(numbers), \"입니다.\")\n",
        "\n",
        "def variance(list) :\n",
        "  ave = average(list)\n",
        "  sum = 0\n",
        "  vari = 0\n",
        "  for i in list :\n",
        "    sum = sum+(i-ave)**2\n",
        "    vari = sum/len(list)\n",
        "  print(\"분산은 \", vari,\", 표준편차는 \",vari**(1/2), \"입니다.\")\n",
        "variance(numbers)\n",
        "\n",
        "def findMax(list) :\n",
        "  max = list[0]\n",
        "  index = 0\n",
        "  for i in range(len(list)-1) :\n",
        "    if list[i+1] > max :\n",
        "      max = list[i+1]\n",
        "      index = i+1\n",
        "  print(\"최대값은\", max, \", 최대 인덱스는\", index, \"입니다.\")\n",
        "findMax(numbers)\n",
        "\n",
        "def findMin(list) :\n",
        "  min = list[0]\n",
        "  index = 0\n",
        "  for i in range(len(list)-1) :\n",
        "    if list[i+1] < min :\n",
        "      min = list[i+1]\n",
        "      index = i+1\n",
        "  print(\"최소값은\", min, \", 최소 인덱스는\", index, \"입니다.\")\n",
        "findMin(numbers)\n",
        "\n",
        "def makeSort(list) :\n",
        "  for i in range(len(list)-1) :\n",
        "    for j in range(i+1, len(list)) :\n",
        "      if list[j] < list[i] :\n",
        "        temp = list[i]\n",
        "        list[i] = list[j]\n",
        "        list[j] = temp\n",
        "  print(\"오름차순 정렬: \", list)\n",
        "makeSort(numbers)\n",
        "\n",
        "def makeReverseSort(list) :\n",
        "  for i in range(len(list)-1) :\n",
        "    for j in range(i+1, len(list)) :\n",
        "      if list[j] > list[i] :\n",
        "        temp = list[i]\n",
        "        list[i] = list[j]\n",
        "        list[j] = temp\n",
        "  print(\"내림차순 정렬: \", list)\n",
        "makeReverseSort(numbers)"
      ]
    },
    {
      "cell_type": "code",
      "source": [
        "a = [8, 2, 4, 6, 9]\n",
        "print(max(a))\n",
        "a.sort()\n",
        "print(a)\n",
        "a.reverse()\n",
        "print(a)"
      ],
      "metadata": {
        "colab": {
          "base_uri": "https://localhost:8080/"
        },
        "id": "y-iteuSr83aW",
        "outputId": "a96bbde4-c39a-46c6-e2e5-dd25c4ab3a81"
      },
      "execution_count": 19,
      "outputs": [
        {
          "output_type": "stream",
          "name": "stdout",
          "text": [
            "9\n",
            "[2, 4, 6, 8, 9]\n",
            "[9, 8, 6, 4, 2]\n"
          ]
        }
      ]
    }
  ]
}