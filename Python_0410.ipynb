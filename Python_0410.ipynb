{
  "nbformat": 4,
  "nbformat_minor": 0,
  "metadata": {
    "colab": {
      "name": "Python_0410.ipynb",
      "provenance": [],
      "collapsed_sections": [],
      "authorship_tag": "ABX9TyNiDvMs8GxnpiY/aLlVND08",
      "include_colab_link": true
    },
    "kernelspec": {
      "name": "python3",
      "display_name": "Python 3"
    },
    "language_info": {
      "name": "python"
    }
  },
  "cells": [
    {
      "cell_type": "markdown",
      "metadata": {
        "id": "view-in-github",
        "colab_type": "text"
      },
      "source": [
        "<a href=\"https://colab.research.google.com/github/ESJoGithub/PythonStudy/blob/main/Python_0410.ipynb\" target=\"_parent\"><img src=\"https://colab.research.google.com/assets/colab-badge.svg\" alt=\"Open In Colab\"/></a>"
      ]
    },
    {
      "cell_type": "markdown",
      "source": [
        "명령문 연습"
      ],
      "metadata": {
        "id": "D_YOS0YLilyf"
      }
    },
    {
      "cell_type": "code",
      "source": [
        "a = (1 + 2 + 3 + \n",
        "     4 + 5 + 6 + \n",
        "     7 + 8 + 9)\n",
        "a = 1 + 2 + 3 + \\\n",
        "    4 + 5 + 6 + \\\n",
        "    7 + 8 + 9\n",
        "a = 1; b = 2; c = 3;"
      ],
      "metadata": {
        "id": "qRSueyABioBz"
      },
      "execution_count": null,
      "outputs": []
    },
    {
      "cell_type": "code",
      "source": [
        "for i in range(1, 11) :\n",
        "  print(i)\n",
        "  if i == 5 :\n",
        "    break"
      ],
      "metadata": {
        "colab": {
          "base_uri": "https://localhost:8080/"
        },
        "id": "RafCOu_Kimki",
        "outputId": "bce9c622-b98a-4917-97c4-07853fb67dfa"
      },
      "execution_count": 1,
      "outputs": [
        {
          "output_type": "stream",
          "name": "stdout",
          "text": [
            "1\n",
            "2\n",
            "3\n",
            "4\n",
            "5\n"
          ]
        }
      ]
    },
    {
      "cell_type": "code",
      "execution_count": 4,
      "metadata": {
        "colab": {
          "base_uri": "https://localhost:8080/"
        },
        "id": "G4P0wc7FiQdY",
        "outputId": "78413795-f7ed-4ea9-8ebe-fb1610f1d561"
      },
      "outputs": [
        {
          "output_type": "stream",
          "name": "stdout",
          "text": [
            "Hello\n",
            "Hello\n"
          ]
        }
      ],
      "source": [
        "if True:\n",
        "  print('Hello')\n",
        "  a = 5\n",
        "\n",
        "if True : print('Hello'); a= 5"
      ]
    },
    {
      "cell_type": "code",
      "source": [
        "def double(num) :\n",
        "  \"\"\"Function to double the value\"\"\"\n",
        "  return 2*num\n",
        "print(double.__doc__)"
      ],
      "metadata": {
        "colab": {
          "base_uri": "https://localhost:8080/"
        },
        "id": "8P5eGeMEjv8S",
        "outputId": "a38fb268-d1e2-4ef6-b5a4-87225f9f81ea"
      },
      "execution_count": 5,
      "outputs": [
        {
          "output_type": "stream",
          "name": "stdout",
          "text": [
            "Function to double the value\n"
          ]
        }
      ]
    },
    {
      "cell_type": "code",
      "source": [
        "website = \"kopo.ac.kr\"\n",
        "print(website)\n",
        "website = \"naver.com\"\n",
        "print(website)\n",
        "website = 1\n",
        "print(website)"
      ],
      "metadata": {
        "colab": {
          "base_uri": "https://localhost:8080/"
        },
        "id": "avdjlu4YkMOJ",
        "outputId": "d4e5c3da-6266-448d-e173-3ae1474c80d3"
      },
      "execution_count": 6,
      "outputs": [
        {
          "output_type": "stream",
          "name": "stdout",
          "text": [
            "kopo.ac.kr\n",
            "naver.com\n",
            "1\n"
          ]
        }
      ]
    },
    {
      "cell_type": "code",
      "source": [
        "a, b, c = 10, 5.2 , \"kopo\"\n",
        "print(a)\n",
        "print(b)\n",
        "print(c)"
      ],
      "metadata": {
        "id": "AL-cUvN_k2NZ"
      },
      "execution_count": null,
      "outputs": []
    },
    {
      "cell_type": "code",
      "source": [
        "a = b = c = \"kopo\"\n",
        "print(a)\n",
        "print(b)\n",
        "print(c)\n",
        "a = \"Happy\"\n",
        "print(a)\n",
        "print(b)\n",
        "print(c)"
      ],
      "metadata": {
        "colab": {
          "base_uri": "https://localhost:8080/"
        },
        "id": "2erBmSLFlD9M",
        "outputId": "b26a238e-4ded-421e-ea3f-2fd7cee38db9"
      },
      "execution_count": 7,
      "outputs": [
        {
          "output_type": "stream",
          "name": "stdout",
          "text": [
            "kopo\n",
            "kopo\n",
            "kopo\n",
            "Happy\n",
            "kopo\n",
            "kopo\n"
          ]
        }
      ]
    }
  ]
}