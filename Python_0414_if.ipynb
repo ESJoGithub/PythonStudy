{
  "nbformat": 4,
  "nbformat_minor": 0,
  "metadata": {
    "colab": {
      "name": "Python_0414_if.ipynb",
      "provenance": [],
      "collapsed_sections": [],
      "authorship_tag": "ABX9TyM7wMJMgX6NGOtvMek2SErG",
      "include_colab_link": true
    },
    "kernelspec": {
      "name": "python3",
      "display_name": "Python 3"
    },
    "language_info": {
      "name": "python"
    }
  },
  "cells": [
    {
      "cell_type": "markdown",
      "metadata": {
        "id": "view-in-github",
        "colab_type": "text"
      },
      "source": [
        "<a href=\"https://colab.research.google.com/github/ESJoGithub/PythonStudy/blob/main/Python_0414_if.ipynb\" target=\"_parent\"><img src=\"https://colab.research.google.com/assets/colab-badge.svg\" alt=\"Open In Colab\"/></a>"
      ]
    },
    {
      "cell_type": "markdown",
      "source": [
        "if 문을 활용하여 2나 3의 배수인지 여부 판별하기"
      ],
      "metadata": {
        "id": "bt9ZMV69twLh"
      }
    },
    {
      "cell_type": "code",
      "execution_count": 17,
      "metadata": {
        "colab": {
          "base_uri": "https://localhost:8080/"
        },
        "id": "ZWDJEZmpiWPp",
        "outputId": "9fc0e66a-0c50-4750-d422-3796f78ffbfc"
      },
      "outputs": [
        {
          "output_type": "stream",
          "name": "stdout",
          "text": [
            "2나 3의 배수가 아닙니다\n",
            "2의 배수입니다\n",
            "3의 배수입니다\n",
            "2의 배수입니다\n",
            "2나 3의 배수가 아닙니다\n",
            "2와 3의 공배수입니다\n",
            "2나 3의 배수가 아닙니다\n",
            "2의 배수입니다\n",
            "3의 배수입니다\n",
            "2의 배수입니다\n"
          ]
        }
      ],
      "source": [
        "a = [1, 2, 3, 4, 5, 6, 7, 8, 9, 10]\n",
        "\n",
        "# 0: 2 또는 3의 배수가 아님\n",
        "# 1: 2의 배수\n",
        "# 2: 3의 배수\n",
        "# 3: 6의 배수\n",
        "\n",
        "def check(num):\n",
        "  if num%2 == 0 :\n",
        "    if num%3 == 0:\n",
        "      return 3\n",
        "    else:\n",
        "      return 1   \n",
        "  elif num%3 == 0:\n",
        "    return 2\n",
        "  else :\n",
        "    return 0\n",
        "\n",
        "def checkprint(num):\n",
        "  if num == 1:\n",
        "    print(\"2의 배수입니다\")\n",
        "  elif num == 2:\n",
        "    print(\"3의 배수입니다\")\n",
        "  elif num == 3:\n",
        "    print(\"2와 3의 공배수입니다\")\n",
        "  else:\n",
        "    print(\"2나 3의 배수가 아닙니다\")\n",
        "\n",
        "checkprint(check(a[0]))\n",
        "checkprint(check(a[1]))\n",
        "checkprint(check(a[2]))\n",
        "checkprint(check(a[3]))\n",
        "checkprint(check(a[4]))\n",
        "checkprint(check(a[5]))\n",
        "checkprint(check(a[6]))\n",
        "checkprint(check(a[7]))\n",
        "checkprint(check(a[8]))\n",
        "checkprint(check(a[9]))"
      ]
    },
    {
      "cell_type": "code",
      "source": [
        "a = [1, 2, 3, 4, 5, 6, 7, 8, 9, 10]\n",
        "\n",
        "def check(num):\n",
        "  if num%2 == 0 :\n",
        "    if num%3 == 0:\n",
        "     print(\"2와 3의 공배수입니다.\")\n",
        "    else:\n",
        "     print(\"2의 배수입니다.\")\n",
        "  elif num%3 == 0:\n",
        "    print(\"3의 배수입니다.\")\n",
        "  else :\n",
        "    print(\"2나 3의 배수가 아닙니다.\")\n",
        "\n",
        "check(a[0])\n",
        "check(a[1])\n",
        "check(a[2])\n",
        "check(a[3])\n",
        "check(a[4])\n",
        "check(a[5])\n",
        "check(a[6])\n",
        "check(a[7])\n",
        "check(a[8])\n",
        "check(a[9])"
      ],
      "metadata": {
        "colab": {
          "base_uri": "https://localhost:8080/"
        },
        "id": "9d5hIbHGvyFx",
        "outputId": "2a6ca86f-6f0e-43f1-c6ce-da38c41cb680"
      },
      "execution_count": 24,
      "outputs": [
        {
          "output_type": "stream",
          "name": "stdout",
          "text": [
            "2나 3의 배수가 아닙니다.\n",
            "2의 배수입니다.\n",
            "3의 배수입니다.\n",
            "2의 배수입니다.\n",
            "2나 3의 배수가 아닙니다.\n",
            "2와 3의 공배수입니다.\n",
            "2나 3의 배수가 아닙니다.\n",
            "2의 배수입니다.\n",
            "3의 배수입니다.\n",
            "2의 배수입니다.\n"
          ]
        }
      ]
    },
    {
      "cell_type": "markdown",
      "source": [
        "2나 3의 배수만 출력하기"
      ],
      "metadata": {
        "id": "gv5AYnGit4bY"
      }
    },
    {
      "cell_type": "code",
      "source": [
        "a = [1, 2, 3, 4, 5, 6, 7, 8, 9, 10]\n",
        "temp = 0\n",
        "# 0: 2 또는 3의 배수가 아님\n",
        "# 1: 2의 배수\n",
        "# 2: 3의 배수\n",
        "# 3: 6의 배수\n",
        "\n",
        "def check(num):\n",
        "  if num%2 == 0 :\n",
        "    if num%3 == 0:\n",
        "      return 3\n",
        "    else:\n",
        "      return 1   \n",
        "  elif num%3 == 0:\n",
        "    return 2\n",
        "  else :\n",
        "    return 0\n",
        "\n",
        "def checkprint(num):\n",
        "  temp = num-1\n",
        "  check(num)\n",
        "  if check(num) == 0:\n",
        "     a[temp] = ''\n",
        "# 리스트에서 없애는 방법이 없을까? a.remove(temp)는 에러난다....왜지?;;;\n",
        "\n",
        "checkprint(a[0])\n",
        "checkprint(a[1])\n",
        "checkprint(a[2])\n",
        "checkprint(a[3])\n",
        "checkprint(a[4])\n",
        "checkprint(a[5])\n",
        "checkprint(a[6])\n",
        "checkprint(a[7])\n",
        "checkprint(a[8])\n",
        "checkprint(a[9])\n",
        "\n",
        "print(a)"
      ],
      "metadata": {
        "colab": {
          "base_uri": "https://localhost:8080/"
        },
        "id": "gVnj0hCeovxA",
        "outputId": "e75dce38-5d43-4fcb-d3db-d1d57733a69a"
      },
      "execution_count": 25,
      "outputs": [
        {
          "output_type": "stream",
          "name": "stdout",
          "text": [
            "['', 2, 3, 4, '', 6, '', 8, 9, 10]\n"
          ]
        }
      ]
    },
    {
      "cell_type": "markdown",
      "source": [
        "if 예제"
      ],
      "metadata": {
        "id": "Vol7ZLUx5RHl"
      }
    },
    {
      "cell_type": "code",
      "source": [
        "num = 3\n",
        "if num > 0 :\n",
        "  print(num, \"is a positive number.\")\n",
        "print(\"This is always printed.\")\n",
        "\n",
        "num = -1\n",
        "if num > 0 :\n",
        "  print(num, \"is a positive number.\")\n",
        "print(\"This is always printed.\")"
      ],
      "metadata": {
        "colab": {
          "base_uri": "https://localhost:8080/"
        },
        "id": "959Ofr6s5QS9",
        "outputId": "dfcdda9d-0b55-41fc-9dfc-9c12537d0df3"
      },
      "execution_count": 26,
      "outputs": [
        {
          "output_type": "stream",
          "name": "stdout",
          "text": [
            "3 is a positive number.\n",
            "This is always printed.\n",
            "This is always printed.\n"
          ]
        }
      ]
    },
    {
      "cell_type": "code",
      "source": [
        "num = 3\n",
        "if num >= 0 :\n",
        "  print(\"Positive or Zero\")\n",
        "else :\n",
        "  print(\"Negative number\")"
      ],
      "metadata": {
        "colab": {
          "base_uri": "https://localhost:8080/"
        },
        "id": "8Z2NyAuj5soW",
        "outputId": "cde94e22-a5c8-4ec6-9a5c-8f5895ad56aa"
      },
      "execution_count": 28,
      "outputs": [
        {
          "output_type": "stream",
          "name": "stdout",
          "text": [
            "Positive or Zero\n"
          ]
        }
      ]
    },
    {
      "cell_type": "code",
      "source": [
        "num = 3.4\n",
        "\n",
        "if num > 0 :\n",
        "  print(\"Positive number\")\n",
        "elif num == 0 :\n",
        "  print(\"Zero\")\n",
        "else :\n",
        "  print(\"Negative number\")"
      ],
      "metadata": {
        "colab": {
          "base_uri": "https://localhost:8080/"
        },
        "id": "ufHNewid57kV",
        "outputId": "c6421aef-2a5a-49fd-e91a-812ea2e51aa4"
      },
      "execution_count": 27,
      "outputs": [
        {
          "output_type": "stream",
          "name": "stdout",
          "text": [
            "Positive number\n"
          ]
        }
      ]
    },
    {
      "cell_type": "code",
      "source": [
        "num = float(input(\"Enter a number: \"))\n",
        "if num >= 0 :\n",
        "  if num == 0 :\n",
        "    print(\"zero\")\n",
        "  else :\n",
        "    print(\"Positive number\")\n",
        "else :\n",
        "  print(\"Negative number\")"
      ],
      "metadata": {
        "id": "GTEO6WQf6RDd"
      },
      "execution_count": null,
      "outputs": []
    }
  ]
}