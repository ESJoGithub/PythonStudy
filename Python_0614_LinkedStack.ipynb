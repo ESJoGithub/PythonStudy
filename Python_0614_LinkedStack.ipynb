{
  "nbformat": 4,
  "nbformat_minor": 0,
  "metadata": {
    "colab": {
      "name": "Python_0614_LinkedStack.ipynb",
      "provenance": [],
      "collapsed_sections": [],
      "authorship_tag": "ABX9TyOhbclwp4iFLk/aT/33jH5g",
      "include_colab_link": true
    },
    "kernelspec": {
      "name": "python3",
      "display_name": "Python 3"
    },
    "language_info": {
      "name": "python"
    }
  },
  "cells": [
    {
      "cell_type": "markdown",
      "metadata": {
        "id": "view-in-github",
        "colab_type": "text"
      },
      "source": [
        "<a href=\"https://colab.research.google.com/github/ESJoGithub/PythonStudy/blob/main/Python_0614_LinkedStack.ipynb\" target=\"_parent\"><img src=\"https://colab.research.google.com/assets/colab-badge.svg\" alt=\"Open In Colab\"/></a>"
      ]
    },
    {
      "cell_type": "markdown",
      "source": [
        "###연결된 스택(linked stack)을 파이썬 Node class로 구현해보기"
      ],
      "metadata": {
        "id": "TmYhe16Qlvze"
      }
    },
    {
      "cell_type": "code",
      "source": [
        "class Node :\n",
        "  def __init__(self, _data=None, _link = None):\n",
        "    self.data = _data\n",
        "    self.link = _link"
      ],
      "metadata": {
        "id": "NEJHLadN9aOj"
      },
      "execution_count": 11,
      "outputs": []
    },
    {
      "cell_type": "code",
      "execution_count": 12,
      "metadata": {
        "id": "2kmf8ly63vRB"
      },
      "outputs": [],
      "source": [
        "class LStackADT :\n",
        "  def __init__(self):\n",
        "    self.top = None\n",
        "\n",
        "  def stack(self):\n",
        "    self.top = Node()\n",
        "  \n",
        "  def isEmpty(self):\n",
        "    if self.top == None:\n",
        "      print(\"스택이 비어있습니다.\")\n",
        "      return True\n",
        "    else:\n",
        "      print(\"스택이 비어있지 않습니다.\")\n",
        "      return False\n",
        "  \n",
        "  def push(self, e):\n",
        "    n = Node(e, self.top)\n",
        "    self.top = n\n",
        "  \n",
        "  def pop(self):\n",
        "    if not self.isEmpty():\n",
        "      n = self.top\n",
        "      _item = n.data\n",
        "      self.top = n.link\n",
        "      print(\"{}을/를 스택에서 삭제하였습니다.\".format(_item))\n",
        "      return _item\n",
        "    else:\n",
        "      print(\"스택이 비어있습니다.\")\n",
        "\n",
        "  def peek(self):\n",
        "    if not self.isEmpty():\n",
        "      _item = self.top.data\n",
        "      print(\"스택의 맨 위 항목은 {}입니다.\".format(_item))\n",
        "      return _item\n",
        "    else:\n",
        "      print(\"스택이 비어있습니다.\")\n",
        "  \n",
        "  def size(self):\n",
        "    count = 0\n",
        "    n = self.top\n",
        "    while n != None :\n",
        "      n = n.link\n",
        "      count += 1\n",
        "    print(\"스택의 항목 수는 총 {}개 입니다.\".format(count))\n",
        "    return count\n",
        "\n",
        "  def clear(self):\n",
        "    self.top = None"
      ]
    },
    {
      "cell_type": "code",
      "source": [
        "test = LStackADT()\n",
        "test.push(10)\n",
        "test.push(5)\n",
        "test.push(20)"
      ],
      "metadata": {
        "id": "B_vJvEKPDxOo"
      },
      "execution_count": 13,
      "outputs": []
    },
    {
      "cell_type": "code",
      "source": [
        "test.pop()"
      ],
      "metadata": {
        "colab": {
          "base_uri": "https://localhost:8080/"
        },
        "id": "ibcnhwsFHghI",
        "outputId": "7191e84f-28fa-4747-f14f-6995dc30f49e"
      },
      "execution_count": 14,
      "outputs": [
        {
          "output_type": "stream",
          "name": "stdout",
          "text": [
            "스택이 비어있지 않습니다.\n",
            "20을/를 스택에서 삭제하였습니다.\n"
          ]
        },
        {
          "output_type": "execute_result",
          "data": {
            "text/plain": [
              "20"
            ]
          },
          "metadata": {},
          "execution_count": 14
        }
      ]
    },
    {
      "cell_type": "code",
      "source": [
        "test.peek()"
      ],
      "metadata": {
        "colab": {
          "base_uri": "https://localhost:8080/"
        },
        "id": "ILaLBNSTHpN3",
        "outputId": "5bdf0dea-847c-4c61-a9c5-cf5b1033c37c"
      },
      "execution_count": 15,
      "outputs": [
        {
          "output_type": "stream",
          "name": "stdout",
          "text": [
            "스택이 비어있지 않습니다.\n",
            "스택의 맨 위 항목은 5입니다.\n"
          ]
        },
        {
          "output_type": "execute_result",
          "data": {
            "text/plain": [
              "5"
            ]
          },
          "metadata": {},
          "execution_count": 15
        }
      ]
    },
    {
      "cell_type": "code",
      "source": [
        "test.size()"
      ],
      "metadata": {
        "colab": {
          "base_uri": "https://localhost:8080/"
        },
        "id": "Qfb3IqZzH133",
        "outputId": "87e802c0-0a0f-4b6d-a16d-249a45c3f543"
      },
      "execution_count": 16,
      "outputs": [
        {
          "output_type": "stream",
          "name": "stdout",
          "text": [
            "스택의 항목 수는 총 2개 입니다.\n"
          ]
        },
        {
          "output_type": "execute_result",
          "data": {
            "text/plain": [
              "2"
            ]
          },
          "metadata": {},
          "execution_count": 16
        }
      ]
    }
  ]
}