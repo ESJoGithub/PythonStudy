{
  "nbformat": 4,
  "nbformat_minor": 0,
  "metadata": {
    "colab": {
      "name": "list, tuple, dictionary, set",
      "provenance": [],
      "collapsed_sections": [
        "y8NEd0HQbu5Y",
        "t5eDsgklb-SL",
        "5P75dPBvcFHE",
        "zl9IHjBqcOd7",
        "g3pkAMu9cRtj",
        "OeEarr0hcYST",
        "F_Qd6teXchQM",
        "sZhVIjfrc2Dk",
        "7dK6Iaurc9Za",
        "J4BOsRiidDrb",
        "v7zvIhqldd9T",
        "W6wCcAMTfS6r",
        "Z3y9GZqGfVX6",
        "1pyQiSf5iGOi",
        "uegGAizzjOiK",
        "rzit2kwrquaH",
        "adC1o0elJlTL",
        "531l7L2-OmL9",
        "5C4ohdV-OvY7",
        "keyYZl5gOy5L",
        "xcdH_zKjPC87"
      ],
      "authorship_tag": "ABX9TyPKGqIBDdF2nXfqA3i3THEA",
      "include_colab_link": true
    },
    "kernelspec": {
      "name": "python3",
      "display_name": "Python 3"
    },
    "language_info": {
      "name": "python"
    }
  },
  "cells": [
    {
      "cell_type": "markdown",
      "metadata": {
        "id": "view-in-github",
        "colab_type": "text"
      },
      "source": [
        "<a href=\"https://colab.research.google.com/github/ESJoGithub/PythonStudy/blob/main/list%2C_tuple%2C_dictionary%2C_set.ipynb\" target=\"_parent\"><img src=\"https://colab.research.google.com/assets/colab-badge.svg\" alt=\"Open In Colab\"/></a>"
      ]
    },
    {
      "cell_type": "markdown",
      "source": [
        "#list, tuple, set, dictionary 내장함수 사용하기 예제"
      ],
      "metadata": {
        "id": "lSrqIyhbLCDf"
      }
    },
    {
      "cell_type": "markdown",
      "source": [
        "\n",
        "\n",
        "##1.  list\n"
      ],
      "metadata": {
        "id": "iad29yub9-3E"
      }
    },
    {
      "cell_type": "code",
      "source": [
        "testlist0 = []\n",
        "testlist1 = [0]\n",
        "testlist2 = [False]\n",
        "testlist3 = [0, 10, 20, 30, 40, 50]\n",
        "testlist4 = ['가', '나', '다']\n",
        "testlist5 = [10, 20, 30, 40, 50, '가', '나', '다']"
      ],
      "metadata": {
        "id": "3JGC9qvb7kM7"
      },
      "execution_count": 940,
      "outputs": []
    },
    {
      "cell_type": "markdown",
      "source": [
        "###**아이템 추가**"
      ],
      "metadata": {
        "id": "y8NEd0HQbu5Y"
      }
    },
    {
      "cell_type": "markdown",
      "source": [
        "#### append(x)\n",
        "* 리스트 맨 뒤에 아이템을 하나씩 추가\n",
        "* 추가하는 아이템은 list, tuple, set, dict여도 상관 없음."
      ],
      "metadata": {
        "id": "GdM3EFx9L_rD"
      }
    },
    {
      "cell_type": "code",
      "source": [
        "testlist3.append(60)\n",
        "testlist3"
      ],
      "metadata": {
        "colab": {
          "base_uri": "https://localhost:8080/"
        },
        "outputId": "a55983b1-51d9-4a9f-8ebb-05403e9d9583",
        "id": "asRbDKFGL_rD"
      },
      "execution_count": 941,
      "outputs": [
        {
          "output_type": "execute_result",
          "data": {
            "text/plain": [
              "[0, 10, 20, 30, 40, 50, 60]"
            ]
          },
          "metadata": {},
          "execution_count": 941
        }
      ]
    },
    {
      "cell_type": "markdown",
      "source": [
        "#### extend(seq)\n",
        "* 리스트 끝에 다른 리스트를 연결하여 확장\n",
        "* 리스트 말고 tuple, set, dict을 연결해도 상관 없음."
      ],
      "metadata": {
        "id": "-YU843iiBv7d"
      }
    },
    {
      "cell_type": "code",
      "source": [
        "testlist3.extend(testlist4)\n",
        "testlist3"
      ],
      "metadata": {
        "colab": {
          "base_uri": "https://localhost:8080/"
        },
        "outputId": "f966ed6c-56de-4c20-dbc4-2f3b21ac400f",
        "id": "OKxagGBKBv7d"
      },
      "execution_count": 942,
      "outputs": [
        {
          "output_type": "execute_result",
          "data": {
            "text/plain": [
              "[0, 10, 20, 30, 40, 50, 60, '가', '나', '다']"
            ]
          },
          "metadata": {},
          "execution_count": 942
        }
      ]
    },
    {
      "cell_type": "code",
      "source": [
        "testlist0.extend((0, 1, 3))\n",
        "testlist0.extend({'아', '이', '우', '에', '오'}) #set에는 순서가 없으므로 출력 시 순서가 매번 다르게 나온다.\n",
        "testlist0.extend({\"애완동물\":\"강아지\"})\n",
        "testlist0"
      ],
      "metadata": {
        "colab": {
          "base_uri": "https://localhost:8080/"
        },
        "id": "JULDXD0DCGtV",
        "outputId": "c1be94e7-b22a-4950-d3f1-76851c601f0e"
      },
      "execution_count": 943,
      "outputs": [
        {
          "output_type": "execute_result",
          "data": {
            "text/plain": [
              "[0, 1, 3, '아', '오', '에', '우', '이', '애완동물']"
            ]
          },
          "metadata": {},
          "execution_count": 943
        }
      ]
    },
    {
      "cell_type": "code",
      "source": [
        "testlist5.extend((40, 50, 60))\n",
        "testlist5"
      ],
      "metadata": {
        "colab": {
          "base_uri": "https://localhost:8080/"
        },
        "id": "Vbf---qYGMMR",
        "outputId": "989df0b9-2631-49e9-d391-c284386f5124"
      },
      "execution_count": 944,
      "outputs": [
        {
          "output_type": "execute_result",
          "data": {
            "text/plain": [
              "[10, 20, 30, 40, 50, '가', '나', '다', 40, 50, 60]"
            ]
          },
          "metadata": {},
          "execution_count": 944
        }
      ]
    },
    {
      "cell_type": "markdown",
      "source": [
        "#### insert(index, x)\n",
        "* 특정 인덱스에 새로운 아이템을 삽입"
      ],
      "metadata": {
        "id": "FH8s_IKmC5xT"
      }
    },
    {
      "cell_type": "code",
      "source": [
        "testlist5.insert(5, 50)\n",
        "testlist5"
      ],
      "metadata": {
        "colab": {
          "base_uri": "https://localhost:8080/"
        },
        "outputId": "b1f5bcfe-4428-4e9f-9a5e-22d1e3439867",
        "id": "l9UoerVHC5xT"
      },
      "execution_count": 945,
      "outputs": [
        {
          "output_type": "execute_result",
          "data": {
            "text/plain": [
              "[10, 20, 30, 40, 50, 50, '가', '나', '다', 40, 50, 60]"
            ]
          },
          "metadata": {},
          "execution_count": 945
        }
      ]
    },
    {
      "cell_type": "code",
      "source": [
        "testlist0.insert(0, [1, 2, 3])\n",
        "testlist0"
      ],
      "metadata": {
        "colab": {
          "base_uri": "https://localhost:8080/"
        },
        "outputId": "894d53a8-52b3-44c7-b763-cc11d9b16420",
        "id": "Xj-kfkVbC5xT"
      },
      "execution_count": 946,
      "outputs": [
        {
          "output_type": "execute_result",
          "data": {
            "text/plain": [
              "[[1, 2, 3], 0, 1, 3, '아', '오', '에', '우', '이', '애완동물']"
            ]
          },
          "metadata": {},
          "execution_count": 946
        }
      ]
    },
    {
      "cell_type": "markdown",
      "source": [
        "###**아이템 삭제**"
      ],
      "metadata": {
        "id": "t5eDsgklb-SL"
      }
    },
    {
      "cell_type": "markdown",
      "source": [
        "#### remove(value)\n",
        "* 특정한 값을 찾아서 삭제\n",
        "* 리스트 안에 여러 값이 있을 때는 처음 찾은 값만 삭제함"
      ],
      "metadata": {
        "id": "CRLSuQ6eD5CL"
      }
    },
    {
      "cell_type": "code",
      "source": [
        "testlist5.remove(10)\n",
        "testlist5"
      ],
      "metadata": {
        "colab": {
          "base_uri": "https://localhost:8080/"
        },
        "outputId": "096936d2-ff65-4398-dbc0-a2ebbabac9b8",
        "id": "U1P4H7LJD5CL"
      },
      "execution_count": 947,
      "outputs": [
        {
          "output_type": "execute_result",
          "data": {
            "text/plain": [
              "[20, 30, 40, 50, 50, '가', '나', '다', 40, 50, 60]"
            ]
          },
          "metadata": {},
          "execution_count": 947
        }
      ]
    },
    {
      "cell_type": "code",
      "source": [
        "testlist0.remove(0)\n",
        "testlist0"
      ],
      "metadata": {
        "colab": {
          "base_uri": "https://localhost:8080/"
        },
        "outputId": "5bdcf175-1fd9-4d5c-8251-63a15c78d9e3",
        "id": "F6SN6qh5D5CM"
      },
      "execution_count": 948,
      "outputs": [
        {
          "output_type": "execute_result",
          "data": {
            "text/plain": [
              "[[1, 2, 3], 1, 3, '아', '오', '에', '우', '이', '애완동물']"
            ]
          },
          "metadata": {},
          "execution_count": 948
        }
      ]
    },
    {
      "cell_type": "markdown",
      "source": [
        "#### pop() / pop(index)\n",
        "* 리스트의 마지막 아이템을 삭제한 후 삭제한 아이템을 반환\n",
        "* pop(index)는 인덱스의 아이템을 삭제한 후 삭제한 아이템을 반환"
      ],
      "metadata": {
        "id": "EG11p_xlEus7"
      }
    },
    {
      "cell_type": "code",
      "source": [
        "print(testlist0.pop())\n",
        "print(testlist0)"
      ],
      "metadata": {
        "colab": {
          "base_uri": "https://localhost:8080/"
        },
        "outputId": "f651c569-be81-4f67-d71d-56bbf1ea12ab",
        "id": "Cjvk3NgPEus8"
      },
      "execution_count": 949,
      "outputs": [
        {
          "output_type": "stream",
          "name": "stdout",
          "text": [
            "애완동물\n",
            "[[1, 2, 3], 1, 3, '아', '오', '에', '우', '이']\n"
          ]
        }
      ]
    },
    {
      "cell_type": "code",
      "source": [
        "print(testlist0.pop(0))\n",
        "print(testlist0)"
      ],
      "metadata": {
        "colab": {
          "base_uri": "https://localhost:8080/"
        },
        "outputId": "641f4813-7c93-4413-f601-472a605e0e75",
        "id": "U8HQkV_fEus8"
      },
      "execution_count": 950,
      "outputs": [
        {
          "output_type": "stream",
          "name": "stdout",
          "text": [
            "[1, 2, 3]\n",
            "[1, 3, '아', '오', '에', '우', '이']\n"
          ]
        }
      ]
    },
    {
      "cell_type": "markdown",
      "source": [
        "#### clear()\n",
        "* 리스트의 모든 아이템 삭제하기"
      ],
      "metadata": {
        "id": "HSx8WwfNFrxq"
      }
    },
    {
      "cell_type": "code",
      "source": [
        "testlist0.clear()\n",
        "testlist0"
      ],
      "metadata": {
        "colab": {
          "base_uri": "https://localhost:8080/"
        },
        "outputId": "40575561-df84-4dcd-feb2-cbed42be1a31",
        "id": "0Mna6tqAFrxr"
      },
      "execution_count": 951,
      "outputs": [
        {
          "output_type": "execute_result",
          "data": {
            "text/plain": [
              "[]"
            ]
          },
          "metadata": {},
          "execution_count": 951
        }
      ]
    },
    {
      "cell_type": "markdown",
      "source": [
        "#### del listName[x:y]\n",
        "* 인덱스 x부터 인덱스 y-1까지 아이템 삭제하기"
      ],
      "metadata": {
        "id": "N2GKFbaNIjPC"
      }
    },
    {
      "cell_type": "code",
      "source": [
        "print(testlist3)\n",
        "del testlist3[7:]\n",
        "print(testlist3)"
      ],
      "metadata": {
        "colab": {
          "base_uri": "https://localhost:8080/"
        },
        "outputId": "d00a7938-1cd2-4263-ab35-1457f4fcd6eb",
        "id": "JqcdKzqzIjPC"
      },
      "execution_count": 952,
      "outputs": [
        {
          "output_type": "stream",
          "name": "stdout",
          "text": [
            "[0, 10, 20, 30, 40, 50, 60, '가', '나', '다']\n",
            "[0, 10, 20, 30, 40, 50, 60]\n"
          ]
        }
      ]
    },
    {
      "cell_type": "markdown",
      "source": [
        "###**아이템 찾기**"
      ],
      "metadata": {
        "id": "5P75dPBvcFHE"
      }
    },
    {
      "cell_type": "markdown",
      "source": [
        "#### index(value)\n",
        "* 리스트에서 특정 값의 인덱스 구하기\n",
        "\n",
        "* 같은 값이 여러 개일 경우 처음 인덱스 반환"
      ],
      "metadata": {
        "id": "FRezzPN9GhPq"
      }
    },
    {
      "cell_type": "code",
      "source": [
        "print(testlist5)\n",
        "testlist5.index(50)"
      ],
      "metadata": {
        "colab": {
          "base_uri": "https://localhost:8080/"
        },
        "outputId": "a5a791fc-623e-4641-b82e-f62031a5f812",
        "id": "cRDR8bWDGhPq"
      },
      "execution_count": 953,
      "outputs": [
        {
          "output_type": "stream",
          "name": "stdout",
          "text": [
            "[20, 30, 40, 50, 50, '가', '나', '다', 40, 50, 60]\n"
          ]
        },
        {
          "output_type": "execute_result",
          "data": {
            "text/plain": [
              "3"
            ]
          },
          "metadata": {},
          "execution_count": 953
        }
      ]
    },
    {
      "cell_type": "markdown",
      "source": [
        "#### count(value)\n",
        "* 특정 값의 개수 구하기"
      ],
      "metadata": {
        "id": "gGor8qnbG8Ma"
      }
    },
    {
      "cell_type": "code",
      "source": [
        "testlist5.count(50)"
      ],
      "metadata": {
        "colab": {
          "base_uri": "https://localhost:8080/"
        },
        "outputId": "fb8341bf-5643-4c0a-9072-cac14e0138d9",
        "id": "J--nxXT0G8Ma"
      },
      "execution_count": 954,
      "outputs": [
        {
          "output_type": "execute_result",
          "data": {
            "text/plain": [
              "3"
            ]
          },
          "metadata": {},
          "execution_count": 954
        }
      ]
    },
    {
      "cell_type": "markdown",
      "source": [
        "###**아이템 순서**"
      ],
      "metadata": {
        "id": "zl9IHjBqcOd7"
      }
    },
    {
      "cell_type": "markdown",
      "source": [
        "#### reverse()\n",
        "* 리스트의 아이템 순서 뒤집기"
      ],
      "metadata": {
        "id": "fPPa2w7OHNFR"
      }
    },
    {
      "cell_type": "code",
      "source": [
        "print(testlist5)\n",
        "testlist5.reverse()\n",
        "print(testlist5)"
      ],
      "metadata": {
        "colab": {
          "base_uri": "https://localhost:8080/"
        },
        "outputId": "2968b5b7-a4e6-47f6-f0a8-7eed7a8773ca",
        "id": "h3KdXMfrHWFJ"
      },
      "execution_count": 955,
      "outputs": [
        {
          "output_type": "stream",
          "name": "stdout",
          "text": [
            "[20, 30, 40, 50, 50, '가', '나', '다', 40, 50, 60]\n",
            "[60, 50, 40, '다', '나', '가', 50, 50, 40, 30, 20]\n"
          ]
        }
      ]
    },
    {
      "cell_type": "markdown",
      "source": [
        "#### sort() / sort(reverst=False) // sort(revers=True)\n",
        "* sort()/sort(reverse=False): 리스트의 아이템 오름차순으로 정렬\n",
        "\n",
        "* sort(reverse=True): 리스트의 아이템 내림차순으로 정렬\n",
        "\n",
        "* **단, reverse()와 달리 아이템의 유형이 모두 동일할 때만 동작한다.**"
      ],
      "metadata": {
        "id": "yXl19zEBHkt6"
      }
    },
    {
      "cell_type": "code",
      "source": [
        "testlist3.sort()\n",
        "print(testlist3)"
      ],
      "metadata": {
        "colab": {
          "base_uri": "https://localhost:8080/"
        },
        "outputId": "d013951d-b446-4a23-fdb4-da047bd5325f",
        "id": "eCa9ZKayHkt6"
      },
      "execution_count": 956,
      "outputs": [
        {
          "output_type": "stream",
          "name": "stdout",
          "text": [
            "[0, 10, 20, 30, 40, 50, 60]\n"
          ]
        }
      ]
    },
    {
      "cell_type": "code",
      "source": [
        "print(testlist4)\n",
        "testlist4.sort(reverse=True)\n",
        "print(testlist4)"
      ],
      "metadata": {
        "colab": {
          "base_uri": "https://localhost:8080/"
        },
        "id": "Fu-R1Tx7J_uT",
        "outputId": "783cfa4e-8b4b-4204-bb11-ef0279f085e0"
      },
      "execution_count": 957,
      "outputs": [
        {
          "output_type": "stream",
          "name": "stdout",
          "text": [
            "['가', '나', '다']\n",
            "['다', '나', '가']\n"
          ]
        }
      ]
    },
    {
      "cell_type": "markdown",
      "source": [
        "###**아이템 복사**"
      ],
      "metadata": {
        "id": "g3pkAMu9cRtj"
      }
    },
    {
      "cell_type": "markdown",
      "source": [
        "#### copy()\n",
        "* 리스트를 복사함\n",
        "\n",
        "* 리스트 a와 리스트 b가 있을 때 b = a하면 a값이 변경될 때 b값도 변하지만,\n",
        "\n",
        "* b = a.copy() 하면 각자 다를 객체로 생성되어 a값이 변해도 b값이 변하지 않는다."
      ],
      "metadata": {
        "id": "qHiYyZNKK5iR"
      }
    },
    {
      "cell_type": "code",
      "source": [
        "print(\"---testist4 = testlist3---\")\n",
        "testlist4 = testlist3\n",
        "print(testlist3)\n",
        "print(testlist4)\n",
        "\n",
        "print(\"---testlist4.insert(0,100)---\")\n",
        "testlist4.insert(0, 100)\n",
        "print(testlist3)\n",
        "print(testlist4)"
      ],
      "metadata": {
        "colab": {
          "base_uri": "https://localhost:8080/"
        },
        "outputId": "7c6a727d-c8de-4cad-aca2-614e16aafe23",
        "id": "iIrjdaMRK5iS"
      },
      "execution_count": 958,
      "outputs": [
        {
          "output_type": "stream",
          "name": "stdout",
          "text": [
            "---testist4 = testlist3---\n",
            "[0, 10, 20, 30, 40, 50, 60]\n",
            "[0, 10, 20, 30, 40, 50, 60]\n",
            "---testlist4.insert(0,100)---\n",
            "[100, 0, 10, 20, 30, 40, 50, 60]\n",
            "[100, 0, 10, 20, 30, 40, 50, 60]\n"
          ]
        }
      ]
    },
    {
      "cell_type": "code",
      "source": [
        "print(testlist0)\n",
        "print(\"---testist0 = testlist3.copy()---\")\n",
        "testlist0 = testlist3.copy()\n",
        "print(testlist3)\n",
        "print(testlist0)\n",
        "\n",
        "print(\"---testlist0.clear()---\")\n",
        "testlist0.clear()\n",
        "print(testlist3)\n",
        "print(testlist0)"
      ],
      "metadata": {
        "colab": {
          "base_uri": "https://localhost:8080/"
        },
        "id": "nhxzTld5MuR2",
        "outputId": "a131fed9-c641-4934-8748-6d9c9e4704ce"
      },
      "execution_count": 959,
      "outputs": [
        {
          "output_type": "stream",
          "name": "stdout",
          "text": [
            "[]\n",
            "---testist0 = testlist3.copy()---\n",
            "[100, 0, 10, 20, 30, 40, 50, 60]\n",
            "[100, 0, 10, 20, 30, 40, 50, 60]\n",
            "---testlist0.clear()---\n",
            "[100, 0, 10, 20, 30, 40, 50, 60]\n",
            "[]\n"
          ]
        }
      ]
    },
    {
      "cell_type": "markdown",
      "source": [
        "\n",
        "\n",
        "##2.  tuple\n"
      ],
      "metadata": {
        "id": "m67sV6rdNo05"
      }
    },
    {
      "cell_type": "markdown",
      "source": [
        "튜플은 값을 변경할 수 없으므로 함수 사용이 제한적"
      ],
      "metadata": {
        "id": "Oe3-E0h5OEUX"
      }
    },
    {
      "cell_type": "code",
      "source": [
        "testtuple0 = (10, 20, 20, 20, 20, '가', '나', '나')\n",
        "testtuple1 = (10, 20, 20, 20, 20)"
      ],
      "metadata": {
        "id": "tzBw2k-CNo07"
      },
      "execution_count": 960,
      "outputs": []
    },
    {
      "cell_type": "markdown",
      "source": [
        "###**아이템 찾기**"
      ],
      "metadata": {
        "id": "OeEarr0hcYST"
      }
    },
    {
      "cell_type": "markdown",
      "source": [
        "#### index(value)\n",
        "* 튜플에서 특정 값의 인덱스 구하기\n",
        "\n",
        "* 같은 값이 여러 개일 경우 처음 인덱스 반환"
      ],
      "metadata": {
        "id": "ctX7R89lN_EQ"
      }
    },
    {
      "cell_type": "code",
      "source": [
        "testtuple0.index(10)"
      ],
      "metadata": {
        "colab": {
          "base_uri": "https://localhost:8080/"
        },
        "outputId": "f26820a7-a2ff-4ba4-bb3a-f54515145c24",
        "id": "MLEv-Lr1N_ER"
      },
      "execution_count": 961,
      "outputs": [
        {
          "output_type": "execute_result",
          "data": {
            "text/plain": [
              "0"
            ]
          },
          "metadata": {},
          "execution_count": 961
        }
      ]
    },
    {
      "cell_type": "code",
      "source": [
        "testtuple0.index('가')"
      ],
      "metadata": {
        "colab": {
          "base_uri": "https://localhost:8080/"
        },
        "id": "v0iKnGBDOWVf",
        "outputId": "badc2adb-4e69-4a5a-cdb1-baa408303cd0"
      },
      "execution_count": 962,
      "outputs": [
        {
          "output_type": "execute_result",
          "data": {
            "text/plain": [
              "5"
            ]
          },
          "metadata": {},
          "execution_count": 962
        }
      ]
    },
    {
      "cell_type": "markdown",
      "source": [
        "#### count(value)\n",
        "* 특정 값의 개수 구하기"
      ],
      "metadata": {
        "id": "-sIvBjYqN_ER"
      }
    },
    {
      "cell_type": "code",
      "source": [
        "testtuple0.count(20)"
      ],
      "metadata": {
        "colab": {
          "base_uri": "https://localhost:8080/"
        },
        "outputId": "e7f3ccd5-e391-436a-9b5e-ce6a28d590c4",
        "id": "bvPV6uznN_ER"
      },
      "execution_count": 963,
      "outputs": [
        {
          "output_type": "execute_result",
          "data": {
            "text/plain": [
              "4"
            ]
          },
          "metadata": {},
          "execution_count": 963
        }
      ]
    },
    {
      "cell_type": "code",
      "source": [
        "testtuple0.count('나')"
      ],
      "metadata": {
        "colab": {
          "base_uri": "https://localhost:8080/"
        },
        "id": "-HTOofkCOj_0",
        "outputId": "ecb75089-f168-4b45-af9e-7e05df62aa41"
      },
      "execution_count": 964,
      "outputs": [
        {
          "output_type": "execute_result",
          "data": {
            "text/plain": [
              "2"
            ]
          },
          "metadata": {},
          "execution_count": 964
        }
      ]
    },
    {
      "cell_type": "markdown",
      "source": [
        "## 3. dictionary\n",
        "\n"
      ],
      "metadata": {
        "id": "ORxhbqtBLqOv"
      }
    },
    {
      "cell_type": "code",
      "source": [
        "testDict0 = {}\n",
        "testDict1 = {False : True}\n",
        "testDict2 = {1: 101, 3: 102, 5: 103, 8: 104, 10: 105}\n",
        "testDict3 = {1: \"강아지\", 2: \"고양이\", 3: \"토끼\", 4: \"햄스터\", 5: \"호랑이\"}\n",
        "testDict4 = {\"강아지\": \"멍멍\", \"고양이\": \"야옹\", \"호랑이\": \"어흥\", \"송아지\": \"음메\"}\n",
        "testDict5 = {1: 201, 2: 202, 3: 203, \"강아지\": \"멍멍\", \"고양이\": \"야옹\"}"
      ],
      "metadata": {
        "id": "iB2tg6OW89TW"
      },
      "execution_count": 965,
      "outputs": []
    },
    {
      "cell_type": "markdown",
      "source": [
        "###**아이템 찾기 / 추가 / 수정**"
      ],
      "metadata": {
        "id": "F_Qd6teXchQM"
      }
    },
    {
      "cell_type": "markdown",
      "source": [
        "#### get(key) / get(key, defaults)\n",
        "* 딕셔너리에서 특정한 키로 값을 검색하여 value반환\n",
        "* get(key)의 경우 딕셔너리에 해당 key가 없으면 아무 값도 반환하지 않지만, get(key,defaults)로 기본값을 지정하면 해당 key가 없을 경우 기본값을 반환함.\n",
        "\n",
        "\n",
        "\n",
        "\n",
        "\n"
      ],
      "metadata": {
        "id": "mS98Jmm0-15Z"
      }
    },
    {
      "cell_type": "code",
      "source": [
        "testDict5"
      ],
      "metadata": {
        "colab": {
          "base_uri": "https://localhost:8080/"
        },
        "id": "cV1wUS-6FcvI",
        "outputId": "f10e318b-2e49-45e6-b171-e48cd9277962"
      },
      "execution_count": 966,
      "outputs": [
        {
          "output_type": "execute_result",
          "data": {
            "text/plain": [
              "{1: 201, 2: 202, 3: 203, '강아지': '멍멍', '고양이': '야옹'}"
            ]
          },
          "metadata": {},
          "execution_count": 966
        }
      ]
    },
    {
      "cell_type": "code",
      "source": [
        "testDict5.get(\"강아지\")"
      ],
      "metadata": {
        "colab": {
          "base_uri": "https://localhost:8080/",
          "height": 35
        },
        "id": "KIZGn7DX-KPB",
        "outputId": "7f563d80-63c8-4687-a53c-22912d06c39c"
      },
      "execution_count": 967,
      "outputs": [
        {
          "output_type": "execute_result",
          "data": {
            "text/plain": [
              "'멍멍'"
            ],
            "application/vnd.google.colaboratory.intrinsic+json": {
              "type": "string"
            }
          },
          "metadata": {},
          "execution_count": 967
        }
      ]
    },
    {
      "cell_type": "code",
      "source": [
        "testDict5.get(\"송아지\")"
      ],
      "metadata": {
        "id": "HjBq9hT8-hyb"
      },
      "execution_count": 968,
      "outputs": []
    },
    {
      "cell_type": "code",
      "source": [
        "testDict5.get(\"송아지\", \"음메\")"
      ],
      "metadata": {
        "colab": {
          "base_uri": "https://localhost:8080/",
          "height": 35
        },
        "id": "4uLNy1d2-u9f",
        "outputId": "6bf208e7-a2dd-4358-e359-7fc43f204071"
      },
      "execution_count": 969,
      "outputs": [
        {
          "output_type": "execute_result",
          "data": {
            "text/plain": [
              "'음메'"
            ],
            "application/vnd.google.colaboratory.intrinsic+json": {
              "type": "string"
            }
          },
          "metadata": {},
          "execution_count": 969
        }
      ]
    },
    {
      "cell_type": "code",
      "source": [
        "testDict5"
      ],
      "metadata": {
        "colab": {
          "base_uri": "https://localhost:8080/"
        },
        "id": "UzjPNTZVFgB7",
        "outputId": "2a0d27ae-ec13-4cec-96a7-909de37c58e7"
      },
      "execution_count": 970,
      "outputs": [
        {
          "output_type": "execute_result",
          "data": {
            "text/plain": [
              "{1: 201, 2: 202, 3: 203, '강아지': '멍멍', '고양이': '야옹'}"
            ]
          },
          "metadata": {},
          "execution_count": 970
        }
      ]
    },
    {
      "cell_type": "markdown",
      "source": [
        "#### setdefault(key) / setdefault(key, defualts)\n",
        "* 딕셔너리에서 특정한 키로 값을 검색하여 value 반환\n",
        "* get(key)과의 차이점은 해당 키가 존재하지 않으면 키와 값을 추가한 후 반환한다는 점임\n",
        "* defaults를 작성하지 않으면 None으로 저장함\n",
        "\n",
        "\n",
        "\n",
        "\n",
        "\n"
      ],
      "metadata": {
        "id": "lrYSv-iLElJ3"
      }
    },
    {
      "cell_type": "code",
      "source": [
        "print(testDict5)"
      ],
      "metadata": {
        "outputId": "7b394d64-1e9a-48db-c3bf-a9b1c3f0e5fe",
        "colab": {
          "base_uri": "https://localhost:8080/"
        },
        "id": "dPEdC_qfFjJ5"
      },
      "execution_count": 971,
      "outputs": [
        {
          "output_type": "stream",
          "name": "stdout",
          "text": [
            "{1: 201, 2: 202, 3: 203, '강아지': '멍멍', '고양이': '야옹'}\n"
          ]
        }
      ]
    },
    {
      "cell_type": "code",
      "source": [
        "testDict5.setdefault(\"강아지\")"
      ],
      "metadata": {
        "colab": {
          "base_uri": "https://localhost:8080/",
          "height": 35
        },
        "outputId": "2eaa14f1-d2b1-443a-d776-5c15f87fdc67",
        "id": "-R46SNT1FjJ6"
      },
      "execution_count": 972,
      "outputs": [
        {
          "output_type": "execute_result",
          "data": {
            "text/plain": [
              "'멍멍'"
            ],
            "application/vnd.google.colaboratory.intrinsic+json": {
              "type": "string"
            }
          },
          "metadata": {},
          "execution_count": 972
        }
      ]
    },
    {
      "cell_type": "code",
      "source": [
        "testDict5.setdefault(\"송아지\")"
      ],
      "metadata": {
        "id": "Qwq8zSUOFjJ6"
      },
      "execution_count": 973,
      "outputs": []
    },
    {
      "cell_type": "code",
      "source": [
        "print(testDict5)"
      ],
      "metadata": {
        "colab": {
          "base_uri": "https://localhost:8080/"
        },
        "id": "YBsenCyfFyfA",
        "outputId": "f483cf0d-4e97-4871-9cdb-7b339178a8b7"
      },
      "execution_count": 974,
      "outputs": [
        {
          "output_type": "stream",
          "name": "stdout",
          "text": [
            "{1: 201, 2: 202, 3: 203, '강아지': '멍멍', '고양이': '야옹', '송아지': None}\n"
          ]
        }
      ]
    },
    {
      "cell_type": "code",
      "source": [
        "print(testDict5.setdefault(\"송아지\", \"음메\"))\n",
        "print(testDict5.setdefault(1, 210))  # 이미 값이 입력되어있는 경우 수정 불가"
      ],
      "metadata": {
        "colab": {
          "base_uri": "https://localhost:8080/"
        },
        "outputId": "b84b8aff-1c16-441c-8d75-0a3ac0c700ab",
        "id": "39TbCKMOFjJ6"
      },
      "execution_count": 975,
      "outputs": [
        {
          "output_type": "stream",
          "name": "stdout",
          "text": [
            "None\n",
            "201\n"
          ]
        }
      ]
    },
    {
      "cell_type": "code",
      "source": [
        "print(testDict5)"
      ],
      "metadata": {
        "outputId": "ba92b63d-504a-4c74-a4ef-f6d2a6d9e717",
        "colab": {
          "base_uri": "https://localhost:8080/"
        },
        "id": "zaXNy-O4FjJ6"
      },
      "execution_count": 976,
      "outputs": [
        {
          "output_type": "stream",
          "name": "stdout",
          "text": [
            "{1: 201, 2: 202, 3: 203, '강아지': '멍멍', '고양이': '야옹', '송아지': None}\n"
          ]
        }
      ]
    },
    {
      "cell_type": "markdown",
      "source": [
        "#### update(key=value) / update(iterable)\n",
        "* 딕셔너리에 키의 값을 수정함(setdefault와 차이점)\n",
        "* 해당 키가 없다면 키-값 쌍을 추가함\n",
        "\n",
        " > *주의사항*\n",
        "\n",
        " > *키가 숫자인 경우에 utdate(key=value)해도 업데이트되지 않는다. (오류 발생, dict, list, tuple 등을 활용하여 수정해야함)*\n",
        "\n",
        " > *update(key=value)를 활용할 때는 키와 값이 문자열이더라도 \" \", ' ' 없이 작성해야한다*\n",
        "\n",
        "* update추가하는 아이템에는 dict, list, tuple 등 반복가능한 객체가 올 수 있음 (set 제외)\n",
        "\n",
        " > *dict, list, tuple을 입력할 때는 키, 값 쌍의 데이터가 들어가야 한다.(key든 value든 생략불가인듯)*\n",
        "\n",
        " > *키, 값 한 쌍만 입력할 때는 [(key, value)]형식일 때만 실행되는 듯...*\n",
        "\n",
        " > *키 값이 여러 쌍일 때, list 안에는 list, tuple, dict 심지어 set이 와도 정상적으로 실행하지만, tuple 안에는 tuple일 때만 실행한다...* \n",
        "\n",
        "\n",
        "\n"
      ],
      "metadata": {
        "id": "9uNTLvvFHNEi"
      }
    },
    {
      "cell_type": "code",
      "source": [
        "testDict5.update(강아지=210)"
      ],
      "metadata": {
        "id": "yjnxw50tHNEj"
      },
      "execution_count": 977,
      "outputs": []
    },
    {
      "cell_type": "code",
      "source": [
        "print(testDict5)"
      ],
      "metadata": {
        "colab": {
          "base_uri": "https://localhost:8080/"
        },
        "outputId": "77da9f1e-1838-4dcc-b36e-630e941ed98e",
        "id": "GRK4PY2nHNEj"
      },
      "execution_count": 978,
      "outputs": [
        {
          "output_type": "stream",
          "name": "stdout",
          "text": [
            "{1: 201, 2: 202, 3: 203, '강아지': 210, '고양이': '야옹', '송아지': None}\n"
          ]
        }
      ]
    },
    {
      "cell_type": "code",
      "source": [
        "tempDict = {\"강아지\": \"멍멍\", 1:210}\n",
        "testDict5.update(tempDict)\n",
        "print(testDict5)"
      ],
      "metadata": {
        "colab": {
          "base_uri": "https://localhost:8080/"
        },
        "outputId": "fae8b8be-f6da-4c56-a9cb-e326cdcdd775",
        "id": "33e-Fe4NHNEj"
      },
      "execution_count": 979,
      "outputs": [
        {
          "output_type": "stream",
          "name": "stdout",
          "text": [
            "{1: 210, 2: 202, 3: 203, '강아지': '멍멍', '고양이': '야옹', '송아지': None}\n"
          ]
        }
      ]
    },
    {
      "cell_type": "code",
      "source": [
        "# 에러 발생\n",
        "# temptuple = (1, \"삐약삐약\") #key가 문자열이든 숫자든 상관 없이 에러발생\n",
        "# templist = [1, \"삐약삐약\"]  #key가 문자열이든 숫자든 상관 없이 에러발생\n",
        "# temptuple = ((1, \"삐약삐약\")) #key가 문자열이든 숫자든 상관 없이 에러발생\n",
        "# templist = [[1, \"삐약삐약\"]]  #key가 문자열이든 숫자든 상관 없이 에러발생\n",
        "# temptuple = ([1, 210]) #key가 문자열이든 숫자든 상관 없이 에러발생\n",
        "\n",
        "templist = [(1, 210)] # 정상동작\n",
        "testDict5.update(templist)\n",
        "\n",
        "# temptuple = ([1,201], ['강아지', '왈왈']) 에러발생\n",
        "temptuple = ((1,201), ('송아지', '음메')) # 정상동작\n",
        "testDict5.update(temptuple)\n",
        "\n",
        "templist2 = [('병아리', '삐약삐약'), {3, 203}] #정상동작\n",
        "testDict5.update(templist2)\n",
        "\n",
        "print(testDict5)"
      ],
      "metadata": {
        "outputId": "4f893a34-a807-43ec-99e1-859ecc3db9a2",
        "colab": {
          "base_uri": "https://localhost:8080/"
        },
        "id": "dE71BuOAHNEj"
      },
      "execution_count": 980,
      "outputs": [
        {
          "output_type": "stream",
          "name": "stdout",
          "text": [
            "{1: 201, 2: 202, 3: 203, '강아지': '멍멍', '고양이': '야옹', '송아지': '음메', '병아리': '삐약삐약'}\n"
          ]
        }
      ]
    },
    {
      "cell_type": "markdown",
      "source": [
        "###**아이템 삭제**"
      ],
      "metadata": {
        "id": "sZhVIjfrc2Dk"
      }
    },
    {
      "cell_type": "markdown",
      "source": [
        "#### pop(key) / pop(key, defualts)\n",
        "* 딕셔너리에서 특정한 키-값 쌍을 삭제하고 삭제한 값을 반환함\n",
        "* pop(key)로 찾았을 때 key 가 존재하지 않는다면 키에러 발생\n",
        "* pop(key, defaults)로 찾았을 때 key 나 value가 존재하지 않으면 삭제 없이 value반환, key는 존재하지만 value가 존재하지 않을 때는 key를 삭제하고 해당key의 value를 반환함\n"
      ],
      "metadata": {
        "id": "k5BF5OKhTurl"
      }
    },
    {
      "cell_type": "code",
      "source": [
        "testDict5"
      ],
      "metadata": {
        "outputId": "7f55c8d4-cd84-4040-aa00-13502372f123",
        "colab": {
          "base_uri": "https://localhost:8080/"
        },
        "id": "BTPjyn1NTurr"
      },
      "execution_count": 981,
      "outputs": [
        {
          "output_type": "execute_result",
          "data": {
            "text/plain": [
              "{1: 201, 2: 202, 3: 203, '강아지': '멍멍', '고양이': '야옹', '병아리': '삐약삐약', '송아지': '음메'}"
            ]
          },
          "metadata": {},
          "execution_count": 981
        }
      ]
    },
    {
      "cell_type": "code",
      "source": [
        "testDict5.pop(\"병아리\")"
      ],
      "metadata": {
        "colab": {
          "base_uri": "https://localhost:8080/",
          "height": 35
        },
        "outputId": "72330236-991d-445d-c054-7ec60c53a101",
        "id": "RqoTJPXITurr"
      },
      "execution_count": 982,
      "outputs": [
        {
          "output_type": "execute_result",
          "data": {
            "text/plain": [
              "'삐약삐약'"
            ],
            "application/vnd.google.colaboratory.intrinsic+json": {
              "type": "string"
            }
          },
          "metadata": {},
          "execution_count": 982
        }
      ]
    },
    {
      "cell_type": "code",
      "source": [
        "testDict5"
      ],
      "metadata": {
        "colab": {
          "base_uri": "https://localhost:8080/"
        },
        "outputId": "ada96f53-5785-48cb-a9f8-4b13853919fc",
        "id": "t4aVFT41Turr"
      },
      "execution_count": 983,
      "outputs": [
        {
          "output_type": "execute_result",
          "data": {
            "text/plain": [
              "{1: 201, 2: 202, 3: 203, '강아지': '멍멍', '고양이': '야옹', '송아지': '음메'}"
            ]
          },
          "metadata": {},
          "execution_count": 983
        }
      ]
    },
    {
      "cell_type": "code",
      "source": [
        "testDict5.pop(\"호랑이\", \"어흥\")"
      ],
      "metadata": {
        "colab": {
          "base_uri": "https://localhost:8080/",
          "height": 35
        },
        "id": "SDeGyqkTTurr",
        "outputId": "cfcccd0c-7837-41dc-a4c9-936c42f82911"
      },
      "execution_count": 984,
      "outputs": [
        {
          "output_type": "execute_result",
          "data": {
            "text/plain": [
              "'어흥'"
            ],
            "application/vnd.google.colaboratory.intrinsic+json": {
              "type": "string"
            }
          },
          "metadata": {},
          "execution_count": 984
        }
      ]
    },
    {
      "cell_type": "code",
      "source": [
        "testDict5.pop(\"송아지\", \"어흥\")"
      ],
      "metadata": {
        "colab": {
          "base_uri": "https://localhost:8080/",
          "height": 35
        },
        "id": "_hL-lgxEWKCQ",
        "outputId": "ff200087-1d5d-4d71-aeb1-b9e98d7fe081"
      },
      "execution_count": 985,
      "outputs": [
        {
          "output_type": "execute_result",
          "data": {
            "text/plain": [
              "'음메'"
            ],
            "application/vnd.google.colaboratory.intrinsic+json": {
              "type": "string"
            }
          },
          "metadata": {},
          "execution_count": 985
        }
      ]
    },
    {
      "cell_type": "code",
      "source": [
        "testDict5"
      ],
      "metadata": {
        "outputId": "62e44021-abf6-4cb1-83ca-a3ac92452479",
        "colab": {
          "base_uri": "https://localhost:8080/"
        },
        "id": "fI_qu_WZTurs"
      },
      "execution_count": 986,
      "outputs": [
        {
          "output_type": "execute_result",
          "data": {
            "text/plain": [
              "{1: 201, 2: 202, 3: 203, '강아지': '멍멍', '고양이': '야옹'}"
            ]
          },
          "metadata": {},
          "execution_count": 986
        }
      ]
    },
    {
      "cell_type": "markdown",
      "source": [
        "#### popitem()\n",
        "* 딕셔너리에서 임의의 키-값 쌍을 삭제하고 삭제한 키-값을 튜플로 반환함\n",
        "* 딕셔너리가 모두 비워지면 key에러 발생\n"
      ],
      "metadata": {
        "id": "hZk_TQv9XBoj"
      }
    },
    {
      "cell_type": "code",
      "source": [
        "testDict2"
      ],
      "metadata": {
        "colab": {
          "base_uri": "https://localhost:8080/"
        },
        "id": "ae2NeHwDXZn1",
        "outputId": "c4ed4f59-e005-4bc6-ea6a-1d6909c7076d"
      },
      "execution_count": 987,
      "outputs": [
        {
          "output_type": "execute_result",
          "data": {
            "text/plain": [
              "{1: 101, 3: 102, 5: 103, 8: 104, 10: 105}"
            ]
          },
          "metadata": {},
          "execution_count": 987
        }
      ]
    },
    {
      "cell_type": "code",
      "source": [
        "testDict2.popitem()"
      ],
      "metadata": {
        "colab": {
          "base_uri": "https://localhost:8080/"
        },
        "id": "8KONvVuEXiea",
        "outputId": "d6feb498-ae01-4520-bddf-de8c0c38f0b8"
      },
      "execution_count": 988,
      "outputs": [
        {
          "output_type": "execute_result",
          "data": {
            "text/plain": [
              "(10, 105)"
            ]
          },
          "metadata": {},
          "execution_count": 988
        }
      ]
    },
    {
      "cell_type": "code",
      "source": [
        "testDict2"
      ],
      "metadata": {
        "colab": {
          "base_uri": "https://localhost:8080/"
        },
        "id": "NMMGdhqeXjnx",
        "outputId": "c68bf5e5-9cd2-484d-a588-9bb8435aa02d"
      },
      "execution_count": 989,
      "outputs": [
        {
          "output_type": "execute_result",
          "data": {
            "text/plain": [
              "{1: 101, 3: 102, 5: 103, 8: 104}"
            ]
          },
          "metadata": {},
          "execution_count": 989
        }
      ]
    },
    {
      "cell_type": "markdown",
      "source": [
        "#### clear()\n",
        "* 딕셔너리의 모든 아이템 삭제하기"
      ],
      "metadata": {
        "id": "n5hkVN3QX8ak"
      }
    },
    {
      "cell_type": "code",
      "source": [
        "testDict2.clear()\n",
        "testDict2"
      ],
      "metadata": {
        "colab": {
          "base_uri": "https://localhost:8080/"
        },
        "outputId": "1f0bfd69-96b4-43d2-a00c-f287dc85b701",
        "id": "g6K7XMrRX8al"
      },
      "execution_count": 990,
      "outputs": [
        {
          "output_type": "execute_result",
          "data": {
            "text/plain": [
              "{}"
            ]
          },
          "metadata": {},
          "execution_count": 990
        }
      ]
    },
    {
      "cell_type": "markdown",
      "source": [
        "###**아이템 객체 생성**"
      ],
      "metadata": {
        "id": "7dK6Iaurc9Za"
      }
    },
    {
      "cell_type": "markdown",
      "source": [
        "#### items()\n",
        "* 딕셔너리의 키-값 쌍으로 이루어진 새로운 객체 생성\n",
        " > *(키,쌍) 튜플들을 아이템으로 하는 list를 아이템으로 하여 객체 생성*\n",
        "\n",
        " > *이 객체는 isdisjoint()만 지원하며, 다른 list, tuple, dict, set의 메소드를 지원하지 않는 듯*"
      ],
      "metadata": {
        "id": "kfxLBv7GAAHP"
      }
    },
    {
      "cell_type": "code",
      "source": [
        "testDict5.items()"
      ],
      "metadata": {
        "colab": {
          "base_uri": "https://localhost:8080/"
        },
        "id": "EVYc6TepALRx",
        "outputId": "8bff89d2-dc2c-4d10-aac4-061576f301d5"
      },
      "execution_count": 991,
      "outputs": [
        {
          "output_type": "execute_result",
          "data": {
            "text/plain": [
              "dict_items([(1, 201), (2, 202), (3, 203), ('강아지', '멍멍'), ('고양이', '야옹')])"
            ]
          },
          "metadata": {},
          "execution_count": 991
        }
      ]
    },
    {
      "cell_type": "code",
      "source": [
        "allItem3 = testDict3.items()\n",
        "allItem4 = testDict4.items()\n",
        "allItem5 = testDict5.items()\n",
        "\n",
        "print(allItem3)\n",
        "print(allItem4)\n",
        "print(allItem5)"
      ],
      "metadata": {
        "colab": {
          "base_uri": "https://localhost:8080/"
        },
        "id": "PcTpGjUvDE0C",
        "outputId": "2cbdccb3-78d2-446d-d17b-f11b1c00e812"
      },
      "execution_count": 992,
      "outputs": [
        {
          "output_type": "stream",
          "name": "stdout",
          "text": [
            "dict_items([(1, '강아지'), (2, '고양이'), (3, '토끼'), (4, '햄스터'), (5, '호랑이')])\n",
            "dict_items([('강아지', '멍멍'), ('고양이', '야옹'), ('호랑이', '어흥'), ('송아지', '음메')])\n",
            "dict_items([(1, 201), (2, 202), (3, 203), ('강아지', '멍멍'), ('고양이', '야옹')])\n"
          ]
        }
      ]
    },
    {
      "cell_type": "code",
      "source": [
        "allItem3.isdisjoint(allItem5)  #같은 아이템이 존재하지 않으므로 True 반환"
      ],
      "metadata": {
        "colab": {
          "base_uri": "https://localhost:8080/"
        },
        "id": "jLnL-ZzFD83W",
        "outputId": "70ec619e-8bdd-40ca-e7c4-2102526bc3d0"
      },
      "execution_count": 993,
      "outputs": [
        {
          "output_type": "execute_result",
          "data": {
            "text/plain": [
              "True"
            ]
          },
          "metadata": {},
          "execution_count": 993
        }
      ]
    },
    {
      "cell_type": "code",
      "source": [
        "allItem4.isdisjoint(allItem5)  #('강아지', '멍멍'), ('고양이', '야옹')이 같은 아이템이므로 False 반환"
      ],
      "metadata": {
        "colab": {
          "base_uri": "https://localhost:8080/"
        },
        "id": "uZDUD9BCD2q0",
        "outputId": "6ceb2e95-d086-4e3f-d4d6-ef49c134d668"
      },
      "execution_count": 994,
      "outputs": [
        {
          "output_type": "execute_result",
          "data": {
            "text/plain": [
              "False"
            ]
          },
          "metadata": {},
          "execution_count": 994
        }
      ]
    },
    {
      "cell_type": "markdown",
      "source": [
        "#### keys()\n",
        "* 딕셔너리의 모든 키로 이루어진 새로운 객체 생성\n",
        " > *모든 키들을 아이템으로 하는 list를 아이템으로 하여 객체 생성*\n",
        "\n",
        " > *이 객체는 isdisjoint()만 지원하며, 다른 list, tuple, dict, set의 메소드를 지원하지 않는 듯*"
      ],
      "metadata": {
        "id": "1A2HT_-QB1BB"
      }
    },
    {
      "cell_type": "code",
      "source": [
        "testDict5.keys()"
      ],
      "metadata": {
        "colab": {
          "base_uri": "https://localhost:8080/"
        },
        "outputId": "50d01a41-f1cb-42db-dc65-79656b5dda79",
        "id": "pL_OoHK3B1BH"
      },
      "execution_count": 995,
      "outputs": [
        {
          "output_type": "execute_result",
          "data": {
            "text/plain": [
              "dict_keys([1, 2, 3, '강아지', '고양이'])"
            ]
          },
          "metadata": {},
          "execution_count": 995
        }
      ]
    },
    {
      "cell_type": "markdown",
      "source": [
        "#### values()\n",
        "* 딕셔너리의 모든 값으로 이루어진 새로운 객체 생성\n",
        " > *모든 값들을 아이템으로 하는 list를 아이템으로 하여 객체 생성*\n",
        "\n",
        " > *이 객체는 isdisjoint()만 지원하며, 다른 list, tuple, dict, set의 메소드를 지원하지 않는 듯*"
      ],
      "metadata": {
        "id": "Z5TBwt2HCTiq"
      }
    },
    {
      "cell_type": "code",
      "source": [
        "testDict5.values()"
      ],
      "metadata": {
        "colab": {
          "base_uri": "https://localhost:8080/"
        },
        "outputId": "d6addff9-1417-460d-8867-1466e9468e55",
        "id": "9_7k7FicCTir"
      },
      "execution_count": 996,
      "outputs": [
        {
          "output_type": "execute_result",
          "data": {
            "text/plain": [
              "dict_values([201, 202, 203, '멍멍', '야옹'])"
            ]
          },
          "metadata": {},
          "execution_count": 996
        }
      ]
    },
    {
      "cell_type": "markdown",
      "source": [
        "###**아이템 생성 / 복사**"
      ],
      "metadata": {
        "id": "J4BOsRiidDrb"
      }
    },
    {
      "cell_type": "markdown",
      "source": [
        "#### dict.formkeys(seq) / dict.formkeys(seq, value)\n",
        "* 리스트나 튜플을 활용하여 새로운 딕셔너리 생성\n",
        "\n",
        "* formkeys(seq)로 key값만 지정하면 값은 모두 None이 됨\n",
        "\n",
        "* formkeys(seq, value)로 작성하면 값은 모두 value가 됨\n",
        "\n",
        " > *주의사항*\n",
        "\n",
        " > *dictName.formkey(seq, vlaue)가 아님!!*\n",
        "\n",
        " > *dictName = dict.formkey(seq, vlaue)* 식으로 생성 후 대입해야 한다."
      ],
      "metadata": {
        "id": "1Y12EbCZYZck"
      }
    },
    {
      "cell_type": "code",
      "source": [
        "keylist = [1, 2, 3, 5, 8, 9]\n",
        "testDict2 = dict.fromkeys(keylist, 100)\n",
        "testDict2"
      ],
      "metadata": {
        "colab": {
          "base_uri": "https://localhost:8080/"
        },
        "outputId": "6f3c0fb1-3dbf-4a94-c447-428abf612f8a",
        "id": "QE1JhJBaYZcl"
      },
      "execution_count": 997,
      "outputs": [
        {
          "output_type": "execute_result",
          "data": {
            "text/plain": [
              "{1: 100, 2: 100, 3: 100, 5: 100, 8: 100, 9: 100}"
            ]
          },
          "metadata": {},
          "execution_count": 997
        }
      ]
    },
    {
      "cell_type": "markdown",
      "source": [
        "#### copy()\n",
        "* 딕셔너리를 복사함\n",
        "\n",
        "* 딕셔너리 a와 딕셔너리 b가 있을 때 b = a하면 a값이 변경될 때 b값도 변하지만,\n",
        "\n",
        "* b = a.copy() 하면 각자 다를 객체로 생성되어 a값이 변해도 b값이 변하지 않는다."
      ],
      "metadata": {
        "id": "4zMYhfzhaLTk"
      }
    },
    {
      "cell_type": "code",
      "source": [
        "print(\"---testDict0 = testDict2---\")\n",
        "testDict0 = testDict2\n",
        "print(testDict2)\n",
        "print(testDict0)\n",
        "\n",
        "print(\"---testDict2.update([(3, 300), (9, 200)])---\")\n",
        "testDict2.update([(3, 300), (9, 200)])\n",
        "print(testDict2)\n",
        "print(testDict0)"
      ],
      "metadata": {
        "colab": {
          "base_uri": "https://localhost:8080/"
        },
        "outputId": "9e8e1cf0-b53c-477c-85d3-bef72f1152ba",
        "id": "YlFNpU9NaLTl"
      },
      "execution_count": 998,
      "outputs": [
        {
          "output_type": "stream",
          "name": "stdout",
          "text": [
            "---testDict0 = testDict2---\n",
            "{1: 100, 2: 100, 3: 100, 5: 100, 8: 100, 9: 100}\n",
            "{1: 100, 2: 100, 3: 100, 5: 100, 8: 100, 9: 100}\n",
            "---testDict2.update([(3, 300), (9, 200)])---\n",
            "{1: 100, 2: 100, 3: 300, 5: 100, 8: 100, 9: 200}\n",
            "{1: 100, 2: 100, 3: 300, 5: 100, 8: 100, 9: 200}\n"
          ]
        }
      ]
    },
    {
      "cell_type": "code",
      "source": [
        "tempDict2 = {}\n",
        "print(\"---tempDict2 = testDict0.copy()---\")\n",
        "tempDict2 = testDict0.copy()\n",
        "print(testDict0)\n",
        "print(tempDict2)\n",
        "\n",
        "print(\"---testDict0.clear()---\")\n",
        "testDict0.clear()\n",
        "print(testDict0)\n",
        "print(tempDict2)"
      ],
      "metadata": {
        "colab": {
          "base_uri": "https://localhost:8080/"
        },
        "outputId": "0fc3d3a1-ef5f-4a83-d109-0598bbd40805",
        "id": "n-SdwSEOaLTl"
      },
      "execution_count": 999,
      "outputs": [
        {
          "output_type": "stream",
          "name": "stdout",
          "text": [
            "---tempDict2 = testDict0.copy()---\n",
            "{1: 100, 2: 100, 3: 300, 5: 100, 8: 100, 9: 200}\n",
            "{1: 100, 2: 100, 3: 300, 5: 100, 8: 100, 9: 200}\n",
            "---testDict0.clear()---\n",
            "{}\n",
            "{1: 100, 2: 100, 3: 300, 5: 100, 8: 100, 9: 200}\n"
          ]
        }
      ]
    },
    {
      "cell_type": "markdown",
      "source": [
        "## 4. set\n",
        "\n"
      ],
      "metadata": {
        "id": "1ui_gCl083-E"
      }
    },
    {
      "cell_type": "code",
      "source": [
        "testSet0 = {}\n",
        "testSet1 = {0}\n",
        "testSet2 = {False}\n",
        "testSet3 = {0, 10, 20, 30, 50, 50}\n",
        "testSet4 = {'가', '나', '다'}\n",
        "testSet5 = {10, 20, 30, 40, 50, '가', '나', '다'}"
      ],
      "metadata": {
        "id": "VNaloCOoLp7n"
      },
      "execution_count": 1000,
      "outputs": []
    },
    {
      "cell_type": "markdown",
      "source": [
        "###**아이템 추가**"
      ],
      "metadata": {
        "id": "v7zvIhqldd9T"
      }
    },
    {
      "cell_type": "markdown",
      "source": [
        "#### add()\n",
        "* 세트에 아이템을 하나씩 추가\n",
        "\n",
        "* set 아이템은 중복이 불가하므로 기존 아이템과 동일하면 추가되지 않음\n",
        "\n",
        " > *list, tuple, set, dict은 추가되지 않는 듯?*"
      ],
      "metadata": {
        "id": "c03OunmZd_KC"
      }
    },
    {
      "cell_type": "code",
      "source": [
        "testSet3.add(60)\n",
        "testSet3"
      ],
      "metadata": {
        "colab": {
          "base_uri": "https://localhost:8080/"
        },
        "id": "PU8MrerVdto5",
        "outputId": "590c504e-a6cf-4ec2-94de-447c265ba00a"
      },
      "execution_count": 1001,
      "outputs": [
        {
          "output_type": "execute_result",
          "data": {
            "text/plain": [
              "{0, 10, 20, 30, 50, 60}"
            ]
          },
          "metadata": {},
          "execution_count": 1001
        }
      ]
    },
    {
      "cell_type": "markdown",
      "source": [
        "###**아이템 삭제**"
      ],
      "metadata": {
        "id": "W6wCcAMTfS6r"
      }
    },
    {
      "cell_type": "markdown",
      "source": [
        "#### remove()\n",
        "* 세트에서 아이템 삭제\n",
        "\n",
        "* 해당 아이템이 없으면 key에러 발생"
      ],
      "metadata": {
        "id": "YRssKfaxfXSC"
      }
    },
    {
      "cell_type": "code",
      "source": [
        "testSet3.remove(20)\n",
        "testSet3"
      ],
      "metadata": {
        "colab": {
          "base_uri": "https://localhost:8080/"
        },
        "id": "dYHGvFEGfWoA",
        "outputId": "ff18b7bc-56c6-42ad-c089-b3a12bb0ad51"
      },
      "execution_count": 1002,
      "outputs": [
        {
          "output_type": "execute_result",
          "data": {
            "text/plain": [
              "{0, 10, 30, 50, 60}"
            ]
          },
          "metadata": {},
          "execution_count": 1002
        }
      ]
    },
    {
      "cell_type": "markdown",
      "source": [
        "#### discard()\n",
        "* 세트에서 아이템 삭제\n",
        "\n",
        "* 해당 아이템이 없더라도 무시"
      ],
      "metadata": {
        "id": "hp16tD_sftYK"
      }
    },
    {
      "cell_type": "code",
      "source": [
        "testSet3.discard(20)\n",
        "testSet3"
      ],
      "metadata": {
        "colab": {
          "base_uri": "https://localhost:8080/"
        },
        "outputId": "1dde1e5f-852c-47d1-91c3-f2b50eb39499",
        "id": "w__U1Yl9ftYL"
      },
      "execution_count": 1003,
      "outputs": [
        {
          "output_type": "execute_result",
          "data": {
            "text/plain": [
              "{0, 10, 30, 50, 60}"
            ]
          },
          "metadata": {},
          "execution_count": 1003
        }
      ]
    },
    {
      "cell_type": "markdown",
      "source": [
        "#### pop()\n",
        "* 세트에서 임의의 아이템을 삭제하고 삭제한 아이템을 반환함\n",
        "* 세트가 모두 비워지면 key에러 발생\n"
      ],
      "metadata": {
        "id": "pnQshiFpgDIa"
      }
    },
    {
      "cell_type": "code",
      "source": [
        "testSet5"
      ],
      "metadata": {
        "colab": {
          "base_uri": "https://localhost:8080/"
        },
        "outputId": "883d70de-a95d-4738-caf5-4e92fb16d2c6",
        "id": "HWM1SyC-gDIa"
      },
      "execution_count": 1004,
      "outputs": [
        {
          "output_type": "execute_result",
          "data": {
            "text/plain": [
              "{10, 20, 30, 40, 50, '가', '나', '다'}"
            ]
          },
          "metadata": {},
          "execution_count": 1004
        }
      ]
    },
    {
      "cell_type": "code",
      "source": [
        "testSet5.pop()"
      ],
      "metadata": {
        "colab": {
          "base_uri": "https://localhost:8080/",
          "height": 35
        },
        "outputId": "9e912a70-dacc-44a7-f5d2-a05904fd9ddd",
        "id": "F9-e_vDngDIb"
      },
      "execution_count": 1005,
      "outputs": [
        {
          "output_type": "execute_result",
          "data": {
            "text/plain": [
              "'나'"
            ],
            "application/vnd.google.colaboratory.intrinsic+json": {
              "type": "string"
            }
          },
          "metadata": {},
          "execution_count": 1005
        }
      ]
    },
    {
      "cell_type": "code",
      "source": [
        "testSet5"
      ],
      "metadata": {
        "colab": {
          "base_uri": "https://localhost:8080/"
        },
        "outputId": "6189602e-d74c-4ebf-b790-fc5637b44813",
        "id": "j_BGj9RsgDIb"
      },
      "execution_count": 1006,
      "outputs": [
        {
          "output_type": "execute_result",
          "data": {
            "text/plain": [
              "{10, 20, 30, 40, 50, '가', '다'}"
            ]
          },
          "metadata": {},
          "execution_count": 1006
        }
      ]
    },
    {
      "cell_type": "markdown",
      "source": [
        "#### clear()\n",
        "* 세트의 모든 아이템 삭제하기"
      ],
      "metadata": {
        "id": "4s4CmDQuhtQ6"
      }
    },
    {
      "cell_type": "code",
      "source": [
        "testSet2"
      ],
      "metadata": {
        "colab": {
          "base_uri": "https://localhost:8080/"
        },
        "id": "0a22lPeRh2NL",
        "outputId": "2a3e3c1b-e60c-4e2a-890b-606c2e9ffe98"
      },
      "execution_count": 1007,
      "outputs": [
        {
          "output_type": "execute_result",
          "data": {
            "text/plain": [
              "{False}"
            ]
          },
          "metadata": {},
          "execution_count": 1007
        }
      ]
    },
    {
      "cell_type": "code",
      "source": [
        "testSet2.clear()\n",
        "testSet2"
      ],
      "metadata": {
        "colab": {
          "base_uri": "https://localhost:8080/"
        },
        "outputId": "66501ddc-9d48-4f43-f038-b39d33ff7a5d",
        "id": "od2z0ysBhtQ6"
      },
      "execution_count": 1008,
      "outputs": [
        {
          "output_type": "execute_result",
          "data": {
            "text/plain": [
              "set()"
            ]
          },
          "metadata": {},
          "execution_count": 1008
        }
      ]
    },
    {
      "cell_type": "markdown",
      "source": [
        "###**아이템 복사**"
      ],
      "metadata": {
        "id": "Z3y9GZqGfVX6"
      }
    },
    {
      "cell_type": "markdown",
      "source": [
        "#### copy()\n",
        "* 세트를 복사함\n",
        "\n",
        "* 세트 a와 세트 b가 있을 때 b = a하면 a값이 변경될 때 b값도 변하지만,\n",
        "\n",
        "* b = a.copy() 하면 각자 다를 객체로 생성되어 a값이 변해도 b값이 변하지 않는다."
      ],
      "metadata": {
        "id": "1pyQiSf5iGOi"
      }
    },
    {
      "cell_type": "code",
      "source": [
        "print(\"---testSet2 = testSet3---\")\n",
        "testSet2 = testSet3\n",
        "print(testSet3)\n",
        "print(testSet2)\n",
        "\n",
        "print(\"---testSet3.add('나')---\")\n",
        "testSet3.add('나')\n",
        "print(testSet3)\n",
        "print(testSet2)"
      ],
      "metadata": {
        "colab": {
          "base_uri": "https://localhost:8080/"
        },
        "outputId": "65a03be6-0cd0-4fee-f2ed-d8d09bdd3410",
        "id": "pixYhvRyiGOi"
      },
      "execution_count": 1009,
      "outputs": [
        {
          "output_type": "stream",
          "name": "stdout",
          "text": [
            "---testSet2 = testSet3---\n",
            "{0, 10, 50, 60, 30}\n",
            "{0, 10, 50, 60, 30}\n",
            "---testSet3.add('나')---\n",
            "{0, '나', 10, 50, 60, 30}\n",
            "{0, '나', 10, 50, 60, 30}\n"
          ]
        }
      ]
    },
    {
      "cell_type": "code",
      "source": [
        "tempSet = {0}\n",
        "print(\"---testSet2 = tempSet.copy()---\")\n",
        "testSet2 = tempSet.copy()\n",
        "print(tempSet)\n",
        "print(testSet2)\n",
        "\n",
        "print(\"---testSet2.add(False)---\")\n",
        "testSet2.add(\"강아지\")\n",
        "print(tempSet)\n",
        "print(testSet2)"
      ],
      "metadata": {
        "colab": {
          "base_uri": "https://localhost:8080/"
        },
        "outputId": "5669381d-e90c-467a-c108-29b0f11b355f",
        "id": "LDfUzJVuiGOj"
      },
      "execution_count": 1010,
      "outputs": [
        {
          "output_type": "stream",
          "name": "stdout",
          "text": [
            "---testSet2 = tempSet.copy()---\n",
            "{0}\n",
            "{0}\n",
            "---testSet2.add(False)---\n",
            "{0}\n",
            "{0, '강아지'}\n"
          ]
        }
      ]
    },
    {
      "cell_type": "markdown",
      "source": [
        "###**집합 연산**"
      ],
      "metadata": {
        "id": "uegGAizzjOiK"
      }
    },
    {
      "cell_type": "markdown",
      "source": [
        "#### set.union(set1, set2, ...)\n",
        "* 여러 세트의 합집합을 새로운 세트로 생성"
      ],
      "metadata": {
        "id": "h9kwoO0njOiQ"
      }
    },
    {
      "cell_type": "code",
      "source": [
        "print(testSet2)\n",
        "print(testSet3)\n",
        "print(testSet4)"
      ],
      "metadata": {
        "colab": {
          "base_uri": "https://localhost:8080/"
        },
        "id": "Uctw__NblPsl",
        "outputId": "3601ece6-dbbd-4910-cb4e-cab28c3f6267"
      },
      "execution_count": 1011,
      "outputs": [
        {
          "output_type": "stream",
          "name": "stdout",
          "text": [
            "{0, '강아지'}\n",
            "{0, '나', 10, 50, 60, 30}\n",
            "{'나', '가', '다'}\n"
          ]
        }
      ]
    },
    {
      "cell_type": "code",
      "source": [
        "testUnion = set.union(testSet2, testSet3, testSet4)\n",
        "testUnion"
      ],
      "metadata": {
        "colab": {
          "base_uri": "https://localhost:8080/"
        },
        "outputId": "558f3681-bd5a-4f32-d8b3-71430635fa47",
        "id": "nc7PXD1UjOiQ"
      },
      "execution_count": 1012,
      "outputs": [
        {
          "output_type": "execute_result",
          "data": {
            "text/plain": [
              "{0, 10, 30, 50, 60, '가', '강아지', '나', '다'}"
            ]
          },
          "metadata": {},
          "execution_count": 1012
        }
      ]
    },
    {
      "cell_type": "markdown",
      "source": [
        "#### union(otherset)\n",
        "* 해당 set을 otherset과의 합집합으로 업데이트"
      ],
      "metadata": {
        "id": "zyftU3EumVOB"
      }
    },
    {
      "cell_type": "code",
      "source": [
        "testSet2.update(testSet4)\n",
        "testSet2"
      ],
      "metadata": {
        "colab": {
          "base_uri": "https://localhost:8080/"
        },
        "id": "tlZ5z3q4mvqW",
        "outputId": "838a1fb7-5aba-46dd-9d38-f3269cf83855"
      },
      "execution_count": 1013,
      "outputs": [
        {
          "output_type": "execute_result",
          "data": {
            "text/plain": [
              "{0, '가', '강아지', '나', '다'}"
            ]
          },
          "metadata": {},
          "execution_count": 1013
        }
      ]
    },
    {
      "cell_type": "markdown",
      "source": [
        "#### set.intersection(set1, set2, ...)\n",
        "* 여러 세트의 교집합을 새로운 세트로 생성"
      ],
      "metadata": {
        "id": "KonWpn1clXoJ"
      }
    },
    {
      "cell_type": "code",
      "source": [
        "print(testSet4)\n",
        "print(testSet5)"
      ],
      "metadata": {
        "colab": {
          "base_uri": "https://localhost:8080/"
        },
        "id": "eWNZfQG_l5Fo",
        "outputId": "7b94fa2a-c4f8-4a9d-eb5e-2fb509400bd6"
      },
      "execution_count": 1014,
      "outputs": [
        {
          "output_type": "stream",
          "name": "stdout",
          "text": [
            "{'나', '가', '다'}\n",
            "{40, 10, '가', 50, 20, '다', 30}\n"
          ]
        }
      ]
    },
    {
      "cell_type": "code",
      "source": [
        "testintersection = set.intersection(testSet4, testSet5)\n",
        "testintersection"
      ],
      "metadata": {
        "colab": {
          "base_uri": "https://localhost:8080/"
        },
        "outputId": "97238e2e-b67f-44a9-e090-0215967d3c51",
        "id": "ms5zPWIWlXoK"
      },
      "execution_count": 1015,
      "outputs": [
        {
          "output_type": "execute_result",
          "data": {
            "text/plain": [
              "{'가', '다'}"
            ]
          },
          "metadata": {},
          "execution_count": 1015
        }
      ]
    },
    {
      "cell_type": "markdown",
      "source": [
        "#### intersection_update(otherset)\n",
        "* 해당 set을 otherset과의 교집합으로 업데이트"
      ],
      "metadata": {
        "id": "Ep0Yt_SUnA5Y"
      }
    },
    {
      "cell_type": "code",
      "source": [
        "testSet4.intersection_update(testSet5)\n",
        "testSet4"
      ],
      "metadata": {
        "colab": {
          "base_uri": "https://localhost:8080/"
        },
        "outputId": "e100acbb-f69d-41ae-a717-b0dc6bdbac2b",
        "id": "nD0LEG-DnA5Z"
      },
      "execution_count": 1016,
      "outputs": [
        {
          "output_type": "execute_result",
          "data": {
            "text/plain": [
              "{'가', '다'}"
            ]
          },
          "metadata": {},
          "execution_count": 1016
        }
      ]
    },
    {
      "cell_type": "markdown",
      "source": [
        "#### set.difference(set1, set2, ...)\n",
        "* 여러 세트의 차집합을 새로운 세트로 생성\n",
        "* 단 순서는 set1 - set2 - ... 임"
      ],
      "metadata": {
        "id": "BE4gSbRanhqA"
      }
    },
    {
      "cell_type": "code",
      "source": [
        "print(testSet4)\n",
        "print(testSet5)"
      ],
      "metadata": {
        "colab": {
          "base_uri": "https://localhost:8080/"
        },
        "outputId": "48952147-b588-49e6-e339-5723033266e9",
        "id": "cJPe2fklnhqB"
      },
      "execution_count": 1017,
      "outputs": [
        {
          "output_type": "stream",
          "name": "stdout",
          "text": [
            "{'가', '다'}\n",
            "{40, 10, '가', 50, 20, '다', 30}\n"
          ]
        }
      ]
    },
    {
      "cell_type": "code",
      "source": [
        "testdifference = set.difference(testSet5, testSet4, testSet3)\n",
        "testdifference"
      ],
      "metadata": {
        "colab": {
          "base_uri": "https://localhost:8080/"
        },
        "outputId": "4421f49d-9fe4-489c-c65c-9352d07d4c75",
        "id": "Rb28tZKXnhqB"
      },
      "execution_count": 1018,
      "outputs": [
        {
          "output_type": "execute_result",
          "data": {
            "text/plain": [
              "{20, 40}"
            ]
          },
          "metadata": {},
          "execution_count": 1018
        }
      ]
    },
    {
      "cell_type": "code",
      "source": [
        "testdifference0 = set.difference(testSet4, testSet5)\n",
        "testdifference0"
      ],
      "metadata": {
        "colab": {
          "base_uri": "https://localhost:8080/"
        },
        "outputId": "c0be954e-452f-409e-cd78-6619a77d0a7f",
        "id": "cERi_Tf0oD6p"
      },
      "execution_count": 1019,
      "outputs": [
        {
          "output_type": "execute_result",
          "data": {
            "text/plain": [
              "set()"
            ]
          },
          "metadata": {},
          "execution_count": 1019
        }
      ]
    },
    {
      "cell_type": "markdown",
      "source": [
        "#### difference_update(otherset)\n",
        "* 해당 set을 otherset과의 차집합으로 업데이트\n",
        "\n",
        "* 연산 방식은 set -= oherset임"
      ],
      "metadata": {
        "id": "qenFM9FknhqB"
      }
    },
    {
      "cell_type": "code",
      "source": [
        "testSet5.difference_update(testSet4)\n",
        "testSet5"
      ],
      "metadata": {
        "colab": {
          "base_uri": "https://localhost:8080/"
        },
        "outputId": "cf4f5011-9a50-4a16-d27e-75522abc6fa1",
        "id": "jOHfOh9snhqB"
      },
      "execution_count": 1020,
      "outputs": [
        {
          "output_type": "execute_result",
          "data": {
            "text/plain": [
              "{10, 20, 30, 40, 50}"
            ]
          },
          "metadata": {},
          "execution_count": 1020
        }
      ]
    },
    {
      "cell_type": "markdown",
      "source": [
        "#### set.symmetric_differnce(set1, set2, ...)\n",
        "* 여러 세트의 합집합 - 교집합을 새로운 세트로 생성"
      ],
      "metadata": {
        "id": "tAcvi_PQo1NA"
      }
    },
    {
      "cell_type": "code",
      "source": [
        "print(testSet2)\n",
        "print(testSet3)"
      ],
      "metadata": {
        "colab": {
          "base_uri": "https://localhost:8080/"
        },
        "outputId": "44a6a585-4328-44a4-be0b-9d032bed3a2f",
        "id": "gObQV92Go1NA"
      },
      "execution_count": 1021,
      "outputs": [
        {
          "output_type": "stream",
          "name": "stdout",
          "text": [
            "{0, '나', '강아지', '가', '다'}\n",
            "{0, '나', 10, 50, 60, 30}\n"
          ]
        }
      ]
    },
    {
      "cell_type": "code",
      "source": [
        "testSymmeetricDifference = set.symmetric_difference(testSet2, testSet3)\n",
        "testSymmeetricDifference"
      ],
      "metadata": {
        "colab": {
          "base_uri": "https://localhost:8080/"
        },
        "outputId": "051249e9-c519-40d1-82a5-119c44112ec3",
        "id": "j3FoHiiko1NB"
      },
      "execution_count": 1022,
      "outputs": [
        {
          "output_type": "execute_result",
          "data": {
            "text/plain": [
              "{10, 30, 50, 60, '가', '강아지', '다'}"
            ]
          },
          "metadata": {},
          "execution_count": 1022
        }
      ]
    },
    {
      "cell_type": "markdown",
      "source": [
        "#### symmetric_difference_update(otherset)\n",
        "* 해당 set을 otherset과의 합집합-교집합으로 업데이트"
      ],
      "metadata": {
        "id": "zx9VaK0Ko1NB"
      }
    },
    {
      "cell_type": "code",
      "source": [
        "print(testSet1)\n",
        "print(testSet2)"
      ],
      "metadata": {
        "colab": {
          "base_uri": "https://localhost:8080/"
        },
        "id": "Q2Loo-mwqJ2X",
        "outputId": "7a56c933-54f3-4fe4-c137-f2b4492aea48"
      },
      "execution_count": 1023,
      "outputs": [
        {
          "output_type": "stream",
          "name": "stdout",
          "text": [
            "{0}\n",
            "{0, '나', '강아지', '가', '다'}\n"
          ]
        }
      ]
    },
    {
      "cell_type": "code",
      "source": [
        "testSet1.symmetric_difference_update(testSet2)\n",
        "testSet1"
      ],
      "metadata": {
        "colab": {
          "base_uri": "https://localhost:8080/"
        },
        "outputId": "ec82126f-63c5-442d-b7fc-5eaa396db66b",
        "id": "4k5KYD8No1NB"
      },
      "execution_count": 1024,
      "outputs": [
        {
          "output_type": "execute_result",
          "data": {
            "text/plain": [
              "{'가', '강아지', '나', '다'}"
            ]
          },
          "metadata": {},
          "execution_count": 1024
        }
      ]
    },
    {
      "cell_type": "markdown",
      "source": [
        "###**집합 관계 확인**"
      ],
      "metadata": {
        "id": "rzit2kwrquaH"
      }
    },
    {
      "cell_type": "code",
      "source": [
        "testSet0 = {}\n",
        "testSet1 = {0}\n",
        "testSet2 = {False}\n",
        "testSet3 = {0, 10, 20, 30, 50, 50}\n",
        "testSet4 = {'가', '나', '다'}\n",
        "testSet5 = {10, 20, 30, 40, 50, '가', '나', '다'}"
      ],
      "metadata": {
        "id": "7EZYgCwwq0CM"
      },
      "execution_count": 1025,
      "outputs": []
    },
    {
      "cell_type": "markdown",
      "source": [
        "#### isdisjoint(otherset)\n",
        "* 해당 set의 아이템과 otherset의 아이템이 **겹치지 않으면 True**, **겹치면 False** 반환"
      ],
      "metadata": {
        "id": "qtgd73usrAJw"
      }
    },
    {
      "cell_type": "code",
      "source": [
        "testSet2.isdisjoint(testSet1)  # 정수 0을 False와 동일한 아이템으로 판단한다"
      ],
      "metadata": {
        "colab": {
          "base_uri": "https://localhost:8080/"
        },
        "outputId": "e00b70b8-9578-4908-e143-d4ce5a0f804d",
        "id": "wp2zsiRerhWI"
      },
      "execution_count": 1026,
      "outputs": [
        {
          "output_type": "execute_result",
          "data": {
            "text/plain": [
              "False"
            ]
          },
          "metadata": {},
          "execution_count": 1026
        }
      ]
    },
    {
      "cell_type": "code",
      "source": [
        "testSet2.isdisjoint(testSet0)  # null은 False와 다른 아이템으로 판단한다"
      ],
      "metadata": {
        "colab": {
          "base_uri": "https://localhost:8080/"
        },
        "id": "U48Am_qXq9_-",
        "outputId": "4abf9bf1-d6f0-45cd-f84a-ae8a8c8c17f9"
      },
      "execution_count": 1027,
      "outputs": [
        {
          "output_type": "execute_result",
          "data": {
            "text/plain": [
              "True"
            ]
          },
          "metadata": {},
          "execution_count": 1027
        }
      ]
    },
    {
      "cell_type": "code",
      "source": [
        "testSet4.isdisjoint(testSet5)"
      ],
      "metadata": {
        "colab": {
          "base_uri": "https://localhost:8080/"
        },
        "id": "95SUxewHrujN",
        "outputId": "63327580-0990-432b-e2e4-ac7115089375"
      },
      "execution_count": 1028,
      "outputs": [
        {
          "output_type": "execute_result",
          "data": {
            "text/plain": [
              "False"
            ]
          },
          "metadata": {},
          "execution_count": 1028
        }
      ]
    },
    {
      "cell_type": "markdown",
      "source": [
        "#### issubset(otherset)\n",
        "* 해당 set이 otherset의 부분집합이면 True, 아니면 False 반환\n",
        "* **동일한 집합이어도 True 반환**"
      ],
      "metadata": {
        "id": "IS2WkEaLsra3"
      }
    },
    {
      "cell_type": "code",
      "source": [
        "testSet4.issubset(testSet5)"
      ],
      "metadata": {
        "colab": {
          "base_uri": "https://localhost:8080/"
        },
        "outputId": "464452d9-95df-43e6-caf2-81da7d8c5f50",
        "id": "yKN2_MW6sra3"
      },
      "execution_count": 1029,
      "outputs": [
        {
          "output_type": "execute_result",
          "data": {
            "text/plain": [
              "True"
            ]
          },
          "metadata": {},
          "execution_count": 1029
        }
      ]
    },
    {
      "cell_type": "code",
      "source": [
        "testSet4.issubset(testSet4)"
      ],
      "metadata": {
        "colab": {
          "base_uri": "https://localhost:8080/"
        },
        "outputId": "e0f6cc4f-575e-4925-ca1e-5a691c6e68be",
        "id": "wj-4VaRstIvW"
      },
      "execution_count": 1030,
      "outputs": [
        {
          "output_type": "execute_result",
          "data": {
            "text/plain": [
              "True"
            ]
          },
          "metadata": {},
          "execution_count": 1030
        }
      ]
    },
    {
      "cell_type": "code",
      "source": [
        "testSet3.issubset(testSet5)"
      ],
      "metadata": {
        "colab": {
          "base_uri": "https://localhost:8080/"
        },
        "id": "yjyaZBfws8Rb",
        "outputId": "2967b3c8-f378-46cf-8da2-0540c91d4539"
      },
      "execution_count": 1031,
      "outputs": [
        {
          "output_type": "execute_result",
          "data": {
            "text/plain": [
              "False"
            ]
          },
          "metadata": {},
          "execution_count": 1031
        }
      ]
    },
    {
      "cell_type": "markdown",
      "source": [
        "#### issuperset(otherset)\n",
        "* 해당 set이 otherset의 아이템을 모두 포함하면 True, 아니면 False 반환\n",
        "* **동일한 집합이어도 True 반환**"
      ],
      "metadata": {
        "id": "-xzea_K4tSjX"
      }
    },
    {
      "cell_type": "code",
      "source": [
        "testSet5.issuperset(testSet4)"
      ],
      "metadata": {
        "colab": {
          "base_uri": "https://localhost:8080/"
        },
        "outputId": "7ff79c01-c187-40e1-c8cc-dfb1fc1d9cc0",
        "id": "2FzNFl35tSjX"
      },
      "execution_count": 1032,
      "outputs": [
        {
          "output_type": "execute_result",
          "data": {
            "text/plain": [
              "True"
            ]
          },
          "metadata": {},
          "execution_count": 1032
        }
      ]
    },
    {
      "cell_type": "code",
      "source": [
        "testSet5.issuperset(testSet5)"
      ],
      "metadata": {
        "colab": {
          "base_uri": "https://localhost:8080/"
        },
        "outputId": "32b06896-c8a2-4f29-8a6c-622300d6683a",
        "id": "Qz9HD5I1tSjX"
      },
      "execution_count": 1033,
      "outputs": [
        {
          "output_type": "execute_result",
          "data": {
            "text/plain": [
              "True"
            ]
          },
          "metadata": {},
          "execution_count": 1033
        }
      ]
    },
    {
      "cell_type": "code",
      "source": [
        "testSet5.issubset(testSet3)"
      ],
      "metadata": {
        "colab": {
          "base_uri": "https://localhost:8080/"
        },
        "outputId": "fec567a8-31c3-4e44-eb00-9d7e7a7cc1f1",
        "id": "xImms812tSjY"
      },
      "execution_count": 1034,
      "outputs": [
        {
          "output_type": "execute_result",
          "data": {
            "text/plain": [
              "False"
            ]
          },
          "metadata": {},
          "execution_count": 1034
        }
      ]
    },
    {
      "cell_type": "markdown",
      "source": [
        "##iterable 공통 (파이썬 내장함수)"
      ],
      "metadata": {
        "id": "7EJm0gWgPSQy"
      }
    },
    {
      "cell_type": "markdown",
      "source": [
        "#### TestSample"
      ],
      "metadata": {
        "id": "adC1o0elJlTL"
      }
    },
    {
      "cell_type": "code",
      "source": [
        "testlist0 = []\n",
        "testlist1 = [0]\n",
        "testlist2 = [False]\n",
        "testlist3 = [0, 10, 20, 30, 40, 50]\n",
        "testlist4 = ['가', '나', '다']\n",
        "testlist5 = [10, 20, 30, 40, 50, '가', '나', '다']"
      ],
      "metadata": {
        "id": "oLRuGn7xui5e"
      },
      "execution_count": 1035,
      "outputs": []
    },
    {
      "cell_type": "code",
      "source": [
        "testtuple1 = ()\n",
        "testtuple2 = (0, 1)\n",
        "testtuple3 = (False, True)\n",
        "testtuple4 = (10, 20, 20, 20, 20)\n",
        "testtuple5 = (10, 20, 20, 20, 20, '가', '나', '나', '강아지')"
      ],
      "metadata": {
        "id": "ZgFFzZoCunzn"
      },
      "execution_count": 1036,
      "outputs": []
    },
    {
      "cell_type": "code",
      "source": [
        "testSet0 = {}\n",
        "testSet1 = {0}\n",
        "testSet2 = {False}\n",
        "testSet3 = {0, 10, 20, 30, 50, 50}\n",
        "testSet4 = {'가', '나', '다'}\n",
        "testSet5 = {10, 20, 30, 40, 50, '가', '나', '다'}"
      ],
      "metadata": {
        "id": "ZlsBbv2B2C5Z"
      },
      "execution_count": 1037,
      "outputs": []
    },
    {
      "cell_type": "code",
      "source": [
        "testDict0 = {}\n",
        "testDict1 = {False : True}\n",
        "testDict2 = {1: 101, 3: 102, 5: 103, 8: 104, 10: 105}\n",
        "testDict3 = {1: \"강아지\", 2: \"고양이\", 3: \"호랑이\", 4: \"토끼\", 5: \"햄스터\"}\n",
        "testDict4 = {\"강아지\": \"멍멍\", \"고양이\": \"야옹\", \"호랑이\": \"어흥\", \"송아지\": \"음메\"}\n",
        "testDict5 = {1: 201, 2: 202, 3: 203, \"강아지\": \"멍멍\", \"고양이\": \"야옹\"}"
      ],
      "metadata": {
        "id": "-SLfrS_mutMv"
      },
      "execution_count": 1038,
      "outputs": []
    },
    {
      "cell_type": "markdown",
      "source": [
        "###**아이템별 참/거짓 판별**"
      ],
      "metadata": {
        "id": "531l7L2-OmL9"
      }
    },
    {
      "cell_type": "markdown",
      "source": [
        "####   all(iterable)\n",
        "* 객체 안의 아이템이 모두 True거나 비어있을 때, True를 반환함\n",
        "\n",
        "\n",
        "\n",
        "\n",
        "\n"
      ],
      "metadata": {
        "id": "eWGspMo4L0Pg"
      }
    },
    {
      "cell_type": "code",
      "source": [
        "allList=[all(testlist0), all(testlist1), all(testlist2), all(testlist3), all(testlist4), all(testlist5)]\n",
        "print(allList)"
      ],
      "metadata": {
        "colab": {
          "base_uri": "https://localhost:8080/"
        },
        "id": "gTVb4Amd7gUP",
        "outputId": "4a6974fc-5429-4a0f-85be-0c96017ecb4b"
      },
      "execution_count": 1039,
      "outputs": [
        {
          "output_type": "stream",
          "name": "stdout",
          "text": [
            "[True, False, False, False, True, True]\n"
          ]
        }
      ]
    },
    {
      "cell_type": "code",
      "source": [
        "allTuple=[all(testtuple1), all(testtuple2), all(testtuple3), all(testtuple4), all(testtuple5)]\n",
        "print(allTuple)"
      ],
      "metadata": {
        "colab": {
          "base_uri": "https://localhost:8080/"
        },
        "id": "shcpPqzf7WYg",
        "outputId": "966736b6-35f2-4237-a64b-ae59c7fda6ff"
      },
      "execution_count": 1040,
      "outputs": [
        {
          "output_type": "stream",
          "name": "stdout",
          "text": [
            "[True, False, False, True, True]\n"
          ]
        }
      ]
    },
    {
      "cell_type": "code",
      "source": [
        "allSet=[all(testSet0),all(testSet1),all(testSet2),all(testSet3),all(testSet4),all(testSet5)]\n",
        "print(allSet)"
      ],
      "metadata": {
        "colab": {
          "base_uri": "https://localhost:8080/"
        },
        "id": "cPKixEoCPgoP",
        "outputId": "ca60875f-521d-4177-bacb-132ba81c3534"
      },
      "execution_count": 1041,
      "outputs": [
        {
          "output_type": "stream",
          "name": "stdout",
          "text": [
            "[True, False, False, False, True, True]\n"
          ]
        }
      ]
    },
    {
      "cell_type": "code",
      "source": [
        "print(all(testDict0))\n",
        "print(all(testDict1)) # 키 값을 기준으로 하여 False 반환\n",
        "print(all(testDict2))\n",
        "print(all(testDict3))\n",
        "print(all(testDict4))\n",
        "print(all(testDict5))"
      ],
      "metadata": {
        "colab": {
          "base_uri": "https://localhost:8080/"
        },
        "id": "oO6azuh2u7dE",
        "outputId": "6277cb2e-3a42-4c28-98b4-dc9734d779b3"
      },
      "execution_count": 1042,
      "outputs": [
        {
          "output_type": "stream",
          "name": "stdout",
          "text": [
            "True\n",
            "False\n",
            "True\n",
            "True\n",
            "True\n",
            "True\n"
          ]
        }
      ]
    },
    {
      "cell_type": "markdown",
      "source": [
        "#### any(iterable)\n",
        "* 객체 안의 아이템 중 하라도 True라면 True, 비어있을 때는 False를 반환함\n",
        "\n",
        "\n",
        "\n",
        "\n",
        "\n"
      ],
      "metadata": {
        "id": "FFptUiniSPGP"
      }
    },
    {
      "cell_type": "code",
      "source": [
        "anyList=[any(testlist0), any(testlist1), any(testlist2), any(testlist3), any(testlist4), any(testlist5)]\n",
        "print(anyList)"
      ],
      "metadata": {
        "colab": {
          "base_uri": "https://localhost:8080/"
        },
        "outputId": "3bf32d68-550b-4202-f46c-e721caa15c76",
        "id": "ZerTjqHf0kpp"
      },
      "execution_count": 1043,
      "outputs": [
        {
          "output_type": "stream",
          "name": "stdout",
          "text": [
            "[False, False, False, True, True, True]\n"
          ]
        }
      ]
    },
    {
      "cell_type": "code",
      "source": [
        "anyTuple=[any(testtuple1), any(testtuple2), any(testtuple3), any(testtuple4), any(testtuple5)]\n",
        "print(anyTuple)"
      ],
      "metadata": {
        "colab": {
          "base_uri": "https://localhost:8080/"
        },
        "outputId": "1e4363e8-6923-4172-aed8-056460b2ced9",
        "id": "SADgcauD1p3h"
      },
      "execution_count": 1044,
      "outputs": [
        {
          "output_type": "stream",
          "name": "stdout",
          "text": [
            "[False, True, True, True, True]\n"
          ]
        }
      ]
    },
    {
      "cell_type": "code",
      "source": [
        "anySet=[any(testSet0),any(testSet1),any(testSet2),any(testSet3),any(testSet4),any(testSet5)]\n",
        "print(anySet)"
      ],
      "metadata": {
        "colab": {
          "base_uri": "https://localhost:8080/"
        },
        "outputId": "4fec407f-244f-4732-8b6f-89f4a3c552d3",
        "id": "ihpCJxgV0kpq"
      },
      "execution_count": 1045,
      "outputs": [
        {
          "output_type": "stream",
          "name": "stdout",
          "text": [
            "[False, False, False, True, True, True]\n"
          ]
        }
      ]
    },
    {
      "cell_type": "code",
      "source": [
        "print(any(testDict0), any(testDict1), any(testDict2), any(testDict3), any(testDict4), any(testDict5))"
      ],
      "metadata": {
        "colab": {
          "base_uri": "https://localhost:8080/"
        },
        "id": "D5l2my3g2SLD",
        "outputId": "c99bfc93-bf17-4dd0-a831-a55a11538845"
      },
      "execution_count": 1046,
      "outputs": [
        {
          "output_type": "stream",
          "name": "stdout",
          "text": [
            "False False True True True True\n"
          ]
        }
      ]
    },
    {
      "cell_type": "markdown",
      "source": [
        "###**아이템 순서**"
      ],
      "metadata": {
        "id": "5C4ohdV-OvY7"
      }
    },
    {
      "cell_type": "markdown",
      "source": [
        "####reversed(sqe)\n",
        "* 객체의 아이템 순서 뒤집기\n",
        "\n",
        "* list의 reverse()와 달리 객체 순서 자체를 변경하는 것이 아니라 순서를 변경한 객체를 새로이 생성하여 반환한다.\n",
        " > *주의사항*\n",
        "\n",
        " > *revered(iterable)한다고 끝나는 것이 아니라 값을 반환받을 형태로 형변환해야 출력 가능함. 예제 확인!!*\n",
        "\n",
        "* **아이템의 유형이 동일하지 않아도 동작한다.**\n",
        "\n",
        "* **순서가 없는 set, dict에는 적용되지 않는다.**"
      ],
      "metadata": {
        "id": "bVcwXIgI5nTw"
      }
    },
    {
      "cell_type": "code",
      "source": [
        "print(testlist3)\n",
        "reversedList = list(reversed(testlist3))\n",
        "print(reversedList)"
      ],
      "metadata": {
        "colab": {
          "base_uri": "https://localhost:8080/"
        },
        "outputId": "ede1f922-7027-42ee-fc80-d17c31952973",
        "id": "mjoUsLzL5nTw"
      },
      "execution_count": 1047,
      "outputs": [
        {
          "output_type": "stream",
          "name": "stdout",
          "text": [
            "[0, 10, 20, 30, 40, 50]\n",
            "[50, 40, 30, 20, 10, 0]\n"
          ]
        }
      ]
    },
    {
      "cell_type": "code",
      "source": [
        "print(testlist4)\n",
        "reversedList2 = list(reversed(testlist4))\n",
        "print(reversedList2)"
      ],
      "metadata": {
        "colab": {
          "base_uri": "https://localhost:8080/"
        },
        "outputId": "b60e6282-8c00-4693-9e62-b31e136fecf7",
        "id": "f2SAAAeA5nTx"
      },
      "execution_count": 1048,
      "outputs": [
        {
          "output_type": "stream",
          "name": "stdout",
          "text": [
            "['가', '나', '다']\n",
            "['다', '나', '가']\n"
          ]
        }
      ]
    },
    {
      "cell_type": "code",
      "source": [
        "print(testtuple4)\n",
        "reversedTuple = tuple(reversed(testtuple4))\n",
        "print(reversedTuple)"
      ],
      "metadata": {
        "colab": {
          "base_uri": "https://localhost:8080/"
        },
        "outputId": "dfcd36ee-7030-472d-d292-fa7e1f4bb828",
        "id": "1Ra4vzNT5nTx"
      },
      "execution_count": 1049,
      "outputs": [
        {
          "output_type": "stream",
          "name": "stdout",
          "text": [
            "(10, 20, 20, 20, 20)\n",
            "(20, 20, 20, 20, 10)\n"
          ]
        }
      ]
    },
    {
      "cell_type": "code",
      "source": [
        "print(testtuple5)\n",
        "reversedList3 = list(reversed(testtuple5))\n",
        "print(reversedList3)"
      ],
      "metadata": {
        "colab": {
          "base_uri": "https://localhost:8080/"
        },
        "id": "5Kr1TjQt9xGh",
        "outputId": "a77e61bb-b202-4ce8-9aeb-8459579e1a53"
      },
      "execution_count": 1050,
      "outputs": [
        {
          "output_type": "stream",
          "name": "stdout",
          "text": [
            "(10, 20, 20, 20, 20, '가', '나', '나', '강아지')\n",
            "['강아지', '나', '나', '가', 20, 20, 20, 20, 10]\n"
          ]
        }
      ]
    },
    {
      "cell_type": "markdown",
      "source": [
        ""
      ],
      "metadata": {
        "id": "YdxhmZGPCCxT"
      }
    },
    {
      "cell_type": "markdown",
      "source": [
        "####sorted(iterable) / sorted(iterable, reverse=False) // sorted(iterable. reverse=True)\n",
        "* sorted(iterable) / sorted(iterable, reverse=False): 객체의 아이템 오름차순으로 정렬\n",
        "\n",
        "* (iterable. reverse=True): 객체의 아이템 내림차순으로 정렬\n",
        "\n",
        "* list의 sort()와 달리 객체 순서 자체를 변경하는 것이 아니라 순서를 변경한 객체를 새로이 생성하여 반환한다.\n",
        " > *주의사항*\n",
        "\n",
        " > *sorted(iterable)한다고 끝나는 것이 아니라 값을 반환받을 형태(list/tuple)로 형변환해야 출력 가능함. 예제 확인!!*\n",
        "\n",
        "\n",
        "* *(아마도)순서가 아니라 분류이기 때문에..*\n",
        "* **revered(sqe)와 달리 아이템의 유형이 동일할 때만 동작한다.**\n",
        "\n",
        "* **set, dict에도 적용된다.** \n",
        " >*단, 반환값을 set으로 받으면 set 자체에 순서가 없으므로 의미가 없고 dict로 받으면 key, value쌍이어야 하므로 성립히자 읺음.*\n",
        "\n",
        " > **list(sorted(dictName))** 키만 반환됨\n",
        "\n",
        " > **list(sorted(dictName.items()))** 키를 기준으로 정렬하여 (key, value) 튜플 모음 반환\n",
        "\n",
        " > **list(sorted(dictName.items(), key=lambda item:item[1]))** 값을 기준으로 정렬하여 (key, value) 튜플 모음 반환"
      ],
      "metadata": {
        "id": "rfyZcjHSAEWI"
      }
    },
    {
      "cell_type": "code",
      "source": [
        "print(reversedList)\n",
        "sortedList = list(sorted(reversedList))\n",
        "print(sortedList)"
      ],
      "metadata": {
        "colab": {
          "base_uri": "https://localhost:8080/"
        },
        "outputId": "100192ba-38db-4dc8-bcd3-b61dc76a522c",
        "id": "STsryTxRAEWN"
      },
      "execution_count": 1051,
      "outputs": [
        {
          "output_type": "stream",
          "name": "stdout",
          "text": [
            "[50, 40, 30, 20, 10, 0]\n",
            "[0, 10, 20, 30, 40, 50]\n"
          ]
        }
      ]
    },
    {
      "cell_type": "code",
      "source": [
        "print(reversedList2)\n",
        "reverseSortedList = list(sorted(reversedList2, reverse=True)) # 내림차순 정렬\n",
        "print(reverseSortedList)"
      ],
      "metadata": {
        "colab": {
          "base_uri": "https://localhost:8080/"
        },
        "outputId": "f5847393-721e-4a1c-b7e9-0e9b5b12242a",
        "id": "jVse4rtsAEWO"
      },
      "execution_count": 1052,
      "outputs": [
        {
          "output_type": "stream",
          "name": "stdout",
          "text": [
            "['다', '나', '가']\n",
            "['다', '나', '가']\n"
          ]
        }
      ]
    },
    {
      "cell_type": "code",
      "source": [
        "print(reversedTuple)\n",
        "sortedTuple = tuple(sorted(testtuple4, reverse=False)) # 오름차순 정렬\n",
        "print(sortedTuple)"
      ],
      "metadata": {
        "colab": {
          "base_uri": "https://localhost:8080/"
        },
        "outputId": "e0960cfe-cba6-4cc3-b119-284f790dc3a5",
        "id": "aM69omfNAEWO"
      },
      "execution_count": 1053,
      "outputs": [
        {
          "output_type": "stream",
          "name": "stdout",
          "text": [
            "(20, 20, 20, 20, 10)\n",
            "(10, 20, 20, 20, 20)\n"
          ]
        }
      ]
    },
    {
      "cell_type": "code",
      "source": [
        "radomSet = {100, 45, 24, 108, 7, 15, 36}\n",
        "SortedSet = list(sorted(radomSet))             #주의사항 set으로 받으면 set 자체에 순서가 없으므로 무작위 순서로 출력된다.\n",
        "print(SortedSet)"
      ],
      "metadata": {
        "colab": {
          "base_uri": "https://localhost:8080/"
        },
        "outputId": "836181fd-efb6-4eb0-e7d3-d57603de1938",
        "id": "ZLRmAYaYAtbP"
      },
      "execution_count": 1054,
      "outputs": [
        {
          "output_type": "stream",
          "name": "stdout",
          "text": [
            "[7, 15, 24, 36, 45, 100, 108]\n"
          ]
        }
      ]
    },
    {
      "cell_type": "code",
      "source": [
        "randomDict = {101: 101, 4: 102, 58: 103, 18: 104, 10: 105}\n",
        "SortedDict = list(sorted(randomDict)) \n",
        "print(SortedDict)                               # 키만 반환됨"
      ],
      "metadata": {
        "colab": {
          "base_uri": "https://localhost:8080/"
        },
        "outputId": "cddf05fa-c49f-43c8-9184-c867bbc3a8ba",
        "id": "Sgwj55tbAtbP"
      },
      "execution_count": 1055,
      "outputs": [
        {
          "output_type": "stream",
          "name": "stdout",
          "text": [
            "[4, 10, 18, 58, 101]\n"
          ]
        }
      ]
    },
    {
      "cell_type": "code",
      "source": [
        "print(testDict4)\n",
        "SortedDict = list(sorted(testDict4.items()))    # items를 활용하면 key를 기준으로 오름차순 정렬\n",
        "print(SortedDict)                              "
      ],
      "metadata": {
        "colab": {
          "base_uri": "https://localhost:8080/"
        },
        "outputId": "470bd96e-98d0-41c1-dc82-efc730e44db2",
        "id": "4kI9ISVpGjE-"
      },
      "execution_count": 1056,
      "outputs": [
        {
          "output_type": "stream",
          "name": "stdout",
          "text": [
            "{'강아지': '멍멍', '고양이': '야옹', '호랑이': '어흥', '송아지': '음메'}\n",
            "[('강아지', '멍멍'), ('고양이', '야옹'), ('송아지', '음메'), ('호랑이', '어흥')]\n"
          ]
        }
      ]
    },
    {
      "cell_type": "code",
      "source": [
        "print(testDict3)\n",
        "reverseSortedDict = list(sorted(testDict3.items(), key=lambda item:item[1], reverse=True))    # items + lambda 활용 value를기준 내림차순 정렬\n",
        "print(reverseSortedDict)                              "
      ],
      "metadata": {
        "colab": {
          "base_uri": "https://localhost:8080/"
        },
        "outputId": "3d885882-ae61-4524-87f5-fec5e68e193b",
        "id": "CToQP-jBHJSl"
      },
      "execution_count": 1057,
      "outputs": [
        {
          "output_type": "stream",
          "name": "stdout",
          "text": [
            "{1: '강아지', 2: '고양이', 3: '호랑이', 4: '토끼', 5: '햄스터'}\n",
            "[(3, '호랑이'), (5, '햄스터'), (4, '토끼'), (2, '고양이'), (1, '강아지')]\n"
          ]
        }
      ]
    },
    {
      "cell_type": "markdown",
      "source": [
        "###**최대값/최소값/합/아이템 개수**"
      ],
      "metadata": {
        "id": "keyYZl5gOy5L"
      }
    },
    {
      "cell_type": "markdown",
      "source": [
        "####min(iterable)\n",
        "* 객체 내 최소값 반환\n",
        "* 단, 아이템의 유형이 모두 동일할 때만 동작한다."
      ],
      "metadata": {
        "id": "M7aGIbXNPArQ"
      }
    },
    {
      "cell_type": "code",
      "source": [
        "print(testlist3)\n",
        "min(testlist3)"
      ],
      "metadata": {
        "colab": {
          "base_uri": "https://localhost:8080/"
        },
        "id": "dns0CRMjPvv5",
        "outputId": "cb91d16b-3295-4377-811e-5e5b0b563965"
      },
      "execution_count": 1058,
      "outputs": [
        {
          "output_type": "stream",
          "name": "stdout",
          "text": [
            "[0, 10, 20, 30, 40, 50]\n"
          ]
        },
        {
          "output_type": "execute_result",
          "data": {
            "text/plain": [
              "0"
            ]
          },
          "metadata": {},
          "execution_count": 1058
        }
      ]
    },
    {
      "cell_type": "code",
      "source": [
        "print(testlist4)\n",
        "min(testlist4)"
      ],
      "metadata": {
        "colab": {
          "base_uri": "https://localhost:8080/",
          "height": 54
        },
        "id": "jD8PfcVUQDOf",
        "outputId": "fcd80dc2-3cd6-42e8-ae05-a11bf51f95da"
      },
      "execution_count": 1059,
      "outputs": [
        {
          "output_type": "stream",
          "name": "stdout",
          "text": [
            "['가', '나', '다']\n"
          ]
        },
        {
          "output_type": "execute_result",
          "data": {
            "text/plain": [
              "'가'"
            ],
            "application/vnd.google.colaboratory.intrinsic+json": {
              "type": "string"
            }
          },
          "metadata": {},
          "execution_count": 1059
        }
      ]
    },
    {
      "cell_type": "code",
      "source": [
        "print(testtuple4)\n",
        "min(testtuple4)"
      ],
      "metadata": {
        "colab": {
          "base_uri": "https://localhost:8080/"
        },
        "id": "pPVWWapRQ0v3",
        "outputId": "0c30c6d1-b95b-4480-8f21-1631bd6d6674"
      },
      "execution_count": 1060,
      "outputs": [
        {
          "output_type": "stream",
          "name": "stdout",
          "text": [
            "(10, 20, 20, 20, 20)\n"
          ]
        },
        {
          "output_type": "execute_result",
          "data": {
            "text/plain": [
              "10"
            ]
          },
          "metadata": {},
          "execution_count": 1060
        }
      ]
    },
    {
      "cell_type": "code",
      "source": [
        "print(testSet3)\n",
        "min(testSet3)"
      ],
      "metadata": {
        "colab": {
          "base_uri": "https://localhost:8080/"
        },
        "id": "c_y23aFN3jFc",
        "outputId": "3afc35fa-752a-4829-8626-29beabd28ab0"
      },
      "execution_count": 1061,
      "outputs": [
        {
          "output_type": "stream",
          "name": "stdout",
          "text": [
            "{0, 10, 50, 20, 30}\n"
          ]
        },
        {
          "output_type": "execute_result",
          "data": {
            "text/plain": [
              "0"
            ]
          },
          "metadata": {},
          "execution_count": 1061
        }
      ]
    },
    {
      "cell_type": "code",
      "source": [
        "print(testDict2)\n",
        "min(testDict2)"
      ],
      "metadata": {
        "colab": {
          "base_uri": "https://localhost:8080/"
        },
        "id": "1AFeVAVw3oHz",
        "outputId": "6729c8f7-ba98-4649-e7d1-e8663190d05e"
      },
      "execution_count": 1062,
      "outputs": [
        {
          "output_type": "stream",
          "name": "stdout",
          "text": [
            "{1: 101, 3: 102, 5: 103, 8: 104, 10: 105}\n"
          ]
        },
        {
          "output_type": "execute_result",
          "data": {
            "text/plain": [
              "1"
            ]
          },
          "metadata": {},
          "execution_count": 1062
        }
      ]
    },
    {
      "cell_type": "code",
      "source": [
        "print(testDict4)\n",
        "min(testDict4)"
      ],
      "metadata": {
        "colab": {
          "base_uri": "https://localhost:8080/",
          "height": 54
        },
        "outputId": "a09f1899-039c-4276-fa77-376068c24d6f",
        "id": "WCTKURzy3w8Y"
      },
      "execution_count": 1063,
      "outputs": [
        {
          "output_type": "stream",
          "name": "stdout",
          "text": [
            "{'강아지': '멍멍', '고양이': '야옹', '호랑이': '어흥', '송아지': '음메'}\n"
          ]
        },
        {
          "output_type": "execute_result",
          "data": {
            "text/plain": [
              "'강아지'"
            ],
            "application/vnd.google.colaboratory.intrinsic+json": {
              "type": "string"
            }
          },
          "metadata": {},
          "execution_count": 1063
        }
      ]
    },
    {
      "cell_type": "markdown",
      "source": [
        "#### max(iterable)\n",
        "* 객체 내 최대값 반환\n",
        "* 단, 아이템의 유형이 모두 동일할 때만 동작한다."
      ],
      "metadata": {
        "id": "jv6xIGyD3FZ6"
      }
    },
    {
      "cell_type": "code",
      "source": [
        "print(testlist3)\n",
        "max(testlist3)"
      ],
      "metadata": {
        "colab": {
          "base_uri": "https://localhost:8080/"
        },
        "outputId": "08b6e4d7-113d-4ed6-f176-71a7030c3cc6",
        "id": "FWo9dZ5V4Xoh"
      },
      "execution_count": 1064,
      "outputs": [
        {
          "output_type": "stream",
          "name": "stdout",
          "text": [
            "[0, 10, 20, 30, 40, 50]\n"
          ]
        },
        {
          "output_type": "execute_result",
          "data": {
            "text/plain": [
              "50"
            ]
          },
          "metadata": {},
          "execution_count": 1064
        }
      ]
    },
    {
      "cell_type": "code",
      "source": [
        "print(testlist4)\n",
        "max(testlist4)"
      ],
      "metadata": {
        "colab": {
          "base_uri": "https://localhost:8080/",
          "height": 54
        },
        "outputId": "6d7d3b65-dde5-4d23-b840-c61fe6a32dcd",
        "id": "XQkbW9SS4Xoh"
      },
      "execution_count": 1065,
      "outputs": [
        {
          "output_type": "stream",
          "name": "stdout",
          "text": [
            "['가', '나', '다']\n"
          ]
        },
        {
          "output_type": "execute_result",
          "data": {
            "text/plain": [
              "'다'"
            ],
            "application/vnd.google.colaboratory.intrinsic+json": {
              "type": "string"
            }
          },
          "metadata": {},
          "execution_count": 1065
        }
      ]
    },
    {
      "cell_type": "code",
      "source": [
        "print(testtuple4)\n",
        "max(testtuple4)"
      ],
      "metadata": {
        "colab": {
          "base_uri": "https://localhost:8080/"
        },
        "outputId": "6eb8c036-c80d-4b54-968d-8dc9a309ca5b",
        "id": "1W827nNI4Xoh"
      },
      "execution_count": 1066,
      "outputs": [
        {
          "output_type": "stream",
          "name": "stdout",
          "text": [
            "(10, 20, 20, 20, 20)\n"
          ]
        },
        {
          "output_type": "execute_result",
          "data": {
            "text/plain": [
              "20"
            ]
          },
          "metadata": {},
          "execution_count": 1066
        }
      ]
    },
    {
      "cell_type": "code",
      "source": [
        "print(testSet3)\n",
        "max(testSet3)"
      ],
      "metadata": {
        "colab": {
          "base_uri": "https://localhost:8080/"
        },
        "outputId": "18959852-f280-46d5-a761-1b1a0758a38a",
        "id": "GJrppD4Q4Xoi"
      },
      "execution_count": 1067,
      "outputs": [
        {
          "output_type": "stream",
          "name": "stdout",
          "text": [
            "{0, 10, 50, 20, 30}\n"
          ]
        },
        {
          "output_type": "execute_result",
          "data": {
            "text/plain": [
              "50"
            ]
          },
          "metadata": {},
          "execution_count": 1067
        }
      ]
    },
    {
      "cell_type": "code",
      "source": [
        "print(testDict2)\n",
        "max(testDict2)"
      ],
      "metadata": {
        "colab": {
          "base_uri": "https://localhost:8080/"
        },
        "outputId": "1152bd88-3742-485c-a391-8cccf948b351",
        "id": "3k98Yw3f4Xoi"
      },
      "execution_count": 1068,
      "outputs": [
        {
          "output_type": "stream",
          "name": "stdout",
          "text": [
            "{1: 101, 3: 102, 5: 103, 8: 104, 10: 105}\n"
          ]
        },
        {
          "output_type": "execute_result",
          "data": {
            "text/plain": [
              "10"
            ]
          },
          "metadata": {},
          "execution_count": 1068
        }
      ]
    },
    {
      "cell_type": "code",
      "source": [
        "print(testDict4)\n",
        "max(testDict4)"
      ],
      "metadata": {
        "colab": {
          "base_uri": "https://localhost:8080/",
          "height": 54
        },
        "outputId": "5214b82c-e750-430b-c919-e323d4889b8e",
        "id": "g9ScV1nb4Xoi"
      },
      "execution_count": 1069,
      "outputs": [
        {
          "output_type": "stream",
          "name": "stdout",
          "text": [
            "{'강아지': '멍멍', '고양이': '야옹', '호랑이': '어흥', '송아지': '음메'}\n"
          ]
        },
        {
          "output_type": "execute_result",
          "data": {
            "text/plain": [
              "'호랑이'"
            ],
            "application/vnd.google.colaboratory.intrinsic+json": {
              "type": "string"
            }
          },
          "metadata": {},
          "execution_count": 1069
        }
      ]
    },
    {
      "cell_type": "markdown",
      "source": [
        "#### sum(interable)\n",
        "* 객체 내 아이템 합계\n",
        "* 단, 객체 내 아이템이 숫자일 경우에 한함"
      ],
      "metadata": {
        "id": "2mDKv7ydP4tp"
      }
    },
    {
      "cell_type": "code",
      "source": [
        "print(testlist3)\n",
        "sum(testlist3)"
      ],
      "metadata": {
        "colab": {
          "base_uri": "https://localhost:8080/"
        },
        "outputId": "29a632f0-2fcf-495b-d558-1762bd36fb5d",
        "id": "BFqlWQq64psJ"
      },
      "execution_count": 1070,
      "outputs": [
        {
          "output_type": "stream",
          "name": "stdout",
          "text": [
            "[0, 10, 20, 30, 40, 50]\n"
          ]
        },
        {
          "output_type": "execute_result",
          "data": {
            "text/plain": [
              "150"
            ]
          },
          "metadata": {},
          "execution_count": 1070
        }
      ]
    },
    {
      "cell_type": "code",
      "source": [
        "print(testtuple4)\n",
        "sum(testtuple4)"
      ],
      "metadata": {
        "colab": {
          "base_uri": "https://localhost:8080/"
        },
        "outputId": "ff9bcc9d-fd42-425c-87db-8fcd7c3c34a2",
        "id": "XgbzXqmD4psJ"
      },
      "execution_count": 1071,
      "outputs": [
        {
          "output_type": "stream",
          "name": "stdout",
          "text": [
            "(10, 20, 20, 20, 20)\n"
          ]
        },
        {
          "output_type": "execute_result",
          "data": {
            "text/plain": [
              "90"
            ]
          },
          "metadata": {},
          "execution_count": 1071
        }
      ]
    },
    {
      "cell_type": "code",
      "source": [
        "print(testSet3)\n",
        "sum(testSet3)"
      ],
      "metadata": {
        "colab": {
          "base_uri": "https://localhost:8080/"
        },
        "outputId": "2ca746f0-d3c1-42e0-a23f-5c16e9782c4d",
        "id": "ZybuFOvg4psK"
      },
      "execution_count": 1072,
      "outputs": [
        {
          "output_type": "stream",
          "name": "stdout",
          "text": [
            "{0, 10, 50, 20, 30}\n"
          ]
        },
        {
          "output_type": "execute_result",
          "data": {
            "text/plain": [
              "110"
            ]
          },
          "metadata": {},
          "execution_count": 1072
        }
      ]
    },
    {
      "cell_type": "code",
      "source": [
        "print(testDict2)\n",
        "sum(testDict2)"
      ],
      "metadata": {
        "colab": {
          "base_uri": "https://localhost:8080/"
        },
        "outputId": "2f4824f0-93c0-4e6e-8a0a-af2d9b33362c",
        "id": "n1JF6NHV4psK"
      },
      "execution_count": 1073,
      "outputs": [
        {
          "output_type": "stream",
          "name": "stdout",
          "text": [
            "{1: 101, 3: 102, 5: 103, 8: 104, 10: 105}\n"
          ]
        },
        {
          "output_type": "execute_result",
          "data": {
            "text/plain": [
              "27"
            ]
          },
          "metadata": {},
          "execution_count": 1073
        }
      ]
    },
    {
      "cell_type": "markdown",
      "source": [
        "#### len(iterable)\n",
        "* 객체 내 아이템 개수 반환"
      ],
      "metadata": {
        "id": "89-HDFNLTBD3"
      }
    },
    {
      "cell_type": "code",
      "source": [
        "print(testlist3)\n",
        "len(testlist3)"
      ],
      "metadata": {
        "colab": {
          "base_uri": "https://localhost:8080/"
        },
        "outputId": "8f4be480-da72-4b01-bc97-6b3c54e2e7f4",
        "id": "MGnaJQJr48YC"
      },
      "execution_count": 1074,
      "outputs": [
        {
          "output_type": "stream",
          "name": "stdout",
          "text": [
            "[0, 10, 20, 30, 40, 50]\n"
          ]
        },
        {
          "output_type": "execute_result",
          "data": {
            "text/plain": [
              "6"
            ]
          },
          "metadata": {},
          "execution_count": 1074
        }
      ]
    },
    {
      "cell_type": "code",
      "source": [
        "print(testlist4)\n",
        "len(testlist4)"
      ],
      "metadata": {
        "colab": {
          "base_uri": "https://localhost:8080/"
        },
        "outputId": "2a5fe562-1d3b-4c93-b0bc-bab421fe53de",
        "id": "CYbGYNVS48YC"
      },
      "execution_count": 1075,
      "outputs": [
        {
          "output_type": "stream",
          "name": "stdout",
          "text": [
            "['가', '나', '다']\n"
          ]
        },
        {
          "output_type": "execute_result",
          "data": {
            "text/plain": [
              "3"
            ]
          },
          "metadata": {},
          "execution_count": 1075
        }
      ]
    },
    {
      "cell_type": "code",
      "source": [
        "print(testtuple4)\n",
        "len(testtuple4)"
      ],
      "metadata": {
        "colab": {
          "base_uri": "https://localhost:8080/"
        },
        "outputId": "656226ce-b282-4eb4-ebe9-54746ffe1584",
        "id": "Bb0dqbra48YC"
      },
      "execution_count": 1076,
      "outputs": [
        {
          "output_type": "stream",
          "name": "stdout",
          "text": [
            "(10, 20, 20, 20, 20)\n"
          ]
        },
        {
          "output_type": "execute_result",
          "data": {
            "text/plain": [
              "5"
            ]
          },
          "metadata": {},
          "execution_count": 1076
        }
      ]
    },
    {
      "cell_type": "code",
      "source": [
        "print(testSet3)\n",
        "len(testSet3)"
      ],
      "metadata": {
        "colab": {
          "base_uri": "https://localhost:8080/"
        },
        "outputId": "09f5989e-1926-4c99-d55f-d8934fd568a6",
        "id": "X5TTRV7c48YD"
      },
      "execution_count": 1077,
      "outputs": [
        {
          "output_type": "stream",
          "name": "stdout",
          "text": [
            "{0, 10, 50, 20, 30}\n"
          ]
        },
        {
          "output_type": "execute_result",
          "data": {
            "text/plain": [
              "5"
            ]
          },
          "metadata": {},
          "execution_count": 1077
        }
      ]
    },
    {
      "cell_type": "code",
      "source": [
        "print(testDict2)\n",
        "len(testDict2)"
      ],
      "metadata": {
        "colab": {
          "base_uri": "https://localhost:8080/"
        },
        "outputId": "b6c539fb-da94-41f5-bd0a-fb178b1f7158",
        "id": "1-9LZgQ348YD"
      },
      "execution_count": 1078,
      "outputs": [
        {
          "output_type": "stream",
          "name": "stdout",
          "text": [
            "{1: 101, 3: 102, 5: 103, 8: 104, 10: 105}\n"
          ]
        },
        {
          "output_type": "execute_result",
          "data": {
            "text/plain": [
              "5"
            ]
          },
          "metadata": {},
          "execution_count": 1078
        }
      ]
    },
    {
      "cell_type": "code",
      "source": [
        "print(testDict4)\n",
        "len(testDict4)"
      ],
      "metadata": {
        "colab": {
          "base_uri": "https://localhost:8080/"
        },
        "outputId": "0ac00838-eb46-4ff1-ddfb-195400a69a18",
        "id": "veNiL2DA48YD"
      },
      "execution_count": 1079,
      "outputs": [
        {
          "output_type": "stream",
          "name": "stdout",
          "text": [
            "{'강아지': '멍멍', '고양이': '야옹', '호랑이': '어흥', '송아지': '음메'}\n"
          ]
        },
        {
          "output_type": "execute_result",
          "data": {
            "text/plain": [
              "4"
            ]
          },
          "metadata": {},
          "execution_count": 1079
        }
      ]
    },
    {
      "cell_type": "markdown",
      "source": [
        "###**아이템 확인**"
      ],
      "metadata": {
        "id": "xcdH_zKjPC87"
      }
    },
    {
      "cell_type": "markdown",
      "source": [
        "#### enumerate(iterable)\n",
        "* 객체 내 아이템들을 인덱스와 함께 반환, (index, item)의 튜플로 묶어서 객체 반환"
      ],
      "metadata": {
        "id": "ad3qac98J5m7"
      }
    },
    {
      "cell_type": "code",
      "source": [
        "print(testlist3)\n",
        "enList = list(enumerate(testlist3))\n",
        "print(enList)"
      ],
      "metadata": {
        "colab": {
          "base_uri": "https://localhost:8080/"
        },
        "outputId": "5740ab57-ab27-4ad5-9d45-bfab341621e3",
        "id": "J-xnZjDVJ5m8"
      },
      "execution_count": 1080,
      "outputs": [
        {
          "output_type": "stream",
          "name": "stdout",
          "text": [
            "[0, 10, 20, 30, 40, 50]\n",
            "[(0, 0), (1, 10), (2, 20), (3, 30), (4, 40), (5, 50)]\n"
          ]
        }
      ]
    },
    {
      "cell_type": "code",
      "source": [
        "print(testtuple4)\n",
        "enTuple = tuple(enumerate(testtuple4))\n",
        "print(enTuple)"
      ],
      "metadata": {
        "colab": {
          "base_uri": "https://localhost:8080/"
        },
        "outputId": "73288176-1fd2-4a52-e261-db89866c1d04",
        "id": "mQiYG9vtJ5m8"
      },
      "execution_count": 1081,
      "outputs": [
        {
          "output_type": "stream",
          "name": "stdout",
          "text": [
            "(10, 20, 20, 20, 20)\n",
            "((0, 10), (1, 20), (2, 20), (3, 20), (4, 20))\n"
          ]
        }
      ]
    },
    {
      "cell_type": "code",
      "source": [
        "for i in enumerate(testSet3) :\n",
        "  print(i)"
      ],
      "metadata": {
        "colab": {
          "base_uri": "https://localhost:8080/"
        },
        "id": "-kJMKTuOM3Ss",
        "outputId": "ff54c515-074d-4ff7-e639-c16514a14baa"
      },
      "execution_count": 1082,
      "outputs": [
        {
          "output_type": "stream",
          "name": "stdout",
          "text": [
            "(0, 0)\n",
            "(1, 10)\n",
            "(2, 50)\n",
            "(3, 20)\n",
            "(4, 30)\n"
          ]
        }
      ]
    },
    {
      "cell_type": "code",
      "source": [
        "print(testDict4)\n",
        "enDict = list(enumerate(testDict4))\n",
        "print(enDict)"
      ],
      "metadata": {
        "colab": {
          "base_uri": "https://localhost:8080/"
        },
        "id": "V83kfWwgNPUL",
        "outputId": "e6dbccf3-43b2-4e1a-b092-320ab6e7dcbc"
      },
      "execution_count": 1083,
      "outputs": [
        {
          "output_type": "stream",
          "name": "stdout",
          "text": [
            "{'강아지': '멍멍', '고양이': '야옹', '호랑이': '어흥', '송아지': '음메'}\n",
            "[(0, '강아지'), (1, '고양이'), (2, '호랑이'), (3, '송아지')]\n"
          ]
        }
      ]
    },
    {
      "cell_type": "markdown",
      "source": [
        "#### value in interable\n",
        "* 해당 값이 객체 내에 아이템으로 존재하는지 확인"
      ],
      "metadata": {
        "id": "FocM82ajSpRn"
      }
    },
    {
      "cell_type": "code",
      "source": [
        "10 in testlist3"
      ],
      "metadata": {
        "colab": {
          "base_uri": "https://localhost:8080/"
        },
        "outputId": "2fb3e894-5932-40f9-9fab-8fa8e2a2c7f9",
        "id": "epV4u4FnSpRn"
      },
      "execution_count": 1084,
      "outputs": [
        {
          "output_type": "execute_result",
          "data": {
            "text/plain": [
              "True"
            ]
          },
          "metadata": {},
          "execution_count": 1084
        }
      ]
    },
    {
      "cell_type": "code",
      "source": [
        "'다' in testtuple0"
      ],
      "metadata": {
        "colab": {
          "base_uri": "https://localhost:8080/"
        },
        "id": "1Mx50mqCTOsg",
        "outputId": "b4af511e-f0fb-425e-ddcc-22c1e278f737"
      },
      "execution_count": 1085,
      "outputs": [
        {
          "output_type": "execute_result",
          "data": {
            "text/plain": [
              "False"
            ]
          },
          "metadata": {},
          "execution_count": 1085
        }
      ]
    },
    {
      "cell_type": "code",
      "source": [
        "'호랑이' in testDict3"
      ],
      "metadata": {
        "colab": {
          "base_uri": "https://localhost:8080/"
        },
        "id": "yZIaVw6-JNVs",
        "outputId": "6eaf06a2-75cc-4c9f-f248-2c908a6b2d3d"
      },
      "execution_count": 1086,
      "outputs": [
        {
          "output_type": "execute_result",
          "data": {
            "text/plain": [
              "False"
            ]
          },
          "metadata": {},
          "execution_count": 1086
        }
      ]
    },
    {
      "cell_type": "code",
      "source": [
        "'호랑이' in testDict4"
      ],
      "metadata": {
        "colab": {
          "base_uri": "https://localhost:8080/"
        },
        "id": "HlfPqS0NJWKp",
        "outputId": "60825740-2688-4d32-eb04-0d667fb03993"
      },
      "execution_count": 1087,
      "outputs": [
        {
          "output_type": "execute_result",
          "data": {
            "text/plain": [
              "True"
            ]
          },
          "metadata": {},
          "execution_count": 1087
        }
      ]
    },
    {
      "cell_type": "code",
      "source": [
        "10 in testSet5"
      ],
      "metadata": {
        "colab": {
          "base_uri": "https://localhost:8080/"
        },
        "id": "iR-IMxL-JeGa",
        "outputId": "132ed3da-9ae7-4950-ba52-fedb1f41b790"
      },
      "execution_count": 1088,
      "outputs": [
        {
          "output_type": "execute_result",
          "data": {
            "text/plain": [
              "True"
            ]
          },
          "metadata": {},
          "execution_count": 1088
        }
      ]
    }
  ]
}