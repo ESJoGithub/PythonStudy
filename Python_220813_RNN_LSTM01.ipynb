{
 "cells": [
  {
   "cell_type": "markdown",
   "id": "7aca2805",
   "metadata": {},
   "source": [
    "# LSTM을 이용한 감성분석\n",
    "---\n",
    "RNN(순환신경망)의 대표 모형인 LSTM을 이용한 아마존 리뷰 감성 분석"
   ]
  },
  {
   "cell_type": "markdown",
   "id": "a6239150",
   "metadata": {},
   "source": [
    "### 데이터 불러오기"
   ]
  },
  {
   "cell_type": "code",
   "execution_count": 1,
   "id": "02a39882",
   "metadata": {},
   "outputs": [],
   "source": [
    "import tensorflow.keras\n",
    "import pandas as pd"
   ]
  },
  {
   "cell_type": "code",
   "execution_count": 2,
   "id": "b3159826",
   "metadata": {},
   "outputs": [
    {
     "data": {
      "text/html": [
       "<div>\n",
       "<style scoped>\n",
       "    .dataframe tbody tr th:only-of-type {\n",
       "        vertical-align: middle;\n",
       "    }\n",
       "\n",
       "    .dataframe tbody tr th {\n",
       "        vertical-align: top;\n",
       "    }\n",
       "\n",
       "    .dataframe thead th {\n",
       "        text-align: right;\n",
       "    }\n",
       "</style>\n",
       "<table border=\"1\" class=\"dataframe\">\n",
       "  <thead>\n",
       "    <tr style=\"text-align: right;\">\n",
       "      <th></th>\n",
       "      <th>0</th>\n",
       "      <th>1</th>\n",
       "    </tr>\n",
       "  </thead>\n",
       "  <tbody>\n",
       "    <tr>\n",
       "      <th>0</th>\n",
       "      <td>So there is no way for me to plug it in here i...</td>\n",
       "      <td>0</td>\n",
       "    </tr>\n",
       "    <tr>\n",
       "      <th>1</th>\n",
       "      <td>Good case, Excellent value.</td>\n",
       "      <td>1</td>\n",
       "    </tr>\n",
       "    <tr>\n",
       "      <th>2</th>\n",
       "      <td>Great for the jawbone.</td>\n",
       "      <td>1</td>\n",
       "    </tr>\n",
       "    <tr>\n",
       "      <th>3</th>\n",
       "      <td>Tied to charger for conversations lasting more...</td>\n",
       "      <td>0</td>\n",
       "    </tr>\n",
       "    <tr>\n",
       "      <th>4</th>\n",
       "      <td>The mic is great.</td>\n",
       "      <td>1</td>\n",
       "    </tr>\n",
       "  </tbody>\n",
       "</table>\n",
       "</div>"
      ],
      "text/plain": [
       "                                                   0  1\n",
       "0  So there is no way for me to plug it in here i...  0\n",
       "1                        Good case, Excellent value.  1\n",
       "2                             Great for the jawbone.  1\n",
       "3  Tied to charger for conversations lasting more...  0\n",
       "4                                  The mic is great.  1"
      ]
     },
     "execution_count": 2,
     "metadata": {},
     "output_type": "execute_result"
    }
   ],
   "source": [
    "df = pd.read_csv('amazon_cells_labelled.txt', sep='\\t', header=None)\n",
    "df.head()"
   ]
  },
  {
   "cell_type": "markdown",
   "id": "ca7c1694",
   "metadata": {},
   "source": [
    "### 토큰화"
   ]
  },
  {
   "cell_type": "code",
   "execution_count": 3,
   "id": "4c28ac31",
   "metadata": {},
   "outputs": [],
   "source": [
    "# TDM이 아닌 토큰의 리스트로 토큰화함\n",
    "# 한국어를 처리할 때는 사전에 형태소분석을 진행해야 함.\n",
    "tok = tensorflow.keras.preprocessing.text.Tokenizer()\n",
    "# 텍스트가 있는 표의 0번째 열 df[0]을 바탕으로 텍스트의 단어 종류를 학습\n",
    "# 단어마다 고유 번호를 붙임\n",
    "tok.fit_on_texts(df[0])"
   ]
  },
  {
   "cell_type": "code",
   "execution_count": 4,
   "id": "b8caaa27",
   "metadata": {},
   "outputs": [
    {
     "data": {
      "text/plain": [
       "155"
      ]
     },
     "execution_count": 4,
     "metadata": {},
     "output_type": "execute_result"
    }
   ],
   "source": [
    "tok.word_index['plug']"
   ]
  },
  {
   "cell_type": "code",
   "execution_count": 5,
   "id": "e35fc09e",
   "metadata": {},
   "outputs": [
    {
     "data": {
      "text/plain": [
       "'plug'"
      ]
     },
     "execution_count": 5,
     "metadata": {},
     "output_type": "execute_result"
    }
   ],
   "source": [
    "tok.index_word[155]"
   ]
  },
  {
   "cell_type": "code",
   "execution_count": 6,
   "id": "6dc3aed8",
   "metadata": {},
   "outputs": [],
   "source": [
    "seq = tok.texts_to_sequences(df[0])"
   ]
  },
  {
   "cell_type": "code",
   "execution_count": 7,
   "id": "7dc940a1",
   "metadata": {},
   "outputs": [
    {
     "data": {
      "text/plain": [
       "[33,\n",
       " 117,\n",
       " 5,\n",
       " 53,\n",
       " 214,\n",
       " 11,\n",
       " 47,\n",
       " 8,\n",
       " 155,\n",
       " 4,\n",
       " 19,\n",
       " 337,\n",
       " 19,\n",
       " 1,\n",
       " 546,\n",
       " 416,\n",
       " 2,\n",
       " 241,\n",
       " 190,\n",
       " 6,\n",
       " 812]"
      ]
     },
     "execution_count": 7,
     "metadata": {},
     "output_type": "execute_result"
    }
   ],
   "source": [
    "seq[0]"
   ]
  },
  {
   "cell_type": "code",
   "execution_count": 8,
   "id": "44991813",
   "metadata": {
    "scrolled": true
   },
   "outputs": [
    {
     "data": {
      "text/plain": [
       "'so there is no way for me to plug it in here in the us unless i go by a converter'"
      ]
     },
     "execution_count": 8,
     "metadata": {},
     "output_type": "execute_result"
    }
   ],
   "source": [
    "' '.join(tok.index_word[i] for i in seq[0])"
   ]
  },
  {
   "cell_type": "markdown",
   "id": "1f6af3c1",
   "metadata": {},
   "source": [
    "### 패딩\n",
    "---\n",
    "패딩을 통해 텍스트 길이를 맞춰줌"
   ]
  },
  {
   "cell_type": "code",
   "execution_count": 9,
   "id": "bc9b3994",
   "metadata": {},
   "outputs": [],
   "source": [
    "MAXLEN = max(len(s) for s in seq)"
   ]
  },
  {
   "cell_type": "code",
   "execution_count": 10,
   "id": "3866713a",
   "metadata": {},
   "outputs": [
    {
     "data": {
      "text/plain": [
       "array([  0,   0,   0,   0,   0,   0,   0,   0,   0,  33, 117,   5,  53,\n",
       "       214,  11,  47,   8, 155,   4,  19, 337,  19,   1, 546, 416,   2,\n",
       "       241, 190,   6, 812])"
      ]
     },
     "execution_count": 10,
     "metadata": {},
     "output_type": "execute_result"
    }
   ],
   "source": [
    "pad = tensorflow.keras.preprocessing.sequence.pad_sequences(seq, MAXLEN)\n",
    "pad[0]"
   ]
  },
  {
   "cell_type": "markdown",
   "id": "ec04d9a8",
   "metadata": {},
   "source": [
    "### 데이터 분할"
   ]
  },
  {
   "cell_type": "code",
   "execution_count": 11,
   "id": "f62d0b2a",
   "metadata": {},
   "outputs": [],
   "source": [
    "from sklearn.model_selection import train_test_split"
   ]
  },
  {
   "cell_type": "code",
   "execution_count": 12,
   "id": "399251df",
   "metadata": {},
   "outputs": [],
   "source": [
    "X_train, X_test, y_train, y_test = train_test_split(pad, df[1], test_size=0.2, random_state=1234)"
   ]
  },
  {
   "cell_type": "markdown",
   "id": "12a14183",
   "metadata": {},
   "source": [
    "### 모형 만들기"
   ]
  },
  {
   "cell_type": "code",
   "execution_count": 13,
   "id": "19f360d9",
   "metadata": {},
   "outputs": [],
   "source": [
    "from keras.models import Sequential\n",
    "from keras.layers import Dense, Embedding, LSTM"
   ]
  },
  {
   "cell_type": "code",
   "execution_count": 14,
   "id": "889a1890",
   "metadata": {},
   "outputs": [],
   "source": [
    "NUM_WORDS = len(tok.index_word) + 1    #패딩 과정에서 0이 더해지기 때문에 +1 해줘야 함."
   ]
  },
  {
   "cell_type": "code",
   "execution_count": 15,
   "id": "07674b21",
   "metadata": {},
   "outputs": [
    {
     "name": "stdout",
     "output_type": "stream",
     "text": [
      "Model: \"sequential\"\n",
      "_________________________________________________________________\n",
      " Layer (type)                Output Shape              Param #   \n",
      "=================================================================\n",
      " embedding (Embedding)       (None, 30, 8)             15032     \n",
      "                                                                 \n",
      " lstm (LSTM)                 (None, 16)                1600      \n",
      "                                                                 \n",
      " dense (Dense)               (None, 1)                 17        \n",
      "                                                                 \n",
      "=================================================================\n",
      "Total params: 16,649\n",
      "Trainable params: 16,649\n",
      "Non-trainable params: 0\n",
      "_________________________________________________________________\n"
     ]
    }
   ],
   "source": [
    "rnn = Sequential()\n",
    "\n",
    "# 단어 별 고유번호를 벡터(좌표)로 변환 아래 코드에서는 8차원 벡터\n",
    "# 벡터를 통해 유사한 의미의 단어 분석에 활용\n",
    "# mask_zero = True를 통해 0으로 패딩된 값을 학습에서 제외\n",
    "rnn.add(Embedding(\n",
    "                  input_dim = NUM_WORDS, \n",
    "                  output_dim=8, \n",
    "                  input_length=MAXLEN, \n",
    "                  mask_zero=True))\n",
    "# 노드 수 16, 가장 마지막 토큰에만 다음 레이어로 출력을 내보냄\n",
    "rnn.add(LSTM(16, return_sequences=False))\n",
    "\n",
    "rnn.add(Dense(1, activation='sigmoid'))\n",
    "\n",
    "rnn.summary()"
   ]
  },
  {
   "cell_type": "markdown",
   "id": "c49a0e38",
   "metadata": {},
   "source": [
    "### 학습하기"
   ]
  },
  {
   "cell_type": "code",
   "execution_count": 16,
   "id": "46df3451",
   "metadata": {},
   "outputs": [],
   "source": [
    "from keras.optimizers import Adam"
   ]
  },
  {
   "cell_type": "code",
   "execution_count": 17,
   "id": "9467dc8a",
   "metadata": {
    "scrolled": false
   },
   "outputs": [
    {
     "name": "stdout",
     "output_type": "stream",
     "text": [
      "Epoch 1/10\n",
      "25/25 [==============================] - 3s 6ms/step - loss: 0.6924 - acc: 0.5138\n",
      "Epoch 2/10\n",
      "25/25 [==============================] - 0s 8ms/step - loss: 0.6856 - acc: 0.6187\n",
      "Epoch 3/10\n",
      "25/25 [==============================] - 0s 7ms/step - loss: 0.6568 - acc: 0.8388\n",
      "Epoch 4/10\n",
      "25/25 [==============================] - 0s 7ms/step - loss: 0.5375 - acc: 0.8562\n",
      "Epoch 5/10\n",
      "25/25 [==============================] - 0s 7ms/step - loss: 0.4049 - acc: 0.9013\n",
      "Epoch 6/10\n",
      "25/25 [==============================] - 0s 7ms/step - loss: 0.2962 - acc: 0.9525\n",
      "Epoch 7/10\n",
      "25/25 [==============================] - 0s 7ms/step - loss: 0.2278 - acc: 0.9613\n",
      "Epoch 8/10\n",
      "25/25 [==============================] - 0s 6ms/step - loss: 0.1750 - acc: 0.9737\n",
      "Epoch 9/10\n",
      "25/25 [==============================] - 0s 6ms/step - loss: 0.1549 - acc: 0.9750\n",
      "Epoch 10/10\n",
      "25/25 [==============================] - 0s 14ms/step - loss: 0.1725 - acc: 0.9650\n"
     ]
    },
    {
     "data": {
      "text/plain": [
       "<keras.callbacks.History at 0x250f5a7bfd0>"
      ]
     },
     "execution_count": 17,
     "metadata": {},
     "output_type": "execute_result"
    }
   ],
   "source": [
    "rnn.compile(optimizer=Adam(), loss='binary_crossentropy', metrics=['acc'])\n",
    "rnn.fit(X_train, y_train, epochs=10)"
   ]
  },
  {
   "cell_type": "code",
   "execution_count": 18,
   "id": "3a2a1587",
   "metadata": {},
   "outputs": [],
   "source": [
    "from sklearn.metrics import accuracy_score"
   ]
  },
  {
   "cell_type": "code",
   "execution_count": 19,
   "id": "0af01061",
   "metadata": {},
   "outputs": [
    {
     "name": "stdout",
     "output_type": "stream",
     "text": [
      "7/7 [==============================] - 1s 3ms/step\n"
     ]
    },
    {
     "data": {
      "text/plain": [
       "0.81"
      ]
     },
     "execution_count": 19,
     "metadata": {},
     "output_type": "execute_result"
    }
   ],
   "source": [
    "y_pred = (rnn.predict(X_test) > 0.5).astype(\"int32\")\n",
    "accuracy_score(y_test, y_pred)"
   ]
  },
  {
   "cell_type": "markdown",
   "id": "057417c1",
   "metadata": {},
   "source": [
    "## 역방향 RNN"
   ]
  },
  {
   "cell_type": "code",
   "execution_count": 20,
   "id": "696aa5cf",
   "metadata": {},
   "outputs": [
    {
     "name": "stdout",
     "output_type": "stream",
     "text": [
      "Model: \"sequential_1\"\n",
      "_________________________________________________________________\n",
      " Layer (type)                Output Shape              Param #   \n",
      "=================================================================\n",
      " embedding_1 (Embedding)     (None, 30, 8)             15032     \n",
      "                                                                 \n",
      " lstm_1 (LSTM)               (None, 16)                1600      \n",
      "                                                                 \n",
      " dense_1 (Dense)             (None, 1)                 17        \n",
      "                                                                 \n",
      "=================================================================\n",
      "Total params: 16,649\n",
      "Trainable params: 16,649\n",
      "Non-trainable params: 0\n",
      "_________________________________________________________________\n"
     ]
    }
   ],
   "source": [
    "rnn2 = Sequential()\n",
    "rnn2.add(Embedding(input_dim = NUM_WORDS, output_dim=8, input_length=MAXLEN, \n",
    "                  mask_zero=True))\n",
    "# 순환신경망 레이어에 go_backwords = True를 추가하면 역방향으로 단어 처리\n",
    "rnn2.add(LSTM(16, return_sequences=False, go_backwards = True))\n",
    "rnn2.add(Dense(1, activation='sigmoid'))\n",
    "rnn2.summary()"
   ]
  },
  {
   "cell_type": "code",
   "execution_count": 21,
   "id": "3ccdd65e",
   "metadata": {
    "scrolled": false
   },
   "outputs": [
    {
     "name": "stdout",
     "output_type": "stream",
     "text": [
      "Epoch 1/10\n",
      "25/25 [==============================] - 3s 7ms/step - loss: 0.6926 - acc: 0.5050\n",
      "Epoch 2/10\n",
      "25/25 [==============================] - 0s 6ms/step - loss: 0.6867 - acc: 0.5913\n",
      "Epoch 3/10\n",
      "25/25 [==============================] - 0s 6ms/step - loss: 0.6635 - acc: 0.7625\n",
      "Epoch 4/10\n",
      "25/25 [==============================] - 0s 6ms/step - loss: 0.5609 - acc: 0.8637\n",
      "Epoch 5/10\n",
      "25/25 [==============================] - 0s 6ms/step - loss: 0.4146 - acc: 0.9050\n",
      "Epoch 6/10\n",
      "25/25 [==============================] - 0s 6ms/step - loss: 0.3237 - acc: 0.9400\n",
      "Epoch 7/10\n",
      "25/25 [==============================] - 0s 6ms/step - loss: 0.2452 - acc: 0.9638\n",
      "Epoch 8/10\n",
      "25/25 [==============================] - 0s 7ms/step - loss: 0.2069 - acc: 0.9787\n",
      "Epoch 9/10\n",
      "25/25 [==============================] - 0s 6ms/step - loss: 0.1603 - acc: 0.9800\n",
      "Epoch 10/10\n",
      "25/25 [==============================] - 0s 6ms/step - loss: 0.1277 - acc: 0.9850\n",
      "7/7 [==============================] - 0s 4ms/step\n"
     ]
    },
    {
     "data": {
      "text/plain": [
       "0.81"
      ]
     },
     "execution_count": 21,
     "metadata": {},
     "output_type": "execute_result"
    }
   ],
   "source": [
    "rnn2.compile(optimizer=Adam(), loss='binary_crossentropy', metrics=['acc'])\n",
    "rnn2.fit(X_train, y_train, epochs=10)\n",
    "y_pred2 = (rnn.predict(X_test) > 0.5).astype(\"int32\")\n",
    "accuracy_score(y_test, y_pred2)"
   ]
  },
  {
   "cell_type": "markdown",
   "id": "575bafce",
   "metadata": {},
   "source": [
    "## 양방향 RNN"
   ]
  },
  {
   "cell_type": "code",
   "execution_count": 22,
   "id": "ed7068e8",
   "metadata": {},
   "outputs": [],
   "source": [
    "from keras.layers import Bidirectional"
   ]
  },
  {
   "cell_type": "code",
   "execution_count": 23,
   "id": "1cac1801",
   "metadata": {},
   "outputs": [
    {
     "name": "stdout",
     "output_type": "stream",
     "text": [
      "Model: \"sequential_2\"\n",
      "_________________________________________________________________\n",
      " Layer (type)                Output Shape              Param #   \n",
      "=================================================================\n",
      " embedding_2 (Embedding)     (None, 30, 8)             15032     \n",
      "                                                                 \n",
      " bidirectional (Bidirectiona  (None, 32)               3200      \n",
      " l)                                                              \n",
      "                                                                 \n",
      " dense_2 (Dense)             (None, 1)                 33        \n",
      "                                                                 \n",
      "=================================================================\n",
      "Total params: 18,265\n",
      "Trainable params: 18,265\n",
      "Non-trainable params: 0\n",
      "_________________________________________________________________\n"
     ]
    }
   ],
   "source": [
    "rnn3 = Sequential()\n",
    "rnn3.add(Embedding(input_dim = NUM_WORDS, output_dim=8, input_length=MAXLEN, \n",
    "                  mask_zero=True))\n",
    "rnn3.add(Bidirectional(LSTM(16, return_sequences=False)))\n",
    "rnn3.add(Dense(1, activation='sigmoid'))\n",
    "rnn3.summary()"
   ]
  },
  {
   "cell_type": "code",
   "execution_count": 24,
   "id": "3c5d913f",
   "metadata": {},
   "outputs": [
    {
     "name": "stdout",
     "output_type": "stream",
     "text": [
      "Epoch 1/10\n",
      "25/25 [==============================] - 5s 9ms/step - loss: 0.6921 - acc: 0.5325\n",
      "Epoch 2/10\n",
      "25/25 [==============================] - 0s 10ms/step - loss: 0.6826 - acc: 0.6650\n",
      "Epoch 3/10\n",
      "25/25 [==============================] - 0s 8ms/step - loss: 0.6392 - acc: 0.8537\n",
      "Epoch 4/10\n",
      "25/25 [==============================] - 0s 8ms/step - loss: 0.4549 - acc: 0.9000\n",
      "Epoch 5/10\n",
      "25/25 [==============================] - 0s 9ms/step - loss: 0.2825 - acc: 0.9438\n",
      "Epoch 6/10\n",
      "25/25 [==============================] - 0s 9ms/step - loss: 0.1898 - acc: 0.9750\n",
      "Epoch 7/10\n",
      "25/25 [==============================] - 0s 8ms/step - loss: 0.1375 - acc: 0.9825\n",
      "Epoch 8/10\n",
      "25/25 [==============================] - 0s 9ms/step - loss: 0.1048 - acc: 0.9862\n",
      "Epoch 9/10\n",
      "25/25 [==============================] - 0s 10ms/step - loss: 0.0847 - acc: 0.9887\n",
      "Epoch 10/10\n",
      "25/25 [==============================] - 0s 9ms/step - loss: 0.0689 - acc: 0.9912\n",
      "7/7 [==============================] - 0s 4ms/step\n"
     ]
    },
    {
     "data": {
      "text/plain": [
       "0.81"
      ]
     },
     "execution_count": 24,
     "metadata": {},
     "output_type": "execute_result"
    }
   ],
   "source": [
    "rnn3.compile(optimizer=Adam(), loss='binary_crossentropy', metrics=['acc'])\n",
    "rnn3.fit(X_train, y_train, epochs=10)\n",
    "y_pred3 = (rnn.predict(X_test) > 0.5).astype(\"int32\")\n",
    "accuracy_score(y_test, y_pred3)"
   ]
  }
 ],
 "metadata": {
  "kernelspec": {
   "display_name": "Python 3 (ipykernel)",
   "language": "python",
   "name": "python3"
  },
  "language_info": {
   "codemirror_mode": {
    "name": "ipython",
    "version": 3
   },
   "file_extension": ".py",
   "mimetype": "text/x-python",
   "name": "python",
   "nbconvert_exporter": "python",
   "pygments_lexer": "ipython3",
   "version": "3.9.12"
  }
 },
 "nbformat": 4,
 "nbformat_minor": 5
}
