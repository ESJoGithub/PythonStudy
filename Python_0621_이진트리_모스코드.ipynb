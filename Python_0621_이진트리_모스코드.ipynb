{
  "nbformat": 4,
  "nbformat_minor": 0,
  "metadata": {
    "colab": {
      "name": "Python_0621_이진트리_모스코드.ipynb",
      "provenance": [],
      "collapsed_sections": [],
      "authorship_tag": "ABX9TyOehvb2uG6VFz0LNfvmOfua",
      "include_colab_link": true
    },
    "kernelspec": {
      "name": "python3",
      "display_name": "Python 3"
    },
    "language_info": {
      "name": "python"
    }
  },
  "cells": [
    {
      "cell_type": "markdown",
      "metadata": {
        "id": "view-in-github",
        "colab_type": "text"
      },
      "source": [
        "<a href=\"https://colab.research.google.com/github/ESJoGithub/PythonStudy/blob/main/Python_0621_%EC%9D%B4%EC%A7%84%ED%8A%B8%EB%A6%AC_%EB%AA%A8%EC%8A%A4%EC%BD%94%EB%93%9C.ipynb\" target=\"_parent\"><img src=\"https://colab.research.google.com/assets/colab-badge.svg\" alt=\"Open In Colab\"/></a>"
      ]
    },
    {
      "cell_type": "markdown",
      "source": [
        "#### 모스코드 이진트리 구현하기\n",
        "#### 이진트리 활용하여 모스코드 해석 함수 만들기"
      ],
      "metadata": {
        "id": "QiJYGf5O5yHq"
      }
    },
    {
      "cell_type": "code",
      "execution_count": 1,
      "metadata": {
        "id": "oVj01DkQ5qBW"
      },
      "outputs": [],
      "source": [
        "table = [('A', \".-\"), ('B', \"-...\"), ('C', \"-.-.\"), ('D', \"-..\"),\n",
        "         ('E', \".\"), ('F', \"..-.\"), ('G', \"--.\"), ('H', \"....\"),\n",
        "         ('I', \"..\"), ('J', \".---\"), ('K', \"-.-\"), ('L', \".-..\"),\n",
        "         ('M', \"--\"), ('N', \"-.\"), ('O', \"---\"), ('P', \".--.\"),\n",
        "         ('Q', \"--.-\"), ('R', \".-.\"), ('S', \"...\"), ('T', \"-\"),\n",
        "         ('U', \"..-\"), ('V', \"...-\"), ('W', \".--\"), ('X', \"-..-\"),\n",
        "         ('Y', \"-.--\"), ('Z', \"--..\")]"
      ]
    },
    {
      "cell_type": "code",
      "source": [
        "class Node:\n",
        "  def __init__(self, data=None, left=None, right=None):\n",
        "    self.data = data\n",
        "    self.left = left\n",
        "    self.right = right"
      ],
      "metadata": {
        "id": "12KYWGYl6MN8"
      },
      "execution_count": 2,
      "outputs": []
    },
    {
      "cell_type": "code",
      "source": [
        "def makecode(_table):\n",
        "  root = Node()\n",
        "  for morsecode in table:\n",
        "    code = morsecode[1]\n",
        "    c_root = root\n",
        "    for check in code:\n",
        "      if check == '.':\n",
        "        # 아래 부분을 if문으로 처리하지 않으면 경로상 모든 노드를 None으로 초기화해버림...\n",
        "        if c_root.left is None:\n",
        "          temp = Node()\n",
        "          c_root.left = temp\n",
        "        c_root = c_root.left\n",
        "      elif check == '-':\n",
        "        if c_root.right is None:\n",
        "          temp = Node()\n",
        "          c_root.right = temp\n",
        "        c_root = c_root.right      \n",
        "\n",
        "    c_root.data = morsecode[0]\n",
        "  return root\n",
        "\n",
        "def decode(_str, root):\n",
        "  c_root = root\n",
        "  morsecode = []\n",
        "  for code in _str:\n",
        "    if code == \".\":\n",
        "      c_root = c_root.left\n",
        "    elif code == \"-\":\n",
        "      c_root = c_root.right\n",
        "    elif code == \" \":\n",
        "      morsecode.append(c_root.data)\n",
        "      c_root = root\n",
        "  morsecode.append(c_root.data)\n",
        "  print(morsecode)"
      ],
      "metadata": {
        "id": "S9_h5xJx8SNx"
      },
      "execution_count": 5,
      "outputs": []
    },
    {
      "cell_type": "code",
      "source": [
        "str = \"... --- ...\"\n",
        "a = makecode(table)\n",
        "b = decode(str, a)"
      ],
      "metadata": {
        "colab": {
          "base_uri": "https://localhost:8080/"
        },
        "id": "2oucAIEUGooj",
        "outputId": "38356542-92e6-40d0-dbe7-3cb205b96362"
      },
      "execution_count": 7,
      "outputs": [
        {
          "output_type": "stream",
          "name": "stdout",
          "text": [
            "['S', 'O', 'S']\n"
          ]
        }
      ]
    }
  ]
}