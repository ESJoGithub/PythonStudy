{
  "nbformat": 4,
  "nbformat_minor": 0,
  "metadata": {
    "colab": {
      "name": "Python_0426_예제01.ipynb",
      "provenance": [],
      "collapsed_sections": [],
      "authorship_tag": "ABX9TyNcD/vk3I7vcNUXptf1F1F2",
      "include_colab_link": true
    },
    "kernelspec": {
      "name": "python3",
      "display_name": "Python 3"
    },
    "language_info": {
      "name": "python"
    }
  },
  "cells": [
    {
      "cell_type": "markdown",
      "metadata": {
        "id": "view-in-github",
        "colab_type": "text"
      },
      "source": [
        "<a href=\"https://colab.research.google.com/github/ESJoGithub/PythonStudy/blob/main/Python_0426_%EC%98%88%EC%A0%9C01.ipynb\" target=\"_parent\"><img src=\"https://colab.research.google.com/assets/colab-badge.svg\" alt=\"Open In Colab\"/></a>"
      ]
    },
    {
      "cell_type": "markdown",
      "source": [
        "# OS module\n",
        "\n",
        "현재 작업 폴더 확인 getcwd(), getcwdb()\n",
        "\n",
        "작업 폴더 변경 chdir()\n",
        "\n",
        "현재 폴더 내부의 파일 및 하위 폴더 확인 listdir()\n",
        "\n",
        "폴더 생성 mkdir(), makedirs()\n",
        "\n",
        "파일, 폴더의 이름 변경 rename()\n",
        "\n",
        "파일 삭제 remove()\n",
        "\n",
        "폴더 삭제 rmdir(), shutill.rmtree()"
      ],
      "metadata": {
        "id": "LGC76-RPMvP1"
      }
    },
    {
      "cell_type": "markdown",
      "source": [
        "# Exception handling"
      ],
      "metadata": {
        "id": "OY2cONaXrmiR"
      }
    },
    {
      "cell_type": "code",
      "source": [
        "import sys\n",
        "\n",
        "randomList = ['a', 0, 2]\n",
        "\n",
        "for entry in randomList :\n",
        "  try:\n",
        "    print(\"The entry is\", entry)\n",
        "    r = 1/int(entry)\n",
        "    break\n",
        "  except :\n",
        "    print(\"Oops!\", sys.exc_info()[0], \"occurred.\")\n",
        "    print(\"Next entry.\")\n",
        "    print()\n",
        "\n",
        "print(\"The reciprocal of\", entry, \"is\", r)"
      ],
      "metadata": {
        "colab": {
          "base_uri": "https://localhost:8080/"
        },
        "id": "MYrIQSbWrmGK",
        "outputId": "ae74f866-0572-4335-9e33-5d77bf3f55b2"
      },
      "execution_count": null,
      "outputs": [
        {
          "output_type": "stream",
          "name": "stdout",
          "text": [
            "The entry is a\n",
            "Oops! <class 'ValueError'> occurred.\n",
            "Next entry.\n",
            "\n",
            "The entry is 0\n",
            "Oops! <class 'ZeroDivisionError'> occurred.\n",
            "Next entry.\n",
            "\n",
            "The entry is 2\n",
            "The reciprocal of 2 is 0.5\n"
          ]
        }
      ]
    },
    {
      "cell_type": "code",
      "source": [
        "evenSum = 0\n",
        "for i in range(3):\n",
        "  try:\n",
        "    num = int(input(\"숫자를 입력하세요: \"))\n",
        "    assert num%2 == 0\n",
        "  except:\n",
        "    print(\"2의 배수가 아닙니다.\")\n",
        "  else:\n",
        "    print(\"2의 배수입니다.\")\n",
        "    evenSum += num\n",
        "  \n",
        "print(evenSum)  "
      ],
      "metadata": {
        "colab": {
          "base_uri": "https://localhost:8080/"
        },
        "id": "-JpuisudyBqn",
        "outputId": "38e7d761-afdd-4590-98a9-5445dfe03cde"
      },
      "execution_count": null,
      "outputs": [
        {
          "output_type": "stream",
          "name": "stdout",
          "text": [
            "숫자를 입력하세요: 5\n",
            "2의 배수가 아닙니다.\n",
            "숫자를 입력하세요: 9\n",
            "2의 배수가 아닙니다.\n",
            "숫자를 입력하세요: 4\n",
            "2의 배수입니다.\n",
            "4\n"
          ]
        }
      ]
    },
    {
      "cell_type": "code",
      "source": [
        "count = 0\n",
        "evenSum = 0\n",
        "while count != 3 :\n",
        "  try:\n",
        "    num = int(input(\"숫자를 입력하세요: \"))\n",
        "    assert num%2 == 0\n",
        "  except:\n",
        "    print(\"2의 배수가 아닙니다. 다시 입력하세요.\")\n",
        "  else:\n",
        "    print(\"2의 배수입니다.\")\n",
        "    evenSum += num\n",
        "    count += 1\n",
        "print(evenSum)"
      ],
      "metadata": {
        "colab": {
          "base_uri": "https://localhost:8080/"
        },
        "id": "AGmKMD5Y0YVw",
        "outputId": "69c051ae-d304-4bf1-f407-4f4b74814b47"
      },
      "execution_count": null,
      "outputs": [
        {
          "output_type": "stream",
          "name": "stdout",
          "text": [
            "숫자를 입력하세요: 5\n",
            "2의 배수가 아닙니다. 다시 입력하세요.\n",
            "숫자를 입력하세요: 6\n",
            "2의 배수입니다.\n",
            "숫자를 입력하세요: 41\n",
            "2의 배수가 아닙니다. 다시 입력하세요.\n",
            "숫자를 입력하세요: 40\n",
            "2의 배수입니다.\n",
            "숫자를 입력하세요: 50\n",
            "2의 배수입니다.\n",
            "96\n"
          ]
        }
      ]
    },
    {
      "cell_type": "markdown",
      "source": [
        "#Class 예제"
      ],
      "metadata": {
        "id": "qvXtyo1hgkxD"
      }
    },
    {
      "cell_type": "code",
      "execution_count": 26,
      "metadata": {
        "colab": {
          "base_uri": "https://localhost:8080/"
        },
        "id": "uNaXJ0V9e2mr",
        "outputId": "19828a85-651f-45ad-8922-83d37dd4c062"
      },
      "outputs": [
        {
          "output_type": "stream",
          "name": "stdout",
          "text": [
            "kim is a human\n",
            "Kim is 10 years old\n",
            "Lee is 15 years old\n"
          ]
        }
      ],
      "source": [
        "class Human:\n",
        "  species = \"human\"\n",
        "\n",
        "  def __init__(self, name, age):\n",
        "    self.name = name\n",
        "    self.age = age\n",
        "\n",
        "kim = Human(\"Kim\", 10)\n",
        "lee = Human(\"Lee\", 15)\n",
        "\n",
        "print(\"kim is a {}\".format(kim.__class__.species))\n",
        "print(\"{} is {} years old\".format(kim.name, kim.age))\n",
        "print(\"{} is {} years old\".format(lee.name, lee.age))"
      ]
    },
    {
      "cell_type": "code",
      "source": [
        "# parent class\n",
        "class Bird:\n",
        "  def __init__(self):\n",
        "    print(\"Bird is ready\")\n",
        "  def whoisThis(self) :\n",
        "    print(\"Bird\")\n",
        "  def swim(self):\n",
        "    print(\"Swim faster\")\n",
        "    "
      ],
      "metadata": {
        "id": "qlaK8I8nll3_"
      },
      "execution_count": null,
      "outputs": []
    },
    {
      "cell_type": "code",
      "source": [
        "import numpy as np\n",
        "print(np.average.__doc__)"
      ],
      "metadata": {
        "id": "yHA-7sokjWA3"
      },
      "execution_count": null,
      "outputs": []
    }
  ]
}