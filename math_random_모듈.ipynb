{
  "nbformat": 4,
  "nbformat_minor": 0,
  "metadata": {
    "colab": {
      "name": "math_random_모듈.ipynb",
      "provenance": [],
      "collapsed_sections": [
        "hx6Oqr4ZljYT",
        "mtmi1up--h-e",
        "GdM3EFx9L_rD",
        "Snd02ATe8aam",
        "prhKbGMc85In",
        "Oi7FvrKG_IjO",
        "o2bVMQJaAQvA",
        "cP8coJpQl6tt",
        "m7_xxoxzmSMQ",
        "8_AyubWOmepp",
        "Mv59zQOpm4-c",
        "FfxLiDsunk15",
        "rNIyej1gn3cq",
        "x0r5caWzs2Fj",
        "lXQMmpmkxMdi",
        "kXSRK6UUxa9p",
        "qE4t2-23xbsR",
        "KwZ9YHfnxWsC",
        "KfD274wEZxw_",
        "Az5O9UDYPR3P",
        "LT-wTFFGBSoA",
        "UTA5nwFYVoMQ"
      ],
      "toc_visible": true,
      "authorship_tag": "ABX9TyNV4vfSRe70ZlAfrT9BhbWI",
      "include_colab_link": true
    },
    "kernelspec": {
      "name": "python3",
      "display_name": "Python 3"
    },
    "language_info": {
      "name": "python"
    }
  },
  "cells": [
    {
      "cell_type": "markdown",
      "metadata": {
        "id": "view-in-github",
        "colab_type": "text"
      },
      "source": [
        "<a href=\"https://colab.research.google.com/github/ESJoGithub/PythonStudy/blob/main/math_random_%EB%AA%A8%EB%93%88.ipynb\" target=\"_parent\"><img src=\"https://colab.research.google.com/assets/colab-badge.svg\" alt=\"Open In Colab\"/></a>"
      ]
    },
    {
      "cell_type": "markdown",
      "source": [
        "#math 모듈, random 모듈 import하여 사용하기 예제"
      ],
      "metadata": {
        "id": "bCWMIyhV9ouh"
      }
    },
    {
      "cell_type": "markdown",
      "source": [
        "\n",
        "\n",
        "##1.   math 모듈\n",
        "\n"
      ],
      "metadata": {
        "id": "iad29yub9-3E"
      }
    },
    {
      "cell_type": "code",
      "source": [
        "import math as ma"
      ],
      "metadata": {
        "id": "3JGC9qvb7kM7"
      },
      "execution_count": 1,
      "outputs": []
    },
    {
      "cell_type": "markdown",
      "source": [
        "### **올림, 반올림, 버림, 절대값 + a**"
      ],
      "metadata": {
        "id": "hx6Oqr4ZljYT"
      }
    },
    {
      "cell_type": "markdown",
      "source": [
        "#### ceil(x)\n",
        "* 소수점 이하 올림. x보다 큰 정수 중 가장 작은 값 반환\n",
        "\n",
        " > *ceil(3.14)라면 4 반환, ceil(-3.14)라면 -3 반환*\n",
        "\n",
        "\n",
        "\n",
        "\n"
      ],
      "metadata": {
        "id": "UptCPD1M6NjW"
      }
    },
    {
      "cell_type": "code",
      "source": [
        "ma.ceil(3.14)"
      ],
      "metadata": {
        "colab": {
          "base_uri": "https://localhost:8080/"
        },
        "id": "jkd4FQ9I6NOQ",
        "outputId": "fd2f39ec-1573-4ae2-fcca-2556b45bce6c"
      },
      "execution_count": 8,
      "outputs": [
        {
          "output_type": "execute_result",
          "data": {
            "text/plain": [
              "4"
            ]
          },
          "metadata": {},
          "execution_count": 8
        }
      ]
    },
    {
      "cell_type": "code",
      "source": [
        "ma.ceil(-3.14)"
      ],
      "metadata": {
        "colab": {
          "base_uri": "https://localhost:8080/"
        },
        "id": "bOoPHsqm7wF1",
        "outputId": "cdc1b5b7-baac-422d-a733-bb15fe802567"
      },
      "execution_count": 9,
      "outputs": [
        {
          "output_type": "execute_result",
          "data": {
            "text/plain": [
              "-3"
            ]
          },
          "metadata": {},
          "execution_count": 9
        }
      ]
    },
    {
      "cell_type": "markdown",
      "source": [
        "#### floor(x)\n",
        "* 소수점 이하 내림. x보다 작은 정수 중 가장 큰 값 반환\n",
        "\n",
        " > *floor(3.74)라면 3 반환, floor(-3.74)라면 -4 반환*\n",
        "\n",
        "\n"
      ],
      "metadata": {
        "id": "mtmi1up--h-e"
      }
    },
    {
      "cell_type": "code",
      "source": [
        "ma.floor(3.74)"
      ],
      "metadata": {
        "colab": {
          "base_uri": "https://localhost:8080/"
        },
        "id": "-YXUiBsf8F3N",
        "outputId": "c8f3d5e0-5607-4385-c368-d0ace0db1996"
      },
      "execution_count": 4,
      "outputs": [
        {
          "output_type": "execute_result",
          "data": {
            "text/plain": [
              "3"
            ]
          },
          "metadata": {},
          "execution_count": 4
        }
      ]
    },
    {
      "cell_type": "code",
      "source": [
        "ma.floor(-3.74)"
      ],
      "metadata": {
        "colab": {
          "base_uri": "https://localhost:8080/"
        },
        "id": "w1RA_KHg8GJt",
        "outputId": "8afa2fb3-6a9f-4096-df28-a308a865835e"
      },
      "execution_count": 5,
      "outputs": [
        {
          "output_type": "execute_result",
          "data": {
            "text/plain": [
              "-4"
            ]
          },
          "metadata": {},
          "execution_count": 5
        }
      ]
    },
    {
      "cell_type": "markdown",
      "source": [
        "#### trunc(x)\n",
        "* 소수점 이하 버림. x보다 작은 정수 수 중 0에 가까운 값, 즉, x의 정수 부분만 반환\n",
        " \n",
        " > *trunc(3.74)라면 3 반환, trunc(-3.74)라면 -3 반환*"
      ],
      "metadata": {
        "id": "GdM3EFx9L_rD"
      }
    },
    {
      "cell_type": "code",
      "source": [
        "ma.trunc(3.74)"
      ],
      "metadata": {
        "colab": {
          "base_uri": "https://localhost:8080/"
        },
        "outputId": "bac8fbe3-93ab-4d2e-e5a3-f151a572f624",
        "id": "asRbDKFGL_rD"
      },
      "execution_count": 41,
      "outputs": [
        {
          "output_type": "execute_result",
          "data": {
            "text/plain": [
              "3"
            ]
          },
          "metadata": {},
          "execution_count": 41
        }
      ]
    },
    {
      "cell_type": "code",
      "source": [
        "ma.trunc(-3.74)"
      ],
      "metadata": {
        "colab": {
          "base_uri": "https://localhost:8080/"
        },
        "id": "wQlqlzgOOXxT",
        "outputId": "6a560fae-e9f0-41c3-98fb-1542736499eb"
      },
      "execution_count": 42,
      "outputs": [
        {
          "output_type": "execute_result",
          "data": {
            "text/plain": [
              "-3"
            ]
          },
          "metadata": {},
          "execution_count": 42
        }
      ]
    },
    {
      "cell_type": "markdown",
      "source": [
        "#### fabs(x)\n",
        "* x의 절대값 반환\n",
        " \n",
        " > *fabs(-5)라면 5.0 반환*"
      ],
      "metadata": {
        "id": "Snd02ATe8aam"
      }
    },
    {
      "cell_type": "code",
      "source": [
        "ma.fabs(-5)"
      ],
      "metadata": {
        "colab": {
          "base_uri": "https://localhost:8080/"
        },
        "outputId": "3be606db-665c-4bfc-e62d-dd62d42ff10c",
        "id": "MprDEJ3T8aan"
      },
      "execution_count": 6,
      "outputs": [
        {
          "output_type": "execute_result",
          "data": {
            "text/plain": [
              "5.0"
            ]
          },
          "metadata": {},
          "execution_count": 6
        }
      ]
    },
    {
      "cell_type": "markdown",
      "source": [
        "#### copysign(x, y)\n",
        "* x의 부호를 y의 부호로 바꾸어 반환\n",
        " \n",
        " > *copysign(2, -5)라면 -2.0 반환*"
      ],
      "metadata": {
        "id": "prhKbGMc85In"
      }
    },
    {
      "cell_type": "code",
      "source": [
        "ma.copysign(2, -5)"
      ],
      "metadata": {
        "colab": {
          "base_uri": "https://localhost:8080/"
        },
        "outputId": "78a06284-e41b-49d7-f548-2d9b021f4061",
        "id": "lFM4vE_s85In"
      },
      "execution_count": 7,
      "outputs": [
        {
          "output_type": "execute_result",
          "data": {
            "text/plain": [
              "-2.0"
            ]
          },
          "metadata": {},
          "execution_count": 7
        }
      ]
    },
    {
      "cell_type": "markdown",
      "source": [
        "#### factorial(x)\n",
        "* x!(팩토리얼) 값 반환\n",
        " \n",
        " > *factorial(5)라면 5*4*3*2*1하여 120 반환*"
      ],
      "metadata": {
        "id": "Oi7FvrKG_IjO"
      }
    },
    {
      "cell_type": "code",
      "source": [
        "ma.factorial(5)"
      ],
      "metadata": {
        "colab": {
          "base_uri": "https://localhost:8080/"
        },
        "outputId": "59dd4bdb-0c6f-466a-a70c-4f14ee809a55",
        "id": "obau-gco_IjO"
      },
      "execution_count": 10,
      "outputs": [
        {
          "output_type": "execute_result",
          "data": {
            "text/plain": [
              "120"
            ]
          },
          "metadata": {},
          "execution_count": 10
        }
      ]
    },
    {
      "cell_type": "markdown",
      "source": [
        "#### fmod(x, y)\n",
        "* x를 y로 나눈 나머지 반환. x%y와 유사하나 x와 동일한 부호의 값으로 반환\n",
        " \n",
        " > *fmod(5, 3)이라면 2.0 반환, fmod(-5, -3) 또는 fmod(-5, 3)이라면 -2.0 반환*"
      ],
      "metadata": {
        "id": "o2bVMQJaAQvA"
      }
    },
    {
      "cell_type": "code",
      "source": [
        "ma.fmod(5,3)"
      ],
      "metadata": {
        "colab": {
          "base_uri": "https://localhost:8080/"
        },
        "outputId": "959d8c05-e235-4dd2-b237-7f6d9f054fd8",
        "id": "JW_C4QLnAQvA"
      },
      "execution_count": 11,
      "outputs": [
        {
          "output_type": "execute_result",
          "data": {
            "text/plain": [
              "2.0"
            ]
          },
          "metadata": {},
          "execution_count": 11
        }
      ]
    },
    {
      "cell_type": "code",
      "source": [
        "ma.fmod(-5,-3)"
      ],
      "metadata": {
        "colab": {
          "base_uri": "https://localhost:8080/"
        },
        "outputId": "f36cb1b2-b364-4940-d70b-66b5a4d5d9b3",
        "id": "Mu0-ztVTCU0V"
      },
      "execution_count": 12,
      "outputs": [
        {
          "output_type": "execute_result",
          "data": {
            "text/plain": [
              "-2.0"
            ]
          },
          "metadata": {},
          "execution_count": 12
        }
      ]
    },
    {
      "cell_type": "code",
      "source": [
        "ma.fmod(-5,3)"
      ],
      "metadata": {
        "colab": {
          "base_uri": "https://localhost:8080/"
        },
        "outputId": "a89f1aba-33e8-4ef1-95b4-8f2639b35d28",
        "id": "gqaRCkYwCX8k"
      },
      "execution_count": 13,
      "outputs": [
        {
          "output_type": "execute_result",
          "data": {
            "text/plain": [
              "-2.0"
            ]
          },
          "metadata": {},
          "execution_count": 13
        }
      ]
    },
    {
      "cell_type": "markdown",
      "source": [
        "#### fsum(iterable)\n",
        "* iterable객체(여러 값을 가져서 반복적으로 값 입력이 가능한 객체)를 매개변수로 하여 모든 값의 합을 float 형식으로 반환\n",
        " \n",
        " > *fsum([1.1, 2.2, 3.3])이라면 6.6반환, fsum({1, 2, 3})이라면 6.0 반환*"
      ],
      "metadata": {
        "id": "UcG9m--YD7XN"
      }
    },
    {
      "cell_type": "code",
      "source": [
        "ma.fsum([1.1, 2.2, 3.3])"
      ],
      "metadata": {
        "colab": {
          "base_uri": "https://localhost:8080/"
        },
        "outputId": "063fef81-c1cc-4a35-c964-d881cb60a948",
        "id": "5xUho2kqD7XN"
      },
      "execution_count": 14,
      "outputs": [
        {
          "output_type": "execute_result",
          "data": {
            "text/plain": [
              "6.6"
            ]
          },
          "metadata": {},
          "execution_count": 14
        }
      ]
    },
    {
      "cell_type": "code",
      "source": [
        "ma.fsum({1, 2, 3})"
      ],
      "metadata": {
        "colab": {
          "base_uri": "https://localhost:8080/"
        },
        "outputId": "2e4de54e-007c-44d2-e270-8ff712e9e5af",
        "id": "LbKlDAWvD7XO"
      },
      "execution_count": 15,
      "outputs": [
        {
          "output_type": "execute_result",
          "data": {
            "text/plain": [
              "6.0"
            ]
          },
          "metadata": {},
          "execution_count": 15
        }
      ]
    },
    {
      "cell_type": "markdown",
      "source": [
        "#### modf(x)\n",
        "* x의 정수 부분과 소수 부분을 나누어 반환\n",
        " \n",
        " > *modf(3.141592)라면 ~(0.141592, 3)~반환* -> (0.14159200000000016, 3.0)\n",
        " \n",
        " > *modf(100)이라면 ~(0.0, 100)~ 반환* -> (0.0, 100.0)"
      ],
      "metadata": {
        "id": "5rtg1QBLPt-w"
      }
    },
    {
      "cell_type": "code",
      "source": [
        "ma.modf(3.141592)"
      ],
      "metadata": {
        "colab": {
          "base_uri": "https://localhost:8080/"
        },
        "outputId": "6858a2b2-58f4-49e2-d9ad-a0584c8e5a59",
        "id": "TWRp28vmPt-x"
      },
      "execution_count": 43,
      "outputs": [
        {
          "output_type": "execute_result",
          "data": {
            "text/plain": [
              "(0.14159200000000016, 3.0)"
            ]
          },
          "metadata": {},
          "execution_count": 43
        }
      ]
    },
    {
      "cell_type": "code",
      "source": [
        "ma.modf(100)"
      ],
      "metadata": {
        "colab": {
          "base_uri": "https://localhost:8080/"
        },
        "outputId": "a6db03c1-87c9-4a30-a508-b79c1305064b",
        "id": "_eXLMPHZPt-x"
      },
      "execution_count": 44,
      "outputs": [
        {
          "output_type": "execute_result",
          "data": {
            "text/plain": [
              "(0.0, 100.0)"
            ]
          },
          "metadata": {},
          "execution_count": 44
        }
      ]
    },
    {
      "cell_type": "markdown",
      "source": [
        "### **무한대, NaN(not a number)**"
      ],
      "metadata": {
        "id": "cP8coJpQl6tt"
      }
    },
    {
      "cell_type": "markdown",
      "source": [
        "#### nan\n",
        "* 부동 소수점 NaN(not a number) 값(float('nan')과 동일)"
      ],
      "metadata": {
        "id": "cIR7mKmWIjeU"
      }
    },
    {
      "cell_type": "code",
      "source": [
        "ma.nan"
      ],
      "metadata": {
        "colab": {
          "base_uri": "https://localhost:8080/"
        },
        "id": "gJ4ulwNRJQTE",
        "outputId": "97e81c71-e5f0-476d-ce17-c95a8e5cab35"
      },
      "execution_count": 23,
      "outputs": [
        {
          "output_type": "execute_result",
          "data": {
            "text/plain": [
              "nan"
            ]
          },
          "metadata": {},
          "execution_count": 23
        }
      ]
    },
    {
      "cell_type": "code",
      "source": [
        "float('nan')"
      ],
      "metadata": {
        "colab": {
          "base_uri": "https://localhost:8080/"
        },
        "id": "YjJP6bKEJViv",
        "outputId": "01941633-e315-4d4b-97ab-f69af1c96330"
      },
      "execution_count": 24,
      "outputs": [
        {
          "output_type": "execute_result",
          "data": {
            "text/plain": [
              "nan"
            ]
          },
          "metadata": {},
          "execution_count": 24
        }
      ]
    },
    {
      "cell_type": "markdown",
      "source": [
        "#### inf\n",
        "* 부동 소수점 양의 무한대(float('inf')와 동일)\n",
        "\n",
        "* 음의 무한대는 -inf"
      ],
      "metadata": {
        "id": "Md_qM6GWJZGj"
      }
    },
    {
      "cell_type": "code",
      "source": [
        "ma.inf"
      ],
      "metadata": {
        "colab": {
          "base_uri": "https://localhost:8080/"
        },
        "outputId": "1d9866f6-7547-4461-9290-ab3f41d0f33c",
        "id": "ikXkmjpEJZGk"
      },
      "execution_count": 25,
      "outputs": [
        {
          "output_type": "execute_result",
          "data": {
            "text/plain": [
              "inf"
            ]
          },
          "metadata": {},
          "execution_count": 25
        }
      ]
    },
    {
      "cell_type": "code",
      "source": [
        "float('inf')"
      ],
      "metadata": {
        "outputId": "9c5e4296-4ac4-4226-c606-31b52d6746cf",
        "colab": {
          "base_uri": "https://localhost:8080/"
        },
        "id": "apAm2PEdJZGk"
      },
      "execution_count": 26,
      "outputs": [
        {
          "output_type": "execute_result",
          "data": {
            "text/plain": [
              "inf"
            ]
          },
          "metadata": {},
          "execution_count": 26
        }
      ]
    },
    {
      "cell_type": "code",
      "source": [
        "-ma.inf"
      ],
      "metadata": {
        "colab": {
          "base_uri": "https://localhost:8080/"
        },
        "id": "D9yng1pRJwlh",
        "outputId": "aa3237b7-f90e-4867-e28b-680e15860dc8"
      },
      "execution_count": 27,
      "outputs": [
        {
          "output_type": "execute_result",
          "data": {
            "text/plain": [
              "-inf"
            ]
          },
          "metadata": {},
          "execution_count": 27
        }
      ]
    },
    {
      "cell_type": "code",
      "source": [
        "float('-inf')"
      ],
      "metadata": {
        "colab": {
          "base_uri": "https://localhost:8080/"
        },
        "id": "ZV1N7royJw2L",
        "outputId": "ff2e6440-963b-4e50-9273-6b5485af57f8"
      },
      "execution_count": 28,
      "outputs": [
        {
          "output_type": "execute_result",
          "data": {
            "text/plain": [
              "-inf"
            ]
          },
          "metadata": {},
          "execution_count": 28
        }
      ]
    },
    {
      "cell_type": "markdown",
      "source": [
        "#### isfinite(x)\n",
        "* x값이 무한대거나 Nan인 경우 False, 이외의 경우(숫자거나 무한한 값이 아닌 경우) True 반환 \n",
        " \n",
        " > *isfinite(1000/3.141592)라면 True반환*\n",
        " \n",
        " > *isfinite(non) 또는 isfinite(inf)라면 False 반환*"
      ],
      "metadata": {
        "id": "OZ9nPJRwFbzN"
      }
    },
    {
      "cell_type": "code",
      "source": [
        "ma.isfinite(1000/3.141592)"
      ],
      "metadata": {
        "colab": {
          "base_uri": "https://localhost:8080/"
        },
        "outputId": "ca51dc5a-35e1-4882-c5fc-e3f9d9563432",
        "id": "H-DsFb0OFbzT"
      },
      "execution_count": 18,
      "outputs": [
        {
          "output_type": "execute_result",
          "data": {
            "text/plain": [
              "True"
            ]
          },
          "metadata": {},
          "execution_count": 18
        }
      ]
    },
    {
      "cell_type": "code",
      "source": [
        "ma.isfinite(ma.nan)"
      ],
      "metadata": {
        "colab": {
          "base_uri": "https://localhost:8080/"
        },
        "outputId": "51dbf65b-2edb-4400-f837-1f4c79bc2549",
        "id": "C1DjfJ_nG6_k"
      },
      "execution_count": 21,
      "outputs": [
        {
          "output_type": "execute_result",
          "data": {
            "text/plain": [
              "False"
            ]
          },
          "metadata": {},
          "execution_count": 21
        }
      ]
    },
    {
      "cell_type": "code",
      "source": [
        "ma.isfinite(ma.inf)"
      ],
      "metadata": {
        "colab": {
          "base_uri": "https://localhost:8080/"
        },
        "id": "LUg6hWcGHqTT",
        "outputId": "d732aae0-2495-4799-b00c-b3bcb2bc85e3"
      },
      "execution_count": 22,
      "outputs": [
        {
          "output_type": "execute_result",
          "data": {
            "text/plain": [
              "False"
            ]
          },
          "metadata": {},
          "execution_count": 22
        }
      ]
    },
    {
      "cell_type": "markdown",
      "source": [
        "#### isinf(x)\n",
        "* x값이 양의 무한대, 혹은 음의 무한대일 때 True 반환\n",
        " \n",
        " > *isinf(1000/3.141592) 또는 isinf(non)이라면 False반환*\n",
        " \n",
        " > *isinf(float('inf'))  또는 isinf(-math.inf)라면 True 반환*"
      ],
      "metadata": {
        "id": "wOK94_-FKEqU"
      }
    },
    {
      "cell_type": "code",
      "source": [
        "ma.isinf(1000/3.141592)"
      ],
      "metadata": {
        "colab": {
          "base_uri": "https://localhost:8080/"
        },
        "outputId": "8d10a859-a8dd-49f5-dfd5-068c60522f98",
        "id": "4W1DV7DlKEqV"
      },
      "execution_count": 29,
      "outputs": [
        {
          "output_type": "execute_result",
          "data": {
            "text/plain": [
              "False"
            ]
          },
          "metadata": {},
          "execution_count": 29
        }
      ]
    },
    {
      "cell_type": "code",
      "source": [
        "ma.isinf(ma.nan)"
      ],
      "metadata": {
        "colab": {
          "base_uri": "https://localhost:8080/"
        },
        "outputId": "b46d8354-78a8-433f-e177-2401cc2ed34d",
        "id": "J2byYQFcKEqV"
      },
      "execution_count": 30,
      "outputs": [
        {
          "output_type": "execute_result",
          "data": {
            "text/plain": [
              "False"
            ]
          },
          "metadata": {},
          "execution_count": 30
        }
      ]
    },
    {
      "cell_type": "code",
      "source": [
        "ma.isinf(float('inf'))"
      ],
      "metadata": {
        "colab": {
          "base_uri": "https://localhost:8080/"
        },
        "id": "km7Ur3jIKxbG",
        "outputId": "ef2c95af-60ad-4c0e-f1cb-200a4e1986c8"
      },
      "execution_count": 32,
      "outputs": [
        {
          "output_type": "execute_result",
          "data": {
            "text/plain": [
              "True"
            ]
          },
          "metadata": {},
          "execution_count": 32
        }
      ]
    },
    {
      "cell_type": "code",
      "source": [
        "ma.isinf(-ma.inf)"
      ],
      "metadata": {
        "colab": {
          "base_uri": "https://localhost:8080/"
        },
        "outputId": "27b07d33-1925-493c-a842-d98b14731778",
        "id": "_f4gsTkSKEqV"
      },
      "execution_count": 31,
      "outputs": [
        {
          "output_type": "execute_result",
          "data": {
            "text/plain": [
              "True"
            ]
          },
          "metadata": {},
          "execution_count": 31
        }
      ]
    },
    {
      "cell_type": "markdown",
      "source": [
        "#### isnan(x)\n",
        "* x값이 Nan인 경우 True 반환\n",
        " \n",
        " > *isnan(1000/3.141592) 또는 isnan(float('inf'))라면 False반환*\n",
        " \n",
        " > *isnan(float('nan'))  또는 isnan(math.nan)이라면 True 반환*"
      ],
      "metadata": {
        "id": "YsfbOmafK6R7"
      }
    },
    {
      "cell_type": "code",
      "source": [
        "ma.isnan(1000/3.141592)"
      ],
      "metadata": {
        "colab": {
          "base_uri": "https://localhost:8080/"
        },
        "id": "FkcxPgOFLYqA",
        "outputId": "1541b70f-d644-4e19-9aa2-70aa1a2c1956"
      },
      "execution_count": 33,
      "outputs": [
        {
          "output_type": "execute_result",
          "data": {
            "text/plain": [
              "False"
            ]
          },
          "metadata": {},
          "execution_count": 33
        }
      ]
    },
    {
      "cell_type": "code",
      "source": [
        "ma.isnan(float('inf'))"
      ],
      "metadata": {
        "colab": {
          "base_uri": "https://localhost:8080/"
        },
        "id": "qZVq2COXLcyj",
        "outputId": "ede89b22-64ce-4c2d-d005-05e272924eb9"
      },
      "execution_count": 34,
      "outputs": [
        {
          "output_type": "execute_result",
          "data": {
            "text/plain": [
              "False"
            ]
          },
          "metadata": {},
          "execution_count": 34
        }
      ]
    },
    {
      "cell_type": "code",
      "source": [
        "ma.isnan(float('nan'))"
      ],
      "metadata": {
        "colab": {
          "base_uri": "https://localhost:8080/"
        },
        "id": "xvrV61liLfx9",
        "outputId": "c99bb880-da11-4bb7-c87c-4d1e4a695048"
      },
      "execution_count": 35,
      "outputs": [
        {
          "output_type": "execute_result",
          "data": {
            "text/plain": [
              "True"
            ]
          },
          "metadata": {},
          "execution_count": 35
        }
      ]
    },
    {
      "cell_type": "code",
      "source": [
        "ma.isnan(ma.nan)"
      ],
      "metadata": {
        "colab": {
          "base_uri": "https://localhost:8080/"
        },
        "id": "PFYoEMKdLjbs",
        "outputId": "6f78e705-eb5a-494f-c546-44e0ce608871"
      },
      "execution_count": 36,
      "outputs": [
        {
          "output_type": "execute_result",
          "data": {
            "text/plain": [
              "True"
            ]
          },
          "metadata": {},
          "execution_count": 36
        }
      ]
    },
    {
      "cell_type": "markdown",
      "source": [
        "### **상수**"
      ],
      "metadata": {
        "id": "m7_xxoxzmSMQ"
      }
    },
    {
      "cell_type": "markdown",
      "source": [
        "#### pi\n",
        "* 원주율 π, pi값\n",
        "\n",
        " > 3.1415926535......"
      ],
      "metadata": {
        "id": "8xK8YIPpUwKR"
      }
    },
    {
      "cell_type": "code",
      "source": [
        "ma.pi"
      ],
      "metadata": {
        "colab": {
          "base_uri": "https://localhost:8080/"
        },
        "outputId": "be7cf3e2-c420-4a45-be75-0f55212f8c65",
        "id": "jgBARFY9UwKR"
      },
      "execution_count": 66,
      "outputs": [
        {
          "output_type": "execute_result",
          "data": {
            "text/plain": [
              "3.141592653589793"
            ]
          },
          "metadata": {},
          "execution_count": 66
        }
      ]
    },
    {
      "cell_type": "markdown",
      "source": [
        "#### e\n",
        "* (오일러)상수 e, 자연로그의 밑\n",
        "\n",
        " > 2.7182818284……"
      ],
      "metadata": {
        "id": "1TJUHDhAUwKS"
      }
    },
    {
      "cell_type": "code",
      "source": [
        "ma.e"
      ],
      "metadata": {
        "colab": {
          "base_uri": "https://localhost:8080/"
        },
        "outputId": "a34a8515-7b4e-4801-fcc5-8ef54c684724",
        "id": "rkwvvuMqUwKS"
      },
      "execution_count": 67,
      "outputs": [
        {
          "output_type": "execute_result",
          "data": {
            "text/plain": [
              "2.718281828459045"
            ]
          },
          "metadata": {},
          "execution_count": 67
        }
      ]
    },
    {
      "cell_type": "markdown",
      "source": [
        "###**지수, 로그**"
      ],
      "metadata": {
        "id": "8_AyubWOmepp"
      }
    },
    {
      "cell_type": "markdown",
      "source": [
        "#### pow(x)\n",
        "* x의 y승 반환(x**y)\n",
        " \n",
        " > *pow(2, 7)이라면 128.0 반환*"
      ],
      "metadata": {
        "id": "Ri3R07njQqvq"
      }
    },
    {
      "cell_type": "code",
      "source": [
        "ma.pow(2, 7)"
      ],
      "metadata": {
        "colab": {
          "base_uri": "https://localhost:8080/"
        },
        "outputId": "e7658615-bb8f-48bb-b758-51c19f2bf951",
        "id": "hxzkirIvQqvw"
      },
      "execution_count": 45,
      "outputs": [
        {
          "output_type": "execute_result",
          "data": {
            "text/plain": [
              "128.0"
            ]
          },
          "metadata": {},
          "execution_count": 45
        }
      ]
    },
    {
      "cell_type": "markdown",
      "source": [
        "#### sqrt(x)\n",
        "* x의 제곱근 반환(x**0.5 또는 pow(x, 0.5)) -> x에는 양수만 반영(음수의 경우 에러)\n",
        " \n",
        " > *sqrt(16)이라면 4.0 반환*"
      ],
      "metadata": {
        "id": "Gas9kFxpQ8CR"
      }
    },
    {
      "cell_type": "code",
      "source": [
        "ma.sqrt(16)"
      ],
      "metadata": {
        "colab": {
          "base_uri": "https://localhost:8080/"
        },
        "outputId": "dfc16501-192c-4fab-c30e-86822b2bc5cb",
        "id": "msUoWA_bQ8CR"
      },
      "execution_count": 52,
      "outputs": [
        {
          "output_type": "execute_result",
          "data": {
            "text/plain": [
              "4.0"
            ]
          },
          "metadata": {},
          "execution_count": 52
        }
      ]
    },
    {
      "cell_type": "code",
      "source": [
        "16**0.5"
      ],
      "metadata": {
        "colab": {
          "base_uri": "https://localhost:8080/"
        },
        "id": "mw1BH6sKSIy2",
        "outputId": "bcbde880-ec4f-4eb6-f05f-72e373a7d954"
      },
      "execution_count": 61,
      "outputs": [
        {
          "output_type": "execute_result",
          "data": {
            "text/plain": [
              "4.0"
            ]
          },
          "metadata": {},
          "execution_count": 61
        }
      ]
    },
    {
      "cell_type": "code",
      "source": [
        "ma.pow(16, 0.5)"
      ],
      "metadata": {
        "colab": {
          "base_uri": "https://localhost:8080/"
        },
        "id": "aGwL84m4Sir3",
        "outputId": "687a24a6-b61c-4643-9f52-fa2153fb81fa"
      },
      "execution_count": 62,
      "outputs": [
        {
          "output_type": "execute_result",
          "data": {
            "text/plain": [
              "4.0"
            ]
          },
          "metadata": {},
          "execution_count": 62
        }
      ]
    },
    {
      "cell_type": "markdown",
      "source": [
        "#### exp(x)\n",
        "* e의 x승 반환 e**x\n",
        " \n",
        " > *exp(1)은 2.7182818284....반환*"
      ],
      "metadata": {
        "id": "TprQQ9NUVUq4"
      }
    },
    {
      "cell_type": "code",
      "source": [
        "ma.exp(1)"
      ],
      "metadata": {
        "colab": {
          "base_uri": "https://localhost:8080/"
        },
        "outputId": "e6049b09-969c-466e-be30-08aa690d2b88",
        "id": "uqea4L7NVUq5"
      },
      "execution_count": 68,
      "outputs": [
        {
          "output_type": "execute_result",
          "data": {
            "text/plain": [
              "2.718281828459045"
            ]
          },
          "metadata": {},
          "execution_count": 68
        }
      ]
    },
    {
      "cell_type": "markdown",
      "source": [
        "#### expm1(x)\n",
        "* e의 x승 -1 반환 e**x -1\n",
        " \n",
        " > *expm1(1)은 1.7182818284....반환*"
      ],
      "metadata": {
        "id": "CRulUBgiV45w"
      }
    },
    {
      "cell_type": "code",
      "source": [
        "ma.expm1(1)"
      ],
      "metadata": {
        "colab": {
          "base_uri": "https://localhost:8080/"
        },
        "outputId": "0a84b449-23b2-433b-dc87-87983096cbc5",
        "id": "diyOSFHWV45x"
      },
      "execution_count": 70,
      "outputs": [
        {
          "output_type": "execute_result",
          "data": {
            "text/plain": [
              "1.718281828459045"
            ]
          },
          "metadata": {},
          "execution_count": 70
        }
      ]
    },
    {
      "cell_type": "markdown",
      "source": [
        "#### log(x, b) / log(x)\n",
        "* 밑이 b이고 진수가 x인 로그값 반환, b 없이 사용하면 밑이 e인 자연로그 반환\n",
        " \n",
        " > *log(256, 2)라면 8.0 반환, log(2.7182818284)라면 1에 가까운 값 반환*"
      ],
      "metadata": {
        "id": "-tj9sxuhWkpg"
      }
    },
    {
      "cell_type": "code",
      "source": [
        "ma.log(256, 2)"
      ],
      "metadata": {
        "colab": {
          "base_uri": "https://localhost:8080/"
        },
        "outputId": "7d98b2fd-149c-4f17-8670-817119affb73",
        "id": "QFFU_iuiWkph"
      },
      "execution_count": 71,
      "outputs": [
        {
          "output_type": "execute_result",
          "data": {
            "text/plain": [
              "8.0"
            ]
          },
          "metadata": {},
          "execution_count": 71
        }
      ]
    },
    {
      "cell_type": "code",
      "source": [
        "ma.log(2.7182818284)"
      ],
      "metadata": {
        "colab": {
          "base_uri": "https://localhost:8080/"
        },
        "id": "f_eO4nMBWyYx",
        "outputId": "4e8f5f0b-85d5-4282-9ab3-d0e36af02c6a"
      },
      "execution_count": 72,
      "outputs": [
        {
          "output_type": "execute_result",
          "data": {
            "text/plain": [
              "0.9999999999782784"
            ]
          },
          "metadata": {},
          "execution_count": 72
        }
      ]
    },
    {
      "cell_type": "markdown",
      "source": [
        "#### frexp(x)\n",
        "* x를 가수(상용로그의 소수 부분) m과 2의e승의 합으로 나누어 (m, e) 형식으로 반환\n",
        " \n",
        " > *frexp(10) 이라면 (0.625, 4) 반환*"
      ],
      "metadata": {
        "id": "q45kxBnKW8RY"
      }
    },
    {
      "cell_type": "code",
      "source": [
        "ma.frexp(10)"
      ],
      "metadata": {
        "colab": {
          "base_uri": "https://localhost:8080/"
        },
        "outputId": "8d10bd08-5b09-43d8-e209-9b4c587256fb",
        "id": "GRcnWH9jW8RZ"
      },
      "execution_count": 75,
      "outputs": [
        {
          "output_type": "execute_result",
          "data": {
            "text/plain": [
              "(0.625, 4)"
            ]
          },
          "metadata": {},
          "execution_count": 75
        }
      ]
    },
    {
      "cell_type": "markdown",
      "source": [
        "#### ldexp(x, i)\n",
        "* x와 2의 i승의 곱(x * (2 * * i)) 반환 frexp()의 반대 개념\n",
        " \n",
        " > *ldexp(3, 3)이면 24.0반환*\n",
        " > *ldexp(0.625, 4)면 10.0 반환*"
      ],
      "metadata": {
        "id": "YJi7epCoTBXh"
      }
    },
    {
      "cell_type": "code",
      "source": [
        "ma.ldexp(3, 3)"
      ],
      "metadata": {
        "colab": {
          "base_uri": "https://localhost:8080/"
        },
        "outputId": "2206751c-21cb-4134-eb4a-391f63a9bfaf",
        "id": "vEAaTR3STBXh"
      },
      "execution_count": 74,
      "outputs": [
        {
          "output_type": "execute_result",
          "data": {
            "text/plain": [
              "24.0"
            ]
          },
          "metadata": {},
          "execution_count": 74
        }
      ]
    },
    {
      "cell_type": "code",
      "source": [
        "ma.ldexp(0.625, 4)"
      ],
      "metadata": {
        "colab": {
          "base_uri": "https://localhost:8080/"
        },
        "outputId": "49335799-890a-4ad4-b24d-6cd46ef66290",
        "id": "SCMu93nVW8RZ"
      },
      "execution_count": 77,
      "outputs": [
        {
          "output_type": "execute_result",
          "data": {
            "text/plain": [
              "10.0"
            ]
          },
          "metadata": {},
          "execution_count": 77
        }
      ]
    },
    {
      "cell_type": "markdown",
      "source": [
        "#### log1p(x)\n",
        "* 밑이 e이고 진수가 x+1인 로그값 반환\n",
        " \n",
        " > *log1p(1.7182818284)라면 1에 가까운 값 반환*\n",
        "\n",
        " > *log(0)의 경우 무한대 값으로 에러가 발생하지만 log1p(0)를 사용하면 0.0이 반환됨*"
      ],
      "metadata": {
        "id": "yhvEt4K9ZGRo"
      }
    },
    {
      "cell_type": "code",
      "source": [
        "ma.log1p(1.7182818284)"
      ],
      "metadata": {
        "colab": {
          "base_uri": "https://localhost:8080/"
        },
        "outputId": "9fe8e72f-25d4-4adb-f8da-b95450071854",
        "id": "dQI3f22WZGRu"
      },
      "execution_count": 82,
      "outputs": [
        {
          "output_type": "execute_result",
          "data": {
            "text/plain": [
              "0.9999999999782785"
            ]
          },
          "metadata": {},
          "execution_count": 82
        }
      ]
    },
    {
      "cell_type": "code",
      "source": [
        "ma.log1p(0)"
      ],
      "metadata": {
        "colab": {
          "base_uri": "https://localhost:8080/"
        },
        "outputId": "516903f3-30e7-43a8-92a6-9a49c9800258",
        "id": "GfiPJEq_ZGRu"
      },
      "execution_count": 80,
      "outputs": [
        {
          "output_type": "execute_result",
          "data": {
            "text/plain": [
              "0.0"
            ]
          },
          "metadata": {},
          "execution_count": 80
        }
      ]
    },
    {
      "cell_type": "markdown",
      "source": [
        "#### log2(x)\n",
        "* 밑이 2이고 진수가 x인 로그값, 즉 이진로그 반환\n",
        " \n",
        " > *log2(256)이라면 8.0 반환 log2(1024)라면 10.0 반환*"
      ],
      "metadata": {
        "id": "7BrV67WYZHY4"
      }
    },
    {
      "cell_type": "code",
      "source": [
        "ma.log2(256)"
      ],
      "metadata": {
        "colab": {
          "base_uri": "https://localhost:8080/"
        },
        "outputId": "3dd55691-c48e-4079-b8a0-767d4e0a82da",
        "id": "Tb7ODvarZHY4"
      },
      "execution_count": 83,
      "outputs": [
        {
          "output_type": "execute_result",
          "data": {
            "text/plain": [
              "8.0"
            ]
          },
          "metadata": {},
          "execution_count": 83
        }
      ]
    },
    {
      "cell_type": "code",
      "source": [
        "ma.log2(1024)"
      ],
      "metadata": {
        "colab": {
          "base_uri": "https://localhost:8080/"
        },
        "outputId": "16ab8573-2542-4ef1-cd81-a5199e81dfa6",
        "id": "q4cIJHpgZHY5"
      },
      "execution_count": 84,
      "outputs": [
        {
          "output_type": "execute_result",
          "data": {
            "text/plain": [
              "10.0"
            ]
          },
          "metadata": {},
          "execution_count": 84
        }
      ]
    },
    {
      "cell_type": "markdown",
      "source": [
        "#### log10(x)\n",
        "* 밑이 10이고 진수가 x인 로그값, 즉 상용로그 반환\n",
        " \n",
        " > *log10(100000)이라면 5.0 반환*"
      ],
      "metadata": {
        "id": "NP_cD9E1ZJS4"
      }
    },
    {
      "cell_type": "code",
      "source": [
        "ma.log10(100000)"
      ],
      "metadata": {
        "colab": {
          "base_uri": "https://localhost:8080/"
        },
        "outputId": "7aa25231-6e23-4250-b86f-e2e6a4e419c4",
        "id": "1oxypbElZJS4"
      },
      "execution_count": 85,
      "outputs": [
        {
          "output_type": "execute_result",
          "data": {
            "text/plain": [
              "5.0"
            ]
          },
          "metadata": {},
          "execution_count": 85
        }
      ]
    },
    {
      "cell_type": "markdown",
      "source": [
        "###**삼각함수**"
      ],
      "metadata": {
        "id": "Mv59zQOpm4-c"
      }
    },
    {
      "cell_type": "markdown",
      "source": [
        "#### radians(x)\n",
        "*  x도를 라디안으로 변환\n",
        " \n",
        " > *radians(57.2958)이라면 1에 가까운 값 반환*"
      ],
      "metadata": {
        "id": "tCkoDxhFapk_"
      }
    },
    {
      "cell_type": "code",
      "source": [
        "ma.radians(57.2958)"
      ],
      "metadata": {
        "colab": {
          "base_uri": "https://localhost:8080/"
        },
        "outputId": "b65f0430-ae72-4c8f-a357-e341e96fc87f",
        "id": "Fw2Idb8ZaplF"
      },
      "execution_count": 252,
      "outputs": [
        {
          "output_type": "execute_result",
          "data": {
            "text/plain": [
              "1.0000003575641672"
            ]
          },
          "metadata": {},
          "execution_count": 252
        }
      ]
    },
    {
      "cell_type": "markdown",
      "source": [
        "#### degrees(x)\n",
        "*  x라디안을 각도로 변환\n",
        " \n",
        " > *degrees(3.1415926535)라면 180에 가까운 값 반환*\n",
        " \n",
        " > *degrees(pi)라면 180.0 반환*"
      ],
      "metadata": {
        "id": "gsWUaqo3bW9n"
      }
    },
    {
      "cell_type": "code",
      "source": [
        "ma.degrees(3.1715926535)"
      ],
      "metadata": {
        "colab": {
          "base_uri": "https://localhost:8080/"
        },
        "outputId": "45d257c9-bec2-4b74-e4a2-da38d5063d50",
        "id": "PvVePYlXbW9n"
      },
      "execution_count": 253,
      "outputs": [
        {
          "output_type": "execute_result",
          "data": {
            "text/plain": [
              "181.7188733802477"
            ]
          },
          "metadata": {},
          "execution_count": 253
        }
      ]
    },
    {
      "cell_type": "code",
      "source": [
        "ma.degrees(ma.pi)"
      ],
      "metadata": {
        "colab": {
          "base_uri": "https://localhost:8080/"
        },
        "id": "kRChsaR1bnUX",
        "outputId": "a958e033-f177-4b40-983c-da355448dc33"
      },
      "execution_count": 254,
      "outputs": [
        {
          "output_type": "execute_result",
          "data": {
            "text/plain": [
              "180.0"
            ]
          },
          "metadata": {},
          "execution_count": 254
        }
      ]
    },
    {
      "cell_type": "markdown",
      "source": [
        "#### sin(x)\n",
        "* 사인 x 값을 반환, (단, x는 라디안)\n",
        " \n",
        " > *sin(radians(30)) 또는 sin(pi/6)이라면 0.5에 가까운 값 반환*"
      ],
      "metadata": {
        "id": "F821gMxCcbFn"
      }
    },
    {
      "cell_type": "code",
      "source": [
        "ma.sin(ma.radians(30))"
      ],
      "metadata": {
        "colab": {
          "base_uri": "https://localhost:8080/"
        },
        "outputId": "867b00e3-e22c-4416-e5ca-c93a850ac6a6",
        "id": "03l7hICncbFn"
      },
      "execution_count": 255,
      "outputs": [
        {
          "output_type": "execute_result",
          "data": {
            "text/plain": [
              "0.49999999999999994"
            ]
          },
          "metadata": {},
          "execution_count": 255
        }
      ]
    },
    {
      "cell_type": "code",
      "source": [
        "ma.sin(ma.pi/6)"
      ],
      "metadata": {
        "colab": {
          "base_uri": "https://localhost:8080/"
        },
        "outputId": "016f830d-64b0-4ff0-e211-cb1a6f798aac",
        "id": "d1tkOWOkcbFn"
      },
      "execution_count": 256,
      "outputs": [
        {
          "output_type": "execute_result",
          "data": {
            "text/plain": [
              "0.49999999999999994"
            ]
          },
          "metadata": {},
          "execution_count": 256
        }
      ]
    },
    {
      "cell_type": "markdown",
      "source": [
        "#### cos(x)\n",
        "* 코사인 x 값을 반환, (단, x는 라디안)\n",
        " \n",
        " > *cos(radians(60)) 또는 cos(pi/3)이라면 0.5에 가까운 값 반환*"
      ],
      "metadata": {
        "id": "dqWX099EcwY_"
      }
    },
    {
      "cell_type": "code",
      "source": [
        "ma.cos(ma.radians(60))"
      ],
      "metadata": {
        "colab": {
          "base_uri": "https://localhost:8080/"
        },
        "outputId": "ca84deec-9d7d-4e05-c0e2-07cffcfad2ee",
        "id": "GTKNDzwfcwY_"
      },
      "execution_count": 257,
      "outputs": [
        {
          "output_type": "execute_result",
          "data": {
            "text/plain": [
              "0.5000000000000001"
            ]
          },
          "metadata": {},
          "execution_count": 257
        }
      ]
    },
    {
      "cell_type": "code",
      "source": [
        "ma.cos(ma.pi/3)"
      ],
      "metadata": {
        "colab": {
          "base_uri": "https://localhost:8080/"
        },
        "outputId": "a6d705fc-9f36-4b0f-c551-45145ffd52d1",
        "id": "qHp5rpehcwY_"
      },
      "execution_count": 258,
      "outputs": [
        {
          "output_type": "execute_result",
          "data": {
            "text/plain": [
              "0.5000000000000001"
            ]
          },
          "metadata": {},
          "execution_count": 258
        }
      ]
    },
    {
      "cell_type": "markdown",
      "source": [
        "#### tan(x)\n",
        "* 탄젠트 x 값을 반환, (단, x는 라디안)\n",
        " \n",
        " > *tan(radians(45)) 또는 sin(pi/4)이라면 1에 가까운 값 반환*"
      ],
      "metadata": {
        "id": "lJJ5XSgIdB-H"
      }
    },
    {
      "cell_type": "code",
      "source": [
        "ma.tan(ma.radians(45))"
      ],
      "metadata": {
        "colab": {
          "base_uri": "https://localhost:8080/"
        },
        "outputId": "5c956ad8-9ec8-4a2c-8125-db1009da2b23",
        "id": "xYwQb75zdB-H"
      },
      "execution_count": 259,
      "outputs": [
        {
          "output_type": "execute_result",
          "data": {
            "text/plain": [
              "0.9999999999999999"
            ]
          },
          "metadata": {},
          "execution_count": 259
        }
      ]
    },
    {
      "cell_type": "code",
      "source": [
        "ma.tan(ma.pi/4)"
      ],
      "metadata": {
        "colab": {
          "base_uri": "https://localhost:8080/"
        },
        "outputId": "2ee67e7a-6116-4977-d548-fcc95766ccd3",
        "id": "Zk7Mzn_LdB-H"
      },
      "execution_count": 260,
      "outputs": [
        {
          "output_type": "execute_result",
          "data": {
            "text/plain": [
              "0.9999999999999999"
            ]
          },
          "metadata": {},
          "execution_count": 260
        }
      ]
    },
    {
      "cell_type": "markdown",
      "source": [
        "###**역삼각함수 + a**"
      ],
      "metadata": {
        "id": "FfxLiDsunk15"
      }
    },
    {
      "cell_type": "markdown",
      "source": [
        "#### asin(x)\n",
        "* 역 삼각함수. x의 아크사인(arcsin)을 라디안으로 반환\n",
        " \n",
        " > *degrees(asin(0.5))라면 30에 가까운 값 반환*"
      ],
      "metadata": {
        "id": "nbIXFKM9doTu"
      }
    },
    {
      "cell_type": "code",
      "source": [
        "ma.degrees(ma.asin(0.5))"
      ],
      "metadata": {
        "colab": {
          "base_uri": "https://localhost:8080/"
        },
        "outputId": "99910f0f-dc1d-43fa-f708-78a1001842f2",
        "id": "yHG73b3HdoTu"
      },
      "execution_count": 105,
      "outputs": [
        {
          "output_type": "execute_result",
          "data": {
            "text/plain": [
              "30.000000000000004"
            ]
          },
          "metadata": {},
          "execution_count": 105
        }
      ]
    },
    {
      "cell_type": "markdown",
      "source": [
        "#### acos(x)\n",
        "* 역 삼각함수. x의 아크 코사인(arccos)을 라디안으로 반환\n",
        " \n",
        " > *degrees(acos(0.5))라면 60에 가까운 값 반환*"
      ],
      "metadata": {
        "id": "CrzFZh47doTv"
      }
    },
    {
      "cell_type": "code",
      "source": [
        "ma.degrees(ma.acos(0.5))"
      ],
      "metadata": {
        "colab": {
          "base_uri": "https://localhost:8080/"
        },
        "outputId": "b43b7130-19e6-4322-df73-44f3aa83e893",
        "id": "6LyGdhmieTJu"
      },
      "execution_count": 106,
      "outputs": [
        {
          "output_type": "execute_result",
          "data": {
            "text/plain": [
              "60.00000000000001"
            ]
          },
          "metadata": {},
          "execution_count": 106
        }
      ]
    },
    {
      "cell_type": "markdown",
      "source": [
        "#### atan(x)\n",
        "* 역 삼각함수. x의 아크 탄젠트(arctan)를 라디안으로 반환\n",
        " \n",
        " > *degrees(atan(1))이라면 45에 가까운 값 반환*"
      ],
      "metadata": {
        "id": "SpZhwotndoTw"
      }
    },
    {
      "cell_type": "code",
      "source": [
        "ma.degrees(ma.atan(1))"
      ],
      "metadata": {
        "colab": {
          "base_uri": "https://localhost:8080/"
        },
        "outputId": "f1117b39-e756-45c5-94f9-aaffa34d25c1",
        "id": "RFuFrV7adoTw"
      },
      "execution_count": 107,
      "outputs": [
        {
          "output_type": "execute_result",
          "data": {
            "text/plain": [
              "45.0"
            ]
          },
          "metadata": {},
          "execution_count": 107
        }
      ]
    },
    {
      "cell_type": "markdown",
      "source": [
        "#### atan2(y, x)\n",
        " * 역 삼각함수. y/x의 아크 탄젠트(arctan)를 라디안으로 반환\n",
        "\n",
        "* y와 x에 음수값이 올 수 있으며 좌표상에서 y와 x값을 바탕으로 각을 구할 때 유용하게 쓰인다고 함.\n",
        "\n",
        " > *degrees(atan2(1, 1))라면 45에 가까운 값 반환*\n",
        "\n",
        " > *degrees(atan2(5, -5))라면 135에 가까운 값 반환*\n",
        "\n",
        " > *degrees(atan2(-6, -6))라면 ~315~에 가까운 값 반환*  -> -45.0\n",
        "\n",
        " > *degrees(atan2(-3, 3))라면 ~225~에 가까운 값 반환*\n",
        "  -> -135.0\n",
        "\n"
      ],
      "metadata": {
        "id": "85Cd5cD7fVo1"
      }
    },
    {
      "cell_type": "code",
      "source": [
        "ma.degrees(ma.atan2(1, 1))"
      ],
      "metadata": {
        "colab": {
          "base_uri": "https://localhost:8080/"
        },
        "id": "vv_rdv03htgz",
        "outputId": "3f72d725-655d-48b6-b490-ff33247e1d31"
      },
      "execution_count": 112,
      "outputs": [
        {
          "output_type": "execute_result",
          "data": {
            "text/plain": [
              "45.0"
            ]
          },
          "metadata": {},
          "execution_count": 112
        }
      ]
    },
    {
      "cell_type": "code",
      "source": [
        "ma.degrees(ma.atan2(5, -5))"
      ],
      "metadata": {
        "colab": {
          "base_uri": "https://localhost:8080/"
        },
        "outputId": "44e279fe-f2b9-4fb0-c7d8-9c396e61cf43",
        "id": "hRCHLlr1fVo2"
      },
      "execution_count": 111,
      "outputs": [
        {
          "output_type": "execute_result",
          "data": {
            "text/plain": [
              "135.0"
            ]
          },
          "metadata": {},
          "execution_count": 111
        }
      ]
    },
    {
      "cell_type": "code",
      "source": [
        "ma.degrees(ma.atan2(-6, -6))"
      ],
      "metadata": {
        "colab": {
          "base_uri": "https://localhost:8080/"
        },
        "outputId": "0c84b543-73e5-4b33-c24f-e1aeb91fde1a",
        "id": "T3fT384Rh8IX"
      },
      "execution_count": 114,
      "outputs": [
        {
          "output_type": "execute_result",
          "data": {
            "text/plain": [
              "-135.0"
            ]
          },
          "metadata": {},
          "execution_count": 114
        }
      ]
    },
    {
      "cell_type": "code",
      "source": [
        "ma.degrees(ma.atan2(-3, 3))"
      ],
      "metadata": {
        "colab": {
          "base_uri": "https://localhost:8080/"
        },
        "outputId": "67d119af-0572-4057-a04c-91bc6d350e20",
        "id": "wPKcCNhPh77R"
      },
      "execution_count": 113,
      "outputs": [
        {
          "output_type": "execute_result",
          "data": {
            "text/plain": [
              "-45.0"
            ]
          },
          "metadata": {},
          "execution_count": 113
        }
      ]
    },
    {
      "cell_type": "markdown",
      "source": [
        "#### hypot(x, y)\n",
        " * x제곱 + y제곱의 제곱근을 반환\n",
        "\n",
        "* 피타고라스 정리처럼 활용한다면 좌표상에서 두 점 사이의 거리를 계산할 때 유용하게 쓰일 것으로 보임.\n",
        "\n",
        " > *hypot(3, 4), hypot(-3, 4), hypot(-3, -4), hypot(3, -4) 모두 5.0 반환*\n",
        "\n"
      ],
      "metadata": {
        "id": "eh30W0A5kW1b"
      }
    },
    {
      "cell_type": "code",
      "source": [
        "ma.hypot(3, 4)"
      ],
      "metadata": {
        "colab": {
          "base_uri": "https://localhost:8080/"
        },
        "outputId": "d63de9b8-91c9-4f4e-f234-68f28f387c8b",
        "id": "bj8faLcTkW1c"
      },
      "execution_count": 116,
      "outputs": [
        {
          "output_type": "execute_result",
          "data": {
            "text/plain": [
              "5.0"
            ]
          },
          "metadata": {},
          "execution_count": 116
        }
      ]
    },
    {
      "cell_type": "code",
      "source": [
        "ma.hypot(-3, 4)"
      ],
      "metadata": {
        "colab": {
          "base_uri": "https://localhost:8080/"
        },
        "outputId": "e804a62b-3016-48a2-e035-df2e3fd6d236",
        "id": "vGB1eCU0lXjq"
      },
      "execution_count": 117,
      "outputs": [
        {
          "output_type": "execute_result",
          "data": {
            "text/plain": [
              "5.0"
            ]
          },
          "metadata": {},
          "execution_count": 117
        }
      ]
    },
    {
      "cell_type": "code",
      "source": [
        "ma.hypot(3, -4)"
      ],
      "metadata": {
        "colab": {
          "base_uri": "https://localhost:8080/"
        },
        "outputId": "79bf0639-e3cf-4757-ab69-512f4ac0412c",
        "id": "qOwT354NlX1M"
      },
      "execution_count": 118,
      "outputs": [
        {
          "output_type": "execute_result",
          "data": {
            "text/plain": [
              "5.0"
            ]
          },
          "metadata": {},
          "execution_count": 118
        }
      ]
    },
    {
      "cell_type": "code",
      "source": [
        "ma.hypot(-3, -4)"
      ],
      "metadata": {
        "colab": {
          "base_uri": "https://localhost:8080/"
        },
        "outputId": "2f5a62d4-d5f1-402c-c031-c7229bb76dc7",
        "id": "ozI6WJEllX99"
      },
      "execution_count": 119,
      "outputs": [
        {
          "output_type": "execute_result",
          "data": {
            "text/plain": [
              "5.0"
            ]
          },
          "metadata": {},
          "execution_count": 119
        }
      ]
    },
    {
      "cell_type": "markdown",
      "source": [
        "###**쌍곡선함수**"
      ],
      "metadata": {
        "id": "rNIyej1gn3cq"
      }
    },
    {
      "cell_type": "markdown",
      "source": [
        "#### sinh(x)\n",
        "* 쌍곡사인 x 값을 반환\n",
        " \n",
        " > *sinh(0)은 0.0 반환*\n",
        "\n",
        " > *이유는 알 수 없으나...* \n",
        " \n",
        " >*x값이 -710.47586007394392....에서 710.47586007394392....사이인 것으로 보이며 그 외의 값은 에러*\n",
        "\n",
        " <img src=\"https://file.namu.moe/file/40115ee23d930440604cae33e30840628ffa83a8aaf658ebcfd0929613cb7496791666d2fe1be762373f9ec2300b6b7f\" width=\"200px\">"
      ],
      "metadata": {
        "id": "gcbabi0MndiT"
      }
    },
    {
      "cell_type": "code",
      "source": [
        "ma.sinh(0)"
      ],
      "metadata": {
        "colab": {
          "base_uri": "https://localhost:8080/"
        },
        "outputId": "43344abf-c5c4-44d6-8808-c7a0037b2cb5",
        "id": "e54OZxjJndiU"
      },
      "execution_count": 120,
      "outputs": [
        {
          "output_type": "execute_result",
          "data": {
            "text/plain": [
              "0.0"
            ]
          },
          "metadata": {},
          "execution_count": 120
        }
      ]
    },
    {
      "cell_type": "code",
      "source": [
        "ma.sinh(710.47586007394392)"
      ],
      "metadata": {
        "colab": {
          "base_uri": "https://localhost:8080/"
        },
        "outputId": "dc131696-2d05-4bb0-aaf6-c911033610b8",
        "id": "ec057-OPndiU"
      },
      "execution_count": 207,
      "outputs": [
        {
          "output_type": "execute_result",
          "data": {
            "text/plain": [
              "1.7976931348621744e+308"
            ]
          },
          "metadata": {},
          "execution_count": 207
        }
      ]
    },
    {
      "cell_type": "markdown",
      "source": [
        "#### cosh(x)\n",
        "* cosh(x)\n",
        "쌍곡코사인 x 반환\n",
        " > *cosh(0)은 1.0 반환*\n",
        "\n",
        " > *cosh(x) 값이 cosh(-x)일 것으로 추정*\n",
        "\n",
        " > *x값의 입력 범위가 sinh와 동일한 것으로 보임*\n",
        "\n",
        " <img src=\"https://file.namu.moe/file/8c0839a6594284dfdf521156d8a961c4814334cb827f3c70a4a33f269f1b3efaa2cd011f2e40e4366e323fbd663c02b1\" width=\"200px\">"
      ],
      "metadata": {
        "id": "zATP_hrGndiU"
      }
    },
    {
      "cell_type": "code",
      "source": [
        "ma.cosh(0)"
      ],
      "metadata": {
        "colab": {
          "base_uri": "https://localhost:8080/"
        },
        "outputId": "47be7d54-85ff-4df8-e71c-3f57d7f4c503",
        "id": "bQDyN0kvndiV"
      },
      "execution_count": 208,
      "outputs": [
        {
          "output_type": "execute_result",
          "data": {
            "text/plain": [
              "1.0"
            ]
          },
          "metadata": {},
          "execution_count": 208
        }
      ]
    },
    {
      "cell_type": "code",
      "source": [
        "ma.cosh(710.47586007394392)"
      ],
      "metadata": {
        "colab": {
          "base_uri": "https://localhost:8080/"
        },
        "outputId": "2feb3f9d-3d16-4d8a-bcc8-05a43bd2acd7",
        "id": "B003Bl-ondiV"
      },
      "execution_count": 214,
      "outputs": [
        {
          "output_type": "execute_result",
          "data": {
            "text/plain": [
              "1.7976931348621744e+308"
            ]
          },
          "metadata": {},
          "execution_count": 214
        }
      ]
    },
    {
      "cell_type": "code",
      "source": [
        "ma.cosh(-710.47586007394392)"
      ],
      "metadata": {
        "colab": {
          "base_uri": "https://localhost:8080/"
        },
        "id": "ufzDZ-7mrdTP",
        "outputId": "9862602f-e2d7-4dea-d44c-5780a3c3de56"
      },
      "execution_count": 215,
      "outputs": [
        {
          "output_type": "execute_result",
          "data": {
            "text/plain": [
              "1.7976931348621744e+308"
            ]
          },
          "metadata": {},
          "execution_count": 215
        }
      ]
    },
    {
      "cell_type": "markdown",
      "source": [
        "#### sinh(x), cosh(x) 관계 예제\n",
        "* cosh(x)+sinh(x)은 e ** x, 즉, exp(x) 반환\n",
        "* cosh(x)-sinh(x)은 e ** -x, 즉, exp(-x) 반환"
      ],
      "metadata": {
        "id": "0kujSRSnrrhq"
      }
    },
    {
      "cell_type": "code",
      "source": [
        "ma.cosh(10) + ma.sinh(10)"
      ],
      "metadata": {
        "colab": {
          "base_uri": "https://localhost:8080/"
        },
        "id": "16DdABgjrx-t",
        "outputId": "4433140a-b788-4c89-b546-59e70f868e63"
      },
      "execution_count": 222,
      "outputs": [
        {
          "output_type": "execute_result",
          "data": {
            "text/plain": [
              "22026.465794806718"
            ]
          },
          "metadata": {},
          "execution_count": 222
        }
      ]
    },
    {
      "cell_type": "code",
      "source": [
        "ma.exp(10)"
      ],
      "metadata": {
        "colab": {
          "base_uri": "https://localhost:8080/"
        },
        "id": "lUB2nXSMsAo1",
        "outputId": "4a679e71-38b4-4d76-a5fb-e3f7e2540e52"
      },
      "execution_count": 218,
      "outputs": [
        {
          "output_type": "execute_result",
          "data": {
            "text/plain": [
              "22026.465794806718"
            ]
          },
          "metadata": {},
          "execution_count": 218
        }
      ]
    },
    {
      "cell_type": "code",
      "source": [
        "ma.cosh(10) - ma.sinh(10)"
      ],
      "metadata": {
        "colab": {
          "base_uri": "https://localhost:8080/"
        },
        "id": "DnF9SigvsM_g",
        "outputId": "682e50cc-f8cd-4c66-ad4e-2ce2407969a5"
      },
      "execution_count": 220,
      "outputs": [
        {
          "output_type": "execute_result",
          "data": {
            "text/plain": [
              "4.539993096841499e-05"
            ]
          },
          "metadata": {},
          "execution_count": 220
        }
      ]
    },
    {
      "cell_type": "code",
      "source": [
        "ma.exp(-10)"
      ],
      "metadata": {
        "colab": {
          "base_uri": "https://localhost:8080/"
        },
        "id": "w_7iIq61sN8N",
        "outputId": "a75350b2-7d12-4e19-a47a-1d8e5b65e316"
      },
      "execution_count": 221,
      "outputs": [
        {
          "output_type": "execute_result",
          "data": {
            "text/plain": [
              "4.5399929762484854e-05"
            ]
          },
          "metadata": {},
          "execution_count": 221
        }
      ]
    },
    {
      "cell_type": "markdown",
      "source": [
        "#### tanh(x)\n",
        "* 쌍곡 탄젠트 x 반환\n",
        " \n",
        " > *tanh(0)은 0.0 반환, tanh(1000)은 1에 가까운 값 반환, tanh(-1000)은 -1에 가까운 값 반환*\n",
        "\n",
        " <img src=\"https://file.namu.moe/file/33aabfb0f29c368ad1c3d90608d6591194aca03fe7399d83c4ece57f3c1f28f719836ccac47b0cda0a38531acd3e8cc3\" width=\"200px\">"
      ],
      "metadata": {
        "id": "zGb9tA5dndiV"
      }
    },
    {
      "cell_type": "code",
      "source": [
        "ma.tanh(0)"
      ],
      "metadata": {
        "colab": {
          "base_uri": "https://localhost:8080/"
        },
        "outputId": "26448552-64be-40b3-e2fb-d1fd8306d9a4",
        "id": "-dexdZJkndiV"
      },
      "execution_count": 223,
      "outputs": [
        {
          "output_type": "execute_result",
          "data": {
            "text/plain": [
              "0.0"
            ]
          },
          "metadata": {},
          "execution_count": 223
        }
      ]
    },
    {
      "cell_type": "code",
      "source": [
        "ma.tanh(1000)"
      ],
      "metadata": {
        "colab": {
          "base_uri": "https://localhost:8080/"
        },
        "outputId": "070fae2d-0394-4e06-ce22-b4a5f8876c80",
        "id": "hvp51j1BndiV"
      },
      "execution_count": 225,
      "outputs": [
        {
          "output_type": "execute_result",
          "data": {
            "text/plain": [
              "1.0"
            ]
          },
          "metadata": {},
          "execution_count": 225
        }
      ]
    },
    {
      "cell_type": "code",
      "source": [
        "ma.tanh(-1000)"
      ],
      "metadata": {
        "colab": {
          "base_uri": "https://localhost:8080/"
        },
        "id": "hhYGHOUbsf8I",
        "outputId": "18434635-11bb-48a6-c69e-dd171569c01c"
      },
      "execution_count": 269,
      "outputs": [
        {
          "output_type": "execute_result",
          "data": {
            "text/plain": [
              "-1.0"
            ]
          },
          "metadata": {},
          "execution_count": 269
        }
      ]
    },
    {
      "cell_type": "markdown",
      "source": [
        "###**역쌍곡함수**"
      ],
      "metadata": {
        "id": "x0r5caWzs2Fj"
      }
    },
    {
      "cell_type": "markdown",
      "source": [
        "#### asinh(x)\n",
        "* 쌍곡사인(sinh)의 역 함수\n",
        " \n",
        " > *asinh(sinh(5))라면 5에 가까운 값 반환*"
      ],
      "metadata": {
        "id": "vsYPqmlJs2Fj"
      }
    },
    {
      "cell_type": "code",
      "source": [
        "ma.asinh(ma.sinh(5))"
      ],
      "metadata": {
        "colab": {
          "base_uri": "https://localhost:8080/"
        },
        "outputId": "28683821-f262-4293-f571-374992551f8b",
        "id": "DlYukXACs2Fj"
      },
      "execution_count": 249,
      "outputs": [
        {
          "output_type": "execute_result",
          "data": {
            "text/plain": [
              "5.0"
            ]
          },
          "metadata": {},
          "execution_count": 249
        }
      ]
    },
    {
      "cell_type": "markdown",
      "source": [
        "#### acosh(x)\n",
        "* 쌍곡코사인(cosh)의 역 함수\n",
        " \n",
        " > *acosh(cosh(10))이라면 10에 가까운 값 반환*"
      ],
      "metadata": {
        "id": "30X4o8kytd86"
      }
    },
    {
      "cell_type": "code",
      "source": [
        "ma.acosh(ma.cosh(10))"
      ],
      "metadata": {
        "colab": {
          "base_uri": "https://localhost:8080/"
        },
        "outputId": "6984d2b7-fe3e-4480-d7c5-d757f102c6e0",
        "id": "AiIYXjX6td9A"
      },
      "execution_count": 250,
      "outputs": [
        {
          "output_type": "execute_result",
          "data": {
            "text/plain": [
              "10.0"
            ]
          },
          "metadata": {},
          "execution_count": 250
        }
      ]
    },
    {
      "cell_type": "markdown",
      "source": [
        "#### atanh(x)\n",
        "* 쌍곡탄젠트(tanh)의 역 함수\n",
        " \n",
        " > *atanh(tanh(1000))이라면 ~1000에 가까운 값 반환~* \n",
        " \n",
        " > -> 에러발생 x값은 -0.99999999999999994.... 에서 0.99999999999999994....사이"
      ],
      "metadata": {
        "id": "HKbgwbhNteTS"
      }
    },
    {
      "cell_type": "code",
      "source": [
        "ma.atanh(0.99999999999999994)"
      ],
      "metadata": {
        "colab": {
          "base_uri": "https://localhost:8080/"
        },
        "outputId": "80301d52-3e12-4f16-c40a-391a643dbc08",
        "id": "9CfGZd8bteTT"
      },
      "execution_count": 251,
      "outputs": [
        {
          "output_type": "execute_result",
          "data": {
            "text/plain": [
              "18.714973875118524"
            ]
          },
          "metadata": {},
          "execution_count": 251
        }
      ]
    },
    {
      "cell_type": "markdown",
      "source": [
        "###**오차 함수**"
      ],
      "metadata": {
        "id": "lXQMmpmkxMdi"
      }
    },
    {
      "cell_type": "markdown",
      "source": [
        "#### erf(x)\n",
        "* 오차함수: 가우시안 함수를 기준으로,\n",
        "* 오차함수 결과값이 0에 가깞다면 실험 결과가 평균에 가깝다는 의미이며, 오차함수 결과값이 -1 또는 1에 가깝다면 평균과는 먼 결과라는 의미임.\n",
        "\n",
        "* 쌍곡탄젠트의 그래프와 유사함\n",
        " \n",
        " > *erf(0)은 0.0 반환, erf(1000)은 1에 가까운 값 반환, erf(-1000)은 -1에 가까운 값 반환*\n",
        "\n",
        " <img src = \"https://upload.wikimedia.org/wikipedia/commons/thumb/2/2c/Erf_plot.svg/325px-Erf_plot.svg.png\" width=\"300px\">"
      ],
      "metadata": {
        "id": "kXSRK6UUxa9p"
      }
    },
    {
      "cell_type": "code",
      "source": [
        "ma.erf(0)"
      ],
      "metadata": {
        "colab": {
          "base_uri": "https://localhost:8080/"
        },
        "outputId": "646b0420-ebe1-41de-9f7b-82dc60106e0a",
        "id": "VK09B8m8xa9q"
      },
      "execution_count": 261,
      "outputs": [
        {
          "output_type": "execute_result",
          "data": {
            "text/plain": [
              "0.0"
            ]
          },
          "metadata": {},
          "execution_count": 261
        }
      ]
    },
    {
      "cell_type": "code",
      "source": [
        "ma.erf(1000)"
      ],
      "metadata": {
        "colab": {
          "base_uri": "https://localhost:8080/"
        },
        "id": "2Rzxm1By3FEJ",
        "outputId": "efaab6a5-2850-41c6-b89d-7ea8e6e04cc2"
      },
      "execution_count": 262,
      "outputs": [
        {
          "output_type": "execute_result",
          "data": {
            "text/plain": [
              "1.0"
            ]
          },
          "metadata": {},
          "execution_count": 262
        }
      ]
    },
    {
      "cell_type": "code",
      "source": [
        "ma.erf(-1000)"
      ],
      "metadata": {
        "colab": {
          "base_uri": "https://localhost:8080/"
        },
        "id": "x44nsIb63HQT",
        "outputId": "e9d6c8cd-762b-4e8e-db6c-c6f9ebeebf7d"
      },
      "execution_count": 263,
      "outputs": [
        {
          "output_type": "execute_result",
          "data": {
            "text/plain": [
              "-1.0"
            ]
          },
          "metadata": {},
          "execution_count": 263
        }
      ]
    },
    {
      "cell_type": "markdown",
      "source": [
        "#### erfc(x)\n",
        "* 여오차 함수 1에서 오차함수를 뺀 값\n",
        "\n",
        "* 1-erf(x)\n",
        " \n",
        " > *erfc(0)은 1.0 반환, erfc(1000)은 0에 가까운 값 반환, erfc(-1000)은 2에 가까운 값 반환*"
      ],
      "metadata": {
        "id": "qE4t2-23xbsR"
      }
    },
    {
      "cell_type": "code",
      "source": [
        "ma.erfc(0)"
      ],
      "metadata": {
        "colab": {
          "base_uri": "https://localhost:8080/"
        },
        "outputId": "6f8dcd6e-1d09-46d7-8bcd-43bd0ba21c95",
        "id": "p_8BlAKHxbsS"
      },
      "execution_count": 264,
      "outputs": [
        {
          "output_type": "execute_result",
          "data": {
            "text/plain": [
              "1.0"
            ]
          },
          "metadata": {},
          "execution_count": 264
        }
      ]
    },
    {
      "cell_type": "code",
      "source": [
        "ma.erfc(1000)"
      ],
      "metadata": {
        "colab": {
          "base_uri": "https://localhost:8080/"
        },
        "id": "9Q8skToX3dFP",
        "outputId": "7d9b13f6-792d-4b57-b2d0-3f9182d210aa"
      },
      "execution_count": 265,
      "outputs": [
        {
          "output_type": "execute_result",
          "data": {
            "text/plain": [
              "0.0"
            ]
          },
          "metadata": {},
          "execution_count": 265
        }
      ]
    },
    {
      "cell_type": "code",
      "source": [
        "ma.erfc(-1000)"
      ],
      "metadata": {
        "colab": {
          "base_uri": "https://localhost:8080/"
        },
        "id": "ie9pBTVS3dTs",
        "outputId": "f33ef9c1-e569-415b-bc08-61b67cdd6a0a"
      },
      "execution_count": 266,
      "outputs": [
        {
          "output_type": "execute_result",
          "data": {
            "text/plain": [
              "2.0"
            ]
          },
          "metadata": {},
          "execution_count": 266
        }
      ]
    },
    {
      "cell_type": "markdown",
      "source": [
        "###**감마 함수**"
      ],
      "metadata": {
        "id": "KwZ9YHfnxWsC"
      }
    },
    {
      "cell_type": "markdown",
      "source": [
        "#### gamma(x)\n",
        "* 감마 함수\n",
        "* x가 양의 정수일 때는 ~x! 반환~ -> (x-1)! 반환\n",
        "* x가 양의 정수가 아닐 때 감마값 반환\n",
        " \n",
        " > *gamma(5)라면 ~120.0~ 반환* -> 4! 즉, 24.0 반환 \n",
        " \n",
        " > *gamma(1.5)라면 sqrt(π)/2 에 가까운 값 반환\n",
        "\n",
        " <img src = \"https://upload.wikimedia.org/wikipedia/commons/thumb/5/52/Gamma_plot.svg/300px-Gamma_plot.svg.png\" width=\"300px\">"
      ],
      "metadata": {
        "id": "kva5qPPXxcNR"
      }
    },
    {
      "cell_type": "code",
      "source": [
        "ma.gamma(5)"
      ],
      "metadata": {
        "colab": {
          "base_uri": "https://localhost:8080/"
        },
        "outputId": "54981b2b-afcc-4ab5-c0e7-6158d71e8728",
        "id": "UEVvmuHVxcNS"
      },
      "execution_count": 272,
      "outputs": [
        {
          "output_type": "execute_result",
          "data": {
            "text/plain": [
              "24.0"
            ]
          },
          "metadata": {},
          "execution_count": 272
        }
      ]
    },
    {
      "cell_type": "code",
      "source": [
        "ma.gamma(1.5)"
      ],
      "metadata": {
        "colab": {
          "base_uri": "https://localhost:8080/"
        },
        "id": "fLc1-_lQ7Xmy",
        "outputId": "e9640236-b0cf-4783-cd42-4a2ca157c893"
      },
      "execution_count": 273,
      "outputs": [
        {
          "output_type": "execute_result",
          "data": {
            "text/plain": [
              "0.886226925452758"
            ]
          },
          "metadata": {},
          "execution_count": 273
        }
      ]
    },
    {
      "cell_type": "code",
      "source": [
        "ma.sqrt(ma.pi)/2"
      ],
      "metadata": {
        "colab": {
          "base_uri": "https://localhost:8080/"
        },
        "id": "mNEyb9LE7e_u",
        "outputId": "7110e6a5-8121-47e4-c39d-1c50b7992863"
      },
      "execution_count": 274,
      "outputs": [
        {
          "output_type": "execute_result",
          "data": {
            "text/plain": [
              "0.8862269254527579"
            ]
          },
          "metadata": {},
          "execution_count": 274
        }
      ]
    },
    {
      "cell_type": "markdown",
      "source": [
        "#### lgamma(x)\n",
        "* 감마(x)의 절대값을 자연 로그로 반환\n",
        " \n",
        " > *lgamma(5)라면 log(24)에 가까운 값 반환"
      ],
      "metadata": {
        "id": "E63sqkapxcm6"
      }
    },
    {
      "cell_type": "code",
      "source": [
        "ma.lgamma(5)"
      ],
      "metadata": {
        "colab": {
          "base_uri": "https://localhost:8080/"
        },
        "id": "3r9bLmkLA-BO",
        "outputId": "4f1d0c74-cd01-47e1-ef3e-43f3ed75b342"
      },
      "execution_count": 277,
      "outputs": [
        {
          "output_type": "execute_result",
          "data": {
            "text/plain": [
              "3.178053830347945"
            ]
          },
          "metadata": {},
          "execution_count": 277
        }
      ]
    },
    {
      "cell_type": "code",
      "source": [
        "ma.log(24)"
      ],
      "metadata": {
        "colab": {
          "base_uri": "https://localhost:8080/"
        },
        "outputId": "4d716f27-0b1d-4111-ea0c-1ec4cddf23e6",
        "id": "QNKWX0Nkxcm6"
      },
      "execution_count": 276,
      "outputs": [
        {
          "output_type": "execute_result",
          "data": {
            "text/plain": [
              "3.1780538303479458"
            ]
          },
          "metadata": {},
          "execution_count": 276
        }
      ]
    },
    {
      "cell_type": "markdown",
      "source": [
        "\n",
        "\n",
        "##2.   random 모듈\n",
        "\n"
      ],
      "metadata": {
        "id": "oB6Hj-QWBNe-"
      }
    },
    {
      "cell_type": "code",
      "source": [
        "import random"
      ],
      "metadata": {
        "id": "T3ztFliHEwDE"
      },
      "execution_count": 497,
      "outputs": []
    },
    {
      "cell_type": "markdown",
      "source": [
        "###**난수생성기 설정**"
      ],
      "metadata": {
        "id": "KfD274wEZxw_"
      }
    },
    {
      "cell_type": "markdown",
      "source": [
        "#### seed(None, n) / seed(n)\n",
        "\n",
        "* 동일한 난수를 생성하도록 시드 초기화\n",
        "\n",
        " > *rseed(Non, n)이라면 매번 다른 난수 반환*\n",
        "\n",
        " > *seed(n)으로 초기화한 후에는 매번 같은 난수 반환*"
      ],
      "metadata": {
        "id": "lnRLGwkOZxxA"
      }
    },
    {
      "cell_type": "code",
      "source": [
        "random.seed(None, 2)\n",
        "x = random.randint(1, 100)\n",
        "random.seed(None, 2)\n",
        "y = random.randint(1, 100)\n",
        "\n",
        "print(x, \", \" , y)"
      ],
      "metadata": {
        "colab": {
          "base_uri": "https://localhost:8080/"
        },
        "outputId": "669357d4-0d78-4b7a-b5d0-d54c731aa993",
        "id": "n4YxLXgkZxxA"
      },
      "execution_count": 591,
      "outputs": [
        {
          "output_type": "stream",
          "name": "stdout",
          "text": [
            "35 ,  1\n"
          ]
        }
      ]
    },
    {
      "cell_type": "code",
      "source": [
        "random.seed(5)\n",
        "i = random.randint(1, 100)\n",
        "\n",
        "random.seed(5)\n",
        "j = random.randint(1, 100)  \n",
        "\n",
        "print(i, \", \" , j)"
      ],
      "metadata": {
        "colab": {
          "base_uri": "https://localhost:8080/"
        },
        "id": "b3zxj7eblQu_",
        "outputId": "b4e1eea5-42a7-4119-cd62-d29de48f8006"
      },
      "execution_count": 590,
      "outputs": [
        {
          "output_type": "stream",
          "name": "stdout",
          "text": [
            "80 ,  80\n"
          ]
        }
      ]
    },
    {
      "cell_type": "markdown",
      "source": [
        "#### getstate() / setstate(state)\n",
        "\n",
        "* getstate() : 난수생성기의 현 상태 반환\n",
        "* setstate(state) : 난수생성기를 state 상태로 복원 \n",
        " > *state=getstae()후, setstate(state) 한다면 동일한 random값 반환*"
      ],
      "metadata": {
        "id": "XH-dUxeJmQ58"
      }
    },
    {
      "cell_type": "code",
      "source": [
        "print(random.triangular())\n",
        "state = random.getstate()\n",
        "print(random.triangular())\n",
        "random.setstate(state)\n",
        "print(random.triangular())\n",
        "print(random.triangular())"
      ],
      "metadata": {
        "colab": {
          "base_uri": "https://localhost:8080/"
        },
        "outputId": "4ee209c9-ea3f-451f-af7f-82a6635f2421",
        "id": "akK1DSsRmQ59"
      },
      "execution_count": 609,
      "outputs": [
        {
          "output_type": "stream",
          "name": "stdout",
          "text": [
            "0.2828621026476245\n",
            "0.5502322179031713\n",
            "0.5502322179031713\n",
            "0.429273679292213\n"
          ]
        }
      ]
    },
    {
      "cell_type": "markdown",
      "source": [
        "###**정수 및 실수**"
      ],
      "metadata": {
        "id": "Az5O9UDYPR3P"
      }
    },
    {
      "cell_type": "markdown",
      "source": [
        "#### random() \n",
        "*\t0에서 1 사이의 실수를 생성\n",
        "* 랜덤의 범위는 0.0<= N <1.0 으로 **1을 포함하지 않음**\n"
      ],
      "metadata": {
        "id": "W72yog0hN0wi"
      }
    },
    {
      "cell_type": "code",
      "source": [
        "random.random()"
      ],
      "metadata": {
        "colab": {
          "base_uri": "https://localhost:8080/"
        },
        "outputId": "48915ee1-5cba-4b36-d757-315443208525",
        "id": "oVLjvUI7N0wj"
      },
      "execution_count": 347,
      "outputs": [
        {
          "output_type": "execute_result",
          "data": {
            "text/plain": [
              "0.027957560997996955"
            ]
          },
          "metadata": {},
          "execution_count": 347
        }
      ]
    },
    {
      "cell_type": "markdown",
      "source": [
        "uniform(a, b)\n",
        "\n",
        "* a에서 b 사이의 실수를 생성\n",
        "* 랜덤의 범위는 a.0 <= N <= b.0으로 **b를 포함**"
      ],
      "metadata": {
        "id": "VqzcIURXPcCq"
      }
    },
    {
      "cell_type": "code",
      "source": [
        "random.uniform(1.0, 1.1)"
      ],
      "metadata": {
        "colab": {
          "base_uri": "https://localhost:8080/"
        },
        "id": "qXY6lckNQM-a",
        "outputId": "1783a648-08f2-4892-f3d0-05298b2c2d86"
      },
      "execution_count": 363,
      "outputs": [
        {
          "output_type": "execute_result",
          "data": {
            "text/plain": [
              "1.052997407540516"
            ]
          },
          "metadata": {},
          "execution_count": 363
        }
      ]
    },
    {
      "cell_type": "markdown",
      "source": [
        "#### ranint(a, b) \n",
        "*\ta와 b 사이의 정수를 생성\n",
        "* 랜덤의 범위는 a<= random() <= b 로 **b를 포함**\n"
      ],
      "metadata": {
        "id": "CqSrN9JvOa3L"
      }
    },
    {
      "cell_type": "code",
      "source": [
        "random.randint(100, 110)"
      ],
      "metadata": {
        "colab": {
          "base_uri": "https://localhost:8080/"
        },
        "outputId": "feb0785e-6251-422e-b053-ca9213f8b256",
        "id": "A8GrLTReOa3L"
      },
      "execution_count": 357,
      "outputs": [
        {
          "output_type": "execute_result",
          "data": {
            "text/plain": [
              "110"
            ]
          },
          "metadata": {},
          "execution_count": 357
        }
      ]
    },
    {
      "cell_type": "markdown",
      "source": [
        "#### randrange(stop) / randrange(start, stop) / randrange(start, stop, step)\n",
        "\n",
        "* 지정된 범위 내의 정수 반환\n",
        " > *randrange(11)이라면 0 <= N < 11 범위의 정수를 반환*\n",
        "\n",
        " > *randrange(11, 20)이라면 11 <= N < 20 범위의 정수를 반환*\n",
        "\n",
        " > *randrange(2, 10, 2)라면 2 <= N < 10 범위의 짝수를 반환*"
      ],
      "metadata": {
        "id": "NkzDeMWkQb0H"
      }
    },
    {
      "cell_type": "code",
      "source": [
        "random.randrange(11)"
      ],
      "metadata": {
        "colab": {
          "base_uri": "https://localhost:8080/"
        },
        "id": "2uOKdqp_Q_jV",
        "outputId": "a5ac958f-939a-4bed-9db9-fd91c72835e8"
      },
      "execution_count": 414,
      "outputs": [
        {
          "output_type": "execute_result",
          "data": {
            "text/plain": [
              "0"
            ]
          },
          "metadata": {},
          "execution_count": 414
        }
      ]
    },
    {
      "cell_type": "code",
      "source": [
        "random.randrange(11, 20)"
      ],
      "metadata": {
        "colab": {
          "base_uri": "https://localhost:8080/"
        },
        "id": "m7d-n3woRgFm",
        "outputId": "799127e2-5d05-443f-bcd3-c2d3653f0b11"
      },
      "execution_count": 380,
      "outputs": [
        {
          "output_type": "execute_result",
          "data": {
            "text/plain": [
              "11"
            ]
          },
          "metadata": {},
          "execution_count": 380
        }
      ]
    },
    {
      "cell_type": "code",
      "source": [
        "random.randrange(2, 10, 2)"
      ],
      "metadata": {
        "colab": {
          "base_uri": "https://localhost:8080/"
        },
        "id": "9Kti3GwYRknA",
        "outputId": "120b5b11-a797-423b-a50b-c54067ef6993"
      },
      "execution_count": 387,
      "outputs": [
        {
          "output_type": "execute_result",
          "data": {
            "text/plain": [
              "8"
            ]
          },
          "metadata": {},
          "execution_count": 387
        }
      ]
    },
    {
      "cell_type": "markdown",
      "source": [
        "#### getrandbits(k)\n",
        "* k bit 크기의 정수를 반환\n",
        "\n",
        " > *getrandbits(8)이라면 0 <= N <= 256 범위의 정수 반환*"
      ],
      "metadata": {
        "id": "X24yZAldXOYY"
      }
    },
    {
      "cell_type": "code",
      "source": [
        "random.getrandbits(8)"
      ],
      "metadata": {
        "colab": {
          "base_uri": "https://localhost:8080/"
        },
        "id": "qnFTWHibX-xD",
        "outputId": "c19b92c7-9405-4063-9679-b9f0d19a0689"
      },
      "execution_count": 496,
      "outputs": [
        {
          "output_type": "execute_result",
          "data": {
            "text/plain": [
              "225"
            ]
          },
          "metadata": {},
          "execution_count": 496
        }
      ]
    },
    {
      "cell_type": "markdown",
      "source": [
        "###**시퀀스(list, tuple, range, String) + set, dict**"
      ],
      "metadata": {
        "id": "LT-wTFFGBSoA"
      }
    },
    {
      "cell_type": "code",
      "source": [
        "templist = [2, 4, 6, 8, 10]\n",
        "temptuple = (1, 3, 5, 7, 9)\n",
        "tempdict1 = {1:\"강아지\", 2:\"고양이\", 3:\"토끼\", 4:\"햄스터\", 5:\"호랑이\"}\n",
        "tempdict2 = {1:101, 2:102, 3:103, 4:104, 5:105}\n",
        "tempset = {10, 11, 12, 13, 14}\n",
        "tempstr = \"강아지 고양이 토끼 햄스터 호랑이\""
      ],
      "metadata": {
        "id": "BmKwEzUAE9uI"
      },
      "execution_count": 334,
      "outputs": []
    },
    {
      "cell_type": "markdown",
      "source": [
        "#### choice(seq) \n",
        "*\tlist, tuple, range 등 순서가 있는 객체를 매개변수로 받아 임의의 아이템 하나를 반환\n",
        "* 단, 비어 있는 인덱스의 값은 반환 대상이 아님\n",
        "\n",
        " > *순서가 없는 dict, set은 choice의 매개변수로 적절하지 않음*\n",
        "\n",
        " > *set은 아예 에러가 나고 dict는 동작할 때도, 에러가 날 때도 있다.(dict의 키값을 정수로 할 때만 동작하는 것으로 보임)*\n"
      ],
      "metadata": {
        "id": "MYeosK9dHY0D"
      }
    },
    {
      "cell_type": "code",
      "source": [
        "random.choice(templist)"
      ],
      "metadata": {
        "colab": {
          "base_uri": "https://localhost:8080/"
        },
        "id": "BS1PWSFZHinm",
        "outputId": "a6beb020-7ac9-4d08-968c-232a0db8034e"
      },
      "execution_count": 317,
      "outputs": [
        {
          "output_type": "execute_result",
          "data": {
            "text/plain": [
              "4"
            ]
          },
          "metadata": {},
          "execution_count": 317
        }
      ]
    },
    {
      "cell_type": "code",
      "source": [
        "random.choice(temptuple)"
      ],
      "metadata": {
        "colab": {
          "base_uri": "https://localhost:8080/"
        },
        "id": "E3X1ksshHi6R",
        "outputId": "fabb817c-62d0-4fc9-8e4d-e13545f50250"
      },
      "execution_count": 318,
      "outputs": [
        {
          "output_type": "execute_result",
          "data": {
            "text/plain": [
              "3"
            ]
          },
          "metadata": {},
          "execution_count": 318
        }
      ]
    },
    {
      "cell_type": "code",
      "source": [
        "random.choice(tempstr)"
      ],
      "metadata": {
        "colab": {
          "base_uri": "https://localhost:8080/",
          "height": 35
        },
        "id": "pL8RFNVqI2w_",
        "outputId": "51ed082d-e5d7-4e33-aa68-61a71c34065f"
      },
      "execution_count": 319,
      "outputs": [
        {
          "output_type": "execute_result",
          "data": {
            "text/plain": [
              "'아'"
            ],
            "application/vnd.google.colaboratory.intrinsic+json": {
              "type": "string"
            }
          },
          "metadata": {},
          "execution_count": 319
        }
      ]
    },
    {
      "cell_type": "code",
      "source": [
        "random.choice(tempdict1)"
      ],
      "metadata": {
        "colab": {
          "base_uri": "https://localhost:8080/",
          "height": 35
        },
        "id": "wi9mjP6_HjJ6",
        "outputId": "e8293179-327e-437c-d1a6-7be238220a83"
      },
      "execution_count": 346,
      "outputs": [
        {
          "output_type": "execute_result",
          "data": {
            "text/plain": [
              "'햄스터'"
            ],
            "application/vnd.google.colaboratory.intrinsic+json": {
              "type": "string"
            }
          },
          "metadata": {},
          "execution_count": 346
        }
      ]
    },
    {
      "cell_type": "code",
      "source": [
        "random.choice(tempdict2)"
      ],
      "metadata": {
        "colab": {
          "base_uri": "https://localhost:8080/"
        },
        "id": "BoNtQ7wMMF1S",
        "outputId": "397aa56c-2a73-421d-c0da-be22c2f0a76a"
      },
      "execution_count": 345,
      "outputs": [
        {
          "output_type": "execute_result",
          "data": {
            "text/plain": [
              "102"
            ]
          },
          "metadata": {},
          "execution_count": 345
        }
      ]
    },
    {
      "cell_type": "code",
      "source": [
        "random.choice(range(200,211))"
      ],
      "metadata": {
        "colab": {
          "base_uri": "https://localhost:8080/"
        },
        "id": "d8_4zi91M2S6",
        "outputId": "d8418d70-8e74-4bad-b9fb-924101785b7e"
      },
      "execution_count": 341,
      "outputs": [
        {
          "output_type": "execute_result",
          "data": {
            "text/plain": [
              "203"
            ]
          },
          "metadata": {},
          "execution_count": 341
        }
      ]
    },
    {
      "cell_type": "markdown",
      "source": [
        "#### sample(population, k) \n",
        "*\tlist, tuple, range 등 순서가 있는 객체 + set을 매개변수로 받아 k 개수의 아이템을 리스트로 반환\n",
        "\n",
        " > *key 와 value로 이루어진 dict는 select의 매개변수로 적절하지 않음*\n"
      ],
      "metadata": {
        "id": "Ph2UEr2uK4ZD"
      }
    },
    {
      "cell_type": "code",
      "source": [
        "random.sample(templist, 2)"
      ],
      "metadata": {
        "colab": {
          "base_uri": "https://localhost:8080/"
        },
        "outputId": "d33dd60d-0fed-4318-df66-51aa31e545cf",
        "id": "wExMvCT9K4ZK"
      },
      "execution_count": 328,
      "outputs": [
        {
          "output_type": "execute_result",
          "data": {
            "text/plain": [
              "[10, 8]"
            ]
          },
          "metadata": {},
          "execution_count": 328
        }
      ]
    },
    {
      "cell_type": "code",
      "source": [
        "random.sample(temptuple, 3)"
      ],
      "metadata": {
        "colab": {
          "base_uri": "https://localhost:8080/"
        },
        "outputId": "dd4a09dd-c539-496a-c930-a85d514c5f33",
        "id": "hPKUYsu3K4ZK"
      },
      "execution_count": 329,
      "outputs": [
        {
          "output_type": "execute_result",
          "data": {
            "text/plain": [
              "[1, 7, 3]"
            ]
          },
          "metadata": {},
          "execution_count": 329
        }
      ]
    },
    {
      "cell_type": "code",
      "source": [
        "random.sample(tempstr, 10)"
      ],
      "metadata": {
        "colab": {
          "base_uri": "https://localhost:8080/"
        },
        "outputId": "0f79046a-323e-4fef-f5f3-31a95d517b3d",
        "id": "wd1nVAxMK4ZK"
      },
      "execution_count": 330,
      "outputs": [
        {
          "output_type": "execute_result",
          "data": {
            "text/plain": [
              "['호', ' ', '토', ' ', '스', '햄', ' ', '아', '고', '터']"
            ]
          },
          "metadata": {},
          "execution_count": 330
        }
      ]
    },
    {
      "cell_type": "code",
      "source": [
        "random.sample(tempset, 4)"
      ],
      "metadata": {
        "colab": {
          "base_uri": "https://localhost:8080/"
        },
        "id": "M69Mt6L2LnxZ",
        "outputId": "7fc621e6-ddd0-448b-8df9-ce21e2dc89ed"
      },
      "execution_count": 333,
      "outputs": [
        {
          "output_type": "execute_result",
          "data": {
            "text/plain": [
              "[11, 13, 12, 14]"
            ]
          },
          "metadata": {},
          "execution_count": 333
        }
      ]
    },
    {
      "cell_type": "code",
      "source": [
        "random.sample(range(200,211), 5)"
      ],
      "metadata": {
        "colab": {
          "base_uri": "https://localhost:8080/"
        },
        "id": "3_MG9OHzNAzG",
        "outputId": "481b7835-3750-44ad-82e5-d91648f65224"
      },
      "execution_count": 342,
      "outputs": [
        {
          "output_type": "execute_result",
          "data": {
            "text/plain": [
              "[209, 205, 203, 208, 207]"
            ]
          },
          "metadata": {},
          "execution_count": 342
        }
      ]
    },
    {
      "cell_type": "markdown",
      "source": [
        "#### shuffle(seq)\n",
        "*\tlist를 매개변수로 받아 아이템들을 랜덤하게 섞음\n",
        "* 값을 수정할 수 없는 tuple이나 순서가 없는 set, dict은 동작하지 않음"
      ],
      "metadata": {
        "id": "Qlra84o9BSoB"
      }
    },
    {
      "cell_type": "code",
      "source": [
        "random.shuffle(templist)\n",
        "print(templist)"
      ],
      "metadata": {
        "colab": {
          "base_uri": "https://localhost:8080/"
        },
        "outputId": "aae4259e-d97f-4997-8e51-63aed8b7ff88",
        "id": "EB4t7p-nBSoC"
      },
      "execution_count": 284,
      "outputs": [
        {
          "output_type": "stream",
          "name": "stdout",
          "text": [
            "[2, 10, 8, 4, 6]\n"
          ]
        }
      ]
    },
    {
      "cell_type": "markdown",
      "source": [
        "###**통계/확률**"
      ],
      "metadata": {
        "id": "UTA5nwFYVoMQ"
      }
    },
    {
      "cell_type": "markdown",
      "source": [
        "#### normalvariate(mu, sigma)\n",
        "\n",
        "* 평균 mu, 표준편차를 sigma로 하는 정규분포를 기준으로 난수를 생성\n",
        "\n",
        "* normalvariate(mu, sigma)를 무수히 많이 반복하여 평균과 표준편차를 구할 경우 직접 설정한 mu, sigma에 가깝게 나올 것으로 예상\n",
        "\n",
        "<img src=\"https://upload.wikimedia.org/wikipedia/commons/thumb/7/74/Normal_Distribution_PDF.svg/270px-Normal_Distribution_PDF.svg.png\">"
      ],
      "metadata": {
        "id": "PLGBBMO5WIXY"
      }
    },
    {
      "cell_type": "code",
      "source": [
        "random.normalvariate(0, 1)"
      ],
      "metadata": {
        "colab": {
          "base_uri": "https://localhost:8080/"
        },
        "id": "mv5EwwJhswJ5",
        "outputId": "16eff385-9628-4c3c-c2d4-e32508671218"
      },
      "execution_count": 610,
      "outputs": [
        {
          "output_type": "execute_result",
          "data": {
            "text/plain": [
              "1.0090824133353362"
            ]
          },
          "metadata": {},
          "execution_count": 610
        }
      ]
    },
    {
      "cell_type": "markdown",
      "source": [
        "#### gauss(mu, sigma)\n",
        "\n",
        "* 평균 mu, 표준편차를 sigma로 하는 표준정규분포를 기준으로 난수를 생성\n",
        "\n",
        "* normalvariate와 동일한 기능을 함. (tutorial에 처리 속도는 gauss가 조금 더 빠르지만, 다중 스레드 상황에서 안정성이 부족하다는 설명이 있음)\n",
        "\n",
        "* gause(mu, sigma)를 무수히 많이 반복하여 평균과 표준편차를 구할 경우 직접 설정한 mu, sigma에 가깝게 나올 것으로 예상"
      ],
      "metadata": {
        "id": "DuYuHXl9iuNr"
      }
    },
    {
      "cell_type": "code",
      "source": [
        "random.gauss(0, -1)"
      ],
      "metadata": {
        "colab": {
          "base_uri": "https://localhost:8080/"
        },
        "id": "YxjY_XbEs1_E",
        "outputId": "63ffbd44-f27b-4b7c-fa31-f1352ffd4c6d"
      },
      "execution_count": 635,
      "outputs": [
        {
          "output_type": "execute_result",
          "data": {
            "text/plain": [
              "1.282662472409896"
            ]
          },
          "metadata": {},
          "execution_count": 635
        }
      ]
    },
    {
      "cell_type": "markdown",
      "source": [
        "#### lognormvariate(mu, sigma)\n",
        "\n",
        "* 로그정규분포: 로그가 정규분포를 따르는 확률변수의 분포를 기준으로 난수를 생성\n",
        "\n",
        "* 변수 x가 정규분포를 따른다면 e ** x, 즉 exp(x)는 로그정규분포를 따름\n",
        "\n",
        "* mu에는 어떤 값이나 올 수 있으나 sigma는 0보다 커야 함\n",
        "\n",
        "* 결과는 늘 양수만 나온다\n",
        "\n",
        "<img src=\"https://upload.wikimedia.org/wikipedia/commons/thumb/8/80/Some_log-normal_distributions.svg/270px-Some_log-normal_distributions.svg.png\">"
      ],
      "metadata": {
        "id": "XkOFbRKlWQPY"
      }
    },
    {
      "cell_type": "code",
      "source": [
        "random.lognormvariate(-1, 0)"
      ],
      "metadata": {
        "colab": {
          "base_uri": "https://localhost:8080/"
        },
        "id": "VdiVPtR3uAG1",
        "outputId": "f096bdaa-30f5-46ba-8805-66589004c2ee"
      },
      "execution_count": 637,
      "outputs": [
        {
          "output_type": "execute_result",
          "data": {
            "text/plain": [
              "0.36787944117144233"
            ]
          },
          "metadata": {},
          "execution_count": 637
        }
      ]
    },
    {
      "cell_type": "markdown",
      "source": [
        "#### gammavariate(alpha, beta)\n",
        "\n",
        "* 감마분포를 기준으로 난수를 생성\n",
        "\n",
        "* alpha 번째 사건이 일어날 때까지 걸리는 시간에 대한 연속확률분포\n",
        "\n",
        "*  alpha를 형태모수, beta를 척도모수라고 하며, alpha와 beta 모두 0보다 큰 값을 입력해야 한다\n",
        "\n",
        "* 결과는 늘 양수만 나온다.\n",
        "\n",
        "<img src=\"https://upload.wikimedia.org/wikipedia/commons/thumb/f/fc/Gamma_distribution_pdf.png/270px-Gamma_distribution_pdf.png\">"
      ],
      "metadata": {
        "id": "u5G_iVOMrfI7"
      }
    },
    {
      "cell_type": "code",
      "source": [
        "random.gammavariate(1, 2)"
      ],
      "metadata": {
        "colab": {
          "base_uri": "https://localhost:8080/"
        },
        "id": "LNP0en1juPQi",
        "outputId": "1755f7a3-53c3-4050-af5b-34733460fab4"
      },
      "execution_count": 639,
      "outputs": [
        {
          "output_type": "execute_result",
          "data": {
            "text/plain": [
              "2.4512071588633115"
            ]
          },
          "metadata": {},
          "execution_count": 639
        }
      ]
    },
    {
      "cell_type": "markdown",
      "source": [
        "#### expovariate(lambd)\n",
        "\n",
        "* 지수 분포를 기준으로 난수를 생성\n",
        "\n",
        "* 감마분포의 특수케이스로 alpha를 1로 고정시켜 단순화 한 분포도\n",
        "\n",
        "* lambd는 1.0을 원하는 평균으로 나눈 값으로 0이 될 수 없음\n",
        "\n",
        "<img src=\"https://upload.wikimedia.org/wikipedia/commons/thumb/e/ec/Exponential_pdf.svg/270px-Exponential_pdf.svg.png\">"
      ],
      "metadata": {
        "id": "hxyNRnSEVyeo"
      }
    },
    {
      "cell_type": "code",
      "source": [
        "random.expovariate(-500)"
      ],
      "metadata": {
        "colab": {
          "base_uri": "https://localhost:8080/"
        },
        "id": "IDe7SJFyvymd",
        "outputId": "1b47ee17-8bd2-4693-f73a-5796b3d19ddd"
      },
      "execution_count": 632,
      "outputs": [
        {
          "output_type": "execute_result",
          "data": {
            "text/plain": [
              "-0.0031789877857662453"
            ]
          },
          "metadata": {},
          "execution_count": 632
        }
      ]
    },
    {
      "cell_type": "markdown",
      "source": [
        "#### betavariate(alpha, beta)\n",
        "\n",
        "* 베타분포를 기준으로 난수를 생성\n",
        "\n",
        "*  alpha와 beta 모두 0보다 큰 값을 입력해야 한다\n",
        "\n",
        "* 0에서 1사이의 값을 반환한다.\n",
        "\n",
        "<img src=\"https://upload.wikimedia.org/wikipedia/commons/thumb/f/f3/Beta_distribution_pdf.svg/270px-Beta_distribution_pdf.svg.png\">"
      ],
      "metadata": {
        "id": "cz0Iwk55x24Q"
      }
    },
    {
      "cell_type": "code",
      "source": [
        "random.betavariate(100, 200)"
      ],
      "metadata": {
        "colab": {
          "base_uri": "https://localhost:8080/"
        },
        "outputId": "bfa567c6-9be3-4b5c-d039-d55efd24190a",
        "id": "Ue7OHtKQx24W"
      },
      "execution_count": 643,
      "outputs": [
        {
          "output_type": "execute_result",
          "data": {
            "text/plain": [
              "0.30754225052472084"
            ]
          },
          "metadata": {},
          "execution_count": 643
        }
      ]
    },
    {
      "cell_type": "markdown",
      "source": [
        "#### triangular() / triangular(law, high) / triangular(law, high, mode)\n",
        "\n",
        "* 삼각분포를 기준으로 난수를 생성\n",
        "\n",
        "* law는 최소값 high는 최대값, mode는 최빈값 \n",
        " > *randrange()이라면 0.0 <= N <= 1.0 범위의 실수 값을 반환*\n",
        "\n",
        " > *randrange(0, 100)이라면 0.0 <= N <= 100.0 범위의 실수 값을 반환*\n",
        "\n",
        " > *randrange(0.0, 100.0, 3.5)라면 0.0 <= N <= 100.0 범위의 실수 중 3.5에 가중치를 두고 난수를 반환*"
      ],
      "metadata": {
        "id": "tN6CldvgS_NZ"
      }
    },
    {
      "cell_type": "code",
      "source": [
        "random.triangular()"
      ],
      "metadata": {
        "colab": {
          "base_uri": "https://localhost:8080/"
        },
        "outputId": "246c7bc6-2655-495c-de00-4271da5c21c1",
        "id": "nKSu58kjS_NZ"
      },
      "execution_count": 606,
      "outputs": [
        {
          "output_type": "execute_result",
          "data": {
            "text/plain": [
              "0.8665265331343271"
            ]
          },
          "metadata": {},
          "execution_count": 606
        }
      ]
    },
    {
      "cell_type": "code",
      "source": [
        "random.triangular(0, 100)"
      ],
      "metadata": {
        "colab": {
          "base_uri": "https://localhost:8080/"
        },
        "outputId": "1a811563-71d4-4bbf-fd63-85f468abea7a",
        "id": "3UuhN4WeS_NZ"
      },
      "execution_count": 607,
      "outputs": [
        {
          "output_type": "execute_result",
          "data": {
            "text/plain": [
              "37.04032569529681"
            ]
          },
          "metadata": {},
          "execution_count": 607
        }
      ]
    },
    {
      "cell_type": "code",
      "source": [
        "random.triangular(0.0, 100.0, 3.5)"
      ],
      "metadata": {
        "colab": {
          "base_uri": "https://localhost:8080/"
        },
        "outputId": "da88a0f5-a7f9-4f40-f75e-dd8aff8c2b1b",
        "id": "pB5T217LS_Na"
      },
      "execution_count": 608,
      "outputs": [
        {
          "output_type": "execute_result",
          "data": {
            "text/plain": [
              "23.083908686639404"
            ]
          },
          "metadata": {},
          "execution_count": 608
        }
      ]
    },
    {
      "cell_type": "markdown",
      "source": [
        "#### paretovariate(alpha)\n",
        "\n",
        "* 파레토분포를 기준으로 난수 생성\n",
        "\n",
        "* alpha는 모양(shape) 매개 변수로 alpha가 0에 가까울수록 더 균등분포에 가깝고 alpha 가 더 클 수록 디랙 델타 함수에 가까워진다.(더 큰 불평등을 의미)\n",
        "\n",
        "<img src=\"https://upload.wikimedia.org/wikipedia/commons/thumb/1/11/Probability_density_function_of_Pareto_distribution.svg/270px-Probability_density_function_of_Pareto_distribution.svg.png\">"
      ],
      "metadata": {
        "id": "2LCg8f6i1J3J"
      }
    },
    {
      "cell_type": "code",
      "source": [
        "random.paretovariate(10000000000000000) # 계속 1에 가까운 수 산출"
      ],
      "metadata": {
        "colab": {
          "base_uri": "https://localhost:8080/"
        },
        "outputId": "cca280b9-b52b-4829-dcb5-3d2d6d312083",
        "id": "76cjxL6C1J3P"
      },
      "execution_count": 672,
      "outputs": [
        {
          "output_type": "execute_result",
          "data": {
            "text/plain": [
              "1.0000000000000004"
            ]
          },
          "metadata": {},
          "execution_count": 672
        }
      ]
    },
    {
      "cell_type": "code",
      "source": [
        "random.paretovariate(0.01) # 숫자 범위가 다양함"
      ],
      "metadata": {
        "colab": {
          "base_uri": "https://localhost:8080/"
        },
        "outputId": "9dfe2b06-8a68-4ff5-8399-e8c8e2512fa0",
        "id": "_RqHW7ti12ew"
      },
      "execution_count": 675,
      "outputs": [
        {
          "output_type": "execute_result",
          "data": {
            "text/plain": [
              "137449901.66628966"
            ]
          },
          "metadata": {},
          "execution_count": 675
        }
      ]
    },
    {
      "cell_type": "markdown",
      "source": [
        "#### weibullvariate(alpha, beta)\n",
        "\n",
        "* 베이불분포를 기준으로 난수 생성\n",
        "\n",
        "* 주로 산업현장에서 부품의 수명을 추정하는 데 사용되며, 고장날 확률이 시간이 지나면서 높아지는 경우와 줄어드는 경우와 일정한 경우 모두 추정 할 수 있음\n",
        "\n",
        "* 고장날 확률이 시간에 따라 일정한 경우는 지수분포와 동일함\n",
        "\n",
        "* alpha는 크기(scale) 매개 변수이고 beta는 모양(shape) 매개 변수\n",
        "\n",
        "<img src = \"https://upload.wikimedia.org/wikipedia/commons/thumb/5/58/Weibull_PDF.svg/270px-Weibull_PDF.svg.png\">"
      ],
      "metadata": {
        "id": "5kLs3l1H23Dg"
      }
    },
    {
      "cell_type": "code",
      "source": [
        "random.weibullvariate(-5, -3)"
      ],
      "metadata": {
        "colab": {
          "base_uri": "https://localhost:8080/"
        },
        "outputId": "13612290-dc04-4306-b936-06024919e027",
        "id": "_ArSM0ep23Dg"
      },
      "execution_count": 677,
      "outputs": [
        {
          "output_type": "execute_result",
          "data": {
            "text/plain": [
              "-5.905060059017162"
            ]
          },
          "metadata": {},
          "execution_count": 677
        }
      ]
    },
    {
      "cell_type": "markdown",
      "source": [
        "#### vonmisesvariate(mu, kappa)\n",
        "\n",
        "* 폰미제스분포를 기준으로 난수 생성\n",
        "\n",
        "* mu는 0과 2*pi 사이의 라디안으로 표현된 평균 각도이며,\n",
        "kappa는 집중도(concentration) 매개 변수로 0 이상이어야 함\n",
        "\n",
        "* kappa가 0이면, 이 분포는 0에서 2*pi에 걸친 균등한 임의의 각도를 반환함\n",
        "\n",
        "<img src = \"https://t1.daumcdn.net/cfile/tistory/247469345418F6B904\">"
      ],
      "metadata": {
        "id": "vJEWFuI6krUz"
      }
    },
    {
      "cell_type": "code",
      "source": [
        "random.vonmisesvariate(ma.pi, 0)"
      ],
      "metadata": {
        "colab": {
          "base_uri": "https://localhost:8080/"
        },
        "id": "PKxdpR7Tzwqk",
        "outputId": "7cd5d33e-3c06-4da3-c67a-70c6fcb174ef"
      },
      "execution_count": 645,
      "outputs": [
        {
          "output_type": "execute_result",
          "data": {
            "text/plain": [
              "5.652864710572115"
            ]
          },
          "metadata": {},
          "execution_count": 645
        }
      ]
    }
  ]
}