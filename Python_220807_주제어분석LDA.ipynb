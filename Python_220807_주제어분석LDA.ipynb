{
 "cells": [
  {
   "cell_type": "markdown",
   "id": "5ffe6cf4",
   "metadata": {},
   "source": [
    "## 뉴스 기사 주제어 분석\n",
    "---\n",
    "잠재 디리클레 할당(Latent Dirichlet Allocation)을 활용한 주제어 분석 실습"
   ]
  },
  {
   "cell_type": "markdown",
   "id": "8a4691a7",
   "metadata": {},
   "source": [
    "### 0. 뉴스 기사 TDM 분석 결과 및 원본 파일 불러오기"
   ]
  },
  {
   "cell_type": "code",
   "execution_count": 1,
   "id": "fed8a1d1",
   "metadata": {},
   "outputs": [],
   "source": [
    "import pandas as pd\n",
    "import joblib"
   ]
  },
  {
   "cell_type": "code",
   "execution_count": 2,
   "id": "b1c57275",
   "metadata": {},
   "outputs": [],
   "source": [
    "def get_nouns():\n",
    "    pass"
   ]
  },
  {
   "cell_type": "code",
   "execution_count": 3,
   "id": "b7f53149",
   "metadata": {},
   "outputs": [],
   "source": [
    "with open(\"ai_news_count.pkl\", 'rb') as f:\n",
    "    data = joblib.load(f)\n",
    "locals().update(data)"
   ]
  },
  {
   "cell_type": "code",
   "execution_count": 4,
   "id": "488a5db2",
   "metadata": {},
   "outputs": [
    {
     "name": "stderr",
     "output_type": "stream",
     "text": [
      "C:\\Users\\User\\anaconda3\\lib\\site-packages\\sklearn\\utils\\deprecation.py:87: FutureWarning: Function get_feature_names is deprecated; get_feature_names is deprecated in 1.0 and will be removed in 1.2. Please use get_feature_names_out instead.\n",
      "  warnings.warn(msg, category=FutureWarning)\n"
     ]
    }
   ],
   "source": [
    "words = vectorizer.get_feature_names()"
   ]
  },
  {
   "cell_type": "code",
   "execution_count": 5,
   "id": "e97d497c",
   "metadata": {
    "scrolled": true
   },
   "outputs": [],
   "source": [
    "word_dict = dict(enumerate(words))"
   ]
  },
  {
   "cell_type": "code",
   "execution_count": 6,
   "id": "b493d24f",
   "metadata": {},
   "outputs": [
    {
     "data": {
      "text/plain": [
       "'0시'"
      ]
     },
     "execution_count": 6,
     "metadata": {},
     "output_type": "execute_result"
    }
   ],
   "source": [
    "word_dict[0]"
   ]
  },
  {
   "cell_type": "code",
   "execution_count": 7,
   "id": "4e25a71a",
   "metadata": {},
   "outputs": [
    {
     "data": {
      "text/plain": [
       "'공고'"
      ]
     },
     "execution_count": 7,
     "metadata": {},
     "output_type": "execute_result"
    }
   ],
   "source": [
    "word_dict[100]"
   ]
  },
  {
   "cell_type": "markdown",
   "id": "de7ab25b",
   "metadata": {},
   "source": [
    "### 1. Tdm을  gensim형태로 변환"
   ]
  },
  {
   "cell_type": "code",
   "execution_count": 8,
   "id": "3879b6fd",
   "metadata": {},
   "outputs": [],
   "source": [
    "from gensim.matutils import Sparse2Corpus"
   ]
  },
  {
   "cell_type": "code",
   "execution_count": 9,
   "id": "8513d75a",
   "metadata": {},
   "outputs": [],
   "source": [
    "corpus = Sparse2Corpus(tdm.T)  # 말의 뭉치"
   ]
  },
  {
   "cell_type": "markdown",
   "id": "5b156c48",
   "metadata": {},
   "source": [
    "### 2. LDA 적용"
   ]
  },
  {
   "cell_type": "code",
   "execution_count": 10,
   "id": "a07ed9b0",
   "metadata": {},
   "outputs": [],
   "source": [
    "from gensim.models.ldamodel import LdaModel"
   ]
  },
  {
   "cell_type": "code",
   "execution_count": 11,
   "id": "640a1f1a",
   "metadata": {},
   "outputs": [],
   "source": [
    "lda = LdaModel(corpus=corpus,\n",
    "              num_topics=100,\n",
    "              passes=3,\n",
    "              iterations=100,\n",
    "              id2word = word_dict,\n",
    "              random_state = 123)"
   ]
  },
  {
   "cell_type": "code",
   "execution_count": 12,
   "id": "c5c7c9bc",
   "metadata": {},
   "outputs": [
    {
     "data": {
      "text/plain": [
       "[('통신', 0.034386754),\n",
       " ('장비', 0.025814008),\n",
       " ('인도', 0.024765598),\n",
       " ('이동', 0.024024002),\n",
       " ('제공', 0.022522856),\n",
       " ('초고', 0.022212919),\n",
       " ('화웨이', 0.020171339),\n",
       " ('삼성전자', 0.019822447),\n",
       " ('에릭슨', 0.019822443),\n",
       " ('노키아', 0.019822398)]"
      ]
     },
     "execution_count": 12,
     "metadata": {},
     "output_type": "execute_result"
    }
   ],
   "source": [
    "lda.show_topic(0)"
   ]
  },
  {
   "cell_type": "code",
   "execution_count": 13,
   "id": "5c1fd6fa",
   "metadata": {},
   "outputs": [
    {
     "data": {
      "text/plain": [
       "[('자원', 0.0009999998),\n",
       " ('자리', 0.0009999998),\n",
       " ('작업', 0.0009999998),\n",
       " ('자치', 0.0009999998),\n",
       " ('자체', 0.0009999998),\n",
       " ('자율', 0.0009999998),\n",
       " ('장비', 0.0009999998),\n",
       " ('자문', 0.0009999998),\n",
       " ('자동', 0.0009999998),\n",
       " ('자동화', 0.0009999998)]"
      ]
     },
     "execution_count": 13,
     "metadata": {},
     "output_type": "execute_result"
    }
   ],
   "source": [
    "lda.show_topic(2)"
   ]
  },
  {
   "cell_type": "code",
   "execution_count": 14,
   "id": "f3108eb3",
   "metadata": {},
   "outputs": [],
   "source": [
    "row = tdm[0]\n",
    "doc = list(zip(row.indices, row.data))"
   ]
  },
  {
   "cell_type": "code",
   "execution_count": 15,
   "id": "8955c519",
   "metadata": {},
   "outputs": [
    {
     "data": {
      "text/plain": [
       "[('결과', 1),\n",
       " ('과학기술', 1),\n",
       " ('구성', 1),\n",
       " ('국제', 3),\n",
       " ('기준', 2),\n",
       " ('발간', 1),\n",
       " ('우수', 1),\n",
       " ('전자파', 1),\n",
       " ('점수', 1),\n",
       " ('통과', 1),\n",
       " ('평가', 1),\n",
       " ('품질', 1),\n",
       " ('학회', 1),\n",
       " ('한국', 1),\n",
       " ('항목', 2),\n",
       " ('확장', 1)]"
      ]
     },
     "execution_count": 15,
     "metadata": {},
     "output_type": "execute_result"
    }
   ],
   "source": [
    "doc_words = [(words[i], n) for i, n in doc]\n",
    "doc_words"
   ]
  },
  {
   "cell_type": "code",
   "execution_count": 16,
   "id": "d59565c1",
   "metadata": {},
   "outputs": [
    {
     "data": {
      "text/plain": [
       "[(71, 0.9528569)]"
      ]
     },
     "execution_count": 16,
     "metadata": {},
     "output_type": "execute_result"
    }
   ],
   "source": [
    "lda.get_document_topics(doc)"
   ]
  },
  {
   "cell_type": "code",
   "execution_count": 20,
   "id": "1ec94e12",
   "metadata": {},
   "outputs": [
    {
     "data": {
      "text/plain": [
       "[('국제', 0.09177787),\n",
       " ('기준', 0.062561594),\n",
       " ('항목', 0.06128718),\n",
       " ('전자파', 0.035018552),\n",
       " ('통과', 0.030795936),\n",
       " ('한국', 0.030795928),\n",
       " ('발간', 0.030795882),\n",
       " ('과학기술', 0.030795831),\n",
       " ('점수', 0.03079582),\n",
       " ('평가', 0.03079579)]"
      ]
     },
     "execution_count": 20,
     "metadata": {},
     "output_type": "execute_result"
    }
   ],
   "source": [
    "lda.show_topic(71)"
   ]
  },
  {
   "cell_type": "code",
   "execution_count": 21,
   "id": "080ccd6a",
   "metadata": {},
   "outputs": [],
   "source": [
    "lda.save('lda_test.lda')"
   ]
  },
  {
   "cell_type": "code",
   "execution_count": 22,
   "id": "aad8c6fc",
   "metadata": {},
   "outputs": [],
   "source": [
    "lda2 = LdaModel.load('lda_test.lda')"
   ]
  }
 ],
 "metadata": {
  "kernelspec": {
   "display_name": "Python 3 (ipykernel)",
   "language": "python",
   "name": "python3"
  },
  "language_info": {
   "codemirror_mode": {
    "name": "ipython",
    "version": 3
   },
   "file_extension": ".py",
   "mimetype": "text/x-python",
   "name": "python",
   "nbconvert_exporter": "python",
   "pygments_lexer": "ipython3",
   "version": "3.9.12"
  }
 },
 "nbformat": 4,
 "nbformat_minor": 5
}
