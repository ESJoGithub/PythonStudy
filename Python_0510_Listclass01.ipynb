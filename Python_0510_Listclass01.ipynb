{
  "nbformat": 4,
  "nbformat_minor": 0,
  "metadata": {
    "colab": {
      "name": "Python_0510_Listclass01.ipynb",
      "provenance": [],
      "collapsed_sections": [],
      "authorship_tag": "ABX9TyOhTg+wks7rsaKmqm8G24fo",
      "include_colab_link": true
    },
    "kernelspec": {
      "name": "python3",
      "display_name": "Python 3"
    },
    "language_info": {
      "name": "python"
    }
  },
  "cells": [
    {
      "cell_type": "markdown",
      "metadata": {
        "id": "view-in-github",
        "colab_type": "text"
      },
      "source": [
        "<a href=\"https://colab.research.google.com/github/ESJoGithub/PythonStudy/blob/main/Python_0510_Listclass01.ipynb\" target=\"_parent\"><img src=\"https://colab.research.google.com/assets/colab-badge.svg\" alt=\"Open In Colab\"/></a>"
      ]
    },
    {
      "cell_type": "markdown",
      "source": [
        "###자료구조 List를 파이썬 class로 구현해보기"
      ],
      "metadata": {
        "id": "YW2eRUO4pYM2"
      }
    },
    {
      "cell_type": "code",
      "execution_count": null,
      "metadata": {
        "id": "AXLIe2pPq_r1"
      },
      "outputs": [],
      "source": [
        "def insert(e, _list):\n",
        "  _list.append(e)\n",
        "\n",
        "def remove(e, _list):\n",
        "  if e in _list:\n",
        "    _list.remove(e)\n",
        "    print(\"{}을(를) 삭제하였습니다.\".format(e))\n",
        "  else :\n",
        "    print(\"찾는 항목이 없습니다.\")\n",
        "\n",
        "def contains(e, _list):\n",
        "  if e in _list:\n",
        "    return True\n",
        "  else :\n",
        "    return False\n",
        "\n",
        "def count(_list):\n",
        "  count=len(_list)\n",
        "  return count"
      ]
    },
    {
      "cell_type": "code",
      "source": [
        "bag=[]\n",
        "insert(\"동전\", bag)\n",
        "insert(\"지갑\", bag)\n",
        "insert(\"휴대폰\", bag)\n",
        "print(bag)"
      ],
      "metadata": {
        "colab": {
          "base_uri": "https://localhost:8080/"
        },
        "id": "v6gbw0BrwJ7-",
        "outputId": "06d9f5af-b396-47d0-b56a-e6f133296687"
      },
      "execution_count": null,
      "outputs": [
        {
          "output_type": "stream",
          "name": "stdout",
          "text": [
            "['동전', '지갑', '휴대폰']\n"
          ]
        }
      ]
    },
    {
      "cell_type": "code",
      "source": [
        "remove(\"휴대폰\", bag)"
      ],
      "metadata": {
        "colab": {
          "base_uri": "https://localhost:8080/"
        },
        "id": "VOxbFui3wjo_",
        "outputId": "e9af46b8-b978-472b-a94d-0e4dbf339bf3"
      },
      "execution_count": null,
      "outputs": [
        {
          "output_type": "stream",
          "name": "stdout",
          "text": [
            "휴대폰을(를) 삭제하였습니다.\n"
          ]
        }
      ]
    },
    {
      "cell_type": "code",
      "source": [
        "contains(\"파우치\", bag)"
      ],
      "metadata": {
        "colab": {
          "base_uri": "https://localhost:8080/"
        },
        "id": "by18XkjexWVm",
        "outputId": "bb6740ef-8b1d-42b1-ff91-f0b2de86b44b"
      },
      "execution_count": null,
      "outputs": [
        {
          "output_type": "execute_result",
          "data": {
            "text/plain": [
              "False"
            ]
          },
          "metadata": {},
          "execution_count": 87
        }
      ]
    },
    {
      "cell_type": "code",
      "source": [
        "count(bag)"
      ],
      "metadata": {
        "colab": {
          "base_uri": "https://localhost:8080/"
        },
        "id": "jseV2f2hxbh-",
        "outputId": "10c652fe-95ce-420a-dde6-e2d07dbd310e"
      },
      "execution_count": null,
      "outputs": [
        {
          "output_type": "execute_result",
          "data": {
            "text/plain": [
              "2"
            ]
          },
          "metadata": {},
          "execution_count": 88
        }
      ]
    },
    {
      "cell_type": "code",
      "execution_count": null,
      "metadata": {
        "id": "SAPlDsYTwS59"
      },
      "outputs": [],
      "source": [
        "class Bag:\n",
        "\n",
        "  def __init__(self):\n",
        "    self.bag = []\n",
        "\n",
        "  def insert(self, e):\n",
        "    self.bag.append(e)\n",
        "\n",
        "  def remove(self, e):\n",
        "    if e in self.bag:\n",
        "      self.bag.remove(e)\n",
        "      print(\"{}을(를) 삭제하였습니다.\".format(e))\n",
        "    else :\n",
        "      print(\"찾는 항목이 없습니다.\")\n",
        "\n",
        "  def contains(self,e):\n",
        "    if e in self.bag :\n",
        "      return True\n",
        "    else :\n",
        "      return False\n",
        "\n",
        "  def count(self):\n",
        "    count=len(self.bag)\n",
        "    return count"
      ]
    },
    {
      "cell_type": "code",
      "source": [
        "_bag = Bag()"
      ],
      "metadata": {
        "id": "cm8xq2NpwUOY"
      },
      "execution_count": null,
      "outputs": []
    },
    {
      "cell_type": "code",
      "source": [
        "_bag.insert(\"동전\")\n",
        "_bag.insert(\"지갑\")\n",
        "_bag.insert(\"파우치\")"
      ],
      "metadata": {
        "id": "Wr4yqBCkyt0P"
      },
      "execution_count": null,
      "outputs": []
    },
    {
      "cell_type": "code",
      "source": [
        "_bag.remove(\"동전\")"
      ],
      "metadata": {
        "colab": {
          "base_uri": "https://localhost:8080/"
        },
        "id": "Ryeb3Rd-zisG",
        "outputId": "fca7b927-53ed-445a-dfeb-be6c8b9001e4"
      },
      "execution_count": null,
      "outputs": [
        {
          "output_type": "stream",
          "name": "stdout",
          "text": [
            "동전을(를) 삭제하였습니다.\n"
          ]
        }
      ]
    },
    {
      "cell_type": "code",
      "source": [
        "_bag.contains(\"휴대폰\")"
      ],
      "metadata": {
        "colab": {
          "base_uri": "https://localhost:8080/"
        },
        "id": "l2dN0w2-z2Te",
        "outputId": "9d2eacc2-219a-4219-e682-b2371aa500d2"
      },
      "execution_count": null,
      "outputs": [
        {
          "output_type": "execute_result",
          "data": {
            "text/plain": [
              "False"
            ]
          },
          "metadata": {},
          "execution_count": 94
        }
      ]
    },
    {
      "cell_type": "code",
      "source": [
        "_bag.count()"
      ],
      "metadata": {
        "colab": {
          "base_uri": "https://localhost:8080/"
        },
        "id": "MS8UJDVlz6RW",
        "outputId": "eff38d77-d760-4fc2-e8d9-0b246709cb5b"
      },
      "execution_count": null,
      "outputs": [
        {
          "output_type": "execute_result",
          "data": {
            "text/plain": [
              "2"
            ]
          },
          "metadata": {},
          "execution_count": 95
        }
      ]
    },
    {
      "cell_type": "code",
      "source": [
        "_bag.insert(\"휴대폰\")"
      ],
      "metadata": {
        "id": "VqoIgbx514mO"
      },
      "execution_count": null,
      "outputs": []
    },
    {
      "cell_type": "code",
      "source": [
        "_bag.contains(\"휴대폰\")"
      ],
      "metadata": {
        "colab": {
          "base_uri": "https://localhost:8080/"
        },
        "id": "QpT1ZBJ719pl",
        "outputId": "9a98822e-6e0a-4625-f5ec-fc2d25b70dd0"
      },
      "execution_count": null,
      "outputs": [
        {
          "output_type": "execute_result",
          "data": {
            "text/plain": [
              "True"
            ]
          },
          "metadata": {},
          "execution_count": 97
        }
      ]
    }
  ]
}