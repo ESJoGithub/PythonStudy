{
 "cells": [
  {
   "cell_type": "code",
   "execution_count": 1,
   "id": "1cc86cdd",
   "metadata": {},
   "outputs": [],
   "source": [
    "from tensorflow.keras.preprocessing.text import Tokenizer\n",
    "from tensorflow.keras.preprocessing.sequence import pad_sequences\n",
    "import pandas as pd\n",
    "from konlpy.tag import Okt"
   ]
  },
  {
   "cell_type": "code",
   "execution_count": 2,
   "id": "9b4c5543",
   "metadata": {},
   "outputs": [],
   "source": [
    "df = pd.read_excel(\"./df_sample05.xlsx\", engine=\"openpyxl\", header=0, index_col=0)"
   ]
  },
  {
   "cell_type": "code",
   "execution_count": 3,
   "id": "6a80b7ac",
   "metadata": {
    "scrolled": true
   },
   "outputs": [
    {
     "name": "stdout",
     "output_type": "stream",
     "text": [
      "<class 'pandas.core.frame.DataFrame'>\n",
      "Int64Index: 76 entries, 0 to 75\n",
      "Data columns (total 2 columns):\n",
      " #   Column  Non-Null Count  Dtype \n",
      "---  ------  --------------  ----- \n",
      " 0   내용      76 non-null     object\n",
      " 1   학교      76 non-null     object\n",
      "dtypes: object(2)\n",
      "memory usage: 1.8+ KB\n"
     ]
    }
   ],
   "source": [
    "df.info()"
   ]
  },
  {
   "cell_type": "markdown",
   "id": "4cecbaa8",
   "metadata": {},
   "source": [
    "### 문장별 나누기 + 형태소 분석"
   ]
  },
  {
   "cell_type": "code",
   "execution_count": 4,
   "id": "248bdb92",
   "metadata": {},
   "outputs": [],
   "source": [
    "tagger = Okt()\n",
    "idx = 0\n",
    "contents = []\n",
    "for i in range(76):\n",
    "    text = df.iloc[i, 0]\n",
    "    text = text.split(\". \")\n",
    "    for j in range(len(text)):\n",
    "        text[j] = text[j].replace(\" \", \"\")\n",
    "        text[j] = text[j].replace(\".\", \"\")\n",
    "        contents.append(tagger.morphs(text[j]))\n",
    "        idx = idx + 1"
   ]
  },
  {
   "cell_type": "markdown",
   "id": "044d81b1",
   "metadata": {},
   "source": [
    "### 토큰화"
   ]
  },
  {
   "cell_type": "code",
   "execution_count": 5,
   "id": "777128f9",
   "metadata": {},
   "outputs": [],
   "source": [
    "token = Tokenizer()\n",
    "token.fit_on_texts(contents)"
   ]
  },
  {
   "cell_type": "code",
   "execution_count": 6,
   "id": "340e80bd",
   "metadata": {},
   "outputs": [
    {
     "data": {
      "text/plain": [
       "84"
      ]
     },
     "execution_count": 6,
     "metadata": {},
     "output_type": "execute_result"
    }
   ],
   "source": [
    "token.word_index['학교']"
   ]
  },
  {
   "cell_type": "code",
   "execution_count": 7,
   "id": "afc3e52c",
   "metadata": {},
   "outputs": [],
   "source": [
    "seq = token.texts_to_sequences(contents)"
   ]
  },
  {
   "cell_type": "code",
   "execution_count": 8,
   "id": "96dba804",
   "metadata": {},
   "outputs": [
    {
     "data": {
      "text/plain": [
       "[34, 8, 35, 2, 77, 23, 284, 1, 2348, 58]"
      ]
     },
     "execution_count": 8,
     "metadata": {},
     "output_type": "execute_result"
    }
   ],
   "source": [
    "seq[0]"
   ]
  },
  {
   "cell_type": "code",
   "execution_count": 9,
   "id": "cd7e597e",
   "metadata": {},
   "outputs": [
    {
     "data": {
      "text/plain": [
       "'나 는 공부 를 할 때 반복 을 중요시 하였다'"
      ]
     },
     "execution_count": 9,
     "metadata": {},
     "output_type": "execute_result"
    }
   ],
   "source": [
    "' '.join(token.index_word[i] for i in seq[0])"
   ]
  },
  {
   "cell_type": "markdown",
   "id": "fb2a1297",
   "metadata": {},
   "source": [
    "### 패딩"
   ]
  },
  {
   "cell_type": "code",
   "execution_count": 10,
   "id": "a25b463e",
   "metadata": {},
   "outputs": [],
   "source": [
    "MAXLEN = max(len(s) for s in seq)"
   ]
  },
  {
   "cell_type": "code",
   "execution_count": 11,
   "id": "125d09cf",
   "metadata": {
    "scrolled": true
   },
   "outputs": [
    {
     "data": {
      "text/plain": [
       "array([   0,    0,    0,    0,    0,    0,    0,    0,    0,    0,    0,\n",
       "          0,    0,    0,    0,    0,    0,    0,    0,    0,    0,    0,\n",
       "          0,    0,    0,    0,    0,    0,    0,    0,    0,    0,    0,\n",
       "          0,    0,    0,    0,    0,    0,    0,    0,    0,    0,    0,\n",
       "          0,    0,    0,    0,    0,    0,    0,    0,    0,    0,    0,\n",
       "          0,    0,    0,    0,    0,    0,    0,    0,    0,    0,    0,\n",
       "          0,    0,    0,    0,    0,    0,    0,    0,    0,    0,    0,\n",
       "          0,    0,    0,    0,    0,    0,    0,    0,    0,    0,    0,\n",
       "          0,    0,    0,    0,    0,    0,    0,    0,    0,    0,    0,\n",
       "          0,    0,    0,    0,    0,    0,    0,    0,    0,    0,    0,\n",
       "          0,    0,    0,    0,    0,    0,    0,    0,    0,    0,    0,\n",
       "          0,    0,    0,    0,    0,    0,    0,    0,    0,    0,    0,\n",
       "          0,    0,    0,    0,    0,    0,    0,   34,    8,   35,    2,\n",
       "         77,   23,  284,    1, 2348,   58])"
      ]
     },
     "execution_count": 11,
     "metadata": {},
     "output_type": "execute_result"
    }
   ],
   "source": [
    "pad = pad_sequences(seq, MAXLEN)\n",
    "pad[0]"
   ]
  }
 ],
 "metadata": {
  "kernelspec": {
   "display_name": "Python 3 (ipykernel)",
   "language": "python",
   "name": "python3"
  },
  "language_info": {
   "codemirror_mode": {
    "name": "ipython",
    "version": 3
   },
   "file_extension": ".py",
   "mimetype": "text/x-python",
   "name": "python",
   "nbconvert_exporter": "python",
   "pygments_lexer": "ipython3",
   "version": "3.9.12"
  }
 },
 "nbformat": 4,
 "nbformat_minor": 5
}
