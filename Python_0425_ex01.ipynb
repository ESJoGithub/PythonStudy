{
  "nbformat": 4,
  "nbformat_minor": 0,
  "metadata": {
    "colab": {
      "name": "Python_0425_ex01.ipynb",
      "provenance": [],
      "collapsed_sections": [],
      "authorship_tag": "ABX9TyNpmeWMVFvOZ/VksCKZF2P9",
      "include_colab_link": true
    },
    "kernelspec": {
      "name": "python3",
      "display_name": "Python 3"
    },
    "language_info": {
      "name": "python"
    }
  },
  "cells": [
    {
      "cell_type": "markdown",
      "metadata": {
        "id": "view-in-github",
        "colab_type": "text"
      },
      "source": [
        "<a href=\"https://colab.research.google.com/github/ESJoGithub/PythonStudy/blob/main/Python_0425_ex01.ipynb\" target=\"_parent\"><img src=\"https://colab.research.google.com/assets/colab-badge.svg\" alt=\"Open In Colab\"/></a>"
      ]
    },
    {
      "cell_type": "markdown",
      "source": [
        "#**문제: 숫자 맞히기**\n",
        "랜덤하게 숫자생성\n",
        "\n",
        "up down 하여 숫자를 맞히는 게임 프로그램 제작"
      ],
      "metadata": {
        "id": "Wvwmz-5HGxsb"
      }
    },
    {
      "cell_type": "code",
      "execution_count": 7,
      "metadata": {
        "id": "30-DNz1aC5y5"
      },
      "outputs": [],
      "source": [
        "import random"
      ]
    },
    {
      "cell_type": "code",
      "source": [
        "num = random.randint(0, 100)"
      ],
      "metadata": {
        "id": "KyT-Jt5rH1Vg"
      },
      "execution_count": 78,
      "outputs": []
    },
    {
      "cell_type": "code",
      "source": [
        "while True:\n",
        "  guessNum = int(input(\"숫자를 입력해주세요:\"))\n",
        "  if guessNum > num :\n",
        "    print(\"입력한 숫자가 더 큽니다. down\")\n",
        "  elif guessNum < num :\n",
        "    print(\"입력한 숫자가 더 작습니다. up\")\n",
        "  else :\n",
        "    print(\"맞혔습니다!\")\n",
        "    break"
      ],
      "metadata": {
        "colab": {
          "base_uri": "https://localhost:8080/"
        },
        "id": "0dgxthcbInLo",
        "outputId": "e43bb060-1bb7-41f2-dbfb-39ff197e7472"
      },
      "execution_count": 79,
      "outputs": [
        {
          "output_type": "stream",
          "name": "stdout",
          "text": [
            "숫자를 입력해주세요:50\n",
            "입력한 숫자가 더 작습니다. up\n",
            "숫자를 입력해주세요:75\n",
            "입력한 숫자가 더 큽니다. down\n",
            "숫자를 입력해주세요:60\n",
            "입력한 숫자가 더 큽니다. down\n",
            "숫자를 입력해주세요:55\n",
            "입력한 숫자가 더 작습니다. up\n",
            "숫자를 입력해주세요:58\n",
            "입력한 숫자가 더 큽니다. down\n",
            "숫자를 입력해주세요:57\n",
            "입력한 숫자가 더 큽니다. down\n",
            "숫자를 입력해주세요:56\n",
            "맞혔습니다!\n"
          ]
        }
      ]
    }
  ]
}