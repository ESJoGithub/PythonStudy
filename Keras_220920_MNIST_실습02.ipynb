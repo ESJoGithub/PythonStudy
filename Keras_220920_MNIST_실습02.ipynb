{
  "cells": [
    {
      "cell_type": "markdown",
      "metadata": {
        "id": "view-in-github",
        "colab_type": "text"
      },
      "source": [
        "<a href=\"https://colab.research.google.com/github/ESJoGithub/PythonStudy/blob/main/Keras_220920_MNIST_%EC%8B%A4%EC%8A%B502.ipynb\" target=\"_parent\"><img src=\"https://colab.research.google.com/assets/colab-badge.svg\" alt=\"Open In Colab\"/></a>"
      ]
    },
    {
      "cell_type": "markdown",
      "metadata": {
        "id": "9Tx44ggmYNsD"
      },
      "source": [
        "### **1. Library Import**"
      ]
    },
    {
      "cell_type": "code",
      "execution_count": null,
      "metadata": {
        "id": "UFco5dLCQBQF"
      },
      "outputs": [],
      "source": [
        "from keras import datasets, layers, models                \n",
        "from tensorflow import keras                         # to_categorical 함수\n",
        "from tensorflow.keras.models import load_model\n",
        "\n",
        "import numpy as np\n",
        "import matplotlib.pyplot as plt"
      ]
    },
    {
      "cell_type": "code",
      "execution_count": null,
      "metadata": {
        "colab": {
          "base_uri": "https://localhost:8080/"
        },
        "id": "rwcqMzdKTPwN",
        "outputId": "51a1a955-4d63-4941-aef4-1836d7d2c69c"
      },
      "outputs": [
        {
          "output_type": "stream",
          "name": "stdout",
          "text": [
            "Downloading data from https://storage.googleapis.com/tensorflow/tf-keras-datasets/mnist.npz\n",
            "11493376/11490434 [==============================] - 0s 0us/step\n",
            "11501568/11490434 [==============================] - 0s 0us/step\n"
          ]
        }
      ],
      "source": [
        "(train_imgs, train_labels), (test_imgs, test_labels) = datasets.mnist.load_data()"
      ]
    },
    {
      "cell_type": "markdown",
      "metadata": {
        "id": "vcIHfL7pYJps"
      },
      "source": [
        "### **2. 데이터 확인 및 전처리**"
      ]
    },
    {
      "cell_type": "code",
      "execution_count": null,
      "metadata": {
        "id": "w4IFaKuOYIfc"
      },
      "outputs": [],
      "source": [
        "train_imgs = train_imgs/255.0\n",
        "test_imgs = test_imgs/255.0"
      ]
    },
    {
      "cell_type": "code",
      "execution_count": null,
      "metadata": {
        "colab": {
          "base_uri": "https://localhost:8080/"
        },
        "id": "A9ujYrDMiRy1",
        "outputId": "8511e7e6-93c5-4b0b-c238-4716abd2e755"
      },
      "outputs": [
        {
          "name": "stdout",
          "output_type": "stream",
          "text": [
            "(60000, 28, 28)\n",
            "(10000, 28, 28)\n"
          ]
        }
      ],
      "source": [
        "print(train_imgs.shape)\n",
        "print(test_imgs.shape)"
      ]
    },
    {
      "cell_type": "code",
      "execution_count": null,
      "metadata": {
        "id": "5IGxhDfjiN7d"
      },
      "outputs": [],
      "source": [
        "train_imgs = train_imgs.reshape((60000, 28, 28, 1))\n",
        "test_imgs = test_imgs.reshape((10000, 28, 28, 1))"
      ]
    },
    {
      "cell_type": "code",
      "execution_count": null,
      "metadata": {
        "id": "ouDs40X-n_uw"
      },
      "outputs": [],
      "source": [
        "train_labels = keras.utils.to_categorical(train_labels, num_classes=10)\n",
        "test_labels = keras.utils.to_categorical(test_labels, num_classes=10)"
      ]
    },
    {
      "cell_type": "markdown",
      "metadata": {
        "id": "NTqxfKdbYvVL"
      },
      "source": [
        "### __try03 CNN 모델 생성__"
      ]
    },
    {
      "cell_type": "code",
      "execution_count": null,
      "metadata": {
        "id": "ivWlQdWayf2t"
      },
      "outputs": [],
      "source": [
        "import keras                                               # histroy 함수를 위해 import"
      ]
    },
    {
      "cell_type": "markdown",
      "metadata": {
        "id": "UHpO6y3sksRV"
      },
      "source": [
        "####  128-64-32-Flatten-64(simoid)-10(softmax)/ optimizer = \"SGD\" / epochs=30, batch_size = 64\n",
        "---\n",
        "ANN 모델과 달리 trainset의 accuracy와 validationset의 accuracy가 유사하게 상승하는 모습을 볼 수 있음.\n",
        "\n",
        "결과적으로 test accuracy 역시 상승함."
      ]
    },
    {
      "cell_type": "code",
      "execution_count": null,
      "metadata": {
        "colab": {
          "base_uri": "https://localhost:8080/"
        },
        "id": "LSy5b6TEYmJj",
        "outputId": "10bd01bc-68b7-4c8b-ac80-727d9b5c4660"
      },
      "outputs": [
        {
          "name": "stdout",
          "output_type": "stream",
          "text": [
            "Model: \"sequential\"\n",
            "_________________________________________________________________\n",
            " Layer (type)                Output Shape              Param #   \n",
            "=================================================================\n",
            " conv2d (Conv2D)             (None, 26, 26, 128)       1280      \n",
            "                                                                 \n",
            " max_pooling2d (MaxPooling2D  (None, 13, 13, 128)      0         \n",
            " )                                                               \n",
            "                                                                 \n",
            " conv2d_1 (Conv2D)           (None, 11, 11, 64)        73792     \n",
            "                                                                 \n",
            " max_pooling2d_1 (MaxPooling  (None, 5, 5, 64)         0         \n",
            " 2D)                                                             \n",
            "                                                                 \n",
            " conv2d_2 (Conv2D)           (None, 3, 3, 32)          18464     \n",
            "                                                                 \n",
            " flatten (Flatten)           (None, 288)               0         \n",
            "                                                                 \n",
            " dense (Dense)               (None, 64)                18496     \n",
            "                                                                 \n",
            " dense_1 (Dense)             (None, 10)                650       \n",
            "                                                                 \n",
            "=================================================================\n",
            "Total params: 112,682\n",
            "Trainable params: 112,682\n",
            "Non-trainable params: 0\n",
            "_________________________________________________________________\n"
          ]
        }
      ],
      "source": [
        "model_3 = keras.Sequential([\n",
        "  layers.Conv2D(128, (3, 3), activation='relu', input_shape=(28, 28, 1)),\n",
        "  layers.MaxPooling2D((2, 2)),\n",
        "  layers.Conv2D(64, (3, 3), activation='relu'),\n",
        "  layers.MaxPooling2D((2, 2)),\n",
        "  layers.Conv2D(32, (3, 3), activation='relu'),\n",
        "  layers.Flatten(),\n",
        "  layers.Dense(64, activation = 'sigmoid'),\n",
        "  layers.Dense(10, activation = 'softmax')\n",
        "])\n",
        "model_3.summary()"
      ]
    },
    {
      "cell_type": "code",
      "execution_count": null,
      "metadata": {
        "id": "rIRHwKY3gm2w"
      },
      "outputs": [],
      "source": [
        "model_3.compile(optimizer=\"SGD\", loss=\"categorical_crossentropy\", metrics=[\"accuracy\"])"
      ]
    },
    {
      "cell_type": "code",
      "execution_count": null,
      "metadata": {
        "colab": {
          "background_save": true,
          "base_uri": "https://localhost:8080/"
        },
        "id": "rmGRWjkknkZo",
        "outputId": "41b7b9b0-55eb-4d86-bace-cdfe801e3470"
      },
      "outputs": [
        {
          "name": "stdout",
          "output_type": "stream",
          "text": [
            "Epoch 1/30\n",
            "750/750 [==============================] - 18s 6ms/step - loss: 2.2245 - accuracy: 0.2741 - val_loss: 1.9190 - val_accuracy: 0.5923\n",
            "Epoch 2/30\n",
            "750/750 [==============================] - 4s 6ms/step - loss: 1.0402 - accuracy: 0.7656 - val_loss: 0.6090 - val_accuracy: 0.8620\n",
            "Epoch 3/30\n",
            "750/750 [==============================] - 4s 6ms/step - loss: 0.5193 - accuracy: 0.8741 - val_loss: 0.4119 - val_accuracy: 0.9014\n",
            "Epoch 4/30\n",
            "750/750 [==============================] - 4s 6ms/step - loss: 0.3873 - accuracy: 0.9017 - val_loss: 0.3257 - val_accuracy: 0.9181\n",
            "Epoch 5/30\n",
            "750/750 [==============================] - 4s 6ms/step - loss: 0.3154 - accuracy: 0.9176 - val_loss: 0.2684 - val_accuracy: 0.9334\n",
            "Epoch 6/30\n",
            "750/750 [==============================] - 4s 6ms/step - loss: 0.2639 - accuracy: 0.9296 - val_loss: 0.2277 - val_accuracy: 0.9433\n",
            "Epoch 7/30\n",
            "750/750 [==============================] - 4s 6ms/step - loss: 0.2259 - accuracy: 0.9395 - val_loss: 0.1960 - val_accuracy: 0.9503\n",
            "Epoch 8/30\n",
            "750/750 [==============================] - 4s 6ms/step - loss: 0.1975 - accuracy: 0.9475 - val_loss: 0.1765 - val_accuracy: 0.9542\n",
            "Epoch 9/30\n",
            "750/750 [==============================] - 4s 5ms/step - loss: 0.1750 - accuracy: 0.9538 - val_loss: 0.1614 - val_accuracy: 0.9578\n",
            "Epoch 10/30\n",
            "750/750 [==============================] - 4s 6ms/step - loss: 0.1581 - accuracy: 0.9584 - val_loss: 0.1440 - val_accuracy: 0.9622\n",
            "Epoch 11/30\n",
            "750/750 [==============================] - 4s 6ms/step - loss: 0.1444 - accuracy: 0.9617 - val_loss: 0.1324 - val_accuracy: 0.9655\n",
            "Epoch 12/30\n",
            "750/750 [==============================] - 5s 6ms/step - loss: 0.1333 - accuracy: 0.9642 - val_loss: 0.1236 - val_accuracy: 0.9683\n",
            "Epoch 13/30\n",
            "750/750 [==============================] - 4s 6ms/step - loss: 0.1240 - accuracy: 0.9669 - val_loss: 0.1187 - val_accuracy: 0.9693\n",
            "Epoch 14/30\n",
            "750/750 [==============================] - 4s 6ms/step - loss: 0.1165 - accuracy: 0.9687 - val_loss: 0.1118 - val_accuracy: 0.9705\n",
            "Epoch 15/30\n",
            "750/750 [==============================] - 4s 6ms/step - loss: 0.1098 - accuracy: 0.9701 - val_loss: 0.1106 - val_accuracy: 0.9714\n",
            "Epoch 16/30\n",
            "750/750 [==============================] - 4s 6ms/step - loss: 0.1038 - accuracy: 0.9716 - val_loss: 0.1085 - val_accuracy: 0.9695\n",
            "Epoch 17/30\n",
            "750/750 [==============================] - 5s 6ms/step - loss: 0.0991 - accuracy: 0.9731 - val_loss: 0.0991 - val_accuracy: 0.9731\n",
            "Epoch 18/30\n",
            "750/750 [==============================] - 4s 6ms/step - loss: 0.0947 - accuracy: 0.9740 - val_loss: 0.0960 - val_accuracy: 0.9732\n",
            "Epoch 19/30\n",
            "750/750 [==============================] - 4s 6ms/step - loss: 0.0902 - accuracy: 0.9755 - val_loss: 0.0936 - val_accuracy: 0.9745\n",
            "Epoch 20/30\n",
            "750/750 [==============================] - 4s 6ms/step - loss: 0.0865 - accuracy: 0.9763 - val_loss: 0.0894 - val_accuracy: 0.9752\n",
            "Epoch 21/30\n",
            "750/750 [==============================] - 4s 6ms/step - loss: 0.0833 - accuracy: 0.9769 - val_loss: 0.0894 - val_accuracy: 0.9754\n",
            "Epoch 22/30\n",
            "750/750 [==============================] - 4s 6ms/step - loss: 0.0801 - accuracy: 0.9779 - val_loss: 0.0848 - val_accuracy: 0.9767\n",
            "Epoch 23/30\n",
            "750/750 [==============================] - 4s 6ms/step - loss: 0.0773 - accuracy: 0.9786 - val_loss: 0.0826 - val_accuracy: 0.9772\n",
            "Epoch 24/30\n",
            "750/750 [==============================] - 4s 6ms/step - loss: 0.0746 - accuracy: 0.9797 - val_loss: 0.0811 - val_accuracy: 0.9773\n",
            "Epoch 25/30\n",
            "750/750 [==============================] - 4s 6ms/step - loss: 0.0721 - accuracy: 0.9802 - val_loss: 0.0803 - val_accuracy: 0.9777\n",
            "Epoch 26/30\n",
            "750/750 [==============================] - 4s 6ms/step - loss: 0.0694 - accuracy: 0.9809 - val_loss: 0.0778 - val_accuracy: 0.9772\n",
            "Epoch 27/30\n",
            "750/750 [==============================] - 4s 6ms/step - loss: 0.0677 - accuracy: 0.9818 - val_loss: 0.0779 - val_accuracy: 0.9790\n",
            "Epoch 28/30\n",
            "750/750 [==============================] - 4s 6ms/step - loss: 0.0652 - accuracy: 0.9825 - val_loss: 0.0750 - val_accuracy: 0.9779\n",
            "Epoch 29/30\n",
            "750/750 [==============================] - 4s 6ms/step - loss: 0.0637 - accuracy: 0.9831 - val_loss: 0.0760 - val_accuracy: 0.9792\n",
            "Epoch 30/30\n",
            "750/750 [==============================] - 4s 6ms/step - loss: 0.0619 - accuracy: 0.9831 - val_loss: 0.0717 - val_accuracy: 0.9800\n"
          ]
        }
      ],
      "source": [
        "hist_3 = model_3.fit(train_imgs, train_labels, epochs=30, batch_size=64, validation_split=0.2)"
      ]
    },
    {
      "cell_type": "code",
      "execution_count": null,
      "metadata": {
        "colab": {
          "background_save": true
        },
        "id": "mFOaiWO_sRfX",
        "outputId": "25f379d9-a6d8-4dbe-cf0a-4e6b19173e40"
      },
      "outputs": [
        {
          "data": {
            "image/png": "[encoded data removed]",
            "text/plain": [
              "<Figure size 432x288 with 1 Axes>"
            ]
          },
          "metadata": {},
          "output_type": "display_data"
        }
      ],
      "source": [
        "acc = hist_3.history['accuracy']\n",
        "val_acc = hist_3.history['val_accuracy']\n",
        "\n",
        "epochs = range(1, len(acc)+1)\n",
        "\n",
        "plt.plot(epochs, acc, 'bo', label='Trainig acc')\n",
        "plt.plot(epochs, val_acc, 'b', label='Validation acc')\n",
        "plt.title(\"Training and Validation accuracy\")\n",
        "plt.legend()\n",
        "plt.show()"
      ]
    },
    {
      "cell_type": "code",
      "execution_count": null,
      "metadata": {
        "colab": {
          "background_save": true
        },
        "id": "A4f_4uKMk9gD",
        "outputId": "8bb7b783-61ca-4b5b-dac2-2bb2b3cee068"
      },
      "outputs": [
        {
          "name": "stdout",
          "output_type": "stream",
          "text": [
            "313/313 [==============================] - 1s 3ms/step - loss: 0.0615 - accuracy: 0.9823\n"
          ]
        },
        {
          "data": {
            "text/plain": [
              "[0.061455726623535156, 0.9822999835014343]"
            ]
          },
          "execution_count": 12,
          "metadata": {},
          "output_type": "execute_result"
        }
      ],
      "source": [
        "model_3.evaluate(test_imgs, test_labels)"
      ]
    },
    {
      "cell_type": "markdown",
      "metadata": {
        "id": "68JkUjLMmMe9"
      },
      "source": [
        "####  128-64-32-Flatten-64(relu)-10(softmax)/ optimizer = \"adam\" / epochs=30, batch_size = 64\n",
        "---\n",
        "과대적합 발생\n",
        "\n",
        "손실함수가 빠르게 과대적합으로 이어지도록 하는 것이 아닌지 가정\n",
        "\n",
        "가중치 규제나 드롭아웃 등을 활용한다면 SGD 옵티마이저보다 더 좋은 성능을 낼 수 있지 않을까 판단함."
      ]
    },
    {
      "cell_type": "code",
      "execution_count": null,
      "metadata": {
        "colab": {
          "background_save": true
        },
        "id": "KckvoMxelA7K"
      },
      "outputs": [],
      "source": [
        "model_3_1 = keras.Sequential([\n",
        "  layers.Conv2D(128, (3, 3), activation='relu', input_shape=(28, 28, 1)),\n",
        "  layers.MaxPooling2D((2, 2)),\n",
        "  layers.Conv2D(64, (3, 3), activation='relu'),\n",
        "  layers.MaxPooling2D((2, 2)),\n",
        "  layers.Conv2D(32, (3, 3), activation='relu'),\n",
        "  layers.Flatten(),\n",
        "  layers.Dense(64, activation = 'relu'),\n",
        "  layers.Dense(10, activation = 'softmax')\n",
        "])"
      ]
    },
    {
      "cell_type": "code",
      "execution_count": null,
      "metadata": {
        "colab": {
          "background_save": true
        },
        "id": "_ldV-EcqlA7K"
      },
      "outputs": [],
      "source": [
        "model_3_1.compile(optimizer=\"adam\", loss=\"categorical_crossentropy\", metrics=[\"accuracy\"])"
      ]
    },
    {
      "cell_type": "code",
      "execution_count": null,
      "metadata": {
        "colab": {
          "background_save": true
        },
        "id": "u-pnKVXOlA7K",
        "outputId": "bfed6ac8-8404-46d8-c275-798294ec8638"
      },
      "outputs": [
        {
          "name": "stdout",
          "output_type": "stream",
          "text": [
            "Epoch 1/30\n",
            "750/750 [==============================] - 5s 6ms/step - loss: 0.2108 - accuracy: 0.9344 - val_loss: 0.0704 - val_accuracy: 0.9787\n",
            "Epoch 2/30\n",
            "750/750 [==============================] - 4s 6ms/step - loss: 0.0585 - accuracy: 0.9819 - val_loss: 0.0542 - val_accuracy: 0.9837\n",
            "Epoch 3/30\n",
            "750/750 [==============================] - 4s 6ms/step - loss: 0.0417 - accuracy: 0.9870 - val_loss: 0.0513 - val_accuracy: 0.9843\n",
            "Epoch 4/30\n",
            "750/750 [==============================] - 4s 6ms/step - loss: 0.0324 - accuracy: 0.9897 - val_loss: 0.0410 - val_accuracy: 0.9878\n",
            "Epoch 5/30\n",
            "750/750 [==============================] - 4s 6ms/step - loss: 0.0268 - accuracy: 0.9911 - val_loss: 0.0472 - val_accuracy: 0.9866\n",
            "Epoch 6/30\n",
            "750/750 [==============================] - 4s 6ms/step - loss: 0.0224 - accuracy: 0.9927 - val_loss: 0.0367 - val_accuracy: 0.9891\n",
            "Epoch 7/30\n",
            "750/750 [==============================] - 4s 6ms/step - loss: 0.0178 - accuracy: 0.9942 - val_loss: 0.0635 - val_accuracy: 0.9830\n",
            "Epoch 8/30\n",
            "750/750 [==============================] - 4s 6ms/step - loss: 0.0148 - accuracy: 0.9951 - val_loss: 0.0422 - val_accuracy: 0.9888\n",
            "Epoch 9/30\n",
            "750/750 [==============================] - 4s 6ms/step - loss: 0.0138 - accuracy: 0.9954 - val_loss: 0.0501 - val_accuracy: 0.9872\n",
            "Epoch 10/30\n",
            "750/750 [==============================] - 4s 6ms/step - loss: 0.0108 - accuracy: 0.9965 - val_loss: 0.0402 - val_accuracy: 0.9898\n",
            "Epoch 11/30\n",
            "750/750 [==============================] - 4s 6ms/step - loss: 0.0123 - accuracy: 0.9960 - val_loss: 0.0474 - val_accuracy: 0.9888\n",
            "Epoch 12/30\n",
            "750/750 [==============================] - 4s 6ms/step - loss: 0.0103 - accuracy: 0.9966 - val_loss: 0.0460 - val_accuracy: 0.9889\n",
            "Epoch 13/30\n",
            "750/750 [==============================] - 4s 6ms/step - loss: 0.0096 - accuracy: 0.9969 - val_loss: 0.0381 - val_accuracy: 0.9910\n",
            "Epoch 14/30\n",
            "750/750 [==============================] - 4s 6ms/step - loss: 0.0069 - accuracy: 0.9976 - val_loss: 0.0521 - val_accuracy: 0.9886\n",
            "Epoch 15/30\n",
            "750/750 [==============================] - 4s 6ms/step - loss: 0.0083 - accuracy: 0.9971 - val_loss: 0.0503 - val_accuracy: 0.9892\n",
            "Epoch 16/30\n",
            "750/750 [==============================] - 4s 6ms/step - loss: 0.0070 - accuracy: 0.9975 - val_loss: 0.0486 - val_accuracy: 0.9902\n",
            "Epoch 17/30\n",
            "750/750 [==============================] - 4s 6ms/step - loss: 0.0085 - accuracy: 0.9971 - val_loss: 0.0486 - val_accuracy: 0.9914\n",
            "Epoch 18/30\n",
            "750/750 [==============================] - 4s 6ms/step - loss: 0.0041 - accuracy: 0.9984 - val_loss: 0.0545 - val_accuracy: 0.9893\n",
            "Epoch 19/30\n",
            "750/750 [==============================] - 4s 6ms/step - loss: 0.0057 - accuracy: 0.9983 - val_loss: 0.0504 - val_accuracy: 0.9893\n",
            "Epoch 20/30\n",
            "750/750 [==============================] - 4s 6ms/step - loss: 0.0052 - accuracy: 0.9984 - val_loss: 0.0518 - val_accuracy: 0.9902\n",
            "Epoch 21/30\n",
            "750/750 [==============================] - 4s 6ms/step - loss: 0.0064 - accuracy: 0.9976 - val_loss: 0.0582 - val_accuracy: 0.9903\n",
            "Epoch 22/30\n",
            "750/750 [==============================] - 4s 6ms/step - loss: 0.0046 - accuracy: 0.9985 - val_loss: 0.0630 - val_accuracy: 0.9909\n",
            "Epoch 23/30\n",
            "750/750 [==============================] - 4s 6ms/step - loss: 0.0067 - accuracy: 0.9980 - val_loss: 0.0594 - val_accuracy: 0.9891\n",
            "Epoch 24/30\n",
            "750/750 [==============================] - 4s 6ms/step - loss: 0.0033 - accuracy: 0.9989 - val_loss: 0.0554 - val_accuracy: 0.9913\n",
            "Epoch 25/30\n",
            "750/750 [==============================] - 4s 6ms/step - loss: 0.0043 - accuracy: 0.9988 - val_loss: 0.0749 - val_accuracy: 0.9868\n",
            "Epoch 26/30\n",
            "750/750 [==============================] - 4s 6ms/step - loss: 0.0059 - accuracy: 0.9984 - val_loss: 0.0625 - val_accuracy: 0.9896\n",
            "Epoch 27/30\n",
            "750/750 [==============================] - 4s 6ms/step - loss: 0.0052 - accuracy: 0.9983 - val_loss: 0.0617 - val_accuracy: 0.9887\n",
            "Epoch 28/30\n",
            "750/750 [==============================] - 5s 6ms/step - loss: 0.0043 - accuracy: 0.9984 - val_loss: 0.0651 - val_accuracy: 0.9896\n",
            "Epoch 29/30\n",
            "750/750 [==============================] - 4s 6ms/step - loss: 0.0051 - accuracy: 0.9983 - val_loss: 0.0542 - val_accuracy: 0.9906\n",
            "Epoch 30/30\n",
            "750/750 [==============================] - 4s 6ms/step - loss: 0.0030 - accuracy: 0.9990 - val_loss: 0.0528 - val_accuracy: 0.9922\n"
          ]
        }
      ],
      "source": [
        "hist_3_1 = model_3_1.fit(train_imgs, train_labels, epochs=30, batch_size=64, validation_split=0.2)"
      ]
    },
    {
      "cell_type": "code",
      "execution_count": null,
      "metadata": {
        "colab": {
          "background_save": true
        },
        "id": "2peQe0GflA7L",
        "outputId": "83a2c406-1d33-42d6-aef7-167ff616c7b3"
      },
      "outputs": [
        {
          "data": {
            "image/png": "[encoded data removed]",
            "text/plain": [
              "<Figure size 432x288 with 1 Axes>"
            ]
          },
          "metadata": {},
          "output_type": "display_data"
        }
      ],
      "source": [
        "acc = hist_3_1.history['accuracy']\n",
        "val_acc = hist_3_1.history['val_accuracy']\n",
        "\n",
        "epochs = range(1, len(acc)+1)\n",
        "\n",
        "plt.plot(epochs, acc, 'bo', label='Trainig acc')\n",
        "plt.plot(epochs, val_acc, 'b', label='Validation acc')\n",
        "plt.title(\"Training and Validation accuracy\")\n",
        "plt.legend()\n",
        "plt.show()"
      ]
    },
    {
      "cell_type": "code",
      "execution_count": null,
      "metadata": {
        "colab": {
          "background_save": true
        },
        "id": "GOkjtEBVlA7L",
        "outputId": "2a02b6c1-dff8-4650-de1a-8d426bff7785"
      },
      "outputs": [
        {
          "name": "stdout",
          "output_type": "stream",
          "text": [
            "313/313 [==============================] - 1s 3ms/step - loss: 0.0416 - accuracy: 0.9924\n"
          ]
        },
        {
          "data": {
            "text/plain": [
              "[0.041623201221227646, 0.9923999905586243]"
            ]
          },
          "execution_count": 17,
          "metadata": {},
          "output_type": "execute_result"
        }
      ],
      "source": [
        "model_3_1.evaluate(test_imgs, test_labels)"
      ]
    },
    {
      "cell_type": "markdown",
      "source": [
        "####  128-64-32-Flatten-64(sigmoid)-10(softmax)/ optimizer = \"rmsprop\" / epochs=30, batch_size = 128\n",
        "\n",
        "---\n",
        "\n",
        "validation set 예측 정확도 변동폭이 상대적으로 적음을 알 수 있음.\n",
        "\n",
        " optimzer 때문인지, batchsize 때문인지 확인이 필요하나, batchsize 때문일 것으로 예상함."
      ],
      "metadata": {
        "id": "cFf1boBrMO0C"
      }
    },
    {
      "cell_type": "code",
      "execution_count": null,
      "metadata": {
        "id": "GA2PX8zOl6uY"
      },
      "outputs": [],
      "source": [
        "model_3_2 = keras.Sequential([\n",
        "  layers.Conv2D(128, (3, 3), activation='relu', input_shape=(28, 28, 1)),\n",
        "  layers.MaxPooling2D((2, 2)),\n",
        "  layers.Conv2D(64, (3, 3), activation='relu'),\n",
        "  layers.MaxPooling2D((2, 2)),\n",
        "  layers.Conv2D(32, (3, 3), activation='relu'),\n",
        "  layers.Flatten(),\n",
        "  layers.Dense(64, activation = 'sigmoid'),\n",
        "  layers.Dense(10, activation = 'softmax')\n",
        "])"
      ]
    },
    {
      "cell_type": "code",
      "execution_count": null,
      "metadata": {
        "id": "89Dh8NCXl6uZ"
      },
      "outputs": [],
      "source": [
        "model_3_2.compile(optimizer=\"rmsprop\", loss=\"categorical_crossentropy\", metrics=[\"accuracy\"])"
      ]
    },
    {
      "cell_type": "code",
      "execution_count": null,
      "metadata": {
        "id": "q_jhZxVel6uZ",
        "colab": {
          "base_uri": "https://localhost:8080/"
        },
        "outputId": "bc134f3e-80cf-45c1-d5ce-bddb504a4bd7"
      },
      "outputs": [
        {
          "output_type": "stream",
          "name": "stdout",
          "text": [
            "Epoch 1/30\n",
            "375/375 [==============================] - 16s 12ms/step - loss: 0.3984 - accuracy: 0.8984 - val_loss: 0.0989 - val_accuracy: 0.9732\n",
            "Epoch 2/30\n",
            "375/375 [==============================] - 4s 10ms/step - loss: 0.0849 - accuracy: 0.9754 - val_loss: 0.0685 - val_accuracy: 0.9812\n",
            "Epoch 3/30\n",
            "375/375 [==============================] - 4s 10ms/step - loss: 0.0526 - accuracy: 0.9848 - val_loss: 0.0558 - val_accuracy: 0.9828\n",
            "Epoch 4/30\n",
            "375/375 [==============================] - 4s 10ms/step - loss: 0.0397 - accuracy: 0.9879 - val_loss: 0.0469 - val_accuracy: 0.9858\n",
            "Epoch 5/30\n",
            "375/375 [==============================] - 4s 10ms/step - loss: 0.0310 - accuracy: 0.9905 - val_loss: 0.0443 - val_accuracy: 0.9872\n",
            "Epoch 6/30\n",
            "375/375 [==============================] - 4s 11ms/step - loss: 0.0245 - accuracy: 0.9924 - val_loss: 0.0393 - val_accuracy: 0.9876\n",
            "Epoch 7/30\n",
            "375/375 [==============================] - 5s 12ms/step - loss: 0.0194 - accuracy: 0.9940 - val_loss: 0.0364 - val_accuracy: 0.9898\n",
            "Epoch 8/30\n",
            "375/375 [==============================] - 4s 11ms/step - loss: 0.0164 - accuracy: 0.9949 - val_loss: 0.0397 - val_accuracy: 0.9878\n",
            "Epoch 9/30\n",
            "375/375 [==============================] - 4s 11ms/step - loss: 0.0139 - accuracy: 0.9959 - val_loss: 0.0352 - val_accuracy: 0.9911\n",
            "Epoch 10/30\n",
            "375/375 [==============================] - 4s 10ms/step - loss: 0.0109 - accuracy: 0.9970 - val_loss: 0.0425 - val_accuracy: 0.9884\n",
            "Epoch 11/30\n",
            "375/375 [==============================] - 5s 12ms/step - loss: 0.0099 - accuracy: 0.9970 - val_loss: 0.0356 - val_accuracy: 0.9897\n",
            "Epoch 12/30\n",
            "375/375 [==============================] - 4s 10ms/step - loss: 0.0080 - accuracy: 0.9975 - val_loss: 0.0435 - val_accuracy: 0.9895\n",
            "Epoch 13/30\n",
            "375/375 [==============================] - 4s 11ms/step - loss: 0.0068 - accuracy: 0.9981 - val_loss: 0.0374 - val_accuracy: 0.9902\n",
            "Epoch 14/30\n",
            "375/375 [==============================] - 4s 10ms/step - loss: 0.0057 - accuracy: 0.9985 - val_loss: 0.0405 - val_accuracy: 0.9900\n",
            "Epoch 15/30\n",
            "375/375 [==============================] - 4s 11ms/step - loss: 0.0047 - accuracy: 0.9985 - val_loss: 0.0384 - val_accuracy: 0.9906\n",
            "Epoch 16/30\n",
            "375/375 [==============================] - 4s 11ms/step - loss: 0.0042 - accuracy: 0.9987 - val_loss: 0.0420 - val_accuracy: 0.9898\n",
            "Epoch 17/30\n",
            "375/375 [==============================] - 4s 11ms/step - loss: 0.0036 - accuracy: 0.9988 - val_loss: 0.0368 - val_accuracy: 0.9914\n",
            "Epoch 18/30\n",
            "375/375 [==============================] - 4s 11ms/step - loss: 0.0033 - accuracy: 0.9986 - val_loss: 0.0495 - val_accuracy: 0.9892\n",
            "Epoch 19/30\n",
            "375/375 [==============================] - 4s 11ms/step - loss: 0.0022 - accuracy: 0.9993 - val_loss: 0.0408 - val_accuracy: 0.9904\n",
            "Epoch 20/30\n",
            "375/375 [==============================] - 4s 10ms/step - loss: 0.0019 - accuracy: 0.9995 - val_loss: 0.0490 - val_accuracy: 0.9898\n",
            "Epoch 21/30\n",
            "375/375 [==============================] - 4s 11ms/step - loss: 0.0017 - accuracy: 0.9995 - val_loss: 0.0413 - val_accuracy: 0.9920\n",
            "Epoch 22/30\n",
            "375/375 [==============================] - 4s 10ms/step - loss: 0.0020 - accuracy: 0.9993 - val_loss: 0.0465 - val_accuracy: 0.9905\n",
            "Epoch 23/30\n",
            "375/375 [==============================] - 4s 11ms/step - loss: 0.0014 - accuracy: 0.9996 - val_loss: 0.0432 - val_accuracy: 0.9908\n",
            "Epoch 24/30\n",
            "375/375 [==============================] - 4s 10ms/step - loss: 0.0014 - accuracy: 0.9995 - val_loss: 0.0447 - val_accuracy: 0.9909\n",
            "Epoch 25/30\n",
            "375/375 [==============================] - 4s 11ms/step - loss: 0.0013 - accuracy: 0.9996 - val_loss: 0.0443 - val_accuracy: 0.9912\n",
            "Epoch 26/30\n",
            "375/375 [==============================] - 4s 11ms/step - loss: 0.0012 - accuracy: 0.9996 - val_loss: 0.0478 - val_accuracy: 0.9898\n",
            "Epoch 27/30\n",
            "375/375 [==============================] - 4s 11ms/step - loss: 0.0012 - accuracy: 0.9996 - val_loss: 0.0478 - val_accuracy: 0.9907\n",
            "Epoch 28/30\n",
            "375/375 [==============================] - 4s 10ms/step - loss: 0.0010 - accuracy: 0.9996 - val_loss: 0.0494 - val_accuracy: 0.9916\n",
            "Epoch 29/30\n",
            "375/375 [==============================] - 4s 10ms/step - loss: 0.0010 - accuracy: 0.9996 - val_loss: 0.0481 - val_accuracy: 0.9906\n",
            "Epoch 30/30\n",
            "375/375 [==============================] - 4s 11ms/step - loss: 5.7878e-04 - accuracy: 0.9998 - val_loss: 0.0469 - val_accuracy: 0.9908\n"
          ]
        }
      ],
      "source": [
        "hist_3_2 = model_3_2.fit(train_imgs, train_labels, epochs=30, batch_size=128, validation_split=0.2)"
      ]
    },
    {
      "cell_type": "code",
      "execution_count": null,
      "metadata": {
        "id": "0BRTA9ySl6ua",
        "colab": {
          "base_uri": "https://localhost:8080/",
          "height": 281
        },
        "outputId": "5d837422-9c14-47dd-d9b1-095587f793da"
      },
      "outputs": [
        {
          "output_type": "display_data",
          "data": {
            "text/plain": [
              "<Figure size 432x288 with 1 Axes>"
            ],
            "image/png": "[encoded data removed]"
          },
          "metadata": {
            "needs_background": "light"
          }
        }
      ],
      "source": [
        "acc = hist_3_2.history['accuracy']\n",
        "val_acc = hist_3_2.history['val_accuracy']\n",
        "\n",
        "epochs = range(1, len(acc)+1)\n",
        "\n",
        "plt.plot(epochs, acc, 'bo', label='Trainig acc')\n",
        "plt.plot(epochs, val_acc, 'b', label='Validation acc')\n",
        "plt.title(\"Training and Validation accuracy\")\n",
        "plt.legend()\n",
        "plt.show()"
      ]
    },
    {
      "cell_type": "code",
      "execution_count": null,
      "metadata": {
        "id": "Whek4xDOl6ua",
        "colab": {
          "base_uri": "https://localhost:8080/"
        },
        "outputId": "d9676d73-161f-4203-9c2f-0c06b0c52e36"
      },
      "outputs": [
        {
          "output_type": "stream",
          "name": "stdout",
          "text": [
            "313/313 [==============================] - 1s 3ms/step - loss: 0.0434 - accuracy: 0.9923\n"
          ]
        },
        {
          "output_type": "execute_result",
          "data": {
            "text/plain": [
              "[0.04337841644883156, 0.9922999739646912]"
            ]
          },
          "metadata": {},
          "execution_count": 12
        }
      ],
      "source": [
        "model_3_2.evaluate(test_imgs, test_labels)"
      ]
    }
  ],
  "metadata": {
    "accelerator": "GPU",
    "colab": {
      "collapsed_sections": [],
      "provenance": [],
      "mount_file_id": "1-5ETZCmEKypRr2Akv1ACFz2nNjCeFjTn",
      "authorship_tag": "ABX9TyMVlfU7gAa1XVw8Gk3GLwis",
      "include_colab_link": true
    },
    "kernelspec": {
      "display_name": "Python 3",
      "name": "python3"
    },
    "language_info": {
      "name": "python"
    }
  },
  "nbformat": 4,
  "nbformat_minor": 0
}