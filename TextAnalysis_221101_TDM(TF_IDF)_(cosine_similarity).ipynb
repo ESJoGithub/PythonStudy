{
 "cells": [
  {
   "cell_type": "code",
   "execution_count": 1,
   "id": "fd4fce82",
   "metadata": {},
   "outputs": [],
   "source": [
    "import joblib\n",
    "import re\n",
    "import pandas as pd\n",
    "import numpy as np\n",
    "from sklearn.cluster import SpectralClustering\n",
    "from sklearn.feature_extraction.text import TfidfVectorizer\n",
    "from sklearn.metrics.pairwise import cosine_similarity\n",
    "from konlpy.tag import Okt"
   ]
  },
  {
   "cell_type": "code",
   "execution_count": 2,
   "id": "5ba52f61",
   "metadata": {},
   "outputs": [],
   "source": [
    "df = pd.read_excel(\"./df_sample06.xlsx\", engine=\"openpyxl\", header=0, index_col=0)"
   ]
  },
  {
   "cell_type": "code",
   "execution_count": 3,
   "id": "44b7bd39",
   "metadata": {
    "scrolled": true
   },
   "outputs": [
    {
     "name": "stdout",
     "output_type": "stream",
     "text": [
      "<class 'pandas.core.frame.DataFrame'>\n",
      "Int64Index: 76 entries, 0 to 75\n",
      "Data columns (total 7 columns):\n",
      " #   Column       Non-Null Count  Dtype \n",
      "---  ------       --------------  ----- \n",
      " 0   내용           76 non-null     object\n",
      " 1   학교           76 non-null     object\n",
      " 2   school_code  76 non-null     int64 \n",
      " 3   전공           76 non-null     object\n",
      " 4   진로           76 non-null     object\n",
      " 5   career_code  76 non-null     int64 \n",
      " 6   인성           76 non-null     object\n",
      "dtypes: int64(2), object(5)\n",
      "memory usage: 4.8+ KB\n"
     ]
    }
   ],
   "source": [
    "df.info()"
   ]
  },
  {
   "cell_type": "code",
   "execution_count": 4,
   "id": "51ce35cd",
   "metadata": {
    "scrolled": true
   },
   "outputs": [
    {
     "data": {
      "text/plain": [
       "array(['중국어', '없음', '영어', '프랑스어', '일본어', '러시아어', '스페인어', '독일어'],\n",
       "      dtype=object)"
      ]
     },
     "execution_count": 4,
     "metadata": {},
     "output_type": "execute_result"
    }
   ],
   "source": [
    "df['전공'].unique()"
   ]
  },
  {
   "cell_type": "code",
   "execution_count": 5,
   "id": "edf5e017",
   "metadata": {},
   "outputs": [],
   "source": [
    "major_code = {'없음':0, '영어':1, '중국어':2, '일본어':3, '독일어':4, '러시아어':5, '스페인어': 6, '프랑스어': 7} "
   ]
  },
  {
   "cell_type": "code",
   "execution_count": 6,
   "id": "e496510e",
   "metadata": {},
   "outputs": [],
   "source": [
    "major_code_list = []\n",
    "major = df['전공']\n",
    "for i in major:\n",
    "    major_code_list.append(major_code[i])\n",
    "df['major_code'] = major_code_list\n",
    "df.columns.tolist()\n",
    "df = df[['내용', '학교', 'school_code', '전공', 'major_code', '진로', 'career_code', '인성']]"
   ]
  },
  {
   "cell_type": "code",
   "execution_count": 7,
   "id": "04c731a7",
   "metadata": {},
   "outputs": [
    {
     "data": {
      "text/plain": [
       "array(['노인', '조별과제', '동아리', '교육', '임원', '장애인', '저소득층'], dtype=object)"
      ]
     },
     "execution_count": 7,
     "metadata": {},
     "output_type": "execute_result"
    }
   ],
   "source": [
    "df['인성'].unique()"
   ]
  },
  {
   "cell_type": "code",
   "execution_count": 8,
   "id": "faeb5955",
   "metadata": {},
   "outputs": [],
   "source": [
    "personal_code = {'임원' : 0, '동아리':1, '조별과제' : 2, '교육' : 3, '노인' :4, '장애인': 5, '저소득층': 6}"
   ]
  },
  {
   "cell_type": "code",
   "execution_count": 9,
   "id": "a02dfa35",
   "metadata": {},
   "outputs": [],
   "source": [
    "personal_code_list = []\n",
    "personal = df['인성']\n",
    "for i in personal:\n",
    "    personal_code_list.append(personal_code[i])\n",
    "df['personal_code'] = personal_code_list"
   ]
  },
  {
   "cell_type": "code",
   "execution_count": 10,
   "id": "90e8de5e",
   "metadata": {},
   "outputs": [],
   "source": [
    "df.to_excel(\"./df_sample07.xlsx\")"
   ]
  },
  {
   "cell_type": "code",
   "execution_count": 11,
   "id": "5cbf5b6d",
   "metadata": {},
   "outputs": [],
   "source": [
    "content = df['내용']"
   ]
  },
  {
   "cell_type": "code",
   "execution_count": 12,
   "id": "37f29e40",
   "metadata": {
    "scrolled": false
   },
   "outputs": [
    {
     "name": "stdout",
     "output_type": "stream",
     "text": [
      "<class 'pandas.core.series.Series'>\n",
      "Int64Index: 76 entries, 0 to 75\n",
      "Series name: 내용\n",
      "Non-Null Count  Dtype \n",
      "--------------  ----- \n",
      "76 non-null     object\n",
      "dtypes: object(1)\n",
      "memory usage: 1.2+ KB\n"
     ]
    }
   ],
   "source": [
    "content.info()"
   ]
  },
  {
   "cell_type": "code",
   "execution_count": 13,
   "id": "e48b977c",
   "metadata": {},
   "outputs": [],
   "source": [
    "context = pd.DataFrame()"
   ]
  },
  {
   "cell_type": "code",
   "execution_count": 14,
   "id": "d494032c",
   "metadata": {},
   "outputs": [],
   "source": [
    "tagger = Okt()\n",
    "\n",
    "for i in range(len(content)):\n",
    "    text = content[i]\n",
    "    text.lower()\n",
    "    texts = text.split(\". \")\n",
    "    for text in texts:\n",
    "        if len(text) <= 5:\n",
    "            continue\n",
    "        text = re.sub(r\"[^가-힣a-zA-Z0-9 ]\", \"\", text)\n",
    "        temp_df = pd.DataFrame({0:[text], 1:[i]})\n",
    "        context = pd.concat([context, temp_df], ignore_index = True)"
   ]
  },
  {
   "cell_type": "code",
   "execution_count": 15,
   "id": "9da39f5c",
   "metadata": {},
   "outputs": [
    {
     "name": "stdout",
     "output_type": "stream",
     "text": [
      "<class 'pandas.core.frame.DataFrame'>\n",
      "RangeIndex: 1869 entries, 0 to 1868\n",
      "Data columns (total 2 columns):\n",
      " #   Column  Non-Null Count  Dtype \n",
      "---  ------  --------------  ----- \n",
      " 0   0       1869 non-null   object\n",
      " 1   1       1869 non-null   int64 \n",
      "dtypes: int64(1), object(1)\n",
      "memory usage: 29.3+ KB\n"
     ]
    }
   ],
   "source": [
    "context.info()"
   ]
  },
  {
   "cell_type": "code",
   "execution_count": 16,
   "id": "5de54f5c",
   "metadata": {},
   "outputs": [],
   "source": [
    "def get_morphs(text):\n",
    "    _morphs = tagger.morphs(text)\n",
    "    _morphs = [word for word in _morphs if len(word) > 1]\n",
    "    return _morphs"
   ]
  },
  {
   "cell_type": "code",
   "execution_count": 17,
   "id": "44c98048",
   "metadata": {},
   "outputs": [],
   "source": [
    "def get_nouns(text):\n",
    "    _nouns = tagger.nouns(text)\n",
    "    _nouns = [word for word in _nouns if len(word) > 1]\n",
    "    return _nouns"
   ]
  },
  {
   "cell_type": "code",
   "execution_count": 18,
   "id": "c1bb83bb",
   "metadata": {},
   "outputs": [],
   "source": [
    "tfidf = TfidfVectorizer(tokenizer=get_morphs)"
   ]
  },
  {
   "cell_type": "code",
   "execution_count": 19,
   "id": "5c738e5f",
   "metadata": {},
   "outputs": [],
   "source": [
    "tdm = tfidf.fit_transform(context[0])"
   ]
  },
  {
   "cell_type": "code",
   "execution_count": 20,
   "id": "389accb1",
   "metadata": {
    "scrolled": true
   },
   "outputs": [
    {
     "data": {
      "text/plain": [
       "array(['힘들었', '힘들었고', '힘들었다', '힘들었던', '힘들었지만', '힘들지만', '힘써야', '힘쓰고',\n",
       "       '힘쓰고자', '힘쓸'], dtype=object)"
      ]
     },
     "execution_count": 20,
     "metadata": {},
     "output_type": "execute_result"
    }
   ],
   "source": [
    "tfidf.get_feature_names_out()[-10:]"
   ]
  },
  {
   "cell_type": "code",
   "execution_count": 21,
   "id": "608b7f74",
   "metadata": {},
   "outputs": [],
   "source": [
    "def get_similarity(idx, tdm):\n",
    "    axis_0, aixs_1 = tdm.shape\n",
    "    if 0 < idx < axis_0-1:\n",
    "        sim_1 = cosine_similarity(tdm[idx], tdm[:idx])\n",
    "        sim_2 = cosine_similarity(tdm[idx], tdm[idx+1:])\n",
    "        sim = np.concatenate((sim_1, sim_2), axis=1)\n",
    "        \n",
    "    elif idx == 0:\n",
    "        sim = cosine_similarity(tdm[0], tdm[1:])\n",
    "    elif idx == axis_0 - 1:\n",
    "        sim = cosine_similarity(tdm[idx], tdm[:idx])\n",
    "    \n",
    "    sim_idx = np.argmax(sim)\n",
    "    similarity = sim.max()\n",
    "    if sim_idx >= idx :\n",
    "        sim_idx += 1\n",
    "\n",
    "    return sim_idx, similarity"
   ]
  },
  {
   "cell_type": "code",
   "execution_count": 22,
   "id": "12ba4aeb",
   "metadata": {},
   "outputs": [
    {
     "name": "stdout",
     "output_type": "stream",
     "text": [
      "417\n",
      "--------------------\n",
      "특히 2학년까지 외교관을 꿈꿔왔던 만큼 이한탁 씨 양현정씨와 같이 해외에서 누명을 쓴 한국인들의 안타까운 상황과 외교부 대응의 한계에 주목하였고 직접 외국법 자문사로서 전문 로펌을 설립하여 현지 법이나 언어에 능숙하지 못한 우리 국민들을 돕겠다고 결심하였다\n",
      "--------------------\n",
      "외국법 자문사의 꿈을 이룬다면 각국의 법률 전문가들을 모아 로펌을 만들어 국민들에게 실질적인 도움을 주는 것이 내 꿈이다\n",
      "--------------------\n",
      "0.20250966766944728\n"
     ]
    }
   ],
   "source": [
    "idx = 412\n",
    "sim_idx, similarity = get_similarity(idx, tdm)\n",
    "print(sim_idx)\n",
    "print(\"-\"*20)\n",
    "print(context.loc[idx, 0])\n",
    "print(\"-\"*20)\n",
    "print(context.loc[sim_idx, 0])\n",
    "print(\"-\"*20)\n",
    "print(similarity)"
   ]
  },
  {
   "cell_type": "code",
   "execution_count": 23,
   "id": "c3231f55",
   "metadata": {
    "scrolled": true
   },
   "outputs": [
    {
     "name": "stdout",
     "output_type": "stream",
     "text": [
      "1776\n",
      "--------------------\n",
      "영어토론동아리에서는 친구들과 다양한 분야의 주제를 선정하여 넓은 시야를 가지고 영어토론을 할 수 있게 되었다\n",
      "--------------------\n",
      "또 3학년 때는 영어토론 동아리에 참여해 친구들과 다양한 주제에 대해 토론했다\n",
      "--------------------\n",
      "0.5032652453651283\n"
     ]
    }
   ],
   "source": [
    "idx = 69\n",
    "sim_idx, similarity = get_similarity(idx, tdm)\n",
    "print(sim_idx)\n",
    "print(\"-\"*20)\n",
    "print(context.loc[idx, 0])\n",
    "print(\"-\"*20)\n",
    "print(context.loc[sim_idx, 0])\n",
    "print(\"-\"*20)\n",
    "print(similarity)"
   ]
  },
  {
   "cell_type": "code",
   "execution_count": 24,
   "id": "fa9378a7",
   "metadata": {},
   "outputs": [
    {
     "name": "stdout",
     "output_type": "stream",
     "text": [
      "1020\n",
      "--------------------\n",
      "2학년 때 저소득층 아이들 교육 봉사를 했다\n",
      "--------------------\n",
      "2학년 때 신문에서 저소득층 아이들에게 수업을 해주는 봉사활동 광고를 보고 참여해보았다\n",
      "--------------------\n",
      "0.39600657002843587\n"
     ]
    }
   ],
   "source": [
    "idx = 125\n",
    "sim_idx, similarity = get_similarity(idx, tdm)\n",
    "print(sim_idx)\n",
    "print(\"-\"*20)\n",
    "print(context.loc[idx, 0])\n",
    "print(\"-\"*20)\n",
    "print(context.loc[sim_idx, 0])\n",
    "print(\"-\"*20)\n",
    "print(similarity)"
   ]
  },
  {
   "cell_type": "code",
   "execution_count": 25,
   "id": "2dbe4888",
   "metadata": {},
   "outputs": [],
   "source": [
    "with open('Coverletter.pkl', 'wb') as f:\n",
    "    joblib.dump({'tdm': tdm, 'context': context}, f)"
   ]
  },
  {
   "cell_type": "code",
   "execution_count": 26,
   "id": "3b54504f",
   "metadata": {
    "scrolled": true
   },
   "outputs": [],
   "source": [
    "context.to_excel(\"context.xlsx\")"
   ]
  }
 ],
 "metadata": {
  "kernelspec": {
   "display_name": "Python 3 (ipykernel)",
   "language": "python",
   "name": "python3"
  },
  "language_info": {
   "codemirror_mode": {
    "name": "ipython",
    "version": 3
   },
   "file_extension": ".py",
   "mimetype": "text/x-python",
   "name": "python",
   "nbconvert_exporter": "python",
   "pygments_lexer": "ipython3",
   "version": "3.9.13"
  }
 },
 "nbformat": 4,
 "nbformat_minor": 5
}
