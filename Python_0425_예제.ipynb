{
  "nbformat": 4,
  "nbformat_minor": 0,
  "metadata": {
    "colab": {
      "name": "Python_0425_예제.ipynb",
      "provenance": [],
      "collapsed_sections": [],
      "authorship_tag": "ABX9TyP4/MFpej+JsbIzgr34NLG2",
      "include_colab_link": true
    },
    "kernelspec": {
      "name": "python3",
      "display_name": "Python 3"
    },
    "language_info": {
      "name": "python"
    }
  },
  "cells": [
    {
      "cell_type": "markdown",
      "metadata": {
        "id": "view-in-github",
        "colab_type": "text"
      },
      "source": [
        "<a href=\"https://colab.research.google.com/github/ESJoGithub/PythonStudy/blob/main/Python_0425_%EC%98%88%EC%A0%9C.ipynb\" target=\"_parent\"><img src=\"https://colab.research.google.com/assets/colab-badge.svg\" alt=\"Open In Colab\"/></a>"
      ]
    },
    {
      "cell_type": "code",
      "source": [
        "with open(\"stuInfo.txt\", mode='w', encoding = 'utf-8')as a:\n",
        "  a.write(\"2201340019\\n\")\n",
        "  a.write(\"조은솔\\n\")\n",
        "  a.write(\"F\\n\")"
      ],
      "metadata": {
        "id": "P47q6ybqWdka"
      },
      "execution_count": 24,
      "outputs": []
    },
    {
      "cell_type": "code",
      "execution_count": 25,
      "metadata": {
        "id": "3Km0JHWQvWB9"
      },
      "outputs": [],
      "source": [
        "with open(\"studentInfo.csv\", mode = 'w', encoding = 'utf-8-sig')as f:\n",
        "  f.write(\"학생정보\\n\")\n",
        "  f.write(\"22001340019\\n\")\n",
        "  f.write(\"조은솔\\n\")\n",
        "  f.write(\"F\\n\")"
      ]
    },
    {
      "cell_type": "code",
      "source": [
        "with open(\"studentInfo.csv\", mode = 'a+', encoding = 'utf-8-sig')as g:\n",
        "  g.write(\"2201340100\\n\")\n",
        "  g.write(\"홍길동\\n\")\n",
        "  g.write(\"M\\n\")"
      ],
      "metadata": {
        "id": "oicOOzGbwp7D"
      },
      "execution_count": 26,
      "outputs": []
    },
    {
      "cell_type": "code",
      "source": [
        "import csv\n",
        "\n",
        "data = [\"이름\", \"수학\", \"국어\", \"영어\", \"음악\"]\n",
        "stu1 = [\"홍길동\", 90, 80, 80, 80]\n",
        "stu2 = [\"유관순\", 100, 100, 100, 100]\n",
        "stu = [stu1, stu2]\n",
        "\n",
        "with open(\"studentInfo_2.csv\", mode = 'w', encoding = 'utf-8-sig') as f:\n",
        "  w = csv.writer(f)\n",
        "  w.writerow(data)\n",
        "  for i in stu:\n",
        "    w.writerow(i)"
      ],
      "metadata": {
        "id": "oyxdJyWqkjuT"
      },
      "execution_count": 27,
      "outputs": []
    }
  ]
}