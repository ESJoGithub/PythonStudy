{
 "cells": [
  {
   "cell_type": "markdown",
   "id": "7aca2805",
   "metadata": {},
   "source": [
    "# GRU를 활용한 언어 모형 생성 \n",
    "---\n",
    "RNN(순환신경망)의 대표 모형인 GRU를 활용한 영화 사이트 IMDB 리뷰 데이터 분류"
   ]
  },
  {
   "cell_type": "markdown",
   "id": "b19c05cc",
   "metadata": {},
   "source": [
    "## 1. GRU 활용 분류"
   ]
  },
  {
   "cell_type": "markdown",
   "id": "a6239150",
   "metadata": {},
   "source": [
    "### 데이터 불러오기 및 확인"
   ]
  },
  {
   "cell_type": "code",
   "execution_count": 1,
   "id": "02a39882",
   "metadata": {},
   "outputs": [],
   "source": [
    "import numpy as np\n",
    "import matplotlib.pyplot as plt\n",
    "from tensorflow.keras.datasets import imdb"
   ]
  },
  {
   "cell_type": "code",
   "execution_count": 2,
   "id": "b3159826",
   "metadata": {},
   "outputs": [],
   "source": [
    "(X_train, y_train),(X_test, y_test) = imdb.load_data()"
   ]
  },
  {
   "cell_type": "code",
   "execution_count": 3,
   "id": "4c28ac31",
   "metadata": {},
   "outputs": [
    {
     "name": "stdout",
     "output_type": "stream",
     "text": [
      "훈련용 리뷰 개수: 25000\n",
      "테스트용 리뷰 개수: 25000\n",
      "카테고리: 2\n"
     ]
    }
   ],
   "source": [
    "print('훈련용 리뷰 개수: {}'.format(len(X_train)))\n",
    "print('테스트용 리뷰 개수: {}'.format(len(X_test)))\n",
    "num_classes = len(set(y_train))\n",
    "print('카테고리: {}'.format(num_classes))"
   ]
  },
  {
   "cell_type": "code",
   "execution_count": 4,
   "id": "760b4d35",
   "metadata": {
    "scrolled": true
   },
   "outputs": [
    {
     "name": "stdout",
     "output_type": "stream",
     "text": [
      "[1, 14, 22, 16, 43, 530, 973, 1622, 1385, 65, 458, 4468, 66, 3941, 4, 173, 36, 256, 5, 25, 100, 43, 838, 112, 50, 670, 22665, 9, 35, 480, 284, 5, 150, 4, 172, 112, 167, 21631, 336, 385, 39, 4, 172, 4536, 1111, 17, 546, 38, 13, 447, 4, 192, 50, 16, 6, 147, 2025, 19, 14, 22, 4, 1920, 4613, 469, 4, 22, 71, 87, 12, 16, 43, 530, 38, 76, 15, 13, 1247, 4, 22, 17, 515, 17, 12, 16, 626, 18, 19193, 5, 62, 386, 12, 8, 316, 8, 106, 5, 4, 2223, 5244, 16, 480, 66, 3785, 33, 4, 130, 12, 16, 38, 619, 5, 25, 124, 51, 36, 135, 48, 25, 1415, 33, 6, 22, 12, 215, 28, 77, 52, 5, 14, 407, 16, 82, 10311, 8, 4, 107, 117, 5952, 15, 256, 4, 31050, 7, 3766, 5, 723, 36, 71, 43, 530, 476, 26, 400, 317, 46, 7, 4, 12118, 1029, 13, 104, 88, 4, 381, 15, 297, 98, 32, 2071, 56, 26, 141, 6, 194, 7486, 18, 4, 226, 22, 21, 134, 476, 26, 480, 5, 144, 30, 5535, 18, 51, 36, 28, 224, 92, 25, 104, 4, 226, 65, 16, 38, 1334, 88, 12, 16, 283, 5, 16, 4472, 113, 103, 32, 15, 16, 5345, 19, 178, 32]\n",
      "1\n"
     ]
    }
   ],
   "source": [
    "print(X_train[0])\n",
    "print(y_train[0])"
   ]
  },
  {
   "cell_type": "code",
   "execution_count": 5,
   "id": "0c64a6a7",
   "metadata": {},
   "outputs": [
    {
     "name": "stdout",
     "output_type": "stream",
     "text": [
      "리뷰의 최대 길이 : 2494\n",
      "리뷰의 평균 길이 : 238.71364\n"
     ]
    },
    {
     "data": {
      "image/png": "[encoded data removed]",
      "text/plain": [
       "<Figure size 432x288 with 1 Axes>"
      ]
     },
     "metadata": {
      "needs_background": "light"
     },
     "output_type": "display_data"
    }
   ],
   "source": [
    "len_result = [len(s) for s in X_train]\n",
    "\n",
    "print(\"리뷰의 최대 길이 : {}\".format(np.max(len_result)))\n",
    "print(\"리뷰의 평균 길이 : {}\".format(np.mean(len_result)))\n",
    "\n",
    "plt.subplot(1, 2, 2)\n",
    "plt.hist(len_result, bins = 50)\n",
    "plt.show()"
   ]
  },
  {
   "cell_type": "code",
   "execution_count": 6,
   "id": "13d7fa27",
   "metadata": {},
   "outputs": [
    {
     "name": "stdout",
     "output_type": "stream",
     "text": [
      "각 레이블에 대한 빈도 수: \n",
      "[[    0     1]\n",
      " [12500 12500]]\n"
     ]
    }
   ],
   "source": [
    "unique_elements, counts_elements = np.unique(y_train, return_counts=True)\n",
    "\n",
    "print(\"각 레이블에 대한 빈도 수: \")\n",
    "print(np.asarray((unique_elements, counts_elements)))"
   ]
  },
  {
   "cell_type": "markdown",
   "id": "0a783dfe",
   "metadata": {},
   "source": [
    "#### 단어와 정수값 매핑\n",
    "---\n",
    ">  IMDB 리뷰 데이터셋에서는 0, 1, 2, 3은 특별 토큰으로 취급하므로mldb.get.word_index + 3 해야 실제 매핑되는 정수로 볼 수 있음"
   ]
  },
  {
   "cell_type": "code",
   "execution_count": 7,
   "id": "b8caaa27",
   "metadata": {},
   "outputs": [],
   "source": [
    "word_to_index = imdb.get_word_index()\n",
    "\n",
    "index_to_word = {}\n",
    "for key, value in word_to_index.items():\n",
    "    index_to_word[value+3] = key"
   ]
  },
  {
   "cell_type": "code",
   "execution_count": 8,
   "id": "0ff054a4",
   "metadata": {},
   "outputs": [],
   "source": [
    "# <pad>: padding, 길이를 맞출때 사용하는 비어있는(사용x) 토큰\n",
    "# <sos>: start of sentence, 문장의 시작을 알리는 토큰\n",
    "# <unk>: unknown, 모델이 인식할 수 없는 토큰\n",
    "\n",
    "for index, token in enumerate((\"<pad>\", \"<sos>\", \"<unk>\")):\n",
    "    index_to_word[index] =token"
   ]
  },
  {
   "cell_type": "code",
   "execution_count": 9,
   "id": "e35fc09e",
   "metadata": {},
   "outputs": [
    {
     "name": "stdout",
     "output_type": "stream",
     "text": [
      "<sos> this film was just brilliant casting location scenery story direction everyone's really suited the part they played and you could just imagine being there robert redford's is an amazing actor and now the same being director norman's father came from the same scottish island as myself so i loved the fact there was a real connection with this film the witty remarks throughout the film were great it was just brilliant so much that i bought the film as soon as it was released for retail and would recommend it to everyone to watch and the fly fishing was amazing really cried at the end it was so sad and you know what they say if you cry at a film it must have been good and this definitely was also congratulations to the two little boy's that played the part's of norman and paul they were just brilliant children are often left out of the praising list i think because the stars that play them all grown up are such a big profile for the whole film but these children are amazing and should be praised for what they have done don't you think the whole story was so lovely because it was true and was someone's life after all that was shared with us all\n"
     ]
    }
   ],
   "source": [
    "# 첫 번째 리뷰 단어 매핑\n",
    "print(\" \".join([index_to_word[index] for index in X_train[0]]))"
   ]
  },
  {
   "cell_type": "markdown",
   "id": "0603e128",
   "metadata": {},
   "source": [
    "### 모델 만들기"
   ]
  },
  {
   "cell_type": "code",
   "execution_count": 10,
   "id": "6dc3aed8",
   "metadata": {
    "scrolled": true
   },
   "outputs": [],
   "source": [
    "import re\n",
    "from tensorflow.keras.datasets import imdb\n",
    "from tensorflow.keras.preprocessing.sequence import pad_sequences\n",
    "from tensorflow.keras.models import Sequential, load_model\n",
    "from tensorflow.keras.layers import Dense, GRU, Embedding\n",
    "from tensorflow.keras.callbacks import EarlyStopping, ModelCheckpoint"
   ]
  },
  {
   "cell_type": "code",
   "execution_count": 11,
   "id": "7dc940a1",
   "metadata": {},
   "outputs": [],
   "source": [
    "# 리뷰 수를 1000개로 제한\n",
    "vocab_size = 1000\n",
    "(X_train, y_train),(X_test, y_test) = imdb.load_data(num_words=vocab_size)"
   ]
  },
  {
   "cell_type": "code",
   "execution_count": 12,
   "id": "bc9b3994",
   "metadata": {},
   "outputs": [],
   "source": [
    "# 데이터가 정한 길이(500)을 초과하면 초과분을 삭제하고, 부족하면 0으로 채움\n",
    "\n",
    "max_len = 500\n",
    "X_train = pad_sequences(X_train, maxlen = max_len)\n",
    "X_test = pad_sequences(X_test, maxlen = max_len)"
   ]
  },
  {
   "cell_type": "code",
   "execution_count": 13,
   "id": "3866713a",
   "metadata": {},
   "outputs": [],
   "source": [
    "# 단어 임베딩 설정 및 모델 구성\n",
    "\n",
    "embedding_dim = 100     # 임베딩 후 벡터 크기\n",
    "hidden_units = 128"
   ]
  },
  {
   "cell_type": "code",
   "execution_count": 14,
   "id": "07674b21",
   "metadata": {},
   "outputs": [
    {
     "name": "stdout",
     "output_type": "stream",
     "text": [
      "Model: \"sequential\"\n",
      "_________________________________________________________________\n",
      " Layer (type)                Output Shape              Param #   \n",
      "=================================================================\n",
      " embedding (Embedding)       (None, None, 100)         100000    \n",
      "                                                                 \n",
      " gru (GRU)                   (None, 128)               88320     \n",
      "                                                                 \n",
      " dense (Dense)               (None, 1)                 129       \n",
      "                                                                 \n",
      "=================================================================\n",
      "Total params: 188,449\n",
      "Trainable params: 188,449\n",
      "Non-trainable params: 0\n",
      "_________________________________________________________________\n"
     ]
    }
   ],
   "source": [
    "model = Sequential()\n",
    "model.add(Embedding(vocab_size, embedding_dim)) # 임베딩 벡터의 차원을 100으로 설정\n",
    "model.add(GRU(hidden_units))\n",
    "model.add(Dense(1, activation='sigmoid'))\n",
    "\n",
    "model.summary()"
   ]
  },
  {
   "cell_type": "markdown",
   "id": "c49a0e38",
   "metadata": {},
   "source": [
    "### 학습하기"
   ]
  },
  {
   "cell_type": "code",
   "execution_count": 15,
   "id": "e6dfe217",
   "metadata": {},
   "outputs": [],
   "source": [
    "# 손실이 4회 증가하면 학습을 조기 종료\n",
    "es = EarlyStopping(monitor='val_loss', mode='min', verbose = 1, patience =4)\n",
    "# 데이터 정확도가 이전보다 좋아질 경우에만 모델 저장\n",
    "mc = ModelCheckpoint(\"GRU_model.h5\", monitor='val_acc', mode='max', verbose=1, save_best_only=True)"
   ]
  },
  {
   "cell_type": "code",
   "execution_count": 16,
   "id": "9467dc8a",
   "metadata": {
    "scrolled": false
   },
   "outputs": [
    {
     "name": "stdout",
     "output_type": "stream",
     "text": [
      "Epoch 1/10\n",
      "334/334 [==============================] - ETA: 0s - loss: 0.5404 - acc: 0.7289\n",
      "Epoch 1: val_acc improved from -inf to 0.79720, saving model to GRU_model.h5\n",
      "334/334 [==============================] - 174s 515ms/step - loss: 0.5404 - acc: 0.7289 - val_loss: 0.4370 - val_acc: 0.7972\n",
      "Epoch 2/10\n",
      "334/334 [==============================] - ETA: 0s - loss: 0.4199 - acc: 0.8169\n",
      "Epoch 2: val_acc improved from 0.79720 to 0.80460, saving model to GRU_model.h5\n",
      "334/334 [==============================] - 183s 547ms/step - loss: 0.4199 - acc: 0.8169 - val_loss: 0.4497 - val_acc: 0.8046\n",
      "Epoch 3/10\n",
      "334/334 [==============================] - ETA: 0s - loss: 0.3592 - acc: 0.8480\n",
      "Epoch 3: val_acc improved from 0.80460 to 0.85900, saving model to GRU_model.h5\n",
      "334/334 [==============================] - 180s 540ms/step - loss: 0.3592 - acc: 0.8480 - val_loss: 0.3376 - val_acc: 0.8590\n",
      "Epoch 4/10\n",
      "334/334 [==============================] - ETA: 0s - loss: 0.3099 - acc: 0.8705\n",
      "Epoch 4: val_acc improved from 0.85900 to 0.86440, saving model to GRU_model.h5\n",
      "334/334 [==============================] - 182s 546ms/step - loss: 0.3099 - acc: 0.8705 - val_loss: 0.3315 - val_acc: 0.8644\n",
      "Epoch 5/10\n",
      "334/334 [==============================] - ETA: 0s - loss: 0.2782 - acc: 0.8863\n",
      "Epoch 5: val_acc improved from 0.86440 to 0.88020, saving model to GRU_model.h5\n",
      "334/334 [==============================] - 184s 550ms/step - loss: 0.2782 - acc: 0.8863 - val_loss: 0.2895 - val_acc: 0.8802\n",
      "Epoch 6/10\n",
      "334/334 [==============================] - ETA: 0s - loss: 0.2593 - acc: 0.8951\n",
      "Epoch 6: val_acc did not improve from 0.88020\n",
      "334/334 [==============================] - 178s 532ms/step - loss: 0.2593 - acc: 0.8951 - val_loss: 0.2954 - val_acc: 0.8792\n",
      "Epoch 7/10\n",
      "334/334 [==============================] - ETA: 0s - loss: 0.2439 - acc: 0.9028\n",
      "Epoch 7: val_acc did not improve from 0.88020\n",
      "334/334 [==============================] - 164s 491ms/step - loss: 0.2439 - acc: 0.9028 - val_loss: 0.3159 - val_acc: 0.8670\n",
      "Epoch 8/10\n",
      "334/334 [==============================] - ETA: 0s - loss: 0.2319 - acc: 0.9090\n",
      "Epoch 8: val_acc did not improve from 0.88020\n",
      "334/334 [==============================] - 178s 534ms/step - loss: 0.2319 - acc: 0.9090 - val_loss: 0.3082 - val_acc: 0.8768\n",
      "Epoch 9/10\n",
      "334/334 [==============================] - ETA: 0s - loss: 0.2216 - acc: 0.9139\n",
      "Epoch 9: val_acc did not improve from 0.88020\n",
      "334/334 [==============================] - 197s 589ms/step - loss: 0.2216 - acc: 0.9139 - val_loss: 0.3157 - val_acc: 0.8628\n",
      "Epoch 9: early stopping\n"
     ]
    }
   ],
   "source": [
    "model.compile(optimizer='rmsprop', loss='binary_crossentropy', metrics=['acc'])\n",
    "history = model.fit(X_train, y_train, epochs=10, callbacks=[es, mc], \n",
    "                    batch_size=60, validation_split=0.2)"
   ]
  },
  {
   "cell_type": "markdown",
   "id": "9283bd6f",
   "metadata": {},
   "source": [
    "### 정확도 평가"
   ]
  },
  {
   "cell_type": "code",
   "execution_count": 17,
   "id": "f70d2e38",
   "metadata": {},
   "outputs": [
    {
     "name": "stdout",
     "output_type": "stream",
     "text": [
      "782/782 [==============================] - 64s 82ms/step - loss: 0.2863 - acc: 0.8806\n",
      "\n",
      " 테스트 정확도: 0.880640\n"
     ]
    }
   ],
   "source": [
    "# 조기 종료 모델 불러오기\n",
    "loaded_model = load_model('GRU_model.h5')\n",
    "print('\\n 테스트 정확도: %4f'%(loaded_model.evaluate(X_test,y_test)[1]))"
   ]
  }
 ],
 "metadata": {
  "kernelspec": {
   "display_name": "Python 3 (ipykernel)",
   "language": "python",
   "name": "python3"
  },
  "language_info": {
   "codemirror_mode": {
    "name": "ipython",
    "version": 3
   },
   "file_extension": ".py",
   "mimetype": "text/x-python",
   "name": "python",
   "nbconvert_exporter": "python",
   "pygments_lexer": "ipython3",
   "version": "3.9.12"
  }
 },
 "nbformat": 4,
 "nbformat_minor": 5
}
