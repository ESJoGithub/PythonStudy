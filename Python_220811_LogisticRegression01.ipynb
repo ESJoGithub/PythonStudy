{
  "nbformat": 4,
  "nbformat_minor": 0,
  "metadata": {
    "colab": {
      "name": "Python_220811_LogisticRegression01.ipynb",
      "provenance": [],
      "collapsed_sections": [],
      "authorship_tag": "ABX9TyOmulImgmBHx01ohE/AD1tp",
      "include_colab_link": true
    },
    "kernelspec": {
      "name": "python3",
      "display_name": "Python 3"
    },
    "language_info": {
      "name": "python"
    }
  },
  "cells": [
    {
      "cell_type": "markdown",
      "metadata": {
        "id": "view-in-github",
        "colab_type": "text"
      },
      "source": [
        "<a href=\"https://colab.research.google.com/github/ESJoGithub/PythonStudy/blob/main/Python_220811_LogisticRegression01.ipynb\" target=\"_parent\"><img src=\"https://colab.research.google.com/assets/colab-badge.svg\" alt=\"Open In Colab\"/></a>"
      ]
    },
    {
      "cell_type": "markdown",
      "source": [
        "## **로지스틱 회귀(Logistic Regression) 실습**\n",
        "___\n",
        "> 단일 입력 로지스틱 회귀 모델 실습"
      ],
      "metadata": {
        "id": "Ha9mgt9S1Lco"
      }
    },
    {
      "cell_type": "markdown",
      "source": [
        "#### **라이브러리 import**\n"
      ],
      "metadata": {
        "id": "Ry9vEcnqBNdd"
      }
    },
    {
      "cell_type": "code",
      "execution_count": null,
      "metadata": {
        "id": "FUtaUD1SBNdd"
      },
      "outputs": [],
      "source": [
        "from tensorflow.keras.models import Sequential\n",
        "from tensorflow.keras.layers import Dense, Activation\n",
        "import numpy as np"
      ]
    },
    {
      "cell_type": "markdown",
      "source": [
        "#### **로지스틱 회귀 모델 만들기**"
      ],
      "metadata": {
        "id": "eC7kC1-4ZSxq"
      }
    },
    {
      "cell_type": "code",
      "source": [
        "model = Sequential()\n",
        "model.add(Dense(input_dim = 1, units = 1))\n",
        "model.add(Activation(\"sigmoid\"))\n",
        "# binary_crossentropy 이진 분류 크로스엔트로피 (0.5를 기준으로 0과 1로 분류)\n",
        "model.compile(loss=\"binary_crossentropy\", optimizer='sgd', metrics=['binary_accuracy'])"
      ],
      "metadata": {
        "id": "pfwUrsuZZW-r"
      },
      "execution_count": null,
      "outputs": []
    },
    {
      "cell_type": "markdown",
      "source": [
        "####**데이터 생성 및 모델 학습**"
      ],
      "metadata": {
        "id": "ieSRJonZBNdd"
      }
    },
    {
      "cell_type": "code",
      "source": [
        "X = np.array([-2, -1.5, -1, 1.25, 1.62, 2])\n",
        "Y = np.array([0, 0, 0, 1, 1, 1])\n",
        "\n",
        "model.fit(X, Y, epochs=300, verbose=0)"
      ],
      "metadata": {
        "colab": {
          "base_uri": "https://localhost:8080/"
        },
        "outputId": "8e274e2b-2dab-4310-d3b4-00dce4951b7a",
        "id": "Hy8rbTsNBNdd"
      },
      "execution_count": null,
      "outputs": [
        {
          "output_type": "execute_result",
          "data": {
            "text/plain": [
              "<keras.callbacks.History at 0x7fd090d89250>"
            ]
          },
          "metadata": {},
          "execution_count": 4
        }
      ]
    },
    {
      "cell_type": "markdown",
      "source": [
        "#### **예측하기**"
      ],
      "metadata": {
        "id": "fDZb3m0PUwMc"
      }
    },
    {
      "cell_type": "code",
      "source": [
        "# X를 입력하였을 때 예측값, 이 예측값이 0.5를 넘지 않으면 0, 넘으면 1 \n",
        "model.predict([-2, -1.5, -1, 1.25, 1.62, 2])"
      ],
      "metadata": {
        "colab": {
          "base_uri": "https://localhost:8080/"
        },
        "id": "Bdu64PQ-Mt-X",
        "outputId": "c796146d-87a4-4716-9645-77b8589f133b"
      },
      "execution_count": null,
      "outputs": [
        {
          "output_type": "execute_result",
          "data": {
            "text/plain": [
              "array([[0.058346  ],\n",
              "       [0.10982326],\n",
              "       [0.19720614],\n",
              "       [0.84491944],\n",
              "       [0.9006917 ],\n",
              "       [0.9386786 ]], dtype=float32)"
            ]
          },
          "metadata": {},
          "execution_count": 5
        }
      ]
    },
    {
      "cell_type": "code",
      "source": [
        "model.predict([-1000, 1000])"
      ],
      "metadata": {
        "colab": {
          "base_uri": "https://localhost:8080/"
        },
        "id": "L6dfoXi7VBlB",
        "outputId": "2834bcf4-81e3-439d-a9dd-43972c904e68"
      },
      "execution_count": null,
      "outputs": [
        {
          "output_type": "execute_result",
          "data": {
            "text/plain": [
              "array([[0.],\n",
              "       [1.]], dtype=float32)"
            ]
          },
          "metadata": {},
          "execution_count": 6
        }
      ]
    },
    {
      "cell_type": "markdown",
      "source": [
        "#### **모델 요약**"
      ],
      "metadata": {
        "id": "fQxukvUYafLE"
      }
    },
    {
      "cell_type": "code",
      "source": [
        "# parameter wx+b 에서 w와 b를 의미함\n",
        "model.summary()"
      ],
      "metadata": {
        "colab": {
          "base_uri": "https://localhost:8080/"
        },
        "id": "6cHRXAVQVIKJ",
        "outputId": "a3e66e75-1671-4921-83d8-224cc94a1fb4"
      },
      "execution_count": null,
      "outputs": [
        {
          "output_type": "stream",
          "name": "stdout",
          "text": [
            "Model: \"sequential\"\n",
            "_________________________________________________________________\n",
            " Layer (type)                Output Shape              Param #   \n",
            "=================================================================\n",
            " dense (Dense)               (None, 1)                 2         \n",
            "                                                                 \n",
            " activation (Activation)     (None, 1)                 0         \n",
            "                                                                 \n",
            "=================================================================\n",
            "Total params: 2\n",
            "Trainable params: 2\n",
            "Non-trainable params: 0\n",
            "_________________________________________________________________\n"
          ]
        }
      ]
    },
    {
      "cell_type": "markdown",
      "source": [
        "#### **weight 확인**"
      ],
      "metadata": {
        "id": "IIenwc2lCbZq"
      }
    },
    {
      "cell_type": "code",
      "source": [
        "# w = 1.3773978, b = -0.02645076\n",
        "model.layers[0].get_weights()"
      ],
      "metadata": {
        "colab": {
          "base_uri": "https://localhost:8080/"
        },
        "id": "B-co3qKVCeTe",
        "outputId": "3f9beede-6fff-499a-b753-61ce1a5d0111"
      },
      "execution_count": null,
      "outputs": [
        {
          "output_type": "execute_result",
          "data": {
            "text/plain": [
              "[array([[1.3773978]], dtype=float32), array([-0.02645076], dtype=float32)]"
            ]
          },
          "metadata": {},
          "execution_count": 9
        }
      ]
    }
  ]
}