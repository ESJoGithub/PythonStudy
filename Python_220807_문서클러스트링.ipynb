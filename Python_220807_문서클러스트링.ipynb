{
 "cells": [
  {
   "cell_type": "markdown",
   "id": "5ffe6cf4",
   "metadata": {},
   "source": [
    "## 아마존 제품 리뷰 문서 클러스트링"
   ]
  },
  {
   "cell_type": "markdown",
   "id": "8a4691a7",
   "metadata": {},
   "source": [
    "### 0. 아마존 제품 리뷰 TDM 분석 결과 및 원본 파일 불러오기"
   ]
  },
  {
   "cell_type": "code",
   "execution_count": 1,
   "id": "fed8a1d1",
   "metadata": {},
   "outputs": [],
   "source": [
    "import pandas as pd\n",
    "import joblib"
   ]
  },
  {
   "cell_type": "code",
   "execution_count": 2,
   "id": "b1c57275",
   "metadata": {},
   "outputs": [],
   "source": [
    "with open('amazon.pkl', 'rb') as f:\n",
    "    data = joblib.load(f)\n",
    "locals().update(data)"
   ]
  },
  {
   "cell_type": "code",
   "execution_count": 3,
   "id": "107488be",
   "metadata": {},
   "outputs": [],
   "source": [
    "df = pd.read_csv('amazon_cells_labelled.txt', sep='\\t', header=None)"
   ]
  },
  {
   "cell_type": "code",
   "execution_count": 4,
   "id": "7d585ac2",
   "metadata": {},
   "outputs": [],
   "source": [
    "tdm = data['tdm']"
   ]
  },
  {
   "cell_type": "markdown",
   "id": "5780a24b",
   "metadata": {},
   "source": [
    "#### 클러스터별 상위 10개 사용 단어 확인 함수"
   ]
  },
  {
   "cell_type": "code",
   "execution_count": 5,
   "id": "ed0cd744",
   "metadata": {},
   "outputs": [],
   "source": [
    "def top10(words, labels, tdm):\n",
    "    from operator import itemgetter\n",
    "    freq_words=[]\n",
    "    for i in range(4):\n",
    "        count=tdm[labels == i, :].sum(axis = 0)\n",
    "        ws = [w for w, n in sorted(zip(words, count.flat), key = itemgetter(1), reverse=True)[:10]]\n",
    "        freq_words.append(ws)\n",
    "    return pd.DataFrame(freq_words)"
   ]
  },
  {
   "cell_type": "markdown",
   "id": "ef6376b0",
   "metadata": {},
   "source": [
    "### 1. 유클리드거리 기준으로 4개의 클러스트로 묶기"
   ]
  },
  {
   "cell_type": "code",
   "execution_count": 6,
   "id": "4d88b449",
   "metadata": {},
   "outputs": [],
   "source": [
    "from sklearn.metrics.pairwise import euclidean_distances\n",
    "from sklearn.cluster import SpectralClustering"
   ]
  },
  {
   "cell_type": "code",
   "execution_count": 7,
   "id": "e4031577",
   "metadata": {},
   "outputs": [
    {
     "name": "stderr",
     "output_type": "stream",
     "text": [
      "C:\\Users\\User\\anaconda3\\lib\\site-packages\\sklearn\\cluster\\_kmeans.py:1332: UserWarning: KMeans is known to have a memory leak on Windows with MKL, when there are less chunks than available threads. You can avoid it by setting the environment variable OMP_NUM_THREADS=1.\n",
      "  warnings.warn(\n"
     ]
    }
   ],
   "source": [
    "cl = SpectralClustering(n_clusters=4, random_state=1234)\n",
    "labels = cl.fit_predict(tdm[:100])"
   ]
  },
  {
   "cell_type": "code",
   "execution_count": 8,
   "id": "e1604c4e",
   "metadata": {},
   "outputs": [],
   "source": [
    "from sklearn.feature_extraction.text import TfidfVectorizer"
   ]
  },
  {
   "cell_type": "code",
   "execution_count": 9,
   "id": "b9ed855e",
   "metadata": {},
   "outputs": [
    {
     "name": "stderr",
     "output_type": "stream",
     "text": [
      "C:\\Users\\User\\anaconda3\\lib\\site-packages\\sklearn\\utils\\deprecation.py:87: FutureWarning: Function get_feature_names is deprecated; get_feature_names is deprecated in 1.0 and will be removed in 1.2. Please use get_feature_names_out instead.\n",
      "  warnings.warn(msg, category=FutureWarning)\n"
     ]
    }
   ],
   "source": [
    "words = vectorizer.get_feature_names()"
   ]
  },
  {
   "cell_type": "code",
   "execution_count": 10,
   "id": "831e381f",
   "metadata": {},
   "outputs": [
    {
     "data": {
      "text/plain": [
       "array([0, 0, 2, 0, 2, 0, 0, 0, 0, 0, 2, 0, 0, 0, 0, 0, 0, 0, 2, 0, 0, 0,\n",
       "       0, 0, 0, 2, 0, 0, 0, 0, 0, 3, 0, 0, 0, 0, 0, 0, 2, 3, 2, 3, 0, 0,\n",
       "       0, 0, 0, 0, 0, 1, 0, 0, 0, 0, 3, 0, 1, 2, 0, 0, 0, 0, 0, 0, 0, 0,\n",
       "       0, 0, 2, 2, 0, 0, 2, 0, 0, 3, 0, 2, 3, 0, 0, 0, 0, 0, 2, 0, 2, 0,\n",
       "       3, 0, 0, 0, 2, 0, 0, 0, 0, 3, 0, 1])"
      ]
     },
     "execution_count": 10,
     "metadata": {},
     "output_type": "execute_result"
    }
   ],
   "source": [
    "labels"
   ]
  },
  {
   "cell_type": "code",
   "execution_count": 11,
   "id": "0622931f",
   "metadata": {},
   "outputs": [
    {
     "data": {
      "text/html": [
       "<div>\n",
       "<style scoped>\n",
       "    .dataframe tbody tr th:only-of-type {\n",
       "        vertical-align: middle;\n",
       "    }\n",
       "\n",
       "    .dataframe tbody tr th {\n",
       "        vertical-align: top;\n",
       "    }\n",
       "\n",
       "    .dataframe thead th {\n",
       "        text-align: right;\n",
       "    }\n",
       "</style>\n",
       "<table border=\"1\" class=\"dataframe\">\n",
       "  <thead>\n",
       "    <tr style=\"text-align: right;\">\n",
       "      <th></th>\n",
       "      <th>0</th>\n",
       "      <th>1</th>\n",
       "      <th>2</th>\n",
       "      <th>3</th>\n",
       "      <th>4</th>\n",
       "      <th>5</th>\n",
       "      <th>6</th>\n",
       "      <th>7</th>\n",
       "      <th>8</th>\n",
       "      <th>9</th>\n",
       "    </tr>\n",
       "  </thead>\n",
       "  <tbody>\n",
       "    <tr>\n",
       "      <th>0</th>\n",
       "      <td>phone</td>\n",
       "      <td>battery</td>\n",
       "      <td>good</td>\n",
       "      <td>ve</td>\n",
       "      <td>time</td>\n",
       "      <td>right</td>\n",
       "      <td>money</td>\n",
       "      <td>doesn</td>\n",
       "      <td>use</td>\n",
       "      <td>headsets</td>\n",
       "    </tr>\n",
       "    <tr>\n",
       "      <th>1</th>\n",
       "      <td>disappointed</td>\n",
       "      <td>decision</td>\n",
       "      <td>battery</td>\n",
       "      <td>10</td>\n",
       "      <td>100</td>\n",
       "      <td>11</td>\n",
       "      <td>12</td>\n",
       "      <td>13</td>\n",
       "      <td>15</td>\n",
       "      <td>15g</td>\n",
       "    </tr>\n",
       "    <tr>\n",
       "      <th>2</th>\n",
       "      <td>great</td>\n",
       "      <td>works</td>\n",
       "      <td>worked</td>\n",
       "      <td>item</td>\n",
       "      <td>phone</td>\n",
       "      <td>choice</td>\n",
       "      <td>jawbone</td>\n",
       "      <td>mic</td>\n",
       "      <td>quality</td>\n",
       "      <td>situations</td>\n",
       "    </tr>\n",
       "    <tr>\n",
       "      <th>3</th>\n",
       "      <td>product</td>\n",
       "      <td>love</td>\n",
       "      <td>worthless</td>\n",
       "      <td>impressed</td>\n",
       "      <td>thing</td>\n",
       "      <td>waaay</td>\n",
       "      <td>sensitive</td>\n",
       "      <td>big</td>\n",
       "      <td>handy</td>\n",
       "      <td>cheaper</td>\n",
       "    </tr>\n",
       "  </tbody>\n",
       "</table>\n",
       "</div>"
      ],
      "text/plain": [
       "              0         1          2          3      4       5          6  \\\n",
       "0         phone   battery       good         ve   time   right      money   \n",
       "1  disappointed  decision    battery         10    100      11         12   \n",
       "2         great     works     worked       item  phone  choice    jawbone   \n",
       "3       product      love  worthless  impressed  thing   waaay  sensitive   \n",
       "\n",
       "       7        8           9  \n",
       "0  doesn      use    headsets  \n",
       "1     13       15         15g  \n",
       "2    mic  quality  situations  \n",
       "3    big    handy     cheaper  "
      ]
     },
     "execution_count": 11,
     "metadata": {},
     "output_type": "execute_result"
    }
   ],
   "source": [
    "top10(words, labels, tdm)"
   ]
  },
  {
   "cell_type": "markdown",
   "id": "de7ab25b",
   "metadata": {},
   "source": [
    "### 2. 코사인 유사도거리 기준으로 4개의 클러스트로 묶기"
   ]
  },
  {
   "cell_type": "code",
   "execution_count": 12,
   "id": "488a5db2",
   "metadata": {},
   "outputs": [],
   "source": [
    "from sklearn.metrics.pairwise import cosine_similarity"
   ]
  },
  {
   "cell_type": "code",
   "execution_count": 13,
   "id": "265b3272",
   "metadata": {},
   "outputs": [
    {
     "name": "stderr",
     "output_type": "stream",
     "text": [
      "C:\\Users\\User\\anaconda3\\lib\\site-packages\\sklearn\\manifold\\_spectral_embedding.py:259: UserWarning: Graph is not fully connected, spectral embedding may not work as expected.\n",
      "  warnings.warn(\n",
      "C:\\Users\\User\\anaconda3\\lib\\site-packages\\sklearn\\cluster\\_kmeans.py:1332: UserWarning: KMeans is known to have a memory leak on Windows with MKL, when there are less chunks than available threads. You can avoid it by setting the environment variable OMP_NUM_THREADS=1.\n",
      "  warnings.warn(\n"
     ]
    }
   ],
   "source": [
    "cl_cos = SpectralClustering(n_clusters=4, affinity=cosine_similarity, random_state=1234)\n",
    "labels_cos = cl_cos.fit_predict(tdm[:100])"
   ]
  },
  {
   "cell_type": "code",
   "execution_count": 14,
   "id": "e97d497c",
   "metadata": {
    "scrolled": true
   },
   "outputs": [
    {
     "data": {
      "text/html": [
       "<div>\n",
       "<style scoped>\n",
       "    .dataframe tbody tr th:only-of-type {\n",
       "        vertical-align: middle;\n",
       "    }\n",
       "\n",
       "    .dataframe tbody tr th {\n",
       "        vertical-align: top;\n",
       "    }\n",
       "\n",
       "    .dataframe thead th {\n",
       "        text-align: right;\n",
       "    }\n",
       "</style>\n",
       "<table border=\"1\" class=\"dataframe\">\n",
       "  <thead>\n",
       "    <tr style=\"text-align: right;\">\n",
       "      <th></th>\n",
       "      <th>0</th>\n",
       "      <th>1</th>\n",
       "      <th>2</th>\n",
       "      <th>3</th>\n",
       "      <th>4</th>\n",
       "      <th>5</th>\n",
       "      <th>6</th>\n",
       "      <th>7</th>\n",
       "      <th>8</th>\n",
       "      <th>9</th>\n",
       "    </tr>\n",
       "  </thead>\n",
       "  <tbody>\n",
       "    <tr>\n",
       "      <th>0</th>\n",
       "      <td>product</td>\n",
       "      <td>love</td>\n",
       "      <td>money</td>\n",
       "      <td>features</td>\n",
       "      <td>waste</td>\n",
       "      <td>thing</td>\n",
       "      <td>worthless</td>\n",
       "      <td>impressed</td>\n",
       "      <td>waaay</td>\n",
       "      <td>want</td>\n",
       "    </tr>\n",
       "    <tr>\n",
       "      <th>1</th>\n",
       "      <td>battery</td>\n",
       "      <td>disappointed</td>\n",
       "      <td>days</td>\n",
       "      <td>decision</td>\n",
       "      <td>runs</td>\n",
       "      <td>right</td>\n",
       "      <td>problem</td>\n",
       "      <td>bought</td>\n",
       "      <td>quickly</td>\n",
       "      <td>buy</td>\n",
       "    </tr>\n",
       "    <tr>\n",
       "      <th>2</th>\n",
       "      <td>way</td>\n",
       "      <td>ear</td>\n",
       "      <td>wear</td>\n",
       "      <td>comfortable</td>\n",
       "      <td>holds</td>\n",
       "      <td>unless</td>\n",
       "      <td>clip</td>\n",
       "      <td>wonder</td>\n",
       "      <td>plug</td>\n",
       "      <td>music</td>\n",
       "    </tr>\n",
       "    <tr>\n",
       "      <th>3</th>\n",
       "      <td>great</td>\n",
       "      <td>phone</td>\n",
       "      <td>works</td>\n",
       "      <td>good</td>\n",
       "      <td>quality</td>\n",
       "      <td>use</td>\n",
       "      <td>case</td>\n",
       "      <td>ve</td>\n",
       "      <td>mic</td>\n",
       "      <td>doesn</td>\n",
       "    </tr>\n",
       "  </tbody>\n",
       "</table>\n",
       "</div>"
      ],
      "text/plain": [
       "         0             1      2            3        4       5          6  \\\n",
       "0  product          love  money     features    waste   thing  worthless   \n",
       "1  battery  disappointed   days     decision     runs   right    problem   \n",
       "2      way           ear   wear  comfortable    holds  unless       clip   \n",
       "3    great         phone  works         good  quality     use       case   \n",
       "\n",
       "           7        8      9  \n",
       "0  impressed    waaay   want  \n",
       "1     bought  quickly    buy  \n",
       "2     wonder     plug  music  \n",
       "3         ve      mic  doesn  "
      ]
     },
     "execution_count": 14,
     "metadata": {},
     "output_type": "execute_result"
    }
   ],
   "source": [
    "top10(words, labels_cos, tdm)"
   ]
  },
  {
   "cell_type": "markdown",
   "id": "5b156c48",
   "metadata": {},
   "source": [
    "### 3. K-Means를 활용한 클러스트링"
   ]
  },
  {
   "cell_type": "markdown",
   "id": "78315f44",
   "metadata": {},
   "source": [
    "#### 정규화 전"
   ]
  },
  {
   "cell_type": "code",
   "execution_count": 15,
   "id": "5c1fd6fa",
   "metadata": {},
   "outputs": [],
   "source": [
    "from sklearn.cluster import KMeans"
   ]
  },
  {
   "cell_type": "code",
   "execution_count": 16,
   "id": "23d68dc4",
   "metadata": {},
   "outputs": [],
   "source": [
    "km = KMeans(n_clusters=4, random_state=1234)\n",
    "labels_km = km.fit_predict(tdm)"
   ]
  },
  {
   "cell_type": "code",
   "execution_count": 17,
   "id": "483831c6",
   "metadata": {
    "scrolled": true
   },
   "outputs": [
    {
     "data": {
      "text/html": [
       "<div>\n",
       "<style scoped>\n",
       "    .dataframe tbody tr th:only-of-type {\n",
       "        vertical-align: middle;\n",
       "    }\n",
       "\n",
       "    .dataframe tbody tr th {\n",
       "        vertical-align: top;\n",
       "    }\n",
       "\n",
       "    .dataframe thead th {\n",
       "        text-align: right;\n",
       "    }\n",
       "</style>\n",
       "<table border=\"1\" class=\"dataframe\">\n",
       "  <thead>\n",
       "    <tr style=\"text-align: right;\">\n",
       "      <th></th>\n",
       "      <th>0</th>\n",
       "      <th>1</th>\n",
       "      <th>2</th>\n",
       "      <th>3</th>\n",
       "      <th>4</th>\n",
       "      <th>5</th>\n",
       "      <th>6</th>\n",
       "      <th>7</th>\n",
       "      <th>8</th>\n",
       "      <th>9</th>\n",
       "    </tr>\n",
       "  </thead>\n",
       "  <tbody>\n",
       "    <tr>\n",
       "      <th>0</th>\n",
       "      <td>phone</td>\n",
       "      <td>good</td>\n",
       "      <td>product</td>\n",
       "      <td>quality</td>\n",
       "      <td>headset</td>\n",
       "      <td>use</td>\n",
       "      <td>recommend</td>\n",
       "      <td>excellent</td>\n",
       "      <td>work</td>\n",
       "      <td>works</td>\n",
       "    </tr>\n",
       "    <tr>\n",
       "      <th>1</th>\n",
       "      <td>don</td>\n",
       "      <td>money</td>\n",
       "      <td>waste</td>\n",
       "      <td>buy</td>\n",
       "      <td>time</td>\n",
       "      <td>product</td>\n",
       "      <td>dont</td>\n",
       "      <td>wasted</td>\n",
       "      <td>make</td>\n",
       "      <td>mistake</td>\n",
       "    </tr>\n",
       "    <tr>\n",
       "      <th>2</th>\n",
       "      <td>great</td>\n",
       "      <td>phone</td>\n",
       "      <td>works</td>\n",
       "      <td>price</td>\n",
       "      <td>product</td>\n",
       "      <td>deal</td>\n",
       "      <td>item</td>\n",
       "      <td>working</td>\n",
       "      <td>device</td>\n",
       "      <td>worked</td>\n",
       "    </tr>\n",
       "    <tr>\n",
       "      <th>3</th>\n",
       "      <td>battery</td>\n",
       "      <td>life</td>\n",
       "      <td>long</td>\n",
       "      <td>original</td>\n",
       "      <td>phone</td>\n",
       "      <td>good</td>\n",
       "      <td>great</td>\n",
       "      <td>works</td>\n",
       "      <td>dying</td>\n",
       "      <td>buy</td>\n",
       "    </tr>\n",
       "  </tbody>\n",
       "</table>\n",
       "</div>"
      ],
      "text/plain": [
       "         0      1        2         3        4        5          6          7  \\\n",
       "0    phone   good  product   quality  headset      use  recommend  excellent   \n",
       "1      don  money    waste       buy     time  product       dont     wasted   \n",
       "2    great  phone    works     price  product     deal       item    working   \n",
       "3  battery   life     long  original    phone     good      great      works   \n",
       "\n",
       "        8        9  \n",
       "0    work    works  \n",
       "1    make  mistake  \n",
       "2  device   worked  \n",
       "3   dying      buy  "
      ]
     },
     "execution_count": 17,
     "metadata": {},
     "output_type": "execute_result"
    }
   ],
   "source": [
    "top10(words, labels_km, tdm)"
   ]
  },
  {
   "cell_type": "markdown",
   "id": "4123422c",
   "metadata": {},
   "source": [
    "#### 정규화 진행 후 클러스터링 변화 확인"
   ]
  },
  {
   "cell_type": "code",
   "execution_count": 18,
   "id": "12af4f34",
   "metadata": {},
   "outputs": [],
   "source": [
    "from sklearn.preprocessing import Normalizer"
   ]
  },
  {
   "cell_type": "code",
   "execution_count": 19,
   "id": "67105b05",
   "metadata": {},
   "outputs": [],
   "source": [
    "nom = Normalizer(copy=False)\n",
    "pos = nom.fit_transform(tdm)"
   ]
  },
  {
   "cell_type": "code",
   "execution_count": 20,
   "id": "5c1c8798",
   "metadata": {},
   "outputs": [
    {
     "data": {
      "text/html": [
       "<div>\n",
       "<style scoped>\n",
       "    .dataframe tbody tr th:only-of-type {\n",
       "        vertical-align: middle;\n",
       "    }\n",
       "\n",
       "    .dataframe tbody tr th {\n",
       "        vertical-align: top;\n",
       "    }\n",
       "\n",
       "    .dataframe thead th {\n",
       "        text-align: right;\n",
       "    }\n",
       "</style>\n",
       "<table border=\"1\" class=\"dataframe\">\n",
       "  <thead>\n",
       "    <tr style=\"text-align: right;\">\n",
       "      <th></th>\n",
       "      <th>0</th>\n",
       "      <th>1</th>\n",
       "      <th>2</th>\n",
       "      <th>3</th>\n",
       "      <th>4</th>\n",
       "      <th>5</th>\n",
       "      <th>6</th>\n",
       "      <th>7</th>\n",
       "      <th>8</th>\n",
       "      <th>9</th>\n",
       "    </tr>\n",
       "  </thead>\n",
       "  <tbody>\n",
       "    <tr>\n",
       "      <th>0</th>\n",
       "      <td>phone</td>\n",
       "      <td>good</td>\n",
       "      <td>product</td>\n",
       "      <td>quality</td>\n",
       "      <td>headset</td>\n",
       "      <td>use</td>\n",
       "      <td>recommend</td>\n",
       "      <td>excellent</td>\n",
       "      <td>work</td>\n",
       "      <td>works</td>\n",
       "    </tr>\n",
       "    <tr>\n",
       "      <th>1</th>\n",
       "      <td>don</td>\n",
       "      <td>money</td>\n",
       "      <td>waste</td>\n",
       "      <td>buy</td>\n",
       "      <td>time</td>\n",
       "      <td>product</td>\n",
       "      <td>dont</td>\n",
       "      <td>wasted</td>\n",
       "      <td>make</td>\n",
       "      <td>mistake</td>\n",
       "    </tr>\n",
       "    <tr>\n",
       "      <th>2</th>\n",
       "      <td>great</td>\n",
       "      <td>phone</td>\n",
       "      <td>works</td>\n",
       "      <td>price</td>\n",
       "      <td>product</td>\n",
       "      <td>deal</td>\n",
       "      <td>item</td>\n",
       "      <td>working</td>\n",
       "      <td>device</td>\n",
       "      <td>worked</td>\n",
       "    </tr>\n",
       "    <tr>\n",
       "      <th>3</th>\n",
       "      <td>battery</td>\n",
       "      <td>life</td>\n",
       "      <td>long</td>\n",
       "      <td>original</td>\n",
       "      <td>phone</td>\n",
       "      <td>good</td>\n",
       "      <td>great</td>\n",
       "      <td>works</td>\n",
       "      <td>dying</td>\n",
       "      <td>buy</td>\n",
       "    </tr>\n",
       "  </tbody>\n",
       "</table>\n",
       "</div>"
      ],
      "text/plain": [
       "         0      1        2         3        4        5          6          7  \\\n",
       "0    phone   good  product   quality  headset      use  recommend  excellent   \n",
       "1      don  money    waste       buy     time  product       dont     wasted   \n",
       "2    great  phone    works     price  product     deal       item    working   \n",
       "3  battery   life     long  original    phone     good      great      works   \n",
       "\n",
       "        8        9  \n",
       "0    work    works  \n",
       "1    make  mistake  \n",
       "2  device   worked  \n",
       "3   dying      buy  "
      ]
     },
     "execution_count": 20,
     "metadata": {},
     "output_type": "execute_result"
    }
   ],
   "source": [
    "labels_km2 = km.fit_predict(pos)\n",
    "top10(words, labels_km2, pos)"
   ]
  }
 ],
 "metadata": {
  "kernelspec": {
   "display_name": "Python 3 (ipykernel)",
   "language": "python",
   "name": "python3"
  },
  "language_info": {
   "codemirror_mode": {
    "name": "ipython",
    "version": 3
   },
   "file_extension": ".py",
   "mimetype": "text/x-python",
   "name": "python",
   "nbconvert_exporter": "python",
   "pygments_lexer": "ipython3",
   "version": "3.9.12"
  }
 },
 "nbformat": 4,
 "nbformat_minor": 5
}
