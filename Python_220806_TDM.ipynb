{
 "cells": [
  {
   "cell_type": "markdown",
   "id": "a4dc2ca7",
   "metadata": {},
   "source": [
    "# 단어TDM(Term-Document Matrix)\n",
    "---\n",
    "형태소 분석을 바탕으로 TDM(단어 문서 행렬)만들기\n",
    "\n",
    "Vectorizer하여 단어 빈도 분석하기\n",
    "\n",
    "(Count: 단순 빈도 분석 / TF-IDF: 단어 희소가치 분석)"
   ]
  },
  {
   "cell_type": "markdown",
   "id": "e99d7143",
   "metadata": {},
   "source": [
    "# 뉴스 기사 TDM"
   ]
  },
  {
   "cell_type": "code",
   "execution_count": 1,
   "id": "918bbadf",
   "metadata": {},
   "outputs": [],
   "source": [
    "import pandas as pd"
   ]
  },
  {
   "cell_type": "code",
   "execution_count": 2,
   "id": "8c910e21",
   "metadata": {},
   "outputs": [],
   "source": [
    "df = pd.read_csv(\"한국방송통신전파진흥원_전파누리_최신뉴스_20210129.csv\",\n",
    "                encoding='cp949', engine='python')"
   ]
  },
  {
   "cell_type": "code",
   "execution_count": 3,
   "id": "4b357273",
   "metadata": {},
   "outputs": [
    {
     "data": {
      "text/plain": [
       "(540, 6)"
      ]
     },
     "execution_count": 3,
     "metadata": {},
     "output_type": "execute_result"
    }
   ],
   "source": [
    "df.shape"
   ]
  },
  {
   "cell_type": "code",
   "execution_count": 4,
   "id": "9156f5e0",
   "metadata": {},
   "outputs": [
    {
     "data": {
      "text/plain": [
       "Index(['제목', '내용', '조회수', '첨부파일명', '첨부파일 링크', '출처'], dtype='object')"
      ]
     },
     "execution_count": 4,
     "metadata": {},
     "output_type": "execute_result"
    }
   ],
   "source": [
    "df.columns"
   ]
  },
  {
   "cell_type": "code",
   "execution_count": 5,
   "id": "a0c33071",
   "metadata": {},
   "outputs": [
    {
     "data": {
      "text/plain": [
       "0    한국전자파학회가 발간하는 영문 학술지 'JEES'가 국제 과학기술 논문 인용색인 확...\n",
       "1    미국 AT&T가 39㎓ 밀리미터파 대역을 활용한 '5G플러스(5G+)' 서비스를 상...\n",
       "2    우리나라는 경쟁 활성화와 통신비 인하를 목표로 2010년부터 7차례 제4 이동통신사...\n",
       "3    과학기술정보통신부가 SK텔레콤 2세대(2G) 이동통신 가입자들의 민원 분석과 기지국...\n",
       "4    과학기술정보통신부가 공공용 주파수를 효율적으로 수급·관리하기 위한 업무처리지침을 마...\n",
       "Name: 내용, dtype: object"
      ]
     },
     "execution_count": 5,
     "metadata": {},
     "output_type": "execute_result"
    }
   ],
   "source": [
    "df['내용'].head()"
   ]
  },
  {
   "cell_type": "markdown",
   "id": "24bba290",
   "metadata": {},
   "source": [
    "#### count vectorizer"
   ]
  },
  {
   "cell_type": "code",
   "execution_count": 6,
   "id": "6edf6c8e",
   "metadata": {},
   "outputs": [],
   "source": [
    "from konlpy.tag import Komoran"
   ]
  },
  {
   "cell_type": "code",
   "execution_count": 7,
   "id": "3f0687b3",
   "metadata": {},
   "outputs": [],
   "source": [
    "tagger = Komoran()"
   ]
  },
  {
   "cell_type": "code",
   "execution_count": 8,
   "id": "1e8094ef",
   "metadata": {},
   "outputs": [],
   "source": [
    "def get_nouns(text):\n",
    "    nouns = tagger.nouns(text)\n",
    "    nouns = [word for word in nouns if len(word) > 1]\n",
    "    return nouns"
   ]
  },
  {
   "cell_type": "code",
   "execution_count": 9,
   "id": "c3c6926f",
   "metadata": {},
   "outputs": [],
   "source": [
    "from sklearn.feature_extraction.text import CountVectorizer"
   ]
  },
  {
   "cell_type": "code",
   "execution_count": 10,
   "id": "1f8a8cb8",
   "metadata": {},
   "outputs": [],
   "source": [
    "cv = CountVectorizer(max_features=1000, tokenizer = get_nouns)"
   ]
  },
  {
   "cell_type": "code",
   "execution_count": 11,
   "id": "cbac1c96",
   "metadata": {},
   "outputs": [],
   "source": [
    "tdm = cv.fit_transform(df['내용'])"
   ]
  },
  {
   "cell_type": "code",
   "execution_count": 12,
   "id": "c638015c",
   "metadata": {},
   "outputs": [
    {
     "name": "stderr",
     "output_type": "stream",
     "text": [
      "C:\\Users\\User\\anaconda3\\lib\\site-packages\\sklearn\\utils\\deprecation.py:87: FutureWarning: Function get_feature_names is deprecated; get_feature_names is deprecated in 1.0 and will be removed in 1.2. Please use get_feature_names_out instead.\n",
      "  warnings.warn(msg, category=FutureWarning)\n"
     ]
    },
    {
     "data": {
      "text/plain": [
       "['회의', '회장', '획득', '효과', '효율', '후보', '후속', '훈련', '휴대', '휴대폰']"
      ]
     },
     "execution_count": 12,
     "metadata": {},
     "output_type": "execute_result"
    }
   ],
   "source": [
    "cv.get_feature_names()[-10:]"
   ]
  },
  {
   "cell_type": "code",
   "execution_count": 13,
   "id": "6d83c434",
   "metadata": {},
   "outputs": [
    {
     "data": {
      "text/plain": [
       "<540x1000 sparse matrix of type '<class 'numpy.int64'>'\n",
       "\twith 16137 stored elements in Compressed Sparse Row format>"
      ]
     },
     "execution_count": 13,
     "metadata": {},
     "output_type": "execute_result"
    }
   ],
   "source": [
    "tdm"
   ]
  },
  {
   "cell_type": "markdown",
   "id": "99616385",
   "metadata": {},
   "source": [
    "#### Tfidf vectorizer"
   ]
  },
  {
   "cell_type": "code",
   "execution_count": 14,
   "id": "94bcee01",
   "metadata": {},
   "outputs": [],
   "source": [
    "from sklearn.feature_extraction.text import TfidfVectorizer\n",
    "from sklearn.feature_extraction.text import TfidfTransformer"
   ]
  },
  {
   "cell_type": "code",
   "execution_count": 15,
   "id": "2046f2f7",
   "metadata": {},
   "outputs": [],
   "source": [
    "tfidf = TfidfTransformer()"
   ]
  },
  {
   "cell_type": "code",
   "execution_count": 16,
   "id": "a84255fe",
   "metadata": {},
   "outputs": [],
   "source": [
    "tdm2 = tfidf.fit_transform(tdm)"
   ]
  },
  {
   "cell_type": "markdown",
   "id": "ddcba70f",
   "metadata": {},
   "source": [
    "#### 단어 비교"
   ]
  },
  {
   "cell_type": "code",
   "execution_count": 17,
   "id": "4c3a475f",
   "metadata": {},
   "outputs": [],
   "source": [
    "words = cv.get_feature_names()"
   ]
  },
  {
   "cell_type": "code",
   "execution_count": 18,
   "id": "483bcc05",
   "metadata": {},
   "outputs": [
    {
     "name": "stdout",
     "output_type": "stream",
     "text": [
      "결과 1\n",
      "과학기술 1\n",
      "구성 1\n",
      "국제 3\n",
      "기준 2\n",
      "발간 1\n",
      "우수 1\n",
      "전자파 1\n",
      "점수 1\n",
      "통과 1\n",
      "평가 1\n",
      "품질 1\n",
      "학회 1\n",
      "한국 1\n",
      "항목 2\n",
      "확장 1\n"
     ]
    }
   ],
   "source": [
    "for i, n in sorted(zip(tdm[0].indices, tdm[0].data)):\n",
    "    print(words[i], n)"
   ]
  },
  {
   "cell_type": "code",
   "execution_count": 19,
   "id": "c5e6800e",
   "metadata": {},
   "outputs": [
    {
     "name": "stdout",
     "output_type": "stream",
     "text": [
      "결과 0.1619983121646564\n",
      "과학기술 0.09401856636507744\n",
      "구성 0.16867880285062742\n",
      "국제 0.43704825177749196\n",
      "기준 0.3041618237966519\n",
      "발간 0.2317471773380904\n",
      "우수 0.22596027308497585\n",
      "전자파 0.19592107190255614\n",
      "점수 0.2384276680240614\n",
      "통과 0.19871800403304712\n",
      "평가 0.15307721799666532\n",
      "품질 0.1672577769673222\n",
      "학회 0.25599947426739555\n",
      "한국 0.1672577769673222\n",
      "항목 0.4634943546761808\n",
      "확장 0.2317471773380904\n"
     ]
    }
   ],
   "source": [
    "for i, n in sorted(zip(tdm2[0].indices, tdm2[0].data)):\n",
    "    print(words[i], n)"
   ]
  },
  {
   "cell_type": "markdown",
   "id": "180710b6",
   "metadata": {},
   "source": [
    "#### 저장"
   ]
  },
  {
   "cell_type": "code",
   "execution_count": 20,
   "id": "4104b278",
   "metadata": {},
   "outputs": [],
   "source": [
    "import joblib"
   ]
  },
  {
   "cell_type": "code",
   "execution_count": 21,
   "id": "a9751206",
   "metadata": {},
   "outputs": [],
   "source": [
    "with open('ai_news_tfidf.pkl', 'wb') as f:\n",
    "    joblib.dump(\n",
    "        {'vectorizer' : tfidf, 'tdm' :tdm2},\n",
    "        f\n",
    "    )"
   ]
  },
  {
   "cell_type": "code",
   "execution_count": 22,
   "id": "90f0b076",
   "metadata": {},
   "outputs": [],
   "source": [
    "with open('ai_news_count.pkl', 'wb') as f:\n",
    "    joblib.dump(\n",
    "        {'vectorizer' : cv, 'tdm' :tdm},\n",
    "        f\n",
    "    )"
   ]
  },
  {
   "cell_type": "markdown",
   "id": "0793e264",
   "metadata": {},
   "source": [
    "# 아마존 제품 리뷰 TDM"
   ]
  },
  {
   "cell_type": "code",
   "execution_count": 23,
   "id": "170400c6",
   "metadata": {},
   "outputs": [],
   "source": [
    "df_2 = pd.read_csv('amazon_cells_labelled.txt', sep='\\t', header=None)"
   ]
  },
  {
   "cell_type": "code",
   "execution_count": 24,
   "id": "724123f4",
   "metadata": {},
   "outputs": [
    {
     "data": {
      "text/html": [
       "<div>\n",
       "<style scoped>\n",
       "    .dataframe tbody tr th:only-of-type {\n",
       "        vertical-align: middle;\n",
       "    }\n",
       "\n",
       "    .dataframe tbody tr th {\n",
       "        vertical-align: top;\n",
       "    }\n",
       "\n",
       "    .dataframe thead th {\n",
       "        text-align: right;\n",
       "    }\n",
       "</style>\n",
       "<table border=\"1\" class=\"dataframe\">\n",
       "  <thead>\n",
       "    <tr style=\"text-align: right;\">\n",
       "      <th></th>\n",
       "      <th>0</th>\n",
       "      <th>1</th>\n",
       "    </tr>\n",
       "  </thead>\n",
       "  <tbody>\n",
       "    <tr>\n",
       "      <th>0</th>\n",
       "      <td>So there is no way for me to plug it in here i...</td>\n",
       "      <td>0</td>\n",
       "    </tr>\n",
       "    <tr>\n",
       "      <th>1</th>\n",
       "      <td>Good case, Excellent value.</td>\n",
       "      <td>1</td>\n",
       "    </tr>\n",
       "    <tr>\n",
       "      <th>2</th>\n",
       "      <td>Great for the jawbone.</td>\n",
       "      <td>1</td>\n",
       "    </tr>\n",
       "    <tr>\n",
       "      <th>3</th>\n",
       "      <td>Tied to charger for conversations lasting more...</td>\n",
       "      <td>0</td>\n",
       "    </tr>\n",
       "    <tr>\n",
       "      <th>4</th>\n",
       "      <td>The mic is great.</td>\n",
       "      <td>1</td>\n",
       "    </tr>\n",
       "  </tbody>\n",
       "</table>\n",
       "</div>"
      ],
      "text/plain": [
       "                                                   0  1\n",
       "0  So there is no way for me to plug it in here i...  0\n",
       "1                        Good case, Excellent value.  1\n",
       "2                             Great for the jawbone.  1\n",
       "3  Tied to charger for conversations lasting more...  0\n",
       "4                                  The mic is great.  1"
      ]
     },
     "execution_count": 24,
     "metadata": {},
     "output_type": "execute_result"
    }
   ],
   "source": [
    "df_2.head()"
   ]
  },
  {
   "cell_type": "code",
   "execution_count": 25,
   "id": "1fa971d4",
   "metadata": {},
   "outputs": [],
   "source": [
    "content = df_2[0]"
   ]
  },
  {
   "cell_type": "code",
   "execution_count": 26,
   "id": "a4ea81d8",
   "metadata": {},
   "outputs": [],
   "source": [
    "sentiment = df_2[1]"
   ]
  },
  {
   "cell_type": "code",
   "execution_count": 27,
   "id": "4f09f54e",
   "metadata": {},
   "outputs": [
    {
     "data": {
      "text/html": [
       "<div>\n",
       "<style scoped>\n",
       "    .dataframe tbody tr th:only-of-type {\n",
       "        vertical-align: middle;\n",
       "    }\n",
       "\n",
       "    .dataframe tbody tr th {\n",
       "        vertical-align: top;\n",
       "    }\n",
       "\n",
       "    .dataframe thead th {\n",
       "        text-align: right;\n",
       "    }\n",
       "</style>\n",
       "<table border=\"1\" class=\"dataframe\">\n",
       "  <thead>\n",
       "    <tr style=\"text-align: right;\">\n",
       "      <th></th>\n",
       "      <th>0</th>\n",
       "      <th>1</th>\n",
       "    </tr>\n",
       "  </thead>\n",
       "  <tbody>\n",
       "    <tr>\n",
       "      <th>0</th>\n",
       "      <td>So there is no way for me to plug it in here i...</td>\n",
       "      <td>0</td>\n",
       "    </tr>\n",
       "    <tr>\n",
       "      <th>1</th>\n",
       "      <td>Good case, Excellent value.</td>\n",
       "      <td>1</td>\n",
       "    </tr>\n",
       "    <tr>\n",
       "      <th>2</th>\n",
       "      <td>Great for the jawbone.</td>\n",
       "      <td>1</td>\n",
       "    </tr>\n",
       "    <tr>\n",
       "      <th>3</th>\n",
       "      <td>Tied to charger for conversations lasting more...</td>\n",
       "      <td>0</td>\n",
       "    </tr>\n",
       "    <tr>\n",
       "      <th>4</th>\n",
       "      <td>The mic is great.</td>\n",
       "      <td>1</td>\n",
       "    </tr>\n",
       "  </tbody>\n",
       "</table>\n",
       "</div>"
      ],
      "text/plain": [
       "                                                   0  1\n",
       "0  So there is no way for me to plug it in here i...  0\n",
       "1                        Good case, Excellent value.  1\n",
       "2                             Great for the jawbone.  1\n",
       "3  Tied to charger for conversations lasting more...  0\n",
       "4                                  The mic is great.  1"
      ]
     },
     "execution_count": 27,
     "metadata": {},
     "output_type": "execute_result"
    }
   ],
   "source": [
    "df_2.head()"
   ]
  },
  {
   "cell_type": "code",
   "execution_count": 28,
   "id": "684204e6",
   "metadata": {},
   "outputs": [],
   "source": [
    "from sklearn.feature_extraction.text import TfidfVectorizer"
   ]
  },
  {
   "cell_type": "code",
   "execution_count": 29,
   "id": "4851097e",
   "metadata": {},
   "outputs": [],
   "source": [
    " # stop_words 기존에 만들어져 있는 불필요한 단어set 필터링 영어만 있음\n",
    "tfidf = TfidfVectorizer(stop_words='english',\n",
    "                       lowercase=True,\n",
    "                       max_features=1000)"
   ]
  },
  {
   "cell_type": "code",
   "execution_count": 30,
   "id": "a5f39787",
   "metadata": {},
   "outputs": [],
   "source": [
    "tdm3 = tfidf.fit_transform(content)"
   ]
  },
  {
   "cell_type": "code",
   "execution_count": 31,
   "id": "bd01df8c",
   "metadata": {},
   "outputs": [
    {
     "data": {
      "text/plain": [
       "<1000x1000 sparse matrix of type '<class 'numpy.float64'>'\n",
       "\twith 4060 stored elements in Compressed Sparse Row format>"
      ]
     },
     "execution_count": 31,
     "metadata": {},
     "output_type": "execute_result"
    }
   ],
   "source": [
    "tdm3"
   ]
  },
  {
   "cell_type": "code",
   "execution_count": 32,
   "id": "a4ef9a55",
   "metadata": {},
   "outputs": [
    {
     "name": "stderr",
     "output_type": "stream",
     "text": [
      "C:\\Users\\User\\anaconda3\\lib\\site-packages\\sklearn\\utils\\deprecation.py:87: FutureWarning: Function get_feature_names is deprecated; get_feature_names is deprecated in 1.0 and will be removed in 1.2. Please use get_feature_names_out instead.\n",
      "  warnings.warn(msg, category=FutureWarning)\n"
     ]
    },
    {
     "data": {
      "text/plain": [
       "['worthless',\n",
       " 'worthwhile',\n",
       " 'wouldn',\n",
       " 'wow',\n",
       " 'wrong',\n",
       " 'wrongly',\n",
       " 'year',\n",
       " 'years',\n",
       " 'yell',\n",
       " 'yes']"
      ]
     },
     "execution_count": 32,
     "metadata": {},
     "output_type": "execute_result"
    }
   ],
   "source": [
    "tfidf.get_feature_names()[-10:]"
   ]
  },
  {
   "cell_type": "code",
   "execution_count": 33,
   "id": "964cbbc9",
   "metadata": {},
   "outputs": [],
   "source": [
    "import joblib"
   ]
  },
  {
   "cell_type": "code",
   "execution_count": 34,
   "id": "29f55add",
   "metadata": {},
   "outputs": [],
   "source": [
    "with open('amazon.pkl', 'wb') as f:\n",
    "    joblib.dump(\n",
    "        {'vectorizer' : tfidf, 'tdm': tdm3, 'sentiment' : sentiment},\n",
    "        f\n",
    "    )"
   ]
  }
 ],
 "metadata": {
  "kernelspec": {
   "display_name": "Python 3 (ipykernel)",
   "language": "python",
   "name": "python3"
  },
  "language_info": {
   "codemirror_mode": {
    "name": "ipython",
    "version": 3
   },
   "file_extension": ".py",
   "mimetype": "text/x-python",
   "name": "python",
   "nbconvert_exporter": "python",
   "pygments_lexer": "ipython3",
   "version": "3.9.12"
  }
 },
 "nbformat": 4,
 "nbformat_minor": 5
}
