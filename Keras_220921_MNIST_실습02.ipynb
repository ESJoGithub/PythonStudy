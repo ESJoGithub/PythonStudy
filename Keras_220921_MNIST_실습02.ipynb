{
  "nbformat": 4,
  "nbformat_minor": 0,
  "metadata": {
    "colab": {
      "provenance": [],
      "collapsed_sections": [],
      "mount_file_id": "1DmK2zLLoX3sSbBpJuPT4kOGTz-S67O0A",
      "authorship_tag": "ABX9TyPBY+QWUNt/KnwCFWR9+bQr",
      "include_colab_link": true
    },
    "kernelspec": {
      "name": "python3",
      "display_name": "Python 3"
    },
    "language_info": {
      "name": "python"
    }
  },
  "cells": [
    {
      "cell_type": "markdown",
      "metadata": {
        "id": "view-in-github",
        "colab_type": "text"
      },
      "source": [
        "<a href=\"https://colab.research.google.com/github/ESJoGithub/PythonStudy/blob/main/Keras_220921_MNIST_%EC%8B%A4%EC%8A%B502.ipynb\" target=\"_parent\"><img src=\"https://colab.research.google.com/assets/colab-badge.svg\" alt=\"Open In Colab\"/></a>"
      ]
    },
    {
      "cell_type": "code",
      "source": [
        "from google.colab import drive\n",
        "drive.mount('/content/drive')"
      ],
      "metadata": {
        "colab": {
          "base_uri": "https://localhost:8080/"
        },
        "id": "oxtO2zTTtPq3",
        "outputId": "de0cf5fc-e06c-4f32-c4a4-9a5ba203789d"
      },
      "execution_count": 36,
      "outputs": [
        {
          "output_type": "stream",
          "name": "stdout",
          "text": [
            "Drive already mounted at /content/drive; to attempt to forcibly remount, call drive.mount(\"/content/drive\", force_remount=True).\n"
          ]
        }
      ]
    },
    {
      "cell_type": "code",
      "source": [
        "!ln -s /content/drive/MyDrive /mydrive"
      ],
      "metadata": {
        "id": "e2ZTrV_htIFl",
        "colab": {
          "base_uri": "https://localhost:8080/"
        },
        "outputId": "0f8255d0-4506-4e30-d670-0812a6dfbc99"
      },
      "execution_count": 37,
      "outputs": [
        {
          "output_type": "stream",
          "name": "stdout",
          "text": [
            "ln: failed to create symbolic link '/mydrive/MyDrive': Input/output error\n"
          ]
        }
      ]
    },
    {
      "cell_type": "code",
      "source": [
        "%cd /mydrive"
      ],
      "metadata": {
        "colab": {
          "base_uri": "https://localhost:8080/"
        },
        "id": "B9ry3cBStVU1",
        "outputId": "da0aa823-8b23-4187-d650-98fac6807c96"
      },
      "execution_count": 38,
      "outputs": [
        {
          "output_type": "stream",
          "name": "stdout",
          "text": [
            "/content/drive/MyDrive\n"
          ]
        }
      ]
    },
    {
      "cell_type": "code",
      "source": [
        "!mkdir mnist"
      ],
      "metadata": {
        "id": "98FN5iLDtXqb",
        "colab": {
          "base_uri": "https://localhost:8080/"
        },
        "outputId": "06e1cc09-f5e2-4c51-c9ab-3a790149edea"
      },
      "execution_count": 39,
      "outputs": [
        {
          "output_type": "stream",
          "name": "stdout",
          "text": [
            "mkdir: cannot create directory ‘mnist’: File exists\n"
          ]
        }
      ]
    },
    {
      "cell_type": "markdown",
      "source": [
        "## __NN Layer 구조 변경 & 드롭아웃 일괄적용__\n",
        "---\n",
        "epoch수를 늘리고 callback함수를 넣되 patience 횟수를 키운다.\n",
        "\n",
        "SGD, adam, rmsprop 각 optimizer별 batch_size를 변경해볼 것"
      ],
      "metadata": {
        "id": "19CLRpWxwL5T"
      }
    },
    {
      "cell_type": "markdown",
      "source": [
        "### **1. Library Import**"
      ],
      "metadata": {
        "id": "9Tx44ggmYNsD"
      }
    },
    {
      "cell_type": "code",
      "source": [
        "from keras import datasets, layers, models                \n",
        "from tensorflow import keras                         # to_categorical 함수\n",
        "from tensorflow.keras.models import load_model\n",
        "from tensorflow.keras.callbacks import EarlyStopping, ModelCheckpoint\n",
        "\n",
        "import numpy as np\n",
        "import matplotlib.pyplot as plt\n",
        "import pandas as pd"
      ],
      "metadata": {
        "id": "UFco5dLCQBQF"
      },
      "execution_count": 40,
      "outputs": []
    },
    {
      "cell_type": "code",
      "source": [
        "(train_imgs, train_labels), (test_imgs, test_labels) = datasets.mnist.load_data()"
      ],
      "metadata": {
        "id": "rwcqMzdKTPwN"
      },
      "execution_count": 41,
      "outputs": []
    },
    {
      "cell_type": "markdown",
      "source": [
        "### **2. 데이터 확인 및 전처리**"
      ],
      "metadata": {
        "id": "vcIHfL7pYJps"
      }
    },
    {
      "cell_type": "code",
      "source": [
        "train_imgs = train_imgs/255.0\n",
        "test_imgs = test_imgs/255.0"
      ],
      "metadata": {
        "id": "w4IFaKuOYIfc"
      },
      "execution_count": 42,
      "outputs": []
    },
    {
      "cell_type": "code",
      "source": [
        "print(train_imgs.shape)\n",
        "print(test_imgs.shape)"
      ],
      "metadata": {
        "colab": {
          "base_uri": "https://localhost:8080/"
        },
        "id": "A9ujYrDMiRy1",
        "outputId": "265e5db4-9149-4520-8582-14ca012c56f2"
      },
      "execution_count": 43,
      "outputs": [
        {
          "output_type": "stream",
          "name": "stdout",
          "text": [
            "(60000, 28, 28)\n",
            "(10000, 28, 28)\n"
          ]
        }
      ]
    },
    {
      "cell_type": "code",
      "source": [
        "train_imgs = train_imgs.reshape((60000, 28, 28, 1))\n",
        "test_imgs = test_imgs.reshape((10000, 28, 28, 1))"
      ],
      "metadata": {
        "id": "5IGxhDfjiN7d"
      },
      "execution_count": 44,
      "outputs": []
    },
    {
      "cell_type": "code",
      "source": [
        "train_labels = keras.utils.to_categorical(train_labels, num_classes=10)\n",
        "test_labels = keras.utils.to_categorical(test_labels, num_classes=10)"
      ],
      "metadata": {
        "id": "ouDs40X-n_uw"
      },
      "execution_count": 45,
      "outputs": []
    },
    {
      "cell_type": "markdown",
      "source": [
        "### __모델 변경__\n",
        "\n",
        "---\n",
        "CNN 특성 및 MNIST 자료 특성을 고려할 때, 초기의 세부적인 데이터 정보보다 여러 필터를 거치고난 후의 구조적인 특징정보가 판단에 더 중요할 것이라고 가정하고 출력층에 가까울수록 필터 수를 점점 키워나가는 방식으로 수정\n",
        "\n",
        "Dropout 추가 (64-0.2, 128-0.5)\n",
        "epoch=100 EarlyStop patient = 10으로 키워서 진행해본다. "
      ],
      "metadata": {
        "id": "NTqxfKdbYvVL"
      }
    },
    {
      "cell_type": "markdown",
      "source": [
        "#### __1. batch_size=128, 출력 직전층 activation='sigmoid', optimizer='SGD'__ "
      ],
      "metadata": {
        "id": "CMdQEIi7gG_d"
      }
    },
    {
      "cell_type": "code",
      "source": [
        "import keras"
      ],
      "metadata": {
        "id": "EtDrGU7LlR96"
      },
      "execution_count": 46,
      "outputs": []
    },
    {
      "cell_type": "code",
      "source": [
        "model_1 = keras.Sequential([\n",
        "  layers.Conv2D(32, (3, 3), activation='relu', input_shape=(28, 28, 1)),\n",
        "  layers.MaxPooling2D((2, 2)),\n",
        "  layers.Dropout(0.2),\n",
        "  layers.Conv2D(64, (3, 3), activation='relu'),\n",
        "  layers.Dropout(0.2),\n",
        "  layers.MaxPooling2D((2, 2)),\n",
        "  layers.Conv2D(128, (3, 3), activation='relu'),\n",
        "  layers.Dropout(0.5),\n",
        "  layers.Flatten(),\n",
        "  layers.Dense(64, activation = 'sigmoid'),\n",
        "  layers.Dense(10, activation = 'softmax')\n",
        "])\n",
        "model_1.summary()"
      ],
      "metadata": {
        "id": "LSy5b6TEYmJj",
        "colab": {
          "base_uri": "https://localhost:8080/"
        },
        "outputId": "1941ed90-b396-4556-e628-86fb0e350c26"
      },
      "execution_count": 47,
      "outputs": [
        {
          "output_type": "stream",
          "name": "stdout",
          "text": [
            "Model: \"sequential_3\"\n",
            "_________________________________________________________________\n",
            " Layer (type)                Output Shape              Param #   \n",
            "=================================================================\n",
            " conv2d_9 (Conv2D)           (None, 26, 26, 32)        320       \n",
            "                                                                 \n",
            " max_pooling2d_6 (MaxPooling  (None, 13, 13, 32)       0         \n",
            " 2D)                                                             \n",
            "                                                                 \n",
            " dropout_9 (Dropout)         (None, 13, 13, 32)        0         \n",
            "                                                                 \n",
            " conv2d_10 (Conv2D)          (None, 11, 11, 64)        18496     \n",
            "                                                                 \n",
            " dropout_10 (Dropout)        (None, 11, 11, 64)        0         \n",
            "                                                                 \n",
            " max_pooling2d_7 (MaxPooling  (None, 5, 5, 64)         0         \n",
            " 2D)                                                             \n",
            "                                                                 \n",
            " conv2d_11 (Conv2D)          (None, 3, 3, 128)         73856     \n",
            "                                                                 \n",
            " dropout_11 (Dropout)        (None, 3, 3, 128)         0         \n",
            "                                                                 \n",
            " flatten_3 (Flatten)         (None, 1152)              0         \n",
            "                                                                 \n",
            " dense_6 (Dense)             (None, 64)                73792     \n",
            "                                                                 \n",
            " dense_7 (Dense)             (None, 10)                650       \n",
            "                                                                 \n",
            "=================================================================\n",
            "Total params: 167,114\n",
            "Trainable params: 167,114\n",
            "Non-trainable params: 0\n",
            "_________________________________________________________________\n"
          ]
        }
      ]
    },
    {
      "cell_type": "code",
      "source": [
        "model_1.compile(optimizer=\"SGD\", loss=\"categorical_crossentropy\", metrics=[\"accuracy\"])"
      ],
      "metadata": {
        "id": "rIRHwKY3gm2w"
      },
      "execution_count": 48,
      "outputs": []
    },
    {
      "cell_type": "code",
      "source": [
        "es = EarlyStopping(monitor='val_loss', mode='min', verbose=1, patience=10)\n",
        "mc = ModelCheckpoint('mnist/model_1.h1', monitor='val_accuracy', mode='max', verbose=1, save_best_only=True)\n",
        "hist_1 = model_1.fit(train_imgs, train_labels, epochs=100, batch_size=128, validation_split=0.2, callbacks=[es, mc])"
      ],
      "metadata": {
        "colab": {
          "base_uri": "https://localhost:8080/"
        },
        "id": "rmGRWjkknkZo",
        "outputId": "79545fb1-b898-4c39-fa09-9e00896d150d"
      },
      "execution_count": 49,
      "outputs": [
        {
          "output_type": "stream",
          "name": "stdout",
          "text": [
            "Epoch 1/100\n",
            "372/375 [============================>.] - ETA: 0s - loss: 2.2898 - accuracy: 0.1577\n",
            "Epoch 1: val_accuracy improved from -inf to 0.20225, saving model to mnist/model_1.h1\n",
            "375/375 [==============================] - 5s 13ms/step - loss: 2.2894 - accuracy: 0.1587 - val_loss: 2.2506 - val_accuracy: 0.2023\n",
            "Epoch 2/100\n",
            "370/375 [============================>.] - ETA: 0s - loss: 2.0079 - accuracy: 0.4366\n",
            "Epoch 2: val_accuracy improved from 0.20225 to 0.67358, saving model to mnist/model_1.h1\n",
            "375/375 [==============================] - 5s 14ms/step - loss: 2.0028 - accuracy: 0.4382 - val_loss: 1.5649 - val_accuracy: 0.6736\n",
            "Epoch 3/100\n",
            "368/375 [============================>.] - ETA: 0s - loss: 1.2453 - accuracy: 0.6693\n",
            "Epoch 3: val_accuracy improved from 0.67358 to 0.80558, saving model to mnist/model_1.h1\n",
            "375/375 [==============================] - 5s 14ms/step - loss: 1.2407 - accuracy: 0.6709 - val_loss: 0.8703 - val_accuracy: 0.8056\n",
            "Epoch 4/100\n",
            "370/375 [============================>.] - ETA: 0s - loss: 0.8550 - accuracy: 0.7746\n",
            "Epoch 4: val_accuracy improved from 0.80558 to 0.86033, saving model to mnist/model_1.h1\n",
            "375/375 [==============================] - 4s 10ms/step - loss: 0.8534 - accuracy: 0.7750 - val_loss: 0.6156 - val_accuracy: 0.8603\n",
            "Epoch 5/100\n",
            "370/375 [============================>.] - ETA: 0s - loss: 0.6756 - accuracy: 0.8229\n",
            "Epoch 5: val_accuracy improved from 0.86033 to 0.88308, saving model to mnist/model_1.h1\n",
            "375/375 [==============================] - 5s 12ms/step - loss: 0.6753 - accuracy: 0.8229 - val_loss: 0.4892 - val_accuracy: 0.8831\n",
            "Epoch 6/100\n",
            "373/375 [============================>.] - ETA: 0s - loss: 0.5672 - accuracy: 0.8499\n",
            "Epoch 6: val_accuracy improved from 0.88308 to 0.90142, saving model to mnist/model_1.h1\n",
            "375/375 [==============================] - 3s 9ms/step - loss: 0.5666 - accuracy: 0.8501 - val_loss: 0.4049 - val_accuracy: 0.9014\n",
            "Epoch 7/100\n",
            "370/375 [============================>.] - ETA: 0s - loss: 0.4949 - accuracy: 0.8691\n",
            "Epoch 7: val_accuracy improved from 0.90142 to 0.91217, saving model to mnist/model_1.h1\n",
            "375/375 [==============================] - 3s 9ms/step - loss: 0.4943 - accuracy: 0.8693 - val_loss: 0.3503 - val_accuracy: 0.9122\n",
            "Epoch 8/100\n",
            "375/375 [==============================] - ETA: 0s - loss: 0.4363 - accuracy: 0.8828\n",
            "Epoch 8: val_accuracy improved from 0.91217 to 0.92200, saving model to mnist/model_1.h1\n",
            "375/375 [==============================] - 3s 9ms/step - loss: 0.4363 - accuracy: 0.8828 - val_loss: 0.3054 - val_accuracy: 0.9220\n",
            "Epoch 9/100\n",
            "373/375 [============================>.] - ETA: 0s - loss: 0.3914 - accuracy: 0.8942\n",
            "Epoch 9: val_accuracy improved from 0.92200 to 0.92942, saving model to mnist/model_1.h1\n",
            "375/375 [==============================] - 3s 9ms/step - loss: 0.3918 - accuracy: 0.8941 - val_loss: 0.2708 - val_accuracy: 0.9294\n",
            "Epoch 10/100\n",
            "369/375 [============================>.] - ETA: 0s - loss: 0.3568 - accuracy: 0.9017\n",
            "Epoch 10: val_accuracy improved from 0.92942 to 0.93692, saving model to mnist/model_1.h1\n",
            "375/375 [==============================] - 3s 9ms/step - loss: 0.3569 - accuracy: 0.9018 - val_loss: 0.2439 - val_accuracy: 0.9369\n",
            "Epoch 11/100\n",
            "370/375 [============================>.] - ETA: 0s - loss: 0.3292 - accuracy: 0.9096\n",
            "Epoch 11: val_accuracy improved from 0.93692 to 0.94208, saving model to mnist/model_1.h1\n",
            "375/375 [==============================] - 3s 8ms/step - loss: 0.3296 - accuracy: 0.9095 - val_loss: 0.2237 - val_accuracy: 0.9421\n",
            "Epoch 12/100\n",
            "371/375 [============================>.] - ETA: 0s - loss: 0.3050 - accuracy: 0.9143\n",
            "Epoch 12: val_accuracy improved from 0.94208 to 0.94717, saving model to mnist/model_1.h1\n",
            "375/375 [==============================] - 3s 9ms/step - loss: 0.3045 - accuracy: 0.9146 - val_loss: 0.2054 - val_accuracy: 0.9472\n",
            "Epoch 13/100\n",
            "367/375 [============================>.] - ETA: 0s - loss: 0.2819 - accuracy: 0.9213\n",
            "Epoch 13: val_accuracy improved from 0.94717 to 0.95067, saving model to mnist/model_1.h1\n",
            "375/375 [==============================] - 3s 9ms/step - loss: 0.2827 - accuracy: 0.9211 - val_loss: 0.1915 - val_accuracy: 0.9507\n",
            "Epoch 14/100\n",
            "369/375 [============================>.] - ETA: 0s - loss: 0.2663 - accuracy: 0.9252\n",
            "Epoch 14: val_accuracy improved from 0.95067 to 0.95292, saving model to mnist/model_1.h1\n",
            "375/375 [==============================] - 3s 9ms/step - loss: 0.2668 - accuracy: 0.9251 - val_loss: 0.1824 - val_accuracy: 0.9529\n",
            "Epoch 15/100\n",
            "369/375 [============================>.] - ETA: 0s - loss: 0.2519 - accuracy: 0.9280\n",
            "Epoch 15: val_accuracy improved from 0.95292 to 0.95733, saving model to mnist/model_1.h1\n",
            "375/375 [==============================] - 3s 9ms/step - loss: 0.2517 - accuracy: 0.9282 - val_loss: 0.1671 - val_accuracy: 0.9573\n",
            "Epoch 16/100\n",
            "370/375 [============================>.] - ETA: 0s - loss: 0.2375 - accuracy: 0.9325\n",
            "Epoch 16: val_accuracy did not improve from 0.95733\n",
            "375/375 [==============================] - 2s 6ms/step - loss: 0.2374 - accuracy: 0.9325 - val_loss: 0.1583 - val_accuracy: 0.9572\n",
            "Epoch 17/100\n",
            "371/375 [============================>.] - ETA: 0s - loss: 0.2275 - accuracy: 0.9368\n",
            "Epoch 17: val_accuracy improved from 0.95733 to 0.95783, saving model to mnist/model_1.h1\n",
            "375/375 [==============================] - 3s 9ms/step - loss: 0.2274 - accuracy: 0.9369 - val_loss: 0.1523 - val_accuracy: 0.9578\n",
            "Epoch 18/100\n",
            "367/375 [============================>.] - ETA: 0s - loss: 0.2174 - accuracy: 0.9375\n",
            "Epoch 18: val_accuracy improved from 0.95783 to 0.96100, saving model to mnist/model_1.h1\n",
            "375/375 [==============================] - 3s 9ms/step - loss: 0.2178 - accuracy: 0.9374 - val_loss: 0.1455 - val_accuracy: 0.9610\n",
            "Epoch 19/100\n",
            "371/375 [============================>.] - ETA: 0s - loss: 0.2083 - accuracy: 0.9406\n",
            "Epoch 19: val_accuracy improved from 0.96100 to 0.96325, saving model to mnist/model_1.h1\n",
            "375/375 [==============================] - 3s 9ms/step - loss: 0.2079 - accuracy: 0.9408 - val_loss: 0.1369 - val_accuracy: 0.9632\n",
            "Epoch 20/100\n",
            "375/375 [==============================] - ETA: 0s - loss: 0.2019 - accuracy: 0.9421\n",
            "Epoch 20: val_accuracy improved from 0.96325 to 0.96350, saving model to mnist/model_1.h1\n",
            "375/375 [==============================] - 3s 9ms/step - loss: 0.2019 - accuracy: 0.9421 - val_loss: 0.1320 - val_accuracy: 0.9635\n",
            "Epoch 21/100\n",
            "375/375 [==============================] - ETA: 0s - loss: 0.1950 - accuracy: 0.9431\n",
            "Epoch 21: val_accuracy improved from 0.96350 to 0.96458, saving model to mnist/model_1.h1\n",
            "375/375 [==============================] - 4s 11ms/step - loss: 0.1950 - accuracy: 0.9431 - val_loss: 0.1282 - val_accuracy: 0.9646\n",
            "Epoch 22/100\n",
            "370/375 [============================>.] - ETA: 0s - loss: 0.1870 - accuracy: 0.9461\n",
            "Epoch 22: val_accuracy improved from 0.96458 to 0.96642, saving model to mnist/model_1.h1\n",
            "375/375 [==============================] - 3s 9ms/step - loss: 0.1872 - accuracy: 0.9460 - val_loss: 0.1225 - val_accuracy: 0.9664\n",
            "Epoch 23/100\n",
            "372/375 [============================>.] - ETA: 0s - loss: 0.1826 - accuracy: 0.9480\n",
            "Epoch 23: val_accuracy improved from 0.96642 to 0.96700, saving model to mnist/model_1.h1\n",
            "375/375 [==============================] - 3s 9ms/step - loss: 0.1828 - accuracy: 0.9478 - val_loss: 0.1188 - val_accuracy: 0.9670\n",
            "Epoch 24/100\n",
            "370/375 [============================>.] - ETA: 0s - loss: 0.1755 - accuracy: 0.9488\n",
            "Epoch 24: val_accuracy improved from 0.96700 to 0.96717, saving model to mnist/model_1.h1\n",
            "375/375 [==============================] - 3s 9ms/step - loss: 0.1751 - accuracy: 0.9489 - val_loss: 0.1166 - val_accuracy: 0.9672\n",
            "Epoch 25/100\n",
            "373/375 [============================>.] - ETA: 0s - loss: 0.1730 - accuracy: 0.9500\n",
            "Epoch 25: val_accuracy improved from 0.96717 to 0.96917, saving model to mnist/model_1.h1\n",
            "375/375 [==============================] - 3s 9ms/step - loss: 0.1730 - accuracy: 0.9499 - val_loss: 0.1125 - val_accuracy: 0.9692\n",
            "Epoch 26/100\n",
            "370/375 [============================>.] - ETA: 0s - loss: 0.1673 - accuracy: 0.9510\n",
            "Epoch 26: val_accuracy improved from 0.96917 to 0.96942, saving model to mnist/model_1.h1\n",
            "375/375 [==============================] - 5s 12ms/step - loss: 0.1672 - accuracy: 0.9511 - val_loss: 0.1098 - val_accuracy: 0.9694\n",
            "Epoch 27/100\n",
            "370/375 [============================>.] - ETA: 0s - loss: 0.1619 - accuracy: 0.9534\n",
            "Epoch 27: val_accuracy improved from 0.96942 to 0.97067, saving model to mnist/model_1.h1\n",
            "375/375 [==============================] - 3s 9ms/step - loss: 0.1623 - accuracy: 0.9533 - val_loss: 0.1065 - val_accuracy: 0.9707\n",
            "Epoch 28/100\n",
            "372/375 [============================>.] - ETA: 0s - loss: 0.1569 - accuracy: 0.9538\n",
            "Epoch 28: val_accuracy improved from 0.97067 to 0.97125, saving model to mnist/model_1.h1\n",
            "375/375 [==============================] - 3s 9ms/step - loss: 0.1568 - accuracy: 0.9538 - val_loss: 0.1041 - val_accuracy: 0.9712\n",
            "Epoch 29/100\n",
            "370/375 [============================>.] - ETA: 0s - loss: 0.1548 - accuracy: 0.9545\n",
            "Epoch 29: val_accuracy improved from 0.97125 to 0.97183, saving model to mnist/model_1.h1\n",
            "375/375 [==============================] - 3s 9ms/step - loss: 0.1551 - accuracy: 0.9544 - val_loss: 0.0999 - val_accuracy: 0.9718\n",
            "Epoch 30/100\n",
            "374/375 [============================>.] - ETA: 0s - loss: 0.1522 - accuracy: 0.9541\n",
            "Epoch 30: val_accuracy improved from 0.97183 to 0.97242, saving model to mnist/model_1.h1\n",
            "375/375 [==============================] - 3s 9ms/step - loss: 0.1520 - accuracy: 0.9542 - val_loss: 0.0981 - val_accuracy: 0.9724\n",
            "Epoch 31/100\n",
            "371/375 [============================>.] - ETA: 0s - loss: 0.1486 - accuracy: 0.9551\n",
            "Epoch 31: val_accuracy improved from 0.97242 to 0.97300, saving model to mnist/model_1.h1\n",
            "375/375 [==============================] - 3s 9ms/step - loss: 0.1484 - accuracy: 0.9551 - val_loss: 0.0973 - val_accuracy: 0.9730\n",
            "Epoch 32/100\n",
            "371/375 [============================>.] - ETA: 0s - loss: 0.1458 - accuracy: 0.9561\n",
            "Epoch 32: val_accuracy improved from 0.97300 to 0.97350, saving model to mnist/model_1.h1\n",
            "375/375 [==============================] - 3s 9ms/step - loss: 0.1457 - accuracy: 0.9562 - val_loss: 0.0946 - val_accuracy: 0.9735\n",
            "Epoch 33/100\n",
            "372/375 [============================>.] - ETA: 0s - loss: 0.1405 - accuracy: 0.9579\n",
            "Epoch 33: val_accuracy did not improve from 0.97350\n",
            "375/375 [==============================] - 2s 6ms/step - loss: 0.1403 - accuracy: 0.9579 - val_loss: 0.0929 - val_accuracy: 0.9732\n",
            "Epoch 34/100\n",
            "375/375 [==============================] - ETA: 0s - loss: 0.1360 - accuracy: 0.9604\n",
            "Epoch 34: val_accuracy improved from 0.97350 to 0.97400, saving model to mnist/model_1.h1\n",
            "375/375 [==============================] - 3s 8ms/step - loss: 0.1360 - accuracy: 0.9604 - val_loss: 0.0906 - val_accuracy: 0.9740\n",
            "Epoch 35/100\n",
            "374/375 [============================>.] - ETA: 0s - loss: 0.1363 - accuracy: 0.9605\n",
            "Epoch 35: val_accuracy improved from 0.97400 to 0.97450, saving model to mnist/model_1.h1\n",
            "375/375 [==============================] - 3s 9ms/step - loss: 0.1362 - accuracy: 0.9605 - val_loss: 0.0896 - val_accuracy: 0.9745\n",
            "Epoch 36/100\n",
            "369/375 [============================>.] - ETA: 0s - loss: 0.1347 - accuracy: 0.9607\n",
            "Epoch 36: val_accuracy did not improve from 0.97450\n",
            "375/375 [==============================] - 2s 6ms/step - loss: 0.1349 - accuracy: 0.9606 - val_loss: 0.0878 - val_accuracy: 0.9742\n",
            "Epoch 37/100\n",
            "368/375 [============================>.] - ETA: 0s - loss: 0.1323 - accuracy: 0.9606\n",
            "Epoch 37: val_accuracy improved from 0.97450 to 0.97492, saving model to mnist/model_1.h1\n",
            "375/375 [==============================] - 3s 9ms/step - loss: 0.1321 - accuracy: 0.9607 - val_loss: 0.0861 - val_accuracy: 0.9749\n",
            "Epoch 38/100\n",
            "369/375 [============================>.] - ETA: 0s - loss: 0.1296 - accuracy: 0.9617\n",
            "Epoch 38: val_accuracy improved from 0.97492 to 0.97550, saving model to mnist/model_1.h1\n",
            "375/375 [==============================] - 3s 9ms/step - loss: 0.1298 - accuracy: 0.9617 - val_loss: 0.0848 - val_accuracy: 0.9755\n",
            "Epoch 39/100\n",
            "372/375 [============================>.] - ETA: 0s - loss: 0.1264 - accuracy: 0.9628\n",
            "Epoch 39: val_accuracy improved from 0.97550 to 0.97583, saving model to mnist/model_1.h1\n",
            "375/375 [==============================] - 3s 9ms/step - loss: 0.1265 - accuracy: 0.9628 - val_loss: 0.0838 - val_accuracy: 0.9758\n",
            "Epoch 40/100\n",
            "372/375 [============================>.] - ETA: 0s - loss: 0.1255 - accuracy: 0.9635\n",
            "Epoch 40: val_accuracy improved from 0.97583 to 0.97600, saving model to mnist/model_1.h1\n",
            "375/375 [==============================] - 3s 9ms/step - loss: 0.1253 - accuracy: 0.9636 - val_loss: 0.0815 - val_accuracy: 0.9760\n",
            "Epoch 41/100\n",
            "370/375 [============================>.] - ETA: 0s - loss: 0.1221 - accuracy: 0.9645\n",
            "Epoch 41: val_accuracy improved from 0.97600 to 0.97633, saving model to mnist/model_1.h1\n",
            "375/375 [==============================] - 3s 9ms/step - loss: 0.1222 - accuracy: 0.9644 - val_loss: 0.0799 - val_accuracy: 0.9763\n",
            "Epoch 42/100\n",
            "371/375 [============================>.] - ETA: 0s - loss: 0.1212 - accuracy: 0.9642\n",
            "Epoch 42: val_accuracy improved from 0.97633 to 0.97667, saving model to mnist/model_1.h1\n",
            "375/375 [==============================] - 3s 8ms/step - loss: 0.1211 - accuracy: 0.9643 - val_loss: 0.0797 - val_accuracy: 0.9767\n",
            "Epoch 43/100\n",
            "374/375 [============================>.] - ETA: 0s - loss: 0.1195 - accuracy: 0.9650\n",
            "Epoch 43: val_accuracy improved from 0.97667 to 0.97783, saving model to mnist/model_1.h1\n",
            "375/375 [==============================] - 3s 9ms/step - loss: 0.1196 - accuracy: 0.9650 - val_loss: 0.0781 - val_accuracy: 0.9778\n",
            "Epoch 44/100\n",
            "367/375 [============================>.] - ETA: 0s - loss: 0.1180 - accuracy: 0.9648\n",
            "Epoch 44: val_accuracy did not improve from 0.97783\n",
            "375/375 [==============================] - 2s 6ms/step - loss: 0.1177 - accuracy: 0.9650 - val_loss: 0.0777 - val_accuracy: 0.9772\n",
            "Epoch 45/100\n",
            "369/375 [============================>.] - ETA: 0s - loss: 0.1154 - accuracy: 0.9656\n",
            "Epoch 45: val_accuracy did not improve from 0.97783\n",
            "375/375 [==============================] - 2s 6ms/step - loss: 0.1151 - accuracy: 0.9658 - val_loss: 0.0780 - val_accuracy: 0.9766\n",
            "Epoch 46/100\n",
            "369/375 [============================>.] - ETA: 0s - loss: 0.1128 - accuracy: 0.9666\n",
            "Epoch 46: val_accuracy improved from 0.97783 to 0.97833, saving model to mnist/model_1.h1\n",
            "375/375 [==============================] - 3s 9ms/step - loss: 0.1129 - accuracy: 0.9665 - val_loss: 0.0748 - val_accuracy: 0.9783\n",
            "Epoch 47/100\n",
            "371/375 [============================>.] - ETA: 0s - loss: 0.1118 - accuracy: 0.9669\n",
            "Epoch 47: val_accuracy did not improve from 0.97833\n",
            "375/375 [==============================] - 2s 6ms/step - loss: 0.1118 - accuracy: 0.9670 - val_loss: 0.0750 - val_accuracy: 0.9778\n",
            "Epoch 48/100\n",
            "368/375 [============================>.] - ETA: 0s - loss: 0.1108 - accuracy: 0.9669\n",
            "Epoch 48: val_accuracy did not improve from 0.97833\n",
            "375/375 [==============================] - 2s 6ms/step - loss: 0.1103 - accuracy: 0.9671 - val_loss: 0.0737 - val_accuracy: 0.9778\n",
            "Epoch 49/100\n",
            "367/375 [============================>.] - ETA: 0s - loss: 0.1078 - accuracy: 0.9675\n",
            "Epoch 49: val_accuracy did not improve from 0.97833\n",
            "375/375 [==============================] - 2s 6ms/step - loss: 0.1082 - accuracy: 0.9674 - val_loss: 0.0726 - val_accuracy: 0.9782\n",
            "Epoch 50/100\n",
            "367/375 [============================>.] - ETA: 0s - loss: 0.1073 - accuracy: 0.9681\n",
            "Epoch 50: val_accuracy improved from 0.97833 to 0.97867, saving model to mnist/model_1.h1\n",
            "375/375 [==============================] - 3s 9ms/step - loss: 0.1077 - accuracy: 0.9680 - val_loss: 0.0717 - val_accuracy: 0.9787\n",
            "Epoch 51/100\n",
            "371/375 [============================>.] - ETA: 0s - loss: 0.1061 - accuracy: 0.9692\n",
            "Epoch 51: val_accuracy improved from 0.97867 to 0.97917, saving model to mnist/model_1.h1\n",
            "375/375 [==============================] - 3s 9ms/step - loss: 0.1058 - accuracy: 0.9693 - val_loss: 0.0717 - val_accuracy: 0.9792\n",
            "Epoch 52/100\n",
            "370/375 [============================>.] - ETA: 0s - loss: 0.1067 - accuracy: 0.9675\n",
            "Epoch 52: val_accuracy did not improve from 0.97917\n",
            "375/375 [==============================] - 2s 6ms/step - loss: 0.1069 - accuracy: 0.9674 - val_loss: 0.0716 - val_accuracy: 0.9786\n",
            "Epoch 53/100\n",
            "372/375 [============================>.] - ETA: 0s - loss: 0.1052 - accuracy: 0.9682\n",
            "Epoch 53: val_accuracy did not improve from 0.97917\n",
            "375/375 [==============================] - 2s 6ms/step - loss: 0.1052 - accuracy: 0.9682 - val_loss: 0.0697 - val_accuracy: 0.9787\n",
            "Epoch 54/100\n",
            "367/375 [============================>.] - ETA: 0s - loss: 0.1025 - accuracy: 0.9691\n",
            "Epoch 54: val_accuracy improved from 0.97917 to 0.97967, saving model to mnist/model_1.h1\n",
            "375/375 [==============================] - 3s 9ms/step - loss: 0.1029 - accuracy: 0.9689 - val_loss: 0.0685 - val_accuracy: 0.9797\n",
            "Epoch 55/100\n",
            "367/375 [============================>.] - ETA: 0s - loss: 0.1031 - accuracy: 0.9685\n",
            "Epoch 55: val_accuracy improved from 0.97967 to 0.97983, saving model to mnist/model_1.h1\n",
            "375/375 [==============================] - 3s 9ms/step - loss: 0.1031 - accuracy: 0.9686 - val_loss: 0.0687 - val_accuracy: 0.9798\n",
            "Epoch 56/100\n",
            "368/375 [============================>.] - ETA: 0s - loss: 0.1003 - accuracy: 0.9694\n",
            "Epoch 56: val_accuracy did not improve from 0.97983\n",
            "375/375 [==============================] - 2s 6ms/step - loss: 0.1003 - accuracy: 0.9693 - val_loss: 0.0682 - val_accuracy: 0.9796\n",
            "Epoch 57/100\n",
            "370/375 [============================>.] - ETA: 0s - loss: 0.1000 - accuracy: 0.9696\n",
            "Epoch 57: val_accuracy improved from 0.97983 to 0.98058, saving model to mnist/model_1.h1\n",
            "375/375 [==============================] - 3s 9ms/step - loss: 0.0998 - accuracy: 0.9696 - val_loss: 0.0672 - val_accuracy: 0.9806\n",
            "Epoch 58/100\n",
            "373/375 [============================>.] - ETA: 0s - loss: 0.0977 - accuracy: 0.9708\n",
            "Epoch 58: val_accuracy improved from 0.98058 to 0.98083, saving model to mnist/model_1.h1\n",
            "375/375 [==============================] - 3s 9ms/step - loss: 0.0977 - accuracy: 0.9707 - val_loss: 0.0649 - val_accuracy: 0.9808\n",
            "Epoch 59/100\n",
            "366/375 [============================>.] - ETA: 0s - loss: 0.0991 - accuracy: 0.9698\n",
            "Epoch 59: val_accuracy did not improve from 0.98083\n",
            "375/375 [==============================] - 2s 6ms/step - loss: 0.0992 - accuracy: 0.9699 - val_loss: 0.0652 - val_accuracy: 0.9801\n",
            "Epoch 60/100\n",
            "367/375 [============================>.] - ETA: 0s - loss: 0.0975 - accuracy: 0.9712\n",
            "Epoch 60: val_accuracy improved from 0.98083 to 0.98125, saving model to mnist/model_1.h1\n",
            "375/375 [==============================] - 3s 9ms/step - loss: 0.0978 - accuracy: 0.9710 - val_loss: 0.0640 - val_accuracy: 0.9812\n",
            "Epoch 61/100\n",
            "371/375 [============================>.] - ETA: 0s - loss: 0.0945 - accuracy: 0.9720\n",
            "Epoch 61: val_accuracy improved from 0.98125 to 0.98142, saving model to mnist/model_1.h1\n",
            "375/375 [==============================] - 5s 13ms/step - loss: 0.0949 - accuracy: 0.9719 - val_loss: 0.0630 - val_accuracy: 0.9814\n",
            "Epoch 62/100\n",
            "375/375 [==============================] - ETA: 0s - loss: 0.0941 - accuracy: 0.9719\n",
            "Epoch 62: val_accuracy improved from 0.98142 to 0.98150, saving model to mnist/model_1.h1\n",
            "375/375 [==============================] - 3s 9ms/step - loss: 0.0941 - accuracy: 0.9719 - val_loss: 0.0643 - val_accuracy: 0.9815\n",
            "Epoch 63/100\n",
            "373/375 [============================>.] - ETA: 0s - loss: 0.0932 - accuracy: 0.9719\n",
            "Epoch 63: val_accuracy did not improve from 0.98150\n",
            "375/375 [==============================] - 2s 6ms/step - loss: 0.0932 - accuracy: 0.9719 - val_loss: 0.0635 - val_accuracy: 0.9812\n",
            "Epoch 64/100\n",
            "371/375 [============================>.] - ETA: 0s - loss: 0.0926 - accuracy: 0.9728\n",
            "Epoch 64: val_accuracy did not improve from 0.98150\n",
            "375/375 [==============================] - 2s 6ms/step - loss: 0.0925 - accuracy: 0.9728 - val_loss: 0.0617 - val_accuracy: 0.9813\n",
            "Epoch 65/100\n",
            "368/375 [============================>.] - ETA: 0s - loss: 0.0901 - accuracy: 0.9723\n",
            "Epoch 65: val_accuracy did not improve from 0.98150\n",
            "375/375 [==============================] - 2s 6ms/step - loss: 0.0900 - accuracy: 0.9723 - val_loss: 0.0623 - val_accuracy: 0.9812\n",
            "Epoch 66/100\n",
            "374/375 [============================>.] - ETA: 0s - loss: 0.0899 - accuracy: 0.9726\n",
            "Epoch 66: val_accuracy improved from 0.98150 to 0.98192, saving model to mnist/model_1.h1\n",
            "375/375 [==============================] - 3s 9ms/step - loss: 0.0898 - accuracy: 0.9726 - val_loss: 0.0615 - val_accuracy: 0.9819\n",
            "Epoch 67/100\n",
            "367/375 [============================>.] - ETA: 0s - loss: 0.0892 - accuracy: 0.9725\n",
            "Epoch 67: val_accuracy did not improve from 0.98192\n",
            "375/375 [==============================] - 2s 6ms/step - loss: 0.0891 - accuracy: 0.9726 - val_loss: 0.0630 - val_accuracy: 0.9808\n",
            "Epoch 68/100\n",
            "372/375 [============================>.] - ETA: 0s - loss: 0.0887 - accuracy: 0.9735\n",
            "Epoch 68: val_accuracy did not improve from 0.98192\n",
            "375/375 [==============================] - 2s 6ms/step - loss: 0.0890 - accuracy: 0.9734 - val_loss: 0.0601 - val_accuracy: 0.9819\n",
            "Epoch 69/100\n",
            "373/375 [============================>.] - ETA: 0s - loss: 0.0884 - accuracy: 0.9731\n",
            "Epoch 69: val_accuracy improved from 0.98192 to 0.98258, saving model to mnist/model_1.h1\n",
            "375/375 [==============================] - 3s 9ms/step - loss: 0.0882 - accuracy: 0.9731 - val_loss: 0.0597 - val_accuracy: 0.9826\n",
            "Epoch 70/100\n",
            "371/375 [============================>.] - ETA: 0s - loss: 0.0885 - accuracy: 0.9734\n",
            "Epoch 70: val_accuracy did not improve from 0.98258\n",
            "375/375 [==============================] - 2s 6ms/step - loss: 0.0883 - accuracy: 0.9735 - val_loss: 0.0595 - val_accuracy: 0.9826\n",
            "Epoch 71/100\n",
            "371/375 [============================>.] - ETA: 0s - loss: 0.0852 - accuracy: 0.9745\n",
            "Epoch 71: val_accuracy did not improve from 0.98258\n",
            "375/375 [==============================] - 2s 6ms/step - loss: 0.0854 - accuracy: 0.9745 - val_loss: 0.0600 - val_accuracy: 0.9822\n",
            "Epoch 72/100\n",
            "375/375 [==============================] - ETA: 0s - loss: 0.0860 - accuracy: 0.9740\n",
            "Epoch 72: val_accuracy improved from 0.98258 to 0.98292, saving model to mnist/model_1.h1\n",
            "375/375 [==============================] - 3s 9ms/step - loss: 0.0860 - accuracy: 0.9740 - val_loss: 0.0588 - val_accuracy: 0.9829\n",
            "Epoch 73/100\n",
            "375/375 [==============================] - ETA: 0s - loss: 0.0840 - accuracy: 0.9743\n",
            "Epoch 73: val_accuracy did not improve from 0.98292\n",
            "375/375 [==============================] - 2s 6ms/step - loss: 0.0840 - accuracy: 0.9743 - val_loss: 0.0578 - val_accuracy: 0.9828\n",
            "Epoch 74/100\n",
            "370/375 [============================>.] - ETA: 0s - loss: 0.0854 - accuracy: 0.9744\n",
            "Epoch 74: val_accuracy improved from 0.98292 to 0.98325, saving model to mnist/model_1.h1\n",
            "375/375 [==============================] - 3s 9ms/step - loss: 0.0851 - accuracy: 0.9745 - val_loss: 0.0577 - val_accuracy: 0.9833\n",
            "Epoch 75/100\n",
            "375/375 [==============================] - ETA: 0s - loss: 0.0827 - accuracy: 0.9748\n",
            "Epoch 75: val_accuracy did not improve from 0.98325\n",
            "375/375 [==============================] - 2s 6ms/step - loss: 0.0827 - accuracy: 0.9748 - val_loss: 0.0564 - val_accuracy: 0.9830\n",
            "Epoch 76/100\n",
            "375/375 [==============================] - ETA: 0s - loss: 0.0817 - accuracy: 0.9760\n",
            "Epoch 76: val_accuracy did not improve from 0.98325\n",
            "375/375 [==============================] - 2s 6ms/step - loss: 0.0817 - accuracy: 0.9760 - val_loss: 0.0578 - val_accuracy: 0.9829\n",
            "Epoch 77/100\n",
            "368/375 [============================>.] - ETA: 0s - loss: 0.0812 - accuracy: 0.9756\n",
            "Epoch 77: val_accuracy did not improve from 0.98325\n",
            "375/375 [==============================] - 2s 6ms/step - loss: 0.0812 - accuracy: 0.9756 - val_loss: 0.0567 - val_accuracy: 0.9831\n",
            "Epoch 78/100\n",
            "368/375 [============================>.] - ETA: 0s - loss: 0.0808 - accuracy: 0.9758\n",
            "Epoch 78: val_accuracy did not improve from 0.98325\n",
            "375/375 [==============================] - 2s 6ms/step - loss: 0.0807 - accuracy: 0.9759 - val_loss: 0.0560 - val_accuracy: 0.9832\n",
            "Epoch 79/100\n",
            "371/375 [============================>.] - ETA: 0s - loss: 0.0790 - accuracy: 0.9765\n",
            "Epoch 79: val_accuracy improved from 0.98325 to 0.98383, saving model to mnist/model_1.h1\n",
            "375/375 [==============================] - 3s 9ms/step - loss: 0.0793 - accuracy: 0.9764 - val_loss: 0.0560 - val_accuracy: 0.9838\n",
            "Epoch 80/100\n",
            "373/375 [============================>.] - ETA: 0s - loss: 0.0802 - accuracy: 0.9754\n",
            "Epoch 80: val_accuracy did not improve from 0.98383\n",
            "375/375 [==============================] - 2s 6ms/step - loss: 0.0803 - accuracy: 0.9754 - val_loss: 0.0554 - val_accuracy: 0.9837\n",
            "Epoch 81/100\n",
            "375/375 [==============================] - ETA: 0s - loss: 0.0779 - accuracy: 0.9762\n",
            "Epoch 81: val_accuracy improved from 0.98383 to 0.98392, saving model to mnist/model_1.h1\n",
            "375/375 [==============================] - 3s 9ms/step - loss: 0.0779 - accuracy: 0.9762 - val_loss: 0.0554 - val_accuracy: 0.9839\n",
            "Epoch 82/100\n",
            "369/375 [============================>.] - ETA: 0s - loss: 0.0777 - accuracy: 0.9765\n",
            "Epoch 82: val_accuracy did not improve from 0.98392\n",
            "375/375 [==============================] - 2s 6ms/step - loss: 0.0779 - accuracy: 0.9764 - val_loss: 0.0559 - val_accuracy: 0.9833\n",
            "Epoch 83/100\n",
            "375/375 [==============================] - ETA: 0s - loss: 0.0774 - accuracy: 0.9763\n",
            "Epoch 83: val_accuracy improved from 0.98392 to 0.98433, saving model to mnist/model_1.h1\n",
            "375/375 [==============================] - 3s 9ms/step - loss: 0.0774 - accuracy: 0.9763 - val_loss: 0.0538 - val_accuracy: 0.9843\n",
            "Epoch 84/100\n",
            "367/375 [============================>.] - ETA: 0s - loss: 0.0777 - accuracy: 0.9769\n",
            "Epoch 84: val_accuracy improved from 0.98433 to 0.98442, saving model to mnist/model_1.h1\n",
            "375/375 [==============================] - 3s 9ms/step - loss: 0.0778 - accuracy: 0.9768 - val_loss: 0.0532 - val_accuracy: 0.9844\n",
            "Epoch 85/100\n",
            "375/375 [==============================] - ETA: 0s - loss: 0.0766 - accuracy: 0.9774\n",
            "Epoch 85: val_accuracy did not improve from 0.98442\n",
            "375/375 [==============================] - 2s 6ms/step - loss: 0.0766 - accuracy: 0.9774 - val_loss: 0.0535 - val_accuracy: 0.9839\n",
            "Epoch 86/100\n",
            "372/375 [============================>.] - ETA: 0s - loss: 0.0751 - accuracy: 0.9769\n",
            "Epoch 86: val_accuracy improved from 0.98442 to 0.98492, saving model to mnist/model_1.h1\n",
            "375/375 [==============================] - 4s 11ms/step - loss: 0.0752 - accuracy: 0.9769 - val_loss: 0.0531 - val_accuracy: 0.9849\n",
            "Epoch 87/100\n",
            "372/375 [============================>.] - ETA: 0s - loss: 0.0750 - accuracy: 0.9776\n",
            "Epoch 87: val_accuracy did not improve from 0.98492\n",
            "375/375 [==============================] - 4s 10ms/step - loss: 0.0750 - accuracy: 0.9776 - val_loss: 0.0532 - val_accuracy: 0.9847\n",
            "Epoch 88/100\n",
            "373/375 [============================>.] - ETA: 0s - loss: 0.0759 - accuracy: 0.9764\n",
            "Epoch 88: val_accuracy did not improve from 0.98492\n",
            "375/375 [==============================] - 3s 7ms/step - loss: 0.0760 - accuracy: 0.9764 - val_loss: 0.0527 - val_accuracy: 0.9847\n",
            "Epoch 89/100\n",
            "374/375 [============================>.] - ETA: 0s - loss: 0.0732 - accuracy: 0.9780\n",
            "Epoch 89: val_accuracy did not improve from 0.98492\n",
            "375/375 [==============================] - 2s 6ms/step - loss: 0.0731 - accuracy: 0.9781 - val_loss: 0.0536 - val_accuracy: 0.9847\n",
            "Epoch 90/100\n",
            "373/375 [============================>.] - ETA: 0s - loss: 0.0717 - accuracy: 0.9783\n",
            "Epoch 90: val_accuracy did not improve from 0.98492\n",
            "375/375 [==============================] - 2s 6ms/step - loss: 0.0718 - accuracy: 0.9782 - val_loss: 0.0519 - val_accuracy: 0.9846\n",
            "Epoch 91/100\n",
            "374/375 [============================>.] - ETA: 0s - loss: 0.0735 - accuracy: 0.9776\n",
            "Epoch 91: val_accuracy did not improve from 0.98492\n",
            "375/375 [==============================] - 2s 7ms/step - loss: 0.0734 - accuracy: 0.9776 - val_loss: 0.0522 - val_accuracy: 0.9846\n",
            "Epoch 92/100\n",
            "369/375 [============================>.] - ETA: 0s - loss: 0.0727 - accuracy: 0.9782\n",
            "Epoch 92: val_accuracy improved from 0.98492 to 0.98500, saving model to mnist/model_1.h1\n",
            "375/375 [==============================] - 3s 9ms/step - loss: 0.0726 - accuracy: 0.9782 - val_loss: 0.0509 - val_accuracy: 0.9850\n",
            "Epoch 93/100\n",
            "374/375 [============================>.] - ETA: 0s - loss: 0.0735 - accuracy: 0.9779\n",
            "Epoch 93: val_accuracy improved from 0.98500 to 0.98508, saving model to mnist/model_1.h1\n",
            "375/375 [==============================] - 3s 9ms/step - loss: 0.0736 - accuracy: 0.9779 - val_loss: 0.0510 - val_accuracy: 0.9851\n",
            "Epoch 94/100\n",
            "369/375 [============================>.] - ETA: 0s - loss: 0.0717 - accuracy: 0.9781\n",
            "Epoch 94: val_accuracy did not improve from 0.98508\n",
            "375/375 [==============================] - 2s 7ms/step - loss: 0.0719 - accuracy: 0.9781 - val_loss: 0.0520 - val_accuracy: 0.9847\n",
            "Epoch 95/100\n",
            "372/375 [============================>.] - ETA: 0s - loss: 0.0705 - accuracy: 0.9786\n",
            "Epoch 95: val_accuracy improved from 0.98508 to 0.98525, saving model to mnist/model_1.h1\n",
            "375/375 [==============================] - 3s 9ms/step - loss: 0.0708 - accuracy: 0.9785 - val_loss: 0.0515 - val_accuracy: 0.9852\n",
            "Epoch 96/100\n",
            "375/375 [==============================] - ETA: 0s - loss: 0.0698 - accuracy: 0.9791\n",
            "Epoch 96: val_accuracy did not improve from 0.98525\n",
            "375/375 [==============================] - 2s 6ms/step - loss: 0.0698 - accuracy: 0.9791 - val_loss: 0.0501 - val_accuracy: 0.9852\n",
            "Epoch 97/100\n",
            "370/375 [============================>.] - ETA: 0s - loss: 0.0691 - accuracy: 0.9787\n",
            "Epoch 97: val_accuracy improved from 0.98525 to 0.98567, saving model to mnist/model_1.h1\n",
            "375/375 [==============================] - 3s 9ms/step - loss: 0.0690 - accuracy: 0.9787 - val_loss: 0.0496 - val_accuracy: 0.9857\n",
            "Epoch 98/100\n",
            "368/375 [============================>.] - ETA: 0s - loss: 0.0693 - accuracy: 0.9792\n",
            "Epoch 98: val_accuracy improved from 0.98567 to 0.98583, saving model to mnist/model_1.h1\n",
            "375/375 [==============================] - 3s 9ms/step - loss: 0.0695 - accuracy: 0.9791 - val_loss: 0.0491 - val_accuracy: 0.9858\n",
            "Epoch 99/100\n",
            "375/375 [==============================] - ETA: 0s - loss: 0.0696 - accuracy: 0.9787\n",
            "Epoch 99: val_accuracy did not improve from 0.98583\n",
            "375/375 [==============================] - 2s 6ms/step - loss: 0.0696 - accuracy: 0.9787 - val_loss: 0.0507 - val_accuracy: 0.9850\n",
            "Epoch 100/100\n",
            "366/375 [============================>.] - ETA: 0s - loss: 0.0681 - accuracy: 0.9793\n",
            "Epoch 100: val_accuracy did not improve from 0.98583\n",
            "375/375 [==============================] - 2s 6ms/step - loss: 0.0685 - accuracy: 0.9791 - val_loss: 0.0494 - val_accuracy: 0.9853\n"
          ]
        }
      ]
    },
    {
      "cell_type": "code",
      "source": [
        "result = model_1.evaluate(test_imgs, test_labels)\n",
        "print(\"\\n테스트 정확도: %.4f\" %(result)[1])"
      ],
      "metadata": {
        "id": "A4f_4uKMk9gD",
        "colab": {
          "base_uri": "https://localhost:8080/"
        },
        "outputId": "ed8ccf60-ff2e-4035-d9b0-a201c64b8cc6"
      },
      "execution_count": 50,
      "outputs": [
        {
          "output_type": "stream",
          "name": "stdout",
          "text": [
            "313/313 [==============================] - 1s 3ms/step - loss: 0.0388 - accuracy: 0.9886\n",
            "\n",
            "테스트 정확도: 0.9886\n"
          ]
        }
      ]
    },
    {
      "cell_type": "code",
      "source": [
        "loaded_model = load_model('mnist/model_1.h1')\n",
        "result_loaded = loaded_model.evaluate(test_imgs, test_labels)\n",
        "print(\"\\n불러온 모델 테스트 정확도: %.4f\" %(result_loaded)[1])"
      ],
      "metadata": {
        "colab": {
          "base_uri": "https://localhost:8080/"
        },
        "id": "LWt1g385nipq",
        "outputId": "9983ff55-2eaf-48c7-dfb7-8ab87fd09caa"
      },
      "execution_count": 51,
      "outputs": [
        {
          "output_type": "stream",
          "name": "stdout",
          "text": [
            "313/313 [==============================] - 1s 3ms/step - loss: 0.0387 - accuracy: 0.9888\n",
            "\n",
            "불러온 모델 테스트 정확도: 0.9888\n"
          ]
        }
      ]
    },
    {
      "cell_type": "code",
      "source": [
        "acc = hist_1.history['accuracy']\n",
        "val_acc = hist_1.history['val_accuracy']\n",
        "loss = hist_1.history['loss']\n",
        "val_loss = hist_1.history['val_loss']\n",
        "\n",
        "epochs = range(1, len(acc)+1)\n",
        "\n",
        "plt.figure(figsize=(8, 12))\n",
        "ax1=plt.subplot(2, 1, 1)\n",
        "ax2=plt.subplot(2, 1, 2)\n",
        "ax1.plot(epochs, acc, 'bo', label='Trainig acc')\n",
        "ax1.plot(epochs, val_acc, 'b', label='Validation acc')\n",
        "ax1.set_title(\"Training and Validation accuracy\")\n",
        "ax1.legend()\n",
        "ax2.plot(epochs, loss, 'bo', label='Traning loss')\n",
        "ax2.plot(epochs, val_loss, 'b', label='Validation loss')\n",
        "ax2.set_title(\"Training and Validation loss\")\n",
        "ax2.legend()\n",
        "plt.show()"
      ],
      "metadata": {
        "id": "mFOaiWO_sRfX",
        "colab": {
          "base_uri": "https://localhost:8080/",
          "height": 716
        },
        "outputId": "dd8274e7-9a6e-4dc2-97e5-73837fc67266"
      },
      "execution_count": 52,
      "outputs": [
        {
          "output_type": "display_data",
          "data": {
            "text/plain": [
              "<Figure size 576x864 with 2 Axes>"
            ],
            "image/png": "[encoded data removed]"
          },
          "metadata": {
            "needs_background": "light"
          }
        }
      ]
    },
    {
      "cell_type": "code",
      "source": [
        "df = pd.DataFrame([['CNN', 'model_1', '32(relu)-64(drop0.2/relu)-128(drop0.5/relu)-Flatten-64(sigmoid)-10(softmax)]', 'SGD', 100, 128, 0.2, 'es/mc', \n",
        "                    \"%.4f\"%(result)[1], \"%.4f\"%(result_loaded)[1], \"%.4f\"%(result)[0], \"%.4f\"%(result_loaded)[0]]],\n",
        "                  columns=['모델', 'Name', 'Structure', 'Optimizer', 'epochs', 'batch_size', 'validation_split', 'callback', 'Accuracy', 'MC_Accuracy', 'Loss', 'MC_Loss'])"
      ],
      "metadata": {
        "id": "YU51jOGcl7DL"
      },
      "execution_count": 53,
      "outputs": []
    },
    {
      "cell_type": "markdown",
      "source": [
        "#### __2. batch_size=128, 출력 직전층 activation='sigmoid', optimizer='rmsprop'__ "
      ],
      "metadata": {
        "id": "J3jjZUjiwydX"
      }
    },
    {
      "cell_type": "code",
      "source": [
        "model_1_1 = keras.Sequential([\n",
        "  layers.Conv2D(32, (3, 3), activation='relu', input_shape=(28, 28, 1)),\n",
        "  layers.MaxPooling2D((2, 2)),\n",
        "  layers.Dropout(0.2),\n",
        "  layers.Conv2D(64, (3, 3), activation='relu'),\n",
        "  layers.Dropout(0.2),\n",
        "  layers.MaxPooling2D((2, 2)),\n",
        "  layers.Conv2D(128, (3, 3), activation='relu'),\n",
        "  layers.Dropout(0.5),\n",
        "  layers.Flatten(),\n",
        "  layers.Dense(64, activation = 'sigmoid'),\n",
        "  layers.Dense(10, activation = 'softmax')\n",
        "])\n",
        "model_1_1.summary()"
      ],
      "metadata": {
        "colab": {
          "base_uri": "https://localhost:8080/"
        },
        "outputId": "4defde03-ba39-4d24-a18c-6336bd436dad",
        "id": "aRIhB0X3wtb4"
      },
      "execution_count": 54,
      "outputs": [
        {
          "output_type": "stream",
          "name": "stdout",
          "text": [
            "Model: \"sequential_4\"\n",
            "_________________________________________________________________\n",
            " Layer (type)                Output Shape              Param #   \n",
            "=================================================================\n",
            " conv2d_12 (Conv2D)          (None, 26, 26, 32)        320       \n",
            "                                                                 \n",
            " max_pooling2d_8 (MaxPooling  (None, 13, 13, 32)       0         \n",
            " 2D)                                                             \n",
            "                                                                 \n",
            " dropout_12 (Dropout)        (None, 13, 13, 32)        0         \n",
            "                                                                 \n",
            " conv2d_13 (Conv2D)          (None, 11, 11, 64)        18496     \n",
            "                                                                 \n",
            " dropout_13 (Dropout)        (None, 11, 11, 64)        0         \n",
            "                                                                 \n",
            " max_pooling2d_9 (MaxPooling  (None, 5, 5, 64)         0         \n",
            " 2D)                                                             \n",
            "                                                                 \n",
            " conv2d_14 (Conv2D)          (None, 3, 3, 128)         73856     \n",
            "                                                                 \n",
            " dropout_14 (Dropout)        (None, 3, 3, 128)         0         \n",
            "                                                                 \n",
            " flatten_4 (Flatten)         (None, 1152)              0         \n",
            "                                                                 \n",
            " dense_8 (Dense)             (None, 64)                73792     \n",
            "                                                                 \n",
            " dense_9 (Dense)             (None, 10)                650       \n",
            "                                                                 \n",
            "=================================================================\n",
            "Total params: 167,114\n",
            "Trainable params: 167,114\n",
            "Non-trainable params: 0\n",
            "_________________________________________________________________\n"
          ]
        }
      ]
    },
    {
      "cell_type": "code",
      "source": [
        "model_1_1.compile(optimizer=\"rmsprop\", loss=\"categorical_crossentropy\", metrics=[\"accuracy\"])"
      ],
      "metadata": {
        "id": "2xmXZNfewtcK"
      },
      "execution_count": 55,
      "outputs": []
    },
    {
      "cell_type": "code",
      "source": [
        "es = EarlyStopping(monitor='val_loss', mode='min', verbose=1, patience=10)\n",
        "mc = ModelCheckpoint('mnist/model_1_1.h1', monitor='val_accuracy', mode='max', verbose=1, save_best_only=True)\n",
        "hist_1_1 = model_1_1.fit(train_imgs, train_labels, epochs=100, batch_size=128, validation_split=0.2, callbacks=[es, mc])"
      ],
      "metadata": {
        "colab": {
          "base_uri": "https://localhost:8080/"
        },
        "outputId": "95102d47-6d48-458e-dea6-700ec2c44219",
        "id": "VRjSobitwtcK"
      },
      "execution_count": 56,
      "outputs": [
        {
          "output_type": "stream",
          "name": "stdout",
          "text": [
            "Epoch 1/100\n",
            "374/375 [============================>.] - ETA: 0s - loss: 0.4102 - accuracy: 0.8901\n",
            "Epoch 1: val_accuracy improved from -inf to 0.97300, saving model to mnist/model_1_1.h1\n",
            "375/375 [==============================] - 4s 10ms/step - loss: 0.4094 - accuracy: 0.8904 - val_loss: 0.1018 - val_accuracy: 0.9730\n",
            "Epoch 2/100\n",
            "374/375 [============================>.] - ETA: 0s - loss: 0.1044 - accuracy: 0.9703\n",
            "Epoch 2: val_accuracy improved from 0.97300 to 0.98300, saving model to mnist/model_1_1.h1\n",
            "375/375 [==============================] - 3s 9ms/step - loss: 0.1043 - accuracy: 0.9703 - val_loss: 0.0587 - val_accuracy: 0.9830\n",
            "Epoch 3/100\n",
            "368/375 [============================>.] - ETA: 0s - loss: 0.0730 - accuracy: 0.9775\n",
            "Epoch 3: val_accuracy improved from 0.98300 to 0.98533, saving model to mnist/model_1_1.h1\n",
            "375/375 [==============================] - 3s 9ms/step - loss: 0.0729 - accuracy: 0.9774 - val_loss: 0.0473 - val_accuracy: 0.9853\n",
            "Epoch 4/100\n",
            "372/375 [============================>.] - ETA: 0s - loss: 0.0580 - accuracy: 0.9821\n",
            "Epoch 4: val_accuracy improved from 0.98533 to 0.98633, saving model to mnist/model_1_1.h1\n",
            "375/375 [==============================] - 3s 9ms/step - loss: 0.0581 - accuracy: 0.9821 - val_loss: 0.0444 - val_accuracy: 0.9863\n",
            "Epoch 5/100\n",
            "373/375 [============================>.] - ETA: 0s - loss: 0.0510 - accuracy: 0.9846\n",
            "Epoch 5: val_accuracy did not improve from 0.98633\n",
            "375/375 [==============================] - 2s 7ms/step - loss: 0.0510 - accuracy: 0.9845 - val_loss: 0.0427 - val_accuracy: 0.9863\n",
            "Epoch 6/100\n",
            "372/375 [============================>.] - ETA: 0s - loss: 0.0463 - accuracy: 0.9860\n",
            "Epoch 6: val_accuracy improved from 0.98633 to 0.98900, saving model to mnist/model_1_1.h1\n",
            "375/375 [==============================] - 3s 9ms/step - loss: 0.0461 - accuracy: 0.9860 - val_loss: 0.0367 - val_accuracy: 0.9890\n",
            "Epoch 7/100\n",
            "366/375 [============================>.] - ETA: 0s - loss: 0.0411 - accuracy: 0.9871\n",
            "Epoch 7: val_accuracy did not improve from 0.98900\n",
            "375/375 [==============================] - 2s 7ms/step - loss: 0.0411 - accuracy: 0.9872 - val_loss: 0.0396 - val_accuracy: 0.9882\n",
            "Epoch 8/100\n",
            "368/375 [============================>.] - ETA: 0s - loss: 0.0375 - accuracy: 0.9886\n",
            "Epoch 8: val_accuracy improved from 0.98900 to 0.99125, saving model to mnist/model_1_1.h1\n",
            "375/375 [==============================] - 4s 10ms/step - loss: 0.0375 - accuracy: 0.9885 - val_loss: 0.0315 - val_accuracy: 0.9912\n",
            "Epoch 9/100\n",
            "368/375 [============================>.] - ETA: 0s - loss: 0.0351 - accuracy: 0.9893\n",
            "Epoch 9: val_accuracy did not improve from 0.99125\n",
            "375/375 [==============================] - 3s 7ms/step - loss: 0.0349 - accuracy: 0.9893 - val_loss: 0.0388 - val_accuracy: 0.9892\n",
            "Epoch 10/100\n",
            "367/375 [============================>.] - ETA: 0s - loss: 0.0322 - accuracy: 0.9901\n",
            "Epoch 10: val_accuracy did not improve from 0.99125\n",
            "375/375 [==============================] - 2s 6ms/step - loss: 0.0322 - accuracy: 0.9900 - val_loss: 0.0319 - val_accuracy: 0.9906\n",
            "Epoch 11/100\n",
            "374/375 [============================>.] - ETA: 0s - loss: 0.0325 - accuracy: 0.9896\n",
            "Epoch 11: val_accuracy improved from 0.99125 to 0.99233, saving model to mnist/model_1_1.h1\n",
            "375/375 [==============================] - 3s 9ms/step - loss: 0.0326 - accuracy: 0.9896 - val_loss: 0.0294 - val_accuracy: 0.9923\n",
            "Epoch 12/100\n",
            "370/375 [============================>.] - ETA: 0s - loss: 0.0288 - accuracy: 0.9914\n",
            "Epoch 12: val_accuracy did not improve from 0.99233\n",
            "375/375 [==============================] - 2s 6ms/step - loss: 0.0288 - accuracy: 0.9914 - val_loss: 0.0275 - val_accuracy: 0.9917\n",
            "Epoch 13/100\n",
            "368/375 [============================>.] - ETA: 0s - loss: 0.0295 - accuracy: 0.9903\n",
            "Epoch 13: val_accuracy improved from 0.99233 to 0.99242, saving model to mnist/model_1_1.h1\n",
            "375/375 [==============================] - 3s 9ms/step - loss: 0.0295 - accuracy: 0.9903 - val_loss: 0.0285 - val_accuracy: 0.9924\n",
            "Epoch 14/100\n",
            "372/375 [============================>.] - ETA: 0s - loss: 0.0270 - accuracy: 0.9916\n",
            "Epoch 14: val_accuracy did not improve from 0.99242\n",
            "375/375 [==============================] - 2s 7ms/step - loss: 0.0273 - accuracy: 0.9915 - val_loss: 0.0347 - val_accuracy: 0.9906\n",
            "Epoch 15/100\n",
            "368/375 [============================>.] - ETA: 0s - loss: 0.0255 - accuracy: 0.9919\n",
            "Epoch 15: val_accuracy did not improve from 0.99242\n",
            "375/375 [==============================] - 2s 6ms/step - loss: 0.0253 - accuracy: 0.9919 - val_loss: 0.0282 - val_accuracy: 0.9924\n",
            "Epoch 16/100\n",
            "374/375 [============================>.] - ETA: 0s - loss: 0.0241 - accuracy: 0.9923\n",
            "Epoch 16: val_accuracy did not improve from 0.99242\n",
            "375/375 [==============================] - 2s 6ms/step - loss: 0.0241 - accuracy: 0.9923 - val_loss: 0.0325 - val_accuracy: 0.9913\n",
            "Epoch 17/100\n",
            "368/375 [============================>.] - ETA: 0s - loss: 0.0234 - accuracy: 0.9926\n",
            "Epoch 17: val_accuracy improved from 0.99242 to 0.99358, saving model to mnist/model_1_1.h1\n",
            "375/375 [==============================] - 3s 9ms/step - loss: 0.0233 - accuracy: 0.9927 - val_loss: 0.0282 - val_accuracy: 0.9936\n",
            "Epoch 18/100\n",
            "375/375 [==============================] - ETA: 0s - loss: 0.0237 - accuracy: 0.9926\n",
            "Epoch 18: val_accuracy did not improve from 0.99358\n",
            "375/375 [==============================] - 2s 6ms/step - loss: 0.0237 - accuracy: 0.9926 - val_loss: 0.0285 - val_accuracy: 0.9924\n",
            "Epoch 19/100\n",
            "374/375 [============================>.] - ETA: 0s - loss: 0.0221 - accuracy: 0.9932\n",
            "Epoch 19: val_accuracy did not improve from 0.99358\n",
            "375/375 [==============================] - 2s 7ms/step - loss: 0.0221 - accuracy: 0.9932 - val_loss: 0.0316 - val_accuracy: 0.9922\n",
            "Epoch 20/100\n",
            "373/375 [============================>.] - ETA: 0s - loss: 0.0214 - accuracy: 0.9932\n",
            "Epoch 20: val_accuracy improved from 0.99358 to 0.99375, saving model to mnist/model_1_1.h1\n",
            "375/375 [==============================] - 3s 9ms/step - loss: 0.0213 - accuracy: 0.9932 - val_loss: 0.0263 - val_accuracy: 0.9937\n",
            "Epoch 21/100\n",
            "375/375 [==============================] - ETA: 0s - loss: 0.0191 - accuracy: 0.9940\n",
            "Epoch 21: val_accuracy did not improve from 0.99375\n",
            "375/375 [==============================] - 2s 7ms/step - loss: 0.0191 - accuracy: 0.9940 - val_loss: 0.0262 - val_accuracy: 0.9933\n",
            "Epoch 22/100\n",
            "369/375 [============================>.] - ETA: 0s - loss: 0.0181 - accuracy: 0.9942\n",
            "Epoch 22: val_accuracy did not improve from 0.99375\n",
            "375/375 [==============================] - 2s 6ms/step - loss: 0.0179 - accuracy: 0.9943 - val_loss: 0.0309 - val_accuracy: 0.9928\n",
            "Epoch 23/100\n",
            "368/375 [============================>.] - ETA: 0s - loss: 0.0204 - accuracy: 0.9938\n",
            "Epoch 23: val_accuracy did not improve from 0.99375\n",
            "375/375 [==============================] - 2s 6ms/step - loss: 0.0203 - accuracy: 0.9939 - val_loss: 0.0284 - val_accuracy: 0.9933\n",
            "Epoch 24/100\n",
            "371/375 [============================>.] - ETA: 0s - loss: 0.0188 - accuracy: 0.9937\n",
            "Epoch 24: val_accuracy did not improve from 0.99375\n",
            "375/375 [==============================] - 2s 7ms/step - loss: 0.0188 - accuracy: 0.9937 - val_loss: 0.0365 - val_accuracy: 0.9913\n",
            "Epoch 25/100\n",
            "374/375 [============================>.] - ETA: 0s - loss: 0.0184 - accuracy: 0.9938\n",
            "Epoch 25: val_accuracy did not improve from 0.99375\n",
            "375/375 [==============================] - 2s 6ms/step - loss: 0.0184 - accuracy: 0.9938 - val_loss: 0.0300 - val_accuracy: 0.9929\n",
            "Epoch 26/100\n",
            "369/375 [============================>.] - ETA: 0s - loss: 0.0170 - accuracy: 0.9945\n",
            "Epoch 26: val_accuracy did not improve from 0.99375\n",
            "375/375 [==============================] - 2s 6ms/step - loss: 0.0170 - accuracy: 0.9945 - val_loss: 0.0295 - val_accuracy: 0.9935\n",
            "Epoch 27/100\n",
            "369/375 [============================>.] - ETA: 0s - loss: 0.0172 - accuracy: 0.9945\n",
            "Epoch 27: val_accuracy did not improve from 0.99375\n",
            "375/375 [==============================] - 2s 7ms/step - loss: 0.0173 - accuracy: 0.9945 - val_loss: 0.0283 - val_accuracy: 0.9933\n",
            "Epoch 28/100\n",
            "371/375 [============================>.] - ETA: 0s - loss: 0.0168 - accuracy: 0.9950\n",
            "Epoch 28: val_accuracy did not improve from 0.99375\n",
            "375/375 [==============================] - 2s 7ms/step - loss: 0.0167 - accuracy: 0.9950 - val_loss: 0.0301 - val_accuracy: 0.9929\n",
            "Epoch 29/100\n",
            "371/375 [============================>.] - ETA: 0s - loss: 0.0150 - accuracy: 0.9948\n",
            "Epoch 29: val_accuracy did not improve from 0.99375\n",
            "375/375 [==============================] - 2s 7ms/step - loss: 0.0149 - accuracy: 0.9949 - val_loss: 0.0296 - val_accuracy: 0.9929\n",
            "Epoch 30/100\n",
            "371/375 [============================>.] - ETA: 0s - loss: 0.0162 - accuracy: 0.9947\n",
            "Epoch 30: val_accuracy did not improve from 0.99375\n",
            "375/375 [==============================] - 2s 6ms/step - loss: 0.0162 - accuracy: 0.9946 - val_loss: 0.0291 - val_accuracy: 0.9935\n",
            "Epoch 31/100\n",
            "375/375 [==============================] - ETA: 0s - loss: 0.0160 - accuracy: 0.9949\n",
            "Epoch 31: val_accuracy did not improve from 0.99375\n",
            "375/375 [==============================] - 2s 7ms/step - loss: 0.0160 - accuracy: 0.9949 - val_loss: 0.0279 - val_accuracy: 0.9934\n",
            "Epoch 31: early stopping\n"
          ]
        }
      ]
    },
    {
      "cell_type": "code",
      "source": [
        "result = model_1_1.evaluate(test_imgs, test_labels)\n",
        "print(\"\\n테스트 정확도: %.4f\" %(result)[1])"
      ],
      "metadata": {
        "colab": {
          "base_uri": "https://localhost:8080/"
        },
        "outputId": "22d2197a-df0f-4c3f-9180-3c74a010cff5",
        "id": "Mq-GE0h5wtcL"
      },
      "execution_count": 57,
      "outputs": [
        {
          "output_type": "stream",
          "name": "stdout",
          "text": [
            "313/313 [==============================] - 1s 3ms/step - loss: 0.0259 - accuracy: 0.9934\n",
            "\n",
            "테스트 정확도: 0.9934\n"
          ]
        }
      ]
    },
    {
      "cell_type": "code",
      "source": [
        "loaded_model = load_model('mnist/model_1_1.h1')\n",
        "result_loaded = loaded_model.evaluate(test_imgs, test_labels)\n",
        "print(\"\\n불러온 모델 테스트 정확도: %.4f\" %(result_loaded)[1])"
      ],
      "metadata": {
        "colab": {
          "base_uri": "https://localhost:8080/"
        },
        "outputId": "5cad3a8f-910b-444d-ea6c-80c2f47a9ed8",
        "id": "fGK6vEuiwtcL"
      },
      "execution_count": 58,
      "outputs": [
        {
          "output_type": "stream",
          "name": "stdout",
          "text": [
            "313/313 [==============================] - 1s 3ms/step - loss: 0.0211 - accuracy: 0.9943\n",
            "\n",
            "불러온 모델 테스트 정확도: 0.9943\n"
          ]
        }
      ]
    },
    {
      "cell_type": "code",
      "source": [
        "acc = hist_1_1.history['accuracy']\n",
        "val_acc = hist_1_1.history['val_accuracy']\n",
        "loss = hist_1_1.history['loss']\n",
        "val_loss = hist_1_1.history['val_loss']\n",
        "\n",
        "epochs = range(1, len(acc)+1)\n",
        "\n",
        "plt.figure(figsize=(8, 12))\n",
        "ax1=plt.subplot(2, 1, 1)\n",
        "ax2=plt.subplot(2, 1, 2)\n",
        "ax1.plot(epochs, acc, 'bo', label='Trainig acc')\n",
        "ax1.plot(epochs, val_acc, 'b', label='Validation acc')\n",
        "ax1.set_title(\"Training and Validation accuracy\")\n",
        "ax1.legend()\n",
        "ax2.plot(epochs, loss, 'bo', label='Traning loss')\n",
        "ax2.plot(epochs, val_loss, 'b', label='Validation loss')\n",
        "ax2.set_title(\"Training and Validation loss\")\n",
        "ax2.legend()\n",
        "plt.show()"
      ],
      "metadata": {
        "colab": {
          "base_uri": "https://localhost:8080/",
          "height": 716
        },
        "outputId": "fad9f70c-8ba2-4a2b-ef90-83787ad7af51",
        "id": "k-onGLGMwtcM"
      },
      "execution_count": 59,
      "outputs": [
        {
          "output_type": "display_data",
          "data": {
            "text/plain": [
              "<Figure size 576x864 with 2 Axes>"
            ],
            "image/png": "[encoded data removed]"
          },
          "metadata": {
            "needs_background": "light"
          }
        }
      ]
    },
    {
      "cell_type": "code",
      "source": [
        "df.loc[1]=['CNN', 'model_1_1', '32(relu)-64(drop0.2/relu)-128(drop0.5/relu)-Flatten-64(sigmoid)-10(softmax)]', 'rmsprop', 100, 128, 0.2, 'es/mc', \"%.4f\"%(result)[1], \"%.4f\"%(result_loaded)[1], \"%.4f\"%(result)[0], \"%.4f\"%(result_loaded)[0]]"
      ],
      "metadata": {
        "id": "IMzWXDrQwtcM"
      },
      "execution_count": 60,
      "outputs": []
    },
    {
      "cell_type": "markdown",
      "source": [
        "#### __3.  batch_size=128, 출력 직전층 activation='sigmoid', optimizer='adam'__ "
      ],
      "metadata": {
        "id": "YN2gmPkbzFeA"
      }
    },
    {
      "cell_type": "code",
      "source": [
        "model_1_2 = keras.Sequential([\n",
        "  layers.Conv2D(32, (3, 3), activation='relu', input_shape=(28, 28, 1)),\n",
        "  layers.MaxPooling2D((2, 2)),\n",
        "  layers.Dropout(0.2),\n",
        "  layers.Conv2D(64, (3, 3), activation='relu'),\n",
        "  layers.Dropout(0.2),\n",
        "  layers.MaxPooling2D((2, 2)),\n",
        "  layers.Conv2D(128, (3, 3), activation='relu'),\n",
        "  layers.Dropout(0.5),\n",
        "  layers.Flatten(),\n",
        "  layers.Dense(64, activation = 'sigmoid'),\n",
        "  layers.Dense(10, activation = 'softmax')\n",
        "])\n",
        "model_1_2.summary()"
      ],
      "metadata": {
        "colab": {
          "base_uri": "https://localhost:8080/"
        },
        "outputId": "3171b154-1303-4f7d-fa6c-da671a10a7c8",
        "id": "Ujc6kXBOzFeA"
      },
      "execution_count": 61,
      "outputs": [
        {
          "output_type": "stream",
          "name": "stdout",
          "text": [
            "Model: \"sequential_5\"\n",
            "_________________________________________________________________\n",
            " Layer (type)                Output Shape              Param #   \n",
            "=================================================================\n",
            " conv2d_15 (Conv2D)          (None, 26, 26, 32)        320       \n",
            "                                                                 \n",
            " max_pooling2d_10 (MaxPoolin  (None, 13, 13, 32)       0         \n",
            " g2D)                                                            \n",
            "                                                                 \n",
            " dropout_15 (Dropout)        (None, 13, 13, 32)        0         \n",
            "                                                                 \n",
            " conv2d_16 (Conv2D)          (None, 11, 11, 64)        18496     \n",
            "                                                                 \n",
            " dropout_16 (Dropout)        (None, 11, 11, 64)        0         \n",
            "                                                                 \n",
            " max_pooling2d_11 (MaxPoolin  (None, 5, 5, 64)         0         \n",
            " g2D)                                                            \n",
            "                                                                 \n",
            " conv2d_17 (Conv2D)          (None, 3, 3, 128)         73856     \n",
            "                                                                 \n",
            " dropout_17 (Dropout)        (None, 3, 3, 128)         0         \n",
            "                                                                 \n",
            " flatten_5 (Flatten)         (None, 1152)              0         \n",
            "                                                                 \n",
            " dense_10 (Dense)            (None, 64)                73792     \n",
            "                                                                 \n",
            " dense_11 (Dense)            (None, 10)                650       \n",
            "                                                                 \n",
            "=================================================================\n",
            "Total params: 167,114\n",
            "Trainable params: 167,114\n",
            "Non-trainable params: 0\n",
            "_________________________________________________________________\n"
          ]
        }
      ]
    },
    {
      "cell_type": "code",
      "source": [
        "model_1_2.compile(optimizer=\"adam\", loss=\"categorical_crossentropy\", metrics=[\"accuracy\"])"
      ],
      "metadata": {
        "id": "sy6jnJeXzFeB"
      },
      "execution_count": 62,
      "outputs": []
    },
    {
      "cell_type": "code",
      "source": [
        "es = EarlyStopping(monitor='val_loss', mode='min', verbose=1, patience=10)\n",
        "mc = ModelCheckpoint('mnist/model_1_2.h1', monitor='val_accuracy', mode='max', verbose=1, save_best_only=True)\n",
        "hist_1_2 = model_1_2.fit(train_imgs, train_labels, epochs=100, batch_size=128, validation_split=0.2, callbacks=[es, mc])"
      ],
      "metadata": {
        "colab": {
          "base_uri": "https://localhost:8080/"
        },
        "outputId": "73c6d5f4-cb71-42e9-d9ed-f51a1423348c",
        "id": "yTLlJJB-zFeB"
      },
      "execution_count": 63,
      "outputs": [
        {
          "output_type": "stream",
          "name": "stdout",
          "text": [
            "Epoch 1/100\n",
            "375/375 [==============================] - ETA: 0s - loss: 0.4526 - accuracy: 0.8803\n",
            "Epoch 1: val_accuracy improved from -inf to 0.97492, saving model to mnist/model_1_2.h1\n",
            "375/375 [==============================] - 4s 10ms/step - loss: 0.4526 - accuracy: 0.8803 - val_loss: 0.1034 - val_accuracy: 0.9749\n",
            "Epoch 2/100\n",
            "370/375 [============================>.] - ETA: 0s - loss: 0.1133 - accuracy: 0.9689\n",
            "Epoch 2: val_accuracy improved from 0.97492 to 0.98175, saving model to mnist/model_1_2.h1\n",
            "375/375 [==============================] - 3s 9ms/step - loss: 0.1130 - accuracy: 0.9690 - val_loss: 0.0687 - val_accuracy: 0.9818\n",
            "Epoch 3/100\n",
            "374/375 [============================>.] - ETA: 0s - loss: 0.0788 - accuracy: 0.9775\n",
            "Epoch 3: val_accuracy improved from 0.98175 to 0.98592, saving model to mnist/model_1_2.h1\n",
            "375/375 [==============================] - 3s 9ms/step - loss: 0.0786 - accuracy: 0.9776 - val_loss: 0.0482 - val_accuracy: 0.9859\n",
            "Epoch 4/100\n",
            "368/375 [============================>.] - ETA: 0s - loss: 0.0593 - accuracy: 0.9825\n",
            "Epoch 4: val_accuracy improved from 0.98592 to 0.98625, saving model to mnist/model_1_2.h1\n",
            "375/375 [==============================] - 3s 9ms/step - loss: 0.0593 - accuracy: 0.9825 - val_loss: 0.0449 - val_accuracy: 0.9862\n",
            "Epoch 5/100\n",
            "373/375 [============================>.] - ETA: 0s - loss: 0.0508 - accuracy: 0.9848\n",
            "Epoch 5: val_accuracy improved from 0.98625 to 0.98933, saving model to mnist/model_1_2.h1\n",
            "375/375 [==============================] - 3s 9ms/step - loss: 0.0508 - accuracy: 0.9849 - val_loss: 0.0383 - val_accuracy: 0.9893\n",
            "Epoch 6/100\n",
            "369/375 [============================>.] - ETA: 0s - loss: 0.0475 - accuracy: 0.9856\n",
            "Epoch 6: val_accuracy did not improve from 0.98933\n",
            "375/375 [==============================] - 2s 6ms/step - loss: 0.0478 - accuracy: 0.9855 - val_loss: 0.0383 - val_accuracy: 0.9886\n",
            "Epoch 7/100\n",
            "368/375 [============================>.] - ETA: 0s - loss: 0.0406 - accuracy: 0.9876\n",
            "Epoch 7: val_accuracy improved from 0.98933 to 0.98958, saving model to mnist/model_1_2.h1\n",
            "375/375 [==============================] - 3s 9ms/step - loss: 0.0404 - accuracy: 0.9877 - val_loss: 0.0352 - val_accuracy: 0.9896\n",
            "Epoch 8/100\n",
            "369/375 [============================>.] - ETA: 0s - loss: 0.0355 - accuracy: 0.9893\n",
            "Epoch 8: val_accuracy improved from 0.98958 to 0.99017, saving model to mnist/model_1_2.h1\n",
            "375/375 [==============================] - 3s 9ms/step - loss: 0.0358 - accuracy: 0.9892 - val_loss: 0.0330 - val_accuracy: 0.9902\n",
            "Epoch 9/100\n",
            "371/375 [============================>.] - ETA: 0s - loss: 0.0338 - accuracy: 0.9898\n",
            "Epoch 9: val_accuracy improved from 0.99017 to 0.99067, saving model to mnist/model_1_2.h1\n",
            "375/375 [==============================] - 3s 9ms/step - loss: 0.0339 - accuracy: 0.9897 - val_loss: 0.0311 - val_accuracy: 0.9907\n",
            "Epoch 10/100\n",
            "374/375 [============================>.] - ETA: 0s - loss: 0.0323 - accuracy: 0.9899\n",
            "Epoch 10: val_accuracy improved from 0.99067 to 0.99150, saving model to mnist/model_1_2.h1\n",
            "375/375 [==============================] - 3s 9ms/step - loss: 0.0323 - accuracy: 0.9899 - val_loss: 0.0299 - val_accuracy: 0.9915\n",
            "Epoch 11/100\n",
            "370/375 [============================>.] - ETA: 0s - loss: 0.0310 - accuracy: 0.9902\n",
            "Epoch 11: val_accuracy did not improve from 0.99150\n",
            "375/375 [==============================] - 2s 6ms/step - loss: 0.0310 - accuracy: 0.9902 - val_loss: 0.0285 - val_accuracy: 0.9913\n",
            "Epoch 12/100\n",
            "369/375 [============================>.] - ETA: 0s - loss: 0.0282 - accuracy: 0.9911\n",
            "Epoch 12: val_accuracy improved from 0.99150 to 0.99158, saving model to mnist/model_1_2.h1\n",
            "375/375 [==============================] - 3s 9ms/step - loss: 0.0282 - accuracy: 0.9911 - val_loss: 0.0294 - val_accuracy: 0.9916\n",
            "Epoch 13/100\n",
            "369/375 [============================>.] - ETA: 0s - loss: 0.0260 - accuracy: 0.9920\n",
            "Epoch 13: val_accuracy improved from 0.99158 to 0.99275, saving model to mnist/model_1_2.h1\n",
            "375/375 [==============================] - 3s 9ms/step - loss: 0.0261 - accuracy: 0.9919 - val_loss: 0.0264 - val_accuracy: 0.9927\n",
            "Epoch 14/100\n",
            "375/375 [==============================] - ETA: 0s - loss: 0.0236 - accuracy: 0.9928\n",
            "Epoch 14: val_accuracy did not improve from 0.99275\n",
            "375/375 [==============================] - 2s 7ms/step - loss: 0.0236 - accuracy: 0.9928 - val_loss: 0.0267 - val_accuracy: 0.9927\n",
            "Epoch 15/100\n",
            "368/375 [============================>.] - ETA: 0s - loss: 0.0226 - accuracy: 0.9932\n",
            "Epoch 15: val_accuracy did not improve from 0.99275\n",
            "375/375 [==============================] - 2s 7ms/step - loss: 0.0226 - accuracy: 0.9932 - val_loss: 0.0272 - val_accuracy: 0.9926\n",
            "Epoch 16/100\n",
            "369/375 [============================>.] - ETA: 0s - loss: 0.0226 - accuracy: 0.9929\n",
            "Epoch 16: val_accuracy improved from 0.99275 to 0.99342, saving model to mnist/model_1_2.h1\n",
            "375/375 [==============================] - 3s 9ms/step - loss: 0.0225 - accuracy: 0.9930 - val_loss: 0.0268 - val_accuracy: 0.9934\n",
            "Epoch 17/100\n",
            "367/375 [============================>.] - ETA: 0s - loss: 0.0240 - accuracy: 0.9919\n",
            "Epoch 17: val_accuracy did not improve from 0.99342\n",
            "375/375 [==============================] - 2s 7ms/step - loss: 0.0239 - accuracy: 0.9919 - val_loss: 0.0283 - val_accuracy: 0.9917\n",
            "Epoch 18/100\n",
            "368/375 [============================>.] - ETA: 0s - loss: 0.0196 - accuracy: 0.9935\n",
            "Epoch 18: val_accuracy did not improve from 0.99342\n",
            "375/375 [==============================] - 2s 7ms/step - loss: 0.0197 - accuracy: 0.9935 - val_loss: 0.0263 - val_accuracy: 0.9929\n",
            "Epoch 19/100\n",
            "369/375 [============================>.] - ETA: 0s - loss: 0.0187 - accuracy: 0.9938\n",
            "Epoch 19: val_accuracy did not improve from 0.99342\n",
            "375/375 [==============================] - 2s 6ms/step - loss: 0.0185 - accuracy: 0.9939 - val_loss: 0.0260 - val_accuracy: 0.9932\n",
            "Epoch 20/100\n",
            "374/375 [============================>.] - ETA: 0s - loss: 0.0187 - accuracy: 0.9939\n",
            "Epoch 20: val_accuracy did not improve from 0.99342\n",
            "375/375 [==============================] - 2s 7ms/step - loss: 0.0186 - accuracy: 0.9939 - val_loss: 0.0254 - val_accuracy: 0.9930\n",
            "Epoch 21/100\n",
            "369/375 [============================>.] - ETA: 0s - loss: 0.0175 - accuracy: 0.9944\n",
            "Epoch 21: val_accuracy did not improve from 0.99342\n",
            "375/375 [==============================] - 2s 6ms/step - loss: 0.0174 - accuracy: 0.9944 - val_loss: 0.0275 - val_accuracy: 0.9927\n",
            "Epoch 22/100\n",
            "373/375 [============================>.] - ETA: 0s - loss: 0.0196 - accuracy: 0.9935\n",
            "Epoch 22: val_accuracy did not improve from 0.99342\n",
            "375/375 [==============================] - 2s 7ms/step - loss: 0.0197 - accuracy: 0.9935 - val_loss: 0.0266 - val_accuracy: 0.9926\n",
            "Epoch 23/100\n",
            "374/375 [============================>.] - ETA: 0s - loss: 0.0182 - accuracy: 0.9942\n",
            "Epoch 23: val_accuracy did not improve from 0.99342\n",
            "375/375 [==============================] - 2s 7ms/step - loss: 0.0182 - accuracy: 0.9942 - val_loss: 0.0273 - val_accuracy: 0.9924\n",
            "Epoch 24/100\n",
            "373/375 [============================>.] - ETA: 0s - loss: 0.0142 - accuracy: 0.9955\n",
            "Epoch 24: val_accuracy did not improve from 0.99342\n",
            "375/375 [==============================] - 2s 7ms/step - loss: 0.0142 - accuracy: 0.9955 - val_loss: 0.0262 - val_accuracy: 0.9930\n",
            "Epoch 25/100\n",
            "368/375 [============================>.] - ETA: 0s - loss: 0.0147 - accuracy: 0.9949\n",
            "Epoch 25: val_accuracy did not improve from 0.99342\n",
            "375/375 [==============================] - 2s 7ms/step - loss: 0.0146 - accuracy: 0.9949 - val_loss: 0.0259 - val_accuracy: 0.9928\n",
            "Epoch 26/100\n",
            "372/375 [============================>.] - ETA: 0s - loss: 0.0149 - accuracy: 0.9951\n",
            "Epoch 26: val_accuracy did not improve from 0.99342\n",
            "375/375 [==============================] - 2s 7ms/step - loss: 0.0149 - accuracy: 0.9951 - val_loss: 0.0254 - val_accuracy: 0.9933\n",
            "Epoch 27/100\n",
            "370/375 [============================>.] - ETA: 0s - loss: 0.0137 - accuracy: 0.9954\n",
            "Epoch 27: val_accuracy improved from 0.99342 to 0.99375, saving model to mnist/model_1_2.h1\n",
            "375/375 [==============================] - 3s 9ms/step - loss: 0.0137 - accuracy: 0.9954 - val_loss: 0.0222 - val_accuracy: 0.9937\n",
            "Epoch 28/100\n",
            "369/375 [============================>.] - ETA: 0s - loss: 0.0146 - accuracy: 0.9950\n",
            "Epoch 28: val_accuracy improved from 0.99375 to 0.99392, saving model to mnist/model_1_2.h1\n",
            "375/375 [==============================] - 3s 9ms/step - loss: 0.0145 - accuracy: 0.9950 - val_loss: 0.0251 - val_accuracy: 0.9939\n",
            "Epoch 29/100\n",
            "375/375 [==============================] - ETA: 0s - loss: 0.0135 - accuracy: 0.9952\n",
            "Epoch 29: val_accuracy did not improve from 0.99392\n",
            "375/375 [==============================] - 2s 6ms/step - loss: 0.0135 - accuracy: 0.9952 - val_loss: 0.0233 - val_accuracy: 0.9935\n",
            "Epoch 30/100\n",
            "368/375 [============================>.] - ETA: 0s - loss: 0.0131 - accuracy: 0.9957\n",
            "Epoch 30: val_accuracy did not improve from 0.99392\n",
            "375/375 [==============================] - 2s 6ms/step - loss: 0.0132 - accuracy: 0.9956 - val_loss: 0.0265 - val_accuracy: 0.9931\n",
            "Epoch 31/100\n",
            "368/375 [============================>.] - ETA: 0s - loss: 0.0120 - accuracy: 0.9958\n",
            "Epoch 31: val_accuracy did not improve from 0.99392\n",
            "375/375 [==============================] - 2s 6ms/step - loss: 0.0122 - accuracy: 0.9958 - val_loss: 0.0253 - val_accuracy: 0.9934\n",
            "Epoch 32/100\n",
            "369/375 [============================>.] - ETA: 0s - loss: 0.0128 - accuracy: 0.9960\n",
            "Epoch 32: val_accuracy did not improve from 0.99392\n",
            "375/375 [==============================] - 2s 6ms/step - loss: 0.0128 - accuracy: 0.9960 - val_loss: 0.0251 - val_accuracy: 0.9927\n",
            "Epoch 33/100\n",
            "375/375 [==============================] - ETA: 0s - loss: 0.0125 - accuracy: 0.9959\n",
            "Epoch 33: val_accuracy did not improve from 0.99392\n",
            "375/375 [==============================] - 2s 7ms/step - loss: 0.0125 - accuracy: 0.9959 - val_loss: 0.0257 - val_accuracy: 0.9932\n",
            "Epoch 34/100\n",
            "375/375 [==============================] - ETA: 0s - loss: 0.0124 - accuracy: 0.9961\n",
            "Epoch 34: val_accuracy did not improve from 0.99392\n",
            "375/375 [==============================] - 2s 6ms/step - loss: 0.0124 - accuracy: 0.9961 - val_loss: 0.0236 - val_accuracy: 0.9938\n",
            "Epoch 35/100\n",
            "370/375 [============================>.] - ETA: 0s - loss: 0.0112 - accuracy: 0.9963\n",
            "Epoch 35: val_accuracy did not improve from 0.99392\n",
            "375/375 [==============================] - 2s 6ms/step - loss: 0.0112 - accuracy: 0.9964 - val_loss: 0.0255 - val_accuracy: 0.9938\n",
            "Epoch 36/100\n",
            "375/375 [==============================] - ETA: 0s - loss: 0.0110 - accuracy: 0.9963\n",
            "Epoch 36: val_accuracy improved from 0.99392 to 0.99400, saving model to mnist/model_1_2.h1\n",
            "375/375 [==============================] - 3s 9ms/step - loss: 0.0110 - accuracy: 0.9963 - val_loss: 0.0240 - val_accuracy: 0.9940\n",
            "Epoch 37/100\n",
            "374/375 [============================>.] - ETA: 0s - loss: 0.0111 - accuracy: 0.9962\n",
            "Epoch 37: val_accuracy did not improve from 0.99400\n",
            "375/375 [==============================] - 2s 6ms/step - loss: 0.0111 - accuracy: 0.9962 - val_loss: 0.0256 - val_accuracy: 0.9939\n",
            "Epoch 37: early stopping\n"
          ]
        }
      ]
    },
    {
      "cell_type": "code",
      "source": [
        "result = model_1_2.evaluate(test_imgs, test_labels)\n",
        "print(\"\\n테스트 정확도: %.4f\" %(result)[1])"
      ],
      "metadata": {
        "colab": {
          "base_uri": "https://localhost:8080/"
        },
        "outputId": "d311356c-4161-4aa1-d9ad-9e5ba1d7de4b",
        "id": "BBHg9vsCzFeD"
      },
      "execution_count": 64,
      "outputs": [
        {
          "output_type": "stream",
          "name": "stdout",
          "text": [
            "313/313 [==============================] - 1s 3ms/step - loss: 0.0231 - accuracy: 0.9938\n",
            "\n",
            "테스트 정확도: 0.9938\n"
          ]
        }
      ]
    },
    {
      "cell_type": "code",
      "source": [
        "loaded_model = load_model('mnist/model_1_2.h1')\n",
        "result_loaded = loaded_model.evaluate(test_imgs, test_labels)\n",
        "print(\"\\n불러온 모델 테스트 정확도: %.4f\" %(result_loaded)[1])"
      ],
      "metadata": {
        "colab": {
          "base_uri": "https://localhost:8080/"
        },
        "outputId": "f14a80ae-a022-43ee-93bb-2ff1aac04aa0",
        "id": "-OddZd0hzFeE"
      },
      "execution_count": 65,
      "outputs": [
        {
          "output_type": "stream",
          "name": "stdout",
          "text": [
            "313/313 [==============================] - 1s 3ms/step - loss: 0.0219 - accuracy: 0.9942\n",
            "\n",
            "불러온 모델 테스트 정확도: 0.9942\n"
          ]
        }
      ]
    },
    {
      "cell_type": "code",
      "source": [
        "acc = hist_1_2.history['accuracy']\n",
        "val_acc = hist_1_2.history['val_accuracy']\n",
        "loss = hist_1_2.history['loss']\n",
        "val_loss = hist_1_2.history['val_loss']\n",
        "\n",
        "epochs = range(1, len(acc)+1)\n",
        "\n",
        "plt.figure(figsize=(8, 12))\n",
        "ax1=plt.subplot(2, 1, 1)\n",
        "ax2=plt.subplot(2, 1, 2)\n",
        "ax1.plot(epochs, acc, 'bo', label='Trainig acc')\n",
        "ax1.plot(epochs, val_acc, 'b', label='Validation acc')\n",
        "ax1.set_title(\"Training and Validation accuracy\")\n",
        "ax1.legend()\n",
        "ax2.plot(epochs, loss, 'bo', label='Traning loss')\n",
        "ax2.plot(epochs, val_loss, 'b', label='Validation loss')\n",
        "ax2.set_title(\"Training and Validation loss\")\n",
        "ax2.legend()\n",
        "plt.show()"
      ],
      "metadata": {
        "colab": {
          "base_uri": "https://localhost:8080/",
          "height": 716
        },
        "outputId": "b04f3671-da9d-4377-986c-0e4cd14ea679",
        "id": "0gLCkZufzFeE"
      },
      "execution_count": 66,
      "outputs": [
        {
          "output_type": "display_data",
          "data": {
            "text/plain": [
              "<Figure size 576x864 with 2 Axes>"
            ],
            "image/png": "[encoded data removed]"
          },
          "metadata": {
            "needs_background": "light"
          }
        }
      ]
    },
    {
      "cell_type": "code",
      "source": [
        "df.loc[2]=['CNN', 'model_1_2', '32(relu)-64(drop0.2/relu)-128(drop0.5/relu)-Flatten-64(sigmoid)-10(softmax)]', 'adam', 100, 128, 0.2, 'es/mc', \"%.4f\"%(result)[1], \"%.4f\"%(result_loaded)[1], \"%.4f\"%(result)[0], \"%.4f\"%(result_loaded)[0]]"
      ],
      "metadata": {
        "id": "i57lgiGgzFeF"
      },
      "execution_count": 67,
      "outputs": []
    },
    {
      "cell_type": "code",
      "source": [
        "df.head()"
      ],
      "metadata": {
        "colab": {
          "base_uri": "https://localhost:8080/",
          "height": 143
        },
        "id": "K82gOTDByz2D",
        "outputId": "7fc35f64-63a0-4a25-9dac-7002bb3f960c"
      },
      "execution_count": 68,
      "outputs": [
        {
          "output_type": "execute_result",
          "data": {
            "text/plain": [
              "    모델       Name                                          Structure  \\\n",
              "0  CNN    model_1  32(relu)-64(drop0.2/relu)-128(drop0.5/relu)-Fl...   \n",
              "1  CNN  model_1_1  32(relu)-64(drop0.2/relu)-128(drop0.5/relu)-Fl...   \n",
              "2  CNN  model_1_2  32(relu)-64(drop0.2/relu)-128(drop0.5/relu)-Fl...   \n",
              "\n",
              "  Optimizer  epochs  batch_size  validation_split callback Accuracy  \\\n",
              "0       SGD     100         128               0.2    es/mc   0.9886   \n",
              "1   rmsprop     100         128               0.2    es/mc   0.9934   \n",
              "2      adam     100         128               0.2    es/mc   0.9938   \n",
              "\n",
              "  MC_Accuracy    Loss MC_Loss  \n",
              "0      0.9888  0.0388  0.0387  \n",
              "1      0.9943  0.0259  0.0211  \n",
              "2      0.9942  0.0231  0.0219  "
            ],
            "text/html": [
              "\n",
              "  <div id=\"df-e14eecf8-dd79-4a07-a1a6-29a7f48f2b37\">\n",
              "    <div class=\"colab-df-container\">\n",
              "      <div>\n",
              "<style scoped>\n",
              "    .dataframe tbody tr th:only-of-type {\n",
              "        vertical-align: middle;\n",
              "    }\n",
              "\n",
              "    .dataframe tbody tr th {\n",
              "        vertical-align: top;\n",
              "    }\n",
              "\n",
              "    .dataframe thead th {\n",
              "        text-align: right;\n",
              "    }\n",
              "</style>\n",
              "<table border=\"1\" class=\"dataframe\">\n",
              "  <thead>\n",
              "    <tr style=\"text-align: right;\">\n",
              "      <th></th>\n",
              "      <th>모델</th>\n",
              "      <th>Name</th>\n",
              "      <th>Structure</th>\n",
              "      <th>Optimizer</th>\n",
              "      <th>epochs</th>\n",
              "      <th>batch_size</th>\n",
              "      <th>validation_split</th>\n",
              "      <th>callback</th>\n",
              "      <th>Accuracy</th>\n",
              "      <th>MC_Accuracy</th>\n",
              "      <th>Loss</th>\n",
              "      <th>MC_Loss</th>\n",
              "    </tr>\n",
              "  </thead>\n",
              "  <tbody>\n",
              "    <tr>\n",
              "      <th>0</th>\n",
              "      <td>CNN</td>\n",
              "      <td>model_1</td>\n",
              "      <td>32(relu)-64(drop0.2/relu)-128(drop0.5/relu)-Fl...</td>\n",
              "      <td>SGD</td>\n",
              "      <td>100</td>\n",
              "      <td>128</td>\n",
              "      <td>0.2</td>\n",
              "      <td>es/mc</td>\n",
              "      <td>0.9886</td>\n",
              "      <td>0.9888</td>\n",
              "      <td>0.0388</td>\n",
              "      <td>0.0387</td>\n",
              "    </tr>\n",
              "    <tr>\n",
              "      <th>1</th>\n",
              "      <td>CNN</td>\n",
              "      <td>model_1_1</td>\n",
              "      <td>32(relu)-64(drop0.2/relu)-128(drop0.5/relu)-Fl...</td>\n",
              "      <td>rmsprop</td>\n",
              "      <td>100</td>\n",
              "      <td>128</td>\n",
              "      <td>0.2</td>\n",
              "      <td>es/mc</td>\n",
              "      <td>0.9934</td>\n",
              "      <td>0.9943</td>\n",
              "      <td>0.0259</td>\n",
              "      <td>0.0211</td>\n",
              "    </tr>\n",
              "    <tr>\n",
              "      <th>2</th>\n",
              "      <td>CNN</td>\n",
              "      <td>model_1_2</td>\n",
              "      <td>32(relu)-64(drop0.2/relu)-128(drop0.5/relu)-Fl...</td>\n",
              "      <td>adam</td>\n",
              "      <td>100</td>\n",
              "      <td>128</td>\n",
              "      <td>0.2</td>\n",
              "      <td>es/mc</td>\n",
              "      <td>0.9938</td>\n",
              "      <td>0.9942</td>\n",
              "      <td>0.0231</td>\n",
              "      <td>0.0219</td>\n",
              "    </tr>\n",
              "  </tbody>\n",
              "</table>\n",
              "</div>\n",
              "      <button class=\"colab-df-convert\" onclick=\"convertToInteractive('df-e14eecf8-dd79-4a07-a1a6-29a7f48f2b37')\"\n",
              "              title=\"Convert this dataframe to an interactive table.\"\n",
              "              style=\"display:none;\">\n",
              "        \n",
              "  <svg xmlns=\"http://www.w3.org/2000/svg\" height=\"24px\"viewBox=\"0 0 24 24\"\n",
              "       width=\"24px\">\n",
              "    <path d=\"M0 0h24v24H0V0z\" fill=\"none\"/>\n",
              "    <path d=\"M18.56 5.44l.94 2.06.94-2.06 2.06-.94-2.06-.94-.94-2.06-.94 2.06-2.06.94zm-11 1L8.5 8.5l.94-2.06 2.06-.94-2.06-.94L8.5 2.5l-.94 2.06-2.06.94zm10 10l.94 2.06.94-2.06 2.06-.94-2.06-.94-.94-2.06-.94 2.06-2.06.94z\"/><path d=\"M17.41 7.96l-1.37-1.37c-.4-.4-.92-.59-1.43-.59-.52 0-1.04.2-1.43.59L10.3 9.45l-7.72 7.72c-.78.78-.78 2.05 0 2.83L4 21.41c.39.39.9.59 1.41.59.51 0 1.02-.2 1.41-.59l7.78-7.78 2.81-2.81c.8-.78.8-2.07 0-2.86zM5.41 20L4 18.59l7.72-7.72 1.47 1.35L5.41 20z\"/>\n",
              "  </svg>\n",
              "      </button>\n",
              "      \n",
              "  <style>\n",
              "    .colab-df-container {\n",
              "      display:flex;\n",
              "      flex-wrap:wrap;\n",
              "      gap: 12px;\n",
              "    }\n",
              "\n",
              "    .colab-df-convert {\n",
              "      background-color: #E8F0FE;\n",
              "      border: none;\n",
              "      border-radius: 50%;\n",
              "      cursor: pointer;\n",
              "      display: none;\n",
              "      fill: #1967D2;\n",
              "      height: 32px;\n",
              "      padding: 0 0 0 0;\n",
              "      width: 32px;\n",
              "    }\n",
              "\n",
              "    .colab-df-convert:hover {\n",
              "      background-color: #E2EBFA;\n",
              "      box-shadow: 0px 1px 2px rgba(60, 64, 67, 0.3), 0px 1px 3px 1px rgba(60, 64, 67, 0.15);\n",
              "      fill: #174EA6;\n",
              "    }\n",
              "\n",
              "    [theme=dark] .colab-df-convert {\n",
              "      background-color: #3B4455;\n",
              "      fill: #D2E3FC;\n",
              "    }\n",
              "\n",
              "    [theme=dark] .colab-df-convert:hover {\n",
              "      background-color: #434B5C;\n",
              "      box-shadow: 0px 1px 3px 1px rgba(0, 0, 0, 0.15);\n",
              "      filter: drop-shadow(0px 1px 2px rgba(0, 0, 0, 0.3));\n",
              "      fill: #FFFFFF;\n",
              "    }\n",
              "  </style>\n",
              "\n",
              "      <script>\n",
              "        const buttonEl =\n",
              "          document.querySelector('#df-e14eecf8-dd79-4a07-a1a6-29a7f48f2b37 button.colab-df-convert');\n",
              "        buttonEl.style.display =\n",
              "          google.colab.kernel.accessAllowed ? 'block' : 'none';\n",
              "\n",
              "        async function convertToInteractive(key) {\n",
              "          const element = document.querySelector('#df-e14eecf8-dd79-4a07-a1a6-29a7f48f2b37');\n",
              "          const dataTable =\n",
              "            await google.colab.kernel.invokeFunction('convertToInteractive',\n",
              "                                                     [key], {});\n",
              "          if (!dataTable) return;\n",
              "\n",
              "          const docLinkHtml = 'Like what you see? Visit the ' +\n",
              "            '<a target=\"_blank\" href=https://colab.research.google.com/notebooks/data_table.ipynb>data table notebook</a>'\n",
              "            + ' to learn more about interactive tables.';\n",
              "          element.innerHTML = '';\n",
              "          dataTable['output_type'] = 'display_data';\n",
              "          await google.colab.output.renderOutput(dataTable, element);\n",
              "          const docLink = document.createElement('div');\n",
              "          docLink.innerHTML = docLinkHtml;\n",
              "          element.appendChild(docLink);\n",
              "        }\n",
              "      </script>\n",
              "    </div>\n",
              "  </div>\n",
              "  "
            ]
          },
          "metadata": {},
          "execution_count": 68
        }
      ]
    },
    {
      "cell_type": "code",
      "source": [
        "df.to_csv(\"./mnist/220921_실습_2.csv\", header=True, sep=',', na_rep='NaN', float_format = '%.4f', encoding='utf-8', line_terminator='\\n')"
      ],
      "metadata": {
        "id": "wgZcTyBMStRP"
      },
      "execution_count": 69,
      "outputs": []
    }
  ]
}
