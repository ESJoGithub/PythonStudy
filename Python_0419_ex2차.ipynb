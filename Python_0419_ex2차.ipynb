{
  "nbformat": 4,
  "nbformat_minor": 0,
  "metadata": {
    "colab": {
      "name": "Python_0419_ex2차.ipynb",
      "provenance": [],
      "collapsed_sections": [],
      "authorship_tag": "ABX9TyNHHWP8mNJyo5DsMGlrhnaU",
      "include_colab_link": true
    },
    "kernelspec": {
      "name": "python3",
      "display_name": "Python 3"
    },
    "language_info": {
      "name": "python"
    }
  },
  "cells": [
    {
      "cell_type": "markdown",
      "metadata": {
        "id": "view-in-github",
        "colab_type": "text"
      },
      "source": [
        "<a href=\"https://colab.research.google.com/github/ESJoGithub/PythonStudy/blob/main/Python_0419_ex2%EC%B0%A8.ipynb\" target=\"_parent\"><img src=\"https://colab.research.google.com/assets/colab-badge.svg\" alt=\"Open In Colab\"/></a>"
      ]
    },
    {
      "cell_type": "markdown",
      "source": [
        "#**문제: 전교생의 국어 성적 관리 알고리즘** \n",
        "\n",
        "전제: 총 1~6학년, 학년 당 다섯 학급, 학급당 학생 수는 1반 5명, 2반 4명, 3반 5명, 4반 3명, 5반 4명이다.\n",
        "\n",
        "(단, 학년 미정, 학년 당 학급 수 미정, 학급 당 학생 수 미정이어도 동작 가능해야 한다.)\n",
        "\n",
        "1. 국어 점수를 입력 받아 저장(단, 점수의 범위는 0~100점이다)\n",
        "2. 실수로 인하여어떤 학생들은 마이너스 점수, 100점 이상의 점수가 입력되었다.(각 학년 당 실수가 하나씩 있다.)\n",
        "3. 실수를 찾아내고\n",
        "4. 그 부분만 새롭게 점수를 입력한다.\n",
        "5. 함수를 이용하라.\n",
        "\n",
        "*   학생들의 국어 점수를 입력받는 함수\n",
        "*   점수를 검증하는 함수(잘못된 입력을 찾는 함수)\n",
        "*   점수를 수정할 수 있는 함수\n",
        "\n",
        "6. 각 학년에서 평균점수가 가장 높은 반과 가장 낮은 반이 어느 반인지 교장선생님께 알려드려야 한다.\n",
        "7. 학년의 평균점수보다 낮은 점수를 받은 학생들은 방과 후에 보충수업을 해야 한다. 보충수업 받을 학생 명단을 찾아낼 것."
      ],
      "metadata": {
        "id": "rhOKTUwjYmZc"
      }
    },
    {
      "cell_type": "markdown",
      "source": [
        "필요 기능\n",
        "\n",
        "\n",
        "1. 총 몇 학년인지? -> 학년 수\n",
        "2. 각 학년은 몇 반인지? (반복횟수: 학년 수) -> 학년 당 학급 수\n",
        "3. 학년, 학급별 성적 저장(값 추가/수정 가능)\n",
        "\n",
        " {학년:[[학급성적list],[학급성적list],[학급성적list]]}\n",
        "4.오류탐색 및 수정\n",
        "\n",
        "  개별 성적 탐색 for문\n",
        "\n",
        "  if(성적>100 or 성적 < 0) 성적=int(input())\n",
        "5.평균 성적 산출\n",
        "  학급성적 평균\n",
        "  학년성적 평균 및 비교\n",
        "6. 보충수업대상 선정\n",
        "\n",
        "  학년별 개별 성적 탐색 for문\n",
        "  학년성적 평균과 비교 if문\n",
        "\n",
        "\n",
        "\n"
      ],
      "metadata": {
        "id": "bw-ar-gKqXqa"
      }
    },
    {
      "cell_type": "code",
      "source": [
        "def getScore(m_grade, m_class) :  # 학년 수, 학생 수를 받는다\n",
        "  m_entireScore = []\n",
        "  for i in range(m_class) :\n",
        "    print(m_grade, \"학년\", i+1, \"반 학생들의 성적을 띄어쓰기로 구분하여 입력해주세요.\")\n",
        "    m_score = list(map(int,input().split()))\n",
        "    m_entireScore.append(m_score)\n",
        "  print(\"-----\")\n",
        "  return m_entireScore"
      ],
      "metadata": {
        "id": "WlVLp2Cjntwu"
      },
      "execution_count": 21,
      "outputs": []
    },
    {
      "cell_type": "code",
      "source": [
        "def correctScore(m_dictScore, m_grade) :\n",
        "  m_gradeScore = m_dictScore[m_grade]\n",
        "  for i in range(len(m_gradeScore)) :\n",
        "    for j in range(len(m_gradeScore[i])) :\n",
        "      if m_gradeScore[i][j] > 100 or m_gradeScore[i][j] < 0 :\n",
        "        print(m_grade, \"학년\", i+1, \"반\", j+1,\"번 학생의 성적이<\", m_gradeScore[i][j],\">(으)로 잘못 입력되었습니다. 다시 입력해주세요. (0~100)\")\n",
        "        m_gradeScore[i][j] = int(input())\n",
        "  print(\"-----\")    \n",
        "  return m_gradeScore "
      ],
      "metadata": {
        "id": "ve6XU1Dly0aT"
      },
      "execution_count": 22,
      "outputs": []
    },
    {
      "cell_type": "code",
      "source": [
        "def getAverage(m_dictScore, m_grade) :\n",
        "  m_sum = 0\n",
        "  m_count = 0\n",
        "  min = 101\n",
        "  min_class = 1\n",
        "  max = -1\n",
        "  max_class = 1\n",
        "  m_gradeScore = m_dictScore[m_grade]\n",
        "  for i in range(len(m_gradeScore)) :\n",
        "    m_classSum = 0\n",
        "    m_sum += sum(m_gradeScore[i])\n",
        "    m_classSum = sum(m_gradeScore[i])\n",
        "    m_count += len(m_gradeScore[i])\n",
        "\n",
        "    m_classAverage = m_classSum/len(m_gradeScore[i])\n",
        "\n",
        "    if min > m_classAverage :\n",
        "      min = m_classAverage\n",
        "      min_class = i+1\n",
        "    elif max < m_classAverage :\n",
        "      max = m_classAverage\n",
        "      max_class = i+1\n",
        "  m_average = m_sum/m_count\n",
        "  return m_average, min_class, max_class"
      ],
      "metadata": {
        "id": "4Hjea_MzNw2j"
      },
      "execution_count": 31,
      "outputs": []
    },
    {
      "cell_type": "code",
      "source": [
        "def selectStudent(m_dictScore, m_grade, m_ave) :\n",
        "  m_stuInfo = []\n",
        "  m_count = 1\n",
        "  m_gradeScore = m_dictScore[m_grade]\n",
        "  for i in range(len(m_gradeScore)) :\n",
        "    for j in range(len(m_gradeScore[i])) :\n",
        "      if m_gradeScore[i][j] < m_ave :        \n",
        "        m_stuInfo.append([i+1, j+1])\n",
        "        m_count += 1\n",
        "  for i in m_stuInfo :\n",
        "    print(m_grade,\"학년\", i[0], \"반\", i[1], \"번\")"
      ],
      "metadata": {
        "id": "G2KJsfG_om9N"
      },
      "execution_count": 24,
      "outputs": []
    },
    {
      "cell_type": "code",
      "source": [
        "from typing import ValuesView\n",
        "koreanScore = {}\n",
        "countClass = []\n",
        "countGrade = int(input(\"전교생은 몇 학년까지 구성되어 있는가?: \"))\n",
        "print(\"-----\")\n",
        "\n",
        "for i in range(1, countGrade+1) :\n",
        "  print(i, \"학년은 총 몇 학급인가?: \")\n",
        "  countClass.append(int(input()))  \n",
        "  print(\"-----\")\n",
        "\n",
        "for i in range(1, countGrade+1) :\n",
        "  koreanScore[i] = getScore(i, countClass[i-1])\n",
        "  gradeScore = correctScore(koreanScore, i)\n",
        "  koreanScore[i] = gradeScore\n",
        "\n",
        "for i in range(1, countGrade+1) :\n",
        "  print(i, \"학년 학생들의 성적은 다음과 같습니다.\")\n",
        "  print(koreanScore[i])\n",
        "  average, minClass, maxClass = getAverage(koreanScore, i)\n",
        "  print(i, \"학년 학생들의 평균 성적은\", average, \"점이며,\")\n",
        "  print(\"성적이 가장 낮은 반은\", minClass, \"반,\")\n",
        "  print(\"성적이 가장 좋은 반은\", maxClass, \"반입니다.\")\n",
        "  print(\"-----\")\n",
        "  print(\"보충학습 대상자는\")\n",
        "  selectStudent(koreanScore, i, average)\n",
        "  print(\"입니다.\")\n",
        "  print(\"-----\")"
      ],
      "metadata": {
        "id": "9M9WSrMjWrbc",
        "colab": {
          "base_uri": "https://localhost:8080/"
        },
        "outputId": "5fe943a0-3a6e-4514-9266-b84c7723975e"
      },
      "execution_count": 28,
      "outputs": [
        {
          "output_type": "stream",
          "name": "stdout",
          "text": [
            "전교생은 몇 학년까지 구성되어 있는가?: 3\n",
            "-----\n",
            "1 학년은 총 몇 학급인가?: \n",
            "4\n",
            "-----\n",
            "2 학년은 총 몇 학급인가?: \n",
            "3\n",
            "-----\n",
            "3 학년은 총 몇 학급인가?: \n",
            "4\n",
            "-----\n",
            "1 학년 1 반 학생들의 성적을 띄어쓰기로 구분하여 입력해주세요.\n",
            "45 75 25\n",
            "1 학년 2 반 학생들의 성적을 띄어쓰기로 구분하여 입력해주세요.\n",
            "96 14 24\n",
            "1 학년 3 반 학생들의 성적을 띄어쓰기로 구분하여 입력해주세요.\n",
            "15 27 30\n",
            "1 학년 4 반 학생들의 성적을 띄어쓰기로 구분하여 입력해주세요.\n",
            "100 95 100 180 75\n",
            "-----\n",
            "1 학년 4 반 4 번 학생의 성적이< 180 >(으)로 잘못 입력되었습니다. 다시 입력해주세요. (0~100)\n",
            "80\n",
            "-----\n",
            "2 학년 1 반 학생들의 성적을 띄어쓰기로 구분하여 입력해주세요.\n",
            "45 175 -25 15 100\n",
            "2 학년 2 반 학생들의 성적을 띄어쓰기로 구분하여 입력해주세요.\n",
            "100 95 45 40\n",
            "2 학년 3 반 학생들의 성적을 띄어쓰기로 구분하여 입력해주세요.\n",
            "100 100 100 100 90 100 100\n",
            "-----\n",
            "2 학년 1 반 2 번 학생의 성적이< 175 >(으)로 잘못 입력되었습니다. 다시 입력해주세요. (0~100)\n",
            "75\n",
            "2 학년 1 반 3 번 학생의 성적이< -25 >(으)로 잘못 입력되었습니다. 다시 입력해주세요. (0~100)\n",
            "25\n",
            "-----\n",
            "3 학년 1 반 학생들의 성적을 띄어쓰기로 구분하여 입력해주세요.\n",
            "50 60 140 85\n",
            "3 학년 2 반 학생들의 성적을 띄어쓰기로 구분하여 입력해주세요.\n",
            "90 90 90 50 60\n",
            "3 학년 3 반 학생들의 성적을 띄어쓰기로 구분하여 입력해주세요.\n",
            "100 100\n",
            "3 학년 4 반 학생들의 성적을 띄어쓰기로 구분하여 입력해주세요.\n",
            "70 90 70 60 60 60 45 100 35\n",
            "-----\n",
            "3 학년 1 반 3 번 학생의 성적이< 140 >(으)로 잘못 입력되었습니다. 다시 입력해주세요. (0~100)\n",
            "40\n",
            "-----\n",
            "1 학년 학생들의 성적은 다음과 같습니다.\n",
            "[[45, 75, 25], [96, 14, 24], [15, 27, 30], [100, 95, 100, 80, 75]]\n",
            "1 학년 학생들의 평균 성적은 57.214285714285715 점이며,\n",
            "성적이 가장 낮은 반은 3 반,\n",
            "성적이 가장 좋은 반은 4 반입니다.\n",
            "-----\n",
            "보충학습 대상자는\n",
            "1 학년 1 반 1 번\n",
            "1 학년 1 반 3 번\n",
            "1 학년 2 반 2 번\n",
            "1 학년 2 반 3 번\n",
            "1 학년 3 반 1 번\n",
            "1 학년 3 반 2 번\n",
            "1 학년 3 반 3 번\n",
            "입니다.\n",
            "-----\n",
            "2 학년 학생들의 성적은 다음과 같습니다.\n",
            "[[45, 75, 25, 15, 100], [100, 95, 45, 40], [100, 100, 100, 100, 90, 100, 100]]\n",
            "2 학년 학생들의 평균 성적은 76.875 점이며,\n",
            "성적이 가장 낮은 반은 1 반,\n",
            "성적이 가장 좋은 반은 3 반입니다.\n",
            "-----\n",
            "보충학습 대상자는\n",
            "2 학년 1 반 1 번\n",
            "2 학년 1 반 2 번\n",
            "2 학년 1 반 3 번\n",
            "2 학년 1 반 4 번\n",
            "2 학년 2 반 3 번\n",
            "2 학년 2 반 4 번\n",
            "입니다.\n",
            "-----\n",
            "3 학년 학생들의 성적은 다음과 같습니다.\n",
            "[[50, 60, 40, 85], [90, 90, 90, 50, 60], [100, 100], [70, 90, 70, 60, 60, 60, 45, 100, 35]]\n",
            "3 학년 학생들의 평균 성적은 70.25 점이며,\n",
            "성적이 가장 낮은 반은 1 반,\n",
            "성적이 가장 좋은 반은 3 반입니다.\n",
            "-----\n",
            "보충학습 대상자는\n",
            "3 학년 1 반 1 번\n",
            "3 학년 1 반 2 번\n",
            "3 학년 1 반 3 번\n",
            "3 학년 2 반 4 번\n",
            "3 학년 2 반 5 번\n",
            "3 학년 4 반 1 번\n",
            "3 학년 4 반 3 번\n",
            "3 학년 4 반 4 번\n",
            "3 학년 4 반 5 번\n",
            "3 학년 4 반 6 번\n",
            "3 학년 4 반 7 번\n",
            "3 학년 4 반 9 번\n",
            "입니다.\n",
            "-----\n"
          ]
        }
      ]
    },
    {
      "cell_type": "code",
      "source": [
        "dict = {1: [[15, 27, 30],[100, 95, 100, 80, 75]], 2: [[45, 30, 60], [60, 85, 90, 100, 100, 100], [15, 10, 13, 20]]}\n",
        "ave, a, b = getAverage(dict, 1)\n",
        "print(ave)\n",
        "selectStudent(dict, 1, ave)"
      ],
      "metadata": {
        "colab": {
          "base_uri": "https://localhost:8080/"
        },
        "id": "RC8Qlbn1Az70",
        "outputId": "e22e3ee2-c7da-4567-af22-5869a0b1e592"
      },
      "execution_count": 32,
      "outputs": [
        {
          "output_type": "stream",
          "name": "stdout",
          "text": [
            "65.25\n",
            "1 학년 1 반 1 번\n",
            "1 학년 1 반 2 번\n",
            "1 학년 1 반 3 번\n"
          ]
        }
      ]
    }
  ]
}