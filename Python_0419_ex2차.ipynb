{
  "nbformat": 4,
  "nbformat_minor": 0,
  "metadata": {
    "colab": {
      "name": "Python_0419_ex2차.ipynb",
      "provenance": [],
      "collapsed_sections": [],
      "authorship_tag": "ABX9TyOOBcAB7fhVJrmNJ0/LVdDm",
      "include_colab_link": true
    },
    "kernelspec": {
      "name": "python3",
      "display_name": "Python 3"
    },
    "language_info": {
      "name": "python"
    }
  },
  "cells": [
    {
      "cell_type": "markdown",
      "metadata": {
        "id": "view-in-github",
        "colab_type": "text"
      },
      "source": [
        "<a href=\"https://colab.research.google.com/github/ESJoGithub/PythonStudy/blob/main/Python_0419_ex2%EC%B0%A8.ipynb\" target=\"_parent\"><img src=\"https://colab.research.google.com/assets/colab-badge.svg\" alt=\"Open In Colab\"/></a>"
      ]
    },
    {
      "cell_type": "markdown",
      "source": [
        "#**문제: 전교생의 국어 성적 관리 알고리즘** \n",
        "\n",
        "전제: 총 1~6학년, 학년 당 다섯 학급, 학급당 학생 수는 1반 5명, 2반 4명, 3반 5명, 4반 3명, 5반 4명이다.\n",
        "\n",
        "(단, 학년 미정, 학년 당 학급 수 미정, 학급 당 학생 수 미정이어도 동작 가능해야 한다.)\n",
        "\n",
        "1. 국어 점수를 입력 받아 저장(단, 점수의 범위는 0~100점이다)\n",
        "2. 실수로 인하여어떤 학생들은 마이너스 점수, 100점 이상의 점수가 입력되었다.(각 학년 당 실수가 하나씩 있다.)\n",
        "3. 실수를 찾아내고\n",
        "4. 그 부분만 새롭게 점수를 입력한다.\n",
        "5. 함수를 이용하라.\n",
        "\n",
        "*   학생들의 국어 점수를 입력받는 함수\n",
        "*   점수를 검증하는 함수(잘못된 입력을 찾는 함수)\n",
        "*   점수를 수정할 수 있는 함수\n",
        "\n",
        "6. 각 학년에서 평균점수가 가장 높은 반과 가장 낮은 반이 어느 반인지 교장선생님께 알려드려야 한다.\n",
        "7. 학년의 평균점수보다 낮은 점수를 받은 학생들은 방과 후에 보충수업을 해야 한다. 보충수업 받을 학생 명단을 찾아낼 것."
      ],
      "metadata": {
        "id": "rhOKTUwjYmZc"
      }
    },
    {
      "cell_type": "markdown",
      "source": [
        "\n",
        "\n",
        "---\n",
        "\n",
        "\n",
        "필요 기능\n",
        "\n",
        "\n",
        "1. 총 몇 학년인지? -> 학년 수\n",
        "2. 각 학년은 몇 반인지? (학년 수만큼 반복 입력) -> 학년 당 학급 수\n",
        "3. 학년, 학급별 성적 저장(값 추가/수정이 가능해야하므로 list나 dict)\n",
        "\n",
        " {학년:[[학급성적list],[학급성적list],[학급성적list]]}\n",
        "4.오류탐색 및 수정\n",
        "\n",
        "  개별 성적 탐색 for문\n",
        "\n",
        "  if(성적>100 or 성적 < 0) 성적=int(input()) \n",
        "\n",
        "  (새로 입력된 성적이 여전히 입력 범위를 벗어난다면? -> 반복)\n",
        "5.평균 성적 산출\n",
        "\n",
        "  학급성적 평균\n",
        "\n",
        "  학년성적 평균산출 및 학급별 비교\n",
        "\n",
        "6. 보충수업대상 선정\n",
        "\n",
        "  학년별 개별 성적 탐색 for문\n",
        "\n",
        "  학년성적 평균과 비교 if문\n",
        "\n",
        "  학생 이름을 알 수 없으므로 반, 번호 출력\n",
        "\n",
        "\n",
        "\n",
        "\n",
        "\n"
      ],
      "metadata": {
        "id": "bw-ar-gKqXqa"
      }
    },
    {
      "cell_type": "markdown",
      "source": [
        "#**[함수 정의 부분]**"
      ],
      "metadata": {
        "id": "bFZdhDyhtLoJ"
      }
    },
    {
      "cell_type": "code",
      "source": [
        "def getScore(m_grade, m_class) :  \n",
        "  '''성적을 입력받고자 하는 학년 및 해당 학년의 학급 수를 매개변수로 함.\n",
        "  학급별 학생들의 성적을 입력받아 list를 만들고, 학년별 성적 list로 합쳐서 반환'''\n",
        "\n",
        "  m_gradeScore = []                                            #학년별 성적 list 선언\n",
        "  for i in range(m_class) :                                    #학급 수만큼 반복           \n",
        "    print(m_grade, \"학년\", i+1, \"반 학생들의 성적을 띄어쓰기로 구분하여 입력해주세요.\")\n",
        "    m_classScore = list(map(int,input().split()))              #학급 성적 list: 문자열로 받아 공백을 기준으로 나눈 후 int형식으로 map하여 list에 저장\n",
        "    m_gradeScore.append(m_classScore)                          #학년별 성적 list에 해당 학급 성적 추가 \n",
        "\n",
        "  print(\"-----\")                                               #구분선\n",
        "  return m_gradeScore                                          #학년별 성적 list 반환"
      ],
      "metadata": {
        "id": "WlVLp2Cjntwu"
      },
      "execution_count": null,
      "outputs": []
    },
    {
      "cell_type": "code",
      "source": [
        "def correctScore(m_dictScore, m_grade) :\n",
        "  '''전교생의 성적(dict)과 성적 오류를 검토하고자 하는 학년을 매개변수로 받아\n",
        "  해당 학년 학생들의 성적을 검토하고, 수정하여 학년별 성적 list로 반환'''\n",
        "\n",
        "  m_gradeScore = m_dictScore[m_grade]                            #전교생 성적 중 오류 검토를 희망하는 학년의 성적을 m_gradeScore list로 참조\n",
        "  for i in range(len(m_gradeScore)) :                            #학급 수만큼 반복\n",
        "    for j in range(len(m_gradeScore[i])) :                       #학급의 학생 수만큼 반복\n",
        "      while m_gradeScore[i][j] > 100 or m_gradeScore[i][j] < 0 : #학생들의 성적을 순서대로 호출, 성적 입력범위에 해당하지 않으면 재입력 반복\n",
        "        print(m_grade, \"학년\", i+1, \"반\", j+1,\"번 학생의 성적이<\", m_gradeScore[i][j],\">(으)로 잘못 입력되었습니다. 다시 입력해주세요. (0~100)\")\n",
        "        m_gradeScore[i][j] = int(input())\n",
        "        \n",
        "  print(\"-----\")                                                 #구분선\n",
        "  return m_gradeScore                                            #수정 완료한 학년 성적 list를 반환"
      ],
      "metadata": {
        "id": "ve6XU1Dly0aT"
      },
      "execution_count": null,
      "outputs": []
    },
    {
      "cell_type": "code",
      "source": [
        "def getAverage(m_dictScore, m_grade) :\n",
        "  '''전교생의 성적(dict)과 평균 점수 산출을 희망하는 학년을 매개변수로 받아\n",
        "  해당 학년 학생들의 성적 평균과 학급별 성적 평균을 구하고,\n",
        "  학급별 성적 평균을 비교하여 최저 평균 학급과 최고 평균 학급을 선별'''\n",
        "  \n",
        "  m_gradeSum = 0                                                #학년 성적 총합\n",
        "  m_count = 0                                                   #학년 학생 수 카운트\n",
        "  min = 101                                                     #최소 평균 비교용: 0이면 min이 늘 최소값이 되므로 101로 초기화                                             \n",
        "  max = -1                                                      #최대 평균 비교용: 0이면 학급 성적 평균이 0일 때 비교하지 않으므로 -1로 초기화\n",
        "  m_gradeScore = m_dictScore[m_grade]                           #전교생 성적에서 (학년을 키값으로)해당 학년 성적을 찾아 m_gradeScore list로 참조 \n",
        "  for i in range(len(m_gradeScore)) :  \n",
        "    m_classSum = 0                                              #학급 성적 총합\n",
        "    m_classSum = sum(m_gradeScore[i])                           #sum을 활용해 학급 성적 총합 산출    \n",
        "    m_classAverage = m_classSum/len(m_gradeScore[i])            #학급 평균 성적 산출\n",
        "\n",
        "    m_gradeSum += sum(m_gradeScore[i])                          #학년 성적 총합에 해당 학급 성적 총합 합산       \n",
        "    m_count += len(m_gradeScore[i])                             #len을 활용해 학급별 학생 수를 산출하여 학년별 학생 수로 합산\n",
        "\n",
        "    if min > m_classAverage :                                   #학급 평균 성적이 min보다 작으면 min에 해당 성적 대입, min_class에 몇 반인지 저장\n",
        "      min = m_classAverage\n",
        "      min_class = i+1\n",
        "    elif max < m_classAverage :                                 #학급 평균 성적이 max보다 크면 max에 해당 성적 대입, max_class에 몇 반인지 저장                                 \n",
        "      max = m_classAverage\n",
        "      max_class = i+1\n",
        "  m_average = m_gradeSum/m_count                                #학년 평균 성적 산출\n",
        "  return m_average, min_class, max_class                        #학년 평균, 최저 평균 학급, 최대 평균 학급 반환"
      ],
      "metadata": {
        "id": "4Hjea_MzNw2j"
      },
      "execution_count": null,
      "outputs": []
    },
    {
      "cell_type": "code",
      "source": [
        "def selectStudent(m_dictScore, m_grade, m_ave) :\n",
        "  '''전교생의 성적(dict)과 보충수업 대상을 선별할 학년, 학년 평균 성적을 매개변수로 받아\n",
        "  해당 학년 학생들의 성적 평균과 학생 개개인의 성적을 비교하여 평균 이하인 학생을 보충수업 대상자로 선별'''\n",
        "  m_stuInfo = []                                                #보충수업 대상 학생의 반, 번호 저장용 list\n",
        "  m_gradeScore = m_dictScore[m_grade]                           #전교생 성적에서 (학년을 키값으로) 해당 학년 성적을 찾아 m_gradeScore list로 참조\n",
        "  for i in range(len(m_gradeScore)) :                           #학급 수만큼 반복\n",
        "    for j in range(len(m_gradeScore[i])) :                      #학급의 학생 수만큼 반복\n",
        "      if m_gradeScore[i][j] < m_ave :                           #학생들의 성적을 순서대로 호출, 평균보다 낮으면 반, 번호를 m_stuInfo list에 추가\n",
        "        m_stuInfo.append([i+1, j+1])\n",
        "  for i in m_stuInfo :\n",
        "    print(m_grade,\"학년\", i[0], \"반\", i[1], \"번\")               #보충수업 대상 학생들의 학년, 반, 번호 출력"
      ],
      "metadata": {
        "id": "G2KJsfG_om9N"
      },
      "execution_count": null,
      "outputs": []
    },
    {
      "cell_type": "markdown",
      "source": [
        "#**[코드 실행 부분]**"
      ],
      "metadata": {
        "id": "STIjvjj_tbYs"
      }
    },
    {
      "cell_type": "code",
      "source": [
        "# 총 학년, 학급 수 확인\n",
        "\n",
        "from typing import ValuesView\n",
        "koreanScore = {}                                                #전교생 성적 입력용 dict\n",
        "countClass = []                                                 #학년별 학급수 저장용 list\n",
        "countGrade = int(input(\"전교생은 몇 학년까지 구성되어 있는가?: \"))\n",
        "print(\"-----\")\n",
        "\n",
        "for i in range(1, countGrade+1) :                               #1학년부터 입력한 최대학년까지\n",
        "  print(i, \"학년은 총 몇 학급인가?: \")\n",
        "  countClass.append(int(input()))  \n",
        "print(\"-----\")"
      ],
      "metadata": {
        "colab": {
          "base_uri": "https://localhost:8080/"
        },
        "outputId": "aac30d27-9e2a-40f9-c9d0-a0b747cfef77",
        "id": "yaA0X0THf2IT"
      },
      "execution_count": null,
      "outputs": [
        {
          "output_type": "stream",
          "name": "stdout",
          "text": [
            "전교생은 몇 학년까지 구성되어 있는가?: 3\n",
            "-----\n",
            "1 학년은 총 몇 학급인가?: \n",
            "4\n",
            "2 학년은 총 몇 학급인가?: \n",
            "3\n",
            "3 학년은 총 몇 학급인가?: \n",
            "4\n",
            "-----\n"
          ]
        }
      ]
    },
    {
      "cell_type": "code",
      "source": [
        "# 학년별 성적 입력, 오류 수정\n",
        "for i in range(1, countGrade+1) :                             #1학년부터 입력한 최대학년까지\n",
        "  koreanScore[i] = getScore(i, countClass[i-1])               #key: i(학년) value: list(i학년 성적) \n",
        "  gradeScore = correctScore(koreanScore, i)                   #i학년 성적 정정내역 임시 저장\n",
        "  koreanScore[i] = gradeScore                                 #i학년 성적 정정내역 전교 학생 성적 dict에 저장"
      ],
      "metadata": {
        "id": "9M9WSrMjWrbc",
        "colab": {
          "base_uri": "https://localhost:8080/"
        },
        "outputId": "17d5c356-97fb-4c82-f2d3-896cae276d03"
      },
      "execution_count": null,
      "outputs": [
        {
          "output_type": "stream",
          "name": "stdout",
          "text": [
            "1 학년 1 반 학생들의 성적을 띄어쓰기로 구분하여 입력해주세요.\n",
            "45 75 25\n",
            "1 학년 2 반 학생들의 성적을 띄어쓰기로 구분하여 입력해주세요.\n",
            "96 14 24 52\n",
            "1 학년 3 반 학생들의 성적을 띄어쓰기로 구분하여 입력해주세요.\n",
            "15 27 30\n",
            "1 학년 4 반 학생들의 성적을 띄어쓰기로 구분하여 입력해주세요.\n",
            "100 95 100 180 75\n",
            "-----\n",
            "1 학년 4 반 4 번 학생의 성적이< 180 >(으)로 잘못 입력되었습니다. 다시 입력해주세요. (0~100)\n",
            "80\n",
            "-----\n",
            "2 학년 1 반 학생들의 성적을 띄어쓰기로 구분하여 입력해주세요.\n",
            "45 175 -25 15 100\n",
            "2 학년 2 반 학생들의 성적을 띄어쓰기로 구분하여 입력해주세요.\n",
            "100 95 45 40\n",
            "2 학년 3 반 학생들의 성적을 띄어쓰기로 구분하여 입력해주세요.\n",
            "100 100 100 100 90 100 100\n",
            "-----\n",
            "2 학년 1 반 2 번 학생의 성적이< 175 >(으)로 잘못 입력되었습니다. 다시 입력해주세요. (0~100)\n",
            "75\n",
            "2 학년 1 반 3 번 학생의 성적이< -25 >(으)로 잘못 입력되었습니다. 다시 입력해주세요. (0~100)\n",
            "52\n",
            "-----\n",
            "3 학년 1 반 학생들의 성적을 띄어쓰기로 구분하여 입력해주세요.\n",
            "50 60 140 85\n",
            "3 학년 2 반 학생들의 성적을 띄어쓰기로 구분하여 입력해주세요.\n",
            "90 90 90 50 60\n",
            "3 학년 3 반 학생들의 성적을 띄어쓰기로 구분하여 입력해주세요.\n",
            "100 100\n",
            "3 학년 4 반 학생들의 성적을 띄어쓰기로 구분하여 입력해주세요.\n",
            "70 90 70 60 60 60 45 100 35\n",
            "-----\n",
            "3 학년 1 반 3 번 학생의 성적이< 140 >(으)로 잘못 입력되었습니다. 다시 입력해주세요. (0~100)\n",
            "104\n",
            "3 학년 1 반 3 번 학생의 성적이< 104 >(으)로 잘못 입력되었습니다. 다시 입력해주세요. (0~100)\n",
            "54\n",
            "-----\n"
          ]
        }
      ]
    },
    {
      "cell_type": "code",
      "source": [
        "# 평균 산출 및 보충학습 대상자 판별\n",
        "for i in range(1, countGrade+1) :                             #1학년부터 입력한 최대학년까지\n",
        "  print(i, \"학년 학생들의 성적은 다음과 같습니다.\")           #i학년 성적 list 출력\n",
        "  print(koreanScore[i])\n",
        "  average, minClass, maxClass = getAverage(koreanScore, i)    #i학년 평균, 최저 평균 학급, 최대 평균 학급 출력\n",
        "  print(i, \"학년 학생들의 평균 성적은\", average, \"점이며,\")\n",
        "  print(\"성적이 가장 낮은 반은\", minClass, \"반,\")\n",
        "  print(\"성적이 가장 좋은 반은\", maxClass, \"반입니다.\")\n",
        "  print(\"-----\")\n",
        "  print(\"보충학습 대상자는\")                                  #보충학습 대상자 출력\n",
        "  selectStudent(koreanScore, i, average)\n",
        "  print(\"입니다.\")\n",
        "  print(\"-----\")"
      ],
      "metadata": {
        "colab": {
          "base_uri": "https://localhost:8080/"
        },
        "outputId": "5848536d-b464-4aaa-f932-0a242e82803e",
        "id": "tWtjcMA7gCd7"
      },
      "execution_count": null,
      "outputs": [
        {
          "output_type": "stream",
          "name": "stdout",
          "text": [
            "1 학년 학생들의 성적은 다음과 같습니다.\n",
            "[[45, 75, 25], [96, 14, 24, 52], [15, 27, 30], [100, 95, 100, 80, 75]]\n",
            "1 학년 학생들의 평균 성적은 56.86666666666667 점이며,\n",
            "성적이 가장 낮은 반은 3 반,\n",
            "성적이 가장 좋은 반은 4 반입니다.\n",
            "-----\n",
            "보충학습 대상자는\n",
            "1 학년 1 반 1 번\n",
            "1 학년 1 반 3 번\n",
            "1 학년 2 반 2 번\n",
            "1 학년 2 반 3 번\n",
            "1 학년 2 반 4 번\n",
            "1 학년 3 반 1 번\n",
            "1 학년 3 반 2 번\n",
            "1 학년 3 반 3 번\n",
            "입니다.\n",
            "-----\n",
            "2 학년 학생들의 성적은 다음과 같습니다.\n",
            "[[45, 75, 52, 15, 100], [100, 95, 45, 40], [100, 100, 100, 100, 90, 100, 100]]\n",
            "2 학년 학생들의 평균 성적은 78.5625 점이며,\n",
            "성적이 가장 낮은 반은 1 반,\n",
            "성적이 가장 좋은 반은 3 반입니다.\n",
            "-----\n",
            "보충학습 대상자는\n",
            "2 학년 1 반 1 번\n",
            "2 학년 1 반 2 번\n",
            "2 학년 1 반 3 번\n",
            "2 학년 1 반 4 번\n",
            "2 학년 2 반 3 번\n",
            "2 학년 2 반 4 번\n",
            "입니다.\n",
            "-----\n",
            "3 학년 학생들의 성적은 다음과 같습니다.\n",
            "[[50, 60, 54, 85], [90, 90, 90, 50, 60], [100, 100], [70, 90, 70, 60, 60, 60, 45, 100, 35]]\n",
            "3 학년 학생들의 평균 성적은 70.95 점이며,\n",
            "성적이 가장 낮은 반은 1 반,\n",
            "성적이 가장 좋은 반은 3 반입니다.\n",
            "-----\n",
            "보충학습 대상자는\n",
            "3 학년 1 반 1 번\n",
            "3 학년 1 반 2 번\n",
            "3 학년 1 반 3 번\n",
            "3 학년 2 반 4 번\n",
            "3 학년 2 반 5 번\n",
            "3 학년 4 반 1 번\n",
            "3 학년 4 반 3 번\n",
            "3 학년 4 반 4 번\n",
            "3 학년 4 반 5 번\n",
            "3 학년 4 반 6 번\n",
            "3 학년 4 반 7 번\n",
            "3 학년 4 반 9 번\n",
            "입니다.\n",
            "-----\n"
          ]
        }
      ]
    }
  ]
}