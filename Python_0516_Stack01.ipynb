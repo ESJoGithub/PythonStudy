{
  "nbformat": 4,
  "nbformat_minor": 0,
  "metadata": {
    "colab": {
      "name": "Python_0516_Stack01.ipynb",
      "provenance": [],
      "collapsed_sections": [],
      "authorship_tag": "ABX9TyOeNfD2XvIFOJjdB4PY7eVn",
      "include_colab_link": true
    },
    "kernelspec": {
      "name": "python3",
      "display_name": "Python 3"
    },
    "language_info": {
      "name": "python"
    }
  },
  "cells": [
    {
      "cell_type": "markdown",
      "metadata": {
        "id": "view-in-github",
        "colab_type": "text"
      },
      "source": [
        "<a href=\"https://colab.research.google.com/github/ESJoGithub/PythonStudy/blob/main/Python_0516_Stack01.ipynb\" target=\"_parent\"><img src=\"https://colab.research.google.com/assets/colab-badge.svg\" alt=\"Open In Colab\"/></a>"
      ]
    },
    {
      "cell_type": "code",
      "execution_count": 110,
      "metadata": {
        "id": "xflrcGfFLD-z"
      },
      "outputs": [],
      "source": [
        "class StackADT :\n",
        "  def __init__(self):\n",
        "    self.stacklist=[]\n",
        "\n",
        "  def isEmpty(self):\n",
        "    if len(self.stacklist)==0:\n",
        "      print(\"스택이 비어있습니다.\")\n",
        "      return True\n",
        "    else:\n",
        "      print(\"스택이 비어있지 않습니다.\")\n",
        "      return False\n",
        "\n",
        "  def push(self, e):\n",
        "    self.stacklist.append(e)\n",
        "    print(\"{}을/를 스택에 추가하였습니다.\".format(e))\n",
        "\n",
        "  def pop(self):\n",
        "    if len(self.stacklist) != 0:\n",
        "      e = self.stacklist[-1]\n",
        "      self.stacklist.pop(-1)\n",
        "      print(\"{}을/를 스택에서 삭제하였습니다.\".format(e))\n",
        "      return e\n",
        "    else:\n",
        "      print(\"스택이 비어있습니다.\")\n",
        "  \n",
        "  def peek(self):\n",
        "    if len(self.stacklist) != 0:\n",
        "      e = self.stacklist[-1]\n",
        "      print(\"스택의 맨 위 항목은 {}입니다.\".format(e))\n",
        "      return e\n",
        "    else:\n",
        "      print(\"스택이 비어있습니다.\")\n",
        "  \n",
        "  def size(self):\n",
        "    count = len(self.stacklist)\n",
        "    print(\"스택의 항목 수는 총 {}개 입니다.\".format(count))\n",
        "    return count\n",
        "\n",
        "  def clear(self):\n",
        "    self.stacklist=[]\n",
        "    print(\"스택을 모두 비웠습니다.\")\n",
        "\n",
        "  def __str__(self):\n",
        "    return str(self.stacklist[::-1])"
      ]
    }
  ]
}