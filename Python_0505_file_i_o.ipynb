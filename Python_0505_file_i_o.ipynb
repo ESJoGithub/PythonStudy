{
  "nbformat": 4,
  "nbformat_minor": 0,
  "metadata": {
    "colab": {
      "name": "Python_0505_file_i/o.ipynb",
      "provenance": [],
      "collapsed_sections": [],
      "authorship_tag": "ABX9TyNtTkgNUCuAWG/ENuBPI7m9",
      "include_colab_link": true
    },
    "kernelspec": {
      "name": "python3",
      "display_name": "Python 3"
    },
    "language_info": {
      "name": "python"
    }
  },
  "cells": [
    {
      "cell_type": "markdown",
      "metadata": {
        "id": "view-in-github",
        "colab_type": "text"
      },
      "source": [
        "<a href=\"https://colab.research.google.com/github/ESJoGithub/PythonStudy/blob/main/Python_0505_file_i_o.ipynb\" target=\"_parent\"><img src=\"https://colab.research.google.com/assets/colab-badge.svg\" alt=\"Open In Colab\"/></a>"
      ]
    },
    {
      "cell_type": "markdown",
      "source": [
        "# **File I/O**\n",
        "---"
      ],
      "metadata": {
        "id": "kVrb7JDXhzES"
      }
    },
    {
      "cell_type": "markdown",
      "source": [
        "변수 = **open**(\"파일명.확장자\", mode='목적', encoding='(저장방식)utf-8')\n",
        "\n",
        "변수.**close()**\n",
        "\n",
        "---\n",
        "\n",
        "**try:**\n",
        "\n",
        "> 변수 = **open**(\"파일명.확장자\", mode='목적', encoding='저장방식')\n",
        "\n",
        "**finally:**\n",
        "> 변수.**close**()\n",
        "\n",
        "---\n",
        "\n",
        "**with open**(\"파일명.확장자\", mode='목적', encoding='저장방식') **as** 변수명 :\n",
        "\n",
        "\n",
        "\n",
        "\n"
      ],
      "metadata": {
        "id": "CMpVtOHHgevT"
      }
    },
    {
      "cell_type": "code",
      "source": [
        "def makeData(n, start, end):\n",
        "  import random\n",
        "  m_datalist=[]\n",
        "  for i in range(n):\n",
        "    a = random.randint(start, end)\n",
        "    str_a = str(a)\n",
        "    m_datalist.append(str_a)\n",
        "  return m_datalist"
      ],
      "metadata": {
        "id": "Ff3lYPjTjEJ4"
      },
      "execution_count": null,
      "outputs": []
    },
    {
      "cell_type": "code",
      "source": [
        "first = makeData(5, 1, 10)\n",
        "second = makeData(3, 11, 20)\n",
        "third = makeData(10, 1, 100)\n",
        "  \n",
        "datalist = []\n",
        "datalist.append(first)\n",
        "datalist.append(second)\n",
        "datalist.append(third)\n",
        "\n",
        "f = open(\"test.csv\",\"w+\", encoding=\"utf-8-sig\")\n",
        "\n",
        "f.write(\"datalist\\n\")\n",
        "\n",
        "for i in range(len(datalist)):\n",
        "  for j in range(len(datalist[i])):\n",
        "    f.write(datalist[i][j]+',')\n",
        "  f.write(\"\\n\")"
      ],
      "metadata": {
        "id": "i7-tH0VIiLtw"
      },
      "execution_count": null,
      "outputs": []
    },
    {
      "cell_type": "code",
      "source": [
        "f.seek(0)"
      ],
      "metadata": {
        "colab": {
          "base_uri": "https://localhost:8080/"
        },
        "id": "3xppOEpB0cZC",
        "outputId": "a7ae5a24-5884-41c6-8772-1d5871e84713"
      },
      "execution_count": null,
      "outputs": [
        {
          "output_type": "execute_result",
          "data": {
            "text/plain": [
              "0"
            ]
          },
          "metadata": {},
          "execution_count": 44
        }
      ]
    },
    {
      "cell_type": "code",
      "source": [
        "f.readline()    # 한 줄씩 읽기"
      ],
      "metadata": {
        "colab": {
          "base_uri": "https://localhost:8080/",
          "height": 35
        },
        "id": "SlFcH2O90fPS",
        "outputId": "60bdd0a5-d327-4b9f-b716-37c55f150ca3"
      },
      "execution_count": null,
      "outputs": [
        {
          "output_type": "execute_result",
          "data": {
            "text/plain": [
              "'datalist\\n'"
            ],
            "application/vnd.google.colaboratory.intrinsic+json": {
              "type": "string"
            }
          },
          "metadata": {},
          "execution_count": 45
        }
      ]
    },
    {
      "cell_type": "code",
      "source": [
        "print(f.tell()) # 커서 위치"
      ],
      "metadata": {
        "colab": {
          "base_uri": "https://localhost:8080/"
        },
        "id": "bRJ2TBdQ0TWk",
        "outputId": "611b62a7-1ad1-4d05-e897-d557e5de391f"
      },
      "execution_count": null,
      "outputs": [
        {
          "output_type": "stream",
          "name": "stdout",
          "text": [
            "12\n"
          ]
        }
      ]
    },
    {
      "cell_type": "code",
      "source": [
        "f.read()        # 전체 읽기지만 커서 위치부터 동작함 처음부터 읽고싶다면 f.seek()실행"
      ],
      "metadata": {
        "colab": {
          "base_uri": "https://localhost:8080/",
          "height": 35
        },
        "id": "ZKcMYyonTtFp",
        "outputId": "4d062bd1-9081-495f-e162-7eecda5d8b25"
      },
      "execution_count": null,
      "outputs": [
        {
          "output_type": "execute_result",
          "data": {
            "text/plain": [
              "'7,1,6,1,9,\\n19,11,19,\\n73,85,1,76,29,92,37,3,97,89,\\n'"
            ],
            "application/vnd.google.colaboratory.intrinsic+json": {
              "type": "string"
            }
          },
          "metadata": {},
          "execution_count": 47
        }
      ]
    },
    {
      "cell_type": "code",
      "source": [
        "f.close()"
      ],
      "metadata": {
        "id": "-X2I0hroUG2H"
      },
      "execution_count": null,
      "outputs": []
    }
  ]
}