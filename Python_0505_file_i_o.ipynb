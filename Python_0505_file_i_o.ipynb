{
  "nbformat": 4,
  "nbformat_minor": 0,
  "metadata": {
    "colab": {
      "name": "Python_0505_file_i/o.ipynb",
      "provenance": [],
      "collapsed_sections": [],
      "authorship_tag": "ABX9TyPT6aEO3HZmdEwnsY/iSk48",
      "include_colab_link": true
    },
    "kernelspec": {
      "name": "python3",
      "display_name": "Python 3"
    },
    "language_info": {
      "name": "python"
    }
  },
  "cells": [
    {
      "cell_type": "markdown",
      "metadata": {
        "id": "view-in-github",
        "colab_type": "text"
      },
      "source": [
        "<a href=\"https://colab.research.google.com/github/ESJoGithub/PythonStudy/blob/main/Python_0505_file_i_o.ipynb\" target=\"_parent\"><img src=\"https://colab.research.google.com/assets/colab-badge.svg\" alt=\"Open In Colab\"/></a>"
      ]
    },
    {
      "cell_type": "markdown",
      "source": [
        "# **File I/O**\n",
        "---"
      ],
      "metadata": {
        "id": "kVrb7JDXhzES"
      }
    },
    {
      "cell_type": "markdown",
      "source": [
        "변수 = **open**(\"파일명.확장자\", mode='목적', encoding='(저장방식)utf-8')\n",
        "\n",
        "변수.**close()**\n",
        "\n",
        "---\n",
        "\n",
        "**try:**\n",
        "\n",
        "> 변수 = **open**(\"파일명.확장자\", mode='목적', encoding='저장방식')\n",
        "\n",
        "**finally:**\n",
        "> 변수.**close**()\n",
        "\n",
        "---\n",
        "\n",
        "**with open**(\"파일명.확장자\", mode='목적', encoding='저장방식') **as** 변수명 :\n",
        "\n",
        "\n",
        "\n",
        "\n"
      ],
      "metadata": {
        "id": "CMpVtOHHgevT"
      }
    },
    {
      "cell_type": "code",
      "source": [
        "import random\n",
        "def makeData(n, start, end):\n",
        "  m_datalist=[]\n",
        "  for i in range(n):\n",
        "    a = random.randint(start, end)\n",
        "    str_a = str(a)\n",
        "    m_datalist.append(str_a)\n",
        "  return m_datalist"
      ],
      "metadata": {
        "id": "Ff3lYPjTjEJ4"
      },
      "execution_count": 1,
      "outputs": []
    },
    {
      "cell_type": "code",
      "source": [
        "first = makeData(5, 1, 10)\n",
        "second = makeData(3, 11, 20)\n",
        "third = makeData(10, 1, 100)\n",
        "  \n",
        "datalist = []\n",
        "datalist.append(first)\n",
        "datalist.append(second)\n",
        "datalist.append(third)\n",
        "\n",
        "f = open(\"test.csv\",\"w+\", encoding=\"utf-8-sig\")\n",
        "\n",
        "f.write(\"datalist\\n\")\n",
        "\n",
        "for i in range(len(datalist)):\n",
        "  for j in range(len(datalist[i])):\n",
        "    f.write(datalist[i][j]+',')\n",
        "  f.write(\"\\n\")"
      ],
      "metadata": {
        "id": "i7-tH0VIiLtw"
      },
      "execution_count": 2,
      "outputs": []
    },
    {
      "cell_type": "code",
      "source": [
        "print(f.tell()) # 커서 위치"
      ],
      "metadata": {
        "colab": {
          "base_uri": "https://localhost:8080/"
        },
        "id": "bRJ2TBdQ0TWk",
        "outputId": "17083050-3683-4c09-c36f-b63b72bd5f02"
      },
      "execution_count": 21,
      "outputs": [
        {
          "output_type": "stream",
          "name": "stdout",
          "text": [
            "23\n"
          ]
        }
      ]
    },
    {
      "cell_type": "code",
      "source": [
        "f.seek(0)"
      ],
      "metadata": {
        "colab": {
          "base_uri": "https://localhost:8080/"
        },
        "id": "3xppOEpB0cZC",
        "outputId": "66ec7369-4753-461e-e5c3-b2e62ad6bc0a"
      },
      "execution_count": 22,
      "outputs": [
        {
          "output_type": "execute_result",
          "data": {
            "text/plain": [
              "0"
            ]
          },
          "metadata": {},
          "execution_count": 22
        }
      ]
    },
    {
      "cell_type": "code",
      "source": [
        "f.readline()    # 한 줄씩 읽기"
      ],
      "metadata": {
        "colab": {
          "base_uri": "https://localhost:8080/",
          "height": 35
        },
        "id": "SlFcH2O90fPS",
        "outputId": "a174922d-9851-4ba2-8c4c-518a9c21e969"
      },
      "execution_count": 24,
      "outputs": [
        {
          "output_type": "execute_result",
          "data": {
            "text/plain": [
              "'5,8,9,4,8,\\n'"
            ],
            "application/vnd.google.colaboratory.intrinsic+json": {
              "type": "string"
            }
          },
          "metadata": {},
          "execution_count": 24
        }
      ]
    },
    {
      "cell_type": "code",
      "source": [
        "f.read()        # 전체 읽기"
      ],
      "metadata": {
        "colab": {
          "base_uri": "https://localhost:8080/",
          "height": 35
        },
        "id": "ZKcMYyonTtFp",
        "outputId": "2b616616-1825-4598-9211-6e7407241410"
      },
      "execution_count": 25,
      "outputs": [
        {
          "output_type": "execute_result",
          "data": {
            "text/plain": [
              "'13,16,17,\\n62,77,39,19,98,67,95,8,21,22,\\n'"
            ],
            "application/vnd.google.colaboratory.intrinsic+json": {
              "type": "string"
            }
          },
          "metadata": {},
          "execution_count": 25
        }
      ]
    },
    {
      "cell_type": "code",
      "source": [
        "f.close()"
      ],
      "metadata": {
        "id": "-X2I0hroUG2H"
      },
      "execution_count": 26,
      "outputs": []
    }
  ]
}