{
 "cells": [
  {
   "cell_type": "markdown",
   "id": "5ffe6cf4",
   "metadata": {},
   "source": [
    "## 아마존 제품 리뷰 주제어 분석\n",
    "---\n",
    "잠재 의미 분석(Latent Semantic Analysis)을 활용한 주제어 분석 실습"
   ]
  },
  {
   "cell_type": "markdown",
   "id": "8a4691a7",
   "metadata": {},
   "source": [
    "### 0. 아마존 제품 리뷰 TDM 분석 결과 및 원본 파일 불러오기"
   ]
  },
  {
   "cell_type": "code",
   "execution_count": 1,
   "id": "fed8a1d1",
   "metadata": {},
   "outputs": [],
   "source": [
    "import pandas as pd\n",
    "import joblib"
   ]
  },
  {
   "cell_type": "code",
   "execution_count": 2,
   "id": "b1c57275",
   "metadata": {},
   "outputs": [],
   "source": [
    "with open('amazon.pkl', 'rb') as f:\n",
    "    data = joblib.load(f)\n",
    "locals().update(data)"
   ]
  },
  {
   "cell_type": "code",
   "execution_count": 3,
   "id": "b7f53149",
   "metadata": {
    "scrolled": true
   },
   "outputs": [
    {
     "data": {
      "text/plain": [
       "(1000, 1000)"
      ]
     },
     "execution_count": 3,
     "metadata": {},
     "output_type": "execute_result"
    }
   ],
   "source": [
    "tdm.shape"
   ]
  },
  {
   "cell_type": "markdown",
   "id": "ef6376b0",
   "metadata": {},
   "source": [
    "### 1. LSA 적용"
   ]
  },
  {
   "cell_type": "markdown",
   "id": "b610fe1d",
   "metadata": {},
   "source": [
    "#### 특이값 분해로 차원 축소하기"
   ]
  },
  {
   "cell_type": "code",
   "execution_count": 4,
   "id": "4d88b449",
   "metadata": {},
   "outputs": [],
   "source": [
    "from sklearn.decomposition import TruncatedSVD"
   ]
  },
  {
   "cell_type": "code",
   "execution_count": 5,
   "id": "e4031577",
   "metadata": {},
   "outputs": [
    {
     "data": {
      "text/plain": [
       "(1000, 30)"
      ]
     },
     "execution_count": 5,
     "metadata": {},
     "output_type": "execute_result"
    }
   ],
   "source": [
    "svd = TruncatedSVD(n_components=30)\n",
    "pos = svd.fit_transform(tdm)\n",
    "pos.shape"
   ]
  },
  {
   "cell_type": "markdown",
   "id": "178c592a",
   "metadata": {},
   "source": [
    "#### 2차원 상에 시각화"
   ]
  },
  {
   "cell_type": "code",
   "execution_count": 7,
   "id": "e1604c4e",
   "metadata": {},
   "outputs": [],
   "source": [
    "import matplotlib.pyplot as plt\n",
    "%matplotlib inline"
   ]
  },
  {
   "cell_type": "code",
   "execution_count": 8,
   "id": "87378f44",
   "metadata": {},
   "outputs": [
    {
     "data": {
      "image/png": "[encoded data removed]",
      "text/plain": [
       "<Figure size 432x288 with 1 Axes>"
      ]
     },
     "metadata": {
      "needs_background": "light"
     },
     "output_type": "display_data"
    }
   ],
   "source": [
    "dim1 = 0\n",
    "dim2 = 1\n",
    "plt.plot(pos[sentiment == 1, dim1], pos[sentiment == 1, dim2],'ro')\n",
    "plt.plot(pos[sentiment == 0, dim1], pos[sentiment == 0, dim2],'bo')\n",
    "plt.show()"
   ]
  },
  {
   "cell_type": "markdown",
   "id": "78315f44",
   "metadata": {},
   "source": [
    "#### 정규화 진행"
   ]
  },
  {
   "cell_type": "code",
   "execution_count": 9,
   "id": "c3f2bd9b",
   "metadata": {},
   "outputs": [],
   "source": [
    "from sklearn.preprocessing import Normalizer"
   ]
  },
  {
   "cell_type": "code",
   "execution_count": 10,
   "id": "51d67146",
   "metadata": {},
   "outputs": [],
   "source": [
    "norm = Normalizer(copy=False)\n",
    "pos2 = norm.fit_transform(pos)"
   ]
  },
  {
   "cell_type": "code",
   "execution_count": 12,
   "id": "a39c22db",
   "metadata": {
    "scrolled": true
   },
   "outputs": [
    {
     "data": {
      "image/png": "[encoded data removed]",
      "text/plain": [
       "<Figure size 432x288 with 1 Axes>"
      ]
     },
     "metadata": {
      "needs_background": "light"
     },
     "output_type": "display_data"
    }
   ],
   "source": [
    "dim1 = 0\n",
    "dim2 = 1\n",
    "plt.plot(pos2[sentiment == 1, dim1], pos2[sentiment == 1, dim2],'ro')\n",
    "plt.plot(pos2[sentiment == 0, dim1], pos2[sentiment == 0, dim2], 'bo')\n",
    "plt.show()"
   ]
  },
  {
   "cell_type": "code",
   "execution_count": null,
   "id": "f09b8228",
   "metadata": {},
   "outputs": [],
   "source": [
    "#from sklearn.pipeline import make_pipeline\n",
    "#las = make_pipeline(svd, norm)\n",
    "#las.transform(tdm)"
   ]
  }
 ],
 "metadata": {
  "kernelspec": {
   "display_name": "Python 3 (ipykernel)",
   "language": "python",
   "name": "python3"
  },
  "language_info": {
   "codemirror_mode": {
    "name": "ipython",
    "version": 3
   },
   "file_extension": ".py",
   "mimetype": "text/x-python",
   "name": "python",
   "nbconvert_exporter": "python",
   "pygments_lexer": "ipython3",
   "version": "3.9.12"
  }
 },
 "nbformat": 4,
 "nbformat_minor": 5
}
