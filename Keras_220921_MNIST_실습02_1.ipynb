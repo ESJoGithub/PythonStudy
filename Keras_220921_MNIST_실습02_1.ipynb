{
  "nbformat": 4,
  "nbformat_minor": 0,
  "metadata": {
    "colab": {
      "provenance": [],
      "collapsed_sections": [],
      "mount_file_id": "1DmK2zLLoX3sSbBpJuPT4kOGTz-S67O0A",
      "authorship_tag": "ABX9TyOuERDqU0wL7hZRsj4AulvD",
      "include_colab_link": true
    },
    "kernelspec": {
      "name": "python3",
      "display_name": "Python 3"
    },
    "language_info": {
      "name": "python"
    },
    "accelerator": "GPU"
  },
  "cells": [
    {
      "cell_type": "markdown",
      "metadata": {
        "id": "view-in-github",
        "colab_type": "text"
      },
      "source": [
        "<a href=\"https://colab.research.google.com/github/ESJoGithub/PythonStudy/blob/main/Keras_220921_MNIST_%EC%8B%A4%EC%8A%B502_1.ipynb\" target=\"_parent\"><img src=\"https://colab.research.google.com/assets/colab-badge.svg\" alt=\"Open In Colab\"/></a>"
      ]
    },
    {
      "cell_type": "code",
      "source": [
        "from google.colab import drive\n",
        "drive.mount('/content/drive')"
      ],
      "metadata": {
        "colab": {
          "base_uri": "https://localhost:8080/"
        },
        "id": "oxtO2zTTtPq3",
        "outputId": "744c22da-5796-4e49-de94-24f566af86b0"
      },
      "execution_count": null,
      "outputs": [
        {
          "output_type": "stream",
          "name": "stdout",
          "text": [
            "Mounted at /content/drive\n"
          ]
        }
      ]
    },
    {
      "cell_type": "code",
      "source": [
        "!ln -s /content/drive/MyDrive /mydrive"
      ],
      "metadata": {
        "id": "e2ZTrV_htIFl"
      },
      "execution_count": null,
      "outputs": []
    },
    {
      "cell_type": "code",
      "source": [
        "%cd /mydrive"
      ],
      "metadata": {
        "colab": {
          "base_uri": "https://localhost:8080/"
        },
        "id": "B9ry3cBStVU1",
        "outputId": "336e7d63-070e-49cd-d4e1-8f2cfc246222"
      },
      "execution_count": null,
      "outputs": [
        {
          "output_type": "stream",
          "name": "stdout",
          "text": [
            "/content/drive/MyDrive\n"
          ]
        }
      ]
    },
    {
      "cell_type": "code",
      "source": [
        "!mkdir mnist"
      ],
      "metadata": {
        "id": "98FN5iLDtXqb",
        "colab": {
          "base_uri": "https://localhost:8080/"
        },
        "outputId": "45f89f9d-77b9-4ea4-b850-998b4d4b801e"
      },
      "execution_count": null,
      "outputs": [
        {
          "output_type": "stream",
          "name": "stdout",
          "text": [
            "mkdir: cannot create directory ‘mnist’: File exists\n"
          ]
        }
      ]
    },
    {
      "cell_type": "markdown",
      "source": [
        "## __CNN Layer 구조 변경 & 드롭아웃 일괄적용__\n",
        "---\n",
        "epoch수를 늘리고 callback함수를 넣되 patience 횟수를 키운다.\n",
        "\n",
        "SGD, adam, rmsprop 각 optimizer별 batch_size를 변경해볼 것"
      ],
      "metadata": {
        "id": "19CLRpWxwL5T"
      }
    },
    {
      "cell_type": "markdown",
      "source": [
        "### **1. Library Import**"
      ],
      "metadata": {
        "id": "9Tx44ggmYNsD"
      }
    },
    {
      "cell_type": "code",
      "source": [
        "from keras import datasets, layers, models                \n",
        "from tensorflow import keras                         # to_categorical 함수\n",
        "from tensorflow.keras.models import load_model\n",
        "from tensorflow.keras.callbacks import EarlyStopping, ModelCheckpoint\n",
        "\n",
        "import numpy as np\n",
        "import matplotlib.pyplot as plt\n",
        "import pandas as pd"
      ],
      "metadata": {
        "id": "UFco5dLCQBQF"
      },
      "execution_count": null,
      "outputs": []
    },
    {
      "cell_type": "code",
      "source": [
        "(train_imgs, train_labels), (test_imgs, test_labels) = datasets.mnist.load_data()"
      ],
      "metadata": {
        "id": "rwcqMzdKTPwN",
        "colab": {
          "base_uri": "https://localhost:8080/"
        },
        "outputId": "33861cd8-514c-4ddf-e2d8-e083f6758ef9"
      },
      "execution_count": null,
      "outputs": [
        {
          "output_type": "stream",
          "name": "stdout",
          "text": [
            "Downloading data from https://storage.googleapis.com/tensorflow/tf-keras-datasets/mnist.npz\n",
            "11493376/11490434 [==============================] - 0s 0us/step\n",
            "11501568/11490434 [==============================] - 0s 0us/step\n"
          ]
        }
      ]
    },
    {
      "cell_type": "markdown",
      "source": [
        "### **2. 데이터 확인 및 전처리**"
      ],
      "metadata": {
        "id": "vcIHfL7pYJps"
      }
    },
    {
      "cell_type": "code",
      "source": [
        "train_imgs = train_imgs/255.0\n",
        "test_imgs = test_imgs/255.0"
      ],
      "metadata": {
        "id": "w4IFaKuOYIfc"
      },
      "execution_count": null,
      "outputs": []
    },
    {
      "cell_type": "code",
      "source": [
        "print(train_imgs.shape)\n",
        "print(test_imgs.shape)"
      ],
      "metadata": {
        "colab": {
          "base_uri": "https://localhost:8080/"
        },
        "id": "A9ujYrDMiRy1",
        "outputId": "753e1051-ea2e-4904-ca32-4d26c988ca63"
      },
      "execution_count": null,
      "outputs": [
        {
          "output_type": "stream",
          "name": "stdout",
          "text": [
            "(60000, 28, 28)\n",
            "(10000, 28, 28)\n"
          ]
        }
      ]
    },
    {
      "cell_type": "code",
      "source": [
        "train_imgs = train_imgs.reshape((60000, 28, 28, 1))\n",
        "test_imgs = test_imgs.reshape((10000, 28, 28, 1))"
      ],
      "metadata": {
        "id": "5IGxhDfjiN7d"
      },
      "execution_count": null,
      "outputs": []
    },
    {
      "cell_type": "code",
      "source": [
        "train_labels = keras.utils.to_categorical(train_labels, num_classes=10)\n",
        "test_labels = keras.utils.to_categorical(test_labels, num_classes=10)"
      ],
      "metadata": {
        "id": "ouDs40X-n_uw"
      },
      "execution_count": null,
      "outputs": []
    },
    {
      "cell_type": "markdown",
      "source": [
        "### __모델 변경__\n",
        "\n",
        "---\n",
        "CNN 특성 및 MNIST 자료 특성을 고려할 때, 초기의 세부적인 데이터 정보보다 여러 필터를 거치고난 후의 구조적인 특징정보가 판단에 더 중요할 것이라고 가정하고 출력층에 가까울수록 필터 수를 점점 키워나가는 방식으로 수정\n",
        "\n",
        "Dropout 추가 (64-0.2, 128-0.5)\n",
        "epoch=100 EarlyStop patient = 10으로 키워서 진행해본다. "
      ],
      "metadata": {
        "id": "NTqxfKdbYvVL"
      }
    },
    {
      "cell_type": "markdown",
      "source": [
        "#### __1. batch_size=128, 출력 직전층 activation='sigmoid', optimizer='SGD'__ "
      ],
      "metadata": {
        "id": "CMdQEIi7gG_d"
      }
    },
    {
      "cell_type": "code",
      "source": [
        "import keras"
      ],
      "metadata": {
        "id": "EtDrGU7LlR96"
      },
      "execution_count": null,
      "outputs": []
    },
    {
      "cell_type": "code",
      "source": [
        "model_1 = keras.Sequential([\n",
        "  layers.Conv2D(32, (3, 3), activation='relu', input_shape=(28, 28, 1)),\n",
        "  layers.MaxPooling2D((2, 2)),\n",
        "  layers.Dropout(0.2),\n",
        "  layers.Conv2D(64, (3, 3), activation='relu'),\n",
        "  layers.MaxPooling2D((2, 2)),\n",
        "  layers.Dropout(0.2),\n",
        "  layers.Conv2D(128, (3, 3), activation='relu'),\n",
        "  layers.Dropout(0.5),\n",
        "  layers.Flatten(),\n",
        "  layers.Dense(64, activation = 'sigmoid'),\n",
        "  layers.Dense(10, activation = 'softmax')\n",
        "])\n",
        "model_1.summary()"
      ],
      "metadata": {
        "id": "LSy5b6TEYmJj",
        "colab": {
          "base_uri": "https://localhost:8080/"
        },
        "outputId": "3eec79ef-d000-48bf-cc71-8bc24c7a2bac"
      },
      "execution_count": null,
      "outputs": [
        {
          "output_type": "stream",
          "name": "stdout",
          "text": [
            "Model: \"sequential\"\n",
            "_________________________________________________________________\n",
            " Layer (type)                Output Shape              Param #   \n",
            "=================================================================\n",
            " conv2d (Conv2D)             (None, 26, 26, 32)        320       \n",
            "                                                                 \n",
            " max_pooling2d (MaxPooling2D  (None, 13, 13, 32)       0         \n",
            " )                                                               \n",
            "                                                                 \n",
            " dropout (Dropout)           (None, 13, 13, 32)        0         \n",
            "                                                                 \n",
            " conv2d_1 (Conv2D)           (None, 11, 11, 64)        18496     \n",
            "                                                                 \n",
            " max_pooling2d_1 (MaxPooling  (None, 5, 5, 64)         0         \n",
            " 2D)                                                             \n",
            "                                                                 \n",
            " dropout_1 (Dropout)         (None, 5, 5, 64)          0         \n",
            "                                                                 \n",
            " conv2d_2 (Conv2D)           (None, 3, 3, 128)         73856     \n",
            "                                                                 \n",
            " dropout_2 (Dropout)         (None, 3, 3, 128)         0         \n",
            "                                                                 \n",
            " flatten (Flatten)           (None, 1152)              0         \n",
            "                                                                 \n",
            " dense (Dense)               (None, 64)                73792     \n",
            "                                                                 \n",
            " dense_1 (Dense)             (None, 10)                650       \n",
            "                                                                 \n",
            "=================================================================\n",
            "Total params: 167,114\n",
            "Trainable params: 167,114\n",
            "Non-trainable params: 0\n",
            "_________________________________________________________________\n"
          ]
        }
      ]
    },
    {
      "cell_type": "code",
      "source": [
        "model_1.compile(optimizer=\"SGD\", loss=\"categorical_crossentropy\", metrics=[\"accuracy\"])"
      ],
      "metadata": {
        "id": "rIRHwKY3gm2w"
      },
      "execution_count": null,
      "outputs": []
    },
    {
      "cell_type": "code",
      "source": [
        "es = EarlyStopping(monitor='val_loss', mode='min', verbose=1, patience=10)\n",
        "mc = ModelCheckpoint('mnist/model_2.h5', monitor='val_accuracy', mode='max', verbose=1, save_best_only=True)\n",
        "hist_1 = model_1.fit(train_imgs, train_labels, epochs=100, batch_size=128, validation_split=0.2, callbacks=[es, mc])"
      ],
      "metadata": {
        "colab": {
          "base_uri": "https://localhost:8080/"
        },
        "id": "rmGRWjkknkZo",
        "outputId": "ce7dcb27-9307-4918-c61d-cd2fdd380d5e"
      },
      "execution_count": null,
      "outputs": [
        {
          "output_type": "stream",
          "name": "stdout",
          "text": [
            "Epoch 1/100\n",
            "368/375 [============================>.] - ETA: 0s - loss: 2.2999 - accuracy: 0.1464\n",
            "Epoch 1: val_accuracy improved from -inf to 0.19867, saving model to mnist/model_1.h2\n",
            "375/375 [==============================] - 17s 16ms/step - loss: 2.2992 - accuracy: 0.1480 - val_loss: 2.2623 - val_accuracy: 0.1987\n",
            "Epoch 2/100\n",
            "372/375 [============================>.] - ETA: 0s - loss: 2.1469 - accuracy: 0.3433\n",
            "Epoch 2: val_accuracy improved from 0.19867 to 0.62583, saving model to mnist/model_1.h2\n",
            "375/375 [==============================] - 3s 8ms/step - loss: 2.1451 - accuracy: 0.3440 - val_loss: 1.8372 - val_accuracy: 0.6258\n",
            "Epoch 3/100\n",
            "371/375 [============================>.] - ETA: 0s - loss: 1.5217 - accuracy: 0.5780\n",
            "Epoch 3: val_accuracy improved from 0.62583 to 0.76025, saving model to mnist/model_1.h2\n",
            "375/375 [==============================] - 3s 8ms/step - loss: 1.5189 - accuracy: 0.5787 - val_loss: 0.9887 - val_accuracy: 0.7602\n",
            "Epoch 4/100\n",
            "368/375 [============================>.] - ETA: 0s - loss: 1.0440 - accuracy: 0.7093\n",
            "Epoch 4: val_accuracy improved from 0.76025 to 0.81875, saving model to mnist/model_1.h2\n",
            "375/375 [==============================] - 3s 8ms/step - loss: 1.0420 - accuracy: 0.7098 - val_loss: 0.6894 - val_accuracy: 0.8188\n",
            "Epoch 5/100\n",
            "365/375 [============================>.] - ETA: 0s - loss: 0.8296 - accuracy: 0.7654\n",
            "Epoch 5: val_accuracy improved from 0.81875 to 0.85483, saving model to mnist/model_1.h2\n",
            "375/375 [==============================] - 3s 9ms/step - loss: 0.8271 - accuracy: 0.7662 - val_loss: 0.5454 - val_accuracy: 0.8548\n",
            "Epoch 6/100\n",
            "374/375 [============================>.] - ETA: 0s - loss: 0.6966 - accuracy: 0.8023\n",
            "Epoch 6: val_accuracy improved from 0.85483 to 0.88025, saving model to mnist/model_1.h2\n",
            "375/375 [==============================] - 3s 8ms/step - loss: 0.6964 - accuracy: 0.8023 - val_loss: 0.4543 - val_accuracy: 0.8802\n",
            "Epoch 7/100\n",
            "370/375 [============================>.] - ETA: 0s - loss: 0.6023 - accuracy: 0.8277\n",
            "Epoch 7: val_accuracy improved from 0.88025 to 0.89608, saving model to mnist/model_1.h2\n",
            "375/375 [==============================] - 3s 8ms/step - loss: 0.6020 - accuracy: 0.8277 - val_loss: 0.3874 - val_accuracy: 0.8961\n",
            "Epoch 8/100\n",
            "366/375 [============================>.] - ETA: 0s - loss: 0.5302 - accuracy: 0.8499\n",
            "Epoch 8: val_accuracy improved from 0.89608 to 0.90992, saving model to mnist/model_1.h2\n",
            "375/375 [==============================] - 3s 8ms/step - loss: 0.5299 - accuracy: 0.8497 - val_loss: 0.3356 - val_accuracy: 0.9099\n",
            "Epoch 9/100\n",
            "368/375 [============================>.] - ETA: 0s - loss: 0.4706 - accuracy: 0.8675\n",
            "Epoch 9: val_accuracy improved from 0.90992 to 0.91783, saving model to mnist/model_1.h2\n",
            "375/375 [==============================] - 3s 8ms/step - loss: 0.4699 - accuracy: 0.8677 - val_loss: 0.2981 - val_accuracy: 0.9178\n",
            "Epoch 10/100\n",
            "369/375 [============================>.] - ETA: 0s - loss: 0.4252 - accuracy: 0.8787\n",
            "Epoch 10: val_accuracy improved from 0.91783 to 0.92583, saving model to mnist/model_1.h2\n",
            "375/375 [==============================] - 3s 9ms/step - loss: 0.4241 - accuracy: 0.8792 - val_loss: 0.2661 - val_accuracy: 0.9258\n",
            "Epoch 11/100\n",
            "375/375 [==============================] - ETA: 0s - loss: 0.3864 - accuracy: 0.8894\n",
            "Epoch 11: val_accuracy improved from 0.92583 to 0.93342, saving model to mnist/model_1.h2\n",
            "375/375 [==============================] - 3s 8ms/step - loss: 0.3864 - accuracy: 0.8894 - val_loss: 0.2403 - val_accuracy: 0.9334\n",
            "Epoch 12/100\n",
            "367/375 [============================>.] - ETA: 0s - loss: 0.3548 - accuracy: 0.8987\n",
            "Epoch 12: val_accuracy improved from 0.93342 to 0.93925, saving model to mnist/model_1.h2\n",
            "375/375 [==============================] - 3s 8ms/step - loss: 0.3542 - accuracy: 0.8988 - val_loss: 0.2202 - val_accuracy: 0.9392\n",
            "Epoch 13/100\n",
            "366/375 [============================>.] - ETA: 0s - loss: 0.3326 - accuracy: 0.9042\n",
            "Epoch 13: val_accuracy improved from 0.93925 to 0.94308, saving model to mnist/model_1.h2\n",
            "375/375 [==============================] - 3s 8ms/step - loss: 0.3319 - accuracy: 0.9046 - val_loss: 0.2030 - val_accuracy: 0.9431\n",
            "Epoch 14/100\n",
            "373/375 [============================>.] - ETA: 0s - loss: 0.3092 - accuracy: 0.9103\n",
            "Epoch 14: val_accuracy improved from 0.94308 to 0.94650, saving model to mnist/model_1.h2\n",
            "375/375 [==============================] - 3s 8ms/step - loss: 0.3090 - accuracy: 0.9105 - val_loss: 0.1898 - val_accuracy: 0.9465\n",
            "Epoch 15/100\n",
            "369/375 [============================>.] - ETA: 0s - loss: 0.2907 - accuracy: 0.9163\n",
            "Epoch 15: val_accuracy improved from 0.94650 to 0.94892, saving model to mnist/model_1.h2\n",
            "375/375 [==============================] - 3s 8ms/step - loss: 0.2903 - accuracy: 0.9164 - val_loss: 0.1787 - val_accuracy: 0.9489\n",
            "Epoch 16/100\n",
            "373/375 [============================>.] - ETA: 0s - loss: 0.2756 - accuracy: 0.9214\n",
            "Epoch 16: val_accuracy improved from 0.94892 to 0.95242, saving model to mnist/model_1.h2\n",
            "375/375 [==============================] - 3s 8ms/step - loss: 0.2752 - accuracy: 0.9216 - val_loss: 0.1679 - val_accuracy: 0.9524\n",
            "Epoch 17/100\n",
            "375/375 [==============================] - ETA: 0s - loss: 0.2592 - accuracy: 0.9249\n",
            "Epoch 17: val_accuracy improved from 0.95242 to 0.95333, saving model to mnist/model_1.h2\n",
            "375/375 [==============================] - 3s 8ms/step - loss: 0.2592 - accuracy: 0.9249 - val_loss: 0.1609 - val_accuracy: 0.9533\n",
            "Epoch 18/100\n",
            "369/375 [============================>.] - ETA: 0s - loss: 0.2486 - accuracy: 0.9278\n",
            "Epoch 18: val_accuracy improved from 0.95333 to 0.95617, saving model to mnist/model_1.h2\n",
            "375/375 [==============================] - 3s 9ms/step - loss: 0.2492 - accuracy: 0.9276 - val_loss: 0.1531 - val_accuracy: 0.9562\n",
            "Epoch 19/100\n",
            "367/375 [============================>.] - ETA: 0s - loss: 0.2427 - accuracy: 0.9298\n",
            "Epoch 19: val_accuracy improved from 0.95617 to 0.95867, saving model to mnist/model_1.h2\n",
            "375/375 [==============================] - 3s 8ms/step - loss: 0.2426 - accuracy: 0.9298 - val_loss: 0.1460 - val_accuracy: 0.9587\n",
            "Epoch 20/100\n",
            "375/375 [==============================] - ETA: 0s - loss: 0.2320 - accuracy: 0.9321\n",
            "Epoch 20: val_accuracy did not improve from 0.95867\n",
            "375/375 [==============================] - 2s 6ms/step - loss: 0.2320 - accuracy: 0.9321 - val_loss: 0.1430 - val_accuracy: 0.9587\n",
            "Epoch 21/100\n",
            "373/375 [============================>.] - ETA: 0s - loss: 0.2229 - accuracy: 0.9350\n",
            "Epoch 21: val_accuracy improved from 0.95867 to 0.96167, saving model to mnist/model_1.h2\n",
            "375/375 [==============================] - 3s 8ms/step - loss: 0.2227 - accuracy: 0.9350 - val_loss: 0.1350 - val_accuracy: 0.9617\n",
            "Epoch 22/100\n",
            "366/375 [============================>.] - ETA: 0s - loss: 0.2158 - accuracy: 0.9376\n",
            "Epoch 22: val_accuracy improved from 0.96167 to 0.96342, saving model to mnist/model_1.h2\n",
            "375/375 [==============================] - 3s 8ms/step - loss: 0.2165 - accuracy: 0.9373 - val_loss: 0.1300 - val_accuracy: 0.9634\n",
            "Epoch 23/100\n",
            "366/375 [============================>.] - ETA: 0s - loss: 0.2095 - accuracy: 0.9388\n",
            "Epoch 23: val_accuracy improved from 0.96342 to 0.96383, saving model to mnist/model_1.h2\n",
            "375/375 [==============================] - 3s 9ms/step - loss: 0.2090 - accuracy: 0.9389 - val_loss: 0.1262 - val_accuracy: 0.9638\n",
            "Epoch 24/100\n",
            "366/375 [============================>.] - ETA: 0s - loss: 0.1998 - accuracy: 0.9417\n",
            "Epoch 24: val_accuracy improved from 0.96383 to 0.96467, saving model to mnist/model_1.h2\n",
            "375/375 [==============================] - 3s 8ms/step - loss: 0.1999 - accuracy: 0.9418 - val_loss: 0.1226 - val_accuracy: 0.9647\n",
            "Epoch 25/100\n",
            "371/375 [============================>.] - ETA: 0s - loss: 0.1971 - accuracy: 0.9418\n",
            "Epoch 25: val_accuracy improved from 0.96467 to 0.96575, saving model to mnist/model_1.h2\n",
            "375/375 [==============================] - 3s 8ms/step - loss: 0.1970 - accuracy: 0.9418 - val_loss: 0.1191 - val_accuracy: 0.9657\n",
            "Epoch 26/100\n",
            "367/375 [============================>.] - ETA: 0s - loss: 0.1917 - accuracy: 0.9442\n",
            "Epoch 26: val_accuracy improved from 0.96575 to 0.96667, saving model to mnist/model_1.h2\n",
            "375/375 [==============================] - 3s 8ms/step - loss: 0.1924 - accuracy: 0.9441 - val_loss: 0.1155 - val_accuracy: 0.9667\n",
            "Epoch 27/100\n",
            "367/375 [============================>.] - ETA: 0s - loss: 0.1869 - accuracy: 0.9450\n",
            "Epoch 27: val_accuracy improved from 0.96667 to 0.96725, saving model to mnist/model_1.h2\n",
            "375/375 [==============================] - 3s 9ms/step - loss: 0.1870 - accuracy: 0.9450 - val_loss: 0.1116 - val_accuracy: 0.9672\n",
            "Epoch 28/100\n",
            "373/375 [============================>.] - ETA: 0s - loss: 0.1824 - accuracy: 0.9464\n",
            "Epoch 28: val_accuracy improved from 0.96725 to 0.96792, saving model to mnist/model_1.h2\n",
            "375/375 [==============================] - 3s 8ms/step - loss: 0.1825 - accuracy: 0.9463 - val_loss: 0.1099 - val_accuracy: 0.9679\n",
            "Epoch 29/100\n",
            "369/375 [============================>.] - ETA: 0s - loss: 0.1775 - accuracy: 0.9472\n",
            "Epoch 29: val_accuracy improved from 0.96792 to 0.96858, saving model to mnist/model_1.h2\n",
            "375/375 [==============================] - 3s 8ms/step - loss: 0.1778 - accuracy: 0.9470 - val_loss: 0.1073 - val_accuracy: 0.9686\n",
            "Epoch 30/100\n",
            "371/375 [============================>.] - ETA: 0s - loss: 0.1740 - accuracy: 0.9488\n",
            "Epoch 30: val_accuracy improved from 0.96858 to 0.96933, saving model to mnist/model_1.h2\n",
            "375/375 [==============================] - 3s 8ms/step - loss: 0.1739 - accuracy: 0.9488 - val_loss: 0.1047 - val_accuracy: 0.9693\n",
            "Epoch 31/100\n",
            "373/375 [============================>.] - ETA: 0s - loss: 0.1683 - accuracy: 0.9504\n",
            "Epoch 31: val_accuracy improved from 0.96933 to 0.96992, saving model to mnist/model_1.h2\n",
            "375/375 [==============================] - 3s 9ms/step - loss: 0.1681 - accuracy: 0.9505 - val_loss: 0.1021 - val_accuracy: 0.9699\n",
            "Epoch 32/100\n",
            "372/375 [============================>.] - ETA: 0s - loss: 0.1627 - accuracy: 0.9518\n",
            "Epoch 32: val_accuracy improved from 0.96992 to 0.97025, saving model to mnist/model_1.h2\n",
            "375/375 [==============================] - 3s 8ms/step - loss: 0.1624 - accuracy: 0.9519 - val_loss: 0.0998 - val_accuracy: 0.9703\n",
            "Epoch 33/100\n",
            "366/375 [============================>.] - ETA: 0s - loss: 0.1609 - accuracy: 0.9524\n",
            "Epoch 33: val_accuracy improved from 0.97025 to 0.97092, saving model to mnist/model_1.h2\n",
            "375/375 [==============================] - 3s 8ms/step - loss: 0.1608 - accuracy: 0.9524 - val_loss: 0.0971 - val_accuracy: 0.9709\n",
            "Epoch 34/100\n",
            "372/375 [============================>.] - ETA: 0s - loss: 0.1582 - accuracy: 0.9523\n",
            "Epoch 34: val_accuracy improved from 0.97092 to 0.97133, saving model to mnist/model_1.h2\n",
            "375/375 [==============================] - 3s 8ms/step - loss: 0.1581 - accuracy: 0.9523 - val_loss: 0.0956 - val_accuracy: 0.9713\n",
            "Epoch 35/100\n",
            "372/375 [============================>.] - ETA: 0s - loss: 0.1550 - accuracy: 0.9545\n",
            "Epoch 35: val_accuracy did not improve from 0.97133\n",
            "375/375 [==============================] - 2s 6ms/step - loss: 0.1551 - accuracy: 0.9544 - val_loss: 0.0948 - val_accuracy: 0.9712\n",
            "Epoch 36/100\n",
            "368/375 [============================>.] - ETA: 0s - loss: 0.1537 - accuracy: 0.9537\n",
            "Epoch 36: val_accuracy improved from 0.97133 to 0.97333, saving model to mnist/model_1.h2\n",
            "375/375 [==============================] - 3s 9ms/step - loss: 0.1534 - accuracy: 0.9538 - val_loss: 0.0919 - val_accuracy: 0.9733\n",
            "Epoch 37/100\n",
            "374/375 [============================>.] - ETA: 0s - loss: 0.1491 - accuracy: 0.9549\n",
            "Epoch 37: val_accuracy did not improve from 0.97333\n",
            "375/375 [==============================] - 2s 6ms/step - loss: 0.1491 - accuracy: 0.9549 - val_loss: 0.0903 - val_accuracy: 0.9732\n",
            "Epoch 38/100\n",
            "371/375 [============================>.] - ETA: 0s - loss: 0.1443 - accuracy: 0.9568\n",
            "Epoch 38: val_accuracy improved from 0.97333 to 0.97358, saving model to mnist/model_1.h2\n",
            "375/375 [==============================] - 3s 8ms/step - loss: 0.1442 - accuracy: 0.9569 - val_loss: 0.0885 - val_accuracy: 0.9736\n",
            "Epoch 39/100\n",
            "371/375 [============================>.] - ETA: 0s - loss: 0.1437 - accuracy: 0.9571\n",
            "Epoch 39: val_accuracy improved from 0.97358 to 0.97433, saving model to mnist/model_1.h2\n",
            "375/375 [==============================] - 3s 8ms/step - loss: 0.1439 - accuracy: 0.9571 - val_loss: 0.0870 - val_accuracy: 0.9743\n",
            "Epoch 40/100\n",
            "375/375 [==============================] - ETA: 0s - loss: 0.1391 - accuracy: 0.9595\n",
            "Epoch 40: val_accuracy did not improve from 0.97433\n",
            "375/375 [==============================] - 2s 6ms/step - loss: 0.1391 - accuracy: 0.9595 - val_loss: 0.0859 - val_accuracy: 0.9743\n",
            "Epoch 41/100\n",
            "373/375 [============================>.] - ETA: 0s - loss: 0.1402 - accuracy: 0.9578\n",
            "Epoch 41: val_accuracy improved from 0.97433 to 0.97483, saving model to mnist/model_1.h2\n",
            "375/375 [==============================] - 3s 8ms/step - loss: 0.1402 - accuracy: 0.9578 - val_loss: 0.0843 - val_accuracy: 0.9748\n",
            "Epoch 42/100\n",
            "366/375 [============================>.] - ETA: 0s - loss: 0.1366 - accuracy: 0.9597\n",
            "Epoch 42: val_accuracy improved from 0.97483 to 0.97500, saving model to mnist/model_1.h2\n",
            "375/375 [==============================] - 3s 9ms/step - loss: 0.1366 - accuracy: 0.9597 - val_loss: 0.0838 - val_accuracy: 0.9750\n",
            "Epoch 43/100\n",
            "372/375 [============================>.] - ETA: 0s - loss: 0.1342 - accuracy: 0.9597\n",
            "Epoch 43: val_accuracy improved from 0.97500 to 0.97658, saving model to mnist/model_1.h2\n",
            "375/375 [==============================] - 3s 8ms/step - loss: 0.1340 - accuracy: 0.9598 - val_loss: 0.0810 - val_accuracy: 0.9766\n",
            "Epoch 44/100\n",
            "373/375 [============================>.] - ETA: 0s - loss: 0.1333 - accuracy: 0.9606\n",
            "Epoch 44: val_accuracy improved from 0.97658 to 0.97675, saving model to mnist/model_1.h2\n",
            "375/375 [==============================] - 3s 8ms/step - loss: 0.1331 - accuracy: 0.9606 - val_loss: 0.0803 - val_accuracy: 0.9768\n",
            "Epoch 45/100\n",
            "369/375 [============================>.] - ETA: 0s - loss: 0.1305 - accuracy: 0.9606\n",
            "Epoch 45: val_accuracy improved from 0.97675 to 0.97725, saving model to mnist/model_1.h2\n",
            "375/375 [==============================] - 3s 8ms/step - loss: 0.1305 - accuracy: 0.9607 - val_loss: 0.0787 - val_accuracy: 0.9772\n",
            "Epoch 46/100\n",
            "371/375 [============================>.] - ETA: 0s - loss: 0.1291 - accuracy: 0.9608\n",
            "Epoch 46: val_accuracy did not improve from 0.97725\n",
            "375/375 [==============================] - 2s 6ms/step - loss: 0.1287 - accuracy: 0.9609 - val_loss: 0.0776 - val_accuracy: 0.9771\n",
            "Epoch 47/100\n",
            "375/375 [==============================] - ETA: 0s - loss: 0.1275 - accuracy: 0.9624\n",
            "Epoch 47: val_accuracy improved from 0.97725 to 0.97817, saving model to mnist/model_1.h2\n",
            "375/375 [==============================] - 3s 9ms/step - loss: 0.1275 - accuracy: 0.9624 - val_loss: 0.0767 - val_accuracy: 0.9782\n",
            "Epoch 48/100\n",
            "373/375 [============================>.] - ETA: 0s - loss: 0.1234 - accuracy: 0.9623\n",
            "Epoch 48: val_accuracy improved from 0.97817 to 0.97833, saving model to mnist/model_1.h2\n",
            "375/375 [==============================] - 3s 9ms/step - loss: 0.1235 - accuracy: 0.9624 - val_loss: 0.0755 - val_accuracy: 0.9783\n",
            "Epoch 49/100\n",
            "375/375 [==============================] - ETA: 0s - loss: 0.1227 - accuracy: 0.9632\n",
            "Epoch 49: val_accuracy did not improve from 0.97833\n",
            "375/375 [==============================] - 2s 6ms/step - loss: 0.1227 - accuracy: 0.9632 - val_loss: 0.0746 - val_accuracy: 0.9781\n",
            "Epoch 50/100\n",
            "372/375 [============================>.] - ETA: 0s - loss: 0.1226 - accuracy: 0.9629\n",
            "Epoch 50: val_accuracy improved from 0.97833 to 0.97908, saving model to mnist/model_1.h2\n",
            "375/375 [==============================] - 3s 8ms/step - loss: 0.1228 - accuracy: 0.9629 - val_loss: 0.0731 - val_accuracy: 0.9791\n",
            "Epoch 51/100\n",
            "368/375 [============================>.] - ETA: 0s - loss: 0.1188 - accuracy: 0.9644\n",
            "Epoch 51: val_accuracy did not improve from 0.97908\n",
            "375/375 [==============================] - 2s 6ms/step - loss: 0.1184 - accuracy: 0.9646 - val_loss: 0.0717 - val_accuracy: 0.9791\n",
            "Epoch 52/100\n",
            "374/375 [============================>.] - ETA: 0s - loss: 0.1196 - accuracy: 0.9633\n",
            "Epoch 52: val_accuracy improved from 0.97908 to 0.97933, saving model to mnist/model_1.h2\n",
            "375/375 [==============================] - 3s 8ms/step - loss: 0.1196 - accuracy: 0.9633 - val_loss: 0.0719 - val_accuracy: 0.9793\n",
            "Epoch 53/100\n",
            "372/375 [============================>.] - ETA: 0s - loss: 0.1159 - accuracy: 0.9651\n",
            "Epoch 53: val_accuracy improved from 0.97933 to 0.97950, saving model to mnist/model_1.h2\n",
            "375/375 [==============================] - 3s 9ms/step - loss: 0.1160 - accuracy: 0.9650 - val_loss: 0.0705 - val_accuracy: 0.9795\n",
            "Epoch 54/100\n",
            "374/375 [============================>.] - ETA: 0s - loss: 0.1159 - accuracy: 0.9658\n",
            "Epoch 54: val_accuracy did not improve from 0.97950\n",
            "375/375 [==============================] - 2s 6ms/step - loss: 0.1158 - accuracy: 0.9658 - val_loss: 0.0701 - val_accuracy: 0.9793\n",
            "Epoch 55/100\n",
            "370/375 [============================>.] - ETA: 0s - loss: 0.1153 - accuracy: 0.9641\n",
            "Epoch 55: val_accuracy improved from 0.97950 to 0.98017, saving model to mnist/model_1.h2\n",
            "375/375 [==============================] - 3s 8ms/step - loss: 0.1152 - accuracy: 0.9641 - val_loss: 0.0687 - val_accuracy: 0.9802\n",
            "Epoch 56/100\n",
            "369/375 [============================>.] - ETA: 0s - loss: 0.1115 - accuracy: 0.9666\n",
            "Epoch 56: val_accuracy did not improve from 0.98017\n",
            "375/375 [==============================] - 2s 6ms/step - loss: 0.1119 - accuracy: 0.9666 - val_loss: 0.0688 - val_accuracy: 0.9797\n",
            "Epoch 57/100\n",
            "372/375 [============================>.] - ETA: 0s - loss: 0.1123 - accuracy: 0.9662\n",
            "Epoch 57: val_accuracy did not improve from 0.98017\n",
            "375/375 [==============================] - 2s 6ms/step - loss: 0.1123 - accuracy: 0.9663 - val_loss: 0.0677 - val_accuracy: 0.9802\n",
            "Epoch 58/100\n",
            "366/375 [============================>.] - ETA: 0s - loss: 0.1078 - accuracy: 0.9679\n",
            "Epoch 58: val_accuracy improved from 0.98017 to 0.98050, saving model to mnist/model_1.h2\n",
            "375/375 [==============================] - 3s 8ms/step - loss: 0.1080 - accuracy: 0.9679 - val_loss: 0.0676 - val_accuracy: 0.9805\n",
            "Epoch 59/100\n",
            "369/375 [============================>.] - ETA: 0s - loss: 0.1088 - accuracy: 0.9673\n",
            "Epoch 59: val_accuracy did not improve from 0.98050\n",
            "375/375 [==============================] - 2s 6ms/step - loss: 0.1088 - accuracy: 0.9673 - val_loss: 0.0658 - val_accuracy: 0.9802\n",
            "Epoch 60/100\n",
            "369/375 [============================>.] - ETA: 0s - loss: 0.1093 - accuracy: 0.9664\n",
            "Epoch 60: val_accuracy did not improve from 0.98050\n",
            "375/375 [==============================] - 2s 6ms/step - loss: 0.1091 - accuracy: 0.9665 - val_loss: 0.0665 - val_accuracy: 0.9803\n",
            "Epoch 61/100\n",
            "375/375 [==============================] - ETA: 0s - loss: 0.1060 - accuracy: 0.9678\n",
            "Epoch 61: val_accuracy improved from 0.98050 to 0.98083, saving model to mnist/model_1.h2\n",
            "375/375 [==============================] - 3s 8ms/step - loss: 0.1060 - accuracy: 0.9678 - val_loss: 0.0641 - val_accuracy: 0.9808\n",
            "Epoch 62/100\n",
            "368/375 [============================>.] - ETA: 0s - loss: 0.1062 - accuracy: 0.9682\n",
            "Epoch 62: val_accuracy improved from 0.98083 to 0.98117, saving model to mnist/model_1.h2\n",
            "375/375 [==============================] - 3s 9ms/step - loss: 0.1061 - accuracy: 0.9683 - val_loss: 0.0651 - val_accuracy: 0.9812\n",
            "Epoch 63/100\n",
            "374/375 [============================>.] - ETA: 0s - loss: 0.1052 - accuracy: 0.9680\n",
            "Epoch 63: val_accuracy improved from 0.98117 to 0.98142, saving model to mnist/model_1.h2\n",
            "375/375 [==============================] - 3s 8ms/step - loss: 0.1052 - accuracy: 0.9680 - val_loss: 0.0632 - val_accuracy: 0.9814\n",
            "Epoch 64/100\n",
            "371/375 [============================>.] - ETA: 0s - loss: 0.1016 - accuracy: 0.9696\n",
            "Epoch 64: val_accuracy did not improve from 0.98142\n",
            "375/375 [==============================] - 2s 6ms/step - loss: 0.1018 - accuracy: 0.9696 - val_loss: 0.0632 - val_accuracy: 0.9812\n",
            "Epoch 65/100\n",
            "372/375 [============================>.] - ETA: 0s - loss: 0.1021 - accuracy: 0.9690\n",
            "Epoch 65: val_accuracy did not improve from 0.98142\n",
            "375/375 [==============================] - 2s 6ms/step - loss: 0.1021 - accuracy: 0.9690 - val_loss: 0.0630 - val_accuracy: 0.9812\n",
            "Epoch 66/100\n",
            "374/375 [============================>.] - ETA: 0s - loss: 0.1008 - accuracy: 0.9693\n",
            "Epoch 66: val_accuracy improved from 0.98142 to 0.98225, saving model to mnist/model_1.h2\n",
            "375/375 [==============================] - 3s 8ms/step - loss: 0.1008 - accuracy: 0.9693 - val_loss: 0.0620 - val_accuracy: 0.9822\n",
            "Epoch 67/100\n",
            "367/375 [============================>.] - ETA: 0s - loss: 0.1001 - accuracy: 0.9702\n",
            "Epoch 67: val_accuracy did not improve from 0.98225\n",
            "375/375 [==============================] - 2s 6ms/step - loss: 0.1001 - accuracy: 0.9701 - val_loss: 0.0611 - val_accuracy: 0.9818\n",
            "Epoch 68/100\n",
            "373/375 [============================>.] - ETA: 0s - loss: 0.0984 - accuracy: 0.9706\n",
            "Epoch 68: val_accuracy did not improve from 0.98225\n",
            "375/375 [==============================] - 2s 6ms/step - loss: 0.0982 - accuracy: 0.9707 - val_loss: 0.0606 - val_accuracy: 0.9820\n",
            "Epoch 69/100\n",
            "369/375 [============================>.] - ETA: 0s - loss: 0.0972 - accuracy: 0.9709\n",
            "Epoch 69: val_accuracy improved from 0.98225 to 0.98233, saving model to mnist/model_1.h2\n",
            "375/375 [==============================] - 3s 8ms/step - loss: 0.0971 - accuracy: 0.9709 - val_loss: 0.0605 - val_accuracy: 0.9823\n",
            "Epoch 70/100\n",
            "367/375 [============================>.] - ETA: 0s - loss: 0.0950 - accuracy: 0.9708\n",
            "Epoch 70: val_accuracy improved from 0.98233 to 0.98267, saving model to mnist/model_1.h2\n",
            "375/375 [==============================] - 3s 9ms/step - loss: 0.0952 - accuracy: 0.9707 - val_loss: 0.0590 - val_accuracy: 0.9827\n",
            "Epoch 71/100\n",
            "372/375 [============================>.] - ETA: 0s - loss: 0.0939 - accuracy: 0.9720\n",
            "Epoch 71: val_accuracy did not improve from 0.98267\n",
            "375/375 [==============================] - 2s 6ms/step - loss: 0.0942 - accuracy: 0.9720 - val_loss: 0.0594 - val_accuracy: 0.9822\n",
            "Epoch 72/100\n",
            "369/375 [============================>.] - ETA: 0s - loss: 0.0950 - accuracy: 0.9712\n",
            "Epoch 72: val_accuracy did not improve from 0.98267\n",
            "375/375 [==============================] - 2s 6ms/step - loss: 0.0953 - accuracy: 0.9711 - val_loss: 0.0586 - val_accuracy: 0.9821\n",
            "Epoch 73/100\n",
            "375/375 [==============================] - ETA: 0s - loss: 0.0933 - accuracy: 0.9715\n",
            "Epoch 73: val_accuracy improved from 0.98267 to 0.98292, saving model to mnist/model_1.h2\n",
            "375/375 [==============================] - 3s 8ms/step - loss: 0.0933 - accuracy: 0.9715 - val_loss: 0.0573 - val_accuracy: 0.9829\n",
            "Epoch 74/100\n",
            "366/375 [============================>.] - ETA: 0s - loss: 0.0926 - accuracy: 0.9719\n",
            "Epoch 74: val_accuracy improved from 0.98292 to 0.98300, saving model to mnist/model_1.h2\n",
            "375/375 [==============================] - 3s 8ms/step - loss: 0.0922 - accuracy: 0.9720 - val_loss: 0.0577 - val_accuracy: 0.9830\n",
            "Epoch 75/100\n",
            "369/375 [============================>.] - ETA: 0s - loss: 0.0914 - accuracy: 0.9727\n",
            "Epoch 75: val_accuracy did not improve from 0.98300\n",
            "375/375 [==============================] - 2s 6ms/step - loss: 0.0914 - accuracy: 0.9726 - val_loss: 0.0572 - val_accuracy: 0.9830\n",
            "Epoch 76/100\n",
            "373/375 [============================>.] - ETA: 0s - loss: 0.0923 - accuracy: 0.9718\n",
            "Epoch 76: val_accuracy improved from 0.98300 to 0.98367, saving model to mnist/model_1.h2\n",
            "375/375 [==============================] - 3s 8ms/step - loss: 0.0922 - accuracy: 0.9719 - val_loss: 0.0564 - val_accuracy: 0.9837\n",
            "Epoch 77/100\n",
            "366/375 [============================>.] - ETA: 0s - loss: 0.0914 - accuracy: 0.9721\n",
            "Epoch 77: val_accuracy did not improve from 0.98367\n",
            "375/375 [==============================] - 2s 6ms/step - loss: 0.0910 - accuracy: 0.9723 - val_loss: 0.0570 - val_accuracy: 0.9830\n",
            "Epoch 78/100\n",
            "368/375 [============================>.] - ETA: 0s - loss: 0.0907 - accuracy: 0.9726\n",
            "Epoch 78: val_accuracy did not improve from 0.98367\n",
            "375/375 [==============================] - 2s 6ms/step - loss: 0.0905 - accuracy: 0.9726 - val_loss: 0.0565 - val_accuracy: 0.9836\n",
            "Epoch 79/100\n",
            "369/375 [============================>.] - ETA: 0s - loss: 0.0882 - accuracy: 0.9723\n",
            "Epoch 79: val_accuracy did not improve from 0.98367\n",
            "375/375 [==============================] - 2s 6ms/step - loss: 0.0881 - accuracy: 0.9725 - val_loss: 0.0555 - val_accuracy: 0.9835\n",
            "Epoch 80/100\n",
            "375/375 [==============================] - ETA: 0s - loss: 0.0868 - accuracy: 0.9732\n",
            "Epoch 80: val_accuracy improved from 0.98367 to 0.98400, saving model to mnist/model_1.h2\n",
            "375/375 [==============================] - 3s 9ms/step - loss: 0.0868 - accuracy: 0.9732 - val_loss: 0.0551 - val_accuracy: 0.9840\n",
            "Epoch 81/100\n",
            "372/375 [============================>.] - ETA: 0s - loss: 0.0862 - accuracy: 0.9733\n",
            "Epoch 81: val_accuracy improved from 0.98400 to 0.98433, saving model to mnist/model_1.h2\n",
            "375/375 [==============================] - 3s 8ms/step - loss: 0.0863 - accuracy: 0.9732 - val_loss: 0.0552 - val_accuracy: 0.9843\n",
            "Epoch 82/100\n",
            "367/375 [============================>.] - ETA: 0s - loss: 0.0856 - accuracy: 0.9751\n",
            "Epoch 82: val_accuracy did not improve from 0.98433\n",
            "375/375 [==============================] - 2s 6ms/step - loss: 0.0860 - accuracy: 0.9750 - val_loss: 0.0562 - val_accuracy: 0.9837\n",
            "Epoch 83/100\n",
            "370/375 [============================>.] - ETA: 0s - loss: 0.0849 - accuracy: 0.9746\n",
            "Epoch 83: val_accuracy did not improve from 0.98433\n",
            "375/375 [==============================] - 2s 6ms/step - loss: 0.0845 - accuracy: 0.9747 - val_loss: 0.0541 - val_accuracy: 0.9843\n",
            "Epoch 84/100\n",
            "371/375 [============================>.] - ETA: 0s - loss: 0.0852 - accuracy: 0.9750\n",
            "Epoch 84: val_accuracy improved from 0.98433 to 0.98442, saving model to mnist/model_1.h2\n",
            "375/375 [==============================] - 3s 8ms/step - loss: 0.0851 - accuracy: 0.9750 - val_loss: 0.0530 - val_accuracy: 0.9844\n",
            "Epoch 85/100\n",
            "372/375 [============================>.] - ETA: 0s - loss: 0.0846 - accuracy: 0.9743\n",
            "Epoch 85: val_accuracy did not improve from 0.98442\n",
            "375/375 [==============================] - 2s 6ms/step - loss: 0.0845 - accuracy: 0.9743 - val_loss: 0.0531 - val_accuracy: 0.9844\n",
            "Epoch 86/100\n",
            "371/375 [============================>.] - ETA: 0s - loss: 0.0834 - accuracy: 0.9753\n",
            "Epoch 86: val_accuracy improved from 0.98442 to 0.98475, saving model to mnist/model_1.h2\n",
            "375/375 [==============================] - 3s 8ms/step - loss: 0.0832 - accuracy: 0.9754 - val_loss: 0.0530 - val_accuracy: 0.9847\n",
            "Epoch 87/100\n",
            "373/375 [============================>.] - ETA: 0s - loss: 0.0804 - accuracy: 0.9751\n",
            "Epoch 87: val_accuracy improved from 0.98475 to 0.98483, saving model to mnist/model_1.h2\n",
            "375/375 [==============================] - 3s 9ms/step - loss: 0.0807 - accuracy: 0.9750 - val_loss: 0.0531 - val_accuracy: 0.9848\n",
            "Epoch 88/100\n",
            "371/375 [============================>.] - ETA: 0s - loss: 0.0819 - accuracy: 0.9745\n",
            "Epoch 88: val_accuracy did not improve from 0.98483\n",
            "375/375 [==============================] - 2s 6ms/step - loss: 0.0816 - accuracy: 0.9746 - val_loss: 0.0533 - val_accuracy: 0.9847\n",
            "Epoch 89/100\n",
            "375/375 [==============================] - ETA: 0s - loss: 0.0829 - accuracy: 0.9749\n",
            "Epoch 89: val_accuracy did not improve from 0.98483\n",
            "375/375 [==============================] - 2s 6ms/step - loss: 0.0829 - accuracy: 0.9749 - val_loss: 0.0533 - val_accuracy: 0.9847\n",
            "Epoch 90/100\n",
            "373/375 [============================>.] - ETA: 0s - loss: 0.0813 - accuracy: 0.9760\n",
            "Epoch 90: val_accuracy did not improve from 0.98483\n",
            "375/375 [==============================] - 2s 6ms/step - loss: 0.0811 - accuracy: 0.9760 - val_loss: 0.0520 - val_accuracy: 0.9845\n",
            "Epoch 91/100\n",
            "367/375 [============================>.] - ETA: 0s - loss: 0.0809 - accuracy: 0.9749\n",
            "Epoch 91: val_accuracy improved from 0.98483 to 0.98492, saving model to mnist/model_1.h2\n",
            "375/375 [==============================] - 3s 9ms/step - loss: 0.0805 - accuracy: 0.9751 - val_loss: 0.0517 - val_accuracy: 0.9849\n",
            "Epoch 92/100\n",
            "366/375 [============================>.] - ETA: 0s - loss: 0.0788 - accuracy: 0.9758\n",
            "Epoch 92: val_accuracy improved from 0.98492 to 0.98525, saving model to mnist/model_1.h2\n",
            "375/375 [==============================] - 3s 8ms/step - loss: 0.0792 - accuracy: 0.9757 - val_loss: 0.0511 - val_accuracy: 0.9852\n",
            "Epoch 93/100\n",
            "368/375 [============================>.] - ETA: 0s - loss: 0.0794 - accuracy: 0.9756\n",
            "Epoch 93: val_accuracy did not improve from 0.98525\n",
            "375/375 [==============================] - 2s 6ms/step - loss: 0.0792 - accuracy: 0.9757 - val_loss: 0.0514 - val_accuracy: 0.9848\n",
            "Epoch 94/100\n",
            "368/375 [============================>.] - ETA: 0s - loss: 0.0782 - accuracy: 0.9762\n",
            "Epoch 94: val_accuracy did not improve from 0.98525\n",
            "375/375 [==============================] - 2s 6ms/step - loss: 0.0783 - accuracy: 0.9761 - val_loss: 0.0512 - val_accuracy: 0.9851\n",
            "Epoch 95/100\n",
            "369/375 [============================>.] - ETA: 0s - loss: 0.0764 - accuracy: 0.9766\n",
            "Epoch 95: val_accuracy did not improve from 0.98525\n",
            "375/375 [==============================] - 2s 6ms/step - loss: 0.0766 - accuracy: 0.9765 - val_loss: 0.0501 - val_accuracy: 0.9852\n",
            "Epoch 96/100\n",
            "366/375 [============================>.] - ETA: 0s - loss: 0.0774 - accuracy: 0.9768\n",
            "Epoch 96: val_accuracy improved from 0.98525 to 0.98533, saving model to mnist/model_1.h2\n",
            "375/375 [==============================] - 3s 8ms/step - loss: 0.0773 - accuracy: 0.9768 - val_loss: 0.0511 - val_accuracy: 0.9853\n",
            "Epoch 97/100\n",
            "372/375 [============================>.] - ETA: 0s - loss: 0.0773 - accuracy: 0.9759\n",
            "Epoch 97: val_accuracy improved from 0.98533 to 0.98558, saving model to mnist/model_1.h2\n",
            "375/375 [==============================] - 3s 9ms/step - loss: 0.0771 - accuracy: 0.9760 - val_loss: 0.0501 - val_accuracy: 0.9856\n",
            "Epoch 98/100\n",
            "370/375 [============================>.] - ETA: 0s - loss: 0.0755 - accuracy: 0.9771\n",
            "Epoch 98: val_accuracy did not improve from 0.98558\n",
            "375/375 [==============================] - 2s 6ms/step - loss: 0.0756 - accuracy: 0.9771 - val_loss: 0.0492 - val_accuracy: 0.9854\n",
            "Epoch 99/100\n",
            "373/375 [============================>.] - ETA: 0s - loss: 0.0750 - accuracy: 0.9768\n",
            "Epoch 99: val_accuracy did not improve from 0.98558\n",
            "375/375 [==============================] - 2s 6ms/step - loss: 0.0749 - accuracy: 0.9769 - val_loss: 0.0496 - val_accuracy: 0.9855\n",
            "Epoch 100/100\n",
            "371/375 [============================>.] - ETA: 0s - loss: 0.0758 - accuracy: 0.9766\n",
            "Epoch 100: val_accuracy did not improve from 0.98558\n",
            "375/375 [==============================] - 2s 6ms/step - loss: 0.0756 - accuracy: 0.9767 - val_loss: 0.0492 - val_accuracy: 0.9855\n"
          ]
        }
      ]
    },
    {
      "cell_type": "code",
      "source": [
        "result = model_1.evaluate(test_imgs, test_labels)\n",
        "print(\"\\n테스트 정확도: %.4f\" %(result)[1])"
      ],
      "metadata": {
        "id": "A4f_4uKMk9gD",
        "colab": {
          "base_uri": "https://localhost:8080/"
        },
        "outputId": "8a1f74b3-a80b-45fa-9e5d-08f1118da0e0"
      },
      "execution_count": null,
      "outputs": [
        {
          "output_type": "stream",
          "name": "stdout",
          "text": [
            "313/313 [==============================] - 1s 3ms/step - loss: 0.0399 - accuracy: 0.9874\n",
            "\n",
            "테스트 정확도: 0.9874\n"
          ]
        }
      ]
    },
    {
      "cell_type": "code",
      "source": [
        "loaded_model = load_model('mnist/model_2.h5')\n",
        "result_loaded = loaded_model.evaluate(test_imgs, test_labels)\n",
        "print(\"\\n불러온 모델 테스트 정확도: %.4f\" %(result_loaded)[1])"
      ],
      "metadata": {
        "colab": {
          "base_uri": "https://localhost:8080/"
        },
        "id": "LWt1g385nipq",
        "outputId": "51ecf623-c17e-42d7-931e-de438e2e3ccf"
      },
      "execution_count": null,
      "outputs": [
        {
          "output_type": "stream",
          "name": "stdout",
          "text": [
            "313/313 [==============================] - 1s 3ms/step - loss: 0.0409 - accuracy: 0.9868\n",
            "\n",
            "불러온 모델 테스트 정확도: 0.9868\n"
          ]
        }
      ]
    },
    {
      "cell_type": "code",
      "source": [
        "acc = hist_1.history['accuracy']\n",
        "val_acc = hist_1.history['val_accuracy']\n",
        "loss = hist_1.history['loss']\n",
        "val_loss = hist_1.history['val_loss']\n",
        "\n",
        "epochs = range(1, len(acc)+1)\n",
        "\n",
        "plt.figure(figsize=(8, 12))\n",
        "ax1=plt.subplot(2, 1, 1)\n",
        "ax2=plt.subplot(2, 1, 2)\n",
        "ax1.plot(epochs, acc, 'bo', label='Trainig acc')\n",
        "ax1.plot(epochs, val_acc, 'b', label='Validation acc')\n",
        "ax1.set_title(\"Training and Validation accuracy\")\n",
        "ax1.legend()\n",
        "ax2.plot(epochs, loss, 'bo', label='Traning loss')\n",
        "ax2.plot(epochs, val_loss, 'b', label='Validation loss')\n",
        "ax2.set_title(\"Training and Validation loss\")\n",
        "ax2.legend()\n",
        "plt.show()"
      ],
      "metadata": {
        "id": "mFOaiWO_sRfX",
        "colab": {
          "base_uri": "https://localhost:8080/",
          "height": 716
        },
        "outputId": "15ca7441-8189-416a-8326-416593361ee9"
      },
      "execution_count": null,
      "outputs": [
        {
          "output_type": "display_data",
          "data": {
            "text/plain": [
              "<Figure size 576x864 with 2 Axes>"
            ],
            "image/png": "[encoded data removed]"
          },
          "metadata": {
            "needs_background": "light"
          }
        }
      ]
    },
    {
      "cell_type": "code",
      "source": [
        "df = pd.DataFrame([['CNN', 'model_1', '32(relu)-64(drop0.2/relu)-128(drop0.5/relu)-Flatten-64(sigmoid)-10(softmax)]', 'SGD', 100, 128, 0.2, 'es/mc', \n",
        "                    \"%.4f\"%(result)[1], \"%.4f\"%(result_loaded)[1], \"%.4f\"%(result)[0], \"%.4f\"%(result_loaded)[0]]],\n",
        "                  columns=['모델', 'Name', 'Structure', 'Optimizer', 'epochs', 'batch_size', 'validation_split', 'callback', 'Accuracy', 'MC_Accuracy', 'Loss', 'MC_Loss'])"
      ],
      "metadata": {
        "id": "YU51jOGcl7DL"
      },
      "execution_count": null,
      "outputs": []
    },
    {
      "cell_type": "markdown",
      "source": [
        "#### __2. batch_size=128, 출력 직전층 activation='sigmoid', optimizer='rmsprop'__ "
      ],
      "metadata": {
        "id": "J3jjZUjiwydX"
      }
    },
    {
      "cell_type": "code",
      "source": [
        "model_1_1 = keras.Sequential([\n",
        "  layers.Conv2D(32, (3, 3), activation='relu', input_shape=(28, 28, 1)),\n",
        "  layers.MaxPooling2D((2, 2)),\n",
        "  layers.Dropout(0.2),\n",
        "  layers.Conv2D(64, (3, 3), activation='relu'),\n",
        "  layers.MaxPooling2D((2, 2)),\n",
        "  layers.Dropout(0.2),\n",
        "  layers.Conv2D(128, (3, 3), activation='relu'),\n",
        "  layers.Dropout(0.5),\n",
        "  layers.Flatten(),\n",
        "  layers.Dense(64, activation = 'sigmoid'),\n",
        "  layers.Dense(10, activation = 'softmax')\n",
        "])\n",
        "model_1_1.summary()"
      ],
      "metadata": {
        "colab": {
          "base_uri": "https://localhost:8080/"
        },
        "outputId": "7a88a502-44b4-4a6d-98db-68cb3b4c76c5",
        "id": "aRIhB0X3wtb4"
      },
      "execution_count": null,
      "outputs": [
        {
          "output_type": "stream",
          "name": "stdout",
          "text": [
            "Model: \"sequential_1\"\n",
            "_________________________________________________________________\n",
            " Layer (type)                Output Shape              Param #   \n",
            "=================================================================\n",
            " conv2d_3 (Conv2D)           (None, 26, 26, 32)        320       \n",
            "                                                                 \n",
            " max_pooling2d_2 (MaxPooling  (None, 13, 13, 32)       0         \n",
            " 2D)                                                             \n",
            "                                                                 \n",
            " dropout_3 (Dropout)         (None, 13, 13, 32)        0         \n",
            "                                                                 \n",
            " conv2d_4 (Conv2D)           (None, 11, 11, 64)        18496     \n",
            "                                                                 \n",
            " max_pooling2d_3 (MaxPooling  (None, 5, 5, 64)         0         \n",
            " 2D)                                                             \n",
            "                                                                 \n",
            " dropout_4 (Dropout)         (None, 5, 5, 64)          0         \n",
            "                                                                 \n",
            " conv2d_5 (Conv2D)           (None, 3, 3, 128)         73856     \n",
            "                                                                 \n",
            " dropout_5 (Dropout)         (None, 3, 3, 128)         0         \n",
            "                                                                 \n",
            " flatten_1 (Flatten)         (None, 1152)              0         \n",
            "                                                                 \n",
            " dense_2 (Dense)             (None, 64)                73792     \n",
            "                                                                 \n",
            " dense_3 (Dense)             (None, 10)                650       \n",
            "                                                                 \n",
            "=================================================================\n",
            "Total params: 167,114\n",
            "Trainable params: 167,114\n",
            "Non-trainable params: 0\n",
            "_________________________________________________________________\n"
          ]
        }
      ]
    },
    {
      "cell_type": "code",
      "source": [
        "model_1_1.compile(optimizer=\"rmsprop\", loss=\"categorical_crossentropy\", metrics=[\"accuracy\"])"
      ],
      "metadata": {
        "id": "2xmXZNfewtcK"
      },
      "execution_count": null,
      "outputs": []
    },
    {
      "cell_type": "code",
      "source": [
        "es = EarlyStopping(monitor='val_loss', mode='min', verbose=1, patience=10)\n",
        "mc = ModelCheckpoint('mnist/model_2_1.h5', monitor='val_accuracy', mode='max', verbose=1, save_best_only=True)\n",
        "hist_1_1 = model_1_1.fit(train_imgs, train_labels, epochs=100, batch_size=128, validation_split=0.2, callbacks=[es, mc])"
      ],
      "metadata": {
        "colab": {
          "base_uri": "https://localhost:8080/"
        },
        "outputId": "7598aadf-7abe-4dbe-e80f-42eaea0e902e",
        "id": "VRjSobitwtcK"
      },
      "execution_count": null,
      "outputs": [
        {
          "output_type": "stream",
          "name": "stdout",
          "text": [
            "Epoch 1/100\n",
            "373/375 [============================>.] - ETA: 0s - loss: 0.4417 - accuracy: 0.8811\n",
            "Epoch 1: val_accuracy improved from -inf to 0.96925, saving model to mnist/model_1_1.h2\n",
            "375/375 [==============================] - 6s 15ms/step - loss: 0.4401 - accuracy: 0.8815 - val_loss: 0.1055 - val_accuracy: 0.9693\n",
            "Epoch 2/100\n",
            "371/375 [============================>.] - ETA: 0s - loss: 0.1128 - accuracy: 0.9668\n",
            "Epoch 2: val_accuracy improved from 0.96925 to 0.98150, saving model to mnist/model_1_1.h2\n",
            "375/375 [==============================] - 4s 9ms/step - loss: 0.1125 - accuracy: 0.9668 - val_loss: 0.0642 - val_accuracy: 0.9815\n",
            "Epoch 3/100\n",
            "373/375 [============================>.] - ETA: 0s - loss: 0.0804 - accuracy: 0.9756\n",
            "Epoch 3: val_accuracy improved from 0.98150 to 0.98458, saving model to mnist/model_1_1.h2\n",
            "375/375 [==============================] - 3s 9ms/step - loss: 0.0803 - accuracy: 0.9756 - val_loss: 0.0524 - val_accuracy: 0.9846\n",
            "Epoch 4/100\n",
            "372/375 [============================>.] - ETA: 0s - loss: 0.0633 - accuracy: 0.9811\n",
            "Epoch 4: val_accuracy improved from 0.98458 to 0.98750, saving model to mnist/model_1_1.h2\n",
            "375/375 [==============================] - 3s 9ms/step - loss: 0.0632 - accuracy: 0.9812 - val_loss: 0.0419 - val_accuracy: 0.9875\n",
            "Epoch 5/100\n",
            "374/375 [============================>.] - ETA: 0s - loss: 0.0545 - accuracy: 0.9831\n",
            "Epoch 5: val_accuracy improved from 0.98750 to 0.98867, saving model to mnist/model_1_1.h2\n",
            "375/375 [==============================] - 3s 9ms/step - loss: 0.0545 - accuracy: 0.9831 - val_loss: 0.0381 - val_accuracy: 0.9887\n",
            "Epoch 6/100\n",
            "373/375 [============================>.] - ETA: 0s - loss: 0.0490 - accuracy: 0.9849\n",
            "Epoch 6: val_accuracy improved from 0.98867 to 0.98908, saving model to mnist/model_1_1.h2\n",
            "375/375 [==============================] - 4s 9ms/step - loss: 0.0490 - accuracy: 0.9849 - val_loss: 0.0394 - val_accuracy: 0.9891\n",
            "Epoch 7/100\n",
            "366/375 [============================>.] - ETA: 0s - loss: 0.0450 - accuracy: 0.9860\n",
            "Epoch 7: val_accuracy improved from 0.98908 to 0.98975, saving model to mnist/model_1_1.h2\n",
            "375/375 [==============================] - 3s 9ms/step - loss: 0.0451 - accuracy: 0.9859 - val_loss: 0.0354 - val_accuracy: 0.9898\n",
            "Epoch 8/100\n",
            "371/375 [============================>.] - ETA: 0s - loss: 0.0403 - accuracy: 0.9875\n",
            "Epoch 8: val_accuracy improved from 0.98975 to 0.99067, saving model to mnist/model_1_1.h2\n",
            "375/375 [==============================] - 3s 9ms/step - loss: 0.0406 - accuracy: 0.9875 - val_loss: 0.0347 - val_accuracy: 0.9907\n",
            "Epoch 9/100\n",
            "374/375 [============================>.] - ETA: 0s - loss: 0.0381 - accuracy: 0.9883\n",
            "Epoch 9: val_accuracy improved from 0.99067 to 0.99125, saving model to mnist/model_1_1.h2\n",
            "375/375 [==============================] - 3s 9ms/step - loss: 0.0381 - accuracy: 0.9883 - val_loss: 0.0306 - val_accuracy: 0.9912\n",
            "Epoch 10/100\n",
            "375/375 [==============================] - ETA: 0s - loss: 0.0375 - accuracy: 0.9882\n",
            "Epoch 10: val_accuracy improved from 0.99125 to 0.99142, saving model to mnist/model_1_1.h2\n",
            "375/375 [==============================] - 4s 9ms/step - loss: 0.0375 - accuracy: 0.9882 - val_loss: 0.0305 - val_accuracy: 0.9914\n",
            "Epoch 11/100\n",
            "375/375 [==============================] - ETA: 0s - loss: 0.0346 - accuracy: 0.9890\n",
            "Epoch 11: val_accuracy did not improve from 0.99142\n",
            "375/375 [==============================] - 2s 6ms/step - loss: 0.0346 - accuracy: 0.9890 - val_loss: 0.0339 - val_accuracy: 0.9906\n",
            "Epoch 12/100\n",
            "371/375 [============================>.] - ETA: 0s - loss: 0.0313 - accuracy: 0.9904\n",
            "Epoch 12: val_accuracy did not improve from 0.99142\n",
            "375/375 [==============================] - 2s 6ms/step - loss: 0.0314 - accuracy: 0.9904 - val_loss: 0.0318 - val_accuracy: 0.9912\n",
            "Epoch 13/100\n",
            "370/375 [============================>.] - ETA: 0s - loss: 0.0306 - accuracy: 0.9904\n",
            "Epoch 13: val_accuracy improved from 0.99142 to 0.99167, saving model to mnist/model_1_1.h2\n",
            "375/375 [==============================] - 4s 9ms/step - loss: 0.0306 - accuracy: 0.9904 - val_loss: 0.0310 - val_accuracy: 0.9917\n",
            "Epoch 14/100\n",
            "373/375 [============================>.] - ETA: 0s - loss: 0.0302 - accuracy: 0.9908\n",
            "Epoch 14: val_accuracy improved from 0.99167 to 0.99175, saving model to mnist/model_1_1.h2\n",
            "375/375 [==============================] - 3s 9ms/step - loss: 0.0302 - accuracy: 0.9908 - val_loss: 0.0310 - val_accuracy: 0.9918\n",
            "Epoch 15/100\n",
            "372/375 [============================>.] - ETA: 0s - loss: 0.0278 - accuracy: 0.9913\n",
            "Epoch 15: val_accuracy did not improve from 0.99175\n",
            "375/375 [==============================] - 2s 6ms/step - loss: 0.0277 - accuracy: 0.9913 - val_loss: 0.0315 - val_accuracy: 0.9909\n",
            "Epoch 16/100\n",
            "372/375 [============================>.] - ETA: 0s - loss: 0.0260 - accuracy: 0.9921\n",
            "Epoch 16: val_accuracy did not improve from 0.99175\n",
            "375/375 [==============================] - 2s 6ms/step - loss: 0.0258 - accuracy: 0.9922 - val_loss: 0.0316 - val_accuracy: 0.9917\n",
            "Epoch 17/100\n",
            "373/375 [============================>.] - ETA: 0s - loss: 0.0253 - accuracy: 0.9923\n",
            "Epoch 17: val_accuracy did not improve from 0.99175\n",
            "375/375 [==============================] - 2s 6ms/step - loss: 0.0252 - accuracy: 0.9923 - val_loss: 0.0322 - val_accuracy: 0.9917\n",
            "Epoch 18/100\n",
            "374/375 [============================>.] - ETA: 0s - loss: 0.0246 - accuracy: 0.9923\n",
            "Epoch 18: val_accuracy improved from 0.99175 to 0.99267, saving model to mnist/model_1_1.h2\n",
            "375/375 [==============================] - 3s 9ms/step - loss: 0.0246 - accuracy: 0.9924 - val_loss: 0.0290 - val_accuracy: 0.9927\n",
            "Epoch 19/100\n",
            "375/375 [==============================] - ETA: 0s - loss: 0.0249 - accuracy: 0.9926\n",
            "Epoch 19: val_accuracy did not improve from 0.99267\n",
            "375/375 [==============================] - 2s 6ms/step - loss: 0.0249 - accuracy: 0.9926 - val_loss: 0.0300 - val_accuracy: 0.9923\n",
            "Epoch 20/100\n",
            "369/375 [============================>.] - ETA: 0s - loss: 0.0224 - accuracy: 0.9929\n",
            "Epoch 20: val_accuracy did not improve from 0.99267\n",
            "375/375 [==============================] - 2s 6ms/step - loss: 0.0222 - accuracy: 0.9930 - val_loss: 0.0312 - val_accuracy: 0.9918\n",
            "Epoch 21/100\n",
            "374/375 [============================>.] - ETA: 0s - loss: 0.0221 - accuracy: 0.9931\n",
            "Epoch 21: val_accuracy did not improve from 0.99267\n",
            "375/375 [==============================] - 2s 6ms/step - loss: 0.0221 - accuracy: 0.9931 - val_loss: 0.0324 - val_accuracy: 0.9923\n",
            "Epoch 22/100\n",
            "372/375 [============================>.] - ETA: 0s - loss: 0.0225 - accuracy: 0.9932\n",
            "Epoch 22: val_accuracy improved from 0.99267 to 0.99300, saving model to mnist/model_1_1.h2\n",
            "375/375 [==============================] - 3s 9ms/step - loss: 0.0224 - accuracy: 0.9932 - val_loss: 0.0278 - val_accuracy: 0.9930\n",
            "Epoch 23/100\n",
            "373/375 [============================>.] - ETA: 0s - loss: 0.0213 - accuracy: 0.9931\n",
            "Epoch 23: val_accuracy improved from 0.99300 to 0.99358, saving model to mnist/model_1_1.h2\n",
            "375/375 [==============================] - 4s 9ms/step - loss: 0.0212 - accuracy: 0.9931 - val_loss: 0.0276 - val_accuracy: 0.9936\n",
            "Epoch 24/100\n",
            "373/375 [============================>.] - ETA: 0s - loss: 0.0203 - accuracy: 0.9933\n",
            "Epoch 24: val_accuracy did not improve from 0.99358\n",
            "375/375 [==============================] - 2s 6ms/step - loss: 0.0204 - accuracy: 0.9932 - val_loss: 0.0284 - val_accuracy: 0.9929\n",
            "Epoch 25/100\n",
            "368/375 [============================>.] - ETA: 0s - loss: 0.0210 - accuracy: 0.9935\n",
            "Epoch 25: val_accuracy did not improve from 0.99358\n",
            "375/375 [==============================] - 2s 6ms/step - loss: 0.0208 - accuracy: 0.9936 - val_loss: 0.0270 - val_accuracy: 0.9933\n",
            "Epoch 26/100\n",
            "375/375 [==============================] - ETA: 0s - loss: 0.0206 - accuracy: 0.9938\n",
            "Epoch 26: val_accuracy did not improve from 0.99358\n",
            "375/375 [==============================] - 2s 6ms/step - loss: 0.0206 - accuracy: 0.9938 - val_loss: 0.0279 - val_accuracy: 0.9932\n",
            "Epoch 27/100\n",
            "368/375 [============================>.] - ETA: 0s - loss: 0.0204 - accuracy: 0.9937\n",
            "Epoch 27: val_accuracy did not improve from 0.99358\n",
            "375/375 [==============================] - 2s 6ms/step - loss: 0.0202 - accuracy: 0.9937 - val_loss: 0.0278 - val_accuracy: 0.9930\n",
            "Epoch 28/100\n",
            "370/375 [============================>.] - ETA: 0s - loss: 0.0182 - accuracy: 0.9943\n",
            "Epoch 28: val_accuracy did not improve from 0.99358\n",
            "375/375 [==============================] - 2s 6ms/step - loss: 0.0182 - accuracy: 0.9943 - val_loss: 0.0293 - val_accuracy: 0.9932\n",
            "Epoch 29/100\n",
            "372/375 [============================>.] - ETA: 0s - loss: 0.0187 - accuracy: 0.9945\n",
            "Epoch 29: val_accuracy did not improve from 0.99358\n",
            "375/375 [==============================] - 2s 6ms/step - loss: 0.0186 - accuracy: 0.9945 - val_loss: 0.0267 - val_accuracy: 0.9933\n",
            "Epoch 30/100\n",
            "369/375 [============================>.] - ETA: 0s - loss: 0.0173 - accuracy: 0.9942\n",
            "Epoch 30: val_accuracy did not improve from 0.99358\n",
            "375/375 [==============================] - 2s 6ms/step - loss: 0.0174 - accuracy: 0.9942 - val_loss: 0.0268 - val_accuracy: 0.9931\n",
            "Epoch 31/100\n",
            "373/375 [============================>.] - ETA: 0s - loss: 0.0173 - accuracy: 0.9946\n",
            "Epoch 31: val_accuracy did not improve from 0.99358\n",
            "375/375 [==============================] - 2s 6ms/step - loss: 0.0174 - accuracy: 0.9946 - val_loss: 0.0292 - val_accuracy: 0.9927\n",
            "Epoch 32/100\n",
            "373/375 [============================>.] - ETA: 0s - loss: 0.0180 - accuracy: 0.9942\n",
            "Epoch 32: val_accuracy did not improve from 0.99358\n",
            "375/375 [==============================] - 2s 6ms/step - loss: 0.0180 - accuracy: 0.9942 - val_loss: 0.0287 - val_accuracy: 0.9931\n",
            "Epoch 33/100\n",
            "375/375 [==============================] - ETA: 0s - loss: 0.0175 - accuracy: 0.9942\n",
            "Epoch 33: val_accuracy did not improve from 0.99358\n",
            "375/375 [==============================] - 2s 6ms/step - loss: 0.0175 - accuracy: 0.9942 - val_loss: 0.0288 - val_accuracy: 0.9933\n",
            "Epoch 34/100\n",
            "373/375 [============================>.] - ETA: 0s - loss: 0.0173 - accuracy: 0.9947\n",
            "Epoch 34: val_accuracy did not improve from 0.99358\n",
            "375/375 [==============================] - 2s 6ms/step - loss: 0.0173 - accuracy: 0.9946 - val_loss: 0.0288 - val_accuracy: 0.9933\n",
            "Epoch 35/100\n",
            "373/375 [============================>.] - ETA: 0s - loss: 0.0154 - accuracy: 0.9950\n",
            "Epoch 35: val_accuracy did not improve from 0.99358\n",
            "375/375 [==============================] - 2s 6ms/step - loss: 0.0153 - accuracy: 0.9950 - val_loss: 0.0323 - val_accuracy: 0.9924\n",
            "Epoch 36/100\n",
            "368/375 [============================>.] - ETA: 0s - loss: 0.0171 - accuracy: 0.9947\n",
            "Epoch 36: val_accuracy did not improve from 0.99358\n",
            "375/375 [==============================] - 2s 6ms/step - loss: 0.0173 - accuracy: 0.9946 - val_loss: 0.0298 - val_accuracy: 0.9926\n",
            "Epoch 37/100\n",
            "371/375 [============================>.] - ETA: 0s - loss: 0.0151 - accuracy: 0.9953\n",
            "Epoch 37: val_accuracy did not improve from 0.99358\n",
            "375/375 [==============================] - 2s 6ms/step - loss: 0.0151 - accuracy: 0.9953 - val_loss: 0.0312 - val_accuracy: 0.9927\n",
            "Epoch 38/100\n",
            "368/375 [============================>.] - ETA: 0s - loss: 0.0184 - accuracy: 0.9942\n",
            "Epoch 38: val_accuracy improved from 0.99358 to 0.99367, saving model to mnist/model_1_1.h2\n",
            "375/375 [==============================] - 3s 9ms/step - loss: 0.0185 - accuracy: 0.9942 - val_loss: 0.0283 - val_accuracy: 0.9937\n",
            "Epoch 39/100\n",
            "368/375 [============================>.] - ETA: 0s - loss: 0.0159 - accuracy: 0.9952\n",
            "Epoch 39: val_accuracy did not improve from 0.99367\n",
            "375/375 [==============================] - 2s 6ms/step - loss: 0.0160 - accuracy: 0.9952 - val_loss: 0.0305 - val_accuracy: 0.9936\n",
            "Epoch 39: early stopping\n"
          ]
        }
      ]
    },
    {
      "cell_type": "code",
      "source": [
        "result = model_1_1.evaluate(test_imgs, test_labels)\n",
        "print(\"\\n테스트 정확도: %.4f\" %(result)[1])"
      ],
      "metadata": {
        "colab": {
          "base_uri": "https://localhost:8080/"
        },
        "outputId": "f3a58a2e-717f-4525-d098-d894e117439d",
        "id": "Mq-GE0h5wtcL"
      },
      "execution_count": null,
      "outputs": [
        {
          "output_type": "stream",
          "name": "stdout",
          "text": [
            "313/313 [==============================] - 1s 3ms/step - loss: 0.0267 - accuracy: 0.9939\n",
            "\n",
            "테스트 정확도: 0.9939\n"
          ]
        }
      ]
    },
    {
      "cell_type": "code",
      "source": [
        "loaded_model = load_model('mnist/model_2_1.h5')\n",
        "result_loaded = loaded_model.evaluate(test_imgs, test_labels)\n",
        "print(\"\\n불러온 모델 테스트 정확도: %.4f\" %(result_loaded)[1])"
      ],
      "metadata": {
        "colab": {
          "base_uri": "https://localhost:8080/"
        },
        "outputId": "cb22f328-c0da-4d65-bca1-3ac9df03f869",
        "id": "fGK6vEuiwtcL"
      },
      "execution_count": null,
      "outputs": [
        {
          "output_type": "stream",
          "name": "stdout",
          "text": [
            "313/313 [==============================] - 1s 3ms/step - loss: 0.0238 - accuracy: 0.9935\n",
            "\n",
            "불러온 모델 테스트 정확도: 0.9935\n"
          ]
        }
      ]
    },
    {
      "cell_type": "code",
      "source": [
        "acc = hist_1_1.history['accuracy']\n",
        "val_acc = hist_1_1.history['val_accuracy']\n",
        "loss = hist_1_1.history['loss']\n",
        "val_loss = hist_1_1.history['val_loss']\n",
        "\n",
        "epochs = range(1, len(acc)+1)\n",
        "\n",
        "plt.figure(figsize=(8, 12))\n",
        "ax1=plt.subplot(2, 1, 1)\n",
        "ax2=plt.subplot(2, 1, 2)\n",
        "ax1.plot(epochs, acc, 'bo', label='Trainig acc')\n",
        "ax1.plot(epochs, val_acc, 'b', label='Validation acc')\n",
        "ax1.set_title(\"Training and Validation accuracy\")\n",
        "ax1.legend()\n",
        "ax2.plot(epochs, loss, 'bo', label='Traning loss')\n",
        "ax2.plot(epochs, val_loss, 'b', label='Validation loss')\n",
        "ax2.set_title(\"Training and Validation loss\")\n",
        "ax2.legend()\n",
        "plt.show()"
      ],
      "metadata": {
        "colab": {
          "base_uri": "https://localhost:8080/",
          "height": 716
        },
        "outputId": "4f6deb1f-fa67-4e31-cfd9-584387e306ef",
        "id": "k-onGLGMwtcM"
      },
      "execution_count": null,
      "outputs": [
        {
          "output_type": "display_data",
          "data": {
            "text/plain": [
              "<Figure size 576x864 with 2 Axes>"
            ],
            "image/png": "[encoded data removed]"
          },
          "metadata": {
            "needs_background": "light"
          }
        }
      ]
    },
    {
      "cell_type": "code",
      "source": [
        "df.loc[1]=['CNN', 'model_1_1', '32(relu/drop0.2)-64(relu/drop0.2)-128(relu/drop0.5)-Flatten-64(sigmoid)-10(softmax)]', 'rmsprop', 100, 128, 0.2, 'es/mc', \"%.4f\"%(result)[1], \"%.4f\"%(result_loaded)[1], \"%.4f\"%(result)[0], \"%.4f\"%(result_loaded)[0]]"
      ],
      "metadata": {
        "id": "IMzWXDrQwtcM"
      },
      "execution_count": null,
      "outputs": []
    },
    {
      "cell_type": "markdown",
      "source": [
        "#### __3.  batch_size=128, 출력 직전층 activation='sigmoid', optimizer='adam'__ "
      ],
      "metadata": {
        "id": "YN2gmPkbzFeA"
      }
    },
    {
      "cell_type": "code",
      "source": [
        "model_1_2 = keras.Sequential([\n",
        "  layers.Conv2D(32, (3, 3), activation='relu', input_shape=(28, 28, 1)),\n",
        "  layers.MaxPooling2D((2, 2)),\n",
        "  layers.Dropout(0.2),\n",
        "  layers.Conv2D(64, (3, 3), activation='relu'),\n",
        "  layers.MaxPooling2D((2, 2)),\n",
        "  layers.Dropout(0.2),\n",
        "  layers.Conv2D(128, (3, 3), activation='relu'),\n",
        "  layers.Dropout(0.5),\n",
        "  layers.Flatten(),\n",
        "  layers.Dense(64, activation = 'sigmoid'),\n",
        "  layers.Dense(10, activation = 'softmax')\n",
        "])\n",
        "model_1_2.summary()"
      ],
      "metadata": {
        "colab": {
          "base_uri": "https://localhost:8080/"
        },
        "outputId": "2f4429ff-3900-43ac-ab20-80821a1aece8",
        "id": "Ujc6kXBOzFeA"
      },
      "execution_count": null,
      "outputs": [
        {
          "output_type": "stream",
          "name": "stdout",
          "text": [
            "Model: \"sequential_2\"\n",
            "_________________________________________________________________\n",
            " Layer (type)                Output Shape              Param #   \n",
            "=================================================================\n",
            " conv2d_6 (Conv2D)           (None, 26, 26, 32)        320       \n",
            "                                                                 \n",
            " max_pooling2d_4 (MaxPooling  (None, 13, 13, 32)       0         \n",
            " 2D)                                                             \n",
            "                                                                 \n",
            " dropout_6 (Dropout)         (None, 13, 13, 32)        0         \n",
            "                                                                 \n",
            " conv2d_7 (Conv2D)           (None, 11, 11, 64)        18496     \n",
            "                                                                 \n",
            " max_pooling2d_5 (MaxPooling  (None, 5, 5, 64)         0         \n",
            " 2D)                                                             \n",
            "                                                                 \n",
            " dropout_7 (Dropout)         (None, 5, 5, 64)          0         \n",
            "                                                                 \n",
            " conv2d_8 (Conv2D)           (None, 3, 3, 128)         73856     \n",
            "                                                                 \n",
            " dropout_8 (Dropout)         (None, 3, 3, 128)         0         \n",
            "                                                                 \n",
            " flatten_2 (Flatten)         (None, 1152)              0         \n",
            "                                                                 \n",
            " dense_4 (Dense)             (None, 64)                73792     \n",
            "                                                                 \n",
            " dense_5 (Dense)             (None, 10)                650       \n",
            "                                                                 \n",
            "=================================================================\n",
            "Total params: 167,114\n",
            "Trainable params: 167,114\n",
            "Non-trainable params: 0\n",
            "_________________________________________________________________\n"
          ]
        }
      ]
    },
    {
      "cell_type": "code",
      "source": [
        "model_1_2.compile(optimizer=\"adam\", loss=\"categorical_crossentropy\", metrics=[\"accuracy\"])"
      ],
      "metadata": {
        "id": "sy6jnJeXzFeB"
      },
      "execution_count": null,
      "outputs": []
    },
    {
      "cell_type": "code",
      "source": [
        "es = EarlyStopping(monitor='val_loss', mode='min', verbose=1, patience=10)\n",
        "checkpoint_filepath = 'weights.{epoch:02d}-{val_loss:.2f}.h2'\n",
        "mc = ModelCheckpoint('mnist/model_2_2.h5', monitor='val_accuracy', mode='max', verbose=1)\n",
        "hist_1_2 = model_1_2.fit(train_imgs, train_labels, epochs=100, batch_size=128, validation_split=0.2, callbacks=[es, mc])"
      ],
      "metadata": {
        "colab": {
          "base_uri": "https://localhost:8080/"
        },
        "outputId": "d9918037-d2a7-4edd-9c49-5249b5a66ef0",
        "id": "yTLlJJB-zFeB"
      },
      "execution_count": null,
      "outputs": [
        {
          "output_type": "stream",
          "name": "stdout",
          "text": [
            "Epoch 1/100\n",
            "371/375 [============================>.] - ETA: 0s - loss: 0.5226 - accuracy: 0.8568\n",
            "Epoch 1: val_accuracy improved from -inf to 0.97283, saving model to mnist/model_1_2.h2\n",
            "375/375 [==============================] - 6s 15ms/step - loss: 0.5186 - accuracy: 0.8579 - val_loss: 0.1104 - val_accuracy: 0.9728\n",
            "Epoch 2/100\n",
            "367/375 [============================>.] - ETA: 0s - loss: 0.1231 - accuracy: 0.9669\n",
            "Epoch 2: val_accuracy improved from 0.97283 to 0.98258, saving model to mnist/model_1_2.h2\n",
            "375/375 [==============================] - 4s 10ms/step - loss: 0.1225 - accuracy: 0.9670 - val_loss: 0.0652 - val_accuracy: 0.9826\n",
            "Epoch 3/100\n",
            "371/375 [============================>.] - ETA: 0s - loss: 0.0838 - accuracy: 0.9768\n",
            "Epoch 3: val_accuracy improved from 0.98258 to 0.98583, saving model to mnist/model_1_2.h2\n",
            "375/375 [==============================] - 3s 9ms/step - loss: 0.0836 - accuracy: 0.9769 - val_loss: 0.0486 - val_accuracy: 0.9858\n",
            "Epoch 4/100\n",
            "369/375 [============================>.] - ETA: 0s - loss: 0.0666 - accuracy: 0.9802\n",
            "Epoch 4: val_accuracy improved from 0.98583 to 0.98767, saving model to mnist/model_1_2.h2\n",
            "375/375 [==============================] - 3s 9ms/step - loss: 0.0664 - accuracy: 0.9803 - val_loss: 0.0411 - val_accuracy: 0.9877\n",
            "Epoch 5/100\n",
            "367/375 [============================>.] - ETA: 0s - loss: 0.0580 - accuracy: 0.9823\n",
            "Epoch 5: val_accuracy improved from 0.98767 to 0.98900, saving model to mnist/model_1_2.h2\n",
            "375/375 [==============================] - 3s 9ms/step - loss: 0.0582 - accuracy: 0.9822 - val_loss: 0.0390 - val_accuracy: 0.9890\n",
            "Epoch 6/100\n",
            "366/375 [============================>.] - ETA: 0s - loss: 0.0492 - accuracy: 0.9845\n",
            "Epoch 6: val_accuracy did not improve from 0.98900\n",
            "375/375 [==============================] - 2s 6ms/step - loss: 0.0492 - accuracy: 0.9845 - val_loss: 0.0426 - val_accuracy: 0.9887\n",
            "Epoch 7/100\n",
            "372/375 [============================>.] - ETA: 0s - loss: 0.0450 - accuracy: 0.9862\n",
            "Epoch 7: val_accuracy improved from 0.98900 to 0.98958, saving model to mnist/model_1_2.h2\n",
            "375/375 [==============================] - 3s 9ms/step - loss: 0.0450 - accuracy: 0.9862 - val_loss: 0.0371 - val_accuracy: 0.9896\n",
            "Epoch 8/100\n",
            "366/375 [============================>.] - ETA: 0s - loss: 0.0414 - accuracy: 0.9874\n",
            "Epoch 8: val_accuracy improved from 0.98958 to 0.99050, saving model to mnist/model_1_2.h2\n",
            "375/375 [==============================] - 3s 9ms/step - loss: 0.0413 - accuracy: 0.9874 - val_loss: 0.0330 - val_accuracy: 0.9905\n",
            "Epoch 9/100\n",
            "374/375 [============================>.] - ETA: 0s - loss: 0.0388 - accuracy: 0.9876\n",
            "Epoch 9: val_accuracy improved from 0.99050 to 0.99250, saving model to mnist/model_1_2.h2\n",
            "375/375 [==============================] - 3s 9ms/step - loss: 0.0388 - accuracy: 0.9876 - val_loss: 0.0287 - val_accuracy: 0.9925\n",
            "Epoch 10/100\n",
            "369/375 [============================>.] - ETA: 0s - loss: 0.0350 - accuracy: 0.9889\n",
            "Epoch 10: val_accuracy did not improve from 0.99250\n",
            "375/375 [==============================] - 2s 6ms/step - loss: 0.0351 - accuracy: 0.9888 - val_loss: 0.0304 - val_accuracy: 0.9920\n",
            "Epoch 11/100\n",
            "372/375 [============================>.] - ETA: 0s - loss: 0.0329 - accuracy: 0.9903\n",
            "Epoch 11: val_accuracy did not improve from 0.99250\n",
            "375/375 [==============================] - 2s 6ms/step - loss: 0.0329 - accuracy: 0.9902 - val_loss: 0.0287 - val_accuracy: 0.9921\n",
            "Epoch 12/100\n",
            "367/375 [============================>.] - ETA: 0s - loss: 0.0298 - accuracy: 0.9904\n",
            "Epoch 12: val_accuracy did not improve from 0.99250\n",
            "375/375 [==============================] - 2s 6ms/step - loss: 0.0299 - accuracy: 0.9904 - val_loss: 0.0274 - val_accuracy: 0.9925\n",
            "Epoch 13/100\n",
            "373/375 [============================>.] - ETA: 0s - loss: 0.0290 - accuracy: 0.9908\n",
            "Epoch 13: val_accuracy did not improve from 0.99250\n",
            "375/375 [==============================] - 2s 6ms/step - loss: 0.0290 - accuracy: 0.9908 - val_loss: 0.0299 - val_accuracy: 0.9923\n",
            "Epoch 14/100\n",
            "374/375 [============================>.] - ETA: 0s - loss: 0.0274 - accuracy: 0.9913\n",
            "Epoch 14: val_accuracy did not improve from 0.99250\n",
            "375/375 [==============================] - 2s 6ms/step - loss: 0.0273 - accuracy: 0.9914 - val_loss: 0.0302 - val_accuracy: 0.9916\n",
            "Epoch 15/100\n",
            "369/375 [============================>.] - ETA: 0s - loss: 0.0268 - accuracy: 0.9908\n",
            "Epoch 15: val_accuracy improved from 0.99250 to 0.99292, saving model to mnist/model_1_2.h2\n",
            "375/375 [==============================] - 3s 9ms/step - loss: 0.0269 - accuracy: 0.9908 - val_loss: 0.0263 - val_accuracy: 0.9929\n",
            "Epoch 16/100\n",
            "372/375 [============================>.] - ETA: 0s - loss: 0.0244 - accuracy: 0.9925\n",
            "Epoch 16: val_accuracy did not improve from 0.99292\n",
            "375/375 [==============================] - 2s 6ms/step - loss: 0.0243 - accuracy: 0.9924 - val_loss: 0.0272 - val_accuracy: 0.9927\n",
            "Epoch 17/100\n",
            "367/375 [============================>.] - ETA: 0s - loss: 0.0236 - accuracy: 0.9927\n",
            "Epoch 17: val_accuracy did not improve from 0.99292\n",
            "375/375 [==============================] - 2s 6ms/step - loss: 0.0237 - accuracy: 0.9926 - val_loss: 0.0276 - val_accuracy: 0.9927\n",
            "Epoch 18/100\n",
            "367/375 [============================>.] - ETA: 0s - loss: 0.0250 - accuracy: 0.9918\n",
            "Epoch 18: val_accuracy improved from 0.99292 to 0.99333, saving model to mnist/model_1_2.h2\n",
            "375/375 [==============================] - 4s 9ms/step - loss: 0.0250 - accuracy: 0.9919 - val_loss: 0.0265 - val_accuracy: 0.9933\n",
            "Epoch 19/100\n",
            "370/375 [============================>.] - ETA: 0s - loss: 0.0225 - accuracy: 0.9929\n",
            "Epoch 19: val_accuracy did not improve from 0.99333\n",
            "375/375 [==============================] - 2s 6ms/step - loss: 0.0224 - accuracy: 0.9929 - val_loss: 0.0270 - val_accuracy: 0.9932\n",
            "Epoch 20/100\n",
            "370/375 [============================>.] - ETA: 0s - loss: 0.0200 - accuracy: 0.9934\n",
            "Epoch 20: val_accuracy did not improve from 0.99333\n",
            "375/375 [==============================] - 2s 6ms/step - loss: 0.0200 - accuracy: 0.9934 - val_loss: 0.0272 - val_accuracy: 0.9930\n",
            "Epoch 21/100\n",
            "371/375 [============================>.] - ETA: 0s - loss: 0.0209 - accuracy: 0.9932\n",
            "Epoch 21: val_accuracy did not improve from 0.99333\n",
            "375/375 [==============================] - 2s 6ms/step - loss: 0.0209 - accuracy: 0.9932 - val_loss: 0.0280 - val_accuracy: 0.9927\n",
            "Epoch 22/100\n",
            "372/375 [============================>.] - ETA: 0s - loss: 0.0203 - accuracy: 0.9929\n",
            "Epoch 22: val_accuracy did not improve from 0.99333\n",
            "375/375 [==============================] - 2s 6ms/step - loss: 0.0203 - accuracy: 0.9929 - val_loss: 0.0284 - val_accuracy: 0.9920\n",
            "Epoch 23/100\n",
            "366/375 [============================>.] - ETA: 0s - loss: 0.0186 - accuracy: 0.9936\n",
            "Epoch 23: val_accuracy did not improve from 0.99333\n",
            "375/375 [==============================] - 2s 6ms/step - loss: 0.0188 - accuracy: 0.9936 - val_loss: 0.0271 - val_accuracy: 0.9925\n",
            "Epoch 24/100\n",
            "369/375 [============================>.] - ETA: 0s - loss: 0.0171 - accuracy: 0.9946\n",
            "Epoch 24: val_accuracy did not improve from 0.99333\n",
            "375/375 [==============================] - 2s 6ms/step - loss: 0.0170 - accuracy: 0.9946 - val_loss: 0.0291 - val_accuracy: 0.9927\n",
            "Epoch 25/100\n",
            "370/375 [============================>.] - ETA: 0s - loss: 0.0179 - accuracy: 0.9938\n",
            "Epoch 25: val_accuracy did not improve from 0.99333\n",
            "375/375 [==============================] - 2s 6ms/step - loss: 0.0178 - accuracy: 0.9938 - val_loss: 0.0283 - val_accuracy: 0.9932\n",
            "Epoch 25: early stopping\n"
          ]
        }
      ]
    },
    {
      "cell_type": "code",
      "source": [
        "result = model_1_2.evaluate(test_imgs, test_labels)\n",
        "print(\"\\n테스트 정확도: %.4f\" %(result)[1])"
      ],
      "metadata": {
        "colab": {
          "base_uri": "https://localhost:8080/"
        },
        "outputId": "d2bd5ecc-f230-43b0-80c6-64db99fcb72c",
        "id": "BBHg9vsCzFeD"
      },
      "execution_count": null,
      "outputs": [
        {
          "output_type": "stream",
          "name": "stdout",
          "text": [
            "313/313 [==============================] - 1s 3ms/step - loss: 0.0188 - accuracy: 0.9947\n",
            "\n",
            "테스트 정확도: 0.9947\n"
          ]
        }
      ]
    },
    {
      "cell_type": "code",
      "source": [
        "loaded_model = load_model('mnist/model_2_2.h5')\n",
        "result_loaded = loaded_model.evaluate(test_imgs, test_labels)\n",
        "print(\"\\n불러온 모델 테스트 정확도: %.4f\" %(result_loaded)[1])"
      ],
      "metadata": {
        "colab": {
          "base_uri": "https://localhost:8080/"
        },
        "outputId": "92e7c8fe-dc36-4e11-cc54-c56dadc79c5a",
        "id": "-OddZd0hzFeE"
      },
      "execution_count": null,
      "outputs": [
        {
          "output_type": "stream",
          "name": "stdout",
          "text": [
            "313/313 [==============================] - 1s 3ms/step - loss: 0.0224 - accuracy: 0.9929\n",
            "\n",
            "불러온 모델 테스트 정확도: 0.9929\n"
          ]
        }
      ]
    },
    {
      "cell_type": "code",
      "source": [
        "acc = hist_1_2.history['accuracy']\n",
        "val_acc = hist_1_2.history['val_accuracy']\n",
        "loss = hist_1_2.history['loss']\n",
        "val_loss = hist_1_2.history['val_loss']\n",
        "\n",
        "epochs = range(1, len(acc)+1)\n",
        "\n",
        "plt.figure(figsize=(8, 12))\n",
        "ax1=plt.subplot(2, 1, 1)\n",
        "ax2=plt.subplot(2, 1, 2)\n",
        "ax1.plot(epochs, acc, 'bo', label='Trainig acc')\n",
        "ax1.plot(epochs, val_acc, 'b', label='Validation acc')\n",
        "ax1.set_title(\"Training and Validation accuracy\")\n",
        "ax1.legend()\n",
        "ax2.plot(epochs, loss, 'bo', label='Traning loss')\n",
        "ax2.plot(epochs, val_loss, 'b', label='Validation loss')\n",
        "ax2.set_title(\"Training and Validation loss\")\n",
        "ax2.legend()\n",
        "plt.show()"
      ],
      "metadata": {
        "colab": {
          "base_uri": "https://localhost:8080/",
          "height": 716
        },
        "outputId": "51f22ad7-42ba-4fe8-c13a-b22c23a7496b",
        "id": "0gLCkZufzFeE"
      },
      "execution_count": null,
      "outputs": [
        {
          "output_type": "display_data",
          "data": {
            "text/plain": [
              "<Figure size 576x864 with 2 Axes>"
            ],
            "image/png": "[encoded data removed]"
          },
          "metadata": {
            "needs_background": "light"
          }
        }
      ]
    },
    {
      "cell_type": "code",
      "source": [
        "df.loc[2]=['CNN', 'model_1_2', '32(relu/drop0.2)-64(relu/drop0.2)-128(relu/drop0.5)-Flatten-64(sigmoid)-10(softmax)]', 'adam', 100, 128, 0.2, 'es/mc', \"%.4f\"%(result)[1], \"%.4f\"%(result_loaded)[1], \"%.4f\"%(result)[0], \"%.4f\"%(result_loaded)[0]]"
      ],
      "metadata": {
        "id": "i57lgiGgzFeF"
      },
      "execution_count": null,
      "outputs": []
    },
    {
      "cell_type": "code",
      "source": [
        "df.head()"
      ],
      "metadata": {
        "colab": {
          "base_uri": "https://localhost:8080/",
          "height": 207
        },
        "id": "K82gOTDByz2D",
        "outputId": "03e010cf-da49-4d0e-94bb-3339ca293be0"
      },
      "execution_count": null,
      "outputs": [
        {
          "output_type": "execute_result",
          "data": {
            "text/plain": [
              "    모델       Name                                          Structure  \\\n",
              "0  CNN    model_1  32(relu)-64(drop0.2/relu)-128(drop0.5/relu)-Fl...   \n",
              "1  CNN  model_1_1  32(relu/drop0.2)-64(relu/drop0.2)-128(relu/dro...   \n",
              "2  CNN  model_1_2  32(relu/drop0.2)-64(relu/drop0.2)-128(relu/dro...   \n",
              "\n",
              "  Optimizer  epochs  batch_size  validation_split callback Accuracy  \\\n",
              "0       SGD     100         128               0.2    es/mc   0.9874   \n",
              "1   rmsprop     100         128               0.2    es/mc   0.9939   \n",
              "2      adam     100         128               0.2    es/mc   0.9947   \n",
              "\n",
              "  MC_Accuracy    Loss MC_Loss  \n",
              "0      0.9868  0.0399  0.0409  \n",
              "1      0.9935  0.0267  0.0238  \n",
              "2      0.9929  0.0188  0.0224  "
            ],
            "text/html": [
              "\n",
              "  <div id=\"df-494d6cf3-d92f-418f-a60e-88f82fae390d\">\n",
              "    <div class=\"colab-df-container\">\n",
              "      <div>\n",
              "<style scoped>\n",
              "    .dataframe tbody tr th:only-of-type {\n",
              "        vertical-align: middle;\n",
              "    }\n",
              "\n",
              "    .dataframe tbody tr th {\n",
              "        vertical-align: top;\n",
              "    }\n",
              "\n",
              "    .dataframe thead th {\n",
              "        text-align: right;\n",
              "    }\n",
              "</style>\n",
              "<table border=\"1\" class=\"dataframe\">\n",
              "  <thead>\n",
              "    <tr style=\"text-align: right;\">\n",
              "      <th></th>\n",
              "      <th>모델</th>\n",
              "      <th>Name</th>\n",
              "      <th>Structure</th>\n",
              "      <th>Optimizer</th>\n",
              "      <th>epochs</th>\n",
              "      <th>batch_size</th>\n",
              "      <th>validation_split</th>\n",
              "      <th>callback</th>\n",
              "      <th>Accuracy</th>\n",
              "      <th>MC_Accuracy</th>\n",
              "      <th>Loss</th>\n",
              "      <th>MC_Loss</th>\n",
              "    </tr>\n",
              "  </thead>\n",
              "  <tbody>\n",
              "    <tr>\n",
              "      <th>0</th>\n",
              "      <td>CNN</td>\n",
              "      <td>model_1</td>\n",
              "      <td>32(relu)-64(drop0.2/relu)-128(drop0.5/relu)-Fl...</td>\n",
              "      <td>SGD</td>\n",
              "      <td>100</td>\n",
              "      <td>128</td>\n",
              "      <td>0.2</td>\n",
              "      <td>es/mc</td>\n",
              "      <td>0.9874</td>\n",
              "      <td>0.9868</td>\n",
              "      <td>0.0399</td>\n",
              "      <td>0.0409</td>\n",
              "    </tr>\n",
              "    <tr>\n",
              "      <th>1</th>\n",
              "      <td>CNN</td>\n",
              "      <td>model_1_1</td>\n",
              "      <td>32(relu/drop0.2)-64(relu/drop0.2)-128(relu/dro...</td>\n",
              "      <td>rmsprop</td>\n",
              "      <td>100</td>\n",
              "      <td>128</td>\n",
              "      <td>0.2</td>\n",
              "      <td>es/mc</td>\n",
              "      <td>0.9939</td>\n",
              "      <td>0.9935</td>\n",
              "      <td>0.0267</td>\n",
              "      <td>0.0238</td>\n",
              "    </tr>\n",
              "    <tr>\n",
              "      <th>2</th>\n",
              "      <td>CNN</td>\n",
              "      <td>model_1_2</td>\n",
              "      <td>32(relu/drop0.2)-64(relu/drop0.2)-128(relu/dro...</td>\n",
              "      <td>adam</td>\n",
              "      <td>100</td>\n",
              "      <td>128</td>\n",
              "      <td>0.2</td>\n",
              "      <td>es/mc</td>\n",
              "      <td>0.9947</td>\n",
              "      <td>0.9929</td>\n",
              "      <td>0.0188</td>\n",
              "      <td>0.0224</td>\n",
              "    </tr>\n",
              "  </tbody>\n",
              "</table>\n",
              "</div>\n",
              "      <button class=\"colab-df-convert\" onclick=\"convertToInteractive('df-494d6cf3-d92f-418f-a60e-88f82fae390d')\"\n",
              "              title=\"Convert this dataframe to an interactive table.\"\n",
              "              style=\"display:none;\">\n",
              "        \n",
              "  <svg xmlns=\"http://www.w3.org/2000/svg\" height=\"24px\"viewBox=\"0 0 24 24\"\n",
              "       width=\"24px\">\n",
              "    <path d=\"M0 0h24v24H0V0z\" fill=\"none\"/>\n",
              "    <path d=\"M18.56 5.44l.94 2.06.94-2.06 2.06-.94-2.06-.94-.94-2.06-.94 2.06-2.06.94zm-11 1L8.5 8.5l.94-2.06 2.06-.94-2.06-.94L8.5 2.5l-.94 2.06-2.06.94zm10 10l.94 2.06.94-2.06 2.06-.94-2.06-.94-.94-2.06-.94 2.06-2.06.94z\"/><path d=\"M17.41 7.96l-1.37-1.37c-.4-.4-.92-.59-1.43-.59-.52 0-1.04.2-1.43.59L10.3 9.45l-7.72 7.72c-.78.78-.78 2.05 0 2.83L4 21.41c.39.39.9.59 1.41.59.51 0 1.02-.2 1.41-.59l7.78-7.78 2.81-2.81c.8-.78.8-2.07 0-2.86zM5.41 20L4 18.59l7.72-7.72 1.47 1.35L5.41 20z\"/>\n",
              "  </svg>\n",
              "      </button>\n",
              "      \n",
              "  <style>\n",
              "    .colab-df-container {\n",
              "      display:flex;\n",
              "      flex-wrap:wrap;\n",
              "      gap: 12px;\n",
              "    }\n",
              "\n",
              "    .colab-df-convert {\n",
              "      background-color: #E8F0FE;\n",
              "      border: none;\n",
              "      border-radius: 50%;\n",
              "      cursor: pointer;\n",
              "      display: none;\n",
              "      fill: #1967D2;\n",
              "      height: 32px;\n",
              "      padding: 0 0 0 0;\n",
              "      width: 32px;\n",
              "    }\n",
              "\n",
              "    .colab-df-convert:hover {\n",
              "      background-color: #E2EBFA;\n",
              "      box-shadow: 0px 1px 2px rgba(60, 64, 67, 0.3), 0px 1px 3px 1px rgba(60, 64, 67, 0.15);\n",
              "      fill: #174EA6;\n",
              "    }\n",
              "\n",
              "    [theme=dark] .colab-df-convert {\n",
              "      background-color: #3B4455;\n",
              "      fill: #D2E3FC;\n",
              "    }\n",
              "\n",
              "    [theme=dark] .colab-df-convert:hover {\n",
              "      background-color: #434B5C;\n",
              "      box-shadow: 0px 1px 3px 1px rgba(0, 0, 0, 0.15);\n",
              "      filter: drop-shadow(0px 1px 2px rgba(0, 0, 0, 0.3));\n",
              "      fill: #FFFFFF;\n",
              "    }\n",
              "  </style>\n",
              "\n",
              "      <script>\n",
              "        const buttonEl =\n",
              "          document.querySelector('#df-494d6cf3-d92f-418f-a60e-88f82fae390d button.colab-df-convert');\n",
              "        buttonEl.style.display =\n",
              "          google.colab.kernel.accessAllowed ? 'block' : 'none';\n",
              "\n",
              "        async function convertToInteractive(key) {\n",
              "          const element = document.querySelector('#df-494d6cf3-d92f-418f-a60e-88f82fae390d');\n",
              "          const dataTable =\n",
              "            await google.colab.kernel.invokeFunction('convertToInteractive',\n",
              "                                                     [key], {});\n",
              "          if (!dataTable) return;\n",
              "\n",
              "          const docLinkHtml = 'Like what you see? Visit the ' +\n",
              "            '<a target=\"_blank\" href=https://colab.research.google.com/notebooks/data_table.ipynb>data table notebook</a>'\n",
              "            + ' to learn more about interactive tables.';\n",
              "          element.innerHTML = '';\n",
              "          dataTable['output_type'] = 'display_data';\n",
              "          await google.colab.output.renderOutput(dataTable, element);\n",
              "          const docLink = document.createElement('div');\n",
              "          docLink.innerHTML = docLinkHtml;\n",
              "          element.appendChild(docLink);\n",
              "        }\n",
              "      </script>\n",
              "    </div>\n",
              "  </div>\n",
              "  "
            ]
          },
          "metadata": {},
          "execution_count": 33
        }
      ]
    },
    {
      "cell_type": "code",
      "source": [
        "df.to_csv(\"./mnist/220921_실습_2_1.csv\", header=True, sep=',', na_rep='NaN', float_format = '%.4f', encoding='utf-8-sig', line_terminator='\\n')"
      ],
      "metadata": {
        "id": "wgZcTyBMStRP"
      },
      "execution_count": null,
      "outputs": []
    },
    {
      "cell_type": "markdown",
      "source": [
        "__Best Model Save__\n",
        "\n",
        "---\n",
        "ModelCheckpoint로 저장된 모델에 비해 최종 모델의 val_acc가 낮음에도 테스트데이터에 대한 acc가 높은 것으로 보아, 검증데이터에 대해서도 과대적합이 발생하였음을 유추할 수 있음."
      ],
      "metadata": {
        "id": "Ih8xGx0JbpN0"
      }
    },
    {
      "cell_type": "code",
      "source": [
        "model_1_2.save(\"mnist/best_model\")"
      ],
      "metadata": {
        "id": "9MxyZzv_ZcvL"
      },
      "execution_count": null,
      "outputs": []
    },
    {
      "cell_type": "code",
      "source": [
        "loaded_model = load_model('mnist/best_model')\n",
        "loaded_model.summary()"
      ],
      "metadata": {
        "colab": {
          "base_uri": "https://localhost:8080/"
        },
        "id": "zWmP8gnSaAg_",
        "outputId": "6945a58a-49d6-44cd-85cd-db09cbb7e5f9"
      },
      "execution_count": null,
      "outputs": [
        {
          "output_type": "stream",
          "name": "stdout",
          "text": [
            "Model: \"sequential_2\"\n",
            "_________________________________________________________________\n",
            " Layer (type)                Output Shape              Param #   \n",
            "=================================================================\n",
            " conv2d_6 (Conv2D)           (None, 26, 26, 32)        320       \n",
            "                                                                 \n",
            " max_pooling2d_4 (MaxPooling  (None, 13, 13, 32)       0         \n",
            " 2D)                                                             \n",
            "                                                                 \n",
            " dropout_6 (Dropout)         (None, 13, 13, 32)        0         \n",
            "                                                                 \n",
            " conv2d_7 (Conv2D)           (None, 11, 11, 64)        18496     \n",
            "                                                                 \n",
            " max_pooling2d_5 (MaxPooling  (None, 5, 5, 64)         0         \n",
            " 2D)                                                             \n",
            "                                                                 \n",
            " dropout_7 (Dropout)         (None, 5, 5, 64)          0         \n",
            "                                                                 \n",
            " conv2d_8 (Conv2D)           (None, 3, 3, 128)         73856     \n",
            "                                                                 \n",
            " dropout_8 (Dropout)         (None, 3, 3, 128)         0         \n",
            "                                                                 \n",
            " flatten_2 (Flatten)         (None, 1152)              0         \n",
            "                                                                 \n",
            " dense_4 (Dense)             (None, 64)                73792     \n",
            "                                                                 \n",
            " dense_5 (Dense)             (None, 10)                650       \n",
            "                                                                 \n",
            "=================================================================\n",
            "Total params: 167,114\n",
            "Trainable params: 167,114\n",
            "Non-trainable params: 0\n",
            "_________________________________________________________________\n"
          ]
        }
      ]
    },
    {
      "cell_type": "code",
      "source": [
        "loaded_model.evaluate(test_imgs, test_labels)"
      ],
      "metadata": {
        "colab": {
          "base_uri": "https://localhost:8080/"
        },
        "id": "GwfbUbf_aTL9",
        "outputId": "0114e21b-f79b-45bb-8a52-6d5427f0638a"
      },
      "execution_count": null,
      "outputs": [
        {
          "output_type": "stream",
          "name": "stdout",
          "text": [
            "313/313 [==============================] - 1s 3ms/step - loss: 0.0188 - accuracy: 0.9947\n"
          ]
        },
        {
          "output_type": "execute_result",
          "data": {
            "text/plain": [
              "[0.018777184188365936, 0.994700014591217]"
            ]
          },
          "metadata": {},
          "execution_count": 37
        }
      ]
    }
  ]
}