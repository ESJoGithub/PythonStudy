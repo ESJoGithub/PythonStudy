{
 "cells": [
  {
   "cell_type": "markdown",
   "metadata": {
    "colab_type": "text",
    "id": "view-in-github"
   },
   "source": [
    "<a href=\"https://colab.research.google.com/github/ESJoGithub/PythonStudy/blob/main/TextAnalysis_220824.ipynb\" target=\"_parent\"><img src=\"https://colab.research.google.com/assets/colab-badge.svg\" alt=\"Open In Colab\"/></a>"
   ]
  },
  {
   "cell_type": "markdown",
   "metadata": {
    "id": "iPESQIAjNgeH"
   },
   "source": [
    "### **고입 자기소개서 자료를 활용한 텍스트 데이터 분석 실습해보기**\n",
    "\n"
   ]
  },
  {
   "cell_type": "markdown",
   "metadata": {
    "id": "SzCCccoDN7c3"
   },
   "source": [
    "####**선정 이유**\n",
    "자기소개서는 상대적으로 형식이 정형화되어 있어 분석이 용이하므로 텍스트 분석 연습에 활용하기 적합하다고 판단함.\n",
    "\n",
    "고입 자기소개서는 대입에 비해 학교/학과가 제한적(분류가 적음)이고, 공통 서식을 활용하는 경우가 대부분이므로 적은 데이터로도 상대적으로 좋은 성능의 모델을 도출할 수 있을 것으로 가정함.\n",
    "\n",
    "\n",
    "####**목적**\n",
    "0. 텍스트 데이터 분석 실습\n",
    "1. 문사유사도 확인 프로그램 제작 (표절 여부를 확인하기 위한 프로그램 제작이 가능할지? keggle 등에 오픈소스가 있는지 등 확인이 필요)\n",
    "2. 텍스트 분석을 통해 학교유형/학교별/학과별 분류 모델 만들어보기\n",
    "3. 가능하다면? 분석 내용을 바탕으로 가상 자소서 작성이 가능한지 구상해볼 것. 단 데이터set이 많지 않고 작성 방식이 편향 되어있기 때문에 어려울 것으로 가정하고 모델 구상 수준에서 마무리할 수 있을 듯...(GAN)\n"
   ]
  },
  {
   "cell_type": "markdown",
   "metadata": {
    "id": "b7tSkOl6oHmM"
   },
   "source": [
    "#### **데이터 수집 및 전처리 방식 구상**\n",
    "\n",
    "1. 파일은 2019학년도~2021학년도 자기소개서(추가 가능: 100set 정도로 맞춰볼 것)\n",
    "2. 파일 형식은 대부분 pdf, 일부 docx 파일\n",
    "3. python의 PDFMiner(혹은 그 외) 모듈을 활용하여 numpy 형식으로 저장\n",
    " > 모든 데이터에 중복되어있는 중복데이터(문자/형태소)는 생략하고 분류 및 유사도 검증하는 것이 나을 듯.... 아니면 TF-IDF을 활용하여 해결할 수 있을 듯.\n",
    "\n",
    " > PDFMiner 선정: 한글 파일 호환성이 높은 편\n",
    "\n",
    "4. (문서유사도를 문장별로 확인할 수도 있으므로) 1차적으로 문장별 list로 만들고 토큰화 예정. 라벨링을 수동으로 할 것인지 pdf 전환 과정에서 학교명 등을 파악하여 자동으로 할 수 있을지 고민 중.\n",
    "> 학교 분류는 학교 분류 Matrix가 별도로 필요할듯\n",
    "5. target data를 학교유형 > 학교명 > 학과 어느 수준으로 할 것인지 고민 필요.\n",
    "우선 학교유형부터 단계적으로 진행해볼 것.\n",
    "\n",
    "#### **어떤 분류 모델을 활용할 것인지 후보군**\n",
    "1. 머신러닝 : KNN(적합할까?) / RandomForest - BoW(n-gram)?\n",
    "2. 딥러닝 : RNN(LSTM, GRU 등등) 좀 더 검토해볼 것. 일단 문장 안에서 형태소의 선후관계(언어적 맥락)가 중요하므로 관련 모델을 중심으로 검토 필요. \n",
    " > 벡터화/토큰화 방식 결정 필요:  코사인 유사도, 자카드 유사도?\n",
    " \n",
    " > one-hot encoding보다는 워드 임베딩? Word2Vec 외부에서 road하지 말고... 문제에 특화된 embedding 생성을 목표로 함.+ RNN\n",
    "4. 자기소개서가 모두 동일 기관에서 작성되어 서술 방식이 유사하므로 편향적. 세트 수도 적기 때문에 과대적합 가능성이 높음. 예측정확도를 높일 방식 고민해볼 것.\n",
    "네트워크 크기 되도록 작게... 가중치 규제L1? L2? 드롭아웃? // 검증방식 K-겹 교차?"
   ]
  }
 ],
 "metadata": {
  "colab": {
   "authorship_tag": "ABX9TyPIbvuWTFB7mVKBb5yxTg/s",
   "collapsed_sections": [],
   "include_colab_link": true,
   "name": "TextAnalysis_220824.ipynb",
   "provenance": []
  },
  "kernelspec": {
   "display_name": "Python 3 (ipykernel)",
   "language": "python",
   "name": "python3"
  },
  "language_info": {
   "codemirror_mode": {
    "name": "ipython",
    "version": 3
   },
   "file_extension": ".py",
   "mimetype": "text/x-python",
   "name": "python",
   "nbconvert_exporter": "python",
   "pygments_lexer": "ipython3",
   "version": "3.9.13"
  }
 },
 "nbformat": 4,
 "nbformat_minor": 1
}
