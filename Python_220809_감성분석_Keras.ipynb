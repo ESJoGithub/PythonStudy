{
 "cells": [
  {
   "cell_type": "markdown",
   "id": "5ffe6cf4",
   "metadata": {},
   "source": [
    "## 감성 분석(Keras)\n",
    "---\n",
    "Keras\n",
    "로지스틱 회귀를 활용하여 감성사전을 만들고 감성분석하기"
   ]
  },
  {
   "cell_type": "markdown",
   "id": "8a4691a7",
   "metadata": {},
   "source": [
    "### 1. Keras를 활용한 로지스틱 회귀 분석"
   ]
  },
  {
   "cell_type": "markdown",
   "id": "de1d1f11",
   "metadata": {},
   "source": [
    "#### 아마존 제품 리뷰 TDM 분석 결과 및 원본 파일 불러오기"
   ]
  },
  {
   "cell_type": "code",
   "execution_count": 1,
   "id": "fed8a1d1",
   "metadata": {},
   "outputs": [],
   "source": [
    "import joblib"
   ]
  },
  {
   "cell_type": "code",
   "execution_count": 2,
   "id": "b1c57275",
   "metadata": {},
   "outputs": [],
   "source": [
    "with open('amazon.pkl', 'rb') as f:\n",
    "    data = joblib.load(f)\n",
    "locals().update(data)"
   ]
  },
  {
   "cell_type": "markdown",
   "id": "b610fe1d",
   "metadata": {},
   "source": [
    "#### 학습용 / 테스트용 데이터 분할"
   ]
  },
  {
   "cell_type": "code",
   "execution_count": 3,
   "id": "4d88b449",
   "metadata": {},
   "outputs": [],
   "source": [
    "from sklearn.model_selection import train_test_split"
   ]
  },
  {
   "cell_type": "code",
   "execution_count": 4,
   "id": "e4031577",
   "metadata": {},
   "outputs": [],
   "source": [
    "X_train, X_test, y_train, y_test = train_test_split(tdm, sentiment, test_size = 0.2, random_state=1234)"
   ]
  },
  {
   "cell_type": "code",
   "execution_count": 5,
   "id": "a3fa94ad",
   "metadata": {},
   "outputs": [
    {
     "name": "stdout",
     "output_type": "stream",
     "text": [
      "(800, 1000) (200, 1000)\n"
     ]
    }
   ],
   "source": [
    "print(X_train.shape, X_test.shape)"
   ]
  },
  {
   "cell_type": "markdown",
   "id": "178c592a",
   "metadata": {},
   "source": [
    "#### 모델 생성"
   ]
  },
  {
   "cell_type": "code",
   "execution_count": 6,
   "id": "e1604c4e",
   "metadata": {},
   "outputs": [],
   "source": [
    "from keras import Sequential\n",
    "from keras.layers import Dense, Input"
   ]
  },
  {
   "cell_type": "code",
   "execution_count": 7,
   "id": "87378f44",
   "metadata": {},
   "outputs": [
    {
     "name": "stdout",
     "output_type": "stream",
     "text": [
      "Model: \"sequential\"\n",
      "_________________________________________________________________\n",
      " Layer (type)                Output Shape              Param #   \n",
      "=================================================================\n",
      " dense (Dense)               (None, 1)                 1001      \n",
      "                                                                 \n",
      "=================================================================\n",
      "Total params: 1,001\n",
      "Trainable params: 1,001\n",
      "Non-trainable params: 0\n",
      "_________________________________________________________________\n"
     ]
    }
   ],
   "source": [
    "NUM_WORDS = tdm.shape[1]\n",
    "m1 = Sequential()\n",
    "m1.add(Dense(1, activation = \"sigmoid\", input_shape = (NUM_WORDS, )))\n",
    "m1.summary()"
   ]
  },
  {
   "cell_type": "markdown",
   "id": "78315f44",
   "metadata": {},
   "source": [
    "#### 학습 및 평가"
   ]
  },
  {
   "cell_type": "code",
   "execution_count": 8,
   "id": "c3f2bd9b",
   "metadata": {},
   "outputs": [],
   "source": [
    "from keras.optimizers import Adam"
   ]
  },
  {
   "cell_type": "code",
   "execution_count": 9,
   "id": "674a19bf",
   "metadata": {},
   "outputs": [],
   "source": [
    "import numpy as np"
   ]
  },
  {
   "cell_type": "code",
   "execution_count": 10,
   "id": "3eac92f7",
   "metadata": {},
   "outputs": [
    {
     "name": "stdout",
     "output_type": "stream",
     "text": [
      "Epoch 1/30\n",
      "25/25 [==============================] - 0s 1ms/step - loss: 0.6921 - accuracy: 0.5213\n",
      "Epoch 2/30\n",
      "25/25 [==============================] - 0s 2ms/step - loss: 0.6868 - accuracy: 0.6025\n",
      "Epoch 3/30\n",
      "25/25 [==============================] - 0s 1ms/step - loss: 0.6820 - accuracy: 0.6650\n",
      "Epoch 4/30\n",
      "25/25 [==============================] - 0s 1ms/step - loss: 0.6773 - accuracy: 0.7200\n",
      "Epoch 5/30\n",
      "25/25 [==============================] - 0s 1ms/step - loss: 0.6725 - accuracy: 0.7550\n",
      "Epoch 6/30\n",
      "25/25 [==============================] - 0s 1ms/step - loss: 0.6678 - accuracy: 0.7837\n",
      "Epoch 7/30\n",
      "25/25 [==============================] - 0s 1ms/step - loss: 0.6632 - accuracy: 0.8138\n",
      "Epoch 8/30\n",
      "25/25 [==============================] - 0s 1ms/step - loss: 0.6586 - accuracy: 0.8363\n",
      "Epoch 9/30\n",
      "25/25 [==============================] - 0s 1ms/step - loss: 0.6541 - accuracy: 0.8500\n",
      "Epoch 10/30\n",
      "25/25 [==============================] - 0s 1ms/step - loss: 0.6496 - accuracy: 0.8550\n",
      "Epoch 11/30\n",
      "25/25 [==============================] - 0s 1ms/step - loss: 0.6451 - accuracy: 0.8763\n",
      "Epoch 12/30\n",
      "25/25 [==============================] - 0s 1ms/step - loss: 0.6408 - accuracy: 0.8838\n",
      "Epoch 13/30\n",
      "25/25 [==============================] - 0s 1ms/step - loss: 0.6364 - accuracy: 0.8888\n",
      "Epoch 14/30\n",
      "25/25 [==============================] - 0s 1ms/step - loss: 0.6321 - accuracy: 0.8913\n",
      "Epoch 15/30\n",
      "25/25 [==============================] - 0s 1ms/step - loss: 0.6278 - accuracy: 0.8938\n",
      "Epoch 16/30\n",
      "25/25 [==============================] - 0s 1ms/step - loss: 0.6236 - accuracy: 0.8975\n",
      "Epoch 17/30\n",
      "25/25 [==============================] - 0s 1ms/step - loss: 0.6195 - accuracy: 0.9000\n",
      "Epoch 18/30\n",
      "25/25 [==============================] - 0s 1ms/step - loss: 0.6154 - accuracy: 0.9038\n",
      "Epoch 19/30\n",
      "25/25 [==============================] - 0s 1ms/step - loss: 0.6113 - accuracy: 0.9038\n",
      "Epoch 20/30\n",
      "25/25 [==============================] - 0s 1ms/step - loss: 0.6073 - accuracy: 0.9050\n",
      "Epoch 21/30\n",
      "25/25 [==============================] - 0s 1ms/step - loss: 0.6033 - accuracy: 0.9087\n",
      "Epoch 22/30\n",
      "25/25 [==============================] - 0s 1ms/step - loss: 0.5994 - accuracy: 0.9162\n",
      "Epoch 23/30\n",
      "25/25 [==============================] - 0s 1ms/step - loss: 0.5955 - accuracy: 0.9212\n",
      "Epoch 24/30\n",
      "25/25 [==============================] - 0s 1ms/step - loss: 0.5916 - accuracy: 0.9225\n",
      "Epoch 25/30\n",
      "25/25 [==============================] - 0s 1ms/step - loss: 0.5878 - accuracy: 0.9237\n",
      "Epoch 26/30\n",
      "25/25 [==============================] - 0s 1ms/step - loss: 0.5840 - accuracy: 0.9237\n",
      "Epoch 27/30\n",
      "25/25 [==============================] - 0s 1ms/step - loss: 0.5803 - accuracy: 0.9275\n",
      "Epoch 28/30\n",
      "25/25 [==============================] - 0s 1ms/step - loss: 0.5766 - accuracy: 0.9300\n",
      "Epoch 29/30\n",
      "25/25 [==============================] - 0s 1ms/step - loss: 0.5729 - accuracy: 0.9325\n",
      "Epoch 30/30\n",
      "25/25 [==============================] - 0s 1ms/step - loss: 0.5693 - accuracy: 0.9350\n"
     ]
    },
    {
     "data": {
      "text/plain": [
       "<keras.callbacks.History at 0x1f9e91bb4c0>"
      ]
     },
     "execution_count": 10,
     "metadata": {},
     "output_type": "execute_result"
    }
   ],
   "source": [
    "m1.compile(loss='binary_crossentropy', metrics=['accuracy'], optimizer=Adam())\n",
    "X_train = X_train.toarray()               \n",
    "# 데이터 저장 형식에 문제가 있는지 numpy를 통해 toarray()해야만 정상동작함\n",
    "m1.fit(X_train, y_train, epochs=30)"
   ]
  },
  {
   "cell_type": "markdown",
   "id": "83428a13",
   "metadata": {},
   "source": [
    "#### 예측 및 평가"
   ]
  },
  {
   "cell_type": "code",
   "execution_count": 18,
   "id": "a39c22db",
   "metadata": {
    "scrolled": true
   },
   "outputs": [],
   "source": [
    "from sklearn.metrics import accuracy_score"
   ]
  },
  {
   "cell_type": "code",
   "execution_count": 22,
   "id": "51d67146",
   "metadata": {
    "scrolled": true
   },
   "outputs": [
    {
     "name": "stdout",
     "output_type": "stream",
     "text": [
      "7/7 [==============================] - 0s 1ms/step\n"
     ]
    }
   ],
   "source": [
    "# y_pred = m1.predict_classes(X_test) 오류발생. tensorflow v2.6 이후로 predict_classes가 없어짐\n",
    "# 시그모이드를 사용하는 binary claaification인 경우 아래와 같이 수정\n",
    "X_test = X_test.toarray()\n",
    "y_pred = (m1.predict(X_test) > 0.5).astype(\"int32\")"
   ]
  },
  {
   "cell_type": "code",
   "execution_count": 23,
   "id": "f09b8228",
   "metadata": {},
   "outputs": [
    {
     "data": {
      "text/plain": [
       "0.75"
      ]
     },
     "execution_count": 23,
     "metadata": {},
     "output_type": "execute_result"
    }
   ],
   "source": [
    "accuracy_score(y_test, y_pred)"
   ]
  },
  {
   "cell_type": "markdown",
   "id": "89d6d607",
   "metadata": {},
   "source": [
    "### 2. 다층 신경망 생성"
   ]
  },
  {
   "cell_type": "markdown",
   "id": "13274f0d",
   "metadata": {},
   "source": [
    "#### 신경망 생성 및 학습"
   ]
  },
  {
   "cell_type": "code",
   "execution_count": 24,
   "id": "b84b0fc5",
   "metadata": {},
   "outputs": [
    {
     "name": "stdout",
     "output_type": "stream",
     "text": [
      "Model: \"sequential_1\"\n",
      "_________________________________________________________________\n",
      " Layer (type)                Output Shape              Param #   \n",
      "=================================================================\n",
      " dense_1 (Dense)             (None, 100)               100100    \n",
      "                                                                 \n",
      " dense_2 (Dense)             (None, 1)                 101       \n",
      "                                                                 \n",
      "=================================================================\n",
      "Total params: 100,201\n",
      "Trainable params: 100,201\n",
      "Non-trainable params: 0\n",
      "_________________________________________________________________\n"
     ]
    }
   ],
   "source": [
    "m2 = Sequential()\n",
    "m2.add(Dense(100, activation='relu', input_shape=(NUM_WORDS,)))\n",
    "m2.add(Dense(1, activation='sigmoid'))\n",
    "m2.summary()"
   ]
  },
  {
   "cell_type": "code",
   "execution_count": 25,
   "id": "8aa21229",
   "metadata": {},
   "outputs": [],
   "source": [
    "m2.compile(loss = \"binary_crossentropy\", metrics=[\"accuracy\"], optimizer = Adam())"
   ]
  },
  {
   "cell_type": "code",
   "execution_count": 27,
   "id": "fd5d3c12",
   "metadata": {},
   "outputs": [
    {
     "data": {
      "text/plain": [
       "<keras.callbacks.History at 0x1f9dc69f5b0>"
      ]
     },
     "execution_count": 27,
     "metadata": {},
     "output_type": "execute_result"
    }
   ],
   "source": [
    "m2.fit(X_train, y_train, epochs = 30, verbose = 0)"
   ]
  },
  {
   "cell_type": "code",
   "execution_count": 30,
   "id": "b6b845bc",
   "metadata": {},
   "outputs": [
    {
     "name": "stdout",
     "output_type": "stream",
     "text": [
      "7/7 [==============================] - 0s 2ms/step\n"
     ]
    },
    {
     "data": {
      "text/plain": [
       "0.8"
      ]
     },
     "execution_count": 30,
     "metadata": {},
     "output_type": "execute_result"
    }
   ],
   "source": [
    "# y_pred = m1.predict_classes(X_test) 오류발생. tensorflow v2.6 이후로 predict_classes가 없어짐\n",
    "y_pred2 = (m2.predict(X_test) > 0.5).astype(\"int32\")\n",
    "accuracy_score(y_test, y_pred2)"
   ]
  }
 ],
 "metadata": {
  "kernelspec": {
   "display_name": "Python 3 (ipykernel)",
   "language": "python",
   "name": "python3"
  },
  "language_info": {
   "codemirror_mode": {
    "name": "ipython",
    "version": 3
   },
   "file_extension": ".py",
   "mimetype": "text/x-python",
   "name": "python",
   "nbconvert_exporter": "python",
   "pygments_lexer": "ipython3",
   "version": "3.9.12"
  }
 },
 "nbformat": 4,
 "nbformat_minor": 5
}
