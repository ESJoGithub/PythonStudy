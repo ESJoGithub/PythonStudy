{
  "nbformat": 4,
  "nbformat_minor": 0,
  "metadata": {
    "colab": {
      "name": "Python_0414_identifier.ipynb",
      "provenance": [],
      "collapsed_sections": [],
      "authorship_tag": "ABX9TyMJcximFhG2pRbAof0crlF2",
      "include_colab_link": true
    },
    "kernelspec": {
      "name": "python3",
      "display_name": "Python 3"
    },
    "language_info": {
      "name": "python"
    }
  },
  "cells": [
    {
      "cell_type": "markdown",
      "metadata": {
        "id": "view-in-github",
        "colab_type": "text"
      },
      "source": [
        "<a href=\"https://colab.research.google.com/github/ESJoGithub/PythonStudy/blob/main/Python_0414_identifier.ipynb\" target=\"_parent\"><img src=\"https://colab.research.google.com/assets/colab-badge.svg\" alt=\"Open In Colab\"/></a>"
      ]
    },
    {
      "cell_type": "code",
      "execution_count": 4,
      "metadata": {
        "colab": {
          "base_uri": "https://localhost:8080/"
        },
        "id": "L83rsPKYITv8",
        "outputId": "286699f9-d1ed-4f83-f31f-c62530f72ac6"
      },
      "outputs": [
        {
          "output_type": "stream",
          "name": "stdout",
          "text": [
            "20\n"
          ]
        }
      ],
      "source": [
        "def outer_function():\n",
        "  # b : local\n",
        "  b = 20\n",
        "  def inner_function():\n",
        "    c = 30\n",
        "    print(b)\n",
        "  inner_function()\n",
        "\n",
        "a = 10 # a: global\n",
        "outer_function()"
      ]
    },
    {
      "cell_type": "code",
      "source": [
        "def outer_function():\n",
        "  a = 20\n",
        "\n",
        "  def inner_function():\n",
        "    a = 30\n",
        "    print('a = ', a)\n",
        "  inner_function()\n",
        "  print('a = ', a)\n",
        "\n",
        "a = 10\n",
        "outer_function()\n",
        "print('a = ', a)"
      ],
      "metadata": {
        "colab": {
          "base_uri": "https://localhost:8080/"
        },
        "id": "1LARGwYCI6_7",
        "outputId": "3000b61b-9ebe-4a53-d9c4-5548b7cea9a0"
      },
      "execution_count": 3,
      "outputs": [
        {
          "output_type": "stream",
          "name": "stdout",
          "text": [
            "a =  30\n",
            "a =  20\n",
            "a =  10\n"
          ]
        }
      ]
    },
    {
      "cell_type": "code",
      "source": [
        "def outer_function() :\n",
        "  global a\n",
        "  a = 20             # 2. global a = 20 수행\n",
        "  b = 10             # 2-1. b = 10 수행 \n",
        "\n",
        "  def inner_function():\n",
        "    global a\n",
        "    a = 30\n",
        "    print('a = ', a) # 4. a = 30 수행 및 출력\n",
        "    nonlocal b       \n",
        "    b = 20\n",
        "    print('b = ', b) # 4-1. nonlocal b = 20 수행 및 출력\n",
        "  inner_function()   # 3. inner_fuction 호출\n",
        "\n",
        "  print('a = ', a)   # 5. a = 30 출력\n",
        "  print('b = ', b)   # 5-1. b = 20 출력\n",
        "\n",
        "a = 10               # 0. a = 10\n",
        "outer_function()     # 1. outer_fuction 호출\n",
        "\n",
        "print('a = ', a)     # 6. a = 30 출력"
      ],
      "metadata": {
        "colab": {
          "base_uri": "https://localhost:8080/"
        },
        "id": "EU4Vm-sgJ2sb",
        "outputId": "b4004286-b76e-4db3-bc24-4793f1f7826d"
      },
      "execution_count": 2,
      "outputs": [
        {
          "output_type": "stream",
          "name": "stdout",
          "text": [
            "a =  30\n",
            "b =  20\n",
            "a =  30\n",
            "b =  20\n",
            "a =  30\n"
          ]
        }
      ]
    }
  ]
}