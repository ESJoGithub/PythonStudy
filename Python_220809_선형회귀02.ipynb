{
  "nbformat": 4,
  "nbformat_minor": 0,
  "metadata": {
    "colab": {
      "name": "Python_220809_선형회귀02.ipynb",
      "provenance": [],
      "collapsed_sections": [],
      "authorship_tag": "ABX9TyPl+OnvCC7RrnkaPPYsqfEI",
      "include_colab_link": true
    },
    "kernelspec": {
      "name": "python3",
      "display_name": "Python 3"
    },
    "language_info": {
      "name": "python"
    }
  },
  "cells": [
    {
      "cell_type": "markdown",
      "metadata": {
        "id": "view-in-github",
        "colab_type": "text"
      },
      "source": [
        "<a href=\"https://colab.research.google.com/github/ESJoGithub/PythonStudy/blob/main/Python_220809_%EC%84%A0%ED%98%95%ED%9A%8C%EA%B7%8002.ipynb\" target=\"_parent\"><img src=\"https://colab.research.google.com/assets/colab-badge.svg\" alt=\"Open In Colab\"/></a>"
      ]
    },
    {
      "cell_type": "markdown",
      "source": [
        "## **Linear Regression을 활용한 데이터 분류 실습**\n",
        "---\n",
        "> Keras로 선형회귀 실습하기"
      ],
      "metadata": {
        "id": "Ha9mgt9S1Lco"
      }
    },
    {
      "cell_type": "markdown",
      "source": [
        "#### **라이브러리 import**\n"
      ],
      "metadata": {
        "id": "Ry9vEcnqBNdd"
      }
    },
    {
      "cell_type": "code",
      "execution_count": 1,
      "metadata": {
        "id": "FUtaUD1SBNdd"
      },
      "outputs": [],
      "source": [
        "from tensorflow.keras import optimizers\n",
        "from tensorflow.keras.models import Sequential\n",
        "from tensorflow.keras.layers import Dense\n",
        "import numpy as np\n",
        "import matplotlib.pyplot as plt"
      ]
    },
    {
      "cell_type": "markdown",
      "source": [
        "####**데이터 만들기**"
      ],
      "metadata": {
        "id": "ieSRJonZBNdd"
      }
    },
    {
      "cell_type": "code",
      "source": [
        "X = np.linspace(0, 10, 10)\n",
        "Y = X + np.random.random(*X.shape)\n",
        "print(X)\n",
        "print(Y)"
      ],
      "metadata": {
        "colab": {
          "base_uri": "https://localhost:8080/"
        },
        "outputId": "8d89c1f4-f884-4a06-b3da-0dd36fbecf58",
        "id": "Hy8rbTsNBNdd"
      },
      "execution_count": 2,
      "outputs": [
        {
          "output_type": "stream",
          "name": "stdout",
          "text": [
            "[ 0.          1.11111111  2.22222222  3.33333333  4.44444444  5.55555556\n",
            "  6.66666667  7.77777778  8.88888889 10.        ]\n",
            "[ 0.8331195   1.4099858   2.34221723  3.59920959  5.07325809  5.74327686\n",
            "  7.39231032  8.48910626  9.19782698 10.44026552]\n"
          ]
        }
      ]
    },
    {
      "cell_type": "code",
      "source": [
        "for x, y in zip(X, Y):\n",
        "  print((round(x, 1), round(y, 1)))"
      ],
      "metadata": {
        "colab": {
          "base_uri": "https://localhost:8080/"
        },
        "id": "Bdu64PQ-Mt-X",
        "outputId": "03e9cabd-a554-4dcb-8646-ec5376704ac5"
      },
      "execution_count": 3,
      "outputs": [
        {
          "output_type": "stream",
          "name": "stdout",
          "text": [
            "(0.0, 0.8)\n",
            "(1.1, 1.4)\n",
            "(2.2, 2.3)\n",
            "(3.3, 3.6)\n",
            "(4.4, 5.1)\n",
            "(5.6, 5.7)\n",
            "(6.7, 7.4)\n",
            "(7.8, 8.5)\n",
            "(8.9, 9.2)\n",
            "(10.0, 10.4)\n"
          ]
        }
      ]
    },
    {
      "cell_type": "markdown",
      "source": [
        "#### **선형회귀 모델 만들기**"
      ],
      "metadata": {
        "id": "IIenwc2lCbZq"
      }
    },
    {
      "cell_type": "code",
      "source": [
        "model = Sequential()\n",
        "model.add(Dense(input_dim = 1, units = 1, activation = \"linear\", use_bias = False))   # input_dim = 1 입력 하나 / units = 1 출력 하나\n",
        "\n",
        "sgd = optimizers.SGD(lr = 0.05)                # sgd: 경사하강법 활용 방법론 중 하나 Stochastic Gradient Descent(확률적 경사 하강법) lr: 학습률\n",
        "model.compile(optimizer = \"sgd\", loss = \"mse\") # mse: 평균제곱오차"
      ],
      "metadata": {
        "colab": {
          "base_uri": "https://localhost:8080/"
        },
        "id": "B-co3qKVCeTe",
        "outputId": "94b90595-658c-4b27-f23d-dcc8886189af"
      },
      "execution_count": 4,
      "outputs": [
        {
          "output_type": "stream",
          "name": "stderr",
          "text": [
            "/usr/local/lib/python3.7/dist-packages/keras/optimizer_v2/gradient_descent.py:102: UserWarning: The `lr` argument is deprecated, use `learning_rate` instead.\n",
            "  super(SGD, self).__init__(name, **kwargs)\n"
          ]
        }
      ]
    },
    {
      "cell_type": "code",
      "source": [
        "# 초기 weight 출력 레이어가 하나 뿐이므로 layers[0]을 조회함\n",
        "weights = model.layers[0].get_weights()\n",
        "w = weights[0][0]\n",
        "\n",
        "print(\"initial w is : \" + str(w))"
      ],
      "metadata": {
        "colab": {
          "base_uri": "https://localhost:8080/"
        },
        "id": "38C4jYlyC-Nr",
        "outputId": "d904a835-de63-424e-cad3-aaac3c4ed2aa"
      },
      "execution_count": 5,
      "outputs": [
        {
          "output_type": "stream",
          "name": "stdout",
          "text": [
            "initial w is : [-1.5084528]\n"
          ]
        }
      ]
    },
    {
      "cell_type": "markdown",
      "source": [
        "#### **선형회귀 모델 학습**"
      ],
      "metadata": {
        "id": "sh8VNYDSEAMc"
      }
    },
    {
      "cell_type": "code",
      "source": [
        "model.fit(X, Y, batch_size=10, epochs = 10, verbose = 1)    \n",
        "# batch_size: 한 번에 학습하는 데이터 수, epochs: 전체 학습 반복 횟수, verbose = 1: 출력여부"
      ],
      "metadata": {
        "colab": {
          "base_uri": "https://localhost:8080/"
        },
        "id": "IL5uvKXADw1Y",
        "outputId": "ffaf3b66-c41a-4824-e2f2-0224ac88b111"
      },
      "execution_count": 6,
      "outputs": [
        {
          "output_type": "stream",
          "name": "stdout",
          "text": [
            "Epoch 1/10\n",
            "1/1 [==============================] - 1s 670ms/step - loss: 233.1185\n",
            "Epoch 2/10\n",
            "1/1 [==============================] - 0s 25ms/step - loss: 20.5696\n",
            "Epoch 3/10\n",
            "1/1 [==============================] - 0s 19ms/step - loss: 1.9097\n",
            "Epoch 4/10\n",
            "1/1 [==============================] - 0s 31ms/step - loss: 0.2715\n",
            "Epoch 5/10\n",
            "1/1 [==============================] - 0s 35ms/step - loss: 0.1277\n",
            "Epoch 6/10\n",
            "1/1 [==============================] - 0s 22ms/step - loss: 0.1150\n",
            "Epoch 7/10\n",
            "1/1 [==============================] - 0s 19ms/step - loss: 0.1139\n",
            "Epoch 8/10\n",
            "1/1 [==============================] - 0s 21ms/step - loss: 0.1138\n",
            "Epoch 9/10\n",
            "1/1 [==============================] - 0s 67ms/step - loss: 0.1138\n",
            "Epoch 10/10\n",
            "1/1 [==============================] - 0s 24ms/step - loss: 0.1138\n"
          ]
        },
        {
          "output_type": "execute_result",
          "data": {
            "text/plain": [
              "<keras.callbacks.History at 0x7f755114a450>"
            ]
          },
          "metadata": {},
          "execution_count": 6
        }
      ]
    },
    {
      "cell_type": "markdown",
      "source": [
        "#### **기울기 조회**"
      ],
      "metadata": {
        "id": "6ybcn5_FEDGM"
      }
    },
    {
      "cell_type": "code",
      "source": [
        "weights = model.layers[0].get_weights()\n",
        "w = weights[0][0]\n",
        "\n",
        "print(\"trained w is : \" + str(w))"
      ],
      "metadata": {
        "colab": {
          "base_uri": "https://localhost:8080/"
        },
        "id": "8W6RG-eyD9LQ",
        "outputId": "74f42164-8567-4226-b17c-6b5e77e312ca"
      },
      "execution_count": 7,
      "outputs": [
        {
          "output_type": "stream",
          "name": "stdout",
          "text": [
            "trained w is : [1.0649047]\n"
          ]
        }
      ]
    },
    {
      "cell_type": "markdown",
      "source": [
        "#### **선형회귀 시각화**"
      ],
      "metadata": {
        "id": "qOkTxWa5ETb8"
      }
    },
    {
      "cell_type": "code",
      "source": [
        "plt.plot(X, Y, label = 'data')\n",
        "plt.plot(X, w*X, label = 'prediction')\n",
        "plt.legend()\n",
        "plt.show"
      ],
      "metadata": {
        "colab": {
          "base_uri": "https://localhost:8080/",
          "height": 283
        },
        "id": "dqcvUrbJEVly",
        "outputId": "d71d6e28-90ae-42b9-ae7f-0f49f47b74cd"
      },
      "execution_count": 8,
      "outputs": [
        {
          "output_type": "execute_result",
          "data": {
            "text/plain": [
              "<function matplotlib.pyplot.show>"
            ]
          },
          "metadata": {},
          "execution_count": 8
        },
        {
          "output_type": "display_data",
          "data": {
            "text/plain": [
              "<Figure size 432x288 with 1 Axes>"
            ],
            "image/png": "[encoded data removed]"
          },
          "metadata": {
            "needs_background": "light"
          }
        }
      ]
    },
    {
      "cell_type": "markdown",
      "source": [
        "seaborn 활용 연습"
      ],
      "metadata": {
        "id": "PluBgsd6EkVD"
      }
    },
    {
      "cell_type": "code",
      "source": [
        "import seaborn as sns\n",
        "import pandas as pd"
      ],
      "metadata": {
        "id": "BpOMM_IULrXt"
      },
      "execution_count": 9,
      "outputs": []
    },
    {
      "cell_type": "code",
      "source": [
        "df1 = pd.Series(X)\n",
        "df2 = pd.Series(Y)"
      ],
      "metadata": {
        "id": "_UVRsbp7ITnd"
      },
      "execution_count": 10,
      "outputs": []
    },
    {
      "cell_type": "code",
      "source": [
        "df = pd.concat([df1, df2], axis = 1)\n",
        "df.columns = [\"X\", \"Y\"]\n",
        "df"
      ],
      "metadata": {
        "colab": {
          "base_uri": "https://localhost:8080/",
          "height": 363
        },
        "id": "XAXoYgNjIEZj",
        "outputId": "e8eec40f-842c-414c-c320-2d65a7632195"
      },
      "execution_count": 11,
      "outputs": [
        {
          "output_type": "execute_result",
          "data": {
            "text/plain": [
              "           X          Y\n",
              "0   0.000000   0.833119\n",
              "1   1.111111   1.409986\n",
              "2   2.222222   2.342217\n",
              "3   3.333333   3.599210\n",
              "4   4.444444   5.073258\n",
              "5   5.555556   5.743277\n",
              "6   6.666667   7.392310\n",
              "7   7.777778   8.489106\n",
              "8   8.888889   9.197827\n",
              "9  10.000000  10.440266"
            ],
            "text/html": [
              "\n",
              "  <div id=\"df-32e2403e-466e-4055-adf8-7de0f50607c5\">\n",
              "    <div class=\"colab-df-container\">\n",
              "      <div>\n",
              "<style scoped>\n",
              "    .dataframe tbody tr th:only-of-type {\n",
              "        vertical-align: middle;\n",
              "    }\n",
              "\n",
              "    .dataframe tbody tr th {\n",
              "        vertical-align: top;\n",
              "    }\n",
              "\n",
              "    .dataframe thead th {\n",
              "        text-align: right;\n",
              "    }\n",
              "</style>\n",
              "<table border=\"1\" class=\"dataframe\">\n",
              "  <thead>\n",
              "    <tr style=\"text-align: right;\">\n",
              "      <th></th>\n",
              "      <th>X</th>\n",
              "      <th>Y</th>\n",
              "    </tr>\n",
              "  </thead>\n",
              "  <tbody>\n",
              "    <tr>\n",
              "      <th>0</th>\n",
              "      <td>0.000000</td>\n",
              "      <td>0.833119</td>\n",
              "    </tr>\n",
              "    <tr>\n",
              "      <th>1</th>\n",
              "      <td>1.111111</td>\n",
              "      <td>1.409986</td>\n",
              "    </tr>\n",
              "    <tr>\n",
              "      <th>2</th>\n",
              "      <td>2.222222</td>\n",
              "      <td>2.342217</td>\n",
              "    </tr>\n",
              "    <tr>\n",
              "      <th>3</th>\n",
              "      <td>3.333333</td>\n",
              "      <td>3.599210</td>\n",
              "    </tr>\n",
              "    <tr>\n",
              "      <th>4</th>\n",
              "      <td>4.444444</td>\n",
              "      <td>5.073258</td>\n",
              "    </tr>\n",
              "    <tr>\n",
              "      <th>5</th>\n",
              "      <td>5.555556</td>\n",
              "      <td>5.743277</td>\n",
              "    </tr>\n",
              "    <tr>\n",
              "      <th>6</th>\n",
              "      <td>6.666667</td>\n",
              "      <td>7.392310</td>\n",
              "    </tr>\n",
              "    <tr>\n",
              "      <th>7</th>\n",
              "      <td>7.777778</td>\n",
              "      <td>8.489106</td>\n",
              "    </tr>\n",
              "    <tr>\n",
              "      <th>8</th>\n",
              "      <td>8.888889</td>\n",
              "      <td>9.197827</td>\n",
              "    </tr>\n",
              "    <tr>\n",
              "      <th>9</th>\n",
              "      <td>10.000000</td>\n",
              "      <td>10.440266</td>\n",
              "    </tr>\n",
              "  </tbody>\n",
              "</table>\n",
              "</div>\n",
              "      <button class=\"colab-df-convert\" onclick=\"convertToInteractive('df-32e2403e-466e-4055-adf8-7de0f50607c5')\"\n",
              "              title=\"Convert this dataframe to an interactive table.\"\n",
              "              style=\"display:none;\">\n",
              "        \n",
              "  <svg xmlns=\"http://www.w3.org/2000/svg\" height=\"24px\"viewBox=\"0 0 24 24\"\n",
              "       width=\"24px\">\n",
              "    <path d=\"M0 0h24v24H0V0z\" fill=\"none\"/>\n",
              "    <path d=\"M18.56 5.44l.94 2.06.94-2.06 2.06-.94-2.06-.94-.94-2.06-.94 2.06-2.06.94zm-11 1L8.5 8.5l.94-2.06 2.06-.94-2.06-.94L8.5 2.5l-.94 2.06-2.06.94zm10 10l.94 2.06.94-2.06 2.06-.94-2.06-.94-.94-2.06-.94 2.06-2.06.94z\"/><path d=\"M17.41 7.96l-1.37-1.37c-.4-.4-.92-.59-1.43-.59-.52 0-1.04.2-1.43.59L10.3 9.45l-7.72 7.72c-.78.78-.78 2.05 0 2.83L4 21.41c.39.39.9.59 1.41.59.51 0 1.02-.2 1.41-.59l7.78-7.78 2.81-2.81c.8-.78.8-2.07 0-2.86zM5.41 20L4 18.59l7.72-7.72 1.47 1.35L5.41 20z\"/>\n",
              "  </svg>\n",
              "      </button>\n",
              "      \n",
              "  <style>\n",
              "    .colab-df-container {\n",
              "      display:flex;\n",
              "      flex-wrap:wrap;\n",
              "      gap: 12px;\n",
              "    }\n",
              "\n",
              "    .colab-df-convert {\n",
              "      background-color: #E8F0FE;\n",
              "      border: none;\n",
              "      border-radius: 50%;\n",
              "      cursor: pointer;\n",
              "      display: none;\n",
              "      fill: #1967D2;\n",
              "      height: 32px;\n",
              "      padding: 0 0 0 0;\n",
              "      width: 32px;\n",
              "    }\n",
              "\n",
              "    .colab-df-convert:hover {\n",
              "      background-color: #E2EBFA;\n",
              "      box-shadow: 0px 1px 2px rgba(60, 64, 67, 0.3), 0px 1px 3px 1px rgba(60, 64, 67, 0.15);\n",
              "      fill: #174EA6;\n",
              "    }\n",
              "\n",
              "    [theme=dark] .colab-df-convert {\n",
              "      background-color: #3B4455;\n",
              "      fill: #D2E3FC;\n",
              "    }\n",
              "\n",
              "    [theme=dark] .colab-df-convert:hover {\n",
              "      background-color: #434B5C;\n",
              "      box-shadow: 0px 1px 3px 1px rgba(0, 0, 0, 0.15);\n",
              "      filter: drop-shadow(0px 1px 2px rgba(0, 0, 0, 0.3));\n",
              "      fill: #FFFFFF;\n",
              "    }\n",
              "  </style>\n",
              "\n",
              "      <script>\n",
              "        const buttonEl =\n",
              "          document.querySelector('#df-32e2403e-466e-4055-adf8-7de0f50607c5 button.colab-df-convert');\n",
              "        buttonEl.style.display =\n",
              "          google.colab.kernel.accessAllowed ? 'block' : 'none';\n",
              "\n",
              "        async function convertToInteractive(key) {\n",
              "          const element = document.querySelector('#df-32e2403e-466e-4055-adf8-7de0f50607c5');\n",
              "          const dataTable =\n",
              "            await google.colab.kernel.invokeFunction('convertToInteractive',\n",
              "                                                     [key], {});\n",
              "          if (!dataTable) return;\n",
              "\n",
              "          const docLinkHtml = 'Like what you see? Visit the ' +\n",
              "            '<a target=\"_blank\" href=https://colab.research.google.com/notebooks/data_table.ipynb>data table notebook</a>'\n",
              "            + ' to learn more about interactive tables.';\n",
              "          element.innerHTML = '';\n",
              "          dataTable['output_type'] = 'display_data';\n",
              "          await google.colab.output.renderOutput(dataTable, element);\n",
              "          const docLink = document.createElement('div');\n",
              "          docLink.innerHTML = docLinkHtml;\n",
              "          element.appendChild(docLink);\n",
              "        }\n",
              "      </script>\n",
              "    </div>\n",
              "  </div>\n",
              "  "
            ]
          },
          "metadata": {},
          "execution_count": 11
        }
      ]
    },
    {
      "cell_type": "code",
      "source": [
        "sns.lmplot(x = \"X\", y = \"Y\", data = df, line_kws={\"color\":\"red\"})"
      ],
      "metadata": {
        "colab": {
          "base_uri": "https://localhost:8080/",
          "height": 387
        },
        "id": "XcGDWo3PHBDN",
        "outputId": "ae8a1273-e8eb-42d4-a48f-eeec0e500059"
      },
      "execution_count": 12,
      "outputs": [
        {
          "output_type": "execute_result",
          "data": {
            "text/plain": [
              "<seaborn.axisgrid.FacetGrid at 0x7f754c4488d0>"
            ]
          },
          "metadata": {},
          "execution_count": 12
        },
        {
          "output_type": "display_data",
          "data": {
            "text/plain": [
              "<Figure size 360x360 with 1 Axes>"
            ],
            "image/png": "[encoded data removed]"
          },
          "metadata": {
            "needs_background": "light"
          }
        }
      ]
    }
  ]
}