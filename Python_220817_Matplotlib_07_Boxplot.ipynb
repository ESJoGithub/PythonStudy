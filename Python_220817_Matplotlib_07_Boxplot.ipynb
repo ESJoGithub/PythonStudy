{
 "cells": [
  {
   "cell_type": "code",
   "execution_count": 1,
   "id": "e4459012",
   "metadata": {},
   "outputs": [],
   "source": [
    "import pandas as pd\n",
    "import matplotlib.pyplot as plt"
   ]
  },
  {
   "cell_type": "code",
   "execution_count": 2,
   "id": "00a7ced3",
   "metadata": {},
   "outputs": [],
   "source": [
    "from matplotlib import font_manager, rc"
   ]
  },
  {
   "cell_type": "code",
   "execution_count": 3,
   "id": "0d748371",
   "metadata": {},
   "outputs": [],
   "source": [
    "font_path = \"C:\\\\USERS\\\\USER\\\\APPDATA\\\\LOCAL\\\\MICROSOFT\\\\WINDOWS\\\\FONTS\\\\NANUMGOTHICCODING.ttf\"\n",
    "\n",
    "font_name = font_manager.FontProperties(fname = font_path).get_name()\n",
    "rc('font', family=font_name)"
   ]
  },
  {
   "cell_type": "code",
   "execution_count": 4,
   "id": "85f1dc38",
   "metadata": {},
   "outputs": [],
   "source": [
    "df = pd.read_csv('E:\\\\Python\\\\auto-mpg.csv', header=None)"
   ]
  },
  {
   "cell_type": "code",
   "execution_count": 5,
   "id": "4c4db2f1",
   "metadata": {},
   "outputs": [],
   "source": [
    "df.columns = ['mpg', 'cylinders', 'displacement', 'horsepower', 'weight', 'acceleration', 'model year', 'origin', 'name']"
   ]
  },
  {
   "cell_type": "markdown",
   "id": "9ed8b6ff",
   "metadata": {},
   "source": [
    "### 제조국가(origin)별 연비분포 그리기"
   ]
  },
  {
   "cell_type": "code",
   "execution_count": 6,
   "id": "a1017aa8",
   "metadata": {},
   "outputs": [],
   "source": [
    "plt.style.use('seaborn-poster')\n",
    "plt.rcParams['axes.unicode_minus'] = False    # 마이너스 부포 출력 설정"
   ]
  },
  {
   "cell_type": "code",
   "execution_count": 7,
   "id": "82301285",
   "metadata": {},
   "outputs": [
    {
     "data": {
      "text/plain": [
       "Text(0.5, 1.0, '제조국가별 연비 분포(수평 박스 플롯)')"
      ]
     },
     "execution_count": 7,
     "metadata": {},
     "output_type": "execute_result"
    },
    {
     "data": {
      "image/png": "[encoded data removed]",
      "text/plain": [
       "<Figure size 1080x360 with 2 Axes>"
      ]
     },
     "metadata": {
      "needs_background": "light"
     },
     "output_type": "display_data"
    }
   ],
   "source": [
    "fig = plt.figure(figsize = (15, 5))\n",
    "ax1 = fig.add_subplot(1, 2, 1)\n",
    "ax2 = fig.add_subplot(1, 2, 2)\n",
    "\n",
    "ax1.boxplot(x=[df[df['origin'] == 1]['mpg'],\n",
    "               df[df['origin'] == 2]['mpg'],\n",
    "               df[df['origin'] == 3]['mpg']],\n",
    "            labels = ['USA', 'EU', 'JAPAN'])\n",
    "ax2.boxplot(x=[df[df['origin'] == 1]['mpg'],\n",
    "               df[df['origin'] == 2]['mpg'],\n",
    "               df[df['origin'] == 3]['mpg']],\n",
    "            labels = ['USA', 'EU', 'JAPAN'],\n",
    "            vert=False\n",
    "           )\n",
    "ax1.set_title('제조국가별 연비 분포(수직 박스 플롯)')\n",
    "ax2.set_title('제조국가별 연비 분포(수평 박스 플롯)')"
   ]
  }
 ],
 "metadata": {
  "kernelspec": {
   "display_name": "Python 3 (ipykernel)",
   "language": "python",
   "name": "python3"
  },
  "language_info": {
   "codemirror_mode": {
    "name": "ipython",
    "version": 3
   },
   "file_extension": ".py",
   "mimetype": "text/x-python",
   "name": "python",
   "nbconvert_exporter": "python",
   "pygments_lexer": "ipython3",
   "version": "3.9.12"
  }
 },
 "nbformat": 4,
 "nbformat_minor": 5
}
