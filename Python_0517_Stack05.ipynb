{
  "nbformat": 4,
  "nbformat_minor": 0,
  "metadata": {
    "colab": {
      "name": "Python_0517_Stack05.ipynb",
      "provenance": [],
      "collapsed_sections": [],
      "authorship_tag": "ABX9TyM7dOJAVJEm8YfQSetjS/fq",
      "include_colab_link": true
    },
    "kernelspec": {
      "name": "python3",
      "display_name": "Python 3"
    },
    "language_info": {
      "name": "python"
    }
  },
  "cells": [
    {
      "cell_type": "markdown",
      "metadata": {
        "id": "view-in-github",
        "colab_type": "text"
      },
      "source": [
        "<a href=\"https://colab.research.google.com/github/ESJoGithub/PythonStudy/blob/main/Python_0517_Stack05.ipynb\" target=\"_parent\"><img src=\"https://colab.research.google.com/assets/colab-badge.svg\" alt=\"Open In Colab\"/></a>"
      ]
    },
    {
      "cell_type": "markdown",
      "source": [
        "## 미로 탐색 코드 만들기\n",
        "자료구조 Stack을 응용하여 미로 탐색 코드 만들기"
      ],
      "metadata": {
        "id": "VE6mu2Hd2j78"
      }
    },
    {
      "cell_type": "code",
      "source": [
        "class Maze :\n",
        "  def __init__(self):\n",
        "    self.stacklist=[]\n",
        "\n",
        "  def push(self, e):\n",
        "    self.stacklist.append(e)\n",
        "\n",
        "  def pop(self):\n",
        "    if len(self.stacklist) != 0:\n",
        "      e = self.stacklist[-1]\n",
        "      self.stacklist.pop(-1)\n",
        "      return e\n",
        "    else:\n",
        "      return None\n",
        "\n",
        "  def clear(self):\n",
        "    self.stacklist=[]\n",
        "\n",
        "  def isEmpty(self):\n",
        "    if len(self.stacklist)==0:\n",
        "      return True\n",
        "    else:\n",
        "      return False\n",
        "  \n",
        "  def findExit(self, map, scale):\n",
        "    for i in map:\n",
        "      for j in i:\n",
        "        if j == 'e':\n",
        "          x = i.index(j)\n",
        "          y = map.index(i)\n",
        "          self.push((x,y))\n",
        " \n",
        "    while not self.isEmpty():\n",
        "\n",
        "      location = self.pop()\n",
        "\n",
        "      if location != None:\n",
        "        x = location[0]\n",
        "        y = location[1]\n",
        "        map[y][x] = -5\n",
        "\n",
        "        find = [(x-1, y), (x+1, y), (x, y-1), (x, y+1)]\n",
        "        for i in find:\n",
        "          a = i[0]\n",
        "          b = i[1]\n",
        "          if -1 < a < scale and -1 < b < scale:\n",
        "            if map[b][a] == '0':\n",
        "              self.push((a, b))\n",
        "            elif map[b][a] == 'e':\n",
        "              break\n",
        "          else:\n",
        "            continue\n",
        "    result = [ print(i,\"\\n\") for i in map]    \n"
      ],
      "metadata": {
        "id": "9-ZRA4ik2exF"
      },
      "execution_count": 17,
      "outputs": []
    },
    {
      "cell_type": "code",
      "source": [
        "test = Maze()\n",
        "map = [['1', '1', '1', '1', '1', '1'],\n",
        "       ['e', '0', '0', '0', '0', '1'],\n",
        "       ['1', '0', '1', '0', '1', '1'],\n",
        "       ['1', '1', '1', '0', '0', 'x'],\n",
        "       ['1', '1', '1', '0', '1', '1'],\n",
        "       ['1', '1', '1', '1', '1', '1']]"
      ],
      "metadata": {
        "id": "v5T7AGnVbP2q"
      },
      "execution_count": 18,
      "outputs": []
    },
    {
      "cell_type": "code",
      "source": [
        "test.findExit(map, 6)"
      ],
      "metadata": {
        "colab": {
          "base_uri": "https://localhost:8080/"
        },
        "id": "1WkJc_EDb6Jy",
        "outputId": "6d65198e-6e22-4b71-f825-99060aac0814"
      },
      "execution_count": 19,
      "outputs": [
        {
          "output_type": "stream",
          "name": "stdout",
          "text": [
            "['1', '1', '1', '1', '1', '1'] \n",
            "\n",
            "[-5, -5, -5, -5, -5, '1'] \n",
            "\n",
            "['1', -5, '1', -5, '1', '1'] \n",
            "\n",
            "['1', '1', '1', -5, -5, 'x'] \n",
            "\n",
            "['1', '1', '1', -5, '1', '1'] \n",
            "\n",
            "['1', '1', '1', '1', '1', '1'] \n",
            "\n"
          ]
        }
      ]
    }
  ]
}