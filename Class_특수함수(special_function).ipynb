{
  "nbformat": 4,
  "nbformat_minor": 0,
  "metadata": {
    "colab": {
      "name": "Class_특수함수(special function).ipynb",
      "provenance": [],
      "collapsed_sections": [
        "eXk_8cJl_pzv",
        "An3kh2q6IL_a",
        "fjOenHLZIXu9"
      ],
      "toc_visible": true,
      "authorship_tag": "ABX9TyODt4E33eS8GJ3LYYX302sA",
      "include_colab_link": true
    },
    "kernelspec": {
      "name": "python3",
      "display_name": "Python 3"
    },
    "language_info": {
      "name": "python"
    }
  },
  "cells": [
    {
      "cell_type": "markdown",
      "metadata": {
        "id": "view-in-github",
        "colab_type": "text"
      },
      "source": [
        "<a href=\"https://colab.research.google.com/github/ESJoGithub/PythonStudy/blob/main/Class_%ED%8A%B9%EC%88%98%ED%95%A8%EC%88%98(special_function).ipynb\" target=\"_parent\"><img src=\"https://colab.research.google.com/assets/colab-badge.svg\" alt=\"Open In Colab\"/></a>"
      ]
    },
    {
      "cell_type": "markdown",
      "source": [
        "#**Class 특수함수 오버로딩 예제**"
      ],
      "metadata": {
        "id": "bCWMIyhV9ouh"
      }
    },
    {
      "cell_type": "markdown",
      "source": [
        "##**특수 함수를 정의하지 않았을 때**"
      ],
      "metadata": {
        "id": "eXk_8cJl_pzv"
      }
    },
    {
      "cell_type": "markdown",
      "source": [
        "\n",
        "\n",
        "###1.   함수를 정의하지 않은 경우\n",
        "\n",
        " > p1 = point(0, 0)\n",
        "\n",
        " > p2 = point(3, 4)일 때\n",
        "\n",
        "     p1.x = 0, p1.y = 0 \n",
        "     p2.x = 3, p1.y = 4   반환\n",
        " > add 함수를 정의하지 않았으므로 \n",
        " \n",
        " > print(p1.add(p2))와\n",
        "\n",
        " > print(p1+p2) 모두 에러 발생\n",
        "\n"
      ],
      "metadata": {
        "id": "iad29yub9-3E"
      }
    },
    {
      "cell_type": "code",
      "source": [
        "class point0:\n",
        "  def __init__(self, x=0, y=0):\n",
        "    self.x = x\n",
        "    self.y = y"
      ],
      "metadata": {
        "id": "3JGC9qvb7kM7"
      },
      "execution_count": 1,
      "outputs": []
    },
    {
      "cell_type": "code",
      "source": [
        "p1 = point0(0, 0)\n",
        "p2 = point0(3, 4)"
      ],
      "metadata": {
        "id": "J3hnjfX4zpjd"
      },
      "execution_count": 2,
      "outputs": []
    },
    {
      "cell_type": "code",
      "source": [
        "print(p1.x)\n",
        "print(p1.y)\n",
        "print(p2.x)\n",
        "print(p2.y)"
      ],
      "metadata": {
        "colab": {
          "base_uri": "https://localhost:8080/"
        },
        "id": "Fc-0zVTJ2MXX",
        "outputId": "40fee864-2ce1-4e90-9ec5-a1371c765f8e"
      },
      "execution_count": 3,
      "outputs": [
        {
          "output_type": "stream",
          "name": "stdout",
          "text": [
            "0\n",
            "0\n",
            "3\n",
            "4\n"
          ]
        }
      ]
    },
    {
      "cell_type": "code",
      "source": [
        "#print(p01.add(p02))\n",
        "\n",
        "\"\"\"'point0' object has no attribute 'add'\"\"\"                  #  point0에는 add라는 속성이 존재하지 않음"
      ],
      "metadata": {
        "colab": {
          "base_uri": "https://localhost:8080/",
          "height": 35
        },
        "id": "tuyRY2U92ruM",
        "outputId": "5e5c59ac-422e-4aa7-b00a-46e1275ff856"
      },
      "execution_count": 4,
      "outputs": [
        {
          "output_type": "execute_result",
          "data": {
            "text/plain": [
              "\"'point0' object has no attribute 'add'\""
            ],
            "application/vnd.google.colaboratory.intrinsic+json": {
              "type": "string"
            }
          },
          "metadata": {},
          "execution_count": 4
        }
      ]
    },
    {
      "cell_type": "code",
      "source": [
        "# print(p01+p02)\n",
        "\n",
        "'''unsupported operand type(s) for +: 'point0' and 'point0''' # + 는 지원되지 않는 연산자임( + 가 정의되어 있지 않음)"
      ],
      "metadata": {
        "colab": {
          "base_uri": "https://localhost:8080/",
          "height": 35
        },
        "id": "SJ0BFrFrz3OS",
        "outputId": "e53e7bd8-7d6d-44be-8816-1c7f18967f77"
      },
      "execution_count": 5,
      "outputs": [
        {
          "output_type": "execute_result",
          "data": {
            "text/plain": [
              "\"unsupported operand type(s) for +: 'point0' and 'point0\""
            ],
            "application/vnd.google.colaboratory.intrinsic+json": {
              "type": "string"
            }
          },
          "metadata": {},
          "execution_count": 5
        }
      ]
    },
    {
      "cell_type": "markdown",
      "source": [
        "\n",
        "\n",
        "###2. add 함수만 정의하고 특수함수를 정의하지 않은 경우\n",
        "\n",
        "  * x = self.x + other.y\n",
        "   \n",
        "   y = self.y + other.y 를 function add로 정의한 후\n",
        "\n",
        "   > p1 = point(1, 1)\n",
        "   \n",
        "   > P2 = point(4, 5) 라면\n",
        "\n",
        "    > print(p1.add(p2)), print(p2.add(p1))은 모두 (5, 6)반환\n",
        "    \n",
        "    > print(p1+p2) 에러 발생\n",
        "\n",
        "\n",
        "\n",
        "\n",
        "\n"
      ],
      "metadata": {
        "id": "q5PIuXCw04KC"
      }
    },
    {
      "cell_type": "code",
      "source": [
        "class point1:\n",
        "  def __init__(self, x=0, y=0):\n",
        "    self.x = x\n",
        "    self.y = y\n",
        "\n",
        "  def add(self, other):\n",
        "    x = self.x + other.x\n",
        "    y = self.y + other.y\n",
        "    return point1(x, y)\n",
        "\n",
        "  def __str__(self):                                    # 출력 형식 지정\n",
        "    return \"({0},{1})\".format(self.x, self.y)"
      ],
      "metadata": {
        "id": "dszph9NU4QhJ"
      },
      "execution_count": 6,
      "outputs": []
    },
    {
      "cell_type": "code",
      "source": [
        "p1 = point1(1, 1)\n",
        "p2 = point1(4, 5)"
      ],
      "metadata": {
        "id": "EPPNSoGV4QhK"
      },
      "execution_count": 7,
      "outputs": []
    },
    {
      "cell_type": "code",
      "source": [
        "print(p1.add(p2))\n",
        "print(p2.add(p1))"
      ],
      "metadata": {
        "colab": {
          "base_uri": "https://localhost:8080/"
        },
        "outputId": "6e910d36-7e8c-4810-abad-f11c60b1c4ae",
        "id": "vv_SMPWx4QhK"
      },
      "execution_count": 8,
      "outputs": [
        {
          "output_type": "stream",
          "name": "stdout",
          "text": [
            "(5,6)\n",
            "(5,6)\n"
          ]
        }
      ]
    },
    {
      "cell_type": "code",
      "source": [
        "#print(p11+p12)\n",
        "\n",
        "'''unsupported operand type(s) for +: 'point1' and 'point1'''"
      ],
      "metadata": {
        "colab": {
          "base_uri": "https://localhost:8080/",
          "height": 35
        },
        "outputId": "4f84806d-8570-4d53-f837-ef6dd15820eb",
        "id": "Jtgp96Gq4QhK"
      },
      "execution_count": 9,
      "outputs": [
        {
          "output_type": "execute_result",
          "data": {
            "text/plain": [
              "\"unsupported operand type(s) for +: 'point1' and 'point1\""
            ],
            "application/vnd.google.colaboratory.intrinsic+json": {
              "type": "string"
            }
          },
          "metadata": {},
          "execution_count": 9
        }
      ]
    },
    {
      "cell_type": "markdown",
      "source": [
        "###3. '&#95;&#95;add&#95;&#95;'를 특수함수로 정의한 경우\n",
        "\n",
        "  * x = self.x + other.y\n",
        "   \n",
        "   y = self.y + other.y 로 정의하고\n",
        "\n",
        "   > p1 = point(1, 1)\n",
        "   \n",
        "   > P2 = point(4, 5) 라면\n",
        "\n",
        "    > print(p1.&#95;&#95;add&#95;&#95;(p2))\n",
        "    \n",
        "    > print(p2.&#95;&#95;add&#95;&#95;(p1))\n",
        "    \n",
        "    > print(p1+p2) 모두 (5, 6)반환"
      ],
      "metadata": {
        "id": "tiZ5AYOb0eHI"
      }
    },
    {
      "cell_type": "code",
      "source": [
        "class Point2:\n",
        "  def __init__(self, x = 0, y = 0):\n",
        "    self.x = x\n",
        "    self.y = y\n",
        "  def __add__(self, other):\n",
        "    x = self.x + other.x\n",
        "    y = self.y + other.y\n",
        "    return Point2(x, y)\n",
        "  def __str__(self):\n",
        "    return \"({0},{1})\".format(self.x, self.y)"
      ],
      "metadata": {
        "id": "eUmsXtG_6xRE"
      },
      "execution_count": 10,
      "outputs": []
    },
    {
      "cell_type": "code",
      "source": [
        "p1 = Point2(1,1)\n",
        "p2 = Point2(4,5)"
      ],
      "metadata": {
        "id": "byP9pfUl7hwm"
      },
      "execution_count": 11,
      "outputs": []
    },
    {
      "cell_type": "code",
      "source": [
        "print(p1.__add__(p2))\n",
        "print(p2.__add__(p1))\n",
        "print(p1+p2)"
      ],
      "metadata": {
        "colab": {
          "base_uri": "https://localhost:8080/"
        },
        "id": "wiEhw0oM7rYg",
        "outputId": "f2027962-8277-4924-9e0b-cda1eef5c147"
      },
      "execution_count": 12,
      "outputs": [
        {
          "output_type": "stream",
          "name": "stdout",
          "text": [
            "(5,6)\n",
            "(5,6)\n",
            "(5,6)\n"
          ]
        }
      ]
    },
    {
      "cell_type": "markdown",
      "source": [
        "##**특수함수를 활용한 오버로딩**"
      ],
      "metadata": {
        "id": "mZHxIvIZ8Bw7"
      }
    },
    {
      "cell_type": "markdown",
      "source": [
        "### 1. 산술연산자 오버로딩"
      ],
      "metadata": {
        "id": "An3kh2q6IL_a"
      }
    },
    {
      "cell_type": "code",
      "source": [
        "class Point:\n",
        "  def __init__(self, x = 0, y = 0):\n",
        "    self.x = x\n",
        "    self.y = y\n",
        "\n",
        "  def __str__(self):\n",
        "    return \"({0}, {1})\".format(self.x, self.y)\n",
        "  \n",
        "  def __add__(self, other):\n",
        "    x = self.x + other.x\n",
        "    y = self.y + other.y\n",
        "    return Point(x, y)\n",
        "\n",
        "  def __sub__(self, other):\n",
        "    x = self.x - other.x\n",
        "    y = self.y - other.y\n",
        "    return Point(x, y)\n",
        "\n",
        "  def __mul__(self, other):\n",
        "    x = self.x * other.x\n",
        "    y = self.y * other.y\n",
        "    return Point(x, y)\n",
        "\n",
        "  def __pow__(self, other):\n",
        "    x = self.x ** other.x\n",
        "    y = self.y ** other.y\n",
        "    return Point(x, y)\n",
        "\n",
        "  def __truediv__(self, other):\n",
        "    x = self.x / other.x\n",
        "    y = self.y / other.y\n",
        "    return Point(x, y)\n",
        "\n",
        "  def __floordiv__(self, other):\n",
        "    x = self.x // other.x\n",
        "    y = self.y // other.y\n",
        "    return Point(x, y)\n",
        "\n",
        "  def __mod__(self, other):\n",
        "    x = self.x % other.x\n",
        "    y = self.y % other.y\n",
        "    return Point(x, y)"
      ],
      "metadata": {
        "id": "8_shHstK8L92"
      },
      "execution_count": 13,
      "outputs": []
    },
    {
      "cell_type": "markdown",
      "source": [
        "---\n",
        "p1 = Point(1, 1)\n",
        "\n",
        "p2 = Point(4, 5)\n",
        "\n",
        "p3 = Point(20, 30)\n",
        "\n",
        "p4 = Point(8, 4)"
      ],
      "metadata": {
        "id": "hD7UvGI09ksR"
      }
    },
    {
      "cell_type": "code",
      "source": [
        "p1 = Point(1,1)\n",
        "p2 = Point(4,5)\n",
        "\n",
        "p3 = Point(20, 30)\n",
        "p4 = Point(8, 4)"
      ],
      "metadata": {
        "id": "Q2VezHW7Bv3P"
      },
      "execution_count": 14,
      "outputs": []
    },
    {
      "cell_type": "markdown",
      "source": [
        "####1.   Addition :\n",
        "  > **p1 + p2**\n",
        "\n",
        "  > p1.&#95;&#95;add__(p2)\n",
        "\n",
        "  모두 (5,6) 반환"
      ],
      "metadata": {
        "id": "km-tj0GK9CqL"
      }
    },
    {
      "cell_type": "code",
      "source": [
        "print(\"p1 =\",p1)\n",
        "print(\"p2 =\",p2)\n",
        "print(\"---\")\n",
        "print(\"p1 + p2 = \", p1+p2)\n",
        "print(\"p1.__add__(p2) = \", p1.__add__(p2))"
      ],
      "metadata": {
        "colab": {
          "base_uri": "https://localhost:8080/"
        },
        "id": "CJN3JTgi9iUd",
        "outputId": "c64044b3-f66e-4d1c-dc9a-5f332ab46dfa"
      },
      "execution_count": 15,
      "outputs": [
        {
          "output_type": "stream",
          "name": "stdout",
          "text": [
            "p1 = (1, 1)\n",
            "p2 = (4, 5)\n",
            "---\n",
            "p1 + p2 =  (5, 6)\n",
            "p1.__add__(p2) =  (5, 6)\n"
          ]
        }
      ]
    },
    {
      "cell_type": "markdown",
      "source": [
        "####2.   Substraction :\n",
        "  > **p1 - p2**\n",
        "\n",
        "  > p1.&#95;&#95;sub__(p2)\n",
        "\n",
        "  모두 (-3,-4) 반환"
      ],
      "metadata": {
        "id": "elXf4nb3BMnP"
      }
    },
    {
      "cell_type": "code",
      "source": [
        "print(\"p1 =\",p1)\n",
        "print(\"p2 =\",p2)\n",
        "print(\"---\")\n",
        "print(\"p1 - p2 = \", p1-p2)\n",
        "print(\"p1.__sub__(p2) = \", p1.__sub__(p2))"
      ],
      "metadata": {
        "colab": {
          "base_uri": "https://localhost:8080/"
        },
        "outputId": "b386f0e3-30a5-4cf3-d429-8a5eb1fd6505",
        "id": "g7I-kum5BMnQ"
      },
      "execution_count": 16,
      "outputs": [
        {
          "output_type": "stream",
          "name": "stdout",
          "text": [
            "p1 = (1, 1)\n",
            "p2 = (4, 5)\n",
            "---\n",
            "p1 - p2 =  (-3, -4)\n",
            "p1.__sub__(p2) =  (-3, -4)\n"
          ]
        }
      ]
    },
    {
      "cell_type": "markdown",
      "source": [
        "####3.  Multiplication :\n",
        "  > **p2 * p4**\n",
        "\n",
        "  > p2.&#95;&#95;mul__(p4)\n",
        "\n",
        "  모두 (32, 20) 반환"
      ],
      "metadata": {
        "id": "TTEJhBsQCZ4X"
      }
    },
    {
      "cell_type": "code",
      "source": [
        "print(\"p2 =\",p2)\n",
        "print(\"p4 =\",p4)\n",
        "print(\"---\")\n",
        "print(\"p2 * p4 = \", p2*p4)\n",
        "print(\"p2.__mul__(p4) = \", p2.__mul__(p4))"
      ],
      "metadata": {
        "colab": {
          "base_uri": "https://localhost:8080/"
        },
        "outputId": "7a0806ec-d926-4930-9779-b43725d6bf8a",
        "id": "S03uxCWNCZ4Y"
      },
      "execution_count": 17,
      "outputs": [
        {
          "output_type": "stream",
          "name": "stdout",
          "text": [
            "p2 = (4, 5)\n",
            "p4 = (8, 4)\n",
            "---\n",
            "p2 * p4 =  (32, 20)\n",
            "p2.__mul__(p4) =  (32, 20)\n"
          ]
        }
      ]
    },
    {
      "cell_type": "markdown",
      "source": [
        "####4. Power :\n",
        "  > **p2 &#42;&#42; p4**\n",
        "\n",
        "  > p2.&#95;&#95;pow__(p4)\n",
        "\n",
        "  모두 (65536, 625) 반환"
      ],
      "metadata": {
        "id": "U3aI3SXGC_MR"
      }
    },
    {
      "cell_type": "code",
      "source": [
        "print(\"p2 =\",p2)\n",
        "print(\"p4 =\",p4)\n",
        "print(\"---\")\n",
        "print(\"p2 ** p4 = \", p2**p4)\n",
        "print(\"p2.__pow__(p4) = \", p2.__pow__(p4))"
      ],
      "metadata": {
        "colab": {
          "base_uri": "https://localhost:8080/"
        },
        "outputId": "7d835fe5-b640-41f5-b50b-66ee2b9fa8bd",
        "id": "XEZmstjpC_MR"
      },
      "execution_count": 18,
      "outputs": [
        {
          "output_type": "stream",
          "name": "stdout",
          "text": [
            "p2 = (4, 5)\n",
            "p4 = (8, 4)\n",
            "---\n",
            "p2 ** p4 =  (65536, 625)\n",
            "p2.__pow__(p4) =  (65536, 625)\n"
          ]
        }
      ]
    },
    {
      "cell_type": "markdown",
      "source": [
        "####5. Division :\n",
        "  > **p3 / p4**\n",
        "\n",
        "  > p3.&#95;&#95;truediv__(p4)\n",
        "\n",
        "  모두 (2.5, 7.5) 반환"
      ],
      "metadata": {
        "id": "qJzxTb75Fe62"
      }
    },
    {
      "cell_type": "code",
      "source": [
        "print(\"p3 =\",p3)\n",
        "print(\"p4 =\",p4)\n",
        "print(\"---\")\n",
        "print(\"p3 / p4 = \", p3/p4)\n",
        "print(\"p3.__truediv__(p4) = \", p3.__truediv__(p4))"
      ],
      "metadata": {
        "colab": {
          "base_uri": "https://localhost:8080/"
        },
        "outputId": "6f7dab99-7fba-47f8-e6d8-26e277d0954d",
        "id": "a_nuPLvIFe62"
      },
      "execution_count": 19,
      "outputs": [
        {
          "output_type": "stream",
          "name": "stdout",
          "text": [
            "p3 = (20, 30)\n",
            "p4 = (8, 4)\n",
            "---\n",
            "p3 / p4 =  (2.5, 7.5)\n",
            "p3.__truediv__(p4) =  (2.5, 7.5)\n"
          ]
        }
      ]
    },
    {
      "cell_type": "markdown",
      "source": [
        "####6. Floor Division :\n",
        "  > **p3 // p4**\n",
        "\n",
        "  > p3.&#95;&#95;floordiv__(p4)\n",
        "\n",
        "  모두 (2, 7) 반환"
      ],
      "metadata": {
        "id": "poOxs40UHmY9"
      }
    },
    {
      "cell_type": "code",
      "source": [
        "print(\"p3 =\",p3)\n",
        "print(\"p4 =\",p4)\n",
        "print(\"---\")\n",
        "print(\"p3 // p4 = \", p3//p4)\n",
        "print(\"p3.__floordiv__(p4) = \", p3.__floordiv__(p4))"
      ],
      "metadata": {
        "colab": {
          "base_uri": "https://localhost:8080/"
        },
        "outputId": "20eebbb3-5d38-436f-c2cf-74ebefdcf137",
        "id": "Pd1PNGaDHmY9"
      },
      "execution_count": 20,
      "outputs": [
        {
          "output_type": "stream",
          "name": "stdout",
          "text": [
            "p3 = (20, 30)\n",
            "p4 = (8, 4)\n",
            "---\n",
            "p3 // p4 =  (2, 7)\n",
            "p3.__floordiv__(p4) =  (2, 7)\n"
          ]
        }
      ]
    },
    {
      "cell_type": "markdown",
      "source": [
        "####7. Remainder(modulo) :\n",
        "  > **p3 % p4**\n",
        "\n",
        "  > p3.&#95;&#95;mod__(p4)\n",
        "\n",
        "  모두 (4, 2) 반환"
      ],
      "metadata": {
        "id": "M6bT_YMnHyGN"
      }
    },
    {
      "cell_type": "code",
      "source": [
        "print(\"p3 =\",p3)\n",
        "print(\"p4 =\",p4)\n",
        "print(\"---\")\n",
        "print(\"p3 % p4 = \", p3%p4)\n",
        "print(\"p3.__mod__(p4) = \", p3.__mod__(p4))"
      ],
      "metadata": {
        "colab": {
          "base_uri": "https://localhost:8080/"
        },
        "outputId": "6c4c76e2-5dba-496a-b409-2a6c8a20b28d",
        "id": "IQ822e6yHyGO"
      },
      "execution_count": 21,
      "outputs": [
        {
          "output_type": "stream",
          "name": "stdout",
          "text": [
            "p3 = (20, 30)\n",
            "p4 = (8, 4)\n",
            "---\n",
            "p3 % p4 =  (4, 2)\n",
            "p3.__mod__(p4) =  (4, 2)\n"
          ]
        }
      ]
    },
    {
      "cell_type": "markdown",
      "source": [
        "### 2. 비트연산자 오버로딩"
      ],
      "metadata": {
        "id": "fjOenHLZIXu9"
      }
    },
    {
      "cell_type": "code",
      "source": [
        "class PointBit:\n",
        "  def __init__(self, x = 0, y = 0):\n",
        "    self.x = x\n",
        "    self.y = y\n",
        "\n",
        "  def __str__(self):\n",
        "    return \"({0}, {1})\".format(self.x, self.y)\n",
        "  \n",
        "  def __lshift__(self, other):\n",
        "    x = self.x << other.x\n",
        "    y = self.y << other.y\n",
        "    return PointBit(x, y)\n",
        "  \n",
        "  def __rshift__(self, other):\n",
        "    x = self.x >> other.x\n",
        "    y = self.y >> other.y\n",
        "    return PointBit(x, y)\n",
        "\n",
        "  def __and__(self, other):\n",
        "    x = self.x & other.x\n",
        "    y = self.y & other.y\n",
        "    return PointBit(x, y)\n",
        "\n",
        "  def __or__(self, other):\n",
        "    x = self.x | other.x\n",
        "    y = self.y | other.y\n",
        "    return PointBit(x, y)\n",
        "\n",
        "  def __xor__(self, other):\n",
        "    x = self.x ^ other.x\n",
        "    y = self.y ^ other.y\n",
        "    return PointBit(x, y)\n",
        "\n",
        "  def __invert__(self):\n",
        "    x = ~self.x\n",
        "    y = ~self.y\n",
        "    return PointBit(x, y)"
      ],
      "metadata": {
        "id": "oLFXvo9kIXu-"
      },
      "execution_count": 22,
      "outputs": []
    },
    {
      "cell_type": "markdown",
      "source": [
        "---\n",
        "p1 = PointBit(12, 14)\n",
        "\n",
        "p2 = PointBit(2, 1)"
      ],
      "metadata": {
        "id": "KvgngwpAIXu-"
      }
    },
    {
      "cell_type": "code",
      "source": [
        "p1 = PointBit(12,14)\n",
        "p2 = PointBit(2, 1)"
      ],
      "metadata": {
        "id": "e4D6YNsJIXu-"
      },
      "execution_count": 23,
      "outputs": []
    },
    {
      "cell_type": "markdown",
      "source": [
        "####1.   Bitwise Left Shift :\n",
        "  > **p1 << p2**\n",
        "\n",
        "  > p1.&#95;&#95;lshift__(p2)\n",
        "     \n",
        "     x: 12 << 2  12*(2**2) = 48\n",
        "     y: 14 << 1  14*(2*1) = 28 \n",
        "     \n",
        "  모두 (48, 28) 반환"
      ],
      "metadata": {
        "id": "eWC6ekuKIXu-"
      }
    },
    {
      "cell_type": "code",
      "source": [
        "print(\"p1 =\",p1)\n",
        "print(\"p2 =\",p2)\n",
        "print(\"---\")\n",
        "print(\"p1 << p2 = \", p1<<p2)\n",
        "print(\"p1.__lshift__(p2) = \", p1.__lshift__(p2))"
      ],
      "metadata": {
        "colab": {
          "base_uri": "https://localhost:8080/"
        },
        "outputId": "0a64c11c-1af4-4abb-d9fb-91988d8ede76",
        "id": "mpAr1dVHIXu-"
      },
      "execution_count": 24,
      "outputs": [
        {
          "output_type": "stream",
          "name": "stdout",
          "text": [
            "p1 = (12, 14)\n",
            "p2 = (2, 1)\n",
            "---\n",
            "p1 << p2 =  (48, 28)\n",
            "p1.__lshift__(p2) =  (48, 28)\n"
          ]
        }
      ]
    },
    {
      "cell_type": "markdown",
      "source": [
        "####2.   Bitwise Right Shift :\n",
        "  > **p1 >> p2**\n",
        "\n",
        "  > p1.&#95;&#95;rshift__(p2)\n",
        "     \n",
        "     x: 12 >> 2  12*(2**-2) = 3\n",
        "     y: 14 >> 1  14*(2*-1) = 7 \n",
        "     \n",
        "  모두 (3, 7) 반환"
      ],
      "metadata": {
        "id": "gBG3eiMwLC6l"
      }
    },
    {
      "cell_type": "code",
      "source": [
        "print(\"p1 =\",p1)\n",
        "print(\"p2 =\",p2)\n",
        "print(\"---\")\n",
        "print(\"p1 >> p2 = \", p1>>p2)\n",
        "print(\"p1.__rshift__(p2) = \", p1.__rshift__(p2))"
      ],
      "metadata": {
        "colab": {
          "base_uri": "https://localhost:8080/"
        },
        "outputId": "15199855-39df-4812-e7d0-a2e1692edd85",
        "id": "xvn4juVYLC6l"
      },
      "execution_count": 25,
      "outputs": [
        {
          "output_type": "stream",
          "name": "stdout",
          "text": [
            "p1 = (12, 14)\n",
            "p2 = (2, 1)\n",
            "---\n",
            "p1 >> p2 =  (3, 7)\n",
            "p1.__rshift__(p2) =  (3, 7)\n"
          ]
        }
      ]
    },
    {
      "cell_type": "markdown",
      "source": [
        "####3.   Bitwise AND :\n",
        "  > **p1 & p2**\n",
        "\n",
        "  > p1.&#95;&#95;rshift__(p2)\n",
        "     \n",
        "     x: 12 & 2  00001100 & 00000010 = 00000000 -> 0\n",
        "     y: 14 & 1  00001110 & 00000001 = 00000000 -> 0\n",
        "     \n",
        "  모두 (0, 0) 반환"
      ],
      "metadata": {
        "id": "ctAikXxgLjrs"
      }
    },
    {
      "cell_type": "code",
      "source": [
        "print(\"p1 =\",p1)\n",
        "print(\"p2 =\",p2)\n",
        "print(\"---\")\n",
        "print(\"p1 & p2 = \", p1&p2)\n",
        "print(\"p1.__and__(p2) = \", p1.__and__(p2))"
      ],
      "metadata": {
        "colab": {
          "base_uri": "https://localhost:8080/"
        },
        "outputId": "0f9d2ef0-1d22-480a-f88d-f6ae427fcca7",
        "id": "8lB6XfcnLjrs"
      },
      "execution_count": 26,
      "outputs": [
        {
          "output_type": "stream",
          "name": "stdout",
          "text": [
            "p1 = (12, 14)\n",
            "p2 = (2, 1)\n",
            "---\n",
            "p1 & p2 =  (0, 0)\n",
            "p1.__and__(p2) =  (0, 0)\n"
          ]
        }
      ]
    },
    {
      "cell_type": "markdown",
      "source": [
        "####4.   Bitwise OR :\n",
        "  > **p1 | p2**\n",
        "\n",
        "  > p1.&#95;&#95;or__(p2)\n",
        "     \n",
        "     x: 12 & 2  00001100 | 00000010 = 00001110 -> 14\n",
        "     y: 14 & 1  00001110 | 00000001 = 00001111 -> 15\n",
        "     \n",
        "  모두 (14, 15) 반환"
      ],
      "metadata": {
        "id": "r2SJe1CkNCbd"
      }
    },
    {
      "cell_type": "code",
      "source": [
        "print(\"p1 =\",p1)\n",
        "print(\"p2 =\",p2)\n",
        "print(\"---\")\n",
        "print(\"p1 | p2 = \", p1|p2)\n",
        "print(\"p1.__or__(p2) = \", p1.__or__(p2))"
      ],
      "metadata": {
        "colab": {
          "base_uri": "https://localhost:8080/"
        },
        "outputId": "ca09f6db-504b-4d99-abb4-c4b07c1430e5",
        "id": "hK6Isd70NCbd"
      },
      "execution_count": 27,
      "outputs": [
        {
          "output_type": "stream",
          "name": "stdout",
          "text": [
            "p1 = (12, 14)\n",
            "p2 = (2, 1)\n",
            "---\n",
            "p1 | p2 =  (14, 15)\n",
            "p1.__or__(p2) =  (14, 15)\n"
          ]
        }
      ]
    },
    {
      "cell_type": "markdown",
      "source": [
        "####5.   Bitwise XOR :\n",
        "  > **P1 ^ P2**\n",
        "\n",
        "  > p1.&#95;&#95;xor__(p2)\n",
        "     \n",
        "     x: 12 ^ 2  00001100 ^ 00000010 = 00001110 -> 14\n",
        "     y: 14 ^ 1  00001110 ^ 00000001 = 00001111 -> 15\n",
        "     \n",
        "  모두 (14, 15) 반환"
      ],
      "metadata": {
        "id": "g41dOdpyOAAM"
      }
    },
    {
      "cell_type": "code",
      "source": [
        "print(\"p1 =\",p1)\n",
        "print(\"p2 =\",p2)\n",
        "print(\"---\")\n",
        "print(\"p1 ^ p2 = \", p1^p2)\n",
        "print(\"p1.__xor__(p2) = \", p1.__xor__(p2))"
      ],
      "metadata": {
        "colab": {
          "base_uri": "https://localhost:8080/"
        },
        "outputId": "b611366e-0e87-4cf5-b442-c987bb44ee7b",
        "id": "MLiPDwBrOAAM"
      },
      "execution_count": 28,
      "outputs": [
        {
          "output_type": "stream",
          "name": "stdout",
          "text": [
            "p1 = (12, 14)\n",
            "p2 = (2, 1)\n",
            "---\n",
            "p1 ^ p2 =  (14, 15)\n",
            "p1.__xor__(p2) =  (14, 15)\n"
          ]
        }
      ]
    },
    {
      "cell_type": "markdown",
      "source": [
        "####6.   Bitwise NOT :\n",
        "  > **~p1**\n",
        "\n",
        "  > p1.&#95;&#95;invert__()\n",
        "     \n",
        "     x: ~12  ~00001100 = 11110011 -> -(12+1) = -13\n",
        "     y: ~14  ~00001110 = 11110001 -> -(14+1) = -15\n",
        "     \n",
        "   (-13, -15) 반환\n",
        "\n",
        "\n",
        "  > **~p2**\n",
        "\n",
        "  > p2.&#95;&#95;invert__()\n",
        "     \n",
        "     x: ~2  ~00000010 = 11111101 -> -(2+1) = -3\n",
        "     y: ~1  ~00000001 = 11111110 -> -(1+1) = -2\n",
        "\n",
        "   (-3, -2) 반환"
      ],
      "metadata": {
        "id": "_mILeK71OZOT"
      }
    },
    {
      "cell_type": "code",
      "source": [
        "print(\"p1 =\",p1)\n",
        "print(\"p2 =\",p2)\n",
        "print(\"---\")\n",
        "print(\"~p1 = \", ~p1)\n",
        "print(\"p1.__invert__() = \", p1.__invert__())\n",
        "print(\"~p2 = \", ~p2)\n",
        "print(\"p2.__invert__() = \", p2.__invert__())"
      ],
      "metadata": {
        "colab": {
          "base_uri": "https://localhost:8080/"
        },
        "outputId": "0b3832e5-1243-423c-ddcd-8733d57cb5e2",
        "id": "X1O9O83MOZOU"
      },
      "execution_count": 32,
      "outputs": [
        {
          "output_type": "stream",
          "name": "stdout",
          "text": [
            "p1 = (12, 14)\n",
            "p2 = (2, 1)\n",
            "---\n",
            "~p1 =  (-13, -15)\n",
            "p1.__invert__() =  (-13, -15)\n",
            "~p2 =  (-3, -2)\n",
            "p2.__invert__() =  (-3, -2)\n"
          ]
        }
      ]
    },
    {
      "cell_type": "markdown",
      "source": [
        "### 3. 관계연산자 오버로딩"
      ],
      "metadata": {
        "id": "aUVlYQzNe07g"
      }
    },
    {
      "cell_type": "code",
      "source": [
        "class PointR:\n",
        "  def __init__(self, x = 0, y = 0):\n",
        "    self.x = x\n",
        "    self.y = y\n",
        " \n",
        "  def __str__(self):\n",
        "    return \"({0}, {1})\".format(self.x, self.y)\n",
        "\n",
        "  def __lt__(self, other):\n",
        "    s = (self.x**2+self.y**2)**0.5\n",
        "    o = (other.x**2+other.y**2)**0.5\n",
        "    return s < o\n",
        "  \n",
        "  def __le__(self, other):\n",
        "    s = (self.x**2+self.y**2)**0.5\n",
        "    o = (other.x**2+other.y**2)**0.5\n",
        "    return s <= o\n",
        "\n",
        "  def __eq__(self, other):\n",
        "\n",
        "    return self.x == other.x and self.y == other.y\n",
        "\n",
        "  def __ne__(self, other):\n",
        "   \n",
        "    return self.x != other.x and self.y != other.y\n",
        "\n",
        "  def __gt__(self, other):\n",
        "    s = (self.x**2+self.y**2)**0.5\n",
        "    o = (other.x**2+other.y**2)**0.5\n",
        "    return s > o\n",
        "\n",
        "  def __ge__(self, other):\n",
        "    s = (self.x**2+self.y**2)**0.5\n",
        "    o = (other.x**2+other.y**2)**0.5\n",
        "    return s >= o"
      ],
      "metadata": {
        "id": "aFWslwDIe07g"
      },
      "execution_count": 51,
      "outputs": []
    },
    {
      "cell_type": "markdown",
      "source": [
        "---\n",
        "p1 = PointR(3, 4)\n",
        "\n",
        "p2 = PointR(4, 3)\n",
        "\n",
        "p3 = PointR(1, 8)\n",
        "\n",
        "p4 = PointR(4, 2)\n",
        "\n",
        "p5 = PointR(3, 4)"
      ],
      "metadata": {
        "id": "CFQxgaaXe07g"
      }
    },
    {
      "cell_type": "code",
      "source": [
        "p1 = PointR(3, 4)\n",
        "p2 = PointR(4, 3)\n",
        "p3 = PointR(1, 8)\n",
        "p4 = PointR(4, 2)\n",
        "p5 = PointR(3, 4)"
      ],
      "metadata": {
        "id": "RtYuCZZte07g"
      },
      "execution_count": 58,
      "outputs": []
    },
    {
      "cell_type": "markdown",
      "source": [
        "####1.   Less than / Greater than:\n",
        " : 원점에서 p3까지의 길이와 p4까지의 길이를 비교하도록 함수를 정의함\n",
        "***\n",
        "\n",
        "   1-1. Less than\n",
        "  > **p3 < p4**\n",
        "\n",
        "  > p3.&#95;&#95;lt__(p4)\n",
        "\n",
        "  1-2. Greater than\n",
        "\n",
        "  > **p3 > p4**\n",
        "\n",
        "  > p3.&#95;&#95;gt__(p4)\n",
        "\n",
        "\n",
        "     \n",
        "     (1**2 + 8**2)**0.5 = (1+64)**0.5 => 65의 제곱근\n",
        "     (4**2 + 2**2)**0.5 = (16+4)**0.5 => 20의 제곱근\n",
        "     65**0.5 > 20*0.5이므로\n",
        "     \n",
        "   **p3 < p4, p3.&#95;&#95;lt__(p4)는 모두 Flase 반환**\n",
        "\n",
        "   **p3 > p4, p3.&#95;&#95;gt__(p4)는 모두 True 반환**"
      ],
      "metadata": {
        "id": "vyAgd8kJe07g"
      }
    },
    {
      "cell_type": "code",
      "source": [
        "print(\"p3 =\",p3)\n",
        "print(\"p4 =\",p4)\n",
        "print(\"---\")\n",
        "print(\"p3 < p4 = \", p3<p4)\n",
        "print(\"p3.__lt__(p4) = \", p3.__lt__(p4))\n",
        "print(\"---\")\n",
        "print(\"p3 > p4 = \", p3>p4)\n",
        "print(\"p3.__lt__(p4) = \", p3.__gt__(p4))"
      ],
      "metadata": {
        "colab": {
          "base_uri": "https://localhost:8080/"
        },
        "outputId": "b3ca0024-dff5-4277-edb6-b0f0d784d329",
        "id": "pMOdYlEGe07h"
      },
      "execution_count": 56,
      "outputs": [
        {
          "output_type": "stream",
          "name": "stdout",
          "text": [
            "p3 = (1, 8)\n",
            "p4 = (4, 2)\n",
            "---\n",
            "p3 < p4 =  False\n",
            "p3.__lt__(p4) =  False\n",
            "---\n",
            "p3 > p4 =  True\n",
            "p3.__lt__(p4) =  True\n"
          ]
        }
      ]
    },
    {
      "cell_type": "markdown",
      "source": [
        "####2.   Less than or equal to / Greater than or equal to:\n",
        " : 원점에서 p1까지의 길이와 p2까지의 길이를 비교하도록 함수를 정의함\n",
        "***\n",
        "  2-1. Less than or equal to\n",
        "\n",
        "  > **p1 <= p2**\n",
        "\n",
        "  > p1.&#95;&#95;le__(p2)\n",
        "\n",
        "  2-2. Greater than or equal to\n",
        "\n",
        "  > **p1 >= p2**\n",
        "\n",
        "  > p1.&#95;&#95;ge__(p2)\n",
        "     \n",
        "     (3**2 + 4**2)**0.5 = 5\n",
        "     (4**2 + 3**2)**0.5 = 5\n",
        "     5 = 5이므로\n",
        "     \n",
        "   **p1 <= p2, p1.&#95;&#95;le__(p2), p1 >= p2, p1.&#95;&#95;ge__(p2) 모두 True 반환**"
      ],
      "metadata": {
        "id": "QS15ZNsOrgok"
      }
    },
    {
      "cell_type": "code",
      "source": [
        "print(\"p1 =\",p1)\n",
        "print(\"p2 =\",p2)\n",
        "print(\"---\")\n",
        "print(\"p1 <= p2 = \", p1<=p2)\n",
        "print(\"p1.__le__(p2) = \", p1.__le__(p2))\n",
        "print(\"---\")\n",
        "print(\"p1 >= p2 = \", p1<=p2)\n",
        "print(\"p1.__ge__(p2) = \", p1.__le__(p2))"
      ],
      "metadata": {
        "colab": {
          "base_uri": "https://localhost:8080/"
        },
        "outputId": "d2aef164-2836-4d72-f55e-0ba24d935407",
        "id": "YXSI_nwGrgon"
      },
      "execution_count": 59,
      "outputs": [
        {
          "output_type": "stream",
          "name": "stdout",
          "text": [
            "p1 = (3, 4)\n",
            "p2 = (4, 3)\n",
            "---\n",
            "p1 <= p2 =  True\n",
            "p1.__le__(p2) =  True\n",
            "---\n",
            "p1 >= p2 =  True\n",
            "p1.__ge__(p2) =  True\n"
          ]
        }
      ]
    },
    {
      "cell_type": "markdown",
      "source": [
        "####3.   equal to:\n",
        " : p1의 x, y 좌표, p2의 x, y 좌표의 동일 여부를 판단하도록 정의함\n",
        "***\n",
        "\n",
        "  > **p1 == p2**\n",
        "\n",
        "  > p1.&#95;&#95;eq__(p2)\n",
        "  \n",
        "   *p1은 (3,4), p2는 (4,3)이므로 모두 False 반환*\n",
        "  \n",
        "  > **p1 == p5**\n",
        "\n",
        "  > p1.&#95;&#95;eq__(p5)\n",
        "  \n",
        "   *p1이 (3,4), p5도 (3,4)이므로 모두 True 반환*\n",
        "     \n"
      ],
      "metadata": {
        "id": "BfkgayuNuRrD"
      }
    },
    {
      "cell_type": "code",
      "source": [
        "print(\"p1 =\",p1)\n",
        "print(\"p2 =\",p2)\n",
        "print(\"p5 =\",p5)\n",
        "print(\"---\")\n",
        "print(\"p1 == p2 = \", p1==p2)\n",
        "print(\"p1.__eq__(p2) = \", p1.__eq__(p2))\n",
        "print(\"---\")\n",
        "print(\"p1 == p5 = \", p1==p5)\n",
        "print(\"p1.__eq__(p5) = \", p1.__eq__(p5))"
      ],
      "metadata": {
        "colab": {
          "base_uri": "https://localhost:8080/"
        },
        "outputId": "84219c52-313f-4bba-bbdc-1bf8bc21d5d9",
        "id": "bRlC5HuOuRrD"
      },
      "execution_count": 60,
      "outputs": [
        {
          "output_type": "stream",
          "name": "stdout",
          "text": [
            "p1 = (3, 4)\n",
            "p2 = (4, 3)\n",
            "p5 = (3, 4)\n",
            "---\n",
            "p1 == p2 =  False\n",
            "p1.__eq__(p2) =  False\n",
            "---\n",
            "p1 == p5 =  True\n",
            "p1.__eq__(p5) =  True\n"
          ]
        }
      ]
    },
    {
      "cell_type": "markdown",
      "source": [
        "####4.   Not equal to:\n",
        " : p1의 x, y 좌표, p2의 x, y 좌표의 동일 여부를 판단하도록 정의함\n",
        "***\n",
        "\n",
        "  > **p1 != p2**\n",
        "\n",
        "  > p1.&#95;&#95;ne__(p2)\n",
        "  \n",
        "   *p1은 (3,4), p2는 (4,3)이므로 모두 True 반환*\n",
        "  \n",
        "  > **p1 != p5**\n",
        "\n",
        "  > p1.&#95;&#95;ne__(p5)\n",
        "  \n",
        "   *p1이 (3,4), p5도 (3,4)이므로 모두 False 반환*\n",
        "     \n"
      ],
      "metadata": {
        "id": "HJ2Z_BfpxIHz"
      }
    },
    {
      "cell_type": "code",
      "source": [
        "print(\"p1 =\",p1)\n",
        "print(\"p2 =\",p2)\n",
        "print(\"p5 =\",p5)\n",
        "print(\"---\")\n",
        "print(\"p1 != p2 = \", p1!=p2)\n",
        "print(\"p1.__ne__(p2) = \", p1.__ne__(p2))\n",
        "print(\"---\")\n",
        "print(\"p1 != p5 = \", p1!=p5)\n",
        "print(\"p1.__ne__(p5) = \", p1.__ne__(p5))"
      ],
      "metadata": {
        "colab": {
          "base_uri": "https://localhost:8080/"
        },
        "outputId": "98ee1691-8a3f-4e6e-ed9e-4a8696133633",
        "id": "h6M6Xh8kxMaa"
      },
      "execution_count": 61,
      "outputs": [
        {
          "output_type": "stream",
          "name": "stdout",
          "text": [
            "p1 = (3, 4)\n",
            "p2 = (4, 3)\n",
            "p5 = (3, 4)\n",
            "---\n",
            "p1 != p2 =  True\n",
            "p1.__ne__(p2) =  True\n",
            "---\n",
            "p1 != p5 =  False\n",
            "p1.__ne__(p5) =  False\n"
          ]
        }
      ]
    }
  ]
}