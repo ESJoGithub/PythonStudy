{
 "cells": [
  {
   "cell_type": "markdown",
   "id": "4e3b4d66",
   "metadata": {},
   "source": [
    "# 이미지 데이터 분석"
   ]
  },
  {
   "cell_type": "markdown",
   "id": "a1a3d15c",
   "metadata": {},
   "source": [
    "## Keras를 활용한 얼리스톱핑 / TensorBoard를 사용한 분석 모니터링\n",
    "---\n",
    "과적합으로 인한 예측력 감소 방지를 위해 얼리 스톱핑(early stopping)이라는 테크닉을 사용한다.\n",
    "\n",
    "학습 기록을 log_model에 저장하고 텐서보드로 모니터함"
   ]
  },
  {
   "cell_type": "markdown",
   "id": "b66ab7d0",
   "metadata": {},
   "source": [
    "### 이미지 불러오기"
   ]
  },
  {
   "cell_type": "markdown",
   "id": "d0f94cb4",
   "metadata": {},
   "source": [
    "#### 학습용 데이터 불러오기 및 정규화"
   ]
  },
  {
   "cell_type": "code",
   "execution_count": 1,
   "id": "edcaeeb0",
   "metadata": {},
   "outputs": [],
   "source": [
    "from keras.preprocessing.image import ImageDataGenerator"
   ]
  },
  {
   "cell_type": "code",
   "execution_count": 2,
   "id": "8c5dcc60",
   "metadata": {
    "scrolled": true
   },
   "outputs": [
    {
     "name": "stdout",
     "output_type": "stream",
     "text": [
      "Found 2000 images belonging to 2 classes.\n"
     ]
    }
   ],
   "source": [
    "train = ImageDataGenerator().flow_from_directory('dog-vs-cat/train',\n",
    "                                                  target_size=(100, 100), # 변환 크기\n",
    "                                                  class_mode = 'binary'   # 고양이 or 개로 binary 분류\n",
    "                                                 )"
   ]
  },
  {
   "cell_type": "markdown",
   "id": "20c8f2ad",
   "metadata": {},
   "source": [
    "#### 검증용 데이터 불러오기"
   ]
  },
  {
   "cell_type": "code",
   "execution_count": 3,
   "id": "9908b397",
   "metadata": {},
   "outputs": [
    {
     "name": "stdout",
     "output_type": "stream",
     "text": [
      "Found 2000 images belonging to 2 classes.\n"
     ]
    }
   ],
   "source": [
    "valid = ImageDataGenerator(rescale = 1/255).flow_from_directory('dog-vs-cat/train',\n",
    "                                                                target_size=(100, 100), \n",
    "                                                                class_mode = 'binary',\n",
    "                                                                shuffle=False)"
   ]
  },
  {
   "cell_type": "markdown",
   "id": "25b3390d",
   "metadata": {},
   "source": [
    "### 학습"
   ]
  },
  {
   "cell_type": "code",
   "execution_count": 4,
   "id": "d304fd74",
   "metadata": {},
   "outputs": [],
   "source": [
    "from keras import Sequential\n",
    "from keras.layers import Dense, Flatten"
   ]
  },
  {
   "cell_type": "code",
   "execution_count": 5,
   "id": "9f4d3301",
   "metadata": {},
   "outputs": [
    {
     "name": "stdout",
     "output_type": "stream",
     "text": [
      "Model: \"sequential\"\n",
      "_________________________________________________________________\n",
      " Layer (type)                Output Shape              Param #   \n",
      "=================================================================\n",
      " flatten (Flatten)           (None, 30000)             0         \n",
      "                                                                 \n",
      " dense (Dense)               (None, 1)                 30001     \n",
      "                                                                 \n",
      "=================================================================\n",
      "Total params: 30,001\n",
      "Trainable params: 30,001\n",
      "Non-trainable params: 0\n",
      "_________________________________________________________________\n"
     ]
    }
   ],
   "source": [
    "model = Sequential()\n",
    "model.add(Flatten(input_shape=(100, 100, 3)))\n",
    "model.add(Dense(1, activation='sigmoid'))\n",
    "model.summary()"
   ]
  },
  {
   "cell_type": "code",
   "execution_count": 6,
   "id": "10cb5705",
   "metadata": {},
   "outputs": [],
   "source": [
    "from keras.optimizers import Adam\n",
    "from keras.callbacks import EarlyStopping, TensorBoard"
   ]
  },
  {
   "cell_type": "code",
   "execution_count": 7,
   "id": "6a0b7ec5",
   "metadata": {},
   "outputs": [
    {
     "name": "stderr",
     "output_type": "stream",
     "text": [
      "C:\\Users\\User\\anaconda3\\lib\\site-packages\\keras\\optimizers\\optimizer_v2\\adam.py:110: UserWarning: The `lr` argument is deprecated, use `learning_rate` instead.\n",
      "  super(Adam, self).__init__(name, **kwargs)\n"
     ]
    }
   ],
   "source": [
    "model.compile(loss='binary_crossentropy', metrics=['acc'], optimizer=Adam(lr=0.001))"
   ]
  },
  {
   "cell_type": "code",
   "execution_count": 8,
   "id": "4bf7a155",
   "metadata": {
    "scrolled": true
   },
   "outputs": [
    {
     "name": "stdout",
     "output_type": "stream",
     "text": [
      "Epoch 1/30\n"
     ]
    },
    {
     "name": "stderr",
     "output_type": "stream",
     "text": [
      "C:\\Users\\User\\AppData\\Local\\Temp\\ipykernel_2500\\2668859293.py:2: UserWarning: `Model.fit_generator` is deprecated and will be removed in a future version. Please use `Model.fit`, which supports generators.\n",
      "  hist = model.fit_generator(train, validation_data = valid, epochs=30,\n"
     ]
    },
    {
     "name": "stdout",
     "output_type": "stream",
     "text": [
      "63/63 [==============================] - 12s 177ms/step - loss: 393.4684 - acc: 0.5160 - val_loss: 0.8668 - val_acc: 0.5005\n",
      "Epoch 2/30\n",
      "63/63 [==============================] - 10s 166ms/step - loss: 126.2869 - acc: 0.5330 - val_loss: 0.6969 - val_acc: 0.5550\n",
      "Epoch 3/30\n",
      "63/63 [==============================] - 13s 210ms/step - loss: 74.9240 - acc: 0.5795 - val_loss: 0.6158 - val_acc: 0.6765\n",
      "Epoch 4/30\n",
      "63/63 [==============================] - 10s 166ms/step - loss: 59.8547 - acc: 0.6120 - val_loss: 0.6051 - val_acc: 0.7090\n",
      "Epoch 5/30\n",
      "63/63 [==============================] - 10s 164ms/step - loss: 77.3241 - acc: 0.5925 - val_loss: 0.6799 - val_acc: 0.5625\n",
      "Epoch 6/30\n",
      "63/63 [==============================] - 10s 162ms/step - loss: 103.8292 - acc: 0.6015 - val_loss: 0.5878 - val_acc: 0.7260\n",
      "Epoch 7/30\n",
      "63/63 [==============================] - 10s 162ms/step - loss: 53.5752 - acc: 0.6225 - val_loss: 0.5772 - val_acc: 0.7415\n",
      "Epoch 8/30\n",
      "63/63 [==============================] - 10s 164ms/step - loss: 65.4744 - acc: 0.6355 - val_loss: 0.6327 - val_acc: 0.6205\n",
      "Epoch 9/30\n",
      "63/63 [==============================] - 13s 202ms/step - loss: 58.2206 - acc: 0.6335 - val_loss: 0.5770 - val_acc: 0.7035\n",
      "Epoch 10/30\n",
      "63/63 [==============================] - 10s 162ms/step - loss: 33.1453 - acc: 0.6935 - val_loss: 0.5600 - val_acc: 0.7480\n",
      "Epoch 11/30\n",
      "63/63 [==============================] - 10s 165ms/step - loss: 89.5564 - acc: 0.6020 - val_loss: 0.7631 - val_acc: 0.5575\n",
      "Epoch 12/30\n",
      "63/63 [==============================] - 10s 161ms/step - loss: 69.0014 - acc: 0.6530 - val_loss: 0.5724 - val_acc: 0.6625\n"
     ]
    }
   ],
   "source": [
    "LOG_DIR = 'log_model'\n",
    "hist = model.fit_generator(train, validation_data = valid, epochs=30, \n",
    "                          callbacks = [\n",
    "                              TensorBoard(log_dir=LOG_DIR),\n",
    "                              EarlyStopping(monitor=\"val_loss\", patience=2)\n",
    "                          ]) \n",
    "# 검증 데이터의 손실(val_loss)을 모니터하다가 더이상 손실이 줄어들지 않으면 학습을 멈춘다. \n",
    "# 단, 손실이 감소하지 않더라도 2번까지는 기다린다. (patience=2)"
   ]
  },
  {
   "cell_type": "code",
   "execution_count": 9,
   "id": "32a78e54",
   "metadata": {},
   "outputs": [],
   "source": [
    "import matplotlib.pyplot as plt"
   ]
  },
  {
   "cell_type": "code",
   "execution_count": 10,
   "id": "eb24de8e",
   "metadata": {
    "scrolled": true
   },
   "outputs": [
    {
     "data": {
      "image/png": "[encoded data removed]",
      "text/plain": [
       "<Figure size 432x288 with 1 Axes>"
      ]
     },
     "metadata": {
      "needs_background": "light"
     },
     "output_type": "display_data"
    }
   ],
   "source": [
    "acc = hist.history['acc']\n",
    "val_acc = hist.history['val_acc']\n",
    "epochs = range(1, len(acc) + 1)\n",
    "\n",
    "plt.plot(epochs, acc, 'r', label='Training acc')\n",
    "plt.plot(epochs, val_acc, 'b', label='Validation acc')\n",
    "plt.show()"
   ]
  }
 ],
 "metadata": {
  "kernelspec": {
   "display_name": "Python 3 (ipykernel)",
   "language": "python",
   "name": "python3"
  },
  "language_info": {
   "codemirror_mode": {
    "name": "ipython",
    "version": 3
   },
   "file_extension": ".py",
   "mimetype": "text/x-python",
   "name": "python",
   "nbconvert_exporter": "python",
   "pygments_lexer": "ipython3",
   "version": "3.9.12"
  }
 },
 "nbformat": 4,
 "nbformat_minor": 5
}
