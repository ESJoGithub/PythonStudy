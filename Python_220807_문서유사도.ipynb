{
 "cells": [
  {
   "cell_type": "markdown",
   "id": "88719688",
   "metadata": {},
   "source": [
    "## 뉴스 기사 문서 유사도 계산"
   ]
  },
  {
   "cell_type": "markdown",
   "id": "7909be2d",
   "metadata": {},
   "source": [
    "### 0. 뉴스 기사 TDM 분석 결과 및 원본 파일 불러오기"
   ]
  },
  {
   "cell_type": "code",
   "execution_count": 1,
   "id": "a7e2cf48",
   "metadata": {},
   "outputs": [],
   "source": [
    "import joblib\n",
    "import pandas as pd"
   ]
  },
  {
   "cell_type": "code",
   "execution_count": 2,
   "id": "d76957cf",
   "metadata": {},
   "outputs": [],
   "source": [
    "def get_nouns():\n",
    "    pass"
   ]
  },
  {
   "cell_type": "code",
   "execution_count": 3,
   "id": "1f8db354",
   "metadata": {},
   "outputs": [],
   "source": [
    "with open(\"ai_news_tfidf.pkl\", 'rb') as f:\n",
    "    data = joblib.load(f)\n",
    "locals().update(data)"
   ]
  },
  {
   "cell_type": "code",
   "execution_count": 4,
   "id": "7be60aa7",
   "metadata": {},
   "outputs": [],
   "source": [
    "article = pd.read_csv(\"한국방송통신전파진흥원_전파누리_최신뉴스_20210129.csv\",\n",
    "                     encoding='cp949', engine='python')"
   ]
  },
  {
   "cell_type": "markdown",
   "id": "11257ea1",
   "metadata": {},
   "source": [
    "### 1. 유클리드거리를 활용한 문서 유사도 계산"
   ]
  },
  {
   "cell_type": "code",
   "execution_count": 5,
   "id": "aba0f3c8",
   "metadata": {},
   "outputs": [],
   "source": [
    "from sklearn.metrics.pairwise import euclidean_distances"
   ]
  },
  {
   "cell_type": "code",
   "execution_count": 6,
   "id": "8684d0ba",
   "metadata": {},
   "outputs": [
    {
     "data": {
      "text/plain": [
       "array([[1.41421356]])"
      ]
     },
     "execution_count": 6,
     "metadata": {},
     "output_type": "execute_result"
    }
   ],
   "source": [
    "# 0번째 기사화 1번째 기사와의 유클리드 계산\n",
    "\n",
    "euclidean_distances(tdm[0], tdm[1])"
   ]
  },
  {
   "cell_type": "code",
   "execution_count": 7,
   "id": "a5018c08",
   "metadata": {},
   "outputs": [],
   "source": [
    "import numpy as np"
   ]
  },
  {
   "cell_type": "code",
   "execution_count": 8,
   "id": "e800b8b7",
   "metadata": {},
   "outputs": [
    {
     "data": {
      "text/plain": [
       "18"
      ]
     },
     "execution_count": 8,
     "metadata": {},
     "output_type": "execute_result"
    }
   ],
   "source": [
    "# 0 번째 기사에서 가장 유사한 기사 탐색\n",
    "dist = euclidean_distances(tdm[0], tdm[1:])\n",
    "np.argmin(dist) + 1                         # 자기 자신[0]을 제외한 범위에서 찾기 때문에 +1"
   ]
  },
  {
   "cell_type": "code",
   "execution_count": 9,
   "id": "e6dae14b",
   "metadata": {},
   "outputs": [
    {
     "data": {
      "text/plain": [
       "\"한국전자파학회가 발간하는 영문 학술지 'JEES'가 국제 과학기술 논문 인용색인 확장판(SCIE)에 등재됐다. SCIE는 국제적 저널을 수록하는 데이터베이스다.JEES의 질적 우수성과 국제적 영향력이 높은 점수를 받은 결과다.JEES는 24개 등재 평가 항목에 대한 품질기준, 4개 항목으로 구성된 영향력 기준을 모두 통과했다.\""
      ]
     },
     "execution_count": 9,
     "metadata": {},
     "output_type": "execute_result"
    }
   ],
   "source": [
    "# 기사 내용 비교\n",
    "article.loc[0, '내용']"
   ]
  },
  {
   "cell_type": "code",
   "execution_count": 10,
   "id": "9a14b679",
   "metadata": {
    "scrolled": false
   },
   "outputs": [
    {
     "data": {
      "text/plain": [
       "\"정부가 5세대(5G) 이동통신 28㎓ 대역 전자파 평가 기술 국제표준 채택을 추진한다. 세계 최초 5G 상용화이어 평가 기술도 선도한다는 계획이다.국립전파연구원은 '28㎓ 휴대폰 전자파 인체노출량 평가기술 연구'에 돌입했다. 기존 평가방법을 개선, 고도화하고 간소화한다. 정확한 표준을 마련해 국제전기기술위원회(IEC) 국제표준 채택을 추진한다.\""
      ]
     },
     "execution_count": 10,
     "metadata": {},
     "output_type": "execute_result"
    }
   ],
   "source": [
    "article.loc[18, '내용']                   "
   ]
  },
  {
   "cell_type": "markdown",
   "id": "09fb6c59",
   "metadata": {},
   "source": [
    "### 2. 코사인 유사도를 활용한 문서 유사도 계산"
   ]
  },
  {
   "cell_type": "code",
   "execution_count": 11,
   "id": "52ca31e9",
   "metadata": {},
   "outputs": [],
   "source": [
    "from sklearn.metrics.pairwise import cosine_similarity"
   ]
  },
  {
   "cell_type": "code",
   "execution_count": 12,
   "id": "5d7c8ba5",
   "metadata": {},
   "outputs": [
    {
     "data": {
      "text/plain": [
       "array([[0.05015391]])"
      ]
     },
     "execution_count": 12,
     "metadata": {},
     "output_type": "execute_result"
    }
   ],
   "source": [
    "cosine_similarity(tdm[0], tdm[2])"
   ]
  },
  {
   "cell_type": "code",
   "execution_count": 13,
   "id": "d49d44df",
   "metadata": {},
   "outputs": [
    {
     "data": {
      "text/plain": [
       "18"
      ]
     },
     "execution_count": 13,
     "metadata": {},
     "output_type": "execute_result"
    }
   ],
   "source": [
    "sim = cosine_similarity(tdm[0], tdm[1:])\n",
    "np.argmax(sim) + 1"
   ]
  },
  {
   "cell_type": "code",
   "execution_count": 14,
   "id": "b2ff98fe",
   "metadata": {},
   "outputs": [
    {
     "data": {
      "text/plain": [
       "\"미국 AT&T가 39㎓ 밀리미터파 대역을 활용한 '5G플러스(5G+)' 서비스를 상용화했다. 미국은 물론이고 글로벌 밀리미터파 경쟁 신호탄이 될지 주목된다.AT&T는 갤럭시S20·갤럭시S20 플러스·갤럭시S20 울트라를 출시하며 최초로 일반 소비자 대상 밀리미터파 서비스를 상용화한다고 밝혔다.AT&T는 우리나라 28㎓ 대역과 유사한 기능인 39㎓ 대역 밀리미터파를 활용하는 네트워크를 '5G+'로 명명했다. 기존 5G+시범 운영지역에서 갤럭시S10 5G 스마트폰을 제공했지만, 기업고객과 개발자를 대상으로 제한적으로 출시했다.\""
      ]
     },
     "execution_count": 14,
     "metadata": {},
     "output_type": "execute_result"
    }
   ],
   "source": [
    "article.loc[1, '내용']"
   ]
  }
 ],
 "metadata": {
  "kernelspec": {
   "display_name": "Python 3 (ipykernel)",
   "language": "python",
   "name": "python3"
  },
  "language_info": {
   "codemirror_mode": {
    "name": "ipython",
    "version": 3
   },
   "file_extension": ".py",
   "mimetype": "text/x-python",
   "name": "python",
   "nbconvert_exporter": "python",
   "pygments_lexer": "ipython3",
   "version": "3.9.12"
  }
 },
 "nbformat": 4,
 "nbformat_minor": 5
}
