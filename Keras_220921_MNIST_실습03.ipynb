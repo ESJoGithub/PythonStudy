{
  "nbformat": 4,
  "nbformat_minor": 0,
  "metadata": {
    "colab": {
      "provenance": [],
      "collapsed_sections": [],
      "include_colab_link": true
    },
    "kernelspec": {
      "name": "python3",
      "display_name": "Python 3"
    },
    "language_info": {
      "name": "python"
    }
  },
  "cells": [
    {
      "cell_type": "markdown",
      "metadata": {
        "id": "view-in-github",
        "colab_type": "text"
      },
      "source": [
        "<a href=\"https://colab.research.google.com/github/ESJoGithub/PythonStudy/blob/main/Keras_220921_MNIST_%EC%8B%A4%EC%8A%B503.ipynb\" target=\"_parent\"><img src=\"https://colab.research.google.com/assets/colab-badge.svg\" alt=\"Open In Colab\"/></a>"
      ]
    },
    {
      "cell_type": "code",
      "source": [
        "from google.colab import drive\n",
        "drive.mount('/content/drive')"
      ],
      "metadata": {
        "colab": {
          "base_uri": "https://localhost:8080/"
        },
        "id": "oxtO2zTTtPq3",
        "outputId": "ccb4cebf-7ba5-4aeb-dc7b-180572e73e4d"
      },
      "execution_count": null,
      "outputs": [
        {
          "output_type": "stream",
          "name": "stdout",
          "text": [
            "Mounted at /content/drive\n"
          ]
        }
      ]
    },
    {
      "cell_type": "code",
      "source": [
        "!ln -s /content/drive/MyDrive /mydrive"
      ],
      "metadata": {
        "id": "e2ZTrV_htIFl"
      },
      "execution_count": null,
      "outputs": []
    },
    {
      "cell_type": "code",
      "source": [
        "%cd /mydrive"
      ],
      "metadata": {
        "colab": {
          "base_uri": "https://localhost:8080/"
        },
        "id": "B9ry3cBStVU1",
        "outputId": "e510c098-5ac2-4037-99a5-f5726225849b"
      },
      "execution_count": null,
      "outputs": [
        {
          "output_type": "stream",
          "name": "stdout",
          "text": [
            "/content/drive/MyDrive\n"
          ]
        }
      ]
    },
    {
      "cell_type": "code",
      "source": [
        "!mkdir mnist"
      ],
      "metadata": {
        "id": "98FN5iLDtXqb",
        "colab": {
          "base_uri": "https://localhost:8080/"
        },
        "outputId": "f881c3c4-b28f-4c34-f512-133805e36927"
      },
      "execution_count": null,
      "outputs": [
        {
          "output_type": "stream",
          "name": "stdout",
          "text": [
            "mkdir: cannot create directory ‘mnist’: File exists\n"
          ]
        }
      ]
    },
    {
      "cell_type": "code",
      "source": [
        "from keras import datasets, layers, models                \n",
        "from tensorflow import keras                         # to_categorical 함수\n",
        "from tensorflow.keras.models import load_model\n",
        "from tensorflow.keras.callbacks import EarlyStopping, ModelCheckpoint\n",
        "\n",
        "import numpy as np\n",
        "import matplotlib.pyplot as plt\n",
        "import pandas as pd"
      ],
      "metadata": {
        "id": "UFco5dLCQBQF"
      },
      "execution_count": null,
      "outputs": []
    },
    {
      "cell_type": "code",
      "source": [
        "(train_imgs, train_labels), (test_imgs, test_labels) = datasets.mnist.load_data()"
      ],
      "metadata": {
        "id": "rwcqMzdKTPwN",
        "colab": {
          "base_uri": "https://localhost:8080/"
        },
        "outputId": "07f87727-036c-480b-afbd-fcbe6117cc72"
      },
      "execution_count": null,
      "outputs": [
        {
          "output_type": "stream",
          "name": "stdout",
          "text": [
            "Downloading data from https://storage.googleapis.com/tensorflow/tf-keras-datasets/mnist.npz\n",
            "11493376/11490434 [==============================] - 0s 0us/step\n",
            "11501568/11490434 [==============================] - 0s 0us/step\n"
          ]
        }
      ]
    },
    {
      "cell_type": "code",
      "source": [
        "train_imgs = train_imgs/255.0\n",
        "test_imgs = test_imgs/255.0"
      ],
      "metadata": {
        "id": "w4IFaKuOYIfc"
      },
      "execution_count": null,
      "outputs": []
    },
    {
      "cell_type": "code",
      "source": [
        "train_imgs = train_imgs.reshape((60000, 28, 28, 1))\n",
        "test_imgs = test_imgs.reshape((10000, 28, 28, 1))"
      ],
      "metadata": {
        "id": "5IGxhDfjiN7d"
      },
      "execution_count": null,
      "outputs": []
    },
    {
      "cell_type": "code",
      "source": [
        "train_labels = keras.utils.to_categorical(train_labels, num_classes=10)\n",
        "test_labels = keras.utils.to_categorical(test_labels, num_classes=10)"
      ],
      "metadata": {
        "id": "ouDs40X-n_uw"
      },
      "execution_count": null,
      "outputs": []
    },
    {
      "cell_type": "markdown",
      "source": [
        "### __모델 변경__\n",
        "\n",
        "---\n",
        "Dropout 조정 (32-0.5, 64-0.2, 128-0.2)\n",
        "epoch=100 EarlyStop patient = 10\n",
        "optimizer = 'rmsprop', 'adam'만 진행"
      ],
      "metadata": {
        "id": "NTqxfKdbYvVL"
      }
    },
    {
      "cell_type": "markdown",
      "source": [
        "#### __1. optimizer='rmsprop'__ "
      ],
      "metadata": {
        "id": "J3jjZUjiwydX"
      }
    },
    {
      "cell_type": "code",
      "source": [
        "model_1_1 = keras.Sequential([\n",
        "  layers.Conv2D(32, (3, 3), activation='relu', input_shape=(28, 28, 1)),\n",
        "  layers.MaxPooling2D((2, 2)),\n",
        "  layers.Dropout(0.5),\n",
        "  layers.Conv2D(64, (3, 3), activation='relu'),\n",
        "  layers.MaxPooling2D((2, 2)),\n",
        "  layers.Dropout(0.5),\n",
        "  layers.Conv2D(128, (3, 3), activation='relu'),\n",
        "  layers.Dropout(0.2),\n",
        "  layers.Flatten(),\n",
        "  layers.Dense(64, activation = 'sigmoid'),\n",
        "  layers.Dense(10, activation = 'softmax')\n",
        "])\n",
        "model_1_1.summary()"
      ],
      "metadata": {
        "colab": {
          "base_uri": "https://localhost:8080/"
        },
        "outputId": "413a4eee-f14c-4183-917e-fc467445f0a3",
        "id": "aRIhB0X3wtb4"
      },
      "execution_count": null,
      "outputs": [
        {
          "output_type": "stream",
          "name": "stdout",
          "text": [
            "Model: \"sequential\"\n",
            "_________________________________________________________________\n",
            " Layer (type)                Output Shape              Param #   \n",
            "=================================================================\n",
            " conv2d (Conv2D)             (None, 26, 26, 32)        320       \n",
            "                                                                 \n",
            " max_pooling2d (MaxPooling2D  (None, 13, 13, 32)       0         \n",
            " )                                                               \n",
            "                                                                 \n",
            " dropout (Dropout)           (None, 13, 13, 32)        0         \n",
            "                                                                 \n",
            " conv2d_1 (Conv2D)           (None, 11, 11, 64)        18496     \n",
            "                                                                 \n",
            " max_pooling2d_1 (MaxPooling  (None, 5, 5, 64)         0         \n",
            " 2D)                                                             \n",
            "                                                                 \n",
            " dropout_1 (Dropout)         (None, 5, 5, 64)          0         \n",
            "                                                                 \n",
            " conv2d_2 (Conv2D)           (None, 3, 3, 128)         73856     \n",
            "                                                                 \n",
            " dropout_2 (Dropout)         (None, 3, 3, 128)         0         \n",
            "                                                                 \n",
            " flatten (Flatten)           (None, 1152)              0         \n",
            "                                                                 \n",
            " dense (Dense)               (None, 64)                73792     \n",
            "                                                                 \n",
            " dense_1 (Dense)             (None, 10)                650       \n",
            "                                                                 \n",
            "=================================================================\n",
            "Total params: 167,114\n",
            "Trainable params: 167,114\n",
            "Non-trainable params: 0\n",
            "_________________________________________________________________\n"
          ]
        }
      ]
    },
    {
      "cell_type": "code",
      "source": [
        "model_1_1.compile(optimizer=\"rmsprop\", loss=\"categorical_crossentropy\", metrics=[\"accuracy\"])"
      ],
      "metadata": {
        "id": "2xmXZNfewtcK"
      },
      "execution_count": null,
      "outputs": []
    },
    {
      "cell_type": "code",
      "source": [
        "es = EarlyStopping(monitor='val_loss', mode='min', verbose=1, patience=10)\n",
        "mc = ModelCheckpoint('mnist/try03_1.h5', monitor='val_accuracy', mode='max', verbose=1, save_best_only=True)\n",
        "hist_1_1 = model_1_1.fit(train_imgs, train_labels, epochs=100, batch_size=128, validation_split=0.2, callbacks=[es, mc])"
      ],
      "metadata": {
        "colab": {
          "base_uri": "https://localhost:8080/"
        },
        "outputId": "ecfae669-8efb-4ca0-b0bf-67cab7bd1d9a",
        "id": "VRjSobitwtcK"
      },
      "execution_count": null,
      "outputs": [
        {
          "output_type": "stream",
          "name": "stdout",
          "text": [
            "Epoch 1/100\n",
            "368/375 [============================>.] - ETA: 0s - loss: 0.5554 - accuracy: 0.8410\n",
            "Epoch 1: val_accuracy improved from -inf to 0.96350, saving model to mnist/try03_1.h5\n",
            "375/375 [==============================] - 15s 8ms/step - loss: 0.5481 - accuracy: 0.8431 - val_loss: 0.1271 - val_accuracy: 0.9635\n",
            "Epoch 2/100\n",
            "369/375 [============================>.] - ETA: 0s - loss: 0.1504 - accuracy: 0.9543\n",
            "Epoch 2: val_accuracy improved from 0.96350 to 0.97942, saving model to mnist/try03_1.h5\n",
            "375/375 [==============================] - 2s 6ms/step - loss: 0.1499 - accuracy: 0.9545 - val_loss: 0.0710 - val_accuracy: 0.9794\n",
            "Epoch 3/100\n",
            "371/375 [============================>.] - ETA: 0s - loss: 0.1029 - accuracy: 0.9689\n",
            "Epoch 3: val_accuracy improved from 0.97942 to 0.98267, saving model to mnist/try03_1.h5\n",
            "375/375 [==============================] - 2s 6ms/step - loss: 0.1029 - accuracy: 0.9689 - val_loss: 0.0569 - val_accuracy: 0.9827\n",
            "Epoch 4/100\n",
            "366/375 [============================>.] - ETA: 0s - loss: 0.0813 - accuracy: 0.9755\n",
            "Epoch 4: val_accuracy improved from 0.98267 to 0.98517, saving model to mnist/try03_1.h5\n",
            "375/375 [==============================] - 2s 6ms/step - loss: 0.0811 - accuracy: 0.9756 - val_loss: 0.0482 - val_accuracy: 0.9852\n",
            "Epoch 5/100\n",
            "367/375 [============================>.] - ETA: 0s - loss: 0.0707 - accuracy: 0.9775\n",
            "Epoch 5: val_accuracy improved from 0.98517 to 0.98667, saving model to mnist/try03_1.h5\n",
            "375/375 [==============================] - 2s 6ms/step - loss: 0.0706 - accuracy: 0.9774 - val_loss: 0.0429 - val_accuracy: 0.9867\n",
            "Epoch 6/100\n",
            "372/375 [============================>.] - ETA: 0s - loss: 0.0624 - accuracy: 0.9805\n",
            "Epoch 6: val_accuracy improved from 0.98667 to 0.98742, saving model to mnist/try03_1.h5\n",
            "375/375 [==============================] - 2s 6ms/step - loss: 0.0625 - accuracy: 0.9805 - val_loss: 0.0394 - val_accuracy: 0.9874\n",
            "Epoch 7/100\n",
            "375/375 [==============================] - ETA: 0s - loss: 0.0552 - accuracy: 0.9831\n",
            "Epoch 7: val_accuracy improved from 0.98742 to 0.98933, saving model to mnist/try03_1.h5\n",
            "375/375 [==============================] - 3s 7ms/step - loss: 0.0552 - accuracy: 0.9831 - val_loss: 0.0367 - val_accuracy: 0.9893\n",
            "Epoch 8/100\n",
            "374/375 [============================>.] - ETA: 0s - loss: 0.0521 - accuracy: 0.9836\n",
            "Epoch 8: val_accuracy did not improve from 0.98933\n",
            "375/375 [==============================] - 2s 6ms/step - loss: 0.0521 - accuracy: 0.9836 - val_loss: 0.0380 - val_accuracy: 0.9887\n",
            "Epoch 9/100\n",
            "370/375 [============================>.] - ETA: 0s - loss: 0.0497 - accuracy: 0.9837\n",
            "Epoch 9: val_accuracy improved from 0.98933 to 0.98958, saving model to mnist/try03_1.h5\n",
            "375/375 [==============================] - 2s 6ms/step - loss: 0.0494 - accuracy: 0.9838 - val_loss: 0.0354 - val_accuracy: 0.9896\n",
            "Epoch 10/100\n",
            "374/375 [============================>.] - ETA: 0s - loss: 0.0471 - accuracy: 0.9850\n",
            "Epoch 10: val_accuracy did not improve from 0.98958\n",
            "375/375 [==============================] - 2s 6ms/step - loss: 0.0471 - accuracy: 0.9849 - val_loss: 0.0352 - val_accuracy: 0.9893\n",
            "Epoch 11/100\n",
            "370/375 [============================>.] - ETA: 0s - loss: 0.0420 - accuracy: 0.9871\n",
            "Epoch 11: val_accuracy improved from 0.98958 to 0.99058, saving model to mnist/try03_1.h5\n",
            "375/375 [==============================] - 2s 7ms/step - loss: 0.0420 - accuracy: 0.9871 - val_loss: 0.0325 - val_accuracy: 0.9906\n",
            "Epoch 12/100\n",
            "368/375 [============================>.] - ETA: 0s - loss: 0.0419 - accuracy: 0.9866\n",
            "Epoch 12: val_accuracy did not improve from 0.99058\n",
            "375/375 [==============================] - 2s 6ms/step - loss: 0.0421 - accuracy: 0.9866 - val_loss: 0.0344 - val_accuracy: 0.9899\n",
            "Epoch 13/100\n",
            "367/375 [============================>.] - ETA: 0s - loss: 0.0402 - accuracy: 0.9872\n",
            "Epoch 13: val_accuracy improved from 0.99058 to 0.99067, saving model to mnist/try03_1.h5\n",
            "375/375 [==============================] - 2s 6ms/step - loss: 0.0401 - accuracy: 0.9872 - val_loss: 0.0351 - val_accuracy: 0.9907\n",
            "Epoch 14/100\n",
            "368/375 [============================>.] - ETA: 0s - loss: 0.0402 - accuracy: 0.9870\n",
            "Epoch 14: val_accuracy improved from 0.99067 to 0.99217, saving model to mnist/try03_1.h5\n",
            "375/375 [==============================] - 2s 6ms/step - loss: 0.0400 - accuracy: 0.9871 - val_loss: 0.0307 - val_accuracy: 0.9922\n",
            "Epoch 15/100\n",
            "375/375 [==============================] - ETA: 0s - loss: 0.0376 - accuracy: 0.9883\n",
            "Epoch 15: val_accuracy did not improve from 0.99217\n",
            "375/375 [==============================] - 2s 6ms/step - loss: 0.0376 - accuracy: 0.9883 - val_loss: 0.0301 - val_accuracy: 0.9914\n",
            "Epoch 16/100\n",
            "368/375 [============================>.] - ETA: 0s - loss: 0.0348 - accuracy: 0.9891\n",
            "Epoch 16: val_accuracy did not improve from 0.99217\n",
            "375/375 [==============================] - 2s 6ms/step - loss: 0.0348 - accuracy: 0.9890 - val_loss: 0.0328 - val_accuracy: 0.9914\n",
            "Epoch 17/100\n",
            "368/375 [============================>.] - ETA: 0s - loss: 0.0363 - accuracy: 0.9885\n",
            "Epoch 17: val_accuracy did not improve from 0.99217\n",
            "375/375 [==============================] - 2s 6ms/step - loss: 0.0364 - accuracy: 0.9885 - val_loss: 0.0328 - val_accuracy: 0.9912\n",
            "Epoch 18/100\n",
            "370/375 [============================>.] - ETA: 0s - loss: 0.0361 - accuracy: 0.9883\n",
            "Epoch 18: val_accuracy did not improve from 0.99217\n",
            "375/375 [==============================] - 2s 6ms/step - loss: 0.0361 - accuracy: 0.9883 - val_loss: 0.0308 - val_accuracy: 0.9920\n",
            "Epoch 19/100\n",
            "367/375 [============================>.] - ETA: 0s - loss: 0.0349 - accuracy: 0.9893\n",
            "Epoch 19: val_accuracy improved from 0.99217 to 0.99250, saving model to mnist/try03_1.h5\n",
            "375/375 [==============================] - 3s 8ms/step - loss: 0.0347 - accuracy: 0.9894 - val_loss: 0.0298 - val_accuracy: 0.9925\n",
            "Epoch 20/100\n",
            "368/375 [============================>.] - ETA: 0s - loss: 0.0324 - accuracy: 0.9895\n",
            "Epoch 20: val_accuracy did not improve from 0.99250\n",
            "375/375 [==============================] - 2s 6ms/step - loss: 0.0328 - accuracy: 0.9894 - val_loss: 0.0289 - val_accuracy: 0.9923\n",
            "Epoch 21/100\n",
            "370/375 [============================>.] - ETA: 0s - loss: 0.0312 - accuracy: 0.9899\n",
            "Epoch 21: val_accuracy improved from 0.99250 to 0.99283, saving model to mnist/try03_1.h5\n",
            "375/375 [==============================] - 2s 6ms/step - loss: 0.0313 - accuracy: 0.9899 - val_loss: 0.0270 - val_accuracy: 0.9928\n",
            "Epoch 22/100\n",
            "372/375 [============================>.] - ETA: 0s - loss: 0.0322 - accuracy: 0.9895\n",
            "Epoch 22: val_accuracy did not improve from 0.99283\n",
            "375/375 [==============================] - 2s 6ms/step - loss: 0.0321 - accuracy: 0.9895 - val_loss: 0.0281 - val_accuracy: 0.9924\n",
            "Epoch 23/100\n",
            "366/375 [============================>.] - ETA: 0s - loss: 0.0304 - accuracy: 0.9902\n",
            "Epoch 23: val_accuracy did not improve from 0.99283\n",
            "375/375 [==============================] - 2s 6ms/step - loss: 0.0304 - accuracy: 0.9901 - val_loss: 0.0276 - val_accuracy: 0.9926\n",
            "Epoch 24/100\n",
            "374/375 [============================>.] - ETA: 0s - loss: 0.0286 - accuracy: 0.9907\n",
            "Epoch 24: val_accuracy did not improve from 0.99283\n",
            "375/375 [==============================] - 2s 6ms/step - loss: 0.0287 - accuracy: 0.9907 - val_loss: 0.0298 - val_accuracy: 0.9921\n",
            "Epoch 25/100\n",
            "368/375 [============================>.] - ETA: 0s - loss: 0.0294 - accuracy: 0.9904\n",
            "Epoch 25: val_accuracy did not improve from 0.99283\n",
            "375/375 [==============================] - 2s 6ms/step - loss: 0.0298 - accuracy: 0.9903 - val_loss: 0.0275 - val_accuracy: 0.9925\n",
            "Epoch 26/100\n",
            "366/375 [============================>.] - ETA: 0s - loss: 0.0310 - accuracy: 0.9909\n",
            "Epoch 26: val_accuracy improved from 0.99283 to 0.99308, saving model to mnist/try03_1.h5\n",
            "375/375 [==============================] - 3s 8ms/step - loss: 0.0316 - accuracy: 0.9908 - val_loss: 0.0266 - val_accuracy: 0.9931\n",
            "Epoch 27/100\n",
            "366/375 [============================>.] - ETA: 0s - loss: 0.0278 - accuracy: 0.9912\n",
            "Epoch 27: val_accuracy did not improve from 0.99308\n",
            "375/375 [==============================] - 2s 6ms/step - loss: 0.0281 - accuracy: 0.9910 - val_loss: 0.0263 - val_accuracy: 0.9926\n",
            "Epoch 28/100\n",
            "369/375 [============================>.] - ETA: 0s - loss: 0.0290 - accuracy: 0.9911\n",
            "Epoch 28: val_accuracy did not improve from 0.99308\n",
            "375/375 [==============================] - 2s 6ms/step - loss: 0.0289 - accuracy: 0.9911 - val_loss: 0.0271 - val_accuracy: 0.9927\n",
            "Epoch 29/100\n",
            "367/375 [============================>.] - ETA: 0s - loss: 0.0270 - accuracy: 0.9916\n",
            "Epoch 29: val_accuracy did not improve from 0.99308\n",
            "375/375 [==============================] - 2s 6ms/step - loss: 0.0270 - accuracy: 0.9916 - val_loss: 0.0288 - val_accuracy: 0.9927\n",
            "Epoch 30/100\n",
            "374/375 [============================>.] - ETA: 0s - loss: 0.0269 - accuracy: 0.9910\n",
            "Epoch 30: val_accuracy did not improve from 0.99308\n",
            "375/375 [==============================] - 2s 6ms/step - loss: 0.0269 - accuracy: 0.9910 - val_loss: 0.0289 - val_accuracy: 0.9921\n",
            "Epoch 31/100\n",
            "371/375 [============================>.] - ETA: 0s - loss: 0.0255 - accuracy: 0.9920\n",
            "Epoch 31: val_accuracy did not improve from 0.99308\n",
            "375/375 [==============================] - 2s 6ms/step - loss: 0.0256 - accuracy: 0.9920 - val_loss: 0.0281 - val_accuracy: 0.9925\n",
            "Epoch 32/100\n",
            "375/375 [==============================] - ETA: 0s - loss: 0.0268 - accuracy: 0.9915\n",
            "Epoch 32: val_accuracy did not improve from 0.99308\n",
            "375/375 [==============================] - 2s 6ms/step - loss: 0.0268 - accuracy: 0.9915 - val_loss: 0.0268 - val_accuracy: 0.9924\n",
            "Epoch 33/100\n",
            "375/375 [==============================] - ETA: 0s - loss: 0.0282 - accuracy: 0.9909\n",
            "Epoch 33: val_accuracy did not improve from 0.99308\n",
            "375/375 [==============================] - 2s 6ms/step - loss: 0.0282 - accuracy: 0.9909 - val_loss: 0.0281 - val_accuracy: 0.9925\n",
            "Epoch 34/100\n",
            "368/375 [============================>.] - ETA: 0s - loss: 0.0247 - accuracy: 0.9920\n",
            "Epoch 34: val_accuracy improved from 0.99308 to 0.99333, saving model to mnist/try03_1.h5\n",
            "375/375 [==============================] - 3s 8ms/step - loss: 0.0248 - accuracy: 0.9919 - val_loss: 0.0263 - val_accuracy: 0.9933\n",
            "Epoch 35/100\n",
            "368/375 [============================>.] - ETA: 0s - loss: 0.0261 - accuracy: 0.9917\n",
            "Epoch 35: val_accuracy did not improve from 0.99333\n",
            "375/375 [==============================] - 2s 6ms/step - loss: 0.0261 - accuracy: 0.9916 - val_loss: 0.0268 - val_accuracy: 0.9925\n",
            "Epoch 36/100\n",
            "374/375 [============================>.] - ETA: 0s - loss: 0.0254 - accuracy: 0.9918\n",
            "Epoch 36: val_accuracy did not improve from 0.99333\n",
            "375/375 [==============================] - 2s 6ms/step - loss: 0.0253 - accuracy: 0.9918 - val_loss: 0.0252 - val_accuracy: 0.9930\n",
            "Epoch 37/100\n",
            "374/375 [============================>.] - ETA: 0s - loss: 0.0245 - accuracy: 0.9921\n",
            "Epoch 37: val_accuracy did not improve from 0.99333\n",
            "375/375 [==============================] - 2s 6ms/step - loss: 0.0244 - accuracy: 0.9922 - val_loss: 0.0265 - val_accuracy: 0.9930\n",
            "Epoch 38/100\n",
            "368/375 [============================>.] - ETA: 0s - loss: 0.0248 - accuracy: 0.9921\n",
            "Epoch 38: val_accuracy did not improve from 0.99333\n",
            "375/375 [==============================] - 2s 6ms/step - loss: 0.0249 - accuracy: 0.9920 - val_loss: 0.0270 - val_accuracy: 0.9928\n",
            "Epoch 39/100\n",
            "368/375 [============================>.] - ETA: 0s - loss: 0.0236 - accuracy: 0.9924\n",
            "Epoch 39: val_accuracy did not improve from 0.99333\n",
            "375/375 [==============================] - 2s 6ms/step - loss: 0.0236 - accuracy: 0.9924 - val_loss: 0.0264 - val_accuracy: 0.9928\n",
            "Epoch 40/100\n",
            "368/375 [============================>.] - ETA: 0s - loss: 0.0238 - accuracy: 0.9924\n",
            "Epoch 40: val_accuracy improved from 0.99333 to 0.99342, saving model to mnist/try03_1.h5\n",
            "375/375 [==============================] - 3s 8ms/step - loss: 0.0239 - accuracy: 0.9924 - val_loss: 0.0254 - val_accuracy: 0.9934\n",
            "Epoch 41/100\n",
            "366/375 [============================>.] - ETA: 0s - loss: 0.0243 - accuracy: 0.9920\n",
            "Epoch 41: val_accuracy did not improve from 0.99342\n",
            "375/375 [==============================] - 2s 6ms/step - loss: 0.0250 - accuracy: 0.9919 - val_loss: 0.0263 - val_accuracy: 0.9928\n",
            "Epoch 42/100\n",
            "366/375 [============================>.] - ETA: 0s - loss: 0.0249 - accuracy: 0.9920\n",
            "Epoch 42: val_accuracy did not improve from 0.99342\n",
            "375/375 [==============================] - 2s 6ms/step - loss: 0.0250 - accuracy: 0.9920 - val_loss: 0.0255 - val_accuracy: 0.9932\n",
            "Epoch 43/100\n",
            "368/375 [============================>.] - ETA: 0s - loss: 0.0241 - accuracy: 0.9922\n",
            "Epoch 43: val_accuracy did not improve from 0.99342\n",
            "375/375 [==============================] - 2s 6ms/step - loss: 0.0243 - accuracy: 0.9922 - val_loss: 0.0261 - val_accuracy: 0.9932\n",
            "Epoch 44/100\n",
            "367/375 [============================>.] - ETA: 0s - loss: 0.0253 - accuracy: 0.9921\n",
            "Epoch 44: val_accuracy did not improve from 0.99342\n",
            "375/375 [==============================] - 2s 6ms/step - loss: 0.0250 - accuracy: 0.9921 - val_loss: 0.0285 - val_accuracy: 0.9929\n",
            "Epoch 45/100\n",
            "375/375 [==============================] - ETA: 0s - loss: 0.0229 - accuracy: 0.9929\n",
            "Epoch 45: val_accuracy did not improve from 0.99342\n",
            "375/375 [==============================] - 2s 6ms/step - loss: 0.0229 - accuracy: 0.9929 - val_loss: 0.0299 - val_accuracy: 0.9928\n",
            "Epoch 46/100\n",
            "367/375 [============================>.] - ETA: 0s - loss: 0.0237 - accuracy: 0.9924\n",
            "Epoch 46: val_accuracy did not improve from 0.99342\n",
            "375/375 [==============================] - 2s 6ms/step - loss: 0.0235 - accuracy: 0.9924 - val_loss: 0.0297 - val_accuracy: 0.9933\n",
            "Epoch 46: early stopping\n"
          ]
        }
      ]
    },
    {
      "cell_type": "code",
      "source": [
        "result = model_1_1.evaluate(test_imgs, test_labels)\n",
        "print(\"\\n테스트 정확도: %.4f\" %(result)[1])"
      ],
      "metadata": {
        "colab": {
          "base_uri": "https://localhost:8080/"
        },
        "outputId": "4913be02-1183-4e2d-bfdb-ea2386145d1f",
        "id": "Mq-GE0h5wtcL"
      },
      "execution_count": null,
      "outputs": [
        {
          "output_type": "stream",
          "name": "stdout",
          "text": [
            "313/313 [==============================] - 1s 3ms/step - loss: 0.0257 - accuracy: 0.9941\n",
            "\n",
            "테스트 정확도: 0.9941\n"
          ]
        }
      ]
    },
    {
      "cell_type": "code",
      "source": [
        "loaded_model = load_model('mnist/try03_1.h5')\n",
        "result_loaded = loaded_model.evaluate(test_imgs, test_labels)\n",
        "print(\"\\n불러온 모델 테스트 정확도: %.4f\" %(result_loaded)[1])"
      ],
      "metadata": {
        "colab": {
          "base_uri": "https://localhost:8080/"
        },
        "outputId": "3eb09b08-38ac-411b-888d-11eac44c7b7b",
        "id": "fGK6vEuiwtcL"
      },
      "execution_count": null,
      "outputs": [
        {
          "output_type": "stream",
          "name": "stdout",
          "text": [
            "313/313 [==============================] - 1s 3ms/step - loss: 0.0227 - accuracy: 0.9936\n",
            "\n",
            "불러온 모델 테스트 정확도: 0.9936\n"
          ]
        }
      ]
    },
    {
      "cell_type": "code",
      "source": [
        "acc = hist_1_1.history['accuracy']\n",
        "val_acc = hist_1_1.history['val_accuracy']\n",
        "loss = hist_1_1.history['loss']\n",
        "val_loss = hist_1_1.history['val_loss']\n",
        "\n",
        "epochs = range(1, len(acc)+1)\n",
        "\n",
        "plt.figure(figsize=(8, 12))\n",
        "ax1=plt.subplot(2, 1, 1)\n",
        "ax2=plt.subplot(2, 1, 2)\n",
        "ax1.plot(epochs, acc, 'bo', label='Trainig acc')\n",
        "ax1.plot(epochs, val_acc, 'b', label='Validation acc')\n",
        "ax1.set_title(\"Training and Validation accuracy\")\n",
        "ax1.legend()\n",
        "ax2.plot(epochs, loss, 'bo', label='Traning loss')\n",
        "ax2.plot(epochs, val_loss, 'b', label='Validation loss')\n",
        "ax2.set_title(\"Training and Validation loss\")\n",
        "ax2.legend()\n",
        "plt.show()"
      ],
      "metadata": {
        "colab": {
          "base_uri": "https://localhost:8080/",
          "height": 716
        },
        "outputId": "c4192ef9-37ae-4e97-f3a5-4c903d4dd857",
        "id": "k-onGLGMwtcM"
      },
      "execution_count": null,
      "outputs": [
        {
          "output_type": "display_data",
          "data": {
            "text/plain": [
              "<Figure size 576x864 with 2 Axes>"
            ],
            "image/png": "[encoded data removed]"
          },
          "metadata": {
            "needs_background": "light"
          }
        }
      ]
    },
    {
      "cell_type": "code",
      "source": [
        "df = pd.DataFrame([['CNN', 'model_1_1', '32(relu/drop0.5)-64(relu/drop0.5)-128(relu/drop0.2)-Flatten-64(sigmoid)-10(softmax)]', 'rmsprop', 100, 128, 0.2, 'es/mc', \n",
        "                    \"%.4f\"%(result)[1], \"%.4f\"%(result_loaded)[1], \"%.4f\"%(result)[0], \"%.4f\"%(result_loaded)[0]]],\n",
        "                  columns=['모델', 'Name', 'Structure', 'Optimizer', 'epochs', 'batch_size', 'validation_split', 'callback', 'Accuracy', 'MC_Accuracy', 'Loss', 'MC_Loss'])"
      ],
      "metadata": {
        "id": "YU51jOGcl7DL"
      },
      "execution_count": null,
      "outputs": []
    },
    {
      "cell_type": "markdown",
      "source": [
        "#### __2. optimizer='adam'__ "
      ],
      "metadata": {
        "id": "YN2gmPkbzFeA"
      }
    },
    {
      "cell_type": "code",
      "source": [
        "model_1_2 = keras.Sequential([\n",
        "  layers.Conv2D(32, (3, 3), activation='relu', input_shape=(28, 28, 1)),\n",
        "  layers.MaxPooling2D((2, 2)),\n",
        "  layers.Dropout(0.5),\n",
        "  layers.Conv2D(64, (3, 3), activation='relu'),\n",
        "  layers.MaxPooling2D((2, 2)),\n",
        "  layers.Dropout(0.5),\n",
        "  layers.Conv2D(128, (3, 3), activation='relu'),\n",
        "  layers.Dropout(0.2),\n",
        "  layers.Flatten(),\n",
        "  layers.Dense(64, activation = 'sigmoid'),\n",
        "  layers.Dense(10, activation = 'softmax')\n",
        "])\n",
        "model_1_2.summary()"
      ],
      "metadata": {
        "colab": {
          "base_uri": "https://localhost:8080/"
        },
        "outputId": "7a371df3-e8e9-4733-abf0-6f5fceb015d5",
        "id": "Ujc6kXBOzFeA"
      },
      "execution_count": null,
      "outputs": [
        {
          "output_type": "stream",
          "name": "stdout",
          "text": [
            "Model: \"sequential_1\"\n",
            "_________________________________________________________________\n",
            " Layer (type)                Output Shape              Param #   \n",
            "=================================================================\n",
            " conv2d_3 (Conv2D)           (None, 26, 26, 32)        320       \n",
            "                                                                 \n",
            " max_pooling2d_2 (MaxPooling  (None, 13, 13, 32)       0         \n",
            " 2D)                                                             \n",
            "                                                                 \n",
            " dropout_3 (Dropout)         (None, 13, 13, 32)        0         \n",
            "                                                                 \n",
            " conv2d_4 (Conv2D)           (None, 11, 11, 64)        18496     \n",
            "                                                                 \n",
            " max_pooling2d_3 (MaxPooling  (None, 5, 5, 64)         0         \n",
            " 2D)                                                             \n",
            "                                                                 \n",
            " dropout_4 (Dropout)         (None, 5, 5, 64)          0         \n",
            "                                                                 \n",
            " conv2d_5 (Conv2D)           (None, 3, 3, 128)         73856     \n",
            "                                                                 \n",
            " dropout_5 (Dropout)         (None, 3, 3, 128)         0         \n",
            "                                                                 \n",
            " flatten_1 (Flatten)         (None, 1152)              0         \n",
            "                                                                 \n",
            " dense_2 (Dense)             (None, 64)                73792     \n",
            "                                                                 \n",
            " dense_3 (Dense)             (None, 10)                650       \n",
            "                                                                 \n",
            "=================================================================\n",
            "Total params: 167,114\n",
            "Trainable params: 167,114\n",
            "Non-trainable params: 0\n",
            "_________________________________________________________________\n"
          ]
        }
      ]
    },
    {
      "cell_type": "code",
      "source": [
        "model_1_2.compile(optimizer=\"adam\", loss=\"categorical_crossentropy\", metrics=[\"accuracy\"])"
      ],
      "metadata": {
        "id": "sy6jnJeXzFeB"
      },
      "execution_count": null,
      "outputs": []
    },
    {
      "cell_type": "code",
      "source": [
        "es = EarlyStopping(monitor='val_loss', mode='min', verbose=1, patience=10)\n",
        "mc = ModelCheckpoint('mnist/try03_2.h5', monitor='val_accuracy', mode='max', verbose=1, save_best_only=True)\n",
        "hist_1_2 = model_1_2.fit(train_imgs, train_labels, epochs=100, batch_size=128, validation_split=0.2, callbacks=[es, mc])"
      ],
      "metadata": {
        "colab": {
          "base_uri": "https://localhost:8080/"
        },
        "outputId": "28a01227-0186-4b9e-b78d-1a32f34147cb",
        "id": "yTLlJJB-zFeB"
      },
      "execution_count": null,
      "outputs": [
        {
          "output_type": "stream",
          "name": "stdout",
          "text": [
            "Epoch 1/100\n",
            "372/375 [============================>.] - ETA: 0s - loss: 0.5677 - accuracy: 0.8422\n",
            "Epoch 1: val_accuracy improved from -inf to 0.96875, saving model to mnist/try03_2.h5\n",
            "375/375 [==============================] - 3s 7ms/step - loss: 0.5647 - accuracy: 0.8431 - val_loss: 0.1244 - val_accuracy: 0.9688\n",
            "Epoch 2/100\n",
            "375/375 [==============================] - ETA: 0s - loss: 0.1484 - accuracy: 0.9579\n",
            "Epoch 2: val_accuracy improved from 0.96875 to 0.97917, saving model to mnist/try03_2.h5\n",
            "375/375 [==============================] - 2s 6ms/step - loss: 0.1484 - accuracy: 0.9579 - val_loss: 0.0745 - val_accuracy: 0.9792\n",
            "Epoch 3/100\n",
            "371/375 [============================>.] - ETA: 0s - loss: 0.1019 - accuracy: 0.9700\n",
            "Epoch 3: val_accuracy improved from 0.97917 to 0.98608, saving model to mnist/try03_2.h5\n",
            "375/375 [==============================] - 2s 6ms/step - loss: 0.1015 - accuracy: 0.9701 - val_loss: 0.0515 - val_accuracy: 0.9861\n",
            "Epoch 4/100\n",
            "373/375 [============================>.] - ETA: 0s - loss: 0.0795 - accuracy: 0.9762\n",
            "Epoch 4: val_accuracy improved from 0.98608 to 0.98633, saving model to mnist/try03_2.h5\n",
            "375/375 [==============================] - 2s 6ms/step - loss: 0.0797 - accuracy: 0.9762 - val_loss: 0.0479 - val_accuracy: 0.9863\n",
            "Epoch 5/100\n",
            "369/375 [============================>.] - ETA: 0s - loss: 0.0689 - accuracy: 0.9786\n",
            "Epoch 5: val_accuracy improved from 0.98633 to 0.98792, saving model to mnist/try03_2.h5\n",
            "375/375 [==============================] - 2s 6ms/step - loss: 0.0690 - accuracy: 0.9785 - val_loss: 0.0422 - val_accuracy: 0.9879\n",
            "Epoch 6/100\n",
            "367/375 [============================>.] - ETA: 0s - loss: 0.0628 - accuracy: 0.9809\n",
            "Epoch 6: val_accuracy improved from 0.98792 to 0.98825, saving model to mnist/try03_2.h5\n",
            "375/375 [==============================] - 2s 6ms/step - loss: 0.0625 - accuracy: 0.9811 - val_loss: 0.0393 - val_accuracy: 0.9883\n",
            "Epoch 7/100\n",
            "373/375 [============================>.] - ETA: 0s - loss: 0.0563 - accuracy: 0.9824\n",
            "Epoch 7: val_accuracy improved from 0.98825 to 0.99000, saving model to mnist/try03_2.h5\n",
            "375/375 [==============================] - 2s 6ms/step - loss: 0.0563 - accuracy: 0.9824 - val_loss: 0.0353 - val_accuracy: 0.9900\n",
            "Epoch 8/100\n",
            "373/375 [============================>.] - ETA: 0s - loss: 0.0518 - accuracy: 0.9838\n",
            "Epoch 8: val_accuracy improved from 0.99000 to 0.99017, saving model to mnist/try03_2.h5\n",
            "375/375 [==============================] - 2s 6ms/step - loss: 0.0518 - accuracy: 0.9837 - val_loss: 0.0327 - val_accuracy: 0.9902\n",
            "Epoch 9/100\n",
            "372/375 [============================>.] - ETA: 0s - loss: 0.0471 - accuracy: 0.9846\n",
            "Epoch 9: val_accuracy did not improve from 0.99017\n",
            "375/375 [==============================] - 2s 6ms/step - loss: 0.0471 - accuracy: 0.9846 - val_loss: 0.0332 - val_accuracy: 0.9900\n",
            "Epoch 10/100\n",
            "371/375 [============================>.] - ETA: 0s - loss: 0.0438 - accuracy: 0.9864\n",
            "Epoch 10: val_accuracy improved from 0.99017 to 0.99125, saving model to mnist/try03_2.h5\n",
            "375/375 [==============================] - 2s 6ms/step - loss: 0.0436 - accuracy: 0.9864 - val_loss: 0.0327 - val_accuracy: 0.9912\n",
            "Epoch 11/100\n",
            "365/375 [============================>.] - ETA: 0s - loss: 0.0416 - accuracy: 0.9868\n",
            "Epoch 11: val_accuracy did not improve from 0.99125\n",
            "375/375 [==============================] - 2s 6ms/step - loss: 0.0416 - accuracy: 0.9868 - val_loss: 0.0327 - val_accuracy: 0.9906\n",
            "Epoch 12/100\n",
            "370/375 [============================>.] - ETA: 0s - loss: 0.0407 - accuracy: 0.9867\n",
            "Epoch 12: val_accuracy improved from 0.99125 to 0.99142, saving model to mnist/try03_2.h5\n",
            "375/375 [==============================] - 2s 6ms/step - loss: 0.0409 - accuracy: 0.9867 - val_loss: 0.0292 - val_accuracy: 0.9914\n",
            "Epoch 13/100\n",
            "372/375 [============================>.] - ETA: 0s - loss: 0.0380 - accuracy: 0.9880\n",
            "Epoch 13: val_accuracy improved from 0.99142 to 0.99192, saving model to mnist/try03_2.h5\n",
            "375/375 [==============================] - 2s 6ms/step - loss: 0.0380 - accuracy: 0.9880 - val_loss: 0.0300 - val_accuracy: 0.9919\n",
            "Epoch 14/100\n",
            "372/375 [============================>.] - ETA: 0s - loss: 0.0372 - accuracy: 0.9876\n",
            "Epoch 14: val_accuracy improved from 0.99192 to 0.99217, saving model to mnist/try03_2.h5\n",
            "375/375 [==============================] - 2s 6ms/step - loss: 0.0373 - accuracy: 0.9876 - val_loss: 0.0272 - val_accuracy: 0.9922\n",
            "Epoch 15/100\n",
            "373/375 [============================>.] - ETA: 0s - loss: 0.0348 - accuracy: 0.9887\n",
            "Epoch 15: val_accuracy improved from 0.99217 to 0.99267, saving model to mnist/try03_2.h5\n",
            "375/375 [==============================] - 2s 6ms/step - loss: 0.0349 - accuracy: 0.9887 - val_loss: 0.0265 - val_accuracy: 0.9927\n",
            "Epoch 16/100\n",
            "367/375 [============================>.] - ETA: 0s - loss: 0.0323 - accuracy: 0.9891\n",
            "Epoch 16: val_accuracy did not improve from 0.99267\n",
            "375/375 [==============================] - 2s 6ms/step - loss: 0.0323 - accuracy: 0.9891 - val_loss: 0.0297 - val_accuracy: 0.9911\n",
            "Epoch 17/100\n",
            "374/375 [============================>.] - ETA: 0s - loss: 0.0322 - accuracy: 0.9892\n",
            "Epoch 17: val_accuracy improved from 0.99267 to 0.99292, saving model to mnist/try03_2.h5\n",
            "375/375 [==============================] - 2s 6ms/step - loss: 0.0321 - accuracy: 0.9892 - val_loss: 0.0280 - val_accuracy: 0.9929\n",
            "Epoch 18/100\n",
            "372/375 [============================>.] - ETA: 0s - loss: 0.0308 - accuracy: 0.9901\n",
            "Epoch 18: val_accuracy improved from 0.99292 to 0.99375, saving model to mnist/try03_2.h5\n",
            "375/375 [==============================] - 2s 6ms/step - loss: 0.0308 - accuracy: 0.9901 - val_loss: 0.0238 - val_accuracy: 0.9937\n",
            "Epoch 19/100\n",
            "375/375 [==============================] - ETA: 0s - loss: 0.0298 - accuracy: 0.9902\n",
            "Epoch 19: val_accuracy did not improve from 0.99375\n",
            "375/375 [==============================] - 2s 6ms/step - loss: 0.0298 - accuracy: 0.9902 - val_loss: 0.0267 - val_accuracy: 0.9930\n",
            "Epoch 20/100\n",
            "368/375 [============================>.] - ETA: 0s - loss: 0.0302 - accuracy: 0.9900\n",
            "Epoch 20: val_accuracy did not improve from 0.99375\n",
            "375/375 [==============================] - 2s 6ms/step - loss: 0.0302 - accuracy: 0.9900 - val_loss: 0.0276 - val_accuracy: 0.9926\n",
            "Epoch 21/100\n",
            "368/375 [============================>.] - ETA: 0s - loss: 0.0289 - accuracy: 0.9907\n",
            "Epoch 21: val_accuracy did not improve from 0.99375\n",
            "375/375 [==============================] - 2s 6ms/step - loss: 0.0288 - accuracy: 0.9908 - val_loss: 0.0293 - val_accuracy: 0.9920\n",
            "Epoch 22/100\n",
            "369/375 [============================>.] - ETA: 0s - loss: 0.0287 - accuracy: 0.9906\n",
            "Epoch 22: val_accuracy did not improve from 0.99375\n",
            "375/375 [==============================] - 2s 6ms/step - loss: 0.0286 - accuracy: 0.9907 - val_loss: 0.0271 - val_accuracy: 0.9930\n",
            "Epoch 23/100\n",
            "375/375 [==============================] - ETA: 0s - loss: 0.0280 - accuracy: 0.9907\n",
            "Epoch 23: val_accuracy did not improve from 0.99375\n",
            "375/375 [==============================] - 2s 6ms/step - loss: 0.0280 - accuracy: 0.9907 - val_loss: 0.0265 - val_accuracy: 0.9927\n",
            "Epoch 24/100\n",
            "375/375 [==============================] - ETA: 0s - loss: 0.0259 - accuracy: 0.9914\n",
            "Epoch 24: val_accuracy did not improve from 0.99375\n",
            "375/375 [==============================] - 2s 6ms/step - loss: 0.0259 - accuracy: 0.9914 - val_loss: 0.0260 - val_accuracy: 0.9923\n",
            "Epoch 25/100\n",
            "369/375 [============================>.] - ETA: 0s - loss: 0.0255 - accuracy: 0.9917\n",
            "Epoch 25: val_accuracy did not improve from 0.99375\n",
            "375/375 [==============================] - 2s 6ms/step - loss: 0.0254 - accuracy: 0.9918 - val_loss: 0.0257 - val_accuracy: 0.9926\n",
            "Epoch 26/100\n",
            "368/375 [============================>.] - ETA: 0s - loss: 0.0261 - accuracy: 0.9911\n",
            "Epoch 26: val_accuracy did not improve from 0.99375\n",
            "375/375 [==============================] - 2s 6ms/step - loss: 0.0258 - accuracy: 0.9911 - val_loss: 0.0261 - val_accuracy: 0.9930\n",
            "Epoch 27/100\n",
            "374/375 [============================>.] - ETA: 0s - loss: 0.0225 - accuracy: 0.9922\n",
            "Epoch 27: val_accuracy did not improve from 0.99375\n",
            "375/375 [==============================] - 2s 6ms/step - loss: 0.0226 - accuracy: 0.9921 - val_loss: 0.0250 - val_accuracy: 0.9928\n",
            "Epoch 28/100\n",
            "366/375 [============================>.] - ETA: 0s - loss: 0.0244 - accuracy: 0.9923\n",
            "Epoch 28: val_accuracy did not improve from 0.99375\n",
            "375/375 [==============================] - 2s 6ms/step - loss: 0.0243 - accuracy: 0.9924 - val_loss: 0.0253 - val_accuracy: 0.9927\n",
            "Epoch 28: early stopping\n"
          ]
        }
      ]
    },
    {
      "cell_type": "code",
      "source": [
        "result = model_1_2.evaluate(test_imgs, test_labels)\n",
        "print(\"\\n테스트 정확도: %.4f\" %(result)[1])"
      ],
      "metadata": {
        "colab": {
          "base_uri": "https://localhost:8080/"
        },
        "outputId": "f34271af-f8cb-46cc-fff9-17fdcbe41c0e",
        "id": "BBHg9vsCzFeD"
      },
      "execution_count": null,
      "outputs": [
        {
          "output_type": "stream",
          "name": "stdout",
          "text": [
            "313/313 [==============================] - 1s 3ms/step - loss: 0.0242 - accuracy: 0.9931\n",
            "\n",
            "테스트 정확도: 0.9931\n"
          ]
        }
      ]
    },
    {
      "cell_type": "code",
      "source": [
        "loaded_model = load_model('mnist/try03_1.h5')\n",
        "result_loaded = loaded_model.evaluate(test_imgs, test_labels)\n",
        "print(\"\\n불러온 모델 테스트 정확도: %.4f\" %(result_loaded)[1])"
      ],
      "metadata": {
        "colab": {
          "base_uri": "https://localhost:8080/"
        },
        "outputId": "177af872-aa41-4875-a657-9ee8cb3ffa93",
        "id": "-OddZd0hzFeE"
      },
      "execution_count": null,
      "outputs": [
        {
          "output_type": "stream",
          "name": "stdout",
          "text": [
            "313/313 [==============================] - 1s 3ms/step - loss: 0.0227 - accuracy: 0.9936\n",
            "\n",
            "불러온 모델 테스트 정확도: 0.9936\n"
          ]
        }
      ]
    },
    {
      "cell_type": "code",
      "source": [
        "acc = hist_1_2.history['accuracy']\n",
        "val_acc = hist_1_2.history['val_accuracy']\n",
        "loss = hist_1_2.history['loss']\n",
        "val_loss = hist_1_2.history['val_loss']\n",
        "\n",
        "epochs = range(1, len(acc)+1)\n",
        "\n",
        "plt.figure(figsize=(8, 12))\n",
        "ax1=plt.subplot(2, 1, 1)\n",
        "ax2=plt.subplot(2, 1, 2)\n",
        "ax1.plot(epochs, acc, 'bo', label='Trainig acc')\n",
        "ax1.plot(epochs, val_acc, 'b', label='Validation acc')\n",
        "ax1.set_title(\"Training and Validation accuracy\")\n",
        "ax1.legend()\n",
        "ax2.plot(epochs, loss, 'bo', label='Traning loss')\n",
        "ax2.plot(epochs, val_loss, 'b', label='Validation loss')\n",
        "ax2.set_title(\"Training and Validation loss\")\n",
        "ax2.legend()\n",
        "plt.show()"
      ],
      "metadata": {
        "colab": {
          "base_uri": "https://localhost:8080/",
          "height": 716
        },
        "outputId": "9e9ffd62-42cb-48d2-c4d1-56e412483881",
        "id": "0gLCkZufzFeE"
      },
      "execution_count": null,
      "outputs": [
        {
          "output_type": "display_data",
          "data": {
            "text/plain": [
              "<Figure size 576x864 with 2 Axes>"
            ],
            "image/png": "[encoded data removed]"
          },
          "metadata": {
            "needs_background": "light"
          }
        }
      ]
    },
    {
      "cell_type": "code",
      "source": [
        "df.loc[1]=['CNN', 'model_1_1', '32(relu/drop0.5)-64(relu/drop0.5)-128(relu/drop0.2)-Flatten-64(sigmoid)-10(softmax)]', 'adam', 100, 128, 0.2, 'es/mc', \n",
        "                    \"%.4f\"%(result)[1], \"%.4f\"%(result_loaded)[1], \"%.4f\"%(result)[0], \"%.4f\"%(result_loaded)[0]]"
      ],
      "metadata": {
        "id": "i57lgiGgzFeF"
      },
      "execution_count": null,
      "outputs": []
    },
    {
      "cell_type": "code",
      "source": [
        "df.head()"
      ],
      "metadata": {
        "colab": {
          "base_uri": "https://localhost:8080/",
          "height": 176
        },
        "id": "K82gOTDByz2D",
        "outputId": "cbe957bb-be37-4ea6-f77e-ae134a58a6b1"
      },
      "execution_count": null,
      "outputs": [
        {
          "output_type": "execute_result",
          "data": {
            "text/plain": [
              "    모델       Name                                          Structure  \\\n",
              "0  CNN  model_1_1  32(relu/drop0.5)-64(relu/drop0.5)-128(relu/dro...   \n",
              "1  CNN  model_1_1  32(relu/drop0.5)-64(relu/drop0.5)-128(relu/dro...   \n",
              "\n",
              "  Optimizer  epochs  batch_size  validation_split callback Accuracy  \\\n",
              "0   rmsprop     100         128               0.2    es/mc   0.9941   \n",
              "1      adam     100         128               0.2    es/mc   0.9931   \n",
              "\n",
              "  MC_Accuracy    Loss MC_Loss  \n",
              "0      0.9936  0.0257  0.0227  \n",
              "1      0.9936  0.0242  0.0227  "
            ],
            "text/html": [
              "\n",
              "  <div id=\"df-e38d28b6-14dd-4d9f-baa6-1f769cc02a92\">\n",
              "    <div class=\"colab-df-container\">\n",
              "      <div>\n",
              "<style scoped>\n",
              "    .dataframe tbody tr th:only-of-type {\n",
              "        vertical-align: middle;\n",
              "    }\n",
              "\n",
              "    .dataframe tbody tr th {\n",
              "        vertical-align: top;\n",
              "    }\n",
              "\n",
              "    .dataframe thead th {\n",
              "        text-align: right;\n",
              "    }\n",
              "</style>\n",
              "<table border=\"1\" class=\"dataframe\">\n",
              "  <thead>\n",
              "    <tr style=\"text-align: right;\">\n",
              "      <th></th>\n",
              "      <th>모델</th>\n",
              "      <th>Name</th>\n",
              "      <th>Structure</th>\n",
              "      <th>Optimizer</th>\n",
              "      <th>epochs</th>\n",
              "      <th>batch_size</th>\n",
              "      <th>validation_split</th>\n",
              "      <th>callback</th>\n",
              "      <th>Accuracy</th>\n",
              "      <th>MC_Accuracy</th>\n",
              "      <th>Loss</th>\n",
              "      <th>MC_Loss</th>\n",
              "    </tr>\n",
              "  </thead>\n",
              "  <tbody>\n",
              "    <tr>\n",
              "      <th>0</th>\n",
              "      <td>CNN</td>\n",
              "      <td>model_1_1</td>\n",
              "      <td>32(relu/drop0.5)-64(relu/drop0.5)-128(relu/dro...</td>\n",
              "      <td>rmsprop</td>\n",
              "      <td>100</td>\n",
              "      <td>128</td>\n",
              "      <td>0.2</td>\n",
              "      <td>es/mc</td>\n",
              "      <td>0.9941</td>\n",
              "      <td>0.9936</td>\n",
              "      <td>0.0257</td>\n",
              "      <td>0.0227</td>\n",
              "    </tr>\n",
              "    <tr>\n",
              "      <th>1</th>\n",
              "      <td>CNN</td>\n",
              "      <td>model_1_1</td>\n",
              "      <td>32(relu/drop0.5)-64(relu/drop0.5)-128(relu/dro...</td>\n",
              "      <td>adam</td>\n",
              "      <td>100</td>\n",
              "      <td>128</td>\n",
              "      <td>0.2</td>\n",
              "      <td>es/mc</td>\n",
              "      <td>0.9931</td>\n",
              "      <td>0.9936</td>\n",
              "      <td>0.0242</td>\n",
              "      <td>0.0227</td>\n",
              "    </tr>\n",
              "  </tbody>\n",
              "</table>\n",
              "</div>\n",
              "      <button class=\"colab-df-convert\" onclick=\"convertToInteractive('df-e38d28b6-14dd-4d9f-baa6-1f769cc02a92')\"\n",
              "              title=\"Convert this dataframe to an interactive table.\"\n",
              "              style=\"display:none;\">\n",
              "        \n",
              "  <svg xmlns=\"http://www.w3.org/2000/svg\" height=\"24px\"viewBox=\"0 0 24 24\"\n",
              "       width=\"24px\">\n",
              "    <path d=\"M0 0h24v24H0V0z\" fill=\"none\"/>\n",
              "    <path d=\"M18.56 5.44l.94 2.06.94-2.06 2.06-.94-2.06-.94-.94-2.06-.94 2.06-2.06.94zm-11 1L8.5 8.5l.94-2.06 2.06-.94-2.06-.94L8.5 2.5l-.94 2.06-2.06.94zm10 10l.94 2.06.94-2.06 2.06-.94-2.06-.94-.94-2.06-.94 2.06-2.06.94z\"/><path d=\"M17.41 7.96l-1.37-1.37c-.4-.4-.92-.59-1.43-.59-.52 0-1.04.2-1.43.59L10.3 9.45l-7.72 7.72c-.78.78-.78 2.05 0 2.83L4 21.41c.39.39.9.59 1.41.59.51 0 1.02-.2 1.41-.59l7.78-7.78 2.81-2.81c.8-.78.8-2.07 0-2.86zM5.41 20L4 18.59l7.72-7.72 1.47 1.35L5.41 20z\"/>\n",
              "  </svg>\n",
              "      </button>\n",
              "      \n",
              "  <style>\n",
              "    .colab-df-container {\n",
              "      display:flex;\n",
              "      flex-wrap:wrap;\n",
              "      gap: 12px;\n",
              "    }\n",
              "\n",
              "    .colab-df-convert {\n",
              "      background-color: #E8F0FE;\n",
              "      border: none;\n",
              "      border-radius: 50%;\n",
              "      cursor: pointer;\n",
              "      display: none;\n",
              "      fill: #1967D2;\n",
              "      height: 32px;\n",
              "      padding: 0 0 0 0;\n",
              "      width: 32px;\n",
              "    }\n",
              "\n",
              "    .colab-df-convert:hover {\n",
              "      background-color: #E2EBFA;\n",
              "      box-shadow: 0px 1px 2px rgba(60, 64, 67, 0.3), 0px 1px 3px 1px rgba(60, 64, 67, 0.15);\n",
              "      fill: #174EA6;\n",
              "    }\n",
              "\n",
              "    [theme=dark] .colab-df-convert {\n",
              "      background-color: #3B4455;\n",
              "      fill: #D2E3FC;\n",
              "    }\n",
              "\n",
              "    [theme=dark] .colab-df-convert:hover {\n",
              "      background-color: #434B5C;\n",
              "      box-shadow: 0px 1px 3px 1px rgba(0, 0, 0, 0.15);\n",
              "      filter: drop-shadow(0px 1px 2px rgba(0, 0, 0, 0.3));\n",
              "      fill: #FFFFFF;\n",
              "    }\n",
              "  </style>\n",
              "\n",
              "      <script>\n",
              "        const buttonEl =\n",
              "          document.querySelector('#df-e38d28b6-14dd-4d9f-baa6-1f769cc02a92 button.colab-df-convert');\n",
              "        buttonEl.style.display =\n",
              "          google.colab.kernel.accessAllowed ? 'block' : 'none';\n",
              "\n",
              "        async function convertToInteractive(key) {\n",
              "          const element = document.querySelector('#df-e38d28b6-14dd-4d9f-baa6-1f769cc02a92');\n",
              "          const dataTable =\n",
              "            await google.colab.kernel.invokeFunction('convertToInteractive',\n",
              "                                                     [key], {});\n",
              "          if (!dataTable) return;\n",
              "\n",
              "          const docLinkHtml = 'Like what you see? Visit the ' +\n",
              "            '<a target=\"_blank\" href=https://colab.research.google.com/notebooks/data_table.ipynb>data table notebook</a>'\n",
              "            + ' to learn more about interactive tables.';\n",
              "          element.innerHTML = '';\n",
              "          dataTable['output_type'] = 'display_data';\n",
              "          await google.colab.output.renderOutput(dataTable, element);\n",
              "          const docLink = document.createElement('div');\n",
              "          docLink.innerHTML = docLinkHtml;\n",
              "          element.appendChild(docLink);\n",
              "        }\n",
              "      </script>\n",
              "    </div>\n",
              "  </div>\n",
              "  "
            ]
          },
          "metadata": {},
          "execution_count": 24
        }
      ]
    },
    {
      "cell_type": "code",
      "source": [
        "df.to_csv(\"./mnist/220921_실습_3.csv\", header=True, sep=',', na_rep='NaN', float_format = '%.4f', encoding='utf-8-sig', line_terminator='\\n')"
      ],
      "metadata": {
        "id": "wgZcTyBMStRP"
      },
      "execution_count": null,
      "outputs": []
    }
  ]
}