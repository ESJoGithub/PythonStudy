{
  "nbformat": 4,
  "nbformat_minor": 0,
  "metadata": {
    "colab": {
      "name": "Python_220808_앙상블기법02.ipynb",
      "provenance": [],
      "collapsed_sections": [],
      "authorship_tag": "ABX9TyPeWQYDKn24AsMqkhU1qUal",
      "include_colab_link": true
    },
    "kernelspec": {
      "name": "python3",
      "display_name": "Python 3"
    },
    "language_info": {
      "name": "python"
    },
    "accelerator": "TPU",
    "gpuClass": "standard"
  },
  "cells": [
    {
      "cell_type": "markdown",
      "metadata": {
        "id": "view-in-github",
        "colab_type": "text"
      },
      "source": [
        "<a href=\"https://colab.research.google.com/github/ESJoGithub/PythonStudy/blob/main/Python_220808_%EC%95%99%EC%83%81%EB%B8%94%EA%B8%B0%EB%B2%9502.ipynb\" target=\"_parent\"><img src=\"https://colab.research.google.com/assets/colab-badge.svg\" alt=\"Open In Colab\"/></a>"
      ]
    },
    {
      "cell_type": "markdown",
      "source": [
        "## **의사결정트리 + K-NN + SVM을 활용한 손글씨 분류 실습**\n",
        "___\n",
        "보팅 앙상블 손글씨 분류\n",
        "\n",
        "배깅(Bagging) = 부트스트랩 + 어그리게이팅"
      ],
      "metadata": {
        "id": "Ha9mgt9S1Lco"
      }
    },
    {
      "cell_type": "markdown",
      "source": [
        "#### **라이브러리 import**\n"
      ],
      "metadata": {
        "id": "zkSk7c7tLyM1"
      }
    },
    {
      "cell_type": "code",
      "source": [
        "from sklearn import datasets\n",
        "from sklearn import tree\n",
        "from sklearn.neighbors import KNeighborsClassifier\n",
        "from sklearn.svm import SVC\n",
        "from sklearn.ensemble import VotingClassifier\n",
        "from sklearn.model_selection import train_test_split\n",
        "from sklearn.metrics import accuracy_score\n",
        "\n",
        "import matplotlib.pyplot as plt\n",
        "import numpy as np"
      ],
      "metadata": {
        "id": "akqmdPZV2R6e"
      },
      "execution_count": 26,
      "outputs": []
    },
    {
      "cell_type": "markdown",
      "source": [
        "####**데이터 로드 및 학습데이터 / 테스트데이터 나누기**"
      ],
      "metadata": {
        "id": "5Br32_Wf3Blu"
      }
    },
    {
      "cell_type": "code",
      "source": [
        "np.random.seed(5)\n",
        "mnist = datasets.load_digits()\n",
        "features, labels = mnist.data, mnist.target\n",
        "x_train, x_test, y_train, y_test = train_test_split(features, labels, test_size=0.2)"
      ],
      "metadata": {
        "id": "1D0pYPxz3FpN"
      },
      "execution_count": 27,
      "outputs": []
    },
    {
      "cell_type": "markdown",
      "source": [
        "####**단일 모델별 정확도 측정**"
      ],
      "metadata": {
        "id": "FiXsMQu64i1V"
      }
    },
    {
      "cell_type": "code",
      "source": [
        "dtree = tree.DecisionTreeClassifier(criterion='gini', max_depth=8, max_features=32) # 지니 계수 사용\n",
        "knn = KNeighborsClassifier(n_neighbors=299)\n",
        "svm = SVC(C=0.1, gamma=0.003, probability=True)\n",
        "\n",
        "dtree.fit(x_train, y_train)\n",
        "knn.fit(x_train, y_train)\n",
        "svm.fit(x_train, y_train)\n",
        "\n",
        "dtree_pred = dtree.predict(x_test)\n",
        "knn_pred = knn.predict(x_test)\n",
        "svm_pred = svm.predict(x_test)\n",
        "\n",
        "print(\"[Accuarcy]\")\n",
        "print(\"d-tree: \", accuracy_score(y_test, dtree_pred))\n",
        "print(\"k-nn: \", accuracy_score(y_test, knn_pred))\n",
        "print(\"svm: \", accuracy_score(y_test, svm_pred))"
      ],
      "metadata": {
        "colab": {
          "base_uri": "https://localhost:8080/"
        },
        "id": "5fv4IPzV4nz1",
        "outputId": "712bd103-36c1-4ae8-9602-ff5f6171c75c"
      },
      "execution_count": 28,
      "outputs": [
        {
          "output_type": "stream",
          "name": "stdout",
          "text": [
            "[Accuarcy]\n",
            "d-tree:  0.7916666666666666\n",
            "k-nn:  0.8944444444444445\n",
            "svm:  0.8916666666666667\n"
          ]
        }
      ]
    },
    {
      "cell_type": "markdown",
      "source": [
        "####**분류값별 확률 확인**"
      ],
      "metadata": {
        "id": "-5Zy8PBWJt6O"
      }
    },
    {
      "cell_type": "code",
      "source": [
        "svm_proba = svm.predict_proba(x_test)\n",
        "print(svm_proba[0:2])\n",
        "\n",
        "# 실제 x_test를 가지고 svm으로 분류하였을 때 어떻게 분류하였는지 확인\n",
        "# 0은 5로, 1행은 2로 분류되었을 것"
      ],
      "metadata": {
        "colab": {
          "base_uri": "https://localhost:8080/"
        },
        "id": "Mc8_804NJx-e",
        "outputId": "3b11713b-6048-4e49-9662-f969412b1efd"
      },
      "execution_count": 29,
      "outputs": [
        {
          "output_type": "stream",
          "name": "stdout",
          "text": [
            "[[0.0020036  0.00913495 0.00860886 0.00431856 0.0047931  0.8975483\n",
            "  0.0019513  0.01046554 0.04855539 0.0126204 ]\n",
            " [0.00290208 0.01165787 0.86869732 0.00809384 0.00503728 0.01857273\n",
            "  0.00301187 0.00945009 0.05716773 0.0154092 ]]\n"
          ]
        }
      ]
    },
    {
      "cell_type": "markdown",
      "source": [
        "####**하드보팅**"
      ],
      "metadata": {
        "id": "yDZmQ91o-CSu"
      }
    },
    {
      "cell_type": "code",
      "source": [
        "voting_model = VotingClassifier(estimators=[(\"Decision_Tree\", dtree), (\"K-NN\", knn), (\"SVM\", svm)],\n",
        "                                weights = [1, 1, 1], voting = \"hard\")\n",
        "voting_model.fit(x_train, y_train)\n",
        "hard_voting_pred = voting_model.predict(x_test)\n",
        "\n",
        "accuracy_score(y_test, hard_voting_pred)"
      ],
      "metadata": {
        "colab": {
          "base_uri": "https://localhost:8080/"
        },
        "id": "9OeVHIOR-LZO",
        "outputId": "dec2d4b4-75f7-4b6e-be82-12c5c697a20e"
      },
      "execution_count": 30,
      "outputs": [
        {
          "output_type": "execute_result",
          "data": {
            "text/plain": [
              "0.9472222222222222"
            ]
          },
          "metadata": {},
          "execution_count": 30
        }
      ]
    },
    {
      "cell_type": "markdown",
      "source": [
        "####**소프트 보팅**"
      ],
      "metadata": {
        "id": "DizmqGNf_nw-"
      }
    },
    {
      "cell_type": "code",
      "source": [
        "voting_model = VotingClassifier(estimators=[(\"Decision_Tree\", dtree), (\"K-NN\", knn), (\"SVM\", svm)],\n",
        "                                weights = [1, 1, 1], voting = \"soft\")\n",
        "voting_model.fit(x_train, y_train)\n",
        "soft_voting_pred = voting_model.predict(x_test)\n",
        "\n",
        "accuracy_score(y_test, soft_voting_pred)"
      ],
      "metadata": {
        "colab": {
          "base_uri": "https://localhost:8080/"
        },
        "id": "s3-ga_vR_q-u",
        "outputId": "06f67bdf-a3c7-45c4-c9e4-f5f7443fa02f"
      },
      "execution_count": 31,
      "outputs": [
        {
          "output_type": "execute_result",
          "data": {
            "text/plain": [
              "0.9333333333333333"
            ]
          },
          "metadata": {},
          "execution_count": 31
        }
      ]
    },
    {
      "cell_type": "markdown",
      "source": [
        "####**정확도 비교 시각화**"
      ],
      "metadata": {
        "id": "58f9I4sqKPK9"
      }
    },
    {
      "cell_type": "code",
      "source": [
        "x = np.arange(5)"
      ],
      "metadata": {
        "id": "X86S7BE7KSAr"
      },
      "execution_count": 32,
      "outputs": []
    },
    {
      "cell_type": "code",
      "source": [
        "plt.bar(x, height=[accuracy_score(y_test, dtree_pred),\n",
        "                   accuracy_score(y_test, knn_pred),\n",
        "                   accuracy_score(y_test, svm_pred),\n",
        "                   accuracy_score(y_test, hard_voting_pred),\n",
        "                   accuracy_score(y_test, soft_voting_pred)])\n",
        "plt.xticks(x, ['decision tree', 'knn', 'svm','hard voting', 'soft voting'])"
      ],
      "metadata": {
        "colab": {
          "base_uri": "https://localhost:8080/",
          "height": 448
        },
        "id": "zzZLeGWsKNv_",
        "outputId": "ee8b4844-7321-4cc3-b9f1-7841dee9a702"
      },
      "execution_count": 33,
      "outputs": [
        {
          "output_type": "execute_result",
          "data": {
            "text/plain": [
              "([<matplotlib.axis.XTick at 0x7f92186054d0>,\n",
              "  <matplotlib.axis.XTick at 0x7f9218615510>,\n",
              "  <matplotlib.axis.XTick at 0x7f9218615210>,\n",
              "  <matplotlib.axis.XTick at 0x7f9217fd7dd0>,\n",
              "  <matplotlib.axis.XTick at 0x7f9217fe1390>],\n",
              " [Text(0, 0, 'decision tree'),\n",
              "  Text(0, 0, 'knn'),\n",
              "  Text(0, 0, 'svm'),\n",
              "  Text(0, 0, 'hard voting'),\n",
              "  Text(0, 0, 'soft voting')])"
            ]
          },
          "metadata": {},
          "execution_count": 33
        },
        {
          "output_type": "display_data",
          "data": {
            "text/plain": [
              "<Figure size 432x288 with 1 Axes>"
            ],
            "image/png": "[encoded data removed]"
          },
          "metadata": {
            "needs_background": "light"
          }
        }
      ]
    }
  ]
}
