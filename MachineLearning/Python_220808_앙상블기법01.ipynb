{
  "nbformat": 4,
  "nbformat_minor": 0,
  "metadata": {
    "colab": {
      "provenance": [],
      "collapsed_sections": [],
      "authorship_tag": "ABX9TyO5lwO0YC1u9WE6uKt9c5j/"
    },
    "kernelspec": {
      "name": "python3",
      "display_name": "Python 3"
    },
    "language_info": {
      "name": "python"
    },
    "accelerator": "TPU",
    "gpuClass": "standard"
  },
  "cells": [
    {
      "cell_type": "markdown",
      "source": [
        "## **RandomForest를 활용한 손글씨 분류 실습**"
      ],
      "metadata": {
        "id": "Ha9mgt9S1Lco"
      }
    },
    {
      "cell_type": "markdown",
      "source": [
        "#### **라이브러리 import**\n"
      ],
      "metadata": {
        "id": "zkSk7c7tLyM1"
      }
    },
    {
      "cell_type": "code",
      "source": [
        "from sklearn.datasets import fetch_openml\n",
        "from sklearn.model_selection import train_test_split\n",
        "from sklearn import tree\n",
        "from sklearn.ensemble import RandomForestClassifier\n",
        "from sklearn.metrics import accuracy_score\n",
        "from sklearn.model_selection import GridSearchCV        # 최적의 파라미터 조합을 찾아내기 위함\n",
        "import matplotlib.pyplot as plt\n",
        "import numpy as np\n",
        "import pandas as pd\n",
        "import seaborn as sns"
      ],
      "metadata": {
        "id": "akqmdPZV2R6e"
      },
      "execution_count": null,
      "outputs": []
    },
    {
      "cell_type": "markdown",
      "source": [
        "####**데이터 로드 및 확인**"
      ],
      "metadata": {
        "id": "5Br32_Wf3Blu"
      }
    },
    {
      "cell_type": "code",
      "source": [
        "mnist = fetch_openml('mnist_784')\n",
        "mnist_data = mnist.data[:10000]\n",
        "mnist_target = mnist.target[:10000]\n",
        "\n",
        "print(mnist_data)\n",
        "print(mnist_data.shape)\n",
        "print(mnist_target)\n",
        "print(mnist_target.shape)"
      ],
      "metadata": {
        "colab": {
          "base_uri": "https://localhost:8080/"
        },
        "id": "1D0pYPxz3FpN",
        "outputId": "c841e3c4-fe67-42b7-9391-ed934a304870"
      },
      "execution_count": null,
      "outputs": [
        {
          "output_type": "stream",
          "name": "stdout",
          "text": [
            "      pixel1  pixel2  pixel3  pixel4  pixel5  pixel6  pixel7  pixel8  pixel9  \\\n",
            "0        0.0     0.0     0.0     0.0     0.0     0.0     0.0     0.0     0.0   \n",
            "1        0.0     0.0     0.0     0.0     0.0     0.0     0.0     0.0     0.0   \n",
            "2        0.0     0.0     0.0     0.0     0.0     0.0     0.0     0.0     0.0   \n",
            "3        0.0     0.0     0.0     0.0     0.0     0.0     0.0     0.0     0.0   \n",
            "4        0.0     0.0     0.0     0.0     0.0     0.0     0.0     0.0     0.0   \n",
            "...      ...     ...     ...     ...     ...     ...     ...     ...     ...   \n",
            "9995     0.0     0.0     0.0     0.0     0.0     0.0     0.0     0.0     0.0   \n",
            "9996     0.0     0.0     0.0     0.0     0.0     0.0     0.0     0.0     0.0   \n",
            "9997     0.0     0.0     0.0     0.0     0.0     0.0     0.0     0.0     0.0   \n",
            "9998     0.0     0.0     0.0     0.0     0.0     0.0     0.0     0.0     0.0   \n",
            "9999     0.0     0.0     0.0     0.0     0.0     0.0     0.0     0.0     0.0   \n",
            "\n",
            "      pixel10  ...  pixel775  pixel776  pixel777  pixel778  pixel779  \\\n",
            "0         0.0  ...       0.0       0.0       0.0       0.0       0.0   \n",
            "1         0.0  ...       0.0       0.0       0.0       0.0       0.0   \n",
            "2         0.0  ...       0.0       0.0       0.0       0.0       0.0   \n",
            "3         0.0  ...       0.0       0.0       0.0       0.0       0.0   \n",
            "4         0.0  ...       0.0       0.0       0.0       0.0       0.0   \n",
            "...       ...  ...       ...       ...       ...       ...       ...   \n",
            "9995      0.0  ...       0.0       0.0       0.0       0.0       0.0   \n",
            "9996      0.0  ...       0.0       0.0       0.0       0.0       0.0   \n",
            "9997      0.0  ...       0.0       0.0       0.0       0.0       0.0   \n",
            "9998      0.0  ...       0.0       0.0       0.0       0.0       0.0   \n",
            "9999      0.0  ...       0.0       0.0       0.0       0.0       0.0   \n",
            "\n",
            "      pixel780  pixel781  pixel782  pixel783  pixel784  \n",
            "0          0.0       0.0       0.0       0.0       0.0  \n",
            "1          0.0       0.0       0.0       0.0       0.0  \n",
            "2          0.0       0.0       0.0       0.0       0.0  \n",
            "3          0.0       0.0       0.0       0.0       0.0  \n",
            "4          0.0       0.0       0.0       0.0       0.0  \n",
            "...        ...       ...       ...       ...       ...  \n",
            "9995       0.0       0.0       0.0       0.0       0.0  \n",
            "9996       0.0       0.0       0.0       0.0       0.0  \n",
            "9997       0.0       0.0       0.0       0.0       0.0  \n",
            "9998       0.0       0.0       0.0       0.0       0.0  \n",
            "9999       0.0       0.0       0.0       0.0       0.0  \n",
            "\n",
            "[10000 rows x 784 columns]\n",
            "(10000, 784)\n",
            "0       5\n",
            "1       0\n",
            "2       4\n",
            "3       1\n",
            "4       9\n",
            "       ..\n",
            "9995    5\n",
            "9996    8\n",
            "9997    6\n",
            "9998    9\n",
            "9999    7\n",
            "Name: class, Length: 10000, dtype: category\n",
            "Categories (10, object): ['0', '1', '2', '3', ..., '6', '7', '8', '9']\n",
            "(10000,)\n"
          ]
        }
      ]
    },
    {
      "cell_type": "markdown",
      "source": [
        "####**학습데이터 / 테스트데이터 나누기**"
      ],
      "metadata": {
        "id": "3NBPJdUV4YBG"
      }
    },
    {
      "cell_type": "code",
      "source": [
        "# 10000개 dataset만 학습\n",
        "x_train, x_test, y_train, y_test = train_test_split(mnist_data, mnist_target, test_size=0.2)\n",
        "\n",
        "# 전체 dataset 학습\n",
        "# x_train, x_test, y_train, y_test = train_test_split(mnist.data, mnist.target, test_size=0.2)"
      ],
      "metadata": {
        "id": "Omuma2h54Gq4"
      },
      "execution_count": null,
      "outputs": []
    },
    {
      "cell_type": "markdown",
      "source": [
        "####**Parameter 없이 학습하기**"
      ],
      "metadata": {
        "id": "FiXsMQu64i1V"
      }
    },
    {
      "cell_type": "code",
      "source": [
        "dt_clf = tree.DecisionTreeClassifier()\n",
        "rf_clf = RandomForestClassifier()\n",
        "\n",
        "dt_clf.fit(x_train, y_train)\n",
        "rf_clf.fit(x_train, y_train)\n",
        "\n",
        "dt_pred = dt_clf.predict(x_test)\n",
        "rf_pred = rf_clf.predict(x_test)\n",
        "\n",
        "accuracy_dt = accuracy_score(y_test, dt_pred)\n",
        "accuracy_rf = accuracy_score(y_test, rf_pred)\n",
        "\n",
        "print(\"의사결정트리 예측 정확도 {0: .4f}\".format(accuracy_dt))\n",
        "print(\"랜덤 포레스트 예측 정확도 {0: .4f}\".format(accuracy_rf))"
      ],
      "metadata": {
        "colab": {
          "base_uri": "https://localhost:8080/"
        },
        "id": "5fv4IPzV4nz1",
        "outputId": "36f3fdb2-f7d1-405a-c39e-50995b78f6d3"
      },
      "execution_count": null,
      "outputs": [
        {
          "output_type": "stream",
          "name": "stdout",
          "text": [
            "의사결정트리 예측 정확도  0.7900\n",
            "랜덤 포레스트 예측 정확도  0.9445\n"
          ]
        }
      ]
    },
    {
      "cell_type": "markdown",
      "source": [
        "####**특징 중요도 확인**"
      ],
      "metadata": {
        "id": "yDZmQ91o-CSu"
      }
    },
    {
      "cell_type": "code",
      "source": [
        "ft_importance_values = rf_clf.feature_importances_\n",
        "ft_importances = pd.Series(ft_importance_values)\n",
        "top10 = ft_importances.sort_values(ascending=False)[:10]  #ascending=False 내림차순\n",
        "plt.figure(figsize=(12, 10))\n",
        "plt.title('Feature Importances')\n",
        "sns.barplot(x=top10.index, y = top10)\n",
        "plt.show()"
      ],
      "metadata": {
        "colab": {
          "base_uri": "https://localhost:8080/",
          "height": 607
        },
        "id": "9OeVHIOR-LZO",
        "outputId": "5fb49ea7-68e9-45f8-c099-6830ddfa60ee"
      },
      "execution_count": null,
      "outputs": [
        {
          "output_type": "display_data",
          "data": {
            "text/plain": [
              "<Figure size 864x720 with 1 Axes>"
            ],
            "image/png": "[encoded data removed]"
          },
          "metadata": {
            "needs_background": "light"
          }
        }
      ]
    },
    {
      "cell_type": "markdown",
      "source": [
        "####**Parameter 사용하여 학습하기**"
      ],
      "metadata": {
        "id": "DizmqGNf_nw-"
      }
    },
    {
      "cell_type": "code",
      "source": [
        "from pandas.core import sorting\n",
        "# n_estimators : dicision tree의 개수를 각각 100, 110, 120개로 만들어 냄\n",
        "# min_samples_leaf : 리프 노드가 되기 위한 최소 샘플 데이터 개수\n",
        "# min_samples_split : 자식 노드를 갖기 위한 최소한의 데이터 개수\n",
        "# parameter를 잘 활용해야 예측 정확도를 높일 수 있음.\n",
        "\n",
        "rf_param_grid = {\n",
        "    'n_estimators' : [100, 110, 120],    \n",
        "    'min_samples_leaf' : [1, 2, 3],\n",
        "    'min_samples_split' : [2, 3, 4]\n",
        "}\n",
        "rf_clf = RandomForestClassifier(random_state = 0)\n",
        "grid = GridSearchCV(rf_clf, param_grid=rf_param_grid,\n",
        "                    scoring= 'accuracy', n_jobs=1)\n",
        "\n",
        "grid.fit(x_train, y_train)"
      ],
      "metadata": {
        "colab": {
          "base_uri": "https://localhost:8080/"
        },
        "id": "s3-ga_vR_q-u",
        "outputId": "dea33728-c5ef-4a3e-fa0a-ed156e0b116b"
      },
      "execution_count": null,
      "outputs": [
        {
          "output_type": "execute_result",
          "data": {
            "text/plain": [
              "GridSearchCV(estimator=RandomForestClassifier(random_state=0), n_jobs=1,\n",
              "             param_grid={'min_samples_leaf': [1, 2, 3],\n",
              "                         'min_samples_split': [2, 3, 4],\n",
              "                         'n_estimators': [100, 110, 120]},\n",
              "             scoring='accuracy')"
            ]
          },
          "metadata": {},
          "execution_count": 6
        }
      ]
    },
    {
      "cell_type": "code",
      "source": [
        "print('최고 평균 정확도: {0: .4f}'.format(grid.best_score_))\n",
        "print(grid.best_params_)"
      ],
      "metadata": {
        "colab": {
          "base_uri": "https://localhost:8080/"
        },
        "id": "fEhn6KCoEPDn",
        "outputId": "c1343712-ca7a-492b-a65a-110302949615"
      },
      "execution_count": null,
      "outputs": [
        {
          "output_type": "stream",
          "name": "stdout",
          "text": [
            "최고 평균 정확도:  0.9459\n",
            "{'min_samples_leaf': 1, 'min_samples_split': 2, 'n_estimators': 120}\n"
          ]
        }
      ]
    }
  ]
}