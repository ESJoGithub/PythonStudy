{
  "nbformat": 4,
  "nbformat_minor": 0,
  "metadata": {
    "colab": {
      "name": "Python_220809_LogisticRegression02.ipynb",
      "provenance": [],
      "collapsed_sections": [],
      "authorship_tag": "ABX9TyPI37OgPXq2NwRvpz0XfV3X",
      "include_colab_link": true
    },
    "kernelspec": {
      "name": "python3",
      "display_name": "Python 3"
    },
    "language_info": {
      "name": "python"
    }
  },
  "cells": [
    {
      "cell_type": "markdown",
      "metadata": {
        "id": "view-in-github",
        "colab_type": "text"
      },
      "source": [
        "<a href=\"https://colab.research.google.com/github/ESJoGithub/PythonStudy/blob/main/Python_220809_LogisticRegression02.ipynb\" target=\"_parent\"><img src=\"https://colab.research.google.com/assets/colab-badge.svg\" alt=\"Open In Colab\"/></a>"
      ]
    },
    {
      "cell_type": "markdown",
      "source": [
        "## **로지스틱 회귀(Logistic Regression) 실습**\n",
        "___\n",
        "> 다중 입력 로지스틱 회귀 모델 실습"
      ],
      "metadata": {
        "id": "Ha9mgt9S1Lco"
      }
    },
    {
      "cell_type": "markdown",
      "source": [
        "#### **라이브러리 import**\n"
      ],
      "metadata": {
        "id": "Ry9vEcnqBNdd"
      }
    },
    {
      "cell_type": "code",
      "execution_count": 1,
      "metadata": {
        "id": "FUtaUD1SBNdd"
      },
      "outputs": [],
      "source": [
        "from tensorflow.keras.models import Sequential\n",
        "from tensorflow.keras.layers import Dense, Activation\n",
        "import numpy as np"
      ]
    },
    {
      "cell_type": "markdown",
      "source": [
        "#### **로지스틱 회귀 모델 만들기**"
      ],
      "metadata": {
        "id": "eC7kC1-4ZSxq"
      }
    },
    {
      "cell_type": "code",
      "source": [
        "model = Sequential()\n",
        "model.add(Dense(input_dim = 2, units = 1))                  # 2개의 입력\n",
        "model.add(Activation(\"sigmoid\"))\n",
        "model.compile(loss=\"binary_crossentropy\", optimizer='sgd', metrics=['binary_accuracy'])"
      ],
      "metadata": {
        "id": "pfwUrsuZZW-r"
      },
      "execution_count": 2,
      "outputs": []
    },
    {
      "cell_type": "markdown",
      "source": [
        "####**데이터 생성 및 모델 학습**"
      ],
      "metadata": {
        "id": "ieSRJonZBNdd"
      }
    },
    {
      "cell_type": "code",
      "source": [
        "X = np.array([(0, 0), (0, 1), (1, 0), (1, 1)])\n",
        "Y = np.array([0, 0, 0, 1])\n",
        "\n",
        "model.fit(X, Y, epochs=5000, verbose=0)"
      ],
      "metadata": {
        "colab": {
          "base_uri": "https://localhost:8080/"
        },
        "outputId": "6457c41f-5a15-4d27-e98b-540cb7ccf0dc",
        "id": "Hy8rbTsNBNdd"
      },
      "execution_count": 3,
      "outputs": [
        {
          "output_type": "execute_result",
          "data": {
            "text/plain": [
              "<keras.callbacks.History at 0x7f4c26f7b750>"
            ]
          },
          "metadata": {},
          "execution_count": 3
        }
      ]
    },
    {
      "cell_type": "markdown",
      "source": [
        "#### **예측하기**"
      ],
      "metadata": {
        "id": "fDZb3m0PUwMc"
      }
    },
    {
      "cell_type": "code",
      "source": [
        "model.predict(X)"
      ],
      "metadata": {
        "colab": {
          "base_uri": "https://localhost:8080/"
        },
        "id": "Bdu64PQ-Mt-X",
        "outputId": "d8add968-c0ef-4e19-c0d8-c9ed321b025c"
      },
      "execution_count": 5,
      "outputs": [
        {
          "output_type": "execute_result",
          "data": {
            "text/plain": [
              "array([[0.02894902],\n",
              "       [0.21513897],\n",
              "       [0.1992043 ],\n",
              "       [0.69579303]], dtype=float32)"
            ]
          },
          "metadata": {},
          "execution_count": 5
        }
      ]
    },
    {
      "cell_type": "markdown",
      "source": [
        "#### **모델 요약**"
      ],
      "metadata": {
        "id": "fQxukvUYafLE"
      }
    },
    {
      "cell_type": "code",
      "source": [
        "# param = w1, w2, b\n",
        "model.summary()"
      ],
      "metadata": {
        "colab": {
          "base_uri": "https://localhost:8080/"
        },
        "id": "6cHRXAVQVIKJ",
        "outputId": "ef6ecdb2-2077-461b-d293-a25cb5e5a324"
      },
      "execution_count": 6,
      "outputs": [
        {
          "output_type": "stream",
          "name": "stdout",
          "text": [
            "Model: \"sequential\"\n",
            "_________________________________________________________________\n",
            " Layer (type)                Output Shape              Param #   \n",
            "=================================================================\n",
            " dense (Dense)               (None, 1)                 3         \n",
            "                                                                 \n",
            " activation (Activation)     (None, 1)                 0         \n",
            "                                                                 \n",
            "=================================================================\n",
            "Total params: 3\n",
            "Trainable params: 3\n",
            "Non-trainable params: 0\n",
            "_________________________________________________________________\n"
          ]
        }
      ]
    },
    {
      "cell_type": "markdown",
      "source": [
        "#### **weight 확인**"
      ],
      "metadata": {
        "id": "IIenwc2lCbZq"
      }
    },
    {
      "cell_type": "code",
      "source": [
        "# w1 = 2.1215665,  w2 = 2.218619, b = -3.5128417\n",
        "model.layers[0].get_weights()"
      ],
      "metadata": {
        "colab": {
          "base_uri": "https://localhost:8080/"
        },
        "id": "B-co3qKVCeTe",
        "outputId": "e20d4578-747d-4abe-eb30-0d688692f201"
      },
      "execution_count": 7,
      "outputs": [
        {
          "output_type": "execute_result",
          "data": {
            "text/plain": [
              "[array([[2.1215665],\n",
              "        [2.218619 ]], dtype=float32), array([-3.5128417], dtype=float32)]"
            ]
          },
          "metadata": {},
          "execution_count": 7
        }
      ]
    }
  ]
}
