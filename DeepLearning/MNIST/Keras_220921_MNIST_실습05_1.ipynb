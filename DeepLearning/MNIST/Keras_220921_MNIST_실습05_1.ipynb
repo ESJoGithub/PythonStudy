{
  "nbformat": 4,
  "nbformat_minor": 0,
  "metadata": {
    "colab": {
      "provenance": [],
      "collapsed_sections": [],
      "include_colab_link": true
    },
    "kernelspec": {
      "name": "python3",
      "display_name": "Python 3"
    },
    "language_info": {
      "name": "python"
    },
    "accelerator": "GPU"
  },
  "cells": [
    {
      "cell_type": "markdown",
      "metadata": {
        "id": "view-in-github",
        "colab_type": "text"
      },
      "source": [
        "<a href=\"https://colab.research.google.com/github/ESJoGithub/PythonStudy/blob/main/DeepLearning/MNIST/Keras_220921_MNIST_%EC%8B%A4%EC%8A%B505_1.ipynb\" target=\"_parent\"><img src=\"https://colab.research.google.com/assets/colab-badge.svg\" alt=\"Open In Colab\"/></a>"
      ]
    },
    {
      "cell_type": "code",
      "source": [
        "from google.colab import drive\n",
        "drive.mount('/content/drive')"
      ],
      "metadata": {
        "colab": {
          "base_uri": "https://localhost:8080/"
        },
        "id": "oxtO2zTTtPq3",
        "outputId": "d890aa3f-a965-4491-cf2c-91657cfda716"
      },
      "execution_count": 1,
      "outputs": [
        {
          "output_type": "stream",
          "name": "stdout",
          "text": [
            "Mounted at /content/drive\n"
          ]
        }
      ]
    },
    {
      "cell_type": "code",
      "source": [
        "!ln -s /content/drive/MyDrive /mydrive"
      ],
      "metadata": {
        "id": "e2ZTrV_htIFl"
      },
      "execution_count": 2,
      "outputs": []
    },
    {
      "cell_type": "code",
      "source": [
        "%cd /mydrive"
      ],
      "metadata": {
        "colab": {
          "base_uri": "https://localhost:8080/"
        },
        "id": "B9ry3cBStVU1",
        "outputId": "201a5e3a-50a0-4ca9-b7a9-d3c7973846e0"
      },
      "execution_count": 3,
      "outputs": [
        {
          "output_type": "stream",
          "name": "stdout",
          "text": [
            "/content/drive/MyDrive\n"
          ]
        }
      ]
    },
    {
      "cell_type": "code",
      "source": [
        "!mkdir mnist"
      ],
      "metadata": {
        "id": "98FN5iLDtXqb",
        "colab": {
          "base_uri": "https://localhost:8080/"
        },
        "outputId": "e322b28d-3f18-4059-a592-2e251830cbdf"
      },
      "execution_count": 4,
      "outputs": [
        {
          "output_type": "stream",
          "name": "stdout",
          "text": [
            "mkdir: cannot create directory ‘mnist’: File exists\n"
          ]
        }
      ]
    },
    {
      "cell_type": "markdown",
      "source": [
        "## __배치정규화 일괄적용__\n",
        "--\n",
        "\n",
        "Batch_normalization 추가"
      ],
      "metadata": {
        "id": "19CLRpWxwL5T"
      }
    },
    {
      "cell_type": "code",
      "source": [
        "from keras import datasets, layers, models                \n",
        "from tensorflow import keras                         # to_categorical 함수\n",
        "from tensorflow.keras.models import load_model\n",
        "from tensorflow.keras.callbacks import EarlyStopping, ModelCheckpoint\n",
        "\n",
        "import numpy as np\n",
        "import matplotlib.pyplot as plt\n",
        "import pandas as pd"
      ],
      "metadata": {
        "id": "UFco5dLCQBQF"
      },
      "execution_count": 5,
      "outputs": []
    },
    {
      "cell_type": "code",
      "source": [
        "(train_imgs, train_labels), (test_imgs, test_labels) = datasets.mnist.load_data()"
      ],
      "metadata": {
        "id": "rwcqMzdKTPwN",
        "colab": {
          "base_uri": "https://localhost:8080/"
        },
        "outputId": "d006623f-445a-4930-e768-79d57776767f"
      },
      "execution_count": 6,
      "outputs": [
        {
          "output_type": "stream",
          "name": "stdout",
          "text": [
            "Downloading data from https://storage.googleapis.com/tensorflow/tf-keras-datasets/mnist.npz\n",
            "11493376/11490434 [==============================] - 0s 0us/step\n",
            "11501568/11490434 [==============================] - 0s 0us/step\n"
          ]
        }
      ]
    },
    {
      "cell_type": "code",
      "source": [
        "train_imgs = train_imgs/255.0\n",
        "test_imgs = test_imgs/255.0"
      ],
      "metadata": {
        "id": "w4IFaKuOYIfc"
      },
      "execution_count": 7,
      "outputs": []
    },
    {
      "cell_type": "code",
      "source": [
        "train_imgs = train_imgs.reshape((60000, 28, 28, 1))\n",
        "test_imgs = test_imgs.reshape((10000, 28, 28, 1))"
      ],
      "metadata": {
        "id": "5IGxhDfjiN7d"
      },
      "execution_count": 8,
      "outputs": []
    },
    {
      "cell_type": "code",
      "source": [
        "train_labels = keras.utils.to_categorical(train_labels, num_classes=10)\n",
        "test_labels = keras.utils.to_categorical(test_labels, num_classes=10)"
      ],
      "metadata": {
        "id": "ouDs40X-n_uw"
      },
      "execution_count": 9,
      "outputs": []
    },
    {
      "cell_type": "markdown",
      "source": [
        "#### __1. BatchNormalization, 출력 직전층 activation='sigmoid', optimizer='rmsprop'__ "
      ],
      "metadata": {
        "id": "J3jjZUjiwydX"
      }
    },
    {
      "cell_type": "code",
      "source": [
        "model_1_1 = keras.Sequential()\n",
        "model_1_1.add(layers.Conv2D(32, kernel_size=(3, 3), input_shape=(28, 28, 1)))\n",
        "model_1_1.add(layers.BatchNormalization())\n",
        "model_1_1.add(layers.Activation('relu'))\n",
        "model_1_1.add(layers.MaxPooling2D(pool_size=(2,2)))\n",
        "model_1_1.add(layers.Dropout(0.2))\n",
        "model_1_1.add(layers.Conv2D(64, (3, 3)))\n",
        "model_1_1.add(layers.BatchNormalization())\n",
        "model_1_1.add(layers.Activation('relu'))\n",
        "model_1_1.add(layers.MaxPooling2D((2,2)))\n",
        "model_1_1.add(layers.Dropout(0.2))\n",
        "model_1_1.add(layers.Conv2D(128, (3, 3)))\n",
        "model_1_1.add(layers.BatchNormalization())\n",
        "model_1_1.add(layers.Activation('relu'))\n",
        "model_1_1.add(layers.Dropout(0.5))\n",
        "model_1_1.add(layers.Flatten())\n",
        "model_1_1.add(layers.Dense(64))\n",
        "model_1_1.add(layers.BatchNormalization())\n",
        "model_1_1.add(layers.Activation('sigmoid'))\n",
        "model_1_1.add(layers.Dense(10, activation=\"softmax\"))\n",
        "\n",
        "model_1_1.summary()"
      ],
      "metadata": {
        "colab": {
          "base_uri": "https://localhost:8080/"
        },
        "outputId": "681456af-ae73-453c-99cd-2b3d6f03fa13",
        "id": "aRIhB0X3wtb4"
      },
      "execution_count": 10,
      "outputs": [
        {
          "output_type": "stream",
          "name": "stdout",
          "text": [
            "Model: \"sequential\"\n",
            "_________________________________________________________________\n",
            " Layer (type)                Output Shape              Param #   \n",
            "=================================================================\n",
            " conv2d (Conv2D)             (None, 26, 26, 32)        320       \n",
            "                                                                 \n",
            " batch_normalization (BatchN  (None, 26, 26, 32)       128       \n",
            " ormalization)                                                   \n",
            "                                                                 \n",
            " activation (Activation)     (None, 26, 26, 32)        0         \n",
            "                                                                 \n",
            " max_pooling2d (MaxPooling2D  (None, 13, 13, 32)       0         \n",
            " )                                                               \n",
            "                                                                 \n",
            " dropout (Dropout)           (None, 13, 13, 32)        0         \n",
            "                                                                 \n",
            " conv2d_1 (Conv2D)           (None, 11, 11, 64)        18496     \n",
            "                                                                 \n",
            " batch_normalization_1 (Batc  (None, 11, 11, 64)       256       \n",
            " hNormalization)                                                 \n",
            "                                                                 \n",
            " activation_1 (Activation)   (None, 11, 11, 64)        0         \n",
            "                                                                 \n",
            " max_pooling2d_1 (MaxPooling  (None, 5, 5, 64)         0         \n",
            " 2D)                                                             \n",
            "                                                                 \n",
            " dropout_1 (Dropout)         (None, 5, 5, 64)          0         \n",
            "                                                                 \n",
            " conv2d_2 (Conv2D)           (None, 3, 3, 128)         73856     \n",
            "                                                                 \n",
            " batch_normalization_2 (Batc  (None, 3, 3, 128)        512       \n",
            " hNormalization)                                                 \n",
            "                                                                 \n",
            " activation_2 (Activation)   (None, 3, 3, 128)         0         \n",
            "                                                                 \n",
            " dropout_2 (Dropout)         (None, 3, 3, 128)         0         \n",
            "                                                                 \n",
            " flatten (Flatten)           (None, 1152)              0         \n",
            "                                                                 \n",
            " dense (Dense)               (None, 64)                73792     \n",
            "                                                                 \n",
            " batch_normalization_3 (Batc  (None, 64)               256       \n",
            " hNormalization)                                                 \n",
            "                                                                 \n",
            " activation_3 (Activation)   (None, 64)                0         \n",
            "                                                                 \n",
            " dense_1 (Dense)             (None, 10)                650       \n",
            "                                                                 \n",
            "=================================================================\n",
            "Total params: 168,266\n",
            "Trainable params: 167,690\n",
            "Non-trainable params: 576\n",
            "_________________________________________________________________\n"
          ]
        }
      ]
    },
    {
      "cell_type": "code",
      "source": [
        "model_1_1.compile(optimizer=\"rmsprop\", loss=\"categorical_crossentropy\", metrics=[\"accuracy\"])"
      ],
      "metadata": {
        "id": "2xmXZNfewtcK"
      },
      "execution_count": 11,
      "outputs": []
    },
    {
      "cell_type": "code",
      "source": [
        "es = EarlyStopping(monitor='val_loss', mode='min', verbose=1, patience=10)\n",
        "mc = ModelCheckpoint('mnist/try05_3.h5', monitor='val_accuracy', mode='max', verbose=1, save_best_only=True)\n",
        "hist_1_1 = model_1_1.fit(train_imgs, train_labels, epochs=100, batch_size=128, validation_split=0.2, callbacks=[es, mc])"
      ],
      "metadata": {
        "colab": {
          "base_uri": "https://localhost:8080/"
        },
        "outputId": "7050d762-0113-43cd-97da-bb7efe680241",
        "id": "VRjSobitwtcK"
      },
      "execution_count": 12,
      "outputs": [
        {
          "output_type": "stream",
          "name": "stdout",
          "text": [
            "Epoch 1/100\n",
            "371/375 [============================>.] - ETA: 0s - loss: 0.4658 - accuracy: 0.9412\n",
            "Epoch 1: val_accuracy improved from -inf to 0.12533, saving model to mnist/try05_3.h5\n",
            "375/375 [==============================] - 16s 9ms/step - loss: 0.4624 - accuracy: 0.9416 - val_loss: 2.3458 - val_accuracy: 0.1253\n",
            "Epoch 2/100\n",
            "372/375 [============================>.] - ETA: 0s - loss: 0.0894 - accuracy: 0.9809\n",
            "Epoch 2: val_accuracy improved from 0.12533 to 0.98650, saving model to mnist/try05_3.h5\n",
            "375/375 [==============================] - 3s 7ms/step - loss: 0.0892 - accuracy: 0.9809 - val_loss: 0.0471 - val_accuracy: 0.9865\n",
            "Epoch 3/100\n",
            "372/375 [============================>.] - ETA: 0s - loss: 0.0564 - accuracy: 0.9849\n",
            "Epoch 3: val_accuracy improved from 0.98650 to 0.98908, saving model to mnist/try05_3.h5\n",
            "375/375 [==============================] - 3s 8ms/step - loss: 0.0563 - accuracy: 0.9849 - val_loss: 0.0369 - val_accuracy: 0.9891\n",
            "Epoch 4/100\n",
            "370/375 [============================>.] - ETA: 0s - loss: 0.0466 - accuracy: 0.9864\n",
            "Epoch 4: val_accuracy improved from 0.98908 to 0.99017, saving model to mnist/try05_3.h5\n",
            "375/375 [==============================] - 3s 7ms/step - loss: 0.0470 - accuracy: 0.9862 - val_loss: 0.0326 - val_accuracy: 0.9902\n",
            "Epoch 5/100\n",
            "375/375 [==============================] - ETA: 0s - loss: 0.0402 - accuracy: 0.9880\n",
            "Epoch 5: val_accuracy improved from 0.99017 to 0.99100, saving model to mnist/try05_3.h5\n",
            "375/375 [==============================] - 3s 8ms/step - loss: 0.0402 - accuracy: 0.9880 - val_loss: 0.0295 - val_accuracy: 0.9910\n",
            "Epoch 6/100\n",
            "369/375 [============================>.] - ETA: 0s - loss: 0.0372 - accuracy: 0.9889\n",
            "Epoch 6: val_accuracy improved from 0.99100 to 0.99175, saving model to mnist/try05_3.h5\n",
            "375/375 [==============================] - 3s 9ms/step - loss: 0.0370 - accuracy: 0.9890 - val_loss: 0.0268 - val_accuracy: 0.9918\n",
            "Epoch 7/100\n",
            "375/375 [==============================] - ETA: 0s - loss: 0.0338 - accuracy: 0.9894\n",
            "Epoch 7: val_accuracy did not improve from 0.99175\n",
            "375/375 [==============================] - 3s 7ms/step - loss: 0.0338 - accuracy: 0.9894 - val_loss: 0.0304 - val_accuracy: 0.9907\n",
            "Epoch 8/100\n",
            "374/375 [============================>.] - ETA: 0s - loss: 0.0326 - accuracy: 0.9897\n",
            "Epoch 8: val_accuracy did not improve from 0.99175\n",
            "375/375 [==============================] - 3s 7ms/step - loss: 0.0327 - accuracy: 0.9897 - val_loss: 0.0295 - val_accuracy: 0.9910\n",
            "Epoch 9/100\n",
            "373/375 [============================>.] - ETA: 0s - loss: 0.0310 - accuracy: 0.9903\n",
            "Epoch 9: val_accuracy improved from 0.99175 to 0.99267, saving model to mnist/try05_3.h5\n",
            "375/375 [==============================] - 3s 8ms/step - loss: 0.0311 - accuracy: 0.9903 - val_loss: 0.0252 - val_accuracy: 0.9927\n",
            "Epoch 10/100\n",
            "372/375 [============================>.] - ETA: 0s - loss: 0.0289 - accuracy: 0.9909\n",
            "Epoch 10: val_accuracy improved from 0.99267 to 0.99283, saving model to mnist/try05_3.h5\n",
            "375/375 [==============================] - 3s 7ms/step - loss: 0.0288 - accuracy: 0.9909 - val_loss: 0.0242 - val_accuracy: 0.9928\n",
            "Epoch 11/100\n",
            "374/375 [============================>.] - ETA: 0s - loss: 0.0264 - accuracy: 0.9915\n",
            "Epoch 11: val_accuracy improved from 0.99283 to 0.99317, saving model to mnist/try05_3.h5\n",
            "375/375 [==============================] - 3s 7ms/step - loss: 0.0263 - accuracy: 0.9916 - val_loss: 0.0229 - val_accuracy: 0.9932\n",
            "Epoch 12/100\n",
            "371/375 [============================>.] - ETA: 0s - loss: 0.0271 - accuracy: 0.9915\n",
            "Epoch 12: val_accuracy improved from 0.99317 to 0.99392, saving model to mnist/try05_3.h5\n",
            "375/375 [==============================] - 3s 7ms/step - loss: 0.0270 - accuracy: 0.9915 - val_loss: 0.0207 - val_accuracy: 0.9939\n",
            "Epoch 13/100\n",
            "374/375 [============================>.] - ETA: 0s - loss: 0.0250 - accuracy: 0.9920\n",
            "Epoch 13: val_accuracy did not improve from 0.99392\n",
            "375/375 [==============================] - 3s 7ms/step - loss: 0.0250 - accuracy: 0.9920 - val_loss: 0.0239 - val_accuracy: 0.9932\n",
            "Epoch 14/100\n",
            "372/375 [============================>.] - ETA: 0s - loss: 0.0255 - accuracy: 0.9915\n",
            "Epoch 14: val_accuracy did not improve from 0.99392\n",
            "375/375 [==============================] - 3s 7ms/step - loss: 0.0256 - accuracy: 0.9914 - val_loss: 0.0216 - val_accuracy: 0.9936\n",
            "Epoch 15/100\n",
            "369/375 [============================>.] - ETA: 0s - loss: 0.0233 - accuracy: 0.9925\n",
            "Epoch 15: val_accuracy improved from 0.99392 to 0.99417, saving model to mnist/try05_3.h5\n",
            "375/375 [==============================] - 3s 9ms/step - loss: 0.0234 - accuracy: 0.9925 - val_loss: 0.0219 - val_accuracy: 0.9942\n",
            "Epoch 16/100\n",
            "370/375 [============================>.] - ETA: 0s - loss: 0.0225 - accuracy: 0.9927\n",
            "Epoch 16: val_accuracy did not improve from 0.99417\n",
            "375/375 [==============================] - 3s 7ms/step - loss: 0.0224 - accuracy: 0.9928 - val_loss: 0.0224 - val_accuracy: 0.9932\n",
            "Epoch 17/100\n",
            "371/375 [============================>.] - ETA: 0s - loss: 0.0210 - accuracy: 0.9931\n",
            "Epoch 17: val_accuracy improved from 0.99417 to 0.99425, saving model to mnist/try05_3.h5\n",
            "375/375 [==============================] - 3s 8ms/step - loss: 0.0211 - accuracy: 0.9931 - val_loss: 0.0209 - val_accuracy: 0.9942\n",
            "Epoch 18/100\n",
            "373/375 [============================>.] - ETA: 0s - loss: 0.0208 - accuracy: 0.9934\n",
            "Epoch 18: val_accuracy did not improve from 0.99425\n",
            "375/375 [==============================] - 3s 7ms/step - loss: 0.0208 - accuracy: 0.9934 - val_loss: 0.0230 - val_accuracy: 0.9932\n",
            "Epoch 19/100\n",
            "372/375 [============================>.] - ETA: 0s - loss: 0.0205 - accuracy: 0.9934\n",
            "Epoch 19: val_accuracy improved from 0.99425 to 0.99433, saving model to mnist/try05_3.h5\n",
            "375/375 [==============================] - 3s 7ms/step - loss: 0.0206 - accuracy: 0.9934 - val_loss: 0.0198 - val_accuracy: 0.9943\n",
            "Epoch 20/100\n",
            "369/375 [============================>.] - ETA: 0s - loss: 0.0202 - accuracy: 0.9932\n",
            "Epoch 20: val_accuracy did not improve from 0.99433\n",
            "375/375 [==============================] - 3s 7ms/step - loss: 0.0201 - accuracy: 0.9932 - val_loss: 0.0210 - val_accuracy: 0.9935\n",
            "Epoch 21/100\n",
            "374/375 [============================>.] - ETA: 0s - loss: 0.0197 - accuracy: 0.9933\n",
            "Epoch 21: val_accuracy improved from 0.99433 to 0.99450, saving model to mnist/try05_3.h5\n",
            "375/375 [==============================] - 3s 7ms/step - loss: 0.0198 - accuracy: 0.9933 - val_loss: 0.0205 - val_accuracy: 0.9945\n",
            "Epoch 22/100\n",
            "370/375 [============================>.] - ETA: 0s - loss: 0.0185 - accuracy: 0.9943\n",
            "Epoch 22: val_accuracy did not improve from 0.99450\n",
            "375/375 [==============================] - 3s 7ms/step - loss: 0.0186 - accuracy: 0.9942 - val_loss: 0.0224 - val_accuracy: 0.9936\n",
            "Epoch 23/100\n",
            "371/375 [============================>.] - ETA: 0s - loss: 0.0183 - accuracy: 0.9939\n",
            "Epoch 23: val_accuracy did not improve from 0.99450\n",
            "375/375 [==============================] - 3s 7ms/step - loss: 0.0183 - accuracy: 0.9939 - val_loss: 0.0198 - val_accuracy: 0.9942\n",
            "Epoch 24/100\n",
            "369/375 [============================>.] - ETA: 0s - loss: 0.0191 - accuracy: 0.9939\n",
            "Epoch 24: val_accuracy did not improve from 0.99450\n",
            "375/375 [==============================] - 3s 7ms/step - loss: 0.0192 - accuracy: 0.9938 - val_loss: 0.0212 - val_accuracy: 0.9936\n",
            "Epoch 25/100\n",
            "370/375 [============================>.] - ETA: 0s - loss: 0.0171 - accuracy: 0.9940\n",
            "Epoch 25: val_accuracy did not improve from 0.99450\n",
            "375/375 [==============================] - 3s 7ms/step - loss: 0.0171 - accuracy: 0.9940 - val_loss: 0.0206 - val_accuracy: 0.9944\n",
            "Epoch 26/100\n",
            "369/375 [============================>.] - ETA: 0s - loss: 0.0162 - accuracy: 0.9947\n",
            "Epoch 26: val_accuracy did not improve from 0.99450\n",
            "375/375 [==============================] - 3s 7ms/step - loss: 0.0162 - accuracy: 0.9948 - val_loss: 0.0210 - val_accuracy: 0.9942\n",
            "Epoch 27/100\n",
            "372/375 [============================>.] - ETA: 0s - loss: 0.0163 - accuracy: 0.9944\n",
            "Epoch 27: val_accuracy did not improve from 0.99450\n",
            "375/375 [==============================] - 3s 7ms/step - loss: 0.0162 - accuracy: 0.9944 - val_loss: 0.0196 - val_accuracy: 0.9942\n",
            "Epoch 28/100\n",
            "374/375 [============================>.] - ETA: 0s - loss: 0.0160 - accuracy: 0.9946\n",
            "Epoch 28: val_accuracy improved from 0.99450 to 0.99458, saving model to mnist/try05_3.h5\n",
            "375/375 [==============================] - 3s 8ms/step - loss: 0.0160 - accuracy: 0.9946 - val_loss: 0.0208 - val_accuracy: 0.9946\n",
            "Epoch 29/100\n",
            "374/375 [============================>.] - ETA: 0s - loss: 0.0165 - accuracy: 0.9944\n",
            "Epoch 29: val_accuracy did not improve from 0.99458\n",
            "375/375 [==============================] - 3s 7ms/step - loss: 0.0166 - accuracy: 0.9944 - val_loss: 0.0192 - val_accuracy: 0.9946\n",
            "Epoch 30/100\n",
            "371/375 [============================>.] - ETA: 0s - loss: 0.0147 - accuracy: 0.9953\n",
            "Epoch 30: val_accuracy did not improve from 0.99458\n",
            "375/375 [==============================] - 3s 7ms/step - loss: 0.0146 - accuracy: 0.9952 - val_loss: 0.0214 - val_accuracy: 0.9940\n",
            "Epoch 31/100\n",
            "373/375 [============================>.] - ETA: 0s - loss: 0.0158 - accuracy: 0.9948\n",
            "Epoch 31: val_accuracy did not improve from 0.99458\n",
            "375/375 [==============================] - 3s 7ms/step - loss: 0.0158 - accuracy: 0.9949 - val_loss: 0.0217 - val_accuracy: 0.9943\n",
            "Epoch 32/100\n",
            "371/375 [============================>.] - ETA: 0s - loss: 0.0158 - accuracy: 0.9948\n",
            "Epoch 32: val_accuracy did not improve from 0.99458\n",
            "375/375 [==============================] - 3s 7ms/step - loss: 0.0157 - accuracy: 0.9949 - val_loss: 0.0221 - val_accuracy: 0.9940\n",
            "Epoch 33/100\n",
            "375/375 [==============================] - ETA: 0s - loss: 0.0144 - accuracy: 0.9952\n",
            "Epoch 33: val_accuracy did not improve from 0.99458\n",
            "375/375 [==============================] - 3s 7ms/step - loss: 0.0144 - accuracy: 0.9952 - val_loss: 0.0215 - val_accuracy: 0.9944\n",
            "Epoch 34/100\n",
            "372/375 [============================>.] - ETA: 0s - loss: 0.0149 - accuracy: 0.9952\n",
            "Epoch 34: val_accuracy improved from 0.99458 to 0.99467, saving model to mnist/try05_3.h5\n",
            "375/375 [==============================] - 3s 8ms/step - loss: 0.0150 - accuracy: 0.9952 - val_loss: 0.0210 - val_accuracy: 0.9947\n",
            "Epoch 35/100\n",
            "371/375 [============================>.] - ETA: 0s - loss: 0.0142 - accuracy: 0.9952\n",
            "Epoch 35: val_accuracy did not improve from 0.99467\n",
            "375/375 [==============================] - 3s 7ms/step - loss: 0.0142 - accuracy: 0.9952 - val_loss: 0.0220 - val_accuracy: 0.9941\n",
            "Epoch 36/100\n",
            "375/375 [==============================] - ETA: 0s - loss: 0.0139 - accuracy: 0.9954\n",
            "Epoch 36: val_accuracy did not improve from 0.99467\n",
            "375/375 [==============================] - 3s 7ms/step - loss: 0.0139 - accuracy: 0.9954 - val_loss: 0.0222 - val_accuracy: 0.9943\n",
            "Epoch 37/100\n",
            "369/375 [============================>.] - ETA: 0s - loss: 0.0146 - accuracy: 0.9950\n",
            "Epoch 37: val_accuracy improved from 0.99467 to 0.99500, saving model to mnist/try05_3.h5\n",
            "375/375 [==============================] - 3s 8ms/step - loss: 0.0146 - accuracy: 0.9950 - val_loss: 0.0189 - val_accuracy: 0.9950\n",
            "Epoch 38/100\n",
            "371/375 [============================>.] - ETA: 0s - loss: 0.0133 - accuracy: 0.9952\n",
            "Epoch 38: val_accuracy improved from 0.99500 to 0.99542, saving model to mnist/try05_3.h5\n",
            "375/375 [==============================] - 3s 7ms/step - loss: 0.0134 - accuracy: 0.9952 - val_loss: 0.0186 - val_accuracy: 0.9954\n",
            "Epoch 39/100\n",
            "373/375 [============================>.] - ETA: 0s - loss: 0.0119 - accuracy: 0.9959\n",
            "Epoch 39: val_accuracy did not improve from 0.99542\n",
            "375/375 [==============================] - 3s 7ms/step - loss: 0.0119 - accuracy: 0.9959 - val_loss: 0.0197 - val_accuracy: 0.9952\n",
            "Epoch 40/100\n",
            "370/375 [============================>.] - ETA: 0s - loss: 0.0129 - accuracy: 0.9956\n",
            "Epoch 40: val_accuracy did not improve from 0.99542\n",
            "375/375 [==============================] - 3s 7ms/step - loss: 0.0129 - accuracy: 0.9956 - val_loss: 0.0193 - val_accuracy: 0.9950\n",
            "Epoch 41/100\n",
            "369/375 [============================>.] - ETA: 0s - loss: 0.0125 - accuracy: 0.9959\n",
            "Epoch 41: val_accuracy did not improve from 0.99542\n",
            "375/375 [==============================] - 3s 7ms/step - loss: 0.0126 - accuracy: 0.9959 - val_loss: 0.0213 - val_accuracy: 0.9948\n",
            "Epoch 42/100\n",
            "372/375 [============================>.] - ETA: 0s - loss: 0.0141 - accuracy: 0.9953\n",
            "Epoch 42: val_accuracy did not improve from 0.99542\n",
            "375/375 [==============================] - 3s 7ms/step - loss: 0.0140 - accuracy: 0.9953 - val_loss: 0.0208 - val_accuracy: 0.9949\n",
            "Epoch 43/100\n",
            "369/375 [============================>.] - ETA: 0s - loss: 0.0120 - accuracy: 0.9959\n",
            "Epoch 43: val_accuracy did not improve from 0.99542\n",
            "375/375 [==============================] - 3s 7ms/step - loss: 0.0119 - accuracy: 0.9959 - val_loss: 0.0222 - val_accuracy: 0.9943\n",
            "Epoch 44/100\n",
            "374/375 [============================>.] - ETA: 0s - loss: 0.0136 - accuracy: 0.9955\n",
            "Epoch 44: val_accuracy did not improve from 0.99542\n",
            "375/375 [==============================] - 3s 7ms/step - loss: 0.0136 - accuracy: 0.9954 - val_loss: 0.0216 - val_accuracy: 0.9946\n",
            "Epoch 45/100\n",
            "372/375 [============================>.] - ETA: 0s - loss: 0.0128 - accuracy: 0.9957\n",
            "Epoch 45: val_accuracy did not improve from 0.99542\n",
            "375/375 [==============================] - 3s 7ms/step - loss: 0.0127 - accuracy: 0.9957 - val_loss: 0.0217 - val_accuracy: 0.9948\n",
            "Epoch 46/100\n",
            "372/375 [============================>.] - ETA: 0s - loss: 0.0120 - accuracy: 0.9958\n",
            "Epoch 46: val_accuracy did not improve from 0.99542\n",
            "375/375 [==============================] - 3s 7ms/step - loss: 0.0120 - accuracy: 0.9959 - val_loss: 0.0205 - val_accuracy: 0.9948\n",
            "Epoch 47/100\n",
            "374/375 [============================>.] - ETA: 0s - loss: 0.0127 - accuracy: 0.9958\n",
            "Epoch 47: val_accuracy did not improve from 0.99542\n",
            "375/375 [==============================] - 3s 7ms/step - loss: 0.0127 - accuracy: 0.9958 - val_loss: 0.0208 - val_accuracy: 0.9949\n",
            "Epoch 48/100\n",
            "373/375 [============================>.] - ETA: 0s - loss: 0.0122 - accuracy: 0.9957\n",
            "Epoch 48: val_accuracy did not improve from 0.99542\n",
            "375/375 [==============================] - 3s 7ms/step - loss: 0.0121 - accuracy: 0.9957 - val_loss: 0.0215 - val_accuracy: 0.9947\n",
            "Epoch 48: early stopping\n"
          ]
        }
      ]
    },
    {
      "cell_type": "code",
      "source": [
        "result = model_1_1.evaluate(test_imgs, test_labels)\n",
        "print(\"\\n테스트 정확도: %.4f\" %(result)[1])"
      ],
      "metadata": {
        "colab": {
          "base_uri": "https://localhost:8080/"
        },
        "outputId": "22e3177b-7ffa-499a-c297-216d0eff8ece",
        "id": "Mq-GE0h5wtcL"
      },
      "execution_count": 13,
      "outputs": [
        {
          "output_type": "stream",
          "name": "stdout",
          "text": [
            "313/313 [==============================] - 1s 3ms/step - loss: 0.0199 - accuracy: 0.9950\n",
            "\n",
            "테스트 정확도: 0.9950\n"
          ]
        }
      ]
    },
    {
      "cell_type": "code",
      "source": [
        "loaded_model = load_model('mnist/try05_3.h5')\n",
        "result_loaded = loaded_model.evaluate(test_imgs, test_labels)\n",
        "print(\"\\n불러온 모델 테스트 정확도: %.4f\" %(result_loaded)[1])"
      ],
      "metadata": {
        "colab": {
          "base_uri": "https://localhost:8080/"
        },
        "outputId": "4233b607-e94f-4a25-810c-c7969da719b0",
        "id": "fGK6vEuiwtcL"
      },
      "execution_count": 14,
      "outputs": [
        {
          "output_type": "stream",
          "name": "stdout",
          "text": [
            "313/313 [==============================] - 1s 3ms/step - loss: 0.0181 - accuracy: 0.9949\n",
            "\n",
            "불러온 모델 테스트 정확도: 0.9949\n"
          ]
        }
      ]
    },
    {
      "cell_type": "code",
      "source": [
        "acc = hist_1_1.history['accuracy']\n",
        "val_acc = hist_1_1.history['val_accuracy']\n",
        "loss = hist_1_1.history['loss']\n",
        "val_loss = hist_1_1.history['val_loss']\n",
        "\n",
        "epochs = range(1, len(acc)+1)\n",
        "\n",
        "plt.figure(figsize=(8, 12))\n",
        "ax1=plt.subplot(2, 1, 1)\n",
        "ax2=plt.subplot(2, 1, 2)\n",
        "ax1.plot(epochs, acc, 'bo', label='Trainig acc')\n",
        "ax1.plot(epochs, val_acc, 'b', label='Validation acc')\n",
        "ax1.set_title(\"Training and Validation accuracy\")\n",
        "ax1.legend()\n",
        "ax2.plot(epochs, loss, 'bo', label='Traning loss')\n",
        "ax2.plot(epochs, val_loss, 'b', label='Validation loss')\n",
        "ax2.set_title(\"Training and Validation loss\")\n",
        "ax2.legend()\n",
        "plt.show()"
      ],
      "metadata": {
        "colab": {
          "base_uri": "https://localhost:8080/",
          "height": 716
        },
        "outputId": "20aaa94a-6e30-4a98-eb6e-3e8b755b4eeb",
        "id": "k-onGLGMwtcM"
      },
      "execution_count": 15,
      "outputs": [
        {
          "output_type": "display_data",
          "data": {
            "text/plain": [
              "<Figure size 576x864 with 2 Axes>"
            ],
            "image/png": "[encoded data removed]"
          },
          "metadata": {
            "needs_background": "light"
          }
        }
      ]
    },
    {
      "cell_type": "code",
      "source": [
        "df = pd.DataFrame([['CNN', 'model_1_1', '32(relu/batchnomalization/drop0.2)-64(relu/batchnomalization/drop0.2)-128(relu/batchnomalization/drop0.5)-Flatten-64(relu)-10(softmax)]',\n",
        "                    'rmsprop', 100, 128, 0.2, 'es/mc', \"%.4f\"%(result)[1], \"%.4f\"%(result_loaded)[1], \"%.4f\"%(result)[0], \"%.4f\"%(result_loaded)[0]]],\n",
        "                  columns=['모델', 'Name', 'Structure', 'Optimizer', 'epochs', 'batch_size', 'validation_split', 'callback', 'Accuracy', 'MC_Accuracy', 'Loss', 'MC_Loss'])"
      ],
      "metadata": {
        "id": "IMzWXDrQwtcM"
      },
      "execution_count": 16,
      "outputs": []
    },
    {
      "cell_type": "markdown",
      "source": [
        "#### __3.  batch_size=128, 출력 직전층 activation='sigmoid', optimizer='adam'__ "
      ],
      "metadata": {
        "id": "YN2gmPkbzFeA"
      }
    },
    {
      "cell_type": "code",
      "source": [
        "model_1_2 = keras.Sequential()\n",
        "model_1_2.add(layers.Conv2D(32, kernel_size=(3, 3), input_shape=(28, 28, 1)))\n",
        "model_1_2.add(layers.BatchNormalization())\n",
        "model_1_2.add(layers.Activation('relu'))\n",
        "model_1_2.add(layers.MaxPooling2D(pool_size=(2,2)))\n",
        "model_1_2.add(layers.Dropout(0.2))\n",
        "model_1_2.add(layers.Conv2D(64, (3, 3)))\n",
        "model_1_2.add(layers.BatchNormalization())\n",
        "model_1_2.add(layers.Activation('relu'))\n",
        "model_1_2.add(layers.MaxPooling2D((2,2)))\n",
        "model_1_2.add(layers.Dropout(0.2))\n",
        "model_1_2.add(layers.Conv2D(128, (3, 3)))\n",
        "model_1_2.add(layers.BatchNormalization())\n",
        "model_1_2.add(layers.Activation('relu'))\n",
        "model_1_2.add(layers.Dropout(0.5))\n",
        "model_1_2.add(layers.Flatten())\n",
        "model_1_2.add(layers.Dense(64))\n",
        "model_1_2.add(layers.BatchNormalization())\n",
        "model_1_2.add(layers.Activation('sigmoid'))\n",
        "model_1_2.add(layers.Dense(10, activation=\"softmax\"))\n",
        "\n",
        "model_1_2.summary()"
      ],
      "metadata": {
        "colab": {
          "base_uri": "https://localhost:8080/"
        },
        "outputId": "034028e9-a116-4ba5-aae4-c817314e74cf",
        "id": "Ujc6kXBOzFeA"
      },
      "execution_count": 17,
      "outputs": [
        {
          "output_type": "stream",
          "name": "stdout",
          "text": [
            "Model: \"sequential_1\"\n",
            "_________________________________________________________________\n",
            " Layer (type)                Output Shape              Param #   \n",
            "=================================================================\n",
            " conv2d_3 (Conv2D)           (None, 26, 26, 32)        320       \n",
            "                                                                 \n",
            " batch_normalization_4 (Batc  (None, 26, 26, 32)       128       \n",
            " hNormalization)                                                 \n",
            "                                                                 \n",
            " activation_4 (Activation)   (None, 26, 26, 32)        0         \n",
            "                                                                 \n",
            " max_pooling2d_2 (MaxPooling  (None, 13, 13, 32)       0         \n",
            " 2D)                                                             \n",
            "                                                                 \n",
            " dropout_3 (Dropout)         (None, 13, 13, 32)        0         \n",
            "                                                                 \n",
            " conv2d_4 (Conv2D)           (None, 11, 11, 64)        18496     \n",
            "                                                                 \n",
            " batch_normalization_5 (Batc  (None, 11, 11, 64)       256       \n",
            " hNormalization)                                                 \n",
            "                                                                 \n",
            " activation_5 (Activation)   (None, 11, 11, 64)        0         \n",
            "                                                                 \n",
            " max_pooling2d_3 (MaxPooling  (None, 5, 5, 64)         0         \n",
            " 2D)                                                             \n",
            "                                                                 \n",
            " dropout_4 (Dropout)         (None, 5, 5, 64)          0         \n",
            "                                                                 \n",
            " conv2d_5 (Conv2D)           (None, 3, 3, 128)         73856     \n",
            "                                                                 \n",
            " batch_normalization_6 (Batc  (None, 3, 3, 128)        512       \n",
            " hNormalization)                                                 \n",
            "                                                                 \n",
            " activation_6 (Activation)   (None, 3, 3, 128)         0         \n",
            "                                                                 \n",
            " dropout_5 (Dropout)         (None, 3, 3, 128)         0         \n",
            "                                                                 \n",
            " flatten_1 (Flatten)         (None, 1152)              0         \n",
            "                                                                 \n",
            " dense_2 (Dense)             (None, 64)                73792     \n",
            "                                                                 \n",
            " batch_normalization_7 (Batc  (None, 64)               256       \n",
            " hNormalization)                                                 \n",
            "                                                                 \n",
            " activation_7 (Activation)   (None, 64)                0         \n",
            "                                                                 \n",
            " dense_3 (Dense)             (None, 10)                650       \n",
            "                                                                 \n",
            "=================================================================\n",
            "Total params: 168,266\n",
            "Trainable params: 167,690\n",
            "Non-trainable params: 576\n",
            "_________________________________________________________________\n"
          ]
        }
      ]
    },
    {
      "cell_type": "code",
      "source": [
        "model_1_2.compile(optimizer=\"adam\", loss=\"categorical_crossentropy\", metrics=[\"accuracy\"])"
      ],
      "metadata": {
        "id": "sy6jnJeXzFeB"
      },
      "execution_count": 18,
      "outputs": []
    },
    {
      "cell_type": "code",
      "source": [
        "es = EarlyStopping(monitor='val_loss', mode='min', verbose=1, patience=10)\n",
        "mc = ModelCheckpoint('mnist/try05_4.h5', monitor='val_accuracy', mode='max', verbose=1)\n",
        "hist_1_2 = model_1_2.fit(train_imgs, train_labels, epochs=100, batch_size=128, validation_split=0.2, callbacks=[es, mc])"
      ],
      "metadata": {
        "colab": {
          "base_uri": "https://localhost:8080/"
        },
        "outputId": "a766e127-d27a-4c58-b937-b1567aec8c71",
        "id": "yTLlJJB-zFeB"
      },
      "execution_count": 19,
      "outputs": [
        {
          "output_type": "stream",
          "name": "stdout",
          "text": [
            "Epoch 1/100\n",
            "367/375 [============================>.] - ETA: 0s - loss: 0.6012 - accuracy: 0.9108\n",
            "Epoch 1: saving model to mnist/try05_4.h5\n",
            "375/375 [==============================] - 4s 8ms/step - loss: 0.5929 - accuracy: 0.9122 - val_loss: 2.3016 - val_accuracy: 0.1328\n",
            "Epoch 2/100\n",
            "374/375 [============================>.] - ETA: 0s - loss: 0.1406 - accuracy: 0.9787\n",
            "Epoch 2: saving model to mnist/try05_4.h5\n",
            "375/375 [==============================] - 3s 7ms/step - loss: 0.1406 - accuracy: 0.9787 - val_loss: 0.0703 - val_accuracy: 0.9878\n",
            "Epoch 3/100\n",
            "367/375 [============================>.] - ETA: 0s - loss: 0.0812 - accuracy: 0.9834\n",
            "Epoch 3: saving model to mnist/try05_4.h5\n",
            "375/375 [==============================] - 3s 7ms/step - loss: 0.0808 - accuracy: 0.9836 - val_loss: 0.0437 - val_accuracy: 0.9903\n",
            "Epoch 4/100\n",
            "372/375 [============================>.] - ETA: 0s - loss: 0.0599 - accuracy: 0.9862\n",
            "Epoch 4: saving model to mnist/try05_4.h5\n",
            "375/375 [==============================] - 3s 7ms/step - loss: 0.0600 - accuracy: 0.9862 - val_loss: 0.0413 - val_accuracy: 0.9889\n",
            "Epoch 5/100\n",
            "372/375 [============================>.] - ETA: 0s - loss: 0.0481 - accuracy: 0.9876\n",
            "Epoch 5: saving model to mnist/try05_4.h5\n",
            "375/375 [==============================] - 3s 7ms/step - loss: 0.0483 - accuracy: 0.9876 - val_loss: 0.0297 - val_accuracy: 0.9924\n",
            "Epoch 6/100\n",
            "374/375 [============================>.] - ETA: 0s - loss: 0.0417 - accuracy: 0.9893\n",
            "Epoch 6: saving model to mnist/try05_4.h5\n",
            "375/375 [==============================] - 3s 7ms/step - loss: 0.0417 - accuracy: 0.9893 - val_loss: 0.0270 - val_accuracy: 0.9921\n",
            "Epoch 7/100\n",
            "375/375 [==============================] - ETA: 0s - loss: 0.0352 - accuracy: 0.9907\n",
            "Epoch 7: saving model to mnist/try05_4.h5\n",
            "375/375 [==============================] - 3s 7ms/step - loss: 0.0352 - accuracy: 0.9907 - val_loss: 0.0269 - val_accuracy: 0.9927\n",
            "Epoch 8/100\n",
            "375/375 [==============================] - ETA: 0s - loss: 0.0326 - accuracy: 0.9908\n",
            "Epoch 8: saving model to mnist/try05_4.h5\n",
            "375/375 [==============================] - 3s 9ms/step - loss: 0.0326 - accuracy: 0.9908 - val_loss: 0.0238 - val_accuracy: 0.9933\n",
            "Epoch 9/100\n",
            "375/375 [==============================] - ETA: 0s - loss: 0.0294 - accuracy: 0.9918\n",
            "Epoch 9: saving model to mnist/try05_4.h5\n",
            "375/375 [==============================] - 4s 11ms/step - loss: 0.0294 - accuracy: 0.9918 - val_loss: 0.0229 - val_accuracy: 0.9938\n",
            "Epoch 10/100\n",
            "373/375 [============================>.] - ETA: 0s - loss: 0.0265 - accuracy: 0.9927\n",
            "Epoch 10: saving model to mnist/try05_4.h5\n",
            "375/375 [==============================] - 3s 7ms/step - loss: 0.0265 - accuracy: 0.9927 - val_loss: 0.0228 - val_accuracy: 0.9933\n",
            "Epoch 11/100\n",
            "369/375 [============================>.] - ETA: 0s - loss: 0.0256 - accuracy: 0.9922\n",
            "Epoch 11: saving model to mnist/try05_4.h5\n",
            "375/375 [==============================] - 3s 7ms/step - loss: 0.0256 - accuracy: 0.9923 - val_loss: 0.0232 - val_accuracy: 0.9936\n",
            "Epoch 12/100\n",
            "373/375 [============================>.] - ETA: 0s - loss: 0.0235 - accuracy: 0.9933\n",
            "Epoch 12: saving model to mnist/try05_4.h5\n",
            "375/375 [==============================] - 3s 7ms/step - loss: 0.0235 - accuracy: 0.9933 - val_loss: 0.0231 - val_accuracy: 0.9931\n",
            "Epoch 13/100\n",
            "374/375 [============================>.] - ETA: 0s - loss: 0.0229 - accuracy: 0.9927\n",
            "Epoch 13: saving model to mnist/try05_4.h5\n",
            "375/375 [==============================] - 3s 7ms/step - loss: 0.0228 - accuracy: 0.9927 - val_loss: 0.0226 - val_accuracy: 0.9943\n",
            "Epoch 14/100\n",
            "374/375 [============================>.] - ETA: 0s - loss: 0.0208 - accuracy: 0.9938\n",
            "Epoch 14: saving model to mnist/try05_4.h5\n",
            "375/375 [==============================] - 3s 7ms/step - loss: 0.0208 - accuracy: 0.9939 - val_loss: 0.0236 - val_accuracy: 0.9930\n",
            "Epoch 15/100\n",
            "367/375 [============================>.] - ETA: 0s - loss: 0.0206 - accuracy: 0.9935\n",
            "Epoch 15: saving model to mnist/try05_4.h5\n",
            "375/375 [==============================] - 3s 7ms/step - loss: 0.0205 - accuracy: 0.9936 - val_loss: 0.0227 - val_accuracy: 0.9938\n",
            "Epoch 16/100\n",
            "371/375 [============================>.] - ETA: 0s - loss: 0.0194 - accuracy: 0.9938\n",
            "Epoch 16: saving model to mnist/try05_4.h5\n",
            "375/375 [==============================] - 3s 7ms/step - loss: 0.0194 - accuracy: 0.9938 - val_loss: 0.0218 - val_accuracy: 0.9942\n",
            "Epoch 17/100\n",
            "371/375 [============================>.] - ETA: 0s - loss: 0.0182 - accuracy: 0.9944\n",
            "Epoch 17: saving model to mnist/try05_4.h5\n",
            "375/375 [==============================] - 3s 7ms/step - loss: 0.0182 - accuracy: 0.9944 - val_loss: 0.0210 - val_accuracy: 0.9947\n",
            "Epoch 18/100\n",
            "375/375 [==============================] - ETA: 0s - loss: 0.0185 - accuracy: 0.9941\n",
            "Epoch 18: saving model to mnist/try05_4.h5\n",
            "375/375 [==============================] - 3s 7ms/step - loss: 0.0185 - accuracy: 0.9941 - val_loss: 0.0223 - val_accuracy: 0.9937\n",
            "Epoch 19/100\n",
            "374/375 [============================>.] - ETA: 0s - loss: 0.0154 - accuracy: 0.9952\n",
            "Epoch 19: saving model to mnist/try05_4.h5\n",
            "375/375 [==============================] - 3s 7ms/step - loss: 0.0154 - accuracy: 0.9951 - val_loss: 0.0211 - val_accuracy: 0.9942\n",
            "Epoch 20/100\n",
            "372/375 [============================>.] - ETA: 0s - loss: 0.0154 - accuracy: 0.9953\n",
            "Epoch 20: saving model to mnist/try05_4.h5\n",
            "375/375 [==============================] - 3s 7ms/step - loss: 0.0154 - accuracy: 0.9952 - val_loss: 0.0209 - val_accuracy: 0.9942\n",
            "Epoch 21/100\n",
            "370/375 [============================>.] - ETA: 0s - loss: 0.0164 - accuracy: 0.9947\n",
            "Epoch 21: saving model to mnist/try05_4.h5\n",
            "375/375 [==============================] - 3s 9ms/step - loss: 0.0163 - accuracy: 0.9948 - val_loss: 0.0227 - val_accuracy: 0.9939\n",
            "Epoch 22/100\n",
            "375/375 [==============================] - ETA: 0s - loss: 0.0150 - accuracy: 0.9953\n",
            "Epoch 22: saving model to mnist/try05_4.h5\n",
            "375/375 [==============================] - 4s 11ms/step - loss: 0.0150 - accuracy: 0.9953 - val_loss: 0.0210 - val_accuracy: 0.9939\n",
            "Epoch 23/100\n",
            "367/375 [============================>.] - ETA: 0s - loss: 0.0148 - accuracy: 0.9950\n",
            "Epoch 23: saving model to mnist/try05_4.h5\n",
            "375/375 [==============================] - 3s 8ms/step - loss: 0.0148 - accuracy: 0.9950 - val_loss: 0.0190 - val_accuracy: 0.9948\n",
            "Epoch 24/100\n",
            "372/375 [============================>.] - ETA: 0s - loss: 0.0157 - accuracy: 0.9947\n",
            "Epoch 24: saving model to mnist/try05_4.h5\n",
            "375/375 [==============================] - 3s 7ms/step - loss: 0.0156 - accuracy: 0.9948 - val_loss: 0.0216 - val_accuracy: 0.9938\n",
            "Epoch 25/100\n",
            "375/375 [==============================] - ETA: 0s - loss: 0.0155 - accuracy: 0.9948\n",
            "Epoch 25: saving model to mnist/try05_4.h5\n",
            "375/375 [==============================] - 3s 7ms/step - loss: 0.0155 - accuracy: 0.9948 - val_loss: 0.0214 - val_accuracy: 0.9943\n",
            "Epoch 26/100\n",
            "372/375 [============================>.] - ETA: 0s - loss: 0.0142 - accuracy: 0.9957\n",
            "Epoch 26: saving model to mnist/try05_4.h5\n",
            "375/375 [==============================] - 3s 7ms/step - loss: 0.0141 - accuracy: 0.9957 - val_loss: 0.0219 - val_accuracy: 0.9939\n",
            "Epoch 27/100\n",
            "367/375 [============================>.] - ETA: 0s - loss: 0.0136 - accuracy: 0.9956\n",
            "Epoch 27: saving model to mnist/try05_4.h5\n",
            "375/375 [==============================] - 3s 7ms/step - loss: 0.0138 - accuracy: 0.9955 - val_loss: 0.0229 - val_accuracy: 0.9941\n",
            "Epoch 28/100\n",
            "371/375 [============================>.] - ETA: 0s - loss: 0.0123 - accuracy: 0.9958\n",
            "Epoch 28: saving model to mnist/try05_4.h5\n",
            "375/375 [==============================] - 3s 7ms/step - loss: 0.0123 - accuracy: 0.9958 - val_loss: 0.0203 - val_accuracy: 0.9947\n",
            "Epoch 29/100\n",
            "367/375 [============================>.] - ETA: 0s - loss: 0.0129 - accuracy: 0.9956\n",
            "Epoch 29: saving model to mnist/try05_4.h5\n",
            "375/375 [==============================] - 3s 7ms/step - loss: 0.0128 - accuracy: 0.9956 - val_loss: 0.0213 - val_accuracy: 0.9940\n",
            "Epoch 30/100\n",
            "368/375 [============================>.] - ETA: 0s - loss: 0.0116 - accuracy: 0.9959\n",
            "Epoch 30: saving model to mnist/try05_4.h5\n",
            "375/375 [==============================] - 3s 7ms/step - loss: 0.0117 - accuracy: 0.9959 - val_loss: 0.0234 - val_accuracy: 0.9942\n",
            "Epoch 31/100\n",
            "375/375 [==============================] - ETA: 0s - loss: 0.0121 - accuracy: 0.9957\n",
            "Epoch 31: saving model to mnist/try05_4.h5\n",
            "375/375 [==============================] - 3s 7ms/step - loss: 0.0121 - accuracy: 0.9957 - val_loss: 0.0225 - val_accuracy: 0.9940\n",
            "Epoch 32/100\n",
            "371/375 [============================>.] - ETA: 0s - loss: 0.0115 - accuracy: 0.9962\n",
            "Epoch 32: saving model to mnist/try05_4.h5\n",
            "375/375 [==============================] - 3s 7ms/step - loss: 0.0114 - accuracy: 0.9963 - val_loss: 0.0211 - val_accuracy: 0.9948\n",
            "Epoch 33/100\n",
            "374/375 [============================>.] - ETA: 0s - loss: 0.0114 - accuracy: 0.9962\n",
            "Epoch 33: saving model to mnist/try05_4.h5\n",
            "375/375 [==============================] - 3s 7ms/step - loss: 0.0114 - accuracy: 0.9962 - val_loss: 0.0223 - val_accuracy: 0.9937\n",
            "Epoch 33: early stopping\n"
          ]
        }
      ]
    },
    {
      "cell_type": "code",
      "source": [
        "result = model_1_2.evaluate(test_imgs, test_labels)\n",
        "print(\"\\n테스트 정확도: %.4f\" %(result)[1])"
      ],
      "metadata": {
        "colab": {
          "base_uri": "https://localhost:8080/"
        },
        "outputId": "d842f442-b234-4cb0-b6b0-9b158d6227fa",
        "id": "BBHg9vsCzFeD"
      },
      "execution_count": 20,
      "outputs": [
        {
          "output_type": "stream",
          "name": "stdout",
          "text": [
            "313/313 [==============================] - 1s 3ms/step - loss: 0.0207 - accuracy: 0.9944\n",
            "\n",
            "테스트 정확도: 0.9944\n"
          ]
        }
      ]
    },
    {
      "cell_type": "code",
      "source": [
        "loaded_model = load_model('mnist/try05_4.h5')\n",
        "result_loaded = loaded_model.evaluate(test_imgs, test_labels)\n",
        "print(\"\\n불러온 모델 테스트 정확도: %.4f\" %(result_loaded)[1])"
      ],
      "metadata": {
        "colab": {
          "base_uri": "https://localhost:8080/"
        },
        "outputId": "a0915a60-649c-4a9a-f05f-9a36628b0938",
        "id": "-OddZd0hzFeE"
      },
      "execution_count": 21,
      "outputs": [
        {
          "output_type": "stream",
          "name": "stdout",
          "text": [
            "313/313 [==============================] - 1s 3ms/step - loss: 0.0207 - accuracy: 0.9944\n",
            "\n",
            "불러온 모델 테스트 정확도: 0.9944\n"
          ]
        }
      ]
    },
    {
      "cell_type": "code",
      "source": [
        "acc = hist_1_2.history['accuracy']\n",
        "val_acc = hist_1_2.history['val_accuracy']\n",
        "loss = hist_1_2.history['loss']\n",
        "val_loss = hist_1_2.history['val_loss']\n",
        "\n",
        "epochs = range(1, len(acc)+1)\n",
        "\n",
        "plt.figure(figsize=(8, 12))\n",
        "ax1=plt.subplot(2, 1, 1)\n",
        "ax2=plt.subplot(2, 1, 2)\n",
        "ax1.plot(epochs, acc, 'bo', label='Trainig acc')\n",
        "ax1.plot(epochs, val_acc, 'b', label='Validation acc')\n",
        "ax1.set_title(\"Training and Validation accuracy\")\n",
        "ax1.legend()\n",
        "ax2.plot(epochs, loss, 'bo', label='Traning loss')\n",
        "ax2.plot(epochs, val_loss, 'b', label='Validation loss')\n",
        "ax2.set_title(\"Training and Validation loss\")\n",
        "ax2.legend()\n",
        "plt.show()"
      ],
      "metadata": {
        "colab": {
          "base_uri": "https://localhost:8080/",
          "height": 716
        },
        "outputId": "6fb32875-0a70-4a5b-b790-0196bdbf78f9",
        "id": "0gLCkZufzFeE"
      },
      "execution_count": 22,
      "outputs": [
        {
          "output_type": "display_data",
          "data": {
            "text/plain": [
              "<Figure size 576x864 with 2 Axes>"
            ],
            "image/png": "[encoded data removed]"
          },
          "metadata": {
            "needs_background": "light"
          }
        }
      ]
    },
    {
      "cell_type": "code",
      "source": [
        "df.loc[1]=['CNN', 'model_1_2', '32(relu/batchnomalization/drop0.2)-64(relu/batchnomalization/drop0.2)-128(relu/batchnomalization/drop0.5)-Flatten-64(relu)-10(softmax)]', 'adam', 100, 128, 0.2, 'es/mc', \"%.4f\"%(result)[1], \"%.4f\"%(result_loaded)[1], \"%.4f\"%(result)[0], \"%.4f\"%(result_loaded)[0]]"
      ],
      "metadata": {
        "id": "i57lgiGgzFeF"
      },
      "execution_count": 23,
      "outputs": []
    },
    {
      "cell_type": "code",
      "source": [
        "df.head()"
      ],
      "metadata": {
        "colab": {
          "base_uri": "https://localhost:8080/",
          "height": 176
        },
        "id": "K82gOTDByz2D",
        "outputId": "7e2fa95d-b5d1-426e-cac1-790ea8a6091f"
      },
      "execution_count": 24,
      "outputs": [
        {
          "output_type": "execute_result",
          "data": {
            "text/plain": [
              "    모델       Name                                          Structure  \\\n",
              "0  CNN  model_1_1  32(relu/batchnomalization/drop0.2)-64(relu/bat...   \n",
              "1  CNN  model_1_2  32(relu/batchnomalization/drop0.2)-64(relu/bat...   \n",
              "\n",
              "  Optimizer  epochs  batch_size  validation_split callback Accuracy  \\\n",
              "0   rmsprop     100         128               0.2    es/mc   0.9950   \n",
              "1      adam     100         128               0.2    es/mc   0.9944   \n",
              "\n",
              "  MC_Accuracy    Loss MC_Loss  \n",
              "0      0.9949  0.0199  0.0181  \n",
              "1      0.9944  0.0207  0.0207  "
            ],
            "text/html": [
              "\n",
              "  <div id=\"df-573c4b2f-37a7-4662-83f4-d1d9faee1e52\">\n",
              "    <div class=\"colab-df-container\">\n",
              "      <div>\n",
              "<style scoped>\n",
              "    .dataframe tbody tr th:only-of-type {\n",
              "        vertical-align: middle;\n",
              "    }\n",
              "\n",
              "    .dataframe tbody tr th {\n",
              "        vertical-align: top;\n",
              "    }\n",
              "\n",
              "    .dataframe thead th {\n",
              "        text-align: right;\n",
              "    }\n",
              "</style>\n",
              "<table border=\"1\" class=\"dataframe\">\n",
              "  <thead>\n",
              "    <tr style=\"text-align: right;\">\n",
              "      <th></th>\n",
              "      <th>모델</th>\n",
              "      <th>Name</th>\n",
              "      <th>Structure</th>\n",
              "      <th>Optimizer</th>\n",
              "      <th>epochs</th>\n",
              "      <th>batch_size</th>\n",
              "      <th>validation_split</th>\n",
              "      <th>callback</th>\n",
              "      <th>Accuracy</th>\n",
              "      <th>MC_Accuracy</th>\n",
              "      <th>Loss</th>\n",
              "      <th>MC_Loss</th>\n",
              "    </tr>\n",
              "  </thead>\n",
              "  <tbody>\n",
              "    <tr>\n",
              "      <th>0</th>\n",
              "      <td>CNN</td>\n",
              "      <td>model_1_1</td>\n",
              "      <td>32(relu/batchnomalization/drop0.2)-64(relu/bat...</td>\n",
              "      <td>rmsprop</td>\n",
              "      <td>100</td>\n",
              "      <td>128</td>\n",
              "      <td>0.2</td>\n",
              "      <td>es/mc</td>\n",
              "      <td>0.9950</td>\n",
              "      <td>0.9949</td>\n",
              "      <td>0.0199</td>\n",
              "      <td>0.0181</td>\n",
              "    </tr>\n",
              "    <tr>\n",
              "      <th>1</th>\n",
              "      <td>CNN</td>\n",
              "      <td>model_1_2</td>\n",
              "      <td>32(relu/batchnomalization/drop0.2)-64(relu/bat...</td>\n",
              "      <td>adam</td>\n",
              "      <td>100</td>\n",
              "      <td>128</td>\n",
              "      <td>0.2</td>\n",
              "      <td>es/mc</td>\n",
              "      <td>0.9944</td>\n",
              "      <td>0.9944</td>\n",
              "      <td>0.0207</td>\n",
              "      <td>0.0207</td>\n",
              "    </tr>\n",
              "  </tbody>\n",
              "</table>\n",
              "</div>\n",
              "      <button class=\"colab-df-convert\" onclick=\"convertToInteractive('df-573c4b2f-37a7-4662-83f4-d1d9faee1e52')\"\n",
              "              title=\"Convert this dataframe to an interactive table.\"\n",
              "              style=\"display:none;\">\n",
              "        \n",
              "  <svg xmlns=\"http://www.w3.org/2000/svg\" height=\"24px\"viewBox=\"0 0 24 24\"\n",
              "       width=\"24px\">\n",
              "    <path d=\"M0 0h24v24H0V0z\" fill=\"none\"/>\n",
              "    <path d=\"M18.56 5.44l.94 2.06.94-2.06 2.06-.94-2.06-.94-.94-2.06-.94 2.06-2.06.94zm-11 1L8.5 8.5l.94-2.06 2.06-.94-2.06-.94L8.5 2.5l-.94 2.06-2.06.94zm10 10l.94 2.06.94-2.06 2.06-.94-2.06-.94-.94-2.06-.94 2.06-2.06.94z\"/><path d=\"M17.41 7.96l-1.37-1.37c-.4-.4-.92-.59-1.43-.59-.52 0-1.04.2-1.43.59L10.3 9.45l-7.72 7.72c-.78.78-.78 2.05 0 2.83L4 21.41c.39.39.9.59 1.41.59.51 0 1.02-.2 1.41-.59l7.78-7.78 2.81-2.81c.8-.78.8-2.07 0-2.86zM5.41 20L4 18.59l7.72-7.72 1.47 1.35L5.41 20z\"/>\n",
              "  </svg>\n",
              "      </button>\n",
              "      \n",
              "  <style>\n",
              "    .colab-df-container {\n",
              "      display:flex;\n",
              "      flex-wrap:wrap;\n",
              "      gap: 12px;\n",
              "    }\n",
              "\n",
              "    .colab-df-convert {\n",
              "      background-color: #E8F0FE;\n",
              "      border: none;\n",
              "      border-radius: 50%;\n",
              "      cursor: pointer;\n",
              "      display: none;\n",
              "      fill: #1967D2;\n",
              "      height: 32px;\n",
              "      padding: 0 0 0 0;\n",
              "      width: 32px;\n",
              "    }\n",
              "\n",
              "    .colab-df-convert:hover {\n",
              "      background-color: #E2EBFA;\n",
              "      box-shadow: 0px 1px 2px rgba(60, 64, 67, 0.3), 0px 1px 3px 1px rgba(60, 64, 67, 0.15);\n",
              "      fill: #174EA6;\n",
              "    }\n",
              "\n",
              "    [theme=dark] .colab-df-convert {\n",
              "      background-color: #3B4455;\n",
              "      fill: #D2E3FC;\n",
              "    }\n",
              "\n",
              "    [theme=dark] .colab-df-convert:hover {\n",
              "      background-color: #434B5C;\n",
              "      box-shadow: 0px 1px 3px 1px rgba(0, 0, 0, 0.15);\n",
              "      filter: drop-shadow(0px 1px 2px rgba(0, 0, 0, 0.3));\n",
              "      fill: #FFFFFF;\n",
              "    }\n",
              "  </style>\n",
              "\n",
              "      <script>\n",
              "        const buttonEl =\n",
              "          document.querySelector('#df-573c4b2f-37a7-4662-83f4-d1d9faee1e52 button.colab-df-convert');\n",
              "        buttonEl.style.display =\n",
              "          google.colab.kernel.accessAllowed ? 'block' : 'none';\n",
              "\n",
              "        async function convertToInteractive(key) {\n",
              "          const element = document.querySelector('#df-573c4b2f-37a7-4662-83f4-d1d9faee1e52');\n",
              "          const dataTable =\n",
              "            await google.colab.kernel.invokeFunction('convertToInteractive',\n",
              "                                                     [key], {});\n",
              "          if (!dataTable) return;\n",
              "\n",
              "          const docLinkHtml = 'Like what you see? Visit the ' +\n",
              "            '<a target=\"_blank\" href=https://colab.research.google.com/notebooks/data_table.ipynb>data table notebook</a>'\n",
              "            + ' to learn more about interactive tables.';\n",
              "          element.innerHTML = '';\n",
              "          dataTable['output_type'] = 'display_data';\n",
              "          await google.colab.output.renderOutput(dataTable, element);\n",
              "          const docLink = document.createElement('div');\n",
              "          docLink.innerHTML = docLinkHtml;\n",
              "          element.appendChild(docLink);\n",
              "        }\n",
              "      </script>\n",
              "    </div>\n",
              "  </div>\n",
              "  "
            ]
          },
          "metadata": {},
          "execution_count": 24
        }
      ]
    },
    {
      "cell_type": "code",
      "source": [
        "df.to_csv(\"./mnist/220921_실습_5_1.csv\", header=True, sep=',', na_rep='NaN', float_format = '%.4f', encoding='utf-8-sig', line_terminator='\\n')"
      ],
      "metadata": {
        "id": "wgZcTyBMStRP"
      },
      "execution_count": 25,
      "outputs": []
    }
  ]
}