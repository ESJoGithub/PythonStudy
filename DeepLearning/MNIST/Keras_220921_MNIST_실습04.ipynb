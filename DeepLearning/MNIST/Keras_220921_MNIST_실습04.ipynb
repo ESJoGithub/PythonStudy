{
  "nbformat": 4,
  "nbformat_minor": 0,
  "metadata": {
    "colab": {
      "provenance": [],
      "collapsed_sections": [],
      "include_colab_link": true
    },
    "kernelspec": {
      "name": "python3",
      "display_name": "Python 3"
    },
    "language_info": {
      "name": "python"
    }
  },
  "cells": [
    {
      "cell_type": "markdown",
      "metadata": {
        "id": "view-in-github",
        "colab_type": "text"
      },
      "source": [
        "<a href=\"https://colab.research.google.com/github/ESJoGithub/PythonStudy/blob/main/Keras_220921_MNIST_%EC%8B%A4%EC%8A%B504.ipynb\" target=\"_parent\"><img src=\"https://colab.research.google.com/assets/colab-badge.svg\" alt=\"Open In Colab\"/></a>"
      ]
    },
    {
      "cell_type": "code",
      "source": [
        "from google.colab import drive\n",
        "drive.mount('/content/drive')"
      ],
      "metadata": {
        "colab": {
          "base_uri": "https://localhost:8080/"
        },
        "id": "oxtO2zTTtPq3",
        "outputId": "432e5b12-a8b9-4ccf-bffc-fcb75eab2c93"
      },
      "execution_count": null,
      "outputs": [
        {
          "output_type": "stream",
          "name": "stdout",
          "text": [
            "Mounted at /content/drive\n"
          ]
        }
      ]
    },
    {
      "cell_type": "code",
      "source": [
        "!ln -s /content/drive/MyDrive /mydrive"
      ],
      "metadata": {
        "id": "e2ZTrV_htIFl"
      },
      "execution_count": null,
      "outputs": []
    },
    {
      "cell_type": "code",
      "source": [
        "%cd /mydrive"
      ],
      "metadata": {
        "colab": {
          "base_uri": "https://localhost:8080/"
        },
        "id": "B9ry3cBStVU1",
        "outputId": "b8f42469-8a7a-4fa2-d42e-d187bdefb63e"
      },
      "execution_count": null,
      "outputs": [
        {
          "output_type": "stream",
          "name": "stdout",
          "text": [
            "/content/drive/MyDrive\n"
          ]
        }
      ]
    },
    {
      "cell_type": "code",
      "source": [
        "!mkdir mnist"
      ],
      "metadata": {
        "id": "98FN5iLDtXqb",
        "colab": {
          "base_uri": "https://localhost:8080/"
        },
        "outputId": "128c41f9-8569-472d-8776-41b2fec1eada"
      },
      "execution_count": null,
      "outputs": [
        {
          "output_type": "stream",
          "name": "stdout",
          "text": [
            "mkdir: cannot create directory ‘mnist’: File exists\n"
          ]
        }
      ]
    },
    {
      "cell_type": "code",
      "source": [
        "from keras import datasets, layers, models                \n",
        "from tensorflow import keras                         # to_categorical 함수\n",
        "from tensorflow.keras.models import load_model\n",
        "from tensorflow.keras.callbacks import EarlyStopping, ModelCheckpoint\n",
        "\n",
        "import numpy as np\n",
        "import matplotlib.pyplot as plt\n",
        "import pandas as pd"
      ],
      "metadata": {
        "id": "UFco5dLCQBQF"
      },
      "execution_count": null,
      "outputs": []
    },
    {
      "cell_type": "code",
      "source": [
        "(train_imgs, train_labels), (test_imgs, test_labels) = datasets.mnist.load_data()"
      ],
      "metadata": {
        "id": "rwcqMzdKTPwN",
        "colab": {
          "base_uri": "https://localhost:8080/"
        },
        "outputId": "edddbb99-4755-489a-f4ef-a399a3502cb6"
      },
      "execution_count": null,
      "outputs": [
        {
          "output_type": "stream",
          "name": "stdout",
          "text": [
            "Downloading data from https://storage.googleapis.com/tensorflow/tf-keras-datasets/mnist.npz\n",
            "11493376/11490434 [==============================] - 0s 0us/step\n",
            "11501568/11490434 [==============================] - 0s 0us/step\n"
          ]
        }
      ]
    },
    {
      "cell_type": "code",
      "source": [
        "train_imgs = train_imgs/255.0\n",
        "test_imgs = test_imgs/255.0"
      ],
      "metadata": {
        "id": "w4IFaKuOYIfc"
      },
      "execution_count": null,
      "outputs": []
    },
    {
      "cell_type": "code",
      "source": [
        "train_imgs = train_imgs.reshape((60000, 28, 28, 1))\n",
        "test_imgs = test_imgs.reshape((10000, 28, 28, 1))"
      ],
      "metadata": {
        "id": "5IGxhDfjiN7d"
      },
      "execution_count": null,
      "outputs": []
    },
    {
      "cell_type": "code",
      "source": [
        "train_labels = keras.utils.to_categorical(train_labels, num_classes=10)\n",
        "test_labels = keras.utils.to_categorical(test_labels, num_classes=10)"
      ],
      "metadata": {
        "id": "ouDs40X-n_uw"
      },
      "execution_count": null,
      "outputs": []
    },
    {
      "cell_type": "markdown",
      "source": [
        "### __모델 변경__\n",
        "\n",
        "---\n",
        "Dropout 및 필터(노드) 수 조정 (32-0.5, 64-0.5, Flatten, 32-10)\n",
        "\n",
        "필터 수, 층 수를 줄이고 Dropout 비율을 높여서 모델 규제를 강화함.\n",
        "\n",
        "epoch=100 EarlyStop patient = 10\n",
        "optimizer = 'rmsprop', 'adam'만 진행"
      ],
      "metadata": {
        "id": "NTqxfKdbYvVL"
      }
    },
    {
      "cell_type": "markdown",
      "source": [
        "#### __1. optimizer='rmsprop'__ "
      ],
      "metadata": {
        "id": "J3jjZUjiwydX"
      }
    },
    {
      "cell_type": "code",
      "source": [
        "model_1_1 = keras.Sequential([\n",
        "  layers.Conv2D(32, (3, 3), activation='relu', input_shape=(28, 28, 1)),\n",
        "  layers.Dropout(0.5),\n",
        "  layers.MaxPooling2D((2, 2)),\n",
        "  layers.Conv2D(64, (3, 3), activation='relu'),\n",
        "  layers.Dropout(0.5),\n",
        "  layers.MaxPooling2D((2, 2)),\n",
        "  layers.Flatten(),\n",
        "  layers.Dense(32, activation = 'sigmoid'),\n",
        "  layers.Dense(10, activation = 'softmax')\n",
        "])\n",
        "model_1_1.summary()"
      ],
      "metadata": {
        "colab": {
          "base_uri": "https://localhost:8080/"
        },
        "outputId": "3229fb93-12f5-48e0-cdb3-23f367144426",
        "id": "aRIhB0X3wtb4"
      },
      "execution_count": null,
      "outputs": [
        {
          "output_type": "stream",
          "name": "stdout",
          "text": [
            "Model: \"sequential\"\n",
            "_________________________________________________________________\n",
            " Layer (type)                Output Shape              Param #   \n",
            "=================================================================\n",
            " conv2d (Conv2D)             (None, 26, 26, 32)        320       \n",
            "                                                                 \n",
            " dropout (Dropout)           (None, 26, 26, 32)        0         \n",
            "                                                                 \n",
            " max_pooling2d (MaxPooling2D  (None, 13, 13, 32)       0         \n",
            " )                                                               \n",
            "                                                                 \n",
            " conv2d_1 (Conv2D)           (None, 11, 11, 64)        18496     \n",
            "                                                                 \n",
            " dropout_1 (Dropout)         (None, 11, 11, 64)        0         \n",
            "                                                                 \n",
            " max_pooling2d_1 (MaxPooling  (None, 5, 5, 64)         0         \n",
            " 2D)                                                             \n",
            "                                                                 \n",
            " flatten (Flatten)           (None, 1600)              0         \n",
            "                                                                 \n",
            " dense (Dense)               (None, 32)                51232     \n",
            "                                                                 \n",
            " dense_1 (Dense)             (None, 10)                330       \n",
            "                                                                 \n",
            "=================================================================\n",
            "Total params: 70,378\n",
            "Trainable params: 70,378\n",
            "Non-trainable params: 0\n",
            "_________________________________________________________________\n"
          ]
        }
      ]
    },
    {
      "cell_type": "code",
      "source": [
        "model_1_1.compile(optimizer=\"rmsprop\", loss=\"categorical_crossentropy\", metrics=[\"accuracy\"])"
      ],
      "metadata": {
        "id": "2xmXZNfewtcK"
      },
      "execution_count": null,
      "outputs": []
    },
    {
      "cell_type": "code",
      "source": [
        "es = EarlyStopping(monitor='val_loss', mode='min', verbose=1, patience=10)\n",
        "mc = ModelCheckpoint('mnist/try04_1.h5', monitor='val_accuracy', mode='max', verbose=1, save_best_only=True)\n",
        "hist_1_1 = model_1_1.fit(train_imgs, train_labels, epochs=100, batch_size=128, validation_split=0.2, callbacks=[es, mc])"
      ],
      "metadata": {
        "colab": {
          "base_uri": "https://localhost:8080/"
        },
        "outputId": "5d35507b-d88d-436d-c406-57e3c96f5f1c",
        "id": "VRjSobitwtcK"
      },
      "execution_count": null,
      "outputs": [
        {
          "output_type": "stream",
          "name": "stdout",
          "text": [
            "Epoch 1/100\n",
            "374/375 [============================>.] - ETA: 0s - loss: 0.5565 - accuracy: 0.8883\n",
            "Epoch 1: val_accuracy improved from -inf to 0.96800, saving model to mnist/try04_1.h5\n",
            "375/375 [==============================] - 15s 8ms/step - loss: 0.5555 - accuracy: 0.8885 - val_loss: 0.1969 - val_accuracy: 0.9680\n",
            "Epoch 2/100\n",
            "366/375 [============================>.] - ETA: 0s - loss: 0.1407 - accuracy: 0.9659\n",
            "Epoch 2: val_accuracy improved from 0.96800 to 0.97692, saving model to mnist/try04_1.h5\n",
            "375/375 [==============================] - 2s 6ms/step - loss: 0.1400 - accuracy: 0.9660 - val_loss: 0.1084 - val_accuracy: 0.9769\n",
            "Epoch 3/100\n",
            "370/375 [============================>.] - ETA: 0s - loss: 0.0924 - accuracy: 0.9749\n",
            "Epoch 3: val_accuracy improved from 0.97692 to 0.98158, saving model to mnist/try04_1.h5\n",
            "375/375 [==============================] - 2s 7ms/step - loss: 0.0923 - accuracy: 0.9749 - val_loss: 0.0802 - val_accuracy: 0.9816\n",
            "Epoch 4/100\n",
            "374/375 [============================>.] - ETA: 0s - loss: 0.0727 - accuracy: 0.9794\n",
            "Epoch 4: val_accuracy improved from 0.98158 to 0.98350, saving model to mnist/try04_1.h5\n",
            "375/375 [==============================] - 2s 6ms/step - loss: 0.0727 - accuracy: 0.9794 - val_loss: 0.0665 - val_accuracy: 0.9835\n",
            "Epoch 5/100\n",
            "372/375 [============================>.] - ETA: 0s - loss: 0.0631 - accuracy: 0.9814\n",
            "Epoch 5: val_accuracy improved from 0.98350 to 0.98492, saving model to mnist/try04_1.h5\n",
            "375/375 [==============================] - 2s 6ms/step - loss: 0.0633 - accuracy: 0.9813 - val_loss: 0.0588 - val_accuracy: 0.9849\n",
            "Epoch 6/100\n",
            "368/375 [============================>.] - ETA: 0s - loss: 0.0536 - accuracy: 0.9839\n",
            "Epoch 6: val_accuracy improved from 0.98492 to 0.98617, saving model to mnist/try04_1.h5\n",
            "375/375 [==============================] - 2s 7ms/step - loss: 0.0540 - accuracy: 0.9837 - val_loss: 0.0549 - val_accuracy: 0.9862\n",
            "Epoch 7/100\n",
            "372/375 [============================>.] - ETA: 0s - loss: 0.0475 - accuracy: 0.9862\n",
            "Epoch 7: val_accuracy improved from 0.98617 to 0.98767, saving model to mnist/try04_1.h5\n",
            "375/375 [==============================] - 3s 7ms/step - loss: 0.0475 - accuracy: 0.9861 - val_loss: 0.0473 - val_accuracy: 0.9877\n",
            "Epoch 8/100\n",
            "367/375 [============================>.] - ETA: 0s - loss: 0.0455 - accuracy: 0.9864\n",
            "Epoch 8: val_accuracy did not improve from 0.98767\n",
            "375/375 [==============================] - 3s 8ms/step - loss: 0.0454 - accuracy: 0.9864 - val_loss: 0.0504 - val_accuracy: 0.9858\n",
            "Epoch 9/100\n",
            "373/375 [============================>.] - ETA: 0s - loss: 0.0413 - accuracy: 0.9880\n",
            "Epoch 9: val_accuracy improved from 0.98767 to 0.98867, saving model to mnist/try04_1.h5\n",
            "375/375 [==============================] - 2s 6ms/step - loss: 0.0412 - accuracy: 0.9880 - val_loss: 0.0431 - val_accuracy: 0.9887\n",
            "Epoch 10/100\n",
            "366/375 [============================>.] - ETA: 0s - loss: 0.0396 - accuracy: 0.9879\n",
            "Epoch 10: val_accuracy did not improve from 0.98867\n",
            "375/375 [==============================] - 2s 7ms/step - loss: 0.0394 - accuracy: 0.9879 - val_loss: 0.0421 - val_accuracy: 0.9885\n",
            "Epoch 11/100\n",
            "368/375 [============================>.] - ETA: 0s - loss: 0.0374 - accuracy: 0.9886\n",
            "Epoch 11: val_accuracy improved from 0.98867 to 0.98967, saving model to mnist/try04_1.h5\n",
            "375/375 [==============================] - 2s 6ms/step - loss: 0.0374 - accuracy: 0.9886 - val_loss: 0.0354 - val_accuracy: 0.9897\n",
            "Epoch 12/100\n",
            "370/375 [============================>.] - ETA: 0s - loss: 0.0360 - accuracy: 0.9888\n",
            "Epoch 12: val_accuracy improved from 0.98967 to 0.99058, saving model to mnist/try04_1.h5\n",
            "375/375 [==============================] - 2s 6ms/step - loss: 0.0358 - accuracy: 0.9889 - val_loss: 0.0367 - val_accuracy: 0.9906\n",
            "Epoch 13/100\n",
            "375/375 [==============================] - ETA: 0s - loss: 0.0324 - accuracy: 0.9901\n",
            "Epoch 13: val_accuracy did not improve from 0.99058\n",
            "375/375 [==============================] - 2s 6ms/step - loss: 0.0324 - accuracy: 0.9901 - val_loss: 0.0376 - val_accuracy: 0.9889\n",
            "Epoch 14/100\n",
            "374/375 [============================>.] - ETA: 0s - loss: 0.0321 - accuracy: 0.9900\n",
            "Epoch 14: val_accuracy did not improve from 0.99058\n",
            "375/375 [==============================] - 2s 6ms/step - loss: 0.0322 - accuracy: 0.9900 - val_loss: 0.0356 - val_accuracy: 0.9902\n",
            "Epoch 15/100\n",
            "369/375 [============================>.] - ETA: 0s - loss: 0.0294 - accuracy: 0.9912\n",
            "Epoch 15: val_accuracy did not improve from 0.99058\n",
            "375/375 [==============================] - 2s 7ms/step - loss: 0.0296 - accuracy: 0.9911 - val_loss: 0.0359 - val_accuracy: 0.9903\n",
            "Epoch 16/100\n",
            "368/375 [============================>.] - ETA: 0s - loss: 0.0290 - accuracy: 0.9910\n",
            "Epoch 16: val_accuracy improved from 0.99058 to 0.99083, saving model to mnist/try04_1.h5\n",
            "375/375 [==============================] - 3s 7ms/step - loss: 0.0289 - accuracy: 0.9910 - val_loss: 0.0316 - val_accuracy: 0.9908\n",
            "Epoch 17/100\n",
            "373/375 [============================>.] - ETA: 0s - loss: 0.0281 - accuracy: 0.9916\n",
            "Epoch 17: val_accuracy improved from 0.99083 to 0.99100, saving model to mnist/try04_1.h5\n",
            "375/375 [==============================] - 2s 7ms/step - loss: 0.0281 - accuracy: 0.9917 - val_loss: 0.0305 - val_accuracy: 0.9910\n",
            "Epoch 18/100\n",
            "368/375 [============================>.] - ETA: 0s - loss: 0.0276 - accuracy: 0.9917\n",
            "Epoch 18: val_accuracy improved from 0.99100 to 0.99158, saving model to mnist/try04_1.h5\n",
            "375/375 [==============================] - 2s 6ms/step - loss: 0.0274 - accuracy: 0.9917 - val_loss: 0.0299 - val_accuracy: 0.9916\n",
            "Epoch 19/100\n",
            "366/375 [============================>.] - ETA: 0s - loss: 0.0260 - accuracy: 0.9919\n",
            "Epoch 19: val_accuracy did not improve from 0.99158\n",
            "375/375 [==============================] - 2s 6ms/step - loss: 0.0259 - accuracy: 0.9919 - val_loss: 0.0300 - val_accuracy: 0.9916\n",
            "Epoch 20/100\n",
            "367/375 [============================>.] - ETA: 0s - loss: 0.0251 - accuracy: 0.9922\n",
            "Epoch 20: val_accuracy did not improve from 0.99158\n",
            "375/375 [==============================] - 2s 6ms/step - loss: 0.0250 - accuracy: 0.9923 - val_loss: 0.0316 - val_accuracy: 0.9907\n",
            "Epoch 21/100\n",
            "372/375 [============================>.] - ETA: 0s - loss: 0.0246 - accuracy: 0.9921\n",
            "Epoch 21: val_accuracy did not improve from 0.99158\n",
            "375/375 [==============================] - 2s 7ms/step - loss: 0.0246 - accuracy: 0.9921 - val_loss: 0.0371 - val_accuracy: 0.9897\n",
            "Epoch 22/100\n",
            "375/375 [==============================] - ETA: 0s - loss: 0.0234 - accuracy: 0.9924\n",
            "Epoch 22: val_accuracy did not improve from 0.99158\n",
            "375/375 [==============================] - 2s 7ms/step - loss: 0.0234 - accuracy: 0.9924 - val_loss: 0.0310 - val_accuracy: 0.9912\n",
            "Epoch 23/100\n",
            "367/375 [============================>.] - ETA: 0s - loss: 0.0243 - accuracy: 0.9925\n",
            "Epoch 23: val_accuracy improved from 0.99158 to 0.99250, saving model to mnist/try04_1.h5\n",
            "375/375 [==============================] - 3s 7ms/step - loss: 0.0246 - accuracy: 0.9924 - val_loss: 0.0299 - val_accuracy: 0.9925\n",
            "Epoch 24/100\n",
            "373/375 [============================>.] - ETA: 0s - loss: 0.0231 - accuracy: 0.9931\n",
            "Epoch 24: val_accuracy did not improve from 0.99250\n",
            "375/375 [==============================] - 2s 7ms/step - loss: 0.0231 - accuracy: 0.9931 - val_loss: 0.0308 - val_accuracy: 0.9911\n",
            "Epoch 25/100\n",
            "367/375 [============================>.] - ETA: 0s - loss: 0.0223 - accuracy: 0.9926\n",
            "Epoch 25: val_accuracy did not improve from 0.99250\n",
            "375/375 [==============================] - 2s 7ms/step - loss: 0.0224 - accuracy: 0.9926 - val_loss: 0.0296 - val_accuracy: 0.9920\n",
            "Epoch 26/100\n",
            "375/375 [==============================] - ETA: 0s - loss: 0.0237 - accuracy: 0.9927\n",
            "Epoch 26: val_accuracy did not improve from 0.99250\n",
            "375/375 [==============================] - 2s 7ms/step - loss: 0.0237 - accuracy: 0.9927 - val_loss: 0.0279 - val_accuracy: 0.9919\n",
            "Epoch 27/100\n",
            "375/375 [==============================] - ETA: 0s - loss: 0.0236 - accuracy: 0.9929\n",
            "Epoch 27: val_accuracy did not improve from 0.99250\n",
            "375/375 [==============================] - 2s 7ms/step - loss: 0.0236 - accuracy: 0.9929 - val_loss: 0.0293 - val_accuracy: 0.9916\n",
            "Epoch 28/100\n",
            "367/375 [============================>.] - ETA: 0s - loss: 0.0210 - accuracy: 0.9934\n",
            "Epoch 28: val_accuracy did not improve from 0.99250\n",
            "375/375 [==============================] - 2s 6ms/step - loss: 0.0207 - accuracy: 0.9935 - val_loss: 0.0290 - val_accuracy: 0.9910\n",
            "Epoch 29/100\n",
            "370/375 [============================>.] - ETA: 0s - loss: 0.0222 - accuracy: 0.9929\n",
            "Epoch 29: val_accuracy did not improve from 0.99250\n",
            "375/375 [==============================] - 2s 7ms/step - loss: 0.0221 - accuracy: 0.9930 - val_loss: 0.0288 - val_accuracy: 0.9911\n",
            "Epoch 30/100\n",
            "368/375 [============================>.] - ETA: 0s - loss: 0.0212 - accuracy: 0.9936\n",
            "Epoch 30: val_accuracy did not improve from 0.99250\n",
            "375/375 [==============================] - 2s 7ms/step - loss: 0.0213 - accuracy: 0.9935 - val_loss: 0.0294 - val_accuracy: 0.9915\n",
            "Epoch 31/100\n",
            "370/375 [============================>.] - ETA: 0s - loss: 0.0200 - accuracy: 0.9941\n",
            "Epoch 31: val_accuracy did not improve from 0.99250\n",
            "375/375 [==============================] - 2s 6ms/step - loss: 0.0198 - accuracy: 0.9941 - val_loss: 0.0292 - val_accuracy: 0.9916\n",
            "Epoch 32/100\n",
            "372/375 [============================>.] - ETA: 0s - loss: 0.0212 - accuracy: 0.9937\n",
            "Epoch 32: val_accuracy did not improve from 0.99250\n",
            "375/375 [==============================] - 2s 6ms/step - loss: 0.0213 - accuracy: 0.9936 - val_loss: 0.0295 - val_accuracy: 0.9913\n",
            "Epoch 33/100\n",
            "374/375 [============================>.] - ETA: 0s - loss: 0.0199 - accuracy: 0.9938\n",
            "Epoch 33: val_accuracy did not improve from 0.99250\n",
            "375/375 [==============================] - 2s 6ms/step - loss: 0.0199 - accuracy: 0.9937 - val_loss: 0.0294 - val_accuracy: 0.9913\n",
            "Epoch 34/100\n",
            "369/375 [============================>.] - ETA: 0s - loss: 0.0196 - accuracy: 0.9939\n",
            "Epoch 34: val_accuracy did not improve from 0.99250\n",
            "375/375 [==============================] - 2s 7ms/step - loss: 0.0196 - accuracy: 0.9938 - val_loss: 0.0283 - val_accuracy: 0.9921\n",
            "Epoch 35/100\n",
            "370/375 [============================>.] - ETA: 0s - loss: 0.0197 - accuracy: 0.9935\n",
            "Epoch 35: val_accuracy did not improve from 0.99250\n",
            "375/375 [==============================] - 2s 7ms/step - loss: 0.0198 - accuracy: 0.9934 - val_loss: 0.0293 - val_accuracy: 0.9920\n",
            "Epoch 36/100\n",
            "370/375 [============================>.] - ETA: 0s - loss: 0.0185 - accuracy: 0.9942\n",
            "Epoch 36: val_accuracy did not improve from 0.99250\n",
            "375/375 [==============================] - 2s 7ms/step - loss: 0.0186 - accuracy: 0.9941 - val_loss: 0.0283 - val_accuracy: 0.9920\n",
            "Epoch 36: early stopping\n"
          ]
        }
      ]
    },
    {
      "cell_type": "code",
      "source": [
        "result = model_1_1.evaluate(test_imgs, test_labels)\n",
        "print(\"\\n테스트 정확도: %.4f\" %(result)[1])"
      ],
      "metadata": {
        "colab": {
          "base_uri": "https://localhost:8080/"
        },
        "outputId": "97e291fe-3218-467b-c16f-884a59487857",
        "id": "Mq-GE0h5wtcL"
      },
      "execution_count": null,
      "outputs": [
        {
          "output_type": "stream",
          "name": "stdout",
          "text": [
            "313/313 [==============================] - 1s 3ms/step - loss: 0.0218 - accuracy: 0.9928\n",
            "\n",
            "테스트 정확도: 0.9928\n"
          ]
        }
      ]
    },
    {
      "cell_type": "code",
      "source": [
        "loaded_model = load_model('mnist/try04_1.h5')\n",
        "result_loaded = loaded_model.evaluate(test_imgs, test_labels)\n",
        "print(\"\\n불러온 모델 테스트 정확도: %.4f\" %(result_loaded)[1])"
      ],
      "metadata": {
        "colab": {
          "base_uri": "https://localhost:8080/"
        },
        "outputId": "b8b268f7-c0d1-4179-ef83-4d926e91ebc1",
        "id": "fGK6vEuiwtcL"
      },
      "execution_count": null,
      "outputs": [
        {
          "output_type": "stream",
          "name": "stdout",
          "text": [
            "313/313 [==============================] - 1s 3ms/step - loss: 0.0222 - accuracy: 0.9927\n",
            "\n",
            "불러온 모델 테스트 정확도: 0.9927\n"
          ]
        }
      ]
    },
    {
      "cell_type": "code",
      "source": [
        "acc = hist_1_1.history['accuracy']\n",
        "val_acc = hist_1_1.history['val_accuracy']\n",
        "loss = hist_1_1.history['loss']\n",
        "val_loss = hist_1_1.history['val_loss']\n",
        "\n",
        "epochs = range(1, len(acc)+1)\n",
        "\n",
        "plt.figure(figsize=(8, 12))\n",
        "ax1=plt.subplot(2, 1, 1)\n",
        "ax2=plt.subplot(2, 1, 2)\n",
        "ax1.plot(epochs, acc, 'bo', label='Trainig acc')\n",
        "ax1.plot(epochs, val_acc, 'b', label='Validation acc')\n",
        "ax1.set_title(\"Training and Validation accuracy\")\n",
        "ax1.legend()\n",
        "ax2.plot(epochs, loss, 'bo', label='Traning loss')\n",
        "ax2.plot(epochs, val_loss, 'b', label='Validation loss')\n",
        "ax2.set_title(\"Training and Validation loss\")\n",
        "ax2.legend()\n",
        "plt.show()"
      ],
      "metadata": {
        "colab": {
          "base_uri": "https://localhost:8080/",
          "height": 716
        },
        "outputId": "08cc48e9-4b1a-46e3-dd10-c12d4d74b7df",
        "id": "k-onGLGMwtcM"
      },
      "execution_count": null,
      "outputs": [
        {
          "output_type": "display_data",
          "data": {
            "text/plain": [
              "<Figure size 576x864 with 2 Axes>"
            ],
            "image/png": "[encoded data removed]"
          },
          "metadata": {
            "needs_background": "light"
          }
        }
      ]
    },
    {
      "cell_type": "code",
      "source": [
        "df = pd.DataFrame([['CNN', 'model_1_1', '32(relu/dropout0.5)-64(relu/drop0.5)-Flatten-32(sigmoid)-10(softmax)]', 'rmsprop', 100, 128, 0.2, 'es/mc', \n",
        "                    \"%.4f\"%(result)[1], \"%.4f\"%(result_loaded)[1], \"%.4f\"%(result)[0], \"%.4f\"%(result_loaded)[0]]],\n",
        "                  columns=['모델', 'Name', 'Structure', 'Optimizer', 'epochs', 'batch_size', 'validation_split', 'callback', 'Accuracy', 'MC_Accuracy', 'Loss', 'MC_Loss'])"
      ],
      "metadata": {
        "id": "YU51jOGcl7DL"
      },
      "execution_count": null,
      "outputs": []
    },
    {
      "cell_type": "markdown",
      "source": [
        "#### __2. optimizer='adam'__ "
      ],
      "metadata": {
        "id": "YN2gmPkbzFeA"
      }
    },
    {
      "cell_type": "code",
      "source": [
        "model_1_2 = keras.Sequential([\n",
        "  layers.Conv2D(32, (3, 3), activation='relu', input_shape=(28, 28, 1)),\n",
        "  layers.Dropout(0.5),\n",
        "  layers.MaxPooling2D((2, 2)),\n",
        "  layers.Conv2D(64, (3, 3), activation='relu'),\n",
        "  layers.Dropout(0.5),\n",
        "  layers.MaxPooling2D((2, 2)),\n",
        "  layers.Flatten(),\n",
        "  layers.Dense(32, activation = 'sigmoid'),\n",
        "  layers.Dense(10, activation = 'softmax')\n",
        "])\n",
        "model_1_2.summary()"
      ],
      "metadata": {
        "colab": {
          "base_uri": "https://localhost:8080/"
        },
        "outputId": "9bc9513c-7888-421e-858b-5e6825581b7a",
        "id": "Ujc6kXBOzFeA"
      },
      "execution_count": null,
      "outputs": [
        {
          "output_type": "stream",
          "name": "stdout",
          "text": [
            "Model: \"sequential_1\"\n",
            "_________________________________________________________________\n",
            " Layer (type)                Output Shape              Param #   \n",
            "=================================================================\n",
            " conv2d_2 (Conv2D)           (None, 26, 26, 32)        320       \n",
            "                                                                 \n",
            " dropout_2 (Dropout)         (None, 26, 26, 32)        0         \n",
            "                                                                 \n",
            " max_pooling2d_2 (MaxPooling  (None, 13, 13, 32)       0         \n",
            " 2D)                                                             \n",
            "                                                                 \n",
            " conv2d_3 (Conv2D)           (None, 11, 11, 64)        18496     \n",
            "                                                                 \n",
            " dropout_3 (Dropout)         (None, 11, 11, 64)        0         \n",
            "                                                                 \n",
            " max_pooling2d_3 (MaxPooling  (None, 5, 5, 64)         0         \n",
            " 2D)                                                             \n",
            "                                                                 \n",
            " flatten_1 (Flatten)         (None, 1600)              0         \n",
            "                                                                 \n",
            " dense_2 (Dense)             (None, 32)                51232     \n",
            "                                                                 \n",
            " dense_3 (Dense)             (None, 10)                330       \n",
            "                                                                 \n",
            "=================================================================\n",
            "Total params: 70,378\n",
            "Trainable params: 70,378\n",
            "Non-trainable params: 0\n",
            "_________________________________________________________________\n"
          ]
        }
      ]
    },
    {
      "cell_type": "code",
      "source": [
        "model_1_2.compile(optimizer=\"adam\", loss=\"categorical_crossentropy\", metrics=[\"accuracy\"])"
      ],
      "metadata": {
        "id": "sy6jnJeXzFeB"
      },
      "execution_count": null,
      "outputs": []
    },
    {
      "cell_type": "code",
      "source": [
        "es = EarlyStopping(monitor='val_loss', mode='min', verbose=1, patience=10)\n",
        "mc = ModelCheckpoint('mnist/try04_2.h5', monitor='val_accuracy', mode='max', verbose=1, save_best_only=True)\n",
        "hist_1_2 = model_1_2.fit(train_imgs, train_labels, epochs=100, batch_size=128, validation_split=0.2, callbacks=[es, mc])"
      ],
      "metadata": {
        "colab": {
          "base_uri": "https://localhost:8080/"
        },
        "outputId": "f8a64403-63a0-4692-ba06-85c1887029a3",
        "id": "yTLlJJB-zFeB"
      },
      "execution_count": null,
      "outputs": [
        {
          "output_type": "stream",
          "name": "stdout",
          "text": [
            "Epoch 1/100\n",
            "366/375 [============================>.] - ETA: 0s - loss: 0.5698 - accuracy: 0.8840\n",
            "Epoch 1: val_accuracy improved from -inf to 0.96583, saving model to mnist/try04_2.h5\n",
            "375/375 [==============================] - 3s 7ms/step - loss: 0.5611 - accuracy: 0.8856 - val_loss: 0.2241 - val_accuracy: 0.9658\n",
            "Epoch 2/100\n",
            "370/375 [============================>.] - ETA: 0s - loss: 0.1596 - accuracy: 0.9658\n",
            "Epoch 2: val_accuracy improved from 0.96583 to 0.97458, saving model to mnist/try04_2.h5\n",
            "375/375 [==============================] - 2s 6ms/step - loss: 0.1593 - accuracy: 0.9659 - val_loss: 0.1285 - val_accuracy: 0.9746\n",
            "Epoch 3/100\n",
            "373/375 [============================>.] - ETA: 0s - loss: 0.1062 - accuracy: 0.9742\n",
            "Epoch 3: val_accuracy improved from 0.97458 to 0.97917, saving model to mnist/try04_2.h5\n",
            "375/375 [==============================] - 2s 6ms/step - loss: 0.1060 - accuracy: 0.9742 - val_loss: 0.0977 - val_accuracy: 0.9792\n",
            "Epoch 4/100\n",
            "372/375 [============================>.] - ETA: 0s - loss: 0.0822 - accuracy: 0.9793\n",
            "Epoch 4: val_accuracy improved from 0.97917 to 0.98275, saving model to mnist/try04_2.h5\n",
            "375/375 [==============================] - 2s 6ms/step - loss: 0.0822 - accuracy: 0.9793 - val_loss: 0.0807 - val_accuracy: 0.9827\n",
            "Epoch 5/100\n",
            "371/375 [============================>.] - ETA: 0s - loss: 0.0677 - accuracy: 0.9824\n",
            "Epoch 5: val_accuracy improved from 0.98275 to 0.98425, saving model to mnist/try04_2.h5\n",
            "375/375 [==============================] - 2s 6ms/step - loss: 0.0677 - accuracy: 0.9824 - val_loss: 0.0640 - val_accuracy: 0.9843\n",
            "Epoch 6/100\n",
            "371/375 [============================>.] - ETA: 0s - loss: 0.0583 - accuracy: 0.9843\n",
            "Epoch 6: val_accuracy improved from 0.98425 to 0.98633, saving model to mnist/try04_2.h5\n",
            "375/375 [==============================] - 2s 6ms/step - loss: 0.0581 - accuracy: 0.9843 - val_loss: 0.0566 - val_accuracy: 0.9863\n",
            "Epoch 7/100\n",
            "368/375 [============================>.] - ETA: 0s - loss: 0.0532 - accuracy: 0.9852\n",
            "Epoch 7: val_accuracy improved from 0.98633 to 0.98725, saving model to mnist/try04_2.h5\n",
            "375/375 [==============================] - 2s 6ms/step - loss: 0.0533 - accuracy: 0.9853 - val_loss: 0.0535 - val_accuracy: 0.9872\n",
            "Epoch 8/100\n",
            "366/375 [============================>.] - ETA: 0s - loss: 0.0464 - accuracy: 0.9871\n",
            "Epoch 8: val_accuracy improved from 0.98725 to 0.98750, saving model to mnist/try04_2.h5\n",
            "375/375 [==============================] - 2s 6ms/step - loss: 0.0464 - accuracy: 0.9872 - val_loss: 0.0506 - val_accuracy: 0.9875\n",
            "Epoch 9/100\n",
            "367/375 [============================>.] - ETA: 0s - loss: 0.0418 - accuracy: 0.9883\n",
            "Epoch 9: val_accuracy improved from 0.98750 to 0.98783, saving model to mnist/try04_2.h5\n",
            "375/375 [==============================] - 2s 6ms/step - loss: 0.0420 - accuracy: 0.9882 - val_loss: 0.0452 - val_accuracy: 0.9878\n",
            "Epoch 10/100\n",
            "370/375 [============================>.] - ETA: 0s - loss: 0.0400 - accuracy: 0.9886\n",
            "Epoch 10: val_accuracy improved from 0.98783 to 0.98942, saving model to mnist/try04_2.h5\n",
            "375/375 [==============================] - 3s 8ms/step - loss: 0.0399 - accuracy: 0.9886 - val_loss: 0.0422 - val_accuracy: 0.9894\n",
            "Epoch 11/100\n",
            "371/375 [============================>.] - ETA: 0s - loss: 0.0360 - accuracy: 0.9896\n",
            "Epoch 11: val_accuracy improved from 0.98942 to 0.98975, saving model to mnist/try04_2.h5\n",
            "375/375 [==============================] - 2s 6ms/step - loss: 0.0360 - accuracy: 0.9896 - val_loss: 0.0406 - val_accuracy: 0.9898\n",
            "Epoch 12/100\n",
            "375/375 [==============================] - ETA: 0s - loss: 0.0328 - accuracy: 0.9904\n",
            "Epoch 12: val_accuracy did not improve from 0.98975\n",
            "375/375 [==============================] - 2s 6ms/step - loss: 0.0328 - accuracy: 0.9904 - val_loss: 0.0403 - val_accuracy: 0.9890\n",
            "Epoch 13/100\n",
            "375/375 [==============================] - ETA: 0s - loss: 0.0324 - accuracy: 0.9902\n",
            "Epoch 13: val_accuracy did not improve from 0.98975\n",
            "375/375 [==============================] - 3s 8ms/step - loss: 0.0324 - accuracy: 0.9902 - val_loss: 0.0361 - val_accuracy: 0.9897\n",
            "Epoch 14/100\n",
            "372/375 [============================>.] - ETA: 0s - loss: 0.0305 - accuracy: 0.9911\n",
            "Epoch 14: val_accuracy did not improve from 0.98975\n",
            "375/375 [==============================] - 3s 9ms/step - loss: 0.0304 - accuracy: 0.9911 - val_loss: 0.0384 - val_accuracy: 0.9888\n",
            "Epoch 15/100\n",
            "368/375 [============================>.] - ETA: 0s - loss: 0.0291 - accuracy: 0.9914\n",
            "Epoch 15: val_accuracy did not improve from 0.98975\n",
            "375/375 [==============================] - 2s 6ms/step - loss: 0.0291 - accuracy: 0.9914 - val_loss: 0.0362 - val_accuracy: 0.9897\n",
            "Epoch 16/100\n",
            "367/375 [============================>.] - ETA: 0s - loss: 0.0276 - accuracy: 0.9916\n",
            "Epoch 16: val_accuracy improved from 0.98975 to 0.99092, saving model to mnist/try04_2.h5\n",
            "375/375 [==============================] - 3s 7ms/step - loss: 0.0276 - accuracy: 0.9915 - val_loss: 0.0328 - val_accuracy: 0.9909\n",
            "Epoch 17/100\n",
            "371/375 [============================>.] - ETA: 0s - loss: 0.0266 - accuracy: 0.9917\n",
            "Epoch 17: val_accuracy improved from 0.99092 to 0.99100, saving model to mnist/try04_2.h5\n",
            "375/375 [==============================] - 2s 6ms/step - loss: 0.0265 - accuracy: 0.9918 - val_loss: 0.0316 - val_accuracy: 0.9910\n",
            "Epoch 18/100\n",
            "367/375 [============================>.] - ETA: 0s - loss: 0.0264 - accuracy: 0.9921\n",
            "Epoch 18: val_accuracy did not improve from 0.99100\n",
            "375/375 [==============================] - 2s 6ms/step - loss: 0.0262 - accuracy: 0.9922 - val_loss: 0.0323 - val_accuracy: 0.9905\n",
            "Epoch 19/100\n",
            "368/375 [============================>.] - ETA: 0s - loss: 0.0248 - accuracy: 0.9925\n",
            "Epoch 19: val_accuracy did not improve from 0.99100\n",
            "375/375 [==============================] - 2s 6ms/step - loss: 0.0247 - accuracy: 0.9926 - val_loss: 0.0311 - val_accuracy: 0.9908\n",
            "Epoch 20/100\n",
            "367/375 [============================>.] - ETA: 0s - loss: 0.0239 - accuracy: 0.9922\n",
            "Epoch 20: val_accuracy did not improve from 0.99100\n",
            "375/375 [==============================] - 2s 6ms/step - loss: 0.0240 - accuracy: 0.9921 - val_loss: 0.0318 - val_accuracy: 0.9907\n",
            "Epoch 21/100\n",
            "369/375 [============================>.] - ETA: 0s - loss: 0.0226 - accuracy: 0.9930\n",
            "Epoch 21: val_accuracy did not improve from 0.99100\n",
            "375/375 [==============================] - 2s 6ms/step - loss: 0.0225 - accuracy: 0.9931 - val_loss: 0.0299 - val_accuracy: 0.9908\n",
            "Epoch 22/100\n",
            "375/375 [==============================] - ETA: 0s - loss: 0.0216 - accuracy: 0.9932\n",
            "Epoch 22: val_accuracy did not improve from 0.99100\n",
            "375/375 [==============================] - 2s 6ms/step - loss: 0.0216 - accuracy: 0.9932 - val_loss: 0.0307 - val_accuracy: 0.9909\n",
            "Epoch 23/100\n",
            "372/375 [============================>.] - ETA: 0s - loss: 0.0213 - accuracy: 0.9932\n",
            "Epoch 23: val_accuracy did not improve from 0.99100\n",
            "375/375 [==============================] - 2s 6ms/step - loss: 0.0213 - accuracy: 0.9931 - val_loss: 0.0311 - val_accuracy: 0.9909\n",
            "Epoch 24/100\n",
            "372/375 [============================>.] - ETA: 0s - loss: 0.0216 - accuracy: 0.9936\n",
            "Epoch 24: val_accuracy improved from 0.99100 to 0.99175, saving model to mnist/try04_2.h5\n",
            "375/375 [==============================] - 3s 8ms/step - loss: 0.0217 - accuracy: 0.9936 - val_loss: 0.0291 - val_accuracy: 0.9918\n",
            "Epoch 25/100\n",
            "373/375 [============================>.] - ETA: 0s - loss: 0.0202 - accuracy: 0.9934\n",
            "Epoch 25: val_accuracy did not improve from 0.99175\n",
            "375/375 [==============================] - 2s 6ms/step - loss: 0.0202 - accuracy: 0.9934 - val_loss: 0.0303 - val_accuracy: 0.9914\n",
            "Epoch 26/100\n",
            "370/375 [============================>.] - ETA: 0s - loss: 0.0202 - accuracy: 0.9936\n",
            "Epoch 26: val_accuracy did not improve from 0.99175\n",
            "375/375 [==============================] - 2s 6ms/step - loss: 0.0201 - accuracy: 0.9936 - val_loss: 0.0320 - val_accuracy: 0.9903\n",
            "Epoch 27/100\n",
            "372/375 [============================>.] - ETA: 0s - loss: 0.0183 - accuracy: 0.9942\n",
            "Epoch 27: val_accuracy did not improve from 0.99175\n",
            "375/375 [==============================] - 2s 6ms/step - loss: 0.0182 - accuracy: 0.9942 - val_loss: 0.0319 - val_accuracy: 0.9902\n",
            "Epoch 28/100\n",
            "373/375 [============================>.] - ETA: 0s - loss: 0.0175 - accuracy: 0.9946\n",
            "Epoch 28: val_accuracy did not improve from 0.99175\n",
            "375/375 [==============================] - 2s 6ms/step - loss: 0.0175 - accuracy: 0.9946 - val_loss: 0.0285 - val_accuracy: 0.9917\n",
            "Epoch 29/100\n",
            "372/375 [============================>.] - ETA: 0s - loss: 0.0169 - accuracy: 0.9945\n",
            "Epoch 29: val_accuracy did not improve from 0.99175\n",
            "375/375 [==============================] - 2s 6ms/step - loss: 0.0170 - accuracy: 0.9945 - val_loss: 0.0292 - val_accuracy: 0.9918\n",
            "Epoch 30/100\n",
            "370/375 [============================>.] - ETA: 0s - loss: 0.0181 - accuracy: 0.9940\n",
            "Epoch 30: val_accuracy did not improve from 0.99175\n",
            "375/375 [==============================] - 2s 6ms/step - loss: 0.0180 - accuracy: 0.9940 - val_loss: 0.0303 - val_accuracy: 0.9916\n",
            "Epoch 31/100\n",
            "370/375 [============================>.] - ETA: 0s - loss: 0.0169 - accuracy: 0.9946\n",
            "Epoch 31: val_accuracy did not improve from 0.99175\n",
            "375/375 [==============================] - 2s 6ms/step - loss: 0.0169 - accuracy: 0.9946 - val_loss: 0.0303 - val_accuracy: 0.9903\n",
            "Epoch 32/100\n",
            "370/375 [============================>.] - ETA: 0s - loss: 0.0178 - accuracy: 0.9942\n",
            "Epoch 32: val_accuracy did not improve from 0.99175\n",
            "375/375 [==============================] - 2s 6ms/step - loss: 0.0179 - accuracy: 0.9941 - val_loss: 0.0311 - val_accuracy: 0.9908\n",
            "Epoch 33/100\n",
            "372/375 [============================>.] - ETA: 0s - loss: 0.0162 - accuracy: 0.9947\n",
            "Epoch 33: val_accuracy did not improve from 0.99175\n",
            "375/375 [==============================] - 2s 6ms/step - loss: 0.0162 - accuracy: 0.9948 - val_loss: 0.0312 - val_accuracy: 0.9910\n",
            "Epoch 34/100\n",
            "369/375 [============================>.] - ETA: 0s - loss: 0.0158 - accuracy: 0.9948\n",
            "Epoch 34: val_accuracy improved from 0.99175 to 0.99183, saving model to mnist/try04_2.h5\n",
            "375/375 [==============================] - 3s 7ms/step - loss: 0.0159 - accuracy: 0.9947 - val_loss: 0.0287 - val_accuracy: 0.9918\n",
            "Epoch 35/100\n",
            "371/375 [============================>.] - ETA: 0s - loss: 0.0153 - accuracy: 0.9953\n",
            "Epoch 35: val_accuracy did not improve from 0.99183\n",
            "375/375 [==============================] - 2s 6ms/step - loss: 0.0153 - accuracy: 0.9953 - val_loss: 0.0294 - val_accuracy: 0.9918\n",
            "Epoch 36/100\n",
            "371/375 [============================>.] - ETA: 0s - loss: 0.0152 - accuracy: 0.9947\n",
            "Epoch 36: val_accuracy did not improve from 0.99183\n",
            "375/375 [==============================] - 2s 6ms/step - loss: 0.0152 - accuracy: 0.9947 - val_loss: 0.0291 - val_accuracy: 0.9913\n",
            "Epoch 37/100\n",
            "370/375 [============================>.] - ETA: 0s - loss: 0.0147 - accuracy: 0.9954\n",
            "Epoch 37: val_accuracy did not improve from 0.99183\n",
            "375/375 [==============================] - 2s 6ms/step - loss: 0.0147 - accuracy: 0.9955 - val_loss: 0.0292 - val_accuracy: 0.9918\n",
            "Epoch 38/100\n",
            "373/375 [============================>.] - ETA: 0s - loss: 0.0142 - accuracy: 0.9954\n",
            "Epoch 38: val_accuracy did not improve from 0.99183\n",
            "375/375 [==============================] - 2s 6ms/step - loss: 0.0142 - accuracy: 0.9954 - val_loss: 0.0300 - val_accuracy: 0.9912\n",
            "Epoch 38: early stopping\n"
          ]
        }
      ]
    },
    {
      "cell_type": "code",
      "source": [
        "result = model_1_2.evaluate(test_imgs, test_labels)\n",
        "print(\"\\n테스트 정확도: %.4f\" %(result)[1])"
      ],
      "metadata": {
        "colab": {
          "base_uri": "https://localhost:8080/"
        },
        "outputId": "0bbc43e4-6acf-43e4-da56-81e17b039fb5",
        "id": "BBHg9vsCzFeD"
      },
      "execution_count": null,
      "outputs": [
        {
          "output_type": "stream",
          "name": "stdout",
          "text": [
            "313/313 [==============================] - 1s 3ms/step - loss: 0.0239 - accuracy: 0.9925\n",
            "\n",
            "테스트 정확도: 0.9925\n"
          ]
        }
      ]
    },
    {
      "cell_type": "code",
      "source": [
        "loaded_model = load_model('mnist/try04_2.h5')\n",
        "result_loaded = loaded_model.evaluate(test_imgs, test_labels)\n",
        "print(\"\\n불러온 모델 테스트 정확도: %.4f\" %(result_loaded)[1])"
      ],
      "metadata": {
        "colab": {
          "base_uri": "https://localhost:8080/"
        },
        "outputId": "a145692d-82c0-4cbf-b583-5627b3d36e91",
        "id": "-OddZd0hzFeE"
      },
      "execution_count": null,
      "outputs": [
        {
          "output_type": "stream",
          "name": "stdout",
          "text": [
            "313/313 [==============================] - 1s 3ms/step - loss: 0.0230 - accuracy: 0.9933\n",
            "\n",
            "불러온 모델 테스트 정확도: 0.9933\n"
          ]
        }
      ]
    },
    {
      "cell_type": "code",
      "source": [
        "acc = hist_1_2.history['accuracy']\n",
        "val_acc = hist_1_2.history['val_accuracy']\n",
        "loss = hist_1_2.history['loss']\n",
        "val_loss = hist_1_2.history['val_loss']\n",
        "\n",
        "epochs = range(1, len(acc)+1)\n",
        "\n",
        "plt.figure(figsize=(8, 12))\n",
        "ax1=plt.subplot(2, 1, 1)\n",
        "ax2=plt.subplot(2, 1, 2)\n",
        "ax1.plot(epochs, acc, 'bo', label='Trainig acc')\n",
        "ax1.plot(epochs, val_acc, 'b', label='Validation acc')\n",
        "ax1.set_title(\"Training and Validation accuracy\")\n",
        "ax1.legend()\n",
        "ax2.plot(epochs, loss, 'bo', label='Traning loss')\n",
        "ax2.plot(epochs, val_loss, 'b', label='Validation loss')\n",
        "ax2.set_title(\"Training and Validation loss\")\n",
        "ax2.legend()\n",
        "plt.show()"
      ],
      "metadata": {
        "colab": {
          "base_uri": "https://localhost:8080/",
          "height": 716
        },
        "outputId": "a44bfe28-b5e5-48d8-8687-bd3001b390e3",
        "id": "0gLCkZufzFeE"
      },
      "execution_count": null,
      "outputs": [
        {
          "output_type": "display_data",
          "data": {
            "text/plain": [
              "<Figure size 576x864 with 2 Axes>"
            ],
            "image/png": "[encoded data removed]"
          },
          "metadata": {
            "needs_background": "light"
          }
        }
      ]
    },
    {
      "cell_type": "code",
      "source": [
        "df.loc[1]=['CNN', 'model_1_1', '32(relu/dropout0.5)-64(relu/drop0.5)-Flatten-32(sigmoid)-10(softmax)]', 'adam', 100, 128, 0.2, 'es/mc', \n",
        "                    \"%.4f\"%(result)[1], \"%.4f\"%(result_loaded)[1], \"%.4f\"%(result)[0], \"%.4f\"%(result_loaded)[0]]"
      ],
      "metadata": {
        "id": "i57lgiGgzFeF"
      },
      "execution_count": null,
      "outputs": []
    },
    {
      "cell_type": "code",
      "source": [
        "df.head()"
      ],
      "metadata": {
        "colab": {
          "base_uri": "https://localhost:8080/",
          "height": 211
        },
        "id": "K82gOTDByz2D",
        "outputId": "559b195d-387f-4de5-ef29-44c716261f54"
      },
      "execution_count": null,
      "outputs": [
        {
          "output_type": "execute_result",
          "data": {
            "text/plain": [
              "    모델       Name                                          Structure  \\\n",
              "0  CNN  model_1_1  32(relu/dropout0.5)-64(relu/drop0.5)-Flatten-3...   \n",
              "1  CNN  model_1_1  32(relu/dropout0.5)-64(relu/drop0.5)-Flatten-3...   \n",
              "\n",
              "  Optimizer  epochs  batch_size  validation_split callback Accuracy  \\\n",
              "0   rmsprop     100         128               0.2    es/mc   0.9928   \n",
              "1      adam     100         128               0.2    es/mc   0.9925   \n",
              "\n",
              "  MC_Accuracy    Loss MC_Loss  \n",
              "0      0.9927  0.0218  0.0222  \n",
              "1      0.9933  0.0239  0.0230  "
            ],
            "text/html": [
              "\n",
              "  <div id=\"df-9169d11e-073e-4fc7-8fe9-24145f8d9d72\">\n",
              "    <div class=\"colab-df-container\">\n",
              "      <div>\n",
              "<style scoped>\n",
              "    .dataframe tbody tr th:only-of-type {\n",
              "        vertical-align: middle;\n",
              "    }\n",
              "\n",
              "    .dataframe tbody tr th {\n",
              "        vertical-align: top;\n",
              "    }\n",
              "\n",
              "    .dataframe thead th {\n",
              "        text-align: right;\n",
              "    }\n",
              "</style>\n",
              "<table border=\"1\" class=\"dataframe\">\n",
              "  <thead>\n",
              "    <tr style=\"text-align: right;\">\n",
              "      <th></th>\n",
              "      <th>모델</th>\n",
              "      <th>Name</th>\n",
              "      <th>Structure</th>\n",
              "      <th>Optimizer</th>\n",
              "      <th>epochs</th>\n",
              "      <th>batch_size</th>\n",
              "      <th>validation_split</th>\n",
              "      <th>callback</th>\n",
              "      <th>Accuracy</th>\n",
              "      <th>MC_Accuracy</th>\n",
              "      <th>Loss</th>\n",
              "      <th>MC_Loss</th>\n",
              "    </tr>\n",
              "  </thead>\n",
              "  <tbody>\n",
              "    <tr>\n",
              "      <th>0</th>\n",
              "      <td>CNN</td>\n",
              "      <td>model_1_1</td>\n",
              "      <td>32(relu/dropout0.5)-64(relu/drop0.5)-Flatten-3...</td>\n",
              "      <td>rmsprop</td>\n",
              "      <td>100</td>\n",
              "      <td>128</td>\n",
              "      <td>0.2</td>\n",
              "      <td>es/mc</td>\n",
              "      <td>0.9928</td>\n",
              "      <td>0.9927</td>\n",
              "      <td>0.0218</td>\n",
              "      <td>0.0222</td>\n",
              "    </tr>\n",
              "    <tr>\n",
              "      <th>1</th>\n",
              "      <td>CNN</td>\n",
              "      <td>model_1_1</td>\n",
              "      <td>32(relu/dropout0.5)-64(relu/drop0.5)-Flatten-3...</td>\n",
              "      <td>adam</td>\n",
              "      <td>100</td>\n",
              "      <td>128</td>\n",
              "      <td>0.2</td>\n",
              "      <td>es/mc</td>\n",
              "      <td>0.9925</td>\n",
              "      <td>0.9933</td>\n",
              "      <td>0.0239</td>\n",
              "      <td>0.0230</td>\n",
              "    </tr>\n",
              "  </tbody>\n",
              "</table>\n",
              "</div>\n",
              "      <button class=\"colab-df-convert\" onclick=\"convertToInteractive('df-9169d11e-073e-4fc7-8fe9-24145f8d9d72')\"\n",
              "              title=\"Convert this dataframe to an interactive table.\"\n",
              "              style=\"display:none;\">\n",
              "        \n",
              "  <svg xmlns=\"http://www.w3.org/2000/svg\" height=\"24px\"viewBox=\"0 0 24 24\"\n",
              "       width=\"24px\">\n",
              "    <path d=\"M0 0h24v24H0V0z\" fill=\"none\"/>\n",
              "    <path d=\"M18.56 5.44l.94 2.06.94-2.06 2.06-.94-2.06-.94-.94-2.06-.94 2.06-2.06.94zm-11 1L8.5 8.5l.94-2.06 2.06-.94-2.06-.94L8.5 2.5l-.94 2.06-2.06.94zm10 10l.94 2.06.94-2.06 2.06-.94-2.06-.94-.94-2.06-.94 2.06-2.06.94z\"/><path d=\"M17.41 7.96l-1.37-1.37c-.4-.4-.92-.59-1.43-.59-.52 0-1.04.2-1.43.59L10.3 9.45l-7.72 7.72c-.78.78-.78 2.05 0 2.83L4 21.41c.39.39.9.59 1.41.59.51 0 1.02-.2 1.41-.59l7.78-7.78 2.81-2.81c.8-.78.8-2.07 0-2.86zM5.41 20L4 18.59l7.72-7.72 1.47 1.35L5.41 20z\"/>\n",
              "  </svg>\n",
              "      </button>\n",
              "      \n",
              "  <style>\n",
              "    .colab-df-container {\n",
              "      display:flex;\n",
              "      flex-wrap:wrap;\n",
              "      gap: 12px;\n",
              "    }\n",
              "\n",
              "    .colab-df-convert {\n",
              "      background-color: #E8F0FE;\n",
              "      border: none;\n",
              "      border-radius: 50%;\n",
              "      cursor: pointer;\n",
              "      display: none;\n",
              "      fill: #1967D2;\n",
              "      height: 32px;\n",
              "      padding: 0 0 0 0;\n",
              "      width: 32px;\n",
              "    }\n",
              "\n",
              "    .colab-df-convert:hover {\n",
              "      background-color: #E2EBFA;\n",
              "      box-shadow: 0px 1px 2px rgba(60, 64, 67, 0.3), 0px 1px 3px 1px rgba(60, 64, 67, 0.15);\n",
              "      fill: #174EA6;\n",
              "    }\n",
              "\n",
              "    [theme=dark] .colab-df-convert {\n",
              "      background-color: #3B4455;\n",
              "      fill: #D2E3FC;\n",
              "    }\n",
              "\n",
              "    [theme=dark] .colab-df-convert:hover {\n",
              "      background-color: #434B5C;\n",
              "      box-shadow: 0px 1px 3px 1px rgba(0, 0, 0, 0.15);\n",
              "      filter: drop-shadow(0px 1px 2px rgba(0, 0, 0, 0.3));\n",
              "      fill: #FFFFFF;\n",
              "    }\n",
              "  </style>\n",
              "\n",
              "      <script>\n",
              "        const buttonEl =\n",
              "          document.querySelector('#df-9169d11e-073e-4fc7-8fe9-24145f8d9d72 button.colab-df-convert');\n",
              "        buttonEl.style.display =\n",
              "          google.colab.kernel.accessAllowed ? 'block' : 'none';\n",
              "\n",
              "        async function convertToInteractive(key) {\n",
              "          const element = document.querySelector('#df-9169d11e-073e-4fc7-8fe9-24145f8d9d72');\n",
              "          const dataTable =\n",
              "            await google.colab.kernel.invokeFunction('convertToInteractive',\n",
              "                                                     [key], {});\n",
              "          if (!dataTable) return;\n",
              "\n",
              "          const docLinkHtml = 'Like what you see? Visit the ' +\n",
              "            '<a target=\"_blank\" href=https://colab.research.google.com/notebooks/data_table.ipynb>data table notebook</a>'\n",
              "            + ' to learn more about interactive tables.';\n",
              "          element.innerHTML = '';\n",
              "          dataTable['output_type'] = 'display_data';\n",
              "          await google.colab.output.renderOutput(dataTable, element);\n",
              "          const docLink = document.createElement('div');\n",
              "          docLink.innerHTML = docLinkHtml;\n",
              "          element.appendChild(docLink);\n",
              "        }\n",
              "      </script>\n",
              "    </div>\n",
              "  </div>\n",
              "  "
            ]
          },
          "metadata": {},
          "execution_count": 24
        }
      ]
    },
    {
      "cell_type": "code",
      "source": [
        "df.to_csv(\"./mnist/220921_실습_4.csv\", header=True, sep=',', na_rep='NaN', float_format = '%.4f', encoding='utf-8-sig', line_terminator='\\n')"
      ],
      "metadata": {
        "id": "wgZcTyBMStRP"
      },
      "execution_count": null,
      "outputs": []
    }
  ]
}
