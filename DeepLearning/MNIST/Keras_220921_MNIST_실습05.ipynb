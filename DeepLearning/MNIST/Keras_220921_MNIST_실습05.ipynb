{
  "nbformat": 4,
  "nbformat_minor": 0,
  "metadata": {
    "colab": {
      "provenance": [],
      "collapsed_sections": [],
      "include_colab_link": true
    },
    "kernelspec": {
      "name": "python3",
      "display_name": "Python 3"
    },
    "language_info": {
      "name": "python"
    }
  },
  "cells": [
    {
      "cell_type": "markdown",
      "metadata": {
        "id": "view-in-github",
        "colab_type": "text"
      },
      "source": [
        "<a href=\"https://colab.research.google.com/github/ESJoGithub/PythonStudy/blob/main/Keras_220921_MNIST_%EC%8B%A4%EC%8A%B505.ipynb\" target=\"_parent\"><img src=\"https://colab.research.google.com/assets/colab-badge.svg\" alt=\"Open In Colab\"/></a>"
      ]
    },
    {
      "cell_type": "code",
      "source": [
        "from google.colab import drive\n",
        "drive.mount('/content/drive')"
      ],
      "metadata": {
        "colab": {
          "base_uri": "https://localhost:8080/"
        },
        "id": "oxtO2zTTtPq3",
        "outputId": "6a84a4a4-b479-49bf-e1f8-1e24e59fa900"
      },
      "execution_count": null,
      "outputs": [
        {
          "output_type": "stream",
          "name": "stdout",
          "text": [
            "Mounted at /content/drive\n"
          ]
        }
      ]
    },
    {
      "cell_type": "code",
      "source": [
        "!ln -s /content/drive/MyDrive /mydrive"
      ],
      "metadata": {
        "id": "e2ZTrV_htIFl"
      },
      "execution_count": null,
      "outputs": []
    },
    {
      "cell_type": "code",
      "source": [
        "%cd /mydrive"
      ],
      "metadata": {
        "colab": {
          "base_uri": "https://localhost:8080/"
        },
        "id": "B9ry3cBStVU1",
        "outputId": "3e92e1b8-b741-42da-d8a9-fb6946e6b81e"
      },
      "execution_count": null,
      "outputs": [
        {
          "output_type": "stream",
          "name": "stdout",
          "text": [
            "/content/drive/MyDrive\n"
          ]
        }
      ]
    },
    {
      "cell_type": "code",
      "source": [
        "!mkdir mnist"
      ],
      "metadata": {
        "id": "98FN5iLDtXqb",
        "colab": {
          "base_uri": "https://localhost:8080/"
        },
        "outputId": "761cc3fd-eb99-483f-f4fc-cba45fe2ca4f"
      },
      "execution_count": null,
      "outputs": [
        {
          "output_type": "stream",
          "name": "stdout",
          "text": [
            "mkdir: cannot create directory ‘mnist’: File exists\n"
          ]
        }
      ]
    },
    {
      "cell_type": "markdown",
      "source": [
        "## __배치정규화 일괄적용__\n",
        "--\n",
        "\n",
        "Batch_normalization 추가"
      ],
      "metadata": {
        "id": "19CLRpWxwL5T"
      }
    },
    {
      "cell_type": "code",
      "source": [
        "from keras import datasets, layers, models                \n",
        "from tensorflow import keras                         # to_categorical 함수\n",
        "from tensorflow.keras.models import load_model\n",
        "from tensorflow.keras.callbacks import EarlyStopping, ModelCheckpoint\n",
        "\n",
        "import numpy as np\n",
        "import matplotlib.pyplot as plt\n",
        "import pandas as pd"
      ],
      "metadata": {
        "id": "UFco5dLCQBQF"
      },
      "execution_count": null,
      "outputs": []
    },
    {
      "cell_type": "code",
      "source": [
        "(train_imgs, train_labels), (test_imgs, test_labels) = datasets.mnist.load_data()"
      ],
      "metadata": {
        "id": "rwcqMzdKTPwN",
        "colab": {
          "base_uri": "https://localhost:8080/"
        },
        "outputId": "1e15a481-009c-497d-a4f2-8ee9a98b98bc"
      },
      "execution_count": null,
      "outputs": [
        {
          "output_type": "stream",
          "name": "stdout",
          "text": [
            "Downloading data from https://storage.googleapis.com/tensorflow/tf-keras-datasets/mnist.npz\n",
            "11493376/11490434 [==============================] - 0s 0us/step\n",
            "11501568/11490434 [==============================] - 0s 0us/step\n"
          ]
        }
      ]
    },
    {
      "cell_type": "code",
      "source": [
        "train_imgs = train_imgs/255.0\n",
        "test_imgs = test_imgs/255.0"
      ],
      "metadata": {
        "id": "w4IFaKuOYIfc"
      },
      "execution_count": null,
      "outputs": []
    },
    {
      "cell_type": "code",
      "source": [
        "train_imgs = train_imgs.reshape((60000, 28, 28, 1))\n",
        "test_imgs = test_imgs.reshape((10000, 28, 28, 1))"
      ],
      "metadata": {
        "id": "5IGxhDfjiN7d"
      },
      "execution_count": null,
      "outputs": []
    },
    {
      "cell_type": "code",
      "source": [
        "train_labels = keras.utils.to_categorical(train_labels, num_classes=10)\n",
        "test_labels = keras.utils.to_categorical(test_labels, num_classes=10)"
      ],
      "metadata": {
        "id": "ouDs40X-n_uw"
      },
      "execution_count": null,
      "outputs": []
    },
    {
      "cell_type": "markdown",
      "source": [
        "#### __1. BatchNormalization, 출력 직전층 activation='relu', optimizer='rmsprop'__ "
      ],
      "metadata": {
        "id": "J3jjZUjiwydX"
      }
    },
    {
      "cell_type": "code",
      "source": [
        "model_1_1 = keras.Sequential()\n",
        "model_1_1.add(layers.Conv2D(32, kernel_size=(3, 3), input_shape=(28, 28, 1)))\n",
        "model_1_1.add(layers.BatchNormalization())\n",
        "model_1_1.add(layers.Activation('relu'))\n",
        "model_1_1.add(layers.MaxPooling2D(pool_size=(2,2)))\n",
        "model_1_1.add(layers.Dropout(0.2))\n",
        "model_1_1.add(layers.Conv2D(64, (3, 3)))\n",
        "model_1_1.add(layers.BatchNormalization())\n",
        "model_1_1.add(layers.Activation('relu'))\n",
        "model_1_1.add(layers.MaxPooling2D((2,2)))\n",
        "model_1_1.add(layers.Dropout(0.2))\n",
        "model_1_1.add(layers.Conv2D(128, (3, 3)))\n",
        "model_1_1.add(layers.BatchNormalization())\n",
        "model_1_1.add(layers.Activation('relu'))\n",
        "model_1_1.add(layers.Dropout(0.5))\n",
        "model_1_1.add(layers.Flatten())\n",
        "model_1_1.add(layers.Dense(64))\n",
        "model_1_1.add(layers.BatchNormalization())\n",
        "model_1_1.add(layers.Activation('relu'))\n",
        "model_1_1.add(layers.Dense(10, activation=\"softmax\"))\n",
        "\n",
        "model_1_1.summary()"
      ],
      "metadata": {
        "colab": {
          "base_uri": "https://localhost:8080/"
        },
        "outputId": "7ceb374d-604d-41c2-9b39-28f269f76598",
        "id": "aRIhB0X3wtb4"
      },
      "execution_count": null,
      "outputs": [
        {
          "output_type": "stream",
          "name": "stdout",
          "text": [
            "Model: \"sequential_1\"\n",
            "_________________________________________________________________\n",
            " Layer (type)                Output Shape              Param #   \n",
            "=================================================================\n",
            " conv2d_3 (Conv2D)           (None, 26, 26, 32)        320       \n",
            "                                                                 \n",
            " batch_normalization_4 (Batc  (None, 26, 26, 32)       128       \n",
            " hNormalization)                                                 \n",
            "                                                                 \n",
            " activation_4 (Activation)   (None, 26, 26, 32)        0         \n",
            "                                                                 \n",
            " max_pooling2d_2 (MaxPooling  (None, 13, 13, 32)       0         \n",
            " 2D)                                                             \n",
            "                                                                 \n",
            " dropout_3 (Dropout)         (None, 13, 13, 32)        0         \n",
            "                                                                 \n",
            " conv2d_4 (Conv2D)           (None, 11, 11, 64)        18496     \n",
            "                                                                 \n",
            " batch_normalization_5 (Batc  (None, 11, 11, 64)       256       \n",
            " hNormalization)                                                 \n",
            "                                                                 \n",
            " activation_5 (Activation)   (None, 11, 11, 64)        0         \n",
            "                                                                 \n",
            " max_pooling2d_3 (MaxPooling  (None, 5, 5, 64)         0         \n",
            " 2D)                                                             \n",
            "                                                                 \n",
            " dropout_4 (Dropout)         (None, 5, 5, 64)          0         \n",
            "                                                                 \n",
            " conv2d_5 (Conv2D)           (None, 3, 3, 128)         73856     \n",
            "                                                                 \n",
            " batch_normalization_6 (Batc  (None, 3, 3, 128)        512       \n",
            " hNormalization)                                                 \n",
            "                                                                 \n",
            " activation_6 (Activation)   (None, 3, 3, 128)         0         \n",
            "                                                                 \n",
            " dropout_5 (Dropout)         (None, 3, 3, 128)         0         \n",
            "                                                                 \n",
            " flatten_1 (Flatten)         (None, 1152)              0         \n",
            "                                                                 \n",
            " dense_2 (Dense)             (None, 64)                73792     \n",
            "                                                                 \n",
            " batch_normalization_7 (Batc  (None, 64)               256       \n",
            " hNormalization)                                                 \n",
            "                                                                 \n",
            " activation_7 (Activation)   (None, 64)                0         \n",
            "                                                                 \n",
            " dense_3 (Dense)             (None, 10)                650       \n",
            "                                                                 \n",
            "=================================================================\n",
            "Total params: 168,266\n",
            "Trainable params: 167,690\n",
            "Non-trainable params: 576\n",
            "_________________________________________________________________\n"
          ]
        }
      ]
    },
    {
      "cell_type": "code",
      "source": [
        "model_1_1.compile(optimizer=\"rmsprop\", loss=\"categorical_crossentropy\", metrics=[\"accuracy\"])"
      ],
      "metadata": {
        "id": "2xmXZNfewtcK"
      },
      "execution_count": null,
      "outputs": []
    },
    {
      "cell_type": "code",
      "source": [
        "es = EarlyStopping(monitor='val_loss', mode='min', verbose=1, patience=10)\n",
        "mc = ModelCheckpoint('mnist/try05_1.h5', monitor='val_accuracy', mode='max', verbose=1, save_best_only=True)\n",
        "hist_1_1 = model_1_1.fit(train_imgs, train_labels, epochs=100, batch_size=128, validation_split=0.2, callbacks=[es, mc])"
      ],
      "metadata": {
        "colab": {
          "base_uri": "https://localhost:8080/"
        },
        "outputId": "fe6f21fe-1ad2-4671-e2be-b562eea410b0",
        "id": "VRjSobitwtcK"
      },
      "execution_count": null,
      "outputs": [
        {
          "output_type": "stream",
          "name": "stdout",
          "text": [
            "Epoch 1/100\n",
            "372/375 [============================>.] - ETA: 0s - loss: 0.2467 - accuracy: 0.9337\n",
            "Epoch 1: val_accuracy improved from -inf to 0.20833, saving model to mnist/try05_1.h5\n",
            "375/375 [==============================] - 16s 9ms/step - loss: 0.2454 - accuracy: 0.9340 - val_loss: 3.6713 - val_accuracy: 0.2083\n",
            "Epoch 2/100\n",
            "369/375 [============================>.] - ETA: 0s - loss: 0.0750 - accuracy: 0.9767\n",
            "Epoch 2: val_accuracy improved from 0.20833 to 0.98617, saving model to mnist/try05_1.h5\n",
            "375/375 [==============================] - 3s 8ms/step - loss: 0.0750 - accuracy: 0.9766 - val_loss: 0.0429 - val_accuracy: 0.9862\n",
            "Epoch 3/100\n",
            "369/375 [============================>.] - ETA: 0s - loss: 0.0589 - accuracy: 0.9817\n",
            "Epoch 3: val_accuracy improved from 0.98617 to 0.98867, saving model to mnist/try05_1.h5\n",
            "375/375 [==============================] - 3s 7ms/step - loss: 0.0591 - accuracy: 0.9817 - val_loss: 0.0383 - val_accuracy: 0.9887\n",
            "Epoch 4/100\n",
            "375/375 [==============================] - ETA: 0s - loss: 0.0507 - accuracy: 0.9840\n",
            "Epoch 4: val_accuracy improved from 0.98867 to 0.98967, saving model to mnist/try05_1.h5\n",
            "375/375 [==============================] - 3s 7ms/step - loss: 0.0507 - accuracy: 0.9840 - val_loss: 0.0355 - val_accuracy: 0.9897\n",
            "Epoch 5/100\n",
            "368/375 [============================>.] - ETA: 0s - loss: 0.0437 - accuracy: 0.9860\n",
            "Epoch 5: val_accuracy improved from 0.98967 to 0.99033, saving model to mnist/try05_1.h5\n",
            "375/375 [==============================] - 3s 7ms/step - loss: 0.0438 - accuracy: 0.9860 - val_loss: 0.0356 - val_accuracy: 0.9903\n",
            "Epoch 6/100\n",
            "368/375 [============================>.] - ETA: 0s - loss: 0.0397 - accuracy: 0.9867\n",
            "Epoch 6: val_accuracy improved from 0.99033 to 0.99158, saving model to mnist/try05_1.h5\n",
            "375/375 [==============================] - 3s 8ms/step - loss: 0.0397 - accuracy: 0.9868 - val_loss: 0.0286 - val_accuracy: 0.9916\n",
            "Epoch 7/100\n",
            "370/375 [============================>.] - ETA: 0s - loss: 0.0378 - accuracy: 0.9879\n",
            "Epoch 7: val_accuracy did not improve from 0.99158\n",
            "375/375 [==============================] - 3s 8ms/step - loss: 0.0376 - accuracy: 0.9880 - val_loss: 0.0350 - val_accuracy: 0.9902\n",
            "Epoch 8/100\n",
            "369/375 [============================>.] - ETA: 0s - loss: 0.0347 - accuracy: 0.9888\n",
            "Epoch 8: val_accuracy did not improve from 0.99158\n",
            "375/375 [==============================] - 3s 7ms/step - loss: 0.0348 - accuracy: 0.9887 - val_loss: 0.0312 - val_accuracy: 0.9901\n",
            "Epoch 9/100\n",
            "375/375 [==============================] - ETA: 0s - loss: 0.0344 - accuracy: 0.9891\n",
            "Epoch 9: val_accuracy did not improve from 0.99158\n",
            "375/375 [==============================] - 3s 7ms/step - loss: 0.0344 - accuracy: 0.9891 - val_loss: 0.0308 - val_accuracy: 0.9915\n",
            "Epoch 10/100\n",
            "374/375 [============================>.] - ETA: 0s - loss: 0.0322 - accuracy: 0.9901\n",
            "Epoch 10: val_accuracy improved from 0.99158 to 0.99233, saving model to mnist/try05_1.h5\n",
            "375/375 [==============================] - 4s 9ms/step - loss: 0.0321 - accuracy: 0.9901 - val_loss: 0.0253 - val_accuracy: 0.9923\n",
            "Epoch 11/100\n",
            "368/375 [============================>.] - ETA: 0s - loss: 0.0301 - accuracy: 0.9905\n",
            "Epoch 11: val_accuracy did not improve from 0.99233\n",
            "375/375 [==============================] - 3s 7ms/step - loss: 0.0301 - accuracy: 0.9905 - val_loss: 0.0261 - val_accuracy: 0.9922\n",
            "Epoch 12/100\n",
            "372/375 [============================>.] - ETA: 0s - loss: 0.0294 - accuracy: 0.9904\n",
            "Epoch 12: val_accuracy improved from 0.99233 to 0.99283, saving model to mnist/try05_1.h5\n",
            "375/375 [==============================] - 3s 7ms/step - loss: 0.0296 - accuracy: 0.9904 - val_loss: 0.0259 - val_accuracy: 0.9928\n",
            "Epoch 13/100\n",
            "368/375 [============================>.] - ETA: 0s - loss: 0.0277 - accuracy: 0.9911\n",
            "Epoch 13: val_accuracy did not improve from 0.99283\n",
            "375/375 [==============================] - 3s 7ms/step - loss: 0.0277 - accuracy: 0.9910 - val_loss: 0.0257 - val_accuracy: 0.9928\n",
            "Epoch 14/100\n",
            "369/375 [============================>.] - ETA: 0s - loss: 0.0264 - accuracy: 0.9914\n",
            "Epoch 14: val_accuracy did not improve from 0.99283\n",
            "375/375 [==============================] - 3s 7ms/step - loss: 0.0264 - accuracy: 0.9914 - val_loss: 0.0301 - val_accuracy: 0.9911\n",
            "Epoch 15/100\n",
            "371/375 [============================>.] - ETA: 0s - loss: 0.0257 - accuracy: 0.9916\n",
            "Epoch 15: val_accuracy did not improve from 0.99283\n",
            "375/375 [==============================] - 3s 7ms/step - loss: 0.0255 - accuracy: 0.9916 - val_loss: 0.0279 - val_accuracy: 0.9923\n",
            "Epoch 16/100\n",
            "369/375 [============================>.] - ETA: 0s - loss: 0.0238 - accuracy: 0.9921\n",
            "Epoch 16: val_accuracy improved from 0.99283 to 0.99333, saving model to mnist/try05_1.h5\n",
            "375/375 [==============================] - 3s 9ms/step - loss: 0.0239 - accuracy: 0.9921 - val_loss: 0.0240 - val_accuracy: 0.9933\n",
            "Epoch 17/100\n",
            "368/375 [============================>.] - ETA: 0s - loss: 0.0238 - accuracy: 0.9925\n",
            "Epoch 17: val_accuracy did not improve from 0.99333\n",
            "375/375 [==============================] - 3s 7ms/step - loss: 0.0239 - accuracy: 0.9925 - val_loss: 0.0244 - val_accuracy: 0.9932\n",
            "Epoch 18/100\n",
            "370/375 [============================>.] - ETA: 0s - loss: 0.0226 - accuracy: 0.9927\n",
            "Epoch 18: val_accuracy improved from 0.99333 to 0.99375, saving model to mnist/try05_1.h5\n",
            "375/375 [==============================] - 3s 8ms/step - loss: 0.0229 - accuracy: 0.9926 - val_loss: 0.0231 - val_accuracy: 0.9937\n",
            "Epoch 19/100\n",
            "368/375 [============================>.] - ETA: 0s - loss: 0.0216 - accuracy: 0.9931\n",
            "Epoch 19: val_accuracy did not improve from 0.99375\n",
            "375/375 [==============================] - 3s 7ms/step - loss: 0.0215 - accuracy: 0.9930 - val_loss: 0.0285 - val_accuracy: 0.9924\n",
            "Epoch 20/100\n",
            "369/375 [============================>.] - ETA: 0s - loss: 0.0212 - accuracy: 0.9933\n",
            "Epoch 20: val_accuracy did not improve from 0.99375\n",
            "375/375 [==============================] - 3s 7ms/step - loss: 0.0211 - accuracy: 0.9933 - val_loss: 0.0241 - val_accuracy: 0.9934\n",
            "Epoch 21/100\n",
            "370/375 [============================>.] - ETA: 0s - loss: 0.0215 - accuracy: 0.9928\n",
            "Epoch 21: val_accuracy improved from 0.99375 to 0.99408, saving model to mnist/try05_1.h5\n",
            "375/375 [==============================] - 4s 10ms/step - loss: 0.0216 - accuracy: 0.9928 - val_loss: 0.0220 - val_accuracy: 0.9941\n",
            "Epoch 22/100\n",
            "372/375 [============================>.] - ETA: 0s - loss: 0.0205 - accuracy: 0.9930\n",
            "Epoch 22: val_accuracy did not improve from 0.99408\n",
            "375/375 [==============================] - 3s 8ms/step - loss: 0.0205 - accuracy: 0.9930 - val_loss: 0.0258 - val_accuracy: 0.9938\n",
            "Epoch 23/100\n",
            "374/375 [============================>.] - ETA: 0s - loss: 0.0204 - accuracy: 0.9935\n",
            "Epoch 23: val_accuracy did not improve from 0.99408\n",
            "375/375 [==============================] - 3s 7ms/step - loss: 0.0204 - accuracy: 0.9935 - val_loss: 0.0247 - val_accuracy: 0.9936\n",
            "Epoch 24/100\n",
            "372/375 [============================>.] - ETA: 0s - loss: 0.0193 - accuracy: 0.9932\n",
            "Epoch 24: val_accuracy did not improve from 0.99408\n",
            "375/375 [==============================] - 3s 7ms/step - loss: 0.0193 - accuracy: 0.9932 - val_loss: 0.0275 - val_accuracy: 0.9933\n",
            "Epoch 25/100\n",
            "375/375 [==============================] - ETA: 0s - loss: 0.0193 - accuracy: 0.9937\n",
            "Epoch 25: val_accuracy improved from 0.99408 to 0.99442, saving model to mnist/try05_1.h5\n",
            "375/375 [==============================] - 4s 10ms/step - loss: 0.0193 - accuracy: 0.9937 - val_loss: 0.0232 - val_accuracy: 0.9944\n",
            "Epoch 26/100\n",
            "373/375 [============================>.] - ETA: 0s - loss: 0.0216 - accuracy: 0.9935\n",
            "Epoch 26: val_accuracy did not improve from 0.99442\n",
            "375/375 [==============================] - 3s 7ms/step - loss: 0.0217 - accuracy: 0.9934 - val_loss: 0.0247 - val_accuracy: 0.9938\n",
            "Epoch 27/100\n",
            "368/375 [============================>.] - ETA: 0s - loss: 0.0185 - accuracy: 0.9938\n",
            "Epoch 27: val_accuracy did not improve from 0.99442\n",
            "375/375 [==============================] - 3s 7ms/step - loss: 0.0185 - accuracy: 0.9939 - val_loss: 0.0236 - val_accuracy: 0.9943\n",
            "Epoch 28/100\n",
            "368/375 [============================>.] - ETA: 0s - loss: 0.0190 - accuracy: 0.9938\n",
            "Epoch 28: val_accuracy did not improve from 0.99442\n",
            "375/375 [==============================] - 3s 7ms/step - loss: 0.0192 - accuracy: 0.9939 - val_loss: 0.0239 - val_accuracy: 0.9936\n",
            "Epoch 29/100\n",
            "369/375 [============================>.] - ETA: 0s - loss: 0.0178 - accuracy: 0.9939\n",
            "Epoch 29: val_accuracy did not improve from 0.99442\n",
            "375/375 [==============================] - 3s 7ms/step - loss: 0.0177 - accuracy: 0.9940 - val_loss: 0.0246 - val_accuracy: 0.9936\n",
            "Epoch 30/100\n",
            "369/375 [============================>.] - ETA: 0s - loss: 0.0183 - accuracy: 0.9939\n",
            "Epoch 30: val_accuracy did not improve from 0.99442\n",
            "375/375 [==============================] - 3s 7ms/step - loss: 0.0182 - accuracy: 0.9940 - val_loss: 0.0262 - val_accuracy: 0.9933\n",
            "Epoch 31/100\n",
            "375/375 [==============================] - ETA: 0s - loss: 0.0186 - accuracy: 0.9942\n",
            "Epoch 31: val_accuracy improved from 0.99442 to 0.99450, saving model to mnist/try05_1.h5\n",
            "375/375 [==============================] - 3s 9ms/step - loss: 0.0186 - accuracy: 0.9942 - val_loss: 0.0236 - val_accuracy: 0.9945\n",
            "Epoch 31: early stopping\n"
          ]
        }
      ]
    },
    {
      "cell_type": "code",
      "source": [
        "result = model_1_1.evaluate(test_imgs, test_labels)\n",
        "print(\"\\n테스트 정확도: %.4f\" %(result)[1])"
      ],
      "metadata": {
        "colab": {
          "base_uri": "https://localhost:8080/"
        },
        "outputId": "fb07dd3f-32d8-41cd-9cac-86f20de7f023",
        "id": "Mq-GE0h5wtcL"
      },
      "execution_count": null,
      "outputs": [
        {
          "output_type": "stream",
          "name": "stdout",
          "text": [
            "313/313 [==============================] - 1s 3ms/step - loss: 0.0188 - accuracy: 0.9948\n",
            "\n",
            "테스트 정확도: 0.9948\n"
          ]
        }
      ]
    },
    {
      "cell_type": "code",
      "source": [
        "loaded_model = load_model('mnist/try05_1.h5')\n",
        "result_loaded = loaded_model.evaluate(test_imgs, test_labels)\n",
        "print(\"\\n불러온 모델 테스트 정확도: %.4f\" %(result_loaded)[1])"
      ],
      "metadata": {
        "colab": {
          "base_uri": "https://localhost:8080/"
        },
        "outputId": "84c29baa-06fd-4b18-9908-dc92edfeb967",
        "id": "fGK6vEuiwtcL"
      },
      "execution_count": null,
      "outputs": [
        {
          "output_type": "stream",
          "name": "stdout",
          "text": [
            "313/313 [==============================] - 1s 3ms/step - loss: 0.0188 - accuracy: 0.9948\n",
            "\n",
            "불러온 모델 테스트 정확도: 0.9948\n"
          ]
        }
      ]
    },
    {
      "cell_type": "code",
      "source": [
        "acc = hist_1_1.history['accuracy']\n",
        "val_acc = hist_1_1.history['val_accuracy']\n",
        "loss = hist_1_1.history['loss']\n",
        "val_loss = hist_1_1.history['val_loss']\n",
        "\n",
        "epochs = range(1, len(acc)+1)\n",
        "\n",
        "plt.figure(figsize=(8, 12))\n",
        "ax1=plt.subplot(2, 1, 1)\n",
        "ax2=plt.subplot(2, 1, 2)\n",
        "ax1.plot(epochs, acc, 'bo', label='Trainig acc')\n",
        "ax1.plot(epochs, val_acc, 'b', label='Validation acc')\n",
        "ax1.set_title(\"Training and Validation accuracy\")\n",
        "ax1.legend()\n",
        "ax2.plot(epochs, loss, 'bo', label='Traning loss')\n",
        "ax2.plot(epochs, val_loss, 'b', label='Validation loss')\n",
        "ax2.set_title(\"Training and Validation loss\")\n",
        "ax2.legend()\n",
        "plt.show()"
      ],
      "metadata": {
        "colab": {
          "base_uri": "https://localhost:8080/",
          "height": 716
        },
        "outputId": "5eb53dd0-6d11-4b4c-cd37-79d185a70fc2",
        "id": "k-onGLGMwtcM"
      },
      "execution_count": null,
      "outputs": [
        {
          "output_type": "display_data",
          "data": {
            "text/plain": [
              "<Figure size 576x864 with 2 Axes>"
            ],
            "image/png": "[encoded data removed]"
          },
          "metadata": {
            "needs_background": "light"
          }
        }
      ]
    },
    {
      "cell_type": "code",
      "source": [
        "df = pd.DataFrame([['CNN', 'model_1_1', '32(relu/batchnomalization/drop0.2)-64(relu/batchnomalization/drop0.2)-128(relu/batchnomalization/drop0.5)-Flatten-64(relu)-10(softmax)]',\n",
        "                    'rmsprop', 100, 128, 0.2, 'es/mc', \"%.4f\"%(result)[1], \"%.4f\"%(result_loaded)[1], \"%.4f\"%(result)[0], \"%.4f\"%(result_loaded)[0]]],\n",
        "                  columns=['모델', 'Name', 'Structure', 'Optimizer', 'epochs', 'batch_size', 'validation_split', 'callback', 'Accuracy', 'MC_Accuracy', 'Loss', 'MC_Loss'])"
      ],
      "metadata": {
        "id": "IMzWXDrQwtcM"
      },
      "execution_count": null,
      "outputs": []
    },
    {
      "cell_type": "markdown",
      "source": [
        "#### __3.  batch_size=128, 출력 직전층 activation='sigmoid', optimizer='adam'__ "
      ],
      "metadata": {
        "id": "YN2gmPkbzFeA"
      }
    },
    {
      "cell_type": "code",
      "source": [
        "model_1_2 = keras.Sequential()\n",
        "model_1_2.add(layers.Conv2D(32, kernel_size=(3, 3), input_shape=(28, 28, 1)))\n",
        "model_1_2.add(layers.BatchNormalization())\n",
        "model_1_2.add(layers.Activation('relu'))\n",
        "model_1_2.add(layers.MaxPooling2D(pool_size=(2,2)))\n",
        "model_1_2.add(layers.Dropout(0.2))\n",
        "model_1_2.add(layers.Conv2D(64, (3, 3)))\n",
        "model_1_2.add(layers.BatchNormalization())\n",
        "model_1_2.add(layers.Activation('relu'))\n",
        "model_1_2.add(layers.MaxPooling2D((2,2)))\n",
        "model_1_2.add(layers.Dropout(0.2))\n",
        "model_1_2.add(layers.Conv2D(128, (3, 3)))\n",
        "model_1_2.add(layers.BatchNormalization())\n",
        "model_1_2.add(layers.Activation('relu'))\n",
        "model_1_2.add(layers.Dropout(0.5))\n",
        "model_1_2.add(layers.Flatten())\n",
        "model_1_2.add(layers.Dense(64))\n",
        "model_1_2.add(layers.BatchNormalization())\n",
        "model_1_2.add(layers.Activation('relu'))\n",
        "model_1_2.add(layers.Dense(10, activation=\"softmax\"))\n",
        "\n",
        "model_1_2.summary()"
      ],
      "metadata": {
        "colab": {
          "base_uri": "https://localhost:8080/"
        },
        "outputId": "a292dfc0-00bd-449f-b37e-af458b389026",
        "id": "Ujc6kXBOzFeA"
      },
      "execution_count": null,
      "outputs": [
        {
          "output_type": "stream",
          "name": "stdout",
          "text": [
            "Model: \"sequential_2\"\n",
            "_________________________________________________________________\n",
            " Layer (type)                Output Shape              Param #   \n",
            "=================================================================\n",
            " conv2d_6 (Conv2D)           (None, 26, 26, 32)        320       \n",
            "                                                                 \n",
            " batch_normalization_8 (Batc  (None, 26, 26, 32)       128       \n",
            " hNormalization)                                                 \n",
            "                                                                 \n",
            " activation_8 (Activation)   (None, 26, 26, 32)        0         \n",
            "                                                                 \n",
            " max_pooling2d_4 (MaxPooling  (None, 13, 13, 32)       0         \n",
            " 2D)                                                             \n",
            "                                                                 \n",
            " dropout_6 (Dropout)         (None, 13, 13, 32)        0         \n",
            "                                                                 \n",
            " conv2d_7 (Conv2D)           (None, 11, 11, 64)        18496     \n",
            "                                                                 \n",
            " batch_normalization_9 (Batc  (None, 11, 11, 64)       256       \n",
            " hNormalization)                                                 \n",
            "                                                                 \n",
            " activation_9 (Activation)   (None, 11, 11, 64)        0         \n",
            "                                                                 \n",
            " max_pooling2d_5 (MaxPooling  (None, 5, 5, 64)         0         \n",
            " 2D)                                                             \n",
            "                                                                 \n",
            " dropout_7 (Dropout)         (None, 5, 5, 64)          0         \n",
            "                                                                 \n",
            " conv2d_8 (Conv2D)           (None, 3, 3, 128)         73856     \n",
            "                                                                 \n",
            " batch_normalization_10 (Bat  (None, 3, 3, 128)        512       \n",
            " chNormalization)                                                \n",
            "                                                                 \n",
            " activation_10 (Activation)  (None, 3, 3, 128)         0         \n",
            "                                                                 \n",
            " dropout_8 (Dropout)         (None, 3, 3, 128)         0         \n",
            "                                                                 \n",
            " flatten_2 (Flatten)         (None, 1152)              0         \n",
            "                                                                 \n",
            " dense_4 (Dense)             (None, 64)                73792     \n",
            "                                                                 \n",
            " batch_normalization_11 (Bat  (None, 64)               256       \n",
            " chNormalization)                                                \n",
            "                                                                 \n",
            " activation_11 (Activation)  (None, 64)                0         \n",
            "                                                                 \n",
            " dense_5 (Dense)             (None, 10)                650       \n",
            "                                                                 \n",
            "=================================================================\n",
            "Total params: 168,266\n",
            "Trainable params: 167,690\n",
            "Non-trainable params: 576\n",
            "_________________________________________________________________\n"
          ]
        }
      ]
    },
    {
      "cell_type": "code",
      "source": [
        "model_1_2.compile(optimizer=\"adam\", loss=\"categorical_crossentropy\", metrics=[\"accuracy\"])"
      ],
      "metadata": {
        "id": "sy6jnJeXzFeB"
      },
      "execution_count": null,
      "outputs": []
    },
    {
      "cell_type": "code",
      "source": [
        "es = EarlyStopping(monitor='val_loss', mode='min', verbose=1, patience=10)\n",
        "mc = ModelCheckpoint('mnist/try05_2.h5', monitor='val_accuracy', mode='max', verbose=1)\n",
        "hist_1_2 = model_1_2.fit(train_imgs, train_labels, epochs=100, batch_size=128, validation_split=0.2, callbacks=[es, mc])"
      ],
      "metadata": {
        "colab": {
          "base_uri": "https://localhost:8080/"
        },
        "outputId": "2bb4b673-a80a-417f-df3e-5b0b7245cb74",
        "id": "yTLlJJB-zFeB"
      },
      "execution_count": null,
      "outputs": [
        {
          "output_type": "stream",
          "name": "stdout",
          "text": [
            "Epoch 1/100\n",
            "371/375 [============================>.] - ETA: 0s - loss: 0.3203 - accuracy: 0.9136\n",
            "Epoch 1: saving model to mnist/try05_2.h5\n",
            "375/375 [==============================] - 4s 8ms/step - loss: 0.3185 - accuracy: 0.9140 - val_loss: 2.7142 - val_accuracy: 0.2508\n",
            "Epoch 2/100\n",
            "372/375 [============================>.] - ETA: 0s - loss: 0.0879 - accuracy: 0.9741\n",
            "Epoch 2: saving model to mnist/try05_2.h5\n",
            "375/375 [==============================] - 3s 7ms/step - loss: 0.0876 - accuracy: 0.9742 - val_loss: 0.0562 - val_accuracy: 0.9836\n",
            "Epoch 3/100\n",
            "373/375 [============================>.] - ETA: 0s - loss: 0.0642 - accuracy: 0.9810\n",
            "Epoch 3: saving model to mnist/try05_2.h5\n",
            "375/375 [==============================] - 3s 7ms/step - loss: 0.0642 - accuracy: 0.9810 - val_loss: 0.0375 - val_accuracy: 0.9889\n",
            "Epoch 4/100\n",
            "373/375 [============================>.] - ETA: 0s - loss: 0.0520 - accuracy: 0.9834\n",
            "Epoch 4: saving model to mnist/try05_2.h5\n",
            "375/375 [==============================] - 3s 7ms/step - loss: 0.0519 - accuracy: 0.9834 - val_loss: 0.0320 - val_accuracy: 0.9908\n",
            "Epoch 5/100\n",
            "374/375 [============================>.] - ETA: 0s - loss: 0.0493 - accuracy: 0.9842\n",
            "Epoch 5: saving model to mnist/try05_2.h5\n",
            "375/375 [==============================] - 3s 7ms/step - loss: 0.0493 - accuracy: 0.9842 - val_loss: 0.0301 - val_accuracy: 0.9908\n",
            "Epoch 6/100\n",
            "370/375 [============================>.] - ETA: 0s - loss: 0.0415 - accuracy: 0.9868\n",
            "Epoch 6: saving model to mnist/try05_2.h5\n",
            "375/375 [==============================] - 3s 7ms/step - loss: 0.0417 - accuracy: 0.9867 - val_loss: 0.0302 - val_accuracy: 0.9904\n",
            "Epoch 7/100\n",
            "367/375 [============================>.] - ETA: 0s - loss: 0.0392 - accuracy: 0.9875\n",
            "Epoch 7: saving model to mnist/try05_2.h5\n",
            "375/375 [==============================] - 3s 7ms/step - loss: 0.0392 - accuracy: 0.9875 - val_loss: 0.0358 - val_accuracy: 0.9877\n",
            "Epoch 8/100\n",
            "375/375 [==============================] - ETA: 0s - loss: 0.0374 - accuracy: 0.9875\n",
            "Epoch 8: saving model to mnist/try05_2.h5\n",
            "375/375 [==============================] - 3s 7ms/step - loss: 0.0374 - accuracy: 0.9875 - val_loss: 0.0293 - val_accuracy: 0.9913\n",
            "Epoch 9/100\n",
            "373/375 [============================>.] - ETA: 0s - loss: 0.0329 - accuracy: 0.9894\n",
            "Epoch 9: saving model to mnist/try05_2.h5\n",
            "375/375 [==============================] - 3s 7ms/step - loss: 0.0329 - accuracy: 0.9894 - val_loss: 0.0290 - val_accuracy: 0.9913\n",
            "Epoch 10/100\n",
            "367/375 [============================>.] - ETA: 0s - loss: 0.0314 - accuracy: 0.9900\n",
            "Epoch 10: saving model to mnist/try05_2.h5\n",
            "375/375 [==============================] - 3s 7ms/step - loss: 0.0313 - accuracy: 0.9901 - val_loss: 0.0251 - val_accuracy: 0.9927\n",
            "Epoch 11/100\n",
            "369/375 [============================>.] - ETA: 0s - loss: 0.0298 - accuracy: 0.9901\n",
            "Epoch 11: saving model to mnist/try05_2.h5\n",
            "375/375 [==============================] - 3s 7ms/step - loss: 0.0297 - accuracy: 0.9901 - val_loss: 0.0270 - val_accuracy: 0.9918\n",
            "Epoch 12/100\n",
            "370/375 [============================>.] - ETA: 0s - loss: 0.0294 - accuracy: 0.9900\n",
            "Epoch 12: saving model to mnist/try05_2.h5\n",
            "375/375 [==============================] - 3s 7ms/step - loss: 0.0295 - accuracy: 0.9900 - val_loss: 0.0273 - val_accuracy: 0.9923\n",
            "Epoch 13/100\n",
            "372/375 [============================>.] - ETA: 0s - loss: 0.0264 - accuracy: 0.9913\n",
            "Epoch 13: saving model to mnist/try05_2.h5\n",
            "375/375 [==============================] - 3s 8ms/step - loss: 0.0265 - accuracy: 0.9913 - val_loss: 0.0237 - val_accuracy: 0.9930\n",
            "Epoch 14/100\n",
            "367/375 [============================>.] - ETA: 0s - loss: 0.0249 - accuracy: 0.9915\n",
            "Epoch 14: saving model to mnist/try05_2.h5\n",
            "375/375 [==============================] - 3s 7ms/step - loss: 0.0249 - accuracy: 0.9915 - val_loss: 0.0238 - val_accuracy: 0.9933\n",
            "Epoch 15/100\n",
            "370/375 [============================>.] - ETA: 0s - loss: 0.0239 - accuracy: 0.9918\n",
            "Epoch 15: saving model to mnist/try05_2.h5\n",
            "375/375 [==============================] - 3s 7ms/step - loss: 0.0241 - accuracy: 0.9918 - val_loss: 0.0232 - val_accuracy: 0.9928\n",
            "Epoch 16/100\n",
            "371/375 [============================>.] - ETA: 0s - loss: 0.0219 - accuracy: 0.9930\n",
            "Epoch 16: saving model to mnist/try05_2.h5\n",
            "375/375 [==============================] - 3s 8ms/step - loss: 0.0219 - accuracy: 0.9930 - val_loss: 0.0246 - val_accuracy: 0.9925\n",
            "Epoch 17/100\n",
            "367/375 [============================>.] - ETA: 0s - loss: 0.0221 - accuracy: 0.9923\n",
            "Epoch 17: saving model to mnist/try05_2.h5\n",
            "375/375 [==============================] - 3s 7ms/step - loss: 0.0219 - accuracy: 0.9924 - val_loss: 0.0246 - val_accuracy: 0.9926\n",
            "Epoch 18/100\n",
            "375/375 [==============================] - ETA: 0s - loss: 0.0224 - accuracy: 0.9924\n",
            "Epoch 18: saving model to mnist/try05_2.h5\n",
            "375/375 [==============================] - 3s 7ms/step - loss: 0.0224 - accuracy: 0.9924 - val_loss: 0.0234 - val_accuracy: 0.9935\n",
            "Epoch 19/100\n",
            "369/375 [============================>.] - ETA: 0s - loss: 0.0200 - accuracy: 0.9933\n",
            "Epoch 19: saving model to mnist/try05_2.h5\n",
            "375/375 [==============================] - 3s 9ms/step - loss: 0.0201 - accuracy: 0.9933 - val_loss: 0.0243 - val_accuracy: 0.9936\n",
            "Epoch 20/100\n",
            "373/375 [============================>.] - ETA: 0s - loss: 0.0191 - accuracy: 0.9936\n",
            "Epoch 20: saving model to mnist/try05_2.h5\n",
            "375/375 [==============================] - 3s 8ms/step - loss: 0.0192 - accuracy: 0.9935 - val_loss: 0.0208 - val_accuracy: 0.9939\n",
            "Epoch 21/100\n",
            "367/375 [============================>.] - ETA: 0s - loss: 0.0181 - accuracy: 0.9937\n",
            "Epoch 21: saving model to mnist/try05_2.h5\n",
            "375/375 [==============================] - 3s 7ms/step - loss: 0.0181 - accuracy: 0.9937 - val_loss: 0.0215 - val_accuracy: 0.9936\n",
            "Epoch 22/100\n",
            "373/375 [============================>.] - ETA: 0s - loss: 0.0194 - accuracy: 0.9936\n",
            "Epoch 22: saving model to mnist/try05_2.h5\n",
            "375/375 [==============================] - 3s 7ms/step - loss: 0.0193 - accuracy: 0.9936 - val_loss: 0.0236 - val_accuracy: 0.9931\n",
            "Epoch 23/100\n",
            "371/375 [============================>.] - ETA: 0s - loss: 0.0182 - accuracy: 0.9941\n",
            "Epoch 23: saving model to mnist/try05_2.h5\n",
            "375/375 [==============================] - 3s 7ms/step - loss: 0.0186 - accuracy: 0.9939 - val_loss: 0.0233 - val_accuracy: 0.9936\n",
            "Epoch 24/100\n",
            "373/375 [============================>.] - ETA: 0s - loss: 0.0170 - accuracy: 0.9945\n",
            "Epoch 24: saving model to mnist/try05_2.h5\n",
            "375/375 [==============================] - 3s 7ms/step - loss: 0.0169 - accuracy: 0.9945 - val_loss: 0.0248 - val_accuracy: 0.9927\n",
            "Epoch 25/100\n",
            "372/375 [============================>.] - ETA: 0s - loss: 0.0182 - accuracy: 0.9937\n",
            "Epoch 25: saving model to mnist/try05_2.h5\n",
            "375/375 [==============================] - 3s 7ms/step - loss: 0.0182 - accuracy: 0.9937 - val_loss: 0.0215 - val_accuracy: 0.9944\n",
            "Epoch 26/100\n",
            "371/375 [============================>.] - ETA: 0s - loss: 0.0162 - accuracy: 0.9946\n",
            "Epoch 26: saving model to mnist/try05_2.h5\n",
            "375/375 [==============================] - 3s 7ms/step - loss: 0.0162 - accuracy: 0.9946 - val_loss: 0.0233 - val_accuracy: 0.9937\n",
            "Epoch 27/100\n",
            "374/375 [============================>.] - ETA: 0s - loss: 0.0150 - accuracy: 0.9950\n",
            "Epoch 27: saving model to mnist/try05_2.h5\n",
            "375/375 [==============================] - 3s 7ms/step - loss: 0.0150 - accuracy: 0.9950 - val_loss: 0.0234 - val_accuracy: 0.9946\n",
            "Epoch 28/100\n",
            "372/375 [============================>.] - ETA: 0s - loss: 0.0131 - accuracy: 0.9957\n",
            "Epoch 28: saving model to mnist/try05_2.h5\n",
            "375/375 [==============================] - 3s 7ms/step - loss: 0.0132 - accuracy: 0.9957 - val_loss: 0.0236 - val_accuracy: 0.9933\n",
            "Epoch 29/100\n",
            "367/375 [============================>.] - ETA: 0s - loss: 0.0143 - accuracy: 0.9952\n",
            "Epoch 29: saving model to mnist/try05_2.h5\n",
            "375/375 [==============================] - 3s 7ms/step - loss: 0.0143 - accuracy: 0.9951 - val_loss: 0.0223 - val_accuracy: 0.9941\n",
            "Epoch 30/100\n",
            "375/375 [==============================] - ETA: 0s - loss: 0.0135 - accuracy: 0.9956\n",
            "Epoch 30: saving model to mnist/try05_2.h5\n",
            "375/375 [==============================] - 3s 7ms/step - loss: 0.0135 - accuracy: 0.9956 - val_loss: 0.0223 - val_accuracy: 0.9937\n",
            "Epoch 30: early stopping\n"
          ]
        }
      ]
    },
    {
      "cell_type": "code",
      "source": [
        "result = model_1_2.evaluate(test_imgs, test_labels)\n",
        "print(\"\\n테스트 정확도: %.4f\" %(result)[1])"
      ],
      "metadata": {
        "colab": {
          "base_uri": "https://localhost:8080/"
        },
        "outputId": "221db337-416c-4d48-a208-21372f102778",
        "id": "BBHg9vsCzFeD"
      },
      "execution_count": null,
      "outputs": [
        {
          "output_type": "stream",
          "name": "stdout",
          "text": [
            "313/313 [==============================] - 1s 3ms/step - loss: 0.0179 - accuracy: 0.9942\n",
            "\n",
            "테스트 정확도: 0.9942\n"
          ]
        }
      ]
    },
    {
      "cell_type": "code",
      "source": [
        "loaded_model = load_model('mnist/try05_2.h5')\n",
        "result_loaded = loaded_model.evaluate(test_imgs, test_labels)\n",
        "print(\"\\n불러온 모델 테스트 정확도: %.4f\" %(result_loaded)[1])"
      ],
      "metadata": {
        "colab": {
          "base_uri": "https://localhost:8080/"
        },
        "outputId": "f234119c-2c9e-4610-b3fe-f2955c80cfe3",
        "id": "-OddZd0hzFeE"
      },
      "execution_count": null,
      "outputs": [
        {
          "output_type": "stream",
          "name": "stdout",
          "text": [
            "313/313 [==============================] - 1s 3ms/step - loss: 0.0179 - accuracy: 0.9942\n",
            "\n",
            "불러온 모델 테스트 정확도: 0.9942\n"
          ]
        }
      ]
    },
    {
      "cell_type": "code",
      "source": [
        "acc = hist_1_2.history['accuracy']\n",
        "val_acc = hist_1_2.history['val_accuracy']\n",
        "loss = hist_1_2.history['loss']\n",
        "val_loss = hist_1_2.history['val_loss']\n",
        "\n",
        "epochs = range(1, len(acc)+1)\n",
        "\n",
        "plt.figure(figsize=(8, 12))\n",
        "ax1=plt.subplot(2, 1, 1)\n",
        "ax2=plt.subplot(2, 1, 2)\n",
        "ax1.plot(epochs, acc, 'bo', label='Trainig acc')\n",
        "ax1.plot(epochs, val_acc, 'b', label='Validation acc')\n",
        "ax1.set_title(\"Training and Validation accuracy\")\n",
        "ax1.legend()\n",
        "ax2.plot(epochs, loss, 'bo', label='Traning loss')\n",
        "ax2.plot(epochs, val_loss, 'b', label='Validation loss')\n",
        "ax2.set_title(\"Training and Validation loss\")\n",
        "ax2.legend()\n",
        "plt.show()"
      ],
      "metadata": {
        "colab": {
          "base_uri": "https://localhost:8080/",
          "height": 716
        },
        "outputId": "6cbe39a8-a7e5-4d23-90c9-dbf24f7fa664",
        "id": "0gLCkZufzFeE"
      },
      "execution_count": null,
      "outputs": [
        {
          "output_type": "display_data",
          "data": {
            "text/plain": [
              "<Figure size 576x864 with 2 Axes>"
            ],
            "image/png": "[encoded data removed]"
          },
          "metadata": {
            "needs_background": "light"
          }
        }
      ]
    },
    {
      "cell_type": "code",
      "source": [
        "df.loc[1]=['CNN', 'model_1_2', '32(relu/batchnomalization/drop0.2)-64(relu/batchnomalization/drop0.2)-128(relu/batchnomalization/drop0.5)-Flatten-64(relu)-10(softmax)]', 'adam', 100, 128, 0.2, 'es/mc', \"%.4f\"%(result)[1], \"%.4f\"%(result_loaded)[1], \"%.4f\"%(result)[0], \"%.4f\"%(result_loaded)[0]]"
      ],
      "metadata": {
        "id": "i57lgiGgzFeF"
      },
      "execution_count": null,
      "outputs": []
    },
    {
      "cell_type": "code",
      "source": [
        "df.head()"
      ],
      "metadata": {
        "colab": {
          "base_uri": "https://localhost:8080/",
          "height": 176
        },
        "id": "K82gOTDByz2D",
        "outputId": "82e9944e-585d-4507-eb2e-d110b25d3336"
      },
      "execution_count": null,
      "outputs": [
        {
          "output_type": "execute_result",
          "data": {
            "text/plain": [
              "    모델       Name                                          Structure  \\\n",
              "0  CNN  model_1_1  32(relu/batchnomalization/drop0.2)-64(relu/bat...   \n",
              "1  CNN  model_1_2  32(relu/batchnomalization/drop0.2)-64(relu/bat...   \n",
              "\n",
              "  Optimizer  epochs  batch_size  validation_split callback Accuracy  \\\n",
              "0   rmsprop     100         128               0.2    es/mc   0.9948   \n",
              "1      adam     100         128               0.2    es/mc   0.9942   \n",
              "\n",
              "  MC_Accuracy    Loss MC_Loss  \n",
              "0      0.9948  0.0188  0.0188  \n",
              "1      0.9942  0.0179  0.0179  "
            ],
            "text/html": [
              "\n",
              "  <div id=\"df-cd20816a-dd16-4a80-9957-299cb119bf5c\">\n",
              "    <div class=\"colab-df-container\">\n",
              "      <div>\n",
              "<style scoped>\n",
              "    .dataframe tbody tr th:only-of-type {\n",
              "        vertical-align: middle;\n",
              "    }\n",
              "\n",
              "    .dataframe tbody tr th {\n",
              "        vertical-align: top;\n",
              "    }\n",
              "\n",
              "    .dataframe thead th {\n",
              "        text-align: right;\n",
              "    }\n",
              "</style>\n",
              "<table border=\"1\" class=\"dataframe\">\n",
              "  <thead>\n",
              "    <tr style=\"text-align: right;\">\n",
              "      <th></th>\n",
              "      <th>모델</th>\n",
              "      <th>Name</th>\n",
              "      <th>Structure</th>\n",
              "      <th>Optimizer</th>\n",
              "      <th>epochs</th>\n",
              "      <th>batch_size</th>\n",
              "      <th>validation_split</th>\n",
              "      <th>callback</th>\n",
              "      <th>Accuracy</th>\n",
              "      <th>MC_Accuracy</th>\n",
              "      <th>Loss</th>\n",
              "      <th>MC_Loss</th>\n",
              "    </tr>\n",
              "  </thead>\n",
              "  <tbody>\n",
              "    <tr>\n",
              "      <th>0</th>\n",
              "      <td>CNN</td>\n",
              "      <td>model_1_1</td>\n",
              "      <td>32(relu/batchnomalization/drop0.2)-64(relu/bat...</td>\n",
              "      <td>rmsprop</td>\n",
              "      <td>100</td>\n",
              "      <td>128</td>\n",
              "      <td>0.2</td>\n",
              "      <td>es/mc</td>\n",
              "      <td>0.9948</td>\n",
              "      <td>0.9948</td>\n",
              "      <td>0.0188</td>\n",
              "      <td>0.0188</td>\n",
              "    </tr>\n",
              "    <tr>\n",
              "      <th>1</th>\n",
              "      <td>CNN</td>\n",
              "      <td>model_1_2</td>\n",
              "      <td>32(relu/batchnomalization/drop0.2)-64(relu/bat...</td>\n",
              "      <td>adam</td>\n",
              "      <td>100</td>\n",
              "      <td>128</td>\n",
              "      <td>0.2</td>\n",
              "      <td>es/mc</td>\n",
              "      <td>0.9942</td>\n",
              "      <td>0.9942</td>\n",
              "      <td>0.0179</td>\n",
              "      <td>0.0179</td>\n",
              "    </tr>\n",
              "  </tbody>\n",
              "</table>\n",
              "</div>\n",
              "      <button class=\"colab-df-convert\" onclick=\"convertToInteractive('df-cd20816a-dd16-4a80-9957-299cb119bf5c')\"\n",
              "              title=\"Convert this dataframe to an interactive table.\"\n",
              "              style=\"display:none;\">\n",
              "        \n",
              "  <svg xmlns=\"http://www.w3.org/2000/svg\" height=\"24px\"viewBox=\"0 0 24 24\"\n",
              "       width=\"24px\">\n",
              "    <path d=\"M0 0h24v24H0V0z\" fill=\"none\"/>\n",
              "    <path d=\"M18.56 5.44l.94 2.06.94-2.06 2.06-.94-2.06-.94-.94-2.06-.94 2.06-2.06.94zm-11 1L8.5 8.5l.94-2.06 2.06-.94-2.06-.94L8.5 2.5l-.94 2.06-2.06.94zm10 10l.94 2.06.94-2.06 2.06-.94-2.06-.94-.94-2.06-.94 2.06-2.06.94z\"/><path d=\"M17.41 7.96l-1.37-1.37c-.4-.4-.92-.59-1.43-.59-.52 0-1.04.2-1.43.59L10.3 9.45l-7.72 7.72c-.78.78-.78 2.05 0 2.83L4 21.41c.39.39.9.59 1.41.59.51 0 1.02-.2 1.41-.59l7.78-7.78 2.81-2.81c.8-.78.8-2.07 0-2.86zM5.41 20L4 18.59l7.72-7.72 1.47 1.35L5.41 20z\"/>\n",
              "  </svg>\n",
              "      </button>\n",
              "      \n",
              "  <style>\n",
              "    .colab-df-container {\n",
              "      display:flex;\n",
              "      flex-wrap:wrap;\n",
              "      gap: 12px;\n",
              "    }\n",
              "\n",
              "    .colab-df-convert {\n",
              "      background-color: #E8F0FE;\n",
              "      border: none;\n",
              "      border-radius: 50%;\n",
              "      cursor: pointer;\n",
              "      display: none;\n",
              "      fill: #1967D2;\n",
              "      height: 32px;\n",
              "      padding: 0 0 0 0;\n",
              "      width: 32px;\n",
              "    }\n",
              "\n",
              "    .colab-df-convert:hover {\n",
              "      background-color: #E2EBFA;\n",
              "      box-shadow: 0px 1px 2px rgba(60, 64, 67, 0.3), 0px 1px 3px 1px rgba(60, 64, 67, 0.15);\n",
              "      fill: #174EA6;\n",
              "    }\n",
              "\n",
              "    [theme=dark] .colab-df-convert {\n",
              "      background-color: #3B4455;\n",
              "      fill: #D2E3FC;\n",
              "    }\n",
              "\n",
              "    [theme=dark] .colab-df-convert:hover {\n",
              "      background-color: #434B5C;\n",
              "      box-shadow: 0px 1px 3px 1px rgba(0, 0, 0, 0.15);\n",
              "      filter: drop-shadow(0px 1px 2px rgba(0, 0, 0, 0.3));\n",
              "      fill: #FFFFFF;\n",
              "    }\n",
              "  </style>\n",
              "\n",
              "      <script>\n",
              "        const buttonEl =\n",
              "          document.querySelector('#df-cd20816a-dd16-4a80-9957-299cb119bf5c button.colab-df-convert');\n",
              "        buttonEl.style.display =\n",
              "          google.colab.kernel.accessAllowed ? 'block' : 'none';\n",
              "\n",
              "        async function convertToInteractive(key) {\n",
              "          const element = document.querySelector('#df-cd20816a-dd16-4a80-9957-299cb119bf5c');\n",
              "          const dataTable =\n",
              "            await google.colab.kernel.invokeFunction('convertToInteractive',\n",
              "                                                     [key], {});\n",
              "          if (!dataTable) return;\n",
              "\n",
              "          const docLinkHtml = 'Like what you see? Visit the ' +\n",
              "            '<a target=\"_blank\" href=https://colab.research.google.com/notebooks/data_table.ipynb>data table notebook</a>'\n",
              "            + ' to learn more about interactive tables.';\n",
              "          element.innerHTML = '';\n",
              "          dataTable['output_type'] = 'display_data';\n",
              "          await google.colab.output.renderOutput(dataTable, element);\n",
              "          const docLink = document.createElement('div');\n",
              "          docLink.innerHTML = docLinkHtml;\n",
              "          element.appendChild(docLink);\n",
              "        }\n",
              "      </script>\n",
              "    </div>\n",
              "  </div>\n",
              "  "
            ]
          },
          "metadata": {},
          "execution_count": 28
        }
      ]
    },
    {
      "cell_type": "code",
      "source": [
        "df.to_csv(\"./mnist/220921_실습_5.csv\", header=True, sep=',', na_rep='NaN', float_format = '%.4f', encoding='utf-8-sig', line_terminator='\\n')"
      ],
      "metadata": {
        "id": "wgZcTyBMStRP"
      },
      "execution_count": null,
      "outputs": []
    },
    {
      "cell_type": "code",
      "source": [
        "keras.utils.plot_model(model_1_1)"
      ],
      "metadata": {
        "colab": {
          "base_uri": "https://localhost:8080/",
          "height": 1000
        },
        "id": "WbGySDdfRmdh",
        "outputId": "b97cd582-ef63-4dd1-ebc9-67a304ed9c19"
      },
      "execution_count": null,
      "outputs": [
        {
          "output_type": "execute_result",
          "data": {
            "image/png": "[encoded data removed]",
            "text/plain": [
              "<IPython.core.display.Image object>"
            ]
          },
          "metadata": {},
          "execution_count": 20
        }
      ]
    },
    {
      "cell_type": "markdown",
      "source": [
        "오류가 압도적으로 적고 학습이 빠르게 진행되며 학습 데이터, 검증데이터의 loss acc 보다 테스트데이터에 대한 loss acc가 더 좋은 모습을 보여줌. 일반적 모델을 만들 때 좋은 성능을 보여주는듯?"
      ],
      "metadata": {
        "id": "-rMPhwO6UFIt"
      }
    }
  ]
}
