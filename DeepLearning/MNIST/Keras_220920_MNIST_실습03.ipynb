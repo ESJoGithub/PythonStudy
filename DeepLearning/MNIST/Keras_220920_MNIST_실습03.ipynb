{
  "nbformat": 4,
  "nbformat_minor": 0,
  "metadata": {
    "colab": {
      "provenance": [],
      "collapsed_sections": [],
      "mount_file_id": "1DmK2zLLoX3sSbBpJuPT4kOGTz-S67O0A",
      "authorship_tag": "ABX9TyNAIToARq2qEbE+VSmfv6Dp",
      "include_colab_link": true
    },
    "kernelspec": {
      "name": "python3",
      "display_name": "Python 3"
    },
    "language_info": {
      "name": "python"
    }
  },
  "cells": [
    {
      "cell_type": "markdown",
      "metadata": {
        "id": "view-in-github",
        "colab_type": "text"
      },
      "source": [
        "<a href=\"https://colab.research.google.com/github/ESJoGithub/PythonStudy/blob/main/DeepLearning/MNIST/Keras_220920_MNIST_%EC%8B%A4%EC%8A%B503.ipynb\" target=\"_parent\"><img src=\"https://colab.research.google.com/assets/colab-badge.svg\" alt=\"Open In Colab\"/></a>"
      ]
    },
    {
      "cell_type": "code",
      "source": [
        "from google.colab import drive\n",
        "drive.mount('/content/drive')"
      ],
      "metadata": {
        "colab": {
          "base_uri": "https://localhost:8080/"
        },
        "id": "oxtO2zTTtPq3",
        "outputId": "82194236-cd42-4a3c-d6ec-77b6d967c765"
      },
      "execution_count": 1,
      "outputs": [
        {
          "output_type": "stream",
          "name": "stdout",
          "text": [
            "Mounted at /content/drive\n"
          ]
        }
      ]
    },
    {
      "cell_type": "code",
      "source": [
        "!ln -s /content/drive/MyDrive /mydrive"
      ],
      "metadata": {
        "id": "e2ZTrV_htIFl"
      },
      "execution_count": 2,
      "outputs": []
    },
    {
      "cell_type": "code",
      "source": [
        "%cd /mydrive"
      ],
      "metadata": {
        "colab": {
          "base_uri": "https://localhost:8080/"
        },
        "id": "B9ry3cBStVU1",
        "outputId": "2e890a13-6af0-46db-b7cc-894aaf0562c1"
      },
      "execution_count": 3,
      "outputs": [
        {
          "output_type": "stream",
          "name": "stdout",
          "text": [
            "/content/drive/MyDrive\n"
          ]
        }
      ]
    },
    {
      "cell_type": "code",
      "source": [
        "!mkdir mnist"
      ],
      "metadata": {
        "id": "98FN5iLDtXqb",
        "colab": {
          "base_uri": "https://localhost:8080/"
        },
        "outputId": "e1f7054d-b97f-4070-aa47-fe38e98d973f"
      },
      "execution_count": 4,
      "outputs": [
        {
          "output_type": "stream",
          "name": "stdout",
          "text": [
            "mkdir: cannot create directory ‘mnist’: File exists\n"
          ]
        }
      ]
    },
    {
      "cell_type": "markdown",
      "source": [
        "## __callback/가중치규제/드롭아웃 활용__"
      ],
      "metadata": {
        "id": "19CLRpWxwL5T"
      }
    },
    {
      "cell_type": "markdown",
      "source": [
        "### **1. Library Import**"
      ],
      "metadata": {
        "id": "9Tx44ggmYNsD"
      }
    },
    {
      "cell_type": "code",
      "source": [
        "from keras import datasets, layers, models                \n",
        "from tensorflow import keras                         # to_categorical 함수\n",
        "from tensorflow.keras.models import load_model\n",
        "from tensorflow.keras.callbacks import EarlyStopping, ModelCheckpoint\n",
        "\n",
        "import numpy as np\n",
        "import matplotlib.pyplot as plt"
      ],
      "metadata": {
        "id": "UFco5dLCQBQF"
      },
      "execution_count": 5,
      "outputs": []
    },
    {
      "cell_type": "code",
      "source": [
        "(train_imgs, train_labels), (test_imgs, test_labels) = datasets.mnist.load_data()"
      ],
      "metadata": {
        "id": "rwcqMzdKTPwN",
        "colab": {
          "base_uri": "https://localhost:8080/"
        },
        "outputId": "38047b34-8c3b-42fc-b32c-66a07c62ea6c"
      },
      "execution_count": 6,
      "outputs": [
        {
          "output_type": "stream",
          "name": "stdout",
          "text": [
            "Downloading data from https://storage.googleapis.com/tensorflow/tf-keras-datasets/mnist.npz\n",
            "11493376/11490434 [==============================] - 0s 0us/step\n",
            "11501568/11490434 [==============================] - 0s 0us/step\n"
          ]
        }
      ]
    },
    {
      "cell_type": "markdown",
      "source": [
        "### **2. 데이터 확인 및 전처리**"
      ],
      "metadata": {
        "id": "vcIHfL7pYJps"
      }
    },
    {
      "cell_type": "code",
      "source": [
        "train_imgs = train_imgs/255.0\n",
        "test_imgs = test_imgs/255.0"
      ],
      "metadata": {
        "id": "w4IFaKuOYIfc"
      },
      "execution_count": 7,
      "outputs": []
    },
    {
      "cell_type": "code",
      "source": [
        "print(train_imgs.shape)\n",
        "print(test_imgs.shape)"
      ],
      "metadata": {
        "colab": {
          "base_uri": "https://localhost:8080/"
        },
        "id": "A9ujYrDMiRy1",
        "outputId": "a145d2be-e31a-4118-ab26-abbdf99dcfc0"
      },
      "execution_count": 8,
      "outputs": [
        {
          "output_type": "stream",
          "name": "stdout",
          "text": [
            "(60000, 28, 28)\n",
            "(10000, 28, 28)\n"
          ]
        }
      ]
    },
    {
      "cell_type": "code",
      "source": [
        "train_imgs = train_imgs.reshape((60000, 28, 28, 1))\n",
        "test_imgs = test_imgs.reshape((10000, 28, 28, 1))"
      ],
      "metadata": {
        "id": "5IGxhDfjiN7d"
      },
      "execution_count": 9,
      "outputs": []
    },
    {
      "cell_type": "code",
      "source": [
        "train_labels = keras.utils.to_categorical(train_labels, num_classes=10)\n",
        "test_labels = keras.utils.to_categorical(test_labels, num_classes=10)"
      ],
      "metadata": {
        "id": "ouDs40X-n_uw"
      },
      "execution_count": 10,
      "outputs": []
    },
    {
      "cell_type": "markdown",
      "source": [
        "### __try04 CNN 모델에 callback 적용__\n",
        "\n",
        "---\n",
        "EarlyStopping / ModelCheckPoint"
      ],
      "metadata": {
        "id": "NTqxfKdbYvVL"
      }
    },
    {
      "cell_type": "code",
      "source": [
        "import keras                                               # histroy 함수를 위해 import"
      ],
      "metadata": {
        "id": "ivWlQdWayf2t"
      },
      "execution_count": 11,
      "outputs": []
    },
    {
      "cell_type": "markdown",
      "source": [
        "### SGD"
      ],
      "metadata": {
        "id": "EwL3YsJ-14qL"
      }
    },
    {
      "cell_type": "code",
      "source": [
        "model_4 = keras.Sequential([\n",
        "  layers.Conv2D(128, (3, 3), activation='relu', input_shape=(28, 28, 1)),\n",
        "  layers.MaxPooling2D((2, 2)),\n",
        "  layers.Conv2D(64, (3, 3), activation='relu'),\n",
        "  layers.MaxPooling2D((2, 2)),\n",
        "  layers.Conv2D(32, (3, 3), activation='relu'),\n",
        "  layers.Flatten(),\n",
        "  layers.Dense(64, activation = 'relu'),\n",
        "  layers.Dense(10, activation = 'softmax')\n",
        "])\n",
        "model_4.summary()"
      ],
      "metadata": {
        "id": "LSy5b6TEYmJj",
        "colab": {
          "base_uri": "https://localhost:8080/"
        },
        "outputId": "0e63265b-a4a7-4834-f344-72b6f9f0c1e3"
      },
      "execution_count": 12,
      "outputs": [
        {
          "output_type": "stream",
          "name": "stdout",
          "text": [
            "Model: \"sequential\"\n",
            "_________________________________________________________________\n",
            " Layer (type)                Output Shape              Param #   \n",
            "=================================================================\n",
            " conv2d (Conv2D)             (None, 26, 26, 128)       1280      \n",
            "                                                                 \n",
            " max_pooling2d (MaxPooling2D  (None, 13, 13, 128)      0         \n",
            " )                                                               \n",
            "                                                                 \n",
            " conv2d_1 (Conv2D)           (None, 11, 11, 64)        73792     \n",
            "                                                                 \n",
            " max_pooling2d_1 (MaxPooling  (None, 5, 5, 64)         0         \n",
            " 2D)                                                             \n",
            "                                                                 \n",
            " conv2d_2 (Conv2D)           (None, 3, 3, 32)          18464     \n",
            "                                                                 \n",
            " flatten (Flatten)           (None, 288)               0         \n",
            "                                                                 \n",
            " dense (Dense)               (None, 64)                18496     \n",
            "                                                                 \n",
            " dense_1 (Dense)             (None, 10)                650       \n",
            "                                                                 \n",
            "=================================================================\n",
            "Total params: 112,682\n",
            "Trainable params: 112,682\n",
            "Non-trainable params: 0\n",
            "_________________________________________________________________\n"
          ]
        }
      ]
    },
    {
      "cell_type": "code",
      "source": [
        "model_4.compile(optimizer=\"SGD\", loss=\"categorical_crossentropy\", metrics=[\"accuracy\"])"
      ],
      "metadata": {
        "id": "rIRHwKY3gm2w"
      },
      "execution_count": 13,
      "outputs": []
    },
    {
      "cell_type": "code",
      "source": [
        "es = EarlyStopping(monitor='val_loss', mode='min', verbose=1, patience=3)\n",
        "mc = ModelCheckpoint('mnist/model_4.h5', monitor='val_accuracy', mode='max', verbose=1, save_best_only=True)\n",
        "hist_4 = model_4.fit(train_imgs, train_labels, epochs=50, batch_size=64, validation_split=0.2, callbacks=[es, mc])"
      ],
      "metadata": {
        "colab": {
          "base_uri": "https://localhost:8080/"
        },
        "id": "rmGRWjkknkZo",
        "outputId": "f09f4802-3c12-42e9-ca1a-9f849c588f99"
      },
      "execution_count": 14,
      "outputs": [
        {
          "output_type": "stream",
          "name": "stdout",
          "text": [
            "Epoch 1/50\n",
            "746/750 [============================>.] - ETA: 0s - loss: 1.2603 - accuracy: 0.6030\n",
            "Epoch 1: val_accuracy improved from -inf to 0.87933, saving model to mnist/model_4.h5\n",
            "750/750 [==============================] - 16s 6ms/step - loss: 1.2558 - accuracy: 0.6044 - val_loss: 0.3854 - val_accuracy: 0.8793\n",
            "Epoch 2/50\n",
            "743/750 [============================>.] - ETA: 0s - loss: 0.3144 - accuracy: 0.9035\n",
            "Epoch 2: val_accuracy improved from 0.87933 to 0.93067, saving model to mnist/model_4.h5\n",
            "750/750 [==============================] - 4s 5ms/step - loss: 0.3133 - accuracy: 0.9038 - val_loss: 0.2261 - val_accuracy: 0.9307\n",
            "Epoch 3/50\n",
            "746/750 [============================>.] - ETA: 0s - loss: 0.2070 - accuracy: 0.9370\n",
            "Epoch 3: val_accuracy improved from 0.93067 to 0.94933, saving model to mnist/model_4.h5\n",
            "750/750 [==============================] - 4s 5ms/step - loss: 0.2067 - accuracy: 0.9371 - val_loss: 0.1720 - val_accuracy: 0.9493\n",
            "Epoch 4/50\n",
            "743/750 [============================>.] - ETA: 0s - loss: 0.1536 - accuracy: 0.9531\n",
            "Epoch 4: val_accuracy improved from 0.94933 to 0.96108, saving model to mnist/model_4.h5\n",
            "750/750 [==============================] - 4s 6ms/step - loss: 0.1534 - accuracy: 0.9532 - val_loss: 0.1304 - val_accuracy: 0.9611\n",
            "Epoch 5/50\n",
            "749/750 [============================>.] - ETA: 0s - loss: 0.1246 - accuracy: 0.9603\n",
            "Epoch 5: val_accuracy improved from 0.96108 to 0.96825, saving model to mnist/model_4.h5\n",
            "750/750 [==============================] - 4s 6ms/step - loss: 0.1246 - accuracy: 0.9603 - val_loss: 0.1072 - val_accuracy: 0.9682\n",
            "Epoch 6/50\n",
            "745/750 [============================>.] - ETA: 0s - loss: 0.1050 - accuracy: 0.9673\n",
            "Epoch 6: val_accuracy improved from 0.96825 to 0.96983, saving model to mnist/model_4.h5\n",
            "750/750 [==============================] - 4s 5ms/step - loss: 0.1052 - accuracy: 0.9672 - val_loss: 0.1012 - val_accuracy: 0.9698\n",
            "Epoch 7/50\n",
            "745/750 [============================>.] - ETA: 0s - loss: 0.0923 - accuracy: 0.9719\n",
            "Epoch 7: val_accuracy improved from 0.96983 to 0.97450, saving model to mnist/model_4.h5\n",
            "750/750 [==============================] - 4s 5ms/step - loss: 0.0924 - accuracy: 0.9719 - val_loss: 0.0849 - val_accuracy: 0.9745\n",
            "Epoch 8/50\n",
            "747/750 [============================>.] - ETA: 0s - loss: 0.0831 - accuracy: 0.9739\n",
            "Epoch 8: val_accuracy improved from 0.97450 to 0.97592, saving model to mnist/model_4.h5\n",
            "750/750 [==============================] - 4s 6ms/step - loss: 0.0832 - accuracy: 0.9739 - val_loss: 0.0793 - val_accuracy: 0.9759\n",
            "Epoch 9/50\n",
            "745/750 [============================>.] - ETA: 0s - loss: 0.0751 - accuracy: 0.9767\n",
            "Epoch 9: val_accuracy did not improve from 0.97592\n",
            "750/750 [==============================] - 5s 7ms/step - loss: 0.0749 - accuracy: 0.9768 - val_loss: 0.0850 - val_accuracy: 0.9751\n",
            "Epoch 10/50\n",
            "750/750 [==============================] - ETA: 0s - loss: 0.0698 - accuracy: 0.9781\n",
            "Epoch 10: val_accuracy improved from 0.97592 to 0.98050, saving model to mnist/model_4.h5\n",
            "750/750 [==============================] - 5s 7ms/step - loss: 0.0698 - accuracy: 0.9781 - val_loss: 0.0715 - val_accuracy: 0.9805\n",
            "Epoch 11/50\n",
            "745/750 [============================>.] - ETA: 0s - loss: 0.0642 - accuracy: 0.9809\n",
            "Epoch 11: val_accuracy improved from 0.98050 to 0.98083, saving model to mnist/model_4.h5\n",
            "750/750 [==============================] - 4s 6ms/step - loss: 0.0639 - accuracy: 0.9809 - val_loss: 0.0676 - val_accuracy: 0.9808\n",
            "Epoch 12/50\n",
            "743/750 [============================>.] - ETA: 0s - loss: 0.0602 - accuracy: 0.9813\n",
            "Epoch 12: val_accuracy did not improve from 0.98083\n",
            "750/750 [==============================] - 4s 6ms/step - loss: 0.0601 - accuracy: 0.9812 - val_loss: 0.0658 - val_accuracy: 0.9802\n",
            "Epoch 13/50\n",
            "740/750 [============================>.] - ETA: 0s - loss: 0.0567 - accuracy: 0.9827\n",
            "Epoch 13: val_accuracy did not improve from 0.98083\n",
            "750/750 [==============================] - 4s 6ms/step - loss: 0.0567 - accuracy: 0.9827 - val_loss: 0.0709 - val_accuracy: 0.9793\n",
            "Epoch 14/50\n",
            "749/750 [============================>.] - ETA: 0s - loss: 0.0532 - accuracy: 0.9835\n",
            "Epoch 14: val_accuracy improved from 0.98083 to 0.98292, saving model to mnist/model_4.h5\n",
            "750/750 [==============================] - 5s 7ms/step - loss: 0.0532 - accuracy: 0.9835 - val_loss: 0.0605 - val_accuracy: 0.9829\n",
            "Epoch 15/50\n",
            "744/750 [============================>.] - ETA: 0s - loss: 0.0505 - accuracy: 0.9842\n",
            "Epoch 15: val_accuracy did not improve from 0.98292\n",
            "750/750 [==============================] - 4s 5ms/step - loss: 0.0504 - accuracy: 0.9843 - val_loss: 0.0615 - val_accuracy: 0.9824\n",
            "Epoch 16/50\n",
            "741/750 [============================>.] - ETA: 0s - loss: 0.0482 - accuracy: 0.9847\n",
            "Epoch 16: val_accuracy did not improve from 0.98292\n",
            "750/750 [==============================] - 4s 6ms/step - loss: 0.0480 - accuracy: 0.9848 - val_loss: 0.0645 - val_accuracy: 0.9807\n",
            "Epoch 17/50\n",
            "745/750 [============================>.] - ETA: 0s - loss: 0.0458 - accuracy: 0.9863\n",
            "Epoch 17: val_accuracy improved from 0.98292 to 0.98308, saving model to mnist/model_4.h5\n",
            "750/750 [==============================] - 5s 7ms/step - loss: 0.0457 - accuracy: 0.9863 - val_loss: 0.0624 - val_accuracy: 0.9831\n",
            "Epoch 17: early stopping\n"
          ]
        }
      ]
    },
    {
      "cell_type": "code",
      "source": [
        "acc = hist_4.history['accuracy']\n",
        "val_acc = hist_4.history['val_accuracy']\n",
        "loss = hist_4.history['loss']\n",
        "val_loss = hist_4.history['val_loss']\n",
        "\n",
        "epochs = range(1, len(acc)+1)\n",
        "\n",
        "plt.figure(figsize=(8, 12))\n",
        "ax1=plt.subplot(2, 1, 1)\n",
        "ax2=plt.subplot(2, 1, 2)\n",
        "ax1.plot(epochs, acc, 'bo', label='Trainig acc')\n",
        "ax1.plot(epochs, val_acc, 'b', label='Validation acc')\n",
        "ax1.set_title(\"Training and Validation accuracy\")\n",
        "ax1.legend()\n",
        "ax2.plot(epochs, loss, 'bo', label='Traning loss')\n",
        "ax2.plot(epochs, val_loss, 'b', label='Validation loss')\n",
        "ax2.set_title(\"Training and Validation loss\")\n",
        "ax2.legend()\n",
        "plt.show()"
      ],
      "metadata": {
        "id": "mFOaiWO_sRfX",
        "colab": {
          "base_uri": "https://localhost:8080/",
          "height": 716
        },
        "outputId": "89dfbb82-0bdf-488a-ad5a-4f408dd8301b"
      },
      "execution_count": 15,
      "outputs": [
        {
          "output_type": "display_data",
          "data": {
            "text/plain": [
              "<Figure size 576x864 with 2 Axes>"
            ],
            "image/png": "[encoded data removed]"
          },
          "metadata": {
            "needs_background": "light"
          }
        }
      ]
    },
    {
      "cell_type": "code",
      "source": [
        "model_4.evaluate(test_imgs, test_labels)"
      ],
      "metadata": {
        "id": "A4f_4uKMk9gD",
        "colab": {
          "base_uri": "https://localhost:8080/"
        },
        "outputId": "37155621-643f-4afe-9305-b8e9f3352060"
      },
      "execution_count": 16,
      "outputs": [
        {
          "output_type": "stream",
          "name": "stdout",
          "text": [
            "313/313 [==============================] - 1s 3ms/step - loss: 0.0483 - accuracy: 0.9843\n"
          ]
        },
        {
          "output_type": "execute_result",
          "data": {
            "text/plain": [
              "[0.04828539490699768, 0.9843000173568726]"
            ]
          },
          "metadata": {},
          "execution_count": 16
        }
      ]
    },
    {
      "cell_type": "markdown",
      "source": [
        "### Adam"
      ],
      "metadata": {
        "id": "OeRZKlD919Nv"
      }
    },
    {
      "cell_type": "code",
      "source": [
        "model_4_1 = keras.Sequential([\n",
        "  layers.Conv2D(128, (3, 3), activation='relu', input_shape=(28, 28, 1)),\n",
        "  layers.MaxPooling2D((2, 2)),\n",
        "  layers.Conv2D(64, (3, 3), activation='relu'),\n",
        "  layers.MaxPooling2D((2, 2)),\n",
        "  layers.Conv2D(32, (3, 3), activation='relu'),\n",
        "  layers.Flatten(),\n",
        "  layers.Dense(64, activation = 'sigmoid'),\n",
        "  layers.Dense(10, activation = 'softmax')\n",
        "])"
      ],
      "metadata": {
        "id": "KckvoMxelA7K"
      },
      "execution_count": 17,
      "outputs": []
    },
    {
      "cell_type": "code",
      "source": [
        "model_4_1.compile(optimizer=\"adam\", loss=\"categorical_crossentropy\", metrics=[\"accuracy\"])"
      ],
      "metadata": {
        "id": "_ldV-EcqlA7K"
      },
      "execution_count": 18,
      "outputs": []
    },
    {
      "cell_type": "code",
      "source": [
        "es = EarlyStopping(monitor='val_loss', mode='min', verbose=1, patience=3)\n",
        "mc = ModelCheckpoint('mnist/model_4_1.h5', monitor='val_accuracy', mode='max', verbose=1, save_best_only=True)\n",
        "hist_4_1 = model_4_1.fit(train_imgs, train_labels, epochs=30, batch_size=64, validation_split=0.2, callbacks=[es, mc])"
      ],
      "metadata": {
        "id": "u-pnKVXOlA7K",
        "colab": {
          "base_uri": "https://localhost:8080/"
        },
        "outputId": "4959d78d-f856-4fdd-d81e-0492f5e42ddd"
      },
      "execution_count": 19,
      "outputs": [
        {
          "output_type": "stream",
          "name": "stdout",
          "text": [
            "Epoch 1/30\n",
            "750/750 [==============================] - ETA: 0s - loss: 0.3227 - accuracy: 0.9194\n",
            "Epoch 1: val_accuracy improved from -inf to 0.97708, saving model to mnist/model_4_1.h5\n",
            "750/750 [==============================] - 5s 6ms/step - loss: 0.3227 - accuracy: 0.9194 - val_loss: 0.0956 - val_accuracy: 0.9771\n",
            "Epoch 2/30\n",
            "746/750 [============================>.] - ETA: 0s - loss: 0.0726 - accuracy: 0.9804\n",
            "Epoch 2: val_accuracy improved from 0.97708 to 0.98342, saving model to mnist/model_4_1.h5\n",
            "750/750 [==============================] - 4s 6ms/step - loss: 0.0725 - accuracy: 0.9804 - val_loss: 0.0587 - val_accuracy: 0.9834\n",
            "Epoch 3/30\n",
            "747/750 [============================>.] - ETA: 0s - loss: 0.0494 - accuracy: 0.9855\n",
            "Epoch 3: val_accuracy improved from 0.98342 to 0.98492, saving model to mnist/model_4_1.h5\n",
            "750/750 [==============================] - 4s 6ms/step - loss: 0.0493 - accuracy: 0.9855 - val_loss: 0.0544 - val_accuracy: 0.9849\n",
            "Epoch 4/30\n",
            "748/750 [============================>.] - ETA: 0s - loss: 0.0363 - accuracy: 0.9891\n",
            "Epoch 4: val_accuracy improved from 0.98492 to 0.98725, saving model to mnist/model_4_1.h5\n",
            "750/750 [==============================] - 4s 6ms/step - loss: 0.0363 - accuracy: 0.9892 - val_loss: 0.0422 - val_accuracy: 0.9872\n",
            "Epoch 5/30\n",
            "743/750 [============================>.] - ETA: 0s - loss: 0.0301 - accuracy: 0.9913\n",
            "Epoch 5: val_accuracy improved from 0.98725 to 0.98867, saving model to mnist/model_4_1.h5\n",
            "750/750 [==============================] - 4s 6ms/step - loss: 0.0301 - accuracy: 0.9913 - val_loss: 0.0385 - val_accuracy: 0.9887\n",
            "Epoch 6/30\n",
            "741/750 [============================>.] - ETA: 0s - loss: 0.0224 - accuracy: 0.9938\n",
            "Epoch 6: val_accuracy improved from 0.98867 to 0.98942, saving model to mnist/model_4_1.h5\n",
            "750/750 [==============================] - 4s 6ms/step - loss: 0.0225 - accuracy: 0.9937 - val_loss: 0.0382 - val_accuracy: 0.9894\n",
            "Epoch 7/30\n",
            "742/750 [============================>.] - ETA: 0s - loss: 0.0182 - accuracy: 0.9948\n",
            "Epoch 7: val_accuracy did not improve from 0.98942\n",
            "750/750 [==============================] - 4s 6ms/step - loss: 0.0183 - accuracy: 0.9948 - val_loss: 0.0390 - val_accuracy: 0.9891\n",
            "Epoch 8/30\n",
            "749/750 [============================>.] - ETA: 0s - loss: 0.0164 - accuracy: 0.9948\n",
            "Epoch 8: val_accuracy did not improve from 0.98942\n",
            "750/750 [==============================] - 4s 6ms/step - loss: 0.0164 - accuracy: 0.9948 - val_loss: 0.0370 - val_accuracy: 0.9891\n",
            "Epoch 9/30\n",
            "741/750 [============================>.] - ETA: 0s - loss: 0.0121 - accuracy: 0.9968\n",
            "Epoch 9: val_accuracy improved from 0.98942 to 0.98992, saving model to mnist/model_4_1.h5\n",
            "750/750 [==============================] - 5s 7ms/step - loss: 0.0121 - accuracy: 0.9968 - val_loss: 0.0379 - val_accuracy: 0.9899\n",
            "Epoch 10/30\n",
            "745/750 [============================>.] - ETA: 0s - loss: 0.0098 - accuracy: 0.9972\n",
            "Epoch 10: val_accuracy did not improve from 0.98992\n",
            "750/750 [==============================] - 4s 6ms/step - loss: 0.0098 - accuracy: 0.9972 - val_loss: 0.0371 - val_accuracy: 0.9889\n",
            "Epoch 11/30\n",
            "746/750 [============================>.] - ETA: 0s - loss: 0.0112 - accuracy: 0.9964\n",
            "Epoch 11: val_accuracy did not improve from 0.98992\n",
            "750/750 [==============================] - 5s 6ms/step - loss: 0.0112 - accuracy: 0.9964 - val_loss: 0.0404 - val_accuracy: 0.9883\n",
            "Epoch 11: early stopping\n"
          ]
        }
      ]
    },
    {
      "cell_type": "code",
      "source": [
        "acc = hist_4_1.history['accuracy']\n",
        "val_acc = hist_4_1.history['val_accuracy']\n",
        "loss = hist_4_1.history['loss']\n",
        "val_loss = hist_4_1.history['val_loss']\n",
        "\n",
        "epochs = range(1, len(acc)+1)\n",
        "\n",
        "plt.figure(figsize=(8, 12))\n",
        "ax1=plt.subplot(2, 1, 1)\n",
        "ax2=plt.subplot(2, 1, 2)\n",
        "ax1.plot(epochs, acc, 'bo', label='Trainig acc')\n",
        "ax1.plot(epochs, val_acc, 'b', label='Validation acc')\n",
        "ax1.set_title(\"Training and Validation accuracy\")\n",
        "ax1.legend()\n",
        "ax2.plot(epochs, loss, 'bo', label='Traning loss')\n",
        "ax2.plot(epochs, val_loss, 'b', label='Validation loss')\n",
        "ax2.set_title(\"Training and Validation loss\")\n",
        "ax2.legend()\n",
        "plt.show()"
      ],
      "metadata": {
        "id": "2peQe0GflA7L",
        "colab": {
          "base_uri": "https://localhost:8080/",
          "height": 716
        },
        "outputId": "f7ee8905-f099-40e9-8654-9310e3cad9c9"
      },
      "execution_count": 20,
      "outputs": [
        {
          "output_type": "display_data",
          "data": {
            "text/plain": [
              "<Figure size 576x864 with 2 Axes>"
            ],
            "image/png": "[encoded data removed]"
          },
          "metadata": {
            "needs_background": "light"
          }
        }
      ]
    },
    {
      "cell_type": "code",
      "source": [
        "model_4_1.evaluate(test_imgs, test_labels)"
      ],
      "metadata": {
        "id": "GOkjtEBVlA7L",
        "colab": {
          "base_uri": "https://localhost:8080/"
        },
        "outputId": "7c19fe5b-0375-4efb-c2dd-06cdad120629"
      },
      "execution_count": 21,
      "outputs": [
        {
          "output_type": "stream",
          "name": "stdout",
          "text": [
            "313/313 [==============================] - 2s 5ms/step - loss: 0.0327 - accuracy: 0.9904\n"
          ]
        },
        {
          "output_type": "execute_result",
          "data": {
            "text/plain": [
              "[0.0326966755092144, 0.9904000163078308]"
            ]
          },
          "metadata": {},
          "execution_count": 21
        }
      ]
    },
    {
      "cell_type": "markdown",
      "source": [
        "### RMSprop"
      ],
      "metadata": {
        "id": "kuEfE37a2CRh"
      }
    },
    {
      "cell_type": "code",
      "source": [
        "model_4_2 = keras.Sequential([\n",
        "  layers.Conv2D(128, (3, 3), activation='relu', input_shape=(28, 28, 1)),\n",
        "  layers.MaxPooling2D((2, 2)),\n",
        "  layers.Conv2D(64, (3, 3), activation='relu'),\n",
        "  layers.MaxPooling2D((2, 2)),\n",
        "  layers.Conv2D(32, (3, 3), activation='relu'),\n",
        "  layers.Flatten(),\n",
        "  layers.Dense(64, activation = 'sigmoid'),\n",
        "  layers.Dense(10, activation = 'softmax')\n",
        "])"
      ],
      "metadata": {
        "id": "GA2PX8zOl6uY"
      },
      "execution_count": 22,
      "outputs": []
    },
    {
      "cell_type": "code",
      "source": [
        "model_4_2.compile(optimizer=\"rmsprop\", loss=\"categorical_crossentropy\", metrics=[\"accuracy\"])"
      ],
      "metadata": {
        "id": "89Dh8NCXl6uZ"
      },
      "execution_count": 23,
      "outputs": []
    },
    {
      "cell_type": "code",
      "source": [
        "es = EarlyStopping(monitor='val_loss', mode='min', verbose=1, patience=3)\n",
        "mc = ModelCheckpoint('mnist/model_4_2.h5', monitor='val_accuracy', mode='max', verbose=1, save_best_only=True)\n",
        "hist_4_2 = model_4_2.fit(train_imgs, train_labels, epochs=30, batch_size=64, validation_split=0.2, callbacks=[es, mc])"
      ],
      "metadata": {
        "id": "q_jhZxVel6uZ",
        "colab": {
          "base_uri": "https://localhost:8080/"
        },
        "outputId": "a9e08d09-f420-450e-adf1-01d2562e4826"
      },
      "execution_count": 24,
      "outputs": [
        {
          "output_type": "stream",
          "name": "stdout",
          "text": [
            "Epoch 1/30\n",
            "748/750 [============================>.] - ETA: 0s - loss: 0.2885 - accuracy: 0.9250\n",
            "Epoch 1: val_accuracy improved from -inf to 0.98058, saving model to mnist/model_4_2.h5\n",
            "750/750 [==============================] - 9s 9ms/step - loss: 0.2879 - accuracy: 0.9252 - val_loss: 0.0737 - val_accuracy: 0.9806\n",
            "Epoch 2/30\n",
            "742/750 [============================>.] - ETA: 0s - loss: 0.0645 - accuracy: 0.9806\n",
            "Epoch 2: val_accuracy improved from 0.98058 to 0.98475, saving model to mnist/model_4_2.h5\n",
            "750/750 [==============================] - 5s 6ms/step - loss: 0.0643 - accuracy: 0.9806 - val_loss: 0.0548 - val_accuracy: 0.9847\n",
            "Epoch 3/30\n",
            "742/750 [============================>.] - ETA: 0s - loss: 0.0428 - accuracy: 0.9869\n",
            "Epoch 3: val_accuracy improved from 0.98475 to 0.98592, saving model to mnist/model_4_2.h5\n",
            "750/750 [==============================] - 4s 6ms/step - loss: 0.0428 - accuracy: 0.9869 - val_loss: 0.0487 - val_accuracy: 0.9859\n",
            "Epoch 4/30\n",
            "745/750 [============================>.] - ETA: 0s - loss: 0.0317 - accuracy: 0.9903\n",
            "Epoch 4: val_accuracy improved from 0.98592 to 0.98917, saving model to mnist/model_4_2.h5\n",
            "750/750 [==============================] - 4s 6ms/step - loss: 0.0319 - accuracy: 0.9902 - val_loss: 0.0406 - val_accuracy: 0.9892\n",
            "Epoch 5/30\n",
            "745/750 [============================>.] - ETA: 0s - loss: 0.0251 - accuracy: 0.9921\n",
            "Epoch 5: val_accuracy improved from 0.98917 to 0.98975, saving model to mnist/model_4_2.h5\n",
            "750/750 [==============================] - 4s 6ms/step - loss: 0.0251 - accuracy: 0.9920 - val_loss: 0.0376 - val_accuracy: 0.9898\n",
            "Epoch 6/30\n",
            "749/750 [============================>.] - ETA: 0s - loss: 0.0205 - accuracy: 0.9938\n",
            "Epoch 6: val_accuracy did not improve from 0.98975\n",
            "750/750 [==============================] - 4s 6ms/step - loss: 0.0205 - accuracy: 0.9938 - val_loss: 0.0421 - val_accuracy: 0.9892\n",
            "Epoch 7/30\n",
            "748/750 [============================>.] - ETA: 0s - loss: 0.0175 - accuracy: 0.9947\n",
            "Epoch 7: val_accuracy did not improve from 0.98975\n",
            "750/750 [==============================] - 4s 6ms/step - loss: 0.0175 - accuracy: 0.9947 - val_loss: 0.0398 - val_accuracy: 0.9888\n",
            "Epoch 8/30\n",
            "750/750 [==============================] - ETA: 0s - loss: 0.0145 - accuracy: 0.9955\n",
            "Epoch 8: val_accuracy did not improve from 0.98975\n",
            "750/750 [==============================] - 4s 6ms/step - loss: 0.0145 - accuracy: 0.9955 - val_loss: 0.0408 - val_accuracy: 0.9890\n",
            "Epoch 8: early stopping\n"
          ]
        }
      ]
    },
    {
      "cell_type": "code",
      "source": [
        "acc = hist_4_2.history['accuracy']\n",
        "val_acc = hist_4_2.history['val_accuracy']\n",
        "loss = hist_4_2.history['loss']\n",
        "val_loss = hist_4_2.history['val_loss']\n",
        "\n",
        "epochs = range(1, len(acc)+1)\n",
        "\n",
        "plt.figure(figsize=(8, 12))\n",
        "ax1=plt.subplot(2, 1, 1)\n",
        "ax2=plt.subplot(2, 1, 2)\n",
        "ax1.plot(epochs, acc, 'bo', label='Trainig acc')\n",
        "ax1.plot(epochs, val_acc, 'b', label='Validation acc')\n",
        "ax1.set_title(\"Training and Validation accuracy\")\n",
        "ax1.legend()\n",
        "ax2.plot(epochs, loss, 'bo', label='Traning loss')\n",
        "ax2.plot(epochs, val_loss, 'b', label='Validation loss')\n",
        "ax2.set_title(\"Training and Validation loss\")\n",
        "ax2.legend()\n",
        "plt.show()"
      ],
      "metadata": {
        "id": "0BRTA9ySl6ua",
        "colab": {
          "base_uri": "https://localhost:8080/",
          "height": 716
        },
        "outputId": "faffe316-f13f-4575-a45d-bc6fe438170e"
      },
      "execution_count": 25,
      "outputs": [
        {
          "output_type": "display_data",
          "data": {
            "text/plain": [
              "<Figure size 576x864 with 2 Axes>"
            ],
            "image/png": "[encoded data removed]"
          },
          "metadata": {
            "needs_background": "light"
          }
        }
      ]
    },
    {
      "cell_type": "code",
      "source": [
        "model_4_2.evaluate(test_imgs, test_labels)"
      ],
      "metadata": {
        "id": "Whek4xDOl6ua",
        "colab": {
          "base_uri": "https://localhost:8080/"
        },
        "outputId": "3385349c-b6fd-4e96-fb70-816e3d2e7d57"
      },
      "execution_count": 26,
      "outputs": [
        {
          "output_type": "stream",
          "name": "stdout",
          "text": [
            "313/313 [==============================] - 1s 3ms/step - loss: 0.0318 - accuracy: 0.9904\n"
          ]
        },
        {
          "output_type": "execute_result",
          "data": {
            "text/plain": [
              "[0.03175080195069313, 0.9904000163078308]"
            ]
          },
          "metadata": {},
          "execution_count": 26
        }
      ]
    },
    {
      "cell_type": "markdown",
      "source": [
        "### __try05 가중치 규제 추가(kernel_regularizer)__"
      ],
      "metadata": {
        "id": "ySQhb82BwgmU"
      }
    },
    {
      "cell_type": "code",
      "source": [
        "from keras import regularizers"
      ],
      "metadata": {
        "id": "dlqNaSRO3rXx"
      },
      "execution_count": 27,
      "outputs": []
    },
    {
      "cell_type": "markdown",
      "source": [
        "### SGD"
      ],
      "metadata": {
        "id": "pbiKkZnr2PGC"
      }
    },
    {
      "cell_type": "code",
      "source": [
        "model_5 = keras.Sequential([\n",
        "  layers.Conv2D(128, (3, 3), kernel_regularizer=regularizers.l2(0.001), activation='relu', input_shape=(28, 28, 1)),\n",
        "  layers.MaxPooling2D((2, 2)),\n",
        "  layers.Conv2D(64, (3, 3), kernel_regularizer=regularizers.l2(0.001), activation='relu'),\n",
        "  layers.MaxPooling2D((2, 2)),\n",
        "  layers.Conv2D(32, (3, 3), kernel_regularizer=regularizers.l2(0.001), activation='relu'),\n",
        "  layers.Flatten(),\n",
        "  layers.Dense(64, kernel_regularizer=regularizers.l2(0.001), activation = 'relu'),\n",
        "  layers.Dense(10, activation = 'softmax')\n",
        "])\n",
        "model_5.summary()"
      ],
      "metadata": {
        "colab": {
          "base_uri": "https://localhost:8080/"
        },
        "outputId": "9004eb9e-4e09-4fd4-b4bb-759870111980",
        "id": "r6FOUvifwgmU"
      },
      "execution_count": 28,
      "outputs": [
        {
          "output_type": "stream",
          "name": "stdout",
          "text": [
            "Model: \"sequential_3\"\n",
            "_________________________________________________________________\n",
            " Layer (type)                Output Shape              Param #   \n",
            "=================================================================\n",
            " conv2d_9 (Conv2D)           (None, 26, 26, 128)       1280      \n",
            "                                                                 \n",
            " max_pooling2d_6 (MaxPooling  (None, 13, 13, 128)      0         \n",
            " 2D)                                                             \n",
            "                                                                 \n",
            " conv2d_10 (Conv2D)          (None, 11, 11, 64)        73792     \n",
            "                                                                 \n",
            " max_pooling2d_7 (MaxPooling  (None, 5, 5, 64)         0         \n",
            " 2D)                                                             \n",
            "                                                                 \n",
            " conv2d_11 (Conv2D)          (None, 3, 3, 32)          18464     \n",
            "                                                                 \n",
            " flatten_3 (Flatten)         (None, 288)               0         \n",
            "                                                                 \n",
            " dense_6 (Dense)             (None, 64)                18496     \n",
            "                                                                 \n",
            " dense_7 (Dense)             (None, 10)                650       \n",
            "                                                                 \n",
            "=================================================================\n",
            "Total params: 112,682\n",
            "Trainable params: 112,682\n",
            "Non-trainable params: 0\n",
            "_________________________________________________________________\n"
          ]
        }
      ]
    },
    {
      "cell_type": "code",
      "source": [
        "model_5.compile(optimizer=\"SGD\", loss=\"categorical_crossentropy\", metrics=[\"accuracy\"])"
      ],
      "metadata": {
        "id": "HxuWFN0WwgmV"
      },
      "execution_count": 29,
      "outputs": []
    },
    {
      "cell_type": "code",
      "source": [
        "hist_5 = model_5.fit(train_imgs, train_labels, epochs=30, batch_size=64, validation_split=0.2)"
      ],
      "metadata": {
        "colab": {
          "base_uri": "https://localhost:8080/"
        },
        "outputId": "0bdeb7e1-4548-440b-dac0-70082dc44936",
        "id": "i316vWw2wgmV"
      },
      "execution_count": 30,
      "outputs": [
        {
          "output_type": "stream",
          "name": "stdout",
          "text": [
            "Epoch 1/30\n",
            "750/750 [==============================] - 5s 6ms/step - loss: 1.2686 - accuracy: 0.7091 - val_loss: 0.5942 - val_accuracy: 0.8917\n",
            "Epoch 2/30\n",
            "750/750 [==============================] - 4s 6ms/step - loss: 0.5229 - accuracy: 0.9128 - val_loss: 0.4427 - val_accuracy: 0.9391\n",
            "Epoch 3/30\n",
            "750/750 [==============================] - 4s 6ms/step - loss: 0.4258 - accuracy: 0.9410 - val_loss: 0.3883 - val_accuracy: 0.9527\n",
            "Epoch 4/30\n",
            "750/750 [==============================] - 4s 6ms/step - loss: 0.3753 - accuracy: 0.9562 - val_loss: 0.3525 - val_accuracy: 0.9632\n",
            "Epoch 5/30\n",
            "750/750 [==============================] - 4s 6ms/step - loss: 0.3457 - accuracy: 0.9642 - val_loss: 0.3290 - val_accuracy: 0.9697\n",
            "Epoch 6/30\n",
            "750/750 [==============================] - 5s 6ms/step - loss: 0.3251 - accuracy: 0.9686 - val_loss: 0.3234 - val_accuracy: 0.9676\n",
            "Epoch 7/30\n",
            "750/750 [==============================] - 4s 6ms/step - loss: 0.3086 - accuracy: 0.9724 - val_loss: 0.3067 - val_accuracy: 0.9724\n",
            "Epoch 8/30\n",
            "750/750 [==============================] - 4s 6ms/step - loss: 0.2962 - accuracy: 0.9741 - val_loss: 0.3003 - val_accuracy: 0.9737\n",
            "Epoch 9/30\n",
            "750/750 [==============================] - 4s 6ms/step - loss: 0.2856 - accuracy: 0.9761 - val_loss: 0.2876 - val_accuracy: 0.9764\n",
            "Epoch 10/30\n",
            "750/750 [==============================] - 4s 6ms/step - loss: 0.2764 - accuracy: 0.9772 - val_loss: 0.2761 - val_accuracy: 0.9793\n",
            "Epoch 11/30\n",
            "750/750 [==============================] - 4s 6ms/step - loss: 0.2675 - accuracy: 0.9789 - val_loss: 0.2730 - val_accuracy: 0.9783\n",
            "Epoch 12/30\n",
            "750/750 [==============================] - 4s 6ms/step - loss: 0.2597 - accuracy: 0.9798 - val_loss: 0.2670 - val_accuracy: 0.9777\n",
            "Epoch 13/30\n",
            "750/750 [==============================] - 4s 6ms/step - loss: 0.2514 - accuracy: 0.9815 - val_loss: 0.2565 - val_accuracy: 0.9803\n",
            "Epoch 14/30\n",
            "750/750 [==============================] - 4s 6ms/step - loss: 0.2450 - accuracy: 0.9821 - val_loss: 0.2505 - val_accuracy: 0.9809\n",
            "Epoch 15/30\n",
            "750/750 [==============================] - 4s 6ms/step - loss: 0.2392 - accuracy: 0.9828 - val_loss: 0.2535 - val_accuracy: 0.9789\n",
            "Epoch 16/30\n",
            "750/750 [==============================] - 4s 6ms/step - loss: 0.2321 - accuracy: 0.9835 - val_loss: 0.2381 - val_accuracy: 0.9820\n",
            "Epoch 17/30\n",
            "750/750 [==============================] - 4s 6ms/step - loss: 0.2265 - accuracy: 0.9848 - val_loss: 0.2352 - val_accuracy: 0.9818\n",
            "Epoch 18/30\n",
            "750/750 [==============================] - 4s 6ms/step - loss: 0.2216 - accuracy: 0.9851 - val_loss: 0.2294 - val_accuracy: 0.9837\n",
            "Epoch 19/30\n",
            "750/750 [==============================] - 4s 6ms/step - loss: 0.2156 - accuracy: 0.9854 - val_loss: 0.2288 - val_accuracy: 0.9812\n",
            "Epoch 20/30\n",
            "750/750 [==============================] - 4s 6ms/step - loss: 0.2110 - accuracy: 0.9860 - val_loss: 0.2198 - val_accuracy: 0.9837\n",
            "Epoch 21/30\n",
            "750/750 [==============================] - 4s 6ms/step - loss: 0.2064 - accuracy: 0.9868 - val_loss: 0.2179 - val_accuracy: 0.9829\n",
            "Epoch 22/30\n",
            "750/750 [==============================] - 4s 6ms/step - loss: 0.2012 - accuracy: 0.9862 - val_loss: 0.2142 - val_accuracy: 0.9837\n",
            "Epoch 23/30\n",
            "750/750 [==============================] - 4s 6ms/step - loss: 0.1972 - accuracy: 0.9870 - val_loss: 0.2152 - val_accuracy: 0.9818\n",
            "Epoch 24/30\n",
            "750/750 [==============================] - 4s 6ms/step - loss: 0.1928 - accuracy: 0.9875 - val_loss: 0.2052 - val_accuracy: 0.9844\n",
            "Epoch 25/30\n",
            "750/750 [==============================] - 4s 6ms/step - loss: 0.1891 - accuracy: 0.9877 - val_loss: 0.1969 - val_accuracy: 0.9857\n",
            "Epoch 26/30\n",
            "750/750 [==============================] - 4s 6ms/step - loss: 0.1844 - accuracy: 0.9882 - val_loss: 0.1960 - val_accuracy: 0.9852\n",
            "Epoch 27/30\n",
            "750/750 [==============================] - 4s 6ms/step - loss: 0.1805 - accuracy: 0.9884 - val_loss: 0.1958 - val_accuracy: 0.9846\n",
            "Epoch 28/30\n",
            "750/750 [==============================] - 4s 6ms/step - loss: 0.1768 - accuracy: 0.9886 - val_loss: 0.2027 - val_accuracy: 0.9799\n",
            "Epoch 29/30\n",
            "750/750 [==============================] - 4s 6ms/step - loss: 0.1732 - accuracy: 0.9890 - val_loss: 0.1903 - val_accuracy: 0.9831\n",
            "Epoch 30/30\n",
            "750/750 [==============================] - 4s 6ms/step - loss: 0.1698 - accuracy: 0.9898 - val_loss: 0.1830 - val_accuracy: 0.9857\n"
          ]
        }
      ]
    },
    {
      "cell_type": "code",
      "source": [
        "acc = hist_5.history['accuracy']\n",
        "val_acc = hist_5.history['val_accuracy']\n",
        "loss = hist_5.history['loss']\n",
        "val_loss = hist_5.history['val_loss']\n",
        "\n",
        "epochs = range(1, len(acc)+1)\n",
        "\n",
        "plt.figure(figsize=(8, 12))\n",
        "ax1=plt.subplot(2, 1, 1)\n",
        "ax2=plt.subplot(2, 1, 2)\n",
        "ax1.plot(epochs, acc, 'bo', label='Trainig acc')\n",
        "ax1.plot(epochs, val_acc, 'b', label='Validation acc')\n",
        "ax1.set_title(\"Training and Validation accuracy\")\n",
        "ax1.legend()\n",
        "ax2.plot(epochs, loss, 'bo', label='Traning loss')\n",
        "ax2.plot(epochs, val_loss, 'b', label='Validation loss')\n",
        "ax2.set_title(\"Training and Validation loss\")\n",
        "ax2.legend()\n",
        "plt.show()"
      ],
      "metadata": {
        "colab": {
          "base_uri": "https://localhost:8080/",
          "height": 716
        },
        "outputId": "0c40e13d-d334-4bb6-f94c-d39d029a267f",
        "id": "tUc9bTnxwgmV"
      },
      "execution_count": 31,
      "outputs": [
        {
          "output_type": "display_data",
          "data": {
            "text/plain": [
              "<Figure size 576x864 with 2 Axes>"
            ],
            "image/png": "[encoded data removed]"
          },
          "metadata": {
            "needs_background": "light"
          }
        }
      ]
    },
    {
      "cell_type": "code",
      "source": [
        "model_5.evaluate(test_imgs, test_labels)"
      ],
      "metadata": {
        "colab": {
          "base_uri": "https://localhost:8080/"
        },
        "outputId": "aec0d0bc-0c2f-4020-addb-b89bb27a67f9",
        "id": "pdwxL2r8wgmW"
      },
      "execution_count": 32,
      "outputs": [
        {
          "output_type": "stream",
          "name": "stdout",
          "text": [
            "313/313 [==============================] - 1s 3ms/step - loss: 0.1708 - accuracy: 0.9883\n"
          ]
        },
        {
          "output_type": "execute_result",
          "data": {
            "text/plain": [
              "[0.17075879871845245, 0.9883000254631042]"
            ]
          },
          "metadata": {},
          "execution_count": 32
        }
      ]
    },
    {
      "cell_type": "markdown",
      "source": [
        "### Adam"
      ],
      "metadata": {
        "id": "CSYnTobF2Sed"
      }
    },
    {
      "cell_type": "code",
      "source": [
        "model_5_1 = keras.Sequential([\n",
        "  layers.Conv2D(128, (3, 3), kernel_regularizer=regularizers.l2(0.001), activation='relu', input_shape=(28, 28, 1)),\n",
        "  layers.MaxPooling2D((2, 2)),\n",
        "  layers.Conv2D(64, (3, 3), kernel_regularizer=regularizers.l2(0.001), activation='relu'),\n",
        "  layers.MaxPooling2D((2, 2)),\n",
        "  layers.Conv2D(32, (3, 3), kernel_regularizer=regularizers.l2(0.001), activation='relu'),\n",
        "  layers.Flatten(),\n",
        "  layers.Dense(64, kernel_regularizer=regularizers.l2(0.001), activation = 'sigmoid'),\n",
        "  layers.Dense(10, activation = 'softmax')\n",
        "])\n",
        "model_5_1.summary()"
      ],
      "metadata": {
        "colab": {
          "base_uri": "https://localhost:8080/"
        },
        "id": "UK2ADiD2wgmX",
        "outputId": "1e7964df-9a26-4df3-b3d6-4440edc26623"
      },
      "execution_count": 33,
      "outputs": [
        {
          "output_type": "stream",
          "name": "stdout",
          "text": [
            "Model: \"sequential_4\"\n",
            "_________________________________________________________________\n",
            " Layer (type)                Output Shape              Param #   \n",
            "=================================================================\n",
            " conv2d_12 (Conv2D)          (None, 26, 26, 128)       1280      \n",
            "                                                                 \n",
            " max_pooling2d_8 (MaxPooling  (None, 13, 13, 128)      0         \n",
            " 2D)                                                             \n",
            "                                                                 \n",
            " conv2d_13 (Conv2D)          (None, 11, 11, 64)        73792     \n",
            "                                                                 \n",
            " max_pooling2d_9 (MaxPooling  (None, 5, 5, 64)         0         \n",
            " 2D)                                                             \n",
            "                                                                 \n",
            " conv2d_14 (Conv2D)          (None, 3, 3, 32)          18464     \n",
            "                                                                 \n",
            " flatten_4 (Flatten)         (None, 288)               0         \n",
            "                                                                 \n",
            " dense_8 (Dense)             (None, 64)                18496     \n",
            "                                                                 \n",
            " dense_9 (Dense)             (None, 10)                650       \n",
            "                                                                 \n",
            "=================================================================\n",
            "Total params: 112,682\n",
            "Trainable params: 112,682\n",
            "Non-trainable params: 0\n",
            "_________________________________________________________________\n"
          ]
        }
      ]
    },
    {
      "cell_type": "code",
      "source": [
        "model_5_1.compile(optimizer=\"adam\", loss=\"categorical_crossentropy\", metrics=[\"accuracy\"])"
      ],
      "metadata": {
        "id": "HLmTMoSdwgmX"
      },
      "execution_count": 34,
      "outputs": []
    },
    {
      "cell_type": "code",
      "source": [
        "hist_5_1 = model_5_1.fit(train_imgs, train_labels, epochs=30, batch_size=64, validation_split=0.2)"
      ],
      "metadata": {
        "colab": {
          "base_uri": "https://localhost:8080/"
        },
        "outputId": "d635b358-37a5-4243-a3ce-57f5860d8a22",
        "id": "rqrRRLfvwgmX"
      },
      "execution_count": 35,
      "outputs": [
        {
          "output_type": "stream",
          "name": "stdout",
          "text": [
            "Epoch 1/30\n",
            "750/750 [==============================] - 5s 6ms/step - loss: 0.4877 - accuracy: 0.9157 - val_loss: 0.2404 - val_accuracy: 0.9705\n",
            "Epoch 2/30\n",
            "750/750 [==============================] - 4s 6ms/step - loss: 0.2065 - accuracy: 0.9737 - val_loss: 0.1744 - val_accuracy: 0.9800\n",
            "Epoch 3/30\n",
            "750/750 [==============================] - 4s 6ms/step - loss: 0.1667 - accuracy: 0.9794 - val_loss: 0.1687 - val_accuracy: 0.9740\n",
            "Epoch 4/30\n",
            "750/750 [==============================] - 4s 6ms/step - loss: 0.1440 - accuracy: 0.9823 - val_loss: 0.1472 - val_accuracy: 0.9794\n",
            "Epoch 5/30\n",
            "750/750 [==============================] - 4s 6ms/step - loss: 0.1338 - accuracy: 0.9829 - val_loss: 0.1467 - val_accuracy: 0.9769\n",
            "Epoch 6/30\n",
            "750/750 [==============================] - 4s 6ms/step - loss: 0.1292 - accuracy: 0.9830 - val_loss: 0.1303 - val_accuracy: 0.9826\n",
            "Epoch 7/30\n",
            "750/750 [==============================] - 4s 6ms/step - loss: 0.1221 - accuracy: 0.9838 - val_loss: 0.1337 - val_accuracy: 0.9783\n",
            "Epoch 8/30\n",
            "750/750 [==============================] - 4s 6ms/step - loss: 0.1176 - accuracy: 0.9847 - val_loss: 0.1168 - val_accuracy: 0.9852\n",
            "Epoch 9/30\n",
            "750/750 [==============================] - 4s 6ms/step - loss: 0.1154 - accuracy: 0.9849 - val_loss: 0.1170 - val_accuracy: 0.9833\n",
            "Epoch 10/30\n",
            "750/750 [==============================] - 4s 6ms/step - loss: 0.1123 - accuracy: 0.9856 - val_loss: 0.1151 - val_accuracy: 0.9852\n",
            "Epoch 11/30\n",
            "750/750 [==============================] - 4s 6ms/step - loss: 0.1095 - accuracy: 0.9860 - val_loss: 0.1177 - val_accuracy: 0.9831\n",
            "Epoch 12/30\n",
            "750/750 [==============================] - 4s 6ms/step - loss: 0.1057 - accuracy: 0.9862 - val_loss: 0.1134 - val_accuracy: 0.9847\n",
            "Epoch 13/30\n",
            "750/750 [==============================] - 4s 6ms/step - loss: 0.1042 - accuracy: 0.9869 - val_loss: 0.1232 - val_accuracy: 0.9809\n",
            "Epoch 14/30\n",
            "750/750 [==============================] - 4s 6ms/step - loss: 0.1044 - accuracy: 0.9865 - val_loss: 0.1167 - val_accuracy: 0.9822\n",
            "Epoch 15/30\n",
            "750/750 [==============================] - 4s 6ms/step - loss: 0.1026 - accuracy: 0.9866 - val_loss: 0.1070 - val_accuracy: 0.9859\n",
            "Epoch 16/30\n",
            "750/750 [==============================] - 4s 6ms/step - loss: 0.1017 - accuracy: 0.9870 - val_loss: 0.1069 - val_accuracy: 0.9853\n",
            "Epoch 17/30\n",
            "750/750 [==============================] - 4s 6ms/step - loss: 0.0994 - accuracy: 0.9873 - val_loss: 0.1092 - val_accuracy: 0.9843\n",
            "Epoch 18/30\n",
            "750/750 [==============================] - 4s 6ms/step - loss: 0.0993 - accuracy: 0.9871 - val_loss: 0.1086 - val_accuracy: 0.9847\n",
            "Epoch 19/30\n",
            "750/750 [==============================] - 4s 6ms/step - loss: 0.0977 - accuracy: 0.9878 - val_loss: 0.1084 - val_accuracy: 0.9831\n",
            "Epoch 20/30\n",
            "750/750 [==============================] - 4s 6ms/step - loss: 0.0971 - accuracy: 0.9871 - val_loss: 0.1097 - val_accuracy: 0.9843\n",
            "Epoch 21/30\n",
            "750/750 [==============================] - 4s 6ms/step - loss: 0.0971 - accuracy: 0.9874 - val_loss: 0.1058 - val_accuracy: 0.9858\n",
            "Epoch 22/30\n",
            "750/750 [==============================] - 4s 6ms/step - loss: 0.0957 - accuracy: 0.9878 - val_loss: 0.1053 - val_accuracy: 0.9846\n",
            "Epoch 23/30\n",
            "750/750 [==============================] - 4s 6ms/step - loss: 0.0950 - accuracy: 0.9879 - val_loss: 0.1035 - val_accuracy: 0.9853\n",
            "Epoch 24/30\n",
            "750/750 [==============================] - 4s 6ms/step - loss: 0.0940 - accuracy: 0.9877 - val_loss: 0.1115 - val_accuracy: 0.9829\n",
            "Epoch 25/30\n",
            "750/750 [==============================] - 4s 6ms/step - loss: 0.0926 - accuracy: 0.9883 - val_loss: 0.1068 - val_accuracy: 0.9836\n",
            "Epoch 26/30\n",
            "750/750 [==============================] - 4s 6ms/step - loss: 0.0930 - accuracy: 0.9879 - val_loss: 0.1101 - val_accuracy: 0.9833\n",
            "Epoch 27/30\n",
            "750/750 [==============================] - 4s 6ms/step - loss: 0.0916 - accuracy: 0.9885 - val_loss: 0.1023 - val_accuracy: 0.9857\n",
            "Epoch 28/30\n",
            "750/750 [==============================] - 4s 6ms/step - loss: 0.0907 - accuracy: 0.9884 - val_loss: 0.0987 - val_accuracy: 0.9870\n",
            "Epoch 29/30\n",
            "750/750 [==============================] - 4s 6ms/step - loss: 0.0907 - accuracy: 0.9881 - val_loss: 0.0982 - val_accuracy: 0.9863\n",
            "Epoch 30/30\n",
            "750/750 [==============================] - 4s 6ms/step - loss: 0.0918 - accuracy: 0.9881 - val_loss: 0.1020 - val_accuracy: 0.9858\n"
          ]
        }
      ]
    },
    {
      "cell_type": "code",
      "source": [
        "acc = hist_5_1.history['accuracy']\n",
        "val_acc = hist_5_1.history['val_accuracy']\n",
        "loss = hist_5_1.history['loss']\n",
        "val_loss = hist_5_1.history['val_loss']\n",
        "\n",
        "epochs = range(1, len(acc)+1)\n",
        "\n",
        "plt.figure(figsize=(8, 12))\n",
        "ax1=plt.subplot(2, 1, 1)\n",
        "ax2=plt.subplot(2, 1, 2)\n",
        "ax1.plot(epochs, acc, 'bo', label='Trainig acc')\n",
        "ax1.plot(epochs, val_acc, 'b', label='Validation acc')\n",
        "ax1.set_title(\"Training and Validation accuracy\")\n",
        "ax1.legend()\n",
        "ax2.plot(epochs, loss, 'bo', label='Traning loss')\n",
        "ax2.plot(epochs, val_loss, 'b', label='Validation loss')\n",
        "ax2.set_title(\"Training and Validation loss\")\n",
        "ax2.legend()\n",
        "plt.show()"
      ],
      "metadata": {
        "colab": {
          "base_uri": "https://localhost:8080/",
          "height": 716
        },
        "outputId": "9d22a4d9-a3be-41d0-8b39-e8c321baedeb",
        "id": "vMlVTlUjwgmY"
      },
      "execution_count": 36,
      "outputs": [
        {
          "output_type": "display_data",
          "data": {
            "text/plain": [
              "<Figure size 576x864 with 2 Axes>"
            ],
            "image/png": "[encoded data removed]"
          },
          "metadata": {
            "needs_background": "light"
          }
        }
      ]
    },
    {
      "cell_type": "code",
      "source": [
        "model_5_1.evaluate(test_imgs, test_labels)"
      ],
      "metadata": {
        "colab": {
          "base_uri": "https://localhost:8080/"
        },
        "outputId": "53b8b5a1-2d1b-4c4c-d867-b0cf84624a81",
        "id": "OAJNeUX6wgmY"
      },
      "execution_count": 37,
      "outputs": [
        {
          "output_type": "stream",
          "name": "stdout",
          "text": [
            "313/313 [==============================] - 1s 3ms/step - loss: 0.0900 - accuracy: 0.9884\n"
          ]
        },
        {
          "output_type": "execute_result",
          "data": {
            "text/plain": [
              "[0.09000468254089355, 0.9883999824523926]"
            ]
          },
          "metadata": {},
          "execution_count": 37
        }
      ]
    },
    {
      "cell_type": "markdown",
      "source": [
        "### RMSProp"
      ],
      "metadata": {
        "id": "Hiy5ia852VlL"
      }
    },
    {
      "cell_type": "code",
      "source": [
        "model_5_2 = keras.Sequential([\n",
        "  layers.Conv2D(128, (3, 3), kernel_regularizer=regularizers.l2(0.001), activation='relu', input_shape=(28, 28, 1)),\n",
        "  layers.MaxPooling2D((2, 2)),\n",
        "  layers.Conv2D(64, (3, 3), kernel_regularizer=regularizers.l2(0.001), activation='relu'),\n",
        "  layers.MaxPooling2D((2, 2)),\n",
        "  layers.Conv2D(32, (3, 3), kernel_regularizer=regularizers.l2(0.001), activation='relu'),\n",
        "  layers.Flatten(),\n",
        "  layers.Dense(64, kernel_regularizer=regularizers.l2(0.001), activation = 'sigmoid'),\n",
        "  layers.Dense(10, activation = 'softmax')\n",
        "])\n",
        "model_5_2.summary()"
      ],
      "metadata": {
        "colab": {
          "base_uri": "https://localhost:8080/"
        },
        "id": "Crg9vmDjwgmZ",
        "outputId": "3c23c31c-17d5-4eea-aba0-a90e79895205"
      },
      "execution_count": 38,
      "outputs": [
        {
          "output_type": "stream",
          "name": "stdout",
          "text": [
            "Model: \"sequential_5\"\n",
            "_________________________________________________________________\n",
            " Layer (type)                Output Shape              Param #   \n",
            "=================================================================\n",
            " conv2d_15 (Conv2D)          (None, 26, 26, 128)       1280      \n",
            "                                                                 \n",
            " max_pooling2d_10 (MaxPoolin  (None, 13, 13, 128)      0         \n",
            " g2D)                                                            \n",
            "                                                                 \n",
            " conv2d_16 (Conv2D)          (None, 11, 11, 64)        73792     \n",
            "                                                                 \n",
            " max_pooling2d_11 (MaxPoolin  (None, 5, 5, 64)         0         \n",
            " g2D)                                                            \n",
            "                                                                 \n",
            " conv2d_17 (Conv2D)          (None, 3, 3, 32)          18464     \n",
            "                                                                 \n",
            " flatten_5 (Flatten)         (None, 288)               0         \n",
            "                                                                 \n",
            " dense_10 (Dense)            (None, 64)                18496     \n",
            "                                                                 \n",
            " dense_11 (Dense)            (None, 10)                650       \n",
            "                                                                 \n",
            "=================================================================\n",
            "Total params: 112,682\n",
            "Trainable params: 112,682\n",
            "Non-trainable params: 0\n",
            "_________________________________________________________________\n"
          ]
        }
      ]
    },
    {
      "cell_type": "code",
      "source": [
        "model_5_2.compile(optimizer=\"rmsprop\", loss=\"categorical_crossentropy\", metrics=[\"accuracy\"])"
      ],
      "metadata": {
        "id": "Bj4pFRywwgmZ"
      },
      "execution_count": 39,
      "outputs": []
    },
    {
      "cell_type": "code",
      "source": [
        "hist_5_2 = model_5_2.fit(train_imgs, train_labels, epochs=30, batch_size=64, validation_split=0.2)"
      ],
      "metadata": {
        "colab": {
          "base_uri": "https://localhost:8080/"
        },
        "outputId": "41ea9ae6-5436-4907-bc5c-96f8797d4c9d",
        "id": "w4paStFXwgmZ"
      },
      "execution_count": 40,
      "outputs": [
        {
          "output_type": "stream",
          "name": "stdout",
          "text": [
            "Epoch 1/30\n",
            "750/750 [==============================] - 5s 6ms/step - loss: 0.4680 - accuracy: 0.9181 - val_loss: 0.2234 - val_accuracy: 0.9727\n",
            "Epoch 2/30\n",
            "750/750 [==============================] - 4s 6ms/step - loss: 0.1959 - accuracy: 0.9725 - val_loss: 0.1956 - val_accuracy: 0.9688\n",
            "Epoch 3/30\n",
            "750/750 [==============================] - 4s 6ms/step - loss: 0.1570 - accuracy: 0.9786 - val_loss: 0.1387 - val_accuracy: 0.9812\n",
            "Epoch 4/30\n",
            "750/750 [==============================] - 4s 6ms/step - loss: 0.1399 - accuracy: 0.9802 - val_loss: 0.1267 - val_accuracy: 0.9837\n",
            "Epoch 5/30\n",
            "750/750 [==============================] - 4s 6ms/step - loss: 0.1292 - accuracy: 0.9814 - val_loss: 0.1306 - val_accuracy: 0.9803\n",
            "Epoch 6/30\n",
            "750/750 [==============================] - 5s 6ms/step - loss: 0.1228 - accuracy: 0.9825 - val_loss: 0.1258 - val_accuracy: 0.9822\n",
            "Epoch 7/30\n",
            "750/750 [==============================] - 5s 6ms/step - loss: 0.1184 - accuracy: 0.9826 - val_loss: 0.1264 - val_accuracy: 0.9806\n",
            "Epoch 8/30\n",
            "750/750 [==============================] - 4s 6ms/step - loss: 0.1149 - accuracy: 0.9839 - val_loss: 0.1282 - val_accuracy: 0.9791\n",
            "Epoch 9/30\n",
            "750/750 [==============================] - 4s 6ms/step - loss: 0.1117 - accuracy: 0.9839 - val_loss: 0.1121 - val_accuracy: 0.9855\n",
            "Epoch 10/30\n",
            "750/750 [==============================] - 4s 6ms/step - loss: 0.1094 - accuracy: 0.9849 - val_loss: 0.1085 - val_accuracy: 0.9851\n",
            "Epoch 11/30\n",
            "750/750 [==============================] - 5s 6ms/step - loss: 0.1069 - accuracy: 0.9852 - val_loss: 0.1164 - val_accuracy: 0.9818\n",
            "Epoch 12/30\n",
            "750/750 [==============================] - 4s 6ms/step - loss: 0.1047 - accuracy: 0.9856 - val_loss: 0.1141 - val_accuracy: 0.9826\n",
            "Epoch 13/30\n",
            "750/750 [==============================] - 4s 6ms/step - loss: 0.1033 - accuracy: 0.9855 - val_loss: 0.1052 - val_accuracy: 0.9853\n",
            "Epoch 14/30\n",
            "750/750 [==============================] - 5s 6ms/step - loss: 0.1019 - accuracy: 0.9862 - val_loss: 0.1099 - val_accuracy: 0.9827\n",
            "Epoch 15/30\n",
            "750/750 [==============================] - 4s 6ms/step - loss: 0.1012 - accuracy: 0.9846 - val_loss: 0.1078 - val_accuracy: 0.9837\n",
            "Epoch 16/30\n",
            "750/750 [==============================] - 4s 6ms/step - loss: 0.0995 - accuracy: 0.9859 - val_loss: 0.1062 - val_accuracy: 0.9837\n",
            "Epoch 17/30\n",
            "750/750 [==============================] - 4s 6ms/step - loss: 0.0983 - accuracy: 0.9863 - val_loss: 0.1006 - val_accuracy: 0.9850\n",
            "Epoch 18/30\n",
            "750/750 [==============================] - 5s 6ms/step - loss: 0.0972 - accuracy: 0.9862 - val_loss: 0.1045 - val_accuracy: 0.9837\n",
            "Epoch 19/30\n",
            "750/750 [==============================] - 4s 6ms/step - loss: 0.0961 - accuracy: 0.9870 - val_loss: 0.1054 - val_accuracy: 0.9832\n",
            "Epoch 20/30\n",
            "750/750 [==============================] - 5s 6ms/step - loss: 0.0951 - accuracy: 0.9865 - val_loss: 0.1048 - val_accuracy: 0.9850\n",
            "Epoch 21/30\n",
            "750/750 [==============================] - 4s 6ms/step - loss: 0.0945 - accuracy: 0.9866 - val_loss: 0.1092 - val_accuracy: 0.9829\n",
            "Epoch 22/30\n",
            "750/750 [==============================] - 5s 6ms/step - loss: 0.0933 - accuracy: 0.9872 - val_loss: 0.1004 - val_accuracy: 0.9864\n",
            "Epoch 23/30\n",
            "750/750 [==============================] - 4s 6ms/step - loss: 0.0924 - accuracy: 0.9875 - val_loss: 0.1010 - val_accuracy: 0.9854\n",
            "Epoch 24/30\n",
            "750/750 [==============================] - 4s 6ms/step - loss: 0.0914 - accuracy: 0.9875 - val_loss: 0.1013 - val_accuracy: 0.9853\n",
            "Epoch 25/30\n",
            "750/750 [==============================] - 5s 6ms/step - loss: 0.0930 - accuracy: 0.9869 - val_loss: 0.0943 - val_accuracy: 0.9864\n",
            "Epoch 26/30\n",
            "750/750 [==============================] - 5s 6ms/step - loss: 0.0911 - accuracy: 0.9878 - val_loss: 0.0983 - val_accuracy: 0.9847\n",
            "Epoch 27/30\n",
            "750/750 [==============================] - 5s 6ms/step - loss: 0.0912 - accuracy: 0.9875 - val_loss: 0.1150 - val_accuracy: 0.9804\n",
            "Epoch 28/30\n",
            "750/750 [==============================] - 5s 6ms/step - loss: 0.0902 - accuracy: 0.9879 - val_loss: 0.0982 - val_accuracy: 0.9855\n",
            "Epoch 29/30\n",
            "750/750 [==============================] - 5s 6ms/step - loss: 0.0909 - accuracy: 0.9869 - val_loss: 0.0897 - val_accuracy: 0.9886\n",
            "Epoch 30/30\n",
            "750/750 [==============================] - 4s 6ms/step - loss: 0.0892 - accuracy: 0.9874 - val_loss: 0.0958 - val_accuracy: 0.9860\n"
          ]
        }
      ]
    },
    {
      "cell_type": "code",
      "source": [
        "acc = hist_5_2.history['accuracy']\n",
        "val_acc = hist_5_2.history['val_accuracy']\n",
        "loss = hist_5_2.history['loss']\n",
        "val_loss = hist_5_2.history['val_loss']\n",
        "\n",
        "epochs = range(1, len(acc)+1)\n",
        "\n",
        "plt.figure(figsize=(8, 12))\n",
        "ax1=plt.subplot(2, 1, 1)\n",
        "ax2=plt.subplot(2, 1, 2)\n",
        "ax1.plot(epochs, acc, 'bo', label='Trainig acc')\n",
        "ax1.plot(epochs, val_acc, 'b', label='Validation acc')\n",
        "ax1.set_title(\"Training and Validation accuracy\")\n",
        "ax1.legend()\n",
        "ax2.plot(epochs, loss, 'bo', label='Traning loss')\n",
        "ax2.plot(epochs, val_loss, 'b', label='Validation loss')\n",
        "ax2.set_title(\"Training and Validation loss\")\n",
        "ax2.legend()\n",
        "plt.show()"
      ],
      "metadata": {
        "colab": {
          "base_uri": "https://localhost:8080/",
          "height": 716
        },
        "outputId": "29329aa2-3dda-40f1-8895-393bf8eb1c61",
        "id": "kwvx2N5lwgma"
      },
      "execution_count": 41,
      "outputs": [
        {
          "output_type": "display_data",
          "data": {
            "text/plain": [
              "<Figure size 576x864 with 2 Axes>"
            ],
            "image/png": "[encoded data removed]"
          },
          "metadata": {
            "needs_background": "light"
          }
        }
      ]
    },
    {
      "cell_type": "code",
      "source": [
        "model_5_2.evaluate(test_imgs, test_labels)"
      ],
      "metadata": {
        "colab": {
          "base_uri": "https://localhost:8080/"
        },
        "outputId": "206551d2-0670-40a4-ac6d-4187f8d39539",
        "id": "8e0uz978wgma"
      },
      "execution_count": 42,
      "outputs": [
        {
          "output_type": "stream",
          "name": "stdout",
          "text": [
            "313/313 [==============================] - 1s 3ms/step - loss: 0.0897 - accuracy: 0.9874\n"
          ]
        },
        {
          "output_type": "execute_result",
          "data": {
            "text/plain": [
              "[0.08974717557430267, 0.9873999953269958]"
            ]
          },
          "metadata": {},
          "execution_count": 42
        }
      ]
    },
    {
      "cell_type": "markdown",
      "source": [
        "### __try06 드롭아웃 추가(Dropout)__"
      ],
      "metadata": {
        "id": "eSYZSG4exvPe"
      }
    },
    {
      "cell_type": "markdown",
      "source": [
        "### SGD"
      ],
      "metadata": {
        "id": "RQkXgiiw2zFu"
      }
    },
    {
      "cell_type": "code",
      "source": [
        "model_6 = keras.Sequential([\n",
        "  layers.Conv2D(128, (3, 3), activation='relu', input_shape=(28, 28, 1)),\n",
        "  layers.MaxPooling2D((2, 2)),\n",
        "  layers.Conv2D(64, (3, 3), activation='relu'),\n",
        "  layers.Dropout(0.5),\n",
        "  layers.MaxPooling2D((2, 2)),\n",
        "  layers.Conv2D(32, (3, 3), activation='relu'),\n",
        "  layers.Dropout(0.2),\n",
        "  layers.Flatten(),\n",
        "  layers.Dense(64, activation = 'relu'),\n",
        "  layers.Dense(10, activation = 'softmax')\n",
        "])\n",
        "model_6.summary()"
      ],
      "metadata": {
        "colab": {
          "base_uri": "https://localhost:8080/"
        },
        "outputId": "ace8ccd8-26a1-4fc4-f361-60176eb93da2",
        "id": "vei04AITxvPw"
      },
      "execution_count": 43,
      "outputs": [
        {
          "output_type": "stream",
          "name": "stdout",
          "text": [
            "Model: \"sequential_6\"\n",
            "_________________________________________________________________\n",
            " Layer (type)                Output Shape              Param #   \n",
            "=================================================================\n",
            " conv2d_18 (Conv2D)          (None, 26, 26, 128)       1280      \n",
            "                                                                 \n",
            " max_pooling2d_12 (MaxPoolin  (None, 13, 13, 128)      0         \n",
            " g2D)                                                            \n",
            "                                                                 \n",
            " conv2d_19 (Conv2D)          (None, 11, 11, 64)        73792     \n",
            "                                                                 \n",
            " dropout (Dropout)           (None, 11, 11, 64)        0         \n",
            "                                                                 \n",
            " max_pooling2d_13 (MaxPoolin  (None, 5, 5, 64)         0         \n",
            " g2D)                                                            \n",
            "                                                                 \n",
            " conv2d_20 (Conv2D)          (None, 3, 3, 32)          18464     \n",
            "                                                                 \n",
            " dropout_1 (Dropout)         (None, 3, 3, 32)          0         \n",
            "                                                                 \n",
            " flatten_6 (Flatten)         (None, 288)               0         \n",
            "                                                                 \n",
            " dense_12 (Dense)            (None, 64)                18496     \n",
            "                                                                 \n",
            " dense_13 (Dense)            (None, 10)                650       \n",
            "                                                                 \n",
            "=================================================================\n",
            "Total params: 112,682\n",
            "Trainable params: 112,682\n",
            "Non-trainable params: 0\n",
            "_________________________________________________________________\n"
          ]
        }
      ]
    },
    {
      "cell_type": "code",
      "source": [
        "model_6.compile(optimizer=\"SGD\", loss=\"categorical_crossentropy\", metrics=[\"accuracy\"])"
      ],
      "metadata": {
        "id": "7_DIYmXNxvPx"
      },
      "execution_count": 44,
      "outputs": []
    },
    {
      "cell_type": "code",
      "source": [
        "hist_6 = model_6.fit(train_imgs, train_labels, epochs=30, batch_size=64, validation_split=0.2)"
      ],
      "metadata": {
        "colab": {
          "base_uri": "https://localhost:8080/"
        },
        "outputId": "a9399d8a-28c0-4332-89b3-ffda7d42bfaf",
        "id": "tW5PIAqmxvPx"
      },
      "execution_count": 45,
      "outputs": [
        {
          "output_type": "stream",
          "name": "stdout",
          "text": [
            "Epoch 1/30\n",
            "750/750 [==============================] - 5s 6ms/step - loss: 0.9619 - accuracy: 0.6826 - val_loss: 0.4295 - val_accuracy: 0.9178\n",
            "Epoch 2/30\n",
            "750/750 [==============================] - 4s 6ms/step - loss: 0.3362 - accuracy: 0.8949 - val_loss: 0.2515 - val_accuracy: 0.9482\n",
            "Epoch 3/30\n",
            "750/750 [==============================] - 4s 6ms/step - loss: 0.2362 - accuracy: 0.9271 - val_loss: 0.1865 - val_accuracy: 0.9598\n",
            "Epoch 4/30\n",
            "750/750 [==============================] - 4s 6ms/step - loss: 0.1936 - accuracy: 0.9397 - val_loss: 0.1578 - val_accuracy: 0.9657\n",
            "Epoch 5/30\n",
            "750/750 [==============================] - 4s 6ms/step - loss: 0.1670 - accuracy: 0.9484 - val_loss: 0.1365 - val_accuracy: 0.9714\n",
            "Epoch 6/30\n",
            "750/750 [==============================] - 4s 6ms/step - loss: 0.1477 - accuracy: 0.9544 - val_loss: 0.1235 - val_accuracy: 0.9730\n",
            "Epoch 7/30\n",
            "750/750 [==============================] - 4s 6ms/step - loss: 0.1359 - accuracy: 0.9575 - val_loss: 0.1099 - val_accuracy: 0.9761\n",
            "Epoch 8/30\n",
            "750/750 [==============================] - 4s 6ms/step - loss: 0.1236 - accuracy: 0.9606 - val_loss: 0.1064 - val_accuracy: 0.9755\n",
            "Epoch 9/30\n",
            "750/750 [==============================] - 4s 6ms/step - loss: 0.1149 - accuracy: 0.9639 - val_loss: 0.0989 - val_accuracy: 0.9783\n",
            "Epoch 10/30\n",
            "750/750 [==============================] - 4s 6ms/step - loss: 0.1102 - accuracy: 0.9659 - val_loss: 0.0955 - val_accuracy: 0.9798\n",
            "Epoch 11/30\n",
            "750/750 [==============================] - 4s 6ms/step - loss: 0.1013 - accuracy: 0.9688 - val_loss: 0.0829 - val_accuracy: 0.9811\n",
            "Epoch 12/30\n",
            "750/750 [==============================] - 4s 6ms/step - loss: 0.0985 - accuracy: 0.9694 - val_loss: 0.0825 - val_accuracy: 0.9818\n",
            "Epoch 13/30\n",
            "750/750 [==============================] - 4s 6ms/step - loss: 0.0906 - accuracy: 0.9718 - val_loss: 0.0772 - val_accuracy: 0.9833\n",
            "Epoch 14/30\n",
            "750/750 [==============================] - 4s 6ms/step - loss: 0.0877 - accuracy: 0.9732 - val_loss: 0.0755 - val_accuracy: 0.9833\n",
            "Epoch 15/30\n",
            "750/750 [==============================] - 4s 6ms/step - loss: 0.0848 - accuracy: 0.9735 - val_loss: 0.0730 - val_accuracy: 0.9837\n",
            "Epoch 16/30\n",
            "750/750 [==============================] - 4s 6ms/step - loss: 0.0809 - accuracy: 0.9748 - val_loss: 0.0673 - val_accuracy: 0.9848\n",
            "Epoch 17/30\n",
            "750/750 [==============================] - 4s 6ms/step - loss: 0.0788 - accuracy: 0.9753 - val_loss: 0.0676 - val_accuracy: 0.9852\n",
            "Epoch 18/30\n",
            "750/750 [==============================] - 4s 6ms/step - loss: 0.0764 - accuracy: 0.9755 - val_loss: 0.0641 - val_accuracy: 0.9845\n",
            "Epoch 19/30\n",
            "750/750 [==============================] - 4s 6ms/step - loss: 0.0715 - accuracy: 0.9775 - val_loss: 0.0618 - val_accuracy: 0.9858\n",
            "Epoch 20/30\n",
            "750/750 [==============================] - 4s 6ms/step - loss: 0.0721 - accuracy: 0.9768 - val_loss: 0.0609 - val_accuracy: 0.9857\n",
            "Epoch 21/30\n",
            "750/750 [==============================] - 4s 6ms/step - loss: 0.0700 - accuracy: 0.9775 - val_loss: 0.0583 - val_accuracy: 0.9864\n",
            "Epoch 22/30\n",
            "750/750 [==============================] - 4s 6ms/step - loss: 0.0690 - accuracy: 0.9783 - val_loss: 0.0604 - val_accuracy: 0.9862\n",
            "Epoch 23/30\n",
            "750/750 [==============================] - 4s 6ms/step - loss: 0.0658 - accuracy: 0.9791 - val_loss: 0.0570 - val_accuracy: 0.9857\n",
            "Epoch 24/30\n",
            "750/750 [==============================] - 4s 6ms/step - loss: 0.0640 - accuracy: 0.9795 - val_loss: 0.0564 - val_accuracy: 0.9877\n",
            "Epoch 25/30\n",
            "750/750 [==============================] - 4s 6ms/step - loss: 0.0622 - accuracy: 0.9806 - val_loss: 0.0586 - val_accuracy: 0.9862\n",
            "Epoch 26/30\n",
            "750/750 [==============================] - 4s 6ms/step - loss: 0.0620 - accuracy: 0.9803 - val_loss: 0.0536 - val_accuracy: 0.9882\n",
            "Epoch 27/30\n",
            "750/750 [==============================] - 4s 6ms/step - loss: 0.0603 - accuracy: 0.9813 - val_loss: 0.0512 - val_accuracy: 0.9884\n",
            "Epoch 28/30\n",
            "750/750 [==============================] - 4s 6ms/step - loss: 0.0585 - accuracy: 0.9814 - val_loss: 0.0503 - val_accuracy: 0.9887\n",
            "Epoch 29/30\n",
            "750/750 [==============================] - 4s 6ms/step - loss: 0.0562 - accuracy: 0.9823 - val_loss: 0.0520 - val_accuracy: 0.9884\n",
            "Epoch 30/30\n",
            "750/750 [==============================] - 4s 6ms/step - loss: 0.0560 - accuracy: 0.9827 - val_loss: 0.0505 - val_accuracy: 0.9882\n"
          ]
        }
      ]
    },
    {
      "cell_type": "code",
      "source": [
        "acc = hist_6.history['accuracy']\n",
        "val_acc = hist_6.history['val_accuracy']\n",
        "loss = hist_6.history['loss']\n",
        "val_loss = hist_6.history['val_loss']\n",
        "\n",
        "epochs = range(1, len(acc)+1)\n",
        "\n",
        "plt.figure(figsize=(8, 12))\n",
        "ax1=plt.subplot(2, 1, 1)\n",
        "ax2=plt.subplot(2, 1, 2)\n",
        "ax1.plot(epochs, acc, 'bo', label='Trainig acc')\n",
        "ax1.plot(epochs, val_acc, 'b', label='Validation acc')\n",
        "ax1.set_title(\"Training and Validation accuracy\")\n",
        "ax1.legend()\n",
        "ax2.plot(epochs, loss, 'bo', label='Traning loss')\n",
        "ax2.plot(epochs, val_loss, 'b', label='Validation loss')\n",
        "ax2.set_title(\"Training and Validation loss\")\n",
        "ax2.legend()\n",
        "plt.show()"
      ],
      "metadata": {
        "colab": {
          "base_uri": "https://localhost:8080/",
          "height": 716
        },
        "outputId": "88c63038-fbc0-460f-9208-09dc9db53bf0",
        "id": "oIBtQ6rxxvPy"
      },
      "execution_count": 46,
      "outputs": [
        {
          "output_type": "display_data",
          "data": {
            "text/plain": [
              "<Figure size 576x864 with 2 Axes>"
            ],
            "image/png": "[encoded data removed]"
          },
          "metadata": {
            "needs_background": "light"
          }
        }
      ]
    },
    {
      "cell_type": "code",
      "source": [
        "model_6.evaluate(test_imgs, test_labels)"
      ],
      "metadata": {
        "colab": {
          "base_uri": "https://localhost:8080/"
        },
        "outputId": "a4e5a142-1258-4ddb-f74e-b4110b8c8af3",
        "id": "tLf67LQJxvPy"
      },
      "execution_count": 47,
      "outputs": [
        {
          "output_type": "stream",
          "name": "stdout",
          "text": [
            "313/313 [==============================] - 1s 3ms/step - loss: 0.0452 - accuracy: 0.9889\n"
          ]
        },
        {
          "output_type": "execute_result",
          "data": {
            "text/plain": [
              "[0.04516183212399483, 0.9889000058174133]"
            ]
          },
          "metadata": {},
          "execution_count": 47
        }
      ]
    },
    {
      "cell_type": "markdown",
      "source": [
        "### Adam"
      ],
      "metadata": {
        "id": "nWgFyoGf23Wv"
      }
    },
    {
      "cell_type": "code",
      "source": [
        "model_6_1 = keras.Sequential([\n",
        "  layers.Conv2D(128, (3, 3), activation='relu', input_shape=(28, 28, 1)),\n",
        "  layers.MaxPooling2D((2, 2)),\n",
        "  layers.Conv2D(64, (3, 3), activation='relu'),\n",
        "  layers.Dropout(0.5),\n",
        "  layers.MaxPooling2D((2, 2)),\n",
        "  layers.Conv2D(32, (3, 3), activation='relu'),\n",
        "  layers.Dropout(0.2),\n",
        "  layers.Flatten(),\n",
        "  layers.Dense(64, activation = 'sigmoid'),\n",
        "  layers.Dense(10, activation = 'softmax')\n",
        "])\n",
        "model_6_1.summary()"
      ],
      "metadata": {
        "colab": {
          "base_uri": "https://localhost:8080/"
        },
        "id": "dcD1D6eexvPz",
        "outputId": "ed847491-e7b7-408a-8e34-b1d8ee264247"
      },
      "execution_count": 48,
      "outputs": [
        {
          "output_type": "stream",
          "name": "stdout",
          "text": [
            "Model: \"sequential_7\"\n",
            "_________________________________________________________________\n",
            " Layer (type)                Output Shape              Param #   \n",
            "=================================================================\n",
            " conv2d_21 (Conv2D)          (None, 26, 26, 128)       1280      \n",
            "                                                                 \n",
            " max_pooling2d_14 (MaxPoolin  (None, 13, 13, 128)      0         \n",
            " g2D)                                                            \n",
            "                                                                 \n",
            " conv2d_22 (Conv2D)          (None, 11, 11, 64)        73792     \n",
            "                                                                 \n",
            " dropout_2 (Dropout)         (None, 11, 11, 64)        0         \n",
            "                                                                 \n",
            " max_pooling2d_15 (MaxPoolin  (None, 5, 5, 64)         0         \n",
            " g2D)                                                            \n",
            "                                                                 \n",
            " conv2d_23 (Conv2D)          (None, 3, 3, 32)          18464     \n",
            "                                                                 \n",
            " dropout_3 (Dropout)         (None, 3, 3, 32)          0         \n",
            "                                                                 \n",
            " flatten_7 (Flatten)         (None, 288)               0         \n",
            "                                                                 \n",
            " dense_14 (Dense)            (None, 64)                18496     \n",
            "                                                                 \n",
            " dense_15 (Dense)            (None, 10)                650       \n",
            "                                                                 \n",
            "=================================================================\n",
            "Total params: 112,682\n",
            "Trainable params: 112,682\n",
            "Non-trainable params: 0\n",
            "_________________________________________________________________\n"
          ]
        }
      ]
    },
    {
      "cell_type": "code",
      "source": [
        "model_6_1.compile(optimizer=\"adam\", loss=\"categorical_crossentropy\", metrics=[\"accuracy\"])"
      ],
      "metadata": {
        "id": "fcVANtpoxvPz"
      },
      "execution_count": 49,
      "outputs": []
    },
    {
      "cell_type": "code",
      "source": [
        "hist_6_1 = model_6_1.fit(train_imgs, train_labels, epochs=30, batch_size=64, validation_split=0.2)"
      ],
      "metadata": {
        "colab": {
          "base_uri": "https://localhost:8080/"
        },
        "outputId": "4303096b-4d2b-4675-89fe-0d332a9752d2",
        "id": "1H-BgTsWxvPz"
      },
      "execution_count": 50,
      "outputs": [
        {
          "output_type": "stream",
          "name": "stdout",
          "text": [
            "Epoch 1/30\n",
            "750/750 [==============================] - 5s 6ms/step - loss: 0.3567 - accuracy: 0.9039 - val_loss: 0.0929 - val_accuracy: 0.9759\n",
            "Epoch 2/30\n",
            "750/750 [==============================] - 4s 6ms/step - loss: 0.0975 - accuracy: 0.9718 - val_loss: 0.0539 - val_accuracy: 0.9861\n",
            "Epoch 3/30\n",
            "750/750 [==============================] - 4s 6ms/step - loss: 0.0681 - accuracy: 0.9799 - val_loss: 0.0424 - val_accuracy: 0.9883\n",
            "Epoch 4/30\n",
            "750/750 [==============================] - 4s 6ms/step - loss: 0.0556 - accuracy: 0.9829 - val_loss: 0.0394 - val_accuracy: 0.9883\n",
            "Epoch 5/30\n",
            "750/750 [==============================] - 4s 6ms/step - loss: 0.0485 - accuracy: 0.9854 - val_loss: 0.0395 - val_accuracy: 0.9884\n",
            "Epoch 6/30\n",
            "750/750 [==============================] - 4s 6ms/step - loss: 0.0435 - accuracy: 0.9861 - val_loss: 0.0357 - val_accuracy: 0.9896\n",
            "Epoch 7/30\n",
            "750/750 [==============================] - 4s 6ms/step - loss: 0.0393 - accuracy: 0.9877 - val_loss: 0.0333 - val_accuracy: 0.9903\n",
            "Epoch 8/30\n",
            "750/750 [==============================] - 4s 6ms/step - loss: 0.0361 - accuracy: 0.9888 - val_loss: 0.0323 - val_accuracy: 0.9911\n",
            "Epoch 9/30\n",
            "750/750 [==============================] - 4s 6ms/step - loss: 0.0338 - accuracy: 0.9894 - val_loss: 0.0319 - val_accuracy: 0.9908\n",
            "Epoch 10/30\n",
            "750/750 [==============================] - 4s 6ms/step - loss: 0.0310 - accuracy: 0.9899 - val_loss: 0.0336 - val_accuracy: 0.9910\n",
            "Epoch 11/30\n",
            "750/750 [==============================] - 4s 6ms/step - loss: 0.0280 - accuracy: 0.9911 - val_loss: 0.0319 - val_accuracy: 0.9908\n",
            "Epoch 12/30\n",
            "750/750 [==============================] - 4s 6ms/step - loss: 0.0277 - accuracy: 0.9912 - val_loss: 0.0274 - val_accuracy: 0.9919\n",
            "Epoch 13/30\n",
            "750/750 [==============================] - 4s 6ms/step - loss: 0.0256 - accuracy: 0.9917 - val_loss: 0.0304 - val_accuracy: 0.9904\n",
            "Epoch 14/30\n",
            "750/750 [==============================] - 4s 6ms/step - loss: 0.0254 - accuracy: 0.9918 - val_loss: 0.0274 - val_accuracy: 0.9926\n",
            "Epoch 15/30\n",
            "750/750 [==============================] - 4s 6ms/step - loss: 0.0246 - accuracy: 0.9918 - val_loss: 0.0272 - val_accuracy: 0.9927\n",
            "Epoch 16/30\n",
            "750/750 [==============================] - 4s 6ms/step - loss: 0.0227 - accuracy: 0.9923 - val_loss: 0.0313 - val_accuracy: 0.9914\n",
            "Epoch 17/30\n",
            "750/750 [==============================] - 4s 6ms/step - loss: 0.0224 - accuracy: 0.9926 - val_loss: 0.0318 - val_accuracy: 0.9908\n",
            "Epoch 18/30\n",
            "750/750 [==============================] - 4s 6ms/step - loss: 0.0215 - accuracy: 0.9930 - val_loss: 0.0271 - val_accuracy: 0.9927\n",
            "Epoch 19/30\n",
            "750/750 [==============================] - 4s 6ms/step - loss: 0.0196 - accuracy: 0.9935 - val_loss: 0.0286 - val_accuracy: 0.9921\n",
            "Epoch 20/30\n",
            "750/750 [==============================] - 4s 6ms/step - loss: 0.0205 - accuracy: 0.9931 - val_loss: 0.0245 - val_accuracy: 0.9931\n",
            "Epoch 21/30\n",
            "750/750 [==============================] - 4s 6ms/step - loss: 0.0184 - accuracy: 0.9941 - val_loss: 0.0268 - val_accuracy: 0.9929\n",
            "Epoch 22/30\n",
            "750/750 [==============================] - 4s 6ms/step - loss: 0.0180 - accuracy: 0.9940 - val_loss: 0.0250 - val_accuracy: 0.9923\n",
            "Epoch 23/30\n",
            "750/750 [==============================] - 4s 6ms/step - loss: 0.0166 - accuracy: 0.9946 - val_loss: 0.0266 - val_accuracy: 0.9922\n",
            "Epoch 24/30\n",
            "750/750 [==============================] - 4s 6ms/step - loss: 0.0180 - accuracy: 0.9941 - val_loss: 0.0255 - val_accuracy: 0.9937\n",
            "Epoch 25/30\n",
            "750/750 [==============================] - 4s 6ms/step - loss: 0.0170 - accuracy: 0.9944 - val_loss: 0.0296 - val_accuracy: 0.9918\n",
            "Epoch 26/30\n",
            "750/750 [==============================] - 4s 6ms/step - loss: 0.0170 - accuracy: 0.9947 - val_loss: 0.0292 - val_accuracy: 0.9922\n",
            "Epoch 27/30\n",
            "750/750 [==============================] - 4s 6ms/step - loss: 0.0168 - accuracy: 0.9942 - val_loss: 0.0295 - val_accuracy: 0.9921\n",
            "Epoch 28/30\n",
            "750/750 [==============================] - 4s 6ms/step - loss: 0.0154 - accuracy: 0.9951 - val_loss: 0.0260 - val_accuracy: 0.9929\n",
            "Epoch 29/30\n",
            "750/750 [==============================] - 4s 6ms/step - loss: 0.0172 - accuracy: 0.9944 - val_loss: 0.0277 - val_accuracy: 0.9931\n",
            "Epoch 30/30\n",
            "750/750 [==============================] - 4s 6ms/step - loss: 0.0162 - accuracy: 0.9944 - val_loss: 0.0295 - val_accuracy: 0.9927\n"
          ]
        }
      ]
    },
    {
      "cell_type": "code",
      "source": [
        "acc = hist_6_1.history['accuracy']\n",
        "val_acc = hist_6_1.history['val_accuracy']\n",
        "loss = hist_6_1.history['loss']\n",
        "val_loss = hist_6_1.history['val_loss']\n",
        "\n",
        "epochs = range(1, len(acc)+1)\n",
        "\n",
        "plt.figure(figsize=(8, 12))\n",
        "ax1=plt.subplot(2, 1, 1)\n",
        "ax2=plt.subplot(2, 1, 2)\n",
        "ax1.plot(epochs, acc, 'bo', label='Trainig acc')\n",
        "ax1.plot(epochs, val_acc, 'b', label='Validation acc')\n",
        "ax1.set_title(\"Training and Validation accuracy\")\n",
        "ax1.legend()\n",
        "ax2.plot(epochs, loss, 'bo', label='Traning loss')\n",
        "ax2.plot(epochs, val_loss, 'b', label='Validation loss')\n",
        "ax2.set_title(\"Training and Validation loss\")\n",
        "ax2.legend()\n",
        "plt.show()"
      ],
      "metadata": {
        "colab": {
          "base_uri": "https://localhost:8080/",
          "height": 716
        },
        "outputId": "2c636f2a-162c-4ef8-bf41-83b29ed8304e",
        "id": "JX7WmpJwxvP0"
      },
      "execution_count": 51,
      "outputs": [
        {
          "output_type": "display_data",
          "data": {
            "text/plain": [
              "<Figure size 576x864 with 2 Axes>"
            ],
            "image/png": "[encoded data removed]"
          },
          "metadata": {
            "needs_background": "light"
          }
        }
      ]
    },
    {
      "cell_type": "code",
      "source": [
        "model_6_1.evaluate(test_imgs, test_labels)"
      ],
      "metadata": {
        "colab": {
          "base_uri": "https://localhost:8080/"
        },
        "outputId": "fdbb71a4-bbb6-4b81-8ada-af84d2ba93de",
        "id": "Dwf3-BRSxvP0"
      },
      "execution_count": 52,
      "outputs": [
        {
          "output_type": "stream",
          "name": "stdout",
          "text": [
            "313/313 [==============================] - 1s 3ms/step - loss: 0.0222 - accuracy: 0.9939\n"
          ]
        },
        {
          "output_type": "execute_result",
          "data": {
            "text/plain": [
              "[0.02217540517449379, 0.9939000010490417]"
            ]
          },
          "metadata": {},
          "execution_count": 52
        }
      ]
    },
    {
      "cell_type": "markdown",
      "source": [
        "### RMSProp"
      ],
      "metadata": {
        "id": "Zfbbx-2o270U"
      }
    },
    {
      "cell_type": "code",
      "source": [
        "model_6_2 = keras.Sequential([\n",
        "  layers.Conv2D(128, (3, 3), activation='relu', input_shape=(28, 28, 1)),\n",
        "  layers.MaxPooling2D((2, 2)),\n",
        "  layers.Conv2D(64, (3, 3), activation='relu'),\n",
        "  layers.Dropout(0.5),\n",
        "  layers.MaxPooling2D((2, 2)),\n",
        "  layers.Conv2D(32, (3, 3), activation='relu'),\n",
        "  layers.Dropout(0.2),\n",
        "  layers.Flatten(),\n",
        "  layers.Dense(64, activation = 'sigmoid'),\n",
        "  layers.Dense(10, activation = 'softmax')\n",
        "])\n",
        "model_6_2.summary()"
      ],
      "metadata": {
        "colab": {
          "base_uri": "https://localhost:8080/"
        },
        "id": "OpvkzRFQxvP0",
        "outputId": "fc9b374e-8387-47dd-c338-9cb62a25a5f1"
      },
      "execution_count": 53,
      "outputs": [
        {
          "output_type": "stream",
          "name": "stdout",
          "text": [
            "Model: \"sequential_8\"\n",
            "_________________________________________________________________\n",
            " Layer (type)                Output Shape              Param #   \n",
            "=================================================================\n",
            " conv2d_24 (Conv2D)          (None, 26, 26, 128)       1280      \n",
            "                                                                 \n",
            " max_pooling2d_16 (MaxPoolin  (None, 13, 13, 128)      0         \n",
            " g2D)                                                            \n",
            "                                                                 \n",
            " conv2d_25 (Conv2D)          (None, 11, 11, 64)        73792     \n",
            "                                                                 \n",
            " dropout_4 (Dropout)         (None, 11, 11, 64)        0         \n",
            "                                                                 \n",
            " max_pooling2d_17 (MaxPoolin  (None, 5, 5, 64)         0         \n",
            " g2D)                                                            \n",
            "                                                                 \n",
            " conv2d_26 (Conv2D)          (None, 3, 3, 32)          18464     \n",
            "                                                                 \n",
            " dropout_5 (Dropout)         (None, 3, 3, 32)          0         \n",
            "                                                                 \n",
            " flatten_8 (Flatten)         (None, 288)               0         \n",
            "                                                                 \n",
            " dense_16 (Dense)            (None, 64)                18496     \n",
            "                                                                 \n",
            " dense_17 (Dense)            (None, 10)                650       \n",
            "                                                                 \n",
            "=================================================================\n",
            "Total params: 112,682\n",
            "Trainable params: 112,682\n",
            "Non-trainable params: 0\n",
            "_________________________________________________________________\n"
          ]
        }
      ]
    },
    {
      "cell_type": "code",
      "source": [
        "model_6_2.compile(optimizer=\"rmsprop\", loss=\"categorical_crossentropy\", metrics=[\"accuracy\"])"
      ],
      "metadata": {
        "id": "Y_G8wJRDxvP1"
      },
      "execution_count": 54,
      "outputs": []
    },
    {
      "cell_type": "code",
      "source": [
        "hist_6_2 = model_6_2.fit(train_imgs, train_labels, epochs=30, batch_size=64, validation_split=0.2)"
      ],
      "metadata": {
        "colab": {
          "base_uri": "https://localhost:8080/"
        },
        "outputId": "15bb9687-6551-4e77-ca7d-1f464341cab2",
        "id": "EmvzbhRaxvP1"
      },
      "execution_count": 55,
      "outputs": [
        {
          "output_type": "stream",
          "name": "stdout",
          "text": [
            "Epoch 1/30\n",
            "750/750 [==============================] - 5s 6ms/step - loss: 0.3446 - accuracy: 0.9075 - val_loss: 0.0875 - val_accuracy: 0.9755\n",
            "Epoch 2/30\n",
            "750/750 [==============================] - 5s 6ms/step - loss: 0.0957 - accuracy: 0.9715 - val_loss: 0.0581 - val_accuracy: 0.9840\n",
            "Epoch 3/30\n",
            "750/750 [==============================] - 5s 6ms/step - loss: 0.0674 - accuracy: 0.9786 - val_loss: 0.0454 - val_accuracy: 0.9870\n",
            "Epoch 4/30\n",
            "750/750 [==============================] - 5s 6ms/step - loss: 0.0544 - accuracy: 0.9831 - val_loss: 0.0413 - val_accuracy: 0.9887\n",
            "Epoch 5/30\n",
            "750/750 [==============================] - 5s 6ms/step - loss: 0.0472 - accuracy: 0.9851 - val_loss: 0.0361 - val_accuracy: 0.9887\n",
            "Epoch 6/30\n",
            "750/750 [==============================] - 4s 6ms/step - loss: 0.0440 - accuracy: 0.9862 - val_loss: 0.0383 - val_accuracy: 0.9881\n",
            "Epoch 7/30\n",
            "750/750 [==============================] - 4s 6ms/step - loss: 0.0411 - accuracy: 0.9873 - val_loss: 0.0394 - val_accuracy: 0.9889\n",
            "Epoch 8/30\n",
            "750/750 [==============================] - 5s 6ms/step - loss: 0.0353 - accuracy: 0.9888 - val_loss: 0.0414 - val_accuracy: 0.9883\n",
            "Epoch 9/30\n",
            "750/750 [==============================] - 4s 6ms/step - loss: 0.0354 - accuracy: 0.9890 - val_loss: 0.0381 - val_accuracy: 0.9894\n",
            "Epoch 10/30\n",
            "750/750 [==============================] - 5s 6ms/step - loss: 0.0328 - accuracy: 0.9898 - val_loss: 0.0309 - val_accuracy: 0.9922\n",
            "Epoch 11/30\n",
            "750/750 [==============================] - 5s 6ms/step - loss: 0.0346 - accuracy: 0.9889 - val_loss: 0.0317 - val_accuracy: 0.9913\n",
            "Epoch 12/30\n",
            "750/750 [==============================] - 5s 6ms/step - loss: 0.0320 - accuracy: 0.9902 - val_loss: 0.0351 - val_accuracy: 0.9912\n",
            "Epoch 13/30\n",
            "750/750 [==============================] - 5s 6ms/step - loss: 0.0298 - accuracy: 0.9912 - val_loss: 0.0304 - val_accuracy: 0.9912\n",
            "Epoch 14/30\n",
            "750/750 [==============================] - 4s 6ms/step - loss: 0.0286 - accuracy: 0.9916 - val_loss: 0.0407 - val_accuracy: 0.9891\n",
            "Epoch 15/30\n",
            "750/750 [==============================] - 5s 6ms/step - loss: 0.0274 - accuracy: 0.9915 - val_loss: 0.0334 - val_accuracy: 0.9917\n",
            "Epoch 16/30\n",
            "750/750 [==============================] - 4s 6ms/step - loss: 0.0301 - accuracy: 0.9908 - val_loss: 0.0324 - val_accuracy: 0.9913\n",
            "Epoch 17/30\n",
            "750/750 [==============================] - 4s 6ms/step - loss: 0.0272 - accuracy: 0.9917 - val_loss: 0.0358 - val_accuracy: 0.9912\n",
            "Epoch 18/30\n",
            "750/750 [==============================] - 4s 6ms/step - loss: 0.0287 - accuracy: 0.9914 - val_loss: 0.0366 - val_accuracy: 0.9910\n",
            "Epoch 19/30\n",
            "750/750 [==============================] - 5s 6ms/step - loss: 0.0273 - accuracy: 0.9917 - val_loss: 0.0324 - val_accuracy: 0.9924\n",
            "Epoch 20/30\n",
            "750/750 [==============================] - 4s 6ms/step - loss: 0.0249 - accuracy: 0.9922 - val_loss: 0.0355 - val_accuracy: 0.9918\n",
            "Epoch 21/30\n",
            "750/750 [==============================] - 5s 6ms/step - loss: 0.0245 - accuracy: 0.9920 - val_loss: 0.0358 - val_accuracy: 0.9917\n",
            "Epoch 22/30\n",
            "750/750 [==============================] - 4s 6ms/step - loss: 0.0265 - accuracy: 0.9921 - val_loss: 0.0319 - val_accuracy: 0.9926\n",
            "Epoch 23/30\n",
            "750/750 [==============================] - 5s 6ms/step - loss: 0.0251 - accuracy: 0.9923 - val_loss: 0.0322 - val_accuracy: 0.9923\n",
            "Epoch 24/30\n",
            "750/750 [==============================] - 5s 6ms/step - loss: 0.0225 - accuracy: 0.9931 - val_loss: 0.0401 - val_accuracy: 0.9909\n",
            "Epoch 25/30\n",
            "750/750 [==============================] - 5s 6ms/step - loss: 0.0226 - accuracy: 0.9934 - val_loss: 0.0374 - val_accuracy: 0.9914\n",
            "Epoch 26/30\n",
            "750/750 [==============================] - 4s 6ms/step - loss: 0.0245 - accuracy: 0.9927 - val_loss: 0.0456 - val_accuracy: 0.9901\n",
            "Epoch 27/30\n",
            "750/750 [==============================] - 5s 6ms/step - loss: 0.0247 - accuracy: 0.9928 - val_loss: 0.0323 - val_accuracy: 0.9923\n",
            "Epoch 28/30\n",
            "750/750 [==============================] - 5s 6ms/step - loss: 0.0223 - accuracy: 0.9930 - val_loss: 0.0356 - val_accuracy: 0.9924\n",
            "Epoch 29/30\n",
            "750/750 [==============================] - 5s 6ms/step - loss: 0.0229 - accuracy: 0.9931 - val_loss: 0.0357 - val_accuracy: 0.9923\n",
            "Epoch 30/30\n",
            "750/750 [==============================] - 5s 6ms/step - loss: 0.0222 - accuracy: 0.9938 - val_loss: 0.0407 - val_accuracy: 0.9908\n"
          ]
        }
      ]
    },
    {
      "cell_type": "code",
      "source": [
        "acc = hist_6_2.history['accuracy']\n",
        "val_acc = hist_6_2.history['val_accuracy']\n",
        "loss = hist_6_2.history['loss']\n",
        "val_loss = hist_6_2.history['val_loss']\n",
        "\n",
        "epochs = range(1, len(acc)+1)\n",
        "\n",
        "plt.figure(figsize=(8, 12))\n",
        "ax1=plt.subplot(2, 1, 1)\n",
        "ax2=plt.subplot(2, 1, 2)\n",
        "ax1.plot(epochs, acc, 'bo', label='Trainig acc')\n",
        "ax1.plot(epochs, val_acc, 'b', label='Validation acc')\n",
        "ax1.set_title(\"Training and Validation accuracy\")\n",
        "ax1.legend()\n",
        "ax2.plot(epochs, loss, 'bo', label='Traning loss')\n",
        "ax2.plot(epochs, val_loss, 'b', label='Validation loss')\n",
        "ax2.set_title(\"Training and Validation loss\")\n",
        "ax2.legend()\n",
        "plt.show()"
      ],
      "metadata": {
        "colab": {
          "base_uri": "https://localhost:8080/",
          "height": 716
        },
        "outputId": "9a02a75d-962b-4519-9068-114b5932c4e3",
        "id": "E25tNsvVxvP2"
      },
      "execution_count": 56,
      "outputs": [
        {
          "output_type": "display_data",
          "data": {
            "text/plain": [
              "<Figure size 576x864 with 2 Axes>"
            ],
            "image/png": "[encoded data removed]"
          },
          "metadata": {
            "needs_background": "light"
          }
        }
      ]
    },
    {
      "cell_type": "code",
      "source": [
        "model_6_2.evaluate(test_imgs, test_labels)"
      ],
      "metadata": {
        "colab": {
          "base_uri": "https://localhost:8080/"
        },
        "outputId": "02f495a6-7a1a-4325-be35-6ebe08ff8e44",
        "id": "LiYnT02axvP2"
      },
      "execution_count": 57,
      "outputs": [
        {
          "output_type": "stream",
          "name": "stdout",
          "text": [
            "313/313 [==============================] - 1s 3ms/step - loss: 0.0336 - accuracy: 0.9915\n"
          ]
        },
        {
          "output_type": "execute_result",
          "data": {
            "text/plain": [
              "[0.03359248489141464, 0.9915000200271606]"
            ]
          },
          "metadata": {},
          "execution_count": 57
        }
      ]
    }
  ]
}