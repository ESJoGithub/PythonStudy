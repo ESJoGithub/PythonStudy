{
  "nbformat": 4,
  "nbformat_minor": 0,
  "metadata": {
    "colab": {
      "provenance": [],
      "collapsed_sections": [],
      "mount_file_id": "1DmK2zLLoX3sSbBpJuPT4kOGTz-S67O0A",
      "authorship_tag": "ABX9TyNlZtlaRf1OmWkruock5IsO",
      "include_colab_link": true
    },
    "kernelspec": {
      "name": "python3",
      "display_name": "Python 3"
    },
    "language_info": {
      "name": "python"
    }
  },
  "cells": [
    {
      "cell_type": "markdown",
      "metadata": {
        "id": "view-in-github",
        "colab_type": "text"
      },
      "source": [
        "<a href=\"https://colab.research.google.com/github/ESJoGithub/PythonStudy/blob/main/Keras_220920_MNIST_%EC%8B%A4%EC%8A%B503.ipynb\" target=\"_parent\"><img src=\"https://colab.research.google.com/assets/colab-badge.svg\" alt=\"Open In Colab\"/></a>"
      ]
    },
    {
      "cell_type": "code",
      "source": [
        "from google.colab import drive\n",
        "drive.mount('/content/drive')"
      ],
      "metadata": {
        "colab": {
          "base_uri": "https://localhost:8080/"
        },
        "id": "oxtO2zTTtPq3",
        "outputId": "fea9ef39-5c0f-476e-e84d-bc4542340abc"
      },
      "execution_count": null,
      "outputs": [
        {
          "output_type": "stream",
          "name": "stdout",
          "text": [
            "Mounted at /content/drive\n"
          ]
        }
      ]
    },
    {
      "cell_type": "code",
      "source": [
        "!ln -s /content/drive/MyDrive /mydrive"
      ],
      "metadata": {
        "id": "e2ZTrV_htIFl"
      },
      "execution_count": null,
      "outputs": []
    },
    {
      "cell_type": "code",
      "source": [
        "%cd /mydrive"
      ],
      "metadata": {
        "colab": {
          "base_uri": "https://localhost:8080/"
        },
        "id": "B9ry3cBStVU1",
        "outputId": "c4dac4d1-5f92-43b5-afe3-75e2d51d9024"
      },
      "execution_count": null,
      "outputs": [
        {
          "output_type": "stream",
          "name": "stdout",
          "text": [
            "/content/drive/MyDrive\n"
          ]
        }
      ]
    },
    {
      "cell_type": "code",
      "source": [
        "!mkdir mnist"
      ],
      "metadata": {
        "id": "98FN5iLDtXqb",
        "colab": {
          "base_uri": "https://localhost:8080/"
        },
        "outputId": "a1159959-6fda-40e4-be5d-f47652675e24"
      },
      "execution_count": null,
      "outputs": [
        {
          "output_type": "stream",
          "name": "stdout",
          "text": [
            "mkdir: cannot create directory ‘mnist’: File exists\n"
          ]
        }
      ]
    },
    {
      "cell_type": "markdown",
      "source": [
        "## __callback/가중치규제/드롭아웃 활용__"
      ],
      "metadata": {
        "id": "19CLRpWxwL5T"
      }
    },
    {
      "cell_type": "markdown",
      "source": [
        "### **1. Library Import**"
      ],
      "metadata": {
        "id": "9Tx44ggmYNsD"
      }
    },
    {
      "cell_type": "code",
      "source": [
        "from keras import datasets, layers, models                \n",
        "from tensorflow import keras                         # to_categorical 함수\n",
        "from tensorflow.keras.models import load_model\n",
        "from tensorflow.keras.callbacks import EarlyStopping, ModelCheckpoint\n",
        "\n",
        "import numpy as np\n",
        "import matplotlib.pyplot as plt"
      ],
      "metadata": {
        "id": "UFco5dLCQBQF"
      },
      "execution_count": null,
      "outputs": []
    },
    {
      "cell_type": "code",
      "source": [
        "(train_imgs, train_labels), (test_imgs, test_labels) = datasets.mnist.load_data()"
      ],
      "metadata": {
        "id": "rwcqMzdKTPwN",
        "colab": {
          "base_uri": "https://localhost:8080/"
        },
        "outputId": "11cadc55-baf2-4d04-c13f-fde76faf2bd4"
      },
      "execution_count": null,
      "outputs": [
        {
          "output_type": "stream",
          "name": "stdout",
          "text": [
            "Downloading data from https://storage.googleapis.com/tensorflow/tf-keras-datasets/mnist.npz\n",
            "11493376/11490434 [==============================] - 0s 0us/step\n",
            "11501568/11490434 [==============================] - 0s 0us/step\n"
          ]
        }
      ]
    },
    {
      "cell_type": "markdown",
      "source": [
        "### **2. 데이터 확인 및 전처리**"
      ],
      "metadata": {
        "id": "vcIHfL7pYJps"
      }
    },
    {
      "cell_type": "code",
      "source": [
        "train_imgs = train_imgs/255.0\n",
        "test_imgs = test_imgs/255.0"
      ],
      "metadata": {
        "id": "w4IFaKuOYIfc"
      },
      "execution_count": null,
      "outputs": []
    },
    {
      "cell_type": "code",
      "source": [
        "print(train_imgs.shape)\n",
        "print(test_imgs.shape)"
      ],
      "metadata": {
        "colab": {
          "base_uri": "https://localhost:8080/"
        },
        "id": "A9ujYrDMiRy1",
        "outputId": "d4944fde-da24-40ce-df0c-d8a6bf81fcf8"
      },
      "execution_count": null,
      "outputs": [
        {
          "output_type": "stream",
          "name": "stdout",
          "text": [
            "(60000, 28, 28)\n",
            "(10000, 28, 28)\n"
          ]
        }
      ]
    },
    {
      "cell_type": "code",
      "source": [
        "train_imgs = train_imgs.reshape((60000, 28, 28, 1))\n",
        "test_imgs = test_imgs.reshape((10000, 28, 28, 1))"
      ],
      "metadata": {
        "id": "5IGxhDfjiN7d"
      },
      "execution_count": null,
      "outputs": []
    },
    {
      "cell_type": "code",
      "source": [
        "train_labels = keras.utils.to_categorical(train_labels, num_classes=10)\n",
        "test_labels = keras.utils.to_categorical(test_labels, num_classes=10)"
      ],
      "metadata": {
        "id": "ouDs40X-n_uw"
      },
      "execution_count": null,
      "outputs": []
    },
    {
      "cell_type": "markdown",
      "source": [
        "### __try04 CNN 모델에 callback 적용__\n",
        "\n",
        "---\n",
        "EarlyStopping / ModelCheckPoint"
      ],
      "metadata": {
        "id": "NTqxfKdbYvVL"
      }
    },
    {
      "cell_type": "code",
      "source": [
        "import keras                                               # histroy 함수를 위해 import"
      ],
      "metadata": {
        "id": "ivWlQdWayf2t"
      },
      "execution_count": null,
      "outputs": []
    },
    {
      "cell_type": "code",
      "source": [
        "model_4 = keras.Sequential([\n",
        "  layers.Conv2D(128, (3, 3), activation='relu', input_shape=(28, 28, 1)),\n",
        "  layers.MaxPooling2D((2, 2)),\n",
        "  layers.Conv2D(64, (3, 3), activation='relu'),\n",
        "  layers.MaxPooling2D((2, 2)),\n",
        "  layers.Conv2D(32, (3, 3), activation='relu'),\n",
        "  layers.Flatten(),\n",
        "  layers.Dense(64, activation = 'sigmoid'),\n",
        "  layers.Dense(10, activation = 'softmax')\n",
        "])\n",
        "model_4.summary()"
      ],
      "metadata": {
        "id": "LSy5b6TEYmJj",
        "colab": {
          "base_uri": "https://localhost:8080/"
        },
        "outputId": "43b4e462-e63e-446a-ec8c-9ae21590b269"
      },
      "execution_count": null,
      "outputs": [
        {
          "output_type": "stream",
          "name": "stdout",
          "text": [
            "Model: \"sequential\"\n",
            "_________________________________________________________________\n",
            " Layer (type)                Output Shape              Param #   \n",
            "=================================================================\n",
            " conv2d (Conv2D)             (None, 26, 26, 128)       1280      \n",
            "                                                                 \n",
            " max_pooling2d (MaxPooling2D  (None, 13, 13, 128)      0         \n",
            " )                                                               \n",
            "                                                                 \n",
            " conv2d_1 (Conv2D)           (None, 11, 11, 64)        73792     \n",
            "                                                                 \n",
            " max_pooling2d_1 (MaxPooling  (None, 5, 5, 64)         0         \n",
            " 2D)                                                             \n",
            "                                                                 \n",
            " conv2d_2 (Conv2D)           (None, 3, 3, 32)          18464     \n",
            "                                                                 \n",
            " flatten (Flatten)           (None, 288)               0         \n",
            "                                                                 \n",
            " dense (Dense)               (None, 64)                18496     \n",
            "                                                                 \n",
            " dense_1 (Dense)             (None, 10)                650       \n",
            "                                                                 \n",
            "=================================================================\n",
            "Total params: 112,682\n",
            "Trainable params: 112,682\n",
            "Non-trainable params: 0\n",
            "_________________________________________________________________\n"
          ]
        }
      ]
    },
    {
      "cell_type": "code",
      "source": [
        "model_4.compile(optimizer=\"SGD\", loss=\"categorical_crossentropy\", metrics=[\"accuracy\"])"
      ],
      "metadata": {
        "id": "rIRHwKY3gm2w"
      },
      "execution_count": null,
      "outputs": []
    },
    {
      "cell_type": "code",
      "source": [
        "es = EarlyStopping(monitor='val_loss', mode='min', verbose=1, patience=3)\n",
        "mc = ModelCheckpoint('mnist/model_4.h5', monitor='val_accuracy', mode='max', verbose=1, save_best_only=True)\n",
        "hist_4 = model_4.fit(train_imgs, train_labels, epochs=50, batch_size=64, validation_split=0.2, callbacks=[es, mc])"
      ],
      "metadata": {
        "colab": {
          "base_uri": "https://localhost:8080/"
        },
        "id": "rmGRWjkknkZo",
        "outputId": "23785371-bd90-4f18-8037-6234391bae22"
      },
      "execution_count": null,
      "outputs": [
        {
          "output_type": "stream",
          "name": "stdout",
          "text": [
            "Epoch 1/50\n",
            "742/750 [============================>.] - ETA: 0s - loss: 2.1323 - accuracy: 0.3606\n",
            "Epoch 1: val_accuracy improved from -inf to 0.66125, saving model to mnist/best_model.h1\n",
            "750/750 [==============================] - 20s 10ms/step - loss: 2.1249 - accuracy: 0.3636 - val_loss: 1.4390 - val_accuracy: 0.6612\n",
            "Epoch 2/50\n",
            "747/750 [============================>.] - ETA: 0s - loss: 0.8412 - accuracy: 0.8066\n",
            "Epoch 2: val_accuracy improved from 0.66125 to 0.87358, saving model to mnist/best_model.h1\n",
            "750/750 [==============================] - 7s 9ms/step - loss: 0.8401 - accuracy: 0.8069 - val_loss: 0.5399 - val_accuracy: 0.8736\n",
            "Epoch 3/50\n",
            "750/750 [==============================] - ETA: 0s - loss: 0.4778 - accuracy: 0.8840\n",
            "Epoch 3: val_accuracy improved from 0.87358 to 0.90575, saving model to mnist/best_model.h1\n",
            "750/750 [==============================] - 5s 6ms/step - loss: 0.4778 - accuracy: 0.8840 - val_loss: 0.3831 - val_accuracy: 0.9057\n",
            "Epoch 4/50\n",
            "741/750 [============================>.] - ETA: 0s - loss: 0.3664 - accuracy: 0.9070\n",
            "Epoch 4: val_accuracy improved from 0.90575 to 0.92350, saving model to mnist/best_model.h1\n",
            "750/750 [==============================] - 5s 6ms/step - loss: 0.3657 - accuracy: 0.9071 - val_loss: 0.3063 - val_accuracy: 0.9235\n",
            "Epoch 5/50\n",
            "744/750 [============================>.] - ETA: 0s - loss: 0.3006 - accuracy: 0.9214\n",
            "Epoch 5: val_accuracy improved from 0.92350 to 0.93158, saving model to mnist/best_model.h1\n",
            "750/750 [==============================] - 5s 6ms/step - loss: 0.3010 - accuracy: 0.9212 - val_loss: 0.2635 - val_accuracy: 0.9316\n",
            "Epoch 6/50\n",
            "740/750 [============================>.] - ETA: 0s - loss: 0.2561 - accuracy: 0.9326\n",
            "Epoch 6: val_accuracy improved from 0.93158 to 0.94275, saving model to mnist/best_model.h1\n",
            "750/750 [==============================] - 5s 6ms/step - loss: 0.2555 - accuracy: 0.9328 - val_loss: 0.2219 - val_accuracy: 0.9427\n",
            "Epoch 7/50\n",
            "749/750 [============================>.] - ETA: 0s - loss: 0.2210 - accuracy: 0.9417\n",
            "Epoch 7: val_accuracy improved from 0.94275 to 0.94942, saving model to mnist/best_model.h1\n",
            "750/750 [==============================] - 5s 7ms/step - loss: 0.2210 - accuracy: 0.9417 - val_loss: 0.1994 - val_accuracy: 0.9494\n",
            "Epoch 8/50\n",
            "744/750 [============================>.] - ETA: 0s - loss: 0.1961 - accuracy: 0.9475\n",
            "Epoch 8: val_accuracy improved from 0.94942 to 0.95283, saving model to mnist/best_model.h1\n",
            "750/750 [==============================] - 5s 6ms/step - loss: 0.1961 - accuracy: 0.9475 - val_loss: 0.1806 - val_accuracy: 0.9528\n",
            "Epoch 9/50\n",
            "747/750 [============================>.] - ETA: 0s - loss: 0.1755 - accuracy: 0.9530\n",
            "Epoch 9: val_accuracy improved from 0.95283 to 0.95683, saving model to mnist/best_model.h1\n",
            "750/750 [==============================] - 5s 6ms/step - loss: 0.1756 - accuracy: 0.9529 - val_loss: 0.1626 - val_accuracy: 0.9568\n",
            "Epoch 10/50\n",
            "749/750 [============================>.] - ETA: 0s - loss: 0.1586 - accuracy: 0.9575\n",
            "Epoch 10: val_accuracy improved from 0.95683 to 0.96325, saving model to mnist/best_model.h1\n",
            "750/750 [==============================] - 5s 6ms/step - loss: 0.1585 - accuracy: 0.9575 - val_loss: 0.1450 - val_accuracy: 0.9632\n",
            "Epoch 11/50\n",
            "749/750 [============================>.] - ETA: 0s - loss: 0.1454 - accuracy: 0.9609\n",
            "Epoch 11: val_accuracy improved from 0.96325 to 0.96408, saving model to mnist/best_model.h1\n",
            "750/750 [==============================] - 5s 6ms/step - loss: 0.1454 - accuracy: 0.9609 - val_loss: 0.1362 - val_accuracy: 0.9641\n",
            "Epoch 12/50\n",
            "745/750 [============================>.] - ETA: 0s - loss: 0.1348 - accuracy: 0.9635\n",
            "Epoch 12: val_accuracy improved from 0.96408 to 0.96733, saving model to mnist/best_model.h1\n",
            "750/750 [==============================] - 5s 6ms/step - loss: 0.1345 - accuracy: 0.9636 - val_loss: 0.1247 - val_accuracy: 0.9673\n",
            "Epoch 13/50\n",
            "749/750 [============================>.] - ETA: 0s - loss: 0.1247 - accuracy: 0.9660\n",
            "Epoch 13: val_accuracy improved from 0.96733 to 0.96900, saving model to mnist/best_model.h1\n",
            "750/750 [==============================] - 5s 7ms/step - loss: 0.1247 - accuracy: 0.9660 - val_loss: 0.1178 - val_accuracy: 0.9690\n",
            "Epoch 14/50\n",
            "742/750 [============================>.] - ETA: 0s - loss: 0.1163 - accuracy: 0.9682\n",
            "Epoch 14: val_accuracy did not improve from 0.96900\n",
            "750/750 [==============================] - 4s 6ms/step - loss: 0.1165 - accuracy: 0.9681 - val_loss: 0.1194 - val_accuracy: 0.9675\n",
            "Epoch 15/50\n",
            "741/750 [============================>.] - ETA: 0s - loss: 0.1102 - accuracy: 0.9701\n",
            "Epoch 15: val_accuracy improved from 0.96900 to 0.97150, saving model to mnist/best_model.h1\n",
            "750/750 [==============================] - 5s 6ms/step - loss: 0.1099 - accuracy: 0.9702 - val_loss: 0.1066 - val_accuracy: 0.9715\n",
            "Epoch 16/50\n",
            "749/750 [============================>.] - ETA: 0s - loss: 0.1040 - accuracy: 0.9717\n",
            "Epoch 16: val_accuracy improved from 0.97150 to 0.97250, saving model to mnist/best_model.h1\n",
            "750/750 [==============================] - 5s 6ms/step - loss: 0.1040 - accuracy: 0.9717 - val_loss: 0.1029 - val_accuracy: 0.9725\n",
            "Epoch 17/50\n",
            "748/750 [============================>.] - ETA: 0s - loss: 0.0986 - accuracy: 0.9734\n",
            "Epoch 17: val_accuracy improved from 0.97250 to 0.97258, saving model to mnist/best_model.h1\n",
            "750/750 [==============================] - 5s 6ms/step - loss: 0.0986 - accuracy: 0.9734 - val_loss: 0.0977 - val_accuracy: 0.9726\n",
            "Epoch 18/50\n",
            "746/750 [============================>.] - ETA: 0s - loss: 0.0937 - accuracy: 0.9745\n",
            "Epoch 18: val_accuracy improved from 0.97258 to 0.97333, saving model to mnist/best_model.h1\n",
            "750/750 [==============================] - 5s 6ms/step - loss: 0.0938 - accuracy: 0.9745 - val_loss: 0.0925 - val_accuracy: 0.9733\n",
            "Epoch 19/50\n",
            "744/750 [============================>.] - ETA: 0s - loss: 0.0894 - accuracy: 0.9757\n",
            "Epoch 19: val_accuracy improved from 0.97333 to 0.97408, saving model to mnist/best_model.h1\n",
            "750/750 [==============================] - 5s 7ms/step - loss: 0.0894 - accuracy: 0.9757 - val_loss: 0.0919 - val_accuracy: 0.9741\n",
            "Epoch 20/50\n",
            "741/750 [============================>.] - ETA: 0s - loss: 0.0847 - accuracy: 0.9769\n",
            "Epoch 20: val_accuracy improved from 0.97408 to 0.97517, saving model to mnist/best_model.h1\n",
            "750/750 [==============================] - 5s 7ms/step - loss: 0.0851 - accuracy: 0.9768 - val_loss: 0.0869 - val_accuracy: 0.9752\n",
            "Epoch 21/50\n",
            "748/750 [============================>.] - ETA: 0s - loss: 0.0819 - accuracy: 0.9782\n",
            "Epoch 21: val_accuracy improved from 0.97517 to 0.97633, saving model to mnist/best_model.h1\n",
            "750/750 [==============================] - 5s 7ms/step - loss: 0.0819 - accuracy: 0.9783 - val_loss: 0.0853 - val_accuracy: 0.9763\n",
            "Epoch 22/50\n",
            "745/750 [============================>.] - ETA: 0s - loss: 0.0788 - accuracy: 0.9788\n",
            "Epoch 22: val_accuracy did not improve from 0.97633\n",
            "750/750 [==============================] - 4s 6ms/step - loss: 0.0789 - accuracy: 0.9787 - val_loss: 0.0842 - val_accuracy: 0.9763\n",
            "Epoch 23/50\n",
            "745/750 [============================>.] - ETA: 0s - loss: 0.0762 - accuracy: 0.9792\n",
            "Epoch 23: val_accuracy improved from 0.97633 to 0.97658, saving model to mnist/best_model.h1\n",
            "750/750 [==============================] - 5s 6ms/step - loss: 0.0761 - accuracy: 0.9792 - val_loss: 0.0821 - val_accuracy: 0.9766\n",
            "Epoch 24/50\n",
            "747/750 [============================>.] - ETA: 0s - loss: 0.0731 - accuracy: 0.9803\n",
            "Epoch 24: val_accuracy did not improve from 0.97658\n",
            "750/750 [==============================] - 4s 6ms/step - loss: 0.0732 - accuracy: 0.9803 - val_loss: 0.0820 - val_accuracy: 0.9765\n",
            "Epoch 25/50\n",
            "746/750 [============================>.] - ETA: 0s - loss: 0.0708 - accuracy: 0.9811\n",
            "Epoch 25: val_accuracy improved from 0.97658 to 0.97867, saving model to mnist/best_model.h1\n",
            "750/750 [==============================] - 5s 6ms/step - loss: 0.0709 - accuracy: 0.9811 - val_loss: 0.0785 - val_accuracy: 0.9787\n",
            "Epoch 26/50\n",
            "745/750 [============================>.] - ETA: 0s - loss: 0.0684 - accuracy: 0.9813\n",
            "Epoch 26: val_accuracy did not improve from 0.97867\n",
            "750/750 [==============================] - 4s 5ms/step - loss: 0.0684 - accuracy: 0.9813 - val_loss: 0.0769 - val_accuracy: 0.9777\n",
            "Epoch 27/50\n",
            "746/750 [============================>.] - ETA: 0s - loss: 0.0662 - accuracy: 0.9824\n",
            "Epoch 27: val_accuracy did not improve from 0.97867\n",
            "750/750 [==============================] - 4s 5ms/step - loss: 0.0661 - accuracy: 0.9824 - val_loss: 0.0737 - val_accuracy: 0.9787\n",
            "Epoch 28/50\n",
            "741/750 [============================>.] - ETA: 0s - loss: 0.0637 - accuracy: 0.9832\n",
            "Epoch 28: val_accuracy did not improve from 0.97867\n",
            "750/750 [==============================] - 4s 6ms/step - loss: 0.0641 - accuracy: 0.9830 - val_loss: 0.0741 - val_accuracy: 0.9780\n",
            "Epoch 29/50\n",
            "750/750 [==============================] - ETA: 0s - loss: 0.0622 - accuracy: 0.9828\n",
            "Epoch 29: val_accuracy improved from 0.97867 to 0.97933, saving model to mnist/best_model.h1\n",
            "750/750 [==============================] - 5s 6ms/step - loss: 0.0622 - accuracy: 0.9828 - val_loss: 0.0721 - val_accuracy: 0.9793\n",
            "Epoch 30/50\n",
            "750/750 [==============================] - ETA: 0s - loss: 0.0608 - accuracy: 0.9836\n",
            "Epoch 30: val_accuracy improved from 0.97933 to 0.98058, saving model to mnist/best_model.h1\n",
            "750/750 [==============================] - 5s 7ms/step - loss: 0.0608 - accuracy: 0.9836 - val_loss: 0.0701 - val_accuracy: 0.9806\n",
            "Epoch 31/50\n",
            "749/750 [============================>.] - ETA: 0s - loss: 0.0590 - accuracy: 0.9843\n",
            "Epoch 31: val_accuracy improved from 0.98058 to 0.98092, saving model to mnist/best_model.h1\n",
            "750/750 [==============================] - 5s 6ms/step - loss: 0.0590 - accuracy: 0.9843 - val_loss: 0.0687 - val_accuracy: 0.9809\n",
            "Epoch 32/50\n",
            "750/750 [==============================] - ETA: 0s - loss: 0.0572 - accuracy: 0.9848\n",
            "Epoch 32: val_accuracy did not improve from 0.98092\n",
            "750/750 [==============================] - 4s 6ms/step - loss: 0.0572 - accuracy: 0.9848 - val_loss: 0.0679 - val_accuracy: 0.9802\n",
            "Epoch 33/50\n",
            "743/750 [============================>.] - ETA: 0s - loss: 0.0556 - accuracy: 0.9850\n",
            "Epoch 33: val_accuracy improved from 0.98092 to 0.98133, saving model to mnist/best_model.h1\n",
            "750/750 [==============================] - 5s 6ms/step - loss: 0.0556 - accuracy: 0.9850 - val_loss: 0.0678 - val_accuracy: 0.9813\n",
            "Epoch 34/50\n",
            "750/750 [==============================] - ETA: 0s - loss: 0.0544 - accuracy: 0.9856\n",
            "Epoch 34: val_accuracy improved from 0.98133 to 0.98158, saving model to mnist/best_model.h1\n",
            "750/750 [==============================] - 5s 6ms/step - loss: 0.0544 - accuracy: 0.9856 - val_loss: 0.0657 - val_accuracy: 0.9816\n",
            "Epoch 35/50\n",
            "745/750 [============================>.] - ETA: 0s - loss: 0.0532 - accuracy: 0.9860\n",
            "Epoch 35: val_accuracy improved from 0.98158 to 0.98167, saving model to mnist/best_model.h1\n",
            "750/750 [==============================] - 5s 6ms/step - loss: 0.0532 - accuracy: 0.9860 - val_loss: 0.0653 - val_accuracy: 0.9817\n",
            "Epoch 36/50\n",
            "743/750 [============================>.] - ETA: 0s - loss: 0.0515 - accuracy: 0.9861\n",
            "Epoch 36: val_accuracy improved from 0.98167 to 0.98183, saving model to mnist/best_model.h1\n",
            "750/750 [==============================] - 5s 7ms/step - loss: 0.0516 - accuracy: 0.9861 - val_loss: 0.0643 - val_accuracy: 0.9818\n",
            "Epoch 37/50\n",
            "749/750 [============================>.] - ETA: 0s - loss: 0.0507 - accuracy: 0.9864\n",
            "Epoch 37: val_accuracy improved from 0.98183 to 0.98208, saving model to mnist/best_model.h1\n",
            "750/750 [==============================] - 5s 6ms/step - loss: 0.0507 - accuracy: 0.9864 - val_loss: 0.0636 - val_accuracy: 0.9821\n",
            "Epoch 38/50\n",
            "744/750 [============================>.] - ETA: 0s - loss: 0.0495 - accuracy: 0.9869\n",
            "Epoch 38: val_accuracy did not improve from 0.98208\n",
            "750/750 [==============================] - 4s 5ms/step - loss: 0.0494 - accuracy: 0.9869 - val_loss: 0.0625 - val_accuracy: 0.9818\n",
            "Epoch 39/50\n",
            "744/750 [============================>.] - ETA: 0s - loss: 0.0479 - accuracy: 0.9875\n",
            "Epoch 39: val_accuracy improved from 0.98208 to 0.98242, saving model to mnist/best_model.h1\n",
            "750/750 [==============================] - 5s 6ms/step - loss: 0.0479 - accuracy: 0.9875 - val_loss: 0.0617 - val_accuracy: 0.9824\n",
            "Epoch 40/50\n",
            "743/750 [============================>.] - ETA: 0s - loss: 0.0472 - accuracy: 0.9878\n",
            "Epoch 40: val_accuracy improved from 0.98242 to 0.98250, saving model to mnist/best_model.h1\n",
            "750/750 [==============================] - 5s 7ms/step - loss: 0.0472 - accuracy: 0.9877 - val_loss: 0.0622 - val_accuracy: 0.9825\n",
            "Epoch 41/50\n",
            "741/750 [============================>.] - ETA: 0s - loss: 0.0459 - accuracy: 0.9880\n",
            "Epoch 41: val_accuracy did not improve from 0.98250\n",
            "750/750 [==============================] - 4s 6ms/step - loss: 0.0461 - accuracy: 0.9879 - val_loss: 0.0632 - val_accuracy: 0.9813\n",
            "Epoch 42/50\n",
            "749/750 [============================>.] - ETA: 0s - loss: 0.0449 - accuracy: 0.9882\n",
            "Epoch 42: val_accuracy did not improve from 0.98250\n",
            "750/750 [==============================] - 4s 5ms/step - loss: 0.0449 - accuracy: 0.9882 - val_loss: 0.0595 - val_accuracy: 0.9825\n",
            "Epoch 43/50\n",
            "747/750 [============================>.] - ETA: 0s - loss: 0.0440 - accuracy: 0.9885\n",
            "Epoch 43: val_accuracy improved from 0.98250 to 0.98317, saving model to mnist/best_model.h1\n",
            "750/750 [==============================] - 5s 6ms/step - loss: 0.0439 - accuracy: 0.9885 - val_loss: 0.0592 - val_accuracy: 0.9832\n",
            "Epoch 44/50\n",
            "741/750 [============================>.] - ETA: 0s - loss: 0.0431 - accuracy: 0.9886\n",
            "Epoch 44: val_accuracy did not improve from 0.98317\n",
            "750/750 [==============================] - 4s 6ms/step - loss: 0.0431 - accuracy: 0.9885 - val_loss: 0.0611 - val_accuracy: 0.9827\n",
            "Epoch 45/50\n",
            "746/750 [============================>.] - ETA: 0s - loss: 0.0425 - accuracy: 0.9890\n",
            "Epoch 45: val_accuracy improved from 0.98317 to 0.98367, saving model to mnist/best_model.h1\n",
            "750/750 [==============================] - 5s 6ms/step - loss: 0.0424 - accuracy: 0.9890 - val_loss: 0.0590 - val_accuracy: 0.9837\n",
            "Epoch 46/50\n",
            "742/750 [============================>.] - ETA: 0s - loss: 0.0415 - accuracy: 0.9892\n",
            "Epoch 46: val_accuracy did not improve from 0.98367\n",
            "750/750 [==============================] - 4s 5ms/step - loss: 0.0414 - accuracy: 0.9893 - val_loss: 0.0582 - val_accuracy: 0.9829\n",
            "Epoch 47/50\n",
            "744/750 [============================>.] - ETA: 0s - loss: 0.0407 - accuracy: 0.9896\n",
            "Epoch 47: val_accuracy improved from 0.98367 to 0.98383, saving model to mnist/best_model.h1\n",
            "750/750 [==============================] - 5s 7ms/step - loss: 0.0408 - accuracy: 0.9896 - val_loss: 0.0587 - val_accuracy: 0.9838\n",
            "Epoch 48/50\n",
            "748/750 [============================>.] - ETA: 0s - loss: 0.0397 - accuracy: 0.9893\n",
            "Epoch 48: val_accuracy did not improve from 0.98383\n",
            "750/750 [==============================] - 4s 6ms/step - loss: 0.0397 - accuracy: 0.9893 - val_loss: 0.0590 - val_accuracy: 0.9827\n",
            "Epoch 49/50\n",
            "740/750 [============================>.] - ETA: 0s - loss: 0.0391 - accuracy: 0.9901\n",
            "Epoch 49: val_accuracy improved from 0.98383 to 0.98467, saving model to mnist/best_model.h1\n",
            "750/750 [==============================] - 5s 7ms/step - loss: 0.0391 - accuracy: 0.9900 - val_loss: 0.0563 - val_accuracy: 0.9847\n",
            "Epoch 50/50\n",
            "744/750 [============================>.] - ETA: 0s - loss: 0.0384 - accuracy: 0.9899\n",
            "Epoch 50: val_accuracy did not improve from 0.98467\n",
            "750/750 [==============================] - 4s 6ms/step - loss: 0.0383 - accuracy: 0.9899 - val_loss: 0.0557 - val_accuracy: 0.9839\n"
          ]
        }
      ]
    },
    {
      "cell_type": "code",
      "source": [
        "acc = hist_4.history['accuracy']\n",
        "val_acc = hist_4.history['val_accuracy']\n",
        "loss = hist_4.history['loss']\n",
        "val_loss = hist_4.history['val_loss']\n",
        "\n",
        "epochs = range(1, len(acc)+1)\n",
        "\n",
        "plt.figure(figsize=(8, 12))\n",
        "ax1=plt.subplot(2, 1, 1)\n",
        "ax2=plt.subplot(2, 1, 2)\n",
        "ax1.plot(epochs, acc, 'bo', label='Trainig acc')\n",
        "ax1.plot(epochs, val_acc, 'b', label='Validation acc')\n",
        "ax1.set_title(\"Training and Validation accuracy\")\n",
        "ax1.legend()\n",
        "ax2.plot(epochs, loss, 'bo', label='Traning loss')\n",
        "ax2.plot(epochs, val_loss, 'b', label='Validation loss')\n",
        "ax2.set_title(\"Training and Validation loss\")\n",
        "ax2.legend()\n",
        "plt.show()"
      ],
      "metadata": {
        "id": "mFOaiWO_sRfX",
        "colab": {
          "base_uri": "https://localhost:8080/",
          "height": 716
        },
        "outputId": "4474a84a-6db2-4742-d7b7-01c1f9b92402"
      },
      "execution_count": null,
      "outputs": [
        {
          "output_type": "display_data",
          "data": {
            "text/plain": [
              "<Figure size 576x864 with 2 Axes>"
            ],
            "image/png": "[encoded data removed]"
          },
          "metadata": {
            "needs_background": "light"
          }
        }
      ]
    },
    {
      "cell_type": "code",
      "source": [
        "model_4.evaluate(test_imgs, test_labels)"
      ],
      "metadata": {
        "id": "A4f_4uKMk9gD",
        "colab": {
          "base_uri": "https://localhost:8080/"
        },
        "outputId": "54a4fd57-ec96-4145-b83b-1a31afd0dd23"
      },
      "execution_count": null,
      "outputs": [
        {
          "output_type": "stream",
          "name": "stdout",
          "text": [
            "313/313 [==============================] - 1s 3ms/step - loss: 0.0437 - accuracy: 0.9873\n"
          ]
        },
        {
          "output_type": "execute_result",
          "data": {
            "text/plain": [
              "[0.04370482638478279, 0.9872999787330627]"
            ]
          },
          "metadata": {},
          "execution_count": 23
        }
      ]
    },
    {
      "cell_type": "code",
      "source": [
        "model_4_1 = keras.Sequential([\n",
        "  layers.Conv2D(128, (3, 3), activation='relu', input_shape=(28, 28, 1)),\n",
        "  layers.MaxPooling2D((2, 2)),\n",
        "  layers.Conv2D(64, (3, 3), activation='relu'),\n",
        "  layers.MaxPooling2D((2, 2)),\n",
        "  layers.Conv2D(32, (3, 3), activation='relu'),\n",
        "  layers.Flatten(),\n",
        "  layers.Dense(64, activation = 'relu'),\n",
        "  layers.Dense(10, activation = 'softmax')\n",
        "])"
      ],
      "metadata": {
        "id": "KckvoMxelA7K"
      },
      "execution_count": null,
      "outputs": []
    },
    {
      "cell_type": "code",
      "source": [
        "model_4_1.compile(optimizer=\"adam\", loss=\"categorical_crossentropy\", metrics=[\"accuracy\"])"
      ],
      "metadata": {
        "id": "_ldV-EcqlA7K"
      },
      "execution_count": null,
      "outputs": []
    },
    {
      "cell_type": "code",
      "source": [
        "es = EarlyStopping(monitor='val_loss', mode='min', verbose=1, patience=3)\n",
        "mc = ModelCheckpoint('mnist/model_4_1.h5', monitor='val_accuracy', mode='max', verbose=1, save_best_only=True)\n",
        "hist_4_1 = model_4_1.fit(train_imgs, train_labels, epochs=30, batch_size=64, validation_split=0.2, callbacks=[es, mc])"
      ],
      "metadata": {
        "id": "u-pnKVXOlA7K",
        "colab": {
          "base_uri": "https://localhost:8080/"
        },
        "outputId": "e2058641-eb56-4207-9978-8b7b5f92168c"
      },
      "execution_count": null,
      "outputs": [
        {
          "output_type": "stream",
          "name": "stdout",
          "text": [
            "Epoch 1/30\n",
            "741/750 [============================>.] - ETA: 0s - loss: 0.2137 - accuracy: 0.9334\n",
            "Epoch 1: val_accuracy improved from -inf to 0.97950, saving model to mnist/best_model.h2\n",
            "750/750 [==============================] - 6s 8ms/step - loss: 0.2122 - accuracy: 0.9338 - val_loss: 0.0698 - val_accuracy: 0.9795\n",
            "Epoch 2/30\n",
            "748/750 [============================>.] - ETA: 0s - loss: 0.0566 - accuracy: 0.9823\n",
            "Epoch 2: val_accuracy improved from 0.97950 to 0.98325, saving model to mnist/best_model.h2\n",
            "750/750 [==============================] - 5s 7ms/step - loss: 0.0565 - accuracy: 0.9823 - val_loss: 0.0588 - val_accuracy: 0.9833\n",
            "Epoch 3/30\n",
            "747/750 [============================>.] - ETA: 0s - loss: 0.0411 - accuracy: 0.9873\n",
            "Epoch 3: val_accuracy improved from 0.98325 to 0.98783, saving model to mnist/best_model.h2\n",
            "750/750 [==============================] - 5s 7ms/step - loss: 0.0412 - accuracy: 0.9873 - val_loss: 0.0441 - val_accuracy: 0.9878\n",
            "Epoch 4/30\n",
            "745/750 [============================>.] - ETA: 0s - loss: 0.0323 - accuracy: 0.9899\n",
            "Epoch 4: val_accuracy improved from 0.98783 to 0.98900, saving model to mnist/best_model.h2\n",
            "750/750 [==============================] - 5s 6ms/step - loss: 0.0323 - accuracy: 0.9899 - val_loss: 0.0414 - val_accuracy: 0.9890\n",
            "Epoch 5/30\n",
            "742/750 [============================>.] - ETA: 0s - loss: 0.0245 - accuracy: 0.9919\n",
            "Epoch 5: val_accuracy did not improve from 0.98900\n",
            "750/750 [==============================] - 4s 6ms/step - loss: 0.0244 - accuracy: 0.9919 - val_loss: 0.0451 - val_accuracy: 0.9864\n",
            "Epoch 6/30\n",
            "747/750 [============================>.] - ETA: 0s - loss: 0.0205 - accuracy: 0.9932\n",
            "Epoch 6: val_accuracy did not improve from 0.98900\n",
            "750/750 [==============================] - 4s 5ms/step - loss: 0.0205 - accuracy: 0.9932 - val_loss: 0.0404 - val_accuracy: 0.9887\n",
            "Epoch 7/30\n",
            "750/750 [==============================] - ETA: 0s - loss: 0.0164 - accuracy: 0.9947\n",
            "Epoch 7: val_accuracy improved from 0.98900 to 0.98917, saving model to mnist/best_model.h2\n",
            "750/750 [==============================] - 5s 6ms/step - loss: 0.0164 - accuracy: 0.9947 - val_loss: 0.0436 - val_accuracy: 0.9892\n",
            "Epoch 8/30\n",
            "747/750 [============================>.] - ETA: 0s - loss: 0.0158 - accuracy: 0.9949\n",
            "Epoch 8: val_accuracy improved from 0.98917 to 0.98942, saving model to mnist/best_model.h2\n",
            "750/750 [==============================] - 5s 6ms/step - loss: 0.0159 - accuracy: 0.9949 - val_loss: 0.0422 - val_accuracy: 0.9894\n",
            "Epoch 9/30\n",
            "741/750 [============================>.] - ETA: 0s - loss: 0.0117 - accuracy: 0.9958\n",
            "Epoch 9: val_accuracy did not improve from 0.98942\n",
            "750/750 [==============================] - 4s 6ms/step - loss: 0.0119 - accuracy: 0.9958 - val_loss: 0.0440 - val_accuracy: 0.9893\n",
            "Epoch 9: early stopping\n"
          ]
        }
      ]
    },
    {
      "cell_type": "code",
      "source": [
        "acc = hist_4_1.history['accuracy']\n",
        "val_acc = hist_4_1.history['val_accuracy']\n",
        "loss = hist_4_1.history['loss']\n",
        "val_loss = hist_4_1.history['val_loss']\n",
        "\n",
        "epochs = range(1, len(acc)+1)\n",
        "\n",
        "plt.figure(figsize=(8, 12))\n",
        "ax1=plt.subplot(2, 1, 1)\n",
        "ax2=plt.subplot(2, 1, 2)\n",
        "ax1.plot(epochs, acc, 'bo', label='Trainig acc')\n",
        "ax1.plot(epochs, val_acc, 'b', label='Validation acc')\n",
        "ax1.set_title(\"Training and Validation accuracy\")\n",
        "ax1.legend()\n",
        "ax2.plot(epochs, loss, 'bo', label='Traning loss')\n",
        "ax2.plot(epochs, val_loss, 'b', label='Validation loss')\n",
        "ax2.set_title(\"Training and Validation loss\")\n",
        "ax2.legend()\n",
        "plt.show()"
      ],
      "metadata": {
        "id": "2peQe0GflA7L",
        "colab": {
          "base_uri": "https://localhost:8080/",
          "height": 716
        },
        "outputId": "7cde3926-e4f5-48a9-e0dc-56ab7f2bd760"
      },
      "execution_count": null,
      "outputs": [
        {
          "output_type": "display_data",
          "data": {
            "text/plain": [
              "<Figure size 576x864 with 2 Axes>"
            ],
            "image/png": "[encoded data removed]"
          },
          "metadata": {
            "needs_background": "light"
          }
        }
      ]
    },
    {
      "cell_type": "code",
      "source": [
        "model_4_1.evaluate(test_imgs, test_labels)"
      ],
      "metadata": {
        "id": "GOkjtEBVlA7L",
        "colab": {
          "base_uri": "https://localhost:8080/"
        },
        "outputId": "dffe940d-8ff5-4090-d1aa-6f0b355e8892"
      },
      "execution_count": null,
      "outputs": [
        {
          "output_type": "stream",
          "name": "stdout",
          "text": [
            "313/313 [==============================] - 1s 3ms/step - loss: 0.0333 - accuracy: 0.9898\n"
          ]
        },
        {
          "output_type": "execute_result",
          "data": {
            "text/plain": [
              "[0.033344052731990814, 0.989799976348877]"
            ]
          },
          "metadata": {},
          "execution_count": 28
        }
      ]
    },
    {
      "cell_type": "code",
      "source": [
        "model_4_2 = keras.Sequential([\n",
        "  layers.Conv2D(128, (3, 3), activation='relu', input_shape=(28, 28, 1)),\n",
        "  layers.MaxPooling2D((2, 2)),\n",
        "  layers.Conv2D(64, (3, 3), activation='relu'),\n",
        "  layers.MaxPooling2D((2, 2)),\n",
        "  layers.Conv2D(32, (3, 3), activation='relu'),\n",
        "  layers.Flatten(),\n",
        "  layers.Dense(64, activation = 'sigmoid'),\n",
        "  layers.Dense(10, activation = 'softmax')\n",
        "])"
      ],
      "metadata": {
        "id": "GA2PX8zOl6uY"
      },
      "execution_count": null,
      "outputs": []
    },
    {
      "cell_type": "code",
      "source": [
        "model_4_2.compile(optimizer=\"rmsprop\", loss=\"categorical_crossentropy\", metrics=[\"accuracy\"])"
      ],
      "metadata": {
        "id": "89Dh8NCXl6uZ"
      },
      "execution_count": null,
      "outputs": []
    },
    {
      "cell_type": "code",
      "source": [
        "es = EarlyStopping(monitor='val_loss', mode='min', verbose=1, patience=3)\n",
        "mc = ModelCheckpoint('mnist/model_4_2.h5', monitor='val_accuracy', mode='max', verbose=1, save_best_only=True)\n",
        "hist_4_2 = model_4_2.fit(train_imgs, train_labels, epochs=30, batch_size=128, validation_split=0.2, callbacks=[es, mc])"
      ],
      "metadata": {
        "id": "q_jhZxVel6uZ",
        "colab": {
          "base_uri": "https://localhost:8080/"
        },
        "outputId": "c0b8a639-8149-4670-def1-339c7139fa08"
      },
      "execution_count": null,
      "outputs": [
        {
          "output_type": "stream",
          "name": "stdout",
          "text": [
            "Epoch 1/30\n",
            "372/375 [============================>.] - ETA: 0s - loss: 0.4019 - accuracy: 0.8971\n",
            "Epoch 1: val_accuracy improved from -inf to 0.97250, saving model to mnist/best_model.h3\n",
            "375/375 [==============================] - 8s 18ms/step - loss: 0.3996 - accuracy: 0.8977 - val_loss: 0.1060 - val_accuracy: 0.9725\n",
            "Epoch 2/30\n",
            "374/375 [============================>.] - ETA: 0s - loss: 0.0877 - accuracy: 0.9751\n",
            "Epoch 2: val_accuracy improved from 0.97250 to 0.98275, saving model to mnist/best_model.h3\n",
            "375/375 [==============================] - 4s 12ms/step - loss: 0.0876 - accuracy: 0.9751 - val_loss: 0.0618 - val_accuracy: 0.9827\n",
            "Epoch 3/30\n",
            "372/375 [============================>.] - ETA: 0s - loss: 0.0551 - accuracy: 0.9834\n",
            "Epoch 3: val_accuracy did not improve from 0.98275\n",
            "375/375 [==============================] - 4s 11ms/step - loss: 0.0553 - accuracy: 0.9834 - val_loss: 0.0579 - val_accuracy: 0.9826\n",
            "Epoch 4/30\n",
            "372/375 [============================>.] - ETA: 0s - loss: 0.0408 - accuracy: 0.9878\n",
            "Epoch 4: val_accuracy improved from 0.98275 to 0.98758, saving model to mnist/best_model.h3\n",
            "375/375 [==============================] - 4s 12ms/step - loss: 0.0406 - accuracy: 0.9878 - val_loss: 0.0415 - val_accuracy: 0.9876\n",
            "Epoch 5/30\n",
            "371/375 [============================>.] - ETA: 0s - loss: 0.0313 - accuracy: 0.9905\n",
            "Epoch 5: val_accuracy improved from 0.98758 to 0.98808, saving model to mnist/best_model.h3\n",
            "375/375 [==============================] - 5s 12ms/step - loss: 0.0314 - accuracy: 0.9905 - val_loss: 0.0394 - val_accuracy: 0.9881\n",
            "Epoch 6/30\n",
            "371/375 [============================>.] - ETA: 0s - loss: 0.0249 - accuracy: 0.9926\n",
            "Epoch 6: val_accuracy improved from 0.98808 to 0.98833, saving model to mnist/best_model.h3\n",
            "375/375 [==============================] - 5s 12ms/step - loss: 0.0247 - accuracy: 0.9927 - val_loss: 0.0395 - val_accuracy: 0.9883\n",
            "Epoch 7/30\n",
            "372/375 [============================>.] - ETA: 0s - loss: 0.0198 - accuracy: 0.9941\n",
            "Epoch 7: val_accuracy improved from 0.98833 to 0.98942, saving model to mnist/best_model.h3\n",
            "375/375 [==============================] - 5s 13ms/step - loss: 0.0197 - accuracy: 0.9941 - val_loss: 0.0391 - val_accuracy: 0.9894\n",
            "Epoch 8/30\n",
            "372/375 [============================>.] - ETA: 0s - loss: 0.0174 - accuracy: 0.9947\n",
            "Epoch 8: val_accuracy did not improve from 0.98942\n",
            "375/375 [==============================] - 4s 11ms/step - loss: 0.0174 - accuracy: 0.9947 - val_loss: 0.0466 - val_accuracy: 0.9852\n",
            "Epoch 9/30\n",
            "375/375 [==============================] - ETA: 0s - loss: 0.0132 - accuracy: 0.9958\n",
            "Epoch 9: val_accuracy improved from 0.98942 to 0.98958, saving model to mnist/best_model.h3\n",
            "375/375 [==============================] - 5s 13ms/step - loss: 0.0132 - accuracy: 0.9958 - val_loss: 0.0395 - val_accuracy: 0.9896\n",
            "Epoch 10/30\n",
            "372/375 [============================>.] - ETA: 0s - loss: 0.0115 - accuracy: 0.9967\n",
            "Epoch 10: val_accuracy improved from 0.98958 to 0.99050, saving model to mnist/best_model.h3\n",
            "375/375 [==============================] - 4s 12ms/step - loss: 0.0115 - accuracy: 0.9966 - val_loss: 0.0365 - val_accuracy: 0.9905\n",
            "Epoch 11/30\n",
            "372/375 [============================>.] - ETA: 0s - loss: 0.0093 - accuracy: 0.9974\n",
            "Epoch 11: val_accuracy did not improve from 0.99050\n",
            "375/375 [==============================] - 4s 10ms/step - loss: 0.0093 - accuracy: 0.9974 - val_loss: 0.0362 - val_accuracy: 0.9902\n",
            "Epoch 12/30\n",
            "371/375 [============================>.] - ETA: 0s - loss: 0.0075 - accuracy: 0.9979\n",
            "Epoch 12: val_accuracy improved from 0.99050 to 0.99117, saving model to mnist/best_model.h3\n",
            "375/375 [==============================] - 5s 13ms/step - loss: 0.0075 - accuracy: 0.9979 - val_loss: 0.0326 - val_accuracy: 0.9912\n",
            "Epoch 13/30\n",
            "371/375 [============================>.] - ETA: 0s - loss: 0.0065 - accuracy: 0.9983\n",
            "Epoch 13: val_accuracy did not improve from 0.99117\n",
            "375/375 [==============================] - 4s 10ms/step - loss: 0.0066 - accuracy: 0.9983 - val_loss: 0.0474 - val_accuracy: 0.9878\n",
            "Epoch 14/30\n",
            "375/375 [==============================] - ETA: 0s - loss: 0.0062 - accuracy: 0.9981\n",
            "Epoch 14: val_accuracy did not improve from 0.99117\n",
            "375/375 [==============================] - 4s 11ms/step - loss: 0.0062 - accuracy: 0.9981 - val_loss: 0.0400 - val_accuracy: 0.9903\n",
            "Epoch 15/30\n",
            "372/375 [============================>.] - ETA: 0s - loss: 0.0048 - accuracy: 0.9984\n",
            "Epoch 15: val_accuracy did not improve from 0.99117\n",
            "375/375 [==============================] - 4s 10ms/step - loss: 0.0049 - accuracy: 0.9984 - val_loss: 0.0386 - val_accuracy: 0.9905\n",
            "Epoch 15: early stopping\n"
          ]
        }
      ]
    },
    {
      "cell_type": "code",
      "source": [
        "acc = hist_4_2.history['accuracy']\n",
        "val_acc = hist_4_2.history['val_accuracy']\n",
        "loss = hist_4_2.history['loss']\n",
        "val_loss = hist_4_2.history['val_loss']\n",
        "\n",
        "epochs = range(1, len(acc)+1)\n",
        "\n",
        "plt.figure(figsize=(8, 12))\n",
        "ax1=plt.subplot(2, 1, 1)\n",
        "ax2=plt.subplot(2, 1, 2)\n",
        "ax1.plot(epochs, acc, 'bo', label='Trainig acc')\n",
        "ax1.plot(epochs, val_acc, 'b', label='Validation acc')\n",
        "ax1.set_title(\"Training and Validation accuracy\")\n",
        "ax1.legend()\n",
        "ax2.plot(epochs, loss, 'bo', label='Traning loss')\n",
        "ax2.plot(epochs, val_loss, 'b', label='Validation loss')\n",
        "ax2.set_title(\"Training and Validation loss\")\n",
        "ax2.legend()\n",
        "plt.show()"
      ],
      "metadata": {
        "id": "0BRTA9ySl6ua",
        "colab": {
          "base_uri": "https://localhost:8080/",
          "height": 716
        },
        "outputId": "cb3b13fc-d862-4702-df3f-3bae333fe180"
      },
      "execution_count": null,
      "outputs": [
        {
          "output_type": "display_data",
          "data": {
            "text/plain": [
              "<Figure size 576x864 with 2 Axes>"
            ],
            "image/png": "[encoded data removed]"
          },
          "metadata": {
            "needs_background": "light"
          }
        }
      ]
    },
    {
      "cell_type": "code",
      "source": [
        "model_4_2.evaluate(test_imgs, test_labels)"
      ],
      "metadata": {
        "id": "Whek4xDOl6ua",
        "colab": {
          "base_uri": "https://localhost:8080/"
        },
        "outputId": "60b73c4a-6538-4691-9911-fa9c19c677f3"
      },
      "execution_count": null,
      "outputs": [
        {
          "output_type": "stream",
          "name": "stdout",
          "text": [
            "313/313 [==============================] - 1s 3ms/step - loss: 0.0335 - accuracy: 0.9910\n"
          ]
        },
        {
          "output_type": "execute_result",
          "data": {
            "text/plain": [
              "[0.03353824093937874, 0.9909999966621399]"
            ]
          },
          "metadata": {},
          "execution_count": 33
        }
      ]
    },
    {
      "cell_type": "markdown",
      "source": [
        "### __try05 가중치 규제 추가(kernel_regularizer)__"
      ],
      "metadata": {
        "id": "ySQhb82BwgmU"
      }
    },
    {
      "cell_type": "code",
      "source": [
        "from keras import regularizers"
      ],
      "metadata": {
        "id": "dlqNaSRO3rXx"
      },
      "execution_count": null,
      "outputs": []
    },
    {
      "cell_type": "code",
      "source": [
        "model_5 = keras.Sequential([\n",
        "  layers.Conv2D(128, (3, 3), kernel_regularizer=regularizers.l2(0.001), activation='relu', input_shape=(28, 28, 1)),\n",
        "  layers.MaxPooling2D((2, 2)),\n",
        "  layers.Conv2D(64, (3, 3), kernel_regularizer=regularizers.l2(0.001), activation='relu'),\n",
        "  layers.MaxPooling2D((2, 2)),\n",
        "  layers.Conv2D(32, (3, 3), kernel_regularizer=regularizers.l2(0.001), activation='relu'),\n",
        "  layers.Flatten(),\n",
        "  layers.Dense(64, kernel_regularizer=regularizers.l2(0.001), activation = 'sigmoid'),\n",
        "  layers.Dense(10, activation = 'softmax')\n",
        "])\n",
        "model_5.summary()"
      ],
      "metadata": {
        "colab": {
          "base_uri": "https://localhost:8080/"
        },
        "outputId": "19a7bfe3-73b9-4a1e-d70c-3b3e8a3cb207",
        "id": "r6FOUvifwgmU"
      },
      "execution_count": null,
      "outputs": [
        {
          "output_type": "stream",
          "name": "stdout",
          "text": [
            "Model: \"sequential_3\"\n",
            "_________________________________________________________________\n",
            " Layer (type)                Output Shape              Param #   \n",
            "=================================================================\n",
            " conv2d_9 (Conv2D)           (None, 26, 26, 128)       1280      \n",
            "                                                                 \n",
            " max_pooling2d_6 (MaxPooling  (None, 13, 13, 128)      0         \n",
            " 2D)                                                             \n",
            "                                                                 \n",
            " conv2d_10 (Conv2D)          (None, 11, 11, 64)        73792     \n",
            "                                                                 \n",
            " max_pooling2d_7 (MaxPooling  (None, 5, 5, 64)         0         \n",
            " 2D)                                                             \n",
            "                                                                 \n",
            " conv2d_11 (Conv2D)          (None, 3, 3, 32)          18464     \n",
            "                                                                 \n",
            " flatten_3 (Flatten)         (None, 288)               0         \n",
            "                                                                 \n",
            " dense_6 (Dense)             (None, 64)                18496     \n",
            "                                                                 \n",
            " dense_7 (Dense)             (None, 10)                650       \n",
            "                                                                 \n",
            "=================================================================\n",
            "Total params: 112,682\n",
            "Trainable params: 112,682\n",
            "Non-trainable params: 0\n",
            "_________________________________________________________________\n"
          ]
        }
      ]
    },
    {
      "cell_type": "code",
      "source": [
        "model_5.compile(optimizer=\"SGD\", loss=\"categorical_crossentropy\", metrics=[\"accuracy\"])"
      ],
      "metadata": {
        "id": "HxuWFN0WwgmV"
      },
      "execution_count": null,
      "outputs": []
    },
    {
      "cell_type": "code",
      "source": [
        "hist_5 = model_5.fit(train_imgs, train_labels, epochs=30, batch_size=64, validation_split=0.2)"
      ],
      "metadata": {
        "colab": {
          "base_uri": "https://localhost:8080/"
        },
        "outputId": "2407227e-5fea-45de-f1cc-b98f2370ec45",
        "id": "i316vWw2wgmV"
      },
      "execution_count": null,
      "outputs": [
        {
          "output_type": "stream",
          "name": "stdout",
          "text": [
            "Epoch 1/30\n",
            "750/750 [==============================] - 5s 6ms/step - loss: 2.4717 - accuracy: 0.2852 - val_loss: 2.2336 - val_accuracy: 0.6183\n",
            "Epoch 2/30\n",
            "750/750 [==============================] - 4s 6ms/step - loss: 1.3493 - accuracy: 0.7635 - val_loss: 0.8626 - val_accuracy: 0.8647\n",
            "Epoch 3/30\n",
            "750/750 [==============================] - 4s 6ms/step - loss: 0.7718 - accuracy: 0.8734 - val_loss: 0.6582 - val_accuracy: 0.9007\n",
            "Epoch 4/30\n",
            "750/750 [==============================] - 5s 6ms/step - loss: 0.6353 - accuracy: 0.8984 - val_loss: 0.5769 - val_accuracy: 0.9143\n",
            "Epoch 5/30\n",
            "750/750 [==============================] - 4s 6ms/step - loss: 0.5627 - accuracy: 0.9140 - val_loss: 0.5109 - val_accuracy: 0.9308\n",
            "Epoch 6/30\n",
            "750/750 [==============================] - 4s 6ms/step - loss: 0.5119 - accuracy: 0.9254 - val_loss: 0.4711 - val_accuracy: 0.9401\n",
            "Epoch 7/30\n",
            "750/750 [==============================] - 4s 6ms/step - loss: 0.4718 - accuracy: 0.9344 - val_loss: 0.4385 - val_accuracy: 0.9447\n",
            "Epoch 8/30\n",
            "750/750 [==============================] - 4s 6ms/step - loss: 0.4398 - accuracy: 0.9421 - val_loss: 0.4106 - val_accuracy: 0.9531\n",
            "Epoch 9/30\n",
            "750/750 [==============================] - 4s 6ms/step - loss: 0.4119 - accuracy: 0.9483 - val_loss: 0.3890 - val_accuracy: 0.9558\n",
            "Epoch 10/30\n",
            "750/750 [==============================] - 4s 6ms/step - loss: 0.3892 - accuracy: 0.9535 - val_loss: 0.3725 - val_accuracy: 0.9589\n",
            "Epoch 11/30\n",
            "750/750 [==============================] - 4s 6ms/step - loss: 0.3700 - accuracy: 0.9572 - val_loss: 0.3560 - val_accuracy: 0.9609\n",
            "Epoch 12/30\n",
            "750/750 [==============================] - 4s 6ms/step - loss: 0.3532 - accuracy: 0.9610 - val_loss: 0.3375 - val_accuracy: 0.9645\n",
            "Epoch 13/30\n",
            "750/750 [==============================] - 4s 6ms/step - loss: 0.3395 - accuracy: 0.9632 - val_loss: 0.3265 - val_accuracy: 0.9660\n",
            "Epoch 14/30\n",
            "750/750 [==============================] - 4s 6ms/step - loss: 0.3266 - accuracy: 0.9654 - val_loss: 0.3180 - val_accuracy: 0.9672\n",
            "Epoch 15/30\n",
            "750/750 [==============================] - 4s 6ms/step - loss: 0.3150 - accuracy: 0.9677 - val_loss: 0.3081 - val_accuracy: 0.9697\n",
            "Epoch 16/30\n",
            "750/750 [==============================] - 4s 6ms/step - loss: 0.3056 - accuracy: 0.9697 - val_loss: 0.2974 - val_accuracy: 0.9703\n",
            "Epoch 17/30\n",
            "750/750 [==============================] - 4s 6ms/step - loss: 0.2959 - accuracy: 0.9707 - val_loss: 0.2885 - val_accuracy: 0.9721\n",
            "Epoch 18/30\n",
            "750/750 [==============================] - 4s 6ms/step - loss: 0.2877 - accuracy: 0.9717 - val_loss: 0.2842 - val_accuracy: 0.9722\n",
            "Epoch 19/30\n",
            "750/750 [==============================] - 4s 6ms/step - loss: 0.2798 - accuracy: 0.9726 - val_loss: 0.2750 - val_accuracy: 0.9748\n",
            "Epoch 20/30\n",
            "750/750 [==============================] - 4s 6ms/step - loss: 0.2723 - accuracy: 0.9739 - val_loss: 0.2708 - val_accuracy: 0.9741\n",
            "Epoch 21/30\n",
            "750/750 [==============================] - 4s 6ms/step - loss: 0.2652 - accuracy: 0.9748 - val_loss: 0.2636 - val_accuracy: 0.9751\n",
            "Epoch 22/30\n",
            "750/750 [==============================] - 4s 6ms/step - loss: 0.2586 - accuracy: 0.9756 - val_loss: 0.2620 - val_accuracy: 0.9741\n",
            "Epoch 23/30\n",
            "750/750 [==============================] - 4s 6ms/step - loss: 0.2529 - accuracy: 0.9762 - val_loss: 0.2543 - val_accuracy: 0.9757\n",
            "Epoch 24/30\n",
            "750/750 [==============================] - 4s 6ms/step - loss: 0.2474 - accuracy: 0.9768 - val_loss: 0.2487 - val_accuracy: 0.9758\n",
            "Epoch 25/30\n",
            "750/750 [==============================] - 4s 6ms/step - loss: 0.2415 - accuracy: 0.9779 - val_loss: 0.2429 - val_accuracy: 0.9771\n",
            "Epoch 26/30\n",
            "750/750 [==============================] - 4s 6ms/step - loss: 0.2364 - accuracy: 0.9784 - val_loss: 0.2395 - val_accuracy: 0.9762\n",
            "Epoch 27/30\n",
            "750/750 [==============================] - 4s 6ms/step - loss: 0.2316 - accuracy: 0.9789 - val_loss: 0.2335 - val_accuracy: 0.9783\n",
            "Epoch 28/30\n",
            "750/750 [==============================] - 4s 6ms/step - loss: 0.2267 - accuracy: 0.9796 - val_loss: 0.2295 - val_accuracy: 0.9780\n",
            "Epoch 29/30\n",
            "750/750 [==============================] - 4s 6ms/step - loss: 0.2224 - accuracy: 0.9798 - val_loss: 0.2280 - val_accuracy: 0.9772\n",
            "Epoch 30/30\n",
            "750/750 [==============================] - 4s 6ms/step - loss: 0.2177 - accuracy: 0.9806 - val_loss: 0.2194 - val_accuracy: 0.9790\n"
          ]
        }
      ]
    },
    {
      "cell_type": "code",
      "source": [
        "acc = hist_5.history['accuracy']\n",
        "val_acc = hist_5.history['val_accuracy']\n",
        "loss = hist_5.history['loss']\n",
        "val_loss = hist_5.history['val_loss']\n",
        "\n",
        "epochs = range(1, len(acc)+1)\n",
        "\n",
        "plt.figure(figsize=(8, 12))\n",
        "ax1=plt.subplot(2, 1, 1)\n",
        "ax2=plt.subplot(2, 1, 2)\n",
        "ax1.plot(epochs, acc, 'bo', label='Trainig acc')\n",
        "ax1.plot(epochs, val_acc, 'b', label='Validation acc')\n",
        "ax1.set_title(\"Training and Validation accuracy\")\n",
        "ax1.legend()\n",
        "ax2.plot(epochs, loss, 'bo', label='Traning loss')\n",
        "ax2.plot(epochs, val_loss, 'b', label='Validation loss')\n",
        "ax2.set_title(\"Training and Validation loss\")\n",
        "ax2.legend()\n",
        "plt.show()"
      ],
      "metadata": {
        "colab": {
          "base_uri": "https://localhost:8080/",
          "height": 716
        },
        "outputId": "b29828c7-0079-4d03-9717-61b7e3d4420c",
        "id": "tUc9bTnxwgmV"
      },
      "execution_count": null,
      "outputs": [
        {
          "output_type": "display_data",
          "data": {
            "text/plain": [
              "<Figure size 576x864 with 2 Axes>"
            ],
            "image/png": "[encoded data removed]"
          },
          "metadata": {
            "needs_background": "light"
          }
        }
      ]
    },
    {
      "cell_type": "code",
      "source": [
        "model_5.evaluate(test_imgs, test_labels)"
      ],
      "metadata": {
        "colab": {
          "base_uri": "https://localhost:8080/"
        },
        "outputId": "3ae6af7d-b0aa-4956-9a79-3abd5b62f0b0",
        "id": "pdwxL2r8wgmW"
      },
      "execution_count": null,
      "outputs": [
        {
          "output_type": "stream",
          "name": "stdout",
          "text": [
            "313/313 [==============================] - 1s 3ms/step - loss: 0.2110 - accuracy: 0.9813\n"
          ]
        },
        {
          "output_type": "execute_result",
          "data": {
            "text/plain": [
              "[0.21098144352436066, 0.9812999963760376]"
            ]
          },
          "metadata": {},
          "execution_count": 39
        }
      ]
    },
    {
      "cell_type": "code",
      "source": [
        "model_5_1 = keras.Sequential([\n",
        "  layers.Conv2D(128, (3, 3), kernel_regularizer=regularizers.l2(0.001), activation='relu', input_shape=(28, 28, 1)),\n",
        "  layers.MaxPooling2D((2, 2)),\n",
        "  layers.Conv2D(64, (3, 3), kernel_regularizer=regularizers.l2(0.001), activation='relu'),\n",
        "  layers.MaxPooling2D((2, 2)),\n",
        "  layers.Conv2D(32, (3, 3), kernel_regularizer=regularizers.l2(0.001), activation='relu'),\n",
        "  layers.Flatten(),\n",
        "  layers.Dense(64, kernel_regularizer=regularizers.l2(0.001), activation = 'relu'),\n",
        "  layers.Dense(10, activation = 'softmax')\n",
        "])\n",
        "model_5_1.summary()"
      ],
      "metadata": {
        "colab": {
          "base_uri": "https://localhost:8080/"
        },
        "id": "UK2ADiD2wgmX",
        "outputId": "68554ab6-b5f5-4212-c3ee-3427d7fda1a0"
      },
      "execution_count": null,
      "outputs": [
        {
          "output_type": "stream",
          "name": "stdout",
          "text": [
            "Model: \"sequential_4\"\n",
            "_________________________________________________________________\n",
            " Layer (type)                Output Shape              Param #   \n",
            "=================================================================\n",
            " conv2d_12 (Conv2D)          (None, 26, 26, 128)       1280      \n",
            "                                                                 \n",
            " max_pooling2d_8 (MaxPooling  (None, 13, 13, 128)      0         \n",
            " 2D)                                                             \n",
            "                                                                 \n",
            " conv2d_13 (Conv2D)          (None, 11, 11, 64)        73792     \n",
            "                                                                 \n",
            " max_pooling2d_9 (MaxPooling  (None, 5, 5, 64)         0         \n",
            " 2D)                                                             \n",
            "                                                                 \n",
            " conv2d_14 (Conv2D)          (None, 3, 3, 32)          18464     \n",
            "                                                                 \n",
            " flatten_4 (Flatten)         (None, 288)               0         \n",
            "                                                                 \n",
            " dense_8 (Dense)             (None, 64)                18496     \n",
            "                                                                 \n",
            " dense_9 (Dense)             (None, 10)                650       \n",
            "                                                                 \n",
            "=================================================================\n",
            "Total params: 112,682\n",
            "Trainable params: 112,682\n",
            "Non-trainable params: 0\n",
            "_________________________________________________________________\n"
          ]
        }
      ]
    },
    {
      "cell_type": "code",
      "source": [
        "model_5_1.compile(optimizer=\"adam\", loss=\"categorical_crossentropy\", metrics=[\"accuracy\"])"
      ],
      "metadata": {
        "id": "HLmTMoSdwgmX"
      },
      "execution_count": null,
      "outputs": []
    },
    {
      "cell_type": "code",
      "source": [
        "hist_5_1 = model_5_1.fit(train_imgs, train_labels, epochs=30, batch_size=64, validation_split=0.2)"
      ],
      "metadata": {
        "colab": {
          "base_uri": "https://localhost:8080/"
        },
        "outputId": "865279ed-c95e-41e1-805c-322ac26b5442",
        "id": "rqrRRLfvwgmX"
      },
      "execution_count": null,
      "outputs": [
        {
          "output_type": "stream",
          "name": "stdout",
          "text": [
            "Epoch 1/30\n",
            "750/750 [==============================] - 5s 6ms/step - loss: 0.3834 - accuracy: 0.9289 - val_loss: 0.2186 - val_accuracy: 0.9732\n",
            "Epoch 2/30\n",
            "750/750 [==============================] - 4s 6ms/step - loss: 0.1939 - accuracy: 0.9754 - val_loss: 0.1785 - val_accuracy: 0.9764\n",
            "Epoch 3/30\n",
            "750/750 [==============================] - 4s 6ms/step - loss: 0.1610 - accuracy: 0.9808 - val_loss: 0.1486 - val_accuracy: 0.9835\n",
            "Epoch 4/30\n",
            "750/750 [==============================] - 4s 6ms/step - loss: 0.1423 - accuracy: 0.9819 - val_loss: 0.1365 - val_accuracy: 0.9834\n",
            "Epoch 5/30\n",
            "750/750 [==============================] - 4s 6ms/step - loss: 0.1297 - accuracy: 0.9841 - val_loss: 0.1307 - val_accuracy: 0.9847\n",
            "Epoch 6/30\n",
            "750/750 [==============================] - 4s 6ms/step - loss: 0.1196 - accuracy: 0.9850 - val_loss: 0.1455 - val_accuracy: 0.9777\n",
            "Epoch 7/30\n",
            "750/750 [==============================] - 4s 6ms/step - loss: 0.1156 - accuracy: 0.9846 - val_loss: 0.1152 - val_accuracy: 0.9856\n",
            "Epoch 8/30\n",
            "750/750 [==============================] - 4s 6ms/step - loss: 0.1068 - accuracy: 0.9871 - val_loss: 0.1036 - val_accuracy: 0.9882\n",
            "Epoch 9/30\n",
            "750/750 [==============================] - 4s 6ms/step - loss: 0.1041 - accuracy: 0.9871 - val_loss: 0.1044 - val_accuracy: 0.9877\n",
            "Epoch 10/30\n",
            "750/750 [==============================] - 4s 6ms/step - loss: 0.0988 - accuracy: 0.9872 - val_loss: 0.1128 - val_accuracy: 0.9839\n",
            "Epoch 11/30\n",
            "750/750 [==============================] - 4s 6ms/step - loss: 0.0962 - accuracy: 0.9877 - val_loss: 0.1000 - val_accuracy: 0.9866\n",
            "Epoch 12/30\n",
            "750/750 [==============================] - 4s 6ms/step - loss: 0.0951 - accuracy: 0.9881 - val_loss: 0.0991 - val_accuracy: 0.9860\n",
            "Epoch 13/30\n",
            "750/750 [==============================] - 4s 6ms/step - loss: 0.0935 - accuracy: 0.9882 - val_loss: 0.1027 - val_accuracy: 0.9846\n",
            "Epoch 14/30\n",
            "750/750 [==============================] - 4s 6ms/step - loss: 0.0916 - accuracy: 0.9885 - val_loss: 0.1006 - val_accuracy: 0.9864\n",
            "Epoch 15/30\n",
            "750/750 [==============================] - 4s 6ms/step - loss: 0.0889 - accuracy: 0.9891 - val_loss: 0.0971 - val_accuracy: 0.9872\n",
            "Epoch 16/30\n",
            "750/750 [==============================] - 5s 6ms/step - loss: 0.0892 - accuracy: 0.9879 - val_loss: 0.1092 - val_accuracy: 0.9818\n",
            "Epoch 17/30\n",
            "750/750 [==============================] - 4s 6ms/step - loss: 0.0864 - accuracy: 0.9892 - val_loss: 0.1036 - val_accuracy: 0.9843\n",
            "Epoch 18/30\n",
            "750/750 [==============================] - 4s 6ms/step - loss: 0.0866 - accuracy: 0.9891 - val_loss: 0.1031 - val_accuracy: 0.9842\n",
            "Epoch 19/30\n",
            "750/750 [==============================] - 4s 6ms/step - loss: 0.0845 - accuracy: 0.9891 - val_loss: 0.1036 - val_accuracy: 0.9815\n",
            "Epoch 20/30\n",
            "750/750 [==============================] - 4s 6ms/step - loss: 0.0828 - accuracy: 0.9901 - val_loss: 0.1010 - val_accuracy: 0.9851\n",
            "Epoch 21/30\n",
            "750/750 [==============================] - 4s 6ms/step - loss: 0.0831 - accuracy: 0.9897 - val_loss: 0.0949 - val_accuracy: 0.9864\n",
            "Epoch 22/30\n",
            "750/750 [==============================] - 4s 6ms/step - loss: 0.0826 - accuracy: 0.9893 - val_loss: 0.0933 - val_accuracy: 0.9862\n",
            "Epoch 23/30\n",
            "750/750 [==============================] - 4s 6ms/step - loss: 0.0807 - accuracy: 0.9905 - val_loss: 0.0983 - val_accuracy: 0.9832\n",
            "Epoch 24/30\n",
            "750/750 [==============================] - 4s 6ms/step - loss: 0.0808 - accuracy: 0.9897 - val_loss: 0.0951 - val_accuracy: 0.9854\n",
            "Epoch 25/30\n",
            "750/750 [==============================] - 4s 6ms/step - loss: 0.0792 - accuracy: 0.9899 - val_loss: 0.0915 - val_accuracy: 0.9872\n",
            "Epoch 26/30\n",
            "750/750 [==============================] - 4s 6ms/step - loss: 0.0790 - accuracy: 0.9901 - val_loss: 0.0968 - val_accuracy: 0.9862\n",
            "Epoch 27/30\n",
            "750/750 [==============================] - 4s 6ms/step - loss: 0.0770 - accuracy: 0.9908 - val_loss: 0.1062 - val_accuracy: 0.9831\n",
            "Epoch 28/30\n",
            "750/750 [==============================] - 4s 6ms/step - loss: 0.0763 - accuracy: 0.9906 - val_loss: 0.0884 - val_accuracy: 0.9871\n",
            "Epoch 29/30\n",
            "750/750 [==============================] - 4s 6ms/step - loss: 0.0760 - accuracy: 0.9907 - val_loss: 0.0905 - val_accuracy: 0.9872\n",
            "Epoch 30/30\n",
            "750/750 [==============================] - 4s 6ms/step - loss: 0.0755 - accuracy: 0.9905 - val_loss: 0.0992 - val_accuracy: 0.9823\n"
          ]
        }
      ]
    },
    {
      "cell_type": "code",
      "source": [
        "acc = hist_5_1.history['accuracy']\n",
        "val_acc = hist_5_1.history['val_accuracy']\n",
        "loss = hist_5_1.history['loss']\n",
        "val_loss = hist_5_1.history['val_loss']\n",
        "\n",
        "epochs = range(1, len(acc)+1)\n",
        "\n",
        "plt.figure(figsize=(8, 12))\n",
        "ax1=plt.subplot(2, 1, 1)\n",
        "ax2=plt.subplot(2, 1, 2)\n",
        "ax1.plot(epochs, acc, 'bo', label='Trainig acc')\n",
        "ax1.plot(epochs, val_acc, 'b', label='Validation acc')\n",
        "ax1.set_title(\"Training and Validation accuracy\")\n",
        "ax1.legend()\n",
        "ax2.plot(epochs, loss, 'bo', label='Traning loss')\n",
        "ax2.plot(epochs, val_loss, 'b', label='Validation loss')\n",
        "ax2.set_title(\"Training and Validation loss\")\n",
        "ax2.legend()\n",
        "plt.show()"
      ],
      "metadata": {
        "colab": {
          "base_uri": "https://localhost:8080/",
          "height": 716
        },
        "outputId": "ed5ecc73-88a8-4cb2-d67d-e95e8aa5ab13",
        "id": "vMlVTlUjwgmY"
      },
      "execution_count": null,
      "outputs": [
        {
          "output_type": "display_data",
          "data": {
            "text/plain": [
              "<Figure size 576x864 with 2 Axes>"
            ],
            "image/png": "[encoded data removed]"
          },
          "metadata": {
            "needs_background": "light"
          }
        }
      ]
    },
    {
      "cell_type": "code",
      "source": [
        "model_5_1.evaluate(test_imgs, test_labels)"
      ],
      "metadata": {
        "colab": {
          "base_uri": "https://localhost:8080/"
        },
        "outputId": "80fb1d0d-5345-4879-c3d6-6c8ad327e42d",
        "id": "OAJNeUX6wgmY"
      },
      "execution_count": null,
      "outputs": [
        {
          "output_type": "stream",
          "name": "stdout",
          "text": [
            "313/313 [==============================] - 1s 3ms/step - loss: 0.0914 - accuracy: 0.9856\n"
          ]
        },
        {
          "output_type": "execute_result",
          "data": {
            "text/plain": [
              "[0.0913868322968483, 0.9855999946594238]"
            ]
          },
          "metadata": {},
          "execution_count": 44
        }
      ]
    },
    {
      "cell_type": "code",
      "source": [
        "model_5_2 = keras.Sequential([\n",
        "  layers.Conv2D(128, (3, 3), kernel_regularizer=regularizers.l2(0.001), activation='relu', input_shape=(28, 28, 1)),\n",
        "  layers.MaxPooling2D((2, 2)),\n",
        "  layers.Conv2D(64, (3, 3), kernel_regularizer=regularizers.l2(0.001), activation='relu'),\n",
        "  layers.MaxPooling2D((2, 2)),\n",
        "  layers.Conv2D(32, (3, 3), kernel_regularizer=regularizers.l2(0.001), activation='relu'),\n",
        "  layers.Flatten(),\n",
        "  layers.Dense(64, kernel_regularizer=regularizers.l2(0.001), activation = 'sigmoid'),\n",
        "  layers.Dense(10, activation = 'softmax')\n",
        "])\n",
        "model_5_2.summary()"
      ],
      "metadata": {
        "colab": {
          "base_uri": "https://localhost:8080/"
        },
        "id": "Crg9vmDjwgmZ",
        "outputId": "b4cd2f42-1f65-4987-f43c-c87e0d66516c"
      },
      "execution_count": null,
      "outputs": [
        {
          "output_type": "stream",
          "name": "stdout",
          "text": [
            "Model: \"sequential_5\"\n",
            "_________________________________________________________________\n",
            " Layer (type)                Output Shape              Param #   \n",
            "=================================================================\n",
            " conv2d_15 (Conv2D)          (None, 26, 26, 128)       1280      \n",
            "                                                                 \n",
            " max_pooling2d_10 (MaxPoolin  (None, 13, 13, 128)      0         \n",
            " g2D)                                                            \n",
            "                                                                 \n",
            " conv2d_16 (Conv2D)          (None, 11, 11, 64)        73792     \n",
            "                                                                 \n",
            " max_pooling2d_11 (MaxPoolin  (None, 5, 5, 64)         0         \n",
            " g2D)                                                            \n",
            "                                                                 \n",
            " conv2d_17 (Conv2D)          (None, 3, 3, 32)          18464     \n",
            "                                                                 \n",
            " flatten_5 (Flatten)         (None, 288)               0         \n",
            "                                                                 \n",
            " dense_10 (Dense)            (None, 64)                18496     \n",
            "                                                                 \n",
            " dense_11 (Dense)            (None, 10)                650       \n",
            "                                                                 \n",
            "=================================================================\n",
            "Total params: 112,682\n",
            "Trainable params: 112,682\n",
            "Non-trainable params: 0\n",
            "_________________________________________________________________\n"
          ]
        }
      ]
    },
    {
      "cell_type": "code",
      "source": [
        "model_5_2.compile(optimizer=\"rmsprop\", loss=\"categorical_crossentropy\", metrics=[\"accuracy\"])"
      ],
      "metadata": {
        "id": "Bj4pFRywwgmZ"
      },
      "execution_count": null,
      "outputs": []
    },
    {
      "cell_type": "code",
      "source": [
        "hist_5_2 = model_5_2.fit(train_imgs, train_labels, epochs=30, batch_size=128, validation_split=0.2)"
      ],
      "metadata": {
        "colab": {
          "base_uri": "https://localhost:8080/"
        },
        "outputId": "328417ed-7a4e-4248-92ad-afcea6d774cd",
        "id": "w4paStFXwgmZ"
      },
      "execution_count": null,
      "outputs": [
        {
          "output_type": "stream",
          "name": "stdout",
          "text": [
            "Epoch 1/30\n",
            "375/375 [==============================] - 5s 11ms/step - loss: 0.5967 - accuracy: 0.8885 - val_loss: 0.2711 - val_accuracy: 0.9656\n",
            "Epoch 2/30\n",
            "375/375 [==============================] - 4s 11ms/step - loss: 0.2362 - accuracy: 0.9689 - val_loss: 0.1872 - val_accuracy: 0.9797\n",
            "Epoch 3/30\n",
            "375/375 [==============================] - 4s 11ms/step - loss: 0.1826 - accuracy: 0.9759 - val_loss: 0.1736 - val_accuracy: 0.9770\n",
            "Epoch 4/30\n",
            "375/375 [==============================] - 4s 11ms/step - loss: 0.1569 - accuracy: 0.9794 - val_loss: 0.1447 - val_accuracy: 0.9819\n",
            "Epoch 5/30\n",
            "375/375 [==============================] - 4s 11ms/step - loss: 0.1425 - accuracy: 0.9814 - val_loss: 0.1338 - val_accuracy: 0.9829\n",
            "Epoch 6/30\n",
            "375/375 [==============================] - 4s 11ms/step - loss: 0.1324 - accuracy: 0.9828 - val_loss: 0.1242 - val_accuracy: 0.9850\n",
            "Epoch 7/30\n",
            "375/375 [==============================] - 4s 10ms/step - loss: 0.1249 - accuracy: 0.9836 - val_loss: 0.1284 - val_accuracy: 0.9816\n",
            "Epoch 8/30\n",
            "375/375 [==============================] - 4s 11ms/step - loss: 0.1198 - accuracy: 0.9837 - val_loss: 0.1168 - val_accuracy: 0.9852\n",
            "Epoch 9/30\n",
            "375/375 [==============================] - 4s 11ms/step - loss: 0.1152 - accuracy: 0.9848 - val_loss: 0.1216 - val_accuracy: 0.9830\n",
            "Epoch 10/30\n",
            "375/375 [==============================] - 4s 10ms/step - loss: 0.1118 - accuracy: 0.9854 - val_loss: 0.1156 - val_accuracy: 0.9836\n",
            "Epoch 11/30\n",
            "375/375 [==============================] - 4s 10ms/step - loss: 0.1112 - accuracy: 0.9850 - val_loss: 0.1117 - val_accuracy: 0.9845\n",
            "Epoch 12/30\n",
            "375/375 [==============================] - 4s 10ms/step - loss: 0.1081 - accuracy: 0.9859 - val_loss: 0.1052 - val_accuracy: 0.9860\n",
            "Epoch 13/30\n",
            "375/375 [==============================] - 4s 10ms/step - loss: 0.1062 - accuracy: 0.9855 - val_loss: 0.1093 - val_accuracy: 0.9858\n",
            "Epoch 14/30\n",
            "375/375 [==============================] - 4s 10ms/step - loss: 0.1042 - accuracy: 0.9862 - val_loss: 0.1057 - val_accuracy: 0.9859\n",
            "Epoch 15/30\n",
            "375/375 [==============================] - 4s 11ms/step - loss: 0.1026 - accuracy: 0.9865 - val_loss: 0.1104 - val_accuracy: 0.9846\n",
            "Epoch 16/30\n",
            "375/375 [==============================] - 4s 11ms/step - loss: 0.1019 - accuracy: 0.9867 - val_loss: 0.1051 - val_accuracy: 0.9853\n",
            "Epoch 17/30\n",
            "375/375 [==============================] - 4s 10ms/step - loss: 0.1001 - accuracy: 0.9866 - val_loss: 0.1065 - val_accuracy: 0.9848\n",
            "Epoch 18/30\n",
            "375/375 [==============================] - 4s 10ms/step - loss: 0.0991 - accuracy: 0.9864 - val_loss: 0.1047 - val_accuracy: 0.9858\n",
            "Epoch 19/30\n",
            "375/375 [==============================] - 4s 10ms/step - loss: 0.0985 - accuracy: 0.9872 - val_loss: 0.1049 - val_accuracy: 0.9852\n",
            "Epoch 20/30\n",
            "375/375 [==============================] - 4s 11ms/step - loss: 0.0959 - accuracy: 0.9875 - val_loss: 0.1034 - val_accuracy: 0.9859\n",
            "Epoch 21/30\n",
            "375/375 [==============================] - 4s 10ms/step - loss: 0.0961 - accuracy: 0.9873 - val_loss: 0.1009 - val_accuracy: 0.9856\n",
            "Epoch 22/30\n",
            "375/375 [==============================] - 4s 10ms/step - loss: 0.0940 - accuracy: 0.9884 - val_loss: 0.0990 - val_accuracy: 0.9871\n",
            "Epoch 23/30\n",
            "375/375 [==============================] - 4s 11ms/step - loss: 0.0937 - accuracy: 0.9879 - val_loss: 0.1106 - val_accuracy: 0.9825\n",
            "Epoch 24/30\n",
            "375/375 [==============================] - 4s 10ms/step - loss: 0.0924 - accuracy: 0.9881 - val_loss: 0.1072 - val_accuracy: 0.9854\n",
            "Epoch 25/30\n",
            "375/375 [==============================] - 4s 10ms/step - loss: 0.0924 - accuracy: 0.9879 - val_loss: 0.1000 - val_accuracy: 0.9858\n",
            "Epoch 26/30\n",
            "375/375 [==============================] - 4s 11ms/step - loss: 0.0922 - accuracy: 0.9873 - val_loss: 0.0992 - val_accuracy: 0.9849\n",
            "Epoch 27/30\n",
            "375/375 [==============================] - 4s 11ms/step - loss: 0.0908 - accuracy: 0.9885 - val_loss: 0.0993 - val_accuracy: 0.9849\n",
            "Epoch 28/30\n",
            "375/375 [==============================] - 4s 10ms/step - loss: 0.0911 - accuracy: 0.9882 - val_loss: 0.1009 - val_accuracy: 0.9867\n",
            "Epoch 29/30\n",
            "375/375 [==============================] - 4s 11ms/step - loss: 0.0902 - accuracy: 0.9882 - val_loss: 0.0970 - val_accuracy: 0.9858\n",
            "Epoch 30/30\n",
            "375/375 [==============================] - 4s 10ms/step - loss: 0.0893 - accuracy: 0.9883 - val_loss: 0.1043 - val_accuracy: 0.9848\n"
          ]
        }
      ]
    },
    {
      "cell_type": "code",
      "source": [
        "acc = hist_5_2.history['accuracy']\n",
        "val_acc = hist_5_2.history['val_accuracy']\n",
        "loss = hist_5_2.history['loss']\n",
        "val_loss = hist_5_2.history['val_loss']\n",
        "\n",
        "epochs = range(1, len(acc)+1)\n",
        "\n",
        "plt.figure(figsize=(8, 12))\n",
        "ax1=plt.subplot(2, 1, 1)\n",
        "ax2=plt.subplot(2, 1, 2)\n",
        "ax1.plot(epochs, acc, 'bo', label='Trainig acc')\n",
        "ax1.plot(epochs, val_acc, 'b', label='Validation acc')\n",
        "ax1.set_title(\"Training and Validation accuracy\")\n",
        "ax1.legend()\n",
        "ax2.plot(epochs, loss, 'bo', label='Traning loss')\n",
        "ax2.plot(epochs, val_loss, 'b', label='Validation loss')\n",
        "ax2.set_title(\"Training and Validation loss\")\n",
        "ax2.legend()\n",
        "plt.show()"
      ],
      "metadata": {
        "colab": {
          "base_uri": "https://localhost:8080/",
          "height": 716
        },
        "outputId": "1cc12fe7-32de-4098-e0cc-2f5eaa3abf1f",
        "id": "kwvx2N5lwgma"
      },
      "execution_count": null,
      "outputs": [
        {
          "output_type": "display_data",
          "data": {
            "text/plain": [
              "<Figure size 576x864 with 2 Axes>"
            ],
            "image/png": "[encoded data removed]"
          },
          "metadata": {
            "needs_background": "light"
          }
        }
      ]
    },
    {
      "cell_type": "code",
      "source": [
        "model_5_2.evaluate(test_imgs, test_labels)"
      ],
      "metadata": {
        "colab": {
          "base_uri": "https://localhost:8080/"
        },
        "outputId": "eb26b1e9-b379-4b79-adc8-775f3e4e77d4",
        "id": "8e0uz978wgma"
      },
      "execution_count": null,
      "outputs": [
        {
          "output_type": "stream",
          "name": "stdout",
          "text": [
            "313/313 [==============================] - 1s 3ms/step - loss: 0.0926 - accuracy: 0.9863\n"
          ]
        },
        {
          "output_type": "execute_result",
          "data": {
            "text/plain": [
              "[0.09256935119628906, 0.986299991607666]"
            ]
          },
          "metadata": {},
          "execution_count": 49
        }
      ]
    },
    {
      "cell_type": "code",
      "source": [
        "model_5_3 = keras.Sequential([\n",
        "  layers.Conv2D(128, (3, 3), kernel_regularizer=regularizers.l2(0.001), activation='relu', input_shape=(28, 28, 1)),\n",
        "  layers.MaxPooling2D((2, 2)),\n",
        "  layers.Conv2D(64, (3, 3), kernel_regularizer=regularizers.l2(0.001), activation='relu'),\n",
        "  layers.MaxPooling2D((2, 2)),\n",
        "  layers.Conv2D(32, (3, 3), kernel_regularizer=regularizers.l2(0.001), activation='relu'),\n",
        "  layers.Flatten(),\n",
        "  layers.Dense(64, kernel_regularizer=regularizers.l2(0.001), activation = 'relu'),\n",
        "  layers.Dense(10, activation = 'softmax')\n",
        "])\n",
        "model_5_3.summary()"
      ],
      "metadata": {
        "colab": {
          "base_uri": "https://localhost:8080/"
        },
        "outputId": "7c829e59-6d8e-447a-98ef-497f3fc354de",
        "id": "c2AJ_W238Rm7"
      },
      "execution_count": null,
      "outputs": [
        {
          "output_type": "stream",
          "name": "stdout",
          "text": [
            "Model: \"sequential_10\"\n",
            "_________________________________________________________________\n",
            " Layer (type)                Output Shape              Param #   \n",
            "=================================================================\n",
            " conv2d_30 (Conv2D)          (None, 26, 26, 128)       1280      \n",
            "                                                                 \n",
            " max_pooling2d_20 (MaxPoolin  (None, 13, 13, 128)      0         \n",
            " g2D)                                                            \n",
            "                                                                 \n",
            " conv2d_31 (Conv2D)          (None, 11, 11, 64)        73792     \n",
            "                                                                 \n",
            " max_pooling2d_21 (MaxPoolin  (None, 5, 5, 64)         0         \n",
            " g2D)                                                            \n",
            "                                                                 \n",
            " conv2d_32 (Conv2D)          (None, 3, 3, 32)          18464     \n",
            "                                                                 \n",
            " flatten_10 (Flatten)        (None, 288)               0         \n",
            "                                                                 \n",
            " dense_20 (Dense)            (None, 64)                18496     \n",
            "                                                                 \n",
            " dense_21 (Dense)            (None, 10)                650       \n",
            "                                                                 \n",
            "=================================================================\n",
            "Total params: 112,682\n",
            "Trainable params: 112,682\n",
            "Non-trainable params: 0\n",
            "_________________________________________________________________\n"
          ]
        }
      ]
    },
    {
      "cell_type": "code",
      "source": [
        "model_5_3.compile(optimizer=\"rmsprop\", loss=\"categorical_crossentropy\", metrics=[\"accuracy\"])"
      ],
      "metadata": {
        "id": "qP4wyk6g8RnP"
      },
      "execution_count": null,
      "outputs": []
    },
    {
      "cell_type": "code",
      "source": [
        "hist_5_3 = model_5_3.fit(train_imgs, train_labels, epochs=30, batch_size=128, validation_split=0.2)"
      ],
      "metadata": {
        "colab": {
          "base_uri": "https://localhost:8080/"
        },
        "outputId": "07e13071-e4f0-4cee-9b7f-0c340c752451",
        "id": "tBD0yDMe8RnQ"
      },
      "execution_count": null,
      "outputs": [
        {
          "output_type": "stream",
          "name": "stdout",
          "text": [
            "Epoch 1/30\n",
            "375/375 [==============================] - 5s 11ms/step - loss: 0.4468 - accuracy: 0.9116 - val_loss: 0.2539 - val_accuracy: 0.9655\n",
            "Epoch 2/30\n",
            "375/375 [==============================] - 4s 10ms/step - loss: 0.2072 - accuracy: 0.9739 - val_loss: 0.1731 - val_accuracy: 0.9813\n",
            "Epoch 3/30\n",
            "375/375 [==============================] - 4s 11ms/step - loss: 0.1617 - accuracy: 0.9803 - val_loss: 0.1594 - val_accuracy: 0.9770\n",
            "Epoch 4/30\n",
            "375/375 [==============================] - 4s 10ms/step - loss: 0.1386 - accuracy: 0.9819 - val_loss: 0.1300 - val_accuracy: 0.9837\n",
            "Epoch 5/30\n",
            "375/375 [==============================] - 4s 11ms/step - loss: 0.1240 - accuracy: 0.9840 - val_loss: 0.1276 - val_accuracy: 0.9807\n",
            "Epoch 6/30\n",
            "375/375 [==============================] - 4s 11ms/step - loss: 0.1135 - accuracy: 0.9851 - val_loss: 0.1115 - val_accuracy: 0.9862\n",
            "Epoch 7/30\n",
            "375/375 [==============================] - 4s 11ms/step - loss: 0.1066 - accuracy: 0.9860 - val_loss: 0.1120 - val_accuracy: 0.9840\n",
            "Epoch 8/30\n",
            "375/375 [==============================] - 4s 11ms/step - loss: 0.1019 - accuracy: 0.9863 - val_loss: 0.1057 - val_accuracy: 0.9859\n",
            "Epoch 9/30\n",
            "375/375 [==============================] - 4s 11ms/step - loss: 0.0970 - accuracy: 0.9874 - val_loss: 0.0939 - val_accuracy: 0.9877\n",
            "Epoch 10/30\n",
            "375/375 [==============================] - 4s 11ms/step - loss: 0.0933 - accuracy: 0.9872 - val_loss: 0.1051 - val_accuracy: 0.9831\n",
            "Epoch 11/30\n",
            "375/375 [==============================] - 4s 10ms/step - loss: 0.0922 - accuracy: 0.9872 - val_loss: 0.1011 - val_accuracy: 0.9835\n",
            "Epoch 12/30\n",
            "375/375 [==============================] - 4s 10ms/step - loss: 0.0905 - accuracy: 0.9877 - val_loss: 0.1114 - val_accuracy: 0.9810\n",
            "Epoch 13/30\n",
            "375/375 [==============================] - 4s 11ms/step - loss: 0.0875 - accuracy: 0.9886 - val_loss: 0.0905 - val_accuracy: 0.9872\n",
            "Epoch 14/30\n",
            "375/375 [==============================] - 4s 10ms/step - loss: 0.0850 - accuracy: 0.9886 - val_loss: 0.0870 - val_accuracy: 0.9880\n",
            "Epoch 15/30\n",
            "375/375 [==============================] - 4s 10ms/step - loss: 0.0826 - accuracy: 0.9891 - val_loss: 0.0918 - val_accuracy: 0.9860\n",
            "Epoch 16/30\n",
            "375/375 [==============================] - 4s 11ms/step - loss: 0.0820 - accuracy: 0.9892 - val_loss: 0.0895 - val_accuracy: 0.9872\n",
            "Epoch 17/30\n",
            "375/375 [==============================] - 4s 10ms/step - loss: 0.0799 - accuracy: 0.9894 - val_loss: 0.0975 - val_accuracy: 0.9839\n",
            "Epoch 18/30\n",
            "375/375 [==============================] - 4s 11ms/step - loss: 0.0795 - accuracy: 0.9893 - val_loss: 0.0923 - val_accuracy: 0.9866\n",
            "Epoch 19/30\n",
            "375/375 [==============================] - 4s 11ms/step - loss: 0.0779 - accuracy: 0.9895 - val_loss: 0.0853 - val_accuracy: 0.9880\n",
            "Epoch 20/30\n",
            "375/375 [==============================] - 4s 11ms/step - loss: 0.0771 - accuracy: 0.9899 - val_loss: 0.0854 - val_accuracy: 0.9884\n",
            "Epoch 21/30\n",
            "375/375 [==============================] - 4s 11ms/step - loss: 0.0757 - accuracy: 0.9897 - val_loss: 0.0863 - val_accuracy: 0.9877\n",
            "Epoch 22/30\n",
            "375/375 [==============================] - 4s 10ms/step - loss: 0.0751 - accuracy: 0.9904 - val_loss: 0.0902 - val_accuracy: 0.9870\n",
            "Epoch 23/30\n",
            "375/375 [==============================] - 4s 10ms/step - loss: 0.0738 - accuracy: 0.9900 - val_loss: 0.0889 - val_accuracy: 0.9860\n",
            "Epoch 24/30\n",
            "375/375 [==============================] - 4s 10ms/step - loss: 0.0742 - accuracy: 0.9898 - val_loss: 0.0902 - val_accuracy: 0.9855\n",
            "Epoch 25/30\n",
            "375/375 [==============================] - 4s 11ms/step - loss: 0.0726 - accuracy: 0.9902 - val_loss: 0.0865 - val_accuracy: 0.9872\n",
            "Epoch 26/30\n",
            "375/375 [==============================] - 4s 10ms/step - loss: 0.0718 - accuracy: 0.9903 - val_loss: 0.0912 - val_accuracy: 0.9849\n",
            "Epoch 27/30\n",
            "375/375 [==============================] - 4s 10ms/step - loss: 0.0709 - accuracy: 0.9907 - val_loss: 0.0853 - val_accuracy: 0.9870\n",
            "Epoch 28/30\n",
            "375/375 [==============================] - 4s 11ms/step - loss: 0.0704 - accuracy: 0.9907 - val_loss: 0.0838 - val_accuracy: 0.9871\n",
            "Epoch 29/30\n",
            "375/375 [==============================] - 4s 10ms/step - loss: 0.0700 - accuracy: 0.9910 - val_loss: 0.0788 - val_accuracy: 0.9890\n",
            "Epoch 30/30\n",
            "375/375 [==============================] - 4s 11ms/step - loss: 0.0694 - accuracy: 0.9905 - val_loss: 0.0783 - val_accuracy: 0.9883\n"
          ]
        }
      ]
    },
    {
      "cell_type": "code",
      "source": [
        "acc = hist_5_3.history['accuracy']\n",
        "val_acc = hist_5_3.history['val_accuracy']\n",
        "loss = hist_5_3.history['loss']\n",
        "val_loss = hist_5_3.history['val_loss']\n",
        "\n",
        "epochs = range(1, len(acc)+1)\n",
        "\n",
        "plt.figure(figsize=(8, 12))\n",
        "ax1=plt.subplot(2, 1, 1)\n",
        "ax2=plt.subplot(2, 1, 2)\n",
        "ax1.plot(epochs, acc, 'bo', label='Trainig acc')\n",
        "ax1.plot(epochs, val_acc, 'b', label='Validation acc')\n",
        "ax1.set_title(\"Training and Validation accuracy\")\n",
        "ax1.legend()\n",
        "ax2.plot(epochs, loss, 'bo', label='Traning loss')\n",
        "ax2.plot(epochs, val_loss, 'b', label='Validation loss')\n",
        "ax2.set_title(\"Training and Validation loss\")\n",
        "ax2.legend()\n",
        "plt.show()"
      ],
      "metadata": {
        "colab": {
          "base_uri": "https://localhost:8080/",
          "height": 716
        },
        "outputId": "cc05e143-7a4d-4c88-d67d-6c350a0f15ad",
        "id": "rHo3tziB8RnQ"
      },
      "execution_count": null,
      "outputs": [
        {
          "output_type": "display_data",
          "data": {
            "text/plain": [
              "<Figure size 576x864 with 2 Axes>"
            ],
            "image/png": "[encoded data removed]"
          },
          "metadata": {
            "needs_background": "light"
          }
        }
      ]
    },
    {
      "cell_type": "code",
      "source": [
        "model_5_3.evaluate(test_imgs, test_labels)"
      ],
      "metadata": {
        "colab": {
          "base_uri": "https://localhost:8080/"
        },
        "outputId": "6c7f1d92-ab1f-4455-b6e1-7806a3309183",
        "id": "AOezSX6p8RnR"
      },
      "execution_count": null,
      "outputs": [
        {
          "output_type": "stream",
          "name": "stdout",
          "text": [
            "313/313 [==============================] - 1s 3ms/step - loss: 0.0698 - accuracy: 0.9896\n"
          ]
        },
        {
          "output_type": "execute_result",
          "data": {
            "text/plain": [
              "[0.06978685408830643, 0.9896000027656555]"
            ]
          },
          "metadata": {},
          "execution_count": 74
        }
      ]
    },
    {
      "cell_type": "markdown",
      "source": [
        "### __try06 드롭아웃 추가(Dropout)__"
      ],
      "metadata": {
        "id": "eSYZSG4exvPe"
      }
    },
    {
      "cell_type": "code",
      "source": [
        "model_6 = keras.Sequential([\n",
        "  layers.Conv2D(128, (3, 3), activation='relu', input_shape=(28, 28, 1)),\n",
        "  layers.MaxPooling2D((2, 2)),\n",
        "  layers.Conv2D(64, (3, 3), activation='relu'),\n",
        "  layers.Dropout(0.5),\n",
        "  layers.MaxPooling2D((2, 2)),\n",
        "  layers.Conv2D(32, (3, 3), activation='relu'),\n",
        "  layers.Dropout(0.2),\n",
        "  layers.Flatten(),\n",
        "  layers.Dense(64, activation = 'sigmoid'),\n",
        "  layers.Dense(10, activation = 'softmax')\n",
        "])\n",
        "model_6.summary()"
      ],
      "metadata": {
        "colab": {
          "base_uri": "https://localhost:8080/"
        },
        "outputId": "d883907d-1f9a-4e43-8760-4d507043c626",
        "id": "vei04AITxvPw"
      },
      "execution_count": null,
      "outputs": [
        {
          "output_type": "stream",
          "name": "stdout",
          "text": [
            "Model: \"sequential_7\"\n",
            "_________________________________________________________________\n",
            " Layer (type)                Output Shape              Param #   \n",
            "=================================================================\n",
            " conv2d_21 (Conv2D)          (None, 26, 26, 128)       1280      \n",
            "                                                                 \n",
            " max_pooling2d_14 (MaxPoolin  (None, 13, 13, 128)      0         \n",
            " g2D)                                                            \n",
            "                                                                 \n",
            " conv2d_22 (Conv2D)          (None, 11, 11, 64)        73792     \n",
            "                                                                 \n",
            " dropout (Dropout)           (None, 11, 11, 64)        0         \n",
            "                                                                 \n",
            " max_pooling2d_15 (MaxPoolin  (None, 5, 5, 64)         0         \n",
            " g2D)                                                            \n",
            "                                                                 \n",
            " conv2d_23 (Conv2D)          (None, 3, 3, 32)          18464     \n",
            "                                                                 \n",
            " dropout_1 (Dropout)         (None, 3, 3, 32)          0         \n",
            "                                                                 \n",
            " flatten_7 (Flatten)         (None, 288)               0         \n",
            "                                                                 \n",
            " dense_14 (Dense)            (None, 64)                18496     \n",
            "                                                                 \n",
            " dense_15 (Dense)            (None, 10)                650       \n",
            "                                                                 \n",
            "=================================================================\n",
            "Total params: 112,682\n",
            "Trainable params: 112,682\n",
            "Non-trainable params: 0\n",
            "_________________________________________________________________\n"
          ]
        }
      ]
    },
    {
      "cell_type": "code",
      "source": [
        "model_6.compile(optimizer=\"SGD\", loss=\"categorical_crossentropy\", metrics=[\"accuracy\"])"
      ],
      "metadata": {
        "id": "7_DIYmXNxvPx"
      },
      "execution_count": null,
      "outputs": []
    },
    {
      "cell_type": "code",
      "source": [
        "hist_6 = model_6.fit(train_imgs, train_labels, epochs=30, batch_size=64, validation_split=0.2)"
      ],
      "metadata": {
        "colab": {
          "base_uri": "https://localhost:8080/"
        },
        "outputId": "186bcea5-5ecb-4aa0-b026-b9bd946362b1",
        "id": "tW5PIAqmxvPx"
      },
      "execution_count": null,
      "outputs": [
        {
          "output_type": "stream",
          "name": "stdout",
          "text": [
            "Epoch 1/30\n",
            "750/750 [==============================] - 5s 6ms/step - loss: 1.9734 - accuracy: 0.3852 - val_loss: 1.2412 - val_accuracy: 0.7466\n",
            "Epoch 2/30\n",
            "750/750 [==============================] - 5s 6ms/step - loss: 0.8643 - accuracy: 0.7746 - val_loss: 0.6060 - val_accuracy: 0.8739\n",
            "Epoch 3/30\n",
            "750/750 [==============================] - 4s 6ms/step - loss: 0.5725 - accuracy: 0.8483 - val_loss: 0.4295 - val_accuracy: 0.9062\n",
            "Epoch 4/30\n",
            "750/750 [==============================] - 4s 6ms/step - loss: 0.4373 - accuracy: 0.8836 - val_loss: 0.3254 - val_accuracy: 0.9274\n",
            "Epoch 5/30\n",
            "750/750 [==============================] - 4s 6ms/step - loss: 0.3546 - accuracy: 0.9042 - val_loss: 0.2715 - val_accuracy: 0.9373\n",
            "Epoch 6/30\n",
            "750/750 [==============================] - 4s 6ms/step - loss: 0.2976 - accuracy: 0.9189 - val_loss: 0.2229 - val_accuracy: 0.9469\n",
            "Epoch 7/30\n",
            "750/750 [==============================] - 4s 6ms/step - loss: 0.2611 - accuracy: 0.9268 - val_loss: 0.1941 - val_accuracy: 0.9528\n",
            "Epoch 8/30\n",
            "750/750 [==============================] - 4s 6ms/step - loss: 0.2314 - accuracy: 0.9358 - val_loss: 0.1735 - val_accuracy: 0.9572\n",
            "Epoch 9/30\n",
            "750/750 [==============================] - 4s 5ms/step - loss: 0.2104 - accuracy: 0.9411 - val_loss: 0.1595 - val_accuracy: 0.9601\n",
            "Epoch 10/30\n",
            "750/750 [==============================] - 4s 6ms/step - loss: 0.1942 - accuracy: 0.9454 - val_loss: 0.1456 - val_accuracy: 0.9632\n",
            "Epoch 11/30\n",
            "750/750 [==============================] - 4s 6ms/step - loss: 0.1801 - accuracy: 0.9493 - val_loss: 0.1360 - val_accuracy: 0.9652\n",
            "Epoch 12/30\n",
            "750/750 [==============================] - 4s 6ms/step - loss: 0.1699 - accuracy: 0.9510 - val_loss: 0.1261 - val_accuracy: 0.9678\n",
            "Epoch 13/30\n",
            "750/750 [==============================] - 4s 6ms/step - loss: 0.1626 - accuracy: 0.9531 - val_loss: 0.1181 - val_accuracy: 0.9698\n",
            "Epoch 14/30\n",
            "750/750 [==============================] - 4s 6ms/step - loss: 0.1544 - accuracy: 0.9553 - val_loss: 0.1132 - val_accuracy: 0.9718\n",
            "Epoch 15/30\n",
            "750/750 [==============================] - 4s 5ms/step - loss: 0.1444 - accuracy: 0.9587 - val_loss: 0.1090 - val_accuracy: 0.9722\n",
            "Epoch 16/30\n",
            "750/750 [==============================] - 4s 5ms/step - loss: 0.1396 - accuracy: 0.9597 - val_loss: 0.1030 - val_accuracy: 0.9735\n",
            "Epoch 17/30\n",
            "750/750 [==============================] - 4s 5ms/step - loss: 0.1336 - accuracy: 0.9617 - val_loss: 0.0989 - val_accuracy: 0.9743\n",
            "Epoch 18/30\n",
            "750/750 [==============================] - 4s 5ms/step - loss: 0.1289 - accuracy: 0.9625 - val_loss: 0.0952 - val_accuracy: 0.9753\n",
            "Epoch 19/30\n",
            "750/750 [==============================] - 4s 5ms/step - loss: 0.1250 - accuracy: 0.9627 - val_loss: 0.0919 - val_accuracy: 0.9754\n",
            "Epoch 20/30\n",
            "750/750 [==============================] - 4s 5ms/step - loss: 0.1217 - accuracy: 0.9643 - val_loss: 0.0887 - val_accuracy: 0.9766\n",
            "Epoch 21/30\n",
            "750/750 [==============================] - 4s 6ms/step - loss: 0.1184 - accuracy: 0.9655 - val_loss: 0.0873 - val_accuracy: 0.9766\n",
            "Epoch 22/30\n",
            "750/750 [==============================] - 4s 5ms/step - loss: 0.1148 - accuracy: 0.9655 - val_loss: 0.0842 - val_accuracy: 0.9780\n",
            "Epoch 23/30\n",
            "750/750 [==============================] - 4s 6ms/step - loss: 0.1118 - accuracy: 0.9665 - val_loss: 0.0802 - val_accuracy: 0.9782\n",
            "Epoch 24/30\n",
            "750/750 [==============================] - 4s 5ms/step - loss: 0.1092 - accuracy: 0.9681 - val_loss: 0.0813 - val_accuracy: 0.9788\n",
            "Epoch 25/30\n",
            "750/750 [==============================] - 4s 6ms/step - loss: 0.1060 - accuracy: 0.9678 - val_loss: 0.0779 - val_accuracy: 0.9793\n",
            "Epoch 26/30\n",
            "750/750 [==============================] - 4s 6ms/step - loss: 0.1016 - accuracy: 0.9700 - val_loss: 0.0763 - val_accuracy: 0.9792\n",
            "Epoch 27/30\n",
            "750/750 [==============================] - 4s 5ms/step - loss: 0.0996 - accuracy: 0.9701 - val_loss: 0.0736 - val_accuracy: 0.9803\n",
            "Epoch 28/30\n",
            "750/750 [==============================] - 4s 6ms/step - loss: 0.0988 - accuracy: 0.9706 - val_loss: 0.0727 - val_accuracy: 0.9803\n",
            "Epoch 29/30\n",
            "750/750 [==============================] - 4s 6ms/step - loss: 0.0965 - accuracy: 0.9719 - val_loss: 0.0718 - val_accuracy: 0.9807\n",
            "Epoch 30/30\n",
            "750/750 [==============================] - 4s 5ms/step - loss: 0.0930 - accuracy: 0.9729 - val_loss: 0.0704 - val_accuracy: 0.9814\n"
          ]
        }
      ]
    },
    {
      "cell_type": "code",
      "source": [
        "acc = hist_6.history['accuracy']\n",
        "val_acc = hist_6.history['val_accuracy']\n",
        "loss = hist_6.history['loss']\n",
        "val_loss = hist_6.history['val_loss']\n",
        "\n",
        "epochs = range(1, len(acc)+1)\n",
        "\n",
        "plt.figure(figsize=(8, 12))\n",
        "ax1=plt.subplot(2, 1, 1)\n",
        "ax2=plt.subplot(2, 1, 2)\n",
        "ax1.plot(epochs, acc, 'bo', label='Trainig acc')\n",
        "ax1.plot(epochs, val_acc, 'b', label='Validation acc')\n",
        "ax1.set_title(\"Training and Validation accuracy\")\n",
        "ax1.legend()\n",
        "ax2.plot(epochs, loss, 'bo', label='Traning loss')\n",
        "ax2.plot(epochs, val_loss, 'b', label='Validation loss')\n",
        "ax2.set_title(\"Training and Validation loss\")\n",
        "ax2.legend()\n",
        "plt.show()"
      ],
      "metadata": {
        "colab": {
          "base_uri": "https://localhost:8080/",
          "height": 716
        },
        "outputId": "27c8cee1-c939-4e1e-b782-79c675712c67",
        "id": "oIBtQ6rxxvPy"
      },
      "execution_count": null,
      "outputs": [
        {
          "output_type": "display_data",
          "data": {
            "text/plain": [
              "<Figure size 576x864 with 2 Axes>"
            ],
            "image/png": "[encoded data removed]"
          },
          "metadata": {
            "needs_background": "light"
          }
        }
      ]
    },
    {
      "cell_type": "code",
      "source": [
        "model_6.evaluate(test_imgs, test_labels)"
      ],
      "metadata": {
        "colab": {
          "base_uri": "https://localhost:8080/"
        },
        "outputId": "5a3fa1d3-cd6e-4b1c-ec56-76112b778087",
        "id": "tLf67LQJxvPy"
      },
      "execution_count": null,
      "outputs": [
        {
          "output_type": "stream",
          "name": "stdout",
          "text": [
            "313/313 [==============================] - 1s 3ms/step - loss: 0.0615 - accuracy: 0.9826\n"
          ]
        },
        {
          "output_type": "execute_result",
          "data": {
            "text/plain": [
              "[0.061522796750068665, 0.9825999736785889]"
            ]
          },
          "metadata": {},
          "execution_count": 59
        }
      ]
    },
    {
      "cell_type": "code",
      "source": [
        "model_6_1 = keras.Sequential([\n",
        "  layers.Conv2D(128, (3, 3), activation='relu', input_shape=(28, 28, 1)),\n",
        "  layers.MaxPooling2D((2, 2)),\n",
        "  layers.Conv2D(64, (3, 3), activation='relu'),\n",
        "  layers.Dropout(0.5),\n",
        "  layers.MaxPooling2D((2, 2)),\n",
        "  layers.Conv2D(32, (3, 3), activation='relu'),\n",
        "  layers.Dropout(0.2),\n",
        "  layers.Flatten(),\n",
        "  layers.Dense(64, activation = 'sigmoid'),\n",
        "  layers.Dense(10, activation = 'softmax')\n",
        "])\n",
        "model_6_1.summary()"
      ],
      "metadata": {
        "colab": {
          "base_uri": "https://localhost:8080/"
        },
        "id": "dcD1D6eexvPz",
        "outputId": "b8464a29-9111-46ae-eb6d-54d7a1e860f3"
      },
      "execution_count": null,
      "outputs": [
        {
          "output_type": "stream",
          "name": "stdout",
          "text": [
            "Model: \"sequential_8\"\n",
            "_________________________________________________________________\n",
            " Layer (type)                Output Shape              Param #   \n",
            "=================================================================\n",
            " conv2d_24 (Conv2D)          (None, 26, 26, 128)       1280      \n",
            "                                                                 \n",
            " max_pooling2d_16 (MaxPoolin  (None, 13, 13, 128)      0         \n",
            " g2D)                                                            \n",
            "                                                                 \n",
            " conv2d_25 (Conv2D)          (None, 11, 11, 64)        73792     \n",
            "                                                                 \n",
            " dropout_2 (Dropout)         (None, 11, 11, 64)        0         \n",
            "                                                                 \n",
            " max_pooling2d_17 (MaxPoolin  (None, 5, 5, 64)         0         \n",
            " g2D)                                                            \n",
            "                                                                 \n",
            " conv2d_26 (Conv2D)          (None, 3, 3, 32)          18464     \n",
            "                                                                 \n",
            " dropout_3 (Dropout)         (None, 3, 3, 32)          0         \n",
            "                                                                 \n",
            " flatten_8 (Flatten)         (None, 288)               0         \n",
            "                                                                 \n",
            " dense_16 (Dense)            (None, 64)                18496     \n",
            "                                                                 \n",
            " dense_17 (Dense)            (None, 10)                650       \n",
            "                                                                 \n",
            "=================================================================\n",
            "Total params: 112,682\n",
            "Trainable params: 112,682\n",
            "Non-trainable params: 0\n",
            "_________________________________________________________________\n"
          ]
        }
      ]
    },
    {
      "cell_type": "code",
      "source": [
        "model_6_1.compile(optimizer=\"adam\", loss=\"categorical_crossentropy\", metrics=[\"accuracy\"])"
      ],
      "metadata": {
        "id": "fcVANtpoxvPz"
      },
      "execution_count": null,
      "outputs": []
    },
    {
      "cell_type": "code",
      "source": [
        "hist_6_1 = model_6_1.fit(train_imgs, train_labels, epochs=30, batch_size=64, validation_split=0.2)"
      ],
      "metadata": {
        "colab": {
          "base_uri": "https://localhost:8080/"
        },
        "outputId": "c857bfc2-6d54-46ba-a8ae-1ca9c17d4bac",
        "id": "1H-BgTsWxvPz"
      },
      "execution_count": null,
      "outputs": [
        {
          "output_type": "stream",
          "name": "stdout",
          "text": [
            "Epoch 1/30\n",
            "750/750 [==============================] - 5s 6ms/step - loss: 0.3729 - accuracy: 0.9032 - val_loss: 0.0877 - val_accuracy: 0.9777\n",
            "Epoch 2/30\n",
            "750/750 [==============================] - 4s 6ms/step - loss: 0.0947 - accuracy: 0.9726 - val_loss: 0.0665 - val_accuracy: 0.9815\n",
            "Epoch 3/30\n",
            "750/750 [==============================] - 4s 6ms/step - loss: 0.0678 - accuracy: 0.9791 - val_loss: 0.0504 - val_accuracy: 0.9852\n",
            "Epoch 4/30\n",
            "750/750 [==============================] - 4s 6ms/step - loss: 0.0573 - accuracy: 0.9831 - val_loss: 0.0375 - val_accuracy: 0.9890\n",
            "Epoch 5/30\n",
            "750/750 [==============================] - 4s 6ms/step - loss: 0.0476 - accuracy: 0.9858 - val_loss: 0.0381 - val_accuracy: 0.9886\n",
            "Epoch 6/30\n",
            "750/750 [==============================] - 4s 6ms/step - loss: 0.0431 - accuracy: 0.9863 - val_loss: 0.0317 - val_accuracy: 0.9909\n",
            "Epoch 7/30\n",
            "750/750 [==============================] - 4s 6ms/step - loss: 0.0378 - accuracy: 0.9886 - val_loss: 0.0304 - val_accuracy: 0.9915\n",
            "Epoch 8/30\n",
            "750/750 [==============================] - 4s 6ms/step - loss: 0.0358 - accuracy: 0.9883 - val_loss: 0.0365 - val_accuracy: 0.9894\n",
            "Epoch 9/30\n",
            "750/750 [==============================] - 4s 6ms/step - loss: 0.0327 - accuracy: 0.9899 - val_loss: 0.0329 - val_accuracy: 0.9905\n",
            "Epoch 10/30\n",
            "750/750 [==============================] - 4s 6ms/step - loss: 0.0305 - accuracy: 0.9908 - val_loss: 0.0314 - val_accuracy: 0.9900\n",
            "Epoch 11/30\n",
            "750/750 [==============================] - 5s 6ms/step - loss: 0.0289 - accuracy: 0.9909 - val_loss: 0.0267 - val_accuracy: 0.9923\n",
            "Epoch 12/30\n",
            "750/750 [==============================] - 4s 6ms/step - loss: 0.0274 - accuracy: 0.9913 - val_loss: 0.0295 - val_accuracy: 0.9915\n",
            "Epoch 13/30\n",
            "750/750 [==============================] - 4s 6ms/step - loss: 0.0239 - accuracy: 0.9925 - val_loss: 0.0285 - val_accuracy: 0.9914\n",
            "Epoch 14/30\n",
            "750/750 [==============================] - 4s 6ms/step - loss: 0.0244 - accuracy: 0.9924 - val_loss: 0.0277 - val_accuracy: 0.9915\n",
            "Epoch 15/30\n",
            "750/750 [==============================] - 4s 6ms/step - loss: 0.0216 - accuracy: 0.9927 - val_loss: 0.0324 - val_accuracy: 0.9903\n",
            "Epoch 16/30\n",
            "750/750 [==============================] - 4s 6ms/step - loss: 0.0232 - accuracy: 0.9923 - val_loss: 0.0251 - val_accuracy: 0.9927\n",
            "Epoch 17/30\n",
            "750/750 [==============================] - 4s 6ms/step - loss: 0.0207 - accuracy: 0.9932 - val_loss: 0.0286 - val_accuracy: 0.9926\n",
            "Epoch 18/30\n",
            "750/750 [==============================] - 4s 6ms/step - loss: 0.0197 - accuracy: 0.9934 - val_loss: 0.0286 - val_accuracy: 0.9926\n",
            "Epoch 19/30\n",
            "750/750 [==============================] - 4s 6ms/step - loss: 0.0233 - accuracy: 0.9924 - val_loss: 0.0266 - val_accuracy: 0.9925\n",
            "Epoch 20/30\n",
            "750/750 [==============================] - 4s 6ms/step - loss: 0.0188 - accuracy: 0.9939 - val_loss: 0.0293 - val_accuracy: 0.9917\n",
            "Epoch 21/30\n",
            "750/750 [==============================] - 4s 6ms/step - loss: 0.0195 - accuracy: 0.9937 - val_loss: 0.0276 - val_accuracy: 0.9923\n",
            "Epoch 22/30\n",
            "750/750 [==============================] - 4s 6ms/step - loss: 0.0193 - accuracy: 0.9937 - val_loss: 0.0330 - val_accuracy: 0.9913\n",
            "Epoch 23/30\n",
            "750/750 [==============================] - 4s 6ms/step - loss: 0.0173 - accuracy: 0.9943 - val_loss: 0.0270 - val_accuracy: 0.9924\n",
            "Epoch 24/30\n",
            "750/750 [==============================] - 4s 6ms/step - loss: 0.0185 - accuracy: 0.9940 - val_loss: 0.0329 - val_accuracy: 0.9911\n",
            "Epoch 25/30\n",
            "750/750 [==============================] - 4s 6ms/step - loss: 0.0189 - accuracy: 0.9939 - val_loss: 0.0271 - val_accuracy: 0.9927\n",
            "Epoch 26/30\n",
            "750/750 [==============================] - 4s 6ms/step - loss: 0.0161 - accuracy: 0.9944 - val_loss: 0.0289 - val_accuracy: 0.9918\n",
            "Epoch 27/30\n",
            "750/750 [==============================] - 4s 6ms/step - loss: 0.0163 - accuracy: 0.9944 - val_loss: 0.0297 - val_accuracy: 0.9926\n",
            "Epoch 28/30\n",
            "750/750 [==============================] - 4s 6ms/step - loss: 0.0176 - accuracy: 0.9942 - val_loss: 0.0307 - val_accuracy: 0.9918\n",
            "Epoch 29/30\n",
            "750/750 [==============================] - 4s 6ms/step - loss: 0.0157 - accuracy: 0.9949 - val_loss: 0.0270 - val_accuracy: 0.9927\n",
            "Epoch 30/30\n",
            "750/750 [==============================] - 4s 6ms/step - loss: 0.0151 - accuracy: 0.9951 - val_loss: 0.0287 - val_accuracy: 0.9927\n"
          ]
        }
      ]
    },
    {
      "cell_type": "code",
      "source": [
        "acc = hist_6_1.history['accuracy']\n",
        "val_acc = hist_6_1.history['val_accuracy']\n",
        "loss = hist_6_1.history['loss']\n",
        "val_loss = hist_6_1.history['val_loss']\n",
        "\n",
        "epochs = range(1, len(acc)+1)\n",
        "\n",
        "plt.figure(figsize=(8, 12))\n",
        "ax1=plt.subplot(2, 1, 1)\n",
        "ax2=plt.subplot(2, 1, 2)\n",
        "ax1.plot(epochs, acc, 'bo', label='Trainig acc')\n",
        "ax1.plot(epochs, val_acc, 'b', label='Validation acc')\n",
        "ax1.set_title(\"Training and Validation accuracy\")\n",
        "ax1.legend()\n",
        "ax2.plot(epochs, loss, 'bo', label='Traning loss')\n",
        "ax2.plot(epochs, val_loss, 'b', label='Validation loss')\n",
        "ax2.set_title(\"Training and Validation loss\")\n",
        "ax2.legend()\n",
        "plt.show()"
      ],
      "metadata": {
        "colab": {
          "base_uri": "https://localhost:8080/",
          "height": 716
        },
        "outputId": "84938bae-117a-4a48-87e8-d1ad8f0cbc94",
        "id": "JX7WmpJwxvP0"
      },
      "execution_count": null,
      "outputs": [
        {
          "output_type": "display_data",
          "data": {
            "text/plain": [
              "<Figure size 576x864 with 2 Axes>"
            ],
            "image/png": "[encoded data removed]"
          },
          "metadata": {
            "needs_background": "light"
          }
        }
      ]
    },
    {
      "cell_type": "code",
      "source": [
        "model_6_1.evaluate(test_imgs, test_labels)"
      ],
      "metadata": {
        "colab": {
          "base_uri": "https://localhost:8080/"
        },
        "outputId": "d84bb498-c1c6-4368-8136-c83078064ba1",
        "id": "Dwf3-BRSxvP0"
      },
      "execution_count": null,
      "outputs": [
        {
          "output_type": "stream",
          "name": "stdout",
          "text": [
            "313/313 [==============================] - 1s 3ms/step - loss: 0.0248 - accuracy: 0.9928\n"
          ]
        },
        {
          "output_type": "execute_result",
          "data": {
            "text/plain": [
              "[0.024817416444420815, 0.9927999973297119]"
            ]
          },
          "metadata": {},
          "execution_count": 64
        }
      ]
    },
    {
      "cell_type": "code",
      "source": [
        "model_6_2 = keras.Sequential([\n",
        "  layers.Conv2D(128, (3, 3), activation='relu', input_shape=(28, 28, 1)),\n",
        "  layers.MaxPooling2D((2, 2)),\n",
        "  layers.Conv2D(64, (3, 3), activation='relu'),\n",
        "  layers.Dropout(0.5),\n",
        "  layers.MaxPooling2D((2, 2)),\n",
        "  layers.Conv2D(32, (3, 3), activation='relu'),\n",
        "  layers.Dropout(0.2),\n",
        "  layers.Flatten(),\n",
        "  layers.Dense(64, activation = 'sigmoid'),\n",
        "  layers.Dense(10, activation = 'softmax')\n",
        "])\n",
        "model_6_2.summary()"
      ],
      "metadata": {
        "colab": {
          "base_uri": "https://localhost:8080/"
        },
        "id": "OpvkzRFQxvP0",
        "outputId": "11782e68-fae7-4344-b7cf-b0a04d16f52f"
      },
      "execution_count": null,
      "outputs": [
        {
          "output_type": "stream",
          "name": "stdout",
          "text": [
            "Model: \"sequential_9\"\n",
            "_________________________________________________________________\n",
            " Layer (type)                Output Shape              Param #   \n",
            "=================================================================\n",
            " conv2d_27 (Conv2D)          (None, 26, 26, 128)       1280      \n",
            "                                                                 \n",
            " max_pooling2d_18 (MaxPoolin  (None, 13, 13, 128)      0         \n",
            " g2D)                                                            \n",
            "                                                                 \n",
            " conv2d_28 (Conv2D)          (None, 11, 11, 64)        73792     \n",
            "                                                                 \n",
            " dropout_4 (Dropout)         (None, 11, 11, 64)        0         \n",
            "                                                                 \n",
            " max_pooling2d_19 (MaxPoolin  (None, 5, 5, 64)         0         \n",
            " g2D)                                                            \n",
            "                                                                 \n",
            " conv2d_29 (Conv2D)          (None, 3, 3, 32)          18464     \n",
            "                                                                 \n",
            " dropout_5 (Dropout)         (None, 3, 3, 32)          0         \n",
            "                                                                 \n",
            " flatten_9 (Flatten)         (None, 288)               0         \n",
            "                                                                 \n",
            " dense_18 (Dense)            (None, 64)                18496     \n",
            "                                                                 \n",
            " dense_19 (Dense)            (None, 10)                650       \n",
            "                                                                 \n",
            "=================================================================\n",
            "Total params: 112,682\n",
            "Trainable params: 112,682\n",
            "Non-trainable params: 0\n",
            "_________________________________________________________________\n"
          ]
        }
      ]
    },
    {
      "cell_type": "code",
      "source": [
        "model_6_2.compile(optimizer=\"rmsprop\", loss=\"categorical_crossentropy\", metrics=[\"accuracy\"])"
      ],
      "metadata": {
        "id": "Y_G8wJRDxvP1"
      },
      "execution_count": null,
      "outputs": []
    },
    {
      "cell_type": "code",
      "source": [
        "hist_6_2 = model_6_2.fit(train_imgs, train_labels, epochs=30, batch_size=128, validation_split=0.2)"
      ],
      "metadata": {
        "colab": {
          "base_uri": "https://localhost:8080/"
        },
        "outputId": "f076faa8-9280-4e4a-c064-39d99edca867",
        "id": "EmvzbhRaxvP1"
      },
      "execution_count": null,
      "outputs": [
        {
          "output_type": "stream",
          "name": "stdout",
          "text": [
            "Epoch 1/30\n",
            "375/375 [==============================] - 5s 11ms/step - loss: 0.4510 - accuracy: 0.8823 - val_loss: 0.1336 - val_accuracy: 0.9652\n",
            "Epoch 2/30\n",
            "375/375 [==============================] - 4s 10ms/step - loss: 0.1171 - accuracy: 0.9658 - val_loss: 0.0668 - val_accuracy: 0.9806\n",
            "Epoch 3/30\n",
            "375/375 [==============================] - 4s 11ms/step - loss: 0.0775 - accuracy: 0.9770 - val_loss: 0.0496 - val_accuracy: 0.9860\n",
            "Epoch 4/30\n",
            "375/375 [==============================] - 4s 10ms/step - loss: 0.0599 - accuracy: 0.9816 - val_loss: 0.0491 - val_accuracy: 0.9862\n",
            "Epoch 5/30\n",
            "375/375 [==============================] - 4s 11ms/step - loss: 0.0523 - accuracy: 0.9835 - val_loss: 0.0502 - val_accuracy: 0.9847\n",
            "Epoch 6/30\n",
            "375/375 [==============================] - 4s 11ms/step - loss: 0.0467 - accuracy: 0.9851 - val_loss: 0.0393 - val_accuracy: 0.9879\n",
            "Epoch 7/30\n",
            "375/375 [==============================] - 4s 10ms/step - loss: 0.0426 - accuracy: 0.9866 - val_loss: 0.0337 - val_accuracy: 0.9898\n",
            "Epoch 8/30\n",
            "375/375 [==============================] - 4s 11ms/step - loss: 0.0393 - accuracy: 0.9875 - val_loss: 0.0317 - val_accuracy: 0.9910\n",
            "Epoch 9/30\n",
            "375/375 [==============================] - 4s 11ms/step - loss: 0.0341 - accuracy: 0.9894 - val_loss: 0.0362 - val_accuracy: 0.9893\n",
            "Epoch 10/30\n",
            "375/375 [==============================] - 4s 11ms/step - loss: 0.0335 - accuracy: 0.9895 - val_loss: 0.0325 - val_accuracy: 0.9915\n",
            "Epoch 11/30\n",
            "375/375 [==============================] - 4s 10ms/step - loss: 0.0319 - accuracy: 0.9899 - val_loss: 0.0304 - val_accuracy: 0.9912\n",
            "Epoch 12/30\n",
            "375/375 [==============================] - 4s 10ms/step - loss: 0.0300 - accuracy: 0.9910 - val_loss: 0.0279 - val_accuracy: 0.9918\n",
            "Epoch 13/30\n",
            "375/375 [==============================] - 4s 10ms/step - loss: 0.0302 - accuracy: 0.9908 - val_loss: 0.0327 - val_accuracy: 0.9908\n",
            "Epoch 14/30\n",
            "375/375 [==============================] - 4s 11ms/step - loss: 0.0280 - accuracy: 0.9912 - val_loss: 0.0295 - val_accuracy: 0.9921\n",
            "Epoch 15/30\n",
            "375/375 [==============================] - 4s 10ms/step - loss: 0.0264 - accuracy: 0.9915 - val_loss: 0.0302 - val_accuracy: 0.9911\n",
            "Epoch 16/30\n",
            "375/375 [==============================] - 4s 11ms/step - loss: 0.0248 - accuracy: 0.9926 - val_loss: 0.0303 - val_accuracy: 0.9918\n",
            "Epoch 17/30\n",
            "375/375 [==============================] - 4s 11ms/step - loss: 0.0235 - accuracy: 0.9928 - val_loss: 0.0306 - val_accuracy: 0.9918\n",
            "Epoch 18/30\n",
            "375/375 [==============================] - 4s 10ms/step - loss: 0.0221 - accuracy: 0.9927 - val_loss: 0.0328 - val_accuracy: 0.9914\n",
            "Epoch 19/30\n",
            "375/375 [==============================] - 4s 10ms/step - loss: 0.0231 - accuracy: 0.9925 - val_loss: 0.0345 - val_accuracy: 0.9910\n",
            "Epoch 20/30\n",
            "375/375 [==============================] - 4s 11ms/step - loss: 0.0223 - accuracy: 0.9930 - val_loss: 0.0291 - val_accuracy: 0.9922\n",
            "Epoch 21/30\n",
            "375/375 [==============================] - 4s 11ms/step - loss: 0.0228 - accuracy: 0.9927 - val_loss: 0.0268 - val_accuracy: 0.9930\n",
            "Epoch 22/30\n",
            "375/375 [==============================] - 4s 11ms/step - loss: 0.0203 - accuracy: 0.9939 - val_loss: 0.0336 - val_accuracy: 0.9915\n",
            "Epoch 23/30\n",
            "375/375 [==============================] - 4s 11ms/step - loss: 0.0201 - accuracy: 0.9935 - val_loss: 0.0299 - val_accuracy: 0.9925\n",
            "Epoch 24/30\n",
            "375/375 [==============================] - 4s 10ms/step - loss: 0.0193 - accuracy: 0.9940 - val_loss: 0.0321 - val_accuracy: 0.9923\n",
            "Epoch 25/30\n",
            "375/375 [==============================] - 4s 10ms/step - loss: 0.0192 - accuracy: 0.9934 - val_loss: 0.0323 - val_accuracy: 0.9916\n",
            "Epoch 26/30\n",
            "375/375 [==============================] - 4s 11ms/step - loss: 0.0191 - accuracy: 0.9939 - val_loss: 0.0359 - val_accuracy: 0.9913\n",
            "Epoch 27/30\n",
            "375/375 [==============================] - 4s 11ms/step - loss: 0.0180 - accuracy: 0.9942 - val_loss: 0.0308 - val_accuracy: 0.9926\n",
            "Epoch 28/30\n",
            "375/375 [==============================] - 4s 11ms/step - loss: 0.0175 - accuracy: 0.9942 - val_loss: 0.0298 - val_accuracy: 0.9922\n",
            "Epoch 29/30\n",
            "375/375 [==============================] - 4s 11ms/step - loss: 0.0187 - accuracy: 0.9942 - val_loss: 0.0313 - val_accuracy: 0.9919\n",
            "Epoch 30/30\n",
            "375/375 [==============================] - 4s 10ms/step - loss: 0.0173 - accuracy: 0.9943 - val_loss: 0.0326 - val_accuracy: 0.9916\n"
          ]
        }
      ]
    },
    {
      "cell_type": "code",
      "source": [
        "acc = hist_6_2.history['accuracy']\n",
        "val_acc = hist_6_2.history['val_accuracy']\n",
        "loss = hist_6_2.history['loss']\n",
        "val_loss = hist_6_2.history['val_loss']\n",
        "\n",
        "epochs = range(1, len(acc)+1)\n",
        "\n",
        "plt.figure(figsize=(8, 12))\n",
        "ax1=plt.subplot(2, 1, 1)\n",
        "ax2=plt.subplot(2, 1, 2)\n",
        "ax1.plot(epochs, acc, 'bo', label='Trainig acc')\n",
        "ax1.plot(epochs, val_acc, 'b', label='Validation acc')\n",
        "ax1.set_title(\"Training and Validation accuracy\")\n",
        "ax1.legend()\n",
        "ax2.plot(epochs, loss, 'bo', label='Traning loss')\n",
        "ax2.plot(epochs, val_loss, 'b', label='Validation loss')\n",
        "ax2.set_title(\"Training and Validation loss\")\n",
        "ax2.legend()\n",
        "plt.show()"
      ],
      "metadata": {
        "colab": {
          "base_uri": "https://localhost:8080/",
          "height": 716
        },
        "outputId": "a305b50a-0659-4972-b804-6983a42de016",
        "id": "E25tNsvVxvP2"
      },
      "execution_count": null,
      "outputs": [
        {
          "output_type": "display_data",
          "data": {
            "text/plain": [
              "<Figure size 576x864 with 2 Axes>"
            ],
            "image/png": "[encoded data removed]"
          },
          "metadata": {
            "needs_background": "light"
          }
        }
      ]
    },
    {
      "cell_type": "code",
      "source": [
        "model_6_2.evaluate(test_imgs, test_labels)"
      ],
      "metadata": {
        "colab": {
          "base_uri": "https://localhost:8080/"
        },
        "outputId": "0defd70f-3f23-421a-8096-11e98b7c78c4",
        "id": "LiYnT02axvP2"
      },
      "execution_count": null,
      "outputs": [
        {
          "output_type": "stream",
          "name": "stdout",
          "text": [
            "313/313 [==============================] - 1s 3ms/step - loss: 0.0221 - accuracy: 0.9934\n"
          ]
        },
        {
          "output_type": "execute_result",
          "data": {
            "text/plain": [
              "[0.02206776849925518, 0.993399977684021]"
            ]
          },
          "metadata": {},
          "execution_count": 69
        }
      ]
    }
  ]
}
