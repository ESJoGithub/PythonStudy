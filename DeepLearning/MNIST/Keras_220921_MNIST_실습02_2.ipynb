{
  "nbformat": 4,
  "nbformat_minor": 0,
  "metadata": {
    "colab": {
      "provenance": [],
      "collapsed_sections": [],
      "include_colab_link": true
    },
    "kernelspec": {
      "name": "python3",
      "display_name": "Python 3"
    },
    "language_info": {
      "name": "python"
    }
  },
  "cells": [
    {
      "cell_type": "markdown",
      "metadata": {
        "id": "view-in-github",
        "colab_type": "text"
      },
      "source": [
        "<a href=\"https://colab.research.google.com/github/ESJoGithub/PythonStudy/blob/main/DeepLearning/MNIST/Keras_220921_MNIST_%EC%8B%A4%EC%8A%B502_2.ipynb\" target=\"_parent\"><img src=\"https://colab.research.google.com/assets/colab-badge.svg\" alt=\"Open In Colab\"/></a>"
      ]
    },
    {
      "cell_type": "code",
      "source": [
        "from google.colab import drive\n",
        "drive.mount('/content/drive')"
      ],
      "metadata": {
        "colab": {
          "base_uri": "https://localhost:8080/"
        },
        "id": "oxtO2zTTtPq3",
        "outputId": "fbc89bfd-b763-441b-a090-bfd6a23b42d5"
      },
      "execution_count": 2,
      "outputs": [
        {
          "output_type": "stream",
          "name": "stdout",
          "text": [
            "Mounted at /content/drive\n"
          ]
        }
      ]
    },
    {
      "cell_type": "code",
      "source": [
        "!ln -s /content/drive/MyDrive /mydrive"
      ],
      "metadata": {
        "id": "e2ZTrV_htIFl"
      },
      "execution_count": 3,
      "outputs": []
    },
    {
      "cell_type": "code",
      "source": [
        "%cd /mydrive"
      ],
      "metadata": {
        "colab": {
          "base_uri": "https://localhost:8080/"
        },
        "id": "B9ry3cBStVU1",
        "outputId": "d68f6a1a-9b4f-4e4c-950f-d6255ff5e762"
      },
      "execution_count": 4,
      "outputs": [
        {
          "output_type": "stream",
          "name": "stdout",
          "text": [
            "/content/drive/MyDrive\n"
          ]
        }
      ]
    },
    {
      "cell_type": "code",
      "source": [
        "!mkdir mnist"
      ],
      "metadata": {
        "id": "98FN5iLDtXqb",
        "colab": {
          "base_uri": "https://localhost:8080/"
        },
        "outputId": "2adf7c08-8039-4c89-b92c-e30070e9ac13"
      },
      "execution_count": 5,
      "outputs": [
        {
          "output_type": "stream",
          "name": "stdout",
          "text": [
            "mkdir: cannot create directory ‘mnist’: File exists\n"
          ]
        }
      ]
    },
    {
      "cell_type": "markdown",
      "source": [
        "## __CNN Layer & Batch Size 키우기__\n",
        "---\n",
        "SGD, adam, rmsprop 각 optimizer별 batch_size를 변경해볼 것"
      ],
      "metadata": {
        "id": "19CLRpWxwL5T"
      }
    },
    {
      "cell_type": "markdown",
      "source": [
        "### **1. Library Import**"
      ],
      "metadata": {
        "id": "9Tx44ggmYNsD"
      }
    },
    {
      "cell_type": "code",
      "source": [
        "from keras import datasets, layers, models                \n",
        "from tensorflow import keras                         # to_categorical 함수\n",
        "from tensorflow.keras.models import load_model\n",
        "from tensorflow.keras.callbacks import EarlyStopping, ModelCheckpoint\n",
        "\n",
        "import numpy as np\n",
        "import matplotlib.pyplot as plt\n",
        "import pandas as pd"
      ],
      "metadata": {
        "id": "UFco5dLCQBQF"
      },
      "execution_count": 6,
      "outputs": []
    },
    {
      "cell_type": "code",
      "source": [
        "(train_imgs, train_labels), (test_imgs, test_labels) = datasets.mnist.load_data()"
      ],
      "metadata": {
        "id": "rwcqMzdKTPwN",
        "colab": {
          "base_uri": "https://localhost:8080/"
        },
        "outputId": "67db5f40-ef0f-47d1-af95-4c4fdfdea6f3"
      },
      "execution_count": 7,
      "outputs": [
        {
          "output_type": "stream",
          "name": "stdout",
          "text": [
            "Downloading data from https://storage.googleapis.com/tensorflow/tf-keras-datasets/mnist.npz\n",
            "11493376/11490434 [==============================] - 0s 0us/step\n",
            "11501568/11490434 [==============================] - 0s 0us/step\n"
          ]
        }
      ]
    },
    {
      "cell_type": "markdown",
      "source": [
        "### **2. 데이터 확인 및 전처리**"
      ],
      "metadata": {
        "id": "vcIHfL7pYJps"
      }
    },
    {
      "cell_type": "code",
      "source": [
        "train_imgs = train_imgs/255.0\n",
        "test_imgs = test_imgs/255.0"
      ],
      "metadata": {
        "id": "w4IFaKuOYIfc"
      },
      "execution_count": 8,
      "outputs": []
    },
    {
      "cell_type": "code",
      "source": [
        "print(train_imgs.shape)\n",
        "print(test_imgs.shape)"
      ],
      "metadata": {
        "colab": {
          "base_uri": "https://localhost:8080/"
        },
        "id": "A9ujYrDMiRy1",
        "outputId": "d77782f5-f5e7-40a6-fd83-e90af65f9c57"
      },
      "execution_count": 9,
      "outputs": [
        {
          "output_type": "stream",
          "name": "stdout",
          "text": [
            "(60000, 28, 28)\n",
            "(10000, 28, 28)\n"
          ]
        }
      ]
    },
    {
      "cell_type": "code",
      "source": [
        "train_imgs = train_imgs.reshape((60000, 28, 28, 1))\n",
        "test_imgs = test_imgs.reshape((10000, 28, 28, 1))"
      ],
      "metadata": {
        "id": "5IGxhDfjiN7d"
      },
      "execution_count": 10,
      "outputs": []
    },
    {
      "cell_type": "code",
      "source": [
        "train_labels = keras.utils.to_categorical(train_labels, num_classes=10)\n",
        "test_labels = keras.utils.to_categorical(test_labels, num_classes=10)"
      ],
      "metadata": {
        "id": "ouDs40X-n_uw"
      },
      "execution_count": 11,
      "outputs": []
    },
    {
      "cell_type": "markdown",
      "source": [
        "### __Batchsize 변경__\n",
        "\n",
        "---\n",
        "64 -> 124로 조정"
      ],
      "metadata": {
        "id": "NTqxfKdbYvVL"
      }
    },
    {
      "cell_type": "markdown",
      "source": [
        "#### __1. batch_size=128, 출력 직전층 activation='relu', optimizer='SGD'__ "
      ],
      "metadata": {
        "id": "CMdQEIi7gG_d"
      }
    },
    {
      "cell_type": "code",
      "source": [
        "import keras"
      ],
      "metadata": {
        "id": "EtDrGU7LlR96"
      },
      "execution_count": 12,
      "outputs": []
    },
    {
      "cell_type": "code",
      "source": [
        "model_1 = keras.Sequential([\n",
        "  layers.Conv2D(32, (3, 3), activation='relu', input_shape=(28, 28, 1)),\n",
        "  layers.MaxPooling2D((2, 2)),\n",
        "  layers.Dropout(0.2),\n",
        "  layers.Conv2D(64, (3, 3), activation='relu'),\n",
        "  layers.MaxPooling2D((2, 2)),\n",
        "  layers.Dropout(0.2),\n",
        "  layers.Conv2D(128, (3, 3), activation='relu'),\n",
        "  layers.Dropout(0.5),\n",
        "  layers.Flatten(),\n",
        "  layers.Dense(64, activation = 'relu'),\n",
        "  layers.Dense(10, activation = 'softmax')\n",
        "])\n",
        "model_1.summary()"
      ],
      "metadata": {
        "id": "LSy5b6TEYmJj",
        "colab": {
          "base_uri": "https://localhost:8080/"
        },
        "outputId": "f1aab3bf-f6e8-4aa9-b30a-67cc4dd3b29b"
      },
      "execution_count": 13,
      "outputs": [
        {
          "output_type": "stream",
          "name": "stdout",
          "text": [
            "Model: \"sequential\"\n",
            "_________________________________________________________________\n",
            " Layer (type)                Output Shape              Param #   \n",
            "=================================================================\n",
            " conv2d (Conv2D)             (None, 26, 26, 32)        320       \n",
            "                                                                 \n",
            " max_pooling2d (MaxPooling2D  (None, 13, 13, 32)       0         \n",
            " )                                                               \n",
            "                                                                 \n",
            " dropout (Dropout)           (None, 13, 13, 32)        0         \n",
            "                                                                 \n",
            " conv2d_1 (Conv2D)           (None, 11, 11, 64)        18496     \n",
            "                                                                 \n",
            " max_pooling2d_1 (MaxPooling  (None, 5, 5, 64)         0         \n",
            " 2D)                                                             \n",
            "                                                                 \n",
            " dropout_1 (Dropout)         (None, 5, 5, 64)          0         \n",
            "                                                                 \n",
            " conv2d_2 (Conv2D)           (None, 3, 3, 128)         73856     \n",
            "                                                                 \n",
            " dropout_2 (Dropout)         (None, 3, 3, 128)         0         \n",
            "                                                                 \n",
            " flatten (Flatten)           (None, 1152)              0         \n",
            "                                                                 \n",
            " dense (Dense)               (None, 64)                73792     \n",
            "                                                                 \n",
            " dense_1 (Dense)             (None, 10)                650       \n",
            "                                                                 \n",
            "=================================================================\n",
            "Total params: 167,114\n",
            "Trainable params: 167,114\n",
            "Non-trainable params: 0\n",
            "_________________________________________________________________\n"
          ]
        }
      ]
    },
    {
      "cell_type": "code",
      "source": [
        "model_1.compile(optimizer=\"SGD\", loss=\"categorical_crossentropy\", metrics=[\"accuracy\"])"
      ],
      "metadata": {
        "id": "rIRHwKY3gm2w"
      },
      "execution_count": 14,
      "outputs": []
    },
    {
      "cell_type": "code",
      "source": [
        "es = EarlyStopping(monitor='val_loss', mode='min', verbose=1, patience=10)\n",
        "mc = ModelCheckpoint('mnist/try02.h5', monitor='val_accuracy', mode='max', verbose=1, save_best_only=True)\n",
        "hist_1 = model_1.fit(train_imgs, train_labels, epochs=100, batch_size=128, validation_split=0.2, callbacks=[es, mc])"
      ],
      "metadata": {
        "colab": {
          "base_uri": "https://localhost:8080/"
        },
        "id": "rmGRWjkknkZo",
        "outputId": "e437caf7-bcbb-419f-9b1c-751359916ba5"
      },
      "execution_count": 15,
      "outputs": [
        {
          "output_type": "stream",
          "name": "stdout",
          "text": [
            "Epoch 1/100\n",
            "368/375 [============================>.] - ETA: 0s - loss: 2.0882 - accuracy: 0.2668\n",
            "Epoch 1: val_accuracy improved from -inf to 0.75892, saving model to mnist/try02.h5\n",
            "375/375 [==============================] - 16s 12ms/step - loss: 2.0747 - accuracy: 0.2719 - val_loss: 1.0642 - val_accuracy: 0.7589\n",
            "Epoch 2/100\n",
            "372/375 [============================>.] - ETA: 0s - loss: 0.8675 - accuracy: 0.7115\n",
            "Epoch 2: val_accuracy improved from 0.75892 to 0.88067, saving model to mnist/try02.h5\n",
            "375/375 [==============================] - 2s 6ms/step - loss: 0.8657 - accuracy: 0.7124 - val_loss: 0.4153 - val_accuracy: 0.8807\n",
            "Epoch 3/100\n",
            "368/375 [============================>.] - ETA: 0s - loss: 0.5470 - accuracy: 0.8216\n",
            "Epoch 3: val_accuracy improved from 0.88067 to 0.91500, saving model to mnist/try02.h5\n",
            "375/375 [==============================] - 2s 6ms/step - loss: 0.5462 - accuracy: 0.8222 - val_loss: 0.2932 - val_accuracy: 0.9150\n",
            "Epoch 4/100\n",
            "372/375 [============================>.] - ETA: 0s - loss: 0.4145 - accuracy: 0.8693\n",
            "Epoch 4: val_accuracy improved from 0.91500 to 0.93075, saving model to mnist/try02.h5\n",
            "375/375 [==============================] - 2s 6ms/step - loss: 0.4140 - accuracy: 0.8695 - val_loss: 0.2300 - val_accuracy: 0.9308\n",
            "Epoch 5/100\n",
            "365/375 [============================>.] - ETA: 0s - loss: 0.3409 - accuracy: 0.8921\n",
            "Epoch 5: val_accuracy improved from 0.93075 to 0.94233, saving model to mnist/try02.h5\n",
            "375/375 [==============================] - 2s 6ms/step - loss: 0.3413 - accuracy: 0.8918 - val_loss: 0.1935 - val_accuracy: 0.9423\n",
            "Epoch 6/100\n",
            "369/375 [============================>.] - ETA: 0s - loss: 0.2920 - accuracy: 0.9094\n",
            "Epoch 6: val_accuracy improved from 0.94233 to 0.95158, saving model to mnist/try02.h5\n",
            "375/375 [==============================] - 2s 6ms/step - loss: 0.2910 - accuracy: 0.9096 - val_loss: 0.1629 - val_accuracy: 0.9516\n",
            "Epoch 7/100\n",
            "372/375 [============================>.] - ETA: 0s - loss: 0.2561 - accuracy: 0.9208\n",
            "Epoch 7: val_accuracy improved from 0.95158 to 0.95700, saving model to mnist/try02.h5\n",
            "375/375 [==============================] - 2s 6ms/step - loss: 0.2557 - accuracy: 0.9209 - val_loss: 0.1483 - val_accuracy: 0.9570\n",
            "Epoch 8/100\n",
            "375/375 [==============================] - ETA: 0s - loss: 0.2339 - accuracy: 0.9260\n",
            "Epoch 8: val_accuracy improved from 0.95700 to 0.96050, saving model to mnist/try02.h5\n",
            "375/375 [==============================] - 2s 6ms/step - loss: 0.2339 - accuracy: 0.9260 - val_loss: 0.1342 - val_accuracy: 0.9605\n",
            "Epoch 9/100\n",
            "369/375 [============================>.] - ETA: 0s - loss: 0.2133 - accuracy: 0.9334\n",
            "Epoch 9: val_accuracy improved from 0.96050 to 0.96067, saving model to mnist/try02.h5\n",
            "375/375 [==============================] - 2s 6ms/step - loss: 0.2134 - accuracy: 0.9334 - val_loss: 0.1309 - val_accuracy: 0.9607\n",
            "Epoch 10/100\n",
            "373/375 [============================>.] - ETA: 0s - loss: 0.1939 - accuracy: 0.9391\n",
            "Epoch 10: val_accuracy improved from 0.96067 to 0.96592, saving model to mnist/try02.h5\n",
            "375/375 [==============================] - 2s 6ms/step - loss: 0.1937 - accuracy: 0.9392 - val_loss: 0.1139 - val_accuracy: 0.9659\n",
            "Epoch 11/100\n",
            "373/375 [============================>.] - ETA: 0s - loss: 0.1809 - accuracy: 0.9442\n",
            "Epoch 11: val_accuracy improved from 0.96592 to 0.96825, saving model to mnist/try02.h5\n",
            "375/375 [==============================] - 2s 6ms/step - loss: 0.1812 - accuracy: 0.9440 - val_loss: 0.1054 - val_accuracy: 0.9682\n",
            "Epoch 12/100\n",
            "370/375 [============================>.] - ETA: 0s - loss: 0.1756 - accuracy: 0.9447\n",
            "Epoch 12: val_accuracy improved from 0.96825 to 0.96975, saving model to mnist/try02.h5\n",
            "375/375 [==============================] - 2s 6ms/step - loss: 0.1755 - accuracy: 0.9447 - val_loss: 0.1018 - val_accuracy: 0.9697\n",
            "Epoch 13/100\n",
            "367/375 [============================>.] - ETA: 0s - loss: 0.1658 - accuracy: 0.9490\n",
            "Epoch 13: val_accuracy improved from 0.96975 to 0.97092, saving model to mnist/try02.h5\n",
            "375/375 [==============================] - 2s 6ms/step - loss: 0.1660 - accuracy: 0.9488 - val_loss: 0.0965 - val_accuracy: 0.9709\n",
            "Epoch 14/100\n",
            "365/375 [============================>.] - ETA: 0s - loss: 0.1565 - accuracy: 0.9515\n",
            "Epoch 14: val_accuracy improved from 0.97092 to 0.97358, saving model to mnist/try02.h5\n",
            "375/375 [==============================] - 2s 6ms/step - loss: 0.1570 - accuracy: 0.9514 - val_loss: 0.0901 - val_accuracy: 0.9736\n",
            "Epoch 15/100\n",
            "368/375 [============================>.] - ETA: 0s - loss: 0.1500 - accuracy: 0.9542\n",
            "Epoch 15: val_accuracy did not improve from 0.97358\n",
            "375/375 [==============================] - 2s 6ms/step - loss: 0.1500 - accuracy: 0.9542 - val_loss: 0.0880 - val_accuracy: 0.9732\n",
            "Epoch 16/100\n",
            "373/375 [============================>.] - ETA: 0s - loss: 0.1437 - accuracy: 0.9558\n",
            "Epoch 16: val_accuracy improved from 0.97358 to 0.97442, saving model to mnist/try02.h5\n",
            "375/375 [==============================] - 2s 6ms/step - loss: 0.1439 - accuracy: 0.9557 - val_loss: 0.0844 - val_accuracy: 0.9744\n",
            "Epoch 17/100\n",
            "372/375 [============================>.] - ETA: 0s - loss: 0.1360 - accuracy: 0.9582\n",
            "Epoch 17: val_accuracy improved from 0.97442 to 0.97650, saving model to mnist/try02.h5\n",
            "375/375 [==============================] - 2s 6ms/step - loss: 0.1359 - accuracy: 0.9582 - val_loss: 0.0799 - val_accuracy: 0.9765\n",
            "Epoch 18/100\n",
            "369/375 [============================>.] - ETA: 0s - loss: 0.1327 - accuracy: 0.9585\n",
            "Epoch 18: val_accuracy improved from 0.97650 to 0.97675, saving model to mnist/try02.h5\n",
            "375/375 [==============================] - 2s 6ms/step - loss: 0.1323 - accuracy: 0.9587 - val_loss: 0.0772 - val_accuracy: 0.9768\n",
            "Epoch 19/100\n",
            "374/375 [============================>.] - ETA: 0s - loss: 0.1252 - accuracy: 0.9613\n",
            "Epoch 19: val_accuracy improved from 0.97675 to 0.97708, saving model to mnist/try02.h5\n",
            "375/375 [==============================] - 2s 6ms/step - loss: 0.1251 - accuracy: 0.9613 - val_loss: 0.0739 - val_accuracy: 0.9771\n",
            "Epoch 20/100\n",
            "367/375 [============================>.] - ETA: 0s - loss: 0.1231 - accuracy: 0.9615\n",
            "Epoch 20: val_accuracy improved from 0.97708 to 0.97742, saving model to mnist/try02.h5\n",
            "375/375 [==============================] - 2s 6ms/step - loss: 0.1231 - accuracy: 0.9615 - val_loss: 0.0735 - val_accuracy: 0.9774\n",
            "Epoch 21/100\n",
            "371/375 [============================>.] - ETA: 0s - loss: 0.1203 - accuracy: 0.9627\n",
            "Epoch 21: val_accuracy improved from 0.97742 to 0.97867, saving model to mnist/try02.h5\n",
            "375/375 [==============================] - 2s 6ms/step - loss: 0.1203 - accuracy: 0.9626 - val_loss: 0.0712 - val_accuracy: 0.9787\n",
            "Epoch 22/100\n",
            "370/375 [============================>.] - ETA: 0s - loss: 0.1160 - accuracy: 0.9644\n",
            "Epoch 22: val_accuracy did not improve from 0.97867\n",
            "375/375 [==============================] - 2s 6ms/step - loss: 0.1157 - accuracy: 0.9645 - val_loss: 0.0696 - val_accuracy: 0.9787\n",
            "Epoch 23/100\n",
            "366/375 [============================>.] - ETA: 0s - loss: 0.1132 - accuracy: 0.9647\n",
            "Epoch 23: val_accuracy improved from 0.97867 to 0.97967, saving model to mnist/try02.h5\n",
            "375/375 [==============================] - 2s 6ms/step - loss: 0.1130 - accuracy: 0.9648 - val_loss: 0.0676 - val_accuracy: 0.9797\n",
            "Epoch 24/100\n",
            "373/375 [============================>.] - ETA: 0s - loss: 0.1092 - accuracy: 0.9660\n",
            "Epoch 24: val_accuracy improved from 0.97967 to 0.98017, saving model to mnist/try02.h5\n",
            "375/375 [==============================] - 2s 6ms/step - loss: 0.1090 - accuracy: 0.9660 - val_loss: 0.0657 - val_accuracy: 0.9802\n",
            "Epoch 25/100\n",
            "368/375 [============================>.] - ETA: 0s - loss: 0.1062 - accuracy: 0.9664\n",
            "Epoch 25: val_accuracy improved from 0.98017 to 0.98092, saving model to mnist/try02.h5\n",
            "375/375 [==============================] - 2s 6ms/step - loss: 0.1061 - accuracy: 0.9666 - val_loss: 0.0653 - val_accuracy: 0.9809\n",
            "Epoch 26/100\n",
            "370/375 [============================>.] - ETA: 0s - loss: 0.1062 - accuracy: 0.9667\n",
            "Epoch 26: val_accuracy improved from 0.98092 to 0.98142, saving model to mnist/try02.h5\n",
            "375/375 [==============================] - 2s 6ms/step - loss: 0.1063 - accuracy: 0.9667 - val_loss: 0.0632 - val_accuracy: 0.9814\n",
            "Epoch 27/100\n",
            "365/375 [============================>.] - ETA: 0s - loss: 0.1002 - accuracy: 0.9693\n",
            "Epoch 27: val_accuracy did not improve from 0.98142\n",
            "375/375 [==============================] - 2s 6ms/step - loss: 0.1004 - accuracy: 0.9691 - val_loss: 0.0617 - val_accuracy: 0.9813\n",
            "Epoch 28/100\n",
            "367/375 [============================>.] - ETA: 0s - loss: 0.0993 - accuracy: 0.9691\n",
            "Epoch 28: val_accuracy improved from 0.98142 to 0.98200, saving model to mnist/try02.h5\n",
            "375/375 [==============================] - 2s 6ms/step - loss: 0.0998 - accuracy: 0.9689 - val_loss: 0.0604 - val_accuracy: 0.9820\n",
            "Epoch 29/100\n",
            "366/375 [============================>.] - ETA: 0s - loss: 0.0974 - accuracy: 0.9698\n",
            "Epoch 29: val_accuracy did not improve from 0.98200\n",
            "375/375 [==============================] - 2s 6ms/step - loss: 0.0973 - accuracy: 0.9696 - val_loss: 0.0594 - val_accuracy: 0.9820\n",
            "Epoch 30/100\n",
            "374/375 [============================>.] - ETA: 0s - loss: 0.0956 - accuracy: 0.9699\n",
            "Epoch 30: val_accuracy improved from 0.98200 to 0.98233, saving model to mnist/try02.h5\n",
            "375/375 [==============================] - 2s 6ms/step - loss: 0.0956 - accuracy: 0.9699 - val_loss: 0.0567 - val_accuracy: 0.9823\n",
            "Epoch 31/100\n",
            "374/375 [============================>.] - ETA: 0s - loss: 0.0927 - accuracy: 0.9715\n",
            "Epoch 31: val_accuracy improved from 0.98233 to 0.98308, saving model to mnist/try02.h5\n",
            "375/375 [==============================] - 2s 6ms/step - loss: 0.0925 - accuracy: 0.9715 - val_loss: 0.0570 - val_accuracy: 0.9831\n",
            "Epoch 32/100\n",
            "374/375 [============================>.] - ETA: 0s - loss: 0.0914 - accuracy: 0.9719\n",
            "Epoch 32: val_accuracy improved from 0.98308 to 0.98317, saving model to mnist/try02.h5\n",
            "375/375 [==============================] - 2s 6ms/step - loss: 0.0914 - accuracy: 0.9719 - val_loss: 0.0554 - val_accuracy: 0.9832\n",
            "Epoch 33/100\n",
            "374/375 [============================>.] - ETA: 0s - loss: 0.0897 - accuracy: 0.9721\n",
            "Epoch 33: val_accuracy improved from 0.98317 to 0.98392, saving model to mnist/try02.h5\n",
            "375/375 [==============================] - 2s 6ms/step - loss: 0.0897 - accuracy: 0.9721 - val_loss: 0.0544 - val_accuracy: 0.9839\n",
            "Epoch 34/100\n",
            "375/375 [==============================] - ETA: 0s - loss: 0.0875 - accuracy: 0.9722\n",
            "Epoch 34: val_accuracy improved from 0.98392 to 0.98400, saving model to mnist/try02.h5\n",
            "375/375 [==============================] - 2s 6ms/step - loss: 0.0875 - accuracy: 0.9722 - val_loss: 0.0538 - val_accuracy: 0.9840\n",
            "Epoch 35/100\n",
            "367/375 [============================>.] - ETA: 0s - loss: 0.0842 - accuracy: 0.9733\n",
            "Epoch 35: val_accuracy improved from 0.98400 to 0.98425, saving model to mnist/try02.h5\n",
            "375/375 [==============================] - 2s 6ms/step - loss: 0.0846 - accuracy: 0.9731 - val_loss: 0.0536 - val_accuracy: 0.9843\n",
            "Epoch 36/100\n",
            "373/375 [============================>.] - ETA: 0s - loss: 0.0859 - accuracy: 0.9729\n",
            "Epoch 36: val_accuracy did not improve from 0.98425\n",
            "375/375 [==============================] - 2s 6ms/step - loss: 0.0860 - accuracy: 0.9729 - val_loss: 0.0541 - val_accuracy: 0.9837\n",
            "Epoch 37/100\n",
            "368/375 [============================>.] - ETA: 0s - loss: 0.0865 - accuracy: 0.9734\n",
            "Epoch 37: val_accuracy improved from 0.98425 to 0.98442, saving model to mnist/try02.h5\n",
            "375/375 [==============================] - 2s 6ms/step - loss: 0.0863 - accuracy: 0.9735 - val_loss: 0.0545 - val_accuracy: 0.9844\n",
            "Epoch 38/100\n",
            "369/375 [============================>.] - ETA: 0s - loss: 0.0813 - accuracy: 0.9742\n",
            "Epoch 38: val_accuracy improved from 0.98442 to 0.98483, saving model to mnist/try02.h5\n",
            "375/375 [==============================] - 2s 6ms/step - loss: 0.0816 - accuracy: 0.9742 - val_loss: 0.0517 - val_accuracy: 0.9848\n",
            "Epoch 39/100\n",
            "374/375 [============================>.] - ETA: 0s - loss: 0.0818 - accuracy: 0.9735\n",
            "Epoch 39: val_accuracy improved from 0.98483 to 0.98508, saving model to mnist/try02.h5\n",
            "375/375 [==============================] - 2s 6ms/step - loss: 0.0818 - accuracy: 0.9734 - val_loss: 0.0496 - val_accuracy: 0.9851\n",
            "Epoch 40/100\n",
            "371/375 [============================>.] - ETA: 0s - loss: 0.0811 - accuracy: 0.9744\n",
            "Epoch 40: val_accuracy improved from 0.98508 to 0.98517, saving model to mnist/try02.h5\n",
            "375/375 [==============================] - 2s 6ms/step - loss: 0.0810 - accuracy: 0.9742 - val_loss: 0.0498 - val_accuracy: 0.9852\n",
            "Epoch 41/100\n",
            "367/375 [============================>.] - ETA: 0s - loss: 0.0778 - accuracy: 0.9752\n",
            "Epoch 41: val_accuracy improved from 0.98517 to 0.98583, saving model to mnist/try02.h5\n",
            "375/375 [==============================] - 2s 6ms/step - loss: 0.0777 - accuracy: 0.9751 - val_loss: 0.0497 - val_accuracy: 0.9858\n",
            "Epoch 42/100\n",
            "367/375 [============================>.] - ETA: 0s - loss: 0.0770 - accuracy: 0.9753\n",
            "Epoch 42: val_accuracy did not improve from 0.98583\n",
            "375/375 [==============================] - 2s 6ms/step - loss: 0.0770 - accuracy: 0.9754 - val_loss: 0.0491 - val_accuracy: 0.9855\n",
            "Epoch 43/100\n",
            "375/375 [==============================] - ETA: 0s - loss: 0.0763 - accuracy: 0.9759\n",
            "Epoch 43: val_accuracy improved from 0.98583 to 0.98617, saving model to mnist/try02.h5\n",
            "375/375 [==============================] - 2s 6ms/step - loss: 0.0763 - accuracy: 0.9759 - val_loss: 0.0482 - val_accuracy: 0.9862\n",
            "Epoch 44/100\n",
            "372/375 [============================>.] - ETA: 0s - loss: 0.0736 - accuracy: 0.9765\n",
            "Epoch 44: val_accuracy did not improve from 0.98617\n",
            "375/375 [==============================] - 2s 6ms/step - loss: 0.0737 - accuracy: 0.9764 - val_loss: 0.0479 - val_accuracy: 0.9859\n",
            "Epoch 45/100\n",
            "367/375 [============================>.] - ETA: 0s - loss: 0.0753 - accuracy: 0.9762\n",
            "Epoch 45: val_accuracy improved from 0.98617 to 0.98642, saving model to mnist/try02.h5\n",
            "375/375 [==============================] - 2s 6ms/step - loss: 0.0752 - accuracy: 0.9764 - val_loss: 0.0470 - val_accuracy: 0.9864\n",
            "Epoch 46/100\n",
            "370/375 [============================>.] - ETA: 0s - loss: 0.0727 - accuracy: 0.9770\n",
            "Epoch 46: val_accuracy did not improve from 0.98642\n",
            "375/375 [==============================] - 2s 6ms/step - loss: 0.0729 - accuracy: 0.9770 - val_loss: 0.0477 - val_accuracy: 0.9860\n",
            "Epoch 47/100\n",
            "371/375 [============================>.] - ETA: 0s - loss: 0.0715 - accuracy: 0.9778\n",
            "Epoch 47: val_accuracy did not improve from 0.98642\n",
            "375/375 [==============================] - 2s 6ms/step - loss: 0.0713 - accuracy: 0.9778 - val_loss: 0.0477 - val_accuracy: 0.9861\n",
            "Epoch 48/100\n",
            "374/375 [============================>.] - ETA: 0s - loss: 0.0729 - accuracy: 0.9771\n",
            "Epoch 48: val_accuracy improved from 0.98642 to 0.98708, saving model to mnist/try02.h5\n",
            "375/375 [==============================] - 2s 6ms/step - loss: 0.0729 - accuracy: 0.9771 - val_loss: 0.0455 - val_accuracy: 0.9871\n",
            "Epoch 49/100\n",
            "370/375 [============================>.] - ETA: 0s - loss: 0.0700 - accuracy: 0.9783\n",
            "Epoch 49: val_accuracy did not improve from 0.98708\n",
            "375/375 [==============================] - 2s 6ms/step - loss: 0.0698 - accuracy: 0.9783 - val_loss: 0.0460 - val_accuracy: 0.9868\n",
            "Epoch 50/100\n",
            "373/375 [============================>.] - ETA: 0s - loss: 0.0712 - accuracy: 0.9780\n",
            "Epoch 50: val_accuracy did not improve from 0.98708\n",
            "375/375 [==============================] - 2s 6ms/step - loss: 0.0713 - accuracy: 0.9780 - val_loss: 0.0457 - val_accuracy: 0.9866\n",
            "Epoch 51/100\n",
            "374/375 [============================>.] - ETA: 0s - loss: 0.0699 - accuracy: 0.9781\n",
            "Epoch 51: val_accuracy did not improve from 0.98708\n",
            "375/375 [==============================] - 2s 6ms/step - loss: 0.0700 - accuracy: 0.9781 - val_loss: 0.0452 - val_accuracy: 0.9865\n",
            "Epoch 52/100\n",
            "371/375 [============================>.] - ETA: 0s - loss: 0.0687 - accuracy: 0.9782\n",
            "Epoch 52: val_accuracy did not improve from 0.98708\n",
            "375/375 [==============================] - 2s 6ms/step - loss: 0.0688 - accuracy: 0.9782 - val_loss: 0.0448 - val_accuracy: 0.9870\n",
            "Epoch 53/100\n",
            "371/375 [============================>.] - ETA: 0s - loss: 0.0663 - accuracy: 0.9790\n",
            "Epoch 53: val_accuracy improved from 0.98708 to 0.98733, saving model to mnist/try02.h5\n",
            "375/375 [==============================] - 3s 8ms/step - loss: 0.0661 - accuracy: 0.9790 - val_loss: 0.0443 - val_accuracy: 0.9873\n",
            "Epoch 54/100\n",
            "374/375 [============================>.] - ETA: 0s - loss: 0.0689 - accuracy: 0.9784\n",
            "Epoch 54: val_accuracy did not improve from 0.98733\n",
            "375/375 [==============================] - 2s 6ms/step - loss: 0.0690 - accuracy: 0.9784 - val_loss: 0.0443 - val_accuracy: 0.9873\n",
            "Epoch 55/100\n",
            "366/375 [============================>.] - ETA: 0s - loss: 0.0650 - accuracy: 0.9788\n",
            "Epoch 55: val_accuracy improved from 0.98733 to 0.98750, saving model to mnist/try02.h5\n",
            "375/375 [==============================] - 2s 6ms/step - loss: 0.0653 - accuracy: 0.9787 - val_loss: 0.0441 - val_accuracy: 0.9875\n",
            "Epoch 56/100\n",
            "367/375 [============================>.] - ETA: 0s - loss: 0.0654 - accuracy: 0.9794\n",
            "Epoch 56: val_accuracy did not improve from 0.98750\n",
            "375/375 [==============================] - 2s 6ms/step - loss: 0.0659 - accuracy: 0.9795 - val_loss: 0.0437 - val_accuracy: 0.9869\n",
            "Epoch 57/100\n",
            "366/375 [============================>.] - ETA: 0s - loss: 0.0653 - accuracy: 0.9796\n",
            "Epoch 57: val_accuracy did not improve from 0.98750\n",
            "375/375 [==============================] - 2s 6ms/step - loss: 0.0658 - accuracy: 0.9796 - val_loss: 0.0435 - val_accuracy: 0.9869\n",
            "Epoch 58/100\n",
            "374/375 [============================>.] - ETA: 0s - loss: 0.0645 - accuracy: 0.9795\n",
            "Epoch 58: val_accuracy did not improve from 0.98750\n",
            "375/375 [==============================] - 2s 6ms/step - loss: 0.0645 - accuracy: 0.9796 - val_loss: 0.0430 - val_accuracy: 0.9875\n",
            "Epoch 59/100\n",
            "367/375 [============================>.] - ETA: 0s - loss: 0.0619 - accuracy: 0.9808\n",
            "Epoch 59: val_accuracy improved from 0.98750 to 0.98758, saving model to mnist/try02.h5\n",
            "375/375 [==============================] - 3s 8ms/step - loss: 0.0625 - accuracy: 0.9806 - val_loss: 0.0425 - val_accuracy: 0.9876\n",
            "Epoch 60/100\n",
            "366/375 [============================>.] - ETA: 0s - loss: 0.0611 - accuracy: 0.9805\n",
            "Epoch 60: val_accuracy did not improve from 0.98758\n",
            "375/375 [==============================] - 2s 6ms/step - loss: 0.0616 - accuracy: 0.9805 - val_loss: 0.0426 - val_accuracy: 0.9873\n",
            "Epoch 61/100\n",
            "371/375 [============================>.] - ETA: 0s - loss: 0.0618 - accuracy: 0.9803\n",
            "Epoch 61: val_accuracy improved from 0.98758 to 0.98775, saving model to mnist/try02.h5\n",
            "375/375 [==============================] - 2s 6ms/step - loss: 0.0618 - accuracy: 0.9802 - val_loss: 0.0416 - val_accuracy: 0.9877\n",
            "Epoch 62/100\n",
            "367/375 [============================>.] - ETA: 0s - loss: 0.0589 - accuracy: 0.9814\n",
            "Epoch 62: val_accuracy improved from 0.98775 to 0.98833, saving model to mnist/try02.h5\n",
            "375/375 [==============================] - 2s 6ms/step - loss: 0.0587 - accuracy: 0.9815 - val_loss: 0.0418 - val_accuracy: 0.9883\n",
            "Epoch 63/100\n",
            "366/375 [============================>.] - ETA: 0s - loss: 0.0599 - accuracy: 0.9809\n",
            "Epoch 63: val_accuracy did not improve from 0.98833\n",
            "375/375 [==============================] - 2s 6ms/step - loss: 0.0599 - accuracy: 0.9809 - val_loss: 0.0417 - val_accuracy: 0.9880\n",
            "Epoch 64/100\n",
            "368/375 [============================>.] - ETA: 0s - loss: 0.0597 - accuracy: 0.9815\n",
            "Epoch 64: val_accuracy did not improve from 0.98833\n",
            "375/375 [==============================] - 2s 6ms/step - loss: 0.0595 - accuracy: 0.9817 - val_loss: 0.0415 - val_accuracy: 0.9880\n",
            "Epoch 65/100\n",
            "374/375 [============================>.] - ETA: 0s - loss: 0.0590 - accuracy: 0.9808\n",
            "Epoch 65: val_accuracy did not improve from 0.98833\n",
            "375/375 [==============================] - 2s 6ms/step - loss: 0.0590 - accuracy: 0.9807 - val_loss: 0.0426 - val_accuracy: 0.9877\n",
            "Epoch 66/100\n",
            "367/375 [============================>.] - ETA: 0s - loss: 0.0578 - accuracy: 0.9814\n",
            "Epoch 66: val_accuracy did not improve from 0.98833\n",
            "375/375 [==============================] - 2s 6ms/step - loss: 0.0577 - accuracy: 0.9813 - val_loss: 0.0410 - val_accuracy: 0.9877\n",
            "Epoch 67/100\n",
            "375/375 [==============================] - ETA: 0s - loss: 0.0593 - accuracy: 0.9817\n",
            "Epoch 67: val_accuracy did not improve from 0.98833\n",
            "375/375 [==============================] - 2s 6ms/step - loss: 0.0593 - accuracy: 0.9817 - val_loss: 0.0410 - val_accuracy: 0.9881\n",
            "Epoch 68/100\n",
            "371/375 [============================>.] - ETA: 0s - loss: 0.0578 - accuracy: 0.9817\n",
            "Epoch 68: val_accuracy did not improve from 0.98833\n",
            "375/375 [==============================] - 2s 6ms/step - loss: 0.0578 - accuracy: 0.9818 - val_loss: 0.0404 - val_accuracy: 0.9881\n",
            "Epoch 69/100\n",
            "369/375 [============================>.] - ETA: 0s - loss: 0.0567 - accuracy: 0.9814\n",
            "Epoch 69: val_accuracy improved from 0.98833 to 0.98842, saving model to mnist/try02.h5\n",
            "375/375 [==============================] - 3s 8ms/step - loss: 0.0568 - accuracy: 0.9812 - val_loss: 0.0404 - val_accuracy: 0.9884\n",
            "Epoch 70/100\n",
            "369/375 [============================>.] - ETA: 0s - loss: 0.0575 - accuracy: 0.9815\n",
            "Epoch 70: val_accuracy did not improve from 0.98842\n",
            "375/375 [==============================] - 2s 6ms/step - loss: 0.0575 - accuracy: 0.9816 - val_loss: 0.0404 - val_accuracy: 0.9879\n",
            "Epoch 71/100\n",
            "374/375 [============================>.] - ETA: 0s - loss: 0.0569 - accuracy: 0.9825\n",
            "Epoch 71: val_accuracy improved from 0.98842 to 0.98917, saving model to mnist/try02.h5\n",
            "375/375 [==============================] - 2s 6ms/step - loss: 0.0569 - accuracy: 0.9825 - val_loss: 0.0394 - val_accuracy: 0.9892\n",
            "Epoch 72/100\n",
            "374/375 [============================>.] - ETA: 0s - loss: 0.0570 - accuracy: 0.9820\n",
            "Epoch 72: val_accuracy did not improve from 0.98917\n",
            "375/375 [==============================] - 2s 6ms/step - loss: 0.0570 - accuracy: 0.9820 - val_loss: 0.0399 - val_accuracy: 0.9886\n",
            "Epoch 73/100\n",
            "375/375 [==============================] - ETA: 0s - loss: 0.0570 - accuracy: 0.9814\n",
            "Epoch 73: val_accuracy did not improve from 0.98917\n",
            "375/375 [==============================] - 2s 6ms/step - loss: 0.0570 - accuracy: 0.9814 - val_loss: 0.0410 - val_accuracy: 0.9883\n",
            "Epoch 74/100\n",
            "366/375 [============================>.] - ETA: 0s - loss: 0.0564 - accuracy: 0.9819\n",
            "Epoch 74: val_accuracy did not improve from 0.98917\n",
            "375/375 [==============================] - 2s 6ms/step - loss: 0.0561 - accuracy: 0.9820 - val_loss: 0.0394 - val_accuracy: 0.9885\n",
            "Epoch 75/100\n",
            "373/375 [============================>.] - ETA: 0s - loss: 0.0552 - accuracy: 0.9819\n",
            "Epoch 75: val_accuracy did not improve from 0.98917\n",
            "375/375 [==============================] - 2s 6ms/step - loss: 0.0556 - accuracy: 0.9818 - val_loss: 0.0401 - val_accuracy: 0.9886\n",
            "Epoch 76/100\n",
            "374/375 [============================>.] - ETA: 0s - loss: 0.0570 - accuracy: 0.9826\n",
            "Epoch 76: val_accuracy did not improve from 0.98917\n",
            "375/375 [==============================] - 2s 6ms/step - loss: 0.0569 - accuracy: 0.9827 - val_loss: 0.0391 - val_accuracy: 0.9887\n",
            "Epoch 77/100\n",
            "369/375 [============================>.] - ETA: 0s - loss: 0.0533 - accuracy: 0.9833\n",
            "Epoch 77: val_accuracy did not improve from 0.98917\n",
            "375/375 [==============================] - 2s 6ms/step - loss: 0.0533 - accuracy: 0.9833 - val_loss: 0.0391 - val_accuracy: 0.9883\n",
            "Epoch 78/100\n",
            "370/375 [============================>.] - ETA: 0s - loss: 0.0551 - accuracy: 0.9829\n",
            "Epoch 78: val_accuracy did not improve from 0.98917\n",
            "375/375 [==============================] - 2s 6ms/step - loss: 0.0550 - accuracy: 0.9829 - val_loss: 0.0393 - val_accuracy: 0.9883\n",
            "Epoch 79/100\n",
            "372/375 [============================>.] - ETA: 0s - loss: 0.0537 - accuracy: 0.9823\n",
            "Epoch 79: val_accuracy did not improve from 0.98917\n",
            "375/375 [==============================] - 2s 6ms/step - loss: 0.0540 - accuracy: 0.9822 - val_loss: 0.0383 - val_accuracy: 0.9887\n",
            "Epoch 80/100\n",
            "373/375 [============================>.] - ETA: 0s - loss: 0.0527 - accuracy: 0.9835\n",
            "Epoch 80: val_accuracy did not improve from 0.98917\n",
            "375/375 [==============================] - 2s 6ms/step - loss: 0.0526 - accuracy: 0.9835 - val_loss: 0.0385 - val_accuracy: 0.9886\n",
            "Epoch 81/100\n",
            "373/375 [============================>.] - ETA: 0s - loss: 0.0518 - accuracy: 0.9832\n",
            "Epoch 81: val_accuracy did not improve from 0.98917\n",
            "375/375 [==============================] - 2s 6ms/step - loss: 0.0518 - accuracy: 0.9831 - val_loss: 0.0378 - val_accuracy: 0.9892\n",
            "Epoch 82/100\n",
            "375/375 [==============================] - ETA: 0s - loss: 0.0521 - accuracy: 0.9830\n",
            "Epoch 82: val_accuracy did not improve from 0.98917\n",
            "375/375 [==============================] - 2s 6ms/step - loss: 0.0521 - accuracy: 0.9830 - val_loss: 0.0383 - val_accuracy: 0.9890\n",
            "Epoch 83/100\n",
            "369/375 [============================>.] - ETA: 0s - loss: 0.0506 - accuracy: 0.9838\n",
            "Epoch 83: val_accuracy improved from 0.98917 to 0.98942, saving model to mnist/try02.h5\n",
            "375/375 [==============================] - 3s 8ms/step - loss: 0.0509 - accuracy: 0.9837 - val_loss: 0.0378 - val_accuracy: 0.9894\n",
            "Epoch 84/100\n",
            "370/375 [============================>.] - ETA: 0s - loss: 0.0506 - accuracy: 0.9840\n",
            "Epoch 84: val_accuracy did not improve from 0.98942\n",
            "375/375 [==============================] - 2s 6ms/step - loss: 0.0505 - accuracy: 0.9840 - val_loss: 0.0383 - val_accuracy: 0.9889\n",
            "Epoch 85/100\n",
            "372/375 [============================>.] - ETA: 0s - loss: 0.0535 - accuracy: 0.9827\n",
            "Epoch 85: val_accuracy did not improve from 0.98942\n",
            "375/375 [==============================] - 2s 6ms/step - loss: 0.0538 - accuracy: 0.9826 - val_loss: 0.0372 - val_accuracy: 0.9892\n",
            "Epoch 86/100\n",
            "368/375 [============================>.] - ETA: 0s - loss: 0.0523 - accuracy: 0.9835\n",
            "Epoch 86: val_accuracy did not improve from 0.98942\n",
            "375/375 [==============================] - 2s 6ms/step - loss: 0.0522 - accuracy: 0.9836 - val_loss: 0.0377 - val_accuracy: 0.9892\n",
            "Epoch 87/100\n",
            "371/375 [============================>.] - ETA: 0s - loss: 0.0516 - accuracy: 0.9830\n",
            "Epoch 87: val_accuracy did not improve from 0.98942\n",
            "375/375 [==============================] - 2s 6ms/step - loss: 0.0516 - accuracy: 0.9831 - val_loss: 0.0382 - val_accuracy: 0.9888\n",
            "Epoch 88/100\n",
            "367/375 [============================>.] - ETA: 0s - loss: 0.0507 - accuracy: 0.9840\n",
            "Epoch 88: val_accuracy did not improve from 0.98942\n",
            "375/375 [==============================] - 2s 6ms/step - loss: 0.0510 - accuracy: 0.9839 - val_loss: 0.0382 - val_accuracy: 0.9890\n",
            "Epoch 89/100\n",
            "367/375 [============================>.] - ETA: 0s - loss: 0.0505 - accuracy: 0.9840\n",
            "Epoch 89: val_accuracy did not improve from 0.98942\n",
            "375/375 [==============================] - 2s 6ms/step - loss: 0.0503 - accuracy: 0.9841 - val_loss: 0.0381 - val_accuracy: 0.9891\n",
            "Epoch 90/100\n",
            "366/375 [============================>.] - ETA: 0s - loss: 0.0479 - accuracy: 0.9852\n",
            "Epoch 90: val_accuracy improved from 0.98942 to 0.98958, saving model to mnist/try02.h5\n",
            "375/375 [==============================] - 3s 8ms/step - loss: 0.0476 - accuracy: 0.9852 - val_loss: 0.0371 - val_accuracy: 0.9896\n",
            "Epoch 91/100\n",
            "367/375 [============================>.] - ETA: 0s - loss: 0.0496 - accuracy: 0.9846\n",
            "Epoch 91: val_accuracy improved from 0.98958 to 0.98967, saving model to mnist/try02.h5\n",
            "375/375 [==============================] - 2s 6ms/step - loss: 0.0496 - accuracy: 0.9846 - val_loss: 0.0369 - val_accuracy: 0.9897\n",
            "Epoch 92/100\n",
            "367/375 [============================>.] - ETA: 0s - loss: 0.0470 - accuracy: 0.9846\n",
            "Epoch 92: val_accuracy did not improve from 0.98967\n",
            "375/375 [==============================] - 2s 6ms/step - loss: 0.0467 - accuracy: 0.9847 - val_loss: 0.0364 - val_accuracy: 0.9893\n",
            "Epoch 93/100\n",
            "373/375 [============================>.] - ETA: 0s - loss: 0.0517 - accuracy: 0.9837\n",
            "Epoch 93: val_accuracy did not improve from 0.98967\n",
            "375/375 [==============================] - 2s 6ms/step - loss: 0.0518 - accuracy: 0.9837 - val_loss: 0.0366 - val_accuracy: 0.9894\n",
            "Epoch 94/100\n",
            "368/375 [============================>.] - ETA: 0s - loss: 0.0487 - accuracy: 0.9841\n",
            "Epoch 94: val_accuracy did not improve from 0.98967\n",
            "375/375 [==============================] - 2s 6ms/step - loss: 0.0485 - accuracy: 0.9840 - val_loss: 0.0360 - val_accuracy: 0.9897\n",
            "Epoch 95/100\n",
            "366/375 [============================>.] - ETA: 0s - loss: 0.0468 - accuracy: 0.9851\n",
            "Epoch 95: val_accuracy did not improve from 0.98967\n",
            "375/375 [==============================] - 2s 6ms/step - loss: 0.0469 - accuracy: 0.9850 - val_loss: 0.0370 - val_accuracy: 0.9894\n",
            "Epoch 96/100\n",
            "368/375 [============================>.] - ETA: 0s - loss: 0.0464 - accuracy: 0.9854\n",
            "Epoch 96: val_accuracy did not improve from 0.98967\n",
            "375/375 [==============================] - 2s 6ms/step - loss: 0.0462 - accuracy: 0.9855 - val_loss: 0.0358 - val_accuracy: 0.9897\n",
            "Epoch 97/100\n",
            "375/375 [==============================] - ETA: 0s - loss: 0.0468 - accuracy: 0.9850\n",
            "Epoch 97: val_accuracy did not improve from 0.98967\n",
            "375/375 [==============================] - 2s 6ms/step - loss: 0.0468 - accuracy: 0.9850 - val_loss: 0.0365 - val_accuracy: 0.9893\n",
            "Epoch 98/100\n",
            "374/375 [============================>.] - ETA: 0s - loss: 0.0471 - accuracy: 0.9851\n",
            "Epoch 98: val_accuracy did not improve from 0.98967\n",
            "375/375 [==============================] - 2s 6ms/step - loss: 0.0471 - accuracy: 0.9851 - val_loss: 0.0366 - val_accuracy: 0.9897\n",
            "Epoch 99/100\n",
            "369/375 [============================>.] - ETA: 0s - loss: 0.0485 - accuracy: 0.9848\n",
            "Epoch 99: val_accuracy did not improve from 0.98967\n",
            "375/375 [==============================] - 2s 6ms/step - loss: 0.0484 - accuracy: 0.9848 - val_loss: 0.0358 - val_accuracy: 0.9892\n",
            "Epoch 100/100\n",
            "370/375 [============================>.] - ETA: 0s - loss: 0.0474 - accuracy: 0.9849\n",
            "Epoch 100: val_accuracy improved from 0.98967 to 0.98975, saving model to mnist/try02.h5\n",
            "375/375 [==============================] - 3s 8ms/step - loss: 0.0474 - accuracy: 0.9849 - val_loss: 0.0358 - val_accuracy: 0.9898\n"
          ]
        }
      ]
    },
    {
      "cell_type": "code",
      "source": [
        "result = model_1.evaluate(test_imgs, test_labels)\n",
        "print(\"\\n테스트 정확도: %.4f\" %(result)[1])"
      ],
      "metadata": {
        "id": "A4f_4uKMk9gD",
        "colab": {
          "base_uri": "https://localhost:8080/"
        },
        "outputId": "bea465f0-6db4-4431-d8e5-c58ad9c8ce78"
      },
      "execution_count": 16,
      "outputs": [
        {
          "output_type": "stream",
          "name": "stdout",
          "text": [
            "313/313 [==============================] - 1s 3ms/step - loss: 0.0264 - accuracy: 0.9910\n",
            "\n",
            "테스트 정확도: 0.9910\n"
          ]
        }
      ]
    },
    {
      "cell_type": "code",
      "source": [
        "loaded_model = load_model('mnist/try02.h5')\n",
        "result_loaded = loaded_model.evaluate(test_imgs, test_labels)\n",
        "print(\"\\n불러온 모델 테스트 정확도: %.4f\" %(result_loaded)[1])"
      ],
      "metadata": {
        "colab": {
          "base_uri": "https://localhost:8080/"
        },
        "id": "LWt1g385nipq",
        "outputId": "be402ce9-e13a-4c5b-d1d0-7a11719bd3cd"
      },
      "execution_count": 17,
      "outputs": [
        {
          "output_type": "stream",
          "name": "stdout",
          "text": [
            "313/313 [==============================] - 1s 3ms/step - loss: 0.0264 - accuracy: 0.9910\n",
            "\n",
            "불러온 모델 테스트 정확도: 0.9910\n"
          ]
        }
      ]
    },
    {
      "cell_type": "code",
      "source": [
        "acc = hist_1.history['accuracy']\n",
        "val_acc = hist_1.history['val_accuracy']\n",
        "loss = hist_1.history['loss']\n",
        "val_loss = hist_1.history['val_loss']\n",
        "\n",
        "epochs = range(1, len(acc)+1)\n",
        "\n",
        "plt.figure(figsize=(8, 12))\n",
        "ax1=plt.subplot(2, 1, 1)\n",
        "ax2=plt.subplot(2, 1, 2)\n",
        "ax1.plot(epochs, acc, 'bo', label='Trainig acc')\n",
        "ax1.plot(epochs, val_acc, 'b', label='Validation acc')\n",
        "ax1.set_title(\"Training and Validation accuracy\")\n",
        "ax1.legend()\n",
        "ax2.plot(epochs, loss, 'bo', label='Traning loss')\n",
        "ax2.plot(epochs, val_loss, 'b', label='Validation loss')\n",
        "ax2.set_title(\"Training and Validation loss\")\n",
        "ax2.legend()\n",
        "plt.show()"
      ],
      "metadata": {
        "id": "mFOaiWO_sRfX",
        "colab": {
          "base_uri": "https://localhost:8080/",
          "height": 716
        },
        "outputId": "6a72d5bb-ede4-4a78-9f22-0b58426f8dd3"
      },
      "execution_count": 18,
      "outputs": [
        {
          "output_type": "display_data",
          "data": {
            "text/plain": [
              "<Figure size 576x864 with 2 Axes>"
            ],
            "image/png": "[encoded data removed]"
          },
          "metadata": {
            "needs_background": "light"
          }
        }
      ]
    },
    {
      "cell_type": "code",
      "source": [
        "df = pd.DataFrame([['CNN', 'model_1', '32(relu/drop0.2)-64(relu/drop0.2)-128(relu/drop0.5)-Flatten-64(sigmoid)-10(softmax)]', 'SGD', 100, 128, 0.2, 'es/mc', \n",
        "                    \"%.4f\"%(result)[1], \"%.4f\"%(result_loaded)[1], \"%.4f\"%(result)[0], \"%.4f\"%(result_loaded)[0]]],\n",
        "                  columns=['모델', 'Name', 'Structure', 'Optimizer', 'epochs', 'batch_size', 'validation_split', 'callback', 'Accuracy', 'MC_Accuracy', 'Loss', 'MC_Loss'])"
      ],
      "metadata": {
        "id": "YU51jOGcl7DL"
      },
      "execution_count": 19,
      "outputs": []
    }
  ]
}