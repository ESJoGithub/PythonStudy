{
  "nbformat": 4,
  "nbformat_minor": 0,
  "metadata": {
    "colab": {
      "provenance": [],
      "collapsed_sections": [],
      "mount_file_id": "1-5ETZCmEKypRr2Akv1ACFz2nNjCeFjTn",
      "authorship_tag": "ABX9TyPzIli2759VoBno47YzFSvi",
      "include_colab_link": true
    },
    "kernelspec": {
      "name": "python3",
      "display_name": "Python 3"
    },
    "language_info": {
      "name": "python"
    },
    "accelerator": "GPU"
  },
  "cells": [
    {
      "cell_type": "markdown",
      "metadata": {
        "id": "view-in-github",
        "colab_type": "text"
      },
      "source": [
        "<a href=\"https://colab.research.google.com/github/ESJoGithub/PythonStudy/blob/main/DeepLearning/MNIST/Keras_220920_MNIST_%EC%8B%A4%EC%8A%B5.ipynb\" target=\"_parent\"><img src=\"https://colab.research.google.com/assets/colab-badge.svg\" alt=\"Open In Colab\"/></a>"
      ]
    },
    {
      "cell_type": "code",
      "execution_count": null,
      "metadata": {
        "colab": {
          "base_uri": "https://localhost:8080/"
        },
        "id": "kU0S2q1qPai_",
        "outputId": "6a921863-bff9-443d-eca5-58924e6f9ffb"
      },
      "outputs": [
        {
          "output_type": "stream",
          "name": "stdout",
          "text": [
            "Drive already mounted at /content/drive; to attempt to forcibly remount, call drive.mount(\"/content/drive\", force_remount=True).\n"
          ]
        }
      ],
      "source": [
        "from google.colab import drive\n",
        "drive.mount('/content/drive')"
      ]
    },
    {
      "cell_type": "code",
      "source": [
        "import cv2\n",
        "from google.colab.patches import cv2_imshow"
      ],
      "metadata": {
        "id": "BVAtjwuo0Fmo"
      },
      "execution_count": null,
      "outputs": []
    },
    {
      "cell_type": "code",
      "source": [
        "res = cv2.resize(train_imgs[0],(288,288),interpolation=cv2.INTER_LINEAR)\n",
        "cv2_imshow(res)"
      ],
      "metadata": {
        "colab": {
          "base_uri": "https://localhost:8080/",
          "height": 305
        },
        "id": "fBNfdjEV0IhZ",
        "outputId": "4759b822-f5a1-4064-adf8-e6f17f9f8d97"
      },
      "execution_count": null,
      "outputs": [
        {
          "output_type": "display_data",
          "data": {
            "text/plain": [
              "<PIL.Image.Image image mode=L size=288x288 at 0x7F65B576AA50>"
            ],
            "image/png": "[encoded data removed]"
          },
          "metadata": {}
        }
      ]
    },
    {
      "cell_type": "markdown",
      "source": [
        "### **1. Library Import**"
      ],
      "metadata": {
        "id": "9Tx44ggmYNsD"
      }
    },
    {
      "cell_type": "code",
      "source": [
        "from keras import datasets, layers, models                \n",
        "from tensorflow import keras                         # to_categorical 함수\n",
        "from tensorflow.keras.models import load_model\n",
        "\n",
        "import numpy as np\n",
        "import matplotlib.pyplot as plt"
      ],
      "metadata": {
        "id": "UFco5dLCQBQF"
      },
      "execution_count": null,
      "outputs": []
    },
    {
      "cell_type": "code",
      "source": [
        "(train_imgs, train_labels), (test_imgs, test_labels) = datasets.mnist.load_data()"
      ],
      "metadata": {
        "colab": {
          "base_uri": "https://localhost:8080/"
        },
        "id": "rwcqMzdKTPwN",
        "outputId": "353381e8-27a5-449f-b4be-3a72877b90b1"
      },
      "execution_count": null,
      "outputs": [
        {
          "output_type": "stream",
          "name": "stdout",
          "text": [
            "Downloading data from https://storage.googleapis.com/tensorflow/tf-keras-datasets/mnist.npz\n",
            "11493376/11490434 [==============================] - 0s 0us/step\n",
            "11501568/11490434 [==============================] - 0s 0us/step\n"
          ]
        }
      ]
    },
    {
      "cell_type": "markdown",
      "source": [
        "### **2. 데이터 확인 및 전처리**"
      ],
      "metadata": {
        "id": "vcIHfL7pYJps"
      }
    },
    {
      "cell_type": "code",
      "source": [
        "train_imgs.shape"
      ],
      "metadata": {
        "colab": {
          "base_uri": "https://localhost:8080/"
        },
        "id": "UoznQdigTgbM",
        "outputId": "9f119f5e-b7f8-4650-8bfc-1b806f866762"
      },
      "execution_count": null,
      "outputs": [
        {
          "output_type": "execute_result",
          "data": {
            "text/plain": [
              "(60000, 28, 28)"
            ]
          },
          "metadata": {},
          "execution_count": 4
        }
      ]
    },
    {
      "cell_type": "code",
      "source": [
        "test_imgs.shape"
      ],
      "metadata": {
        "colab": {
          "base_uri": "https://localhost:8080/"
        },
        "id": "8KPI9ghnT16z",
        "outputId": "f7656d40-2559-49e2-dab9-1d84a852c127"
      },
      "execution_count": null,
      "outputs": [
        {
          "output_type": "execute_result",
          "data": {
            "text/plain": [
              "(10000, 28, 28)"
            ]
          },
          "metadata": {},
          "execution_count": 5
        }
      ]
    },
    {
      "cell_type": "code",
      "source": [
        "train_labels.shape"
      ],
      "metadata": {
        "colab": {
          "base_uri": "https://localhost:8080/"
        },
        "id": "0xgRikZiT4wi",
        "outputId": "040db1e3-7627-4cce-a12b-522ad4099465"
      },
      "execution_count": null,
      "outputs": [
        {
          "output_type": "execute_result",
          "data": {
            "text/plain": [
              "(60000,)"
            ]
          },
          "metadata": {},
          "execution_count": 6
        }
      ]
    },
    {
      "cell_type": "code",
      "source": [
        "test_labels.shape"
      ],
      "metadata": {
        "colab": {
          "base_uri": "https://localhost:8080/"
        },
        "id": "S_sj1c6oT77C",
        "outputId": "7acd7537-323c-4de5-a3a9-a793240fd4a2"
      },
      "execution_count": null,
      "outputs": [
        {
          "output_type": "execute_result",
          "data": {
            "text/plain": [
              "(10000,)"
            ]
          },
          "metadata": {},
          "execution_count": 7
        }
      ]
    },
    {
      "cell_type": "code",
      "source": [
        "plt.figure(figsize=(15, 2))\n",
        "for i in range(5):\n",
        "  plt.subplot(1, 5, i+1)\n",
        "  plt.imshow(train_imgs[i])\n",
        "  plt.grid(False)\n",
        "  plt.colorbar()\n",
        "plt.show()"
      ],
      "metadata": {
        "colab": {
          "base_uri": "https://localhost:8080/",
          "height": 159
        },
        "id": "J84tDqFKT9bK",
        "outputId": "e0400fcf-6927-443e-e65c-9438446b0649"
      },
      "execution_count": null,
      "outputs": [
        {
          "output_type": "display_data",
          "data": {
            "text/plain": [
              "<Figure size 1080x144 with 10 Axes>"
            ],
            "image/png": "[encoded data removed]"
          },
          "metadata": {
            "needs_background": "light"
          }
        }
      ]
    },
    {
      "cell_type": "code",
      "source": [
        "train_labels"
      ],
      "metadata": {
        "colab": {
          "base_uri": "https://localhost:8080/"
        },
        "id": "heRnkmYoZpmz",
        "outputId": "dbc1edc7-d330-441a-bee2-a40e7255f8c6"
      },
      "execution_count": null,
      "outputs": [
        {
          "output_type": "execute_result",
          "data": {
            "text/plain": [
              "array([5, 0, 4, ..., 5, 6, 8], dtype=uint8)"
            ]
          },
          "metadata": {},
          "execution_count": 9
        }
      ]
    },
    {
      "cell_type": "code",
      "source": [
        "train_imgs = train_imgs/255.0\n",
        "test_imgs = test_imgs/255.0"
      ],
      "metadata": {
        "id": "w4IFaKuOYIfc"
      },
      "execution_count": null,
      "outputs": []
    },
    {
      "cell_type": "markdown",
      "source": [
        "#### label을 one-hot encodig하여 처리"
      ],
      "metadata": {
        "id": "aWprgD4xLu0h"
      }
    },
    {
      "cell_type": "code",
      "source": [
        "train_labels = keras.utils.to_categorical(train_labels, num_classes=10)\n",
        "test_labels = keras.utils.to_categorical(test_labels, num_classes=10)"
      ],
      "metadata": {
        "id": "ouDs40X-n_uw"
      },
      "execution_count": null,
      "outputs": []
    },
    {
      "cell_type": "markdown",
      "source": [
        "### **3. Baseline 모델**\n",
        "---\n",
        "#### __모델 설계__\n",
        "이미지 크기가 크지 않고 자료의 형태가 상대적으로 단순하므로, sequencial함수를 활용하여 간단한 ANN모델로 만들어 보기로 함.\n",
        "\n",
        "- input: 28 x 28인 6000개의 데이터(flatten + Dense해보기로 한다)\n",
        "  > 28x28 = 784이므로 반영되지 않는 데이터 수를 줄이기 위해 첫번째 layer층의 노드 수를 128로 잡고 다음 layer층의 노드 수를 64로 하여 줄여나간다.\n",
        "\n",
        "  > Desne layer에서 많은 사람들이 주로 사용하는 relu 함수를 적용해보도록 한다.\n",
        "\n",
        "- output: 0~9 사이의 숫자로 분류(다중분류모델임을 감안하여 출력층에 softmax를 적용한다)\n",
        "\n",
        "---\n",
        "\n",
        "의문점\n",
        "\n",
        "> 노드 수를 2의 배수(주로 제곱 수)로 하는 이유가 있는가? \n",
        "\n",
        "> → Answer: 노드가 홀수인 경우 다음 층으로 데이터를 전송할 때 어느 노드로 데이터를 전송할 것인지 선택의 문제가 발생함.\n",
        "> so, 일부러 데이터 편향을 발생시키고자 하는 경우가 아니라면 대체로 짝수로 구성"
      ],
      "metadata": {
        "id": "NTqxfKdbYvVL"
      }
    },
    {
      "cell_type": "code",
      "source": [
        "model = keras.Sequential([\n",
        "  layers.Flatten(input_shape=(28, 28)),\n",
        "  layers.Dense(128, activation='relu'),\n",
        "  layers.Dense(64, activation='relu'),\n",
        "  layers.Dense(10, activation='softmax')\n",
        "])"
      ],
      "metadata": {
        "id": "LSy5b6TEYmJj"
      },
      "execution_count": null,
      "outputs": []
    },
    {
      "cell_type": "code",
      "source": [
        "model.summary()"
      ],
      "metadata": {
        "colab": {
          "base_uri": "https://localhost:8080/"
        },
        "id": "T2OtqyVmdztj",
        "outputId": "9af26279-2de9-4a65-b1bf-3c242884f572"
      },
      "execution_count": null,
      "outputs": [
        {
          "output_type": "stream",
          "name": "stdout",
          "text": [
            "Model: \"sequential\"\n",
            "_________________________________________________________________\n",
            " Layer (type)                Output Shape              Param #   \n",
            "=================================================================\n",
            " flatten (Flatten)           (None, 784)               0         \n",
            "                                                                 \n",
            " dense (Dense)               (None, 128)               100480    \n",
            "                                                                 \n",
            " dense_1 (Dense)             (None, 64)                8256      \n",
            "                                                                 \n",
            " dense_2 (Dense)             (None, 10)                650       \n",
            "                                                                 \n",
            "=================================================================\n",
            "Total params: 109,386\n",
            "Trainable params: 109,386\n",
            "Non-trainable params: 0\n",
            "_________________________________________________________________\n"
          ]
        }
      ]
    },
    {
      "cell_type": "markdown",
      "source": [
        "####__손실함수 및 옵티마이저 설정__\n",
        "---\n",
        "optimizer는 경사하강법(SGD)를 활용하여 다른 optimizer들과 성능을 비교해보고자 함\n",
        "\n",
        "다중 분류 모델의 손실함수로 많이 쓰이는 categorical_crossentropy를 활용"
      ],
      "metadata": {
        "id": "bvThzTKdjGjI"
      }
    },
    {
      "cell_type": "code",
      "source": [
        "model.compile(optimizer='SGD', loss=\"categorical_crossentropy\", metrics=['accuracy'])"
      ],
      "metadata": {
        "id": "l8Gc0JK1d1Iy"
      },
      "execution_count": null,
      "outputs": []
    },
    {
      "cell_type": "markdown",
      "source": [
        "#### __학습 및 결과분석__"
      ],
      "metadata": {
        "id": "W-EdrAj0kH3v"
      }
    },
    {
      "cell_type": "code",
      "source": [
        "model.fit(train_imgs, train_labels, epochs=10)"
      ],
      "metadata": {
        "colab": {
          "base_uri": "https://localhost:8080/"
        },
        "id": "oiioY9teIOSC",
        "outputId": "f910c7c2-b470-4d0b-e5b6-a25e785ccbe4"
      },
      "execution_count": null,
      "outputs": [
        {
          "output_type": "stream",
          "name": "stdout",
          "text": [
            "Epoch 1/10\n",
            "1875/1875 [==============================] - 7s 2ms/step - loss: 0.6305 - accuracy: 0.8353\n",
            "Epoch 2/10\n",
            "1875/1875 [==============================] - 4s 2ms/step - loss: 0.2940 - accuracy: 0.9170\n",
            "Epoch 3/10\n",
            "1875/1875 [==============================] - 4s 2ms/step - loss: 0.2427 - accuracy: 0.9304\n",
            "Epoch 4/10\n",
            "1875/1875 [==============================] - 4s 2ms/step - loss: 0.2092 - accuracy: 0.9407\n",
            "Epoch 5/10\n",
            "1875/1875 [==============================] - 4s 2ms/step - loss: 0.1836 - accuracy: 0.9475\n",
            "Epoch 6/10\n",
            "1875/1875 [==============================] - 4s 2ms/step - loss: 0.1632 - accuracy: 0.9531\n",
            "Epoch 7/10\n",
            "1875/1875 [==============================] - 4s 2ms/step - loss: 0.1466 - accuracy: 0.9573\n",
            "Epoch 8/10\n",
            "1875/1875 [==============================] - 4s 2ms/step - loss: 0.1331 - accuracy: 0.9618\n",
            "Epoch 9/10\n",
            "1875/1875 [==============================] - 5s 2ms/step - loss: 0.1214 - accuracy: 0.9656\n",
            "Epoch 10/10\n",
            "1875/1875 [==============================] - 5s 3ms/step - loss: 0.1119 - accuracy: 0.9678\n"
          ]
        },
        {
          "output_type": "execute_result",
          "data": {
            "text/plain": [
              "<keras.callbacks.History at 0x7f7fad615450>"
            ]
          },
          "metadata": {},
          "execution_count": 19
        }
      ]
    },
    {
      "cell_type": "markdown",
      "source": [
        "epoch = 10일 때보다 더 발전 가능성이 있다고 보고 epoch 수를 늘려봄"
      ],
      "metadata": {
        "id": "Z8OB_WQEIeXi"
      }
    },
    {
      "cell_type": "code",
      "source": [
        "model.fit(train_imgs, train_labels, epochs=30)"
      ],
      "metadata": {
        "colab": {
          "base_uri": "https://localhost:8080/"
        },
        "id": "rmGRWjkknkZo",
        "outputId": "77a558ac-7f01-452d-f056-d320533dfd7b"
      },
      "execution_count": null,
      "outputs": [
        {
          "output_type": "stream",
          "name": "stdout",
          "text": [
            "Epoch 1/30\n",
            "1875/1875 [==============================] - 4s 2ms/step - loss: 0.1031 - accuracy: 0.9709\n",
            "Epoch 2/30\n",
            "1875/1875 [==============================] - 4s 2ms/step - loss: 0.0959 - accuracy: 0.9728\n",
            "Epoch 3/30\n",
            "1875/1875 [==============================] - 5s 2ms/step - loss: 0.0895 - accuracy: 0.9743\n",
            "Epoch 4/30\n",
            "1875/1875 [==============================] - 4s 2ms/step - loss: 0.0836 - accuracy: 0.9761\n",
            "Epoch 5/30\n",
            "1875/1875 [==============================] - 5s 3ms/step - loss: 0.0784 - accuracy: 0.9776\n",
            "Epoch 6/30\n",
            "1875/1875 [==============================] - 4s 2ms/step - loss: 0.0736 - accuracy: 0.9794\n",
            "Epoch 7/30\n",
            "1875/1875 [==============================] - 4s 2ms/step - loss: 0.0693 - accuracy: 0.9805\n",
            "Epoch 8/30\n",
            "1875/1875 [==============================] - 4s 2ms/step - loss: 0.0657 - accuracy: 0.9816\n",
            "Epoch 9/30\n",
            "1875/1875 [==============================] - 4s 2ms/step - loss: 0.0623 - accuracy: 0.9823\n",
            "Epoch 10/30\n",
            "1875/1875 [==============================] - 4s 2ms/step - loss: 0.0589 - accuracy: 0.9833\n",
            "Epoch 11/30\n",
            "1875/1875 [==============================] - 4s 2ms/step - loss: 0.0558 - accuracy: 0.9846\n",
            "Epoch 12/30\n",
            "1875/1875 [==============================] - 4s 2ms/step - loss: 0.0530 - accuracy: 0.9853\n",
            "Epoch 13/30\n",
            "1875/1875 [==============================] - 4s 2ms/step - loss: 0.0506 - accuracy: 0.9858\n",
            "Epoch 14/30\n",
            "1875/1875 [==============================] - 4s 2ms/step - loss: 0.0480 - accuracy: 0.9865\n",
            "Epoch 15/30\n",
            "1875/1875 [==============================] - 4s 2ms/step - loss: 0.0457 - accuracy: 0.9873\n",
            "Epoch 16/30\n",
            "1875/1875 [==============================] - 4s 2ms/step - loss: 0.0437 - accuracy: 0.9881\n",
            "Epoch 17/30\n",
            "1875/1875 [==============================] - 4s 2ms/step - loss: 0.0421 - accuracy: 0.9884\n",
            "Epoch 18/30\n",
            "1875/1875 [==============================] - 4s 2ms/step - loss: 0.0397 - accuracy: 0.9890\n",
            "Epoch 19/30\n",
            "1875/1875 [==============================] - 4s 2ms/step - loss: 0.0377 - accuracy: 0.9900\n",
            "Epoch 20/30\n",
            "1875/1875 [==============================] - 4s 2ms/step - loss: 0.0361 - accuracy: 0.9909\n",
            "Epoch 21/30\n",
            "1875/1875 [==============================] - 4s 2ms/step - loss: 0.0347 - accuracy: 0.9909\n",
            "Epoch 22/30\n",
            "1875/1875 [==============================] - 4s 2ms/step - loss: 0.0330 - accuracy: 0.9917\n",
            "Epoch 23/30\n",
            "1875/1875 [==============================] - 4s 2ms/step - loss: 0.0317 - accuracy: 0.9918\n",
            "Epoch 24/30\n",
            "1875/1875 [==============================] - 4s 2ms/step - loss: 0.0301 - accuracy: 0.9922\n",
            "Epoch 25/30\n",
            "1875/1875 [==============================] - 4s 2ms/step - loss: 0.0287 - accuracy: 0.9927\n",
            "Epoch 26/30\n",
            "1875/1875 [==============================] - 4s 2ms/step - loss: 0.0273 - accuracy: 0.9933\n",
            "Epoch 27/30\n",
            "1875/1875 [==============================] - 4s 2ms/step - loss: 0.0264 - accuracy: 0.9935\n",
            "Epoch 28/30\n",
            "1875/1875 [==============================] - 4s 2ms/step - loss: 0.0250 - accuracy: 0.9941\n",
            "Epoch 29/30\n",
            "1875/1875 [==============================] - 4s 2ms/step - loss: 0.0240 - accuracy: 0.9944\n",
            "Epoch 30/30\n",
            "1875/1875 [==============================] - 4s 2ms/step - loss: 0.0230 - accuracy: 0.9948\n"
          ]
        },
        {
          "output_type": "execute_result",
          "data": {
            "text/plain": [
              "<keras.callbacks.History at 0x7f7fad64b250>"
            ]
          },
          "metadata": {},
          "execution_count": 20
        }
      ]
    },
    {
      "cell_type": "code",
      "source": [
        "model.evaluate(test_imgs, test_labels)"
      ],
      "metadata": {
        "colab": {
          "base_uri": "https://localhost:8080/"
        },
        "id": "A4f_4uKMk9gD",
        "outputId": "6198bc34-87c3-4c44-b9aa-e25fe9ecbb48"
      },
      "execution_count": null,
      "outputs": [
        {
          "output_type": "stream",
          "name": "stdout",
          "text": [
            "313/313 [==============================] - 1s 2ms/step - loss: 0.0772 - accuracy: 0.9769\n"
          ]
        },
        {
          "output_type": "execute_result",
          "data": {
            "text/plain": [
              "[0.07724194973707199, 0.9768999814987183]"
            ]
          },
          "metadata": {},
          "execution_count": 21
        }
      ]
    }
  ]
}