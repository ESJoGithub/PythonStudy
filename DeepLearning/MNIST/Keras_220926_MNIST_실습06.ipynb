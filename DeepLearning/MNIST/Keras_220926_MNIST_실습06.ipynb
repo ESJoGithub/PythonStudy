{
  "nbformat": 4,
  "nbformat_minor": 0,
  "metadata": {
    "colab": {
      "provenance": [],
      "collapsed_sections": [],
      "include_colab_link": true
    },
    "kernelspec": {
      "name": "python3",
      "display_name": "Python 3"
    },
    "language_info": {
      "name": "python"
    }
  },
  "cells": [
    {
      "cell_type": "markdown",
      "metadata": {
        "id": "view-in-github",
        "colab_type": "text"
      },
      "source": [
        "<a href=\"https://colab.research.google.com/github/ESJoGithub/PythonStudy/blob/main/DeepLearning/MNIST/Keras_220926_MNIST_%EC%8B%A4%EC%8A%B506.ipynb\" target=\"_parent\"><img src=\"https://colab.research.google.com/assets/colab-badge.svg\" alt=\"Open In Colab\"/></a>"
      ]
    },
    {
      "cell_type": "code",
      "source": [
        "from google.colab import drive\n",
        "drive.mount('/content/drive')"
      ],
      "metadata": {
        "colab": {
          "base_uri": "https://localhost:8080/"
        },
        "id": "oxtO2zTTtPq3",
        "outputId": "16656af6-5d00-48c1-9b16-18bd0e17cc16"
      },
      "execution_count": 1,
      "outputs": [
        {
          "output_type": "stream",
          "name": "stdout",
          "text": [
            "Mounted at /content/drive\n"
          ]
        }
      ]
    },
    {
      "cell_type": "code",
      "source": [
        "!ln -s /content/drive/MyDrive /mydrive"
      ],
      "metadata": {
        "id": "e2ZTrV_htIFl"
      },
      "execution_count": 2,
      "outputs": []
    },
    {
      "cell_type": "code",
      "source": [
        "%cd /mydrive"
      ],
      "metadata": {
        "colab": {
          "base_uri": "https://localhost:8080/"
        },
        "id": "B9ry3cBStVU1",
        "outputId": "8a315480-e324-4c0f-c934-fb6860555d9b"
      },
      "execution_count": 3,
      "outputs": [
        {
          "output_type": "stream",
          "name": "stdout",
          "text": [
            "/content/drive/MyDrive\n"
          ]
        }
      ]
    },
    {
      "cell_type": "code",
      "source": [
        "!mkdir mnist"
      ],
      "metadata": {
        "id": "98FN5iLDtXqb",
        "colab": {
          "base_uri": "https://localhost:8080/"
        },
        "outputId": "f1886669-641c-4c82-cdeb-a0a430bd3876"
      },
      "execution_count": 4,
      "outputs": [
        {
          "output_type": "stream",
          "name": "stdout",
          "text": [
            "mkdir: cannot create directory ‘mnist’: File exists\n"
          ]
        }
      ]
    },
    {
      "cell_type": "markdown",
      "source": [
        "## __배치정규화 후 모델 간소화__\n",
        "--\n",
        "\n",
        "1. batchsize 조정\n",
        "\n",
        "2. optimizer 학습률 조정\n",
        "\n",
        "3. dropout 줄이기"
      ],
      "metadata": {
        "id": "19CLRpWxwL5T"
      }
    },
    {
      "cell_type": "code",
      "source": [
        "from keras import datasets, layers, models                \n",
        "from tensorflow import keras                         # to_categorical 함수\n",
        "from tensorflow.keras.models import load_model\n",
        "from tensorflow.keras.callbacks import EarlyStopping, ModelCheckpoint\n",
        "\n",
        "import numpy as np\n",
        "import matplotlib.pyplot as plt\n",
        "import pandas as pd"
      ],
      "metadata": {
        "id": "UFco5dLCQBQF"
      },
      "execution_count": 5,
      "outputs": []
    },
    {
      "cell_type": "code",
      "source": [
        "(train_imgs, train_labels), (test_imgs, test_labels) = datasets.mnist.load_data()"
      ],
      "metadata": {
        "id": "rwcqMzdKTPwN",
        "colab": {
          "base_uri": "https://localhost:8080/"
        },
        "outputId": "fba649cb-02e3-4fe8-b4a5-6d9d2274a343"
      },
      "execution_count": 6,
      "outputs": [
        {
          "output_type": "stream",
          "name": "stdout",
          "text": [
            "Downloading data from https://storage.googleapis.com/tensorflow/tf-keras-datasets/mnist.npz\n",
            "11493376/11490434 [==============================] - 0s 0us/step\n",
            "11501568/11490434 [==============================] - 0s 0us/step\n"
          ]
        }
      ]
    },
    {
      "cell_type": "code",
      "source": [
        "train_imgs = train_imgs/255.0\n",
        "test_imgs = test_imgs/255.0"
      ],
      "metadata": {
        "id": "w4IFaKuOYIfc"
      },
      "execution_count": 7,
      "outputs": []
    },
    {
      "cell_type": "code",
      "source": [
        "train_imgs = train_imgs.reshape((60000, 28, 28, 1))\n",
        "test_imgs = test_imgs.reshape((10000, 28, 28, 1))"
      ],
      "metadata": {
        "id": "5IGxhDfjiN7d"
      },
      "execution_count": 8,
      "outputs": []
    },
    {
      "cell_type": "code",
      "source": [
        "train_labels = keras.utils.to_categorical(train_labels, num_classes=10)\n",
        "test_labels = keras.utils.to_categorical(test_labels, num_classes=10)"
      ],
      "metadata": {
        "id": "ouDs40X-n_uw"
      },
      "execution_count": 9,
      "outputs": []
    },
    {
      "cell_type": "markdown",
      "source": [
        "#### __1. BatchNormalization, 출력 직전층 activation='sigmoid', optimizer='rmsprop'__ "
      ],
      "metadata": {
        "id": "J3jjZUjiwydX"
      }
    },
    {
      "cell_type": "code",
      "source": [
        "model_1_1 = keras.Sequential()\n",
        "model_1_1.add(layers.Conv2D(32, kernel_size=(3, 3), input_shape=(28, 28, 1)))\n",
        "model_1_1.add(layers.BatchNormalization())\n",
        "model_1_1.add(layers.Activation('relu'))\n",
        "model_1_1.add(layers.MaxPooling2D(pool_size=(2,2)))\n",
        "model_1_1.add(layers.Conv2D(32, (3, 3)))\n",
        "model_1_1.add(layers.BatchNormalization())\n",
        "model_1_1.add(layers.Activation('relu'))\n",
        "model_1_1.add(layers.MaxPooling2D((2,2)))\n",
        "model_1_1.add(layers.Conv2D(64, (3, 3)))\n",
        "model_1_1.add(layers.BatchNormalization())\n",
        "model_1_1.add(layers.Activation('relu'))\n",
        "model_1_1.add(layers.Dropout(0.5))\n",
        "model_1_1.add(layers.Flatten())\n",
        "model_1_1.add(layers.Dense(64))\n",
        "model_1_1.add(layers.BatchNormalization())\n",
        "model_1_1.add(layers.Activation('sigmoid'))\n",
        "model_1_1.add(layers.Dense(10, activation=\"softmax\"))\n",
        "\n",
        "model_1_1.summary()"
      ],
      "metadata": {
        "colab": {
          "base_uri": "https://localhost:8080/"
        },
        "outputId": "dbe76899-d1b8-4a3e-a249-357ac760ca37",
        "id": "aRIhB0X3wtb4"
      },
      "execution_count": 10,
      "outputs": [
        {
          "output_type": "stream",
          "name": "stdout",
          "text": [
            "Model: \"sequential\"\n",
            "_________________________________________________________________\n",
            " Layer (type)                Output Shape              Param #   \n",
            "=================================================================\n",
            " conv2d (Conv2D)             (None, 26, 26, 32)        320       \n",
            "                                                                 \n",
            " batch_normalization (BatchN  (None, 26, 26, 32)       128       \n",
            " ormalization)                                                   \n",
            "                                                                 \n",
            " activation (Activation)     (None, 26, 26, 32)        0         \n",
            "                                                                 \n",
            " max_pooling2d (MaxPooling2D  (None, 13, 13, 32)       0         \n",
            " )                                                               \n",
            "                                                                 \n",
            " conv2d_1 (Conv2D)           (None, 11, 11, 32)        9248      \n",
            "                                                                 \n",
            " batch_normalization_1 (Batc  (None, 11, 11, 32)       128       \n",
            " hNormalization)                                                 \n",
            "                                                                 \n",
            " activation_1 (Activation)   (None, 11, 11, 32)        0         \n",
            "                                                                 \n",
            " max_pooling2d_1 (MaxPooling  (None, 5, 5, 32)         0         \n",
            " 2D)                                                             \n",
            "                                                                 \n",
            " conv2d_2 (Conv2D)           (None, 3, 3, 64)          18496     \n",
            "                                                                 \n",
            " batch_normalization_2 (Batc  (None, 3, 3, 64)         256       \n",
            " hNormalization)                                                 \n",
            "                                                                 \n",
            " activation_2 (Activation)   (None, 3, 3, 64)          0         \n",
            "                                                                 \n",
            " dropout (Dropout)           (None, 3, 3, 64)          0         \n",
            "                                                                 \n",
            " flatten (Flatten)           (None, 576)               0         \n",
            "                                                                 \n",
            " dense (Dense)               (None, 64)                36928     \n",
            "                                                                 \n",
            " batch_normalization_3 (Batc  (None, 64)               256       \n",
            " hNormalization)                                                 \n",
            "                                                                 \n",
            " activation_3 (Activation)   (None, 64)                0         \n",
            "                                                                 \n",
            " dense_1 (Dense)             (None, 10)                650       \n",
            "                                                                 \n",
            "=================================================================\n",
            "Total params: 66,410\n",
            "Trainable params: 66,026\n",
            "Non-trainable params: 384\n",
            "_________________________________________________________________\n"
          ]
        }
      ]
    },
    {
      "cell_type": "code",
      "source": [
        "rmsprop = keras.optimizers.RMSprop(learning_rate=0.002)\n",
        "model_1_1.compile(optimizer=rmsprop, loss=\"categorical_crossentropy\", metrics=[\"accuracy\"])"
      ],
      "metadata": {
        "id": "2xmXZNfewtcK"
      },
      "execution_count": 17,
      "outputs": []
    },
    {
      "cell_type": "code",
      "source": [
        "es = EarlyStopping(monitor='val_loss', mode='min', verbose=1, patience=15)\n",
        "mc = ModelCheckpoint('mnist/try06_1.h5', monitor='val_accuracy', mode='max', verbose=1, save_best_only=True)\n",
        "hist_1_1 = model_1_1.fit(train_imgs, train_labels, epochs=100, validation_split=0.2, callbacks=[es, mc])"
      ],
      "metadata": {
        "colab": {
          "base_uri": "https://localhost:8080/"
        },
        "outputId": "d2c31469-1533-427a-cc02-f3b53e1057a0",
        "id": "VRjSobitwtcK"
      },
      "execution_count": 18,
      "outputs": [
        {
          "output_type": "stream",
          "name": "stdout",
          "text": [
            "Epoch 1/100\n",
            "1493/1500 [============================>.] - ETA: 0s - loss: 0.1906 - accuracy: 0.9608\n",
            "Epoch 1: val_accuracy improved from -inf to 0.98617, saving model to mnist/try06_1.h5\n",
            "1500/1500 [==============================] - 22s 6ms/step - loss: 0.1901 - accuracy: 0.9609 - val_loss: 0.0469 - val_accuracy: 0.9862\n",
            "Epoch 2/100\n",
            "1494/1500 [============================>.] - ETA: 0s - loss: 0.0701 - accuracy: 0.9780\n",
            "Epoch 2: val_accuracy did not improve from 0.98617\n",
            "1500/1500 [==============================] - 9s 6ms/step - loss: 0.0699 - accuracy: 0.9781 - val_loss: 0.0786 - val_accuracy: 0.9776\n",
            "Epoch 3/100\n",
            "1496/1500 [============================>.] - ETA: 0s - loss: 0.0573 - accuracy: 0.9823\n",
            "Epoch 3: val_accuracy did not improve from 0.98617\n",
            "1500/1500 [==============================] - 9s 6ms/step - loss: 0.0573 - accuracy: 0.9823 - val_loss: 0.0520 - val_accuracy: 0.9850\n",
            "Epoch 4/100\n",
            "1500/1500 [==============================] - ETA: 0s - loss: 0.0514 - accuracy: 0.9842\n",
            "Epoch 4: val_accuracy improved from 0.98617 to 0.98892, saving model to mnist/try06_1.h5\n",
            "1500/1500 [==============================] - 11s 7ms/step - loss: 0.0514 - accuracy: 0.9842 - val_loss: 0.0401 - val_accuracy: 0.9889\n",
            "Epoch 5/100\n",
            "1498/1500 [============================>.] - ETA: 0s - loss: 0.0468 - accuracy: 0.9855\n",
            "Epoch 5: val_accuracy improved from 0.98892 to 0.98958, saving model to mnist/try06_1.h5\n",
            "1500/1500 [==============================] - 9s 6ms/step - loss: 0.0467 - accuracy: 0.9855 - val_loss: 0.0351 - val_accuracy: 0.9896\n",
            "Epoch 6/100\n",
            "1492/1500 [============================>.] - ETA: 0s - loss: 0.0440 - accuracy: 0.9861\n",
            "Epoch 6: val_accuracy improved from 0.98958 to 0.99142, saving model to mnist/try06_1.h5\n",
            "1500/1500 [==============================] - 10s 7ms/step - loss: 0.0441 - accuracy: 0.9861 - val_loss: 0.0345 - val_accuracy: 0.9914\n",
            "Epoch 7/100\n",
            "1500/1500 [==============================] - ETA: 0s - loss: 0.0385 - accuracy: 0.9884\n",
            "Epoch 7: val_accuracy did not improve from 0.99142\n",
            "1500/1500 [==============================] - 9s 6ms/step - loss: 0.0385 - accuracy: 0.9884 - val_loss: 0.0434 - val_accuracy: 0.9877\n",
            "Epoch 8/100\n",
            "1495/1500 [============================>.] - ETA: 0s - loss: 0.0392 - accuracy: 0.9874\n",
            "Epoch 8: val_accuracy improved from 0.99142 to 0.99250, saving model to mnist/try06_1.h5\n",
            "1500/1500 [==============================] - 9s 6ms/step - loss: 0.0391 - accuracy: 0.9874 - val_loss: 0.0319 - val_accuracy: 0.9925\n",
            "Epoch 9/100\n",
            "1496/1500 [============================>.] - ETA: 0s - loss: 0.0356 - accuracy: 0.9891\n",
            "Epoch 9: val_accuracy did not improve from 0.99250\n",
            "1500/1500 [==============================] - 9s 6ms/step - loss: 0.0355 - accuracy: 0.9891 - val_loss: 0.0334 - val_accuracy: 0.9908\n",
            "Epoch 10/100\n",
            "1492/1500 [============================>.] - ETA: 0s - loss: 0.0333 - accuracy: 0.9893\n",
            "Epoch 10: val_accuracy did not improve from 0.99250\n",
            "1500/1500 [==============================] - 9s 6ms/step - loss: 0.0333 - accuracy: 0.9892 - val_loss: 0.0293 - val_accuracy: 0.9923\n",
            "Epoch 11/100\n",
            "1500/1500 [==============================] - ETA: 0s - loss: 0.0324 - accuracy: 0.9902\n",
            "Epoch 11: val_accuracy did not improve from 0.99250\n",
            "1500/1500 [==============================] - 9s 6ms/step - loss: 0.0324 - accuracy: 0.9902 - val_loss: 0.0286 - val_accuracy: 0.9923\n",
            "Epoch 12/100\n",
            "1500/1500 [==============================] - ETA: 0s - loss: 0.0325 - accuracy: 0.9904\n",
            "Epoch 12: val_accuracy did not improve from 0.99250\n",
            "1500/1500 [==============================] - 9s 6ms/step - loss: 0.0325 - accuracy: 0.9904 - val_loss: 0.0311 - val_accuracy: 0.9919\n",
            "Epoch 13/100\n",
            "1495/1500 [============================>.] - ETA: 0s - loss: 0.0328 - accuracy: 0.9901\n",
            "Epoch 13: val_accuracy did not improve from 0.99250\n",
            "1500/1500 [==============================] - 9s 6ms/step - loss: 0.0330 - accuracy: 0.9901 - val_loss: 0.0418 - val_accuracy: 0.9893\n",
            "Epoch 14/100\n",
            "1495/1500 [============================>.] - ETA: 0s - loss: 0.0297 - accuracy: 0.9911\n",
            "Epoch 14: val_accuracy did not improve from 0.99250\n",
            "1500/1500 [==============================] - 9s 6ms/step - loss: 0.0297 - accuracy: 0.9911 - val_loss: 0.0304 - val_accuracy: 0.9920\n",
            "Epoch 15/100\n",
            "1500/1500 [==============================] - ETA: 0s - loss: 0.0277 - accuracy: 0.9919\n",
            "Epoch 15: val_accuracy did not improve from 0.99250\n",
            "1500/1500 [==============================] - 9s 6ms/step - loss: 0.0277 - accuracy: 0.9919 - val_loss: 0.0322 - val_accuracy: 0.9913\n",
            "Epoch 16/100\n",
            "1498/1500 [============================>.] - ETA: 0s - loss: 0.0277 - accuracy: 0.9913\n",
            "Epoch 16: val_accuracy did not improve from 0.99250\n",
            "1500/1500 [==============================] - 9s 6ms/step - loss: 0.0277 - accuracy: 0.9913 - val_loss: 0.0319 - val_accuracy: 0.9918\n",
            "Epoch 17/100\n",
            "1492/1500 [============================>.] - ETA: 0s - loss: 0.0280 - accuracy: 0.9918\n",
            "Epoch 17: val_accuracy improved from 0.99250 to 0.99267, saving model to mnist/try06_1.h5\n",
            "1500/1500 [==============================] - 10s 6ms/step - loss: 0.0279 - accuracy: 0.9919 - val_loss: 0.0313 - val_accuracy: 0.9927\n",
            "Epoch 18/100\n",
            "1491/1500 [============================>.] - ETA: 0s - loss: 0.0245 - accuracy: 0.9920\n",
            "Epoch 18: val_accuracy did not improve from 0.99267\n",
            "1500/1500 [==============================] - 9s 6ms/step - loss: 0.0245 - accuracy: 0.9920 - val_loss: 0.0315 - val_accuracy: 0.9923\n",
            "Epoch 19/100\n",
            "1494/1500 [============================>.] - ETA: 0s - loss: 0.0264 - accuracy: 0.9918\n",
            "Epoch 19: val_accuracy did not improve from 0.99267\n",
            "1500/1500 [==============================] - 9s 6ms/step - loss: 0.0265 - accuracy: 0.9918 - val_loss: 0.0309 - val_accuracy: 0.9923\n",
            "Epoch 20/100\n",
            "1497/1500 [============================>.] - ETA: 0s - loss: 0.0255 - accuracy: 0.9916\n",
            "Epoch 20: val_accuracy did not improve from 0.99267\n",
            "1500/1500 [==============================] - 9s 6ms/step - loss: 0.0254 - accuracy: 0.9916 - val_loss: 0.0325 - val_accuracy: 0.9923\n",
            "Epoch 21/100\n",
            "1495/1500 [============================>.] - ETA: 0s - loss: 0.0222 - accuracy: 0.9927\n",
            "Epoch 21: val_accuracy did not improve from 0.99267\n",
            "1500/1500 [==============================] - 9s 6ms/step - loss: 0.0222 - accuracy: 0.9928 - val_loss: 0.0320 - val_accuracy: 0.9922\n",
            "Epoch 22/100\n",
            "1495/1500 [============================>.] - ETA: 0s - loss: 0.0232 - accuracy: 0.9925\n",
            "Epoch 22: val_accuracy did not improve from 0.99267\n",
            "1500/1500 [==============================] - 9s 6ms/step - loss: 0.0231 - accuracy: 0.9925 - val_loss: 0.0319 - val_accuracy: 0.9919\n",
            "Epoch 23/100\n",
            "1496/1500 [============================>.] - ETA: 0s - loss: 0.0249 - accuracy: 0.9925\n",
            "Epoch 23: val_accuracy did not improve from 0.99267\n",
            "1500/1500 [==============================] - 9s 6ms/step - loss: 0.0250 - accuracy: 0.9925 - val_loss: 0.0354 - val_accuracy: 0.9909\n",
            "Epoch 24/100\n",
            "1495/1500 [============================>.] - ETA: 0s - loss: 0.0231 - accuracy: 0.9927\n",
            "Epoch 24: val_accuracy did not improve from 0.99267\n",
            "1500/1500 [==============================] - 9s 6ms/step - loss: 0.0230 - accuracy: 0.9928 - val_loss: 0.0361 - val_accuracy: 0.9910\n",
            "Epoch 25/100\n",
            "1500/1500 [==============================] - ETA: 0s - loss: 0.0217 - accuracy: 0.9933\n",
            "Epoch 25: val_accuracy did not improve from 0.99267\n",
            "1500/1500 [==============================] - 9s 6ms/step - loss: 0.0217 - accuracy: 0.9933 - val_loss: 0.0340 - val_accuracy: 0.9926\n",
            "Epoch 26/100\n",
            "1491/1500 [============================>.] - ETA: 0s - loss: 0.0221 - accuracy: 0.9930\n",
            "Epoch 26: val_accuracy improved from 0.99267 to 0.99317, saving model to mnist/try06_1.h5\n",
            "1500/1500 [==============================] - 9s 6ms/step - loss: 0.0220 - accuracy: 0.9930 - val_loss: 0.0313 - val_accuracy: 0.9932\n",
            "Epoch 26: early stopping\n"
          ]
        }
      ]
    },
    {
      "cell_type": "code",
      "source": [
        "result = model_1_1.evaluate(test_imgs, test_labels)\n",
        "print(\"\\n테스트 정확도: %.4f\" %(result)[1])"
      ],
      "metadata": {
        "colab": {
          "base_uri": "https://localhost:8080/"
        },
        "outputId": "8a55232b-ca7a-47a3-a3dd-33720e1d6c79",
        "id": "Mq-GE0h5wtcL"
      },
      "execution_count": 19,
      "outputs": [
        {
          "output_type": "stream",
          "name": "stdout",
          "text": [
            "313/313 [==============================] - 1s 4ms/step - loss: 0.0217 - accuracy: 0.9938\n",
            "\n",
            "테스트 정확도: 0.9938\n"
          ]
        }
      ]
    },
    {
      "cell_type": "code",
      "source": [
        "loaded_model = load_model('mnist/try06_1.h5')\n",
        "result_loaded = loaded_model.evaluate(test_imgs, test_labels)\n",
        "print(\"\\n불러온 모델 테스트 정확도: %.4f\" %(result_loaded)[1])"
      ],
      "metadata": {
        "colab": {
          "base_uri": "https://localhost:8080/"
        },
        "outputId": "01ddf703-617e-4785-e15d-40887ff639e8",
        "id": "fGK6vEuiwtcL"
      },
      "execution_count": 20,
      "outputs": [
        {
          "output_type": "stream",
          "name": "stdout",
          "text": [
            "313/313 [==============================] - 1s 3ms/step - loss: 0.0217 - accuracy: 0.9938\n",
            "\n",
            "불러온 모델 테스트 정확도: 0.9938\n"
          ]
        }
      ]
    },
    {
      "cell_type": "code",
      "source": [
        "acc = hist_1_1.history['accuracy']\n",
        "val_acc = hist_1_1.history['val_accuracy']\n",
        "loss = hist_1_1.history['loss']\n",
        "val_loss = hist_1_1.history['val_loss']\n",
        "\n",
        "epochs = range(1, len(acc)+1)\n",
        "\n",
        "plt.figure(figsize=(8, 12))\n",
        "ax1=plt.subplot(2, 1, 1)\n",
        "ax2=plt.subplot(2, 1, 2)\n",
        "ax1.plot(epochs, acc, 'bo', label='Trainig acc')\n",
        "ax1.plot(epochs, val_acc, 'b', label='Validation acc')\n",
        "ax1.set_title(\"Training and Validation accuracy\")\n",
        "ax1.legend()\n",
        "ax2.plot(epochs, loss, 'bo', label='Traning loss')\n",
        "ax2.plot(epochs, val_loss, 'b', label='Validation loss')\n",
        "ax2.set_title(\"Training and Validation loss\")\n",
        "ax2.legend()\n",
        "plt.show()"
      ],
      "metadata": {
        "colab": {
          "base_uri": "https://localhost:8080/",
          "height": 716
        },
        "outputId": "e681a556-14cc-4509-bfda-1d7c8d9c1662",
        "id": "k-onGLGMwtcM"
      },
      "execution_count": 21,
      "outputs": [
        {
          "output_type": "display_data",
          "data": {
            "text/plain": [
              "<Figure size 576x864 with 2 Axes>"
            ],
            "image/png": "[encoded data removed]"
          },
          "metadata": {
            "needs_background": "light"
          }
        }
      ]
    },
    {
      "cell_type": "code",
      "source": [
        "df = pd.DataFrame([['CNN', 'model_1_1', '32(relu/batchnomalization)-32(relu/batchnomalization)-64(relu/batchnomalization/drop0.5)-Flatten-64(relu)-10(softmax)]',\n",
        "                    'rmsprop', 100, 32, 0.2, 'es/mc', \"%.4f\"%(result)[1], \"%.4f\"%(result_loaded)[1], \"%.4f\"%(result)[0], \"%.4f\"%(result_loaded)[0]]],\n",
        "                  columns=['모델', 'Name', 'Structure', 'Optimizer', 'epochs', 'batch_size', 'validation_split', 'callback', 'Accuracy', 'MC_Accuracy', 'Loss', 'MC_Loss'])"
      ],
      "metadata": {
        "id": "IMzWXDrQwtcM"
      },
      "execution_count": 22,
      "outputs": []
    },
    {
      "cell_type": "markdown",
      "source": [
        "#### __3.  batch_size=32, 출력 직전층 activation='sigmoid', optimizer='adam'__ "
      ],
      "metadata": {
        "id": "YN2gmPkbzFeA"
      }
    },
    {
      "cell_type": "code",
      "source": [
        "model_1_2 = keras.Sequential()\n",
        "model_1_2.add(layers.Conv2D(32, kernel_size=(3, 3), input_shape=(28, 28, 1)))\n",
        "model_1_2.add(layers.BatchNormalization())\n",
        "model_1_2.add(layers.Activation('relu'))\n",
        "model_1_2.add(layers.MaxPooling2D(pool_size=(2,2)))\n",
        "model_1_2.add(layers.Conv2D(32, (3, 3)))\n",
        "model_1_2.add(layers.BatchNormalization())\n",
        "model_1_2.add(layers.Activation('relu'))\n",
        "model_1_2.add(layers.MaxPooling2D((2,2)))\n",
        "model_1_2.add(layers.Conv2D(64, (3, 3)))\n",
        "model_1_2.add(layers.BatchNormalization())\n",
        "model_1_2.add(layers.Activation('relu'))\n",
        "model_1_2.add(layers.Dropout(0.5))\n",
        "model_1_2.add(layers.Flatten())\n",
        "model_1_2.add(layers.Dense(64))\n",
        "model_1_2.add(layers.BatchNormalization())\n",
        "model_1_2.add(layers.Activation('sigmoid'))\n",
        "model_1_2.add(layers.Dense(10, activation=\"softmax\"))\n",
        "\n",
        "model_1_2.summary()"
      ],
      "metadata": {
        "colab": {
          "base_uri": "https://localhost:8080/"
        },
        "outputId": "c5bcdd81-8746-4c16-83f2-a9895bda180f",
        "id": "Ujc6kXBOzFeA"
      },
      "execution_count": 23,
      "outputs": [
        {
          "output_type": "stream",
          "name": "stdout",
          "text": [
            "Model: \"sequential_1\"\n",
            "_________________________________________________________________\n",
            " Layer (type)                Output Shape              Param #   \n",
            "=================================================================\n",
            " conv2d_3 (Conv2D)           (None, 26, 26, 32)        320       \n",
            "                                                                 \n",
            " batch_normalization_4 (Batc  (None, 26, 26, 32)       128       \n",
            " hNormalization)                                                 \n",
            "                                                                 \n",
            " activation_4 (Activation)   (None, 26, 26, 32)        0         \n",
            "                                                                 \n",
            " max_pooling2d_2 (MaxPooling  (None, 13, 13, 32)       0         \n",
            " 2D)                                                             \n",
            "                                                                 \n",
            " conv2d_4 (Conv2D)           (None, 11, 11, 32)        9248      \n",
            "                                                                 \n",
            " batch_normalization_5 (Batc  (None, 11, 11, 32)       128       \n",
            " hNormalization)                                                 \n",
            "                                                                 \n",
            " activation_5 (Activation)   (None, 11, 11, 32)        0         \n",
            "                                                                 \n",
            " max_pooling2d_3 (MaxPooling  (None, 5, 5, 32)         0         \n",
            " 2D)                                                             \n",
            "                                                                 \n",
            " conv2d_5 (Conv2D)           (None, 3, 3, 64)          18496     \n",
            "                                                                 \n",
            " batch_normalization_6 (Batc  (None, 3, 3, 64)         256       \n",
            " hNormalization)                                                 \n",
            "                                                                 \n",
            " activation_6 (Activation)   (None, 3, 3, 64)          0         \n",
            "                                                                 \n",
            " dropout_1 (Dropout)         (None, 3, 3, 64)          0         \n",
            "                                                                 \n",
            " flatten_1 (Flatten)         (None, 576)               0         \n",
            "                                                                 \n",
            " dense_2 (Dense)             (None, 64)                36928     \n",
            "                                                                 \n",
            " batch_normalization_7 (Batc  (None, 64)               256       \n",
            " hNormalization)                                                 \n",
            "                                                                 \n",
            " activation_7 (Activation)   (None, 64)                0         \n",
            "                                                                 \n",
            " dense_3 (Dense)             (None, 10)                650       \n",
            "                                                                 \n",
            "=================================================================\n",
            "Total params: 66,410\n",
            "Trainable params: 66,026\n",
            "Non-trainable params: 384\n",
            "_________________________________________________________________\n"
          ]
        }
      ]
    },
    {
      "cell_type": "code",
      "source": [
        "adam = keras.optimizers.Adam(learning_rate=0.002)\n",
        "model_1_2.compile(optimizer=adam, loss=\"categorical_crossentropy\", metrics=[\"accuracy\"])"
      ],
      "metadata": {
        "id": "sy6jnJeXzFeB"
      },
      "execution_count": 24,
      "outputs": []
    },
    {
      "cell_type": "code",
      "source": [
        "es = EarlyStopping(monitor='val_loss', mode='min', verbose=1, patience=15)\n",
        "mc = ModelCheckpoint('mnist/try06_2.h5', monitor='val_accuracy', mode='max', verbose=1)\n",
        "hist_1_2 = model_1_2.fit(train_imgs, train_labels, epochs=100, validation_split=0.2, callbacks=[es, mc])"
      ],
      "metadata": {
        "colab": {
          "base_uri": "https://localhost:8080/"
        },
        "outputId": "e41ff79b-73f8-406a-fb7e-c6d802a4e135",
        "id": "yTLlJJB-zFeB"
      },
      "execution_count": 25,
      "outputs": [
        {
          "output_type": "stream",
          "name": "stdout",
          "text": [
            "Epoch 1/100\n",
            "1497/1500 [============================>.] - ETA: 0s - loss: 0.2174 - accuracy: 0.9579\n",
            "Epoch 1: saving model to mnist/try06_2.h5\n",
            "1500/1500 [==============================] - 9s 5ms/step - loss: 0.2172 - accuracy: 0.9579 - val_loss: 0.0447 - val_accuracy: 0.9881\n",
            "Epoch 2/100\n",
            "1500/1500 [==============================] - ETA: 0s - loss: 0.0691 - accuracy: 0.9798\n",
            "Epoch 2: saving model to mnist/try06_2.h5\n",
            "1500/1500 [==============================] - 8s 5ms/step - loss: 0.0691 - accuracy: 0.9798 - val_loss: 0.0395 - val_accuracy: 0.9882\n",
            "Epoch 3/100\n",
            "1495/1500 [============================>.] - ETA: 0s - loss: 0.0553 - accuracy: 0.9830\n",
            "Epoch 3: saving model to mnist/try06_2.h5\n",
            "1500/1500 [==============================] - 8s 5ms/step - loss: 0.0552 - accuracy: 0.9831 - val_loss: 0.0333 - val_accuracy: 0.9908\n",
            "Epoch 4/100\n",
            "1498/1500 [============================>.] - ETA: 0s - loss: 0.0475 - accuracy: 0.9856\n",
            "Epoch 4: saving model to mnist/try06_2.h5\n",
            "1500/1500 [==============================] - 8s 6ms/step - loss: 0.0475 - accuracy: 0.9856 - val_loss: 0.0289 - val_accuracy: 0.9916\n",
            "Epoch 5/100\n",
            "1493/1500 [============================>.] - ETA: 0s - loss: 0.0439 - accuracy: 0.9865\n",
            "Epoch 5: saving model to mnist/try06_2.h5\n",
            "1500/1500 [==============================] - 9s 6ms/step - loss: 0.0440 - accuracy: 0.9865 - val_loss: 0.0346 - val_accuracy: 0.9888\n",
            "Epoch 6/100\n",
            "1489/1500 [============================>.] - ETA: 0s - loss: 0.0411 - accuracy: 0.9871\n",
            "Epoch 6: saving model to mnist/try06_2.h5\n",
            "1500/1500 [==============================] - 8s 6ms/step - loss: 0.0410 - accuracy: 0.9871 - val_loss: 0.0306 - val_accuracy: 0.9914\n",
            "Epoch 7/100\n",
            "1492/1500 [============================>.] - ETA: 0s - loss: 0.0345 - accuracy: 0.9890\n",
            "Epoch 7: saving model to mnist/try06_2.h5\n",
            "1500/1500 [==============================] - 8s 6ms/step - loss: 0.0347 - accuracy: 0.9890 - val_loss: 0.0308 - val_accuracy: 0.9909\n",
            "Epoch 8/100\n",
            "1493/1500 [============================>.] - ETA: 0s - loss: 0.0341 - accuracy: 0.9887\n",
            "Epoch 8: saving model to mnist/try06_2.h5\n",
            "1500/1500 [==============================] - 8s 5ms/step - loss: 0.0340 - accuracy: 0.9888 - val_loss: 0.0252 - val_accuracy: 0.9927\n",
            "Epoch 9/100\n",
            "1494/1500 [============================>.] - ETA: 0s - loss: 0.0307 - accuracy: 0.9900\n",
            "Epoch 9: saving model to mnist/try06_2.h5\n",
            "1500/1500 [==============================] - 8s 5ms/step - loss: 0.0307 - accuracy: 0.9901 - val_loss: 0.0262 - val_accuracy: 0.9923\n",
            "Epoch 10/100\n",
            "1495/1500 [============================>.] - ETA: 0s - loss: 0.0295 - accuracy: 0.9910\n",
            "Epoch 10: saving model to mnist/try06_2.h5\n",
            "1500/1500 [==============================] - 8s 6ms/step - loss: 0.0296 - accuracy: 0.9910 - val_loss: 0.0320 - val_accuracy: 0.9905\n",
            "Epoch 11/100\n",
            "1490/1500 [============================>.] - ETA: 0s - loss: 0.0259 - accuracy: 0.9913\n",
            "Epoch 11: saving model to mnist/try06_2.h5\n",
            "1500/1500 [==============================] - 8s 6ms/step - loss: 0.0261 - accuracy: 0.9913 - val_loss: 0.0275 - val_accuracy: 0.9923\n",
            "Epoch 12/100\n",
            "1491/1500 [============================>.] - ETA: 0s - loss: 0.0272 - accuracy: 0.9911\n",
            "Epoch 12: saving model to mnist/try06_2.h5\n",
            "1500/1500 [==============================] - 8s 5ms/step - loss: 0.0273 - accuracy: 0.9911 - val_loss: 0.0295 - val_accuracy: 0.9915\n",
            "Epoch 13/100\n",
            "1500/1500 [==============================] - ETA: 0s - loss: 0.0260 - accuracy: 0.9915\n",
            "Epoch 13: saving model to mnist/try06_2.h5\n",
            "1500/1500 [==============================] - 8s 6ms/step - loss: 0.0260 - accuracy: 0.9915 - val_loss: 0.0252 - val_accuracy: 0.9925\n",
            "Epoch 14/100\n",
            "1495/1500 [============================>.] - ETA: 0s - loss: 0.0238 - accuracy: 0.9922\n",
            "Epoch 14: saving model to mnist/try06_2.h5\n",
            "1500/1500 [==============================] - 8s 6ms/step - loss: 0.0237 - accuracy: 0.9922 - val_loss: 0.0265 - val_accuracy: 0.9928\n",
            "Epoch 15/100\n",
            "1496/1500 [============================>.] - ETA: 0s - loss: 0.0241 - accuracy: 0.9922\n",
            "Epoch 15: saving model to mnist/try06_2.h5\n",
            "1500/1500 [==============================] - 8s 5ms/step - loss: 0.0241 - accuracy: 0.9922 - val_loss: 0.0248 - val_accuracy: 0.9931\n",
            "Epoch 16/100\n",
            "1491/1500 [============================>.] - ETA: 0s - loss: 0.0226 - accuracy: 0.9924\n",
            "Epoch 16: saving model to mnist/try06_2.h5\n",
            "1500/1500 [==============================] - 8s 5ms/step - loss: 0.0226 - accuracy: 0.9924 - val_loss: 0.0253 - val_accuracy: 0.9931\n",
            "Epoch 17/100\n",
            "1497/1500 [============================>.] - ETA: 0s - loss: 0.0208 - accuracy: 0.9926\n",
            "Epoch 17: saving model to mnist/try06_2.h5\n",
            "1500/1500 [==============================] - 8s 5ms/step - loss: 0.0207 - accuracy: 0.9926 - val_loss: 0.0292 - val_accuracy: 0.9925\n",
            "Epoch 18/100\n",
            "1499/1500 [============================>.] - ETA: 0s - loss: 0.0202 - accuracy: 0.9932\n",
            "Epoch 18: saving model to mnist/try06_2.h5\n",
            "1500/1500 [==============================] - 8s 6ms/step - loss: 0.0202 - accuracy: 0.9933 - val_loss: 0.0229 - val_accuracy: 0.9933\n",
            "Epoch 19/100\n",
            "1495/1500 [============================>.] - ETA: 0s - loss: 0.0169 - accuracy: 0.9946\n",
            "Epoch 19: saving model to mnist/try06_2.h5\n",
            "1500/1500 [==============================] - 8s 5ms/step - loss: 0.0172 - accuracy: 0.9945 - val_loss: 0.0252 - val_accuracy: 0.9932\n",
            "Epoch 20/100\n",
            "1492/1500 [============================>.] - ETA: 0s - loss: 0.0206 - accuracy: 0.9933\n",
            "Epoch 20: saving model to mnist/try06_2.h5\n",
            "1500/1500 [==============================] - 8s 5ms/step - loss: 0.0205 - accuracy: 0.9933 - val_loss: 0.0241 - val_accuracy: 0.9941\n",
            "Epoch 21/100\n",
            "1496/1500 [============================>.] - ETA: 0s - loss: 0.0173 - accuracy: 0.9942\n",
            "Epoch 21: saving model to mnist/try06_2.h5\n",
            "1500/1500 [==============================] - 8s 5ms/step - loss: 0.0173 - accuracy: 0.9942 - val_loss: 0.0241 - val_accuracy: 0.9929\n",
            "Epoch 22/100\n",
            "1495/1500 [============================>.] - ETA: 0s - loss: 0.0164 - accuracy: 0.9945\n",
            "Epoch 22: saving model to mnist/try06_2.h5\n",
            "1500/1500 [==============================] - 8s 6ms/step - loss: 0.0163 - accuracy: 0.9946 - val_loss: 0.0293 - val_accuracy: 0.9922\n",
            "Epoch 23/100\n",
            "1494/1500 [============================>.] - ETA: 0s - loss: 0.0183 - accuracy: 0.9941\n",
            "Epoch 23: saving model to mnist/try06_2.h5\n",
            "1500/1500 [==============================] - 8s 5ms/step - loss: 0.0183 - accuracy: 0.9941 - val_loss: 0.0278 - val_accuracy: 0.9930\n",
            "Epoch 24/100\n",
            "1494/1500 [============================>.] - ETA: 0s - loss: 0.0162 - accuracy: 0.9945\n",
            "Epoch 24: saving model to mnist/try06_2.h5\n",
            "1500/1500 [==============================] - 8s 6ms/step - loss: 0.0162 - accuracy: 0.9945 - val_loss: 0.0282 - val_accuracy: 0.9930\n",
            "Epoch 25/100\n",
            "1489/1500 [============================>.] - ETA: 0s - loss: 0.0166 - accuracy: 0.9945\n",
            "Epoch 25: saving model to mnist/try06_2.h5\n",
            "1500/1500 [==============================] - 8s 5ms/step - loss: 0.0167 - accuracy: 0.9945 - val_loss: 0.0266 - val_accuracy: 0.9930\n",
            "Epoch 26/100\n",
            "1493/1500 [============================>.] - ETA: 0s - loss: 0.0150 - accuracy: 0.9952\n",
            "Epoch 26: saving model to mnist/try06_2.h5\n",
            "1500/1500 [==============================] - 8s 6ms/step - loss: 0.0150 - accuracy: 0.9952 - val_loss: 0.0286 - val_accuracy: 0.9933\n",
            "Epoch 27/100\n",
            "1495/1500 [============================>.] - ETA: 0s - loss: 0.0157 - accuracy: 0.9951\n",
            "Epoch 27: saving model to mnist/try06_2.h5\n",
            "1500/1500 [==============================] - 8s 5ms/step - loss: 0.0157 - accuracy: 0.9951 - val_loss: 0.0249 - val_accuracy: 0.9929\n",
            "Epoch 28/100\n",
            "1493/1500 [============================>.] - ETA: 0s - loss: 0.0139 - accuracy: 0.9951\n",
            "Epoch 28: saving model to mnist/try06_2.h5\n",
            "1500/1500 [==============================] - 9s 6ms/step - loss: 0.0139 - accuracy: 0.9950 - val_loss: 0.0265 - val_accuracy: 0.9928\n",
            "Epoch 29/100\n",
            "1497/1500 [============================>.] - ETA: 0s - loss: 0.0155 - accuracy: 0.9948\n",
            "Epoch 29: saving model to mnist/try06_2.h5\n",
            "1500/1500 [==============================] - 8s 5ms/step - loss: 0.0155 - accuracy: 0.9948 - val_loss: 0.0280 - val_accuracy: 0.9923\n",
            "Epoch 30/100\n",
            "1490/1500 [============================>.] - ETA: 0s - loss: 0.0134 - accuracy: 0.9957\n",
            "Epoch 30: saving model to mnist/try06_2.h5\n",
            "1500/1500 [==============================] - 8s 5ms/step - loss: 0.0134 - accuracy: 0.9957 - val_loss: 0.0327 - val_accuracy: 0.9926\n",
            "Epoch 31/100\n",
            "1498/1500 [============================>.] - ETA: 0s - loss: 0.0144 - accuracy: 0.9954\n",
            "Epoch 31: saving model to mnist/try06_2.h5\n",
            "1500/1500 [==============================] - 9s 6ms/step - loss: 0.0144 - accuracy: 0.9954 - val_loss: 0.0255 - val_accuracy: 0.9924\n",
            "Epoch 32/100\n",
            "1493/1500 [============================>.] - ETA: 0s - loss: 0.0131 - accuracy: 0.9955\n",
            "Epoch 32: saving model to mnist/try06_2.h5\n",
            "1500/1500 [==============================] - 8s 5ms/step - loss: 0.0132 - accuracy: 0.9955 - val_loss: 0.0256 - val_accuracy: 0.9937\n",
            "Epoch 33/100\n",
            "1496/1500 [============================>.] - ETA: 0s - loss: 0.0133 - accuracy: 0.9955\n",
            "Epoch 33: saving model to mnist/try06_2.h5\n",
            "1500/1500 [==============================] - 8s 5ms/step - loss: 0.0133 - accuracy: 0.9955 - val_loss: 0.0247 - val_accuracy: 0.9939\n",
            "Epoch 33: early stopping\n"
          ]
        }
      ]
    },
    {
      "cell_type": "code",
      "source": [
        "result = model_1_2.evaluate(test_imgs, test_labels)\n",
        "print(\"\\n테스트 정확도: %.4f\" %(result)[1])"
      ],
      "metadata": {
        "colab": {
          "base_uri": "https://localhost:8080/"
        },
        "outputId": "5181cfd2-546d-4e77-e4cc-13be704a506a",
        "id": "BBHg9vsCzFeD"
      },
      "execution_count": 26,
      "outputs": [
        {
          "output_type": "stream",
          "name": "stdout",
          "text": [
            "313/313 [==============================] - 1s 4ms/step - loss: 0.0205 - accuracy: 0.9943\n",
            "\n",
            "테스트 정확도: 0.9943\n"
          ]
        }
      ]
    },
    {
      "cell_type": "code",
      "source": [
        "loaded_model = load_model('mnist/try06_2.h5')\n",
        "result_loaded = loaded_model.evaluate(test_imgs, test_labels)\n",
        "print(\"\\n불러온 모델 테스트 정확도: %.4f\" %(result_loaded)[1])"
      ],
      "metadata": {
        "colab": {
          "base_uri": "https://localhost:8080/"
        },
        "outputId": "536059f9-5250-4853-cec2-a9fd862ce862",
        "id": "-OddZd0hzFeE"
      },
      "execution_count": 27,
      "outputs": [
        {
          "output_type": "stream",
          "name": "stdout",
          "text": [
            "313/313 [==============================] - 1s 3ms/step - loss: 0.0205 - accuracy: 0.9943\n",
            "\n",
            "불러온 모델 테스트 정확도: 0.9943\n"
          ]
        }
      ]
    },
    {
      "cell_type": "code",
      "source": [
        "acc = hist_1_2.history['accuracy']\n",
        "val_acc = hist_1_2.history['val_accuracy']\n",
        "loss = hist_1_2.history['loss']\n",
        "val_loss = hist_1_2.history['val_loss']\n",
        "\n",
        "epochs = range(1, len(acc)+1)\n",
        "\n",
        "plt.figure(figsize=(8, 12))\n",
        "ax1=plt.subplot(2, 1, 1)\n",
        "ax2=plt.subplot(2, 1, 2)\n",
        "ax1.plot(epochs, acc, 'bo', label='Trainig acc')\n",
        "ax1.plot(epochs, val_acc, 'b', label='Validation acc')\n",
        "ax1.set_title(\"Training and Validation accuracy\")\n",
        "ax1.legend()\n",
        "ax2.plot(epochs, loss, 'bo', label='Traning loss')\n",
        "ax2.plot(epochs, val_loss, 'b', label='Validation loss')\n",
        "ax2.set_title(\"Training and Validation loss\")\n",
        "ax2.legend()\n",
        "plt.show()"
      ],
      "metadata": {
        "colab": {
          "base_uri": "https://localhost:8080/",
          "height": 716
        },
        "outputId": "682466a9-7e6e-4a95-c89a-345516e2a23c",
        "id": "0gLCkZufzFeE"
      },
      "execution_count": 28,
      "outputs": [
        {
          "output_type": "display_data",
          "data": {
            "text/plain": [
              "<Figure size 576x864 with 2 Axes>"
            ],
            "image/png": "[encoded data removed]"
          },
          "metadata": {
            "needs_background": "light"
          }
        }
      ]
    },
    {
      "cell_type": "code",
      "source": [
        "df.loc[1]=['CNN', 'model_1_2', '32(relu/batchnomalization)-32(relu/batchnomalization)-64(relu/batchnomalization/drop0.5)-Flatten-64(relu)-10(softmax)]', 'adam', 100, 32, 0.2, 'es/mc', \"%.4f\"%(result)[1], \"%.4f\"%(result_loaded)[1], \"%.4f\"%(result)[0], \"%.4f\"%(result_loaded)[0]]"
      ],
      "metadata": {
        "id": "i57lgiGgzFeF"
      },
      "execution_count": 29,
      "outputs": []
    },
    {
      "cell_type": "code",
      "source": [
        "df.head()"
      ],
      "metadata": {
        "colab": {
          "base_uri": "https://localhost:8080/",
          "height": 176
        },
        "id": "K82gOTDByz2D",
        "outputId": "680c05e4-7a01-4814-b68e-745a4ca39c8e"
      },
      "execution_count": 30,
      "outputs": [
        {
          "output_type": "execute_result",
          "data": {
            "text/plain": [
              "    모델       Name                                          Structure  \\\n",
              "0  CNN  model_1_1  32(relu/batchnomalization)-32(relu/batchnomali...   \n",
              "1  CNN  model_1_2  32(relu/batchnomalization)-32(relu/batchnomali...   \n",
              "\n",
              "  Optimizer  epochs  batch_size  validation_split callback Accuracy  \\\n",
              "0   rmsprop     100          32               0.2    es/mc   0.9938   \n",
              "1      adam     100          32               0.2    es/mc   0.9943   \n",
              "\n",
              "  MC_Accuracy    Loss MC_Loss  \n",
              "0      0.9938  0.0217  0.0217  \n",
              "1      0.9943  0.0205  0.0205  "
            ],
            "text/html": [
              "\n",
              "  <div id=\"df-3c0811d4-7a95-44dc-a576-92506a36020d\">\n",
              "    <div class=\"colab-df-container\">\n",
              "      <div>\n",
              "<style scoped>\n",
              "    .dataframe tbody tr th:only-of-type {\n",
              "        vertical-align: middle;\n",
              "    }\n",
              "\n",
              "    .dataframe tbody tr th {\n",
              "        vertical-align: top;\n",
              "    }\n",
              "\n",
              "    .dataframe thead th {\n",
              "        text-align: right;\n",
              "    }\n",
              "</style>\n",
              "<table border=\"1\" class=\"dataframe\">\n",
              "  <thead>\n",
              "    <tr style=\"text-align: right;\">\n",
              "      <th></th>\n",
              "      <th>모델</th>\n",
              "      <th>Name</th>\n",
              "      <th>Structure</th>\n",
              "      <th>Optimizer</th>\n",
              "      <th>epochs</th>\n",
              "      <th>batch_size</th>\n",
              "      <th>validation_split</th>\n",
              "      <th>callback</th>\n",
              "      <th>Accuracy</th>\n",
              "      <th>MC_Accuracy</th>\n",
              "      <th>Loss</th>\n",
              "      <th>MC_Loss</th>\n",
              "    </tr>\n",
              "  </thead>\n",
              "  <tbody>\n",
              "    <tr>\n",
              "      <th>0</th>\n",
              "      <td>CNN</td>\n",
              "      <td>model_1_1</td>\n",
              "      <td>32(relu/batchnomalization)-32(relu/batchnomali...</td>\n",
              "      <td>rmsprop</td>\n",
              "      <td>100</td>\n",
              "      <td>32</td>\n",
              "      <td>0.2</td>\n",
              "      <td>es/mc</td>\n",
              "      <td>0.9938</td>\n",
              "      <td>0.9938</td>\n",
              "      <td>0.0217</td>\n",
              "      <td>0.0217</td>\n",
              "    </tr>\n",
              "    <tr>\n",
              "      <th>1</th>\n",
              "      <td>CNN</td>\n",
              "      <td>model_1_2</td>\n",
              "      <td>32(relu/batchnomalization)-32(relu/batchnomali...</td>\n",
              "      <td>adam</td>\n",
              "      <td>100</td>\n",
              "      <td>32</td>\n",
              "      <td>0.2</td>\n",
              "      <td>es/mc</td>\n",
              "      <td>0.9943</td>\n",
              "      <td>0.9943</td>\n",
              "      <td>0.0205</td>\n",
              "      <td>0.0205</td>\n",
              "    </tr>\n",
              "  </tbody>\n",
              "</table>\n",
              "</div>\n",
              "      <button class=\"colab-df-convert\" onclick=\"convertToInteractive('df-3c0811d4-7a95-44dc-a576-92506a36020d')\"\n",
              "              title=\"Convert this dataframe to an interactive table.\"\n",
              "              style=\"display:none;\">\n",
              "        \n",
              "  <svg xmlns=\"http://www.w3.org/2000/svg\" height=\"24px\"viewBox=\"0 0 24 24\"\n",
              "       width=\"24px\">\n",
              "    <path d=\"M0 0h24v24H0V0z\" fill=\"none\"/>\n",
              "    <path d=\"M18.56 5.44l.94 2.06.94-2.06 2.06-.94-2.06-.94-.94-2.06-.94 2.06-2.06.94zm-11 1L8.5 8.5l.94-2.06 2.06-.94-2.06-.94L8.5 2.5l-.94 2.06-2.06.94zm10 10l.94 2.06.94-2.06 2.06-.94-2.06-.94-.94-2.06-.94 2.06-2.06.94z\"/><path d=\"M17.41 7.96l-1.37-1.37c-.4-.4-.92-.59-1.43-.59-.52 0-1.04.2-1.43.59L10.3 9.45l-7.72 7.72c-.78.78-.78 2.05 0 2.83L4 21.41c.39.39.9.59 1.41.59.51 0 1.02-.2 1.41-.59l7.78-7.78 2.81-2.81c.8-.78.8-2.07 0-2.86zM5.41 20L4 18.59l7.72-7.72 1.47 1.35L5.41 20z\"/>\n",
              "  </svg>\n",
              "      </button>\n",
              "      \n",
              "  <style>\n",
              "    .colab-df-container {\n",
              "      display:flex;\n",
              "      flex-wrap:wrap;\n",
              "      gap: 12px;\n",
              "    }\n",
              "\n",
              "    .colab-df-convert {\n",
              "      background-color: #E8F0FE;\n",
              "      border: none;\n",
              "      border-radius: 50%;\n",
              "      cursor: pointer;\n",
              "      display: none;\n",
              "      fill: #1967D2;\n",
              "      height: 32px;\n",
              "      padding: 0 0 0 0;\n",
              "      width: 32px;\n",
              "    }\n",
              "\n",
              "    .colab-df-convert:hover {\n",
              "      background-color: #E2EBFA;\n",
              "      box-shadow: 0px 1px 2px rgba(60, 64, 67, 0.3), 0px 1px 3px 1px rgba(60, 64, 67, 0.15);\n",
              "      fill: #174EA6;\n",
              "    }\n",
              "\n",
              "    [theme=dark] .colab-df-convert {\n",
              "      background-color: #3B4455;\n",
              "      fill: #D2E3FC;\n",
              "    }\n",
              "\n",
              "    [theme=dark] .colab-df-convert:hover {\n",
              "      background-color: #434B5C;\n",
              "      box-shadow: 0px 1px 3px 1px rgba(0, 0, 0, 0.15);\n",
              "      filter: drop-shadow(0px 1px 2px rgba(0, 0, 0, 0.3));\n",
              "      fill: #FFFFFF;\n",
              "    }\n",
              "  </style>\n",
              "\n",
              "      <script>\n",
              "        const buttonEl =\n",
              "          document.querySelector('#df-3c0811d4-7a95-44dc-a576-92506a36020d button.colab-df-convert');\n",
              "        buttonEl.style.display =\n",
              "          google.colab.kernel.accessAllowed ? 'block' : 'none';\n",
              "\n",
              "        async function convertToInteractive(key) {\n",
              "          const element = document.querySelector('#df-3c0811d4-7a95-44dc-a576-92506a36020d');\n",
              "          const dataTable =\n",
              "            await google.colab.kernel.invokeFunction('convertToInteractive',\n",
              "                                                     [key], {});\n",
              "          if (!dataTable) return;\n",
              "\n",
              "          const docLinkHtml = 'Like what you see? Visit the ' +\n",
              "            '<a target=\"_blank\" href=https://colab.research.google.com/notebooks/data_table.ipynb>data table notebook</a>'\n",
              "            + ' to learn more about interactive tables.';\n",
              "          element.innerHTML = '';\n",
              "          dataTable['output_type'] = 'display_data';\n",
              "          await google.colab.output.renderOutput(dataTable, element);\n",
              "          const docLink = document.createElement('div');\n",
              "          docLink.innerHTML = docLinkHtml;\n",
              "          element.appendChild(docLink);\n",
              "        }\n",
              "      </script>\n",
              "    </div>\n",
              "  </div>\n",
              "  "
            ]
          },
          "metadata": {},
          "execution_count": 30
        }
      ]
    },
    {
      "cell_type": "code",
      "source": [
        "df.to_csv(\"./mnist/220921_실습_6.csv\", header=True, sep=',', na_rep='NaN', float_format = '%.4f', encoding='utf-8-sig', line_terminator='\\n')"
      ],
      "metadata": {
        "id": "wgZcTyBMStRP"
      },
      "execution_count": 31,
      "outputs": []
    }
  ]
}