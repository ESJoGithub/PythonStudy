{
  "nbformat": 4,
  "nbformat_minor": 0,
  "metadata": {
    "colab": {
      "provenance": [],
      "collapsed_sections": [],
      "mount_file_id": "1hET6DDdWeMbZ4U74iHRdRTFLoAq1fPDS",
      "authorship_tag": "ABX9TyP8eRA0Zw9K7fqTH/NJZ4Mn",
      "include_colab_link": true
    },
    "kernelspec": {
      "name": "python3",
      "display_name": "Python 3"
    },
    "language_info": {
      "name": "python"
    },
    "gpuClass": "standard"
  },
  "cells": [
    {
      "cell_type": "markdown",
      "metadata": {
        "id": "view-in-github",
        "colab_type": "text"
      },
      "source": [
        "<a href=\"https://colab.research.google.com/github/ESJoGithub/PythonStudy/blob/main/DeepLearning/MNIST/221102_MNIST_C_sharp%EA%B5%AC%ED%98%84%EC%8B%A4%EC%8A%B5.ipynb\" target=\"_parent\"><img src=\"https://colab.research.google.com/assets/colab-badge.svg\" alt=\"Open In Colab\"/></a>"
      ]
    },
    {
      "cell_type": "code",
      "source": [
        "from google.colab import drive\n",
        "drive.mount('/content/drive')"
      ],
      "metadata": {
        "id": "0MCp873-uRsa",
        "colab": {
          "base_uri": "https://localhost:8080/"
        },
        "outputId": "2582b9b2-7a9e-4342-b11e-d5e3f803a299"
      },
      "execution_count": null,
      "outputs": [
        {
          "output_type": "stream",
          "name": "stdout",
          "text": [
            "Drive already mounted at /content/drive; to attempt to forcibly remount, call drive.mount(\"/content/drive\", force_remount=True).\n"
          ]
        }
      ]
    },
    {
      "cell_type": "code",
      "execution_count": null,
      "metadata": {
        "id": "ZwftyUZKtgJM"
      },
      "outputs": [],
      "source": [
        "import tensorflow as tf\n",
        "from keras import datasets, models, layers"
      ]
    },
    {
      "cell_type": "code",
      "source": [
        "mnist = datasets.mnist\n",
        "\n",
        "(x_train, y_train), (x_test, y_test) = mnist.load_data()"
      ],
      "metadata": {
        "id": "agoZiWNatvBa"
      },
      "execution_count": null,
      "outputs": []
    },
    {
      "cell_type": "code",
      "source": [
        "x_train, x_test = x_train/255.0, x_test/255.0"
      ],
      "metadata": {
        "id": "2q8FETLSt5VA"
      },
      "execution_count": null,
      "outputs": []
    },
    {
      "cell_type": "code",
      "source": [
        "model = models.Sequential([\n",
        "    layers.Flatten(input_shape=(28, 28)),\n",
        "    layers.Dense(128, activation='relu'),\n",
        "    layers.Dropout(0.2),\n",
        "    layers.Dense(10, activation='softmax')\n",
        "])"
      ],
      "metadata": {
        "id": "LBOwgFfMuzbx"
      },
      "execution_count": null,
      "outputs": []
    },
    {
      "cell_type": "code",
      "source": [
        "model.compile(optimizer='adam', loss='sparse_categorical_crossentropy', metrics=['accuracy'])"
      ],
      "metadata": {
        "id": "OgkvBmC8vn36"
      },
      "execution_count": null,
      "outputs": []
    },
    {
      "cell_type": "code",
      "source": [
        "model.fit(x_train, y_train, epochs=50)"
      ],
      "metadata": {
        "colab": {
          "base_uri": "https://localhost:8080/"
        },
        "id": "NlQnZCx7v0BY",
        "outputId": "be66f9ef-bdea-4c85-abac-05b0d79bc278"
      },
      "execution_count": null,
      "outputs": [
        {
          "output_type": "stream",
          "name": "stdout",
          "text": [
            "Epoch 1/50\n",
            "1875/1875 [==============================] - 8s 4ms/step - loss: 0.2942 - accuracy: 0.9144\n",
            "Epoch 2/50\n",
            "1875/1875 [==============================] - 6s 3ms/step - loss: 0.1396 - accuracy: 0.9577\n",
            "Epoch 3/50\n",
            "1875/1875 [==============================] - 7s 4ms/step - loss: 0.1038 - accuracy: 0.9683\n",
            "Epoch 4/50\n",
            "1875/1875 [==============================] - 6s 3ms/step - loss: 0.0882 - accuracy: 0.9727\n",
            "Epoch 5/50\n",
            "1875/1875 [==============================] - 5s 2ms/step - loss: 0.0744 - accuracy: 0.9760\n",
            "Epoch 6/50\n",
            "1875/1875 [==============================] - 5s 2ms/step - loss: 0.0664 - accuracy: 0.9785\n",
            "Epoch 7/50\n",
            "1875/1875 [==============================] - 4s 2ms/step - loss: 0.0567 - accuracy: 0.9819\n",
            "Epoch 8/50\n",
            "1875/1875 [==============================] - 4s 2ms/step - loss: 0.0514 - accuracy: 0.9827\n",
            "Epoch 9/50\n",
            "1875/1875 [==============================] - 5s 2ms/step - loss: 0.0490 - accuracy: 0.9840\n",
            "Epoch 10/50\n",
            "1875/1875 [==============================] - 4s 2ms/step - loss: 0.0452 - accuracy: 0.9848\n",
            "Epoch 11/50\n",
            "1875/1875 [==============================] - 4s 2ms/step - loss: 0.0421 - accuracy: 0.9853\n",
            "Epoch 12/50\n",
            "1875/1875 [==============================] - 5s 3ms/step - loss: 0.0382 - accuracy: 0.9869\n",
            "Epoch 13/50\n",
            "1875/1875 [==============================] - 4s 2ms/step - loss: 0.0351 - accuracy: 0.9886\n",
            "Epoch 14/50\n",
            "1875/1875 [==============================] - 5s 2ms/step - loss: 0.0349 - accuracy: 0.9878\n",
            "Epoch 15/50\n",
            "1875/1875 [==============================] - 5s 2ms/step - loss: 0.0312 - accuracy: 0.9894\n",
            "Epoch 16/50\n",
            "1875/1875 [==============================] - 5s 2ms/step - loss: 0.0306 - accuracy: 0.9896\n",
            "Epoch 17/50\n",
            "1875/1875 [==============================] - 5s 3ms/step - loss: 0.0297 - accuracy: 0.9897\n",
            "Epoch 18/50\n",
            "1875/1875 [==============================] - 5s 2ms/step - loss: 0.0283 - accuracy: 0.9902\n",
            "Epoch 19/50\n",
            "1875/1875 [==============================] - 5s 2ms/step - loss: 0.0278 - accuracy: 0.9906\n",
            "Epoch 20/50\n",
            "1875/1875 [==============================] - 4s 2ms/step - loss: 0.0273 - accuracy: 0.9909\n",
            "Epoch 21/50\n",
            "1875/1875 [==============================] - 5s 2ms/step - loss: 0.0254 - accuracy: 0.9910\n",
            "Epoch 22/50\n",
            "1875/1875 [==============================] - 5s 2ms/step - loss: 0.0239 - accuracy: 0.9918\n",
            "Epoch 23/50\n",
            "1875/1875 [==============================] - 5s 2ms/step - loss: 0.0245 - accuracy: 0.9912\n",
            "Epoch 24/50\n",
            "1875/1875 [==============================] - 5s 2ms/step - loss: 0.0232 - accuracy: 0.9918\n",
            "Epoch 25/50\n",
            "1875/1875 [==============================] - 6s 3ms/step - loss: 0.0232 - accuracy: 0.9922\n",
            "Epoch 26/50\n",
            "1875/1875 [==============================] - 6s 3ms/step - loss: 0.0220 - accuracy: 0.9922\n",
            "Epoch 27/50\n",
            "1875/1875 [==============================] - 5s 2ms/step - loss: 0.0236 - accuracy: 0.9916\n",
            "Epoch 28/50\n",
            "1875/1875 [==============================] - 5s 2ms/step - loss: 0.0224 - accuracy: 0.9922\n",
            "Epoch 29/50\n",
            "1875/1875 [==============================] - 5s 2ms/step - loss: 0.0208 - accuracy: 0.9929\n",
            "Epoch 30/50\n",
            "1875/1875 [==============================] - 5s 2ms/step - loss: 0.0205 - accuracy: 0.9926\n",
            "Epoch 31/50\n",
            "1875/1875 [==============================] - 5s 2ms/step - loss: 0.0186 - accuracy: 0.9937\n",
            "Epoch 32/50\n",
            "1875/1875 [==============================] - 4s 2ms/step - loss: 0.0207 - accuracy: 0.9929\n",
            "Epoch 33/50\n",
            "1875/1875 [==============================] - 5s 2ms/step - loss: 0.0210 - accuracy: 0.9924\n",
            "Epoch 34/50\n",
            "1875/1875 [==============================] - 5s 2ms/step - loss: 0.0187 - accuracy: 0.9935\n",
            "Epoch 35/50\n",
            "1875/1875 [==============================] - 4s 2ms/step - loss: 0.0195 - accuracy: 0.9932\n",
            "Epoch 36/50\n",
            "1875/1875 [==============================] - 4s 2ms/step - loss: 0.0187 - accuracy: 0.9938\n",
            "Epoch 37/50\n",
            "1875/1875 [==============================] - 4s 2ms/step - loss: 0.0170 - accuracy: 0.9943\n",
            "Epoch 38/50\n",
            "1875/1875 [==============================] - 5s 2ms/step - loss: 0.0162 - accuracy: 0.9946\n",
            "Epoch 39/50\n",
            "1875/1875 [==============================] - 4s 2ms/step - loss: 0.0179 - accuracy: 0.9937\n",
            "Epoch 40/50\n",
            "1875/1875 [==============================] - 5s 2ms/step - loss: 0.0171 - accuracy: 0.9939\n",
            "Epoch 41/50\n",
            "1875/1875 [==============================] - 5s 2ms/step - loss: 0.0173 - accuracy: 0.9941\n",
            "Epoch 42/50\n",
            "1875/1875 [==============================] - 5s 2ms/step - loss: 0.0173 - accuracy: 0.9940\n",
            "Epoch 43/50\n",
            "1875/1875 [==============================] - 4s 2ms/step - loss: 0.0169 - accuracy: 0.9943\n",
            "Epoch 44/50\n",
            "1875/1875 [==============================] - 5s 3ms/step - loss: 0.0174 - accuracy: 0.9944\n",
            "Epoch 45/50\n",
            "1875/1875 [==============================] - 5s 2ms/step - loss: 0.0177 - accuracy: 0.9940\n",
            "Epoch 46/50\n",
            "1875/1875 [==============================] - 5s 2ms/step - loss: 0.0143 - accuracy: 0.9951\n",
            "Epoch 47/50\n",
            "1875/1875 [==============================] - 5s 2ms/step - loss: 0.0161 - accuracy: 0.9943\n",
            "Epoch 48/50\n",
            "1875/1875 [==============================] - 5s 2ms/step - loss: 0.0169 - accuracy: 0.9942\n",
            "Epoch 49/50\n",
            "1875/1875 [==============================] - 5s 2ms/step - loss: 0.0155 - accuracy: 0.9945\n",
            "Epoch 50/50\n",
            "1875/1875 [==============================] - 5s 2ms/step - loss: 0.0154 - accuracy: 0.9946\n"
          ]
        },
        {
          "output_type": "execute_result",
          "data": {
            "text/plain": [
              "<keras.callbacks.History at 0x7f55be735910>"
            ]
          },
          "metadata": {},
          "execution_count": 26
        }
      ]
    },
    {
      "cell_type": "code",
      "source": [
        "model.evaluate(x_test, y_test, verbose=2)"
      ],
      "metadata": {
        "colab": {
          "base_uri": "https://localhost:8080/"
        },
        "id": "VK76mHeswbBo",
        "outputId": "21b2d47b-ed41-49f6-dd37-3029b0c93f27"
      },
      "execution_count": null,
      "outputs": [
        {
          "output_type": "stream",
          "name": "stdout",
          "text": [
            "313/313 - 1s - loss: 0.1079 - accuracy: 0.9818 - 677ms/epoch - 2ms/step\n"
          ]
        },
        {
          "output_type": "execute_result",
          "data": {
            "text/plain": [
              "[0.10794029384851456, 0.9818000197410583]"
            ]
          },
          "metadata": {},
          "execution_count": 27
        }
      ]
    },
    {
      "cell_type": "code",
      "source": [
        "model.save('/content/drive/MyDrive/mnist_C#/mnist.h5')"
      ],
      "metadata": {
        "id": "ez2II66TwXhx"
      },
      "execution_count": null,
      "outputs": []
    },
    {
      "cell_type": "markdown",
      "source": [
        "HDF5 → PB"
      ],
      "metadata": {
        "id": "fQ7JQ8xn189Z"
      }
    },
    {
      "cell_type": "code",
      "source": [
        "!pip install tf2onnx"
      ],
      "metadata": {
        "id": "eumsOuAqxY2i",
        "colab": {
          "base_uri": "https://localhost:8080/"
        },
        "outputId": "e9bf7f71-c004-463a-df7a-a9c7573f2772"
      },
      "execution_count": null,
      "outputs": [
        {
          "output_type": "stream",
          "name": "stdout",
          "text": [
            "Looking in indexes: https://pypi.org/simple, https://us-python.pkg.dev/colab-wheels/public/simple/\n",
            "Collecting tf2onnx\n",
            "  Downloading tf2onnx-1.12.1-py3-none-any.whl (442 kB)\n",
            "\u001b[K     |████████████████████████████████| 442 kB 5.2 MB/s \n",
            "\u001b[?25hRequirement already satisfied: numpy>=1.14.1 in /usr/local/lib/python3.7/dist-packages (from tf2onnx) (1.21.6)\n",
            "Collecting onnx>=1.4.1\n",
            "  Downloading onnx-1.12.0-cp37-cp37m-manylinux_2_17_x86_64.manylinux2014_x86_64.whl (13.1 MB)\n",
            "\u001b[K     |████████████████████████████████| 13.1 MB 49.6 MB/s \n",
            "\u001b[?25hRequirement already satisfied: six in /usr/local/lib/python3.7/dist-packages (from tf2onnx) (1.15.0)\n",
            "Requirement already satisfied: requests in /usr/local/lib/python3.7/dist-packages (from tf2onnx) (2.23.0)\n",
            "Requirement already satisfied: flatbuffers~=1.12 in /usr/local/lib/python3.7/dist-packages (from tf2onnx) (1.12)\n",
            "Requirement already satisfied: protobuf<=3.20.1,>=3.12.2 in /usr/local/lib/python3.7/dist-packages (from onnx>=1.4.1->tf2onnx) (3.17.3)\n",
            "Requirement already satisfied: typing-extensions>=3.6.2.1 in /usr/local/lib/python3.7/dist-packages (from onnx>=1.4.1->tf2onnx) (4.1.1)\n",
            "Requirement already satisfied: idna<3,>=2.5 in /usr/local/lib/python3.7/dist-packages (from requests->tf2onnx) (2.10)\n",
            "Requirement already satisfied: certifi>=2017.4.17 in /usr/local/lib/python3.7/dist-packages (from requests->tf2onnx) (2022.9.24)\n",
            "Requirement already satisfied: urllib3!=1.25.0,!=1.25.1,<1.26,>=1.21.1 in /usr/local/lib/python3.7/dist-packages (from requests->tf2onnx) (1.24.3)\n",
            "Requirement already satisfied: chardet<4,>=3.0.2 in /usr/local/lib/python3.7/dist-packages (from requests->tf2onnx) (3.0.4)\n",
            "Installing collected packages: onnx, tf2onnx\n",
            "Successfully installed onnx-1.12.0 tf2onnx-1.12.1\n"
          ]
        }
      ]
    },
    {
      "cell_type": "code",
      "source": [
        "model = models.load_model('/content/drive/MyDrive/mnist_C#/mnist.h5', compile=False)"
      ],
      "metadata": {
        "id": "aCrzmD_FxdHo"
      },
      "execution_count": null,
      "outputs": []
    },
    {
      "cell_type": "code",
      "source": [
        "model.save('/content/drive/MyDrive/mnist_C#/model', save_format=\"tf\")"
      ],
      "metadata": {
        "colab": {
          "base_uri": "https://localhost:8080/"
        },
        "id": "eyfCdLpBxpFp",
        "outputId": "7a1fd17d-484a-407f-97a7-28421080f499"
      },
      "execution_count": null,
      "outputs": [
        {
          "output_type": "stream",
          "name": "stderr",
          "text": [
            "WARNING:tensorflow:Compiled the loaded model, but the compiled metrics have yet to be built. `model.compile_metrics` will be empty until you train or evaluate the model.\n"
          ]
        }
      ]
    },
    {
      "cell_type": "markdown",
      "source": [
        "PB → ONNX"
      ],
      "metadata": {
        "id": "2Nt6Fx4N2OXR"
      }
    },
    {
      "cell_type": "code",
      "source": [
        "import os"
      ],
      "metadata": {
        "id": "kt1-_A9fx4tY"
      },
      "execution_count": null,
      "outputs": []
    },
    {
      "cell_type": "code",
      "source": [
        "os.system('python -m tf2onnx.convert --saved-model ./model/ --output model.onnx --opset 13')"
      ],
      "metadata": {
        "colab": {
          "base_uri": "https://localhost:8080/"
        },
        "id": "N33e9e3nyAMR",
        "outputId": "b5062bbc-eb25-4ef1-a91d-b3186d8010eb"
      },
      "execution_count": null,
      "outputs": [
        {
          "output_type": "execute_result",
          "data": {
            "text/plain": [
              "256"
            ]
          },
          "metadata": {},
          "execution_count": 6
        }
      ]
    },
    {
      "cell_type": "code",
      "source": [
        "!mv model.onnx /content/drive/MyDrive/mnist_C#"
      ],
      "metadata": {
        "id": "c5DOvOtY3wtw"
      },
      "execution_count": null,
      "outputs": []
    },
    {
      "cell_type": "markdown",
      "source": [
        "### MNIST BEST_MODEL 적용해보기"
      ],
      "metadata": {
        "id": "NhpwExIyCMTX"
      }
    },
    {
      "cell_type": "code",
      "source": [
        "model2 = models.load_model('/content/drive/MyDrive/mnist/try05_3.h5')\n",
        "model2.save('/content/drive/MyDrive/mnist_C#/model2', save_format=\"tf\")\n",
        "os.system('python -m tf2onnx.convert --saved-model /content/drive/MyDrive/mnist_C#/model2/ --output /content/drive/MyDrive/mnist_C#/model2.onnx --opset 13')"
      ],
      "metadata": {
        "colab": {
          "base_uri": "https://localhost:8080/"
        },
        "id": "odVkmzE9_z64",
        "outputId": "6a74c033-f087-40b7-d7ab-815b73f5f234"
      },
      "execution_count": null,
      "outputs": [
        {
          "output_type": "stream",
          "name": "stderr",
          "text": [
            "WARNING:absl:Found untraced functions such as _jit_compiled_convolution_op, _jit_compiled_convolution_op, _jit_compiled_convolution_op while saving (showing 3 of 3). These functions will not be directly callable after loading.\n"
          ]
        },
        {
          "output_type": "execute_result",
          "data": {
            "text/plain": [
              "0"
            ]
          },
          "metadata": {},
          "execution_count": 9
        }
      ]
    }
  ]
}