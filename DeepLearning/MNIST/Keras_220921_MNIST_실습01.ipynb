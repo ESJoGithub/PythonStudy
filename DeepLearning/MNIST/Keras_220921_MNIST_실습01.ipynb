{
  "nbformat": 4,
  "nbformat_minor": 0,
  "metadata": {
    "colab": {
      "provenance": [],
      "collapsed_sections": [],
      "include_colab_link": true
    },
    "kernelspec": {
      "name": "python3",
      "display_name": "Python 3"
    },
    "language_info": {
      "name": "python"
    }
  },
  "cells": [
    {
      "cell_type": "markdown",
      "metadata": {
        "id": "view-in-github",
        "colab_type": "text"
      },
      "source": [
        "<a href=\"https://colab.research.google.com/github/ESJoGithub/PythonStudy/blob/main/Keras_220921_MNIST_%EC%8B%A4%EC%8A%B501.ipynb\" target=\"_parent\"><img src=\"https://colab.research.google.com/assets/colab-badge.svg\" alt=\"Open In Colab\"/></a>"
      ]
    },
    {
      "cell_type": "code",
      "source": [
        "from google.colab import drive\n",
        "drive.mount('/content/drive')"
      ],
      "metadata": {
        "id": "oxtO2zTTtPq3",
        "outputId": "25dece41-db5c-446d-d806-7f4965c7dc75",
        "colab": {
          "base_uri": "https://localhost:8080/"
        }
      },
      "execution_count": null,
      "outputs": [
        {
          "output_type": "stream",
          "name": "stdout",
          "text": [
            "Mounted at /content/drive\n"
          ]
        }
      ]
    },
    {
      "cell_type": "code",
      "source": [
        "!ln -s /content/drive/MyDrive /mydrive"
      ],
      "metadata": {
        "id": "e2ZTrV_htIFl"
      },
      "execution_count": null,
      "outputs": []
    },
    {
      "cell_type": "code",
      "source": [
        "%cd /mydrive"
      ],
      "metadata": {
        "id": "B9ry3cBStVU1",
        "colab": {
          "base_uri": "https://localhost:8080/"
        },
        "outputId": "ac68d03a-6faa-4a98-ddf7-d0f97b1d2717"
      },
      "execution_count": null,
      "outputs": [
        {
          "output_type": "stream",
          "name": "stdout",
          "text": [
            "/content/drive/MyDrive\n"
          ]
        }
      ]
    },
    {
      "cell_type": "code",
      "source": [
        "!mkdir mnist"
      ],
      "metadata": {
        "id": "98FN5iLDtXqb"
      },
      "execution_count": null,
      "outputs": []
    },
    {
      "cell_type": "markdown",
      "source": [
        "## __CNN Layer 구조 변경 & 드롭아웃 일괄적용__\n",
        "---\n",
        "epoch수를 늘리고 callback함수를 넣되 patience 횟수를 키운다.\n",
        "\n",
        "SGD, adam, rmsprop 각 optimizer별 batch_size를 변경해볼 것"
      ],
      "metadata": {
        "id": "19CLRpWxwL5T"
      }
    },
    {
      "cell_type": "markdown",
      "source": [
        "### **1. Library Import**"
      ],
      "metadata": {
        "id": "9Tx44ggmYNsD"
      }
    },
    {
      "cell_type": "code",
      "source": [
        "from keras import datasets, layers, models                \n",
        "from tensorflow import keras                         # to_categorical 함수\n",
        "from tensorflow.keras.models import load_model\n",
        "from tensorflow.keras.callbacks import EarlyStopping, ModelCheckpoint\n",
        "\n",
        "import numpy as np\n",
        "import matplotlib.pyplot as plt\n",
        "import pandas as pd"
      ],
      "metadata": {
        "id": "UFco5dLCQBQF"
      },
      "execution_count": null,
      "outputs": []
    },
    {
      "cell_type": "code",
      "source": [
        "(train_imgs, train_labels), (test_imgs, test_labels) = datasets.mnist.load_data()"
      ],
      "metadata": {
        "id": "rwcqMzdKTPwN",
        "colab": {
          "base_uri": "https://localhost:8080/"
        },
        "outputId": "d09b49f5-c304-452c-e07e-471afaccaffd"
      },
      "execution_count": null,
      "outputs": [
        {
          "output_type": "stream",
          "name": "stdout",
          "text": [
            "Downloading data from https://storage.googleapis.com/tensorflow/tf-keras-datasets/mnist.npz\n",
            "11493376/11490434 [==============================] - 1s 0us/step\n",
            "11501568/11490434 [==============================] - 1s 0us/step\n"
          ]
        }
      ]
    },
    {
      "cell_type": "markdown",
      "source": [
        "### **2. 데이터 확인 및 전처리**"
      ],
      "metadata": {
        "id": "vcIHfL7pYJps"
      }
    },
    {
      "cell_type": "code",
      "source": [
        "train_imgs = train_imgs/255.0\n",
        "test_imgs = test_imgs/255.0"
      ],
      "metadata": {
        "id": "w4IFaKuOYIfc"
      },
      "execution_count": null,
      "outputs": []
    },
    {
      "cell_type": "code",
      "source": [
        "print(train_imgs.shape)\n",
        "print(test_imgs.shape)"
      ],
      "metadata": {
        "id": "A9ujYrDMiRy1",
        "colab": {
          "base_uri": "https://localhost:8080/"
        },
        "outputId": "31c39fcb-8d55-410f-be37-a8b3851005d9"
      },
      "execution_count": null,
      "outputs": [
        {
          "output_type": "stream",
          "name": "stdout",
          "text": [
            "(60000, 28, 28)\n",
            "(10000, 28, 28)\n"
          ]
        }
      ]
    },
    {
      "cell_type": "code",
      "source": [
        "train_imgs = train_imgs.reshape((60000, 28, 28, 1))\n",
        "test_imgs = test_imgs.reshape((10000, 28, 28, 1))"
      ],
      "metadata": {
        "id": "5IGxhDfjiN7d"
      },
      "execution_count": null,
      "outputs": []
    },
    {
      "cell_type": "code",
      "source": [
        "train_labels = keras.utils.to_categorical(train_labels, num_classes=10)\n",
        "test_labels = keras.utils.to_categorical(test_labels, num_classes=10)"
      ],
      "metadata": {
        "id": "ouDs40X-n_uw"
      },
      "execution_count": null,
      "outputs": []
    },
    {
      "cell_type": "markdown",
      "source": [
        "### __모델 변경__\n",
        "\n",
        "---\n",
        "CNN 특성 및 MNIST 자료 특성을 고려할 때, 초기의 세부적인 데이터 정보보다 여러 필터를 거치고난 후의 구조적인 특징정보가 판단에 더 중요할 것이라고 가정하고 출력층에 가까울수록 필터 수를 점점 키워 가중치 변화에 따른 영향을 줄여나가는 방식으로 수정\n",
        "\n",
        "Dropout 추가 (64-0.2, 128-0.5)\n",
        "epoch=100 EarlyStop patient = 10으로 키워서 진행해본다. "
      ],
      "metadata": {
        "id": "NTqxfKdbYvVL"
      }
    },
    {
      "cell_type": "markdown",
      "source": [
        "#### __1. batch_size default(32), 출력 직전층 activation='sigmoid', optimizer='SGD'__ "
      ],
      "metadata": {
        "id": "CMdQEIi7gG_d"
      }
    },
    {
      "cell_type": "code",
      "source": [
        "import keras"
      ],
      "metadata": {
        "id": "EtDrGU7LlR96"
      },
      "execution_count": null,
      "outputs": []
    },
    {
      "cell_type": "code",
      "source": [
        "model_1 = keras.Sequential([\n",
        "  layers.Conv2D(32, (3, 3), activation='relu', input_shape=(28, 28, 1)),\n",
        "  layers.Dropout(0.2),\n",
        "  layers.MaxPooling2D((2, 2)),\n",
        "  layers.Conv2D(64, (3, 3), activation='relu'),\n",
        "  layers.Dropout(0.2),\n",
        "  layers.MaxPooling2D((2, 2)),\n",
        "  layers.Conv2D(128, (3, 3), activation='relu'),\n",
        "  layers.Dropout(0.5),\n",
        "  layers.Flatten(),\n",
        "  layers.Dense(64, activation = 'sigmoid'),\n",
        "  layers.Dense(10, activation = 'softmax')\n",
        "])\n",
        "model_1.summary()"
      ],
      "metadata": {
        "id": "LSy5b6TEYmJj",
        "colab": {
          "base_uri": "https://localhost:8080/"
        },
        "outputId": "f66253c1-016e-4bf7-b1f8-68f9c4b029e8"
      },
      "execution_count": null,
      "outputs": [
        {
          "output_type": "stream",
          "name": "stdout",
          "text": [
            "Model: \"sequential\"\n",
            "_________________________________________________________________\n",
            " Layer (type)                Output Shape              Param #   \n",
            "=================================================================\n",
            " conv2d (Conv2D)             (None, 26, 26, 32)        320       \n",
            "                                                                 \n",
            " dropout (Dropout)           (None, 26, 26, 32)        0         \n",
            "                                                                 \n",
            " max_pooling2d (MaxPooling2D  (None, 13, 13, 32)       0         \n",
            " )                                                               \n",
            "                                                                 \n",
            " conv2d_1 (Conv2D)           (None, 11, 11, 64)        18496     \n",
            "                                                                 \n",
            " dropout_1 (Dropout)         (None, 11, 11, 64)        0         \n",
            "                                                                 \n",
            " max_pooling2d_1 (MaxPooling  (None, 5, 5, 64)         0         \n",
            " 2D)                                                             \n",
            "                                                                 \n",
            " conv2d_2 (Conv2D)           (None, 3, 3, 128)         73856     \n",
            "                                                                 \n",
            " dropout_2 (Dropout)         (None, 3, 3, 128)         0         \n",
            "                                                                 \n",
            " flatten (Flatten)           (None, 1152)              0         \n",
            "                                                                 \n",
            " dense (Dense)               (None, 64)                73792     \n",
            "                                                                 \n",
            " dense_1 (Dense)             (None, 10)                650       \n",
            "                                                                 \n",
            "=================================================================\n",
            "Total params: 167,114\n",
            "Trainable params: 167,114\n",
            "Non-trainable params: 0\n",
            "_________________________________________________________________\n"
          ]
        }
      ]
    },
    {
      "cell_type": "code",
      "source": [
        "model_1.compile(optimizer=\"SGD\", loss=\"categorical_crossentropy\", metrics=[\"accuracy\"])"
      ],
      "metadata": {
        "id": "rIRHwKY3gm2w"
      },
      "execution_count": null,
      "outputs": []
    },
    {
      "cell_type": "code",
      "source": [
        "es = EarlyStopping(monitor='val_loss', mode='min', verbose=1, patience=10)\n",
        "mc = ModelCheckpoint('mnist/try01.h5', monitor='val_accuracy', mode='max', verbose=1, save_best_only=True)\n",
        "hist_1 = model_1.fit(train_imgs, train_labels, epochs=100, validation_split=0.2, callbacks=[es, mc])"
      ],
      "metadata": {
        "id": "rmGRWjkknkZo",
        "colab": {
          "base_uri": "https://localhost:8080/"
        },
        "outputId": "911a3c20-f661-4e54-fd07-739ed01f1106"
      },
      "execution_count": null,
      "outputs": [
        {
          "output_type": "stream",
          "name": "stdout",
          "text": [
            "Epoch 1/100\n",
            "1499/1500 [============================>.] - ETA: 0s - loss: 1.3171 - accuracy: 0.6249\n",
            "Epoch 1: val_accuracy improved from -inf to 0.88975, saving model to mnist/try01.h5\n",
            "1500/1500 [==============================] - 18s 4ms/step - loss: 1.3165 - accuracy: 0.6250 - val_loss: 0.5019 - val_accuracy: 0.8898\n",
            "Epoch 2/100\n",
            "1487/1500 [============================>.] - ETA: 0s - loss: 0.4338 - accuracy: 0.8860\n",
            "Epoch 2: val_accuracy improved from 0.88975 to 0.93558, saving model to mnist/try01.h5\n",
            "1500/1500 [==============================] - 7s 4ms/step - loss: 0.4332 - accuracy: 0.8862 - val_loss: 0.2736 - val_accuracy: 0.9356\n",
            "Epoch 3/100\n",
            "1499/1500 [============================>.] - ETA: 0s - loss: 0.2841 - accuracy: 0.9216\n",
            "Epoch 3: val_accuracy improved from 0.93558 to 0.95000, saving model to mnist/try01.h5\n",
            "1500/1500 [==============================] - 7s 5ms/step - loss: 0.2840 - accuracy: 0.9216 - val_loss: 0.1941 - val_accuracy: 0.9500\n",
            "Epoch 4/100\n",
            "1499/1500 [============================>.] - ETA: 0s - loss: 0.2193 - accuracy: 0.9385\n",
            "Epoch 4: val_accuracy improved from 0.95000 to 0.96183, saving model to mnist/try01.h5\n",
            "1500/1500 [==============================] - 6s 4ms/step - loss: 0.2194 - accuracy: 0.9385 - val_loss: 0.1499 - val_accuracy: 0.9618\n",
            "Epoch 5/100\n",
            "1495/1500 [============================>.] - ETA: 0s - loss: 0.1821 - accuracy: 0.9487\n",
            "Epoch 5: val_accuracy improved from 0.96183 to 0.96542, saving model to mnist/try01.h5\n",
            "1500/1500 [==============================] - 7s 5ms/step - loss: 0.1821 - accuracy: 0.9487 - val_loss: 0.1280 - val_accuracy: 0.9654\n",
            "Epoch 6/100\n",
            "1488/1500 [============================>.] - ETA: 0s - loss: 0.1576 - accuracy: 0.9550\n",
            "Epoch 6: val_accuracy improved from 0.96542 to 0.96892, saving model to mnist/try01.h5\n",
            "1500/1500 [==============================] - 7s 5ms/step - loss: 0.1574 - accuracy: 0.9551 - val_loss: 0.1130 - val_accuracy: 0.9689\n",
            "Epoch 7/100\n",
            "1490/1500 [============================>.] - ETA: 0s - loss: 0.1410 - accuracy: 0.9589\n",
            "Epoch 7: val_accuracy improved from 0.96892 to 0.97125, saving model to mnist/try01.h5\n",
            "1500/1500 [==============================] - 7s 4ms/step - loss: 0.1407 - accuracy: 0.9590 - val_loss: 0.1043 - val_accuracy: 0.9712\n",
            "Epoch 8/100\n",
            "1488/1500 [============================>.] - ETA: 0s - loss: 0.1288 - accuracy: 0.9624\n",
            "Epoch 8: val_accuracy improved from 0.97125 to 0.97608, saving model to mnist/try01.h5\n",
            "1500/1500 [==============================] - 7s 5ms/step - loss: 0.1289 - accuracy: 0.9624 - val_loss: 0.0918 - val_accuracy: 0.9761\n",
            "Epoch 9/100\n",
            "1494/1500 [============================>.] - ETA: 0s - loss: 0.1192 - accuracy: 0.9646\n",
            "Epoch 9: val_accuracy improved from 0.97608 to 0.97817, saving model to mnist/try01.h5\n",
            "1500/1500 [==============================] - 7s 4ms/step - loss: 0.1193 - accuracy: 0.9646 - val_loss: 0.0833 - val_accuracy: 0.9782\n",
            "Epoch 10/100\n",
            "1494/1500 [============================>.] - ETA: 0s - loss: 0.1095 - accuracy: 0.9675\n",
            "Epoch 10: val_accuracy improved from 0.97817 to 0.97883, saving model to mnist/try01.h5\n",
            "1500/1500 [==============================] - 7s 4ms/step - loss: 0.1094 - accuracy: 0.9675 - val_loss: 0.0783 - val_accuracy: 0.9788\n",
            "Epoch 11/100\n",
            "1495/1500 [============================>.] - ETA: 0s - loss: 0.1024 - accuracy: 0.9695\n",
            "Epoch 11: val_accuracy improved from 0.97883 to 0.98008, saving model to mnist/try01.h5\n",
            "1500/1500 [==============================] - 7s 5ms/step - loss: 0.1022 - accuracy: 0.9696 - val_loss: 0.0731 - val_accuracy: 0.9801\n",
            "Epoch 12/100\n",
            "1496/1500 [============================>.] - ETA: 0s - loss: 0.0947 - accuracy: 0.9715\n",
            "Epoch 12: val_accuracy improved from 0.98008 to 0.98100, saving model to mnist/try01.h5\n",
            "1500/1500 [==============================] - 7s 4ms/step - loss: 0.0946 - accuracy: 0.9715 - val_loss: 0.0699 - val_accuracy: 0.9810\n",
            "Epoch 13/100\n",
            "1491/1500 [============================>.] - ETA: 0s - loss: 0.0905 - accuracy: 0.9731\n",
            "Epoch 13: val_accuracy improved from 0.98100 to 0.98258, saving model to mnist/try01.h5\n",
            "1500/1500 [==============================] - 7s 4ms/step - loss: 0.0905 - accuracy: 0.9731 - val_loss: 0.0658 - val_accuracy: 0.9826\n",
            "Epoch 14/100\n",
            "1493/1500 [============================>.] - ETA: 0s - loss: 0.0864 - accuracy: 0.9744\n",
            "Epoch 14: val_accuracy did not improve from 0.98258\n",
            "1500/1500 [==============================] - 10s 6ms/step - loss: 0.0864 - accuracy: 0.9744 - val_loss: 0.0647 - val_accuracy: 0.9824\n",
            "Epoch 15/100\n",
            "1498/1500 [============================>.] - ETA: 0s - loss: 0.0826 - accuracy: 0.9751\n",
            "Epoch 15: val_accuracy improved from 0.98258 to 0.98333, saving model to mnist/try01.h5\n",
            "1500/1500 [==============================] - 7s 4ms/step - loss: 0.0825 - accuracy: 0.9751 - val_loss: 0.0612 - val_accuracy: 0.9833\n",
            "Epoch 16/100\n",
            "1491/1500 [============================>.] - ETA: 0s - loss: 0.0787 - accuracy: 0.9767\n",
            "Epoch 16: val_accuracy improved from 0.98333 to 0.98383, saving model to mnist/try01.h5\n",
            "1500/1500 [==============================] - 7s 4ms/step - loss: 0.0786 - accuracy: 0.9768 - val_loss: 0.0592 - val_accuracy: 0.9838\n",
            "Epoch 17/100\n",
            "1490/1500 [============================>.] - ETA: 0s - loss: 0.0756 - accuracy: 0.9778\n",
            "Epoch 17: val_accuracy improved from 0.98383 to 0.98475, saving model to mnist/try01.h5\n",
            "1500/1500 [==============================] - 7s 5ms/step - loss: 0.0757 - accuracy: 0.9778 - val_loss: 0.0571 - val_accuracy: 0.9847\n",
            "Epoch 18/100\n",
            "1495/1500 [============================>.] - ETA: 0s - loss: 0.0734 - accuracy: 0.9777\n",
            "Epoch 18: val_accuracy improved from 0.98475 to 0.98583, saving model to mnist/try01.h5\n",
            "1500/1500 [==============================] - 7s 4ms/step - loss: 0.0733 - accuracy: 0.9777 - val_loss: 0.0547 - val_accuracy: 0.9858\n",
            "Epoch 19/100\n",
            "1490/1500 [============================>.] - ETA: 0s - loss: 0.0698 - accuracy: 0.9792\n",
            "Epoch 19: val_accuracy did not improve from 0.98583\n",
            "1500/1500 [==============================] - 6s 4ms/step - loss: 0.0699 - accuracy: 0.9792 - val_loss: 0.0528 - val_accuracy: 0.9858\n",
            "Epoch 20/100\n",
            "1493/1500 [============================>.] - ETA: 0s - loss: 0.0662 - accuracy: 0.9800\n",
            "Epoch 20: val_accuracy improved from 0.98583 to 0.98633, saving model to mnist/try01.h5\n",
            "1500/1500 [==============================] - 7s 5ms/step - loss: 0.0661 - accuracy: 0.9800 - val_loss: 0.0519 - val_accuracy: 0.9863\n",
            "Epoch 21/100\n",
            "1488/1500 [============================>.] - ETA: 0s - loss: 0.0648 - accuracy: 0.9804\n",
            "Epoch 21: val_accuracy did not improve from 0.98633\n",
            "1500/1500 [==============================] - 6s 4ms/step - loss: 0.0647 - accuracy: 0.9804 - val_loss: 0.0514 - val_accuracy: 0.9862\n",
            "Epoch 22/100\n",
            "1499/1500 [============================>.] - ETA: 0s - loss: 0.0646 - accuracy: 0.9805\n",
            "Epoch 22: val_accuracy improved from 0.98633 to 0.98667, saving model to mnist/try01.h5\n",
            "1500/1500 [==============================] - 7s 5ms/step - loss: 0.0645 - accuracy: 0.9805 - val_loss: 0.0497 - val_accuracy: 0.9867\n",
            "Epoch 23/100\n",
            "1489/1500 [============================>.] - ETA: 0s - loss: 0.0600 - accuracy: 0.9817\n",
            "Epoch 23: val_accuracy did not improve from 0.98667\n",
            "1500/1500 [==============================] - 7s 5ms/step - loss: 0.0603 - accuracy: 0.9815 - val_loss: 0.0488 - val_accuracy: 0.9865\n",
            "Epoch 24/100\n",
            "1496/1500 [============================>.] - ETA: 0s - loss: 0.0601 - accuracy: 0.9817\n",
            "Epoch 24: val_accuracy improved from 0.98667 to 0.98783, saving model to mnist/try01.h5\n",
            "1500/1500 [==============================] - 7s 5ms/step - loss: 0.0600 - accuracy: 0.9816 - val_loss: 0.0470 - val_accuracy: 0.9878\n",
            "Epoch 25/100\n",
            "1493/1500 [============================>.] - ETA: 0s - loss: 0.0561 - accuracy: 0.9837\n",
            "Epoch 25: val_accuracy did not improve from 0.98783\n",
            "1500/1500 [==============================] - 7s 5ms/step - loss: 0.0561 - accuracy: 0.9836 - val_loss: 0.0470 - val_accuracy: 0.9868\n",
            "Epoch 26/100\n",
            "1491/1500 [============================>.] - ETA: 0s - loss: 0.0563 - accuracy: 0.9826\n",
            "Epoch 26: val_accuracy did not improve from 0.98783\n",
            "1500/1500 [==============================] - 7s 5ms/step - loss: 0.0563 - accuracy: 0.9826 - val_loss: 0.0461 - val_accuracy: 0.9876\n",
            "Epoch 27/100\n",
            "1495/1500 [============================>.] - ETA: 0s - loss: 0.0542 - accuracy: 0.9837\n",
            "Epoch 27: val_accuracy did not improve from 0.98783\n",
            "1500/1500 [==============================] - 6s 4ms/step - loss: 0.0543 - accuracy: 0.9837 - val_loss: 0.0457 - val_accuracy: 0.9870\n",
            "Epoch 28/100\n",
            "1500/1500 [==============================] - ETA: 0s - loss: 0.0557 - accuracy: 0.9827\n",
            "Epoch 28: val_accuracy improved from 0.98783 to 0.98817, saving model to mnist/try01.h5\n",
            "1500/1500 [==============================] - 6s 4ms/step - loss: 0.0557 - accuracy: 0.9827 - val_loss: 0.0454 - val_accuracy: 0.9882\n",
            "Epoch 29/100\n",
            "1499/1500 [============================>.] - ETA: 0s - loss: 0.0513 - accuracy: 0.9843\n",
            "Epoch 29: val_accuracy improved from 0.98817 to 0.98908, saving model to mnist/try01.h5\n",
            "1500/1500 [==============================] - 7s 5ms/step - loss: 0.0512 - accuracy: 0.9843 - val_loss: 0.0428 - val_accuracy: 0.9891\n",
            "Epoch 30/100\n",
            "1496/1500 [============================>.] - ETA: 0s - loss: 0.0508 - accuracy: 0.9846\n",
            "Epoch 30: val_accuracy did not improve from 0.98908\n",
            "1500/1500 [==============================] - 7s 4ms/step - loss: 0.0508 - accuracy: 0.9846 - val_loss: 0.0445 - val_accuracy: 0.9883\n",
            "Epoch 31/100\n",
            "1491/1500 [============================>.] - ETA: 0s - loss: 0.0514 - accuracy: 0.9846\n",
            "Epoch 31: val_accuracy did not improve from 0.98908\n",
            "1500/1500 [==============================] - 7s 4ms/step - loss: 0.0513 - accuracy: 0.9845 - val_loss: 0.0416 - val_accuracy: 0.9889\n",
            "Epoch 32/100\n",
            "1497/1500 [============================>.] - ETA: 0s - loss: 0.0483 - accuracy: 0.9855\n",
            "Epoch 32: val_accuracy did not improve from 0.98908\n",
            "1500/1500 [==============================] - 7s 4ms/step - loss: 0.0483 - accuracy: 0.9855 - val_loss: 0.0410 - val_accuracy: 0.9882\n",
            "Epoch 33/100\n",
            "1491/1500 [============================>.] - ETA: 0s - loss: 0.0481 - accuracy: 0.9851\n",
            "Epoch 33: val_accuracy did not improve from 0.98908\n",
            "1500/1500 [==============================] - 7s 4ms/step - loss: 0.0480 - accuracy: 0.9851 - val_loss: 0.0420 - val_accuracy: 0.9887\n",
            "Epoch 34/100\n",
            "1495/1500 [============================>.] - ETA: 0s - loss: 0.0450 - accuracy: 0.9859\n",
            "Epoch 34: val_accuracy improved from 0.98908 to 0.98933, saving model to mnist/try01.h5\n",
            "1500/1500 [==============================] - 7s 5ms/step - loss: 0.0450 - accuracy: 0.9859 - val_loss: 0.0405 - val_accuracy: 0.9893\n",
            "Epoch 35/100\n",
            "1499/1500 [============================>.] - ETA: 0s - loss: 0.0461 - accuracy: 0.9857\n",
            "Epoch 35: val_accuracy did not improve from 0.98933\n",
            "1500/1500 [==============================] - 6s 4ms/step - loss: 0.0461 - accuracy: 0.9858 - val_loss: 0.0406 - val_accuracy: 0.9887\n",
            "Epoch 36/100\n",
            "1490/1500 [============================>.] - ETA: 0s - loss: 0.0458 - accuracy: 0.9856\n",
            "Epoch 36: val_accuracy improved from 0.98933 to 0.98958, saving model to mnist/try01.h5\n",
            "1500/1500 [==============================] - 7s 4ms/step - loss: 0.0457 - accuracy: 0.9856 - val_loss: 0.0398 - val_accuracy: 0.9896\n",
            "Epoch 37/100\n",
            "1488/1500 [============================>.] - ETA: 0s - loss: 0.0441 - accuracy: 0.9865\n",
            "Epoch 37: val_accuracy did not improve from 0.98958\n",
            "1500/1500 [==============================] - 6s 4ms/step - loss: 0.0443 - accuracy: 0.9864 - val_loss: 0.0402 - val_accuracy: 0.9890\n",
            "Epoch 38/100\n",
            "1497/1500 [============================>.] - ETA: 0s - loss: 0.0433 - accuracy: 0.9864\n",
            "Epoch 38: val_accuracy did not improve from 0.98958\n",
            "1500/1500 [==============================] - 6s 4ms/step - loss: 0.0433 - accuracy: 0.9865 - val_loss: 0.0395 - val_accuracy: 0.9891\n",
            "Epoch 39/100\n",
            "1500/1500 [==============================] - ETA: 0s - loss: 0.0435 - accuracy: 0.9870\n",
            "Epoch 39: val_accuracy improved from 0.98958 to 0.98975, saving model to mnist/try01.h5\n",
            "1500/1500 [==============================] - 7s 5ms/step - loss: 0.0435 - accuracy: 0.9870 - val_loss: 0.0391 - val_accuracy: 0.9898\n",
            "Epoch 40/100\n",
            "1497/1500 [============================>.] - ETA: 0s - loss: 0.0413 - accuracy: 0.9872\n",
            "Epoch 40: val_accuracy did not improve from 0.98975\n",
            "1500/1500 [==============================] - 7s 4ms/step - loss: 0.0412 - accuracy: 0.9872 - val_loss: 0.0384 - val_accuracy: 0.9891\n",
            "Epoch 41/100\n",
            "1488/1500 [============================>.] - ETA: 0s - loss: 0.0402 - accuracy: 0.9875\n",
            "Epoch 41: val_accuracy did not improve from 0.98975\n",
            "1500/1500 [==============================] - 7s 5ms/step - loss: 0.0402 - accuracy: 0.9875 - val_loss: 0.0378 - val_accuracy: 0.9890\n",
            "Epoch 42/100\n",
            "1499/1500 [============================>.] - ETA: 0s - loss: 0.0408 - accuracy: 0.9876\n",
            "Epoch 42: val_accuracy did not improve from 0.98975\n",
            "1500/1500 [==============================] - 7s 4ms/step - loss: 0.0408 - accuracy: 0.9876 - val_loss: 0.0382 - val_accuracy: 0.9891\n",
            "Epoch 43/100\n",
            "1491/1500 [============================>.] - ETA: 0s - loss: 0.0406 - accuracy: 0.9875\n",
            "Epoch 43: val_accuracy did not improve from 0.98975\n",
            "1500/1500 [==============================] - 7s 5ms/step - loss: 0.0406 - accuracy: 0.9875 - val_loss: 0.0382 - val_accuracy: 0.9893\n",
            "Epoch 44/100\n",
            "1492/1500 [============================>.] - ETA: 0s - loss: 0.0394 - accuracy: 0.9879\n",
            "Epoch 44: val_accuracy did not improve from 0.98975\n",
            "1500/1500 [==============================] - 6s 4ms/step - loss: 0.0393 - accuracy: 0.9879 - val_loss: 0.0372 - val_accuracy: 0.9893\n",
            "Epoch 45/100\n",
            "1488/1500 [============================>.] - ETA: 0s - loss: 0.0380 - accuracy: 0.9884\n",
            "Epoch 45: val_accuracy did not improve from 0.98975\n",
            "1500/1500 [==============================] - 7s 5ms/step - loss: 0.0380 - accuracy: 0.9884 - val_loss: 0.0384 - val_accuracy: 0.9890\n",
            "Epoch 46/100\n",
            "1486/1500 [============================>.] - ETA: 0s - loss: 0.0370 - accuracy: 0.9886\n",
            "Epoch 46: val_accuracy did not improve from 0.98975\n",
            "1500/1500 [==============================] - 7s 4ms/step - loss: 0.0370 - accuracy: 0.9885 - val_loss: 0.0363 - val_accuracy: 0.9895\n",
            "Epoch 47/100\n",
            "1491/1500 [============================>.] - ETA: 0s - loss: 0.0358 - accuracy: 0.9890\n",
            "Epoch 47: val_accuracy improved from 0.98975 to 0.99008, saving model to mnist/try01.h5\n",
            "1500/1500 [==============================] - 7s 5ms/step - loss: 0.0359 - accuracy: 0.9890 - val_loss: 0.0361 - val_accuracy: 0.9901\n",
            "Epoch 48/100\n",
            "1496/1500 [============================>.] - ETA: 0s - loss: 0.0376 - accuracy: 0.9885\n",
            "Epoch 48: val_accuracy did not improve from 0.99008\n",
            "1500/1500 [==============================] - 6s 4ms/step - loss: 0.0376 - accuracy: 0.9885 - val_loss: 0.0364 - val_accuracy: 0.9901\n",
            "Epoch 49/100\n",
            "1489/1500 [============================>.] - ETA: 0s - loss: 0.0347 - accuracy: 0.9894\n",
            "Epoch 49: val_accuracy did not improve from 0.99008\n",
            "1500/1500 [==============================] - 6s 4ms/step - loss: 0.0348 - accuracy: 0.9893 - val_loss: 0.0359 - val_accuracy: 0.9896\n",
            "Epoch 50/100\n",
            "1492/1500 [============================>.] - ETA: 0s - loss: 0.0347 - accuracy: 0.9894\n",
            "Epoch 50: val_accuracy did not improve from 0.99008\n",
            "1500/1500 [==============================] - 7s 4ms/step - loss: 0.0347 - accuracy: 0.9894 - val_loss: 0.0358 - val_accuracy: 0.9897\n",
            "Epoch 51/100\n",
            "1500/1500 [==============================] - ETA: 0s - loss: 0.0346 - accuracy: 0.9892\n",
            "Epoch 51: val_accuracy improved from 0.99008 to 0.99058, saving model to mnist/try01.h5\n",
            "1500/1500 [==============================] - 7s 5ms/step - loss: 0.0346 - accuracy: 0.9892 - val_loss: 0.0352 - val_accuracy: 0.9906\n",
            "Epoch 52/100\n",
            "1486/1500 [============================>.] - ETA: 0s - loss: 0.0356 - accuracy: 0.9889\n",
            "Epoch 52: val_accuracy did not improve from 0.99058\n",
            "1500/1500 [==============================] - 7s 5ms/step - loss: 0.0355 - accuracy: 0.9889 - val_loss: 0.0350 - val_accuracy: 0.9900\n",
            "Epoch 53/100\n",
            "1499/1500 [============================>.] - ETA: 0s - loss: 0.0338 - accuracy: 0.9891\n",
            "Epoch 53: val_accuracy did not improve from 0.99058\n",
            "1500/1500 [==============================] - 6s 4ms/step - loss: 0.0338 - accuracy: 0.9891 - val_loss: 0.0346 - val_accuracy: 0.9905\n",
            "Epoch 54/100\n",
            "1493/1500 [============================>.] - ETA: 0s - loss: 0.0337 - accuracy: 0.9896\n",
            "Epoch 54: val_accuracy improved from 0.99058 to 0.99067, saving model to mnist/try01.h5\n",
            "1500/1500 [==============================] - 7s 4ms/step - loss: 0.0338 - accuracy: 0.9896 - val_loss: 0.0338 - val_accuracy: 0.9907\n",
            "Epoch 55/100\n",
            "1499/1500 [============================>.] - ETA: 0s - loss: 0.0323 - accuracy: 0.9901\n",
            "Epoch 55: val_accuracy did not improve from 0.99067\n",
            "1500/1500 [==============================] - 6s 4ms/step - loss: 0.0323 - accuracy: 0.9901 - val_loss: 0.0334 - val_accuracy: 0.9905\n",
            "Epoch 56/100\n",
            "1492/1500 [============================>.] - ETA: 0s - loss: 0.0329 - accuracy: 0.9895\n",
            "Epoch 56: val_accuracy did not improve from 0.99067\n",
            "1500/1500 [==============================] - 7s 4ms/step - loss: 0.0330 - accuracy: 0.9895 - val_loss: 0.0344 - val_accuracy: 0.9897\n",
            "Epoch 57/100\n",
            "1492/1500 [============================>.] - ETA: 0s - loss: 0.0320 - accuracy: 0.9901\n",
            "Epoch 57: val_accuracy did not improve from 0.99067\n",
            "1500/1500 [==============================] - 7s 4ms/step - loss: 0.0319 - accuracy: 0.9901 - val_loss: 0.0332 - val_accuracy: 0.9905\n",
            "Epoch 58/100\n",
            "1500/1500 [==============================] - ETA: 0s - loss: 0.0323 - accuracy: 0.9905\n",
            "Epoch 58: val_accuracy improved from 0.99067 to 0.99092, saving model to mnist/try01.h5\n",
            "1500/1500 [==============================] - 7s 5ms/step - loss: 0.0323 - accuracy: 0.9905 - val_loss: 0.0330 - val_accuracy: 0.9909\n",
            "Epoch 59/100\n",
            "1489/1500 [============================>.] - ETA: 0s - loss: 0.0307 - accuracy: 0.9908\n",
            "Epoch 59: val_accuracy did not improve from 0.99092\n",
            "1500/1500 [==============================] - 7s 4ms/step - loss: 0.0306 - accuracy: 0.9908 - val_loss: 0.0340 - val_accuracy: 0.9903\n",
            "Epoch 60/100\n",
            "1493/1500 [============================>.] - ETA: 0s - loss: 0.0298 - accuracy: 0.9911\n",
            "Epoch 60: val_accuracy did not improve from 0.99092\n",
            "1500/1500 [==============================] - 6s 4ms/step - loss: 0.0298 - accuracy: 0.9911 - val_loss: 0.0329 - val_accuracy: 0.9902\n",
            "Epoch 61/100\n",
            "1499/1500 [============================>.] - ETA: 0s - loss: 0.0304 - accuracy: 0.9900\n",
            "Epoch 61: val_accuracy did not improve from 0.99092\n",
            "1500/1500 [==============================] - 7s 4ms/step - loss: 0.0304 - accuracy: 0.9899 - val_loss: 0.0335 - val_accuracy: 0.9908\n",
            "Epoch 62/100\n",
            "1493/1500 [============================>.] - ETA: 0s - loss: 0.0316 - accuracy: 0.9902\n",
            "Epoch 62: val_accuracy did not improve from 0.99092\n",
            "1500/1500 [==============================] - 7s 4ms/step - loss: 0.0316 - accuracy: 0.9902 - val_loss: 0.0326 - val_accuracy: 0.9908\n",
            "Epoch 63/100\n",
            "1488/1500 [============================>.] - ETA: 0s - loss: 0.0292 - accuracy: 0.9911\n",
            "Epoch 63: val_accuracy did not improve from 0.99092\n",
            "1500/1500 [==============================] - 7s 4ms/step - loss: 0.0293 - accuracy: 0.9911 - val_loss: 0.0327 - val_accuracy: 0.9905\n",
            "Epoch 64/100\n",
            "1500/1500 [==============================] - ETA: 0s - loss: 0.0298 - accuracy: 0.9909\n",
            "Epoch 64: val_accuracy did not improve from 0.99092\n",
            "1500/1500 [==============================] - 7s 4ms/step - loss: 0.0298 - accuracy: 0.9909 - val_loss: 0.0327 - val_accuracy: 0.9902\n",
            "Epoch 65/100\n",
            "1497/1500 [============================>.] - ETA: 0s - loss: 0.0290 - accuracy: 0.9908\n",
            "Epoch 65: val_accuracy improved from 0.99092 to 0.99125, saving model to mnist/try01.h5\n",
            "1500/1500 [==============================] - 7s 5ms/step - loss: 0.0290 - accuracy: 0.9908 - val_loss: 0.0319 - val_accuracy: 0.9912\n",
            "Epoch 66/100\n",
            "1495/1500 [============================>.] - ETA: 0s - loss: 0.0293 - accuracy: 0.9906\n",
            "Epoch 66: val_accuracy did not improve from 0.99125\n",
            "1500/1500 [==============================] - 6s 4ms/step - loss: 0.0292 - accuracy: 0.9906 - val_loss: 0.0326 - val_accuracy: 0.9908\n",
            "Epoch 67/100\n",
            "1497/1500 [============================>.] - ETA: 0s - loss: 0.0294 - accuracy: 0.9909\n",
            "Epoch 67: val_accuracy did not improve from 0.99125\n",
            "1500/1500 [==============================] - 7s 4ms/step - loss: 0.0294 - accuracy: 0.9909 - val_loss: 0.0329 - val_accuracy: 0.9909\n",
            "Epoch 68/100\n",
            "1497/1500 [============================>.] - ETA: 0s - loss: 0.0295 - accuracy: 0.9909\n",
            "Epoch 68: val_accuracy did not improve from 0.99125\n",
            "1500/1500 [==============================] - 7s 4ms/step - loss: 0.0296 - accuracy: 0.9908 - val_loss: 0.0322 - val_accuracy: 0.9907\n",
            "Epoch 69/100\n",
            "1500/1500 [==============================] - ETA: 0s - loss: 0.0278 - accuracy: 0.9916\n",
            "Epoch 69: val_accuracy did not improve from 0.99125\n",
            "1500/1500 [==============================] - 7s 4ms/step - loss: 0.0278 - accuracy: 0.9916 - val_loss: 0.0322 - val_accuracy: 0.9909\n",
            "Epoch 70/100\n",
            "1495/1500 [============================>.] - ETA: 0s - loss: 0.0288 - accuracy: 0.9911\n",
            "Epoch 70: val_accuracy did not improve from 0.99125\n",
            "1500/1500 [==============================] - 7s 4ms/step - loss: 0.0289 - accuracy: 0.9911 - val_loss: 0.0326 - val_accuracy: 0.9906\n",
            "Epoch 71/100\n",
            "1492/1500 [============================>.] - ETA: 0s - loss: 0.0267 - accuracy: 0.9919\n",
            "Epoch 71: val_accuracy did not improve from 0.99125\n",
            "1500/1500 [==============================] - 7s 4ms/step - loss: 0.0266 - accuracy: 0.9919 - val_loss: 0.0319 - val_accuracy: 0.9912\n",
            "Epoch 72/100\n",
            "1489/1500 [============================>.] - ETA: 0s - loss: 0.0281 - accuracy: 0.9909\n",
            "Epoch 72: val_accuracy did not improve from 0.99125\n",
            "1500/1500 [==============================] - 6s 4ms/step - loss: 0.0280 - accuracy: 0.9909 - val_loss: 0.0310 - val_accuracy: 0.9910\n",
            "Epoch 73/100\n",
            "1487/1500 [============================>.] - ETA: 0s - loss: 0.0267 - accuracy: 0.9913\n",
            "Epoch 73: val_accuracy did not improve from 0.99125\n",
            "1500/1500 [==============================] - 6s 4ms/step - loss: 0.0266 - accuracy: 0.9914 - val_loss: 0.0314 - val_accuracy: 0.9910\n",
            "Epoch 74/100\n",
            "1498/1500 [============================>.] - ETA: 0s - loss: 0.0263 - accuracy: 0.9918\n",
            "Epoch 74: val_accuracy did not improve from 0.99125\n",
            "1500/1500 [==============================] - 6s 4ms/step - loss: 0.0263 - accuracy: 0.9918 - val_loss: 0.0314 - val_accuracy: 0.9909\n",
            "Epoch 75/100\n",
            "1487/1500 [============================>.] - ETA: 0s - loss: 0.0259 - accuracy: 0.9922\n",
            "Epoch 75: val_accuracy did not improve from 0.99125\n",
            "1500/1500 [==============================] - 6s 4ms/step - loss: 0.0261 - accuracy: 0.9922 - val_loss: 0.0313 - val_accuracy: 0.9908\n",
            "Epoch 76/100\n",
            "1490/1500 [============================>.] - ETA: 0s - loss: 0.0278 - accuracy: 0.9911\n",
            "Epoch 76: val_accuracy did not improve from 0.99125\n",
            "1500/1500 [==============================] - 7s 5ms/step - loss: 0.0278 - accuracy: 0.9911 - val_loss: 0.0307 - val_accuracy: 0.9912\n",
            "Epoch 77/100\n",
            "1491/1500 [============================>.] - ETA: 0s - loss: 0.0260 - accuracy: 0.9922\n",
            "Epoch 77: val_accuracy did not improve from 0.99125\n",
            "1500/1500 [==============================] - 6s 4ms/step - loss: 0.0261 - accuracy: 0.9922 - val_loss: 0.0318 - val_accuracy: 0.9905\n",
            "Epoch 78/100\n",
            "1495/1500 [============================>.] - ETA: 0s - loss: 0.0254 - accuracy: 0.9920\n",
            "Epoch 78: val_accuracy did not improve from 0.99125\n",
            "1500/1500 [==============================] - 6s 4ms/step - loss: 0.0254 - accuracy: 0.9920 - val_loss: 0.0306 - val_accuracy: 0.9912\n",
            "Epoch 79/100\n",
            "1500/1500 [==============================] - ETA: 0s - loss: 0.0247 - accuracy: 0.9925\n",
            "Epoch 79: val_accuracy did not improve from 0.99125\n",
            "1500/1500 [==============================] - 6s 4ms/step - loss: 0.0247 - accuracy: 0.9925 - val_loss: 0.0308 - val_accuracy: 0.9909\n",
            "Epoch 80/100\n",
            "1493/1500 [============================>.] - ETA: 0s - loss: 0.0242 - accuracy: 0.9927\n",
            "Epoch 80: val_accuracy did not improve from 0.99125\n",
            "1500/1500 [==============================] - 7s 4ms/step - loss: 0.0241 - accuracy: 0.9927 - val_loss: 0.0302 - val_accuracy: 0.9911\n",
            "Epoch 81/100\n",
            "1491/1500 [============================>.] - ETA: 0s - loss: 0.0241 - accuracy: 0.9928\n",
            "Epoch 81: val_accuracy did not improve from 0.99125\n",
            "1500/1500 [==============================] - 7s 5ms/step - loss: 0.0242 - accuracy: 0.9928 - val_loss: 0.0301 - val_accuracy: 0.9912\n",
            "Epoch 82/100\n",
            "1489/1500 [============================>.] - ETA: 0s - loss: 0.0241 - accuracy: 0.9925\n",
            "Epoch 82: val_accuracy did not improve from 0.99125\n",
            "1500/1500 [==============================] - 6s 4ms/step - loss: 0.0240 - accuracy: 0.9925 - val_loss: 0.0311 - val_accuracy: 0.9904\n",
            "Epoch 83/100\n",
            "1493/1500 [============================>.] - ETA: 0s - loss: 0.0242 - accuracy: 0.9923\n",
            "Epoch 83: val_accuracy improved from 0.99125 to 0.99142, saving model to mnist/try01.h5\n",
            "1500/1500 [==============================] - 7s 5ms/step - loss: 0.0241 - accuracy: 0.9923 - val_loss: 0.0296 - val_accuracy: 0.9914\n",
            "Epoch 84/100\n",
            "1493/1500 [============================>.] - ETA: 0s - loss: 0.0235 - accuracy: 0.9929\n",
            "Epoch 84: val_accuracy did not improve from 0.99142\n",
            "1500/1500 [==============================] - 6s 4ms/step - loss: 0.0236 - accuracy: 0.9929 - val_loss: 0.0296 - val_accuracy: 0.9912\n",
            "Epoch 85/100\n",
            "1494/1500 [============================>.] - ETA: 0s - loss: 0.0263 - accuracy: 0.9912\n",
            "Epoch 85: val_accuracy did not improve from 0.99142\n",
            "1500/1500 [==============================] - 6s 4ms/step - loss: 0.0262 - accuracy: 0.9912 - val_loss: 0.0294 - val_accuracy: 0.9910\n",
            "Epoch 86/100\n",
            "1498/1500 [============================>.] - ETA: 0s - loss: 0.0232 - accuracy: 0.9925\n",
            "Epoch 86: val_accuracy improved from 0.99142 to 0.99200, saving model to mnist/try01.h5\n",
            "1500/1500 [==============================] - 7s 4ms/step - loss: 0.0232 - accuracy: 0.9925 - val_loss: 0.0290 - val_accuracy: 0.9920\n",
            "Epoch 87/100\n",
            "1500/1500 [==============================] - ETA: 0s - loss: 0.0222 - accuracy: 0.9929\n",
            "Epoch 87: val_accuracy did not improve from 0.99200\n",
            "1500/1500 [==============================] - 7s 4ms/step - loss: 0.0222 - accuracy: 0.9929 - val_loss: 0.0303 - val_accuracy: 0.9913\n",
            "Epoch 88/100\n",
            "1494/1500 [============================>.] - ETA: 0s - loss: 0.0231 - accuracy: 0.9928\n",
            "Epoch 88: val_accuracy did not improve from 0.99200\n",
            "1500/1500 [==============================] - 7s 5ms/step - loss: 0.0231 - accuracy: 0.9928 - val_loss: 0.0298 - val_accuracy: 0.9912\n",
            "Epoch 89/100\n",
            "1492/1500 [============================>.] - ETA: 0s - loss: 0.0226 - accuracy: 0.9930\n",
            "Epoch 89: val_accuracy did not improve from 0.99200\n",
            "1500/1500 [==============================] - 7s 5ms/step - loss: 0.0228 - accuracy: 0.9930 - val_loss: 0.0295 - val_accuracy: 0.9912\n",
            "Epoch 90/100\n",
            "1498/1500 [============================>.] - ETA: 0s - loss: 0.0228 - accuracy: 0.9926\n",
            "Epoch 90: val_accuracy did not improve from 0.99200\n",
            "1500/1500 [==============================] - 7s 5ms/step - loss: 0.0228 - accuracy: 0.9926 - val_loss: 0.0291 - val_accuracy: 0.9915\n",
            "Epoch 91/100\n",
            "1498/1500 [============================>.] - ETA: 0s - loss: 0.0218 - accuracy: 0.9927\n",
            "Epoch 91: val_accuracy did not improve from 0.99200\n",
            "1500/1500 [==============================] - 6s 4ms/step - loss: 0.0219 - accuracy: 0.9926 - val_loss: 0.0293 - val_accuracy: 0.9912\n",
            "Epoch 92/100\n",
            "1497/1500 [============================>.] - ETA: 0s - loss: 0.0215 - accuracy: 0.9933\n",
            "Epoch 92: val_accuracy did not improve from 0.99200\n",
            "1500/1500 [==============================] - 6s 4ms/step - loss: 0.0215 - accuracy: 0.9933 - val_loss: 0.0302 - val_accuracy: 0.9910\n",
            "Epoch 93/100\n",
            "1493/1500 [============================>.] - ETA: 0s - loss: 0.0225 - accuracy: 0.9928\n",
            "Epoch 93: val_accuracy did not improve from 0.99200\n",
            "1500/1500 [==============================] - 7s 4ms/step - loss: 0.0225 - accuracy: 0.9928 - val_loss: 0.0285 - val_accuracy: 0.9914\n",
            "Epoch 94/100\n",
            "1487/1500 [============================>.] - ETA: 0s - loss: 0.0223 - accuracy: 0.9929\n",
            "Epoch 94: val_accuracy improved from 0.99200 to 0.99217, saving model to mnist/try01.h5\n",
            "1500/1500 [==============================] - 7s 5ms/step - loss: 0.0222 - accuracy: 0.9929 - val_loss: 0.0287 - val_accuracy: 0.9922\n",
            "Epoch 95/100\n",
            "1488/1500 [============================>.] - ETA: 0s - loss: 0.0217 - accuracy: 0.9933\n",
            "Epoch 95: val_accuracy did not improve from 0.99217\n",
            "1500/1500 [==============================] - 7s 4ms/step - loss: 0.0217 - accuracy: 0.9933 - val_loss: 0.0290 - val_accuracy: 0.9915\n",
            "Epoch 96/100\n",
            "1493/1500 [============================>.] - ETA: 0s - loss: 0.0211 - accuracy: 0.9936\n",
            "Epoch 96: val_accuracy did not improve from 0.99217\n",
            "1500/1500 [==============================] - 7s 5ms/step - loss: 0.0210 - accuracy: 0.9936 - val_loss: 0.0283 - val_accuracy: 0.9918\n",
            "Epoch 97/100\n",
            "1495/1500 [============================>.] - ETA: 0s - loss: 0.0207 - accuracy: 0.9938\n",
            "Epoch 97: val_accuracy did not improve from 0.99217\n",
            "1500/1500 [==============================] - 6s 4ms/step - loss: 0.0207 - accuracy: 0.9938 - val_loss: 0.0303 - val_accuracy: 0.9908\n",
            "Epoch 98/100\n",
            "1493/1500 [============================>.] - ETA: 0s - loss: 0.0220 - accuracy: 0.9928\n",
            "Epoch 98: val_accuracy did not improve from 0.99217\n",
            "1500/1500 [==============================] - 6s 4ms/step - loss: 0.0220 - accuracy: 0.9927 - val_loss: 0.0287 - val_accuracy: 0.9918\n",
            "Epoch 99/100\n",
            "1489/1500 [============================>.] - ETA: 0s - loss: 0.0209 - accuracy: 0.9932\n",
            "Epoch 99: val_accuracy did not improve from 0.99217\n",
            "1500/1500 [==============================] - 7s 5ms/step - loss: 0.0210 - accuracy: 0.9932 - val_loss: 0.0291 - val_accuracy: 0.9910\n",
            "Epoch 100/100\n",
            "1492/1500 [============================>.] - ETA: 0s - loss: 0.0201 - accuracy: 0.9937\n",
            "Epoch 100: val_accuracy did not improve from 0.99217\n",
            "1500/1500 [==============================] - 6s 4ms/step - loss: 0.0201 - accuracy: 0.9937 - val_loss: 0.0279 - val_accuracy: 0.9913\n"
          ]
        }
      ]
    },
    {
      "cell_type": "code",
      "source": [
        "result = model_1.evaluate(test_imgs, test_labels)\n",
        "print(\"\\n테스트 정확도: %.4f\" %(result)[1])"
      ],
      "metadata": {
        "id": "A4f_4uKMk9gD",
        "colab": {
          "base_uri": "https://localhost:8080/"
        },
        "outputId": "885ebf77-dc66-485a-dec3-12ec99120a0b"
      },
      "execution_count": null,
      "outputs": [
        {
          "output_type": "stream",
          "name": "stdout",
          "text": [
            "313/313 [==============================] - 1s 3ms/step - loss: 0.0223 - accuracy: 0.9932\n",
            "\n",
            "테스트 정확도: 0.9932\n"
          ]
        }
      ]
    },
    {
      "cell_type": "code",
      "source": [
        "loaded_model = load_model('mnist/try01.h5')\n",
        "result_loaded = loaded_model.evaluate(test_imgs, test_labels)\n",
        "print(\"\\n불러온 모델 테스트 정확도: %.4f\" %(result_loaded)[1])"
      ],
      "metadata": {
        "id": "LWt1g385nipq",
        "colab": {
          "base_uri": "https://localhost:8080/"
        },
        "outputId": "46856e21-e9e2-45d1-d7c0-940804329e95"
      },
      "execution_count": null,
      "outputs": [
        {
          "output_type": "stream",
          "name": "stdout",
          "text": [
            "313/313 [==============================] - 1s 3ms/step - loss: 0.0229 - accuracy: 0.9927\n",
            "\n",
            "불러온 모델 테스트 정확도: 0.9927\n"
          ]
        }
      ]
    },
    {
      "cell_type": "code",
      "source": [
        "df = pd.DataFrame([['CNN', 'model_1', '32(relu/drop0.2)-64(relu/drop0.2)-128(drop0.5/relu)-Flatten-64(sigmoid)-10(softmax)]', 'SGD', 100, 32, 0.2, 'es/mc', \n",
        "                    \"%.4f\"%(result)[1], \"%.4f\"%(result_loaded)[1], \"%.4f\"%(result)[0], \"%.4f\"%(result_loaded)[0]]],\n",
        "                  columns=['모델', 'Name', 'Structure', 'Optimizer', 'epochs', 'batch_size', 'validation_split', 'callback', 'Accuracy', 'MC_Accuracy', 'Loss', 'MC_Loss'])"
      ],
      "metadata": {
        "id": "YU51jOGcl7DL"
      },
      "execution_count": null,
      "outputs": []
    },
    {
      "cell_type": "code",
      "source": [
        "acc = hist_1.history['accuracy']\n",
        "val_acc = hist_1.history['val_accuracy']\n",
        "loss = hist_1.history['loss']\n",
        "val_loss = hist_1.history['val_loss']\n",
        "\n",
        "epochs = range(1, len(acc)+1)\n",
        "\n",
        "plt.figure(figsize=(8, 12))\n",
        "ax1=plt.subplot(2, 1, 1)\n",
        "ax2=plt.subplot(2, 1, 2)\n",
        "ax1.plot(epochs, acc, 'bo', label='Trainig acc')\n",
        "ax1.plot(epochs, val_acc, 'b', label='Validation acc')\n",
        "ax1.set_title(\"Training and Validation accuracy\")\n",
        "ax1.legend()\n",
        "ax2.plot(epochs, loss, 'bo', label='Traning loss')\n",
        "ax2.plot(epochs, val_loss, 'b', label='Validation loss')\n",
        "ax2.set_title(\"Training and Validation loss\")\n",
        "ax2.legend()\n",
        "plt.show()"
      ],
      "metadata": {
        "id": "mFOaiWO_sRfX",
        "colab": {
          "base_uri": "https://localhost:8080/",
          "height": 716
        },
        "outputId": "fa584564-eaae-4025-915b-f03f0c3c9ebb"
      },
      "execution_count": null,
      "outputs": [
        {
          "output_type": "display_data",
          "data": {
            "text/plain": [
              "<Figure size 576x864 with 2 Axes>"
            ],
            "image/png": "[encoded data removed]"
          },
          "metadata": {
            "needs_background": "light"
          }
        }
      ]
    },
    {
      "cell_type": "markdown",
      "source": [
        "#### __2. batch_size default(32), 출력 직전층 activation='sigmoid', optimizer='rmsprop'__ "
      ],
      "metadata": {
        "id": "J3jjZUjiwydX"
      }
    },
    {
      "cell_type": "code",
      "source": [
        "model_1_1 = keras.Sequential([\n",
        "  layers.Conv2D(32, (3, 3), activation='relu', input_shape=(28, 28, 1)),\n",
        "  layers.Dropout(0.2),\n",
        "  layers.MaxPooling2D((2, 2)),\n",
        "  layers.Conv2D(64, (3, 3), activation='relu'),\n",
        "  layers.Dropout(0.2),\n",
        "  layers.MaxPooling2D((2, 2)),\n",
        "  layers.Conv2D(128, (3, 3), activation='relu'),\n",
        "  layers.Dropout(0.5),\n",
        "  layers.Flatten(),\n",
        "  layers.Dense(64, activation = 'sigmoid'),\n",
        "  layers.Dense(10, activation = 'softmax')\n",
        "])\n",
        "model_1_1.summary()"
      ],
      "metadata": {
        "id": "aRIhB0X3wtb4",
        "colab": {
          "base_uri": "https://localhost:8080/"
        },
        "outputId": "9d2dd7cd-91a3-4e83-e00a-c5c72079d19f"
      },
      "execution_count": null,
      "outputs": [
        {
          "output_type": "stream",
          "name": "stdout",
          "text": [
            "Model: \"sequential_1\"\n",
            "_________________________________________________________________\n",
            " Layer (type)                Output Shape              Param #   \n",
            "=================================================================\n",
            " conv2d_3 (Conv2D)           (None, 26, 26, 32)        320       \n",
            "                                                                 \n",
            " dropout_3 (Dropout)         (None, 26, 26, 32)        0         \n",
            "                                                                 \n",
            " max_pooling2d_2 (MaxPooling  (None, 13, 13, 32)       0         \n",
            " 2D)                                                             \n",
            "                                                                 \n",
            " conv2d_4 (Conv2D)           (None, 11, 11, 64)        18496     \n",
            "                                                                 \n",
            " dropout_4 (Dropout)         (None, 11, 11, 64)        0         \n",
            "                                                                 \n",
            " max_pooling2d_3 (MaxPooling  (None, 5, 5, 64)         0         \n",
            " 2D)                                                             \n",
            "                                                                 \n",
            " conv2d_5 (Conv2D)           (None, 3, 3, 128)         73856     \n",
            "                                                                 \n",
            " dropout_5 (Dropout)         (None, 3, 3, 128)         0         \n",
            "                                                                 \n",
            " flatten_1 (Flatten)         (None, 1152)              0         \n",
            "                                                                 \n",
            " dense_2 (Dense)             (None, 64)                73792     \n",
            "                                                                 \n",
            " dense_3 (Dense)             (None, 10)                650       \n",
            "                                                                 \n",
            "=================================================================\n",
            "Total params: 167,114\n",
            "Trainable params: 167,114\n",
            "Non-trainable params: 0\n",
            "_________________________________________________________________\n"
          ]
        }
      ]
    },
    {
      "cell_type": "code",
      "source": [
        "model_1_1.compile(optimizer=\"rmsprop\", loss=\"categorical_crossentropy\", metrics=[\"accuracy\"])"
      ],
      "metadata": {
        "id": "2xmXZNfewtcK"
      },
      "execution_count": null,
      "outputs": []
    },
    {
      "cell_type": "code",
      "source": [
        "es = EarlyStopping(monitor='val_loss', mode='min', verbose=1, patience=10)\n",
        "mc = ModelCheckpoint('mnist/try01_1.h5', monitor='val_accuracy', mode='max', verbose=1, save_best_only=True)\n",
        "hist_1_1 = model_1_1.fit(train_imgs, train_labels, epochs=100, validation_split=0.2, callbacks=[es, mc])"
      ],
      "metadata": {
        "id": "VRjSobitwtcK",
        "colab": {
          "base_uri": "https://localhost:8080/"
        },
        "outputId": "23590d63-5315-4906-c8d1-a39b526b3660"
      },
      "execution_count": null,
      "outputs": [
        {
          "output_type": "stream",
          "name": "stdout",
          "text": [
            "Epoch 1/100\n",
            "1495/1500 [============================>.] - ETA: 0s - loss: 0.2286 - accuracy: 0.9371\n",
            "Epoch 1: val_accuracy improved from -inf to 0.98125, saving model to mnist/try01_1.h5\n",
            "1500/1500 [==============================] - 8s 5ms/step - loss: 0.2281 - accuracy: 0.9373 - val_loss: 0.0630 - val_accuracy: 0.9812\n",
            "Epoch 2/100\n",
            "1495/1500 [============================>.] - ETA: 0s - loss: 0.0753 - accuracy: 0.9772\n",
            "Epoch 2: val_accuracy improved from 0.98125 to 0.98383, saving model to mnist/try01_1.h5\n",
            "1500/1500 [==============================] - 8s 5ms/step - loss: 0.0751 - accuracy: 0.9772 - val_loss: 0.0540 - val_accuracy: 0.9838\n",
            "Epoch 3/100\n",
            "1492/1500 [============================>.] - ETA: 0s - loss: 0.0566 - accuracy: 0.9830\n",
            "Epoch 3: val_accuracy improved from 0.98383 to 0.98708, saving model to mnist/try01_1.h5\n",
            "1500/1500 [==============================] - 7s 5ms/step - loss: 0.0569 - accuracy: 0.9830 - val_loss: 0.0451 - val_accuracy: 0.9871\n",
            "Epoch 4/100\n",
            "1500/1500 [==============================] - ETA: 0s - loss: 0.0511 - accuracy: 0.9844\n",
            "Epoch 4: val_accuracy improved from 0.98708 to 0.98933, saving model to mnist/try01_1.h5\n",
            "1500/1500 [==============================] - 8s 5ms/step - loss: 0.0511 - accuracy: 0.9844 - val_loss: 0.0408 - val_accuracy: 0.9893\n",
            "Epoch 5/100\n",
            "1494/1500 [============================>.] - ETA: 0s - loss: 0.0465 - accuracy: 0.9867\n",
            "Epoch 5: val_accuracy improved from 0.98933 to 0.98983, saving model to mnist/try01_1.h5\n",
            "1500/1500 [==============================] - 8s 5ms/step - loss: 0.0465 - accuracy: 0.9867 - val_loss: 0.0382 - val_accuracy: 0.9898\n",
            "Epoch 6/100\n",
            "1493/1500 [============================>.] - ETA: 0s - loss: 0.0442 - accuracy: 0.9873\n",
            "Epoch 6: val_accuracy did not improve from 0.98983\n",
            "1500/1500 [==============================] - 7s 5ms/step - loss: 0.0443 - accuracy: 0.9873 - val_loss: 0.0402 - val_accuracy: 0.9893\n",
            "Epoch 7/100\n",
            "1491/1500 [============================>.] - ETA: 0s - loss: 0.0397 - accuracy: 0.9886\n",
            "Epoch 7: val_accuracy did not improve from 0.98983\n",
            "1500/1500 [==============================] - 7s 5ms/step - loss: 0.0399 - accuracy: 0.9886 - val_loss: 0.0384 - val_accuracy: 0.9898\n",
            "Epoch 8/100\n",
            "1490/1500 [============================>.] - ETA: 0s - loss: 0.0397 - accuracy: 0.9892\n",
            "Epoch 8: val_accuracy improved from 0.98983 to 0.99000, saving model to mnist/try01_1.h5\n",
            "1500/1500 [==============================] - 8s 5ms/step - loss: 0.0400 - accuracy: 0.9892 - val_loss: 0.0401 - val_accuracy: 0.9900\n",
            "Epoch 9/100\n",
            "1495/1500 [============================>.] - ETA: 0s - loss: 0.0399 - accuracy: 0.9889\n",
            "Epoch 9: val_accuracy improved from 0.99000 to 0.99025, saving model to mnist/try01_1.h5\n",
            "1500/1500 [==============================] - 8s 5ms/step - loss: 0.0401 - accuracy: 0.9888 - val_loss: 0.0430 - val_accuracy: 0.9902\n",
            "Epoch 10/100\n",
            "1490/1500 [============================>.] - ETA: 0s - loss: 0.0392 - accuracy: 0.9895\n",
            "Epoch 10: val_accuracy improved from 0.99025 to 0.99108, saving model to mnist/try01_1.h5\n",
            "1500/1500 [==============================] - 8s 5ms/step - loss: 0.0390 - accuracy: 0.9896 - val_loss: 0.0387 - val_accuracy: 0.9911\n",
            "Epoch 11/100\n",
            "1489/1500 [============================>.] - ETA: 0s - loss: 0.0351 - accuracy: 0.9907\n",
            "Epoch 11: val_accuracy improved from 0.99108 to 0.99158, saving model to mnist/try01_1.h5\n",
            "1500/1500 [==============================] - 8s 5ms/step - loss: 0.0351 - accuracy: 0.9907 - val_loss: 0.0410 - val_accuracy: 0.9916\n",
            "Epoch 12/100\n",
            "1491/1500 [============================>.] - ETA: 0s - loss: 0.0352 - accuracy: 0.9902\n",
            "Epoch 12: val_accuracy improved from 0.99158 to 0.99250, saving model to mnist/try01_1.h5\n",
            "1500/1500 [==============================] - 8s 5ms/step - loss: 0.0351 - accuracy: 0.9902 - val_loss: 0.0365 - val_accuracy: 0.9925\n",
            "Epoch 13/100\n",
            "1496/1500 [============================>.] - ETA: 0s - loss: 0.0350 - accuracy: 0.9906\n",
            "Epoch 13: val_accuracy did not improve from 0.99250\n",
            "1500/1500 [==============================] - 8s 5ms/step - loss: 0.0350 - accuracy: 0.9906 - val_loss: 0.0435 - val_accuracy: 0.9904\n",
            "Epoch 14/100\n",
            "1495/1500 [============================>.] - ETA: 0s - loss: 0.0365 - accuracy: 0.9903\n",
            "Epoch 14: val_accuracy did not improve from 0.99250\n",
            "1500/1500 [==============================] - 7s 5ms/step - loss: 0.0368 - accuracy: 0.9903 - val_loss: 0.0396 - val_accuracy: 0.9918\n",
            "Epoch 15/100\n",
            "1500/1500 [==============================] - ETA: 0s - loss: 0.0326 - accuracy: 0.9912\n",
            "Epoch 15: val_accuracy did not improve from 0.99250\n",
            "1500/1500 [==============================] - 7s 5ms/step - loss: 0.0326 - accuracy: 0.9912 - val_loss: 0.0425 - val_accuracy: 0.9915\n",
            "Epoch 16/100\n",
            "1499/1500 [============================>.] - ETA: 0s - loss: 0.0324 - accuracy: 0.9912\n",
            "Epoch 16: val_accuracy did not improve from 0.99250\n",
            "1500/1500 [==============================] - 8s 5ms/step - loss: 0.0324 - accuracy: 0.9912 - val_loss: 0.0424 - val_accuracy: 0.9919\n",
            "Epoch 17/100\n",
            "1496/1500 [============================>.] - ETA: 0s - loss: 0.0315 - accuracy: 0.9921\n",
            "Epoch 17: val_accuracy did not improve from 0.99250\n",
            "1500/1500 [==============================] - 7s 5ms/step - loss: 0.0315 - accuracy: 0.9921 - val_loss: 0.0370 - val_accuracy: 0.9918\n",
            "Epoch 18/100\n",
            "1498/1500 [============================>.] - ETA: 0s - loss: 0.0326 - accuracy: 0.9916\n",
            "Epoch 18: val_accuracy did not improve from 0.99250\n",
            "1500/1500 [==============================] - 8s 5ms/step - loss: 0.0326 - accuracy: 0.9916 - val_loss: 0.0446 - val_accuracy: 0.9908\n",
            "Epoch 19/100\n",
            "1489/1500 [============================>.] - ETA: 0s - loss: 0.0311 - accuracy: 0.9920\n",
            "Epoch 19: val_accuracy did not improve from 0.99250\n",
            "1500/1500 [==============================] - 8s 5ms/step - loss: 0.0310 - accuracy: 0.9920 - val_loss: 0.0522 - val_accuracy: 0.9897\n",
            "Epoch 20/100\n",
            "1490/1500 [============================>.] - ETA: 0s - loss: 0.0341 - accuracy: 0.9913\n",
            "Epoch 20: val_accuracy did not improve from 0.99250\n",
            "1500/1500 [==============================] - 7s 5ms/step - loss: 0.0340 - accuracy: 0.9913 - val_loss: 0.0403 - val_accuracy: 0.9923\n",
            "Epoch 21/100\n",
            "1489/1500 [============================>.] - ETA: 0s - loss: 0.0313 - accuracy: 0.9918\n",
            "Epoch 21: val_accuracy did not improve from 0.99250\n",
            "1500/1500 [==============================] - 8s 5ms/step - loss: 0.0312 - accuracy: 0.9918 - val_loss: 0.0436 - val_accuracy: 0.9918\n",
            "Epoch 22/100\n",
            "1493/1500 [============================>.] - ETA: 0s - loss: 0.0322 - accuracy: 0.9921\n",
            "Epoch 22: val_accuracy improved from 0.99250 to 0.99283, saving model to mnist/try01_1.h5\n",
            "1500/1500 [==============================] - 8s 5ms/step - loss: 0.0323 - accuracy: 0.9921 - val_loss: 0.0418 - val_accuracy: 0.9928\n",
            "Epoch 22: early stopping\n"
          ]
        }
      ]
    },
    {
      "cell_type": "code",
      "source": [
        "result = model_1_1.evaluate(test_imgs, test_labels)\n",
        "print(\"\\n테스트 정확도: %.4f\" %(result)[1])"
      ],
      "metadata": {
        "id": "Mq-GE0h5wtcL",
        "colab": {
          "base_uri": "https://localhost:8080/"
        },
        "outputId": "08c19b2d-bbd2-4f68-c90b-c423aad75dac"
      },
      "execution_count": null,
      "outputs": [
        {
          "output_type": "stream",
          "name": "stdout",
          "text": [
            "313/313 [==============================] - 1s 3ms/step - loss: 0.0350 - accuracy: 0.9927\n",
            "\n",
            "테스트 정확도: 0.9927\n"
          ]
        }
      ]
    },
    {
      "cell_type": "code",
      "source": [
        "loaded_model = load_model('mnist/try01_1.h5')\n",
        "result_loaded = loaded_model.evaluate(test_imgs, test_labels)\n",
        "print(\"\\n불러온 모델 테스트 정확도: %.4f\" %(result_loaded)[1])"
      ],
      "metadata": {
        "id": "fGK6vEuiwtcL",
        "colab": {
          "base_uri": "https://localhost:8080/"
        },
        "outputId": "b9131d7d-4e5f-48fb-c550-a3861a2a0b88"
      },
      "execution_count": null,
      "outputs": [
        {
          "output_type": "stream",
          "name": "stdout",
          "text": [
            "313/313 [==============================] - 1s 3ms/step - loss: 0.0350 - accuracy: 0.9927\n",
            "\n",
            "불러온 모델 테스트 정확도: 0.9927\n"
          ]
        }
      ]
    },
    {
      "cell_type": "code",
      "source": [
        "acc = hist_1_1.history['accuracy']\n",
        "val_acc = hist_1_1.history['val_accuracy']\n",
        "loss = hist_1_1.history['loss']\n",
        "val_loss = hist_1_1.history['val_loss']\n",
        "\n",
        "epochs = range(1, len(acc)+1)\n",
        "\n",
        "plt.figure(figsize=(8, 12))\n",
        "ax1=plt.subplot(2, 1, 1)\n",
        "ax2=plt.subplot(2, 1, 2)\n",
        "ax1.plot(epochs, acc, 'bo', label='Trainig acc')\n",
        "ax1.plot(epochs, val_acc, 'b', label='Validation acc')\n",
        "ax1.set_title(\"Training and Validation accuracy\")\n",
        "ax1.legend()\n",
        "ax2.plot(epochs, loss, 'bo', label='Traning loss')\n",
        "ax2.plot(epochs, val_loss, 'b', label='Validation loss')\n",
        "ax2.set_title(\"Training and Validation loss\")\n",
        "ax2.legend()\n",
        "plt.show()"
      ],
      "metadata": {
        "id": "k-onGLGMwtcM",
        "colab": {
          "base_uri": "https://localhost:8080/",
          "height": 716
        },
        "outputId": "72c6cb60-a853-4798-db8e-0e582f49bebb"
      },
      "execution_count": null,
      "outputs": [
        {
          "output_type": "display_data",
          "data": {
            "text/plain": [
              "<Figure size 576x864 with 2 Axes>"
            ],
            "image/png": "[encoded data removed]"
          },
          "metadata": {
            "needs_background": "light"
          }
        }
      ]
    },
    {
      "cell_type": "code",
      "source": [
        "df.loc[1]=['CNN', 'model_1_1', '32(relu/drop0.2)-64(relu/drop0.2)-128(drop0.5/relu)-Flatten-64(sigmoid)-10(softmax)]', 'rmsprop', 100, 32, 0.2, 'es/mc', \"%.4f\"%(result)[1], \"%.4f\"%(result_loaded)[1], \"%.4f\"%(result)[0], \"%.4f\"%(result_loaded)[0]]"
      ],
      "metadata": {
        "id": "IMzWXDrQwtcM"
      },
      "execution_count": null,
      "outputs": []
    },
    {
      "cell_type": "markdown",
      "source": [
        "#### __3. batch_size default(32), 출력 직전층 activation='sigmoid', optimizer='adam'__ "
      ],
      "metadata": {
        "id": "YN2gmPkbzFeA"
      }
    },
    {
      "cell_type": "code",
      "source": [
        "model_1_2 = keras.Sequential([\n",
        "  layers.Conv2D(32, (3, 3), activation='relu', input_shape=(28, 28, 1)),\n",
        "  layers.Dropout(0.2),\n",
        "  layers.MaxPooling2D((2, 2)),\n",
        "  layers.Conv2D(64, (3, 3), activation='relu'),\n",
        "  layers.Dropout(0.2),\n",
        "  layers.MaxPooling2D((2, 2)),\n",
        "  layers.Conv2D(128, (3, 3), activation='relu'),\n",
        "  layers.Dropout(0.5),\n",
        "  layers.Flatten(),\n",
        "  layers.Dense(64, activation = 'sigmoid'),\n",
        "  layers.Dense(10, activation = 'softmax')\n",
        "])\n",
        "model_1_2.summary()"
      ],
      "metadata": {
        "id": "Ujc6kXBOzFeA",
        "colab": {
          "base_uri": "https://localhost:8080/"
        },
        "outputId": "d0df9420-7053-4580-ff2c-dc23fdabd956"
      },
      "execution_count": null,
      "outputs": [
        {
          "output_type": "stream",
          "name": "stdout",
          "text": [
            "Model: \"sequential_2\"\n",
            "_________________________________________________________________\n",
            " Layer (type)                Output Shape              Param #   \n",
            "=================================================================\n",
            " conv2d_6 (Conv2D)           (None, 26, 26, 32)        320       \n",
            "                                                                 \n",
            " dropout_6 (Dropout)         (None, 26, 26, 32)        0         \n",
            "                                                                 \n",
            " max_pooling2d_4 (MaxPooling  (None, 13, 13, 32)       0         \n",
            " 2D)                                                             \n",
            "                                                                 \n",
            " conv2d_7 (Conv2D)           (None, 11, 11, 64)        18496     \n",
            "                                                                 \n",
            " dropout_7 (Dropout)         (None, 11, 11, 64)        0         \n",
            "                                                                 \n",
            " max_pooling2d_5 (MaxPooling  (None, 5, 5, 64)         0         \n",
            " 2D)                                                             \n",
            "                                                                 \n",
            " conv2d_8 (Conv2D)           (None, 3, 3, 128)         73856     \n",
            "                                                                 \n",
            " dropout_8 (Dropout)         (None, 3, 3, 128)         0         \n",
            "                                                                 \n",
            " flatten_2 (Flatten)         (None, 1152)              0         \n",
            "                                                                 \n",
            " dense_4 (Dense)             (None, 64)                73792     \n",
            "                                                                 \n",
            " dense_5 (Dense)             (None, 10)                650       \n",
            "                                                                 \n",
            "=================================================================\n",
            "Total params: 167,114\n",
            "Trainable params: 167,114\n",
            "Non-trainable params: 0\n",
            "_________________________________________________________________\n"
          ]
        }
      ]
    },
    {
      "cell_type": "code",
      "source": [
        "model_1_2.compile(optimizer=\"adam\", loss=\"categorical_crossentropy\", metrics=[\"accuracy\"])"
      ],
      "metadata": {
        "id": "sy6jnJeXzFeB"
      },
      "execution_count": null,
      "outputs": []
    },
    {
      "cell_type": "code",
      "source": [
        "es = EarlyStopping(monitor='val_loss', mode='min', verbose=1, patience=10)\n",
        "mc = ModelCheckpoint('mnist/try01_2.h5', monitor='val_accuracy', mode='max', verbose=1, save_best_only=True)\n",
        "hist_1_2 = model_1_2.fit(train_imgs, train_labels, epochs=100, validation_split=0.2, callbacks=[es, mc])"
      ],
      "metadata": {
        "id": "yTLlJJB-zFeB",
        "colab": {
          "base_uri": "https://localhost:8080/"
        },
        "outputId": "ef74f975-1320-4780-ff3b-c5fa06fd5ce6"
      },
      "execution_count": null,
      "outputs": [
        {
          "output_type": "stream",
          "name": "stdout",
          "text": [
            "Epoch 1/100\n",
            "1490/1500 [============================>.] - ETA: 0s - loss: 0.2382 - accuracy: 0.9365\n",
            "Epoch 1: val_accuracy improved from -inf to 0.98225, saving model to mnist/try01_2.h5\n",
            "1500/1500 [==============================] - 7s 4ms/step - loss: 0.2373 - accuracy: 0.9366 - val_loss: 0.0654 - val_accuracy: 0.9822\n",
            "Epoch 2/100\n",
            "1494/1500 [============================>.] - ETA: 0s - loss: 0.0735 - accuracy: 0.9782\n",
            "Epoch 2: val_accuracy improved from 0.98225 to 0.98725, saving model to mnist/try01_2.h5\n",
            "1500/1500 [==============================] - 7s 5ms/step - loss: 0.0734 - accuracy: 0.9782 - val_loss: 0.0437 - val_accuracy: 0.9872\n",
            "Epoch 3/100\n",
            "1488/1500 [============================>.] - ETA: 0s - loss: 0.0541 - accuracy: 0.9837\n",
            "Epoch 3: val_accuracy improved from 0.98725 to 0.98958, saving model to mnist/try01_2.h5\n",
            "1500/1500 [==============================] - 6s 4ms/step - loss: 0.0544 - accuracy: 0.9836 - val_loss: 0.0372 - val_accuracy: 0.9896\n",
            "Epoch 4/100\n",
            "1494/1500 [============================>.] - ETA: 0s - loss: 0.0460 - accuracy: 0.9855\n",
            "Epoch 4: val_accuracy improved from 0.98958 to 0.99033, saving model to mnist/try01_2.h5\n",
            "1500/1500 [==============================] - 7s 5ms/step - loss: 0.0461 - accuracy: 0.9854 - val_loss: 0.0326 - val_accuracy: 0.9903\n",
            "Epoch 5/100\n",
            "1488/1500 [============================>.] - ETA: 0s - loss: 0.0405 - accuracy: 0.9872\n",
            "Epoch 5: val_accuracy improved from 0.99033 to 0.99075, saving model to mnist/try01_2.h5\n",
            "1500/1500 [==============================] - 7s 5ms/step - loss: 0.0404 - accuracy: 0.9872 - val_loss: 0.0312 - val_accuracy: 0.9908\n",
            "Epoch 6/100\n",
            "1497/1500 [============================>.] - ETA: 0s - loss: 0.0351 - accuracy: 0.9887\n",
            "Epoch 6: val_accuracy improved from 0.99075 to 0.99133, saving model to mnist/try01_2.h5\n",
            "1500/1500 [==============================] - 7s 5ms/step - loss: 0.0351 - accuracy: 0.9887 - val_loss: 0.0308 - val_accuracy: 0.9913\n",
            "Epoch 7/100\n",
            "1494/1500 [============================>.] - ETA: 0s - loss: 0.0318 - accuracy: 0.9900\n",
            "Epoch 7: val_accuracy did not improve from 0.99133\n",
            "1500/1500 [==============================] - 7s 5ms/step - loss: 0.0317 - accuracy: 0.9900 - val_loss: 0.0313 - val_accuracy: 0.9905\n",
            "Epoch 8/100\n",
            "1495/1500 [============================>.] - ETA: 0s - loss: 0.0292 - accuracy: 0.9906\n",
            "Epoch 8: val_accuracy improved from 0.99133 to 0.99225, saving model to mnist/try01_2.h5\n",
            "1500/1500 [==============================] - 7s 5ms/step - loss: 0.0293 - accuracy: 0.9906 - val_loss: 0.0302 - val_accuracy: 0.9923\n",
            "Epoch 9/100\n",
            "1499/1500 [============================>.] - ETA: 0s - loss: 0.0267 - accuracy: 0.9914\n",
            "Epoch 9: val_accuracy did not improve from 0.99225\n",
            "1500/1500 [==============================] - 7s 5ms/step - loss: 0.0266 - accuracy: 0.9914 - val_loss: 0.0326 - val_accuracy: 0.9914\n",
            "Epoch 10/100\n",
            "1489/1500 [============================>.] - ETA: 0s - loss: 0.0242 - accuracy: 0.9923\n",
            "Epoch 10: val_accuracy did not improve from 0.99225\n",
            "1500/1500 [==============================] - 6s 4ms/step - loss: 0.0241 - accuracy: 0.9923 - val_loss: 0.0313 - val_accuracy: 0.9917\n",
            "Epoch 11/100\n",
            "1491/1500 [============================>.] - ETA: 0s - loss: 0.0233 - accuracy: 0.9927\n",
            "Epoch 11: val_accuracy did not improve from 0.99225\n",
            "1500/1500 [==============================] - 6s 4ms/step - loss: 0.0234 - accuracy: 0.9927 - val_loss: 0.0365 - val_accuracy: 0.9903\n",
            "Epoch 12/100\n",
            "1496/1500 [============================>.] - ETA: 0s - loss: 0.0231 - accuracy: 0.9924\n",
            "Epoch 12: val_accuracy improved from 0.99225 to 0.99267, saving model to mnist/try01_2.h5\n",
            "1500/1500 [==============================] - 7s 4ms/step - loss: 0.0231 - accuracy: 0.9924 - val_loss: 0.0268 - val_accuracy: 0.9927\n",
            "Epoch 13/100\n",
            "1489/1500 [============================>.] - ETA: 0s - loss: 0.0213 - accuracy: 0.9929\n",
            "Epoch 13: val_accuracy did not improve from 0.99267\n",
            "1500/1500 [==============================] - 7s 5ms/step - loss: 0.0212 - accuracy: 0.9929 - val_loss: 0.0270 - val_accuracy: 0.9926\n",
            "Epoch 14/100\n",
            "1495/1500 [============================>.] - ETA: 0s - loss: 0.0205 - accuracy: 0.9933\n",
            "Epoch 14: val_accuracy did not improve from 0.99267\n",
            "1500/1500 [==============================] - 7s 5ms/step - loss: 0.0204 - accuracy: 0.9933 - val_loss: 0.0264 - val_accuracy: 0.9925\n",
            "Epoch 15/100\n",
            "1493/1500 [============================>.] - ETA: 0s - loss: 0.0204 - accuracy: 0.9934\n",
            "Epoch 15: val_accuracy did not improve from 0.99267\n",
            "1500/1500 [==============================] - 7s 5ms/step - loss: 0.0204 - accuracy: 0.9934 - val_loss: 0.0304 - val_accuracy: 0.9912\n",
            "Epoch 16/100\n",
            "1497/1500 [============================>.] - ETA: 0s - loss: 0.0188 - accuracy: 0.9940\n",
            "Epoch 16: val_accuracy improved from 0.99267 to 0.99358, saving model to mnist/try01_2.h5\n",
            "1500/1500 [==============================] - 7s 5ms/step - loss: 0.0188 - accuracy: 0.9940 - val_loss: 0.0260 - val_accuracy: 0.9936\n",
            "Epoch 17/100\n",
            "1496/1500 [============================>.] - ETA: 0s - loss: 0.0186 - accuracy: 0.9940\n",
            "Epoch 17: val_accuracy did not improve from 0.99358\n",
            "1500/1500 [==============================] - 6s 4ms/step - loss: 0.0186 - accuracy: 0.9940 - val_loss: 0.0226 - val_accuracy: 0.9933\n",
            "Epoch 18/100\n",
            "1493/1500 [============================>.] - ETA: 0s - loss: 0.0176 - accuracy: 0.9944\n",
            "Epoch 18: val_accuracy did not improve from 0.99358\n",
            "1500/1500 [==============================] - 7s 5ms/step - loss: 0.0176 - accuracy: 0.9944 - val_loss: 0.0255 - val_accuracy: 0.9930\n",
            "Epoch 19/100\n",
            "1491/1500 [============================>.] - ETA: 0s - loss: 0.0171 - accuracy: 0.9944\n",
            "Epoch 19: val_accuracy did not improve from 0.99358\n",
            "1500/1500 [==============================] - 7s 5ms/step - loss: 0.0170 - accuracy: 0.9945 - val_loss: 0.0289 - val_accuracy: 0.9926\n",
            "Epoch 20/100\n",
            "1496/1500 [============================>.] - ETA: 0s - loss: 0.0177 - accuracy: 0.9945\n",
            "Epoch 20: val_accuracy did not improve from 0.99358\n",
            "1500/1500 [==============================] - 6s 4ms/step - loss: 0.0177 - accuracy: 0.9945 - val_loss: 0.0284 - val_accuracy: 0.9933\n",
            "Epoch 21/100\n",
            "1496/1500 [============================>.] - ETA: 0s - loss: 0.0167 - accuracy: 0.9947\n",
            "Epoch 21: val_accuracy did not improve from 0.99358\n",
            "1500/1500 [==============================] - 7s 5ms/step - loss: 0.0168 - accuracy: 0.9946 - val_loss: 0.0246 - val_accuracy: 0.9934\n",
            "Epoch 22/100\n",
            "1487/1500 [============================>.] - ETA: 0s - loss: 0.0147 - accuracy: 0.9947\n",
            "Epoch 22: val_accuracy did not improve from 0.99358\n",
            "1500/1500 [==============================] - 6s 4ms/step - loss: 0.0148 - accuracy: 0.9947 - val_loss: 0.0297 - val_accuracy: 0.9922\n",
            "Epoch 23/100\n",
            "1495/1500 [============================>.] - ETA: 0s - loss: 0.0153 - accuracy: 0.9950\n",
            "Epoch 23: val_accuracy did not improve from 0.99358\n",
            "1500/1500 [==============================] - 6s 4ms/step - loss: 0.0154 - accuracy: 0.9950 - val_loss: 0.0258 - val_accuracy: 0.9933\n",
            "Epoch 24/100\n",
            "1491/1500 [============================>.] - ETA: 0s - loss: 0.0161 - accuracy: 0.9948\n",
            "Epoch 24: val_accuracy did not improve from 0.99358\n",
            "1500/1500 [==============================] - 7s 4ms/step - loss: 0.0161 - accuracy: 0.9948 - val_loss: 0.0291 - val_accuracy: 0.9930\n",
            "Epoch 25/100\n",
            "1493/1500 [============================>.] - ETA: 0s - loss: 0.0180 - accuracy: 0.9943\n",
            "Epoch 25: val_accuracy did not improve from 0.99358\n",
            "1500/1500 [==============================] - 6s 4ms/step - loss: 0.0179 - accuracy: 0.9943 - val_loss: 0.0266 - val_accuracy: 0.9930\n",
            "Epoch 26/100\n",
            "1498/1500 [============================>.] - ETA: 0s - loss: 0.0153 - accuracy: 0.9951\n",
            "Epoch 26: val_accuracy did not improve from 0.99358\n",
            "1500/1500 [==============================] - 7s 5ms/step - loss: 0.0153 - accuracy: 0.9951 - val_loss: 0.0254 - val_accuracy: 0.9933\n",
            "Epoch 27/100\n",
            "1500/1500 [==============================] - ETA: 0s - loss: 0.0150 - accuracy: 0.9951\n",
            "Epoch 27: val_accuracy did not improve from 0.99358\n",
            "1500/1500 [==============================] - 6s 4ms/step - loss: 0.0150 - accuracy: 0.9951 - val_loss: 0.0286 - val_accuracy: 0.9928\n",
            "Epoch 27: early stopping\n"
          ]
        }
      ]
    },
    {
      "cell_type": "code",
      "source": [
        "result = model_1_2.evaluate(test_imgs, test_labels)\n",
        "print(\"\\n테스트 정확도: %.4f\" %(result)[1])"
      ],
      "metadata": {
        "id": "BBHg9vsCzFeD",
        "colab": {
          "base_uri": "https://localhost:8080/"
        },
        "outputId": "f03a9bf3-3420-4f82-84a0-2d7c8383fd6b"
      },
      "execution_count": null,
      "outputs": [
        {
          "output_type": "stream",
          "name": "stdout",
          "text": [
            "313/313 [==============================] - 1s 3ms/step - loss: 0.0224 - accuracy: 0.9939\n",
            "\n",
            "테스트 정확도: 0.9939\n"
          ]
        }
      ]
    },
    {
      "cell_type": "code",
      "source": [
        "loaded_model = load_model('mnist/try01_2.h5')\n",
        "result_loaded = loaded_model.evaluate(test_imgs, test_labels)\n",
        "print(\"\\n불러온 모델 테스트 정확도: %.4f\" %(result_loaded)[1])"
      ],
      "metadata": {
        "id": "-OddZd0hzFeE",
        "colab": {
          "base_uri": "https://localhost:8080/"
        },
        "outputId": "631969d2-a260-49d5-9a3c-62c382ba79c7"
      },
      "execution_count": null,
      "outputs": [
        {
          "output_type": "stream",
          "name": "stdout",
          "text": [
            "313/313 [==============================] - 1s 3ms/step - loss: 0.0200 - accuracy: 0.9939\n",
            "\n",
            "불러온 모델 테스트 정확도: 0.9939\n"
          ]
        }
      ]
    },
    {
      "cell_type": "code",
      "source": [
        "acc = hist_1_2.history['accuracy']\n",
        "val_acc = hist_1_2.history['val_accuracy']\n",
        "loss = hist_1_2.history['loss']\n",
        "val_loss = hist_1_2.history['val_loss']\n",
        "\n",
        "epochs = range(1, len(acc)+1)\n",
        "\n",
        "plt.figure(figsize=(8, 12))\n",
        "ax1=plt.subplot(2, 1, 1)\n",
        "ax2=plt.subplot(2, 1, 2)\n",
        "ax1.plot(epochs, acc, 'bo', label='Trainig acc')\n",
        "ax1.plot(epochs, val_acc, 'b', label='Validation acc')\n",
        "ax1.set_title(\"Training and Validation accuracy\")\n",
        "ax1.legend()\n",
        "ax2.plot(epochs, loss, 'bo', label='Traning loss')\n",
        "ax2.plot(epochs, val_loss, 'b', label='Validation loss')\n",
        "ax2.set_title(\"Training and Validation loss\")\n",
        "ax2.legend()\n",
        "plt.show()"
      ],
      "metadata": {
        "id": "0gLCkZufzFeE",
        "colab": {
          "base_uri": "https://localhost:8080/",
          "height": 716
        },
        "outputId": "7609f324-45e9-432c-a44e-2bb83308f431"
      },
      "execution_count": null,
      "outputs": [
        {
          "output_type": "display_data",
          "data": {
            "text/plain": [
              "<Figure size 576x864 with 2 Axes>"
            ],
            "image/png": "[encoded data removed]"
          },
          "metadata": {
            "needs_background": "light"
          }
        }
      ]
    },
    {
      "cell_type": "code",
      "source": [
        "df.loc[2]=['CNN', 'model_1_2', '32(relu/drop0.2)-64(relu/drop0.2)-128(drop0.5/relu)-Flatten-64(sigmoid)-10(softmax)]', 'adam', 100, 32, 0.2, 'es/mc', \"%.4f\"%(result)[1], \"%.4f\"%(result_loaded)[1], \"%.4f\"%(result)[0], \"%.4f\"%(result_loaded)[0]]"
      ],
      "metadata": {
        "id": "i57lgiGgzFeF"
      },
      "execution_count": null,
      "outputs": []
    },
    {
      "cell_type": "code",
      "source": [
        "df.head()"
      ],
      "metadata": {
        "id": "K82gOTDByz2D",
        "colab": {
          "base_uri": "https://localhost:8080/",
          "height": 207
        },
        "outputId": "0bc1b779-d4c0-4f0a-9ecc-8ae91604985a"
      },
      "execution_count": null,
      "outputs": [
        {
          "output_type": "execute_result",
          "data": {
            "text/plain": [
              "    모델       Name                                          Structure  \\\n",
              "0  CNN    model_1  32(relu/drop0.2)-64(relu/drop0.2)-128(drop0.5/...   \n",
              "1  CNN  model_1_1  32(relu/drop0.2)-64(relu/drop0.2)-128(drop0.5/...   \n",
              "2  CNN  model_1_2  32(relu/drop0.2)-64(relu/drop0.2)-128(drop0.5/...   \n",
              "\n",
              "  Optimizer  epochs  batch_size  validation_split callback Accuracy  \\\n",
              "0       SGD     100          32               0.2    es/mc   0.9932   \n",
              "1   rmsprop     100          32               0.2    es/mc   0.9927   \n",
              "2      adam     100          32               0.2    es/mc   0.9939   \n",
              "\n",
              "  MC_Accuracy    Loss MC_Loss  \n",
              "0      0.9927  0.0223  0.0229  \n",
              "1      0.9927  0.0350  0.0350  \n",
              "2      0.9939  0.0224  0.0200  "
            ],
            "text/html": [
              "\n",
              "  <div id=\"df-451b8af2-6361-4080-9a2a-655d387f2c15\">\n",
              "    <div class=\"colab-df-container\">\n",
              "      <div>\n",
              "<style scoped>\n",
              "    .dataframe tbody tr th:only-of-type {\n",
              "        vertical-align: middle;\n",
              "    }\n",
              "\n",
              "    .dataframe tbody tr th {\n",
              "        vertical-align: top;\n",
              "    }\n",
              "\n",
              "    .dataframe thead th {\n",
              "        text-align: right;\n",
              "    }\n",
              "</style>\n",
              "<table border=\"1\" class=\"dataframe\">\n",
              "  <thead>\n",
              "    <tr style=\"text-align: right;\">\n",
              "      <th></th>\n",
              "      <th>모델</th>\n",
              "      <th>Name</th>\n",
              "      <th>Structure</th>\n",
              "      <th>Optimizer</th>\n",
              "      <th>epochs</th>\n",
              "      <th>batch_size</th>\n",
              "      <th>validation_split</th>\n",
              "      <th>callback</th>\n",
              "      <th>Accuracy</th>\n",
              "      <th>MC_Accuracy</th>\n",
              "      <th>Loss</th>\n",
              "      <th>MC_Loss</th>\n",
              "    </tr>\n",
              "  </thead>\n",
              "  <tbody>\n",
              "    <tr>\n",
              "      <th>0</th>\n",
              "      <td>CNN</td>\n",
              "      <td>model_1</td>\n",
              "      <td>32(relu/drop0.2)-64(relu/drop0.2)-128(drop0.5/...</td>\n",
              "      <td>SGD</td>\n",
              "      <td>100</td>\n",
              "      <td>32</td>\n",
              "      <td>0.2</td>\n",
              "      <td>es/mc</td>\n",
              "      <td>0.9932</td>\n",
              "      <td>0.9927</td>\n",
              "      <td>0.0223</td>\n",
              "      <td>0.0229</td>\n",
              "    </tr>\n",
              "    <tr>\n",
              "      <th>1</th>\n",
              "      <td>CNN</td>\n",
              "      <td>model_1_1</td>\n",
              "      <td>32(relu/drop0.2)-64(relu/drop0.2)-128(drop0.5/...</td>\n",
              "      <td>rmsprop</td>\n",
              "      <td>100</td>\n",
              "      <td>32</td>\n",
              "      <td>0.2</td>\n",
              "      <td>es/mc</td>\n",
              "      <td>0.9927</td>\n",
              "      <td>0.9927</td>\n",
              "      <td>0.0350</td>\n",
              "      <td>0.0350</td>\n",
              "    </tr>\n",
              "    <tr>\n",
              "      <th>2</th>\n",
              "      <td>CNN</td>\n",
              "      <td>model_1_2</td>\n",
              "      <td>32(relu/drop0.2)-64(relu/drop0.2)-128(drop0.5/...</td>\n",
              "      <td>adam</td>\n",
              "      <td>100</td>\n",
              "      <td>32</td>\n",
              "      <td>0.2</td>\n",
              "      <td>es/mc</td>\n",
              "      <td>0.9939</td>\n",
              "      <td>0.9939</td>\n",
              "      <td>0.0224</td>\n",
              "      <td>0.0200</td>\n",
              "    </tr>\n",
              "  </tbody>\n",
              "</table>\n",
              "</div>\n",
              "      <button class=\"colab-df-convert\" onclick=\"convertToInteractive('df-451b8af2-6361-4080-9a2a-655d387f2c15')\"\n",
              "              title=\"Convert this dataframe to an interactive table.\"\n",
              "              style=\"display:none;\">\n",
              "        \n",
              "  <svg xmlns=\"http://www.w3.org/2000/svg\" height=\"24px\"viewBox=\"0 0 24 24\"\n",
              "       width=\"24px\">\n",
              "    <path d=\"M0 0h24v24H0V0z\" fill=\"none\"/>\n",
              "    <path d=\"M18.56 5.44l.94 2.06.94-2.06 2.06-.94-2.06-.94-.94-2.06-.94 2.06-2.06.94zm-11 1L8.5 8.5l.94-2.06 2.06-.94-2.06-.94L8.5 2.5l-.94 2.06-2.06.94zm10 10l.94 2.06.94-2.06 2.06-.94-2.06-.94-.94-2.06-.94 2.06-2.06.94z\"/><path d=\"M17.41 7.96l-1.37-1.37c-.4-.4-.92-.59-1.43-.59-.52 0-1.04.2-1.43.59L10.3 9.45l-7.72 7.72c-.78.78-.78 2.05 0 2.83L4 21.41c.39.39.9.59 1.41.59.51 0 1.02-.2 1.41-.59l7.78-7.78 2.81-2.81c.8-.78.8-2.07 0-2.86zM5.41 20L4 18.59l7.72-7.72 1.47 1.35L5.41 20z\"/>\n",
              "  </svg>\n",
              "      </button>\n",
              "      \n",
              "  <style>\n",
              "    .colab-df-container {\n",
              "      display:flex;\n",
              "      flex-wrap:wrap;\n",
              "      gap: 12px;\n",
              "    }\n",
              "\n",
              "    .colab-df-convert {\n",
              "      background-color: #E8F0FE;\n",
              "      border: none;\n",
              "      border-radius: 50%;\n",
              "      cursor: pointer;\n",
              "      display: none;\n",
              "      fill: #1967D2;\n",
              "      height: 32px;\n",
              "      padding: 0 0 0 0;\n",
              "      width: 32px;\n",
              "    }\n",
              "\n",
              "    .colab-df-convert:hover {\n",
              "      background-color: #E2EBFA;\n",
              "      box-shadow: 0px 1px 2px rgba(60, 64, 67, 0.3), 0px 1px 3px 1px rgba(60, 64, 67, 0.15);\n",
              "      fill: #174EA6;\n",
              "    }\n",
              "\n",
              "    [theme=dark] .colab-df-convert {\n",
              "      background-color: #3B4455;\n",
              "      fill: #D2E3FC;\n",
              "    }\n",
              "\n",
              "    [theme=dark] .colab-df-convert:hover {\n",
              "      background-color: #434B5C;\n",
              "      box-shadow: 0px 1px 3px 1px rgba(0, 0, 0, 0.15);\n",
              "      filter: drop-shadow(0px 1px 2px rgba(0, 0, 0, 0.3));\n",
              "      fill: #FFFFFF;\n",
              "    }\n",
              "  </style>\n",
              "\n",
              "      <script>\n",
              "        const buttonEl =\n",
              "          document.querySelector('#df-451b8af2-6361-4080-9a2a-655d387f2c15 button.colab-df-convert');\n",
              "        buttonEl.style.display =\n",
              "          google.colab.kernel.accessAllowed ? 'block' : 'none';\n",
              "\n",
              "        async function convertToInteractive(key) {\n",
              "          const element = document.querySelector('#df-451b8af2-6361-4080-9a2a-655d387f2c15');\n",
              "          const dataTable =\n",
              "            await google.colab.kernel.invokeFunction('convertToInteractive',\n",
              "                                                     [key], {});\n",
              "          if (!dataTable) return;\n",
              "\n",
              "          const docLinkHtml = 'Like what you see? Visit the ' +\n",
              "            '<a target=\"_blank\" href=https://colab.research.google.com/notebooks/data_table.ipynb>data table notebook</a>'\n",
              "            + ' to learn more about interactive tables.';\n",
              "          element.innerHTML = '';\n",
              "          dataTable['output_type'] = 'display_data';\n",
              "          await google.colab.output.renderOutput(dataTable, element);\n",
              "          const docLink = document.createElement('div');\n",
              "          docLink.innerHTML = docLinkHtml;\n",
              "          element.appendChild(docLink);\n",
              "        }\n",
              "      </script>\n",
              "    </div>\n",
              "  </div>\n",
              "  "
            ]
          },
          "metadata": {},
          "execution_count": 34
        }
      ]
    }
  ]
}
