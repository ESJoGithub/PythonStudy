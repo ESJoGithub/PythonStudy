{
  "nbformat": 4,
  "nbformat_minor": 0,
  "metadata": {
    "colab": {
      "provenance": [],
      "collapsed_sections": [],
      "include_colab_link": true
    },
    "kernelspec": {
      "name": "python3",
      "display_name": "Python 3"
    },
    "language_info": {
      "name": "python"
    }
  },
  "cells": [
    {
      "cell_type": "markdown",
      "metadata": {
        "id": "view-in-github",
        "colab_type": "text"
      },
      "source": [
        "<a href=\"https://colab.research.google.com/github/ESJoGithub/PythonStudy/blob/main/DeepLearning/MNIST/Keras_220921_MNIST_%EC%8B%A4%EC%8A%B501_01.ipynb\" target=\"_parent\"><img src=\"https://colab.research.google.com/assets/colab-badge.svg\" alt=\"Open In Colab\"/></a>"
      ]
    },
    {
      "cell_type": "code",
      "source": [
        "from google.colab import drive\n",
        "drive.mount('/content/drive')"
      ],
      "metadata": {
        "id": "oxtO2zTTtPq3",
        "outputId": "b9bdbe4f-a547-436b-8740-fb8a68595e46",
        "colab": {
          "base_uri": "https://localhost:8080/"
        }
      },
      "execution_count": null,
      "outputs": [
        {
          "output_type": "stream",
          "name": "stdout",
          "text": [
            "Mounted at /content/drive\n"
          ]
        }
      ]
    },
    {
      "cell_type": "code",
      "source": [
        "!ln -s /content/drive/MyDrive /mydrive"
      ],
      "metadata": {
        "id": "e2ZTrV_htIFl"
      },
      "execution_count": null,
      "outputs": []
    },
    {
      "cell_type": "code",
      "source": [
        "%cd /mydrive"
      ],
      "metadata": {
        "id": "B9ry3cBStVU1",
        "colab": {
          "base_uri": "https://localhost:8080/"
        },
        "outputId": "abda5f02-e146-474d-cc61-6fcf1c414295"
      },
      "execution_count": null,
      "outputs": [
        {
          "output_type": "stream",
          "name": "stdout",
          "text": [
            "/content/drive/MyDrive\n"
          ]
        }
      ]
    },
    {
      "cell_type": "code",
      "source": [
        "!mkdir mnist"
      ],
      "metadata": {
        "id": "98FN5iLDtXqb",
        "colab": {
          "base_uri": "https://localhost:8080/"
        },
        "outputId": "637567d4-e088-4e53-ff1a-10876a9c185f"
      },
      "execution_count": null,
      "outputs": [
        {
          "output_type": "stream",
          "name": "stdout",
          "text": [
            "mkdir: cannot create directory ‘mnist’: File exists\n"
          ]
        }
      ]
    },
    {
      "cell_type": "markdown",
      "source": [
        "## __CNN Layer 구조 변경 & 드롭아웃 일괄적용__\n",
        "---\n",
        "epoch수를 늘리고 callback함수를 넣되 patience 횟수를 키운다.\n",
        "\n",
        "SGD, adam, rmsprop 각 optimizer별 batch_size를 변경해볼 것"
      ],
      "metadata": {
        "id": "19CLRpWxwL5T"
      }
    },
    {
      "cell_type": "markdown",
      "source": [
        "### **1. Library Import**"
      ],
      "metadata": {
        "id": "9Tx44ggmYNsD"
      }
    },
    {
      "cell_type": "code",
      "source": [
        "from keras import datasets, layers, models                \n",
        "from tensorflow import keras                         # to_categorical 함수\n",
        "from tensorflow.keras.models import load_model\n",
        "from tensorflow.keras.callbacks import EarlyStopping, ModelCheckpoint\n",
        "\n",
        "import numpy as np\n",
        "import matplotlib.pyplot as plt\n",
        "import pandas as pd"
      ],
      "metadata": {
        "id": "UFco5dLCQBQF"
      },
      "execution_count": null,
      "outputs": []
    },
    {
      "cell_type": "code",
      "source": [
        "(train_imgs, train_labels), (test_imgs, test_labels) = datasets.mnist.load_data()"
      ],
      "metadata": {
        "id": "rwcqMzdKTPwN",
        "colab": {
          "base_uri": "https://localhost:8080/"
        },
        "outputId": "8edfea74-aa97-492c-8784-336a711ecfd9"
      },
      "execution_count": null,
      "outputs": [
        {
          "output_type": "stream",
          "name": "stdout",
          "text": [
            "Downloading data from https://storage.googleapis.com/tensorflow/tf-keras-datasets/mnist.npz\n",
            "11493376/11490434 [==============================] - 0s 0us/step\n",
            "11501568/11490434 [==============================] - 0s 0us/step\n"
          ]
        }
      ]
    },
    {
      "cell_type": "markdown",
      "source": [
        "### **2. 데이터 확인 및 전처리**"
      ],
      "metadata": {
        "id": "vcIHfL7pYJps"
      }
    },
    {
      "cell_type": "code",
      "source": [
        "train_imgs = train_imgs/255.0\n",
        "test_imgs = test_imgs/255.0"
      ],
      "metadata": {
        "id": "w4IFaKuOYIfc"
      },
      "execution_count": null,
      "outputs": []
    },
    {
      "cell_type": "code",
      "source": [
        "print(train_imgs.shape)\n",
        "print(test_imgs.shape)"
      ],
      "metadata": {
        "id": "A9ujYrDMiRy1",
        "colab": {
          "base_uri": "https://localhost:8080/"
        },
        "outputId": "4e59620a-fe66-4fa9-ce43-ebb9312520c1"
      },
      "execution_count": null,
      "outputs": [
        {
          "output_type": "stream",
          "name": "stdout",
          "text": [
            "(60000, 28, 28)\n",
            "(10000, 28, 28)\n"
          ]
        }
      ]
    },
    {
      "cell_type": "code",
      "source": [
        "train_imgs = train_imgs.reshape((60000, 28, 28, 1))\n",
        "test_imgs = test_imgs.reshape((10000, 28, 28, 1))"
      ],
      "metadata": {
        "id": "5IGxhDfjiN7d"
      },
      "execution_count": null,
      "outputs": []
    },
    {
      "cell_type": "code",
      "source": [
        "train_labels = keras.utils.to_categorical(train_labels, num_classes=10)\n",
        "test_labels = keras.utils.to_categorical(test_labels, num_classes=10)"
      ],
      "metadata": {
        "id": "ouDs40X-n_uw"
      },
      "execution_count": null,
      "outputs": []
    },
    {
      "cell_type": "markdown",
      "source": [
        "### __모델 변경__\n",
        "\n",
        "---\n",
        "CNN 특성 및 MNIST 자료 특성을 고려할 때, 초기의 세부적인 데이터 정보보다 여러 필터를 거치고난 후의 구조적인 특징정보가 판단에 더 중요할 것이라고 가정하고 출력층에 가까울수록 필터 수를 점점 키워 가중치 변화에 따른 영향을 줄여나가는 방식으로 수정\n",
        "\n",
        "Dropout 추가 (64-0.2, 128-0.5)\n",
        "epoch=100 EarlyStop patient = 10으로 키워서 진행해본다. "
      ],
      "metadata": {
        "id": "NTqxfKdbYvVL"
      }
    },
    {
      "cell_type": "markdown",
      "source": [
        "#### __1. batch_size default(32), 출력 직전층 activation='relu', optimizer='SGD'__ "
      ],
      "metadata": {
        "id": "CMdQEIi7gG_d"
      }
    },
    {
      "cell_type": "code",
      "source": [
        "import keras"
      ],
      "metadata": {
        "id": "EtDrGU7LlR96"
      },
      "execution_count": null,
      "outputs": []
    },
    {
      "cell_type": "code",
      "source": [
        "model_1 = keras.Sequential([\n",
        "  layers.Conv2D(32, (3, 3), activation='relu', input_shape=(28, 28, 1)),\n",
        "  layers.Dropout(0.2),\n",
        "  layers.MaxPooling2D((2, 2)),\n",
        "  layers.Conv2D(64, (3, 3), activation='relu'),\n",
        "  layers.Dropout(0.2),\n",
        "  layers.MaxPooling2D((2, 2)),\n",
        "  layers.Conv2D(128, (3, 3), activation='relu'),\n",
        "  layers.Dropout(0.5),\n",
        "  layers.Flatten(),\n",
        "  layers.Dense(64, activation = 'relu'),\n",
        "  layers.Dense(10, activation = 'softmax')\n",
        "])\n",
        "model_1.summary()"
      ],
      "metadata": {
        "id": "LSy5b6TEYmJj",
        "colab": {
          "base_uri": "https://localhost:8080/"
        },
        "outputId": "00cb00ce-4f39-479e-ee9c-17bc960700df"
      },
      "execution_count": null,
      "outputs": [
        {
          "output_type": "stream",
          "name": "stdout",
          "text": [
            "Model: \"sequential\"\n",
            "_________________________________________________________________\n",
            " Layer (type)                Output Shape              Param #   \n",
            "=================================================================\n",
            " conv2d (Conv2D)             (None, 26, 26, 32)        320       \n",
            "                                                                 \n",
            " dropout (Dropout)           (None, 26, 26, 32)        0         \n",
            "                                                                 \n",
            " max_pooling2d (MaxPooling2D  (None, 13, 13, 32)       0         \n",
            " )                                                               \n",
            "                                                                 \n",
            " conv2d_1 (Conv2D)           (None, 11, 11, 64)        18496     \n",
            "                                                                 \n",
            " dropout_1 (Dropout)         (None, 11, 11, 64)        0         \n",
            "                                                                 \n",
            " max_pooling2d_1 (MaxPooling  (None, 5, 5, 64)         0         \n",
            " 2D)                                                             \n",
            "                                                                 \n",
            " conv2d_2 (Conv2D)           (None, 3, 3, 128)         73856     \n",
            "                                                                 \n",
            " dropout_2 (Dropout)         (None, 3, 3, 128)         0         \n",
            "                                                                 \n",
            " flatten (Flatten)           (None, 1152)              0         \n",
            "                                                                 \n",
            " dense (Dense)               (None, 64)                73792     \n",
            "                                                                 \n",
            " dense_1 (Dense)             (None, 10)                650       \n",
            "                                                                 \n",
            "=================================================================\n",
            "Total params: 167,114\n",
            "Trainable params: 167,114\n",
            "Non-trainable params: 0\n",
            "_________________________________________________________________\n"
          ]
        }
      ]
    },
    {
      "cell_type": "code",
      "source": [
        "model_1.compile(optimizer=\"SGD\", loss=\"categorical_crossentropy\", metrics=[\"accuracy\"])"
      ],
      "metadata": {
        "id": "rIRHwKY3gm2w"
      },
      "execution_count": null,
      "outputs": []
    },
    {
      "cell_type": "code",
      "source": [
        "es = EarlyStopping(monitor='val_loss', mode='min', verbose=1, patience=10)\n",
        "mc = ModelCheckpoint('mnist/try01.h5', monitor='val_accuracy', mode='max', verbose=1, save_best_only=True)\n",
        "hist_1 = model_1.fit(train_imgs, train_labels, epochs=100, validation_split=0.2, callbacks=[es, mc])"
      ],
      "metadata": {
        "id": "rmGRWjkknkZo",
        "colab": {
          "base_uri": "https://localhost:8080/"
        },
        "outputId": "ddc4230c-fcad-4feb-ceff-ce4c9ba08d2f"
      },
      "execution_count": null,
      "outputs": [
        {
          "output_type": "stream",
          "name": "stdout",
          "text": [
            "Epoch 1/100\n",
            "1500/1500 [==============================] - ETA: 0s - loss: 0.7636 - accuracy: 0.7520\n",
            "Epoch 1: val_accuracy improved from -inf to 0.94492, saving model to mnist/try01.h5\n",
            "1500/1500 [==============================] - 19s 5ms/step - loss: 0.7636 - accuracy: 0.7520 - val_loss: 0.2438 - val_accuracy: 0.9449\n",
            "Epoch 2/100\n",
            "1498/1500 [============================>.] - ETA: 0s - loss: 0.2103 - accuracy: 0.9351\n",
            "Epoch 2: val_accuracy improved from 0.94492 to 0.96525, saving model to mnist/try01.h5\n",
            "1500/1500 [==============================] - 7s 5ms/step - loss: 0.2102 - accuracy: 0.9351 - val_loss: 0.1463 - val_accuracy: 0.9653\n",
            "Epoch 3/100\n",
            "1496/1500 [============================>.] - ETA: 0s - loss: 0.1391 - accuracy: 0.9562\n",
            "Epoch 3: val_accuracy improved from 0.96525 to 0.97558, saving model to mnist/try01.h5\n",
            "1500/1500 [==============================] - 8s 5ms/step - loss: 0.1391 - accuracy: 0.9562 - val_loss: 0.0972 - val_accuracy: 0.9756\n",
            "Epoch 4/100\n",
            "1494/1500 [============================>.] - ETA: 0s - loss: 0.1145 - accuracy: 0.9640\n",
            "Epoch 4: val_accuracy improved from 0.97558 to 0.97908, saving model to mnist/try01.h5\n",
            "1500/1500 [==============================] - 6s 4ms/step - loss: 0.1146 - accuracy: 0.9639 - val_loss: 0.0879 - val_accuracy: 0.9791\n",
            "Epoch 5/100\n",
            "1493/1500 [============================>.] - ETA: 0s - loss: 0.0973 - accuracy: 0.9694\n",
            "Epoch 5: val_accuracy improved from 0.97908 to 0.98108, saving model to mnist/try01.h5\n",
            "1500/1500 [==============================] - 6s 4ms/step - loss: 0.0971 - accuracy: 0.9695 - val_loss: 0.0782 - val_accuracy: 0.9811\n",
            "Epoch 6/100\n",
            "1500/1500 [==============================] - ETA: 0s - loss: 0.0849 - accuracy: 0.9732\n",
            "Epoch 6: val_accuracy improved from 0.98108 to 0.98292, saving model to mnist/try01.h5\n",
            "1500/1500 [==============================] - 6s 4ms/step - loss: 0.0849 - accuracy: 0.9732 - val_loss: 0.0739 - val_accuracy: 0.9829\n",
            "Epoch 7/100\n",
            "1487/1500 [============================>.] - ETA: 0s - loss: 0.0818 - accuracy: 0.9748\n",
            "Epoch 7: val_accuracy improved from 0.98292 to 0.98483, saving model to mnist/try01.h5\n",
            "1500/1500 [==============================] - 6s 4ms/step - loss: 0.0815 - accuracy: 0.9749 - val_loss: 0.0665 - val_accuracy: 0.9848\n",
            "Epoch 8/100\n",
            "1500/1500 [==============================] - ETA: 0s - loss: 0.0715 - accuracy: 0.9772\n",
            "Epoch 8: val_accuracy did not improve from 0.98483\n",
            "1500/1500 [==============================] - 7s 4ms/step - loss: 0.0715 - accuracy: 0.9772 - val_loss: 0.0699 - val_accuracy: 0.9824\n",
            "Epoch 9/100\n",
            "1489/1500 [============================>.] - ETA: 0s - loss: 0.0691 - accuracy: 0.9787\n",
            "Epoch 9: val_accuracy improved from 0.98483 to 0.98508, saving model to mnist/try01.h5\n",
            "1500/1500 [==============================] - 7s 5ms/step - loss: 0.0693 - accuracy: 0.9786 - val_loss: 0.0612 - val_accuracy: 0.9851\n",
            "Epoch 10/100\n",
            "1491/1500 [============================>.] - ETA: 0s - loss: 0.0646 - accuracy: 0.9789\n",
            "Epoch 10: val_accuracy improved from 0.98508 to 0.98717, saving model to mnist/try01.h5\n",
            "1500/1500 [==============================] - 7s 5ms/step - loss: 0.0645 - accuracy: 0.9790 - val_loss: 0.0523 - val_accuracy: 0.9872\n",
            "Epoch 11/100\n",
            "1496/1500 [============================>.] - ETA: 0s - loss: 0.0588 - accuracy: 0.9816\n",
            "Epoch 11: val_accuracy did not improve from 0.98717\n",
            "1500/1500 [==============================] - 7s 4ms/step - loss: 0.0587 - accuracy: 0.9816 - val_loss: 0.0550 - val_accuracy: 0.9866\n",
            "Epoch 12/100\n",
            "1496/1500 [============================>.] - ETA: 0s - loss: 0.0556 - accuracy: 0.9821\n",
            "Epoch 12: val_accuracy did not improve from 0.98717\n",
            "1500/1500 [==============================] - 6s 4ms/step - loss: 0.0555 - accuracy: 0.9821 - val_loss: 0.0564 - val_accuracy: 0.9857\n",
            "Epoch 13/100\n",
            "1497/1500 [============================>.] - ETA: 0s - loss: 0.0523 - accuracy: 0.9827\n",
            "Epoch 13: val_accuracy improved from 0.98717 to 0.98783, saving model to mnist/try01.h5\n",
            "1500/1500 [==============================] - 6s 4ms/step - loss: 0.0522 - accuracy: 0.9827 - val_loss: 0.0490 - val_accuracy: 0.9878\n",
            "Epoch 14/100\n",
            "1489/1500 [============================>.] - ETA: 0s - loss: 0.0509 - accuracy: 0.9833\n",
            "Epoch 14: val_accuracy did not improve from 0.98783\n",
            "1500/1500 [==============================] - 7s 4ms/step - loss: 0.0508 - accuracy: 0.9834 - val_loss: 0.0455 - val_accuracy: 0.9876\n",
            "Epoch 15/100\n",
            "1500/1500 [==============================] - ETA: 0s - loss: 0.0483 - accuracy: 0.9847\n",
            "Epoch 15: val_accuracy improved from 0.98783 to 0.98842, saving model to mnist/try01.h5\n",
            "1500/1500 [==============================] - 6s 4ms/step - loss: 0.0483 - accuracy: 0.9847 - val_loss: 0.0450 - val_accuracy: 0.9884\n",
            "Epoch 16/100\n",
            "1500/1500 [==============================] - ETA: 0s - loss: 0.0460 - accuracy: 0.9847\n",
            "Epoch 16: val_accuracy did not improve from 0.98842\n",
            "1500/1500 [==============================] - 7s 4ms/step - loss: 0.0460 - accuracy: 0.9847 - val_loss: 0.0451 - val_accuracy: 0.9882\n",
            "Epoch 17/100\n",
            "1495/1500 [============================>.] - ETA: 0s - loss: 0.0453 - accuracy: 0.9858\n",
            "Epoch 17: val_accuracy improved from 0.98842 to 0.98925, saving model to mnist/try01.h5\n",
            "1500/1500 [==============================] - 6s 4ms/step - loss: 0.0455 - accuracy: 0.9857 - val_loss: 0.0454 - val_accuracy: 0.9893\n",
            "Epoch 18/100\n",
            "1499/1500 [============================>.] - ETA: 0s - loss: 0.0428 - accuracy: 0.9862\n",
            "Epoch 18: val_accuracy improved from 0.98925 to 0.98958, saving model to mnist/try01.h5\n",
            "1500/1500 [==============================] - 7s 5ms/step - loss: 0.0428 - accuracy: 0.9862 - val_loss: 0.0398 - val_accuracy: 0.9896\n",
            "Epoch 19/100\n",
            "1494/1500 [============================>.] - ETA: 0s - loss: 0.0426 - accuracy: 0.9865\n",
            "Epoch 19: val_accuracy did not improve from 0.98958\n",
            "1500/1500 [==============================] - 7s 4ms/step - loss: 0.0427 - accuracy: 0.9865 - val_loss: 0.0412 - val_accuracy: 0.9894\n",
            "Epoch 20/100\n",
            "1488/1500 [============================>.] - ETA: 0s - loss: 0.0414 - accuracy: 0.9869\n",
            "Epoch 20: val_accuracy did not improve from 0.98958\n",
            "1500/1500 [==============================] - 7s 4ms/step - loss: 0.0413 - accuracy: 0.9869 - val_loss: 0.0398 - val_accuracy: 0.9893\n",
            "Epoch 21/100\n",
            "1500/1500 [==============================] - ETA: 0s - loss: 0.0386 - accuracy: 0.9875\n",
            "Epoch 21: val_accuracy did not improve from 0.98958\n",
            "1500/1500 [==============================] - 6s 4ms/step - loss: 0.0386 - accuracy: 0.9875 - val_loss: 0.0419 - val_accuracy: 0.9891\n",
            "Epoch 22/100\n",
            "1499/1500 [============================>.] - ETA: 0s - loss: 0.0383 - accuracy: 0.9877\n",
            "Epoch 22: val_accuracy did not improve from 0.98958\n",
            "1500/1500 [==============================] - 7s 4ms/step - loss: 0.0383 - accuracy: 0.9877 - val_loss: 0.0372 - val_accuracy: 0.9895\n",
            "Epoch 23/100\n",
            "1489/1500 [============================>.] - ETA: 0s - loss: 0.0372 - accuracy: 0.9882\n",
            "Epoch 23: val_accuracy improved from 0.98958 to 0.99025, saving model to mnist/try01.h5\n",
            "1500/1500 [==============================] - 6s 4ms/step - loss: 0.0372 - accuracy: 0.9882 - val_loss: 0.0365 - val_accuracy: 0.9902\n",
            "Epoch 24/100\n",
            "1497/1500 [============================>.] - ETA: 0s - loss: 0.0376 - accuracy: 0.9878\n",
            "Epoch 24: val_accuracy improved from 0.99025 to 0.99042, saving model to mnist/try01.h5\n",
            "1500/1500 [==============================] - 7s 5ms/step - loss: 0.0375 - accuracy: 0.9878 - val_loss: 0.0369 - val_accuracy: 0.9904\n",
            "Epoch 25/100\n",
            "1487/1500 [============================>.] - ETA: 0s - loss: 0.0346 - accuracy: 0.9886\n",
            "Epoch 25: val_accuracy did not improve from 0.99042\n",
            "1500/1500 [==============================] - 7s 4ms/step - loss: 0.0346 - accuracy: 0.9886 - val_loss: 0.0354 - val_accuracy: 0.9902\n",
            "Epoch 26/100\n",
            "1487/1500 [============================>.] - ETA: 0s - loss: 0.0341 - accuracy: 0.9887\n",
            "Epoch 26: val_accuracy did not improve from 0.99042\n",
            "1500/1500 [==============================] - 6s 4ms/step - loss: 0.0340 - accuracy: 0.9888 - val_loss: 0.0360 - val_accuracy: 0.9901\n",
            "Epoch 27/100\n",
            "1488/1500 [============================>.] - ETA: 0s - loss: 0.0345 - accuracy: 0.9890\n",
            "Epoch 27: val_accuracy did not improve from 0.99042\n",
            "1500/1500 [==============================] - 7s 4ms/step - loss: 0.0344 - accuracy: 0.9890 - val_loss: 0.0385 - val_accuracy: 0.9891\n",
            "Epoch 28/100\n",
            "1493/1500 [============================>.] - ETA: 0s - loss: 0.0322 - accuracy: 0.9899\n",
            "Epoch 28: val_accuracy improved from 0.99042 to 0.99058, saving model to mnist/try01.h5\n",
            "1500/1500 [==============================] - 7s 5ms/step - loss: 0.0322 - accuracy: 0.9899 - val_loss: 0.0340 - val_accuracy: 0.9906\n",
            "Epoch 29/100\n",
            "1486/1500 [============================>.] - ETA: 0s - loss: 0.0315 - accuracy: 0.9895\n",
            "Epoch 29: val_accuracy improved from 0.99058 to 0.99092, saving model to mnist/try01.h5\n",
            "1500/1500 [==============================] - 7s 5ms/step - loss: 0.0316 - accuracy: 0.9895 - val_loss: 0.0350 - val_accuracy: 0.9909\n",
            "Epoch 30/100\n",
            "1490/1500 [============================>.] - ETA: 0s - loss: 0.0311 - accuracy: 0.9896\n",
            "Epoch 30: val_accuracy did not improve from 0.99092\n",
            "1500/1500 [==============================] - 7s 4ms/step - loss: 0.0310 - accuracy: 0.9896 - val_loss: 0.0334 - val_accuracy: 0.9908\n",
            "Epoch 31/100\n",
            "1493/1500 [============================>.] - ETA: 0s - loss: 0.0301 - accuracy: 0.9907\n",
            "Epoch 31: val_accuracy did not improve from 0.99092\n",
            "1500/1500 [==============================] - 7s 4ms/step - loss: 0.0300 - accuracy: 0.9908 - val_loss: 0.0323 - val_accuracy: 0.9908\n",
            "Epoch 32/100\n",
            "1497/1500 [============================>.] - ETA: 0s - loss: 0.0297 - accuracy: 0.9902\n",
            "Epoch 32: val_accuracy did not improve from 0.99092\n",
            "1500/1500 [==============================] - 6s 4ms/step - loss: 0.0297 - accuracy: 0.9902 - val_loss: 0.0370 - val_accuracy: 0.9898\n",
            "Epoch 33/100\n",
            "1493/1500 [============================>.] - ETA: 0s - loss: 0.0288 - accuracy: 0.9906\n",
            "Epoch 33: val_accuracy improved from 0.99092 to 0.99133, saving model to mnist/try01.h5\n",
            "1500/1500 [==============================] - 6s 4ms/step - loss: 0.0288 - accuracy: 0.9906 - val_loss: 0.0320 - val_accuracy: 0.9913\n",
            "Epoch 34/100\n",
            "1497/1500 [============================>.] - ETA: 0s - loss: 0.0284 - accuracy: 0.9908\n",
            "Epoch 34: val_accuracy did not improve from 0.99133\n",
            "1500/1500 [==============================] - 7s 4ms/step - loss: 0.0284 - accuracy: 0.9908 - val_loss: 0.0379 - val_accuracy: 0.9893\n",
            "Epoch 35/100\n",
            "1493/1500 [============================>.] - ETA: 0s - loss: 0.0284 - accuracy: 0.9908\n",
            "Epoch 35: val_accuracy did not improve from 0.99133\n",
            "1500/1500 [==============================] - 7s 4ms/step - loss: 0.0284 - accuracy: 0.9908 - val_loss: 0.0317 - val_accuracy: 0.9908\n",
            "Epoch 36/100\n",
            "1488/1500 [============================>.] - ETA: 0s - loss: 0.0271 - accuracy: 0.9912\n",
            "Epoch 36: val_accuracy did not improve from 0.99133\n",
            "1500/1500 [==============================] - 6s 4ms/step - loss: 0.0270 - accuracy: 0.9912 - val_loss: 0.0321 - val_accuracy: 0.9906\n",
            "Epoch 37/100\n",
            "1492/1500 [============================>.] - ETA: 0s - loss: 0.0274 - accuracy: 0.9911\n",
            "Epoch 37: val_accuracy did not improve from 0.99133\n",
            "1500/1500 [==============================] - 7s 4ms/step - loss: 0.0274 - accuracy: 0.9911 - val_loss: 0.0316 - val_accuracy: 0.9908\n",
            "Epoch 38/100\n",
            "1499/1500 [============================>.] - ETA: 0s - loss: 0.0269 - accuracy: 0.9913\n",
            "Epoch 38: val_accuracy did not improve from 0.99133\n",
            "1500/1500 [==============================] - 7s 4ms/step - loss: 0.0269 - accuracy: 0.9913 - val_loss: 0.0330 - val_accuracy: 0.9908\n",
            "Epoch 39/100\n",
            "1493/1500 [============================>.] - ETA: 0s - loss: 0.0258 - accuracy: 0.9917\n",
            "Epoch 39: val_accuracy improved from 0.99133 to 0.99158, saving model to mnist/try01.h5\n",
            "1500/1500 [==============================] - 6s 4ms/step - loss: 0.0257 - accuracy: 0.9918 - val_loss: 0.0309 - val_accuracy: 0.9916\n",
            "Epoch 40/100\n",
            "1490/1500 [============================>.] - ETA: 0s - loss: 0.0248 - accuracy: 0.9920\n",
            "Epoch 40: val_accuracy did not improve from 0.99158\n",
            "1500/1500 [==============================] - 6s 4ms/step - loss: 0.0247 - accuracy: 0.9920 - val_loss: 0.0311 - val_accuracy: 0.9910\n",
            "Epoch 41/100\n",
            "1488/1500 [============================>.] - ETA: 0s - loss: 0.0267 - accuracy: 0.9913\n",
            "Epoch 41: val_accuracy did not improve from 0.99158\n",
            "1500/1500 [==============================] - 6s 4ms/step - loss: 0.0266 - accuracy: 0.9913 - val_loss: 0.0305 - val_accuracy: 0.9916\n",
            "Epoch 42/100\n",
            "1498/1500 [============================>.] - ETA: 0s - loss: 0.0259 - accuracy: 0.9915\n",
            "Epoch 42: val_accuracy did not improve from 0.99158\n",
            "1500/1500 [==============================] - 6s 4ms/step - loss: 0.0259 - accuracy: 0.9915 - val_loss: 0.0296 - val_accuracy: 0.9915\n",
            "Epoch 43/100\n",
            "1491/1500 [============================>.] - ETA: 0s - loss: 0.0252 - accuracy: 0.9920\n",
            "Epoch 43: val_accuracy did not improve from 0.99158\n",
            "1500/1500 [==============================] - 6s 4ms/step - loss: 0.0252 - accuracy: 0.9920 - val_loss: 0.0313 - val_accuracy: 0.9914\n",
            "Epoch 44/100\n",
            "1491/1500 [============================>.] - ETA: 0s - loss: 0.0232 - accuracy: 0.9925\n",
            "Epoch 44: val_accuracy did not improve from 0.99158\n",
            "1500/1500 [==============================] - 6s 4ms/step - loss: 0.0232 - accuracy: 0.9925 - val_loss: 0.0319 - val_accuracy: 0.9906\n",
            "Epoch 45/100\n",
            "1488/1500 [============================>.] - ETA: 0s - loss: 0.0232 - accuracy: 0.9923\n",
            "Epoch 45: val_accuracy improved from 0.99158 to 0.99167, saving model to mnist/try01.h5\n",
            "1500/1500 [==============================] - 7s 5ms/step - loss: 0.0231 - accuracy: 0.9923 - val_loss: 0.0304 - val_accuracy: 0.9917\n",
            "Epoch 46/100\n",
            "1495/1500 [============================>.] - ETA: 0s - loss: 0.0237 - accuracy: 0.9923\n",
            "Epoch 46: val_accuracy did not improve from 0.99167\n",
            "1500/1500 [==============================] - 6s 4ms/step - loss: 0.0237 - accuracy: 0.9923 - val_loss: 0.0295 - val_accuracy: 0.9915\n",
            "Epoch 47/100\n",
            "1491/1500 [============================>.] - ETA: 0s - loss: 0.0228 - accuracy: 0.9922\n",
            "Epoch 47: val_accuracy did not improve from 0.99167\n",
            "1500/1500 [==============================] - 6s 4ms/step - loss: 0.0228 - accuracy: 0.9922 - val_loss: 0.0308 - val_accuracy: 0.9913\n",
            "Epoch 48/100\n",
            "1497/1500 [============================>.] - ETA: 0s - loss: 0.0222 - accuracy: 0.9926\n",
            "Epoch 48: val_accuracy did not improve from 0.99167\n",
            "1500/1500 [==============================] - 6s 4ms/step - loss: 0.0222 - accuracy: 0.9926 - val_loss: 0.0298 - val_accuracy: 0.9916\n",
            "Epoch 49/100\n",
            "1494/1500 [============================>.] - ETA: 0s - loss: 0.0204 - accuracy: 0.9932\n",
            "Epoch 49: val_accuracy did not improve from 0.99167\n",
            "1500/1500 [==============================] - 7s 4ms/step - loss: 0.0204 - accuracy: 0.9932 - val_loss: 0.0294 - val_accuracy: 0.9916\n",
            "Epoch 50/100\n",
            "1492/1500 [============================>.] - ETA: 0s - loss: 0.0206 - accuracy: 0.9925\n",
            "Epoch 50: val_accuracy did not improve from 0.99167\n",
            "1500/1500 [==============================] - 7s 5ms/step - loss: 0.0206 - accuracy: 0.9925 - val_loss: 0.0297 - val_accuracy: 0.9910\n",
            "Epoch 51/100\n",
            "1492/1500 [============================>.] - ETA: 0s - loss: 0.0200 - accuracy: 0.9930\n",
            "Epoch 51: val_accuracy improved from 0.99167 to 0.99208, saving model to mnist/try01.h5\n",
            "1500/1500 [==============================] - 7s 5ms/step - loss: 0.0200 - accuracy: 0.9931 - val_loss: 0.0291 - val_accuracy: 0.9921\n",
            "Epoch 52/100\n",
            "1500/1500 [==============================] - ETA: 0s - loss: 0.0216 - accuracy: 0.9926\n",
            "Epoch 52: val_accuracy did not improve from 0.99208\n",
            "1500/1500 [==============================] - 6s 4ms/step - loss: 0.0216 - accuracy: 0.9926 - val_loss: 0.0289 - val_accuracy: 0.9913\n",
            "Epoch 53/100\n",
            "1492/1500 [============================>.] - ETA: 0s - loss: 0.0201 - accuracy: 0.9931\n",
            "Epoch 53: val_accuracy improved from 0.99208 to 0.99217, saving model to mnist/try01.h5\n",
            "1500/1500 [==============================] - 6s 4ms/step - loss: 0.0203 - accuracy: 0.9930 - val_loss: 0.0289 - val_accuracy: 0.9922\n",
            "Epoch 54/100\n",
            "1497/1500 [============================>.] - ETA: 0s - loss: 0.0213 - accuracy: 0.9928\n",
            "Epoch 54: val_accuracy did not improve from 0.99217\n",
            "1500/1500 [==============================] - 6s 4ms/step - loss: 0.0213 - accuracy: 0.9928 - val_loss: 0.0291 - val_accuracy: 0.9912\n",
            "Epoch 55/100\n",
            "1487/1500 [============================>.] - ETA: 0s - loss: 0.0198 - accuracy: 0.9929\n",
            "Epoch 55: val_accuracy did not improve from 0.99217\n",
            "1500/1500 [==============================] - 7s 5ms/step - loss: 0.0202 - accuracy: 0.9929 - val_loss: 0.0287 - val_accuracy: 0.9921\n",
            "Epoch 56/100\n",
            "1498/1500 [============================>.] - ETA: 0s - loss: 0.0202 - accuracy: 0.9932\n",
            "Epoch 56: val_accuracy did not improve from 0.99217\n",
            "1500/1500 [==============================] - 7s 5ms/step - loss: 0.0202 - accuracy: 0.9932 - val_loss: 0.0288 - val_accuracy: 0.9916\n",
            "Epoch 57/100\n",
            "1498/1500 [============================>.] - ETA: 0s - loss: 0.0193 - accuracy: 0.9932\n",
            "Epoch 57: val_accuracy did not improve from 0.99217\n",
            "1500/1500 [==============================] - 6s 4ms/step - loss: 0.0194 - accuracy: 0.9932 - val_loss: 0.0283 - val_accuracy: 0.9917\n",
            "Epoch 58/100\n",
            "1493/1500 [============================>.] - ETA: 0s - loss: 0.0197 - accuracy: 0.9935\n",
            "Epoch 58: val_accuracy did not improve from 0.99217\n",
            "1500/1500 [==============================] - 6s 4ms/step - loss: 0.0197 - accuracy: 0.9935 - val_loss: 0.0271 - val_accuracy: 0.9921\n",
            "Epoch 59/100\n",
            "1490/1500 [============================>.] - ETA: 0s - loss: 0.0195 - accuracy: 0.9937\n",
            "Epoch 59: val_accuracy did not improve from 0.99217\n",
            "1500/1500 [==============================] - 6s 4ms/step - loss: 0.0194 - accuracy: 0.9937 - val_loss: 0.0292 - val_accuracy: 0.9916\n",
            "Epoch 60/100\n",
            "1494/1500 [============================>.] - ETA: 0s - loss: 0.0176 - accuracy: 0.9939\n",
            "Epoch 60: val_accuracy did not improve from 0.99217\n",
            "1500/1500 [==============================] - 6s 4ms/step - loss: 0.0176 - accuracy: 0.9939 - val_loss: 0.0289 - val_accuracy: 0.9920\n",
            "Epoch 61/100\n",
            "1489/1500 [============================>.] - ETA: 0s - loss: 0.0188 - accuracy: 0.9933\n",
            "Epoch 61: val_accuracy did not improve from 0.99217\n",
            "1500/1500 [==============================] - 6s 4ms/step - loss: 0.0188 - accuracy: 0.9934 - val_loss: 0.0272 - val_accuracy: 0.9917\n",
            "Epoch 62/100\n",
            "1498/1500 [============================>.] - ETA: 0s - loss: 0.0181 - accuracy: 0.9939\n",
            "Epoch 62: val_accuracy did not improve from 0.99217\n",
            "1500/1500 [==============================] - 7s 5ms/step - loss: 0.0181 - accuracy: 0.9939 - val_loss: 0.0280 - val_accuracy: 0.9912\n",
            "Epoch 63/100\n",
            "1487/1500 [============================>.] - ETA: 0s - loss: 0.0178 - accuracy: 0.9938\n",
            "Epoch 63: val_accuracy did not improve from 0.99217\n",
            "1500/1500 [==============================] - 6s 4ms/step - loss: 0.0178 - accuracy: 0.9938 - val_loss: 0.0281 - val_accuracy: 0.9915\n",
            "Epoch 64/100\n",
            "1496/1500 [============================>.] - ETA: 0s - loss: 0.0186 - accuracy: 0.9937\n",
            "Epoch 64: val_accuracy did not improve from 0.99217\n",
            "1500/1500 [==============================] - 6s 4ms/step - loss: 0.0185 - accuracy: 0.9937 - val_loss: 0.0286 - val_accuracy: 0.9918\n",
            "Epoch 65/100\n",
            "1495/1500 [============================>.] - ETA: 0s - loss: 0.0177 - accuracy: 0.9940\n",
            "Epoch 65: val_accuracy did not improve from 0.99217\n",
            "1500/1500 [==============================] - 7s 4ms/step - loss: 0.0177 - accuracy: 0.9940 - val_loss: 0.0273 - val_accuracy: 0.9921\n",
            "Epoch 66/100\n",
            "1494/1500 [============================>.] - ETA: 0s - loss: 0.0185 - accuracy: 0.9939\n",
            "Epoch 66: val_accuracy improved from 0.99217 to 0.99250, saving model to mnist/try01.h5\n",
            "1500/1500 [==============================] - 6s 4ms/step - loss: 0.0185 - accuracy: 0.9939 - val_loss: 0.0266 - val_accuracy: 0.9925\n",
            "Epoch 67/100\n",
            "1486/1500 [============================>.] - ETA: 0s - loss: 0.0161 - accuracy: 0.9943\n",
            "Epoch 67: val_accuracy did not improve from 0.99250\n",
            "1500/1500 [==============================] - 6s 4ms/step - loss: 0.0160 - accuracy: 0.9943 - val_loss: 0.0272 - val_accuracy: 0.9922\n",
            "Epoch 68/100\n",
            "1498/1500 [============================>.] - ETA: 0s - loss: 0.0160 - accuracy: 0.9944\n",
            "Epoch 68: val_accuracy did not improve from 0.99250\n",
            "1500/1500 [==============================] - 6s 4ms/step - loss: 0.0160 - accuracy: 0.9944 - val_loss: 0.0268 - val_accuracy: 0.9922\n",
            "Epoch 69/100\n",
            "1488/1500 [============================>.] - ETA: 0s - loss: 0.0158 - accuracy: 0.9948\n",
            "Epoch 69: val_accuracy did not improve from 0.99250\n",
            "1500/1500 [==============================] - 6s 4ms/step - loss: 0.0158 - accuracy: 0.9948 - val_loss: 0.0268 - val_accuracy: 0.9923\n",
            "Epoch 70/100\n",
            "1487/1500 [============================>.] - ETA: 0s - loss: 0.0162 - accuracy: 0.9948\n",
            "Epoch 70: val_accuracy did not improve from 0.99250\n",
            "1500/1500 [==============================] - 7s 4ms/step - loss: 0.0162 - accuracy: 0.9948 - val_loss: 0.0272 - val_accuracy: 0.9921\n",
            "Epoch 71/100\n",
            "1492/1500 [============================>.] - ETA: 0s - loss: 0.0155 - accuracy: 0.9945\n",
            "Epoch 71: val_accuracy did not improve from 0.99250\n",
            "1500/1500 [==============================] - 7s 5ms/step - loss: 0.0156 - accuracy: 0.9945 - val_loss: 0.0285 - val_accuracy: 0.9916\n",
            "Epoch 72/100\n",
            "1489/1500 [============================>.] - ETA: 0s - loss: 0.0158 - accuracy: 0.9946\n",
            "Epoch 72: val_accuracy did not improve from 0.99250\n",
            "1500/1500 [==============================] - 7s 4ms/step - loss: 0.0157 - accuracy: 0.9946 - val_loss: 0.0277 - val_accuracy: 0.9917\n",
            "Epoch 73/100\n",
            "1500/1500 [==============================] - ETA: 0s - loss: 0.0156 - accuracy: 0.9947\n",
            "Epoch 73: val_accuracy did not improve from 0.99250\n",
            "1500/1500 [==============================] - 6s 4ms/step - loss: 0.0156 - accuracy: 0.9947 - val_loss: 0.0282 - val_accuracy: 0.9917\n",
            "Epoch 74/100\n",
            "1499/1500 [============================>.] - ETA: 0s - loss: 0.0150 - accuracy: 0.9948\n",
            "Epoch 74: val_accuracy did not improve from 0.99250\n",
            "1500/1500 [==============================] - 6s 4ms/step - loss: 0.0150 - accuracy: 0.9948 - val_loss: 0.0265 - val_accuracy: 0.9924\n",
            "Epoch 75/100\n",
            "1492/1500 [============================>.] - ETA: 0s - loss: 0.0152 - accuracy: 0.9948\n",
            "Epoch 75: val_accuracy did not improve from 0.99250\n",
            "1500/1500 [==============================] - 6s 4ms/step - loss: 0.0154 - accuracy: 0.9947 - val_loss: 0.0267 - val_accuracy: 0.9919\n",
            "Epoch 76/100\n",
            "1491/1500 [============================>.] - ETA: 0s - loss: 0.0148 - accuracy: 0.9950\n",
            "Epoch 76: val_accuracy did not improve from 0.99250\n",
            "1500/1500 [==============================] - 7s 4ms/step - loss: 0.0148 - accuracy: 0.9950 - val_loss: 0.0262 - val_accuracy: 0.9923\n",
            "Epoch 77/100\n",
            "1488/1500 [============================>.] - ETA: 0s - loss: 0.0147 - accuracy: 0.9949\n",
            "Epoch 77: val_accuracy improved from 0.99250 to 0.99258, saving model to mnist/try01.h5\n",
            "1500/1500 [==============================] - 6s 4ms/step - loss: 0.0146 - accuracy: 0.9949 - val_loss: 0.0258 - val_accuracy: 0.9926\n",
            "Epoch 78/100\n",
            "1498/1500 [============================>.] - ETA: 0s - loss: 0.0135 - accuracy: 0.9951\n",
            "Epoch 78: val_accuracy did not improve from 0.99258\n",
            "1500/1500 [==============================] - 7s 5ms/step - loss: 0.0135 - accuracy: 0.9951 - val_loss: 0.0273 - val_accuracy: 0.9923\n",
            "Epoch 79/100\n",
            "1489/1500 [============================>.] - ETA: 0s - loss: 0.0138 - accuracy: 0.9950\n",
            "Epoch 79: val_accuracy did not improve from 0.99258\n",
            "1500/1500 [==============================] - 7s 4ms/step - loss: 0.0138 - accuracy: 0.9950 - val_loss: 0.0266 - val_accuracy: 0.9924\n",
            "Epoch 80/100\n",
            "1500/1500 [==============================] - ETA: 0s - loss: 0.0142 - accuracy: 0.9947\n",
            "Epoch 80: val_accuracy did not improve from 0.99258\n",
            "1500/1500 [==============================] - 6s 4ms/step - loss: 0.0142 - accuracy: 0.9947 - val_loss: 0.0258 - val_accuracy: 0.9924\n",
            "Epoch 81/100\n",
            "1500/1500 [==============================] - ETA: 0s - loss: 0.0148 - accuracy: 0.9950\n",
            "Epoch 81: val_accuracy did not improve from 0.99258\n",
            "1500/1500 [==============================] - 7s 4ms/step - loss: 0.0148 - accuracy: 0.9950 - val_loss: 0.0266 - val_accuracy: 0.9918\n",
            "Epoch 82/100\n",
            "1492/1500 [============================>.] - ETA: 0s - loss: 0.0150 - accuracy: 0.9952\n",
            "Epoch 82: val_accuracy did not improve from 0.99258\n",
            "1500/1500 [==============================] - 7s 4ms/step - loss: 0.0150 - accuracy: 0.9952 - val_loss: 0.0269 - val_accuracy: 0.9919\n",
            "Epoch 83/100\n",
            "1496/1500 [============================>.] - ETA: 0s - loss: 0.0134 - accuracy: 0.9957\n",
            "Epoch 83: val_accuracy did not improve from 0.99258\n",
            "1500/1500 [==============================] - 6s 4ms/step - loss: 0.0134 - accuracy: 0.9957 - val_loss: 0.0265 - val_accuracy: 0.9923\n",
            "Epoch 84/100\n",
            "1499/1500 [============================>.] - ETA: 0s - loss: 0.0127 - accuracy: 0.9956\n",
            "Epoch 84: val_accuracy did not improve from 0.99258\n",
            "1500/1500 [==============================] - 7s 4ms/step - loss: 0.0127 - accuracy: 0.9956 - val_loss: 0.0270 - val_accuracy: 0.9912\n",
            "Epoch 85/100\n",
            "1495/1500 [============================>.] - ETA: 0s - loss: 0.0136 - accuracy: 0.9955\n",
            "Epoch 85: val_accuracy did not improve from 0.99258\n",
            "1500/1500 [==============================] - 7s 4ms/step - loss: 0.0136 - accuracy: 0.9955 - val_loss: 0.0269 - val_accuracy: 0.9912\n",
            "Epoch 86/100\n",
            "1490/1500 [============================>.] - ETA: 0s - loss: 0.0147 - accuracy: 0.9950\n",
            "Epoch 86: val_accuracy did not improve from 0.99258\n",
            "1500/1500 [==============================] - 7s 4ms/step - loss: 0.0146 - accuracy: 0.9950 - val_loss: 0.0260 - val_accuracy: 0.9924\n",
            "Epoch 87/100\n",
            "1488/1500 [============================>.] - ETA: 0s - loss: 0.0125 - accuracy: 0.9957\n",
            "Epoch 87: val_accuracy did not improve from 0.99258\n",
            "1500/1500 [==============================] - 7s 4ms/step - loss: 0.0126 - accuracy: 0.9957 - val_loss: 0.0274 - val_accuracy: 0.9918\n",
            "Epoch 87: early stopping\n"
          ]
        }
      ]
    },
    {
      "cell_type": "code",
      "source": [
        "result = model_1.evaluate(test_imgs, test_labels)\n",
        "print(\"\\n테스트 정확도: %.4f\" %(result)[1])"
      ],
      "metadata": {
        "id": "A4f_4uKMk9gD",
        "colab": {
          "base_uri": "https://localhost:8080/"
        },
        "outputId": "6e4d8ce9-665c-4c71-934d-0f0ed600fe72"
      },
      "execution_count": null,
      "outputs": [
        {
          "output_type": "stream",
          "name": "stdout",
          "text": [
            "313/313 [==============================] - 1s 3ms/step - loss: 0.0199 - accuracy: 0.9938\n",
            "\n",
            "테스트 정확도: 0.9938\n"
          ]
        }
      ]
    },
    {
      "cell_type": "code",
      "source": [
        "loaded_model = load_model('mnist/try01.h5')\n",
        "result_loaded = loaded_model.evaluate(test_imgs, test_labels)\n",
        "print(\"\\n불러온 모델 테스트 정확도: %.4f\" %(result_loaded)[1])"
      ],
      "metadata": {
        "id": "LWt1g385nipq",
        "colab": {
          "base_uri": "https://localhost:8080/"
        },
        "outputId": "e0712529-fab1-4530-d5ee-15b7733edb65"
      },
      "execution_count": null,
      "outputs": [
        {
          "output_type": "stream",
          "name": "stdout",
          "text": [
            "313/313 [==============================] - 1s 3ms/step - loss: 0.0201 - accuracy: 0.9934\n",
            "\n",
            "불러온 모델 테스트 정확도: 0.9934\n"
          ]
        }
      ]
    },
    {
      "cell_type": "code",
      "source": [
        "df = pd.DataFrame([['CNN', 'model_1', '32(relu/drop0.2)-64(relu/drop0.2)-128(drop0.5/relu)-Flatten-64(relu)-10(softmax)]', 'SGD', 100, 32, 0.2, 'es/mc', \n",
        "                    \"%.4f\"%(result)[1], \"%.4f\"%(result_loaded)[1], \"%.4f\"%(result)[0], \"%.4f\"%(result_loaded)[0]]],\n",
        "                  columns=['모델', 'Name', 'Structure', 'Optimizer', 'epochs', 'batch_size', 'validation_split', 'callback', 'Accuracy', 'MC_Accuracy', 'Loss', 'MC_Loss'])"
      ],
      "metadata": {
        "id": "YU51jOGcl7DL"
      },
      "execution_count": null,
      "outputs": []
    },
    {
      "cell_type": "code",
      "source": [
        "acc = hist_1.history['accuracy']\n",
        "val_acc = hist_1.history['val_accuracy']\n",
        "loss = hist_1.history['loss']\n",
        "val_loss = hist_1.history['val_loss']\n",
        "\n",
        "epochs = range(1, len(acc)+1)\n",
        "\n",
        "plt.figure(figsize=(8, 12))\n",
        "ax1=plt.subplot(2, 1, 1)\n",
        "ax2=plt.subplot(2, 1, 2)\n",
        "ax1.plot(epochs, acc, 'bo', label='Trainig acc')\n",
        "ax1.plot(epochs, val_acc, 'b', label='Validation acc')\n",
        "ax1.set_title(\"Training and Validation accuracy\")\n",
        "ax1.legend()\n",
        "ax2.plot(epochs, loss, 'bo', label='Traning loss')\n",
        "ax2.plot(epochs, val_loss, 'b', label='Validation loss')\n",
        "ax2.set_title(\"Training and Validation loss\")\n",
        "ax2.legend()\n",
        "plt.show()"
      ],
      "metadata": {
        "id": "mFOaiWO_sRfX",
        "colab": {
          "base_uri": "https://localhost:8080/",
          "height": 716
        },
        "outputId": "18600388-b0af-40d3-e411-e65a5321d87d"
      },
      "execution_count": null,
      "outputs": [
        {
          "output_type": "display_data",
          "data": {
            "text/plain": [
              "<Figure size 576x864 with 2 Axes>"
            ],
            "image/png": "[encoded data removed]"
          },
          "metadata": {
            "needs_background": "light"
          }
        }
      ]
    },
    {
      "cell_type": "markdown",
      "source": [
        "#### __2. batch_size default(32), 출력 직전층 activation='sigmoid', optimizer='rmsprop'__ "
      ],
      "metadata": {
        "id": "J3jjZUjiwydX"
      }
    },
    {
      "cell_type": "code",
      "source": [
        "model_1_1 = keras.Sequential([\n",
        "  layers.Conv2D(32, (3, 3), activation='relu', input_shape=(28, 28, 1)),\n",
        "  layers.Dropout(0.2),\n",
        "  layers.MaxPooling2D((2, 2)),\n",
        "  layers.Conv2D(64, (3, 3), activation='relu'),\n",
        "  layers.Dropout(0.2),\n",
        "  layers.MaxPooling2D((2, 2)),\n",
        "  layers.Conv2D(128, (3, 3), activation='relu'),\n",
        "  layers.Dropout(0.5),\n",
        "  layers.Flatten(),\n",
        "  layers.Dense(64, activation = 'sigmoid'),\n",
        "  layers.Dense(10, activation = 'softmax')\n",
        "])\n",
        "model_1_1.summary()"
      ],
      "metadata": {
        "id": "aRIhB0X3wtb4",
        "colab": {
          "base_uri": "https://localhost:8080/"
        },
        "outputId": "c239127a-4f6d-4e34-9dc2-647d91dfc748"
      },
      "execution_count": null,
      "outputs": [
        {
          "output_type": "stream",
          "name": "stdout",
          "text": [
            "Model: \"sequential_1\"\n",
            "_________________________________________________________________\n",
            " Layer (type)                Output Shape              Param #   \n",
            "=================================================================\n",
            " conv2d_3 (Conv2D)           (None, 26, 26, 32)        320       \n",
            "                                                                 \n",
            " dropout_3 (Dropout)         (None, 26, 26, 32)        0         \n",
            "                                                                 \n",
            " max_pooling2d_2 (MaxPooling  (None, 13, 13, 32)       0         \n",
            " 2D)                                                             \n",
            "                                                                 \n",
            " conv2d_4 (Conv2D)           (None, 11, 11, 64)        18496     \n",
            "                                                                 \n",
            " dropout_4 (Dropout)         (None, 11, 11, 64)        0         \n",
            "                                                                 \n",
            " max_pooling2d_3 (MaxPooling  (None, 5, 5, 64)         0         \n",
            " 2D)                                                             \n",
            "                                                                 \n",
            " conv2d_5 (Conv2D)           (None, 3, 3, 128)         73856     \n",
            "                                                                 \n",
            " dropout_5 (Dropout)         (None, 3, 3, 128)         0         \n",
            "                                                                 \n",
            " flatten_1 (Flatten)         (None, 1152)              0         \n",
            "                                                                 \n",
            " dense_2 (Dense)             (None, 64)                73792     \n",
            "                                                                 \n",
            " dense_3 (Dense)             (None, 10)                650       \n",
            "                                                                 \n",
            "=================================================================\n",
            "Total params: 167,114\n",
            "Trainable params: 167,114\n",
            "Non-trainable params: 0\n",
            "_________________________________________________________________\n"
          ]
        }
      ]
    },
    {
      "cell_type": "code",
      "source": [
        "model_1_1.compile(optimizer=\"rmsprop\", loss=\"categorical_crossentropy\", metrics=[\"accuracy\"])"
      ],
      "metadata": {
        "id": "2xmXZNfewtcK"
      },
      "execution_count": null,
      "outputs": []
    },
    {
      "cell_type": "code",
      "source": [
        "es = EarlyStopping(monitor='val_loss', mode='min', verbose=1, patience=10)\n",
        "mc = ModelCheckpoint('mnist/try01_1.h5', monitor='val_accuracy', mode='max', verbose=1, save_best_only=True)\n",
        "hist_1_1 = model_1_1.fit(train_imgs, train_labels, epochs=100, validation_split=0.2, callbacks=[es, mc])"
      ],
      "metadata": {
        "id": "VRjSobitwtcK",
        "colab": {
          "base_uri": "https://localhost:8080/"
        },
        "outputId": "934f4029-3ed1-48bc-9e81-59444b0e91a9"
      },
      "execution_count": null,
      "outputs": [
        {
          "output_type": "stream",
          "name": "stdout",
          "text": [
            "Epoch 1/100\n",
            "1495/1500 [============================>.] - ETA: 0s - loss: 0.2296 - accuracy: 0.9351\n",
            "Epoch 1: val_accuracy improved from -inf to 0.97925, saving model to mnist/try01_1.h5\n",
            "1500/1500 [==============================] - 9s 5ms/step - loss: 0.2292 - accuracy: 0.9352 - val_loss: 0.0670 - val_accuracy: 0.9793\n",
            "Epoch 2/100\n",
            "1500/1500 [==============================] - ETA: 0s - loss: 0.0798 - accuracy: 0.9759\n",
            "Epoch 2: val_accuracy improved from 0.97925 to 0.98683, saving model to mnist/try01_1.h5\n",
            "1500/1500 [==============================] - 7s 5ms/step - loss: 0.0798 - accuracy: 0.9759 - val_loss: 0.0459 - val_accuracy: 0.9868\n",
            "Epoch 3/100\n",
            "1488/1500 [============================>.] - ETA: 0s - loss: 0.0603 - accuracy: 0.9814\n",
            "Epoch 3: val_accuracy did not improve from 0.98683\n",
            "1500/1500 [==============================] - 7s 5ms/step - loss: 0.0602 - accuracy: 0.9814 - val_loss: 0.0477 - val_accuracy: 0.9856\n",
            "Epoch 4/100\n",
            "1488/1500 [============================>.] - ETA: 0s - loss: 0.0537 - accuracy: 0.9846\n",
            "Epoch 4: val_accuracy improved from 0.98683 to 0.98792, saving model to mnist/try01_1.h5\n",
            "1500/1500 [==============================] - 8s 5ms/step - loss: 0.0537 - accuracy: 0.9846 - val_loss: 0.0437 - val_accuracy: 0.9879\n",
            "Epoch 5/100\n",
            "1494/1500 [============================>.] - ETA: 0s - loss: 0.0490 - accuracy: 0.9860\n",
            "Epoch 5: val_accuracy improved from 0.98792 to 0.98917, saving model to mnist/try01_1.h5\n",
            "1500/1500 [==============================] - 7s 5ms/step - loss: 0.0488 - accuracy: 0.9860 - val_loss: 0.0388 - val_accuracy: 0.9892\n",
            "Epoch 6/100\n",
            "1491/1500 [============================>.] - ETA: 0s - loss: 0.0454 - accuracy: 0.9870\n",
            "Epoch 6: val_accuracy improved from 0.98917 to 0.98933, saving model to mnist/try01_1.h5\n",
            "1500/1500 [==============================] - 7s 5ms/step - loss: 0.0455 - accuracy: 0.9870 - val_loss: 0.0388 - val_accuracy: 0.9893\n",
            "Epoch 7/100\n",
            "1493/1500 [============================>.] - ETA: 0s - loss: 0.0421 - accuracy: 0.9881\n",
            "Epoch 7: val_accuracy improved from 0.98933 to 0.99033, saving model to mnist/try01_1.h5\n",
            "1500/1500 [==============================] - 7s 5ms/step - loss: 0.0420 - accuracy: 0.9881 - val_loss: 0.0380 - val_accuracy: 0.9903\n",
            "Epoch 8/100\n",
            "1491/1500 [============================>.] - ETA: 0s - loss: 0.0367 - accuracy: 0.9901\n",
            "Epoch 8: val_accuracy improved from 0.99033 to 0.99117, saving model to mnist/try01_1.h5\n",
            "1500/1500 [==============================] - 7s 5ms/step - loss: 0.0370 - accuracy: 0.9901 - val_loss: 0.0354 - val_accuracy: 0.9912\n",
            "Epoch 9/100\n",
            "1500/1500 [==============================] - ETA: 0s - loss: 0.0410 - accuracy: 0.9884\n",
            "Epoch 9: val_accuracy did not improve from 0.99117\n",
            "1500/1500 [==============================] - 7s 5ms/step - loss: 0.0410 - accuracy: 0.9884 - val_loss: 0.0438 - val_accuracy: 0.9892\n",
            "Epoch 10/100\n",
            "1500/1500 [==============================] - ETA: 0s - loss: 0.0392 - accuracy: 0.9894\n",
            "Epoch 10: val_accuracy did not improve from 0.99117\n",
            "1500/1500 [==============================] - 7s 5ms/step - loss: 0.0392 - accuracy: 0.9894 - val_loss: 0.0464 - val_accuracy: 0.9896\n",
            "Epoch 11/100\n",
            "1499/1500 [============================>.] - ETA: 0s - loss: 0.0352 - accuracy: 0.9905\n",
            "Epoch 11: val_accuracy improved from 0.99117 to 0.99167, saving model to mnist/try01_1.h5\n",
            "1500/1500 [==============================] - 7s 5ms/step - loss: 0.0352 - accuracy: 0.9905 - val_loss: 0.0359 - val_accuracy: 0.9917\n",
            "Epoch 12/100\n",
            "1500/1500 [==============================] - ETA: 0s - loss: 0.0327 - accuracy: 0.9914\n",
            "Epoch 12: val_accuracy improved from 0.99167 to 0.99217, saving model to mnist/try01_1.h5\n",
            "1500/1500 [==============================] - 7s 5ms/step - loss: 0.0327 - accuracy: 0.9914 - val_loss: 0.0399 - val_accuracy: 0.9922\n",
            "Epoch 13/100\n",
            "1491/1500 [============================>.] - ETA: 0s - loss: 0.0352 - accuracy: 0.9904\n",
            "Epoch 13: val_accuracy improved from 0.99217 to 0.99258, saving model to mnist/try01_1.h5\n",
            "1500/1500 [==============================] - 7s 5ms/step - loss: 0.0354 - accuracy: 0.9903 - val_loss: 0.0345 - val_accuracy: 0.9926\n",
            "Epoch 14/100\n",
            "1500/1500 [==============================] - ETA: 0s - loss: 0.0322 - accuracy: 0.9917\n",
            "Epoch 14: val_accuracy did not improve from 0.99258\n",
            "1500/1500 [==============================] - 7s 5ms/step - loss: 0.0322 - accuracy: 0.9917 - val_loss: 0.0385 - val_accuracy: 0.9916\n",
            "Epoch 15/100\n",
            "1495/1500 [============================>.] - ETA: 0s - loss: 0.0335 - accuracy: 0.9912\n",
            "Epoch 15: val_accuracy did not improve from 0.99258\n",
            "1500/1500 [==============================] - 7s 5ms/step - loss: 0.0334 - accuracy: 0.9911 - val_loss: 0.0383 - val_accuracy: 0.9925\n",
            "Epoch 16/100\n",
            "1492/1500 [============================>.] - ETA: 0s - loss: 0.0323 - accuracy: 0.9917\n",
            "Epoch 16: val_accuracy did not improve from 0.99258\n",
            "1500/1500 [==============================] - 7s 5ms/step - loss: 0.0322 - accuracy: 0.9917 - val_loss: 0.0399 - val_accuracy: 0.9912\n",
            "Epoch 17/100\n",
            "1499/1500 [============================>.] - ETA: 0s - loss: 0.0337 - accuracy: 0.9913\n",
            "Epoch 17: val_accuracy did not improve from 0.99258\n",
            "1500/1500 [==============================] - 7s 5ms/step - loss: 0.0337 - accuracy: 0.9913 - val_loss: 0.0382 - val_accuracy: 0.9924\n",
            "Epoch 18/100\n",
            "1495/1500 [============================>.] - ETA: 0s - loss: 0.0336 - accuracy: 0.9909\n",
            "Epoch 18: val_accuracy did not improve from 0.99258\n",
            "1500/1500 [==============================] - 7s 5ms/step - loss: 0.0337 - accuracy: 0.9909 - val_loss: 0.0380 - val_accuracy: 0.9923\n",
            "Epoch 19/100\n",
            "1491/1500 [============================>.] - ETA: 0s - loss: 0.0330 - accuracy: 0.9912\n",
            "Epoch 19: val_accuracy did not improve from 0.99258\n",
            "1500/1500 [==============================] - 7s 5ms/step - loss: 0.0331 - accuracy: 0.9912 - val_loss: 0.0439 - val_accuracy: 0.9916\n",
            "Epoch 20/100\n",
            "1487/1500 [============================>.] - ETA: 0s - loss: 0.0324 - accuracy: 0.9919\n",
            "Epoch 20: val_accuracy did not improve from 0.99258\n",
            "1500/1500 [==============================] - 8s 5ms/step - loss: 0.0324 - accuracy: 0.9919 - val_loss: 0.0428 - val_accuracy: 0.9916\n",
            "Epoch 21/100\n",
            "1493/1500 [============================>.] - ETA: 0s - loss: 0.0310 - accuracy: 0.9920\n",
            "Epoch 21: val_accuracy did not improve from 0.99258\n",
            "1500/1500 [==============================] - 7s 5ms/step - loss: 0.0309 - accuracy: 0.9920 - val_loss: 0.0407 - val_accuracy: 0.9926\n",
            "Epoch 22/100\n",
            "1499/1500 [============================>.] - ETA: 0s - loss: 0.0322 - accuracy: 0.9921\n",
            "Epoch 22: val_accuracy did not improve from 0.99258\n",
            "1500/1500 [==============================] - 8s 5ms/step - loss: 0.0322 - accuracy: 0.9921 - val_loss: 0.0411 - val_accuracy: 0.9923\n",
            "Epoch 23/100\n",
            "1497/1500 [============================>.] - ETA: 0s - loss: 0.0340 - accuracy: 0.9915\n",
            "Epoch 23: val_accuracy did not improve from 0.99258\n",
            "1500/1500 [==============================] - 7s 5ms/step - loss: 0.0340 - accuracy: 0.9915 - val_loss: 0.0439 - val_accuracy: 0.9919\n",
            "Epoch 23: early stopping\n"
          ]
        }
      ]
    },
    {
      "cell_type": "code",
      "source": [
        "result = model_1_1.evaluate(test_imgs, test_labels)\n",
        "print(\"\\n테스트 정확도: %.4f\" %(result)[1])"
      ],
      "metadata": {
        "id": "Mq-GE0h5wtcL",
        "colab": {
          "base_uri": "https://localhost:8080/"
        },
        "outputId": "3bebb69f-a481-4396-ce26-b8794b65589a"
      },
      "execution_count": null,
      "outputs": [
        {
          "output_type": "stream",
          "name": "stdout",
          "text": [
            "313/313 [==============================] - 1s 3ms/step - loss: 0.0391 - accuracy: 0.9928\n",
            "\n",
            "테스트 정확도: 0.9928\n"
          ]
        }
      ]
    },
    {
      "cell_type": "code",
      "source": [
        "loaded_model = load_model('mnist/try01_1.h5')\n",
        "result_loaded = loaded_model.evaluate(test_imgs, test_labels)\n",
        "print(\"\\n불러온 모델 테스트 정확도: %.4f\" %(result_loaded)[1])"
      ],
      "metadata": {
        "id": "fGK6vEuiwtcL",
        "colab": {
          "base_uri": "https://localhost:8080/"
        },
        "outputId": "35e22761-9271-4026-a7de-12e28e5abd09"
      },
      "execution_count": null,
      "outputs": [
        {
          "output_type": "stream",
          "name": "stdout",
          "text": [
            "313/313 [==============================] - 1s 3ms/step - loss: 0.0301 - accuracy: 0.9923\n",
            "\n",
            "불러온 모델 테스트 정확도: 0.9923\n"
          ]
        }
      ]
    },
    {
      "cell_type": "code",
      "source": [
        "acc = hist_1_1.history['accuracy']\n",
        "val_acc = hist_1_1.history['val_accuracy']\n",
        "loss = hist_1_1.history['loss']\n",
        "val_loss = hist_1_1.history['val_loss']\n",
        "\n",
        "epochs = range(1, len(acc)+1)\n",
        "\n",
        "plt.figure(figsize=(8, 12))\n",
        "ax1=plt.subplot(2, 1, 1)\n",
        "ax2=plt.subplot(2, 1, 2)\n",
        "ax1.plot(epochs, acc, 'bo', label='Trainig acc')\n",
        "ax1.plot(epochs, val_acc, 'b', label='Validation acc')\n",
        "ax1.set_title(\"Training and Validation accuracy\")\n",
        "ax1.legend()\n",
        "ax2.plot(epochs, loss, 'bo', label='Traning loss')\n",
        "ax2.plot(epochs, val_loss, 'b', label='Validation loss')\n",
        "ax2.set_title(\"Training and Validation loss\")\n",
        "ax2.legend()\n",
        "plt.show()"
      ],
      "metadata": {
        "id": "k-onGLGMwtcM",
        "colab": {
          "base_uri": "https://localhost:8080/",
          "height": 716
        },
        "outputId": "954989bd-596f-4b5b-c10b-476fa91e70c8"
      },
      "execution_count": null,
      "outputs": [
        {
          "output_type": "display_data",
          "data": {
            "text/plain": [
              "<Figure size 576x864 with 2 Axes>"
            ],
            "image/png": "[encoded data removed]"
          },
          "metadata": {
            "needs_background": "light"
          }
        }
      ]
    },
    {
      "cell_type": "code",
      "source": [
        "df.loc[1]=['CNN', 'model_1_1', '32(relu/drop0.2)-64(relu/drop0.2)-128(drop0.5/relu)-Flatten-64(sigmoid)-10(softmax)]', 'rmsprop', 100, 32, 0.2, 'es/mc', \"%.4f\"%(result)[1], \"%.4f\"%(result_loaded)[1], \"%.4f\"%(result)[0], \"%.4f\"%(result_loaded)[0]]"
      ],
      "metadata": {
        "id": "IMzWXDrQwtcM"
      },
      "execution_count": null,
      "outputs": []
    },
    {
      "cell_type": "markdown",
      "source": [
        "#### __3. batch_size default(32), 출력 직전층 activation='sigmoid', optimizer='adam'__ "
      ],
      "metadata": {
        "id": "YN2gmPkbzFeA"
      }
    },
    {
      "cell_type": "code",
      "source": [
        "model_1_2 = keras.Sequential([\n",
        "  layers.Conv2D(32, (3, 3), activation='relu', input_shape=(28, 28, 1)),\n",
        "  layers.Dropout(0.2),\n",
        "  layers.MaxPooling2D((2, 2)),\n",
        "  layers.Conv2D(64, (3, 3), activation='relu'),\n",
        "  layers.Dropout(0.2),\n",
        "  layers.MaxPooling2D((2, 2)),\n",
        "  layers.Conv2D(128, (3, 3), activation='relu'),\n",
        "  layers.Dropout(0.5),\n",
        "  layers.Flatten(),\n",
        "  layers.Dense(64, activation = 'sigmoid'),\n",
        "  layers.Dense(10, activation = 'softmax')\n",
        "])\n",
        "model_1_2.summary()"
      ],
      "metadata": {
        "id": "Ujc6kXBOzFeA",
        "colab": {
          "base_uri": "https://localhost:8080/"
        },
        "outputId": "b55afe0e-4c29-46b8-d97b-915c209d02b4"
      },
      "execution_count": null,
      "outputs": [
        {
          "output_type": "stream",
          "name": "stdout",
          "text": [
            "Model: \"sequential_2\"\n",
            "_________________________________________________________________\n",
            " Layer (type)                Output Shape              Param #   \n",
            "=================================================================\n",
            " conv2d_6 (Conv2D)           (None, 26, 26, 32)        320       \n",
            "                                                                 \n",
            " dropout_6 (Dropout)         (None, 26, 26, 32)        0         \n",
            "                                                                 \n",
            " max_pooling2d_4 (MaxPooling  (None, 13, 13, 32)       0         \n",
            " 2D)                                                             \n",
            "                                                                 \n",
            " conv2d_7 (Conv2D)           (None, 11, 11, 64)        18496     \n",
            "                                                                 \n",
            " dropout_7 (Dropout)         (None, 11, 11, 64)        0         \n",
            "                                                                 \n",
            " max_pooling2d_5 (MaxPooling  (None, 5, 5, 64)         0         \n",
            " 2D)                                                             \n",
            "                                                                 \n",
            " conv2d_8 (Conv2D)           (None, 3, 3, 128)         73856     \n",
            "                                                                 \n",
            " dropout_8 (Dropout)         (None, 3, 3, 128)         0         \n",
            "                                                                 \n",
            " flatten_2 (Flatten)         (None, 1152)              0         \n",
            "                                                                 \n",
            " dense_4 (Dense)             (None, 64)                73792     \n",
            "                                                                 \n",
            " dense_5 (Dense)             (None, 10)                650       \n",
            "                                                                 \n",
            "=================================================================\n",
            "Total params: 167,114\n",
            "Trainable params: 167,114\n",
            "Non-trainable params: 0\n",
            "_________________________________________________________________\n"
          ]
        }
      ]
    },
    {
      "cell_type": "code",
      "source": [
        "model_1_2.compile(optimizer=\"adam\", loss=\"categorical_crossentropy\", metrics=[\"accuracy\"])"
      ],
      "metadata": {
        "id": "sy6jnJeXzFeB"
      },
      "execution_count": null,
      "outputs": []
    },
    {
      "cell_type": "code",
      "source": [
        "es = EarlyStopping(monitor='val_loss', mode='min', verbose=1, patience=10)\n",
        "mc = ModelCheckpoint('mnist/try01_2.h5', monitor='val_accuracy', mode='max', verbose=1, save_best_only=True)\n",
        "hist_1_2 = model_1_2.fit(train_imgs, train_labels, epochs=100, validation_split=0.2, callbacks=[es, mc])"
      ],
      "metadata": {
        "id": "yTLlJJB-zFeB",
        "colab": {
          "base_uri": "https://localhost:8080/"
        },
        "outputId": "e9a52af6-428d-475a-bf21-8fc9695939e3"
      },
      "execution_count": null,
      "outputs": [
        {
          "output_type": "stream",
          "name": "stdout",
          "text": [
            "Epoch 1/100\n",
            "1491/1500 [============================>.] - ETA: 0s - loss: 0.2617 - accuracy: 0.9288\n",
            "Epoch 1: val_accuracy improved from -inf to 0.98342, saving model to mnist/try01_2.h5\n",
            "1500/1500 [==============================] - 8s 5ms/step - loss: 0.2608 - accuracy: 0.9291 - val_loss: 0.0669 - val_accuracy: 0.9834\n",
            "Epoch 2/100\n",
            "1497/1500 [============================>.] - ETA: 0s - loss: 0.0754 - accuracy: 0.9786\n",
            "Epoch 2: val_accuracy improved from 0.98342 to 0.98667, saving model to mnist/try01_2.h5\n",
            "1500/1500 [==============================] - 6s 4ms/step - loss: 0.0753 - accuracy: 0.9786 - val_loss: 0.0456 - val_accuracy: 0.9867\n",
            "Epoch 3/100\n",
            "1499/1500 [============================>.] - ETA: 0s - loss: 0.0576 - accuracy: 0.9828\n",
            "Epoch 3: val_accuracy improved from 0.98667 to 0.98933, saving model to mnist/try01_2.h5\n",
            "1500/1500 [==============================] - 7s 5ms/step - loss: 0.0577 - accuracy: 0.9827 - val_loss: 0.0375 - val_accuracy: 0.9893\n",
            "Epoch 4/100\n",
            "1491/1500 [============================>.] - ETA: 0s - loss: 0.0456 - accuracy: 0.9859\n",
            "Epoch 4: val_accuracy did not improve from 0.98933\n",
            "1500/1500 [==============================] - 6s 4ms/step - loss: 0.0457 - accuracy: 0.9858 - val_loss: 0.0365 - val_accuracy: 0.9885\n",
            "Epoch 5/100\n",
            "1497/1500 [============================>.] - ETA: 0s - loss: 0.0421 - accuracy: 0.9874\n",
            "Epoch 5: val_accuracy improved from 0.98933 to 0.99167, saving model to mnist/try01_2.h5\n",
            "1500/1500 [==============================] - 7s 5ms/step - loss: 0.0421 - accuracy: 0.9874 - val_loss: 0.0314 - val_accuracy: 0.9917\n",
            "Epoch 6/100\n",
            "1495/1500 [============================>.] - ETA: 0s - loss: 0.0382 - accuracy: 0.9883\n",
            "Epoch 6: val_accuracy improved from 0.99167 to 0.99192, saving model to mnist/try01_2.h5\n",
            "1500/1500 [==============================] - 7s 5ms/step - loss: 0.0381 - accuracy: 0.9884 - val_loss: 0.0295 - val_accuracy: 0.9919\n",
            "Epoch 7/100\n",
            "1496/1500 [============================>.] - ETA: 0s - loss: 0.0340 - accuracy: 0.9896\n",
            "Epoch 7: val_accuracy did not improve from 0.99192\n",
            "1500/1500 [==============================] - 6s 4ms/step - loss: 0.0340 - accuracy: 0.9896 - val_loss: 0.0327 - val_accuracy: 0.9905\n",
            "Epoch 8/100\n",
            "1493/1500 [============================>.] - ETA: 0s - loss: 0.0293 - accuracy: 0.9905\n",
            "Epoch 8: val_accuracy did not improve from 0.99192\n",
            "1500/1500 [==============================] - 7s 4ms/step - loss: 0.0292 - accuracy: 0.9906 - val_loss: 0.0341 - val_accuracy: 0.9899\n",
            "Epoch 9/100\n",
            "1490/1500 [============================>.] - ETA: 0s - loss: 0.0268 - accuracy: 0.9911\n",
            "Epoch 9: val_accuracy did not improve from 0.99192\n",
            "1500/1500 [==============================] - 6s 4ms/step - loss: 0.0269 - accuracy: 0.9911 - val_loss: 0.0336 - val_accuracy: 0.9905\n",
            "Epoch 10/100\n",
            "1498/1500 [============================>.] - ETA: 0s - loss: 0.0283 - accuracy: 0.9910\n",
            "Epoch 10: val_accuracy improved from 0.99192 to 0.99292, saving model to mnist/try01_2.h5\n",
            "1500/1500 [==============================] - 6s 4ms/step - loss: 0.0283 - accuracy: 0.9910 - val_loss: 0.0281 - val_accuracy: 0.9929\n",
            "Epoch 11/100\n",
            "1496/1500 [============================>.] - ETA: 0s - loss: 0.0252 - accuracy: 0.9921\n",
            "Epoch 11: val_accuracy did not improve from 0.99292\n",
            "1500/1500 [==============================] - 7s 4ms/step - loss: 0.0252 - accuracy: 0.9921 - val_loss: 0.0277 - val_accuracy: 0.9925\n",
            "Epoch 12/100\n",
            "1496/1500 [============================>.] - ETA: 0s - loss: 0.0238 - accuracy: 0.9923\n",
            "Epoch 12: val_accuracy did not improve from 0.99292\n",
            "1500/1500 [==============================] - 6s 4ms/step - loss: 0.0237 - accuracy: 0.9923 - val_loss: 0.0279 - val_accuracy: 0.9929\n",
            "Epoch 13/100\n",
            "1488/1500 [============================>.] - ETA: 0s - loss: 0.0221 - accuracy: 0.9932\n",
            "Epoch 13: val_accuracy did not improve from 0.99292\n",
            "1500/1500 [==============================] - 6s 4ms/step - loss: 0.0221 - accuracy: 0.9932 - val_loss: 0.0297 - val_accuracy: 0.9921\n",
            "Epoch 14/100\n",
            "1495/1500 [============================>.] - ETA: 0s - loss: 0.0227 - accuracy: 0.9930\n",
            "Epoch 14: val_accuracy did not improve from 0.99292\n",
            "1500/1500 [==============================] - 7s 4ms/step - loss: 0.0228 - accuracy: 0.9929 - val_loss: 0.0376 - val_accuracy: 0.9897\n",
            "Epoch 15/100\n",
            "1499/1500 [============================>.] - ETA: 0s - loss: 0.0199 - accuracy: 0.9935\n",
            "Epoch 15: val_accuracy did not improve from 0.99292\n",
            "1500/1500 [==============================] - 7s 4ms/step - loss: 0.0199 - accuracy: 0.9935 - val_loss: 0.0280 - val_accuracy: 0.9927\n",
            "Epoch 16/100\n",
            "1489/1500 [============================>.] - ETA: 0s - loss: 0.0209 - accuracy: 0.9930\n",
            "Epoch 16: val_accuracy did not improve from 0.99292\n",
            "1500/1500 [==============================] - 7s 4ms/step - loss: 0.0210 - accuracy: 0.9929 - val_loss: 0.0298 - val_accuracy: 0.9926\n",
            "Epoch 17/100\n",
            "1489/1500 [============================>.] - ETA: 0s - loss: 0.0192 - accuracy: 0.9936\n",
            "Epoch 17: val_accuracy did not improve from 0.99292\n",
            "1500/1500 [==============================] - 7s 4ms/step - loss: 0.0192 - accuracy: 0.9936 - val_loss: 0.0314 - val_accuracy: 0.9923\n",
            "Epoch 18/100\n",
            "1493/1500 [============================>.] - ETA: 0s - loss: 0.0183 - accuracy: 0.9939\n",
            "Epoch 18: val_accuracy did not improve from 0.99292\n",
            "1500/1500 [==============================] - 7s 4ms/step - loss: 0.0183 - accuracy: 0.9939 - val_loss: 0.0320 - val_accuracy: 0.9919\n",
            "Epoch 19/100\n",
            "1486/1500 [============================>.] - ETA: 0s - loss: 0.0194 - accuracy: 0.9934\n",
            "Epoch 19: val_accuracy did not improve from 0.99292\n",
            "1500/1500 [==============================] - 6s 4ms/step - loss: 0.0194 - accuracy: 0.9935 - val_loss: 0.0304 - val_accuracy: 0.9927\n",
            "Epoch 20/100\n",
            "1498/1500 [============================>.] - ETA: 0s - loss: 0.0170 - accuracy: 0.9944\n",
            "Epoch 20: val_accuracy did not improve from 0.99292\n",
            "1500/1500 [==============================] - 7s 4ms/step - loss: 0.0170 - accuracy: 0.9944 - val_loss: 0.0358 - val_accuracy: 0.9918\n",
            "Epoch 21/100\n",
            "1499/1500 [============================>.] - ETA: 0s - loss: 0.0181 - accuracy: 0.9939\n",
            "Epoch 21: val_accuracy did not improve from 0.99292\n",
            "1500/1500 [==============================] - 6s 4ms/step - loss: 0.0181 - accuracy: 0.9939 - val_loss: 0.0311 - val_accuracy: 0.9923\n",
            "Epoch 21: early stopping\n"
          ]
        }
      ]
    },
    {
      "cell_type": "code",
      "source": [
        "result = model_1_2.evaluate(test_imgs, test_labels)\n",
        "print(\"\\n테스트 정확도: %.4f\" %(result)[1])"
      ],
      "metadata": {
        "id": "BBHg9vsCzFeD",
        "colab": {
          "base_uri": "https://localhost:8080/"
        },
        "outputId": "0662f57e-869a-43f8-f099-b3c9f4953b2b"
      },
      "execution_count": null,
      "outputs": [
        {
          "output_type": "stream",
          "name": "stdout",
          "text": [
            "313/313 [==============================] - 1s 3ms/step - loss: 0.0287 - accuracy: 0.9924\n",
            "\n",
            "테스트 정확도: 0.9924\n"
          ]
        }
      ]
    },
    {
      "cell_type": "code",
      "source": [
        "loaded_model = load_model('mnist/try01_2.h5')\n",
        "result_loaded = loaded_model.evaluate(test_imgs, test_labels)\n",
        "print(\"\\n불러온 모델 테스트 정확도: %.4f\" %(result_loaded)[1])"
      ],
      "metadata": {
        "id": "-OddZd0hzFeE",
        "colab": {
          "base_uri": "https://localhost:8080/"
        },
        "outputId": "3c202e83-10e2-46f5-e7dc-849b53571dce"
      },
      "execution_count": null,
      "outputs": [
        {
          "output_type": "stream",
          "name": "stdout",
          "text": [
            "313/313 [==============================] - 1s 3ms/step - loss: 0.0212 - accuracy: 0.9934\n",
            "\n",
            "불러온 모델 테스트 정확도: 0.9934\n"
          ]
        }
      ]
    },
    {
      "cell_type": "code",
      "source": [
        "acc = hist_1_2.history['accuracy']\n",
        "val_acc = hist_1_2.history['val_accuracy']\n",
        "loss = hist_1_2.history['loss']\n",
        "val_loss = hist_1_2.history['val_loss']\n",
        "\n",
        "epochs = range(1, len(acc)+1)\n",
        "\n",
        "plt.figure(figsize=(8, 12))\n",
        "ax1=plt.subplot(2, 1, 1)\n",
        "ax2=plt.subplot(2, 1, 2)\n",
        "ax1.plot(epochs, acc, 'bo', label='Trainig acc')\n",
        "ax1.plot(epochs, val_acc, 'b', label='Validation acc')\n",
        "ax1.set_title(\"Training and Validation accuracy\")\n",
        "ax1.legend()\n",
        "ax2.plot(epochs, loss, 'bo', label='Traning loss')\n",
        "ax2.plot(epochs, val_loss, 'b', label='Validation loss')\n",
        "ax2.set_title(\"Training and Validation loss\")\n",
        "ax2.legend()\n",
        "plt.show()"
      ],
      "metadata": {
        "id": "0gLCkZufzFeE",
        "colab": {
          "base_uri": "https://localhost:8080/",
          "height": 716
        },
        "outputId": "a2d7920b-21fa-4e37-c880-5d0dce3887ea"
      },
      "execution_count": null,
      "outputs": [
        {
          "output_type": "display_data",
          "data": {
            "text/plain": [
              "<Figure size 576x864 with 2 Axes>"
            ],
            "image/png": "[encoded data removed]"
          },
          "metadata": {
            "needs_background": "light"
          }
        }
      ]
    },
    {
      "cell_type": "code",
      "source": [
        "df.loc[2]=['CNN', 'model_1_2', '32(relu/drop0.2)-64(relu/drop0.2)-128(drop0.5/relu)-Flatten-64(sigmoid)-10(softmax)]', 'adam', 100, 32, 0.2, 'es/mc', \"%.4f\"%(result)[1], \"%.4f\"%(result_loaded)[1], \"%.4f\"%(result)[0], \"%.4f\"%(result_loaded)[0]]"
      ],
      "metadata": {
        "id": "i57lgiGgzFeF"
      },
      "execution_count": null,
      "outputs": []
    },
    {
      "cell_type": "code",
      "source": [
        "df.head()"
      ],
      "metadata": {
        "id": "K82gOTDByz2D",
        "colab": {
          "base_uri": "https://localhost:8080/",
          "height": 207
        },
        "outputId": "9e255d7e-a850-4c4b-da11-f991fbedab35"
      },
      "execution_count": null,
      "outputs": [
        {
          "output_type": "execute_result",
          "data": {
            "text/plain": [
              "    모델       Name                                          Structure  \\\n",
              "0  CNN    model_1  32(relu/drop0.2)-64(relu/drop0.2)-128(drop0.5/...   \n",
              "1  CNN  model_1_1  32(relu/drop0.2)-64(relu/drop0.2)-128(drop0.5/...   \n",
              "2  CNN  model_1_2  32(relu/drop0.2)-64(relu/drop0.2)-128(drop0.5/...   \n",
              "\n",
              "  Optimizer  epochs  batch_size  validation_split callback Accuracy  \\\n",
              "0       SGD     100          32               0.2    es/mc   0.9938   \n",
              "1   rmsprop     100          32               0.2    es/mc   0.9928   \n",
              "2      adam     100          32               0.2    es/mc   0.9924   \n",
              "\n",
              "  MC_Accuracy    Loss MC_Loss  \n",
              "0      0.9934  0.0199  0.0201  \n",
              "1      0.9923  0.0391  0.0301  \n",
              "2      0.9934  0.0287  0.0212  "
            ],
            "text/html": [
              "\n",
              "  <div id=\"df-9916805d-5b37-454f-946b-7ad2e232d0b2\">\n",
              "    <div class=\"colab-df-container\">\n",
              "      <div>\n",
              "<style scoped>\n",
              "    .dataframe tbody tr th:only-of-type {\n",
              "        vertical-align: middle;\n",
              "    }\n",
              "\n",
              "    .dataframe tbody tr th {\n",
              "        vertical-align: top;\n",
              "    }\n",
              "\n",
              "    .dataframe thead th {\n",
              "        text-align: right;\n",
              "    }\n",
              "</style>\n",
              "<table border=\"1\" class=\"dataframe\">\n",
              "  <thead>\n",
              "    <tr style=\"text-align: right;\">\n",
              "      <th></th>\n",
              "      <th>모델</th>\n",
              "      <th>Name</th>\n",
              "      <th>Structure</th>\n",
              "      <th>Optimizer</th>\n",
              "      <th>epochs</th>\n",
              "      <th>batch_size</th>\n",
              "      <th>validation_split</th>\n",
              "      <th>callback</th>\n",
              "      <th>Accuracy</th>\n",
              "      <th>MC_Accuracy</th>\n",
              "      <th>Loss</th>\n",
              "      <th>MC_Loss</th>\n",
              "    </tr>\n",
              "  </thead>\n",
              "  <tbody>\n",
              "    <tr>\n",
              "      <th>0</th>\n",
              "      <td>CNN</td>\n",
              "      <td>model_1</td>\n",
              "      <td>32(relu/drop0.2)-64(relu/drop0.2)-128(drop0.5/...</td>\n",
              "      <td>SGD</td>\n",
              "      <td>100</td>\n",
              "      <td>32</td>\n",
              "      <td>0.2</td>\n",
              "      <td>es/mc</td>\n",
              "      <td>0.9938</td>\n",
              "      <td>0.9934</td>\n",
              "      <td>0.0199</td>\n",
              "      <td>0.0201</td>\n",
              "    </tr>\n",
              "    <tr>\n",
              "      <th>1</th>\n",
              "      <td>CNN</td>\n",
              "      <td>model_1_1</td>\n",
              "      <td>32(relu/drop0.2)-64(relu/drop0.2)-128(drop0.5/...</td>\n",
              "      <td>rmsprop</td>\n",
              "      <td>100</td>\n",
              "      <td>32</td>\n",
              "      <td>0.2</td>\n",
              "      <td>es/mc</td>\n",
              "      <td>0.9928</td>\n",
              "      <td>0.9923</td>\n",
              "      <td>0.0391</td>\n",
              "      <td>0.0301</td>\n",
              "    </tr>\n",
              "    <tr>\n",
              "      <th>2</th>\n",
              "      <td>CNN</td>\n",
              "      <td>model_1_2</td>\n",
              "      <td>32(relu/drop0.2)-64(relu/drop0.2)-128(drop0.5/...</td>\n",
              "      <td>adam</td>\n",
              "      <td>100</td>\n",
              "      <td>32</td>\n",
              "      <td>0.2</td>\n",
              "      <td>es/mc</td>\n",
              "      <td>0.9924</td>\n",
              "      <td>0.9934</td>\n",
              "      <td>0.0287</td>\n",
              "      <td>0.0212</td>\n",
              "    </tr>\n",
              "  </tbody>\n",
              "</table>\n",
              "</div>\n",
              "      <button class=\"colab-df-convert\" onclick=\"convertToInteractive('df-9916805d-5b37-454f-946b-7ad2e232d0b2')\"\n",
              "              title=\"Convert this dataframe to an interactive table.\"\n",
              "              style=\"display:none;\">\n",
              "        \n",
              "  <svg xmlns=\"http://www.w3.org/2000/svg\" height=\"24px\"viewBox=\"0 0 24 24\"\n",
              "       width=\"24px\">\n",
              "    <path d=\"M0 0h24v24H0V0z\" fill=\"none\"/>\n",
              "    <path d=\"M18.56 5.44l.94 2.06.94-2.06 2.06-.94-2.06-.94-.94-2.06-.94 2.06-2.06.94zm-11 1L8.5 8.5l.94-2.06 2.06-.94-2.06-.94L8.5 2.5l-.94 2.06-2.06.94zm10 10l.94 2.06.94-2.06 2.06-.94-2.06-.94-.94-2.06-.94 2.06-2.06.94z\"/><path d=\"M17.41 7.96l-1.37-1.37c-.4-.4-.92-.59-1.43-.59-.52 0-1.04.2-1.43.59L10.3 9.45l-7.72 7.72c-.78.78-.78 2.05 0 2.83L4 21.41c.39.39.9.59 1.41.59.51 0 1.02-.2 1.41-.59l7.78-7.78 2.81-2.81c.8-.78.8-2.07 0-2.86zM5.41 20L4 18.59l7.72-7.72 1.47 1.35L5.41 20z\"/>\n",
              "  </svg>\n",
              "      </button>\n",
              "      \n",
              "  <style>\n",
              "    .colab-df-container {\n",
              "      display:flex;\n",
              "      flex-wrap:wrap;\n",
              "      gap: 12px;\n",
              "    }\n",
              "\n",
              "    .colab-df-convert {\n",
              "      background-color: #E8F0FE;\n",
              "      border: none;\n",
              "      border-radius: 50%;\n",
              "      cursor: pointer;\n",
              "      display: none;\n",
              "      fill: #1967D2;\n",
              "      height: 32px;\n",
              "      padding: 0 0 0 0;\n",
              "      width: 32px;\n",
              "    }\n",
              "\n",
              "    .colab-df-convert:hover {\n",
              "      background-color: #E2EBFA;\n",
              "      box-shadow: 0px 1px 2px rgba(60, 64, 67, 0.3), 0px 1px 3px 1px rgba(60, 64, 67, 0.15);\n",
              "      fill: #174EA6;\n",
              "    }\n",
              "\n",
              "    [theme=dark] .colab-df-convert {\n",
              "      background-color: #3B4455;\n",
              "      fill: #D2E3FC;\n",
              "    }\n",
              "\n",
              "    [theme=dark] .colab-df-convert:hover {\n",
              "      background-color: #434B5C;\n",
              "      box-shadow: 0px 1px 3px 1px rgba(0, 0, 0, 0.15);\n",
              "      filter: drop-shadow(0px 1px 2px rgba(0, 0, 0, 0.3));\n",
              "      fill: #FFFFFF;\n",
              "    }\n",
              "  </style>\n",
              "\n",
              "      <script>\n",
              "        const buttonEl =\n",
              "          document.querySelector('#df-9916805d-5b37-454f-946b-7ad2e232d0b2 button.colab-df-convert');\n",
              "        buttonEl.style.display =\n",
              "          google.colab.kernel.accessAllowed ? 'block' : 'none';\n",
              "\n",
              "        async function convertToInteractive(key) {\n",
              "          const element = document.querySelector('#df-9916805d-5b37-454f-946b-7ad2e232d0b2');\n",
              "          const dataTable =\n",
              "            await google.colab.kernel.invokeFunction('convertToInteractive',\n",
              "                                                     [key], {});\n",
              "          if (!dataTable) return;\n",
              "\n",
              "          const docLinkHtml = 'Like what you see? Visit the ' +\n",
              "            '<a target=\"_blank\" href=https://colab.research.google.com/notebooks/data_table.ipynb>data table notebook</a>'\n",
              "            + ' to learn more about interactive tables.';\n",
              "          element.innerHTML = '';\n",
              "          dataTable['output_type'] = 'display_data';\n",
              "          await google.colab.output.renderOutput(dataTable, element);\n",
              "          const docLink = document.createElement('div');\n",
              "          docLink.innerHTML = docLinkHtml;\n",
              "          element.appendChild(docLink);\n",
              "        }\n",
              "      </script>\n",
              "    </div>\n",
              "  </div>\n",
              "  "
            ]
          },
          "metadata": {},
          "execution_count": 33
        }
      ]
    }
  ]
}